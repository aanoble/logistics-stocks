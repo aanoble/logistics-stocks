{
 "cells": [
  {
   "cell_type": "markdown",
   "id": "56511fcc-5eee-472d-97aa-bcdee3a2df50",
   "metadata": {},
   "source": [
    "# Importation des bibliothèques"
   ]
  },
  {
   "cell_type": "code",
   "execution_count": 1,
   "id": "16bc22b7-2ff6-46fb-883f-a30e126b5782",
   "metadata": {},
   "outputs": [],
   "source": [
    "%%capture --no-display\n",
    "\n",
    "import warnings\n",
    "\n",
    "warnings.filterwarnings(\"ignore\")\n",
    "\n",
    "import calendar\n",
    "import datetime as dt\n",
    "import re\n",
    "\n",
    "import numpy as np\n",
    "import pandas as pd\n",
    "\n",
    "pd.set_option(\"display.max_columns\", None)\n",
    "\n",
    "from io import BytesIO\n",
    "\n",
    "try:\n",
    "    import openpyxl as pyxl\n",
    "    from efc.interfaces.iopenpyxl import OpenpyxlInterface\n",
    "    from fuzzywuzzy import fuzz, process\n",
    "except ImportError or ModuleNotFoundError:\n",
    "    !pip install openpyxl\n",
    "    !pip install python-Levenshtein\n",
    "    !pip install fuzzywuzzy\n",
    "    !pip install excel-formulas-calculator\n",
    "    import openpyxl as pyxl\n",
    "    from efc.interfaces.iopenpyxl import OpenpyxlInterface\n",
    "    from fuzzywuzzy import fuzz, process"
   ]
  },
  {
   "cell_type": "code",
   "execution_count": 2,
   "id": "b709e4fc-c013-4dad-b0e7-371929c93bcd",
   "metadata": {},
   "outputs": [],
   "source": [
    "%%capture\n",
    "import sys\n",
    "\n",
    "path = \"/home/jovyan/workspace/Fichier Suivi de Stock/code/pipelines/\"\n",
    "if path not in sys.path:\n",
    "    sys.path.append(path)\n",
    "\n",
    "import inspect\n",
    "from importlib import reload\n",
    "\n",
    "import generate_stock_tracking_file as gstf\n",
    "from database_operations import db_ops\n",
    "\n",
    "reload(gstf)\n",
    "reload(db_ops)"
   ]
  },
  {
   "cell_type": "markdown",
   "id": "544047aa-29da-42c6-b70d-1056e37b2e53",
   "metadata": {},
   "source": [
    "<h1> Données d'entrée</h1>\n",
    "Ce fichier est généré individuellement pour chaque programme de santé\n",
    "\n",
    "* `Rapport Feedback`: principalement les feuilles `Etat de Stock` et `StockParRegion`\n",
    "* `Le plan d'approvisionnement`: du programme pour lequel on concoit le fichier\n",
    "* `Etats de stock mensuels`: fichier individuel pour le programme pour lequel on concoit le fichier"
   ]
  },
  {
   "cell_type": "markdown",
   "id": "f7871433-0173-4208-bc09-85b9a83e5f53",
   "metadata": {},
   "source": [
    "# Initialisation des variables `programme`, `date_report`"
   ]
  },
  {
   "cell_type": "code",
   "execution_count": 3,
   "id": "b256d418-df0f-46a3-ab77-ba86ac81c9f2",
   "metadata": {},
   "outputs": [],
   "source": [
    "programme = 'PNLP'\n",
    "date_report = '01/12/2024'\n",
    "date_report_format = pd.to_datetime(date_report, format= '%d/%m/%Y').strftime('%Y-%m-%d')"
   ]
  },
  {
   "cell_type": "markdown",
   "id": "be7182c2-9a63-4a6b-81a9-1de983ef1a55",
   "metadata": {},
   "source": [
    "# Importation des classeurs"
   ]
  },
  {
   "cell_type": "code",
   "execution_count": 4,
   "id": "6799d17e-9712-41e1-8d42-65233c29257b",
   "metadata": {},
   "outputs": [
    {
     "name": "stdout",
     "output_type": "stream",
     "text": [
      "CPU times: user 2.75 s, sys: 33.3 ms, total: 2.79 s\n",
      "Wall time: 2.86 s\n"
     ]
    }
   ],
   "source": [
    "%%time\n",
    "# Template utilisé pour le formating des fichiers\n",
    "wb_template = pyxl.load_workbook(\n",
    "    filename=\"/home/jovyan/workspace/Fichier Suivi de Stock/code/pipelines/generate_stock_tracking_file/Template Fichier Suivi de Stock/Fichier Suivi de Stock Template.xlsx\"\n",
    ")\n",
    "\n",
    "# Etats de stock mensuels\n",
    "wb_etat_stock = pyxl.load_workbook(\n",
    "    filename=\"/home/jovyan/workspace/Fichier Suivi de Stock/code/pipelines/generate_stock_tracking_file/Template Fichier Suivi de Stock/Etat du stock et de distribution PNLP fin Janvier 2025.xlsx\"\n",
    ")"
   ]
  },
  {
   "cell_type": "markdown",
   "id": "650d613b-e0be-4e73-9471-de0f8120e9ed",
   "metadata": {},
   "source": [
    "# Génération du classeur"
   ]
  },
  {
   "cell_type": "markdown",
   "id": "a6125e73-65c8-4ff6-90f9-73b0edd4d924",
   "metadata": {},
   "source": [
    "## Mise à jour des données en se basant sur la source `Etat de Stock Mensuel`"
   ]
  },
  {
   "cell_type": "code",
   "execution_count": 5,
   "id": "b8ce9269-f887-4a2b-9481-c0e7cea5ddb5",
   "metadata": {},
   "outputs": [
    {
     "name": "stdout",
     "output_type": "stream",
     "text": [
      "CPU times: user 24.3 s, sys: 47.2 ms, total: 24.3 s\n",
      "Wall time: 24.4 s\n"
     ]
    }
   ],
   "source": [
    "%%time\n",
    "wb_template = gstf.update_sheets_etat_mensuel(wb_etat_stock, wb_template, programme, date_report)"
   ]
  },
  {
   "cell_type": "markdown",
   "id": "14114051-fb77-4019-9992-d6fdd95d22ab",
   "metadata": {},
   "source": [
    "## Mise à jour des données en se basant sur la source `Rapport Feedback`"
   ]
  },
  {
   "cell_type": "code",
   "execution_count": 6,
   "id": "5eb03969-d745-4af5-9f0b-8724c607f939",
   "metadata": {},
   "outputs": [],
   "source": [
    "%%script false --no-raise-error\n",
    "%%time\n",
    "file_path = \"/home/jovyan/workspace/automating_dap_tools/data/feedback_report/generate_feedback_report/RapportFeedBack-JANVIER-2025.xlsx\"\n",
    "with (open(file_path, \"rb\") as file_handle, BytesIO(file_handle.read()) as buffer):\n",
    "    wb_fbr = pyxl.load_workbook(filename=buffer)\n",
    "    buffer.seek(0)\n",
    "    df_etat_stock = pd.read_excel(buffer, sheet_name=\"ETAT DU STOCK\", engine=\"openpyxl\")\n",
    "\n",
    "# Wall time: 1min 36s"
   ]
  },
  {
   "cell_type": "code",
   "execution_count": 7,
   "id": "1bcbbbbc-7eb8-49d5-bf4e-1d62899e2ce2",
   "metadata": {},
   "outputs": [
    {
     "name": "stdout",
     "output_type": "stream",
     "text": [
      "CPU times: user 1min 40s, sys: 2 s, total: 1min 42s\n",
      "Wall time: 1min 43s\n"
     ]
    },
    {
     "data": {
      "text/html": [
       "<div>\n",
       "<style scoped>\n",
       "    .dataframe tbody tr th:only-of-type {\n",
       "        vertical-align: middle;\n",
       "    }\n",
       "\n",
       "    .dataframe tbody tr th {\n",
       "        vertical-align: top;\n",
       "    }\n",
       "\n",
       "    .dataframe thead th {\n",
       "        text-align: right;\n",
       "    }\n",
       "</style>\n",
       "<table border=\"1\" class=\"dataframe\">\n",
       "  <thead>\n",
       "    <tr style=\"text-align: right;\">\n",
       "      <th></th>\n",
       "      <th>Code_Pro</th>\n",
       "      <th>CODE</th>\n",
       "      <th>PROGRAMME</th>\n",
       "      <th>SOUS-PROGRAMME</th>\n",
       "      <th>PERIODE</th>\n",
       "      <th>REGION</th>\n",
       "      <th>DISTRICT</th>\n",
       "      <th>CODE  ETS</th>\n",
       "      <th>STRUCTURE</th>\n",
       "      <th>TYPE DE STRUCTURE</th>\n",
       "      <th>CATEGORIE PRODUIT</th>\n",
       "      <th>PRODUIT</th>\n",
       "      <th>UNITE DE RAPPORTAGE</th>\n",
       "      <th>STOCK INITIAL</th>\n",
       "      <th>QUANTITE RECUE</th>\n",
       "      <th>QUANTITE UTILISEE</th>\n",
       "      <th>PERTES ET AJUSTEMENT</th>\n",
       "      <th>JOURS DE RUPTURE</th>\n",
       "      <th>SDU</th>\n",
       "      <th>CMM ESIGL</th>\n",
       "      <th>CMM gestionnaire</th>\n",
       "      <th>QUANTITE PROPOSEE</th>\n",
       "      <th>QUANTITE COMMANDEE</th>\n",
       "      <th>QUANTITE APPROUVEE</th>\n",
       "      <th>MSD</th>\n",
       "      <th>ETAT DU STOCK</th>\n",
       "      <th>BESOIN COMMANDE URGENTE</th>\n",
       "      <th>BESOIN TRANSFERT IN</th>\n",
       "      <th>QUANTITE A TRANSFERER OUT</th>\n",
       "      <th>CATEGORIE_DU_PRODUIT</th>\n",
       "      <th>Commandes du mois précédent</th>\n",
       "      <th>Etat du stock du mois précédent</th>\n",
       "    </tr>\n",
       "  </thead>\n",
       "  <tbody>\n",
       "    <tr>\n",
       "      <th>0</th>\n",
       "      <td>3050340_PNLP</td>\n",
       "      <td>3050340</td>\n",
       "      <td>PNLP</td>\n",
       "      <td>PNLP-MEDICAMENTS ET INTRANTS</td>\n",
       "      <td>JANVIER 2025</td>\n",
       "      <td>ABIDJAN 2</td>\n",
       "      <td>COCODY-BINGERVILLE</td>\n",
       "      <td>60300100</td>\n",
       "      <td>CSU COM ANONO VILLAGE</td>\n",
       "      <td>ESCOM</td>\n",
       "      <td>Produit traceur</td>\n",
       "      <td>SULFADOXINE+PYRIMETHAMINE 500/25 mg comp. UN  -</td>\n",
       "      <td>COMPRIME</td>\n",
       "      <td>1140</td>\n",
       "      <td>0</td>\n",
       "      <td>1140</td>\n",
       "      <td>0</td>\n",
       "      <td>0</td>\n",
       "      <td>0</td>\n",
       "      <td>1157</td>\n",
       "      <td>1125.0</td>\n",
       "      <td>4628</td>\n",
       "      <td>4500</td>\n",
       "      <td>4500</td>\n",
       "      <td>0.0</td>\n",
       "      <td>RUPTURE</td>\n",
       "      <td>4500.0</td>\n",
       "      <td>1125.0</td>\n",
       "      <td>NaN</td>\n",
       "      <td>PRODUITS PNLP</td>\n",
       "      <td>NaN</td>\n",
       "      <td>NaN</td>\n",
       "    </tr>\n",
       "  </tbody>\n",
       "</table>\n",
       "</div>"
      ],
      "text/plain": [
       "       Code_Pro     CODE PROGRAMME                SOUS-PROGRAMME  \\\n",
       "0  3050340_PNLP  3050340      PNLP  PNLP-MEDICAMENTS ET INTRANTS   \n",
       "\n",
       "        PERIODE     REGION            DISTRICT  CODE  ETS  \\\n",
       "0  JANVIER 2025  ABIDJAN 2  COCODY-BINGERVILLE   60300100   \n",
       "\n",
       "               STRUCTURE TYPE DE STRUCTURE CATEGORIE PRODUIT  \\\n",
       "0  CSU COM ANONO VILLAGE             ESCOM   Produit traceur   \n",
       "\n",
       "                                           PRODUIT UNITE DE RAPPORTAGE  \\\n",
       "0  SULFADOXINE+PYRIMETHAMINE 500/25 mg comp. UN  -            COMPRIME   \n",
       "\n",
       "   STOCK INITIAL  QUANTITE RECUE  QUANTITE UTILISEE  PERTES ET AJUSTEMENT  \\\n",
       "0           1140               0               1140                     0   \n",
       "\n",
       "   JOURS DE RUPTURE  SDU  CMM ESIGL  CMM gestionnaire  QUANTITE PROPOSEE  \\\n",
       "0                 0    0       1157            1125.0               4628   \n",
       "\n",
       "   QUANTITE COMMANDEE  QUANTITE APPROUVEE  MSD ETAT DU STOCK  \\\n",
       "0                4500                4500  0.0       RUPTURE   \n",
       "\n",
       "   BESOIN COMMANDE URGENTE                    \\\n",
       "0                                     4500.0   \n",
       "\n",
       "   BESOIN TRANSFERT IN                                 \\\n",
       "0                                             1125.0    \n",
       "\n",
       "   QUANTITE A TRANSFERER OUT CATEGORIE_DU_PRODUIT  \\\n",
       "0                        NaN        PRODUITS PNLP   \n",
       "\n",
       "   Commandes du mois précédent  Etat du stock du mois précédent  \n",
       "0                          NaN                              NaN  "
      ]
     },
     "execution_count": 7,
     "metadata": {},
     "output_type": "execute_result"
    }
   ],
   "source": [
    "%%time\n",
    "## Rapport Feedback\n",
    "wb_fbr = pyxl.load_workbook(\n",
    "    \"/home/jovyan/workspace/automating_dap_tools/data/feedback_report/generate_feedback_report/RapportFeedBack-JANVIER-2025.xlsx\"\n",
    ")\n",
    "\n",
    "df_etat_stock = pd.read_excel(\n",
    "    \"/home/jovyan/workspace/automating_dap_tools/data/feedback_report/generate_feedback_report/RapportFeedBack-JANVIER-2025.xlsx\",\n",
    "    sheet_name=\"ETAT DU STOCK\",\n",
    ")\n",
    "\n",
    "df_etat_stock.head(1)"
   ]
  },
  {
   "cell_type": "code",
   "execution_count": 8,
   "id": "35644185-d1b9-4ec0-b553-a643ec2d8804",
   "metadata": {},
   "outputs": [
    {
     "name": "stdout",
     "output_type": "stream",
     "text": [
      "CPU times: user 11.2 s, sys: 5.92 ms, total: 11.2 s\n",
      "Wall time: 11.2 s\n"
     ]
    }
   ],
   "source": [
    "%%time\n",
    "\n",
    "wb_template = gstf.update_sheet_etat_stock(wb_template, df_etat_stock.loc[df_etat_stock.PROGRAMME==programme].copy())\n",
    "\n",
    "wb_template = gstf.update_sheet_stock_region(wb_template, wb_fbr, programme)"
   ]
  },
  {
   "cell_type": "markdown",
   "id": "8fb1b7a2-59a7-4e85-858c-5803776b734e",
   "metadata": {},
   "source": [
    "## Mise à jour des informations de la feuille `Annexe 1 - Consolidation`"
   ]
  },
  {
   "cell_type": "code",
   "execution_count": 9,
   "id": "ae35800a-f315-4953-97d8-56a29c77d4a3",
   "metadata": {},
   "outputs": [],
   "source": [
    "db_ops.reload_connection()\n",
    "\n",
    "schema_name = \"suivi_stock\""
   ]
  },
  {
   "cell_type": "code",
   "execution_count": 10,
   "id": "df61c4a8-f6b7-421f-a7a2-6a5f54a5145c",
   "metadata": {},
   "outputs": [],
   "source": [
    "# type(db_ops.civ_engine)\n",
    "# df_produit = pd.read_sql(\n",
    "#     f\"\"\"\n",
    "#     SELECT prod.*, st.stock_theorique_mois_precedent\n",
    "#     FROM {schema_name}.stock_track st\n",
    "#     INNER JOIN {schema_name}.dim_produit_stock_track prod ON st.id_dim_produit_stock_track_fk = prod.id_dim_produit_stock_track_pk\n",
    "#     \"\"\",\n",
    "#     db_ops.civ_engine,\n",
    "# ).drop_duplicates()\n",
    "\n",
    "# df_produit.head(2)"
   ]
  },
  {
   "cell_type": "code",
   "execution_count": 11,
   "id": "c149b016-44b9-4f30-ae26-167916f213b9",
   "metadata": {
    "jupyter": {
     "source_hidden": true
    }
   },
   "outputs": [],
   "source": [
    "%%script false --no-raise-error\n",
    "\n",
    "df_dmm_global = pd.read_sql(\n",
    "    f\"\"\"\n",
    "    SELECT prod.*, st_dmm.* FROM {schema_name}.stock_track_dmm st_dmm\n",
    "    INNER JOIN {schema_name}.dim_produit_stock_track prod ON st_dmm.id_dim_produit_stock_track_fk = prod.id_dim_produit_stock_track_pk\n",
    "    WHERE prod.programme='{programme}'\"\"\",\n",
    "    db_ops.civ_engine,\n",
    ")\n",
    "\n",
    "df_dmm_global[\"date_report\"] = pd.to_datetime(df_dmm_global[\"date_report\"])\n",
    "\n",
    "df_dmm_histo = pd.read_sql(\n",
    "    f\"\"\"\n",
    "    SELECT prod.*, st_dmm_histo.date_report, st_dmm_histo.date_report_prev, st_dmm_histo.dmm  FROM {schema_name}.stock_track_dmm_histo st_dmm_histo\n",
    "    INNER JOIN {schema_name}.dim_produit_stock_track prod ON st_dmm_histo.id_dim_produit_stock_track_fk = prod.id_dim_produit_stock_track_pk\n",
    "    WHERE prod.programme='{programme}'\"\"\",\n",
    "    db_ops.civ_engine,\n",
    ")\n",
    "df_dmm_histo[\"date_report\"] = pd.to_datetime(df_dmm_histo[\"date_report\"])\n",
    "\n",
    "df_cmm_global = pd.read_sql(\n",
    "    f\"\"\"\n",
    "    SELECT prod.*, st_cmm.* FROM {schema_name}.stock_track_cmm st_cmm\n",
    "    INNER JOIN {schema_name}.dim_produit_stock_track prod ON st_cmm.id_dim_produit_stock_track_fk = prod.id_dim_produit_stock_track_pk\n",
    "    WHERE prod.programme='{programme}'\"\"\",\n",
    "    db_ops.civ_engine,\n",
    ")\n",
    "df_cmm_global[\"date_report\"] = pd.to_datetime(df_cmm_global[\"date_report\"])\n",
    "\n",
    "df_cmm_histo = pd.read_sql(\n",
    "    f\"\"\"\n",
    "    SELECT prod.*, st_cmm_histo.date_report, st_cmm_histo.date_report_prev, st_cmm_histo.cmm  FROM {schema_name}.stock_track_cmm_histo st_cmm_histo\n",
    "    INNER JOIN {schema_name}.dim_produit_stock_track prod ON st_cmm_histo.id_dim_produit_stock_track_fk = prod.id_dim_produit_stock_track_pk\n",
    "    WHERE prod.programme='{programme}'\"\"\",\n",
    "    db_ops.civ_engine,\n",
    ")\n",
    "df_cmm_histo[\"date_report\"] = pd.to_datetime(df_cmm_histo[\"date_report\"])"
   ]
  },
  {
   "cell_type": "code",
   "execution_count": 12,
   "id": "b2fb3f62-a079-4459-86e1-f640fef0e4d2",
   "metadata": {
    "scrolled": true
   },
   "outputs": [],
   "source": [
    "wb_template = gstf.update_sheet_annexe_1(\n",
    "    wb_template, programme, schema_name, db_ops.civ_engine, date_report\n",
    ")"
   ]
  },
  {
   "cell_type": "code",
   "execution_count": 13,
   "id": "60cf8cee-f0fc-4774-8ba0-c7c97b1ec1ee",
   "metadata": {},
   "outputs": [],
   "source": [
    "# %%time\n",
    "# ws_annexe_1, df_prod = gstf.update_first_informations(\n",
    "#     wb_temp=wb_template,\n",
    "#     df_produit=df_produit,\n",
    "#     date_report= date_report,\n",
    "# )"
   ]
  },
  {
   "cell_type": "markdown",
   "id": "10340257-3381-4e85-a70d-56d42ad72fc8",
   "metadata": {},
   "source": [
    "## Mise à jour des données du `Plan d'approvisionnement`"
   ]
  },
  {
   "cell_type": "code",
   "execution_count": 14,
   "id": "e45d145f-eb3e-40fd-93c8-8a3f72ac512d",
   "metadata": {},
   "outputs": [],
   "source": [
    "file_path_plan_approv, file_map_prod = (\n",
    "    \"/home/jovyan/workspace/automating_dap_tools/data/stock_tracking_file/PNLP/Plan d'Appro/\",\n",
    "    \"/home/jovyan/workspace/automating_dap_tools/data/stock_tracking_file/mapping_produits_qat_sage/Mapping QAT_SAGEX3.xlsx\"\n",
    ")"
   ]
  },
  {
   "cell_type": "code",
   "execution_count": 15,
   "id": "56130150-523f-4975-9300-e2149ffeed4f",
   "metadata": {
    "jupyter": {
     "source_hidden": true
    }
   },
   "outputs": [],
   "source": [
    "def process_pa_files(file_path_plan_approv, file_map_prod, programme):\n",
    "    import os\n",
    "    # Liste pour accumuler les données\n",
    "    data = []\n",
    "\n",
    "    # Fonction pour traiter un fichier unique\n",
    "    def _process_pa_file(fichier):\n",
    "        nonlocal data\n",
    "        with open(file=fichier) as file:\n",
    "            for line in file.readlines():\n",
    "                if len(line.split(',')) == 17:\n",
    "                    data.append([col.replace('\"', '') for col in line.strip().split(',')])\n",
    "\n",
    "    if os.path.isdir(file_path_plan_approv):\n",
    "        for root, _, files in os.walk(file_path_plan_approv):\n",
    "            for file in files:\n",
    "                if file.endswith('.csv'):\n",
    "                    _process_pa_file(os.path.join(root, file))\n",
    "    else:\n",
    "        _process_pa_file(file_path_plan_approv)\n",
    "\n",
    "    df_plan_approv = pd.DataFrame(data[1:], columns=data[0])\n",
    "    \n",
    "    # Bad index\n",
    "    bad_index = df_plan_approv.loc[df_plan_approv[\"ID de produit QAT / Identifiant de produit (prévision)\"]==\"ID de produit QAT / Identifiant de produit (prévision)\"].index\n",
    "\n",
    "    df_plan_approv.drop(index=bad_index, inplace=True)\n",
    "        \n",
    "    for col in ['ID de produit QAT / Identifiant de produit (prévision)', 'ID de l`envoi QAT']:\n",
    "        try:\n",
    "            df_plan_approv[col] = df_plan_approv[col].astype('Int64')\n",
    "        except:\n",
    "            pass\n",
    "    \n",
    "    for col in ['Coût unitaire de produit (USD)', 'Coût du fret (USD)', 'Quantité', 'Coût total (USD)']:\n",
    "        try:\n",
    "            df_plan_approv[col] = df_plan_approv[col].astype(float)\n",
    "        except:\n",
    "            pass\n",
    "    \n",
    "    try:\n",
    "        df_plan_approv['date de réception'] = df_plan_approv['date de réception'].apply(\n",
    "            lambda date_str: datetime.strptime(date_str, '%d-%b-%Y'))\n",
    "    except:\n",
    "        pass\n",
    "\n",
    "    # Nettoyage des espaces blancs dans les données\n",
    "    df_plan_approv = df_plan_approv.apply(lambda x: x.str.strip() if x.dtype == \"object\" else x)    \n",
    "\n",
    "    # Charger le fichier de mappage des produits\n",
    "    df_map_prod = pd.read_excel(file_map_prod, sheet_name=programme)  # ou pd.read_csv selon le type\n",
    "    df_map_prod.columns = df_map_prod.columns.str.replace('Ã©', 'é').str.replace('â', '').str.rstrip().str.lstrip()\n",
    "    \n",
    "    df_map_prod.rename(columns={\n",
    "        \"Code QAT\": \"ID de produit QAT / Identifiant de produit (prévision)\",\n",
    "        \"Code standard national\": \"Standard product code\"\n",
    "    }, inplace=True)\n",
    "\n",
    "    \n",
    "    df_map_prod = df_map_prod.drop_duplicates()\n",
    "\n",
    "    df_map_prod = df_map_prod.loc[\n",
    "        (df_map_prod['Standard product code'].notna()) & (df_map_prod['Standard product code'] != 'ND')\n",
    "    ]\n",
    "    df_map_prod.sort_values([\"ID de produit QAT / Identifiant de produit (prévision)\", \"Acronym\"], inplace =True)\n",
    "    \n",
    "    df_map_prod = df_map_prod.drop_duplicates(subset=\"ID de produit QAT / Identifiant de produit (prévision)\", keep='last')\n",
    "\n",
    "    assert df_plan_approv.merge(\n",
    "        df_map_prod[[\"ID de produit QAT / Identifiant de produit (prévision)\", \"Standard product code\", \"Acronym\"]],\n",
    "        on='ID de produit QAT / Identifiant de produit (prévision)',\n",
    "        how='left').shape[0] == df_plan_approv.shape[0]\n",
    "\n",
    "    df_plan_approv = df_plan_approv.merge(\n",
    "        df_map_prod[[\"ID de produit QAT / Identifiant de produit (prévision)\", \"Standard product code\", \"Acronym\"]],\n",
    "        on='ID de produit QAT / Identifiant de produit (prévision)',\n",
    "        how='left')\n",
    "\n",
    "    return df_plan_approv"
   ]
  },
  {
   "cell_type": "code",
   "execution_count": 16,
   "id": "0defe940-84bb-4ab5-97ec-611132f525d3",
   "metadata": {},
   "outputs": [],
   "source": [
    "df_plan_approv = process_pa_files(file_path_plan_approv, file_map_prod, programme)"
   ]
  },
  {
   "cell_type": "code",
   "execution_count": 17,
   "id": "a1bf5401-6d4e-42b2-9d48-0518e8493e11",
   "metadata": {},
   "outputs": [],
   "source": [
    "df_pa = df_plan_approv.rename(\n",
    "    columns={\n",
    "        \"Standard product code\": \"Standard product code\",\n",
    "        \"ID de l`envoi QAT\": \"ID de l`envoi QAT\",\n",
    "        \"ID de produit QAT / Identifiant de produit (prévision)\": \"ID de produit QAT\",\n",
    "        \"Produit (planification) / Produit (prévision)\": \"Produits\",\n",
    "        \"Agent d`approvisionnement\": \"Centrale d'achat\",\n",
    "        \"Source de financement\": \"Source Financement\",\n",
    "        \"État\": \"Status\",\n",
    "        \"Quantité\": \"Quantite\",\n",
    "        \"date de réception\": \"DATE\",\n",
    "        \"Coût unitaire de produit (USD)\": \"Cout des Produits\",\n",
    "        \"Coût du fret (USD)\": \"Couts du fret\",\n",
    "        \"Coût total (USD)\": \"Couts totaux\",\n",
    "    }\n",
    ")\n",
    "\n",
    "df_pa[\"Facteur de conversion de QAT vers SAGE\"] = 1\n",
    "\n",
    "df_pa[\"DATE\"] = pd.to_datetime(df_pa[\"DATE\"], format='%d-%b-%Y', errors='coerce')"
   ]
  },
  {
   "cell_type": "code",
   "execution_count": 18,
   "id": "a7682879-f37f-4dcd-941d-90db67fe6d08",
   "metadata": {},
   "outputs": [],
   "source": [
    "# import inspect\n",
    "# print(inspect.getsource(gstf.update_sheet_plan_approv))\n",
    "wb_template = gstf.update_sheet_plan_approv(wb_template, df_pa)"
   ]
  },
  {
   "cell_type": "markdown",
   "id": "de6ada36-c646-4487-b62a-256b401cfc04",
   "metadata": {},
   "source": [
    "## Mise à jour des données `Annexe 2 - Suivi de Stock`"
   ]
  },
  {
   "cell_type": "code",
   "execution_count": 19,
   "id": "4963a301-40cc-4599-9b7e-a51d1cae7491",
   "metadata": {},
   "outputs": [],
   "source": [
    "wb_template = gstf.update_sheet_annexe_2(wb_template, df_pa, date_report)"
   ]
  },
  {
   "cell_type": "markdown",
   "id": "c4283d81-85f7-44d0-b855-1939b1b55c5e",
   "metadata": {},
   "source": [
    "## Mise à jour des données en se basant sur la source `Prévision`"
   ]
  },
  {
   "cell_type": "code",
   "execution_count": 20,
   "id": "092abf64-2b37-41eb-924f-eb50241a3c85",
   "metadata": {},
   "outputs": [],
   "source": [
    "# wb_template = pyxl.load_workbook(\n",
    "#    filename=f\"/home/jovyan/workspace/Fichier Suivi de Stock/code/pipelines/generate_stock_tracking_file/Export Fichier Suivi de Stock/Fichier Suivi de Stock {programme}.xlsx\"\n",
    "# )"
   ]
  },
  {
   "cell_type": "code",
   "execution_count": 22,
   "id": "47fe6801-46f7-4a3c-ba9d-43c9c20fe2d1",
   "metadata": {},
   "outputs": [],
   "source": [
    "df_produit = pd.read_sql(\n",
    "    f\"\"\"\n",
    "    SELECT prod.*, st.stock_theorique_mois_precedent\n",
    "    FROM {schema_name}.stock_track st\n",
    "    INNER JOIN {schema_name}.dim_produit_stock_track prod ON st.id_dim_produit_stock_track_fk = prod.id_dim_produit_stock_track_pk\n",
    "    \"\"\",\n",
    "    db_ops.civ_engine,\n",
    ").drop_duplicates()"
   ]
  },
  {
   "cell_type": "code",
   "execution_count": 23,
   "id": "d36fcdfb-005c-49ed-a344-3ef470e13ed2",
   "metadata": {},
   "outputs": [],
   "source": [
    "df_prod = df_produit[[\"code_produit\", \"type_produit\", \"designation\", \"designation_acronym\"]]\n",
    "\n",
    "df_prod[\"designation\"] = df_prod.apply(\n",
    "    lambda row: row[\"designation_acronym\"] if not pd.isna(row[\"designation_acronym\"]) else row[\"designation\"], axis=1\n",
    ")\n",
    "df_prod = df_prod.drop(columns=\"designation_acronym\")"
   ]
  },
  {
   "cell_type": "code",
   "execution_count": 24,
   "id": "d2a26e11-8706-472c-97a4-40c59b3901eb",
   "metadata": {},
   "outputs": [],
   "source": [
    "wb_template = gstf.update_sheet_prevision(wb_template, date_report, df_prod)"
   ]
  },
  {
   "cell_type": "code",
   "execution_count": 25,
   "id": "f1687821-e388-42dd-902f-43b7eb974c39",
   "metadata": {},
   "outputs": [
    {
     "name": "stdout",
     "output_type": "stream",
     "text": [
      "CPU times: user 4.78 s, sys: 144 ms, total: 4.92 s\n",
      "Wall time: 5.75 s\n"
     ]
    }
   ],
   "source": [
    "%%time\n",
    "wb_template.save(\n",
    "    filename=f\"/home/jovyan/workspace/Fichier Suivi de Stock/code/pipelines/generate_stock_tracking_file/Export Fichier Suivi de Stock/Fichier Suivi de Stock {programme}.xlsx\"\n",
    ")"
   ]
  },
  {
   "cell_type": "code",
   "execution_count": null,
   "id": "d123cf9b-38fc-4c35-9469-1428f3c1fd01",
   "metadata": {},
   "outputs": [],
   "source": [
    "gstf."
   ]
  },
  {
   "cell_type": "code",
   "execution_count": 24,
   "id": "128a3413-3dd5-4fa8-b1d4-453b901da649",
   "metadata": {},
   "outputs": [
    {
     "data": {
      "text/plain": [
       "(61, 89)"
      ]
     },
     "execution_count": 24,
     "metadata": {},
     "output_type": "execute_result"
    }
   ],
   "source": [
    "pyxl.utils.column_index_from_string(\"BI\"), pyxl.utils.column_index_from_string(\"ck\")"
   ]
  },
  {
   "cell_type": "code",
   "execution_count": 7,
   "id": "ce5665fc-2964-402f-9657-2ffdf082002a",
   "metadata": {},
   "outputs": [
    {
     "data": {
      "text/plain": [
       "'AA'"
      ]
     },
     "execution_count": 7,
     "metadata": {},
     "output_type": "execute_result"
    }
   ],
   "source": [
    "pyxl.utils.get_column_letter(27)"
   ]
  },
  {
   "cell_type": "code",
   "execution_count": 10,
   "id": "4f956382-e9f2-4507-8e97-1375d2d82d22",
   "metadata": {},
   "outputs": [
    {
     "data": {
      "text/plain": [
       "\"'Plan d''appro'\""
      ]
     },
     "execution_count": 10,
     "metadata": {},
     "output_type": "execute_result"
    }
   ],
   "source": [
    "pyxl.utils.quote_sheetname(\"Plan d'appro\")"
   ]
  },
  {
   "cell_type": "code",
   "execution_count": 67,
   "id": "23c3a09f-5ee7-40fa-b9d9-155914ed218e",
   "metadata": {},
   "outputs": [
    {
     "data": {
      "text/plain": [
       "('Nbre de mois de considérés',\n",
       " 'Consommations enregistrées sur les mois de considérés',\n",
       " 'CMM Calculée en fin du mois')"
      ]
     },
     "execution_count": 67,
     "metadata": {},
     "output_type": "execute_result"
    }
   ],
   "source": [
    "ws_annexe_1[\"CW3\"].value, ws_annexe_1[\"CX3\"].value, ws_annexe_1[\"CY3\"].value"
   ]
  },
  {
   "cell_type": "code",
   "execution_count": 53,
   "id": "dbd7641c-9cc1-4671-8905-5dcda33ef276",
   "metadata": {},
   "outputs": [],
   "source": [
    "df_dmm_histo = pd.read_sql(\n",
    "    f\"\"\"\n",
    "    SELECT prod.*, st_dmm_histo.date_report, st_dmm_histo.date_report_prev, st_dmm_histo.dmm  FROM {schema_name}.stock_track_dmm_histo st_dmm_histo\n",
    "    INNER JOIN {schema_name}.dim_produit_stock_track prod ON st_dmm_histo.id_dim_produit_stock_track_fk = prod.id_dim_produit_stock_track_pk\n",
    "    WHERE prod.programme='{programme}'\"\"\",\n",
    "    db_ops.civ_engine,\n",
    ")"
   ]
  },
  {
   "cell_type": "code",
   "execution_count": 50,
   "id": "f0f41729-9e4d-47fa-8284-68a60df31239",
   "metadata": {},
   "outputs": [],
   "source": [
    "df_dmm_histo[\"date_report_prev\"] = pd.to_datetime(df_dmm_histo[\"date_report_prev\"])"
   ]
  },
  {
   "cell_type": "code",
   "execution_count": 64,
   "id": "69eeb3ea-5894-45c7-a3a1-4bbec0ce8921",
   "metadata": {},
   "outputs": [
    {
     "data": {
      "text/plain": [
       "False"
      ]
     },
     "execution_count": 64,
     "metadata": {},
     "output_type": "execute_result"
    }
   ],
   "source": [
    "pd.to_datetime(\"2024-07-01\", format=\"%Y-%m-%d\").strftime(\"%Y-%m-%d\") in df_dmm_histo.loc[df_dmm_histo.id_dim_produit_stock_track_pk==1, \"date_report_prev\"].values"
   ]
  },
  {
   "cell_type": "code",
   "execution_count": 59,
   "id": "e8157d1f-0cd7-490a-959d-504f7f47b59f",
   "metadata": {},
   "outputs": [
    {
     "data": {
      "text/plain": [
       "array([datetime.date(2024, 7, 1), datetime.date(2024, 8, 1),\n",
       "       datetime.date(2024, 9, 1), datetime.date(2024, 10, 1),\n",
       "       datetime.date(2024, 11, 1), datetime.date(2024, 12, 1)],\n",
       "      dtype=object)"
      ]
     },
     "execution_count": 59,
     "metadata": {},
     "output_type": "execute_result"
    }
   ],
   "source": [
    "df_dmm_histo.loc[df_dmm_histo.id_dim_produit_stock_track_pk==1, \"date_report_prev\"].values"
   ]
  },
  {
   "cell_type": "code",
   "execution_count": null,
   "id": "2c03c288-8f76-4e7b-b2c1-40b287581106",
   "metadata": {},
   "outputs": [],
   "source": []
  },
  {
   "cell_type": "code",
   "execution_count": null,
   "id": "94d0f4dc-6acf-446d-b105-b58d5619d916",
   "metadata": {},
   "outputs": [],
   "source": []
  },
  {
   "cell_type": "code",
   "execution_count": null,
   "id": "a5f6b4ab-54ac-4102-a9dd-9d18b88a2ae2",
   "metadata": {},
   "outputs": [],
   "source": []
  },
  {
   "cell_type": "code",
   "execution_count": null,
   "id": "f2190a8a-27f9-4cc7-81b5-97eefebee216",
   "metadata": {},
   "outputs": [],
   "source": []
  },
  {
   "cell_type": "code",
   "execution_count": null,
   "id": "ef85c044-572e-4ba2-871d-1f4c5b0e534a",
   "metadata": {},
   "outputs": [],
   "source": []
  },
  {
   "cell_type": "code",
   "execution_count": null,
   "id": "730a7575-711d-49ca-96e3-8719ecff11f4",
   "metadata": {},
   "outputs": [],
   "source": []
  },
  {
   "cell_type": "code",
   "execution_count": null,
   "id": "b7b2661f-66fb-4338-b8a1-e64851e7954c",
   "metadata": {},
   "outputs": [],
   "source": []
  },
  {
   "cell_type": "code",
   "execution_count": null,
   "id": "8047873a-11d5-4e92-9167-d3f8abefb00a",
   "metadata": {},
   "outputs": [],
   "source": []
  },
  {
   "cell_type": "markdown",
   "id": "2cede1f5-39d4-430c-b00b-e86712dfdeac",
   "metadata": {},
   "source": [
    "# Extraction des informations sur la feuille `Rapport`"
   ]
  },
  {
   "cell_type": "code",
   "execution_count": 48,
   "id": "f98c377a-c757-48e2-9128-ce5145f97703",
   "metadata": {},
   "outputs": [],
   "source": [
    "file_path = \"/home/jovyan/workspace/automating_dap_tools/data/stock_tracking_file/folder_by_month/Juin 2024/Fichier Suivi de Stock PNLP - Juin 2024.xlsx\"\n",
    "wb_etat_stock = pyxl.load_workbook(file_path)\n",
    "ws_rapport = wb_etat_stock['Rapport']"
   ]
  },
  {
   "cell_type": "code",
   "execution_count": 49,
   "id": "2c3df45d-9102-45aa-a48e-633230b4cc13",
   "metadata": {},
   "outputs": [],
   "source": [
    "for row in ws_rapport.iter_rows(min_col=2, max_col=gstf.column_index_from_string('P')):\n",
    "    for cell in row:\n",
    "        try:\n",
    "            if cell.value == 'Tableau de revue des diligences':\n",
    "                infos_revue_diligences = [cell.row, cell.coordinate]\n",
    "            if cell.value == 'Tableau de consolidation des stocks':\n",
    "                infos_cons_stocks = [cell.row, cell.coordinate]\n",
    "            if cell.value == 'Gestion des risques et diligences':\n",
    "                infos_gest_diligences = [cell.row, cell.coordinate]\n",
    "            if cell.value == 'Tableau de recommandations et diligences':\n",
    "                infos_recommandation_diligences = [cell.row, cell.coordinate]\n",
    "        except:\n",
    "            continue"
   ]
  },
  {
   "cell_type": "code",
   "execution_count": 50,
   "id": "74b682a7-ad59-42b2-8407-61a45e36d5ab",
   "metadata": {},
   "outputs": [
    {
     "data": {
      "text/plain": [
       "([32, 'C32'], [59, 'C59'], [68, 'C68'], [78, 'C78'])"
      ]
     },
     "execution_count": 50,
     "metadata": {},
     "output_type": "execute_result"
    }
   ],
   "source": [
    "infos_revue_diligences, infos_cons_stocks, infos_gest_diligences, infos_recommandation_diligences"
   ]
  },
  {
   "cell_type": "markdown",
   "id": "d77021ac-a804-4897-a3c1-42f37d651fee",
   "metadata": {},
   "source": [
    "## Tableau de revues des dilligences"
   ]
  },
  {
   "cell_type": "code",
   "execution_count": 52,
   "id": "eb61c075-d345-43e3-962e-2675022303a6",
   "metadata": {},
   "outputs": [
    {
     "data": {
      "text/html": [
       "<div>\n",
       "<style scoped>\n",
       "    .dataframe tbody tr th:only-of-type {\n",
       "        vertical-align: middle;\n",
       "    }\n",
       "\n",
       "    .dataframe tbody tr th {\n",
       "        vertical-align: top;\n",
       "    }\n",
       "\n",
       "    .dataframe thead th {\n",
       "        text-align: right;\n",
       "    }\n",
       "</style>\n",
       "<table border=\"1\" class=\"dataframe\">\n",
       "  <thead>\n",
       "    <tr style=\"text-align: right;\">\n",
       "      <th></th>\n",
       "      <th>Diligences</th>\n",
       "      <th>Responsables</th>\n",
       "      <th>Délais</th>\n",
       "      <th>Etat d'exécution</th>\n",
       "      <th>Obsevation</th>\n",
       "    </tr>\n",
       "  </thead>\n",
       "  <tbody>\n",
       "    <tr>\n",
       "      <th>0</th>\n",
       "      <td>Distribuer préférentiellement les AP adulte  a...</td>\n",
       "      <td>Nouvelle PSP-CI</td>\n",
       "      <td>En continu</td>\n",
       "      <td>NaN</td>\n",
       "      <td>NaN</td>\n",
       "    </tr>\n",
       "    <tr>\n",
       "      <th>1</th>\n",
       "      <td>Demander la réalisation d’un inventaire de  de...</td>\n",
       "      <td>Nouvelle PSP-CI</td>\n",
       "      <td>2024-06-30 00:00:00</td>\n",
       "      <td>NaN</td>\n",
       "      <td>En attente du rapport d’inventaire</td>\n",
       "    </tr>\n",
       "    <tr>\n",
       "      <th>2</th>\n",
       "      <td>Transmettre  à la DAP et aux PNS le rapport d’...</td>\n",
       "      <td>Nouvelle PSP-CI</td>\n",
       "      <td>2024-06-30 00:00:00</td>\n",
       "      <td>NaN</td>\n",
       "      <td>Rapport rédigé en attente de signature par le DG</td>\n",
       "    </tr>\n",
       "  </tbody>\n",
       "</table>\n",
       "</div>"
      ],
      "text/plain": [
       "                                          Diligences     Responsables  \\\n",
       "0  Distribuer préférentiellement les AP adulte  a...  Nouvelle PSP-CI   \n",
       "1  Demander la réalisation d’un inventaire de  de...  Nouvelle PSP-CI   \n",
       "2  Transmettre  à la DAP et aux PNS le rapport d’...  Nouvelle PSP-CI   \n",
       "\n",
       "                Délais  Etat d'exécution  \\\n",
       "0           En continu               NaN   \n",
       "1  2024-06-30 00:00:00               NaN   \n",
       "2  2024-06-30 00:00:00               NaN   \n",
       "\n",
       "                                         Obsevation  \n",
       "0                                               NaN  \n",
       "1                En attente du rapport d’inventaire  \n",
       "2  Rapport rédigé en attente de signature par le DG  "
      ]
     },
     "execution_count": 52,
     "metadata": {},
     "output_type": "execute_result"
    }
   ],
   "source": [
    "df_rev_dilligences = pd.read_excel(file_path,\n",
    "                                   sheet_name='Rapport', skiprows=infos_revue_diligences[0]+1, usecols='C:O', nrows=20)\n",
    "\n",
    "df_rev_dilligences = df_rev_dilligences[[col for col in df_rev_dilligences.columns if not col.startswith('Unnamed:')]]\n",
    "\n",
    "df_rev_dilligences = df_rev_dilligences.loc[df_rev_dilligences.Diligences.notna()].drop(columns='N°')\n",
    "\n",
    "df_rev_dilligences"
   ]
  },
  {
   "cell_type": "markdown",
   "id": "0ad3985e-364e-4868-a7f0-2498fb5df0ab",
   "metadata": {},
   "source": [
    "## Tableau de consolidation des stocks"
   ]
  },
  {
   "cell_type": "code",
   "execution_count": 57,
   "id": "8f9e9e70-d427-4b6e-b162-b19b1a20e32a",
   "metadata": {},
   "outputs": [
    {
     "data": {
      "text/html": [
       "<div>\n",
       "<style scoped>\n",
       "    .dataframe tbody tr th:only-of-type {\n",
       "        vertical-align: middle;\n",
       "    }\n",
       "\n",
       "    .dataframe tbody tr th {\n",
       "        vertical-align: top;\n",
       "    }\n",
       "\n",
       "    .dataframe thead th {\n",
       "        text-align: right;\n",
       "    }\n",
       "</style>\n",
       "<table border=\"1\" class=\"dataframe\">\n",
       "  <thead>\n",
       "    <tr style=\"text-align: right;\">\n",
       "      <th></th>\n",
       "      <th>Produits concernés</th>\n",
       "      <th>Ecarts Observés</th>\n",
       "      <th>Justifications des écarts</th>\n",
       "      <th>Actions à mener</th>\n",
       "    </tr>\n",
       "  </thead>\n",
       "  <tbody>\n",
       "  </tbody>\n",
       "</table>\n",
       "</div>"
      ],
      "text/plain": [
       "Empty DataFrame\n",
       "Columns: [Produits concernés , Ecarts Observés, Justifications des écarts, Actions à mener]\n",
       "Index: []"
      ]
     },
     "execution_count": 57,
     "metadata": {},
     "output_type": "execute_result"
    }
   ],
   "source": [
    "df_cons_stocks = pd.read_excel(file_path, sheet_name='Rapport', \n",
    "                               skiprows=infos_cons_stocks[0]+1, usecols='C:O', nrows=infos_gest_diligences[0]-infos_cons_stocks[0]-5)\n",
    "\n",
    "df_cons_stocks = df_cons_stocks[[col for col in df_cons_stocks.columns if not col.startswith('Unnamed:')]]\n",
    "\n",
    "df_cons_stocks"
   ]
  },
  {
   "cell_type": "markdown",
   "id": "18812ab3-e84f-46ad-aad3-df16e07ae0af",
   "metadata": {},
   "source": [
    "## Gestion des risques des diligences"
   ]
  },
  {
   "cell_type": "code",
   "execution_count": 58,
   "id": "e2c47601-4c59-4d53-8b35-67ae3bf892f8",
   "metadata": {},
   "outputs": [
    {
     "data": {
      "text/html": [
       "<div>\n",
       "<style scoped>\n",
       "    .dataframe tbody tr th:only-of-type {\n",
       "        vertical-align: middle;\n",
       "    }\n",
       "\n",
       "    .dataframe tbody tr th {\n",
       "        vertical-align: top;\n",
       "    }\n",
       "\n",
       "    .dataframe thead th {\n",
       "        text-align: right;\n",
       "    }\n",
       "</style>\n",
       "<table border=\"1\" class=\"dataframe\">\n",
       "  <thead>\n",
       "    <tr style=\"text-align: right;\">\n",
       "      <th></th>\n",
       "      <th>Désignation</th>\n",
       "      <th>Niveau de stock_central</th>\n",
       "      <th>Niveau de stock_périphérique</th>\n",
       "      <th>Niveau de stock_national</th>\n",
       "      <th>risque de rupture ou de péremption</th>\n",
       "      <th>Commandes en Cours_quantité</th>\n",
       "      <th>Commandes en Cours_Date Probable de livraison</th>\n",
       "      <th>Commandes en Cours_Statut commande</th>\n",
       "      <th>Diligences au niveau Central</th>\n",
       "      <th>Diligences au niveau périphérique</th>\n",
       "      <th>Responsable</th>\n",
       "    </tr>\n",
       "  </thead>\n",
       "  <tbody>\n",
       "  </tbody>\n",
       "</table>\n",
       "</div>"
      ],
      "text/plain": [
       "Empty DataFrame\n",
       "Columns: [Désignation, Niveau de stock_central , Niveau de stock_périphérique, Niveau de stock_national, risque de rupture ou de péremption, Commandes en Cours_quantité, Commandes en Cours_Date Probable de livraison , Commandes en Cours_Statut commande, Diligences au niveau Central, Diligences au niveau périphérique, Responsable]\n",
       "Index: []"
      ]
     },
     "execution_count": 58,
     "metadata": {},
     "output_type": "execute_result"
    }
   ],
   "source": [
    "df_gestion_diligences = pd.read_excel(file_path, sheet_name='Rapport',\n",
    "                                      skiprows=infos_gest_diligences[0]+1, usecols='C:O', nrows=infos_recommandation_diligences[0]-infos_gest_diligences[0]-3)\n",
    "\n",
    "import functools\n",
    "\n",
    "list_columns = list(df_gestion_diligences.columns)\n",
    "\n",
    "for col in list_columns[3:]:\n",
    "    val = df_gestion_diligences.loc[0, col]\n",
    "    if not pd.isna(val):\n",
    "        df_gestion_diligences.rename(\n",
    "            columns={col: functools.reduce(\n",
    "                lambda a, b: a if ('Unnamed' not in a) and ('Unnamed' in b) else b,\n",
    "                list_columns[: list_columns.index(col)+1]) + '_' + val\n",
    "            }, inplace=True)\n",
    "        \n",
    "\n",
    "df_gestion_diligences = df_gestion_diligences.drop(index=[0]).reset_index(drop=True)[[col for col in df_gestion_diligences.columns if not col.startswith('Unnamed:')]]\n",
    "\n",
    "df_gestion_diligences"
   ]
  },
  {
   "cell_type": "markdown",
   "id": "8edb55ed-829b-46f1-ab9d-134b215b2285",
   "metadata": {},
   "source": [
    "## Tableau de recommandations des diligences"
   ]
  },
  {
   "cell_type": "code",
   "execution_count": 59,
   "id": "8f8f32cd-0966-438a-8821-4ddb5687c0f0",
   "metadata": {},
   "outputs": [
    {
     "data": {
      "text/html": [
       "<div>\n",
       "<style scoped>\n",
       "    .dataframe tbody tr th:only-of-type {\n",
       "        vertical-align: middle;\n",
       "    }\n",
       "\n",
       "    .dataframe tbody tr th {\n",
       "        vertical-align: top;\n",
       "    }\n",
       "\n",
       "    .dataframe thead th {\n",
       "        text-align: right;\n",
       "    }\n",
       "</style>\n",
       "<table border=\"1\" class=\"dataframe\">\n",
       "  <thead>\n",
       "    <tr style=\"text-align: right;\">\n",
       "      <th></th>\n",
       "      <th>Diligences</th>\n",
       "      <th>Responsables</th>\n",
       "      <th>Délais</th>\n",
       "      <th>Etat d'exécution</th>\n",
       "      <th>Obsevation</th>\n",
       "    </tr>\n",
       "  </thead>\n",
       "  <tbody>\n",
       "  </tbody>\n",
       "</table>\n",
       "</div>"
      ],
      "text/plain": [
       "Empty DataFrame\n",
       "Columns: [Diligences, Responsables, Délais, Etat d'exécution, Obsevation]\n",
       "Index: []"
      ]
     },
     "execution_count": 59,
     "metadata": {},
     "output_type": "execute_result"
    }
   ],
   "source": [
    "df_recom_diligences = pd.read_excel(file_path, sheet_name='Rapport', \n",
    "                                    skiprows=infos_recommandation_diligences[0]+1, usecols='C:O', nrows=20)\n",
    "\n",
    "df_recom_diligences = df_recom_diligences[[col for col in df_recom_diligences.columns if not col.startswith('Unnamed:')]]\n",
    "\n",
    "df_recom_diligences = df_recom_diligences.loc[df_recom_diligences.Diligences.notna()].drop(columns='N°')\n",
    "\n",
    "df_recom_diligences"
   ]
  },
  {
   "cell_type": "markdown",
   "id": "d8ca0e14-3817-4eba-9e1e-199c9d784346",
   "metadata": {},
   "source": [
    "# Mise à jour des données en se basant sur la source `Etat de Stock Mensuel`"
   ]
  },
  {
   "cell_type": "code",
   "execution_count": 7,
   "id": "60078172-4a52-495d-b1d4-8e34a38dc49c",
   "metadata": {},
   "outputs": [
    {
     "name": "stdout",
     "output_type": "stream",
     "text": [
      "CPU times: user 1min 4s, sys: 115 ms, total: 1min 4s\n",
      "Wall time: 1min 4s\n"
     ]
    }
   ],
   "source": [
    "%%time\n",
    "wb_template = gstf.update_data_based_on_file_etat_mensuel(wb_etat_stock, wb_template, programme, date_report)"
   ]
  },
  {
   "cell_type": "markdown",
   "id": "1ffb326a-e6f0-4d54-bb4b-ebb7a2311ef6",
   "metadata": {},
   "source": [
    "# Mise à jour des données en se basant sur la source `Rapport Feedback`\n",
    "\n",
    "Pour le faire on va se baser sur les inputs au préalable du fichier RapportFeebback généré au mois courant"
   ]
  },
  {
   "cell_type": "code",
   "execution_count": 8,
   "id": "e8ee2759-c450-4704-91f0-2ea060f7de31",
   "metadata": {},
   "outputs": [
    {
     "data": {
      "text/html": [
       "<div>\n",
       "<style scoped>\n",
       "    .dataframe tbody tr th:only-of-type {\n",
       "        vertical-align: middle;\n",
       "    }\n",
       "\n",
       "    .dataframe tbody tr th {\n",
       "        vertical-align: top;\n",
       "    }\n",
       "\n",
       "    .dataframe thead th {\n",
       "        text-align: right;\n",
       "    }\n",
       "</style>\n",
       "<table border=\"1\" class=\"dataframe\">\n",
       "  <thead>\n",
       "    <tr style=\"text-align: right;\">\n",
       "      <th></th>\n",
       "      <th>Code_Pro</th>\n",
       "      <th>CODE</th>\n",
       "      <th>PROGRAMME</th>\n",
       "      <th>SOUS-PROGRAMME</th>\n",
       "      <th>PERIODE</th>\n",
       "      <th>REGION</th>\n",
       "      <th>DISTRICT</th>\n",
       "      <th>CODE  ETS</th>\n",
       "      <th>STRUCTURE</th>\n",
       "      <th>CATEGORIE PRODUIT</th>\n",
       "      <th>PRODUIT</th>\n",
       "      <th>UNITE DE RAPPORTAGE</th>\n",
       "      <th>STOCK INITIAL</th>\n",
       "      <th>QUANTITE RECUE</th>\n",
       "      <th>QUANTITE UTILISEE</th>\n",
       "      <th>PERTES ET AJUSTEMENT</th>\n",
       "      <th>JOURS DE RUPTURE</th>\n",
       "      <th>SDU</th>\n",
       "      <th>CMM ESIGL</th>\n",
       "      <th>CMM gestionnaire</th>\n",
       "      <th>QUANTITE PROPOSEE</th>\n",
       "      <th>QUANTITE COMMANDEE</th>\n",
       "      <th>QUANTITE APPROUVEE</th>\n",
       "      <th>MSD</th>\n",
       "      <th>ETAT DU STOCK</th>\n",
       "      <th>BESOIN COMMANDE URGENTE</th>\n",
       "      <th>BESOIN TRANSFERT IN</th>\n",
       "      <th>QUANTITE A TRANSFERER OUT</th>\n",
       "      <th>Commandes du mois précédent</th>\n",
       "      <th>Etat du stock du mois précédent</th>\n",
       "      <th>CATEGORIE_DU_PRODUIT</th>\n",
       "    </tr>\n",
       "  </thead>\n",
       "  <tbody>\n",
       "    <tr>\n",
       "      <th>0</th>\n",
       "      <td>3160005_PNN</td>\n",
       "      <td>3160005</td>\n",
       "      <td>PNN</td>\n",
       "      <td>PNN-MEDICAMENTS ET INTRANTS</td>\n",
       "      <td>JUIN 2024</td>\n",
       "      <td>KABADOUGOU</td>\n",
       "      <td>ODIENNE</td>\n",
       "      <td>51900050</td>\n",
       "      <td>DISTRICT SANITAIRE ODIENNE</td>\n",
       "      <td>Produit non traceur</td>\n",
       "      <td>ACIDE FOLIQUE 5 mg comp. BTE/10 BTE  -</td>\n",
       "      <td>COMPRIME</td>\n",
       "      <td>0</td>\n",
       "      <td>0</td>\n",
       "      <td>0</td>\n",
       "      <td>0</td>\n",
       "      <td>30</td>\n",
       "      <td>0</td>\n",
       "      <td>0</td>\n",
       "      <td>500.0</td>\n",
       "      <td>0</td>\n",
       "      <td>2000</td>\n",
       "      <td>2000</td>\n",
       "      <td>0.0</td>\n",
       "      <td>RUPTURE</td>\n",
       "      <td>2000.0</td>\n",
       "      <td>500.0</td>\n",
       "      <td>NaN</td>\n",
       "      <td>NaN</td>\n",
       "      <td>NaN</td>\n",
       "      <td>MEDICAMENTS ET PETITS MATERIELS MEDICAL</td>\n",
       "    </tr>\n",
       "    <tr>\n",
       "      <th>1</th>\n",
       "      <td>3160005_PNN</td>\n",
       "      <td>3160005</td>\n",
       "      <td>PNN</td>\n",
       "      <td>PNN-MEDICAMENTS ET INTRANTS</td>\n",
       "      <td>JUIN 2024</td>\n",
       "      <td>GBEKE</td>\n",
       "      <td>SAKASSOU</td>\n",
       "      <td>51100060</td>\n",
       "      <td>DISTRICT SANITAIRE SAKASSOU</td>\n",
       "      <td>Produit non traceur</td>\n",
       "      <td>ACIDE FOLIQUE 5 mg comp. BTE/10 BTE  -</td>\n",
       "      <td>COMPRIME</td>\n",
       "      <td>0</td>\n",
       "      <td>0</td>\n",
       "      <td>0</td>\n",
       "      <td>0</td>\n",
       "      <td>30</td>\n",
       "      <td>0</td>\n",
       "      <td>0</td>\n",
       "      <td>0.0</td>\n",
       "      <td>0</td>\n",
       "      <td>0</td>\n",
       "      <td>0</td>\n",
       "      <td>NaN</td>\n",
       "      <td>ND</td>\n",
       "      <td>NaN</td>\n",
       "      <td>NaN</td>\n",
       "      <td>NaN</td>\n",
       "      <td>NaN</td>\n",
       "      <td>NaN</td>\n",
       "      <td>MEDICAMENTS ET PETITS MATERIELS MEDICAL</td>\n",
       "    </tr>\n",
       "  </tbody>\n",
       "</table>\n",
       "</div>"
      ],
      "text/plain": [
       "      Code_Pro     CODE PROGRAMME               SOUS-PROGRAMME    PERIODE  \\\n",
       "0  3160005_PNN  3160005       PNN  PNN-MEDICAMENTS ET INTRANTS  JUIN 2024   \n",
       "1  3160005_PNN  3160005       PNN  PNN-MEDICAMENTS ET INTRANTS  JUIN 2024   \n",
       "\n",
       "       REGION  DISTRICT  CODE  ETS                    STRUCTURE  \\\n",
       "0  KABADOUGOU   ODIENNE   51900050   DISTRICT SANITAIRE ODIENNE   \n",
       "1       GBEKE  SAKASSOU   51100060  DISTRICT SANITAIRE SAKASSOU   \n",
       "\n",
       "     CATEGORIE PRODUIT                                 PRODUIT  \\\n",
       "0  Produit non traceur  ACIDE FOLIQUE 5 mg comp. BTE/10 BTE  -   \n",
       "1  Produit non traceur  ACIDE FOLIQUE 5 mg comp. BTE/10 BTE  -   \n",
       "\n",
       "  UNITE DE RAPPORTAGE  STOCK INITIAL  QUANTITE RECUE  QUANTITE UTILISEE  \\\n",
       "0            COMPRIME              0               0                  0   \n",
       "1            COMPRIME              0               0                  0   \n",
       "\n",
       "   PERTES ET AJUSTEMENT  JOURS DE RUPTURE  SDU  CMM ESIGL  CMM gestionnaire  \\\n",
       "0                     0                30    0          0             500.0   \n",
       "1                     0                30    0          0               0.0   \n",
       "\n",
       "   QUANTITE PROPOSEE  QUANTITE COMMANDEE  QUANTITE APPROUVEE  MSD  \\\n",
       "0                  0                2000                2000  0.0   \n",
       "1                  0                   0                   0  NaN   \n",
       "\n",
       "  ETAT DU STOCK  BESOIN COMMANDE URGENTE                    \\\n",
       "0       RUPTURE                                     2000.0   \n",
       "1            ND                                        NaN   \n",
       "\n",
       "   BESOIN TRANSFERT IN                                 \\\n",
       "0                                              500.0    \n",
       "1                                                NaN    \n",
       "\n",
       "   QUANTITE A TRANSFERER OUT  Commandes du mois précédent  \\\n",
       "0                        NaN                          NaN   \n",
       "1                        NaN                          NaN   \n",
       "\n",
       "   Etat du stock du mois précédent                     CATEGORIE_DU_PRODUIT  \n",
       "0                              NaN  MEDICAMENTS ET PETITS MATERIELS MEDICAL  \n",
       "1                              NaN  MEDICAMENTS ET PETITS MATERIELS MEDICAL  "
      ]
     },
     "execution_count": 8,
     "metadata": {},
     "output_type": "execute_result"
    }
   ],
   "source": [
    "df_etat_stock = pd.read_excel(f'/home/jovyan/workspace/automating_dap_tools/data/feedback_report/generate_feedback_report/RapportFeedBack-JUIN-2024.xlsx',\n",
    "                              sheet_name='ETAT DU STOCK', skiprows=1)\n",
    "df_etat_stock.head(2)"
   ]
  },
  {
   "cell_type": "code",
   "execution_count": 9,
   "id": "2e0b9235-dcf6-4667-9905-6a2e8fc1f189",
   "metadata": {},
   "outputs": [
    {
     "name": "stdout",
     "output_type": "stream",
     "text": [
      "CPU times: user 47.1 s, sys: 66.8 ms, total: 47.2 s\n",
      "Wall time: 47.3 s\n"
     ]
    }
   ],
   "source": [
    "%%time\n",
    "\n",
    "wb_template = gstf.update_sheet_etat_stock_with_dataframe(wb_template, df_etat_stock.loc[df_etat_stock.PROGRAMME==programme].copy())\n",
    "\n",
    "wb_template = gstf.update_sheet_stock_region(wb_template, wb_fbr, programme)"
   ]
  },
  {
   "cell_type": "markdown",
   "id": "6392fa3e-45c2-4ea8-bf85-a436830225ee",
   "metadata": {},
   "source": [
    "# Mise à jour des données du `Plan d'approvisionnement`\n",
    "\n",
    "Avant d'effectuer la mise à jour de la feuille Annexe 2, il nous faut les informations du plan d'approvisionnement"
   ]
  },
  {
   "cell_type": "markdown",
   "id": "32e264b5-b978-412f-a8a8-ba17b2929ff4",
   "metadata": {},
   "source": [
    "## Prétraitrement du fichier de plan d'approvisionnement"
   ]
  },
  {
   "cell_type": "code",
   "execution_count": 10,
   "id": "c6fdbf4f-048a-4dbd-bf6d-f77bde9c16ee",
   "metadata": {},
   "outputs": [
    {
     "data": {
      "text/html": [
       "<div>\n",
       "<style scoped>\n",
       "    .dataframe tbody tr th:only-of-type {\n",
       "        vertical-align: middle;\n",
       "    }\n",
       "\n",
       "    .dataframe tbody tr th {\n",
       "        vertical-align: top;\n",
       "    }\n",
       "\n",
       "    .dataframe thead th {\n",
       "        text-align: right;\n",
       "    }\n",
       "</style>\n",
       "<table border=\"1\" class=\"dataframe\">\n",
       "  <thead>\n",
       "    <tr style=\"text-align: right;\">\n",
       "      <th></th>\n",
       "      <th>ID de produit QAT / Identifiant de produit (prévision)</th>\n",
       "      <th>Produit (planification) / Produit (prévision)</th>\n",
       "      <th>ID de l`envoi QAT</th>\n",
       "      <th>Commande d`urgence</th>\n",
       "      <th>Commande PGI</th>\n",
       "      <th>Approvisionnement local</th>\n",
       "      <th>N° de commande de l`agent d`approvisionnement</th>\n",
       "      <th>Agent d`approvisionnement</th>\n",
       "      <th>Source de financement</th>\n",
       "      <th>Budget</th>\n",
       "      <th>État</th>\n",
       "      <th>Quantité</th>\n",
       "      <th>date de réception</th>\n",
       "      <th>Coût unitaire de produit (USD)</th>\n",
       "      <th>Coût du fret (USD)</th>\n",
       "      <th>Coût total (USD)</th>\n",
       "      <th>Notes</th>\n",
       "    </tr>\n",
       "  </thead>\n",
       "  <tbody>\n",
       "    <tr>\n",
       "      <th>0</th>\n",
       "      <td>1082</td>\n",
       "      <td>Abacavir/Lamivudine 600/300 mg Tablet  30 Tablets</td>\n",
       "      <td>175651</td>\n",
       "      <td>false</td>\n",
       "      <td>false</td>\n",
       "      <td>false</td>\n",
       "      <td></td>\n",
       "      <td>Govt</td>\n",
       "      <td>Govt</td>\n",
       "      <td>BGE_2024</td>\n",
       "      <td>Reçu</td>\n",
       "      <td>30000</td>\n",
       "      <td>2024-01-25</td>\n",
       "      <td>270000.00</td>\n",
       "      <td>29700.00</td>\n",
       "      <td>299700.00</td>\n",
       "      <td></td>\n",
       "    </tr>\n",
       "    <tr>\n",
       "      <th>1</th>\n",
       "      <td>2786</td>\n",
       "      <td>Efavirenz 200 mg Dispersible Tablet  90 Tablets</td>\n",
       "      <td>175693</td>\n",
       "      <td>false</td>\n",
       "      <td>false</td>\n",
       "      <td>false</td>\n",
       "      <td></td>\n",
       "      <td>Govt</td>\n",
       "      <td>Govt</td>\n",
       "      <td>BGE_2023</td>\n",
       "      <td>Reçu</td>\n",
       "      <td>4382</td>\n",
       "      <td>2024-02-13</td>\n",
       "      <td>60164.86</td>\n",
       "      <td>6618.13</td>\n",
       "      <td>66782.99</td>\n",
       "      <td></td>\n",
       "    </tr>\n",
       "    <tr>\n",
       "      <th>2</th>\n",
       "      <td>3157</td>\n",
       "      <td>Fluconazole 200 mg Capsule  10 x 10 Blister Pa...</td>\n",
       "      <td>175698</td>\n",
       "      <td>false</td>\n",
       "      <td>false</td>\n",
       "      <td>false</td>\n",
       "      <td></td>\n",
       "      <td>GHSC-PSM</td>\n",
       "      <td>PEPFAR</td>\n",
       "      <td>COP23_ARV</td>\n",
       "      <td>Reçu</td>\n",
       "      <td>2674</td>\n",
       "      <td>2024-02-23</td>\n",
       "      <td>182794.64</td>\n",
       "      <td>20107.41</td>\n",
       "      <td>202902.05</td>\n",
       "      <td></td>\n",
       "    </tr>\n",
       "    <tr>\n",
       "      <th>3</th>\n",
       "      <td>3174</td>\n",
       "      <td>Flucytosine 500 mg Tablet  100 Tablets</td>\n",
       "      <td>175701</td>\n",
       "      <td>false</td>\n",
       "      <td>false</td>\n",
       "      <td>false</td>\n",
       "      <td></td>\n",
       "      <td>PPM-GF</td>\n",
       "      <td>GFATM</td>\n",
       "      <td>GF_2024</td>\n",
       "      <td>Reçu</td>\n",
       "      <td>220</td>\n",
       "      <td>2024-03-22</td>\n",
       "      <td>16500.00</td>\n",
       "      <td>1815.00</td>\n",
       "      <td>18315.00</td>\n",
       "      <td></td>\n",
       "    </tr>\n",
       "    <tr>\n",
       "      <th>4</th>\n",
       "      <td>4583</td>\n",
       "      <td>Nevirapine 10 mg/mL Suspension w/ Syringe  100 mL</td>\n",
       "      <td>175715</td>\n",
       "      <td>false</td>\n",
       "      <td>false</td>\n",
       "      <td>false</td>\n",
       "      <td></td>\n",
       "      <td>Govt</td>\n",
       "      <td>Govt</td>\n",
       "      <td>BGE_2023</td>\n",
       "      <td>Reçu</td>\n",
       "      <td>5010</td>\n",
       "      <td>2024-01-12</td>\n",
       "      <td>8767.50</td>\n",
       "      <td>964.42</td>\n",
       "      <td>9731.92</td>\n",
       "      <td></td>\n",
       "    </tr>\n",
       "  </tbody>\n",
       "</table>\n",
       "</div>"
      ],
      "text/plain": [
       "   ID de produit QAT / Identifiant de produit (prévision)  \\\n",
       "0                                               1082        \n",
       "1                                               2786        \n",
       "2                                               3157        \n",
       "3                                               3174        \n",
       "4                                               4583        \n",
       "\n",
       "       Produit (planification) / Produit (prévision)  ID de l`envoi QAT  \\\n",
       "0  Abacavir/Lamivudine 600/300 mg Tablet  30 Tablets             175651   \n",
       "1    Efavirenz 200 mg Dispersible Tablet  90 Tablets             175693   \n",
       "2  Fluconazole 200 mg Capsule  10 x 10 Blister Pa...             175698   \n",
       "3             Flucytosine 500 mg Tablet  100 Tablets             175701   \n",
       "4  Nevirapine 10 mg/mL Suspension w/ Syringe  100 mL             175715   \n",
       "\n",
       "  Commande d`urgence Commande PGI Approvisionnement local  \\\n",
       "0              false        false                   false   \n",
       "1              false        false                   false   \n",
       "2              false        false                   false   \n",
       "3              false        false                   false   \n",
       "4              false        false                   false   \n",
       "\n",
       "  N° de commande de l`agent d`approvisionnement Agent d`approvisionnement  \\\n",
       "0                                                                    Govt   \n",
       "1                                                                    Govt   \n",
       "2                                                                GHSC-PSM   \n",
       "3                                                                  PPM-GF   \n",
       "4                                                                    Govt   \n",
       "\n",
       "  Source de financement     Budget  État  Quantité date de réception  \\\n",
       "0                  Govt   BGE_2024  Reçu     30000        2024-01-25   \n",
       "1                  Govt   BGE_2023  Reçu      4382        2024-02-13   \n",
       "2                PEPFAR  COP23_ARV  Reçu      2674        2024-02-23   \n",
       "3                 GFATM    GF_2024  Reçu       220        2024-03-22   \n",
       "4                  Govt   BGE_2023  Reçu      5010        2024-01-12   \n",
       "\n",
       "   Coût unitaire de produit (USD)  Coût du fret (USD)  Coût total (USD) Notes  \n",
       "0                       270000.00            29700.00         299700.00        \n",
       "1                        60164.86             6618.13          66782.99        \n",
       "2                       182794.64            20107.41         202902.05        \n",
       "3                        16500.00             1815.00          18315.00        \n",
       "4                         8767.50              964.42           9731.92        "
      ]
     },
     "execution_count": 10,
     "metadata": {},
     "output_type": "execute_result"
    }
   ],
   "source": [
    "from datetime import datetime\n",
    "\n",
    "file_path = \"/home/jovyan/workspace/automating_dap_tools/data/stock_tracking_file/folder_by_month/Juin 2024/Plan d'Approvisionnement/PNLS-ARV.csv\"\n",
    "data = []\n",
    "with open(file=file_path) as file:\n",
    "    for line in file.readlines():\n",
    "        if len(line.split(','))==17:\n",
    "            data.append([col.replace('\"', '') for col in line.strip().split(',')])\n",
    "\n",
    "df_plan_approv = pd.DataFrame(data[1:], columns= data[0])\n",
    "\n",
    "for col in ['ID de produit QAT / Identifiant de produit (prévision)', 'ID de l`envoi QAT', 'Quantité',]:\n",
    "    df_plan_approv[col] = df_plan_approv[col].astype(int)\n",
    "    \n",
    "for col in ['Coût unitaire de produit (USD)', 'Coût du fret (USD)', 'Coût total (USD)']:\n",
    "    df_plan_approv[col] = df_plan_approv[col].astype(float)\n",
    "    \n",
    "df_plan_approv['date de réception'] = df_plan_approv['date de réception'].apply(lambda date_str: datetime.strptime(date_str, '%d-%b-%Y'))\n",
    "\n",
    "df_plan_approv = df_plan_approv.map(lambda x: x.lstrip().rstrip() if isinstance(x, str) else x)\n",
    "\n",
    "del data\n",
    "\n",
    "df_plan_approv.head()"
   ]
  },
  {
   "cell_type": "code",
   "execution_count": 11,
   "id": "f174a3c7-659e-48d3-929e-b5b2b0c12955",
   "metadata": {},
   "outputs": [
    {
     "data": {
      "text/html": [
       "<div>\n",
       "<style scoped>\n",
       "    .dataframe tbody tr th:only-of-type {\n",
       "        vertical-align: middle;\n",
       "    }\n",
       "\n",
       "    .dataframe tbody tr th {\n",
       "        vertical-align: top;\n",
       "    }\n",
       "\n",
       "    .dataframe thead th {\n",
       "        text-align: right;\n",
       "    }\n",
       "</style>\n",
       "<table border=\"1\" class=\"dataframe\">\n",
       "  <thead>\n",
       "    <tr style=\"text-align: right;\">\n",
       "      <th></th>\n",
       "      <th>Standard product code</th>\n",
       "      <th>ID de produit QAT / Identifiant de produit (prévision)</th>\n",
       "      <th>Produit (planification) / Produit (prévision)</th>\n",
       "    </tr>\n",
       "  </thead>\n",
       "  <tbody>\n",
       "    <tr>\n",
       "      <th>0</th>\n",
       "      <td>3120042</td>\n",
       "      <td>3067</td>\n",
       "      <td>Female Condom (Nitrile) Lubricated  17 cm  100...</td>\n",
       "    </tr>\n",
       "    <tr>\n",
       "      <th>1</th>\n",
       "      <td>3120010</td>\n",
       "      <td>4806</td>\n",
       "      <td>Personal Lubricant (Water-Based) 4.5 g Topical...</td>\n",
       "    </tr>\n",
       "    <tr>\n",
       "      <th>2</th>\n",
       "      <td>3120010</td>\n",
       "      <td>4806</td>\n",
       "      <td>Personal Lubricant (Water-Based) 4.5 g Topical...</td>\n",
       "    </tr>\n",
       "    <tr>\n",
       "      <th>3</th>\n",
       "      <td>3120010</td>\n",
       "      <td>4806</td>\n",
       "      <td>Personal Lubricant (Water-Based) 4.5 g Topical...</td>\n",
       "    </tr>\n",
       "    <tr>\n",
       "      <th>4</th>\n",
       "      <td>3120044</td>\n",
       "      <td>4182</td>\n",
       "      <td>Male Condom (Latex) Lubricated  No Logo  53 mm...</td>\n",
       "    </tr>\n",
       "  </tbody>\n",
       "</table>\n",
       "</div>"
      ],
      "text/plain": [
       "  Standard product code  \\\n",
       "0               3120042   \n",
       "1               3120010   \n",
       "2               3120010   \n",
       "3               3120010   \n",
       "4               3120044   \n",
       "\n",
       "   ID de produit QAT / Identifiant de produit (prévision)  \\\n",
       "0                                               3067        \n",
       "1                                               4806        \n",
       "2                                               4806        \n",
       "3                                               4806        \n",
       "4                                               4182        \n",
       "\n",
       "       Produit (planification) / Produit (prévision)  \n",
       "0  Female Condom (Nitrile) Lubricated  17 cm  100...  \n",
       "1  Personal Lubricant (Water-Based) 4.5 g Topical...  \n",
       "2  Personal Lubricant (Water-Based) 4.5 g Topical...  \n",
       "3  Personal Lubricant (Water-Based) 4.5 g Topical...  \n",
       "4  Male Condom (Latex) Lubricated  No Logo  53 mm...  "
      ]
     },
     "execution_count": 11,
     "metadata": {},
     "output_type": "execute_result"
    }
   ],
   "source": [
    "# Fichier de mappage des informations des code produits SAGE X3 et QAT\n",
    "df_map_prod_pnls = pd.read_csv(\"/home/jovyan/workspace/automating_dap_tools/data/stock_tracking_file/correspondance_produits_par_programme/map_produits_pnls.csv\",\n",
    "                               sep=';', encoding='utf-8')\n",
    "\n",
    "df_map_prod_pnls.columns = df_map_prod_pnls.columns.str.replace('Ã©', 'é').str.replace('â', '').str.rstrip().str.lstrip()\n",
    "df_map_prod_pnls.head()"
   ]
  },
  {
   "cell_type": "code",
   "execution_count": 12,
   "id": "27a11581-1dc9-47e0-a90e-6174af5e2fe1",
   "metadata": {},
   "outputs": [],
   "source": [
    "df_map_prod_pnls = df_map_prod_pnls.drop(columns='Produit (planification) / Produit (prévision)').drop_duplicates()\n",
    "\n",
    "df_map_prod_pnls = df_map_prod_pnls.loc[(df_map_prod_pnls['Standard product code'].notna()) & (df_map_prod_pnls['Standard product code']!='ND')]\n",
    "\n",
    "assert df_plan_approv.merge(\n",
    "    df_map_prod_pnls,\n",
    "    on='ID de produit QAT / Identifiant de produit (prévision)',\n",
    "    how='left').shape[0] == df_plan_approv.shape[0]\n",
    "\n",
    "df_plan_approv = df_plan_approv.merge(\n",
    "    df_map_prod_pnls,\n",
    "    on='ID de produit QAT / Identifiant de produit (prévision)',\n",
    "    how='left')"
   ]
  },
  {
   "cell_type": "code",
   "execution_count": 13,
   "id": "14c925e4-4aed-48ee-af12-700336236d69",
   "metadata": {},
   "outputs": [
    {
     "name": "stdout",
     "output_type": "stream",
     "text": [
      "CPU times: user 135 ms, sys: 3 µs, total: 135 ms\n",
      "Wall time: 134 ms\n"
     ]
    }
   ],
   "source": [
    "%%time\n",
    "\n",
    "wb_template = gstf.update_sheet_plan_approv(wb_template, df_plan_approv.copy())"
   ]
  },
  {
   "cell_type": "markdown",
   "id": "95cc7891-47b8-434d-99ed-2bcbfc50a21c",
   "metadata": {},
   "source": [
    "# Mise à jour des données en se basant sur la source `Annexe 1 - Consolidation`"
   ]
  },
  {
   "cell_type": "code",
   "execution_count": 14,
   "id": "8b751308-506a-42d9-97bb-87cba4fd5dd4",
   "metadata": {},
   "outputs": [],
   "source": [
    "db_ops.reload_connection()\n",
    "\n",
    "schema_name = \"dap_tools\""
   ]
  },
  {
   "cell_type": "markdown",
   "id": "23d4f96a-2f84-4bcd-bc23-96f9c6efa168",
   "metadata": {},
   "source": [
    "* `df_produit`: dataframe récapitulant les produits pour le programme spécifique"
   ]
  },
  {
   "cell_type": "code",
   "execution_count": 15,
   "id": "69ca66eb-8069-4f51-98d6-6219152e6dc5",
   "metadata": {},
   "outputs": [
    {
     "data": {
      "text/html": [
       "<div>\n",
       "<style scoped>\n",
       "    .dataframe tbody tr th:only-of-type {\n",
       "        vertical-align: middle;\n",
       "    }\n",
       "\n",
       "    .dataframe tbody tr th {\n",
       "        vertical-align: top;\n",
       "    }\n",
       "\n",
       "    .dataframe thead th {\n",
       "        text-align: right;\n",
       "    }\n",
       "</style>\n",
       "<table border=\"1\" class=\"dataframe\">\n",
       "  <thead>\n",
       "    <tr style=\"text-align: right;\">\n",
       "      <th></th>\n",
       "      <th>id_produit_stock_track_pk</th>\n",
       "      <th>nouveau_code</th>\n",
       "      <th>code</th>\n",
       "      <th>sous_groupes</th>\n",
       "      <th>designation_produit</th>\n",
       "      <th>categorie</th>\n",
       "      <th>cdtmt</th>\n",
       "      <th>unit_niveau_central</th>\n",
       "      <th>unit_niveau_peripherique</th>\n",
       "      <th>designation_acronym</th>\n",
       "      <th>code_qat</th>\n",
       "      <th>programme</th>\n",
       "      <th>stock_theorique_mois_precedent</th>\n",
       "    </tr>\n",
       "  </thead>\n",
       "  <tbody>\n",
       "    <tr>\n",
       "      <th>0</th>\n",
       "      <td>45</td>\n",
       "      <td>3100001</td>\n",
       "      <td>AR33198</td>\n",
       "      <td>Médicaments</td>\n",
       "      <td>ABACAVIR / LAMIVUDINE 120/60 mg comp disp. bte/30</td>\n",
       "      <td>Produit traceur</td>\n",
       "      <td>30</td>\n",
       "      <td>BOITE/30</td>\n",
       "      <td>COMPRIME</td>\n",
       "      <td>ABC/3TC 120/60MG CP BTE/30</td>\n",
       "      <td>None</td>\n",
       "      <td>PNLS</td>\n",
       "      <td>70467.0</td>\n",
       "    </tr>\n",
       "    <tr>\n",
       "      <th>1</th>\n",
       "      <td>46</td>\n",
       "      <td>3100003</td>\n",
       "      <td>AR33196</td>\n",
       "      <td>Médicaments</td>\n",
       "      <td>ABACAVIR / LAMIVUDINE 600/300 mg comp. bte/30</td>\n",
       "      <td>Produit non traceur</td>\n",
       "      <td>30</td>\n",
       "      <td>BOITE/30</td>\n",
       "      <td>COMPRIME</td>\n",
       "      <td>None</td>\n",
       "      <td>None</td>\n",
       "      <td>PNLS</td>\n",
       "      <td>27734.0</td>\n",
       "    </tr>\n",
       "    <tr>\n",
       "      <th>2</th>\n",
       "      <td>47</td>\n",
       "      <td>3100005</td>\n",
       "      <td>AR33194</td>\n",
       "      <td>Médicaments</td>\n",
       "      <td>ABACAVIR / LAMIVUDINE/DOLUTEGRAVIR 600 mg / 30...</td>\n",
       "      <td>Produit non traceur</td>\n",
       "      <td>30</td>\n",
       "      <td>BOITE/30</td>\n",
       "      <td>None</td>\n",
       "      <td>None</td>\n",
       "      <td>None</td>\n",
       "      <td>PNLS</td>\n",
       "      <td>-656.0</td>\n",
       "    </tr>\n",
       "  </tbody>\n",
       "</table>\n",
       "</div>"
      ],
      "text/plain": [
       "   id_produit_stock_track_pk  nouveau_code     code sous_groupes  \\\n",
       "0                         45       3100001  AR33198  Médicaments   \n",
       "1                         46       3100003  AR33196  Médicaments   \n",
       "2                         47       3100005  AR33194  Médicaments   \n",
       "\n",
       "                                 designation_produit            categorie  \\\n",
       "0  ABACAVIR / LAMIVUDINE 120/60 mg comp disp. bte/30      Produit traceur   \n",
       "1      ABACAVIR / LAMIVUDINE 600/300 mg comp. bte/30  Produit non traceur   \n",
       "2  ABACAVIR / LAMIVUDINE/DOLUTEGRAVIR 600 mg / 30...  Produit non traceur   \n",
       "\n",
       "   cdtmt unit_niveau_central unit_niveau_peripherique  \\\n",
       "0     30            BOITE/30                 COMPRIME   \n",
       "1     30            BOITE/30                 COMPRIME   \n",
       "2     30            BOITE/30                     None   \n",
       "\n",
       "          designation_acronym code_qat programme  \\\n",
       "0  ABC/3TC 120/60MG CP BTE/30     None      PNLS   \n",
       "1                        None     None      PNLS   \n",
       "2                        None     None      PNLS   \n",
       "\n",
       "   stock_theorique_mois_precedent  \n",
       "0                         70467.0  \n",
       "1                         27734.0  \n",
       "2                          -656.0  "
      ]
     },
     "execution_count": 15,
     "metadata": {},
     "output_type": "execute_result"
    }
   ],
   "source": [
    "# Il me faut d'abord réconstituer la base des données produit, par rapport au mois et au programme sélectionner\n",
    "\n",
    "df_produit = pd.read_sql(\n",
    "    f\"\"\"\n",
    "    SELECT prod.*, st.stock_theorique_mois_precedent\n",
    "    FROM {schema_name}.stock_track st\n",
    "    INNER JOIN {schema_name}.dim_produit_stock_track prod ON st.id_produit_stock_track_fk = prod.id_produit_stock_track_pk\n",
    "    WHERE prod.programme='{programme}' AND st.date_report = '{date_report_format}'\"\"\",\n",
    "    db_ops.civ_engine).drop_duplicates()\n",
    "\n",
    "df_produit.head(3)"
   ]
  },
  {
   "cell_type": "markdown",
   "id": "a9706152-d115-4c34-a8ec-86a8f1385202",
   "metadata": {},
   "source": [
    "* `df_dmm_global`: contient l'historique des dmm pour le programme spécifique"
   ]
  },
  {
   "cell_type": "code",
   "execution_count": 16,
   "id": "ec4fa3f1-c99a-442d-8a4a-56429028eecd",
   "metadata": {},
   "outputs": [
    {
     "data": {
      "text/html": [
       "<div>\n",
       "<style scoped>\n",
       "    .dataframe tbody tr th:only-of-type {\n",
       "        vertical-align: middle;\n",
       "    }\n",
       "\n",
       "    .dataframe tbody tr th {\n",
       "        vertical-align: top;\n",
       "    }\n",
       "\n",
       "    .dataframe thead th {\n",
       "        text-align: right;\n",
       "    }\n",
       "</style>\n",
       "<table border=\"1\" class=\"dataframe\">\n",
       "  <thead>\n",
       "    <tr style=\"text-align: right;\">\n",
       "      <th></th>\n",
       "      <th>id_produit_stock_track_pk</th>\n",
       "      <th>nouveau_code</th>\n",
       "      <th>code</th>\n",
       "      <th>sous_groupes</th>\n",
       "      <th>designation_produit</th>\n",
       "      <th>categorie</th>\n",
       "      <th>cdtmt</th>\n",
       "      <th>unit_niveau_central</th>\n",
       "      <th>unit_niveau_peripherique</th>\n",
       "      <th>designation_acronym</th>\n",
       "      <th>code_qat</th>\n",
       "      <th>programme</th>\n",
       "      <th>id_stock_track_dmm_pk</th>\n",
       "      <th>id_produit_stock_track_fk</th>\n",
       "      <th>date_report</th>\n",
       "      <th>dmm</th>\n",
       "      <th>nbre_mois_consideres</th>\n",
       "      <th>distributions_mois_consideres</th>\n",
       "      <th>dmm_calculee_valider</th>\n",
       "      <th>dmm_validee_precedent</th>\n",
       "      <th>commentaire</th>\n",
       "    </tr>\n",
       "  </thead>\n",
       "  <tbody>\n",
       "    <tr>\n",
       "      <th>0</th>\n",
       "      <td>45</td>\n",
       "      <td>3100001</td>\n",
       "      <td>AR33198</td>\n",
       "      <td>Médicaments</td>\n",
       "      <td>ABACAVIR / LAMIVUDINE 120/60 mg comp disp. bte/30</td>\n",
       "      <td>Produit traceur</td>\n",
       "      <td>30</td>\n",
       "      <td>BOITE/30</td>\n",
       "      <td>COMPRIME</td>\n",
       "      <td>ABC/3TC 120/60MG CP BTE/30</td>\n",
       "      <td>None</td>\n",
       "      <td>PNLS</td>\n",
       "      <td>749</td>\n",
       "      <td>45</td>\n",
       "      <td>2023-08-01</td>\n",
       "      <td>4293.0</td>\n",
       "      <td>NaN</td>\n",
       "      <td>NaN</td>\n",
       "      <td>NaN</td>\n",
       "      <td>NaN</td>\n",
       "      <td>None</td>\n",
       "    </tr>\n",
       "    <tr>\n",
       "      <th>1</th>\n",
       "      <td>46</td>\n",
       "      <td>3100003</td>\n",
       "      <td>AR33196</td>\n",
       "      <td>Médicaments</td>\n",
       "      <td>ABACAVIR / LAMIVUDINE 600/300 mg comp. bte/30</td>\n",
       "      <td>Produit non traceur</td>\n",
       "      <td>30</td>\n",
       "      <td>BOITE/30</td>\n",
       "      <td>COMPRIME</td>\n",
       "      <td>None</td>\n",
       "      <td>None</td>\n",
       "      <td>PNLS</td>\n",
       "      <td>750</td>\n",
       "      <td>46</td>\n",
       "      <td>2023-08-01</td>\n",
       "      <td>55.0</td>\n",
       "      <td>NaN</td>\n",
       "      <td>NaN</td>\n",
       "      <td>NaN</td>\n",
       "      <td>NaN</td>\n",
       "      <td>None</td>\n",
       "    </tr>\n",
       "    <tr>\n",
       "      <th>2</th>\n",
       "      <td>47</td>\n",
       "      <td>3100005</td>\n",
       "      <td>AR33194</td>\n",
       "      <td>Médicaments</td>\n",
       "      <td>ABACAVIR / LAMIVUDINE/DOLUTEGRAVIR 600 mg / 30...</td>\n",
       "      <td>Produit non traceur</td>\n",
       "      <td>30</td>\n",
       "      <td>BOITE/30</td>\n",
       "      <td>None</td>\n",
       "      <td>None</td>\n",
       "      <td>None</td>\n",
       "      <td>PNLS</td>\n",
       "      <td>751</td>\n",
       "      <td>47</td>\n",
       "      <td>2023-08-01</td>\n",
       "      <td>NaN</td>\n",
       "      <td>NaN</td>\n",
       "      <td>NaN</td>\n",
       "      <td>NaN</td>\n",
       "      <td>NaN</td>\n",
       "      <td>None</td>\n",
       "    </tr>\n",
       "    <tr>\n",
       "      <th>3</th>\n",
       "      <td>48</td>\n",
       "      <td>3100004</td>\n",
       "      <td>AR33195</td>\n",
       "      <td>Médicaments</td>\n",
       "      <td>ABACAVIR 300 mg comp. bte/60</td>\n",
       "      <td>Produit non traceur</td>\n",
       "      <td>60</td>\n",
       "      <td>BOITE/60</td>\n",
       "      <td>COMPRIME</td>\n",
       "      <td>None</td>\n",
       "      <td>None</td>\n",
       "      <td>PNLS</td>\n",
       "      <td>752</td>\n",
       "      <td>48</td>\n",
       "      <td>2023-08-01</td>\n",
       "      <td>0.0</td>\n",
       "      <td>NaN</td>\n",
       "      <td>NaN</td>\n",
       "      <td>NaN</td>\n",
       "      <td>NaN</td>\n",
       "      <td>None</td>\n",
       "    </tr>\n",
       "  </tbody>\n",
       "</table>\n",
       "</div>"
      ],
      "text/plain": [
       "   id_produit_stock_track_pk  nouveau_code     code sous_groupes  \\\n",
       "0                         45       3100001  AR33198  Médicaments   \n",
       "1                         46       3100003  AR33196  Médicaments   \n",
       "2                         47       3100005  AR33194  Médicaments   \n",
       "3                         48       3100004  AR33195  Médicaments   \n",
       "\n",
       "                                 designation_produit            categorie  \\\n",
       "0  ABACAVIR / LAMIVUDINE 120/60 mg comp disp. bte/30      Produit traceur   \n",
       "1      ABACAVIR / LAMIVUDINE 600/300 mg comp. bte/30  Produit non traceur   \n",
       "2  ABACAVIR / LAMIVUDINE/DOLUTEGRAVIR 600 mg / 30...  Produit non traceur   \n",
       "3                       ABACAVIR 300 mg comp. bte/60  Produit non traceur   \n",
       "\n",
       "   cdtmt unit_niveau_central unit_niveau_peripherique  \\\n",
       "0     30            BOITE/30                 COMPRIME   \n",
       "1     30            BOITE/30                 COMPRIME   \n",
       "2     30            BOITE/30                     None   \n",
       "3     60            BOITE/60                 COMPRIME   \n",
       "\n",
       "          designation_acronym code_qat programme  id_stock_track_dmm_pk  \\\n",
       "0  ABC/3TC 120/60MG CP BTE/30     None      PNLS                    749   \n",
       "1                        None     None      PNLS                    750   \n",
       "2                        None     None      PNLS                    751   \n",
       "3                        None     None      PNLS                    752   \n",
       "\n",
       "   id_produit_stock_track_fk date_report     dmm  nbre_mois_consideres  \\\n",
       "0                         45  2023-08-01  4293.0                   NaN   \n",
       "1                         46  2023-08-01    55.0                   NaN   \n",
       "2                         47  2023-08-01     NaN                   NaN   \n",
       "3                         48  2023-08-01     0.0                   NaN   \n",
       "\n",
       "   distributions_mois_consideres  dmm_calculee_valider  dmm_validee_precedent  \\\n",
       "0                            NaN                   NaN                    NaN   \n",
       "1                            NaN                   NaN                    NaN   \n",
       "2                            NaN                   NaN                    NaN   \n",
       "3                            NaN                   NaN                    NaN   \n",
       "\n",
       "  commentaire  \n",
       "0        None  \n",
       "1        None  \n",
       "2        None  \n",
       "3        None  "
      ]
     },
     "execution_count": 16,
     "metadata": {},
     "output_type": "execute_result"
    }
   ],
   "source": [
    "df_dmm_global = pd.read_sql(\n",
    "    f\"\"\"\n",
    "    SELECT prod.*, st_dmm.* FROM {schema_name}.stock_track_dmm st_dmm\n",
    "    INNER JOIN {schema_name}.dim_produit_stock_track prod ON st_dmm.id_produit_stock_track_fk = prod.id_produit_stock_track_pk\n",
    "    WHERE prod.programme='{programme}'\"\"\", db_ops.civ_engine)\n",
    "\n",
    "df_dmm_global['date_report'] = pd.to_datetime(df_dmm_global['date_report'])\n",
    "\n",
    "df_dmm_global.head(4)"
   ]
  },
  {
   "cell_type": "markdown",
   "id": "859fcbb4-8144-4493-b32b-366cde335e32",
   "metadata": {},
   "source": [
    "* `df_cmm_global`: contient l'historique des cmm pour le programme spécifique"
   ]
  },
  {
   "cell_type": "code",
   "execution_count": 17,
   "id": "e8b7fe14-1cf4-4b86-897d-83f9175b9165",
   "metadata": {},
   "outputs": [
    {
     "data": {
      "text/html": [
       "<div>\n",
       "<style scoped>\n",
       "    .dataframe tbody tr th:only-of-type {\n",
       "        vertical-align: middle;\n",
       "    }\n",
       "\n",
       "    .dataframe tbody tr th {\n",
       "        vertical-align: top;\n",
       "    }\n",
       "\n",
       "    .dataframe thead th {\n",
       "        text-align: right;\n",
       "    }\n",
       "</style>\n",
       "<table border=\"1\" class=\"dataframe\">\n",
       "  <thead>\n",
       "    <tr style=\"text-align: right;\">\n",
       "      <th></th>\n",
       "      <th>id_produit_stock_track_pk</th>\n",
       "      <th>nouveau_code</th>\n",
       "      <th>code</th>\n",
       "      <th>sous_groupes</th>\n",
       "      <th>designation_produit</th>\n",
       "      <th>categorie</th>\n",
       "      <th>cdtmt</th>\n",
       "      <th>unit_niveau_central</th>\n",
       "      <th>unit_niveau_peripherique</th>\n",
       "      <th>designation_acronym</th>\n",
       "      <th>code_qat</th>\n",
       "      <th>programme</th>\n",
       "      <th>id_stock_track_cmm_pk</th>\n",
       "      <th>id_produit_stock_track_fk</th>\n",
       "      <th>date_report</th>\n",
       "      <th>cmm</th>\n",
       "      <th>nbre_mois_consideres</th>\n",
       "      <th>distributions_mois_consideres</th>\n",
       "      <th>cmm_calculee_valider</th>\n",
       "      <th>cmm_validee_precedent</th>\n",
       "      <th>commentaire</th>\n",
       "    </tr>\n",
       "  </thead>\n",
       "  <tbody>\n",
       "    <tr>\n",
       "      <th>0</th>\n",
       "      <td>45</td>\n",
       "      <td>3100001</td>\n",
       "      <td>AR33198</td>\n",
       "      <td>Médicaments</td>\n",
       "      <td>ABACAVIR / LAMIVUDINE 120/60 mg comp disp. bte/30</td>\n",
       "      <td>Produit traceur</td>\n",
       "      <td>30</td>\n",
       "      <td>BOITE/30</td>\n",
       "      <td>COMPRIME</td>\n",
       "      <td>ABC/3TC 120/60MG CP BTE/30</td>\n",
       "      <td>None</td>\n",
       "      <td>PNLS</td>\n",
       "      <td>749</td>\n",
       "      <td>45</td>\n",
       "      <td>2023-08-01</td>\n",
       "      <td>9752.0</td>\n",
       "      <td>NaN</td>\n",
       "      <td>NaN</td>\n",
       "      <td>NaN</td>\n",
       "      <td>NaN</td>\n",
       "      <td>None</td>\n",
       "    </tr>\n",
       "    <tr>\n",
       "      <th>1</th>\n",
       "      <td>46</td>\n",
       "      <td>3100003</td>\n",
       "      <td>AR33196</td>\n",
       "      <td>Médicaments</td>\n",
       "      <td>ABACAVIR / LAMIVUDINE 600/300 mg comp. bte/30</td>\n",
       "      <td>Produit non traceur</td>\n",
       "      <td>30</td>\n",
       "      <td>BOITE/30</td>\n",
       "      <td>COMPRIME</td>\n",
       "      <td>None</td>\n",
       "      <td>None</td>\n",
       "      <td>PNLS</td>\n",
       "      <td>750</td>\n",
       "      <td>46</td>\n",
       "      <td>2023-08-01</td>\n",
       "      <td>2970.0</td>\n",
       "      <td>NaN</td>\n",
       "      <td>NaN</td>\n",
       "      <td>NaN</td>\n",
       "      <td>NaN</td>\n",
       "      <td>None</td>\n",
       "    </tr>\n",
       "    <tr>\n",
       "      <th>2</th>\n",
       "      <td>47</td>\n",
       "      <td>3100005</td>\n",
       "      <td>AR33194</td>\n",
       "      <td>Médicaments</td>\n",
       "      <td>ABACAVIR / LAMIVUDINE/DOLUTEGRAVIR 600 mg / 30...</td>\n",
       "      <td>Produit non traceur</td>\n",
       "      <td>30</td>\n",
       "      <td>BOITE/30</td>\n",
       "      <td>None</td>\n",
       "      <td>None</td>\n",
       "      <td>None</td>\n",
       "      <td>PNLS</td>\n",
       "      <td>751</td>\n",
       "      <td>47</td>\n",
       "      <td>2023-08-01</td>\n",
       "      <td>NaN</td>\n",
       "      <td>NaN</td>\n",
       "      <td>NaN</td>\n",
       "      <td>NaN</td>\n",
       "      <td>NaN</td>\n",
       "      <td>None</td>\n",
       "    </tr>\n",
       "    <tr>\n",
       "      <th>3</th>\n",
       "      <td>48</td>\n",
       "      <td>3100004</td>\n",
       "      <td>AR33195</td>\n",
       "      <td>Médicaments</td>\n",
       "      <td>ABACAVIR 300 mg comp. bte/60</td>\n",
       "      <td>Produit non traceur</td>\n",
       "      <td>60</td>\n",
       "      <td>BOITE/60</td>\n",
       "      <td>COMPRIME</td>\n",
       "      <td>None</td>\n",
       "      <td>None</td>\n",
       "      <td>PNLS</td>\n",
       "      <td>752</td>\n",
       "      <td>48</td>\n",
       "      <td>2023-08-01</td>\n",
       "      <td>77.0</td>\n",
       "      <td>NaN</td>\n",
       "      <td>NaN</td>\n",
       "      <td>NaN</td>\n",
       "      <td>NaN</td>\n",
       "      <td>None</td>\n",
       "    </tr>\n",
       "  </tbody>\n",
       "</table>\n",
       "</div>"
      ],
      "text/plain": [
       "   id_produit_stock_track_pk  nouveau_code     code sous_groupes  \\\n",
       "0                         45       3100001  AR33198  Médicaments   \n",
       "1                         46       3100003  AR33196  Médicaments   \n",
       "2                         47       3100005  AR33194  Médicaments   \n",
       "3                         48       3100004  AR33195  Médicaments   \n",
       "\n",
       "                                 designation_produit            categorie  \\\n",
       "0  ABACAVIR / LAMIVUDINE 120/60 mg comp disp. bte/30      Produit traceur   \n",
       "1      ABACAVIR / LAMIVUDINE 600/300 mg comp. bte/30  Produit non traceur   \n",
       "2  ABACAVIR / LAMIVUDINE/DOLUTEGRAVIR 600 mg / 30...  Produit non traceur   \n",
       "3                       ABACAVIR 300 mg comp. bte/60  Produit non traceur   \n",
       "\n",
       "   cdtmt unit_niveau_central unit_niveau_peripherique  \\\n",
       "0     30            BOITE/30                 COMPRIME   \n",
       "1     30            BOITE/30                 COMPRIME   \n",
       "2     30            BOITE/30                     None   \n",
       "3     60            BOITE/60                 COMPRIME   \n",
       "\n",
       "          designation_acronym code_qat programme  id_stock_track_cmm_pk  \\\n",
       "0  ABC/3TC 120/60MG CP BTE/30     None      PNLS                    749   \n",
       "1                        None     None      PNLS                    750   \n",
       "2                        None     None      PNLS                    751   \n",
       "3                        None     None      PNLS                    752   \n",
       "\n",
       "   id_produit_stock_track_fk date_report     cmm  nbre_mois_consideres  \\\n",
       "0                         45  2023-08-01  9752.0                   NaN   \n",
       "1                         46  2023-08-01  2970.0                   NaN   \n",
       "2                         47  2023-08-01     NaN                   NaN   \n",
       "3                         48  2023-08-01    77.0                   NaN   \n",
       "\n",
       "   distributions_mois_consideres  cmm_calculee_valider  cmm_validee_precedent  \\\n",
       "0                            NaN                   NaN                    NaN   \n",
       "1                            NaN                   NaN                    NaN   \n",
       "2                            NaN                   NaN                    NaN   \n",
       "3                            NaN                   NaN                    NaN   \n",
       "\n",
       "  commentaire  \n",
       "0        None  \n",
       "1        None  \n",
       "2        None  \n",
       "3        None  "
      ]
     },
     "execution_count": 17,
     "metadata": {},
     "output_type": "execute_result"
    }
   ],
   "source": [
    "df_cmm_global = pd.read_sql(\n",
    "    f\"\"\"\n",
    "    SELECT prod.*, st_cmm.* FROM {schema_name}.stock_track_cmm st_cmm\n",
    "    INNER JOIN {schema_name}.dim_produit_stock_track prod ON st_cmm.id_produit_stock_track_fk = prod.id_produit_stock_track_pk\n",
    "    WHERE prod.programme='{programme}'\"\"\", db_ops.civ_engine)\n",
    "\n",
    "df_cmm_global['date_report'] = pd.to_datetime(df_cmm_global['date_report'])\n",
    "\n",
    "df_cmm_global.head(4)"
   ]
  },
  {
   "cell_type": "code",
   "execution_count": 18,
   "id": "fd06e767-11d3-450c-b6e3-90036249ad44",
   "metadata": {},
   "outputs": [
    {
     "name": "stdout",
     "output_type": "stream",
     "text": [
      "CPU times: user 7.33 s, sys: 20.1 ms, total: 7.35 s\n",
      "Wall time: 7.35 s\n"
     ]
    }
   ],
   "source": [
    "%%time\n",
    "wb_template = gstf.update_sheet_annexe_1(wb_template, date_report, df_cmm_global, df_dmm_global, df_produit)"
   ]
  },
  {
   "cell_type": "markdown",
   "id": "59d78277-9bb3-4658-9072-721126f4cdfc",
   "metadata": {},
   "source": [
    "# Mise à jour des données en se basant sur la source `Annexe 2 - Suivi de Stock`"
   ]
  },
  {
   "cell_type": "code",
   "execution_count": 19,
   "id": "dfe1aac0-8987-41ef-a93e-3575b4ea26b5",
   "metadata": {},
   "outputs": [
    {
     "name": "stdout",
     "output_type": "stream",
     "text": [
      "CPU times: user 1.45 s, sys: 9.02 ms, total: 1.46 s\n",
      "Wall time: 1.46 s\n"
     ]
    }
   ],
   "source": [
    "%%time\n",
    "\n",
    "wb_template = gstf.update_sheet_annexe_2(wb_template, df_plan_approv.copy(), date_report)"
   ]
  },
  {
   "cell_type": "markdown",
   "id": "d03cc800-9fc9-41e4-ace8-27df6521ee86",
   "metadata": {},
   "source": [
    "# Mise à jour des données de la feuille `Repertoire Produit`"
   ]
  },
  {
   "cell_type": "code",
   "execution_count": 20,
   "id": "2a17652e-50a0-40bd-ae18-197df29ef772",
   "metadata": {
    "jupyter": {
     "source_hidden": true
    }
   },
   "outputs": [],
   "source": [
    "%%script false --no-raise-error\n",
    "\n",
    "db_ops.civ_cursor.execute(f\"\"\"\n",
    "    DROP TABLE IF EXISTS {schema_name}.stock_track_repertoire_prod CASCADE;\n",
    "    CREATE TABLE {schema_name}.stock_track_repertoire_prod(\n",
    "    id_stock_track_repertoire_prod_pk SERIAL PRIMARY KEY,\n",
    "    programme_contract VARCHAR(20),\n",
    "    sous_programme VARCHAR(250),\n",
    "    code_pipeline VARCHAR(250),\n",
    "    code_qat VARCHAR(250),\n",
    "    standard_product_code VARCHAR(250),\n",
    "    code_x_3 BIGINT,\n",
    "    designation_produit TEXT,\n",
    "    categorie VARCHAR(100),\n",
    "    unit_niveau_central VARCHAR(250),\n",
    "    unit_niveau_peripherique VARCHAR(250),\n",
    "    conditionnement INTEGER,\n",
    "    acronym VARCHAR(250),\n",
    "    cout_unitaire REAL,\n",
    "    programme VARCHAR(20) REFERENCES {schema_name}.dim_programme(\"Programme\") ON DELETE CASCADE,\n",
    "    CONSTRAINT unique_stock_track_repertoire_prod UNIQUE (id_stock_track_repertoire_prod_pk)\n",
    "    );\n",
    "\"\"\")\n",
    "\n",
    "db_ops.conn.commit()"
   ]
  },
  {
   "cell_type": "code",
   "execution_count": 21,
   "id": "12326587-8eac-42e8-8998-3a52c043ff9e",
   "metadata": {
    "jupyter": {
     "source_hidden": true
    }
   },
   "outputs": [],
   "source": [
    "%%script false --no-raise-error\n",
    "\n",
    "df_repertoire_prod = pd.read_excel(\"/home/jovyan/workspace/automating_dap_tools/data/stock_tracking_file/folder_by_month/Juin 2024/Fichier Suivi de Stock PNLS - Juin 2024.xlsx\",\n",
    "                                   sheet_name='Repertoire_Prod')\n",
    "\n",
    "df_repertoire_prod.rename(columns={\n",
    "    'Programme': 'programme_contract',\n",
    "    'Sous-programme': 'sous_programme',\n",
    "    'Code Pipeline': 'code_pipeline',\n",
    "    'Standard product code': 'standard_product_code',\n",
    "    'Code X3': 'code_x_3',\n",
    "    'Désignation': 'designation_produit',\n",
    "    'Categorie': 'categorie',\n",
    "    'Unité niv central': 'unit_niveau_central',\n",
    "    'Unité niv périphérique': 'unit_niveau_peripherique',\n",
    "    'Conditionnement': 'conditionnement',\n",
    "    'Acronym': 'acronym',\n",
    "    'Cout Unitaire': 'cout_unitaire'\n",
    "}, inplace=True\n",
    ")\n",
    "\n",
    "df_repertoire_prod.head(3)"
   ]
  },
  {
   "cell_type": "code",
   "execution_count": 22,
   "id": "c9c453f0-4ddc-467a-a123-c60405692cfe",
   "metadata": {
    "jupyter": {
     "source_hidden": true
    }
   },
   "outputs": [],
   "source": [
    "%%script false --no-raise-error\n",
    "df_repertoire_prod['code_x_3'] = df_repertoire_prod['code_x_3'].apply(lambda x: int(x) if not pd.isna(x) else x).astype(float)\n",
    "df_repertoire_prod = df_repertoire_prod.map(lambda x: x.lstrip().rstrip() if isinstance(x, str) else x)\n",
    "df_repertoire_prod['cout_unitaire'] = df_repertoire_prod['cout_unitaire'].replace('', np.NaN).astype(float)"
   ]
  },
  {
   "cell_type": "code",
   "execution_count": 23,
   "id": "2e6fa613-14f2-48a8-a7f4-8526cae7fe16",
   "metadata": {
    "jupyter": {
     "source_hidden": true
    }
   },
   "outputs": [],
   "source": [
    "%%script false --no-raise-error\n",
    "\n",
    "df_repertoire_prod['programme'] = programme\n",
    "\n",
    "df_repertoire_prod.drop_duplicates()\\\n",
    "                  .to_sql('stock_track_repertoire_prod', con = db_ops.civ_engine, schema=schema_name, index=False, if_exists='append')\n",
    "\n",
    "db_ops.civ_engine.dispose()"
   ]
  },
  {
   "cell_type": "code",
   "execution_count": 24,
   "id": "a01b8ef4-81ae-4a9f-9025-99da6b834cf2",
   "metadata": {
    "jupyter": {
     "source_hidden": true
    }
   },
   "outputs": [],
   "source": [
    "%%script false --no-raise-error\n",
    "df_repertoire_prod = pd.read_sql(f\"SELECT * FROM {schema_name}.stock_track_repertoire_prod where programme='{programme}'\", db_ops.civ_engine)\n",
    "\n",
    "df_repertoire_prod = df_repertoire_prod[[col for col in df_repertoire_prod.columns if col not in ('programme', 'id_stock_track_repertoire_prod_pk', 'code_qat')]]\n",
    "\n",
    "df_repertoire_prod.rename(\n",
    "    columns={\n",
    "        'programme_contract': 'Programme',\n",
    "        'sous_programme': 'Sous-programme',\n",
    "        'code_pipeline': 'Code Pipeline',\n",
    "        'standard_product_code': 'Standard product code',\n",
    "        'code_x_3': 'Code X3',\n",
    "        'designation_produit': 'Désignation',\n",
    "        'categorie': 'Categorie',\n",
    "        'unit_niveau_central': 'Unité niv central',\n",
    "        'unit_niveau_peripherique': 'Unité niv périphérique',\n",
    "        'conditionnement': 'Conditionnement',\n",
    "        'acronym': 'Acronym',\n",
    "        'cout_unitaire': 'Cout Unitaire'\n",
    "    }, inplace = True\n",
    ")\n",
    "\n",
    "df_repertoire_prod['Code X3'] = df_repertoire_prod['Code X3'].apply(lambda x: int(x) if not pd.isna(x) else x)\n",
    "df_repertoire_prod.head()"
   ]
  },
  {
   "cell_type": "code",
   "execution_count": 25,
   "id": "75f37bc9-d8e6-49d3-851f-0e4f75b0eb0e",
   "metadata": {
    "jupyter": {
     "source_hidden": true
    }
   },
   "outputs": [],
   "source": [
    "%%script false --no-raise-error\n",
    "\n",
    "ws_repertoire_prod = wb_template['Repertoire_Prod']\n",
    "\n",
    "header_row = list(ws_repertoire_prod.iter_rows(max_row=1,max_col=gstf.column_index_from_string('L')))[0]\n",
    "cols_df_rep_prod = list(df_repertoire_prod.columns)\n",
    "dico_cols = {}\n",
    "\n",
    "for cell in header_row:\n",
    "    if cell.value.rstrip() in cols_df_rep_prod:\n",
    "        dico_cols[cell.value.rstrip()] = [\n",
    "            cell.column_letter, cell.col_idx,\n",
    "            cols_df_rep_prod.index(cell.value.rstrip()),\n",
    "            max([len(val) for val in df_repertoire_prod[cell.value.rstrip()].astype(str)])\n",
    "        ]\n",
    "\n",
    "font = gstf.Font(name='Arial Narrow', size=11)\n",
    "alignment = gstf.Alignment(horizontal='left', vertical='center', wrap_text=True)\n",
    "fill_first = gstf.PatternFill(start_color=\"FFE2EFDA\", end_color=\"FFE2EFDA\", fill_type=\"solid\")\n",
    "fill_second = gstf.PatternFill(start_color=\"FFB4C6E7\", end_color=\"FFB4C6E7\", fill_type=\"solid\")\n",
    "side = gstf.Side(style='thin', color='FF6eb4da')\n",
    "border = gstf.Border(left=side, right=side, bottom=side)\n",
    "\n",
    "number_format_cols = {\n",
    "    'Cout Unitaire': '0.0',\n",
    "    'Code X3': '0',\n",
    "    'Conditionnement': '0',\n",
    "}\n",
    "\n",
    "for start, row in enumerate(gstf.dataframe_to_rows(df_repertoire_prod, index=False, header=False), start=1):\n",
    "    for col, element in dico_cols.items():\n",
    "        cell = ws_repertoire_prod.cell(row=start+1, column=element[1], value=row[element[2]])\n",
    "        cell.font = font\n",
    "        cell.border = border\n",
    "        cell.alignment = alignment\n",
    "        cell.fill = fill_first if start%2!=0 else fill_second\n",
    "        if col in number_format_cols:\n",
    "            cell.number_format = number_format_cols[col]"
   ]
  },
  {
   "cell_type": "code",
   "execution_count": 26,
   "id": "8ce89a75-d429-49d9-b012-88ebeb2a9423",
   "metadata": {},
   "outputs": [],
   "source": [
    "df_repertoire_prod = pd.read_sql(f\"SELECT * FROM {schema_name}.stock_track_repertoire_prod where programme='{programme}'\", db_ops.civ_engine)"
   ]
  },
  {
   "cell_type": "code",
   "execution_count": 27,
   "id": "12ce41db-3713-44de-8d97-08575746dce2",
   "metadata": {},
   "outputs": [
    {
     "name": "stdout",
     "output_type": "stream",
     "text": [
      "CPU times: user 269 ms, sys: 3.01 ms, total: 272 ms\n",
      "Wall time: 270 ms\n"
     ]
    }
   ],
   "source": [
    "%%time\n",
    "wb_template = gstf.update_sheet_repertoire_prod(wb_template, df_repertoire_prod)"
   ]
  },
  {
   "cell_type": "markdown",
   "id": "0101f4f0-164a-4075-99e3-777ba962a3fd",
   "metadata": {},
   "source": [
    "# Mise à jour des données en se basant sur la source `Prévision`"
   ]
  },
  {
   "cell_type": "code",
   "execution_count": 28,
   "id": "6a683a6f-0761-4be1-a7ed-a09951b0de76",
   "metadata": {},
   "outputs": [
    {
     "name": "stdout",
     "output_type": "stream",
     "text": [
      "CPU times: user 4 µs, sys: 0 ns, total: 4 µs\n",
      "Wall time: 8.34 µs\n"
     ]
    }
   ],
   "source": [
    "%time\n",
    "\n",
    "wb_template = gstf.update_sheet_prevision(wb_template, date_report, df_produit.loc[df_produit.categorie == 'Produit traceur', ['nouveau_code', 'designation_produit']])"
   ]
  },
  {
   "cell_type": "markdown",
   "id": "73e4e19f-7783-4e06-992b-9b7ad8eba0c3",
   "metadata": {},
   "source": [
    "## Mise à jour de certains éléments de la feuille `Rapport`"
   ]
  },
  {
   "cell_type": "code",
   "execution_count": 29,
   "id": "50e1e8fb-556a-4aaf-bac2-422c712aca58",
   "metadata": {},
   "outputs": [],
   "source": [
    "ws_rapport = wb_template['Rapport']"
   ]
  },
  {
   "cell_type": "code",
   "execution_count": 30,
   "id": "5da54db0-9994-45d4-b638-6a2cea031ed2",
   "metadata": {},
   "outputs": [],
   "source": [
    "ws_rapport['D4'].value = programme\n",
    "ws_rapport['D6'].value = gstf.get_current_variable(date_report)[1].split()[0].capitalize()\n",
    "ws_rapport['E6'].value = gstf.get_current_variable(date_report)[1].split()[1]"
   ]
  },
  {
   "cell_type": "markdown",
   "id": "c6ed5d05-c0be-4900-9f47-00b19558bc34",
   "metadata": {},
   "source": [
    "# Exportation du `Workbook`"
   ]
  },
  {
   "cell_type": "code",
   "execution_count": 31,
   "id": "19015783-e0e7-4e01-add8-3743fb8d51aa",
   "metadata": {},
   "outputs": [
    {
     "name": "stdout",
     "output_type": "stream",
     "text": [
      "CPU times: user 8.15 s, sys: 211 ms, total: 8.36 s\n",
      "Wall time: 9.75 s\n"
     ]
    }
   ],
   "source": [
    "%%time\n",
    "wb_template.save(\n",
    "    filename=f\"/home/jovyan/workspace/automating_dap_tools/data/stock_tracking_file/Export Fichier Suivi de Stock/Fichier Suivi de Stock {programme}.xlsx\"\n",
    ")"
   ]
  },
  {
   "cell_type": "markdown",
   "id": "3d7b22cc-298a-4a4e-8261-68d1d170a597",
   "metadata": {
    "jp-MarkdownHeadingCollapsed": true
   },
   "source": [
    "# Draft"
   ]
  },
  {
   "cell_type": "code",
   "execution_count": 30,
   "id": "fe7acae0-b12c-41c4-a89f-369a82777ef9",
   "metadata": {},
   "outputs": [],
   "source": [
    "# wb_template = pyxl.load_workbook(\n",
    "#     filename=\"/home/jovyan/workspace/automating_dap_tools/data/stock_tracking_file/Export Fichier Suivi de Stock/Fichier Suivi de Stock PNLS.xlsx\"\n",
    "# )"
   ]
  },
  {
   "cell_type": "code",
   "execution_count": 31,
   "id": "b691bb0d-3ad9-43ed-8a2f-0ff288118bab",
   "metadata": {},
   "outputs": [],
   "source": [
    "%%script false --no-raise-error\n",
    "\n",
    "df_produit_stock = pd.read_sql(f\"SELECT * FROM {schema_name}.dim_produit_stock_track where programme='{programme}'\", db_ops.civ_engine)\n",
    "\n",
    "df_produit_stock.head(2)"
   ]
  },
  {
   "cell_type": "code",
   "execution_count": 32,
   "id": "1c7337d2-deb5-4f2f-b649-01ba905a6540",
   "metadata": {
    "jupyter": {
     "source_hidden": true
    }
   },
   "outputs": [],
   "source": [
    "# Ce qui était fait avant\n",
    "# df_repertoire_prod = df_repertoire_prod.loc[df_repertoire_prod.code_x_3.notna()].drop_duplicates()\n",
    "\n",
    "# df_repertoire_prod['code_qat'] = df_repertoire_prod['code_qat'].astype(float)\n",
    "\n",
    "# assert df_plan_approv.merge(\n",
    "#     df_repertoire_prod[['code_qat', 'code_x_3']],\n",
    "#     left_on='ID de produit QAT / Identifiant de produit (prévision)', right_on='code_qat',\n",
    "#     how='left').shape[0] == df_plan_approv.shape[0]\n",
    "\n",
    "# df_plan_approv = df_plan_approv.merge(\n",
    "#     df_repertoire_prod[['code_qat', 'code_x_3']],\n",
    "#     left_on='ID de produit QAT / Identifiant de produit (prévision)', right_on='code_qat',\n",
    "#     how='left')\n",
    "\n",
    "# df_plan_approv.drop(columns=['code_qat'], inplace=True)\n",
    "# df_plan_approv.loc[df_plan_approv.code_x_3.notna()].head(3)\n",
    "\n",
    "# df_produit_stock['code_qat'] = df_produit_stock['code_qat'].astype(float)\n",
    "\n",
    "# assert df_plan_approv.merge(\n",
    "#     df_produit_stock[['code_qat', 'nouveau_code']].rename(columns={'nouveau_code':'code_x_3'}),\n",
    "#     left_on='ID de produit QAT / Identifiant de produit (prévision)', right_on='code_qat',\n",
    "#     how='left').shape[0] == df_plan_approv.shape[0]\n",
    "\n",
    "# df_plan_approv = df_plan_approv.merge(\n",
    "#     df_produit_stock[['code_qat', 'nouveau_code']].rename(columns={'nouveau_code':'code_x_3'}),\n",
    "#     left_on='ID de produit QAT / Identifiant de produit (prévision)', right_on='code_qat',\n",
    "#     how='left')\n",
    "\n",
    "# df_plan_approv.drop(columns=['code_qat'], inplace=True)\n",
    "\n",
    "# df_plan_approv.loc[df_plan_approv.code_x_3.notna()].head(3)"
   ]
  },
  {
   "cell_type": "code",
   "execution_count": 33,
   "id": "cf3d2a1b-4967-4ac3-99f7-df3e33ba4388",
   "metadata": {},
   "outputs": [],
   "source": [
    "assert df_plan_approv.merge(\n",
    "    df_map_prod_pnls,\n",
    "    on='ID de produit QAT / Identifiant de produit (prévision)',\n",
    "    how='left').shape[0] == df_plan_approv.shape[0]\n",
    "\n",
    "df_plan_approv = df_plan_approv.merge(\n",
    "    df_map_prod_pnls,\n",
    "    on='ID de produit QAT / Identifiant de produit (prévision)',\n",
    "    how='left')"
   ]
  },
  {
   "cell_type": "code",
   "execution_count": 34,
   "id": "799e9166-c132-4430-afa9-030718ee7114",
   "metadata": {
    "jupyter": {
     "source_hidden": true
    }
   },
   "outputs": [],
   "source": [
    "%%script false --no-raise-error\n",
    "\n",
    "df_plan_approv.rename(\n",
    "    columns={\n",
    "        'code_x_3': 'Standard product code',\n",
    "        'Agent d`approvisionnement': \"Centrale d'achat\",\n",
    "        'Source de financement': \"Source Financement\",\n",
    "        \"Produit (planification) / Produit (prévision)\": 'Produits',\n",
    "        'date de réception': 'DATE',\n",
    "        'Quantité': 'Quantite',\n",
    "        'État': 'Status',\n",
    "        'Coût unitaire de produit (USD)': 'Cout des Produits',\n",
    "        'Coût du fret (USD)': 'Couts du fret',\n",
    "        'Coût total (USD)': 'Couts totaux',\n",
    "    }, inplace=True)\n",
    "\n",
    "# Mise à jour de la feuille plan d'approvisionement\n",
    "ws_plan_approv = wb_template['Plan dappro']\n",
    "\n",
    "header_row = list(ws_plan_approv.iter_rows(max_col=gstf.column_index_from_string('Q')))[0]\n",
    "\n",
    "dico_formules = {\n",
    "    'E': \"=IFERROR(VLOOKUP(A{start},Repertoire_Prod!$E${start}:$G$315,3,FALSE),\\\"\\\")\", #'categorie'\n",
    "    'L': \"=IF(AND(H{start}=\\\"planifié\\\",(F{start}-TODAY())<90),\\\"Risk of delay\\\",\\\"Ok\\\")\", #'Alert?'\n",
    "    'M': \"=IFERROR(VLOOKUP(A{start},Repertoire_Prod!$E${start}:$K$315,7,FALSE),\\\"\\\")\", #'Acronym'\n",
    "    'N': \"=TEXT(F{start},\\\"mmm\\\") & \\\"-\\\" &  YEAR(F{start})\", # 'Date updated'\n",
    "    'O': \"=IF(H{start}=\\\"\\\",\\\"\\\",IF(H{start}=\\\"Reçu\\\", 1, 0))\", #'Received?'\n",
    "    'P': \"=A{start}&\\\"_\\\"&F{start}\", # concatenation du code et de la date\n",
    "}\n",
    "\n",
    "cols_df_plan_approv = list(df_plan_approv.columns)\n",
    "dico_cols = {}\n",
    "\n",
    "for cell in header_row:\n",
    "    if cell.value is None:\n",
    "        continue\n",
    "    if cell.value.rstrip().lstrip() in cols_df_plan_approv:\n",
    "        dico_cols[cell.value.rstrip().lstrip()] = [\n",
    "            cell.column_letter, cell.col_idx,\n",
    "            cols_df_plan_approv.index(cell.value.rstrip().lstrip()),\n",
    "            max([len(val) for val in df_plan_approv[cell.value.rstrip().lstrip()].astype(str)])\n",
    "        ]"
   ]
  },
  {
   "cell_type": "code",
   "execution_count": 35,
   "id": "e58bc342-d2d0-441e-b88b-64468126debb",
   "metadata": {
    "jupyter": {
     "source_hidden": true
    }
   },
   "outputs": [],
   "source": [
    "%%script false --no-raise-error\n",
    "\n",
    "font = gstf.Font(name='Arial Narrow', size=11)\n",
    "fill = gstf.PatternFill(start_color=\"FFD9E2F3\", fill_type=\"solid\")\n",
    "alignment = gstf.Alignment(horizontal='left', vertical='center')\n",
    "alignment_two = gstf.alignment_two\n",
    "date_style = gstf.NamedStyle(name='date_style_pa', number_format='DD/MM/YYYY')\n",
    "number_format_cols = {\n",
    "    'Standard product code': '0',\n",
    "    'Quantite': '0',\n",
    "    'Cout des Produits': '0.00',\n",
    "    'Couts du fret': '0.00',\n",
    "    'Couts totaux': '0.00'\n",
    "}\n",
    "for start, row in enumerate(gstf.dataframe_to_rows(df_plan_approv, index=False, header=False), start=2):\n",
    "    for col, element in dico_cols.items():\n",
    "        cell = ws_plan_approv.cell(row=start, column=element[1], value= row[element[2]])\n",
    "        cell.font = font\n",
    "        cell.border = gstf.border\n",
    "        cell.alignment = gstf.alignment_two if col not in ('Produits', 'Status') else alignment\n",
    "        if col in ('Standard product code', 'DATE', 'Status'):\n",
    "            cell.fill = fill \n",
    "        if col=='DATE':\n",
    "            cell.style = date_style\n",
    "            cell.border = gstf.border\n",
    "        if col in number_format_cols:\n",
    "            cell.number_format = number_format_cols[col]\n",
    "\n",
    "    for col, formula in dico_formules.items():\n",
    "        cell = ws_plan_approv.cell(row=start, column=gstf.column_index_from_string(col), value=formula.format(start=start))\n",
    "        cell.font = font\n",
    "        cell.alignment = alignment\n",
    "        cell.border = gstf.border"
   ]
  }
 ],
 "metadata": {
  "kernelspec": {
   "display_name": "Python 3 (ipykernel)",
   "language": "python",
   "name": "python3"
  },
  "language_info": {
   "codemirror_mode": {
    "name": "ipython",
    "version": 3
   },
   "file_extension": ".py",
   "mimetype": "text/x-python",
   "name": "python",
   "nbconvert_exporter": "python",
   "pygments_lexer": "ipython3",
   "version": "3.12.8"
  }
 },
 "nbformat": 4,
 "nbformat_minor": 5
}
