{
 "cells": [
  {
   "cell_type": "markdown",
   "id": "8ed14ec2-6598-47a7-a6a1-588ecfa83c4c",
   "metadata": {
    "editable": true,
    "papermill": {
     "duration": 0.175482,
     "end_time": "2025-04-13T00:56:55.208036",
     "exception": false,
     "start_time": "2025-04-13T00:56:55.032554",
     "status": "completed"
    },
    "slideshow": {
     "slide_type": ""
    },
    "tags": []
   },
   "source": [
    "# Importation des bibliothèques"
   ]
  },
  {
   "cell_type": "code",
   "execution_count": 1,
   "id": "7211fc7e-03a6-44bb-9865-b687b9ffbcf0",
   "metadata": {
    "papermill": {
     "duration": 4.951747,
     "end_time": "2025-04-13T00:57:00.349776",
     "exception": false,
     "start_time": "2025-04-13T00:56:55.398029",
     "status": "completed"
    },
    "tags": []
   },
   "outputs": [],
   "source": [
    "%%capture\n",
    "## Instalation des bibliothèques utilitaires\n",
    "!pip install --upgrade google-api-python-client google-auth-httplib2 google-auth-oauthlib"
   ]
  },
  {
   "cell_type": "code",
   "execution_count": 2,
   "id": "d4fd9afc-a7e2-43af-a4c7-f333eec13c74",
   "metadata": {
    "editable": true,
    "papermill": {
     "duration": 7.586736,
     "end_time": "2025-04-13T00:57:09.187093",
     "exception": false,
     "start_time": "2025-04-13T00:57:01.600357",
     "status": "completed"
    },
    "slideshow": {
     "slide_type": ""
    },
    "tags": []
   },
   "outputs": [],
   "source": [
    "%%capture\n",
    "\n",
    "import warnings\n",
    "\n",
    "warnings.filterwarnings(\"ignore\")\n",
    "\n",
    "from datetime import datetime\n",
    "from pathlib import Path\n",
    "\n",
    "import numpy as np\n",
    "import pandas as pd\n",
    "from openhexa.sdk import workspace\n",
    "\n",
    "pd.set_option(\"display.max_columns\", None)\n",
    "\n",
    "try:\n",
    "    import openpyxl as pyxl\n",
    "    from fuzzywuzzy import fuzz, process\n",
    "except ImportError or ModuleNotFoundError:\n",
    "    !pip install python-Levenshtein\n",
    "    !pip install fuzzywuzzy\n",
    "    from fuzzywuzzy import fuzz, process\n",
    "    import openpyxl as pyxl\n",
    "\n",
    "import os\n",
    "from functools import partial\n",
    "from importlib import reload"
   ]
  },
  {
   "cell_type": "code",
   "execution_count": 3,
   "id": "43fa898c-24d6-435e-bd02-bbc4747f6ba0",
   "metadata": {
    "papermill": {
     "duration": 3.172108,
     "end_time": "2025-04-13T00:57:12.544541",
     "exception": false,
     "start_time": "2025-04-13T00:57:09.372433",
     "status": "completed"
    },
    "tags": []
   },
   "outputs": [],
   "source": [
    "# Ajout du chemin d'accès aux différents code\n",
    "os.chdir(Path(workspace.files_path, \"Rapport Feedback/code/pipelines\"))\n",
    "\n",
    "# Module créer pour le processing et l'exportation des données\n",
    "from compute_indicators import compute_indicators, date_utils, excel_file_handler\n",
    "from database_operations import db_ops, update_dimension, upsert_table\n",
    "from export_file_to_google_drive import upload_file_to_drive\n",
    "from generate_feedback_report import generate_feedback_report as gfr\n",
    "from metabase import queries\n",
    "from metabase.metabase import Metabase"
   ]
  },
  {
   "cell_type": "markdown",
   "id": "82e4e62c-4e00-47c0-9725-30fae2086de8",
   "metadata": {
    "editable": true,
    "papermill": {
     "duration": 0.175059,
     "end_time": "2025-04-13T00:57:12.912779",
     "exception": false,
     "start_time": "2025-04-13T00:57:12.737720",
     "status": "completed"
    },
    "slideshow": {
     "slide_type": ""
    },
    "tags": []
   },
   "source": [
    "# Définition des paramètres"
   ]
  },
  {
   "cell_type": "markdown",
   "id": "eb13db80-bfa9-4534-a44b-75ba73fe8883",
   "metadata": {
    "editable": true,
    "papermill": {
     "duration": 1.159506,
     "end_time": "2025-04-13T00:57:14.274501",
     "exception": false,
     "start_time": "2025-04-13T00:57:13.114995",
     "status": "completed"
    },
    "slideshow": {
     "slide_type": ""
    },
    "tags": []
   },
   "source": [
    "Les variables nécessaires à la production du rapport de feedback :\n",
    "\n",
    "1. **Mois de création du rapport**  \n",
    "   - **Description :** Ce paramètre correspond au mois pour lequel le rapport de feedback sera généré.  \n",
    "   - **Source :** Défini par l'utilisateur lors de l'exécution du pipeline.\n",
    "\n",
    "2. **Liste des sites attendus**  \n",
    "   - **Description :** Fichier Excel contenant la liste complète des sites devant être inclus dans le rapport.  \n",
    "   - **Fréquence de mise à jour :** Ce fichier est mis à jour et communiqué chaque trimestre.  \n",
    "   - **Emplacement requis :** Le fichier doit être déposé dans le dossier `Rapport Feedback/data/Sites attendus`.\n",
    "\n",
    "3. **Liste des produits traceurs**  \n",
    "   - **Description :** Fichier Excel fournissant les informations sur les produits traceurs à analyser dans le rapport.  \n",
    "   - **Fréquence de mise à jour :** Généralement communiqué mensuellement par la DAP.  \n",
    "   - **Emplacement requis :** Le fichier doit être placé dans le dossier `Rapport Feedback/data/Produits Traceurs`."
   ]
  },
  {
   "cell_type": "markdown",
   "id": "c2d49e73-f67d-40df-9527-73b7d2dfae16",
   "metadata": {
    "editable": true,
    "papermill": {
     "duration": 0.165873,
     "end_time": "2025-04-13T00:57:15.687311",
     "exception": false,
     "start_time": "2025-04-13T00:57:15.521438",
     "status": "completed"
    },
    "slideshow": {
     "slide_type": ""
    },
    "tags": []
   },
   "source": [
    "<div class=\"alert alert-block alert-success\">\n",
    "Ici quand le mois est défini il faudrait aller checker dans la base de données pour voir si le mois en question est déjà présent dans la base pour minimiser le risque d'erreur\n",
    "</div>"
   ]
  },
  {
   "cell_type": "code",
   "execution_count": 4,
   "id": "2f9daacd-9043-44fe-a6c3-3aa982f1e6fb",
   "metadata": {
    "editable": true,
    "papermill": {
     "duration": 0.175019,
     "end_time": "2025-04-13T00:57:16.048734",
     "exception": false,
     "start_time": "2025-04-13T00:57:15.873715",
     "status": "completed"
    },
    "slideshow": {
     "slide_type": ""
    },
    "tags": [
     "parameters"
    ]
   },
   "outputs": [],
   "source": [
    "date_report, fp_site_attendus, fp_prod_traceurs = (\n",
    "    \"Mars\",\n",
    "    \"Sites attendus Février 2025.xlsx\",\n",
    "    \"Liste des Produits Traceurs Février 2025.xlsx\",\n",
    ")"
   ]
  },
  {
   "cell_type": "code",
   "execution_count": 5,
   "id": "ab15f020",
   "metadata": {
    "papermill": {
     "duration": 0.180804,
     "end_time": "2025-04-13T00:57:16.407230",
     "exception": false,
     "start_time": "2025-04-13T00:57:16.226426",
     "status": "completed"
    },
    "tags": [
     "injected-parameters"
    ]
   },
   "outputs": [],
   "source": [
    "# Parameters\n",
    "date_report = \"Mars\"\n",
    "fp_site_attendus = \"Sites attendus F\\xe9vrier 2025.xlsx\"\n",
    "fp_prod_traceurs = \"Liste des Produits Traceurs F\\xe9vrier 2025.xlsx\"\n"
   ]
  },
  {
   "cell_type": "code",
   "execution_count": 6,
   "id": "081e5b32-e9e7-44f9-97b3-c9534f963d64",
   "metadata": {
    "editable": true,
    "papermill": {
     "duration": 2.453782,
     "end_time": "2025-04-13T00:57:19.060216",
     "exception": false,
     "start_time": "2025-04-13T00:57:16.606434",
     "status": "completed"
    },
    "slideshow": {
     "slide_type": ""
    },
    "tags": []
   },
   "outputs": [],
   "source": [
    "month_export, date_report = date_report, compute_indicators.generate_month_end_report_date(date_report)"
   ]
  },
  {
   "cell_type": "markdown",
   "id": "0abd17bc-35f4-43f3-a17b-8c4931980e1b",
   "metadata": {
    "papermill": {
     "duration": 4.943236,
     "end_time": "2025-04-13T00:57:25.876954",
     "exception": false,
     "start_time": "2025-04-13T00:57:20.933718",
     "status": "completed"
    },
    "tags": []
   },
   "source": [
    "## Test pour s'assurer que cette date n'existe pas déjà dans la base de données"
   ]
  },
  {
   "cell_type": "code",
   "execution_count": 7,
   "id": "585b259d-cd27-4f2f-a731-e73cc66844b8",
   "metadata": {
    "papermill": {
     "duration": 0.243569,
     "end_time": "2025-04-13T00:57:26.308753",
     "exception": false,
     "start_time": "2025-04-13T00:57:26.065184",
     "status": "completed"
    },
    "tags": []
   },
   "outputs": [],
   "source": [
    "db_ops.reload_connection()\n",
    "\n",
    "schema_name = \"dap_tools\""
   ]
  },
  {
   "cell_type": "code",
   "execution_count": 8,
   "id": "05e7ebc7-bb18-4aab-b7de-ccea3ba3de0f",
   "metadata": {
    "editable": true,
    "papermill": {
     "duration": 1.720588,
     "end_time": "2025-04-13T00:57:28.230858",
     "exception": false,
     "start_time": "2025-04-13T00:57:26.510270",
     "status": "completed"
    },
    "slideshow": {
     "slide_type": ""
    },
    "tags": []
   },
   "outputs": [],
   "source": [
    "# Ici il faudrait également s'assurer que le mois précédent est bien présent à l'intérieur de la base de données au cas où on arriverait à se tromper sur le mois de conception du fichier\n",
    "mois_prec = (pd.to_datetime(date_report).replace(day=1) - pd.Timedelta(days=1)).strftime('%Y-%m-%d')\n",
    "\n",
    "df_ = pd.read_sql(f\"select * from {schema_name}.etat_de_stock where date_report='{mois_prec}'\", db_ops.civ_engine)\n",
    "\n",
    "assert df_.shape[0] != 0, f\"Le mois précédent {mois_prec} n'est pas présent dans la base de données locale êtes-vous sûre d'avoir choisir le bon mois de conception du fichier.\"\n",
    "\n",
    "del df_"
   ]
  },
  {
   "cell_type": "code",
   "execution_count": 9,
   "id": "d0e84e1c-e061-4012-a736-e9e8ae21c076",
   "metadata": {
    "editable": true,
    "papermill": {
     "duration": 2.258128,
     "end_time": "2025-04-13T00:57:31.643443",
     "exception": false,
     "start_time": "2025-04-13T00:57:29.385315",
     "status": "completed"
    },
    "slideshow": {
     "slide_type": ""
    },
    "tags": []
   },
   "outputs": [],
   "source": [
    "%%script false --no-raise-error\n",
    "\n",
    "df_ = pd.read_sql(f\"select * from {schema_name}.etat_de_stock where date_report='{pd.to_datetime(date_report).strftime('%Y-%m-%d')}' LIMIT 2\", db_ops.civ_engine)\n",
    "\n",
    "assert df_.shape[0] == 0, f\"La date {date_report} existe déjà dans la base de données vous devez définir une autre date pour la production du rapport.\"\n",
    "\n",
    "del df_"
   ]
  },
  {
   "cell_type": "markdown",
   "id": "40a0ccb6-f7f9-4f02-8aed-d3aaed4a584f",
   "metadata": {
    "papermill": {
     "duration": 1.270322,
     "end_time": "2025-04-13T00:57:33.281893",
     "exception": false,
     "start_time": "2025-04-13T00:57:32.011571",
     "status": "completed"
    },
    "tags": []
   },
   "source": [
    "# 📥 Importation des Données\n",
    "  \n",
    "L'utilisateur doit veiller à ce que les fichiers respectent le format attendu et soient placés dans les répertoires dédiés avant de procéder au traitement."
   ]
  },
  {
   "cell_type": "markdown",
   "id": "7405a294-f204-4a05-8753-13a6ba1e3e36",
   "metadata": {
    "editable": true,
    "papermill": {
     "duration": 0.187181,
     "end_time": "2025-04-13T00:57:37.158611",
     "exception": false,
     "start_time": "2025-04-13T00:57:36.971430",
     "status": "completed"
    },
    "slideshow": {
     "slide_type": ""
    },
    "tags": []
   },
   "source": [
    "## 📌 1. Importation de la `Liste des sites attendus`\n",
    "- **Format requis :** Assurez-vous que le fichier respecte le template standard défini pour les mois de chargement.\n",
    "- **Emplacement du fichier :** Le fichier doit être placé dans le répertoire dédié :  \n",
    "  **`Rapport Feedback/data/Sites attendus`**  \n",
    "- **En cas d'erreur :**  \n",
    "  - Vérifiez que le fichier est bien présent dans le répertoire.  \n",
    "  - Assurez-vous que toutes les colonnes requises sont bien renseignées.  \n",
    "  - Contrôlez que le fichier est bien accessible et non corrompu."
   ]
  },
  {
   "cell_type": "code",
   "execution_count": 10,
   "id": "44fed58a-6521-4903-8fec-792bd328633d",
   "metadata": {
    "editable": true,
    "papermill": {
     "duration": 0.2097,
     "end_time": "2025-04-13T00:57:37.562493",
     "exception": false,
     "start_time": "2025-04-13T00:57:37.352793",
     "status": "completed"
    },
    "slideshow": {
     "slide_type": ""
    },
    "tags": []
   },
   "outputs": [],
   "source": [
    "fp_site_attendus = (\n",
    "    Path(workspace.files_path)\n",
    "    / \"Rapport Feedback/data/Sites attendus\" \n",
    "    / Path(fp_site_attendus).name\n",
    ")"
   ]
  },
  {
   "cell_type": "code",
   "execution_count": 11,
   "id": "63198639-40f7-4b11-9b7f-cf4b9fcc858a",
   "metadata": {
    "papermill": {
     "duration": 0.691687,
     "end_time": "2025-04-13T00:57:38.434483",
     "exception": false,
     "start_time": "2025-04-13T00:57:37.742796",
     "status": "completed"
    },
    "tags": []
   },
   "outputs": [
    {
     "data": {
      "text/html": [
       "<div>\n",
       "<style scoped>\n",
       "    .dataframe tbody tr th:only-of-type {\n",
       "        vertical-align: middle;\n",
       "    }\n",
       "\n",
       "    .dataframe tbody tr th {\n",
       "        vertical-align: top;\n",
       "    }\n",
       "\n",
       "    .dataframe thead th {\n",
       "        text-align: right;\n",
       "    }\n",
       "</style>\n",
       "<table border=\"1\" class=\"dataframe\">\n",
       "  <thead>\n",
       "    <tr style=\"text-align: right;\">\n",
       "      <th></th>\n",
       "      <th>Code</th>\n",
       "      <th>Site</th>\n",
       "      <th>District</th>\n",
       "      <th>Region</th>\n",
       "      <th>ARV</th>\n",
       "      <th>TRC</th>\n",
       "      <th>LAB</th>\n",
       "      <th>CHARGE VIRALE</th>\n",
       "      <th>PNLP</th>\n",
       "      <th>PNSME</th>\n",
       "      <th>PNN</th>\n",
       "      <th>TBS</th>\n",
       "      <th>TBMR</th>\n",
       "      <th>TBLAB</th>\n",
       "      <th>PNSME-GRAT</th>\n",
       "    </tr>\n",
       "  </thead>\n",
       "  <tbody>\n",
       "    <tr>\n",
       "      <th>0</th>\n",
       "      <td>60100040</td>\n",
       "      <td>CENTRE ANTITUBERCULEUX ABOBO</td>\n",
       "      <td>ABOBO EST</td>\n",
       "      <td>ABIDJAN 1</td>\n",
       "      <td>1</td>\n",
       "      <td>1</td>\n",
       "      <td>1</td>\n",
       "      <td>1</td>\n",
       "      <td>NA</td>\n",
       "      <td>NA</td>\n",
       "      <td>NA</td>\n",
       "      <td>1</td>\n",
       "      <td>1</td>\n",
       "      <td>1</td>\n",
       "      <td>NA</td>\n",
       "    </tr>\n",
       "    <tr>\n",
       "      <th>1</th>\n",
       "      <td>70200030</td>\n",
       "      <td>CENTRE MEDICO-SOCIAL SAINT COEUR ABOBOTE</td>\n",
       "      <td>ABOBO EST</td>\n",
       "      <td>ABIDJAN 1</td>\n",
       "      <td>1</td>\n",
       "      <td>1</td>\n",
       "      <td>1</td>\n",
       "      <td>NA</td>\n",
       "      <td>NA</td>\n",
       "      <td>NA</td>\n",
       "      <td>NA</td>\n",
       "      <td>1</td>\n",
       "      <td>NA</td>\n",
       "      <td>NA</td>\n",
       "      <td>NA</td>\n",
       "    </tr>\n",
       "  </tbody>\n",
       "</table>\n",
       "</div>"
      ],
      "text/plain": [
       "       Code                                      Site   District     Region  \\\n",
       "0  60100040              CENTRE ANTITUBERCULEUX ABOBO  ABOBO EST  ABIDJAN 1   \n",
       "1  70200030  CENTRE MEDICO-SOCIAL SAINT COEUR ABOBOTE  ABOBO EST  ABIDJAN 1   \n",
       "\n",
       "  ARV TRC LAB CHARGE VIRALE PNLP PNSME PNN TBS TBMR TBLAB PNSME-GRAT  \n",
       "0   1   1   1             1   NA    NA  NA   1    1     1         NA  \n",
       "1   1   1   1            NA   NA    NA  NA   1   NA    NA         NA  "
      ]
     },
     "execution_count": 11,
     "metadata": {},
     "output_type": "execute_result"
    }
   ],
   "source": [
    "# Configuration constante\n",
    "EXPECTED_COLS = {\n",
    "    'Code', 'Site', 'District', 'Region', 'ARV', 'TRC', 'LAB', \n",
    "    'CHARGE VIRALE', 'PNLP', 'PNSME', 'PNSME-GRAT', \n",
    "    'PNN', 'TBS', 'TBMR', 'TBLAB'\n",
    "}\n",
    "\n",
    "# Utilisation\n",
    "try:\n",
    "    df_site_attendu = excel_file_handler.load_expected_sites_from_excel(fp_site_attendus, EXPECTED_COLS)\n",
    "except Exception as e:\n",
    "    print(\"Une erreur s'est produite lors du chargement du fichier contenant la liste des sites attendus.\")\n",
    "    print(\"Veuillez vérifier que le fichier existe dans le répertoire spécifique `Rapport Feedback/data/Sites attendus` et qu'il contient toutes les colonnes requises.\")\n",
    "    print(f\"Code d'erreur détaillé : {e}\")\n",
    "    raise\n",
    "df_site_attendu.head(2)"
   ]
  },
  {
   "cell_type": "markdown",
   "id": "d279c2e1-3e18-43aa-97d2-bc14a2d0f862",
   "metadata": {
    "editable": true,
    "papermill": {
     "duration": 0.268294,
     "end_time": "2025-04-13T00:57:38.888099",
     "exception": false,
     "start_time": "2025-04-13T00:57:38.619805",
     "status": "completed"
    },
    "slideshow": {
     "slide_type": ""
    },
    "tags": []
   },
   "source": [
    "## 📌 2. Importation de la `liste des produits traceurs`\n",
    "- **Format requis :** Respectez la structure du fichier définie pour l’importation.  \n",
    "- **Emplacement du fichier :** Le fichier doit être placé dans le répertoire suivant :  \n",
    "  **`Rapport Feedback/data/Produits Traceurs`**  \n",
    "- **En cas d'erreur :**  \n",
    "  - Vérifiez que le fichier est bien présent dans le répertoire.  \n",
    "  - Assurez-vous que les données respectent le format attendu.  \n",
    "  - Vérifiez l'intégrité du fichier et assurez-vous et corriger l'anomalie."
   ]
  },
  {
   "cell_type": "code",
   "execution_count": 12,
   "id": "bad6e1c2-5395-44d3-90e2-56e7502287a7",
   "metadata": {
    "editable": true,
    "papermill": {
     "duration": 0.212529,
     "end_time": "2025-04-13T00:57:46.619394",
     "exception": false,
     "start_time": "2025-04-13T00:57:46.406865",
     "status": "completed"
    },
    "slideshow": {
     "slide_type": ""
    },
    "tags": []
   },
   "outputs": [],
   "source": [
    "# Il faudra définir un standard de fichier qui sera attendu\n",
    "fp_prod_traceurs = (\n",
    "    Path(workspace.files_path)\n",
    "    / \"Rapport Feedback/data/Produits Traceurs\" \n",
    "    / Path(fp_prod_traceurs).name\n",
    ")"
   ]
  },
  {
   "cell_type": "code",
   "execution_count": 13,
   "id": "66e0d1aa-5170-43b3-a6f7-a9e22aa18926",
   "metadata": {
    "papermill": {
     "duration": 0.353704,
     "end_time": "2025-04-13T00:57:47.163206",
     "exception": false,
     "start_time": "2025-04-13T00:57:46.809502",
     "status": "completed"
    },
    "tags": []
   },
   "outputs": [
    {
     "data": {
      "text/html": [
       "<div>\n",
       "<style scoped>\n",
       "    .dataframe tbody tr th:only-of-type {\n",
       "        vertical-align: middle;\n",
       "    }\n",
       "\n",
       "    .dataframe tbody tr th {\n",
       "        vertical-align: top;\n",
       "    }\n",
       "\n",
       "    .dataframe thead th {\n",
       "        text-align: right;\n",
       "    }\n",
       "</style>\n",
       "<table border=\"1\" class=\"dataframe\">\n",
       "  <thead>\n",
       "    <tr style=\"text-align: right;\">\n",
       "      <th></th>\n",
       "      <th>PROGRAMME</th>\n",
       "      <th>CODE PRODUIT</th>\n",
       "      <th>PRODUIT</th>\n",
       "      <th>CODE COMBINE</th>\n",
       "      <th>CATEGORIE PRODUIT</th>\n",
       "    </tr>\n",
       "  </thead>\n",
       "  <tbody>\n",
       "    <tr>\n",
       "      <th>0</th>\n",
       "      <td>PNLP</td>\n",
       "      <td>3050015</td>\n",
       "      <td>AMODIAQUINE/ARTESUNATE 25 / 67,5 mg ENFANT (0 ...</td>\n",
       "      <td>3050015_PNLP</td>\n",
       "      <td>Produit traceur</td>\n",
       "    </tr>\n",
       "    <tr>\n",
       "      <th>1</th>\n",
       "      <td>PNLP</td>\n",
       "      <td>3050016</td>\n",
       "      <td>AMODIAQUINE/ARTESUNATE 50 / 135 mg ENFANT (1 -...</td>\n",
       "      <td>3050016_PNLP</td>\n",
       "      <td>Produit traceur</td>\n",
       "    </tr>\n",
       "  </tbody>\n",
       "</table>\n",
       "</div>"
      ],
      "text/plain": [
       "  PROGRAMME  CODE PRODUIT                                            PRODUIT  \\\n",
       "0      PNLP       3050015  AMODIAQUINE/ARTESUNATE 25 / 67,5 mg ENFANT (0 ...   \n",
       "1      PNLP       3050016  AMODIAQUINE/ARTESUNATE 50 / 135 mg ENFANT (1 -...   \n",
       "\n",
       "   CODE COMBINE CATEGORIE PRODUIT  \n",
       "0  3050015_PNLP   Produit traceur  \n",
       "1  3050016_PNLP   Produit traceur  "
      ]
     },
     "execution_count": 13,
     "metadata": {},
     "output_type": "execute_result"
    }
   ],
   "source": [
    "try:\n",
    "    df_prod_traceurs = excel_file_handler.load_traceable_products_from_excel(fp_prod_traceurs)\n",
    "except Exeption as e:\n",
    "    print(\"Une erreur s'est produite lors du chargement du fichier contenant la liste des produits traceurs\")\n",
    "    print(\"Veuillez vérifier que le fichier existe et qu'il contienu dans le répertoire dédié `Rapport Feedback/data/Produits Traceurs`\")\n",
    "    print(f\"Code d'erreur détaillé : {e}\")\n",
    "\n",
    "df_prod_traceurs.head(2)"
   ]
  },
  {
   "cell_type": "markdown",
   "id": "d1412c64-6b55-4a3f-9cea-74fb9ec82858",
   "metadata": {
    "papermill": {
     "duration": 0.180077,
     "end_time": "2025-04-13T00:57:47.541914",
     "exception": false,
     "start_time": "2025-04-13T00:57:47.361837",
     "status": "completed"
    },
    "tags": []
   },
   "source": [
    "## 📌 3. Extraction des données eSIGL : `État de transmission`  \n",
    "\n",
    "Cette étape permet d'extraire les données d'état de transmission depuis eSIGL via Metabase.  \n",
    "Assurez-vous que toutes les conditions nécessaires sont remplies avant de lancer l'extraction.  \n",
    "\n",
    "🛠 En cas d'erreur :  \n",
    "1. **Vérifier les permissions utilisateur**  \n",
    "   - Assurez-vous que l'utilisateur **`secretariat_dap`** dispose bien des accès nécessaires à eSIGL.  \n",
    "   - Si l'accès est restreint, contactez l'administrateur du système pour obtenir les autorisations requises.  \n",
    "\n",
    "2. **S'assurer du bon fonctionnement de eSIGL**  \n",
    "   - Il arrive que **Metabase** subisse des interruptions temporaires rendant l'accès aux données impossible.  \n",
    "   - Si eSIGL ou Metabase est indisponible, réessayez plus tard ou consultez l'équipe technique.  \n",
    "\n",
    "**Astuce :** Si le problème persiste, tentez d'accéder manuellement à eSIGL et Metabase pour vérifier leur disponibilité."
   ]
  },
  {
   "cell_type": "code",
   "execution_count": 16,
   "id": "8c20b13c-c935-4b94-8b16-06714abb4cb6",
   "metadata": {
    "papermill": {
     "duration": 1.876629,
     "end_time": "2025-04-13T00:57:49.579581",
     "exception": false,
     "start_time": "2025-04-13T00:57:47.702952",
     "status": "completed"
    },
    "tags": []
   },
   "outputs": [],
   "source": [
    "metabase = Metabase(workspace.custom_connection(\"metabase-esigl\"))"
   ]
  },
  {
   "cell_type": "code",
   "execution_count": 17,
   "id": "45e6bc90-9162-4b25-9c5e-aec1153778d7",
   "metadata": {
    "editable": true,
    "papermill": {
     "duration": 2.010288,
     "end_time": "2025-04-13T00:58:03.995243",
     "exception": false,
     "start_time": "2025-04-13T00:58:01.984955",
     "status": "completed"
    },
    "slideshow": {
     "slide_type": ""
    },
    "tags": []
   },
   "outputs": [
    {
     "data": {
      "text/html": [
       "<div>\n",
       "<style scoped>\n",
       "    .dataframe tbody tr th:only-of-type {\n",
       "        vertical-align: middle;\n",
       "    }\n",
       "\n",
       "    .dataframe tbody tr th {\n",
       "        vertical-align: top;\n",
       "    }\n",
       "\n",
       "    .dataframe thead th {\n",
       "        text-align: right;\n",
       "    }\n",
       "</style>\n",
       "<table border=\"1\" class=\"dataframe\">\n",
       "  <thead>\n",
       "    <tr style=\"text-align: right;\">\n",
       "      <th></th>\n",
       "      <th>region</th>\n",
       "      <th>id_region_esigl</th>\n",
       "      <th>code</th>\n",
       "      <th>facility</th>\n",
       "      <th>district</th>\n",
       "      <th>id_district_esigl</th>\n",
       "      <th>program</th>\n",
       "      <th>cde_urgente</th>\n",
       "      <th>period</th>\n",
       "      <th>statut</th>\n",
       "      <th>user</th>\n",
       "      <th>date_soumission</th>\n",
       "      <th>date_autorisation</th>\n",
       "      <th>time_ago</th>\n",
       "    </tr>\n",
       "  </thead>\n",
       "  <tbody>\n",
       "    <tr>\n",
       "      <th>0</th>\n",
       "      <td>WORODOUGOU</td>\n",
       "      <td>21</td>\n",
       "      <td>53100040</td>\n",
       "      <td>DISTRICT SANITAIRE SEGUELA</td>\n",
       "      <td>SEGUELA</td>\n",
       "      <td>86</td>\n",
       "      <td>PNLT-SENSIBLE MEDICAMENTS ET INTRANTS</td>\n",
       "      <td>False</td>\n",
       "      <td>JANVIER MARS 2025</td>\n",
       "      <td>AUTHORIZED</td>\n",
       "      <td>kouassi kouassi marcelin</td>\n",
       "      <td>2025-04-10T00:00:00Z</td>\n",
       "      <td>2025-04-10T00:00:00Z</td>\n",
       "      <td>5 05:23:00</td>\n",
       "    </tr>\n",
       "    <tr>\n",
       "      <th>1</th>\n",
       "      <td>IFFOU</td>\n",
       "      <td>148</td>\n",
       "      <td>62600030</td>\n",
       "      <td>CENTRE ANTITUBERCULEUX DAOUKRO</td>\n",
       "      <td>DAOUKRO</td>\n",
       "      <td>54</td>\n",
       "      <td>PNLT-MULTI RESISTANTE MEDICAMENTS ET INTRANTS</td>\n",
       "      <td>False</td>\n",
       "      <td>JANVIER MARS 2025</td>\n",
       "      <td>AUTHORIZED</td>\n",
       "      <td>WOZAN Mian Franck</td>\n",
       "      <td>2025-04-07T00:00:00Z</td>\n",
       "      <td>2025-04-07T00:00:00Z</td>\n",
       "      <td>7 22:22:02</td>\n",
       "    </tr>\n",
       "    <tr>\n",
       "      <th>2</th>\n",
       "      <td>ABIDJAN 2</td>\n",
       "      <td>3</td>\n",
       "      <td>60300140</td>\n",
       "      <td>CSU COM GONZAGUEVILLE</td>\n",
       "      <td>PORT BOUET-VRIDI</td>\n",
       "      <td>71</td>\n",
       "      <td>PNLT-SENSIBLE MEDICAMENTS ET INTRANTS</td>\n",
       "      <td>False</td>\n",
       "      <td>JANVIER MARS 2025</td>\n",
       "      <td>AUTHORIZED</td>\n",
       "      <td>SIDIBE Abibata</td>\n",
       "      <td>2025-04-03T00:00:00Z</td>\n",
       "      <td>2025-04-05T00:00:00Z</td>\n",
       "      <td>10 04:05:51</td>\n",
       "    </tr>\n",
       "  </tbody>\n",
       "</table>\n",
       "</div>"
      ],
      "text/plain": [
       "       region  id_region_esigl      code                         facility  \\\n",
       "0  WORODOUGOU               21  53100040       DISTRICT SANITAIRE SEGUELA   \n",
       "1       IFFOU              148  62600030   CENTRE ANTITUBERCULEUX DAOUKRO   \n",
       "2   ABIDJAN 2                3  60300140            CSU COM GONZAGUEVILLE   \n",
       "\n",
       "           district  id_district_esigl  \\\n",
       "0           SEGUELA                 86   \n",
       "1           DAOUKRO                 54   \n",
       "2  PORT BOUET-VRIDI                 71   \n",
       "\n",
       "                                         program  cde_urgente  \\\n",
       "0          PNLT-SENSIBLE MEDICAMENTS ET INTRANTS        False   \n",
       "1  PNLT-MULTI RESISTANTE MEDICAMENTS ET INTRANTS        False   \n",
       "2          PNLT-SENSIBLE MEDICAMENTS ET INTRANTS        False   \n",
       "\n",
       "              period      statut                      user  \\\n",
       "0  JANVIER MARS 2025  AUTHORIZED  kouassi kouassi marcelin   \n",
       "1  JANVIER MARS 2025  AUTHORIZED         WOZAN Mian Franck   \n",
       "2  JANVIER MARS 2025  AUTHORIZED            SIDIBE Abibata   \n",
       "\n",
       "        date_soumission     date_autorisation     time_ago  \n",
       "0  2025-04-10T00:00:00Z  2025-04-10T00:00:00Z   5 05:23:00  \n",
       "1  2025-04-07T00:00:00Z  2025-04-07T00:00:00Z   7 22:22:02  \n",
       "2  2025-04-03T00:00:00Z  2025-04-05T00:00:00Z  10 04:05:51  "
      ]
     },
     "execution_count": 17,
     "metadata": {},
     "output_type": "execute_result"
    }
   ],
   "source": [
    "df_transmission = metabase.get_data_from_sql_query(\n",
    "    queries.QUERY_TRANSMISSION.format(\n",
    "        date_report=date_utils.get_date_report(date_report)\n",
    "    )\n",
    ")\n",
    "\n",
    "# Les établissements ne sont plus censé faire des rapportages sur ce programme spécifique\n",
    "df_transmission[\"program\"] = df_transmission[\"program\"].str.replace(\n",
    "    \"PNSME-MEDICAMENTS ET INTRANTS\", \"PNSME_GRATUITE:MEDICAMENTS ET INTRANTS\"\n",
    ")\n",
    "\n",
    "df_transmission.head(3)"
   ]
  },
  {
   "cell_type": "markdown",
   "id": "af5f5c5e-8643-4718-b5ab-b6d034bef314",
   "metadata": {
    "papermill": {
     "duration": 0.188123,
     "end_time": "2025-04-13T00:58:04.381575",
     "exception": false,
     "start_time": "2025-04-13T00:58:04.193452",
     "status": "completed"
    },
    "tags": []
   },
   "source": [
    "## 📌 4. Extraction des données eSIGL : `Etat de stock`"
   ]
  },
  {
   "cell_type": "code",
   "execution_count": 18,
   "id": "73b66542-0411-4031-b09b-2f7c68307958",
   "metadata": {
    "papermill": {
     "duration": 18.2366,
     "end_time": "2025-04-13T00:58:22.802131",
     "exception": false,
     "start_time": "2025-04-13T00:58:04.565531",
     "status": "completed"
    },
    "tags": []
   },
   "outputs": [
    {
     "data": {
      "text/html": [
       "<div>\n",
       "<style scoped>\n",
       "    .dataframe tbody tr th:only-of-type {\n",
       "        vertical-align: middle;\n",
       "    }\n",
       "\n",
       "    .dataframe tbody tr th {\n",
       "        vertical-align: top;\n",
       "    }\n",
       "\n",
       "    .dataframe thead th {\n",
       "        text-align: right;\n",
       "    }\n",
       "</style>\n",
       "<table border=\"1\" class=\"dataframe\">\n",
       "  <thead>\n",
       "    <tr style=\"text-align: right;\">\n",
       "      <th></th>\n",
       "      <th>commande_urgente</th>\n",
       "      <th>programme</th>\n",
       "      <th>periode</th>\n",
       "      <th>region</th>\n",
       "      <th>id_region_esigl</th>\n",
       "      <th>district</th>\n",
       "      <th>id_district_esigl</th>\n",
       "      <th>code</th>\n",
       "      <th>etablissement</th>\n",
       "      <th>type_structure</th>\n",
       "      <th>categorie_produit</th>\n",
       "      <th>code_produit</th>\n",
       "      <th>designation</th>\n",
       "      <th>unite</th>\n",
       "      <th>stock_initial</th>\n",
       "      <th>quantite_recue</th>\n",
       "      <th>quantite_distribuee</th>\n",
       "      <th>perte_ajustement</th>\n",
       "      <th>sdu</th>\n",
       "      <th>cmm</th>\n",
       "      <th>nbrejrsrupture</th>\n",
       "      <th>quantite_proposee</th>\n",
       "      <th>quantite_commandee</th>\n",
       "      <th>quantite_approuvee</th>\n",
       "      <th>explication_de_la_qte_cmdee</th>\n",
       "    </tr>\n",
       "  </thead>\n",
       "  <tbody>\n",
       "    <tr>\n",
       "      <th>0</th>\n",
       "      <td>False</td>\n",
       "      <td>PNLT-SENSIBLE MEDICAMENTS ET INTRANTS</td>\n",
       "      <td>JANVIER MARS 2025</td>\n",
       "      <td>KABADOUGOU</td>\n",
       "      <td>14</td>\n",
       "      <td>ODIENNE</td>\n",
       "      <td>79</td>\n",
       "      <td>61900010</td>\n",
       "      <td>CENTRE ANTITUBERCULEUX ODIENNE</td>\n",
       "      <td>FORMATION SANITAIRE</td>\n",
       "      <td>PRODUITS PNLT ENFANT</td>\n",
       "      <td>3050355</td>\n",
       "      <td>RHZ 75 (RIFAMPICINE 75mg + ISONIAZIDE 50mg + P...</td>\n",
       "      <td>COMPRIME</td>\n",
       "      <td>84</td>\n",
       "      <td>0</td>\n",
       "      <td>0</td>\n",
       "      <td>0</td>\n",
       "      <td>84</td>\n",
       "      <td>0</td>\n",
       "      <td>0</td>\n",
       "      <td>0</td>\n",
       "      <td>84</td>\n",
       "      <td>84</td>\n",
       "      <td>Pour un éventuelle malade dépisté au cours du ...</td>\n",
       "    </tr>\n",
       "    <tr>\n",
       "      <th>1</th>\n",
       "      <td>False</td>\n",
       "      <td>PNLT-SENSIBLE MEDICAMENTS ET INTRANTS</td>\n",
       "      <td>JANVIER MARS 2025</td>\n",
       "      <td>KABADOUGOU</td>\n",
       "      <td>14</td>\n",
       "      <td>ODIENNE</td>\n",
       "      <td>79</td>\n",
       "      <td>61900010</td>\n",
       "      <td>CENTRE ANTITUBERCULEUX ODIENNE</td>\n",
       "      <td>FORMATION SANITAIRE</td>\n",
       "      <td>PROPHYLAXIE</td>\n",
       "      <td>3050257</td>\n",
       "      <td>H 100 mg (ISONIAZIDE) comp. Dispersible BTE/10...</td>\n",
       "      <td>COMPRIME</td>\n",
       "      <td>1058</td>\n",
       "      <td>0</td>\n",
       "      <td>585</td>\n",
       "      <td>-435</td>\n",
       "      <td>38</td>\n",
       "      <td>66</td>\n",
       "      <td>0</td>\n",
       "      <td>358</td>\n",
       "      <td>1042</td>\n",
       "      <td>1042</td>\n",
       "      <td>ras</td>\n",
       "    </tr>\n",
       "    <tr>\n",
       "      <th>2</th>\n",
       "      <td>False</td>\n",
       "      <td>PNLT-SENSIBLE MEDICAMENTS ET INTRANTS</td>\n",
       "      <td>JANVIER MARS 2025</td>\n",
       "      <td>KABADOUGOU</td>\n",
       "      <td>14</td>\n",
       "      <td>ODIENNE</td>\n",
       "      <td>79</td>\n",
       "      <td>61900010</td>\n",
       "      <td>CENTRE ANTITUBERCULEUX ODIENNE</td>\n",
       "      <td>FORMATION SANITAIRE</td>\n",
       "      <td>MEDICAMENTS</td>\n",
       "      <td>4030465</td>\n",
       "      <td>TEST DE TUBERCULINE 5 TU/0.1 ml FL/1 ml FL  -</td>\n",
       "      <td>FLACON</td>\n",
       "      <td>0</td>\n",
       "      <td>0</td>\n",
       "      <td>0</td>\n",
       "      <td>0</td>\n",
       "      <td>0</td>\n",
       "      <td>4</td>\n",
       "      <td>0</td>\n",
       "      <td>12</td>\n",
       "      <td>33</td>\n",
       "      <td>33</td>\n",
       "      <td>ras</td>\n",
       "    </tr>\n",
       "  </tbody>\n",
       "</table>\n",
       "</div>"
      ],
      "text/plain": [
       "   commande_urgente                              programme            periode  \\\n",
       "0             False  PNLT-SENSIBLE MEDICAMENTS ET INTRANTS  JANVIER MARS 2025   \n",
       "1             False  PNLT-SENSIBLE MEDICAMENTS ET INTRANTS  JANVIER MARS 2025   \n",
       "2             False  PNLT-SENSIBLE MEDICAMENTS ET INTRANTS  JANVIER MARS 2025   \n",
       "\n",
       "       region  id_region_esigl district  id_district_esigl      code  \\\n",
       "0  KABADOUGOU               14  ODIENNE                 79  61900010   \n",
       "1  KABADOUGOU               14  ODIENNE                 79  61900010   \n",
       "2  KABADOUGOU               14  ODIENNE                 79  61900010   \n",
       "\n",
       "                    etablissement       type_structure     categorie_produit  \\\n",
       "0  CENTRE ANTITUBERCULEUX ODIENNE  FORMATION SANITAIRE  PRODUITS PNLT ENFANT   \n",
       "1  CENTRE ANTITUBERCULEUX ODIENNE  FORMATION SANITAIRE           PROPHYLAXIE   \n",
       "2  CENTRE ANTITUBERCULEUX ODIENNE  FORMATION SANITAIRE           MEDICAMENTS   \n",
       "\n",
       "  code_produit                                        designation     unite  \\\n",
       "0      3050355  RHZ 75 (RIFAMPICINE 75mg + ISONIAZIDE 50mg + P...  COMPRIME   \n",
       "1      3050257  H 100 mg (ISONIAZIDE) comp. Dispersible BTE/10...  COMPRIME   \n",
       "2      4030465      TEST DE TUBERCULINE 5 TU/0.1 ml FL/1 ml FL  -    FLACON   \n",
       "\n",
       "   stock_initial  quantite_recue  quantite_distribuee  perte_ajustement  sdu  \\\n",
       "0             84               0                    0                 0   84   \n",
       "1           1058               0                  585              -435   38   \n",
       "2              0               0                    0                 0    0   \n",
       "\n",
       "   cmm  nbrejrsrupture  quantite_proposee  quantite_commandee  \\\n",
       "0    0               0                  0                  84   \n",
       "1   66               0                358                1042   \n",
       "2    4               0                 12                  33   \n",
       "\n",
       "   quantite_approuvee                        explication_de_la_qte_cmdee  \n",
       "0                  84  Pour un éventuelle malade dépisté au cours du ...  \n",
       "1                1042                                                ras  \n",
       "2                  33                                                ras  "
      ]
     },
     "execution_count": 18,
     "metadata": {},
     "output_type": "execute_result"
    }
   ],
   "source": [
    "df_etat_stock = metabase.get_data_from_sql_query(\n",
    "    queries.QUERY_ETAT_STOCK.format(date_report=date_utils.get_date_report(date_report))\n",
    ")\n",
    "\n",
    "df_etat_stock[\"programme\"] = df_etat_stock[\"programme\"].str.replace(\n",
    "    \"PNSME-MEDICAMENTS ET INTRANTS\", \"PNSME_GRATUITE:MEDICAMENTS ET INTRANTS\"\n",
    ")\n",
    "\n",
    "df_etat_stock.head(3)"
   ]
  },
  {
   "cell_type": "code",
   "execution_count": 19,
   "id": "42526f74-f6d0-49f4-989c-0ac5176729cb",
   "metadata": {},
   "outputs": [
    {
     "data": {
      "text/plain": [
       "(29612, 25)"
      ]
     },
     "execution_count": 19,
     "metadata": {},
     "output_type": "execute_result"
    }
   ],
   "source": [
    "df_etat_stock.shape"
   ]
  },
  {
   "cell_type": "markdown",
   "id": "6d2803b9-a8ea-41b2-bd63-2201bb57dd6b",
   "metadata": {
    "papermill": {
     "duration": 0.207065,
     "end_time": "2025-04-13T00:58:23.263239",
     "exception": false,
     "start_time": "2025-04-13T00:58:23.056174",
     "status": "completed"
    },
    "tags": []
   },
   "source": [
    "# 📊 Calcul des Indicateurs `(1/3)`\n",
    "\n",
    "Cette étape consiste à **traiter les données du mois en cours** afin de calculer les indicateurs de performance, notamment :  \n",
    "- **Complétude** : mesure le taux de soumission des données attendues.  \n",
    "- **Promptitude** : évalue la rapidité avec laquelle les données sont transmises.\n",
    "- **Etat de Stock**: informations sur les états de stock des différents produits.\n",
    "\n",
    "Une fois calculés, ces indicateurs sont intégrés au **rapport de feedback**, qui sera ensuite exporté pour être accessible aux utilisateurs."
   ]
  },
  {
   "cell_type": "code",
   "execution_count": 17,
   "id": "07fe4d86-c85b-4b42-be39-f7075c444748",
   "metadata": {
    "execution": {
     "iopub.execute_input": "2025-04-13T00:58:23.664085Z",
     "iopub.status.busy": "2025-04-13T00:58:23.662775Z",
     "iopub.status.idle": "2025-04-13T00:58:32.594242Z",
     "shell.execute_reply": "2025-04-13T00:58:32.593258Z"
    },
    "papermill": {
     "duration": 9.134807,
     "end_time": "2025-04-13T00:58:32.595960",
     "exception": false,
     "start_time": "2025-04-13T00:58:23.461153",
     "status": "completed"
    },
    "tags": []
   },
   "outputs": [
    {
     "name": "stdout",
     "output_type": "stream",
     "text": [
      "CPU times: user 8.94 s, sys: 0 ns, total: 8.94 s\n",
      "Wall time: 8.92 s\n"
     ]
    }
   ],
   "source": [
    "%%time\n",
    "df_ets, df_region = compute_indicators.compute_indicators_completeness_and_promptness(\n",
    "    df_site_attendu.copy(), df_transmission.copy(), date_report\n",
    ")"
   ]
  },
  {
   "cell_type": "markdown",
   "id": "7d15fc13-cfa1-42b3-83a3-4e4d43d8744b",
   "metadata": {
    "papermill": {
     "duration": 0.259066,
     "end_time": "2025-04-13T00:58:33.081928",
     "exception": false,
     "start_time": "2025-04-13T00:58:32.822862",
     "status": "completed"
    },
    "tags": []
   },
   "source": [
    "## 📄 Génération du Fichier Excel `(1/2)`\n",
    "\n",
    "Cette étape permet de **générer un fichier Excel** contenant les indicateurs calculés et les données consolidées du rapport de feedback.  \n",
    "Une fois le fichier créé, un **lien d’accès** est intégré dans le tableau de bord afin que les utilisateurs puissent le consulter et le télécharger facilement.  "
   ]
  },
  {
   "cell_type": "code",
   "execution_count": 18,
   "id": "453592ed-56b2-4247-b722-3538710d7751",
   "metadata": {
    "execution": {
     "iopub.execute_input": "2025-04-13T00:58:33.462270Z",
     "iopub.status.busy": "2025-04-13T00:58:33.460933Z",
     "iopub.status.idle": "2025-04-13T01:05:22.494347Z",
     "shell.execute_reply": "2025-04-13T01:05:22.482319Z"
    },
    "papermill": {
     "duration": 409.222225,
     "end_time": "2025-04-13T01:05:22.510507",
     "exception": false,
     "start_time": "2025-04-13T00:58:33.288282",
     "status": "completed"
    },
    "tags": []
   },
   "outputs": [],
   "source": [
    "src_file = (\n",
    "    Path(workspace.files_path)\n",
    "    / \"Rapport Feedback/data/Template Rapport Feedback/RAPPORT FEEDBACK - TEMPLATE.xlsx\"\n",
    ")\n",
    "\n",
    "wb_feedback_report = gfr.load_workbook(src_file.as_posix())"
   ]
  },
  {
   "cell_type": "code",
   "execution_count": 19,
   "id": "fd1ac321-1786-4e3d-b539-ccf0d609eaf3",
   "metadata": {
    "execution": {
     "iopub.execute_input": "2025-04-13T01:05:23.754751Z",
     "iopub.status.busy": "2025-04-13T01:05:23.754188Z",
     "iopub.status.idle": "2025-04-13T01:05:33.192068Z",
     "shell.execute_reply": "2025-04-13T01:05:33.190401Z"
    },
    "papermill": {
     "duration": 9.840443,
     "end_time": "2025-04-13T01:05:33.195217",
     "exception": false,
     "start_time": "2025-04-13T01:05:23.354774",
     "status": "completed"
    },
    "tags": []
   },
   "outputs": [
    {
     "name": "stdout",
     "output_type": "stream",
     "text": [
      "CPU times: user 9.33 s, sys: 11.7 ms, total: 9.34 s\n",
      "Wall time: 9.41 s\n"
     ]
    }
   ],
   "source": [
    "%%time\n",
    "gfr.export_detail_comp_promp_to_sheet(\n",
    "    wb_feedback_report, df_ets.copy(), df_region.copy(), date_report\n",
    ")"
   ]
  },
  {
   "cell_type": "markdown",
   "id": "1bc53552-bddd-4167-8d4b-1e222812908a",
   "metadata": {
    "papermill": {
     "duration": 0.223677,
     "end_time": "2025-04-13T01:05:33.778837",
     "exception": false,
     "start_time": "2025-04-13T01:05:33.555160",
     "status": "completed"
    },
    "tags": []
   },
   "source": [
    "## 📊 Suite du Calcul des Indicateurs `(2/3)`\n",
    "\n",
    "Cette étape poursuit le traitement des données en complétant le calcul des indicateurs clés pour le rapport de feedback.  \n",
    "Elle permet de finaliser les analyses et d’assurer la cohérence des résultats avant leur exportation.  "
   ]
  },
  {
   "cell_type": "code",
   "execution_count": 20,
   "id": "d4958512-6684-4c9e-8136-e45a6ef49e52",
   "metadata": {
    "execution": {
     "iopub.execute_input": "2025-04-13T01:05:35.155989Z",
     "iopub.status.busy": "2025-04-13T01:05:35.155621Z",
     "iopub.status.idle": "2025-04-13T01:06:30.227607Z",
     "shell.execute_reply": "2025-04-13T01:06:30.226696Z"
    },
    "papermill": {
     "duration": 56.581604,
     "end_time": "2025-04-13T01:06:30.534003",
     "exception": false,
     "start_time": "2025-04-13T01:05:33.952399",
     "status": "completed"
    },
    "tags": []
   },
   "outputs": [
    {
     "name": "stdout",
     "output_type": "stream",
     "text": [
      "CPU times: user 54.9 s, sys: 30.3 ms, total: 54.9 s\n",
      "Wall time: 55.1 s\n"
     ]
    }
   ],
   "source": [
    "%%time\n",
    "(\n",
    "    df_etat_stock,\n",
    "    stock_lvl_decent,\n",
    "    stock_region,\n",
    ") = compute_indicators.analyze_product_stock_status_indicators(\n",
    "    df_prod_traceurs.copy(), df_etat_stock.copy(), date_report\n",
    ")"
   ]
  },
  {
   "cell_type": "markdown",
   "id": "07da741e-c18b-43c3-98c3-702708e1de22",
   "metadata": {
    "papermill": {
     "duration": 0.174639,
     "end_time": "2025-04-13T01:06:30.908628",
     "exception": false,
     "start_time": "2025-04-13T01:06:30.733989",
     "status": "completed"
    },
    "tags": []
   },
   "source": [
    "## 📄 Génération Finale du Fichier Excel `(2/2)`\r\n"
   ]
  },
  {
   "cell_type": "code",
   "execution_count": 21,
   "id": "74a87f9b-de55-498e-8cdc-283ce06cc9a4",
   "metadata": {
    "execution": {
     "iopub.execute_input": "2025-04-13T01:06:32.123339Z",
     "iopub.status.busy": "2025-04-13T01:06:32.122079Z",
     "iopub.status.idle": "2025-04-13T01:08:36.207038Z",
     "shell.execute_reply": "2025-04-13T01:08:36.205898Z"
    },
    "papermill": {
     "duration": 124.648734,
     "end_time": "2025-04-13T01:08:36.602692",
     "exception": false,
     "start_time": "2025-04-13T01:06:31.953958",
     "status": "completed"
    },
    "tags": []
   },
   "outputs": [
    {
     "name": "stdout",
     "output_type": "stream",
     "text": [
      "CPU times: user 2min 3s, sys: 619 ms, total: 2min 3s\n",
      "Wall time: 2min 4s\n"
     ]
    }
   ],
   "source": [
    "%%time\n",
    "gfr.export_stock_data_to_sheet(wb_feedback_report, df_etat_stock.copy())"
   ]
  },
  {
   "cell_type": "code",
   "execution_count": 22,
   "id": "0601f565-4ead-49c3-a12b-cfe8ee2bbb38",
   "metadata": {
    "execution": {
     "iopub.execute_input": "2025-04-13T01:08:37.058558Z",
     "iopub.status.busy": "2025-04-13T01:08:37.058195Z",
     "iopub.status.idle": "2025-04-13T01:08:45.326953Z",
     "shell.execute_reply": "2025-04-13T01:08:45.325790Z"
    },
    "papermill": {
     "duration": 8.488536,
     "end_time": "2025-04-13T01:08:45.328957",
     "exception": false,
     "start_time": "2025-04-13T01:08:36.840421",
     "status": "completed"
    },
    "tags": []
   },
   "outputs": [
    {
     "name": "stdout",
     "output_type": "stream",
     "text": [
      "CPU times: user 8.25 s, sys: 4.87 ms, total: 8.26 s\n",
      "Wall time: 8.26 s\n"
     ]
    }
   ],
   "source": [
    "%%time\n",
    "# Date report doit être révue pour prendre le 11 du mois en cours\n",
    "gfr.export_stock_region_to_sheet(\n",
    "    wb_feedback_report,\n",
    "    stock_lvl_decent.copy(),\n",
    "    stock_region.copy(),\n",
    "    date_report=pd.to_datetime(date_report).replace(day=11).strftime(\"%Y/%m/%d\"),\n",
    ")"
   ]
  },
  {
   "cell_type": "code",
   "execution_count": 23,
   "id": "db675e76-4de7-4c84-8ddc-af1a98b75064",
   "metadata": {
    "execution": {
     "iopub.execute_input": "2025-04-13T01:08:45.769721Z",
     "iopub.status.busy": "2025-04-13T01:08:45.769368Z",
     "iopub.status.idle": "2025-04-13T01:09:15.055691Z",
     "shell.execute_reply": "2025-04-13T01:09:15.054443Z"
    },
    "papermill": {
     "duration": 29.519903,
     "end_time": "2025-04-13T01:09:15.057787",
     "exception": false,
     "start_time": "2025-04-13T01:08:45.537884",
     "status": "completed"
    },
    "tags": []
   },
   "outputs": [],
   "source": [
    "# Sauvegarde du fichier dans un repertoire courant\n",
    "dest_file = (\n",
    "    Path(workspace.files_path)\n",
    "    / f\"Rapport Feedback/code/pipelines/rapport feedback genere/{date_report[:4]}\"\n",
    ")\n",
    "dest_file.mkdir(exist_ok=True, parents=True)\n",
    "\n",
    "dest_file = dest_file / f\"RapportFeedBack-{month_export.upper()}-{date_report[:4]}.xlsx\"\n",
    "\n",
    "wb_feedback_report.save(dest_file.as_posix())\n",
    "\n",
    "del wb_feedback_report"
   ]
  },
  {
   "cell_type": "markdown",
   "id": "f5fbb52c-d238-4c6f-98ef-00a78d080be5",
   "metadata": {
    "papermill": {
     "duration": 0.16737,
     "end_time": "2025-04-13T01:09:15.413967",
     "exception": false,
     "start_time": "2025-04-13T01:09:15.246597",
     "status": "completed"
    },
    "tags": []
   },
   "source": [
    "## 📊 Suite du Calcul des Indicateurs `(3/3)`"
   ]
  },
  {
   "cell_type": "code",
   "execution_count": 24,
   "id": "fa9a00de-fe01-47d7-a943-431a0ed29b37",
   "metadata": {
    "execution": {
     "iopub.execute_input": "2025-04-13T01:09:15.767472Z",
     "iopub.status.busy": "2025-04-13T01:09:15.767016Z",
     "iopub.status.idle": "2025-04-13T01:09:17.875492Z",
     "shell.execute_reply": "2025-04-13T01:09:17.874175Z"
    },
    "papermill": {
     "duration": 2.290117,
     "end_time": "2025-04-13T01:09:17.877199",
     "exception": false,
     "start_time": "2025-04-13T01:09:15.587082",
     "status": "completed"
    },
    "tags": []
   },
   "outputs": [
    {
     "name": "stdout",
     "output_type": "stream",
     "text": [
      "CPU times: user 2.09 s, sys: 1.99 ms, total: 2.09 s\n",
      "Wall time: 2.1 s\n"
     ]
    }
   ],
   "source": [
    "%%time\n",
    "(\n",
    "    stock_lvl_decent,\n",
    "    stock_region,\n",
    "    df_sheet_two,\n",
    "    stock_region_with_central,\n",
    ") = compute_indicators.aggregate_regional_stock_availability_metrics(\n",
    "    stock_lvl_decent.copy(), stock_region.copy()\n",
    ")"
   ]
  },
  {
   "attachments": {},
   "cell_type": "markdown",
   "id": "230f2328-a9bb-4663-9dc2-e17f64fd525f",
   "metadata": {
    "papermill": {
     "duration": 0.586669,
     "end_time": "2025-04-13T01:09:18.623236",
     "exception": false,
     "start_time": "2025-04-13T01:09:18.036567",
     "status": "completed"
    },
    "tags": []
   },
   "source": [
    "# Exportation des données vers la base des données"
   ]
  },
  {
   "cell_type": "markdown",
   "id": "851d680b-5fc8-422b-97cf-58883fb3c9c2",
   "metadata": {
    "papermill": {
     "duration": 2.829287,
     "end_time": "2025-04-13T01:09:21.629906",
     "exception": false,
     "start_time": "2025-04-13T01:09:18.800619",
     "status": "completed"
    },
    "tags": []
   },
   "source": [
    "## Export du lien du fichier vers le répertoire drive"
   ]
  },
  {
   "cell_type": "code",
   "execution_count": 25,
   "id": "75c244b6-83ae-434f-8dfc-ac70e871e769",
   "metadata": {
    "execution": {
     "iopub.execute_input": "2025-04-13T01:09:30.348762Z",
     "iopub.status.busy": "2025-04-13T01:09:30.348393Z",
     "iopub.status.idle": "2025-04-13T01:09:35.201248Z",
     "shell.execute_reply": "2025-04-13T01:09:35.200226Z"
    },
    "papermill": {
     "duration": 5.038214,
     "end_time": "2025-04-13T01:09:35.203241",
     "exception": false,
     "start_time": "2025-04-13T01:09:30.165027",
     "status": "completed"
    },
    "tags": []
   },
   "outputs": [
    {
     "name": "stdout",
     "output_type": "stream",
     "text": [
      "Fichier trouvé : RAPPORTFEEDBACK-MARS-2025.XLSX (ID: 14BA3DxUoFR-u7ZVvAiQGwCefOB_OU49_)\n"
     ]
    },
    {
     "name": "stdout",
     "output_type": "stream",
     "text": [
      "Fichier supprimé : RAPPORTFEEDBACK-MARS-2025.XLSX\n"
     ]
    }
   ],
   "source": [
    "share_link = upload_file_to_drive.upload_file_and_get_share_link(\n",
    "    dest_file.as_posix(), date_report=date_report\n",
    ")\n",
    "\n",
    "df_share_link = pd.DataFrame(\n",
    "    data=[{\"share_link\": share_link, \"date_report\": pd.to_datetime(date_report)}]\n",
    ")\n",
    "\n",
    "db_ops.civ_cursor.execute(\n",
    "    f\"\"\"\n",
    "DELETE FROM {schema_name}.share_link_fbr\n",
    "WHERE date_report = '{date_report}'\n",
    "\"\"\"\n",
    ")\n",
    "\n",
    "db_ops.conn.commit()\n",
    "\n",
    "df_share_link.to_sql(\n",
    "    \"share_link_fbr\",\n",
    "    con=db_ops.civ_engine,\n",
    "    schema=schema_name,\n",
    "    index=False,\n",
    "    if_exists=\"append\",\n",
    ")\n",
    "\n",
    "db_ops.civ_engine.dispose()\n",
    "\n",
    "del df_share_link"
   ]
  },
  {
   "cell_type": "markdown",
   "id": "567afe0d-0806-4827-adce-cfcfc760e605",
   "metadata": {
    "papermill": {
     "duration": 0.196263,
     "end_time": "2025-04-13T01:09:35.629577",
     "exception": false,
     "start_time": "2025-04-13T01:09:35.433314",
     "status": "completed"
    },
    "tags": []
   },
   "source": [
    "## Exportation des autres tables"
   ]
  },
  {
   "cell_type": "code",
   "execution_count": 26,
   "id": "f22bdf2e-69fe-47c5-ac75-73b2918a7550",
   "metadata": {
    "execution": {
     "iopub.execute_input": "2025-04-13T01:09:35.982745Z",
     "iopub.status.busy": "2025-04-13T01:09:35.982355Z",
     "iopub.status.idle": "2025-04-13T01:09:35.991416Z",
     "shell.execute_reply": "2025-04-13T01:09:35.990186Z"
    },
    "papermill": {
     "duration": 0.187817,
     "end_time": "2025-04-13T01:09:35.993306",
     "exception": false,
     "start_time": "2025-04-13T01:09:35.805489",
     "status": "completed"
    },
    "tags": []
   },
   "outputs": [],
   "source": [
    "# completude_promptitude_par_ets\n",
    "df_comp_promp_ets = df_ets.rename(\n",
    "    columns=lambda x: x.lower().replace(\" \", \"_\").replace(\"-\", \"_\")\n",
    "    if x not in (\"Code\", \"Site\", \"Region\")\n",
    "    else x\n",
    ")\n",
    "\n",
    "# completude_promptitude_attendu_taux_region\n",
    "df_comp_promp_region = df_region.rename(\n",
    "    columns=lambda x: x.lower().replace(\" \", \"_\") if x not in (\"Region\") else x\n",
    ")"
   ]
  },
  {
   "cell_type": "code",
   "execution_count": 27,
   "id": "cf8e1fe3-3722-413b-b5f3-c477efdbc4c0",
   "metadata": {
    "execution": {
     "iopub.execute_input": "2025-04-13T01:09:36.334685Z",
     "iopub.status.busy": "2025-04-13T01:09:36.333767Z",
     "iopub.status.idle": "2025-04-13T01:09:36.340490Z",
     "shell.execute_reply": "2025-04-13T01:09:36.339181Z"
    },
    "papermill": {
     "duration": 0.182486,
     "end_time": "2025-04-13T01:09:36.342447",
     "exception": false,
     "start_time": "2025-04-13T01:09:36.159961",
     "status": "completed"
    },
    "tags": []
   },
   "outputs": [],
   "source": [
    "date_report = pd.to_datetime(date_report).strftime(\"%d-%m-%Y\")"
   ]
  },
  {
   "cell_type": "code",
   "execution_count": 28,
   "id": "bd05188a-0ee8-4c23-8fac-c60a07f5d45f",
   "metadata": {
    "execution": {
     "iopub.execute_input": "2025-04-13T01:09:44.452039Z",
     "iopub.status.busy": "2025-04-13T01:09:44.451664Z",
     "iopub.status.idle": "2025-04-13T01:09:44.461884Z",
     "shell.execute_reply": "2025-04-13T01:09:44.460844Z"
    },
    "papermill": {
     "duration": 4.292123,
     "end_time": "2025-04-13T01:09:44.463753",
     "exception": false,
     "start_time": "2025-04-13T01:09:40.171630",
     "status": "completed"
    },
    "tags": []
   },
   "outputs": [],
   "source": [
    "df_etat_stock[\"date_report\"] = pd.to_datetime(date_report, format=\"%d-%m-%Y\")\n",
    "stock_region_with_central[\"date_report\"] = pd.to_datetime(\n",
    "    date_report, format=\"%d-%m-%Y\"\n",
    ")\n",
    "df_sheet_two[\"date_report\"] = pd.to_datetime(date_report, format=\"%d-%m-%Y\")\n",
    "\n",
    "# Some change here\n",
    "df_comp_promp_ets[\"date_report\"] = pd.to_datetime(date_report, format=\"%d-%m-%Y\")\n",
    "df_comp_promp_region[\"date_report\"] = pd.to_datetime(date_report, format=\"%d-%m-%Y\")"
   ]
  },
  {
   "cell_type": "code",
   "execution_count": 29,
   "id": "0fce1414-e756-4396-9fed-e600bc930091",
   "metadata": {
    "execution": {
     "iopub.execute_input": "2025-04-13T01:09:45.364927Z",
     "iopub.status.busy": "2025-04-13T01:09:45.364573Z",
     "iopub.status.idle": "2025-04-13T01:09:45.372654Z",
     "shell.execute_reply": "2025-04-13T01:09:45.371466Z"
    },
    "jupyter": {
     "source_hidden": true
    },
    "papermill": {
     "duration": 0.177939,
     "end_time": "2025-04-13T01:09:45.374552",
     "exception": false,
     "start_time": "2025-04-13T01:09:45.196613",
     "status": "completed"
    },
    "tags": []
   },
   "outputs": [],
   "source": [
    "df_etat_stock.rename(\n",
    "    columns={\n",
    "        \"CODE\": \"Code_produit\",\n",
    "        \"PROGRAMME\": \"programme_abrv\",\n",
    "        \"SOUS-PROGRAMME\": \"sous_programme\",\n",
    "        \"PERIODE\": \"Periode\",\n",
    "        \"REGION\": \"Region\",\n",
    "        \"DISTRICT\": \"District\",\n",
    "        \"CODE ETS\": \"Code_ets\",\n",
    "        \"STRUCTURE\": \"Structure\",\n",
    "        \"CATEGORIE PRODUIT\": \"cat_produit\",\n",
    "        \"PRODUIT\": \"produit_designation\",\n",
    "        \"UNITE DE RAPPORTAGE\": \"unit_rapportage\",\n",
    "        \"STOCK INITIAL\": \"stock_initial\",\n",
    "        \"QUANTITE RECUE\": \"qte_recue\",\n",
    "        \"QUANTITE UTILISEE\": \"qte_utilisee\",\n",
    "        \"PERTES ET AJUSTEMENT\": \"perte_ajust\",\n",
    "        \"JOURS DE RUPTURE\": \"j_rupture\",\n",
    "        \"SDU\": \"sdu\",\n",
    "        \"CMM ESIGL\": \"cmm_esigl\",\n",
    "        \"CMM gestionnaire\": \"cmm_gest\",\n",
    "        \"QUANTITE PROPOSEE\": \"qte_prop\",\n",
    "        \"QUANTITE COMMANDEE\": \"qte_cmde\",\n",
    "        \"QUANTITE APPROUVEE\": \"qte_approuv\",\n",
    "        \"MSD\": \"msd\",\n",
    "        \"ETAT DU STOCK\": \"etat_stock\",\n",
    "        \"BESOIN CMMMANDE URGENTE\": \"besoin_cmde_urg\",\n",
    "        \"BESOIN TRANSFERT IN\": \"besoin_trsf_in\",\n",
    "        \"QUANTITE A TRANSFERER OUT\": \"qte_trsf_out\",\n",
    "        \"CATEGORIE_DU_PRODUIT\": \"cat_du_produit\",\n",
    "    }, inplace=True)\n",
    "\n",
    "stock_region_with_central.rename(columns={\"Code\": \"Code_produit\", \"MSD\": \"msd\", \"STATUT\": \"Statut\"}, inplace=True)"
   ]
  },
  {
   "cell_type": "markdown",
   "id": "04ecbc11-662e-4a0c-ac7b-42705d0bcafa",
   "metadata": {
    "papermill": {
     "duration": 0.181826,
     "end_time": "2025-04-13T01:09:45.739058",
     "exception": false,
     "start_time": "2025-04-13T01:09:45.557232",
     "status": "completed"
    },
    "tags": []
   },
   "source": [
    "### Mise à jour des dimensions"
   ]
  },
  {
   "cell_type": "markdown",
   "id": "dfe1331f-a313-4972-9067-dcf845809e0e",
   "metadata": {
    "papermill": {
     "duration": 0.202329,
     "end_time": "2025-04-13T01:09:46.197268",
     "exception": false,
     "start_time": "2025-04-13T01:09:45.994939",
     "status": "completed"
    },
    "tags": []
   },
   "source": [
    "#### `Dimensions régions`\n",
    "\n",
    "\n",
    "Cette étape permet de maintenir à jour la **dimension des régions** dans la base de données.  \r\n",
    "Elle garantit que toutes les informations régionales sont alignées avec les mises à jour effectuées dans **eSIGL**\n",
    "\n",
    " 🛠 Actions réalisées :  \r\n",
    "1. **Mise à jour des régions existantes**  \r\n",
    "   - Si des modifications ont été apportées aux régions dans **eSIGL**, elles sont répercutées dans notre base de données.  \r\n",
    "   - Les informations régionales (ex. : noms, codes, identifiants) sont mises à jour pour rester cohérentes avec la source officielle.  \r\n",
    "\r\n",
    "2. **Ajout des nouvelles régions**  \r\n",
    "   - Si certaines régions ne sont pas encore présentes dans notre base, elles sont automatiquement ajoutées.  \r\n",
    "   - Cela garantit que l’ensemble des régions récentes est bien pris en compte dans les analyses et traitements futurs.  \r\n",
    "  "
   ]
  },
  {
   "cell_type": "code",
   "execution_count": 30,
   "id": "4dcda020-262e-4b3a-b8fc-32c319769b11",
   "metadata": {
    "execution": {
     "iopub.execute_input": "2025-04-13T01:09:46.830154Z",
     "iopub.status.busy": "2025-04-13T01:09:46.829767Z",
     "iopub.status.idle": "2025-04-13T01:09:46.924966Z",
     "shell.execute_reply": "2025-04-13T01:09:46.924014Z"
    },
    "papermill": {
     "duration": 0.538882,
     "end_time": "2025-04-13T01:09:46.926907",
     "exception": false,
     "start_time": "2025-04-13T01:09:46.388025",
     "status": "completed"
    },
    "tags": []
   },
   "outputs": [
    {
     "data": {
      "text/html": [
       "<div>\n",
       "<style scoped>\n",
       "    .dataframe tbody tr th:only-of-type {\n",
       "        vertical-align: middle;\n",
       "    }\n",
       "\n",
       "    .dataframe tbody tr th {\n",
       "        vertical-align: top;\n",
       "    }\n",
       "\n",
       "    .dataframe thead th {\n",
       "        text-align: right;\n",
       "    }\n",
       "</style>\n",
       "<table border=\"1\" class=\"dataframe\">\n",
       "  <thead>\n",
       "    <tr style=\"text-align: right;\">\n",
       "      <th></th>\n",
       "      <th>Region</th>\n",
       "      <th>id_region_esigl</th>\n",
       "      <th>Code_region</th>\n",
       "      <th>Region_existing</th>\n",
       "      <th>region_order</th>\n",
       "    </tr>\n",
       "  </thead>\n",
       "  <tbody>\n",
       "  </tbody>\n",
       "</table>\n",
       "</div>"
      ],
      "text/plain": [
       "Empty DataFrame\n",
       "Columns: [Region, id_region_esigl, Code_region, Region_existing, region_order]\n",
       "Index: []"
      ]
     },
     "execution_count": 30,
     "metadata": {},
     "output_type": "execute_result"
    }
   ],
   "source": [
    "# Recherche des nouvelles régions et modifications sur les régions survenues au cours de la période dans eSIGL\n",
    "df_new_region = update_dimension.update_dimension_table(\n",
    "    dimension_name=\"dim_region\",\n",
    "    source_dfs=[\n",
    "        df_transmission[[\"region\", \"id_region_esigl\"]].rename(\n",
    "            columns={\"region\": \"Region\"}\n",
    "        ),\n",
    "        df_etat_stock[[\"Region\", \"id_region_esigl\"]],\n",
    "    ],\n",
    "    merge_on=[\"id_region_esigl\"],\n",
    "    change_columns=[\"Region\"],\n",
    "    code_generation=partial(update_dimension.region_code_generation, metabase=metabase),\n",
    "    schema_name=schema_name,\n",
    ")\n",
    "\n",
    "df_new_region.head(3)"
   ]
  },
  {
   "cell_type": "code",
   "execution_count": 31,
   "id": "35f32f33-7697-4db4-9dac-9d0ab525bbf4",
   "metadata": {
    "execution": {
     "iopub.execute_input": "2025-04-13T01:09:49.099582Z",
     "iopub.status.busy": "2025-04-13T01:09:49.099182Z",
     "iopub.status.idle": "2025-04-13T01:09:49.104944Z",
     "shell.execute_reply": "2025-04-13T01:09:49.103526Z"
    },
    "papermill": {
     "duration": 0.981121,
     "end_time": "2025-04-13T01:09:49.107064",
     "exception": false,
     "start_time": "2025-04-13T01:09:48.125943",
     "status": "completed"
    },
    "tags": []
   },
   "outputs": [],
   "source": [
    "# Mise à jour des informations au niveau de la base de données\n",
    "upsert_table.upsert_table(\n",
    "    df_new_region, \"dim_region\", schema_name, engine=db_ops.civ_engine\n",
    ")\n",
    "\n",
    "del df_new_region"
   ]
  },
  {
   "cell_type": "code",
   "execution_count": 32,
   "id": "c67951f7-d439-44e6-b022-295a87335951",
   "metadata": {
    "execution": {
     "iopub.execute_input": "2025-04-13T01:09:56.285446Z",
     "iopub.status.busy": "2025-04-13T01:09:56.284980Z",
     "iopub.status.idle": "2025-04-13T01:09:56.309077Z",
     "shell.execute_reply": "2025-04-13T01:09:56.307739Z"
    },
    "papermill": {
     "duration": 0.259869,
     "end_time": "2025-04-13T01:09:56.311011",
     "exception": false,
     "start_time": "2025-04-13T01:09:56.051142",
     "status": "completed"
    },
    "tags": []
   },
   "outputs": [
    {
     "data": {
      "text/html": [
       "<div>\n",
       "<style scoped>\n",
       "    .dataframe tbody tr th:only-of-type {\n",
       "        vertical-align: middle;\n",
       "    }\n",
       "\n",
       "    .dataframe tbody tr th {\n",
       "        vertical-align: top;\n",
       "    }\n",
       "\n",
       "    .dataframe thead th {\n",
       "        text-align: right;\n",
       "    }\n",
       "</style>\n",
       "<table border=\"1\" class=\"dataframe\">\n",
       "  <thead>\n",
       "    <tr style=\"text-align: right;\">\n",
       "      <th></th>\n",
       "      <th>Code_region</th>\n",
       "      <th>Region</th>\n",
       "      <th>region_order</th>\n",
       "      <th>id_region_esigl</th>\n",
       "    </tr>\n",
       "  </thead>\n",
       "  <tbody>\n",
       "    <tr>\n",
       "      <th>0</th>\n",
       "      <td>NAT</td>\n",
       "      <td>NATIONAL</td>\n",
       "      <td>1</td>\n",
       "      <td>NaN</td>\n",
       "    </tr>\n",
       "    <tr>\n",
       "      <th>1</th>\n",
       "      <td>N-PSP</td>\n",
       "      <td>NOUVELLE PSP</td>\n",
       "      <td>0</td>\n",
       "      <td>NaN</td>\n",
       "    </tr>\n",
       "  </tbody>\n",
       "</table>\n",
       "</div>"
      ],
      "text/plain": [
       "  Code_region        Region  region_order  id_region_esigl\n",
       "0         NAT      NATIONAL             1              NaN\n",
       "1       N-PSP  NOUVELLE PSP             0              NaN"
      ]
     },
     "execution_count": 32,
     "metadata": {},
     "output_type": "execute_result"
    }
   ],
   "source": [
    "df_region = db_ops.get_data_from_database(\"dim_region\")\n",
    "\n",
    "df_region.head(2)"
   ]
  },
  {
   "cell_type": "markdown",
   "id": "cc04f7ba-a6f5-4663-9545-d7ce64e6fdd9",
   "metadata": {
    "papermill": {
     "duration": 0.183134,
     "end_time": "2025-04-13T01:09:56.689290",
     "exception": false,
     "start_time": "2025-04-13T01:09:56.506156",
     "status": "completed"
    },
    "tags": []
   },
   "source": [
    "#### `Dimension districts`\n",
    "\n",
    "Mise à Jour et Ajout d'Informations Complémentaires  \n",
    "\n",
    "Avant d'exécuter le traitement, il est **essentiel** de mettre à jour les informations si des modifications ont été effectuées dans **eSIGL**, notamment sur les districts.  \n",
    "\n",
    "Étapes à suivre :  \n",
    "1. **Vérification et mise à jour des informations existantes**  \n",
    "   - Si des districts ont été modifiés ou ajoutés dans **eSIGL**, il faut s'assurer que ces changements sont bien répercutés dans les données utilisées.  \n",
    "\n",
    "2. **Ajout des informations complémentaires**  \n",
    "   - Une fois la mise à jour effectuée, il est nécessaire d'ajouter toutes les informations additionnelles requises pour le bon fonctionnement du processus."
   ]
  },
  {
   "cell_type": "code",
   "execution_count": 33,
   "id": "806cb5c3-b781-448a-af07-f70082b08ba9",
   "metadata": {
    "execution": {
     "iopub.execute_input": "2025-04-13T01:09:58.690499Z",
     "iopub.status.busy": "2025-04-13T01:09:58.690041Z",
     "iopub.status.idle": "2025-04-13T01:09:58.724402Z",
     "shell.execute_reply": "2025-04-13T01:09:58.723225Z"
    },
    "papermill": {
     "duration": 0.768966,
     "end_time": "2025-04-13T01:09:58.726336",
     "exception": false,
     "start_time": "2025-04-13T01:09:57.957370",
     "status": "completed"
    },
    "tags": []
   },
   "outputs": [],
   "source": [
    "df_new_district = update_dimension.update_dimension_table(\n",
    "    dimension_name=\"dim_district\",\n",
    "    source_dfs=[\n",
    "        df_transmission[[\"id_region_esigl\", \"district\", \"id_district_esigl\"]].rename(\n",
    "            columns={\"district\": \"District\"}\n",
    "        ),\n",
    "        df_etat_stock[[\"id_region_esigl\", \"District\", \"id_district_esigl\"]],\n",
    "    ],\n",
    "    merge_on=[\"id_district_esigl\"],\n",
    "    change_columns=[\"District\"],\n",
    "    code_generation=partial(\n",
    "        update_dimension.district_code_generation,\n",
    "        tb_region=\"dim_region\",\n",
    "        schema_name=schema_name,\n",
    "    ),\n",
    "    schema_name=schema_name,\n",
    ")"
   ]
  },
  {
   "cell_type": "code",
   "execution_count": 34,
   "id": "45501e53-073e-4d94-b30b-7752526be3d7",
   "metadata": {
    "execution": {
     "iopub.execute_input": "2025-04-13T01:10:08.740581Z",
     "iopub.status.busy": "2025-04-13T01:10:08.740154Z",
     "iopub.status.idle": "2025-04-13T01:10:08.745605Z",
     "shell.execute_reply": "2025-04-13T01:10:08.744653Z"
    },
    "papermill": {
     "duration": 8.174275,
     "end_time": "2025-04-13T01:10:08.747589",
     "exception": false,
     "start_time": "2025-04-13T01:10:00.573314",
     "status": "completed"
    },
    "tags": []
   },
   "outputs": [],
   "source": [
    "upsert_table.upsert_table(\n",
    "    df_new_district, \"dim_district\", schema_name, engine=db_ops.civ_engine\n",
    ")\n",
    "\n",
    "del df_new_district"
   ]
  },
  {
   "cell_type": "code",
   "execution_count": 35,
   "id": "a0fcdf48-b34c-49a7-8042-9fd5023c4cf4",
   "metadata": {
    "execution": {
     "iopub.execute_input": "2025-04-13T01:10:09.141533Z",
     "iopub.status.busy": "2025-04-13T01:10:09.141085Z",
     "iopub.status.idle": "2025-04-13T01:10:09.160896Z",
     "shell.execute_reply": "2025-04-13T01:10:09.159604Z"
    },
    "papermill": {
     "duration": 0.207827,
     "end_time": "2025-04-13T01:10:09.163272",
     "exception": false,
     "start_time": "2025-04-13T01:10:08.955445",
     "status": "completed"
    },
    "tags": []
   },
   "outputs": [],
   "source": [
    "df_district_db = db_ops.get_data_from_database(\"dim_district\")"
   ]
  },
  {
   "cell_type": "markdown",
   "id": "c249201e-93b9-4d1f-b184-96c201752181",
   "metadata": {
    "papermill": {
     "duration": 0.245438,
     "end_time": "2025-04-13T01:10:10.058448",
     "exception": false,
     "start_time": "2025-04-13T01:10:09.813010",
     "status": "completed"
    },
    "tags": []
   },
   "source": [
    "#### `Dimensions Structure`"
   ]
  },
  {
   "cell_type": "markdown",
   "id": "c76f15d1-6428-46aa-890a-1d9e361844f3",
   "metadata": {
    "papermill": {
     "duration": 0.19572,
     "end_time": "2025-04-13T01:10:11.486562",
     "exception": false,
     "start_time": "2025-04-13T01:10:11.290842",
     "status": "completed"
    },
    "tags": []
   },
   "source": [
    "##### Première mise à jour de la dimensions structure avec les données eSIGL"
   ]
  },
  {
   "cell_type": "code",
   "execution_count": 36,
   "id": "bccd5ebd-6789-41b2-9668-f975505d2e66",
   "metadata": {
    "execution": {
     "iopub.execute_input": "2025-04-13T01:10:13.562381Z",
     "iopub.status.busy": "2025-04-13T01:10:13.561865Z",
     "iopub.status.idle": "2025-04-13T01:10:13.623739Z",
     "shell.execute_reply": "2025-04-13T01:10:13.622442Z"
    },
    "papermill": {
     "duration": 0.865411,
     "end_time": "2025-04-13T01:10:13.626024",
     "exception": false,
     "start_time": "2025-04-13T01:10:12.760613",
     "status": "completed"
    },
    "tags": []
   },
   "outputs": [],
   "source": [
    "df_new_structure = update_dimension.update_dimension_table(\n",
    "    dimension_name=\"dim_structure\",\n",
    "    source_dfs=[\n",
    "        df_etat_stock[\n",
    "            [\"Code_ets\", \"Structure\", \"TYPE DE STRUCTURE\", \"id_district_esigl\"]\n",
    "        ].rename(columns={\"TYPE DE STRUCTURE\": \"type_structure\"})\n",
    "    ],\n",
    "    merge_on=[\"Code_ets\"],\n",
    "    change_columns=[\"Structure\", \"type_structure\"],\n",
    "    schema_name=schema_name,\n",
    ")"
   ]
  },
  {
   "cell_type": "code",
   "execution_count": 37,
   "id": "cfa3d52a-3dc7-406e-9481-0cb9fa0449e7",
   "metadata": {
    "execution": {
     "iopub.execute_input": "2025-04-13T01:10:17.089570Z",
     "iopub.status.busy": "2025-04-13T01:10:17.088387Z",
     "iopub.status.idle": "2025-04-13T01:10:17.094591Z",
     "shell.execute_reply": "2025-04-13T01:10:17.093188Z"
    },
    "papermill": {
     "duration": 0.726905,
     "end_time": "2025-04-13T01:10:17.096707",
     "exception": false,
     "start_time": "2025-04-13T01:10:16.369802",
     "status": "completed"
    },
    "tags": []
   },
   "outputs": [],
   "source": [
    "# Exportation des données vers la BD\n",
    "upsert_table.upsert_table(\n",
    "    df_new_structure, \"dim_structure\", schema_name, engine=db_ops.civ_engine\n",
    ")\n",
    "\n",
    "del df_new_structure"
   ]
  },
  {
   "cell_type": "markdown",
   "id": "61072ee4-6260-4b08-87c5-31133342a342",
   "metadata": {
    "papermill": {
     "duration": 0.183133,
     "end_time": "2025-04-13T01:10:17.457175",
     "exception": false,
     "start_time": "2025-04-13T01:10:17.274042",
     "status": "completed"
    },
    "tags": []
   },
   "source": [
    "##### Seconde mise à jour avec la liste des sites attendus"
   ]
  },
  {
   "cell_type": "code",
   "execution_count": 38,
   "id": "f967b281-4be5-4ded-9c43-ceca82e249e8",
   "metadata": {
    "execution": {
     "iopub.execute_input": "2025-04-13T01:10:17.894372Z",
     "iopub.status.busy": "2025-04-13T01:10:17.893749Z",
     "iopub.status.idle": "2025-04-13T01:10:17.948805Z",
     "shell.execute_reply": "2025-04-13T01:10:17.947558Z"
    },
    "papermill": {
     "duration": 0.228755,
     "end_time": "2025-04-13T01:10:17.951222",
     "exception": false,
     "start_time": "2025-04-13T01:10:17.722467",
     "status": "completed"
    },
    "scrolled": true,
    "tags": []
   },
   "outputs": [],
   "source": [
    "df_site_attendu[\"District_standard\"] = df_site_attendu[\"District\"].apply(\n",
    "    lambda x: excel_file_handler.standardize_text(x)\n",
    ")\n",
    "\n",
    "df_district_db = db_ops.get_data_from_database(\"dim_district\")\n",
    "df_structure_db = db_ops.get_data_from_database(\"dim_structure\")\n",
    "df_structure_db[\"Code_ets\"] = df_structure_db[\"Code_ets\"].astype(\"Int64\")\n",
    "\n",
    "df_district_db[\"District\"] = df_district_db[\"District\"].apply(\n",
    "    lambda x: excel_file_handler.standardize_text(x)\n",
    ")\n",
    "\n",
    "df_site_attendu = df_site_attendu.merge(\n",
    "    df_district_db,\n",
    "    left_on=\"District_standard\",\n",
    "    right_on=\"District\",\n",
    "    suffixes=(\"\", \"_existing\"),\n",
    ")\n",
    "\n",
    "df_new_structure = (\n",
    "    df_site_attendu[[\"Code\", \"Site\", \"id_district_esigl\"]]\n",
    "    .drop_duplicates()\n",
    "    .rename(columns={\"Code\": \"Code_ets\", \"Site\": \"Structure\"})\n",
    ")\n",
    "\n",
    "df_new_structure = df_new_structure.loc[\n",
    "    ~df_new_structure[\"Code_ets\"].isin(df_structure_db[\"Code_ets\"])\n",
    "]\n",
    "\n",
    "df_new_structure = df_new_structure.merge(df_district_db, on=\"id_district_esigl\")\n",
    "df_new_structure[\"type_structure\"] = np.nan\n",
    "\n",
    "df_new_structure = df_new_structure[df_structure_db.columns.to_list()]"
   ]
  },
  {
   "cell_type": "code",
   "execution_count": 39,
   "id": "6b3f18c9-749f-4dc7-9fe2-ae8f0341b594",
   "metadata": {
    "execution": {
     "iopub.execute_input": "2025-04-13T01:10:25.244428Z",
     "iopub.status.busy": "2025-04-13T01:10:25.243983Z",
     "iopub.status.idle": "2025-04-13T01:10:25.249482Z",
     "shell.execute_reply": "2025-04-13T01:10:25.248200Z"
    },
    "papermill": {
     "duration": 0.229351,
     "end_time": "2025-04-13T01:10:25.251596",
     "exception": false,
     "start_time": "2025-04-13T01:10:25.022245",
     "status": "completed"
    },
    "tags": []
   },
   "outputs": [],
   "source": [
    "# Exportation des données vers la BD\n",
    "upsert_table.upsert_table(\n",
    "    df_new_structure, \"dim_structure\", schema_name, engine=db_ops.civ_engine\n",
    ")\n",
    "\n",
    "del df_new_structure"
   ]
  },
  {
   "cell_type": "code",
   "execution_count": 40,
   "id": "e6b86dbb-835d-4a36-aa28-63b38f4e0c16",
   "metadata": {
    "execution": {
     "iopub.execute_input": "2025-04-13T01:10:25.635917Z",
     "iopub.status.busy": "2025-04-13T01:10:25.635536Z",
     "iopub.status.idle": "2025-04-13T01:10:25.652981Z",
     "shell.execute_reply": "2025-04-13T01:10:25.651964Z"
    },
    "papermill": {
     "duration": 0.195417,
     "end_time": "2025-04-13T01:10:25.654854",
     "exception": false,
     "start_time": "2025-04-13T01:10:25.459437",
     "status": "completed"
    },
    "tags": []
   },
   "outputs": [],
   "source": [
    "df_structure_db = db_ops.get_data_from_database(\"dim_structure\")"
   ]
  },
  {
   "cell_type": "markdown",
   "id": "ea9761e2-e315-4773-80c9-baea93deba18",
   "metadata": {
    "papermill": {
     "duration": 0.942509,
     "end_time": "2025-04-13T01:10:26.769892",
     "exception": false,
     "start_time": "2025-04-13T01:10:25.827383",
     "status": "completed"
    },
    "tags": []
   },
   "source": [
    "#### `Dimensions programme`"
   ]
  },
  {
   "cell_type": "code",
   "execution_count": 41,
   "id": "3515186e-bfed-4550-95a1-3b26695d2781",
   "metadata": {
    "execution": {
     "iopub.execute_input": "2025-04-13T01:10:27.717830Z",
     "iopub.status.busy": "2025-04-13T01:10:27.717131Z",
     "iopub.status.idle": "2025-04-13T01:10:27.764296Z",
     "shell.execute_reply": "2025-04-13T01:10:27.763301Z"
    },
    "papermill": {
     "duration": 0.541173,
     "end_time": "2025-04-13T01:10:27.766608",
     "exception": false,
     "start_time": "2025-04-13T01:10:27.225435",
     "status": "completed"
    },
    "tags": []
   },
   "outputs": [
    {
     "data": {
      "text/html": [
       "<div>\n",
       "<style scoped>\n",
       "    .dataframe tbody tr th:only-of-type {\n",
       "        vertical-align: middle;\n",
       "    }\n",
       "\n",
       "    .dataframe tbody tr th {\n",
       "        vertical-align: top;\n",
       "    }\n",
       "\n",
       "    .dataframe thead th {\n",
       "        text-align: right;\n",
       "    }\n",
       "</style>\n",
       "<table border=\"1\" class=\"dataframe\">\n",
       "  <thead>\n",
       "    <tr style=\"text-align: right;\">\n",
       "      <th></th>\n",
       "      <th>Programme</th>\n",
       "      <th>programme_order</th>\n",
       "    </tr>\n",
       "  </thead>\n",
       "  <tbody>\n",
       "    <tr>\n",
       "      <th>0</th>\n",
       "      <td>PNLS</td>\n",
       "      <td>1</td>\n",
       "    </tr>\n",
       "    <tr>\n",
       "      <th>1</th>\n",
       "      <td>PNLP</td>\n",
       "      <td>2</td>\n",
       "    </tr>\n",
       "    <tr>\n",
       "      <th>2</th>\n",
       "      <td>PNSME</td>\n",
       "      <td>3</td>\n",
       "    </tr>\n",
       "    <tr>\n",
       "      <th>3</th>\n",
       "      <td>PNN</td>\n",
       "      <td>4</td>\n",
       "    </tr>\n",
       "    <tr>\n",
       "      <th>4</th>\n",
       "      <td>PNLT</td>\n",
       "      <td>5</td>\n",
       "    </tr>\n",
       "    <tr>\n",
       "      <th>5</th>\n",
       "      <td>TOUS</td>\n",
       "      <td>6</td>\n",
       "    </tr>\n",
       "  </tbody>\n",
       "</table>\n",
       "</div>"
      ],
      "text/plain": [
       "  Programme  programme_order\n",
       "0      PNLS                1\n",
       "1      PNLP                2\n",
       "2     PNSME                3\n",
       "3       PNN                4\n",
       "4      PNLT                5\n",
       "5      TOUS                6"
      ]
     },
     "execution_count": 41,
     "metadata": {},
     "output_type": "execute_result"
    }
   ],
   "source": [
    "prog_extract_stock = set(df_etat_stock.programme_abrv.unique()).union([\"TOUS\"])\n",
    "\n",
    "df_programme = (\n",
    "    pd.DataFrame({\"Programme\": list(prog_extract_stock)})\n",
    "    .sort_values(by=\"Programme\")\n",
    "    .reset_index()\n",
    "    .drop(columns=\"index\")\n",
    ")\n",
    "df_programme.dropna(inplace=True)\n",
    "\n",
    "del prog_extract_stock\n",
    "\n",
    "# Pour l'instant ce n'est que les produits des 5 programmes de santé qui sont gérés\n",
    "programme_order = {\"PNLS\": 1, \"PNLP\": 2, \"PNSME\": 3, \"PNN\": 4, \"PNLT\": 5, \"TOUS\": 6}\n",
    "df_programme[\"programme_order\"] = df_programme[\"Programme\"].map(programme_order)\n",
    "df_programme.sort_values(\"programme_order\", inplace=True)\n",
    "del programme_order\n",
    "\n",
    "df_programme = db_ops.get_full_table(\n",
    "    df_programme,\n",
    "    \"dim_programme\",\n",
    ")\n",
    "\n",
    "df_programme"
   ]
  },
  {
   "cell_type": "markdown",
   "id": "2f6ef55d-4979-476b-ad26-1cffe45efcc2",
   "metadata": {
    "papermill": {
     "duration": 18.992088,
     "end_time": "2025-04-13T01:10:49.794827",
     "exception": false,
     "start_time": "2025-04-13T01:10:30.802739",
     "status": "completed"
    },
    "tags": []
   },
   "source": [
    "#### `Dimension sous_programme`"
   ]
  },
  {
   "cell_type": "code",
   "execution_count": 42,
   "id": "0b5fafe6-7feb-4eb3-b711-8c477aa47463",
   "metadata": {
    "execution": {
     "iopub.execute_input": "2025-04-13T01:10:50.306189Z",
     "iopub.status.busy": "2025-04-13T01:10:50.305024Z",
     "iopub.status.idle": "2025-04-13T01:10:50.341917Z",
     "shell.execute_reply": "2025-04-13T01:10:50.340827Z"
    },
    "papermill": {
     "duration": 0.226114,
     "end_time": "2025-04-13T01:10:50.343832",
     "exception": false,
     "start_time": "2025-04-13T01:10:50.117718",
     "status": "completed"
    },
    "tags": []
   },
   "outputs": [],
   "source": [
    "df_sous_prog_db = db_ops.get_data_from_database(\n",
    "    \"dim_sous_programme\",\n",
    ")\n",
    "\n",
    "df_sous_prog_db = df_sous_prog_db[[\"Programme\", \"Sous_programme\"]].rename(\n",
    "    columns={\"Programme\": \"programme_abrv\", \"Sous_programme\": \"sous_programme\"}\n",
    ")"
   ]
  },
  {
   "cell_type": "code",
   "execution_count": 43,
   "id": "5f7f1af7-6870-4fa0-a2b8-83f7fde2056b",
   "metadata": {
    "execution": {
     "iopub.execute_input": "2025-04-13T01:10:50.745192Z",
     "iopub.status.busy": "2025-04-13T01:10:50.744635Z",
     "iopub.status.idle": "2025-04-13T01:10:50.771651Z",
     "shell.execute_reply": "2025-04-13T01:10:50.770657Z"
    },
    "papermill": {
     "duration": 0.258269,
     "end_time": "2025-04-13T01:10:50.773500",
     "exception": false,
     "start_time": "2025-04-13T01:10:50.515231",
     "status": "completed"
    },
    "tags": []
   },
   "outputs": [],
   "source": [
    "df_sous_prog = pd.concat(\n",
    "    [\n",
    "        df_etat_stock[[\"programme_abrv\", \"sous_programme\"]].drop_duplicates(),\n",
    "        df_sous_prog_db,\n",
    "    ],\n",
    "    ignore_index=True,\n",
    ").drop_duplicates()\n",
    "\n",
    "df_sous_prog = (\n",
    "    df_sous_prog.sort_values([\"programme_abrv\", \"sous_programme\"])\n",
    "    .reset_index()\n",
    "    .drop(columns=\"index\")\n",
    ")\n",
    "\n",
    "# df_sous_prog['Code_sous_prog'] =\n",
    "df_sous_prog[\"Occurence\"] = df_sous_prog.groupby(\"programme_abrv\").cumcount() + 1\n",
    "df_sous_prog[\"Code_sous_prog\"] = (\n",
    "    df_sous_prog[\"programme_abrv\"] + \"-\" + df_sous_prog[\"Occurence\"].astype(str)\n",
    ")\n",
    "\n",
    "df_sous_prog = df_sous_prog[\n",
    "    [\"Code_sous_prog\", \"sous_programme\", \"programme_abrv\"]\n",
    "].rename(columns={\"sous_programme\": \"Sous_programme\", \"programme_abrv\": \"Programme\"})\n",
    "df_sous_prog = df_sous_prog.map(\n",
    "    lambda x: x.lstrip().rstrip() if isinstance(x, str) else x\n",
    ")\n",
    "\n",
    "del df_sous_prog_db"
   ]
  },
  {
   "cell_type": "code",
   "execution_count": 44,
   "id": "284a53b0-ff93-4d24-9523-2dbb115ad53d",
   "metadata": {
    "execution": {
     "iopub.execute_input": "2025-04-13T01:10:52.366868Z",
     "iopub.status.busy": "2025-04-13T01:10:52.365916Z",
     "iopub.status.idle": "2025-04-13T01:10:52.412850Z",
     "shell.execute_reply": "2025-04-13T01:10:52.411691Z"
    },
    "papermill": {
     "duration": 1.468584,
     "end_time": "2025-04-13T01:10:52.414787",
     "exception": false,
     "start_time": "2025-04-13T01:10:50.946203",
     "status": "completed"
    },
    "tags": []
   },
   "outputs": [
    {
     "data": {
      "text/html": [
       "<div>\n",
       "<style scoped>\n",
       "    .dataframe tbody tr th:only-of-type {\n",
       "        vertical-align: middle;\n",
       "    }\n",
       "\n",
       "    .dataframe tbody tr th {\n",
       "        vertical-align: top;\n",
       "    }\n",
       "\n",
       "    .dataframe thead th {\n",
       "        text-align: right;\n",
       "    }\n",
       "</style>\n",
       "<table border=\"1\" class=\"dataframe\">\n",
       "  <thead>\n",
       "    <tr style=\"text-align: right;\">\n",
       "      <th></th>\n",
       "      <th>Code_sous_prog</th>\n",
       "      <th>Sous_programme</th>\n",
       "      <th>Programme</th>\n",
       "    </tr>\n",
       "  </thead>\n",
       "  <tbody>\n",
       "    <tr>\n",
       "      <th>0</th>\n",
       "      <td>PNLP-1</td>\n",
       "      <td>PNLP-MEDICAMENTS ET INTRANTS</td>\n",
       "      <td>PNLP</td>\n",
       "    </tr>\n",
       "    <tr>\n",
       "      <th>1</th>\n",
       "      <td>PNLS-1</td>\n",
       "      <td>PNLS-ANTIRETROVIRAUX ET IO</td>\n",
       "      <td>PNLS</td>\n",
       "    </tr>\n",
       "  </tbody>\n",
       "</table>\n",
       "</div>"
      ],
      "text/plain": [
       "  Code_sous_prog                Sous_programme Programme\n",
       "0         PNLP-1  PNLP-MEDICAMENTS ET INTRANTS      PNLP\n",
       "1         PNLS-1    PNLS-ANTIRETROVIRAUX ET IO      PNLS"
      ]
     },
     "execution_count": 44,
     "metadata": {},
     "output_type": "execute_result"
    }
   ],
   "source": [
    "df_sous_prog = db_ops.get_full_table(df_sous_prog, \"dim_sous_programme\", )\n",
    "\n",
    "df_sous_prog.head(2)"
   ]
  },
  {
   "cell_type": "markdown",
   "id": "2efd93f2-d482-45ca-abfa-c4f3addf66b2",
   "metadata": {
    "papermill": {
     "duration": 0.228435,
     "end_time": "2025-04-13T01:10:55.934259",
     "exception": false,
     "start_time": "2025-04-13T01:10:55.705824",
     "status": "completed"
    },
    "tags": []
   },
   "source": [
    "#### `Dimension produit`"
   ]
  },
  {
   "cell_type": "code",
   "execution_count": 45,
   "id": "9e5ca46e-6b23-4177-858f-99059be75029",
   "metadata": {
    "execution": {
     "iopub.execute_input": "2025-04-13T01:10:56.293832Z",
     "iopub.status.busy": "2025-04-13T01:10:56.293469Z",
     "iopub.status.idle": "2025-04-13T01:10:56.342697Z",
     "shell.execute_reply": "2025-04-13T01:10:56.341524Z"
    },
    "papermill": {
     "duration": 0.234024,
     "end_time": "2025-04-13T01:10:56.344975",
     "exception": false,
     "start_time": "2025-04-13T01:10:56.110951",
     "status": "completed"
    },
    "tags": []
   },
   "outputs": [],
   "source": [
    "df_new_product = (\n",
    "    df_etat_stock[\n",
    "        [\n",
    "            \"Code_produit\",\n",
    "            \"sous_programme\",\n",
    "            \"produit_designation\",\n",
    "            \"unit_rapportage\",\n",
    "            \"cat_du_produit\",\n",
    "            \"cat_produit\",\n",
    "        ]\n",
    "    ]\n",
    "    .drop_duplicates()\n",
    "    .rename(columns={\"sous_programme\": \"Sous_programme\"})\n",
    ")\n",
    "\n",
    "df_new_product = df_new_product.map(\n",
    "    lambda x: x.lstrip().rstrip() if isinstance(x, str) else x\n",
    ")\n",
    "\n",
    "df_new_product = (\n",
    "    df_new_product.merge(df_sous_prog, how=\"left\", on=\"Sous_programme\")\n",
    "    .drop(columns=[\"Sous_programme\", \"Programme\"])\n",
    "    .rename(\n",
    "        columns={\n",
    "            \"cat_du_produit\": \"Categorie_du_produit\",\n",
    "            \"cat_produit\": \"Categorie_produit\",\n",
    "        }\n",
    "    )\n",
    "    .rename(columns=lambda x: x.capitalize())\n",
    "    .sort_values(\"Code_produit\")\n",
    "    .reset_index(drop=True)\n",
    ")"
   ]
  },
  {
   "cell_type": "code",
   "execution_count": 46,
   "id": "d07b517c-c425-4f8c-aba8-576119c4eea1",
   "metadata": {
    "execution": {
     "iopub.execute_input": "2025-04-13T01:10:58.937170Z",
     "iopub.status.busy": "2025-04-13T01:10:58.936760Z",
     "iopub.status.idle": "2025-04-13T01:10:58.999289Z",
     "shell.execute_reply": "2025-04-13T01:10:58.998351Z"
    },
    "papermill": {
     "duration": 2.449363,
     "end_time": "2025-04-13T01:10:59.001059",
     "exception": false,
     "start_time": "2025-04-13T01:10:56.551696",
     "status": "completed"
    },
    "tags": []
   },
   "outputs": [
    {
     "data": {
      "text/html": [
       "<div>\n",
       "<style scoped>\n",
       "    .dataframe tbody tr th:only-of-type {\n",
       "        vertical-align: middle;\n",
       "    }\n",
       "\n",
       "    .dataframe tbody tr th {\n",
       "        vertical-align: top;\n",
       "    }\n",
       "\n",
       "    .dataframe thead th {\n",
       "        text-align: right;\n",
       "    }\n",
       "</style>\n",
       "<table border=\"1\" class=\"dataframe\">\n",
       "  <thead>\n",
       "    <tr style=\"text-align: right;\">\n",
       "      <th></th>\n",
       "      <th>id_produit_pk</th>\n",
       "      <th>Code_produit</th>\n",
       "      <th>Produit_designation</th>\n",
       "      <th>Unit_rapportage</th>\n",
       "      <th>Categorie_produit</th>\n",
       "      <th>Categorie_du_produit</th>\n",
       "      <th>Code_sous_prog</th>\n",
       "    </tr>\n",
       "  </thead>\n",
       "  <tbody>\n",
       "    <tr>\n",
       "      <th>194</th>\n",
       "      <td>35</td>\n",
       "      <td>3050208</td>\n",
       "      <td>E 100 (ETHAMBUTOL) 100 mg comp. BTE/100 BTE  -</td>\n",
       "      <td>COMPRIME</td>\n",
       "      <td>Produit non traceur</td>\n",
       "      <td>PRODUITS PNLT ENFANT</td>\n",
       "      <td>PNLT-3</td>\n",
       "    </tr>\n",
       "    <tr>\n",
       "      <th>229</th>\n",
       "      <td>41</td>\n",
       "      <td>3050257</td>\n",
       "      <td>H 100 mg (ISONIAZIDE) comp. BTE/100 BTE  -</td>\n",
       "      <td>COMPRIME</td>\n",
       "      <td>Produit traceur</td>\n",
       "      <td>PROPHYLAXIE</td>\n",
       "      <td>PNLT-3</td>\n",
       "    </tr>\n",
       "  </tbody>\n",
       "</table>\n",
       "</div>"
      ],
      "text/plain": [
       "     id_produit_pk Code_produit  \\\n",
       "194             35      3050208   \n",
       "229             41      3050257   \n",
       "\n",
       "                                Produit_designation Unit_rapportage  \\\n",
       "194  E 100 (ETHAMBUTOL) 100 mg comp. BTE/100 BTE  -        COMPRIME   \n",
       "229      H 100 mg (ISONIAZIDE) comp. BTE/100 BTE  -        COMPRIME   \n",
       "\n",
       "       Categorie_produit  Categorie_du_produit Code_sous_prog  \n",
       "194  Produit non traceur  PRODUITS PNLT ENFANT         PNLT-3  \n",
       "229      Produit traceur           PROPHYLAXIE         PNLT-3  "
      ]
     },
     "execution_count": 46,
     "metadata": {},
     "output_type": "execute_result"
    }
   ],
   "source": [
    "df_new_product[\"Code_produit\"] = df_new_product[\"Code_produit\"].astype(str)\n",
    "\n",
    "df_product_db = db_ops.get_data_from_database(\"dim_produit\")\n",
    "\n",
    "df_new_product = df_new_product.merge(\n",
    "    df_product_db,\n",
    "    on=[\"Code_produit\", \"Code_sous_prog\"],\n",
    "    how=\"left\",\n",
    "    suffixes=(\"_new\", \"_past\"),\n",
    ")\n",
    "condition = \"\"\n",
    "for col in [\n",
    "    col.replace(\"_past\", \"\") for col in df_new_product.columns if \"_past\" in col\n",
    "]:\n",
    "    condition += f\"(df_new_product.{col}_new != df_new_product.{col}_past) | \"\n",
    "\n",
    "condition = condition.rstrip(\"| \")\n",
    "\n",
    "df_new_product = df_new_product.loc[eval(condition)]\n",
    "\n",
    "if not df_new_product.empty:\n",
    "    df_new_product = df_new_product.drop_duplicates(\n",
    "        subset=[\n",
    "            \"Code_produit\",\n",
    "            \"Unit_rapportage_new\",\n",
    "            \"Categorie_du_produit_new\",\n",
    "            \"Categorie_produit_new\",\n",
    "            \"Code_sous_prog\",\n",
    "            \"id_produit_pk\",\n",
    "        ],\n",
    "        keep=\"last\",\n",
    "    )\n",
    "\n",
    "    max_val = df_product_db[\"id_produit_pk\"].max() + 1\n",
    "    missing = df_new_product[\"id_produit_pk\"].isna()\n",
    "    df_new_product.loc[missing, \"id_produit_pk\"] = range(\n",
    "        max_val, max_val + missing.sum()\n",
    "    )\n",
    "\n",
    "    df_new_product.columns = df_new_product.columns.str.replace(\"_new\", \"\")\n",
    "\n",
    "df_new_product = df_new_product[df_product_db.columns.to_list()]\n",
    "\n",
    "df_new_product.head(2)"
   ]
  },
  {
   "cell_type": "code",
   "execution_count": 47,
   "id": "e8c4981e-171f-4dd1-852a-93b13fa66826",
   "metadata": {
    "execution": {
     "iopub.execute_input": "2025-04-13T01:10:59.586498Z",
     "iopub.status.busy": "2025-04-13T01:10:59.585993Z",
     "iopub.status.idle": "2025-04-13T01:10:59.809153Z",
     "shell.execute_reply": "2025-04-13T01:10:59.807866Z"
    },
    "papermill": {
     "duration": 0.640396,
     "end_time": "2025-04-13T01:10:59.811068",
     "exception": false,
     "start_time": "2025-04-13T01:10:59.170672",
     "status": "completed"
    },
    "tags": []
   },
   "outputs": [],
   "source": [
    "upsert_table.upsert_table(\n",
    "    df_new_product, \"dim_produit\", schema_name, engine=db_ops.civ_engine\n",
    ")\n",
    "\n",
    "del df_new_product"
   ]
  },
  {
   "cell_type": "markdown",
   "id": "23e3d4ba-362c-450f-aca9-2c2b01d8de5a",
   "metadata": {
    "papermill": {
     "duration": 0.212005,
     "end_time": "2025-04-13T01:11:16.891691",
     "exception": false,
     "start_time": "2025-04-13T01:11:16.679686",
     "status": "completed"
    },
    "tags": []
   },
   "source": [
    "### Table de faits `Complétude` et `Promptitude`"
   ]
  },
  {
   "cell_type": "code",
   "execution_count": 48,
   "id": "ab3a2c62-c9eb-4153-a635-3975b036d43f",
   "metadata": {
    "execution": {
     "iopub.execute_input": "2025-04-13T01:11:17.261647Z",
     "iopub.status.busy": "2025-04-13T01:11:17.260234Z",
     "iopub.status.idle": "2025-04-13T01:11:17.276682Z",
     "shell.execute_reply": "2025-04-13T01:11:17.275613Z"
    },
    "papermill": {
     "duration": 0.199972,
     "end_time": "2025-04-13T01:11:17.278670",
     "exception": false,
     "start_time": "2025-04-13T01:11:17.078698",
     "status": "completed"
    },
    "tags": []
   },
   "outputs": [],
   "source": [
    "df_region = db_ops.get_data_from_database(\"dim_region\")"
   ]
  },
  {
   "cell_type": "markdown",
   "id": "391eeb6b-ce3e-48f7-b475-d3524fa6f096",
   "metadata": {
    "papermill": {
     "duration": 2.459188,
     "end_time": "2025-04-13T01:11:19.920475",
     "exception": false,
     "start_time": "2025-04-13T01:11:17.461287",
     "status": "completed"
    },
    "tags": []
   },
   "source": [
    "#### `df_comp_promp_ets`"
   ]
  },
  {
   "cell_type": "code",
   "execution_count": 49,
   "id": "8a8099e0-32c8-4cca-b3ef-a971923ca151",
   "metadata": {
    "execution": {
     "iopub.execute_input": "2025-04-13T01:11:25.277450Z",
     "iopub.status.busy": "2025-04-13T01:11:25.276507Z",
     "iopub.status.idle": "2025-04-13T01:11:25.452452Z",
     "shell.execute_reply": "2025-04-13T01:11:25.451182Z"
    },
    "papermill": {
     "duration": 1.470188,
     "end_time": "2025-04-13T01:11:25.454502",
     "exception": false,
     "start_time": "2025-04-13T01:11:23.984314",
     "status": "completed"
    },
    "tags": []
   },
   "outputs": [],
   "source": [
    "db_ops.civ_cursor.execute(\n",
    "    f\"\"\"\n",
    "DELETE FROM {schema_name}.comp_promp_par_ets\n",
    "WHERE date_report = '{pd.to_datetime(date_report, format=\"%d-%m-%Y\").strftime('%Y-%m-%d')}'\n",
    "\"\"\"\n",
    ")\n",
    "\n",
    "db_ops.conn.commit()\n",
    "\n",
    "df_comp_promp_ets.drop(columns=[\"Site\", \"Region\"]).rename(\n",
    "    columns={\"Code\": \"Code_ets\"}\n",
    ").to_sql(\n",
    "    \"comp_promp_par_ets\",\n",
    "    con=db_ops.civ_engine,\n",
    "    schema=schema_name,\n",
    "    index=False,\n",
    "    if_exists=\"append\",\n",
    ")\n",
    "\n",
    "db_ops.civ_engine.dispose()"
   ]
  },
  {
   "cell_type": "markdown",
   "id": "0cc8e529-c108-4eba-9778-4e2c11dd446a",
   "metadata": {
    "papermill": {
     "duration": 0.19397,
     "end_time": "2025-04-13T01:11:25.864333",
     "exception": false,
     "start_time": "2025-04-13T01:11:25.670363",
     "status": "completed"
    },
    "tags": []
   },
   "source": [
    "#### `df_comp_promp_region`"
   ]
  },
  {
   "cell_type": "code",
   "execution_count": 50,
   "id": "d711cfcd-67c7-4551-84f3-04dc9a19c29a",
   "metadata": {
    "execution": {
     "iopub.execute_input": "2025-04-13T01:11:26.220262Z",
     "iopub.status.busy": "2025-04-13T01:11:26.219866Z",
     "iopub.status.idle": "2025-04-13T01:11:26.327478Z",
     "shell.execute_reply": "2025-04-13T01:11:26.326207Z"
    },
    "papermill": {
     "duration": 0.279633,
     "end_time": "2025-04-13T01:11:26.329394",
     "exception": false,
     "start_time": "2025-04-13T01:11:26.049761",
     "status": "completed"
    },
    "tags": []
   },
   "outputs": [],
   "source": [
    "db_ops.civ_cursor.execute(\n",
    "    f\"\"\"\n",
    "DELETE FROM {schema_name}.comp_promp_attendu_region\n",
    "WHERE date_report = '{pd.to_datetime(date_report, format=\"%d-%m-%Y\").strftime('%Y-%m-%d')}'\n",
    "\"\"\"\n",
    ")\n",
    "\n",
    "db_ops.conn.commit()\n",
    "\n",
    "\n",
    "df_comp_promp_region = df_comp_promp_region.map(\n",
    "    lambda x: x.lstrip().rstrip() if isinstance(x, str) else x\n",
    ")\n",
    "\n",
    "df_comp_promp_region.merge(\n",
    "    df_region[[\"Code_region\", \"Region\"]], on=\"Region\", how=\"left\"\n",
    ").drop(columns=\"Region\").rename(columns=lambda x: x.replace(\"région\", \"region\")).to_sql(\n",
    "    \"comp_promp_attendu_region\",\n",
    "    con=db_ops.civ_engine,\n",
    "    schema=schema_name,\n",
    "    index=False,\n",
    "    if_exists=\"append\",\n",
    ")\n",
    "\n",
    "db_ops.civ_engine.dispose()"
   ]
  },
  {
   "cell_type": "markdown",
   "id": "db082c68-955b-4c86-a66e-ffccf85f95a6",
   "metadata": {
    "papermill": {
     "duration": 0.398167,
     "end_time": "2025-04-13T01:11:26.896783",
     "exception": false,
     "start_time": "2025-04-13T01:11:26.498616",
     "status": "completed"
    },
    "tags": []
   },
   "source": [
    "### Table de faits Etat de stocks"
   ]
  },
  {
   "cell_type": "markdown",
   "id": "18bba6b2-cd30-4191-8484-a0f2a8c1e59c",
   "metadata": {
    "papermill": {
     "duration": 0.226574,
     "end_time": "2025-04-13T01:11:41.649447",
     "exception": false,
     "start_time": "2025-04-13T01:11:41.422873",
     "status": "completed"
    },
    "tags": []
   },
   "source": [
    "#### `recap_stock_by_region`"
   ]
  },
  {
   "cell_type": "code",
   "execution_count": 51,
   "id": "fa81c0f9-57e6-4e81-a372-5f0d3b7f5260",
   "metadata": {
    "execution": {
     "iopub.execute_input": "2025-04-13T01:11:42.064695Z",
     "iopub.status.busy": "2025-04-13T01:11:42.063587Z",
     "iopub.status.idle": "2025-04-13T01:11:42.150514Z",
     "shell.execute_reply": "2025-04-13T01:11:42.149225Z"
    },
    "papermill": {
     "duration": 0.30366,
     "end_time": "2025-04-13T01:11:42.152638",
     "exception": false,
     "start_time": "2025-04-13T01:11:41.848978",
     "status": "completed"
    },
    "tags": []
   },
   "outputs": [],
   "source": [
    "db_ops.civ_cursor.execute(\n",
    "    f\"\"\"\n",
    "DELETE FROM {schema_name}.recap_stock_by_region\n",
    "WHERE date_report = '{pd.to_datetime(date_report, format=\"%d-%m-%Y\").strftime('%Y-%m-%d')}'\n",
    "\"\"\"\n",
    ")\n",
    "\n",
    "db_ops.conn.commit()\n",
    "\n",
    "df_sheet_two.merge(df_region[[\"Code_region\", \"Region\"]]).drop(columns=\"Region\").to_sql(\n",
    "    \"recap_stock_by_region\",\n",
    "    con=db_ops.civ_engine,\n",
    "    schema=schema_name,\n",
    "    index=False,\n",
    "    if_exists=\"append\",\n",
    ")\n",
    "\n",
    "db_ops.civ_engine.dispose()"
   ]
  },
  {
   "cell_type": "code",
   "execution_count": 52,
   "id": "b77eff35-914c-4055-8e07-8ba5e6ca617d",
   "metadata": {
    "execution": {
     "iopub.execute_input": "2025-04-13T01:11:48.192217Z",
     "iopub.status.busy": "2025-04-13T01:11:48.191801Z",
     "iopub.status.idle": "2025-04-13T01:11:48.283577Z",
     "shell.execute_reply": "2025-04-13T01:11:48.282384Z"
    },
    "papermill": {
     "duration": 5.934196,
     "end_time": "2025-04-13T01:11:48.285530",
     "exception": false,
     "start_time": "2025-04-13T01:11:42.351334",
     "status": "completed"
    },
    "tags": []
   },
   "outputs": [
    {
     "data": {
      "text/html": [
       "<div>\n",
       "<style scoped>\n",
       "    .dataframe tbody tr th:only-of-type {\n",
       "        vertical-align: middle;\n",
       "    }\n",
       "\n",
       "    .dataframe tbody tr th {\n",
       "        vertical-align: top;\n",
       "    }\n",
       "\n",
       "    .dataframe thead th {\n",
       "        text-align: right;\n",
       "    }\n",
       "</style>\n",
       "<table border=\"1\" class=\"dataframe\">\n",
       "  <thead>\n",
       "    <tr style=\"text-align: right;\">\n",
       "      <th></th>\n",
       "      <th>id_produit_pk</th>\n",
       "      <th>Code_produit</th>\n",
       "      <th>Produit_designation</th>\n",
       "      <th>Unit_rapportage</th>\n",
       "      <th>Categorie_produit</th>\n",
       "      <th>Categorie_du_produit</th>\n",
       "      <th>Code_sous_prog</th>\n",
       "      <th>Programme</th>\n",
       "    </tr>\n",
       "  </thead>\n",
       "  <tbody>\n",
       "    <tr>\n",
       "      <th>0</th>\n",
       "      <td>1</td>\n",
       "      <td>3010049</td>\n",
       "      <td>PARACETAMOL 100 mg comp. BTE/100 BOITE  -</td>\n",
       "      <td>COMPRIME</td>\n",
       "      <td>Produit non traceur</td>\n",
       "      <td>PRODUITS PNLP</td>\n",
       "      <td>PNLP-1</td>\n",
       "      <td>PNLP</td>\n",
       "    </tr>\n",
       "    <tr>\n",
       "      <th>1</th>\n",
       "      <td>2</td>\n",
       "      <td>3010062</td>\n",
       "      <td>PARACETAMOL 250 mg comp BTE/100 BOITE  -</td>\n",
       "      <td>COMPRIME</td>\n",
       "      <td>Produit non traceur</td>\n",
       "      <td>PRODUITS PNLP</td>\n",
       "      <td>PNLP-1</td>\n",
       "      <td>PNLP</td>\n",
       "    </tr>\n",
       "  </tbody>\n",
       "</table>\n",
       "</div>"
      ],
      "text/plain": [
       "   id_produit_pk Code_produit                        Produit_designation  \\\n",
       "0              1      3010049  PARACETAMOL 100 mg comp. BTE/100 BOITE  -   \n",
       "1              2      3010062   PARACETAMOL 250 mg comp BTE/100 BOITE  -   \n",
       "\n",
       "  Unit_rapportage    Categorie_produit Categorie_du_produit Code_sous_prog  \\\n",
       "0        COMPRIME  Produit non traceur        PRODUITS PNLP         PNLP-1   \n",
       "1        COMPRIME  Produit non traceur        PRODUITS PNLP         PNLP-1   \n",
       "\n",
       "  Programme  \n",
       "0      PNLP  \n",
       "1      PNLP  "
      ]
     },
     "execution_count": 52,
     "metadata": {},
     "output_type": "execute_result"
    }
   ],
   "source": [
    "# Get full data product\n",
    "full_product = db_ops.get_data_from_database(\n",
    "    \"dim_produit\",\n",
    ")\n",
    "full_product[\"Programme\"] = full_product[\"Code_sous_prog\"].apply(\n",
    "    lambda x: x.split(\"-\")[0]\n",
    ")\n",
    "full_product[\"Code_produit\"] = full_product[\"Code_produit\"].astype(str)\n",
    "full_product.head(2)"
   ]
  },
  {
   "cell_type": "markdown",
   "id": "ab9da0fa-8bb3-4749-9c30-c0bc7c7242e8",
   "metadata": {
    "papermill": {
     "duration": 0.210531,
     "end_time": "2025-04-13T01:11:48.725474",
     "exception": false,
     "start_time": "2025-04-13T01:11:48.514943",
     "status": "completed"
    },
    "tags": []
   },
   "source": [
    "#### `recap_stock_prog_region`"
   ]
  },
  {
   "cell_type": "code",
   "execution_count": 53,
   "id": "f08cba7a-9094-4920-9ca3-a2de2e9c0c95",
   "metadata": {
    "execution": {
     "iopub.execute_input": "2025-04-13T01:11:49.286904Z",
     "iopub.status.busy": "2025-04-13T01:11:49.286524Z",
     "iopub.status.idle": "2025-04-13T01:11:49.351151Z",
     "shell.execute_reply": "2025-04-13T01:11:49.349930Z"
    },
    "papermill": {
     "duration": 0.278308,
     "end_time": "2025-04-13T01:11:49.353049",
     "exception": false,
     "start_time": "2025-04-13T01:11:49.074741",
     "status": "completed"
    },
    "tags": []
   },
   "outputs": [],
   "source": [
    "db_ops.civ_cursor.execute(\n",
    "    f\"\"\"\n",
    "DELETE FROM {schema_name}.recap_stock_prog_region\n",
    "WHERE date_report = '{pd.to_datetime(date_report, format=\"%d-%m-%Y\").strftime('%Y-%m-%d')}'\n",
    "\"\"\"\n",
    ")\n",
    "\n",
    "db_ops.conn.commit()"
   ]
  },
  {
   "cell_type": "code",
   "execution_count": 54,
   "id": "f00ae33f-d268-4c54-b0ce-f9ed419456b8",
   "metadata": {
    "execution": {
     "iopub.execute_input": "2025-04-13T01:11:50.266932Z",
     "iopub.status.busy": "2025-04-13T01:11:50.266571Z",
     "iopub.status.idle": "2025-04-13T01:11:50.356632Z",
     "shell.execute_reply": "2025-04-13T01:11:50.355571Z"
    },
    "papermill": {
     "duration": 0.679188,
     "end_time": "2025-04-13T01:11:50.358513",
     "exception": false,
     "start_time": "2025-04-13T01:11:49.679325",
     "status": "completed"
    },
    "tags": []
   },
   "outputs": [],
   "source": [
    "stock_region[\"Code\"] = stock_region[\"Code\"].astype(str)\n",
    "stock_region[\"date_report\"] = pd.to_datetime(date_report, format=\"%d-%m-%Y\")\n",
    "stock_region = stock_region.map(\n",
    "    lambda x: x.lstrip().rstrip() if isinstance(x, str) else x\n",
    ")\n",
    "stock_region[\"MSD\"] = stock_region[\"MSD\"].apply(\n",
    "    lambda x: str(round(float(x), 1)).replace(\".\", \",\") if x != \"NA\" else \"NA\"\n",
    ")\n",
    "\n",
    "assert (\n",
    "    stock_region.merge(\n",
    "        full_product[[\"id_produit_pk\", \"Code_produit\", \"Programme\"]].drop_duplicates(\n",
    "            subset=[\"Code_produit\", \"Programme\"]\n",
    "        ),\n",
    "        left_on=[\"Code\", \"Programme\"],\n",
    "        right_on=[\"Code_produit\", \"Programme\"],\n",
    "        how=\"left\",\n",
    "    )\n",
    "    .merge(df_region[[\"Code_region\", \"Region\"]], on=\"Region\", how=\"left\")\n",
    "    .drop(columns=[\"Code\", \"Code_produit\", \"Region\"])\n",
    "    .shape[0]\n",
    "    == stock_region.shape[0]\n",
    ")"
   ]
  },
  {
   "cell_type": "code",
   "execution_count": 55,
   "id": "6e7b9e1f-835d-4779-a1dd-26a9c6099756",
   "metadata": {
    "execution": {
     "iopub.execute_input": "2025-04-13T01:11:55.617173Z",
     "iopub.status.busy": "2025-04-13T01:11:55.616392Z",
     "iopub.status.idle": "2025-04-13T01:11:55.968308Z",
     "shell.execute_reply": "2025-04-13T01:11:55.967402Z"
    },
    "papermill": {
     "duration": 5.339612,
     "end_time": "2025-04-13T01:11:55.970530",
     "exception": false,
     "start_time": "2025-04-13T01:11:50.630918",
     "status": "completed"
    },
    "tags": []
   },
   "outputs": [],
   "source": [
    "stock_region.merge(\n",
    "    full_product[[\"id_produit_pk\", \"Code_produit\", \"Programme\"]].drop_duplicates(\n",
    "        subset=[\"Code_produit\", \"Programme\"]\n",
    "    ),\n",
    "    left_on=[\"Code\", \"Programme\"],\n",
    "    right_on=[\"Code_produit\", \"Programme\"],\n",
    "    how=\"left\",\n",
    ").merge(df_region[[\"Code_region\", \"Region\"]], on=\"Region\", how=\"left\").drop(\n",
    "    columns=[\"Code\", \"Code_produit\", \"Region\"]\n",
    ").rename(\n",
    "    columns={\"id_produit_pk\": \"id_produit_fk\"}\n",
    ").to_sql(\n",
    "    \"recap_stock_prog_region\",\n",
    "    con=db_ops.civ_engine,\n",
    "    schema=schema_name,\n",
    "    index=False,\n",
    "    if_exists=\"append\",\n",
    ")\n",
    "\n",
    "db_ops.civ_engine.dispose()"
   ]
  },
  {
   "cell_type": "markdown",
   "id": "c1cf3a8d-943d-4354-b552-e60f4d53324b",
   "metadata": {
    "papermill": {
     "duration": 0.192863,
     "end_time": "2025-04-13T01:11:56.386330",
     "exception": false,
     "start_time": "2025-04-13T01:11:56.193467",
     "status": "completed"
    },
    "tags": []
   },
   "source": [
    "#### `recap_stock_prog_nat`"
   ]
  },
  {
   "cell_type": "code",
   "execution_count": 56,
   "id": "d8c69e32-7a3c-4022-a7af-33f3a8e7e0e0",
   "metadata": {
    "execution": {
     "iopub.execute_input": "2025-04-13T01:11:56.744551Z",
     "iopub.status.busy": "2025-04-13T01:11:56.744176Z",
     "iopub.status.idle": "2025-04-13T01:11:56.763425Z",
     "shell.execute_reply": "2025-04-13T01:11:56.762371Z"
    },
    "papermill": {
     "duration": 0.212496,
     "end_time": "2025-04-13T01:11:56.765677",
     "exception": false,
     "start_time": "2025-04-13T01:11:56.553181",
     "status": "completed"
    },
    "tags": []
   },
   "outputs": [],
   "source": [
    "db_ops.civ_cursor.execute(\n",
    "    f\"\"\"\n",
    "DELETE FROM {schema_name}.recap_stock_prog_nat\n",
    "WHERE date_report = '{pd.to_datetime(date_report, format=\"%d-%m-%Y\").strftime('%Y-%m-%d')}'\n",
    "\"\"\"\n",
    ")\n",
    "\n",
    "db_ops.conn.commit()"
   ]
  },
  {
   "cell_type": "code",
   "execution_count": 57,
   "id": "d04becfb-6777-475b-b202-7a3657fa8027",
   "metadata": {
    "execution": {
     "iopub.execute_input": "2025-04-13T01:11:57.186209Z",
     "iopub.status.busy": "2025-04-13T01:11:57.185805Z",
     "iopub.status.idle": "2025-04-13T01:11:57.193497Z",
     "shell.execute_reply": "2025-04-13T01:11:57.192549Z"
    },
    "papermill": {
     "duration": 0.20935,
     "end_time": "2025-04-13T01:11:57.195245",
     "exception": false,
     "start_time": "2025-04-13T01:11:56.985895",
     "status": "completed"
    },
    "tags": []
   },
   "outputs": [],
   "source": [
    "stock_national = stock_lvl_decent[\n",
    "    [\n",
    "        \"Code\",\n",
    "        \"Programme\",\n",
    "        \"Region\",\n",
    "        \"lvl_decent_msd\",\n",
    "        \"lvl_decent_statut\",\n",
    "        \"lvl_decent_conso\",\n",
    "        \"lvl_decent_sdu\",\n",
    "        \"lvl_decent_cmm\",\n",
    "        \"dispo_globale\",\n",
    "        \"dispo_globale_cible\",\n",
    "        \"dispo_traceur\",\n",
    "        \"dispo_traceur_cible\",\n",
    "    ]\n",
    "].rename(\n",
    "    columns={\n",
    "        \"lvl_decent_msd\": \"MSD\",\n",
    "        \"lvl_decent_statut\": \"STATUT\",\n",
    "        \"lvl_decent_conso\": \"conso_lvl_national\",\n",
    "        \"lvl_decent_sdu\": \"sdu_lvl_national\",\n",
    "        \"lvl_decent_cmm\": \"cmm_lvl_national\",\n",
    "    }\n",
    ")"
   ]
  },
  {
   "cell_type": "code",
   "execution_count": 58,
   "id": "4a745127-ec99-441a-8964-11a0ab1b7998",
   "metadata": {
    "execution": {
     "iopub.execute_input": "2025-04-13T01:11:58.659392Z",
     "iopub.status.busy": "2025-04-13T01:11:58.658096Z",
     "iopub.status.idle": "2025-04-13T01:11:58.670414Z",
     "shell.execute_reply": "2025-04-13T01:11:58.668959Z"
    },
    "papermill": {
     "duration": 0.374369,
     "end_time": "2025-04-13T01:11:58.672266",
     "exception": false,
     "start_time": "2025-04-13T01:11:58.297897",
     "status": "completed"
    },
    "tags": []
   },
   "outputs": [],
   "source": [
    "stock_national[\"Code\"] = stock_national[\"Code\"].astype(str)\n",
    "stock_national = stock_national.map(lambda x: x.strip() if isinstance(x, str) else x)\n",
    "stock_national[\"date_report\"] = pd.to_datetime(date_report, format=\"%d-%m-%Y\")\n",
    "\n",
    "stock_national[\"MSD\"] = stock_national[\"MSD\"].apply(\n",
    "    lambda x: str(round(float(x), 1)).replace(\".\", \",\") if x != \"NA\" else \"NA\"\n",
    ")"
   ]
  },
  {
   "cell_type": "code",
   "execution_count": 59,
   "id": "14657e9e-237a-4e95-9fc3-ef7b20c8da08",
   "metadata": {
    "execution": {
     "iopub.execute_input": "2025-04-13T01:12:10.591091Z",
     "iopub.status.busy": "2025-04-13T01:12:10.590696Z",
     "iopub.status.idle": "2025-04-13T01:12:10.847965Z",
     "shell.execute_reply": "2025-04-13T01:12:10.846796Z"
    },
    "papermill": {
     "duration": 0.478276,
     "end_time": "2025-04-13T01:12:10.849881",
     "exception": false,
     "start_time": "2025-04-13T01:12:10.371605",
     "status": "completed"
    },
    "tags": []
   },
   "outputs": [],
   "source": [
    "assert (\n",
    "    stock_national.merge(\n",
    "        full_product[[\"id_produit_pk\", \"Code_produit\", \"Programme\"]].drop_duplicates(\n",
    "            subset=[\"Code_produit\", \"Programme\"]\n",
    "        ),\n",
    "        left_on=[\"Code\", \"Programme\"],\n",
    "        right_on=[\"Code_produit\", \"Programme\"],\n",
    "        how=\"left\",\n",
    "    )\n",
    "    .merge(df_region[[\"Code_region\", \"Region\"]], on=\"Region\", how=\"left\")\n",
    "    .drop(columns=[\"Code\", \"Code_produit\", \"Region\"])\n",
    "    .shape[0]\n",
    "    == stock_national.shape[0]\n",
    ")\n",
    "\n",
    "stock_national = (\n",
    "    stock_national.merge(\n",
    "        full_product[[\"id_produit_pk\", \"Code_produit\", \"Programme\"]].drop_duplicates(\n",
    "            subset=[\"Code_produit\", \"Programme\"]\n",
    "        ),\n",
    "        left_on=[\"Code\", \"Programme\"],\n",
    "        right_on=[\"Code_produit\", \"Programme\"],\n",
    "        how=\"left\",\n",
    "    )\n",
    "    .merge(df_region[[\"Code_region\", \"Region\"]], on=\"Region\", how=\"left\")\n",
    "    .drop(columns=[\"Code\", \"Code_produit\", \"Region\"])\n",
    "    .rename(\n",
    "        columns={\n",
    "            \"id_produit_pk\": \"id_produit_fk\",\n",
    "            \"conso_lvl_national\": \"CONSO\",\n",
    "            \"sdu_lvl_national\": \"SDU\",\n",
    "            \"cmm_lvl_national\": \"CMM\",\n",
    "        }\n",
    "    )\n",
    ")\n",
    "\n",
    "df_count_prog = (\n",
    "    stock_national.groupby([\"Programme\"])[\"id_produit_fk\"].count().reset_index()\n",
    ")\n",
    "\n",
    "stock_national[\"statut_pourcentage\"] = stock_national[[\"Programme\", \"STATUT\"]].apply(\n",
    "    lambda row: 1\n",
    "    / df_count_prog.loc[df_count_prog.Programme == row.Programme, \"id_produit_fk\"].iloc[\n",
    "        0\n",
    "    ],\n",
    "    axis=1,\n",
    ")\n",
    "\n",
    "stock_national.to_sql(\n",
    "    \"recap_stock_prog_nat\",\n",
    "    con=db_ops.civ_engine,\n",
    "    schema=schema_name,\n",
    "    index=False,\n",
    "    if_exists=\"append\",\n",
    ")\n",
    "\n",
    "db_ops.civ_engine.dispose()\n",
    "\n",
    "del df_count_prog"
   ]
  },
  {
   "cell_type": "markdown",
   "id": "7c582d98-b342-4ba6-9d19-89a99e791b11",
   "metadata": {
    "papermill": {
     "duration": 0.234191,
     "end_time": "2025-04-13T01:12:11.281919",
     "exception": false,
     "start_time": "2025-04-13T01:12:11.047728",
     "status": "completed"
    },
    "tags": []
   },
   "source": [
    "#### `Etat de stock`"
   ]
  },
  {
   "cell_type": "code",
   "execution_count": 60,
   "id": "8090a47a-1f61-42f4-a88c-7d28f8898396",
   "metadata": {
    "execution": {
     "iopub.execute_input": "2025-04-13T01:12:11.660698Z",
     "iopub.status.busy": "2025-04-13T01:12:11.660334Z",
     "iopub.status.idle": "2025-04-13T01:12:11.822982Z",
     "shell.execute_reply": "2025-04-13T01:12:11.822183Z"
    },
    "papermill": {
     "duration": 0.332679,
     "end_time": "2025-04-13T01:12:11.824878",
     "exception": false,
     "start_time": "2025-04-13T01:12:11.492199",
     "status": "completed"
    },
    "tags": []
   },
   "outputs": [],
   "source": [
    "db_ops.civ_cursor.execute(\n",
    "    f\"\"\"\n",
    "DELETE FROM {schema_name}.etat_de_stock\n",
    "WHERE date_report = '{pd.to_datetime(date_report, format=\"%d-%m-%Y\").strftime('%Y-%m-%d')}'\n",
    "\"\"\"\n",
    ")\n",
    "\n",
    "db_ops.conn.commit()"
   ]
  },
  {
   "cell_type": "code",
   "execution_count": 61,
   "id": "9cd6377c-7cd1-4251-b1ab-9dd03a28d240",
   "metadata": {
    "execution": {
     "iopub.execute_input": "2025-04-13T01:12:15.671463Z",
     "iopub.status.busy": "2025-04-13T01:12:15.670606Z",
     "iopub.status.idle": "2025-04-13T01:12:16.118005Z",
     "shell.execute_reply": "2025-04-13T01:12:16.117057Z"
    },
    "papermill": {
     "duration": 4.128483,
     "end_time": "2025-04-13T01:12:16.119960",
     "exception": false,
     "start_time": "2025-04-13T01:12:11.991477",
     "status": "completed"
    },
    "tags": []
   },
   "outputs": [],
   "source": [
    "mois_prec = (\n",
    "    pd.to_datetime(date_report, format=\"%d-%m-%Y\").replace(day=1) - pd.Timedelta(days=1)\n",
    ").strftime(\"%Y-%m-%d\")\n",
    "\n",
    "df_mois_prec = pd.read_sql(\n",
    "    f\"select * from {schema_name}.etat_de_stock where date_report='{mois_prec}'\",\n",
    "    db_ops.civ_engine,\n",
    ")"
   ]
  },
  {
   "cell_type": "code",
   "execution_count": 62,
   "id": "95205dd7-3432-4210-993c-d732dcd858c9",
   "metadata": {
    "execution": {
     "iopub.execute_input": "2025-04-13T01:12:16.514961Z",
     "iopub.status.busy": "2025-04-13T01:12:16.513925Z",
     "iopub.status.idle": "2025-04-13T01:12:17.047323Z",
     "shell.execute_reply": "2025-04-13T01:12:17.046190Z"
    },
    "papermill": {
     "duration": 0.709636,
     "end_time": "2025-04-13T01:12:17.049358",
     "exception": false,
     "start_time": "2025-04-13T01:12:16.339722",
     "status": "completed"
    },
    "tags": []
   },
   "outputs": [],
   "source": [
    "# Nettoyage initial des données\n",
    "df_etat_stock[\"Code_produit\"] = df_etat_stock[\"Code_produit\"].astype(str)\n",
    "df_etat_stock = df_etat_stock.applymap(lambda x: x.strip() if isinstance(x, str) else x)\n",
    "\n",
    "# Suppression des colonnes inutiles et nettoyage supplémentaire\n",
    "cols_to_drop = [\"programme_abrv\", \"Region\", \"District\", \"Structure\"]\n",
    "df_ = df_etat_stock.drop(columns=cols_to_drop)\n",
    "\n",
    "# Première jointure avec df_sous_prog\n",
    "df_ = df_.merge(\n",
    "    df_sous_prog, left_on=\"sous_programme\", right_on=\"Sous_programme\", how=\"left\"\n",
    ").drop(columns=[\"Sous_programme\", \"Programme\", \"sous_programme\"])\n",
    "\n",
    "# Définition des colonnes pour la déduplication\n",
    "dedup_cols = [\n",
    "    \"Code_produit\",\n",
    "    \"Code_sous_prog\",\n",
    "    \"Produit_designation\",\n",
    "    \"Unit_rapportage\",\n",
    "    \"Categorie_du_produit\",\n",
    "    \"Categorie_produit\",\n",
    "]\n",
    "\n",
    "# Seconde jointure avec full_product\n",
    "df_ = df_.merge(\n",
    "    full_product.drop_duplicates(subset=dedup_cols),\n",
    "    right_on=dedup_cols,\n",
    "    left_on=[\n",
    "        \"Code_produit\",\n",
    "        \"Code_sous_prog\",\n",
    "        \"produit_designation\",\n",
    "        \"unit_rapportage\",\n",
    "        \"cat_du_produit\",\n",
    "        \"cat_produit\",\n",
    "    ],\n",
    ")\n",
    "\n",
    "# Nettoyage final des colonnes\n",
    "final_cols_to_drop = [\n",
    "    \"Code_produit\",\n",
    "    \"cat_produit\",\n",
    "    \"produit_designation\",\n",
    "    \"unit_rapportage\",\n",
    "    \"cat_du_produit\",\n",
    "    \"Code_sous_prog\",\n",
    "    \"Produit_designation\",\n",
    "    \"Unit_rapportage\",\n",
    "    \"Categorie_produit\",\n",
    "    \"Categorie_du_produit\",\n",
    "    \"Programme\",\n",
    "]\n",
    "\n",
    "df_ = df_.drop(columns=final_cols_to_drop).rename(\n",
    "    columns={\"id_produit_pk\": \"id_produit_fk\"}\n",
    ")"
   ]
  },
  {
   "cell_type": "code",
   "execution_count": 63,
   "id": "f863d88e-4d88-44c4-bedd-047d7ccf86c8",
   "metadata": {
    "execution": {
     "iopub.execute_input": "2025-04-13T01:12:17.408426Z",
     "iopub.status.busy": "2025-04-13T01:12:17.407389Z",
     "iopub.status.idle": "2025-04-13T01:12:17.413651Z",
     "shell.execute_reply": "2025-04-13T01:12:17.412821Z"
    },
    "papermill": {
     "duration": 0.176854,
     "end_time": "2025-04-13T01:12:17.415157",
     "exception": false,
     "start_time": "2025-04-13T01:12:17.238303",
     "status": "completed"
    },
    "tags": []
   },
   "outputs": [],
   "source": [
    "df_['Code_ets'] = df_['Code_ets'].astype('Int64')"
   ]
  },
  {
   "cell_type": "code",
   "execution_count": 64,
   "id": "da6a7bca-9cab-44e8-82b1-a5b0a026f487",
   "metadata": {
    "execution": {
     "iopub.execute_input": "2025-04-13T01:12:17.794972Z",
     "iopub.status.busy": "2025-04-13T01:12:17.794610Z",
     "iopub.status.idle": "2025-04-13T01:12:17.859963Z",
     "shell.execute_reply": "2025-04-13T01:12:17.858909Z"
    },
    "papermill": {
     "duration": 0.26398,
     "end_time": "2025-04-13T01:12:17.861785",
     "exception": false,
     "start_time": "2025-04-13T01:12:17.597805",
     "status": "completed"
    },
    "tags": []
   },
   "outputs": [
    {
     "data": {
      "text/html": [
       "<div>\n",
       "<style scoped>\n",
       "    .dataframe tbody tr th:only-of-type {\n",
       "        vertical-align: middle;\n",
       "    }\n",
       "\n",
       "    .dataframe tbody tr th {\n",
       "        vertical-align: top;\n",
       "    }\n",
       "\n",
       "    .dataframe thead th {\n",
       "        text-align: right;\n",
       "    }\n",
       "</style>\n",
       "<table border=\"1\" class=\"dataframe\">\n",
       "  <thead>\n",
       "    <tr style=\"text-align: right;\">\n",
       "      <th></th>\n",
       "      <th>Periode</th>\n",
       "      <th>Code_ets</th>\n",
       "      <th>stock_initial</th>\n",
       "      <th>qte_recue</th>\n",
       "      <th>qte_utilisee</th>\n",
       "      <th>perte_ajust</th>\n",
       "      <th>j_rupture</th>\n",
       "      <th>sdu</th>\n",
       "      <th>cmm_esigl</th>\n",
       "      <th>cmm_gest</th>\n",
       "      <th>qte_prop</th>\n",
       "      <th>qte_cmde</th>\n",
       "      <th>qte_approuv</th>\n",
       "      <th>msd</th>\n",
       "      <th>etat_stock</th>\n",
       "      <th>besoin_cmde_urg</th>\n",
       "      <th>besoin_trsf_in</th>\n",
       "      <th>qte_trsf_out</th>\n",
       "      <th>date_report</th>\n",
       "      <th>id_produit_fk</th>\n",
       "      <th>qte_cmde_mois_prec</th>\n",
       "      <th>etat_stock_mois_prec</th>\n",
       "    </tr>\n",
       "  </thead>\n",
       "  <tbody>\n",
       "    <tr>\n",
       "      <th>0</th>\n",
       "      <td>JANVIER MARS 2025</td>\n",
       "      <td>62600030</td>\n",
       "      <td>9316</td>\n",
       "      <td>9408</td>\n",
       "      <td>8992</td>\n",
       "      <td>-2399</td>\n",
       "      <td>0</td>\n",
       "      <td>7333</td>\n",
       "      <td>1007</td>\n",
       "      <td>3021.0</td>\n",
       "      <td>0</td>\n",
       "      <td>10793</td>\n",
       "      <td>10793</td>\n",
       "      <td>2.427342</td>\n",
       "      <td>ENTRE PCU et MIN</td>\n",
       "      <td>NaN</td>\n",
       "      <td>1730.0</td>\n",
       "      <td>NaN</td>\n",
       "      <td>2025-03-31</td>\n",
       "      <td>62</td>\n",
       "      <td>NaN</td>\n",
       "      <td>NaN</td>\n",
       "    </tr>\n",
       "    <tr>\n",
       "      <th>1</th>\n",
       "      <td>JANVIER MARS 2025</td>\n",
       "      <td>62600030</td>\n",
       "      <td>8862</td>\n",
       "      <td>0</td>\n",
       "      <td>5251</td>\n",
       "      <td>-2016</td>\n",
       "      <td>0</td>\n",
       "      <td>1595</td>\n",
       "      <td>591</td>\n",
       "      <td>1774.0</td>\n",
       "      <td>1951</td>\n",
       "      <td>9049</td>\n",
       "      <td>9049</td>\n",
       "      <td>0.899098</td>\n",
       "      <td>EN BAS DU PCU</td>\n",
       "      <td>9049.0</td>\n",
       "      <td>3727.0</td>\n",
       "      <td>NaN</td>\n",
       "      <td>2025-03-31</td>\n",
       "      <td>65</td>\n",
       "      <td>NaN</td>\n",
       "      <td>NaN</td>\n",
       "    </tr>\n",
       "    <tr>\n",
       "      <th>2</th>\n",
       "      <td>JANVIER MARS 2025</td>\n",
       "      <td>50800040</td>\n",
       "      <td>150</td>\n",
       "      <td>10752</td>\n",
       "      <td>4104</td>\n",
       "      <td>5215</td>\n",
       "      <td>0</td>\n",
       "      <td>12013</td>\n",
       "      <td>463</td>\n",
       "      <td>463.0</td>\n",
       "      <td>0</td>\n",
       "      <td>0</td>\n",
       "      <td>0</td>\n",
       "      <td>25.946004</td>\n",
       "      <td>SURSTOCK</td>\n",
       "      <td>NaN</td>\n",
       "      <td>-10624.0</td>\n",
       "      <td>9235.0</td>\n",
       "      <td>2025-03-31</td>\n",
       "      <td>65</td>\n",
       "      <td>NaN</td>\n",
       "      <td>NaN</td>\n",
       "    </tr>\n",
       "  </tbody>\n",
       "</table>\n",
       "</div>"
      ],
      "text/plain": [
       "             Periode  Code_ets  stock_initial  qte_recue  qte_utilisee  \\\n",
       "0  JANVIER MARS 2025  62600030           9316       9408          8992   \n",
       "1  JANVIER MARS 2025  62600030           8862          0          5251   \n",
       "2  JANVIER MARS 2025  50800040            150      10752          4104   \n",
       "\n",
       "   perte_ajust  j_rupture    sdu  cmm_esigl  cmm_gest  qte_prop  qte_cmde  \\\n",
       "0        -2399          0   7333       1007    3021.0         0     10793   \n",
       "1        -2016          0   1595        591    1774.0      1951      9049   \n",
       "2         5215          0  12013        463     463.0         0         0   \n",
       "\n",
       "   qte_approuv        msd        etat_stock  besoin_cmde_urg  besoin_trsf_in  \\\n",
       "0        10793   2.427342  ENTRE PCU et MIN              NaN          1730.0   \n",
       "1         9049   0.899098     EN BAS DU PCU           9049.0          3727.0   \n",
       "2            0  25.946004          SURSTOCK              NaN        -10624.0   \n",
       "\n",
       "   qte_trsf_out date_report  id_produit_fk  qte_cmde_mois_prec  \\\n",
       "0           NaN  2025-03-31             62                 NaN   \n",
       "1           NaN  2025-03-31             65                 NaN   \n",
       "2        9235.0  2025-03-31             65                 NaN   \n",
       "\n",
       "  etat_stock_mois_prec  \n",
       "0                  NaN  \n",
       "1                  NaN  \n",
       "2                  NaN  "
      ]
     },
     "execution_count": 64,
     "metadata": {},
     "output_type": "execute_result"
    }
   ],
   "source": [
    "assert (\n",
    "    df_.merge(\n",
    "        df_mois_prec[[\"Code_ets\", \"id_produit_fk\", \"qte_cmde\", \"etat_stock\"]].rename(\n",
    "            columns={\n",
    "                \"qte_cmde\": \"qte_cmde_mois_prec\",\n",
    "                \"etat_stock\": \"etat_stock_mois_prec\",\n",
    "            }\n",
    "        ),\n",
    "        on=[\"Code_ets\", \"id_produit_fk\"],\n",
    "        how=\"left\",\n",
    "    ).shape[0]\n",
    "    == df_.shape[0]\n",
    ")\n",
    "\n",
    "\n",
    "df_ = df_.merge(\n",
    "    df_mois_prec[[\"Code_ets\", \"id_produit_fk\", \"qte_cmde\", \"etat_stock\"]].rename(\n",
    "        columns={\"qte_cmde\": \"qte_cmde_mois_prec\", \"etat_stock\": \"etat_stock_mois_prec\"}\n",
    "    ),\n",
    "    on=[\"Code_ets\", \"id_produit_fk\"],\n",
    "    how=\"left\",\n",
    ")\n",
    "\n",
    "df_.drop(\n",
    "    columns=[\"id_region_esigl\", \"TYPE DE STRUCTURE\", \"id_district_esigl\"], inplace=True\n",
    ")\n",
    "\n",
    "df_.head(3)"
   ]
  },
  {
   "cell_type": "code",
   "execution_count": 65,
   "id": "d185ea5f-3b35-4ba5-83dd-ea1d93e53e2c",
   "metadata": {
    "execution": {
     "iopub.execute_input": "2025-04-13T01:12:18.430452Z",
     "iopub.status.busy": "2025-04-13T01:12:18.429518Z",
     "iopub.status.idle": "2025-04-13T01:12:23.032620Z",
     "shell.execute_reply": "2025-04-13T01:12:23.031341Z"
    },
    "papermill": {
     "duration": 4.778358,
     "end_time": "2025-04-13T01:12:23.034728",
     "exception": false,
     "start_time": "2025-04-13T01:12:18.256370",
     "status": "completed"
    },
    "tags": []
   },
   "outputs": [],
   "source": [
    "df_.to_sql(\n",
    "    \"etat_de_stock\",\n",
    "    con=db_ops.civ_engine,\n",
    "    schema=schema_name,\n",
    "    index=False,\n",
    "    if_exists=\"append\",\n",
    ")\n",
    "\n",
    "db_ops.civ_engine.dispose()"
   ]
  }
 ],
 "metadata": {
  "kernelspec": {
   "display_name": "Python 3 (ipykernel)",
   "language": "python",
   "name": "python3"
  },
  "language_info": {
   "codemirror_mode": {
    "name": "ipython",
    "version": 3
   },
   "file_extension": ".py",
   "mimetype": "text/x-python",
   "name": "python",
   "nbconvert_exporter": "python",
   "pygments_lexer": "ipython3",
   "version": "3.12.8"
  },
  "papermill": {
   "default_parameters": {},
   "duration": 935.092013,
   "end_time": "2025-04-13T01:12:28.383600",
   "environment_variables": {},
   "exception": null,
   "input_path": "/home/hexa/workspace/Rapport Feedback/code/pipelines/main_program.ipynb",
   "output_path": "/home/hexa/workspace/Rapport Feedback/code/pipelines/output_notebook_execution/output_2025-04-13.ipynb",
   "parameters": {
    "date_report": "Mars",
    "fp_prod_traceurs": "Liste des Produits Traceurs Février 2025.xlsx",
    "fp_site_attendus": "Sites attendus Février 2025.xlsx"
   },
   "start_time": "2025-04-13T00:56:53.291587",
   "version": "2.6.0"
  }
 },
 "nbformat": 4,
 "nbformat_minor": 5
}
