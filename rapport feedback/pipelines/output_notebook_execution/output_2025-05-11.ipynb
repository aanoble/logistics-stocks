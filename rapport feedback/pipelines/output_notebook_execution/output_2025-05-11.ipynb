{
 "cells": [
  {
   "cell_type": "markdown",
   "id": "8ed14ec2-6598-47a7-a6a1-588ecfa83c4c",
   "metadata": {
    "editable": true,
    "papermill": {
     "duration": 0.172246,
     "end_time": "2025-05-11T23:11:27.405128",
     "exception": false,
     "start_time": "2025-05-11T23:11:27.232882",
     "status": "completed"
    },
    "slideshow": {
     "slide_type": ""
    },
    "tags": []
   },
   "source": [
    "# Importation des bibliothèques"
   ]
  },
  {
   "cell_type": "code",
   "execution_count": 1,
   "id": "7211fc7e-03a6-44bb-9865-b687b9ffbcf0",
   "metadata": {
    "execution": {
     "iopub.execute_input": "2025-05-11T23:11:27.768472Z",
     "iopub.status.busy": "2025-05-11T23:11:27.767435Z",
     "iopub.status.idle": "2025-05-11T23:11:34.430306Z",
     "shell.execute_reply": "2025-05-11T23:11:34.428998Z"
    },
    "papermill": {
     "duration": 6.857141,
     "end_time": "2025-05-11T23:11:34.432652",
     "exception": false,
     "start_time": "2025-05-11T23:11:27.575511",
     "status": "completed"
    },
    "tags": []
   },
   "outputs": [],
   "source": [
    "%%capture\n",
    "## Instalation des bibliothèques utilitaires\n",
    "!pip install google-api-python-client\n",
    "!pip install --upgrade google-auth-httplib2 google-auth-oauthlib"
   ]
  },
  {
   "cell_type": "code",
   "execution_count": 2,
   "id": "d4fd9afc-a7e2-43af-a4c7-f333eec13c74",
   "metadata": {
    "editable": true,
    "execution": {
     "iopub.execute_input": "2025-05-11T23:11:34.809451Z",
     "iopub.status.busy": "2025-05-11T23:11:34.808318Z",
     "iopub.status.idle": "2025-05-11T23:11:41.126668Z",
     "shell.execute_reply": "2025-05-11T23:11:41.125523Z"
    },
    "papermill": {
     "duration": 6.485446,
     "end_time": "2025-05-11T23:11:41.128747",
     "exception": false,
     "start_time": "2025-05-11T23:11:34.643301",
     "status": "completed"
    },
    "slideshow": {
     "slide_type": ""
    },
    "tags": []
   },
   "outputs": [],
   "source": [
    "%%capture\n",
    "\n",
    "import warnings\n",
    "\n",
    "warnings.filterwarnings(\"ignore\")\n",
    "\n",
    "from datetime import datetime\n",
    "from pathlib import Path\n",
    "\n",
    "import numpy as np\n",
    "import pandas as pd\n",
    "from openhexa.sdk import workspace\n",
    "\n",
    "pd.set_option(\"display.max_columns\", None)\n",
    "\n",
    "try:\n",
    "    import openpyxl as pyxl\n",
    "    from fuzzywuzzy import fuzz, process\n",
    "except ImportError or ModuleNotFoundError:\n",
    "    !pip install python-Levenshtein\n",
    "    !pip install fuzzywuzzy\n",
    "    from fuzzywuzzy import fuzz, process\n",
    "    import openpyxl as pyxl\n",
    "\n",
    "import os\n",
    "from functools import partial\n",
    "from importlib import reload"
   ]
  },
  {
   "cell_type": "code",
   "execution_count": 3,
   "id": "43fa898c-24d6-435e-bd02-bbc4747f6ba0",
   "metadata": {
    "execution": {
     "iopub.execute_input": "2025-05-11T23:11:41.530219Z",
     "iopub.status.busy": "2025-05-11T23:11:41.528526Z",
     "iopub.status.idle": "2025-05-11T23:11:44.316740Z",
     "shell.execute_reply": "2025-05-11T23:11:44.315578Z"
    },
    "papermill": {
     "duration": 2.971351,
     "end_time": "2025-05-11T23:11:44.318609",
     "exception": false,
     "start_time": "2025-05-11T23:11:41.347258",
     "status": "completed"
    },
    "tags": []
   },
   "outputs": [],
   "source": [
    "# Ajout du chemin d'accès aux différents code\n",
    "os.chdir(Path(workspace.files_path, \"Rapport Feedback/code/pipelines\"))\n",
    "\n",
    "# Module créer pour le processing et l'exportation des données\n",
    "from compute_indicators import compute_indicators, date_utils, excel_file_handler\n",
    "from database_operations import db_ops, update_dimension, upsert_table\n",
    "from export_file_to_google_drive import upload_file_to_drive\n",
    "from generate_feedback_report import generate_feedback_report as gfr\n",
    "from metabase import queries\n",
    "from metabase.metabase import Metabase"
   ]
  },
  {
   "cell_type": "markdown",
   "id": "82e4e62c-4e00-47c0-9725-30fae2086de8",
   "metadata": {
    "editable": true,
    "papermill": {
     "duration": 1.130985,
     "end_time": "2025-05-11T23:11:45.660767",
     "exception": false,
     "start_time": "2025-05-11T23:11:44.529782",
     "status": "completed"
    },
    "slideshow": {
     "slide_type": ""
    },
    "tags": []
   },
   "source": [
    "# Définition des paramètres"
   ]
  },
  {
   "cell_type": "markdown",
   "id": "eb13db80-bfa9-4534-a44b-75ba73fe8883",
   "metadata": {
    "editable": true,
    "papermill": {
     "duration": 0.320689,
     "end_time": "2025-05-11T23:11:46.756422",
     "exception": false,
     "start_time": "2025-05-11T23:11:46.435733",
     "status": "completed"
    },
    "slideshow": {
     "slide_type": ""
    },
    "tags": []
   },
   "source": [
    "Les variables nécessaires à la production du rapport de feedback :\n",
    "\n",
    "1. **Mois de création du rapport**  \n",
    "   - **Description :** Ce paramètre correspond au mois pour lequel le rapport de feedback sera généré.  \n",
    "   - **Source :** Défini par l'utilisateur lors de l'exécution du pipeline.\n",
    "\n",
    "2. **Liste des sites attendus**  \n",
    "   - **Description :** Fichier Excel contenant la liste complète des sites devant être inclus dans le rapport.  \n",
    "   - **Fréquence de mise à jour :** Ce fichier est mis à jour et communiqué chaque trimestre.  \n",
    "   - **Emplacement requis :** Le fichier doit être déposé dans le dossier `Rapport Feedback/data/Sites attendus`.\n",
    "\n",
    "3. **Liste des produits traceurs**  \n",
    "   - **Description :** Fichier Excel fournissant les informations sur les produits traceurs à analyser dans le rapport.  \n",
    "   - **Fréquence de mise à jour :** Généralement communiqué mensuellement par la DAP.  \n",
    "   - **Emplacement requis :** Le fichier doit être placé dans le dossier `Rapport Feedback/data/Produits Traceurs`."
   ]
  },
  {
   "cell_type": "markdown",
   "id": "c2d49e73-f67d-40df-9527-73b7d2dfae16",
   "metadata": {
    "editable": true,
    "papermill": {
     "duration": 0.260176,
     "end_time": "2025-05-11T23:11:47.178851",
     "exception": false,
     "start_time": "2025-05-11T23:11:46.918675",
     "status": "completed"
    },
    "slideshow": {
     "slide_type": ""
    },
    "tags": []
   },
   "source": [
    "<div class=\"alert alert-block alert-success\">\n",
    "Ici quand le mois est défini il faudrait aller checker dans la base de données pour voir si le mois en question est déjà présent dans la base pour minimiser le risque d'erreur\n",
    "</div>"
   ]
  },
  {
   "cell_type": "code",
   "execution_count": 4,
   "id": "2f9daacd-9043-44fe-a6c3-3aa982f1e6fb",
   "metadata": {
    "editable": true,
    "execution": {
     "iopub.execute_input": "2025-05-11T23:11:47.502485Z",
     "iopub.status.busy": "2025-05-11T23:11:47.501467Z",
     "iopub.status.idle": "2025-05-11T23:11:47.506084Z",
     "shell.execute_reply": "2025-05-11T23:11:47.505187Z"
    },
    "papermill": {
     "duration": 0.163988,
     "end_time": "2025-05-11T23:11:47.507912",
     "exception": false,
     "start_time": "2025-05-11T23:11:47.343924",
     "status": "completed"
    },
    "slideshow": {
     "slide_type": ""
    },
    "tags": [
     "parameters"
    ]
   },
   "outputs": [],
   "source": [
    "date_report, fp_site_attendus, fp_prod_traceurs = (\n",
    "    \"Mars\",\n",
    "    \"Sites attendus Février 2025.xlsx\",\n",
    "    \"Liste des Produits Traceurs Février 2025.xlsx\",\n",
    ")"
   ]
  },
  {
   "cell_type": "code",
   "execution_count": 5,
   "id": "73a9f234",
   "metadata": {
    "execution": {
     "iopub.execute_input": "2025-05-11T23:11:47.841658Z",
     "iopub.status.busy": "2025-05-11T23:11:47.841238Z",
     "iopub.status.idle": "2025-05-11T23:11:47.845802Z",
     "shell.execute_reply": "2025-05-11T23:11:47.844724Z"
    },
    "papermill": {
     "duration": 0.171729,
     "end_time": "2025-05-11T23:11:47.847625",
     "exception": false,
     "start_time": "2025-05-11T23:11:47.675896",
     "status": "completed"
    },
    "tags": [
     "injected-parameters"
    ]
   },
   "outputs": [],
   "source": [
    "# Parameters\n",
    "date_report = \"Avril\"\n",
    "fp_site_attendus = \"Sites attendus 2025 Version Avril 2025.xlsx\"\n",
    "fp_prod_traceurs = \"Liste des Produits Traceurs F\\xe9vrier 2025.xlsx\"\n"
   ]
  },
  {
   "cell_type": "code",
   "execution_count": 6,
   "id": "081e5b32-e9e7-44f9-97b3-c9534f963d64",
   "metadata": {
    "editable": true,
    "execution": {
     "iopub.execute_input": "2025-05-11T23:11:48.212677Z",
     "iopub.status.busy": "2025-05-11T23:11:48.211895Z",
     "iopub.status.idle": "2025-05-11T23:11:48.337118Z",
     "shell.execute_reply": "2025-05-11T23:11:48.336398Z"
    },
    "papermill": {
     "duration": 0.304792,
     "end_time": "2025-05-11T23:11:48.338749",
     "exception": false,
     "start_time": "2025-05-11T23:11:48.033957",
     "status": "completed"
    },
    "slideshow": {
     "slide_type": ""
    },
    "tags": []
   },
   "outputs": [],
   "source": [
    "month_export, date_report = date_report, compute_indicators.generate_month_end_report_date(date_report)"
   ]
  },
  {
   "cell_type": "markdown",
   "id": "0abd17bc-35f4-43f3-a17b-8c4931980e1b",
   "metadata": {
    "papermill": {
     "duration": 6.508106,
     "end_time": "2025-05-11T23:11:55.868794",
     "exception": false,
     "start_time": "2025-05-11T23:11:49.360688",
     "status": "completed"
    },
    "tags": []
   },
   "source": [
    "## Test pour s'assurer que cette date n'existe pas déjà dans la base de données"
   ]
  },
  {
   "cell_type": "code",
   "execution_count": 7,
   "id": "585b259d-cd27-4f2f-a731-e73cc66844b8",
   "metadata": {
    "execution": {
     "iopub.execute_input": "2025-05-11T23:11:58.728992Z",
     "iopub.status.busy": "2025-05-11T23:11:58.728623Z",
     "iopub.status.idle": "2025-05-11T23:11:58.767872Z",
     "shell.execute_reply": "2025-05-11T23:11:58.766638Z"
    },
    "papermill": {
     "duration": 0.229167,
     "end_time": "2025-05-11T23:11:58.769695",
     "exception": false,
     "start_time": "2025-05-11T23:11:58.540528",
     "status": "completed"
    },
    "tags": []
   },
   "outputs": [],
   "source": [
    "db_ops.reload_connection()\n",
    "\n",
    "schema_name = \"dap_tools\""
   ]
  },
  {
   "cell_type": "code",
   "execution_count": 8,
   "id": "05e7ebc7-bb18-4aab-b7de-ccea3ba3de0f",
   "metadata": {
    "editable": true,
    "execution": {
     "iopub.execute_input": "2025-05-11T23:11:59.142955Z",
     "iopub.status.busy": "2025-05-11T23:11:59.142587Z",
     "iopub.status.idle": "2025-05-11T23:12:00.623098Z",
     "shell.execute_reply": "2025-05-11T23:12:00.622038Z"
    },
    "papermill": {
     "duration": 1.667624,
     "end_time": "2025-05-11T23:12:00.625021",
     "exception": false,
     "start_time": "2025-05-11T23:11:58.957397",
     "status": "completed"
    },
    "slideshow": {
     "slide_type": ""
    },
    "tags": []
   },
   "outputs": [],
   "source": [
    "# Ici il faudrait également s'assurer que le mois précédent est bien présent à l'intérieur de la base de données au cas où on arriverait à se tromper sur le mois de conception du fichier\n",
    "mois_prec = (pd.to_datetime(date_report).replace(day=1) - pd.Timedelta(days=1)).strftime('%Y-%m-%d')\n",
    "\n",
    "df_ = pd.read_sql(f\"select * from {schema_name}.etat_de_stock where date_report='{mois_prec}'\", db_ops.civ_engine)\n",
    "\n",
    "assert df_.shape[0] != 0, f\"Le mois précédent {mois_prec} n'est pas présent dans la base de données locale êtes-vous sûre d'avoir choisir le bon mois de conception du fichier.\"\n",
    "\n",
    "del df_"
   ]
  },
  {
   "cell_type": "code",
   "execution_count": 9,
   "id": "d0e84e1c-e061-4012-a736-e9e8ae21c076",
   "metadata": {
    "editable": true,
    "execution": {
     "iopub.execute_input": "2025-05-11T23:12:01.060084Z",
     "iopub.status.busy": "2025-05-11T23:12:01.059319Z",
     "iopub.status.idle": "2025-05-11T23:12:01.084805Z",
     "shell.execute_reply": "2025-05-11T23:12:01.083823Z"
    },
    "papermill": {
     "duration": 0.240956,
     "end_time": "2025-05-11T23:12:01.086515",
     "exception": false,
     "start_time": "2025-05-11T23:12:00.845559",
     "status": "completed"
    },
    "slideshow": {
     "slide_type": ""
    },
    "tags": []
   },
   "outputs": [],
   "source": [
    "%%script false --no-raise-error\n",
    "\n",
    "df_ = pd.read_sql(f\"select * from {schema_name}.etat_de_stock where date_report='{pd.to_datetime(date_report).strftime('%Y-%m-%d')}' LIMIT 2\", db_ops.civ_engine)\n",
    "\n",
    "assert df_.shape[0] == 0, f\"La date {date_report} existe déjà dans la base de données vous devez définir une autre date pour la production du rapport.\"\n",
    "\n",
    "del df_"
   ]
  },
  {
   "cell_type": "markdown",
   "id": "40a0ccb6-f7f9-4f02-8aed-d3aaed4a584f",
   "metadata": {
    "papermill": {
     "duration": 1.994863,
     "end_time": "2025-05-11T23:12:03.493975",
     "exception": false,
     "start_time": "2025-05-11T23:12:01.499112",
     "status": "completed"
    },
    "tags": []
   },
   "source": [
    "# 📥 Importation des Données\n",
    "  \n",
    "L'utilisateur doit veiller à ce que les fichiers respectent le format attendu et soient placés dans les répertoires dédiés avant de procéder au traitement."
   ]
  },
  {
   "cell_type": "markdown",
   "id": "7405a294-f204-4a05-8753-13a6ba1e3e36",
   "metadata": {
    "editable": true,
    "papermill": {
     "duration": 6.251033,
     "end_time": "2025-05-11T23:12:09.954855",
     "exception": false,
     "start_time": "2025-05-11T23:12:03.703822",
     "status": "completed"
    },
    "slideshow": {
     "slide_type": ""
    },
    "tags": []
   },
   "source": [
    "## 📌 Importation de la `Liste des sites attendus`\n",
    "- **Format requis :** Assurez-vous que le fichier respecte le template standard défini pour les mois de chargement.\n",
    "- **Emplacement du fichier :** Le fichier doit être placé dans le répertoire dédié :  \n",
    "  **`Rapport Feedback/data/Sites attendus`**  \n",
    "- **En cas d'erreur :**  \n",
    "  - Vérifiez que le fichier est bien présent dans le répertoire.  \n",
    "  - Assurez-vous que toutes les colonnes requises sont bien renseignées.  \n",
    "  - Contrôlez que le fichier est bien accessible et non corrompu."
   ]
  },
  {
   "cell_type": "code",
   "execution_count": 10,
   "id": "44fed58a-6521-4903-8fec-792bd328633d",
   "metadata": {
    "editable": true,
    "execution": {
     "iopub.execute_input": "2025-05-11T23:12:10.434913Z",
     "iopub.status.busy": "2025-05-11T23:12:10.432205Z",
     "iopub.status.idle": "2025-05-11T23:12:10.448427Z",
     "shell.execute_reply": "2025-05-11T23:12:10.445931Z"
    },
    "papermill": {
     "duration": 0.251865,
     "end_time": "2025-05-11T23:12:10.452145",
     "exception": false,
     "start_time": "2025-05-11T23:12:10.200280",
     "status": "completed"
    },
    "slideshow": {
     "slide_type": ""
    },
    "tags": []
   },
   "outputs": [],
   "source": [
    "fp_site_attendus = (\n",
    "    Path(workspace.files_path)\n",
    "    / \"Rapport Feedback/data/Sites attendus\" \n",
    "    / Path(fp_site_attendus).name\n",
    ")"
   ]
  },
  {
   "cell_type": "code",
   "execution_count": 11,
   "id": "63198639-40f7-4b11-9b7f-cf4b9fcc858a",
   "metadata": {
    "execution": {
     "iopub.execute_input": "2025-05-11T23:12:10.921952Z",
     "iopub.status.busy": "2025-05-11T23:12:10.919547Z",
     "iopub.status.idle": "2025-05-11T23:12:11.764216Z",
     "shell.execute_reply": "2025-05-11T23:12:11.763210Z"
    },
    "papermill": {
     "duration": 1.075011,
     "end_time": "2025-05-11T23:12:11.769431",
     "exception": false,
     "start_time": "2025-05-11T23:12:10.694420",
     "status": "completed"
    },
    "tags": []
   },
   "outputs": [
    {
     "data": {
      "text/html": [
       "<div>\n",
       "<style scoped>\n",
       "    .dataframe tbody tr th:only-of-type {\n",
       "        vertical-align: middle;\n",
       "    }\n",
       "\n",
       "    .dataframe tbody tr th {\n",
       "        vertical-align: top;\n",
       "    }\n",
       "\n",
       "    .dataframe thead th {\n",
       "        text-align: right;\n",
       "    }\n",
       "</style>\n",
       "<table border=\"1\" class=\"dataframe\">\n",
       "  <thead>\n",
       "    <tr style=\"text-align: right;\">\n",
       "      <th></th>\n",
       "      <th>Code</th>\n",
       "      <th>Site</th>\n",
       "      <th>District</th>\n",
       "      <th>Region</th>\n",
       "      <th>ARV</th>\n",
       "      <th>TRC</th>\n",
       "      <th>LAB</th>\n",
       "      <th>CHARGE VIRALE</th>\n",
       "      <th>PNLP</th>\n",
       "      <th>PNN</th>\n",
       "      <th>TBS</th>\n",
       "      <th>TBMR</th>\n",
       "      <th>TBLAB</th>\n",
       "      <th>PNSME-GRAT</th>\n",
       "      <th>PNSME</th>\n",
       "    </tr>\n",
       "  </thead>\n",
       "  <tbody>\n",
       "    <tr>\n",
       "      <th>0</th>\n",
       "      <td>10200010</td>\n",
       "      <td>CHU YOPOUGON</td>\n",
       "      <td>YOPOUGON OUEST-SONGON</td>\n",
       "      <td>ABIDJAN 1</td>\n",
       "      <td>1</td>\n",
       "      <td>1</td>\n",
       "      <td>NA</td>\n",
       "      <td>NA</td>\n",
       "      <td>NA</td>\n",
       "      <td>1</td>\n",
       "      <td>NA</td>\n",
       "      <td>NA</td>\n",
       "      <td>NA</td>\n",
       "      <td>NA</td>\n",
       "      <td>NA</td>\n",
       "    </tr>\n",
       "    <tr>\n",
       "      <th>1</th>\n",
       "      <td>10300010</td>\n",
       "      <td>CHU ANGRE</td>\n",
       "      <td>COCODY-BINGERVILLE</td>\n",
       "      <td>ABIDJAN 2</td>\n",
       "      <td>1</td>\n",
       "      <td>1</td>\n",
       "      <td>NA</td>\n",
       "      <td>1</td>\n",
       "      <td>1</td>\n",
       "      <td>1</td>\n",
       "      <td>1</td>\n",
       "      <td>NA</td>\n",
       "      <td>NA</td>\n",
       "      <td>1</td>\n",
       "      <td>NA</td>\n",
       "    </tr>\n",
       "  </tbody>\n",
       "</table>\n",
       "</div>"
      ],
      "text/plain": [
       "       Code          Site               District     Region ARV TRC LAB  \\\n",
       "0  10200010  CHU YOPOUGON  YOPOUGON OUEST-SONGON  ABIDJAN 1   1   1  NA   \n",
       "1  10300010     CHU ANGRE     COCODY-BINGERVILLE  ABIDJAN 2   1   1  NA   \n",
       "\n",
       "  CHARGE VIRALE PNLP PNN TBS TBMR TBLAB PNSME-GRAT PNSME  \n",
       "0            NA   NA   1  NA   NA    NA         NA    NA  \n",
       "1             1    1   1   1   NA    NA          1    NA  "
      ]
     },
     "execution_count": 11,
     "metadata": {},
     "output_type": "execute_result"
    }
   ],
   "source": [
    "# Configuration constante\n",
    "EXPECTED_COLS = {\n",
    "    'Code', 'Site', 'District', 'Region', 'ARV', 'TRC', 'LAB', \n",
    "    'CHARGE VIRALE', 'PNLP', 'PNSME', 'PNSME-GRAT', \n",
    "    'PNN', 'TBS', 'TBMR', 'TBLAB'\n",
    "}\n",
    "\n",
    "# Utilisation\n",
    "try:\n",
    "    df_site_attendu = excel_file_handler.load_expected_sites_from_excel(fp_site_attendus, EXPECTED_COLS)\n",
    "except Exception as e:\n",
    "    print(\"Une erreur s'est produite lors du chargement du fichier contenant la liste des sites attendus.\")\n",
    "    print(\"Veuillez vérifier que le fichier existe dans le répertoire spécifique `Rapport Feedback/data/Sites attendus` et qu'il contient toutes les colonnes requises.\")\n",
    "    print(f\"Code d'erreur détaillé : {e}\")\n",
    "    raise\n",
    "df_site_attendu.head(2)"
   ]
  },
  {
   "cell_type": "markdown",
   "id": "d279c2e1-3e18-43aa-97d2-bc14a2d0f862",
   "metadata": {
    "editable": true,
    "papermill": {
     "duration": 0.239167,
     "end_time": "2025-05-11T23:12:12.262251",
     "exception": false,
     "start_time": "2025-05-11T23:12:12.023084",
     "status": "completed"
    },
    "slideshow": {
     "slide_type": ""
    },
    "tags": []
   },
   "source": [
    "## 📌 Importation de la `liste des produits traceurs`\n",
    "- **Format requis :** Respectez la structure du fichier définie pour l’importation.  \n",
    "- **Emplacement du fichier :** Le fichier doit être placé dans le répertoire suivant :  \n",
    "  **`Rapport Feedback/data/Produits Traceurs`**  \n",
    "- **En cas d'erreur :**  \n",
    "  - Vérifiez que le fichier est bien présent dans le répertoire.  \n",
    "  - Assurez-vous que les données respectent le format attendu.  \n",
    "  - Vérifiez l'intégrité du fichier et assurez-vous et corriger l'anomalie."
   ]
  },
  {
   "cell_type": "code",
   "execution_count": 12,
   "id": "bad6e1c2-5395-44d3-90e2-56e7502287a7",
   "metadata": {
    "editable": true,
    "execution": {
     "iopub.execute_input": "2025-05-11T23:12:13.334933Z",
     "iopub.status.busy": "2025-05-11T23:12:13.333236Z",
     "iopub.status.idle": "2025-05-11T23:12:13.347317Z",
     "shell.execute_reply": "2025-05-11T23:12:13.345132Z"
    },
    "papermill": {
     "duration": 0.806215,
     "end_time": "2025-05-11T23:12:13.351257",
     "exception": false,
     "start_time": "2025-05-11T23:12:12.545042",
     "status": "completed"
    },
    "slideshow": {
     "slide_type": ""
    },
    "tags": []
   },
   "outputs": [],
   "source": [
    "# Il faudra définir un standard de fichier qui sera attendu\n",
    "fp_prod_traceurs = (\n",
    "    Path(workspace.files_path)\n",
    "    / \"Rapport Feedback/data/Produits Traceurs\" \n",
    "    / Path(fp_prod_traceurs).name\n",
    ")"
   ]
  },
  {
   "cell_type": "code",
   "execution_count": 13,
   "id": "66e0d1aa-5170-43b3-a6f7-a9e22aa18926",
   "metadata": {
    "execution": {
     "iopub.execute_input": "2025-05-11T23:12:29.592383Z",
     "iopub.status.busy": "2025-05-11T23:12:29.590080Z",
     "iopub.status.idle": "2025-05-11T23:12:29.842171Z",
     "shell.execute_reply": "2025-05-11T23:12:29.838513Z"
    },
    "papermill": {
     "duration": 0.531202,
     "end_time": "2025-05-11T23:12:29.846763",
     "exception": false,
     "start_time": "2025-05-11T23:12:29.315561",
     "status": "completed"
    },
    "tags": []
   },
   "outputs": [
    {
     "data": {
      "text/html": [
       "<div>\n",
       "<style scoped>\n",
       "    .dataframe tbody tr th:only-of-type {\n",
       "        vertical-align: middle;\n",
       "    }\n",
       "\n",
       "    .dataframe tbody tr th {\n",
       "        vertical-align: top;\n",
       "    }\n",
       "\n",
       "    .dataframe thead th {\n",
       "        text-align: right;\n",
       "    }\n",
       "</style>\n",
       "<table border=\"1\" class=\"dataframe\">\n",
       "  <thead>\n",
       "    <tr style=\"text-align: right;\">\n",
       "      <th></th>\n",
       "      <th>PROGRAMME</th>\n",
       "      <th>CODE PRODUIT</th>\n",
       "      <th>PRODUIT</th>\n",
       "      <th>CODE COMBINE</th>\n",
       "      <th>CATEGORIE PRODUIT</th>\n",
       "    </tr>\n",
       "  </thead>\n",
       "  <tbody>\n",
       "    <tr>\n",
       "      <th>0</th>\n",
       "      <td>PNLP</td>\n",
       "      <td>3050015</td>\n",
       "      <td>AMODIAQUINE/ARTESUNATE 25 / 67,5 mg ENFANT (0 ...</td>\n",
       "      <td>3050015_PNLP</td>\n",
       "      <td>Produit traceur</td>\n",
       "    </tr>\n",
       "    <tr>\n",
       "      <th>1</th>\n",
       "      <td>PNLP</td>\n",
       "      <td>3050016</td>\n",
       "      <td>AMODIAQUINE/ARTESUNATE 50 / 135 mg ENFANT (1 -...</td>\n",
       "      <td>3050016_PNLP</td>\n",
       "      <td>Produit traceur</td>\n",
       "    </tr>\n",
       "  </tbody>\n",
       "</table>\n",
       "</div>"
      ],
      "text/plain": [
       "  PROGRAMME  CODE PRODUIT                                            PRODUIT  \\\n",
       "0      PNLP       3050015  AMODIAQUINE/ARTESUNATE 25 / 67,5 mg ENFANT (0 ...   \n",
       "1      PNLP       3050016  AMODIAQUINE/ARTESUNATE 50 / 135 mg ENFANT (1 -...   \n",
       "\n",
       "   CODE COMBINE CATEGORIE PRODUIT  \n",
       "0  3050015_PNLP   Produit traceur  \n",
       "1  3050016_PNLP   Produit traceur  "
      ]
     },
     "execution_count": 13,
     "metadata": {},
     "output_type": "execute_result"
    }
   ],
   "source": [
    "try:\n",
    "    df_prod_traceurs = excel_file_handler.load_traceable_products_from_excel(fp_prod_traceurs)\n",
    "except Exeption as e:\n",
    "    print(\"Une erreur s'est produite lors du chargement du fichier contenant la liste des produits traceurs\")\n",
    "    print(\"Veuillez vérifier que le fichier existe et qu'il contienu dans le répertoire dédié `Rapport Feedback/data/Produits Traceurs`\")\n",
    "    print(f\"Code d'erreur détaillé : {e}\")\n",
    "\n",
    "df_prod_traceurs.head(2)"
   ]
  },
  {
   "cell_type": "markdown",
   "id": "d1412c64-6b55-4a3f-9cea-74fb9ec82858",
   "metadata": {
    "papermill": {
     "duration": 0.259074,
     "end_time": "2025-05-11T23:12:30.384697",
     "exception": false,
     "start_time": "2025-05-11T23:12:30.125623",
     "status": "completed"
    },
    "tags": []
   },
   "source": [
    "## 📌 Extraction des données eSIGL : `État de transmission`  \n",
    "\n",
    "Cette étape permet d'extraire les données d'état de transmission depuis eSIGL via Metabase.  \n",
    "Assurez-vous que toutes les conditions nécessaires sont remplies avant de lancer l'extraction.  \n",
    "\n",
    "🛠 En cas d'erreur :  \n",
    "1. **Vérifier les permissions utilisateur**  \n",
    "   - Assurez-vous que l'utilisateur **`secretariat_dap`** dispose bien des accès nécessaires à eSIGL.  \n",
    "   - Si l'accès est restreint, contactez l'administrateur du système pour obtenir les autorisations requises.  \n",
    "\n",
    "2. **S'assurer du bon fonctionnement de eSIGL**  \n",
    "   - Il arrive que **Metabase** subisse des interruptions temporaires rendant l'accès aux données impossible.  \n",
    "   - Si eSIGL ou Metabase est indisponible, réessayez plus tard ou consultez l'équipe technique.  \n",
    "\n",
    "**Astuce :** Si le problème persiste, tentez d'accéder manuellement à eSIGL et Metabase pour vérifier leur disponibilité."
   ]
  },
  {
   "cell_type": "code",
   "execution_count": 14,
   "id": "8c20b13c-c935-4b94-8b16-06714abb4cb6",
   "metadata": {
    "execution": {
     "iopub.execute_input": "2025-05-11T23:12:30.818487Z",
     "iopub.status.busy": "2025-05-11T23:12:30.814832Z",
     "iopub.status.idle": "2025-05-11T23:12:31.599909Z",
     "shell.execute_reply": "2025-05-11T23:12:31.595999Z"
    },
    "papermill": {
     "duration": 0.983519,
     "end_time": "2025-05-11T23:12:31.605373",
     "exception": false,
     "start_time": "2025-05-11T23:12:30.621854",
     "status": "completed"
    },
    "tags": []
   },
   "outputs": [],
   "source": [
    "metabase = Metabase(workspace.custom_connection(\"metabase-esigl\"))"
   ]
  },
  {
   "cell_type": "code",
   "execution_count": 15,
   "id": "45e6bc90-9162-4b25-9c5e-aec1153778d7",
   "metadata": {
    "editable": true,
    "execution": {
     "iopub.execute_input": "2025-05-11T23:12:41.068206Z",
     "iopub.status.busy": "2025-05-11T23:12:41.067296Z",
     "iopub.status.idle": "2025-05-11T23:12:43.262101Z",
     "shell.execute_reply": "2025-05-11T23:12:43.260857Z"
    },
    "papermill": {
     "duration": 2.38218,
     "end_time": "2025-05-11T23:12:43.264297",
     "exception": false,
     "start_time": "2025-05-11T23:12:40.882117",
     "status": "completed"
    },
    "slideshow": {
     "slide_type": ""
    },
    "tags": []
   },
   "outputs": [
    {
     "data": {
      "text/html": [
       "<div>\n",
       "<style scoped>\n",
       "    .dataframe tbody tr th:only-of-type {\n",
       "        vertical-align: middle;\n",
       "    }\n",
       "\n",
       "    .dataframe tbody tr th {\n",
       "        vertical-align: top;\n",
       "    }\n",
       "\n",
       "    .dataframe thead th {\n",
       "        text-align: right;\n",
       "    }\n",
       "</style>\n",
       "<table border=\"1\" class=\"dataframe\">\n",
       "  <thead>\n",
       "    <tr style=\"text-align: right;\">\n",
       "      <th></th>\n",
       "      <th>region</th>\n",
       "      <th>id_region_esigl</th>\n",
       "      <th>code</th>\n",
       "      <th>facility</th>\n",
       "      <th>district</th>\n",
       "      <th>id_district_esigl</th>\n",
       "      <th>program</th>\n",
       "      <th>cde_urgente</th>\n",
       "      <th>period</th>\n",
       "      <th>statut</th>\n",
       "      <th>user</th>\n",
       "      <th>date_soumission</th>\n",
       "      <th>date_autorisation</th>\n",
       "      <th>time_ago</th>\n",
       "    </tr>\n",
       "  </thead>\n",
       "  <tbody>\n",
       "    <tr>\n",
       "      <th>0</th>\n",
       "      <td>BOUNKANI</td>\n",
       "      <td>6</td>\n",
       "      <td>50800050</td>\n",
       "      <td>DISTRICT SANITAIRE NASSIAN</td>\n",
       "      <td>NASSIAN</td>\n",
       "      <td>77</td>\n",
       "      <td>PNLS-ANTIRETROVIRAUX ET IO</td>\n",
       "      <td>False</td>\n",
       "      <td>AVRIL 2025</td>\n",
       "      <td>AUTHORIZED</td>\n",
       "      <td>BROUHA KOUASSI MATHIEU</td>\n",
       "      <td>2025-05-10T00:00:00Z</td>\n",
       "      <td>2025-05-10T00:00:00Z</td>\n",
       "      <td>1 09:44:05</td>\n",
       "    </tr>\n",
       "    <tr>\n",
       "      <th>1</th>\n",
       "      <td>ABIDJAN 1</td>\n",
       "      <td>2</td>\n",
       "      <td>10200010</td>\n",
       "      <td>CHU YOPOUGON</td>\n",
       "      <td>YOPOUGON EST</td>\n",
       "      <td>101</td>\n",
       "      <td>PNLS-ANTIRETROVIRAUX ET IO</td>\n",
       "      <td>False</td>\n",
       "      <td>AVRIL 2025</td>\n",
       "      <td>AUTHORIZED</td>\n",
       "      <td>ADEHOUNI YACOUBA A.</td>\n",
       "      <td>2025-05-08T00:00:00Z</td>\n",
       "      <td>2025-05-09T00:00:00Z</td>\n",
       "      <td>2 01:55:19</td>\n",
       "    </tr>\n",
       "    <tr>\n",
       "      <th>2</th>\n",
       "      <td>GONTOUGO</td>\n",
       "      <td>144</td>\n",
       "      <td>50800040</td>\n",
       "      <td>DISTRICT SANITAIRE KOUN FAO</td>\n",
       "      <td>KOUN FAO</td>\n",
       "      <td>119</td>\n",
       "      <td>PNN-MEDICAMENTS ET INTRANTS</td>\n",
       "      <td>False</td>\n",
       "      <td>AVRIL 2025</td>\n",
       "      <td>APPROVED</td>\n",
       "      <td>Kouame Mbia Moussa</td>\n",
       "      <td>2025-05-10T00:00:00Z</td>\n",
       "      <td>2025-05-10T00:00:00Z</td>\n",
       "      <td>1 08:12:36</td>\n",
       "    </tr>\n",
       "  </tbody>\n",
       "</table>\n",
       "</div>"
      ],
      "text/plain": [
       "      region  id_region_esigl      code                     facility  \\\n",
       "0   BOUNKANI                6  50800050   DISTRICT SANITAIRE NASSIAN   \n",
       "1  ABIDJAN 1                2  10200010                 CHU YOPOUGON   \n",
       "2   GONTOUGO              144  50800040  DISTRICT SANITAIRE KOUN FAO   \n",
       "\n",
       "       district  id_district_esigl                      program  cde_urgente  \\\n",
       "0       NASSIAN                 77   PNLS-ANTIRETROVIRAUX ET IO        False   \n",
       "1  YOPOUGON EST                101   PNLS-ANTIRETROVIRAUX ET IO        False   \n",
       "2      KOUN FAO                119  PNN-MEDICAMENTS ET INTRANTS        False   \n",
       "\n",
       "       period      statut                    user       date_soumission  \\\n",
       "0  AVRIL 2025  AUTHORIZED  BROUHA KOUASSI MATHIEU  2025-05-10T00:00:00Z   \n",
       "1  AVRIL 2025  AUTHORIZED     ADEHOUNI YACOUBA A.  2025-05-08T00:00:00Z   \n",
       "2  AVRIL 2025    APPROVED      Kouame Mbia Moussa  2025-05-10T00:00:00Z   \n",
       "\n",
       "      date_autorisation    time_ago  \n",
       "0  2025-05-10T00:00:00Z  1 09:44:05  \n",
       "1  2025-05-09T00:00:00Z  2 01:55:19  \n",
       "2  2025-05-10T00:00:00Z  1 08:12:36  "
      ]
     },
     "execution_count": 15,
     "metadata": {},
     "output_type": "execute_result"
    }
   ],
   "source": [
    "df_transmission = metabase.get_data_from_sql_query(\n",
    "    queries.QUERY_TRANSMISSION.format(\n",
    "        date_report=date_utils.get_date_report(date_report)\n",
    "    )\n",
    ")\n",
    "\n",
    "# Les établissements ne sont plus censé faire des rapportages sur ce programme spécifique\n",
    "df_transmission[\"program\"] = df_transmission[\"program\"].str.replace(\n",
    "    \"PNSME-MEDICAMENTS ET INTRANTS\", \"PNSME_GRATUITE:MEDICAMENTS ET INTRANTS\"\n",
    ")\n",
    "\n",
    "df_transmission.head(3)"
   ]
  },
  {
   "cell_type": "markdown",
   "id": "af5f5c5e-8643-4718-b5ab-b6d034bef314",
   "metadata": {
    "papermill": {
     "duration": 0.184161,
     "end_time": "2025-05-11T23:12:43.715969",
     "exception": false,
     "start_time": "2025-05-11T23:12:43.531808",
     "status": "completed"
    },
    "tags": []
   },
   "source": [
    "## 📌 Extraction des données eSIGL : `Etat de stock`"
   ]
  },
  {
   "cell_type": "code",
   "execution_count": 16,
   "id": "73b66542-0411-4031-b09b-2f7c68307958",
   "metadata": {
    "execution": {
     "iopub.execute_input": "2025-05-11T23:12:44.652082Z",
     "iopub.status.busy": "2025-05-11T23:12:44.648872Z",
     "iopub.status.idle": "2025-05-11T23:13:17.618286Z",
     "shell.execute_reply": "2025-05-11T23:13:17.617645Z"
    },
    "papermill": {
     "duration": 33.942474,
     "end_time": "2025-05-11T23:13:17.829754",
     "exception": false,
     "start_time": "2025-05-11T23:12:43.887280",
     "status": "completed"
    },
    "tags": []
   },
   "outputs": [
    {
     "data": {
      "text/html": [
       "<div>\n",
       "<style scoped>\n",
       "    .dataframe tbody tr th:only-of-type {\n",
       "        vertical-align: middle;\n",
       "    }\n",
       "\n",
       "    .dataframe tbody tr th {\n",
       "        vertical-align: top;\n",
       "    }\n",
       "\n",
       "    .dataframe thead th {\n",
       "        text-align: right;\n",
       "    }\n",
       "</style>\n",
       "<table border=\"1\" class=\"dataframe\">\n",
       "  <thead>\n",
       "    <tr style=\"text-align: right;\">\n",
       "      <th></th>\n",
       "      <th>commande_urgente</th>\n",
       "      <th>programme</th>\n",
       "      <th>periode</th>\n",
       "      <th>region</th>\n",
       "      <th>id_region_esigl</th>\n",
       "      <th>district</th>\n",
       "      <th>id_district_esigl</th>\n",
       "      <th>code</th>\n",
       "      <th>etablissement</th>\n",
       "      <th>type_structure</th>\n",
       "      <th>categorie_produit</th>\n",
       "      <th>code_produit</th>\n",
       "      <th>designation</th>\n",
       "      <th>unite</th>\n",
       "      <th>stock_initial</th>\n",
       "      <th>quantite_recue</th>\n",
       "      <th>quantite_distribuee</th>\n",
       "      <th>perte_ajustement</th>\n",
       "      <th>sdu</th>\n",
       "      <th>cmm</th>\n",
       "      <th>nbrejrsrupture</th>\n",
       "      <th>quantite_proposee</th>\n",
       "      <th>quantite_commandee</th>\n",
       "      <th>quantite_approuvee</th>\n",
       "      <th>explication_de_la_qte_cmdee</th>\n",
       "    </tr>\n",
       "  </thead>\n",
       "  <tbody>\n",
       "    <tr>\n",
       "      <th>0</th>\n",
       "      <td>False</td>\n",
       "      <td>PNSME_GRATUITE:MEDICAMENTS ET INTRANTS</td>\n",
       "      <td>AVRIL 2025</td>\n",
       "      <td>ABIDJAN 1</td>\n",
       "      <td>2</td>\n",
       "      <td>YOPOUGON EST</td>\n",
       "      <td>101</td>\n",
       "      <td>60100090</td>\n",
       "      <td>CENTRE DE SANTE MIXTE DE YOPOUGON MILLIONNAIRE...</td>\n",
       "      <td>PUBLIC</td>\n",
       "      <td>INJECTABLES</td>\n",
       "      <td>3120015</td>\n",
       "      <td>JADELLE (IMPLANT + TROCARD) 150 mg  BTE/10 BOI...</td>\n",
       "      <td>IMPLANT</td>\n",
       "      <td>10</td>\n",
       "      <td>0</td>\n",
       "      <td>3</td>\n",
       "      <td>-2</td>\n",
       "      <td>5</td>\n",
       "      <td>2</td>\n",
       "      <td>0</td>\n",
       "      <td>3</td>\n",
       "      <td>7</td>\n",
       "      <td>7</td>\n",
       "      <td>CMM GESTIONNAIRE=3</td>\n",
       "    </tr>\n",
       "    <tr>\n",
       "      <th>1</th>\n",
       "      <td>False</td>\n",
       "      <td>PNSME_GRATUITE:MEDICAMENTS ET INTRANTS</td>\n",
       "      <td>AVRIL 2025</td>\n",
       "      <td>ABIDJAN 1</td>\n",
       "      <td>2</td>\n",
       "      <td>YOPOUGON EST</td>\n",
       "      <td>101</td>\n",
       "      <td>60100090</td>\n",
       "      <td>CENTRE DE SANTE MIXTE DE YOPOUGON MILLIONNAIRE...</td>\n",
       "      <td>PUBLIC</td>\n",
       "      <td>INJECTABLES</td>\n",
       "      <td>3120048</td>\n",
       "      <td>SAYANA PRESS (DMPA-SC) 104mg/0,65ml amp inj UN  -</td>\n",
       "      <td>AMPOULE</td>\n",
       "      <td>22</td>\n",
       "      <td>0</td>\n",
       "      <td>3</td>\n",
       "      <td>0</td>\n",
       "      <td>19</td>\n",
       "      <td>2</td>\n",
       "      <td>0</td>\n",
       "      <td>0</td>\n",
       "      <td>0</td>\n",
       "      <td>0</td>\n",
       "      <td>CMM=2</td>\n",
       "    </tr>\n",
       "    <tr>\n",
       "      <th>2</th>\n",
       "      <td>False</td>\n",
       "      <td>PNSME_GRATUITE:MEDICAMENTS ET INTRANTS</td>\n",
       "      <td>AVRIL 2025</td>\n",
       "      <td>ABIDJAN 1</td>\n",
       "      <td>2</td>\n",
       "      <td>YOPOUGON EST</td>\n",
       "      <td>101</td>\n",
       "      <td>60100090</td>\n",
       "      <td>CENTRE DE SANTE MIXTE DE YOPOUGON MILLIONNAIRE...</td>\n",
       "      <td>PUBLIC</td>\n",
       "      <td>INJECTABLES</td>\n",
       "      <td>3120034</td>\n",
       "      <td>NORISTERAT 200 mg amp. inj. BTE/100 BTE  -</td>\n",
       "      <td>AMPOULE</td>\n",
       "      <td>0</td>\n",
       "      <td>0</td>\n",
       "      <td>0</td>\n",
       "      <td>0</td>\n",
       "      <td>0</td>\n",
       "      <td>0</td>\n",
       "      <td>30</td>\n",
       "      <td>0</td>\n",
       "      <td>100</td>\n",
       "      <td>100</td>\n",
       "      <td>MISE EN PLACE</td>\n",
       "    </tr>\n",
       "  </tbody>\n",
       "</table>\n",
       "</div>"
      ],
      "text/plain": [
       "   commande_urgente                               programme     periode  \\\n",
       "0             False  PNSME_GRATUITE:MEDICAMENTS ET INTRANTS  AVRIL 2025   \n",
       "1             False  PNSME_GRATUITE:MEDICAMENTS ET INTRANTS  AVRIL 2025   \n",
       "2             False  PNSME_GRATUITE:MEDICAMENTS ET INTRANTS  AVRIL 2025   \n",
       "\n",
       "      region  id_region_esigl      district  id_district_esigl      code  \\\n",
       "0  ABIDJAN 1                2  YOPOUGON EST                101  60100090   \n",
       "1  ABIDJAN 1                2  YOPOUGON EST                101  60100090   \n",
       "2  ABIDJAN 1                2  YOPOUGON EST                101  60100090   \n",
       "\n",
       "                                       etablissement type_structure  \\\n",
       "0  CENTRE DE SANTE MIXTE DE YOPOUGON MILLIONNAIRE...         PUBLIC   \n",
       "1  CENTRE DE SANTE MIXTE DE YOPOUGON MILLIONNAIRE...         PUBLIC   \n",
       "2  CENTRE DE SANTE MIXTE DE YOPOUGON MILLIONNAIRE...         PUBLIC   \n",
       "\n",
       "  categorie_produit code_produit  \\\n",
       "0       INJECTABLES      3120015   \n",
       "1       INJECTABLES      3120048   \n",
       "2       INJECTABLES      3120034   \n",
       "\n",
       "                                         designation    unite  stock_initial  \\\n",
       "0  JADELLE (IMPLANT + TROCARD) 150 mg  BTE/10 BOI...  IMPLANT             10   \n",
       "1  SAYANA PRESS (DMPA-SC) 104mg/0,65ml amp inj UN  -  AMPOULE             22   \n",
       "2         NORISTERAT 200 mg amp. inj. BTE/100 BTE  -  AMPOULE              0   \n",
       "\n",
       "   quantite_recue  quantite_distribuee  perte_ajustement  sdu  cmm  \\\n",
       "0               0                    3                -2    5    2   \n",
       "1               0                    3                 0   19    2   \n",
       "2               0                    0                 0    0    0   \n",
       "\n",
       "   nbrejrsrupture  quantite_proposee  quantite_commandee  quantite_approuvee  \\\n",
       "0               0                  3                   7                   7   \n",
       "1               0                  0                   0                   0   \n",
       "2              30                  0                 100                 100   \n",
       "\n",
       "  explication_de_la_qte_cmdee  \n",
       "0          CMM GESTIONNAIRE=3  \n",
       "1                       CMM=2  \n",
       "2               MISE EN PLACE  "
      ]
     },
     "execution_count": 16,
     "metadata": {},
     "output_type": "execute_result"
    }
   ],
   "source": [
    "df_etat_stock = metabase.get_data_from_sql_query(\n",
    "    queries.QUERY_ETAT_STOCK.format(date_report=date_utils.get_date_report(date_report))\n",
    ")\n",
    "\n",
    "df_etat_stock[\"programme\"] = df_etat_stock[\"programme\"].str.replace(\n",
    "    \"PNSME-MEDICAMENTS ET INTRANTS\", \"PNSME_GRATUITE:MEDICAMENTS ET INTRANTS\"\n",
    ")\n",
    "\n",
    "df_etat_stock.head(3)"
   ]
  },
  {
   "cell_type": "markdown",
   "id": "6d2803b9-a8ea-41b2-bd63-2201bb57dd6b",
   "metadata": {
    "papermill": {
     "duration": 0.190414,
     "end_time": "2025-05-11T23:13:18.212206",
     "exception": false,
     "start_time": "2025-05-11T23:13:18.021792",
     "status": "completed"
    },
    "tags": []
   },
   "source": [
    "# 📊 Calcul des Indicateurs `(1/3)`\n",
    "\n",
    "Cette étape consiste à **traiter les données du mois en cours** afin de calculer les indicateurs de performance, notamment :  \n",
    "- **Complétude** : mesure le taux de soumission des données attendues.  \n",
    "- **Promptitude** : évalue la rapidité avec laquelle les données sont transmises.\n",
    "- **Etat de Stock**: informations sur les états de stock des différents produits.\n",
    "\n",
    "Une fois calculés, ces indicateurs sont intégrés au **rapport de feedback**, qui sera ensuite exporté pour être accessible aux utilisateurs."
   ]
  },
  {
   "cell_type": "code",
   "execution_count": 17,
   "id": "07fe4d86-c85b-4b42-be39-f7075c444748",
   "metadata": {
    "execution": {
     "iopub.execute_input": "2025-05-11T23:13:18.552606Z",
     "iopub.status.busy": "2025-05-11T23:13:18.551864Z",
     "iopub.status.idle": "2025-05-11T23:13:26.098589Z",
     "shell.execute_reply": "2025-05-11T23:13:26.097698Z"
    },
    "papermill": {
     "duration": 7.706664,
     "end_time": "2025-05-11T23:13:26.100040",
     "exception": false,
     "start_time": "2025-05-11T23:13:18.393376",
     "status": "completed"
    },
    "tags": []
   },
   "outputs": [
    {
     "name": "stdout",
     "output_type": "stream",
     "text": [
      "CPU times: user 7.11 s, sys: 6.49 ms, total: 7.12 s\n",
      "Wall time: 7.54 s\n"
     ]
    }
   ],
   "source": [
    "%%time\n",
    "df_ets, df_region = compute_indicators.compute_indicators_completeness_and_promptness(\n",
    "    df_site_attendu.copy(), df_transmission.copy(), date_report\n",
    ")"
   ]
  },
  {
   "cell_type": "markdown",
   "id": "7d15fc13-cfa1-42b3-83a3-4e4d43d8744b",
   "metadata": {
    "papermill": {
     "duration": 0.210262,
     "end_time": "2025-05-11T23:13:27.537080",
     "exception": false,
     "start_time": "2025-05-11T23:13:27.326818",
     "status": "completed"
    },
    "tags": []
   },
   "source": [
    "## 📄 Génération du Fichier Excel `(1/2)`\n",
    "\n",
    "Cette étape permet de **générer un fichier Excel** contenant les indicateurs calculés et les données consolidées du rapport de feedback.  \n",
    "Une fois le fichier créé, un **lien d’accès** est intégré dans le tableau de bord afin que les utilisateurs puissent le consulter et le télécharger facilement.  "
   ]
  },
  {
   "cell_type": "code",
   "execution_count": 18,
   "id": "453592ed-56b2-4247-b722-3538710d7751",
   "metadata": {
    "execution": {
     "iopub.execute_input": "2025-05-11T23:13:27.993590Z",
     "iopub.status.busy": "2025-05-11T23:13:27.993127Z",
     "iopub.status.idle": "2025-05-11T23:19:34.603573Z",
     "shell.execute_reply": "2025-05-11T23:19:34.602528Z"
    },
    "papermill": {
     "duration": 366.881411,
     "end_time": "2025-05-11T23:19:34.605854",
     "exception": false,
     "start_time": "2025-05-11T23:13:27.724443",
     "status": "completed"
    },
    "tags": []
   },
   "outputs": [],
   "source": [
    "src_file = (\n",
    "    Path(workspace.files_path)\n",
    "    / \"Rapport Feedback/data/Template Rapport Feedback/RAPPORT FEEDBACK - TEMPLATE.xlsx\"\n",
    ")\n",
    "\n",
    "wb_feedback_report = gfr.load_workbook(src_file.as_posix())"
   ]
  },
  {
   "cell_type": "code",
   "execution_count": 19,
   "id": "fd1ac321-1786-4e3d-b539-ccf0d609eaf3",
   "metadata": {
    "execution": {
     "iopub.execute_input": "2025-05-11T23:19:35.323510Z",
     "iopub.status.busy": "2025-05-11T23:19:35.322213Z",
     "iopub.status.idle": "2025-05-11T23:19:37.826091Z",
     "shell.execute_reply": "2025-05-11T23:19:37.825113Z"
    },
    "papermill": {
     "duration": 2.751849,
     "end_time": "2025-05-11T23:19:37.827969",
     "exception": false,
     "start_time": "2025-05-11T23:19:35.076120",
     "status": "completed"
    },
    "tags": []
   },
   "outputs": [
    {
     "name": "stdout",
     "output_type": "stream",
     "text": [
      "CPU times: user 2.49 s, sys: 2.96 ms, total: 2.5 s\n",
      "Wall time: 2.5 s\n"
     ]
    }
   ],
   "source": [
    "%%time\n",
    "gfr.export_detail_comp_promp_to_sheet(\n",
    "    wb_feedback_report, df_ets.copy(), df_region.copy(), date_report\n",
    ")"
   ]
  },
  {
   "cell_type": "markdown",
   "id": "1bc53552-bddd-4167-8d4b-1e222812908a",
   "metadata": {
    "papermill": {
     "duration": 0.187984,
     "end_time": "2025-05-11T23:19:38.240088",
     "exception": false,
     "start_time": "2025-05-11T23:19:38.052104",
     "status": "completed"
    },
    "tags": []
   },
   "source": [
    "## 📊 Suite du Calcul des Indicateurs `(2/3)`\n",
    "\n",
    "Cette étape poursuit le traitement des données en complétant le calcul des indicateurs clés pour le rapport de feedback.  \n",
    "Elle permet de finaliser les analyses et d’assurer la cohérence des résultats avant leur exportation.  "
   ]
  },
  {
   "cell_type": "code",
   "execution_count": 20,
   "id": "d4958512-6684-4c9e-8136-e45a6ef49e52",
   "metadata": {
    "execution": {
     "iopub.execute_input": "2025-05-11T23:19:38.610772Z",
     "iopub.status.busy": "2025-05-11T23:19:38.609616Z",
     "iopub.status.idle": "2025-05-11T23:20:22.539580Z",
     "shell.execute_reply": "2025-05-11T23:20:22.538532Z"
    },
    "papermill": {
     "duration": 44.376757,
     "end_time": "2025-05-11T23:20:22.795842",
     "exception": false,
     "start_time": "2025-05-11T23:19:38.419085",
     "status": "completed"
    },
    "tags": []
   },
   "outputs": [
    {
     "name": "stdout",
     "output_type": "stream",
     "text": [
      "CPU times: user 43.7 s, sys: 23.3 ms, total: 43.7 s\n",
      "Wall time: 43.9 s\n"
     ]
    }
   ],
   "source": [
    "%%time\n",
    "(\n",
    "    df_etat_stock,\n",
    "    stock_lvl_decent,\n",
    "    stock_region,\n",
    ") = compute_indicators.analyze_product_stock_status_indicators(\n",
    "    df_prod_traceurs.copy(), df_etat_stock.copy(), date_report\n",
    ")"
   ]
  },
  {
   "cell_type": "markdown",
   "id": "07da741e-c18b-43c3-98c3-702708e1de22",
   "metadata": {
    "papermill": {
     "duration": 0.213478,
     "end_time": "2025-05-11T23:20:23.203837",
     "exception": false,
     "start_time": "2025-05-11T23:20:22.990359",
     "status": "completed"
    },
    "tags": []
   },
   "source": [
    "## 📄 Génération Finale du Fichier Excel `(2/2)`\r\n"
   ]
  },
  {
   "cell_type": "code",
   "execution_count": 21,
   "id": "74a87f9b-de55-498e-8cdc-283ce06cc9a4",
   "metadata": {
    "execution": {
     "iopub.execute_input": "2025-05-11T23:20:24.227421Z",
     "iopub.status.busy": "2025-05-11T23:20:24.226914Z",
     "iopub.status.idle": "2025-05-11T23:22:22.037064Z",
     "shell.execute_reply": "2025-05-11T23:22:22.035888Z"
    },
    "papermill": {
     "duration": 119.083517,
     "end_time": "2025-05-11T23:22:22.476577",
     "exception": false,
     "start_time": "2025-05-11T23:20:23.393060",
     "status": "completed"
    },
    "tags": []
   },
   "outputs": [
    {
     "name": "stdout",
     "output_type": "stream",
     "text": [
      "CPU times: user 1min 56s, sys: 898 ms, total: 1min 57s\n",
      "Wall time: 1min 57s\n"
     ]
    }
   ],
   "source": [
    "%%time\n",
    "gfr.export_stock_data_to_sheet(wb_feedback_report, df_etat_stock.copy())"
   ]
  },
  {
   "cell_type": "code",
   "execution_count": 22,
   "id": "0601f565-4ead-49c3-a12b-cfe8ee2bbb38",
   "metadata": {
    "execution": {
     "iopub.execute_input": "2025-05-11T23:22:22.907295Z",
     "iopub.status.busy": "2025-05-11T23:22:22.906282Z",
     "iopub.status.idle": "2025-05-11T23:22:31.811830Z",
     "shell.execute_reply": "2025-05-11T23:22:31.810915Z"
    },
    "papermill": {
     "duration": 9.131305,
     "end_time": "2025-05-11T23:22:31.813311",
     "exception": false,
     "start_time": "2025-05-11T23:22:22.682006",
     "status": "completed"
    },
    "tags": []
   },
   "outputs": [
    {
     "name": "stdout",
     "output_type": "stream",
     "text": [
      "CPU times: user 8.88 s, sys: 12.9 ms, total: 8.9 s\n",
      "Wall time: 8.9 s\n"
     ]
    }
   ],
   "source": [
    "%%time\n",
    "# Date report doit être révue pour prendre le 11 du mois en cours\n",
    "gfr.export_stock_region_to_sheet(\n",
    "    wb_feedback_report,\n",
    "    stock_lvl_decent.copy(),\n",
    "    stock_region.copy(),\n",
    "    date_report=pd.to_datetime(date_report).replace(day=11).strftime(\"%Y/%m/%d\"),\n",
    ")"
   ]
  },
  {
   "cell_type": "code",
   "execution_count": 23,
   "id": "db675e76-4de7-4c84-8ddc-af1a98b75064",
   "metadata": {
    "execution": {
     "iopub.execute_input": "2025-05-11T23:22:32.247664Z",
     "iopub.status.busy": "2025-05-11T23:22:32.247155Z",
     "iopub.status.idle": "2025-05-11T23:23:00.787244Z",
     "shell.execute_reply": "2025-05-11T23:23:00.786415Z"
    },
    "papermill": {
     "duration": 28.740701,
     "end_time": "2025-05-11T23:23:00.789412",
     "exception": false,
     "start_time": "2025-05-11T23:22:32.048711",
     "status": "completed"
    },
    "tags": []
   },
   "outputs": [],
   "source": [
    "# Sauvegarde du fichier dans un repertoire courant\n",
    "dest_file = (\n",
    "    Path(workspace.files_path)\n",
    "    / f\"Rapport Feedback/code/pipelines/rapport feedback genere/{date_report[:4]}\"\n",
    ")\n",
    "dest_file.mkdir(exist_ok=True, parents=True)\n",
    "\n",
    "dest_file = dest_file / f\"RapportFeedBack-{month_export.upper()}-{date_report[:4]}.xlsx\"\n",
    "\n",
    "wb_feedback_report.save(dest_file.as_posix())\n",
    "\n",
    "del wb_feedback_report"
   ]
  },
  {
   "cell_type": "markdown",
   "id": "f5fbb52c-d238-4c6f-98ef-00a78d080be5",
   "metadata": {
    "papermill": {
     "duration": 0.193464,
     "end_time": "2025-05-11T23:23:01.166350",
     "exception": false,
     "start_time": "2025-05-11T23:23:00.972886",
     "status": "completed"
    },
    "tags": []
   },
   "source": [
    "## 📊 Suite du Calcul des Indicateurs `(3/3)`"
   ]
  },
  {
   "cell_type": "code",
   "execution_count": 24,
   "id": "fa9a00de-fe01-47d7-a943-431a0ed29b37",
   "metadata": {
    "execution": {
     "iopub.execute_input": "2025-05-11T23:23:01.532488Z",
     "iopub.status.busy": "2025-05-11T23:23:01.531416Z",
     "iopub.status.idle": "2025-05-11T23:23:02.937708Z",
     "shell.execute_reply": "2025-05-11T23:23:02.936543Z"
    },
    "papermill": {
     "duration": 1.590337,
     "end_time": "2025-05-11T23:23:02.939217",
     "exception": false,
     "start_time": "2025-05-11T23:23:01.348880",
     "status": "completed"
    },
    "tags": []
   },
   "outputs": [
    {
     "name": "stdout",
     "output_type": "stream",
     "text": [
      "CPU times: user 1.38 s, sys: 1.98 ms, total: 1.38 s\n",
      "Wall time: 1.4 s\n"
     ]
    }
   ],
   "source": [
    "%%time\n",
    "(\n",
    "    stock_lvl_decent,\n",
    "    stock_region,\n",
    "    df_sheet_two,\n",
    "    stock_region_with_central,\n",
    ") = compute_indicators.aggregate_regional_stock_availability_metrics(\n",
    "    stock_lvl_decent.copy(), stock_region.copy()\n",
    ")"
   ]
  },
  {
   "attachments": {},
   "cell_type": "markdown",
   "id": "230f2328-a9bb-4663-9dc2-e17f64fd525f",
   "metadata": {
    "papermill": {
     "duration": 0.151264,
     "end_time": "2025-05-11T23:23:03.255186",
     "exception": false,
     "start_time": "2025-05-11T23:23:03.103922",
     "status": "completed"
    },
    "tags": []
   },
   "source": [
    "# Exportation des données vers la base des données"
   ]
  },
  {
   "cell_type": "markdown",
   "id": "851d680b-5fc8-422b-97cf-58883fb3c9c2",
   "metadata": {
    "papermill": {
     "duration": 3.835212,
     "end_time": "2025-05-11T23:23:07.257969",
     "exception": false,
     "start_time": "2025-05-11T23:23:03.422757",
     "status": "completed"
    },
    "tags": []
   },
   "source": [
    "## Export du lien du fichier vers le répertoire drive"
   ]
  },
  {
   "cell_type": "code",
   "execution_count": 25,
   "id": "75c244b6-83ae-434f-8dfc-ac70e871e769",
   "metadata": {
    "execution": {
     "iopub.execute_input": "2025-05-11T23:23:07.602147Z",
     "iopub.status.busy": "2025-05-11T23:23:07.601174Z",
     "iopub.status.idle": "2025-05-11T23:23:11.209508Z",
     "shell.execute_reply": "2025-05-11T23:23:11.208583Z"
    },
    "papermill": {
     "duration": 3.788091,
     "end_time": "2025-05-11T23:23:11.211227",
     "exception": false,
     "start_time": "2025-05-11T23:23:07.423136",
     "status": "completed"
    },
    "tags": []
   },
   "outputs": [
    {
     "name": "stdout",
     "output_type": "stream",
     "text": [
      "Aucun file trouvé avec ce nom.\n"
     ]
    }
   ],
   "source": [
    "share_link = upload_file_to_drive.upload_file_and_get_share_link(\n",
    "    dest_file.as_posix(), date_report=date_report\n",
    ")\n",
    "\n",
    "df_share_link = pd.DataFrame(\n",
    "    data=[{\"share_link\": share_link, \"date_report\": pd.to_datetime(date_report)}]\n",
    ")\n",
    "\n",
    "db_ops.civ_cursor.execute(\n",
    "    f\"\"\"\n",
    "DELETE FROM {schema_name}.share_link_fbr\n",
    "WHERE date_report = '{date_report}'\n",
    "\"\"\"\n",
    ")\n",
    "\n",
    "db_ops.conn.commit()\n",
    "\n",
    "df_share_link.to_sql(\n",
    "    \"share_link_fbr\",\n",
    "    con=db_ops.civ_engine,\n",
    "    schema=schema_name,\n",
    "    index=False,\n",
    "    if_exists=\"append\",\n",
    ")\n",
    "\n",
    "db_ops.civ_engine.dispose()\n",
    "\n",
    "del df_share_link"
   ]
  },
  {
   "cell_type": "markdown",
   "id": "567afe0d-0806-4827-adce-cfcfc760e605",
   "metadata": {
    "papermill": {
     "duration": 0.177138,
     "end_time": "2025-05-11T23:23:11.553678",
     "exception": false,
     "start_time": "2025-05-11T23:23:11.376540",
     "status": "completed"
    },
    "tags": []
   },
   "source": [
    "## Exportation des autres tables"
   ]
  },
  {
   "cell_type": "code",
   "execution_count": 26,
   "id": "f22bdf2e-69fe-47c5-ac75-73b2918a7550",
   "metadata": {
    "execution": {
     "iopub.execute_input": "2025-05-11T23:23:11.881855Z",
     "iopub.status.busy": "2025-05-11T23:23:11.881139Z",
     "iopub.status.idle": "2025-05-11T23:23:11.890276Z",
     "shell.execute_reply": "2025-05-11T23:23:11.889190Z"
    },
    "papermill": {
     "duration": 0.18052,
     "end_time": "2025-05-11T23:23:11.892114",
     "exception": false,
     "start_time": "2025-05-11T23:23:11.711594",
     "status": "completed"
    },
    "tags": []
   },
   "outputs": [],
   "source": [
    "# completude_promptitude_par_ets\n",
    "df_comp_promp_ets = df_ets.rename(\n",
    "    columns=lambda x: x.lower().replace(\" \", \"_\").replace(\"-\", \"_\")\n",
    "    if x not in (\"Code\", \"Site\", \"Region\")\n",
    "    else x\n",
    ")\n",
    "\n",
    "# completude_promptitude_attendu_taux_region\n",
    "df_comp_promp_region = df_region.rename(\n",
    "    columns=lambda x: x.lower().replace(\" \", \"_\") if x not in (\"Region\") else x\n",
    ")"
   ]
  },
  {
   "cell_type": "code",
   "execution_count": 27,
   "id": "cf8e1fe3-3722-413b-b5f3-c477efdbc4c0",
   "metadata": {
    "execution": {
     "iopub.execute_input": "2025-05-11T23:23:18.779278Z",
     "iopub.status.busy": "2025-05-11T23:23:18.778398Z",
     "iopub.status.idle": "2025-05-11T23:23:18.784652Z",
     "shell.execute_reply": "2025-05-11T23:23:18.783833Z"
    },
    "papermill": {
     "duration": 0.17453,
     "end_time": "2025-05-11T23:23:18.786182",
     "exception": false,
     "start_time": "2025-05-11T23:23:18.611652",
     "status": "completed"
    },
    "tags": []
   },
   "outputs": [],
   "source": [
    "date_report = pd.to_datetime(date_report).strftime(\"%d-%m-%Y\")"
   ]
  },
  {
   "cell_type": "code",
   "execution_count": 28,
   "id": "bd05188a-0ee8-4c23-8fac-c60a07f5d45f",
   "metadata": {
    "execution": {
     "iopub.execute_input": "2025-05-11T23:23:19.097908Z",
     "iopub.status.busy": "2025-05-11T23:23:19.097547Z",
     "iopub.status.idle": "2025-05-11T23:23:19.107135Z",
     "shell.execute_reply": "2025-05-11T23:23:19.106166Z"
    },
    "papermill": {
     "duration": 0.172111,
     "end_time": "2025-05-11T23:23:19.108644",
     "exception": false,
     "start_time": "2025-05-11T23:23:18.936533",
     "status": "completed"
    },
    "tags": []
   },
   "outputs": [],
   "source": [
    "df_etat_stock[\"date_report\"] = pd.to_datetime(date_report, format=\"%d-%m-%Y\")\n",
    "stock_region_with_central[\"date_report\"] = pd.to_datetime(\n",
    "    date_report, format=\"%d-%m-%Y\"\n",
    ")\n",
    "df_sheet_two[\"date_report\"] = pd.to_datetime(date_report, format=\"%d-%m-%Y\")\n",
    "\n",
    "# Some change here\n",
    "df_comp_promp_ets[\"date_report\"] = pd.to_datetime(date_report, format=\"%d-%m-%Y\")\n",
    "df_comp_promp_region[\"date_report\"] = pd.to_datetime(date_report, format=\"%d-%m-%Y\")"
   ]
  },
  {
   "cell_type": "code",
   "execution_count": 29,
   "id": "0fce1414-e756-4396-9fed-e600bc930091",
   "metadata": {
    "execution": {
     "iopub.execute_input": "2025-05-11T23:23:19.482059Z",
     "iopub.status.busy": "2025-05-11T23:23:19.481143Z",
     "iopub.status.idle": "2025-05-11T23:23:19.491127Z",
     "shell.execute_reply": "2025-05-11T23:23:19.490262Z"
    },
    "jupyter": {
     "source_hidden": true
    },
    "papermill": {
     "duration": 0.201965,
     "end_time": "2025-05-11T23:23:19.492622",
     "exception": false,
     "start_time": "2025-05-11T23:23:19.290657",
     "status": "completed"
    },
    "tags": []
   },
   "outputs": [],
   "source": [
    "df_etat_stock.rename(\n",
    "    columns={\n",
    "        \"CODE\": \"Code_produit\",\n",
    "        \"PROGRAMME\": \"programme_abrv\",\n",
    "        \"SOUS-PROGRAMME\": \"sous_programme\",\n",
    "        \"PERIODE\": \"Periode\",\n",
    "        \"REGION\": \"Region\",\n",
    "        \"DISTRICT\": \"District\",\n",
    "        \"CODE ETS\": \"Code_ets\",\n",
    "        \"STRUCTURE\": \"Structure\",\n",
    "        \"CATEGORIE PRODUIT\": \"cat_produit\",\n",
    "        \"PRODUIT\": \"produit_designation\",\n",
    "        \"UNITE DE RAPPORTAGE\": \"unit_rapportage\",\n",
    "        \"STOCK INITIAL\": \"stock_initial\",\n",
    "        \"QUANTITE RECUE\": \"qte_recue\",\n",
    "        \"QUANTITE UTILISEE\": \"qte_utilisee\",\n",
    "        \"PERTES ET AJUSTEMENT\": \"perte_ajust\",\n",
    "        \"JOURS DE RUPTURE\": \"j_rupture\",\n",
    "        \"SDU\": \"sdu\",\n",
    "        \"CMM ESIGL\": \"cmm_esigl\",\n",
    "        \"CMM gestionnaire\": \"cmm_gest\",\n",
    "        \"QUANTITE PROPOSEE\": \"qte_prop\",\n",
    "        \"QUANTITE COMMANDEE\": \"qte_cmde\",\n",
    "        \"QUANTITE APPROUVEE\": \"qte_approuv\",\n",
    "        \"MSD\": \"msd\",\n",
    "        \"ETAT DU STOCK\": \"etat_stock\",\n",
    "        \"BESOIN CMMMANDE URGENTE\": \"besoin_cmde_urg\",\n",
    "        \"BESOIN TRANSFERT IN\": \"besoin_trsf_in\",\n",
    "        \"QUANTITE A TRANSFERER OUT\": \"qte_trsf_out\",\n",
    "        \"CATEGORIE_DU_PRODUIT\": \"cat_du_produit\",\n",
    "    }, inplace=True)\n",
    "\n",
    "stock_region_with_central.rename(columns={\"Code\": \"Code_produit\", \"MSD\": \"msd\", \"STATUT\": \"Statut\"}, inplace=True)"
   ]
  },
  {
   "cell_type": "markdown",
   "id": "04ecbc11-662e-4a0c-ac7b-42705d0bcafa",
   "metadata": {
    "papermill": {
     "duration": 1.533072,
     "end_time": "2025-05-11T23:23:21.755064",
     "exception": false,
     "start_time": "2025-05-11T23:23:20.221992",
     "status": "completed"
    },
    "tags": []
   },
   "source": [
    "### Mise à jour des dimensions"
   ]
  },
  {
   "cell_type": "markdown",
   "id": "dfe1331f-a313-4972-9067-dcf845809e0e",
   "metadata": {
    "papermill": {
     "duration": 0.28235,
     "end_time": "2025-05-11T23:23:28.878876",
     "exception": false,
     "start_time": "2025-05-11T23:23:28.596526",
     "status": "completed"
    },
    "tags": []
   },
   "source": [
    "#### `Dimensions régions`\n",
    "\n",
    "\n",
    "Cette étape permet de maintenir à jour la **dimension des régions** dans la base de données.  \r\n",
    "Elle garantit que toutes les informations régionales sont alignées avec les mises à jour effectuées dans **eSIGL**\n",
    "\n",
    " 🛠 Actions réalisées :  \r\n",
    "1. **Mise à jour des régions existantes**  \r\n",
    "   - Si des modifications ont été apportées aux régions dans **eSIGL**, elles sont répercutées dans notre base de données.  \r\n",
    "   - Les informations régionales (ex. : noms, codes, identifiants) sont mises à jour pour rester cohérentes avec la source officielle.  \r\n",
    "\r\n",
    "2. **Ajout des nouvelles régions**  \r\n",
    "   - Si certaines régions ne sont pas encore présentes dans notre base, elles sont automatiquement ajoutées.  \r\n",
    "   - Cela garantit que l’ensemble des régions récentes est bien pris en compte dans les analyses et traitements futurs.  \r\n",
    "  "
   ]
  },
  {
   "cell_type": "code",
   "execution_count": 30,
   "id": "4dcda020-262e-4b3a-b8fc-32c319769b11",
   "metadata": {
    "execution": {
     "iopub.execute_input": "2025-05-11T23:23:29.243611Z",
     "iopub.status.busy": "2025-05-11T23:23:29.242597Z",
     "iopub.status.idle": "2025-05-11T23:23:29.347285Z",
     "shell.execute_reply": "2025-05-11T23:23:29.346308Z"
    },
    "papermill": {
     "duration": 0.286509,
     "end_time": "2025-05-11T23:23:29.348941",
     "exception": false,
     "start_time": "2025-05-11T23:23:29.062432",
     "status": "completed"
    },
    "tags": []
   },
   "outputs": [
    {
     "data": {
      "text/html": [
       "<div>\n",
       "<style scoped>\n",
       "    .dataframe tbody tr th:only-of-type {\n",
       "        vertical-align: middle;\n",
       "    }\n",
       "\n",
       "    .dataframe tbody tr th {\n",
       "        vertical-align: top;\n",
       "    }\n",
       "\n",
       "    .dataframe thead th {\n",
       "        text-align: right;\n",
       "    }\n",
       "</style>\n",
       "<table border=\"1\" class=\"dataframe\">\n",
       "  <thead>\n",
       "    <tr style=\"text-align: right;\">\n",
       "      <th></th>\n",
       "      <th>Region</th>\n",
       "      <th>id_region_esigl</th>\n",
       "      <th>Code_region</th>\n",
       "      <th>Region_existing</th>\n",
       "      <th>region_order</th>\n",
       "    </tr>\n",
       "  </thead>\n",
       "  <tbody>\n",
       "  </tbody>\n",
       "</table>\n",
       "</div>"
      ],
      "text/plain": [
       "Empty DataFrame\n",
       "Columns: [Region, id_region_esigl, Code_region, Region_existing, region_order]\n",
       "Index: []"
      ]
     },
     "execution_count": 30,
     "metadata": {},
     "output_type": "execute_result"
    }
   ],
   "source": [
    "# Recherche des nouvelles régions et modifications sur les régions survenues au cours de la période dans eSIGL\n",
    "df_new_region = update_dimension.update_dimension_table(\n",
    "    dimension_name=\"dim_region\",\n",
    "    source_dfs=[\n",
    "        df_transmission[[\"region\", \"id_region_esigl\"]].rename(\n",
    "            columns={\"region\": \"Region\"}\n",
    "        ),\n",
    "        df_etat_stock[[\"Region\", \"id_region_esigl\"]],\n",
    "    ],\n",
    "    merge_on=[\"id_region_esigl\"],\n",
    "    change_columns=[\"Region\"],\n",
    "    code_generation=partial(update_dimension.region_code_generation, metabase=metabase),\n",
    "    schema_name=schema_name,\n",
    ")\n",
    "\n",
    "df_new_region.head(3)"
   ]
  },
  {
   "cell_type": "code",
   "execution_count": 31,
   "id": "35f32f33-7697-4db4-9dac-9d0ab525bbf4",
   "metadata": {
    "execution": {
     "iopub.execute_input": "2025-05-11T23:23:30.509404Z",
     "iopub.status.busy": "2025-05-11T23:23:30.508870Z",
     "iopub.status.idle": "2025-05-11T23:23:30.513112Z",
     "shell.execute_reply": "2025-05-11T23:23:30.512461Z"
    },
    "papermill": {
     "duration": 1.001052,
     "end_time": "2025-05-11T23:23:30.514426",
     "exception": false,
     "start_time": "2025-05-11T23:23:29.513374",
     "status": "completed"
    },
    "tags": []
   },
   "outputs": [],
   "source": [
    "# Mise à jour des informations au niveau de la base de données\n",
    "upsert_table.upsert_table(\n",
    "    df_new_region, \"dim_region\", schema_name, engine=db_ops.civ_engine\n",
    ")\n",
    "\n",
    "del df_new_region"
   ]
  },
  {
   "cell_type": "code",
   "execution_count": 32,
   "id": "c67951f7-d439-44e6-b022-295a87335951",
   "metadata": {
    "execution": {
     "iopub.execute_input": "2025-05-11T23:23:32.689675Z",
     "iopub.status.busy": "2025-05-11T23:23:32.689259Z",
     "iopub.status.idle": "2025-05-11T23:23:32.708275Z",
     "shell.execute_reply": "2025-05-11T23:23:32.707535Z"
    },
    "papermill": {
     "duration": 0.825759,
     "end_time": "2025-05-11T23:23:32.709807",
     "exception": false,
     "start_time": "2025-05-11T23:23:31.884048",
     "status": "completed"
    },
    "tags": []
   },
   "outputs": [
    {
     "data": {
      "text/html": [
       "<div>\n",
       "<style scoped>\n",
       "    .dataframe tbody tr th:only-of-type {\n",
       "        vertical-align: middle;\n",
       "    }\n",
       "\n",
       "    .dataframe tbody tr th {\n",
       "        vertical-align: top;\n",
       "    }\n",
       "\n",
       "    .dataframe thead th {\n",
       "        text-align: right;\n",
       "    }\n",
       "</style>\n",
       "<table border=\"1\" class=\"dataframe\">\n",
       "  <thead>\n",
       "    <tr style=\"text-align: right;\">\n",
       "      <th></th>\n",
       "      <th>Code_region</th>\n",
       "      <th>Region</th>\n",
       "      <th>region_order</th>\n",
       "      <th>id_region_esigl</th>\n",
       "    </tr>\n",
       "  </thead>\n",
       "  <tbody>\n",
       "    <tr>\n",
       "      <th>0</th>\n",
       "      <td>NAT</td>\n",
       "      <td>NATIONAL</td>\n",
       "      <td>1</td>\n",
       "      <td>NaN</td>\n",
       "    </tr>\n",
       "    <tr>\n",
       "      <th>1</th>\n",
       "      <td>N-PSP</td>\n",
       "      <td>NOUVELLE PSP</td>\n",
       "      <td>0</td>\n",
       "      <td>NaN</td>\n",
       "    </tr>\n",
       "  </tbody>\n",
       "</table>\n",
       "</div>"
      ],
      "text/plain": [
       "  Code_region        Region  region_order  id_region_esigl\n",
       "0         NAT      NATIONAL             1              NaN\n",
       "1       N-PSP  NOUVELLE PSP             0              NaN"
      ]
     },
     "execution_count": 32,
     "metadata": {},
     "output_type": "execute_result"
    }
   ],
   "source": [
    "df_region = db_ops.get_data_from_database(\"dim_region\")\n",
    "\n",
    "df_region.head(2)"
   ]
  },
  {
   "cell_type": "markdown",
   "id": "cc04f7ba-a6f5-4663-9545-d7ce64e6fdd9",
   "metadata": {
    "papermill": {
     "duration": 0.222231,
     "end_time": "2025-05-11T23:23:38.927800",
     "exception": false,
     "start_time": "2025-05-11T23:23:38.705569",
     "status": "completed"
    },
    "tags": []
   },
   "source": [
    "#### `Dimension districts`\n",
    "\n",
    "Mise à Jour et Ajout d'Informations Complémentaires  \n",
    "\n",
    "Avant d'exécuter le traitement, il est **essentiel** de mettre à jour les informations si des modifications ont été effectuées dans **eSIGL**, notamment sur les districts.  \n",
    "\n",
    "Étapes à suivre :  \n",
    "1. **Vérification et mise à jour des informations existantes**  \n",
    "   - Si des districts ont été modifiés ou ajoutés dans **eSIGL**, il faut s'assurer que ces changements sont bien répercutés dans les données utilisées.  \n",
    "\n",
    "2. **Ajout des informations complémentaires**  \n",
    "   - Une fois la mise à jour effectuée, il est nécessaire d'ajouter toutes les informations additionnelles requises pour le bon fonctionnement du processus."
   ]
  },
  {
   "cell_type": "code",
   "execution_count": 33,
   "id": "806cb5c3-b781-448a-af07-f70082b08ba9",
   "metadata": {
    "execution": {
     "iopub.execute_input": "2025-05-11T23:23:39.296596Z",
     "iopub.status.busy": "2025-05-11T23:23:39.296007Z",
     "iopub.status.idle": "2025-05-11T23:23:39.334112Z",
     "shell.execute_reply": "2025-05-11T23:23:39.333126Z"
    },
    "papermill": {
     "duration": 0.240231,
     "end_time": "2025-05-11T23:23:39.335763",
     "exception": false,
     "start_time": "2025-05-11T23:23:39.095532",
     "status": "completed"
    },
    "tags": []
   },
   "outputs": [],
   "source": [
    "df_new_district = update_dimension.update_dimension_table(\n",
    "    dimension_name=\"dim_district\",\n",
    "    source_dfs=[\n",
    "        df_transmission[[\"id_region_esigl\", \"district\", \"id_district_esigl\"]].rename(\n",
    "            columns={\"district\": \"District\"}\n",
    "        ),\n",
    "        df_etat_stock[[\"id_region_esigl\", \"District\", \"id_district_esigl\"]],\n",
    "    ],\n",
    "    merge_on=[\"id_district_esigl\"],\n",
    "    change_columns=[\"District\"],\n",
    "    code_generation=partial(\n",
    "        update_dimension.district_code_generation,\n",
    "        tb_region=\"dim_region\",\n",
    "        schema_name=schema_name,\n",
    "    ),\n",
    "    schema_name=schema_name,\n",
    ")"
   ]
  },
  {
   "cell_type": "code",
   "execution_count": 34,
   "id": "45501e53-073e-4d94-b30b-7752526be3d7",
   "metadata": {
    "execution": {
     "iopub.execute_input": "2025-05-11T23:23:39.676637Z",
     "iopub.status.busy": "2025-05-11T23:23:39.675596Z",
     "iopub.status.idle": "2025-05-11T23:23:39.680240Z",
     "shell.execute_reply": "2025-05-11T23:23:39.679583Z"
    },
    "papermill": {
     "duration": 0.186584,
     "end_time": "2025-05-11T23:23:39.681649",
     "exception": false,
     "start_time": "2025-05-11T23:23:39.495065",
     "status": "completed"
    },
    "tags": []
   },
   "outputs": [],
   "source": [
    "upsert_table.upsert_table(\n",
    "    df_new_district, \"dim_district\", schema_name, engine=db_ops.civ_engine\n",
    ")\n",
    "\n",
    "del df_new_district"
   ]
  },
  {
   "cell_type": "code",
   "execution_count": 35,
   "id": "a0fcdf48-b34c-49a7-8042-9fd5023c4cf4",
   "metadata": {
    "execution": {
     "iopub.execute_input": "2025-05-11T23:23:45.382214Z",
     "iopub.status.busy": "2025-05-11T23:23:45.381865Z",
     "iopub.status.idle": "2025-05-11T23:23:45.396408Z",
     "shell.execute_reply": "2025-05-11T23:23:45.395543Z"
    },
    "papermill": {
     "duration": 2.662197,
     "end_time": "2025-05-11T23:23:45.398062",
     "exception": false,
     "start_time": "2025-05-11T23:23:42.735865",
     "status": "completed"
    },
    "tags": []
   },
   "outputs": [],
   "source": [
    "df_district_db = db_ops.get_data_from_database(\"dim_district\")"
   ]
  },
  {
   "cell_type": "markdown",
   "id": "c249201e-93b9-4d1f-b184-96c201752181",
   "metadata": {
    "papermill": {
     "duration": 2.182994,
     "end_time": "2025-05-11T23:23:48.574544",
     "exception": false,
     "start_time": "2025-05-11T23:23:46.391550",
     "status": "completed"
    },
    "tags": []
   },
   "source": [
    "#### `Dimensions Structure`"
   ]
  },
  {
   "cell_type": "markdown",
   "id": "c76f15d1-6428-46aa-890a-1d9e361844f3",
   "metadata": {
    "papermill": {
     "duration": 0.186703,
     "end_time": "2025-05-11T23:23:48.951486",
     "exception": false,
     "start_time": "2025-05-11T23:23:48.764783",
     "status": "completed"
    },
    "tags": []
   },
   "source": [
    "##### Première mise à jour de la dimensions structure avec les données eSIGL"
   ]
  },
  {
   "cell_type": "code",
   "execution_count": 36,
   "id": "bccd5ebd-6789-41b2-9668-f975505d2e66",
   "metadata": {
    "execution": {
     "iopub.execute_input": "2025-05-11T23:23:50.240168Z",
     "iopub.status.busy": "2025-05-11T23:23:50.239259Z",
     "iopub.status.idle": "2025-05-11T23:23:50.294975Z",
     "shell.execute_reply": "2025-05-11T23:23:50.294099Z"
    },
    "papermill": {
     "duration": 1.154271,
     "end_time": "2025-05-11T23:23:50.297132",
     "exception": false,
     "start_time": "2025-05-11T23:23:49.142861",
     "status": "completed"
    },
    "tags": []
   },
   "outputs": [],
   "source": [
    "df_new_structure = update_dimension.update_dimension_table(\n",
    "    dimension_name=\"dim_structure\",\n",
    "    source_dfs=[\n",
    "        df_etat_stock[\n",
    "            [\"Code_ets\", \"Structure\", \"TYPE DE STRUCTURE\", \"id_district_esigl\"]\n",
    "        ].rename(columns={\"TYPE DE STRUCTURE\": \"type_structure\"})\n",
    "    ],\n",
    "    merge_on=[\"Code_ets\"],\n",
    "    change_columns=[\"Structure\", \"type_structure\"],\n",
    "    schema_name=schema_name,\n",
    ")"
   ]
  },
  {
   "cell_type": "code",
   "execution_count": 37,
   "id": "cfa3d52a-3dc7-406e-9481-0cb9fa0449e7",
   "metadata": {
    "execution": {
     "iopub.execute_input": "2025-05-11T23:23:50.633755Z",
     "iopub.status.busy": "2025-05-11T23:23:50.632714Z",
     "iopub.status.idle": "2025-05-11T23:23:50.637854Z",
     "shell.execute_reply": "2025-05-11T23:23:50.637054Z"
    },
    "papermill": {
     "duration": 0.162561,
     "end_time": "2025-05-11T23:23:50.639307",
     "exception": false,
     "start_time": "2025-05-11T23:23:50.476746",
     "status": "completed"
    },
    "tags": []
   },
   "outputs": [],
   "source": [
    "# Exportation des données vers la BD\n",
    "upsert_table.upsert_table(\n",
    "    df_new_structure, \"dim_structure\", schema_name, engine=db_ops.civ_engine\n",
    ")\n",
    "\n",
    "del df_new_structure"
   ]
  },
  {
   "cell_type": "markdown",
   "id": "61072ee4-6260-4b08-87c5-31133342a342",
   "metadata": {
    "papermill": {
     "duration": 4.094837,
     "end_time": "2025-05-11T23:23:57.763182",
     "exception": false,
     "start_time": "2025-05-11T23:23:53.668345",
     "status": "completed"
    },
    "tags": []
   },
   "source": [
    "##### Seconde mise à jour avec la liste des sites attendus"
   ]
  },
  {
   "cell_type": "code",
   "execution_count": 38,
   "id": "f967b281-4be5-4ded-9c43-ceca82e249e8",
   "metadata": {
    "execution": {
     "iopub.execute_input": "2025-05-11T23:23:58.146143Z",
     "iopub.status.busy": "2025-05-11T23:23:58.145644Z",
     "iopub.status.idle": "2025-05-11T23:23:58.187274Z",
     "shell.execute_reply": "2025-05-11T23:23:58.186226Z"
    },
    "papermill": {
     "duration": 0.233666,
     "end_time": "2025-05-11T23:23:58.189061",
     "exception": false,
     "start_time": "2025-05-11T23:23:57.955395",
     "status": "completed"
    },
    "scrolled": true,
    "tags": []
   },
   "outputs": [],
   "source": [
    "df_site_attendu[\"District_standard\"] = df_site_attendu[\"District\"].apply(\n",
    "    lambda x: excel_file_handler.standardize_text(x)\n",
    ")\n",
    "\n",
    "df_district_db = db_ops.get_data_from_database(\"dim_district\")\n",
    "df_structure_db = db_ops.get_data_from_database(\"dim_structure\")\n",
    "df_structure_db[\"Code_ets\"] = df_structure_db[\"Code_ets\"].astype(\"Int64\")\n",
    "\n",
    "df_district_db[\"District\"] = df_district_db[\"District\"].apply(\n",
    "    lambda x: excel_file_handler.standardize_text(x)\n",
    ")\n",
    "\n",
    "df_site_attendu = df_site_attendu.merge(\n",
    "    df_district_db,\n",
    "    left_on=\"District_standard\",\n",
    "    right_on=\"District\",\n",
    "    suffixes=(\"\", \"_existing\"),\n",
    ")\n",
    "\n",
    "df_new_structure = (\n",
    "    df_site_attendu[[\"Code\", \"Site\", \"id_district_esigl\"]]\n",
    "    .drop_duplicates()\n",
    "    .rename(columns={\"Code\": \"Code_ets\", \"Site\": \"Structure\"})\n",
    ")\n",
    "\n",
    "df_new_structure = df_new_structure.loc[\n",
    "    ~df_new_structure[\"Code_ets\"].isin(df_structure_db[\"Code_ets\"])\n",
    "]\n",
    "\n",
    "df_new_structure = df_new_structure.merge(df_district_db, on=\"id_district_esigl\")\n",
    "df_new_structure[\"type_structure\"] = np.nan\n",
    "\n",
    "df_new_structure = df_new_structure[df_structure_db.columns.to_list()]"
   ]
  },
  {
   "cell_type": "code",
   "execution_count": 39,
   "id": "6b3f18c9-749f-4dc7-9fe2-ae8f0341b594",
   "metadata": {
    "execution": {
     "iopub.execute_input": "2025-05-11T23:23:58.553059Z",
     "iopub.status.busy": "2025-05-11T23:23:58.552664Z",
     "iopub.status.idle": "2025-05-11T23:23:58.557674Z",
     "shell.execute_reply": "2025-05-11T23:23:58.556731Z"
    },
    "papermill": {
     "duration": 0.187054,
     "end_time": "2025-05-11T23:23:58.559231",
     "exception": false,
     "start_time": "2025-05-11T23:23:58.372177",
     "status": "completed"
    },
    "tags": []
   },
   "outputs": [],
   "source": [
    "# Exportation des données vers la BD\n",
    "upsert_table.upsert_table(\n",
    "    df_new_structure, \"dim_structure\", schema_name, engine=db_ops.civ_engine\n",
    ")\n",
    "\n",
    "del df_new_structure"
   ]
  },
  {
   "cell_type": "code",
   "execution_count": 40,
   "id": "e6b86dbb-835d-4a36-aa28-63b38f4e0c16",
   "metadata": {
    "execution": {
     "iopub.execute_input": "2025-05-11T23:23:58.914268Z",
     "iopub.status.busy": "2025-05-11T23:23:58.913296Z",
     "iopub.status.idle": "2025-05-11T23:23:58.930967Z",
     "shell.execute_reply": "2025-05-11T23:23:58.930028Z"
    },
    "papermill": {
     "duration": 0.195734,
     "end_time": "2025-05-11T23:23:58.932978",
     "exception": false,
     "start_time": "2025-05-11T23:23:58.737244",
     "status": "completed"
    },
    "tags": []
   },
   "outputs": [],
   "source": [
    "df_structure_db = db_ops.get_data_from_database(\"dim_structure\")"
   ]
  },
  {
   "cell_type": "markdown",
   "id": "ea9761e2-e315-4773-80c9-baea93deba18",
   "metadata": {
    "papermill": {
     "duration": 0.218977,
     "end_time": "2025-05-11T23:24:14.554023",
     "exception": false,
     "start_time": "2025-05-11T23:24:14.335046",
     "status": "completed"
    },
    "tags": []
   },
   "source": [
    "#### `Dimensions programme`"
   ]
  },
  {
   "cell_type": "code",
   "execution_count": 41,
   "id": "3515186e-bfed-4550-95a1-3b26695d2781",
   "metadata": {
    "execution": {
     "iopub.execute_input": "2025-05-11T23:24:14.973629Z",
     "iopub.status.busy": "2025-05-11T23:24:14.972861Z",
     "iopub.status.idle": "2025-05-11T23:24:15.041548Z",
     "shell.execute_reply": "2025-05-11T23:24:15.040404Z"
    },
    "papermill": {
     "duration": 0.274324,
     "end_time": "2025-05-11T23:24:15.043065",
     "exception": false,
     "start_time": "2025-05-11T23:24:14.768741",
     "status": "completed"
    },
    "tags": []
   },
   "outputs": [
    {
     "data": {
      "text/html": [
       "<div>\n",
       "<style scoped>\n",
       "    .dataframe tbody tr th:only-of-type {\n",
       "        vertical-align: middle;\n",
       "    }\n",
       "\n",
       "    .dataframe tbody tr th {\n",
       "        vertical-align: top;\n",
       "    }\n",
       "\n",
       "    .dataframe thead th {\n",
       "        text-align: right;\n",
       "    }\n",
       "</style>\n",
       "<table border=\"1\" class=\"dataframe\">\n",
       "  <thead>\n",
       "    <tr style=\"text-align: right;\">\n",
       "      <th></th>\n",
       "      <th>Programme</th>\n",
       "      <th>programme_order</th>\n",
       "    </tr>\n",
       "  </thead>\n",
       "  <tbody>\n",
       "    <tr>\n",
       "      <th>0</th>\n",
       "      <td>PNLS</td>\n",
       "      <td>1</td>\n",
       "    </tr>\n",
       "    <tr>\n",
       "      <th>1</th>\n",
       "      <td>PNLP</td>\n",
       "      <td>2</td>\n",
       "    </tr>\n",
       "    <tr>\n",
       "      <th>2</th>\n",
       "      <td>PNSME</td>\n",
       "      <td>3</td>\n",
       "    </tr>\n",
       "    <tr>\n",
       "      <th>3</th>\n",
       "      <td>PNN</td>\n",
       "      <td>4</td>\n",
       "    </tr>\n",
       "    <tr>\n",
       "      <th>4</th>\n",
       "      <td>PNLT</td>\n",
       "      <td>5</td>\n",
       "    </tr>\n",
       "    <tr>\n",
       "      <th>5</th>\n",
       "      <td>TOUS</td>\n",
       "      <td>6</td>\n",
       "    </tr>\n",
       "  </tbody>\n",
       "</table>\n",
       "</div>"
      ],
      "text/plain": [
       "  Programme  programme_order\n",
       "0      PNLS                1\n",
       "1      PNLP                2\n",
       "2     PNSME                3\n",
       "3       PNN                4\n",
       "4      PNLT                5\n",
       "5      TOUS                6"
      ]
     },
     "execution_count": 41,
     "metadata": {},
     "output_type": "execute_result"
    }
   ],
   "source": [
    "prog_extract_stock = set(df_etat_stock.programme_abrv.unique()).union([\"TOUS\"])\n",
    "\n",
    "df_programme = (\n",
    "    pd.DataFrame({\"Programme\": list(prog_extract_stock)})\n",
    "    .sort_values(by=\"Programme\")\n",
    "    .reset_index()\n",
    "    .drop(columns=\"index\")\n",
    ")\n",
    "df_programme.dropna(inplace=True)\n",
    "\n",
    "del prog_extract_stock\n",
    "\n",
    "# Pour l'instant ce n'est que les produits des 5 programmes de santé qui sont gérés\n",
    "programme_order = {\"PNLS\": 1, \"PNLP\": 2, \"PNSME\": 3, \"PNN\": 4, \"PNLT\": 5, \"TOUS\": 6}\n",
    "df_programme[\"programme_order\"] = df_programme[\"Programme\"].map(programme_order)\n",
    "df_programme.sort_values(\"programme_order\", inplace=True)\n",
    "del programme_order\n",
    "\n",
    "df_programme = db_ops.get_full_table(\n",
    "    df_programme,\n",
    "    \"dim_programme\",\n",
    ")\n",
    "\n",
    "df_programme"
   ]
  },
  {
   "cell_type": "markdown",
   "id": "2f6ef55d-4979-476b-ad26-1cffe45efcc2",
   "metadata": {
    "papermill": {
     "duration": 0.168401,
     "end_time": "2025-05-11T23:24:15.378575",
     "exception": false,
     "start_time": "2025-05-11T23:24:15.210174",
     "status": "completed"
    },
    "tags": []
   },
   "source": [
    "#### `Dimension sous_programme`"
   ]
  },
  {
   "cell_type": "code",
   "execution_count": 42,
   "id": "0b5fafe6-7feb-4eb3-b711-8c477aa47463",
   "metadata": {
    "execution": {
     "iopub.execute_input": "2025-05-11T23:24:18.684220Z",
     "iopub.status.busy": "2025-05-11T23:24:18.683733Z",
     "iopub.status.idle": "2025-05-11T23:24:18.701880Z",
     "shell.execute_reply": "2025-05-11T23:24:18.700724Z"
    },
    "papermill": {
     "duration": 3.160349,
     "end_time": "2025-05-11T23:24:18.703879",
     "exception": false,
     "start_time": "2025-05-11T23:24:15.543530",
     "status": "completed"
    },
    "tags": []
   },
   "outputs": [],
   "source": [
    "df_sous_prog_db = db_ops.get_data_from_database(\n",
    "    \"dim_sous_programme\",\n",
    ")\n",
    "\n",
    "df_sous_prog_db = df_sous_prog_db[[\"Programme\", \"Sous_programme\"]].rename(\n",
    "    columns={\"Programme\": \"programme_abrv\", \"Sous_programme\": \"sous_programme\"}\n",
    ")"
   ]
  },
  {
   "cell_type": "code",
   "execution_count": 43,
   "id": "5f7f1af7-6870-4fa0-a2b8-83f7fde2056b",
   "metadata": {
    "execution": {
     "iopub.execute_input": "2025-05-11T23:24:19.038844Z",
     "iopub.status.busy": "2025-05-11T23:24:19.037622Z",
     "iopub.status.idle": "2025-05-11T23:24:19.068597Z",
     "shell.execute_reply": "2025-05-11T23:24:19.067603Z"
    },
    "papermill": {
     "duration": 0.204249,
     "end_time": "2025-05-11T23:24:19.070749",
     "exception": false,
     "start_time": "2025-05-11T23:24:18.866500",
     "status": "completed"
    },
    "tags": []
   },
   "outputs": [],
   "source": [
    "df_sous_prog = pd.concat(\n",
    "    [\n",
    "        df_etat_stock[[\"programme_abrv\", \"sous_programme\"]].drop_duplicates(),\n",
    "        df_sous_prog_db,\n",
    "    ],\n",
    "    ignore_index=True,\n",
    ").drop_duplicates()\n",
    "\n",
    "df_sous_prog = (\n",
    "    df_sous_prog.sort_values([\"programme_abrv\", \"sous_programme\"])\n",
    "    .reset_index()\n",
    "    .drop(columns=\"index\")\n",
    ")\n",
    "\n",
    "# df_sous_prog['Code_sous_prog'] =\n",
    "df_sous_prog[\"Occurence\"] = df_sous_prog.groupby(\"programme_abrv\").cumcount() + 1\n",
    "df_sous_prog[\"Code_sous_prog\"] = (\n",
    "    df_sous_prog[\"programme_abrv\"] + \"-\" + df_sous_prog[\"Occurence\"].astype(str)\n",
    ")\n",
    "\n",
    "df_sous_prog = df_sous_prog[\n",
    "    [\"Code_sous_prog\", \"sous_programme\", \"programme_abrv\"]\n",
    "].rename(columns={\"sous_programme\": \"Sous_programme\", \"programme_abrv\": \"Programme\"})\n",
    "df_sous_prog = df_sous_prog.map(\n",
    "    lambda x: x.lstrip().rstrip() if isinstance(x, str) else x\n",
    ")\n",
    "\n",
    "del df_sous_prog_db"
   ]
  },
  {
   "cell_type": "code",
   "execution_count": 44,
   "id": "284a53b0-ff93-4d24-9523-2dbb115ad53d",
   "metadata": {
    "execution": {
     "iopub.execute_input": "2025-05-11T23:24:19.433143Z",
     "iopub.status.busy": "2025-05-11T23:24:19.432802Z",
     "iopub.status.idle": "2025-05-11T23:24:19.476109Z",
     "shell.execute_reply": "2025-05-11T23:24:19.474968Z"
    },
    "papermill": {
     "duration": 0.219362,
     "end_time": "2025-05-11T23:24:19.478128",
     "exception": false,
     "start_time": "2025-05-11T23:24:19.258766",
     "status": "completed"
    },
    "tags": []
   },
   "outputs": [
    {
     "data": {
      "text/html": [
       "<div>\n",
       "<style scoped>\n",
       "    .dataframe tbody tr th:only-of-type {\n",
       "        vertical-align: middle;\n",
       "    }\n",
       "\n",
       "    .dataframe tbody tr th {\n",
       "        vertical-align: top;\n",
       "    }\n",
       "\n",
       "    .dataframe thead th {\n",
       "        text-align: right;\n",
       "    }\n",
       "</style>\n",
       "<table border=\"1\" class=\"dataframe\">\n",
       "  <thead>\n",
       "    <tr style=\"text-align: right;\">\n",
       "      <th></th>\n",
       "      <th>Code_sous_prog</th>\n",
       "      <th>Sous_programme</th>\n",
       "      <th>Programme</th>\n",
       "    </tr>\n",
       "  </thead>\n",
       "  <tbody>\n",
       "    <tr>\n",
       "      <th>0</th>\n",
       "      <td>PNLP-1</td>\n",
       "      <td>PNLP-MEDICAMENTS ET INTRANTS</td>\n",
       "      <td>PNLP</td>\n",
       "    </tr>\n",
       "    <tr>\n",
       "      <th>1</th>\n",
       "      <td>PNLS-1</td>\n",
       "      <td>PNLS-ANTIRETROVIRAUX ET IO</td>\n",
       "      <td>PNLS</td>\n",
       "    </tr>\n",
       "  </tbody>\n",
       "</table>\n",
       "</div>"
      ],
      "text/plain": [
       "  Code_sous_prog                Sous_programme Programme\n",
       "0         PNLP-1  PNLP-MEDICAMENTS ET INTRANTS      PNLP\n",
       "1         PNLS-1    PNLS-ANTIRETROVIRAUX ET IO      PNLS"
      ]
     },
     "execution_count": 44,
     "metadata": {},
     "output_type": "execute_result"
    }
   ],
   "source": [
    "df_sous_prog = db_ops.get_full_table(df_sous_prog, \"dim_sous_programme\", )\n",
    "\n",
    "df_sous_prog.head(2)"
   ]
  },
  {
   "cell_type": "markdown",
   "id": "2efd93f2-d482-45ca-abfa-c4f3addf66b2",
   "metadata": {
    "papermill": {
     "duration": 0.169812,
     "end_time": "2025-05-11T23:24:19.830630",
     "exception": false,
     "start_time": "2025-05-11T23:24:19.660818",
     "status": "completed"
    },
    "tags": []
   },
   "source": [
    "#### `Dimension produit`"
   ]
  },
  {
   "cell_type": "code",
   "execution_count": 45,
   "id": "9e5ca46e-6b23-4177-858f-99059be75029",
   "metadata": {
    "execution": {
     "iopub.execute_input": "2025-05-11T23:24:28.229604Z",
     "iopub.status.busy": "2025-05-11T23:24:28.228604Z",
     "iopub.status.idle": "2025-05-11T23:24:28.278278Z",
     "shell.execute_reply": "2025-05-11T23:24:28.277313Z"
    },
    "papermill": {
     "duration": 2.974813,
     "end_time": "2025-05-11T23:24:28.280304",
     "exception": false,
     "start_time": "2025-05-11T23:24:25.305491",
     "status": "completed"
    },
    "tags": []
   },
   "outputs": [],
   "source": [
    "df_new_product = (\n",
    "    df_etat_stock[\n",
    "        [\n",
    "            \"Code_produit\",\n",
    "            \"sous_programme\",\n",
    "            \"produit_designation\",\n",
    "            \"unit_rapportage\",\n",
    "            \"cat_du_produit\",\n",
    "            \"cat_produit\",\n",
    "        ]\n",
    "    ]\n",
    "    .drop_duplicates()\n",
    "    .rename(columns={\"sous_programme\": \"Sous_programme\"})\n",
    ")\n",
    "\n",
    "df_new_product = df_new_product.map(\n",
    "    lambda x: x.lstrip().rstrip() if isinstance(x, str) else x\n",
    ")\n",
    "\n",
    "df_new_product = (\n",
    "    df_new_product.merge(df_sous_prog, how=\"left\", on=\"Sous_programme\")\n",
    "    .drop(columns=[\"Sous_programme\", \"Programme\"])\n",
    "    .rename(\n",
    "        columns={\n",
    "            \"cat_du_produit\": \"Categorie_du_produit\",\n",
    "            \"cat_produit\": \"Categorie_produit\",\n",
    "        }\n",
    "    )\n",
    "    .rename(columns=lambda x: x.capitalize())\n",
    "    .sort_values(\"Code_produit\")\n",
    "    .reset_index(drop=True)\n",
    ")"
   ]
  },
  {
   "cell_type": "code",
   "execution_count": 46,
   "id": "d07b517c-c425-4f8c-aba8-576119c4eea1",
   "metadata": {
    "execution": {
     "iopub.execute_input": "2025-05-11T23:24:28.609761Z",
     "iopub.status.busy": "2025-05-11T23:24:28.608978Z",
     "iopub.status.idle": "2025-05-11T23:24:28.678669Z",
     "shell.execute_reply": "2025-05-11T23:24:28.677630Z"
    },
    "papermill": {
     "duration": 0.233358,
     "end_time": "2025-05-11T23:24:28.680171",
     "exception": false,
     "start_time": "2025-05-11T23:24:28.446813",
     "status": "completed"
    },
    "tags": []
   },
   "outputs": [
    {
     "data": {
      "text/html": [
       "<div>\n",
       "<style scoped>\n",
       "    .dataframe tbody tr th:only-of-type {\n",
       "        vertical-align: middle;\n",
       "    }\n",
       "\n",
       "    .dataframe tbody tr th {\n",
       "        vertical-align: top;\n",
       "    }\n",
       "\n",
       "    .dataframe thead th {\n",
       "        text-align: right;\n",
       "    }\n",
       "</style>\n",
       "<table border=\"1\" class=\"dataframe\">\n",
       "  <thead>\n",
       "    <tr style=\"text-align: right;\">\n",
       "      <th></th>\n",
       "      <th>id_produit_pk</th>\n",
       "      <th>Code_produit</th>\n",
       "      <th>Produit_designation</th>\n",
       "      <th>Unit_rapportage</th>\n",
       "      <th>Categorie_produit</th>\n",
       "      <th>Categorie_du_produit</th>\n",
       "      <th>Code_sous_prog</th>\n",
       "    </tr>\n",
       "  </thead>\n",
       "  <tbody>\n",
       "    <tr>\n",
       "      <th>1667</th>\n",
       "      <td>5314.0</td>\n",
       "      <td>4030616</td>\n",
       "      <td>TEST DE DIAGNOSTIC RAPIDE DU PALUDISME KIT/10 ...</td>\n",
       "      <td>KIT</td>\n",
       "      <td>Produit traceur</td>\n",
       "      <td>CONSOMMABLES</td>\n",
       "      <td>PNLP-1</td>\n",
       "    </tr>\n",
       "    <tr>\n",
       "      <th>1668</th>\n",
       "      <td>5315.0</td>\n",
       "      <td>4030616</td>\n",
       "      <td>TEST DE DIAGNOSTIC RAPIDE DU PALUDISME KIT/10 ...</td>\n",
       "      <td>TEST</td>\n",
       "      <td>Produit traceur</td>\n",
       "      <td>CONSOMMABLES</td>\n",
       "      <td>PNLP-1</td>\n",
       "    </tr>\n",
       "  </tbody>\n",
       "</table>\n",
       "</div>"
      ],
      "text/plain": [
       "      id_produit_pk Code_produit  \\\n",
       "1667         5314.0      4030616   \n",
       "1668         5315.0      4030616   \n",
       "\n",
       "                                    Produit_designation Unit_rapportage  \\\n",
       "1667  TEST DE DIAGNOSTIC RAPIDE DU PALUDISME KIT/10 ...             KIT   \n",
       "1668  TEST DE DIAGNOSTIC RAPIDE DU PALUDISME KIT/10 ...            TEST   \n",
       "\n",
       "     Categorie_produit Categorie_du_produit Code_sous_prog  \n",
       "1667   Produit traceur         CONSOMMABLES         PNLP-1  \n",
       "1668   Produit traceur         CONSOMMABLES         PNLP-1  "
      ]
     },
     "execution_count": 46,
     "metadata": {},
     "output_type": "execute_result"
    }
   ],
   "source": [
    "df_new_product[\"Code_produit\"] = df_new_product[\"Code_produit\"].astype(str)\n",
    "\n",
    "df_product_db = db_ops.get_data_from_database(\"dim_produit\")\n",
    "\n",
    "df_new_product = df_new_product.merge(\n",
    "    df_product_db,\n",
    "    on=[\"Code_produit\", \"Code_sous_prog\"],\n",
    "    how=\"left\",\n",
    "    suffixes=(\"_new\", \"_past\"),\n",
    ")\n",
    "condition = \"\"\n",
    "for col in [\n",
    "    col.replace(\"_past\", \"\") for col in df_new_product.columns if \"_past\" in col\n",
    "]:\n",
    "    condition += f\"(df_new_product.{col}_new != df_new_product.{col}_past) | \"\n",
    "\n",
    "condition = condition.rstrip(\"| \")\n",
    "\n",
    "df_new_product = df_new_product.loc[eval(condition)]\n",
    "\n",
    "if not df_new_product.empty:\n",
    "    df_new_product = df_new_product.drop_duplicates(\n",
    "        subset=[\n",
    "            \"Code_produit\",\n",
    "            \"Unit_rapportage_new\",\n",
    "            \"Categorie_du_produit_new\",\n",
    "            \"Categorie_produit_new\",\n",
    "            \"Code_sous_prog\",\n",
    "            \"id_produit_pk\",\n",
    "        ],\n",
    "        keep=\"last\",\n",
    "    )\n",
    "\n",
    "    max_val = df_product_db[\"id_produit_pk\"].max() + 1\n",
    "    missing = df_new_product[\"id_produit_pk\"].isna()\n",
    "    df_new_product.loc[missing, \"id_produit_pk\"] = range(\n",
    "        max_val, max_val + missing.sum()\n",
    "    )\n",
    "\n",
    "    df_new_product.columns = df_new_product.columns.str.replace(\"_new\", \"\")\n",
    "\n",
    "df_new_product = df_new_product[df_product_db.columns.to_list()]\n",
    "\n",
    "df_new_product.head(2)"
   ]
  },
  {
   "cell_type": "code",
   "execution_count": 47,
   "id": "e8c4981e-171f-4dd1-852a-93b13fa66826",
   "metadata": {
    "execution": {
     "iopub.execute_input": "2025-05-11T23:24:29.121251Z",
     "iopub.status.busy": "2025-05-11T23:24:29.120805Z",
     "iopub.status.idle": "2025-05-11T23:24:29.446431Z",
     "shell.execute_reply": "2025-05-11T23:24:29.445393Z"
    },
    "papermill": {
     "duration": 0.52845,
     "end_time": "2025-05-11T23:24:29.448609",
     "exception": false,
     "start_time": "2025-05-11T23:24:28.920159",
     "status": "completed"
    },
    "tags": []
   },
   "outputs": [],
   "source": [
    "upsert_table.upsert_table(\n",
    "    df_new_product, \"dim_produit\", schema_name, engine=db_ops.civ_engine\n",
    ")\n",
    "\n",
    "del df_new_product"
   ]
  },
  {
   "cell_type": "markdown",
   "id": "23e3d4ba-362c-450f-aca9-2c2b01d8de5a",
   "metadata": {
    "papermill": {
     "duration": 7.63391,
     "end_time": "2025-05-11T23:24:37.241940",
     "exception": false,
     "start_time": "2025-05-11T23:24:29.608030",
     "status": "completed"
    },
    "tags": []
   },
   "source": [
    "### Table de faits `Complétude` et `Promptitude`"
   ]
  },
  {
   "cell_type": "code",
   "execution_count": 48,
   "id": "ab3a2c62-c9eb-4153-a635-3975b036d43f",
   "metadata": {
    "execution": {
     "iopub.execute_input": "2025-05-11T23:24:37.665667Z",
     "iopub.status.busy": "2025-05-11T23:24:37.664844Z",
     "iopub.status.idle": "2025-05-11T23:24:37.680446Z",
     "shell.execute_reply": "2025-05-11T23:24:37.679411Z"
    },
    "papermill": {
     "duration": 0.232524,
     "end_time": "2025-05-11T23:24:37.682032",
     "exception": false,
     "start_time": "2025-05-11T23:24:37.449508",
     "status": "completed"
    },
    "tags": []
   },
   "outputs": [],
   "source": [
    "df_region = db_ops.get_data_from_database(\"dim_region\")"
   ]
  },
  {
   "cell_type": "markdown",
   "id": "391eeb6b-ce3e-48f7-b475-d3524fa6f096",
   "metadata": {
    "papermill": {
     "duration": 0.175311,
     "end_time": "2025-05-11T23:24:38.044965",
     "exception": false,
     "start_time": "2025-05-11T23:24:37.869654",
     "status": "completed"
    },
    "tags": []
   },
   "source": [
    "#### `df_comp_promp_ets`"
   ]
  },
  {
   "cell_type": "code",
   "execution_count": 49,
   "id": "8a8099e0-32c8-4cca-b3ef-a971923ca151",
   "metadata": {
    "execution": {
     "iopub.execute_input": "2025-05-11T23:24:39.860919Z",
     "iopub.status.busy": "2025-05-11T23:24:39.860036Z",
     "iopub.status.idle": "2025-05-11T23:24:40.040362Z",
     "shell.execute_reply": "2025-05-11T23:24:40.039557Z"
    },
    "papermill": {
     "duration": 1.822169,
     "end_time": "2025-05-11T23:24:40.042049",
     "exception": false,
     "start_time": "2025-05-11T23:24:38.219880",
     "status": "completed"
    },
    "tags": []
   },
   "outputs": [],
   "source": [
    "db_ops.civ_cursor.execute(\n",
    "    f\"\"\"\n",
    "DELETE FROM {schema_name}.comp_promp_par_ets\n",
    "WHERE date_report = '{pd.to_datetime(date_report, format=\"%d-%m-%Y\").strftime('%Y-%m-%d')}'\n",
    "\"\"\"\n",
    ")\n",
    "\n",
    "db_ops.conn.commit()\n",
    "\n",
    "df_comp_promp_ets.drop(columns=[\"Site\", \"Region\"]).rename(\n",
    "    columns={\"Code\": \"Code_ets\"}\n",
    ").to_sql(\n",
    "    \"comp_promp_par_ets\",\n",
    "    con=db_ops.civ_engine,\n",
    "    schema=schema_name,\n",
    "    index=False,\n",
    "    if_exists=\"append\",\n",
    ")\n",
    "\n",
    "db_ops.civ_engine.dispose()"
   ]
  },
  {
   "cell_type": "markdown",
   "id": "0cc8e529-c108-4eba-9778-4e2c11dd446a",
   "metadata": {
    "papermill": {
     "duration": 6.088123,
     "end_time": "2025-05-11T23:24:49.050368",
     "exception": false,
     "start_time": "2025-05-11T23:24:42.962245",
     "status": "completed"
    },
    "tags": []
   },
   "source": [
    "#### `df_comp_promp_region`"
   ]
  },
  {
   "cell_type": "code",
   "execution_count": 50,
   "id": "d711cfcd-67c7-4551-84f3-04dc9a19c29a",
   "metadata": {
    "execution": {
     "iopub.execute_input": "2025-05-11T23:24:49.451716Z",
     "iopub.status.busy": "2025-05-11T23:24:49.450467Z",
     "iopub.status.idle": "2025-05-11T23:24:49.569823Z",
     "shell.execute_reply": "2025-05-11T23:24:49.568757Z"
    },
    "papermill": {
     "duration": 0.318827,
     "end_time": "2025-05-11T23:24:49.571564",
     "exception": false,
     "start_time": "2025-05-11T23:24:49.252737",
     "status": "completed"
    },
    "tags": []
   },
   "outputs": [],
   "source": [
    "db_ops.civ_cursor.execute(\n",
    "    f\"\"\"\n",
    "DELETE FROM {schema_name}.comp_promp_attendu_region\n",
    "WHERE date_report = '{pd.to_datetime(date_report, format=\"%d-%m-%Y\").strftime('%Y-%m-%d')}'\n",
    "\"\"\"\n",
    ")\n",
    "\n",
    "db_ops.conn.commit()\n",
    "\n",
    "\n",
    "df_comp_promp_region = df_comp_promp_region.map(\n",
    "    lambda x: x.lstrip().rstrip() if isinstance(x, str) else x\n",
    ")\n",
    "\n",
    "df_comp_promp_region.merge(\n",
    "    df_region[[\"Code_region\", \"Region\"]], on=\"Region\", how=\"left\"\n",
    ").drop(columns=\"Region\").rename(columns=lambda x: x.replace(\"région\", \"region\")).to_sql(\n",
    "    \"comp_promp_attendu_region\",\n",
    "    con=db_ops.civ_engine,\n",
    "    schema=schema_name,\n",
    "    index=False,\n",
    "    if_exists=\"append\",\n",
    ")\n",
    "\n",
    "db_ops.civ_engine.dispose()"
   ]
  },
  {
   "cell_type": "markdown",
   "id": "db082c68-955b-4c86-a66e-ffccf85f95a6",
   "metadata": {
    "papermill": {
     "duration": 0.936936,
     "end_time": "2025-05-11T23:24:50.713929",
     "exception": false,
     "start_time": "2025-05-11T23:24:49.776993",
     "status": "completed"
    },
    "tags": []
   },
   "source": [
    "### Table de faits Etat de stocks"
   ]
  },
  {
   "cell_type": "markdown",
   "id": "18bba6b2-cd30-4191-8484-a0f2a8c1e59c",
   "metadata": {
    "papermill": {
     "duration": 0.833898,
     "end_time": "2025-05-11T23:24:51.717900",
     "exception": false,
     "start_time": "2025-05-11T23:24:50.884002",
     "status": "completed"
    },
    "tags": []
   },
   "source": [
    "#### `recap_stock_by_region`"
   ]
  },
  {
   "cell_type": "code",
   "execution_count": 51,
   "id": "fa81c0f9-57e6-4e81-a372-5f0d3b7f5260",
   "metadata": {
    "execution": {
     "iopub.execute_input": "2025-05-11T23:24:55.335104Z",
     "iopub.status.busy": "2025-05-11T23:24:55.333992Z",
     "iopub.status.idle": "2025-05-11T23:24:55.413466Z",
     "shell.execute_reply": "2025-05-11T23:24:55.412533Z"
    },
    "papermill": {
     "duration": 1.03378,
     "end_time": "2025-05-11T23:24:55.415519",
     "exception": false,
     "start_time": "2025-05-11T23:24:54.381739",
     "status": "completed"
    },
    "tags": []
   },
   "outputs": [],
   "source": [
    "db_ops.civ_cursor.execute(\n",
    "    f\"\"\"\n",
    "DELETE FROM {schema_name}.recap_stock_by_region\n",
    "WHERE date_report = '{pd.to_datetime(date_report, format=\"%d-%m-%Y\").strftime('%Y-%m-%d')}'\n",
    "\"\"\"\n",
    ")\n",
    "\n",
    "db_ops.conn.commit()\n",
    "\n",
    "df_sheet_two.merge(df_region[[\"Code_region\", \"Region\"]]).drop(columns=\"Region\").to_sql(\n",
    "    \"recap_stock_by_region\",\n",
    "    con=db_ops.civ_engine,\n",
    "    schema=schema_name,\n",
    "    index=False,\n",
    "    if_exists=\"append\",\n",
    ")\n",
    "\n",
    "db_ops.civ_engine.dispose()"
   ]
  },
  {
   "cell_type": "code",
   "execution_count": 52,
   "id": "b77eff35-914c-4055-8e07-8ba5e6ca617d",
   "metadata": {
    "execution": {
     "iopub.execute_input": "2025-05-11T23:24:57.703555Z",
     "iopub.status.busy": "2025-05-11T23:24:57.702321Z",
     "iopub.status.idle": "2025-05-11T23:24:57.778655Z",
     "shell.execute_reply": "2025-05-11T23:24:57.777743Z"
    },
    "papermill": {
     "duration": 1.179041,
     "end_time": "2025-05-11T23:24:57.780548",
     "exception": false,
     "start_time": "2025-05-11T23:24:56.601507",
     "status": "completed"
    },
    "tags": []
   },
   "outputs": [
    {
     "data": {
      "text/html": [
       "<div>\n",
       "<style scoped>\n",
       "    .dataframe tbody tr th:only-of-type {\n",
       "        vertical-align: middle;\n",
       "    }\n",
       "\n",
       "    .dataframe tbody tr th {\n",
       "        vertical-align: top;\n",
       "    }\n",
       "\n",
       "    .dataframe thead th {\n",
       "        text-align: right;\n",
       "    }\n",
       "</style>\n",
       "<table border=\"1\" class=\"dataframe\">\n",
       "  <thead>\n",
       "    <tr style=\"text-align: right;\">\n",
       "      <th></th>\n",
       "      <th>id_produit_pk</th>\n",
       "      <th>Code_produit</th>\n",
       "      <th>Produit_designation</th>\n",
       "      <th>Unit_rapportage</th>\n",
       "      <th>Categorie_produit</th>\n",
       "      <th>Categorie_du_produit</th>\n",
       "      <th>Code_sous_prog</th>\n",
       "      <th>Programme</th>\n",
       "    </tr>\n",
       "  </thead>\n",
       "  <tbody>\n",
       "    <tr>\n",
       "      <th>0</th>\n",
       "      <td>1</td>\n",
       "      <td>3010049</td>\n",
       "      <td>PARACETAMOL 100 mg comp. BTE/100 BOITE  -</td>\n",
       "      <td>COMPRIME</td>\n",
       "      <td>Produit non traceur</td>\n",
       "      <td>PRODUITS PNLP</td>\n",
       "      <td>PNLP-1</td>\n",
       "      <td>PNLP</td>\n",
       "    </tr>\n",
       "    <tr>\n",
       "      <th>1</th>\n",
       "      <td>2</td>\n",
       "      <td>3010062</td>\n",
       "      <td>PARACETAMOL 250 mg comp BTE/100 BOITE  -</td>\n",
       "      <td>COMPRIME</td>\n",
       "      <td>Produit non traceur</td>\n",
       "      <td>PRODUITS PNLP</td>\n",
       "      <td>PNLP-1</td>\n",
       "      <td>PNLP</td>\n",
       "    </tr>\n",
       "  </tbody>\n",
       "</table>\n",
       "</div>"
      ],
      "text/plain": [
       "   id_produit_pk Code_produit                        Produit_designation  \\\n",
       "0              1      3010049  PARACETAMOL 100 mg comp. BTE/100 BOITE  -   \n",
       "1              2      3010062   PARACETAMOL 250 mg comp BTE/100 BOITE  -   \n",
       "\n",
       "  Unit_rapportage    Categorie_produit Categorie_du_produit Code_sous_prog  \\\n",
       "0        COMPRIME  Produit non traceur        PRODUITS PNLP         PNLP-1   \n",
       "1        COMPRIME  Produit non traceur        PRODUITS PNLP         PNLP-1   \n",
       "\n",
       "  Programme  \n",
       "0      PNLP  \n",
       "1      PNLP  "
      ]
     },
     "execution_count": 52,
     "metadata": {},
     "output_type": "execute_result"
    }
   ],
   "source": [
    "# Get full data product\n",
    "full_product = db_ops.get_data_from_database(\n",
    "    \"dim_produit\",\n",
    ")\n",
    "full_product[\"Programme\"] = full_product[\"Code_sous_prog\"].apply(\n",
    "    lambda x: x.split(\"-\")[0]\n",
    ")\n",
    "full_product[\"Code_produit\"] = full_product[\"Code_produit\"].astype(str)\n",
    "full_product.head(2)"
   ]
  },
  {
   "cell_type": "markdown",
   "id": "ab9da0fa-8bb3-4749-9c30-c0bc7c7242e8",
   "metadata": {
    "papermill": {
     "duration": 0.173172,
     "end_time": "2025-05-11T23:24:58.131926",
     "exception": false,
     "start_time": "2025-05-11T23:24:57.958754",
     "status": "completed"
    },
    "tags": []
   },
   "source": [
    "#### `recap_stock_prog_region`"
   ]
  },
  {
   "cell_type": "code",
   "execution_count": 53,
   "id": "f08cba7a-9094-4920-9ca3-a2de2e9c0c95",
   "metadata": {
    "execution": {
     "iopub.execute_input": "2025-05-11T23:24:58.597618Z",
     "iopub.status.busy": "2025-05-11T23:24:58.596677Z",
     "iopub.status.idle": "2025-05-11T23:24:58.680070Z",
     "shell.execute_reply": "2025-05-11T23:24:58.679379Z"
    },
    "papermill": {
     "duration": 0.248044,
     "end_time": "2025-05-11T23:24:58.681805",
     "exception": false,
     "start_time": "2025-05-11T23:24:58.433761",
     "status": "completed"
    },
    "tags": []
   },
   "outputs": [],
   "source": [
    "db_ops.civ_cursor.execute(\n",
    "    f\"\"\"\n",
    "DELETE FROM {schema_name}.recap_stock_prog_region\n",
    "WHERE date_report = '{pd.to_datetime(date_report, format=\"%d-%m-%Y\").strftime('%Y-%m-%d')}'\n",
    "\"\"\"\n",
    ")\n",
    "\n",
    "db_ops.conn.commit()"
   ]
  },
  {
   "cell_type": "code",
   "execution_count": 54,
   "id": "f00ae33f-d268-4c54-b0ce-f9ed419456b8",
   "metadata": {
    "execution": {
     "iopub.execute_input": "2025-05-11T23:24:59.020703Z",
     "iopub.status.busy": "2025-05-11T23:24:59.019902Z",
     "iopub.status.idle": "2025-05-11T23:24:59.101246Z",
     "shell.execute_reply": "2025-05-11T23:24:59.100292Z"
    },
    "papermill": {
     "duration": 0.23347,
     "end_time": "2025-05-11T23:24:59.102988",
     "exception": false,
     "start_time": "2025-05-11T23:24:58.869518",
     "status": "completed"
    },
    "tags": []
   },
   "outputs": [],
   "source": [
    "stock_region[\"Code\"] = stock_region[\"Code\"].astype(str)\n",
    "stock_region[\"date_report\"] = pd.to_datetime(date_report, format=\"%d-%m-%Y\")\n",
    "stock_region = stock_region.map(\n",
    "    lambda x: x.lstrip().rstrip() if isinstance(x, str) else x\n",
    ")\n",
    "stock_region[\"MSD\"] = stock_region[\"MSD\"].apply(\n",
    "    lambda x: str(round(float(x), 1)).replace(\".\", \",\") if x != \"NA\" else \"NA\"\n",
    ")\n",
    "\n",
    "assert (\n",
    "    stock_region.merge(\n",
    "        full_product[[\"id_produit_pk\", \"Code_produit\", \"Programme\"]].drop_duplicates(\n",
    "            subset=[\"Code_produit\", \"Programme\"]\n",
    "        ),\n",
    "        left_on=[\"Code\", \"Programme\"],\n",
    "        right_on=[\"Code_produit\", \"Programme\"],\n",
    "        how=\"left\",\n",
    "    )\n",
    "    .merge(df_region[[\"Code_region\", \"Region\"]], on=\"Region\", how=\"left\")\n",
    "    .drop(columns=[\"Code\", \"Code_produit\", \"Region\"])\n",
    "    .shape[0]\n",
    "    == stock_region.shape[0]\n",
    ")"
   ]
  },
  {
   "cell_type": "code",
   "execution_count": 55,
   "id": "6e7b9e1f-835d-4779-a1dd-26a9c6099756",
   "metadata": {
    "execution": {
     "iopub.execute_input": "2025-05-11T23:25:09.449305Z",
     "iopub.status.busy": "2025-05-11T23:25:09.448672Z",
     "iopub.status.idle": "2025-05-11T23:25:09.767983Z",
     "shell.execute_reply": "2025-05-11T23:25:09.767005Z"
    },
    "papermill": {
     "duration": 10.49246,
     "end_time": "2025-05-11T23:25:09.770416",
     "exception": false,
     "start_time": "2025-05-11T23:24:59.277956",
     "status": "completed"
    },
    "tags": []
   },
   "outputs": [],
   "source": [
    "stock_region.merge(\n",
    "    full_product[[\"id_produit_pk\", \"Code_produit\", \"Programme\"]].drop_duplicates(\n",
    "        subset=[\"Code_produit\", \"Programme\"]\n",
    "    ),\n",
    "    left_on=[\"Code\", \"Programme\"],\n",
    "    right_on=[\"Code_produit\", \"Programme\"],\n",
    "    how=\"left\",\n",
    ").merge(df_region[[\"Code_region\", \"Region\"]], on=\"Region\", how=\"left\").drop(\n",
    "    columns=[\"Code\", \"Code_produit\", \"Region\"]\n",
    ").rename(\n",
    "    columns={\"id_produit_pk\": \"id_produit_fk\"}\n",
    ").to_sql(\n",
    "    \"recap_stock_prog_region\",\n",
    "    con=db_ops.civ_engine,\n",
    "    schema=schema_name,\n",
    "    index=False,\n",
    "    if_exists=\"append\",\n",
    ")\n",
    "\n",
    "db_ops.civ_engine.dispose()"
   ]
  },
  {
   "cell_type": "markdown",
   "id": "c1cf3a8d-943d-4354-b552-e60f4d53324b",
   "metadata": {
    "papermill": {
     "duration": 0.189184,
     "end_time": "2025-05-11T23:25:10.160463",
     "exception": false,
     "start_time": "2025-05-11T23:25:09.971279",
     "status": "completed"
    },
    "tags": []
   },
   "source": [
    "#### `recap_stock_prog_nat`"
   ]
  },
  {
   "cell_type": "code",
   "execution_count": 56,
   "id": "d8c69e32-7a3c-4022-a7af-33f3a8e7e0e0",
   "metadata": {
    "execution": {
     "iopub.execute_input": "2025-05-11T23:25:10.530682Z",
     "iopub.status.busy": "2025-05-11T23:25:10.530139Z",
     "iopub.status.idle": "2025-05-11T23:25:10.553372Z",
     "shell.execute_reply": "2025-05-11T23:25:10.552417Z"
    },
    "papermill": {
     "duration": 0.199023,
     "end_time": "2025-05-11T23:25:10.556008",
     "exception": false,
     "start_time": "2025-05-11T23:25:10.356985",
     "status": "completed"
    },
    "tags": []
   },
   "outputs": [],
   "source": [
    "db_ops.civ_cursor.execute(\n",
    "    f\"\"\"\n",
    "DELETE FROM {schema_name}.recap_stock_prog_nat\n",
    "WHERE date_report = '{pd.to_datetime(date_report, format=\"%d-%m-%Y\").strftime('%Y-%m-%d')}'\n",
    "\"\"\"\n",
    ")\n",
    "\n",
    "db_ops.conn.commit()"
   ]
  },
  {
   "cell_type": "code",
   "execution_count": 57,
   "id": "d04becfb-6777-475b-b202-7a3657fa8027",
   "metadata": {
    "execution": {
     "iopub.execute_input": "2025-05-11T23:25:13.513823Z",
     "iopub.status.busy": "2025-05-11T23:25:13.513395Z",
     "iopub.status.idle": "2025-05-11T23:25:13.521637Z",
     "shell.execute_reply": "2025-05-11T23:25:13.520663Z"
    },
    "papermill": {
     "duration": 0.250601,
     "end_time": "2025-05-11T23:25:13.523263",
     "exception": false,
     "start_time": "2025-05-11T23:25:13.272662",
     "status": "completed"
    },
    "tags": []
   },
   "outputs": [],
   "source": [
    "stock_national = stock_lvl_decent[\n",
    "    [\n",
    "        \"Code\",\n",
    "        \"Programme\",\n",
    "        \"Region\",\n",
    "        \"lvl_decent_msd\",\n",
    "        \"lvl_decent_statut\",\n",
    "        \"lvl_decent_conso\",\n",
    "        \"lvl_decent_sdu\",\n",
    "        \"lvl_decent_cmm\",\n",
    "        \"dispo_globale\",\n",
    "        \"dispo_globale_cible\",\n",
    "        \"dispo_traceur\",\n",
    "        \"dispo_traceur_cible\",\n",
    "    ]\n",
    "].rename(\n",
    "    columns={\n",
    "        \"lvl_decent_msd\": \"MSD\",\n",
    "        \"lvl_decent_statut\": \"STATUT\",\n",
    "        \"lvl_decent_conso\": \"conso_lvl_national\",\n",
    "        \"lvl_decent_sdu\": \"sdu_lvl_national\",\n",
    "        \"lvl_decent_cmm\": \"cmm_lvl_national\",\n",
    "    }\n",
    ")"
   ]
  },
  {
   "cell_type": "code",
   "execution_count": 58,
   "id": "4a745127-ec99-441a-8964-11a0ab1b7998",
   "metadata": {
    "execution": {
     "iopub.execute_input": "2025-05-11T23:25:20.013065Z",
     "iopub.status.busy": "2025-05-11T23:25:20.012141Z",
     "iopub.status.idle": "2025-05-11T23:25:20.023283Z",
     "shell.execute_reply": "2025-05-11T23:25:20.022404Z"
    },
    "papermill": {
     "duration": 0.222678,
     "end_time": "2025-05-11T23:25:20.024719",
     "exception": false,
     "start_time": "2025-05-11T23:25:19.802041",
     "status": "completed"
    },
    "tags": []
   },
   "outputs": [],
   "source": [
    "stock_national[\"Code\"] = stock_national[\"Code\"].astype(str)\n",
    "stock_national = stock_national.map(lambda x: x.strip() if isinstance(x, str) else x)\n",
    "stock_national[\"date_report\"] = pd.to_datetime(date_report, format=\"%d-%m-%Y\")\n",
    "\n",
    "stock_national[\"MSD\"] = stock_national[\"MSD\"].apply(\n",
    "    lambda x: str(round(float(x), 1)).replace(\".\", \",\") if x != \"NA\" else \"NA\"\n",
    ")"
   ]
  },
  {
   "cell_type": "code",
   "execution_count": 59,
   "id": "14657e9e-237a-4e95-9fc3-ef7b20c8da08",
   "metadata": {
    "execution": {
     "iopub.execute_input": "2025-05-11T23:25:20.383876Z",
     "iopub.status.busy": "2025-05-11T23:25:20.383001Z",
     "iopub.status.idle": "2025-05-11T23:25:20.643339Z",
     "shell.execute_reply": "2025-05-11T23:25:20.642538Z"
    },
    "papermill": {
     "duration": 0.427556,
     "end_time": "2025-05-11T23:25:20.645034",
     "exception": false,
     "start_time": "2025-05-11T23:25:20.217478",
     "status": "completed"
    },
    "tags": []
   },
   "outputs": [],
   "source": [
    "assert (\n",
    "    stock_national.merge(\n",
    "        full_product[[\"id_produit_pk\", \"Code_produit\", \"Programme\"]].drop_duplicates(\n",
    "            subset=[\"Code_produit\", \"Programme\"]\n",
    "        ),\n",
    "        left_on=[\"Code\", \"Programme\"],\n",
    "        right_on=[\"Code_produit\", \"Programme\"],\n",
    "        how=\"left\",\n",
    "    )\n",
    "    .merge(df_region[[\"Code_region\", \"Region\"]], on=\"Region\", how=\"left\")\n",
    "    .drop(columns=[\"Code\", \"Code_produit\", \"Region\"])\n",
    "    .shape[0]\n",
    "    == stock_national.shape[0]\n",
    ")\n",
    "\n",
    "stock_national = (\n",
    "    stock_national.merge(\n",
    "        full_product[[\"id_produit_pk\", \"Code_produit\", \"Programme\"]].drop_duplicates(\n",
    "            subset=[\"Code_produit\", \"Programme\"]\n",
    "        ),\n",
    "        left_on=[\"Code\", \"Programme\"],\n",
    "        right_on=[\"Code_produit\", \"Programme\"],\n",
    "        how=\"left\",\n",
    "    )\n",
    "    .merge(df_region[[\"Code_region\", \"Region\"]], on=\"Region\", how=\"left\")\n",
    "    .drop(columns=[\"Code\", \"Code_produit\", \"Region\"])\n",
    "    .rename(\n",
    "        columns={\n",
    "            \"id_produit_pk\": \"id_produit_fk\",\n",
    "            \"conso_lvl_national\": \"CONSO\",\n",
    "            \"sdu_lvl_national\": \"SDU\",\n",
    "            \"cmm_lvl_national\": \"CMM\",\n",
    "        }\n",
    "    )\n",
    ")\n",
    "\n",
    "df_count_prog = (\n",
    "    stock_national.groupby([\"Programme\"])[\"id_produit_fk\"].count().reset_index()\n",
    ")\n",
    "\n",
    "stock_national[\"statut_pourcentage\"] = stock_national[[\"Programme\", \"STATUT\"]].apply(\n",
    "    lambda row: 1\n",
    "    / df_count_prog.loc[df_count_prog.Programme == row.Programme, \"id_produit_fk\"].iloc[\n",
    "        0\n",
    "    ],\n",
    "    axis=1,\n",
    ")\n",
    "\n",
    "stock_national.to_sql(\n",
    "    \"recap_stock_prog_nat\",\n",
    "    con=db_ops.civ_engine,\n",
    "    schema=schema_name,\n",
    "    index=False,\n",
    "    if_exists=\"append\",\n",
    ")\n",
    "\n",
    "db_ops.civ_engine.dispose()\n",
    "\n",
    "del df_count_prog"
   ]
  },
  {
   "cell_type": "markdown",
   "id": "7c582d98-b342-4ba6-9d19-89a99e791b11",
   "metadata": {
    "papermill": {
     "duration": 0.957458,
     "end_time": "2025-05-11T23:25:21.777765",
     "exception": false,
     "start_time": "2025-05-11T23:25:20.820307",
     "status": "completed"
    },
    "tags": []
   },
   "source": [
    "#### `Etat de stock`"
   ]
  },
  {
   "cell_type": "code",
   "execution_count": 60,
   "id": "8090a47a-1f61-42f4-a88c-7d28f8898396",
   "metadata": {
    "execution": {
     "iopub.execute_input": "2025-05-11T23:25:24.015939Z",
     "iopub.status.busy": "2025-05-11T23:25:24.015556Z",
     "iopub.status.idle": "2025-05-11T23:25:24.125647Z",
     "shell.execute_reply": "2025-05-11T23:25:24.124670Z"
    },
    "papermill": {
     "duration": 2.146724,
     "end_time": "2025-05-11T23:25:24.127413",
     "exception": false,
     "start_time": "2025-05-11T23:25:21.980689",
     "status": "completed"
    },
    "tags": []
   },
   "outputs": [],
   "source": [
    "db_ops.civ_cursor.execute(\n",
    "    f\"\"\"\n",
    "DELETE FROM {schema_name}.etat_de_stock\n",
    "WHERE date_report = '{pd.to_datetime(date_report, format=\"%d-%m-%Y\").strftime('%Y-%m-%d')}'\n",
    "\"\"\"\n",
    ")\n",
    "\n",
    "db_ops.conn.commit()"
   ]
  },
  {
   "cell_type": "code",
   "execution_count": 61,
   "id": "9cd6377c-7cd1-4251-b1ab-9dd03a28d240",
   "metadata": {
    "execution": {
     "iopub.execute_input": "2025-05-11T23:25:28.500161Z",
     "iopub.status.busy": "2025-05-11T23:25:28.499677Z",
     "iopub.status.idle": "2025-05-11T23:25:28.980385Z",
     "shell.execute_reply": "2025-05-11T23:25:28.979618Z"
    },
    "papermill": {
     "duration": 0.673883,
     "end_time": "2025-05-11T23:25:28.982099",
     "exception": false,
     "start_time": "2025-05-11T23:25:28.308216",
     "status": "completed"
    },
    "tags": []
   },
   "outputs": [],
   "source": [
    "mois_prec = (\n",
    "    pd.to_datetime(date_report, format=\"%d-%m-%Y\").replace(day=1) - pd.Timedelta(days=1)\n",
    ").strftime(\"%Y-%m-%d\")\n",
    "\n",
    "df_mois_prec = pd.read_sql(\n",
    "    f\"select * from {schema_name}.etat_de_stock where date_report='{mois_prec}'\",\n",
    "    db_ops.civ_engine,\n",
    ")"
   ]
  },
  {
   "cell_type": "code",
   "execution_count": 62,
   "id": "95205dd7-3432-4210-993c-d732dcd858c9",
   "metadata": {
    "execution": {
     "iopub.execute_input": "2025-05-11T23:25:29.407518Z",
     "iopub.status.busy": "2025-05-11T23:25:29.406574Z",
     "iopub.status.idle": "2025-05-11T23:25:29.880018Z",
     "shell.execute_reply": "2025-05-11T23:25:29.879337Z"
    },
    "papermill": {
     "duration": 0.636091,
     "end_time": "2025-05-11T23:25:29.881788",
     "exception": false,
     "start_time": "2025-05-11T23:25:29.245697",
     "status": "completed"
    },
    "tags": []
   },
   "outputs": [],
   "source": [
    "# Nettoyage initial des données\n",
    "df_etat_stock[\"Code_produit\"] = df_etat_stock[\"Code_produit\"].astype(str)\n",
    "df_etat_stock = df_etat_stock.applymap(lambda x: x.strip() if isinstance(x, str) else x)\n",
    "\n",
    "# Suppression des colonnes inutiles et nettoyage supplémentaire\n",
    "cols_to_drop = [\"programme_abrv\", \"Region\", \"District\", \"Structure\"]\n",
    "df_ = df_etat_stock.drop(columns=cols_to_drop)\n",
    "\n",
    "# Première jointure avec df_sous_prog\n",
    "df_ = df_.merge(\n",
    "    df_sous_prog, left_on=\"sous_programme\", right_on=\"Sous_programme\", how=\"left\"\n",
    ").drop(columns=[\"Sous_programme\", \"Programme\", \"sous_programme\"])\n",
    "\n",
    "# Définition des colonnes pour la déduplication\n",
    "dedup_cols = [\n",
    "    \"Code_produit\",\n",
    "    \"Code_sous_prog\",\n",
    "    \"Produit_designation\",\n",
    "    \"Unit_rapportage\",\n",
    "    \"Categorie_du_produit\",\n",
    "    \"Categorie_produit\",\n",
    "]\n",
    "\n",
    "# Seconde jointure avec full_product\n",
    "df_ = df_.merge(\n",
    "    full_product.drop_duplicates(subset=dedup_cols),\n",
    "    right_on=dedup_cols,\n",
    "    left_on=[\n",
    "        \"Code_produit\",\n",
    "        \"Code_sous_prog\",\n",
    "        \"produit_designation\",\n",
    "        \"unit_rapportage\",\n",
    "        \"cat_du_produit\",\n",
    "        \"cat_produit\",\n",
    "    ],\n",
    ")\n",
    "\n",
    "# Nettoyage final des colonnes\n",
    "final_cols_to_drop = [\n",
    "    \"Code_produit\",\n",
    "    \"cat_produit\",\n",
    "    \"produit_designation\",\n",
    "    \"unit_rapportage\",\n",
    "    \"cat_du_produit\",\n",
    "    \"Code_sous_prog\",\n",
    "    \"Produit_designation\",\n",
    "    \"Unit_rapportage\",\n",
    "    \"Categorie_produit\",\n",
    "    \"Categorie_du_produit\",\n",
    "    \"Programme\",\n",
    "]\n",
    "\n",
    "df_ = df_.drop(columns=final_cols_to_drop).rename(\n",
    "    columns={\"id_produit_pk\": \"id_produit_fk\"}\n",
    ")"
   ]
  },
  {
   "cell_type": "code",
   "execution_count": 63,
   "id": "f863d88e-4d88-44c4-bedd-047d7ccf86c8",
   "metadata": {
    "execution": {
     "iopub.execute_input": "2025-05-11T23:25:30.192962Z",
     "iopub.status.busy": "2025-05-11T23:25:30.192600Z",
     "iopub.status.idle": "2025-05-11T23:25:30.198426Z",
     "shell.execute_reply": "2025-05-11T23:25:30.197678Z"
    },
    "papermill": {
     "duration": 0.169963,
     "end_time": "2025-05-11T23:25:30.199853",
     "exception": false,
     "start_time": "2025-05-11T23:25:30.029890",
     "status": "completed"
    },
    "tags": []
   },
   "outputs": [],
   "source": [
    "df_['Code_ets'] = df_['Code_ets'].astype('Int64')"
   ]
  },
  {
   "cell_type": "code",
   "execution_count": 64,
   "id": "da6a7bca-9cab-44e8-82b1-a5b0a026f487",
   "metadata": {
    "execution": {
     "iopub.execute_input": "2025-05-11T23:25:34.945376Z",
     "iopub.status.busy": "2025-05-11T23:25:34.944962Z",
     "iopub.status.idle": "2025-05-11T23:25:35.006816Z",
     "shell.execute_reply": "2025-05-11T23:25:35.005814Z"
    },
    "papermill": {
     "duration": 4.635591,
     "end_time": "2025-05-11T23:25:35.008391",
     "exception": false,
     "start_time": "2025-05-11T23:25:30.372800",
     "status": "completed"
    },
    "tags": []
   },
   "outputs": [
    {
     "data": {
      "text/html": [
       "<div>\n",
       "<style scoped>\n",
       "    .dataframe tbody tr th:only-of-type {\n",
       "        vertical-align: middle;\n",
       "    }\n",
       "\n",
       "    .dataframe tbody tr th {\n",
       "        vertical-align: top;\n",
       "    }\n",
       "\n",
       "    .dataframe thead th {\n",
       "        text-align: right;\n",
       "    }\n",
       "</style>\n",
       "<table border=\"1\" class=\"dataframe\">\n",
       "  <thead>\n",
       "    <tr style=\"text-align: right;\">\n",
       "      <th></th>\n",
       "      <th>Periode</th>\n",
       "      <th>Code_ets</th>\n",
       "      <th>stock_initial</th>\n",
       "      <th>qte_recue</th>\n",
       "      <th>qte_utilisee</th>\n",
       "      <th>perte_ajust</th>\n",
       "      <th>j_rupture</th>\n",
       "      <th>sdu</th>\n",
       "      <th>cmm_esigl</th>\n",
       "      <th>cmm_gest</th>\n",
       "      <th>qte_prop</th>\n",
       "      <th>qte_cmde</th>\n",
       "      <th>qte_approuv</th>\n",
       "      <th>msd</th>\n",
       "      <th>etat_stock</th>\n",
       "      <th>besoin_cmde_urg</th>\n",
       "      <th>besoin_trsf_in</th>\n",
       "      <th>qte_trsf_out</th>\n",
       "      <th>date_report</th>\n",
       "      <th>id_produit_fk</th>\n",
       "      <th>qte_cmde_mois_prec</th>\n",
       "      <th>etat_stock_mois_prec</th>\n",
       "    </tr>\n",
       "  </thead>\n",
       "  <tbody>\n",
       "    <tr>\n",
       "      <th>0</th>\n",
       "      <td>AVRIL 2025</td>\n",
       "      <td>60100090</td>\n",
       "      <td>10</td>\n",
       "      <td>0</td>\n",
       "      <td>3</td>\n",
       "      <td>-2</td>\n",
       "      <td>0</td>\n",
       "      <td>5</td>\n",
       "      <td>2</td>\n",
       "      <td>3.0</td>\n",
       "      <td>3</td>\n",
       "      <td>7</td>\n",
       "      <td>7</td>\n",
       "      <td>1.666667</td>\n",
       "      <td>ENTRE PCU et MIN</td>\n",
       "      <td>NaN</td>\n",
       "      <td>NaN</td>\n",
       "      <td>NaN</td>\n",
       "      <td>2025-04-30</td>\n",
       "      <td>4982</td>\n",
       "      <td>10.0</td>\n",
       "      <td>BIEN STOCKE</td>\n",
       "    </tr>\n",
       "    <tr>\n",
       "      <th>1</th>\n",
       "      <td>AVRIL 2025</td>\n",
       "      <td>60100090</td>\n",
       "      <td>22</td>\n",
       "      <td>0</td>\n",
       "      <td>3</td>\n",
       "      <td>0</td>\n",
       "      <td>0</td>\n",
       "      <td>19</td>\n",
       "      <td>2</td>\n",
       "      <td>2.0</td>\n",
       "      <td>0</td>\n",
       "      <td>0</td>\n",
       "      <td>0</td>\n",
       "      <td>9.500000</td>\n",
       "      <td>SURSTOCK</td>\n",
       "      <td>NaN</td>\n",
       "      <td>NaN</td>\n",
       "      <td>11.0</td>\n",
       "      <td>2025-04-30</td>\n",
       "      <td>5004</td>\n",
       "      <td>0.0</td>\n",
       "      <td>SURSTOCK</td>\n",
       "    </tr>\n",
       "    <tr>\n",
       "      <th>2</th>\n",
       "      <td>AVRIL 2025</td>\n",
       "      <td>60100090</td>\n",
       "      <td>0</td>\n",
       "      <td>0</td>\n",
       "      <td>0</td>\n",
       "      <td>0</td>\n",
       "      <td>30</td>\n",
       "      <td>0</td>\n",
       "      <td>0</td>\n",
       "      <td>25.0</td>\n",
       "      <td>0</td>\n",
       "      <td>100</td>\n",
       "      <td>100</td>\n",
       "      <td>0.000000</td>\n",
       "      <td>RUPTURE</td>\n",
       "      <td>100.0</td>\n",
       "      <td>25.0</td>\n",
       "      <td>NaN</td>\n",
       "      <td>2025-04-30</td>\n",
       "      <td>155</td>\n",
       "      <td>NaN</td>\n",
       "      <td>NaN</td>\n",
       "    </tr>\n",
       "  </tbody>\n",
       "</table>\n",
       "</div>"
      ],
      "text/plain": [
       "      Periode  Code_ets  stock_initial  qte_recue  qte_utilisee  perte_ajust  \\\n",
       "0  AVRIL 2025  60100090             10          0             3           -2   \n",
       "1  AVRIL 2025  60100090             22          0             3            0   \n",
       "2  AVRIL 2025  60100090              0          0             0            0   \n",
       "\n",
       "   j_rupture  sdu  cmm_esigl  cmm_gest  qte_prop  qte_cmde  qte_approuv  \\\n",
       "0          0    5          2       3.0         3         7            7   \n",
       "1          0   19          2       2.0         0         0            0   \n",
       "2         30    0          0      25.0         0       100          100   \n",
       "\n",
       "        msd        etat_stock  besoin_cmde_urg  besoin_trsf_in  qte_trsf_out  \\\n",
       "0  1.666667  ENTRE PCU et MIN              NaN             NaN           NaN   \n",
       "1  9.500000          SURSTOCK              NaN             NaN          11.0   \n",
       "2  0.000000           RUPTURE            100.0            25.0           NaN   \n",
       "\n",
       "  date_report  id_produit_fk  qte_cmde_mois_prec etat_stock_mois_prec  \n",
       "0  2025-04-30           4982                10.0          BIEN STOCKE  \n",
       "1  2025-04-30           5004                 0.0             SURSTOCK  \n",
       "2  2025-04-30            155                 NaN                  NaN  "
      ]
     },
     "execution_count": 64,
     "metadata": {},
     "output_type": "execute_result"
    }
   ],
   "source": [
    "assert (\n",
    "    df_.merge(\n",
    "        df_mois_prec[[\"Code_ets\", \"id_produit_fk\", \"qte_cmde\", \"etat_stock\"]].rename(\n",
    "            columns={\n",
    "                \"qte_cmde\": \"qte_cmde_mois_prec\",\n",
    "                \"etat_stock\": \"etat_stock_mois_prec\",\n",
    "            }\n",
    "        ),\n",
    "        on=[\"Code_ets\", \"id_produit_fk\"],\n",
    "        how=\"left\",\n",
    "    ).shape[0]\n",
    "    == df_.shape[0]\n",
    ")\n",
    "\n",
    "\n",
    "df_ = df_.merge(\n",
    "    df_mois_prec[[\"Code_ets\", \"id_produit_fk\", \"qte_cmde\", \"etat_stock\"]].rename(\n",
    "        columns={\"qte_cmde\": \"qte_cmde_mois_prec\", \"etat_stock\": \"etat_stock_mois_prec\"}\n",
    "    ),\n",
    "    on=[\"Code_ets\", \"id_produit_fk\"],\n",
    "    how=\"left\",\n",
    ")\n",
    "\n",
    "df_.drop(\n",
    "    columns=[\"id_region_esigl\", \"TYPE DE STRUCTURE\", \"id_district_esigl\"], inplace=True\n",
    ")\n",
    "\n",
    "df_.head(3)"
   ]
  },
  {
   "cell_type": "code",
   "execution_count": 65,
   "id": "d185ea5f-3b35-4ba5-83dd-ea1d93e53e2c",
   "metadata": {
    "execution": {
     "iopub.execute_input": "2025-05-11T23:25:39.165946Z",
     "iopub.status.busy": "2025-05-11T23:25:39.165559Z",
     "iopub.status.idle": "2025-05-11T23:25:43.488067Z",
     "shell.execute_reply": "2025-05-11T23:25:43.487151Z"
    },
    "papermill": {
     "duration": 4.544943,
     "end_time": "2025-05-11T23:25:43.490265",
     "exception": false,
     "start_time": "2025-05-11T23:25:38.945322",
     "status": "completed"
    },
    "tags": []
   },
   "outputs": [],
   "source": [
    "df_.to_sql(\n",
    "    \"etat_de_stock\",\n",
    "    con=db_ops.civ_engine,\n",
    "    schema=schema_name,\n",
    "    index=False,\n",
    "    if_exists=\"append\",\n",
    ")\n",
    "\n",
    "db_ops.civ_engine.dispose()"
   ]
  }
 ],
 "metadata": {
  "kernelspec": {
   "display_name": "Python 3 (ipykernel)",
   "language": "python",
   "name": "python3"
  },
  "language_info": {
   "codemirror_mode": {
    "name": "ipython",
    "version": 3
   },
   "file_extension": ".py",
   "mimetype": "text/x-python",
   "name": "python",
   "nbconvert_exporter": "python",
   "pygments_lexer": "ipython3",
   "version": "3.12.8"
  },
  "papermill": {
   "default_parameters": {},
   "duration": 861.014482,
   "end_time": "2025-05-11T23:25:46.507624",
   "environment_variables": {},
   "exception": null,
   "input_path": "/home/hexa/workspace/Rapport Feedback/code/pipelines/main_program.ipynb",
   "output_path": "/home/hexa/workspace/Rapport Feedback/code/pipelines/output_notebook_execution/output_2025-05-11.ipynb",
   "parameters": {
    "date_report": "Avril",
    "fp_prod_traceurs": "Liste des Produits Traceurs Février 2025.xlsx",
    "fp_site_attendus": "Sites attendus 2025 Version Avril 2025.xlsx"
   },
   "start_time": "2025-05-11T23:11:25.493142",
   "version": "2.6.0"
  }
 },
 "nbformat": 4,
 "nbformat_minor": 5
}