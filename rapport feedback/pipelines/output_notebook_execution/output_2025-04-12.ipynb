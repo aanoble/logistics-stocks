{
 "cells": [
  {
   "cell_type": "markdown",
   "id": "8ed14ec2-6598-47a7-a6a1-588ecfa83c4c",
   "metadata": {
    "editable": true,
    "papermill": {
     "duration": 0.183433,
     "end_time": "2025-04-12T23:37:54.276759",
     "exception": false,
     "start_time": "2025-04-12T23:37:54.093326",
     "status": "completed"
    },
    "slideshow": {
     "slide_type": ""
    },
    "tags": []
   },
   "source": [
    "# Importation des bibliothèques"
   ]
  },
  {
   "cell_type": "code",
   "execution_count": 1,
   "id": "7211fc7e-03a6-44bb-9865-b687b9ffbcf0",
   "metadata": {
    "execution": {
     "iopub.execute_input": "2025-04-12T23:37:54.653781Z",
     "iopub.status.busy": "2025-04-12T23:37:54.653444Z",
     "iopub.status.idle": "2025-04-12T23:37:59.021444Z",
     "shell.execute_reply": "2025-04-12T23:37:59.019959Z"
    },
    "papermill": {
     "duration": 4.579054,
     "end_time": "2025-04-12T23:37:59.023609",
     "exception": false,
     "start_time": "2025-04-12T23:37:54.444555",
     "status": "completed"
    },
    "tags": []
   },
   "outputs": [],
   "source": [
    "%%capture\n",
    "## Instalation des bibliothèques utilitaires\n",
    "!pip install --upgrade google-api-python-client google-auth-httplib2 google-auth-oauthlib"
   ]
  },
  {
   "cell_type": "code",
   "execution_count": 2,
   "id": "d4fd9afc-a7e2-43af-a4c7-f333eec13c74",
   "metadata": {
    "editable": true,
    "execution": {
     "iopub.execute_input": "2025-04-12T23:38:00.239789Z",
     "iopub.status.busy": "2025-04-12T23:38:00.239366Z",
     "iopub.status.idle": "2025-04-12T23:38:07.607139Z",
     "shell.execute_reply": "2025-04-12T23:38:07.605724Z"
    },
    "papermill": {
     "duration": 7.562083,
     "end_time": "2025-04-12T23:38:07.609282",
     "exception": false,
     "start_time": "2025-04-12T23:38:00.047199",
     "status": "completed"
    },
    "slideshow": {
     "slide_type": ""
    },
    "tags": []
   },
   "outputs": [],
   "source": [
    "%%capture\n",
    "\n",
    "import warnings\n",
    "\n",
    "warnings.filterwarnings(\"ignore\")\n",
    "\n",
    "from datetime import datetime\n",
    "from pathlib import Path\n",
    "\n",
    "import numpy as np\n",
    "import pandas as pd\n",
    "from openhexa.sdk import workspace\n",
    "\n",
    "pd.set_option(\"display.max_columns\", None)\n",
    "\n",
    "try:\n",
    "    import openpyxl as pyxl\n",
    "    from fuzzywuzzy import fuzz, process\n",
    "except ImportError or ModuleNotFoundError:\n",
    "    !pip install python-Levenshtein\n",
    "    !pip install fuzzywuzzy\n",
    "    from fuzzywuzzy import fuzz, process\n",
    "    import openpyxl as pyxl\n",
    "\n",
    "import os\n",
    "from functools import partial\n",
    "from importlib import reload"
   ]
  },
  {
   "cell_type": "code",
   "execution_count": 3,
   "id": "43fa898c-24d6-435e-bd02-bbc4747f6ba0",
   "metadata": {
    "execution": {
     "iopub.execute_input": "2025-04-12T23:38:08.036069Z",
     "iopub.status.busy": "2025-04-12T23:38:08.035290Z",
     "iopub.status.idle": "2025-04-12T23:38:11.212587Z",
     "shell.execute_reply": "2025-04-12T23:38:11.211192Z"
    },
    "papermill": {
     "duration": 3.374774,
     "end_time": "2025-04-12T23:38:11.214935",
     "exception": false,
     "start_time": "2025-04-12T23:38:07.840161",
     "status": "completed"
    },
    "tags": []
   },
   "outputs": [],
   "source": [
    "# Ajout du chemin d'accès aux différents code\n",
    "os.chdir(Path(workspace.files_path, \"Rapport Feedback/code/pipelines\"))\n",
    "\n",
    "# Module créer pour le processing et l'exportation des données\n",
    "from compute_indicators import compute_indicators, date_utils, excel_file_handler\n",
    "from database_operations import db_ops, update_dimension, upsert_table\n",
    "from export_file_to_google_drive import upload_file_to_drive\n",
    "from generate_feedback_report import generate_feedback_report as gfr\n",
    "from metabase import queries\n",
    "from metabase.metabase import Metabase"
   ]
  },
  {
   "cell_type": "markdown",
   "id": "82e4e62c-4e00-47c0-9725-30fae2086de8",
   "metadata": {
    "editable": true,
    "papermill": {
     "duration": 0.181589,
     "end_time": "2025-04-12T23:38:11.636387",
     "exception": false,
     "start_time": "2025-04-12T23:38:11.454798",
     "status": "completed"
    },
    "slideshow": {
     "slide_type": ""
    },
    "tags": []
   },
   "source": [
    "# Définition des paramètres"
   ]
  },
  {
   "cell_type": "markdown",
   "id": "eb13db80-bfa9-4534-a44b-75ba73fe8883",
   "metadata": {
    "editable": true,
    "papermill": {
     "duration": 0.194319,
     "end_time": "2025-04-12T23:38:12.402719",
     "exception": false,
     "start_time": "2025-04-12T23:38:12.208400",
     "status": "completed"
    },
    "slideshow": {
     "slide_type": ""
    },
    "tags": []
   },
   "source": [
    "Les variables nécessaires à la production du rapport de feedback :\n",
    "\n",
    "1. **Mois de création du rapport**  \n",
    "   - **Description :** Ce paramètre correspond au mois pour lequel le rapport de feedback sera généré.  \n",
    "   - **Source :** Défini par l'utilisateur lors de l'exécution du pipeline.\n",
    "\n",
    "2. **Liste des sites attendus**  \n",
    "   - **Description :** Fichier Excel contenant la liste complète des sites devant être inclus dans le rapport.  \n",
    "   - **Fréquence de mise à jour :** Ce fichier est mis à jour et communiqué chaque trimestre.  \n",
    "   - **Emplacement requis :** Le fichier doit être déposé dans le dossier `Rapport Feedback/data/Sites attendus`.\n",
    "\n",
    "3. **Liste des produits traceurs**  \n",
    "   - **Description :** Fichier Excel fournissant les informations sur les produits traceurs à analyser dans le rapport.  \n",
    "   - **Fréquence de mise à jour :** Généralement communiqué mensuellement par la DAP.  \n",
    "   - **Emplacement requis :** Le fichier doit être placé dans le dossier `Rapport Feedback/data/Produits Traceurs`."
   ]
  },
  {
   "cell_type": "markdown",
   "id": "c2d49e73-f67d-40df-9527-73b7d2dfae16",
   "metadata": {
    "editable": true,
    "papermill": {
     "duration": 0.176403,
     "end_time": "2025-04-12T23:38:12.791368",
     "exception": false,
     "start_time": "2025-04-12T23:38:12.614965",
     "status": "completed"
    },
    "slideshow": {
     "slide_type": ""
    },
    "tags": []
   },
   "source": [
    "<div class=\"alert alert-block alert-success\">\n",
    "Ici quand le mois est défini il faudrait aller checker dans la base de données pour voir si le mois en question est déjà présent dans la base pour minimiser le risque d'erreur\n",
    "</div>"
   ]
  },
  {
   "cell_type": "code",
   "execution_count": 4,
   "id": "2f9daacd-9043-44fe-a6c3-3aa982f1e6fb",
   "metadata": {
    "editable": true,
    "execution": {
     "iopub.execute_input": "2025-04-12T23:38:14.955420Z",
     "iopub.status.busy": "2025-04-12T23:38:14.954833Z",
     "iopub.status.idle": "2025-04-12T23:38:14.960400Z",
     "shell.execute_reply": "2025-04-12T23:38:14.959368Z"
    },
    "papermill": {
     "duration": 1.169664,
     "end_time": "2025-04-12T23:38:14.962099",
     "exception": false,
     "start_time": "2025-04-12T23:38:13.792435",
     "status": "completed"
    },
    "slideshow": {
     "slide_type": ""
    },
    "tags": [
     "parameters"
    ]
   },
   "outputs": [],
   "source": [
    "date_report, fp_site_attendus, fp_prod_traceurs = (\n",
    "    \"Mars\",\n",
    "    \"Sites attendus Février 2025.xlsx\",\n",
    "    \"Liste des Produits Traceurs Février 2025.xlsx\",\n",
    ")"
   ]
  },
  {
   "cell_type": "code",
   "execution_count": 5,
   "id": "aa38fb6b",
   "metadata": {
    "execution": {
     "iopub.execute_input": "2025-04-12T23:38:18.052509Z",
     "iopub.status.busy": "2025-04-12T23:38:18.051609Z",
     "iopub.status.idle": "2025-04-12T23:38:18.056917Z",
     "shell.execute_reply": "2025-04-12T23:38:18.055789Z"
    },
    "papermill": {
     "duration": 2.902604,
     "end_time": "2025-04-12T23:38:18.058934",
     "exception": false,
     "start_time": "2025-04-12T23:38:15.156330",
     "status": "completed"
    },
    "tags": [
     "injected-parameters"
    ]
   },
   "outputs": [],
   "source": [
    "# Parameters\n",
    "date_report = \"Mars\"\n",
    "fp_site_attendus = \"Sites attendus F\\xe9vrier 2025.xlsx\"\n",
    "fp_prod_traceurs = \"Liste des Produits Traceurs F\\xe9vrier 2025.xlsx\"\n"
   ]
  },
  {
   "cell_type": "code",
   "execution_count": 6,
   "id": "081e5b32-e9e7-44f9-97b3-c9534f963d64",
   "metadata": {
    "editable": true,
    "execution": {
     "iopub.execute_input": "2025-04-12T23:38:22.059074Z",
     "iopub.status.busy": "2025-04-12T23:38:22.058552Z",
     "iopub.status.idle": "2025-04-12T23:38:22.066659Z",
     "shell.execute_reply": "2025-04-12T23:38:22.065779Z"
    },
    "papermill": {
     "duration": 2.954348,
     "end_time": "2025-04-12T23:38:22.068253",
     "exception": false,
     "start_time": "2025-04-12T23:38:19.113905",
     "status": "completed"
    },
    "slideshow": {
     "slide_type": ""
    },
    "tags": []
   },
   "outputs": [],
   "source": [
    "month_export, date_report = date_report, compute_indicators.generate_month_end_report_date(date_report)"
   ]
  },
  {
   "cell_type": "markdown",
   "id": "0abd17bc-35f4-43f3-a17b-8c4931980e1b",
   "metadata": {
    "papermill": {
     "duration": 0.182644,
     "end_time": "2025-04-12T23:38:22.445167",
     "exception": false,
     "start_time": "2025-04-12T23:38:22.262523",
     "status": "completed"
    },
    "tags": []
   },
   "source": [
    "## Test pour s'assurer que cette date n'existe pas déjà dans la base de données"
   ]
  },
  {
   "cell_type": "code",
   "execution_count": 7,
   "id": "585b259d-cd27-4f2f-a731-e73cc66844b8",
   "metadata": {
    "execution": {
     "iopub.execute_input": "2025-04-12T23:38:22.834326Z",
     "iopub.status.busy": "2025-04-12T23:38:22.833886Z",
     "iopub.status.idle": "2025-04-12T23:38:22.879154Z",
     "shell.execute_reply": "2025-04-12T23:38:22.878037Z"
    },
    "papermill": {
     "duration": 0.246487,
     "end_time": "2025-04-12T23:38:22.881010",
     "exception": false,
     "start_time": "2025-04-12T23:38:22.634523",
     "status": "completed"
    },
    "tags": []
   },
   "outputs": [],
   "source": [
    "db_ops.reload_connection()\n",
    "\n",
    "schema_name = \"dap_tools\""
   ]
  },
  {
   "cell_type": "code",
   "execution_count": 8,
   "id": "05e7ebc7-bb18-4aab-b7de-ccea3ba3de0f",
   "metadata": {
    "editable": true,
    "execution": {
     "iopub.execute_input": "2025-04-12T23:38:24.124885Z",
     "iopub.status.busy": "2025-04-12T23:38:24.124445Z",
     "iopub.status.idle": "2025-04-12T23:38:24.654401Z",
     "shell.execute_reply": "2025-04-12T23:38:24.653409Z"
    },
    "papermill": {
     "duration": 1.577112,
     "end_time": "2025-04-12T23:38:24.656271",
     "exception": false,
     "start_time": "2025-04-12T23:38:23.079159",
     "status": "completed"
    },
    "slideshow": {
     "slide_type": ""
    },
    "tags": []
   },
   "outputs": [],
   "source": [
    "# Ici il faudrait également s'assurer que le mois précédent est bien présent à l'intérieur de la base de données au cas où on arriverait à se tromper sur le mois de conception du fichier\n",
    "mois_prec = (pd.to_datetime(date_report).replace(day=1) - pd.Timedelta(days=1)).strftime('%Y-%m-%d')\n",
    "\n",
    "df_ = pd.read_sql(f\"select * from {schema_name}.etat_de_stock where date_report='{mois_prec}'\", db_ops.civ_engine)\n",
    "\n",
    "assert df_.shape[0] != 0, f\"Le mois précédent {mois_prec} n'est pas présent dans la base de données locale êtes-vous sûre d'avoir choisir le bon mois de conception du fichier.\"\n",
    "\n",
    "del df_"
   ]
  },
  {
   "cell_type": "code",
   "execution_count": 9,
   "id": "d0e84e1c-e061-4012-a736-e9e8ae21c076",
   "metadata": {
    "editable": true,
    "execution": {
     "iopub.execute_input": "2025-04-12T23:38:30.733535Z",
     "iopub.status.busy": "2025-04-12T23:38:30.733087Z",
     "iopub.status.idle": "2025-04-12T23:38:30.754335Z",
     "shell.execute_reply": "2025-04-12T23:38:30.753212Z"
    },
    "papermill": {
     "duration": 5.908168,
     "end_time": "2025-04-12T23:38:30.756148",
     "exception": false,
     "start_time": "2025-04-12T23:38:24.847980",
     "status": "completed"
    },
    "slideshow": {
     "slide_type": ""
    },
    "tags": []
   },
   "outputs": [],
   "source": [
    "%%script false --no-raise-error\n",
    "\n",
    "df_ = pd.read_sql(f\"select * from {schema_name}.etat_de_stock where date_report='{pd.to_datetime(date_report).strftime('%Y-%m-%d')}' LIMIT 2\", db_ops.civ_engine)\n",
    "\n",
    "assert df_.shape[0] == 0, f\"La date {date_report} existe déjà dans la base de données vous devez définir une autre date pour la production du rapport.\"\n",
    "\n",
    "del df_"
   ]
  },
  {
   "cell_type": "markdown",
   "id": "40a0ccb6-f7f9-4f02-8aed-d3aaed4a584f",
   "metadata": {
    "papermill": {
     "duration": 0.22187,
     "end_time": "2025-04-12T23:38:32.385038",
     "exception": false,
     "start_time": "2025-04-12T23:38:32.163168",
     "status": "completed"
    },
    "tags": []
   },
   "source": [
    "# 📥 Importation des Données\n",
    "  \n",
    "L'utilisateur doit veiller à ce que les fichiers respectent le format attendu et soient placés dans les répertoires dédiés avant de procéder au traitement."
   ]
  },
  {
   "cell_type": "markdown",
   "id": "7405a294-f204-4a05-8753-13a6ba1e3e36",
   "metadata": {
    "editable": true,
    "papermill": {
     "duration": 0.199443,
     "end_time": "2025-04-12T23:38:32.775910",
     "exception": false,
     "start_time": "2025-04-12T23:38:32.576467",
     "status": "completed"
    },
    "slideshow": {
     "slide_type": ""
    },
    "tags": []
   },
   "source": [
    "## 📌 1. Importation de la `Liste des sites attendus`\n",
    "- **Format requis :** Assurez-vous que le fichier respecte le template standard défini pour les mois de chargement.\n",
    "- **Emplacement du fichier :** Le fichier doit être placé dans le répertoire dédié :  \n",
    "  **`Rapport Feedback/data/Sites attendus`**  \n",
    "- **En cas d'erreur :**  \n",
    "  - Vérifiez que le fichier est bien présent dans le répertoire.  \n",
    "  - Assurez-vous que toutes les colonnes requises sont bien renseignées.  \n",
    "  - Contrôlez que le fichier est bien accessible et non corrompu."
   ]
  },
  {
   "cell_type": "code",
   "execution_count": 10,
   "id": "44fed58a-6521-4903-8fec-792bd328633d",
   "metadata": {
    "editable": true,
    "execution": {
     "iopub.execute_input": "2025-04-12T23:38:33.131423Z",
     "iopub.status.busy": "2025-04-12T23:38:33.130867Z",
     "iopub.status.idle": "2025-04-12T23:38:33.135811Z",
     "shell.execute_reply": "2025-04-12T23:38:33.134820Z"
    },
    "papermill": {
     "duration": 0.185041,
     "end_time": "2025-04-12T23:38:33.137583",
     "exception": false,
     "start_time": "2025-04-12T23:38:32.952542",
     "status": "completed"
    },
    "slideshow": {
     "slide_type": ""
    },
    "tags": []
   },
   "outputs": [],
   "source": [
    "fp_site_attendus = (\n",
    "    Path(workspace.files_path)\n",
    "    / \"Rapport Feedback/data/Sites attendus\" \n",
    "    / Path(fp_site_attendus).name\n",
    ")"
   ]
  },
  {
   "cell_type": "code",
   "execution_count": 11,
   "id": "63198639-40f7-4b11-9b7f-cf4b9fcc858a",
   "metadata": {
    "execution": {
     "iopub.execute_input": "2025-04-12T23:38:33.623303Z",
     "iopub.status.busy": "2025-04-12T23:38:33.622877Z",
     "iopub.status.idle": "2025-04-12T23:38:33.985443Z",
     "shell.execute_reply": "2025-04-12T23:38:33.984487Z"
    },
    "papermill": {
     "duration": 0.673253,
     "end_time": "2025-04-12T23:38:33.987261",
     "exception": false,
     "start_time": "2025-04-12T23:38:33.314008",
     "status": "completed"
    },
    "tags": []
   },
   "outputs": [
    {
     "data": {
      "text/html": [
       "<div>\n",
       "<style scoped>\n",
       "    .dataframe tbody tr th:only-of-type {\n",
       "        vertical-align: middle;\n",
       "    }\n",
       "\n",
       "    .dataframe tbody tr th {\n",
       "        vertical-align: top;\n",
       "    }\n",
       "\n",
       "    .dataframe thead th {\n",
       "        text-align: right;\n",
       "    }\n",
       "</style>\n",
       "<table border=\"1\" class=\"dataframe\">\n",
       "  <thead>\n",
       "    <tr style=\"text-align: right;\">\n",
       "      <th></th>\n",
       "      <th>Code</th>\n",
       "      <th>Site</th>\n",
       "      <th>District</th>\n",
       "      <th>Region</th>\n",
       "      <th>ARV</th>\n",
       "      <th>TRC</th>\n",
       "      <th>LAB</th>\n",
       "      <th>CHARGE VIRALE</th>\n",
       "      <th>PNLP</th>\n",
       "      <th>PNSME</th>\n",
       "      <th>PNN</th>\n",
       "      <th>TBS</th>\n",
       "      <th>TBMR</th>\n",
       "      <th>TBLAB</th>\n",
       "      <th>PNSME-GRAT</th>\n",
       "    </tr>\n",
       "  </thead>\n",
       "  <tbody>\n",
       "    <tr>\n",
       "      <th>0</th>\n",
       "      <td>60100040</td>\n",
       "      <td>CENTRE ANTITUBERCULEUX ABOBO</td>\n",
       "      <td>ABOBO EST</td>\n",
       "      <td>ABIDJAN 1</td>\n",
       "      <td>1</td>\n",
       "      <td>1</td>\n",
       "      <td>1</td>\n",
       "      <td>1</td>\n",
       "      <td>NA</td>\n",
       "      <td>NA</td>\n",
       "      <td>NA</td>\n",
       "      <td>1</td>\n",
       "      <td>1</td>\n",
       "      <td>1</td>\n",
       "      <td>NA</td>\n",
       "    </tr>\n",
       "    <tr>\n",
       "      <th>1</th>\n",
       "      <td>70200030</td>\n",
       "      <td>CENTRE MEDICO-SOCIAL SAINT COEUR ABOBOTE</td>\n",
       "      <td>ABOBO EST</td>\n",
       "      <td>ABIDJAN 1</td>\n",
       "      <td>1</td>\n",
       "      <td>1</td>\n",
       "      <td>1</td>\n",
       "      <td>NA</td>\n",
       "      <td>NA</td>\n",
       "      <td>NA</td>\n",
       "      <td>NA</td>\n",
       "      <td>1</td>\n",
       "      <td>NA</td>\n",
       "      <td>NA</td>\n",
       "      <td>NA</td>\n",
       "    </tr>\n",
       "  </tbody>\n",
       "</table>\n",
       "</div>"
      ],
      "text/plain": [
       "       Code                                      Site   District     Region  \\\n",
       "0  60100040              CENTRE ANTITUBERCULEUX ABOBO  ABOBO EST  ABIDJAN 1   \n",
       "1  70200030  CENTRE MEDICO-SOCIAL SAINT COEUR ABOBOTE  ABOBO EST  ABIDJAN 1   \n",
       "\n",
       "  ARV TRC LAB CHARGE VIRALE PNLP PNSME PNN TBS TBMR TBLAB PNSME-GRAT  \n",
       "0   1   1   1             1   NA    NA  NA   1    1     1         NA  \n",
       "1   1   1   1            NA   NA    NA  NA   1   NA    NA         NA  "
      ]
     },
     "execution_count": 11,
     "metadata": {},
     "output_type": "execute_result"
    }
   ],
   "source": [
    "# Configuration constante\n",
    "EXPECTED_COLS = {\n",
    "    'Code', 'Site', 'District', 'Region', 'ARV', 'TRC', 'LAB', \n",
    "    'CHARGE VIRALE', 'PNLP', 'PNSME', 'PNSME-GRAT', \n",
    "    'PNN', 'TBS', 'TBMR', 'TBLAB'\n",
    "}\n",
    "\n",
    "# Utilisation\n",
    "try:\n",
    "    df_site_attendu = excel_file_handler.load_expected_sites_from_excel(fp_site_attendus, EXPECTED_COLS)\n",
    "except Exception as e:\n",
    "    print(\"Une erreur s'est produite lors du chargement du fichier contenant la liste des sites attendus.\")\n",
    "    print(\"Veuillez vérifier que le fichier existe dans le répertoire spécifique `Rapport Feedback/data/Sites attendus` et qu'il contient toutes les colonnes requises.\")\n",
    "    print(f\"Code d'erreur détaillé : {e}\")\n",
    "    raise\n",
    "df_site_attendu.head(2)"
   ]
  },
  {
   "cell_type": "markdown",
   "id": "d279c2e1-3e18-43aa-97d2-bc14a2d0f862",
   "metadata": {
    "editable": true,
    "papermill": {
     "duration": 0.215823,
     "end_time": "2025-04-12T23:38:42.906980",
     "exception": false,
     "start_time": "2025-04-12T23:38:42.691157",
     "status": "completed"
    },
    "slideshow": {
     "slide_type": ""
    },
    "tags": []
   },
   "source": [
    "## 📌 2. Importation de la `liste des produits traceurs`\n",
    "- **Format requis :** Respectez la structure du fichier définie pour l’importation.  \n",
    "- **Emplacement du fichier :** Le fichier doit être placé dans le répertoire suivant :  \n",
    "  **`Rapport Feedback/data/Produits Traceurs`**  \n",
    "- **En cas d'erreur :**  \n",
    "  - Vérifiez que le fichier est bien présent dans le répertoire.  \n",
    "  - Assurez-vous que les données respectent le format attendu.  \n",
    "  - Vérifiez l'intégrité du fichier et assurez-vous et corriger l'anomalie."
   ]
  },
  {
   "cell_type": "code",
   "execution_count": 12,
   "id": "bad6e1c2-5395-44d3-90e2-56e7502287a7",
   "metadata": {
    "editable": true,
    "execution": {
     "iopub.execute_input": "2025-04-12T23:38:43.278848Z",
     "iopub.status.busy": "2025-04-12T23:38:43.277653Z",
     "iopub.status.idle": "2025-04-12T23:38:43.282970Z",
     "shell.execute_reply": "2025-04-12T23:38:43.282020Z"
    },
    "papermill": {
     "duration": 0.187514,
     "end_time": "2025-04-12T23:38:43.284774",
     "exception": false,
     "start_time": "2025-04-12T23:38:43.097260",
     "status": "completed"
    },
    "slideshow": {
     "slide_type": ""
    },
    "tags": []
   },
   "outputs": [],
   "source": [
    "# Il faudra définir un standard de fichier qui sera attendu\n",
    "fp_prod_traceurs = (\n",
    "    Path(workspace.files_path)\n",
    "    / \"Rapport Feedback/data/Produits Traceurs\" \n",
    "    / Path(fp_prod_traceurs).name\n",
    ")"
   ]
  },
  {
   "cell_type": "code",
   "execution_count": 13,
   "id": "66e0d1aa-5170-43b3-a6f7-a9e22aa18926",
   "metadata": {
    "execution": {
     "iopub.execute_input": "2025-04-12T23:38:45.379130Z",
     "iopub.status.busy": "2025-04-12T23:38:45.378254Z",
     "iopub.status.idle": "2025-04-12T23:38:45.554386Z",
     "shell.execute_reply": "2025-04-12T23:38:45.553438Z"
    },
    "papermill": {
     "duration": 2.095606,
     "end_time": "2025-04-12T23:38:45.556262",
     "exception": false,
     "start_time": "2025-04-12T23:38:43.460656",
     "status": "completed"
    },
    "tags": []
   },
   "outputs": [
    {
     "data": {
      "text/html": [
       "<div>\n",
       "<style scoped>\n",
       "    .dataframe tbody tr th:only-of-type {\n",
       "        vertical-align: middle;\n",
       "    }\n",
       "\n",
       "    .dataframe tbody tr th {\n",
       "        vertical-align: top;\n",
       "    }\n",
       "\n",
       "    .dataframe thead th {\n",
       "        text-align: right;\n",
       "    }\n",
       "</style>\n",
       "<table border=\"1\" class=\"dataframe\">\n",
       "  <thead>\n",
       "    <tr style=\"text-align: right;\">\n",
       "      <th></th>\n",
       "      <th>PROGRAMME</th>\n",
       "      <th>CODE PRODUIT</th>\n",
       "      <th>PRODUIT</th>\n",
       "      <th>CODE COMBINE</th>\n",
       "      <th>CATEGORIE PRODUIT</th>\n",
       "    </tr>\n",
       "  </thead>\n",
       "  <tbody>\n",
       "    <tr>\n",
       "      <th>0</th>\n",
       "      <td>PNLP</td>\n",
       "      <td>3050015</td>\n",
       "      <td>AMODIAQUINE/ARTESUNATE 25 / 67,5 mg ENFANT (0 ...</td>\n",
       "      <td>3050015_PNLP</td>\n",
       "      <td>Produit traceur</td>\n",
       "    </tr>\n",
       "    <tr>\n",
       "      <th>1</th>\n",
       "      <td>PNLP</td>\n",
       "      <td>3050016</td>\n",
       "      <td>AMODIAQUINE/ARTESUNATE 50 / 135 mg ENFANT (1 -...</td>\n",
       "      <td>3050016_PNLP</td>\n",
       "      <td>Produit traceur</td>\n",
       "    </tr>\n",
       "  </tbody>\n",
       "</table>\n",
       "</div>"
      ],
      "text/plain": [
       "  PROGRAMME  CODE PRODUIT                                            PRODUIT  \\\n",
       "0      PNLP       3050015  AMODIAQUINE/ARTESUNATE 25 / 67,5 mg ENFANT (0 ...   \n",
       "1      PNLP       3050016  AMODIAQUINE/ARTESUNATE 50 / 135 mg ENFANT (1 -...   \n",
       "\n",
       "   CODE COMBINE CATEGORIE PRODUIT  \n",
       "0  3050015_PNLP   Produit traceur  \n",
       "1  3050016_PNLP   Produit traceur  "
      ]
     },
     "execution_count": 13,
     "metadata": {},
     "output_type": "execute_result"
    }
   ],
   "source": [
    "try:\n",
    "    df_prod_traceurs = excel_file_handler.load_traceable_products_from_excel(fp_prod_traceurs)\n",
    "except Exeption as e:\n",
    "    print(\"Une erreur s'est produite lors du chargement du fichier contenant la liste des produits traceurs\")\n",
    "    print(\"Veuillez vérifier que le fichier existe et qu'il contienu dans le répertoire dédié `Rapport Feedback/data/Produits Traceurs`\")\n",
    "    print(f\"Code d'erreur détaillé : {e}\")\n",
    "\n",
    "df_prod_traceurs.head(2)"
   ]
  },
  {
   "cell_type": "markdown",
   "id": "d1412c64-6b55-4a3f-9cea-74fb9ec82858",
   "metadata": {
    "papermill": {
     "duration": 5.381425,
     "end_time": "2025-04-12T23:38:52.537652",
     "exception": false,
     "start_time": "2025-04-12T23:38:47.156227",
     "status": "completed"
    },
    "tags": []
   },
   "source": [
    "## 📌 3. Extraction des données eSIGL : `État de transmission`  \n",
    "\n",
    "Cette étape permet d'extraire les données d'état de transmission depuis eSIGL via Metabase.  \n",
    "Assurez-vous que toutes les conditions nécessaires sont remplies avant de lancer l'extraction.  \n",
    "\n",
    "🛠 En cas d'erreur :  \n",
    "1. **Vérifier les permissions utilisateur**  \n",
    "   - Assurez-vous que l'utilisateur **`secretariat_dap`** dispose bien des accès nécessaires à eSIGL.  \n",
    "   - Si l'accès est restreint, contactez l'administrateur du système pour obtenir les autorisations requises.  \n",
    "\n",
    "2. **S'assurer du bon fonctionnement de eSIGL**  \n",
    "   - Il arrive que **Metabase** subisse des interruptions temporaires rendant l'accès aux données impossible.  \n",
    "   - Si eSIGL ou Metabase est indisponible, réessayez plus tard ou consultez l'équipe technique.  \n",
    "\n",
    "**Astuce :** Si le problème persiste, tentez d'accéder manuellement à eSIGL et Metabase pour vérifier leur disponibilité."
   ]
  },
  {
   "cell_type": "code",
   "execution_count": 14,
   "id": "8c20b13c-c935-4b94-8b16-06714abb4cb6",
   "metadata": {
    "execution": {
     "iopub.execute_input": "2025-04-12T23:38:52.965603Z",
     "iopub.status.busy": "2025-04-12T23:38:52.965220Z",
     "iopub.status.idle": "2025-04-12T23:38:53.782157Z",
     "shell.execute_reply": "2025-04-12T23:38:53.781077Z"
    },
    "papermill": {
     "duration": 1.01026,
     "end_time": "2025-04-12T23:38:53.784070",
     "exception": false,
     "start_time": "2025-04-12T23:38:52.773810",
     "status": "completed"
    },
    "tags": []
   },
   "outputs": [],
   "source": [
    "metabase = Metabase(workspace.custom_connection(\"metabase-esigl\"))"
   ]
  },
  {
   "cell_type": "code",
   "execution_count": 15,
   "id": "45e6bc90-9162-4b25-9c5e-aec1153778d7",
   "metadata": {
    "editable": true,
    "execution": {
     "iopub.execute_input": "2025-04-12T23:38:54.171031Z",
     "iopub.status.busy": "2025-04-12T23:38:54.170664Z",
     "iopub.status.idle": "2025-04-12T23:38:56.133376Z",
     "shell.execute_reply": "2025-04-12T23:38:56.132385Z"
    },
    "papermill": {
     "duration": 2.15185,
     "end_time": "2025-04-12T23:38:56.135182",
     "exception": false,
     "start_time": "2025-04-12T23:38:53.983332",
     "status": "completed"
    },
    "slideshow": {
     "slide_type": ""
    },
    "tags": []
   },
   "outputs": [
    {
     "data": {
      "text/html": [
       "<div>\n",
       "<style scoped>\n",
       "    .dataframe tbody tr th:only-of-type {\n",
       "        vertical-align: middle;\n",
       "    }\n",
       "\n",
       "    .dataframe tbody tr th {\n",
       "        vertical-align: top;\n",
       "    }\n",
       "\n",
       "    .dataframe thead th {\n",
       "        text-align: right;\n",
       "    }\n",
       "</style>\n",
       "<table border=\"1\" class=\"dataframe\">\n",
       "  <thead>\n",
       "    <tr style=\"text-align: right;\">\n",
       "      <th></th>\n",
       "      <th>region</th>\n",
       "      <th>id_region_esigl</th>\n",
       "      <th>code</th>\n",
       "      <th>facility</th>\n",
       "      <th>district</th>\n",
       "      <th>id_district_esigl</th>\n",
       "      <th>program</th>\n",
       "      <th>cde_urgente</th>\n",
       "      <th>period</th>\n",
       "      <th>statut</th>\n",
       "      <th>user</th>\n",
       "      <th>date_soumission</th>\n",
       "      <th>date_autorisation</th>\n",
       "      <th>time_ago</th>\n",
       "    </tr>\n",
       "  </thead>\n",
       "  <tbody>\n",
       "    <tr>\n",
       "      <th>0</th>\n",
       "      <td>ABIDJAN 2</td>\n",
       "      <td>3</td>\n",
       "      <td>60200130</td>\n",
       "      <td>CENTRE  ANTITUBERCULEUX KOUMASSI</td>\n",
       "      <td>KOUMASSI</td>\n",
       "      <td>152</td>\n",
       "      <td>PNLT-PRODUITS DE LABORATOIRE</td>\n",
       "      <td>False</td>\n",
       "      <td>JANVIER MARS 2025</td>\n",
       "      <td>AUTHORIZED</td>\n",
       "      <td>KOUABENAN Abenan Bio Ange Christelle</td>\n",
       "      <td>2025-04-07T00:00:00Z</td>\n",
       "      <td>2025-04-07T00:00:00Z</td>\n",
       "      <td>5 12:01:35</td>\n",
       "    </tr>\n",
       "    <tr>\n",
       "      <th>1</th>\n",
       "      <td>ABIDJAN 2</td>\n",
       "      <td>3</td>\n",
       "      <td>60300140</td>\n",
       "      <td>CSU COM GONZAGUEVILLE</td>\n",
       "      <td>PORT BOUET-VRIDI</td>\n",
       "      <td>71</td>\n",
       "      <td>PNLT-SENSIBLE MEDICAMENTS ET INTRANTS</td>\n",
       "      <td>False</td>\n",
       "      <td>JANVIER MARS 2025</td>\n",
       "      <td>AUTHORIZED</td>\n",
       "      <td>SIDIBE Abibata</td>\n",
       "      <td>2025-04-03T00:00:00Z</td>\n",
       "      <td>2025-04-05T00:00:00Z</td>\n",
       "      <td>7 13:16:31</td>\n",
       "    </tr>\n",
       "    <tr>\n",
       "      <th>2</th>\n",
       "      <td>NAWA</td>\n",
       "      <td>150</td>\n",
       "      <td>41200010</td>\n",
       "      <td>HOPITAL GENERAL BUYO</td>\n",
       "      <td>BUYO</td>\n",
       "      <td>107</td>\n",
       "      <td>PNLT-SENSIBLE MEDICAMENTS ET INTRANTS</td>\n",
       "      <td>False</td>\n",
       "      <td>JANVIER MARS 2025</td>\n",
       "      <td>AUTHORIZED</td>\n",
       "      <td>AKIA Chiadon armelle nadia</td>\n",
       "      <td>2025-04-04T00:00:00Z</td>\n",
       "      <td>2025-04-04T00:00:00Z</td>\n",
       "      <td>8 10:32:55</td>\n",
       "    </tr>\n",
       "  </tbody>\n",
       "</table>\n",
       "</div>"
      ],
      "text/plain": [
       "      region  id_region_esigl      code                          facility  \\\n",
       "0  ABIDJAN 2                3  60200130  CENTRE  ANTITUBERCULEUX KOUMASSI   \n",
       "1  ABIDJAN 2                3  60300140             CSU COM GONZAGUEVILLE   \n",
       "2       NAWA              150  41200010              HOPITAL GENERAL BUYO   \n",
       "\n",
       "           district  id_district_esigl                                program  \\\n",
       "0          KOUMASSI                152           PNLT-PRODUITS DE LABORATOIRE   \n",
       "1  PORT BOUET-VRIDI                 71  PNLT-SENSIBLE MEDICAMENTS ET INTRANTS   \n",
       "2              BUYO                107  PNLT-SENSIBLE MEDICAMENTS ET INTRANTS   \n",
       "\n",
       "   cde_urgente             period      statut  \\\n",
       "0        False  JANVIER MARS 2025  AUTHORIZED   \n",
       "1        False  JANVIER MARS 2025  AUTHORIZED   \n",
       "2        False  JANVIER MARS 2025  AUTHORIZED   \n",
       "\n",
       "                                   user       date_soumission  \\\n",
       "0  KOUABENAN Abenan Bio Ange Christelle  2025-04-07T00:00:00Z   \n",
       "1                        SIDIBE Abibata  2025-04-03T00:00:00Z   \n",
       "2            AKIA Chiadon armelle nadia  2025-04-04T00:00:00Z   \n",
       "\n",
       "      date_autorisation    time_ago  \n",
       "0  2025-04-07T00:00:00Z  5 12:01:35  \n",
       "1  2025-04-05T00:00:00Z  7 13:16:31  \n",
       "2  2025-04-04T00:00:00Z  8 10:32:55  "
      ]
     },
     "execution_count": 15,
     "metadata": {},
     "output_type": "execute_result"
    }
   ],
   "source": [
    "df_transmission = metabase.get_data_from_sql_query(\n",
    "    queries.QUERY_TRANSMISSION.format(\n",
    "        date_report=date_utils.get_date_report(date_report)\n",
    "    )\n",
    ")\n",
    "\n",
    "# Les établissements ne sont plus censé faire des rapportages sur ce programme spécifique\n",
    "df_transmission[\"program\"] = df_transmission[\"program\"].str.replace(\n",
    "    \"PNSME-MEDICAMENTS ET INTRANTS\", \"PNSME_GRATUITE:MEDICAMENTS ET INTRANTS\"\n",
    ")\n",
    "\n",
    "df_transmission.head(3)"
   ]
  },
  {
   "cell_type": "markdown",
   "id": "af5f5c5e-8643-4718-b5ab-b6d034bef314",
   "metadata": {
    "papermill": {
     "duration": 0.174206,
     "end_time": "2025-04-12T23:38:56.509719",
     "exception": false,
     "start_time": "2025-04-12T23:38:56.335513",
     "status": "completed"
    },
    "tags": []
   },
   "source": [
    "## 📌 4. Extraction des données eSIGL : `Etat de stock`"
   ]
  },
  {
   "cell_type": "code",
   "execution_count": 16,
   "id": "73b66542-0411-4031-b09b-2f7c68307958",
   "metadata": {
    "execution": {
     "iopub.execute_input": "2025-04-12T23:39:02.314765Z",
     "iopub.status.busy": "2025-04-12T23:39:02.314339Z",
     "iopub.status.idle": "2025-04-12T23:39:22.551911Z",
     "shell.execute_reply": "2025-04-12T23:39:22.550871Z"
    },
    "papermill": {
     "duration": 20.458078,
     "end_time": "2025-04-12T23:39:22.553785",
     "exception": false,
     "start_time": "2025-04-12T23:39:02.095707",
     "status": "completed"
    },
    "tags": []
   },
   "outputs": [
    {
     "data": {
      "text/html": [
       "<div>\n",
       "<style scoped>\n",
       "    .dataframe tbody tr th:only-of-type {\n",
       "        vertical-align: middle;\n",
       "    }\n",
       "\n",
       "    .dataframe tbody tr th {\n",
       "        vertical-align: top;\n",
       "    }\n",
       "\n",
       "    .dataframe thead th {\n",
       "        text-align: right;\n",
       "    }\n",
       "</style>\n",
       "<table border=\"1\" class=\"dataframe\">\n",
       "  <thead>\n",
       "    <tr style=\"text-align: right;\">\n",
       "      <th></th>\n",
       "      <th>commande_urgente</th>\n",
       "      <th>programme</th>\n",
       "      <th>periode</th>\n",
       "      <th>region</th>\n",
       "      <th>id_region_esigl</th>\n",
       "      <th>district</th>\n",
       "      <th>id_district_esigl</th>\n",
       "      <th>code</th>\n",
       "      <th>etablissement</th>\n",
       "      <th>type_structure</th>\n",
       "      <th>categorie_produit</th>\n",
       "      <th>code_produit</th>\n",
       "      <th>designation</th>\n",
       "      <th>unite</th>\n",
       "      <th>stock_initial</th>\n",
       "      <th>quantite_recue</th>\n",
       "      <th>quantite_distribuee</th>\n",
       "      <th>perte_ajustement</th>\n",
       "      <th>sdu</th>\n",
       "      <th>cmm</th>\n",
       "      <th>nbrejrsrupture</th>\n",
       "      <th>quantite_proposee</th>\n",
       "      <th>quantite_commandee</th>\n",
       "      <th>quantite_approuvee</th>\n",
       "      <th>explication_de_la_qte_cmdee</th>\n",
       "    </tr>\n",
       "  </thead>\n",
       "  <tbody>\n",
       "    <tr>\n",
       "      <th>0</th>\n",
       "      <td>False</td>\n",
       "      <td>PNLT-SENSIBLE MEDICAMENTS ET INTRANTS</td>\n",
       "      <td>JANVIER MARS 2025</td>\n",
       "      <td>IFFOU</td>\n",
       "      <td>148</td>\n",
       "      <td>DAOUKRO</td>\n",
       "      <td>54</td>\n",
       "      <td>62600030</td>\n",
       "      <td>CENTRE ANTITUBERCULEUX DAOUKRO</td>\n",
       "      <td>FORMATION SANITAIRE</td>\n",
       "      <td>PRODUITS PNLT ADULTE</td>\n",
       "      <td>3050350</td>\n",
       "      <td>RH 150 (RIFAmpICINE150 - ISONIAZIDE75) comp. B...</td>\n",
       "      <td>COMPRIME</td>\n",
       "      <td>9316</td>\n",
       "      <td>9408</td>\n",
       "      <td>8992</td>\n",
       "      <td>-2399</td>\n",
       "      <td>7333</td>\n",
       "      <td>1007</td>\n",
       "      <td>0</td>\n",
       "      <td>0</td>\n",
       "      <td>10793</td>\n",
       "      <td>10793</td>\n",
       "      <td>RAS</td>\n",
       "    </tr>\n",
       "    <tr>\n",
       "      <th>1</th>\n",
       "      <td>False</td>\n",
       "      <td>PNLT-SENSIBLE MEDICAMENTS ET INTRANTS</td>\n",
       "      <td>JANVIER MARS 2025</td>\n",
       "      <td>IFFOU</td>\n",
       "      <td>148</td>\n",
       "      <td>DAOUKRO</td>\n",
       "      <td>54</td>\n",
       "      <td>62600030</td>\n",
       "      <td>CENTRE ANTITUBERCULEUX DAOUKRO</td>\n",
       "      <td>FORMATION SANITAIRE</td>\n",
       "      <td>PRODUITS PNLT ADULTE</td>\n",
       "      <td>3050356</td>\n",
       "      <td>RHZE (RIFAMP 150 - ISON 75 - PYRAZ 400 - ETHAM...</td>\n",
       "      <td>COMPRIME</td>\n",
       "      <td>8862</td>\n",
       "      <td>0</td>\n",
       "      <td>5251</td>\n",
       "      <td>-2016</td>\n",
       "      <td>1595</td>\n",
       "      <td>591</td>\n",
       "      <td>0</td>\n",
       "      <td>1951</td>\n",
       "      <td>9049</td>\n",
       "      <td>9049</td>\n",
       "      <td>RAS</td>\n",
       "    </tr>\n",
       "    <tr>\n",
       "      <th>2</th>\n",
       "      <td>False</td>\n",
       "      <td>PNLT-SENSIBLE MEDICAMENTS ET INTRANTS</td>\n",
       "      <td>JANVIER MARS 2025</td>\n",
       "      <td>IFFOU</td>\n",
       "      <td>148</td>\n",
       "      <td>DAOUKRO</td>\n",
       "      <td>54</td>\n",
       "      <td>62600030</td>\n",
       "      <td>CENTRE ANTITUBERCULEUX DAOUKRO</td>\n",
       "      <td>FORMATION SANITAIRE</td>\n",
       "      <td>PRODUITS PNLT ENFANT</td>\n",
       "      <td>3050208</td>\n",
       "      <td>E 100 (ETHAMBUTOL) 100 mg comp. Dispersible BT...</td>\n",
       "      <td>COMPRIME</td>\n",
       "      <td>622</td>\n",
       "      <td>0</td>\n",
       "      <td>172</td>\n",
       "      <td>-450</td>\n",
       "      <td>0</td>\n",
       "      <td>54</td>\n",
       "      <td>58</td>\n",
       "      <td>324</td>\n",
       "      <td>966</td>\n",
       "      <td>966</td>\n",
       "      <td>RAS</td>\n",
       "    </tr>\n",
       "  </tbody>\n",
       "</table>\n",
       "</div>"
      ],
      "text/plain": [
       "   commande_urgente                              programme            periode  \\\n",
       "0             False  PNLT-SENSIBLE MEDICAMENTS ET INTRANTS  JANVIER MARS 2025   \n",
       "1             False  PNLT-SENSIBLE MEDICAMENTS ET INTRANTS  JANVIER MARS 2025   \n",
       "2             False  PNLT-SENSIBLE MEDICAMENTS ET INTRANTS  JANVIER MARS 2025   \n",
       "\n",
       "  region  id_region_esigl district  id_district_esigl      code  \\\n",
       "0  IFFOU              148  DAOUKRO                 54  62600030   \n",
       "1  IFFOU              148  DAOUKRO                 54  62600030   \n",
       "2  IFFOU              148  DAOUKRO                 54  62600030   \n",
       "\n",
       "                     etablissement       type_structure     categorie_produit  \\\n",
       "0   CENTRE ANTITUBERCULEUX DAOUKRO  FORMATION SANITAIRE  PRODUITS PNLT ADULTE   \n",
       "1   CENTRE ANTITUBERCULEUX DAOUKRO  FORMATION SANITAIRE  PRODUITS PNLT ADULTE   \n",
       "2   CENTRE ANTITUBERCULEUX DAOUKRO  FORMATION SANITAIRE  PRODUITS PNLT ENFANT   \n",
       "\n",
       "  code_produit                                        designation     unite  \\\n",
       "0      3050350  RH 150 (RIFAmpICINE150 - ISONIAZIDE75) comp. B...  COMPRIME   \n",
       "1      3050356  RHZE (RIFAMP 150 - ISON 75 - PYRAZ 400 - ETHAM...  COMPRIME   \n",
       "2      3050208  E 100 (ETHAMBUTOL) 100 mg comp. Dispersible BT...  COMPRIME   \n",
       "\n",
       "   stock_initial  quantite_recue  quantite_distribuee  perte_ajustement   sdu  \\\n",
       "0           9316            9408                 8992             -2399  7333   \n",
       "1           8862               0                 5251             -2016  1595   \n",
       "2            622               0                  172              -450     0   \n",
       "\n",
       "    cmm  nbrejrsrupture  quantite_proposee  quantite_commandee  \\\n",
       "0  1007               0                  0               10793   \n",
       "1   591               0               1951                9049   \n",
       "2    54              58                324                 966   \n",
       "\n",
       "   quantite_approuvee explication_de_la_qte_cmdee  \n",
       "0               10793                         RAS  \n",
       "1                9049                         RAS  \n",
       "2                 966                         RAS  "
      ]
     },
     "execution_count": 16,
     "metadata": {},
     "output_type": "execute_result"
    }
   ],
   "source": [
    "df_etat_stock = metabase.get_data_from_sql_query(\n",
    "    queries.QUERY_ETAT_STOCK.format(date_report=date_utils.get_date_report(date_report))\n",
    ")\n",
    "\n",
    "df_etat_stock[\"programme\"] = df_etat_stock[\"programme\"].str.replace(\n",
    "    \"PNSME-MEDICAMENTS ET INTRANTS\", \"PNSME_GRATUITE:MEDICAMENTS ET INTRANTS\"\n",
    ")\n",
    "\n",
    "df_etat_stock.head(3)"
   ]
  },
  {
   "cell_type": "markdown",
   "id": "6d2803b9-a8ea-41b2-bd63-2201bb57dd6b",
   "metadata": {
    "papermill": {
     "duration": 0.214518,
     "end_time": "2025-04-12T23:39:23.038676",
     "exception": false,
     "start_time": "2025-04-12T23:39:22.824158",
     "status": "completed"
    },
    "tags": []
   },
   "source": [
    "# 📊 Calcul des Indicateurs `(1/3)`\n",
    "\n",
    "Cette étape consiste à **traiter les données du mois en cours** afin de calculer les indicateurs de performance, notamment :  \n",
    "- **Complétude** : mesure le taux de soumission des données attendues.  \n",
    "- **Promptitude** : évalue la rapidité avec laquelle les données sont transmises.\n",
    "- **Etat de Stock**: informations sur les états de stock des différents produits.\n",
    "\n",
    "Une fois calculés, ces indicateurs sont intégrés au **rapport de feedback**, qui sera ensuite exporté pour être accessible aux utilisateurs."
   ]
  },
  {
   "cell_type": "code",
   "execution_count": 17,
   "id": "07fe4d86-c85b-4b42-be39-f7075c444748",
   "metadata": {
    "execution": {
     "iopub.execute_input": "2025-04-12T23:39:23.457181Z",
     "iopub.status.busy": "2025-04-12T23:39:23.456781Z",
     "iopub.status.idle": "2025-04-12T23:39:32.227450Z",
     "shell.execute_reply": "2025-04-12T23:39:32.226281Z"
    },
    "papermill": {
     "duration": 8.983783,
     "end_time": "2025-04-12T23:39:32.229525",
     "exception": false,
     "start_time": "2025-04-12T23:39:23.245742",
     "status": "completed"
    },
    "tags": []
   },
   "outputs": [
    {
     "name": "stdout",
     "output_type": "stream",
     "text": [
      "CPU times: user 8.79 s, sys: 0 ns, total: 8.79 s\n",
      "Wall time: 8.76 s\n"
     ]
    }
   ],
   "source": [
    "%%time\n",
    "df_ets, df_region = compute_indicators.compute_indicators_completeness_and_promptness(\n",
    "    df_site_attendu.copy(), df_transmission.copy(), date_report\n",
    ")"
   ]
  },
  {
   "cell_type": "markdown",
   "id": "7d15fc13-cfa1-42b3-83a3-4e4d43d8744b",
   "metadata": {
    "papermill": {
     "duration": 0.189336,
     "end_time": "2025-04-12T23:39:32.621537",
     "exception": false,
     "start_time": "2025-04-12T23:39:32.432201",
     "status": "completed"
    },
    "tags": []
   },
   "source": [
    "## 📄 Génération du Fichier Excel `(1/2)`\n",
    "\n",
    "Cette étape permet de **générer un fichier Excel** contenant les indicateurs calculés et les données consolidées du rapport de feedback.  \n",
    "Une fois le fichier créé, un **lien d’accès** est intégré dans le tableau de bord afin que les utilisateurs puissent le consulter et le télécharger facilement.  "
   ]
  },
  {
   "cell_type": "code",
   "execution_count": 18,
   "id": "453592ed-56b2-4247-b722-3538710d7751",
   "metadata": {
    "execution": {
     "iopub.execute_input": "2025-04-12T23:39:33.049713Z",
     "iopub.status.busy": "2025-04-12T23:39:33.049326Z",
     "iopub.status.idle": "2025-04-12T23:46:14.635015Z",
     "shell.execute_reply": "2025-04-12T23:46:14.633903Z"
    },
    "papermill": {
     "duration": 401.805714,
     "end_time": "2025-04-12T23:46:14.637647",
     "exception": false,
     "start_time": "2025-04-12T23:39:32.831933",
     "status": "completed"
    },
    "tags": []
   },
   "outputs": [],
   "source": [
    "src_file = (\n",
    "    Path(workspace.files_path)\n",
    "    / \"Rapport Feedback/data/Template Rapport Feedback/RAPPORT FEEDBACK - TEMPLATE.xlsx\"\n",
    ")\n",
    "\n",
    "wb_feedback_report = gfr.load_workbook(src_file.as_posix())"
   ]
  },
  {
   "cell_type": "code",
   "execution_count": 19,
   "id": "fd1ac321-1786-4e3d-b539-ccf0d609eaf3",
   "metadata": {
    "execution": {
     "iopub.execute_input": "2025-04-12T23:46:15.340822Z",
     "iopub.status.busy": "2025-04-12T23:46:15.340419Z",
     "iopub.status.idle": "2025-04-12T23:46:18.142869Z",
     "shell.execute_reply": "2025-04-12T23:46:18.141985Z"
    },
    "papermill": {
     "duration": 3.001513,
     "end_time": "2025-04-12T23:46:18.144842",
     "exception": false,
     "start_time": "2025-04-12T23:46:15.143329",
     "status": "completed"
    },
    "tags": []
   },
   "outputs": [
    {
     "name": "stdout",
     "output_type": "stream",
     "text": [
      "CPU times: user 2.79 s, sys: 1.8 ms, total: 2.8 s\n",
      "Wall time: 2.8 s\n"
     ]
    }
   ],
   "source": [
    "%%time\n",
    "gfr.export_detail_comp_promp_to_sheet(\n",
    "    wb_feedback_report, df_ets.copy(), df_region.copy(), date_report\n",
    ")"
   ]
  },
  {
   "cell_type": "markdown",
   "id": "1bc53552-bddd-4167-8d4b-1e222812908a",
   "metadata": {
    "papermill": {
     "duration": 0.201516,
     "end_time": "2025-04-12T23:46:18.554700",
     "exception": false,
     "start_time": "2025-04-12T23:46:18.353184",
     "status": "completed"
    },
    "tags": []
   },
   "source": [
    "## 📊 Suite du Calcul des Indicateurs `(2/3)`\n",
    "\n",
    "Cette étape poursuit le traitement des données en complétant le calcul des indicateurs clés pour le rapport de feedback.  \n",
    "Elle permet de finaliser les analyses et d’assurer la cohérence des résultats avant leur exportation.  "
   ]
  },
  {
   "cell_type": "code",
   "execution_count": 20,
   "id": "d4958512-6684-4c9e-8136-e45a6ef49e52",
   "metadata": {
    "execution": {
     "iopub.execute_input": "2025-04-12T23:46:19.013075Z",
     "iopub.status.busy": "2025-04-12T23:46:19.011872Z",
     "iopub.status.idle": "2025-04-12T23:47:09.775432Z",
     "shell.execute_reply": "2025-04-12T23:47:09.774226Z"
    },
    "papermill": {
     "duration": 51.173355,
     "end_time": "2025-04-12T23:47:10.010652",
     "exception": false,
     "start_time": "2025-04-12T23:46:18.837297",
     "status": "completed"
    },
    "tags": []
   },
   "outputs": [
    {
     "name": "stdout",
     "output_type": "stream",
     "text": [
      "CPU times: user 50.7 s, sys: 26.7 ms, total: 50.7 s\n",
      "Wall time: 50.8 s\n"
     ]
    }
   ],
   "source": [
    "%%time\n",
    "(\n",
    "    df_etat_stock,\n",
    "    stock_lvl_decent,\n",
    "    stock_region,\n",
    ") = compute_indicators.analyze_product_stock_status_indicators(\n",
    "    df_prod_traceurs.copy(), df_etat_stock.copy(), date_report\n",
    ")"
   ]
  },
  {
   "cell_type": "markdown",
   "id": "07da741e-c18b-43c3-98c3-702708e1de22",
   "metadata": {
    "papermill": {
     "duration": 0.1937,
     "end_time": "2025-04-12T23:47:10.405966",
     "exception": false,
     "start_time": "2025-04-12T23:47:10.212266",
     "status": "completed"
    },
    "tags": []
   },
   "source": [
    "## 📄 Génération Finale du Fichier Excel `(2/2)`\r\n"
   ]
  },
  {
   "cell_type": "code",
   "execution_count": 21,
   "id": "74a87f9b-de55-498e-8cdc-283ce06cc9a4",
   "metadata": {
    "execution": {
     "iopub.execute_input": "2025-04-12T23:47:10.794545Z",
     "iopub.status.busy": "2025-04-12T23:47:10.794130Z",
     "iopub.status.idle": "2025-04-12T23:49:14.519637Z",
     "shell.execute_reply": "2025-04-12T23:49:14.518175Z"
    },
    "papermill": {
     "duration": 124.346543,
     "end_time": "2025-04-12T23:49:14.946553",
     "exception": false,
     "start_time": "2025-04-12T23:47:10.600010",
     "status": "completed"
    },
    "tags": []
   },
   "outputs": [
    {
     "name": "stdout",
     "output_type": "stream",
     "text": [
      "CPU times: user 2min 3s, sys: 400 ms, total: 2min 3s\n",
      "Wall time: 2min 3s\n"
     ]
    }
   ],
   "source": [
    "%%time\n",
    "gfr.export_stock_data_to_sheet(wb_feedback_report, df_etat_stock.copy())"
   ]
  },
  {
   "cell_type": "code",
   "execution_count": 22,
   "id": "0601f565-4ead-49c3-a12b-cfe8ee2bbb38",
   "metadata": {
    "execution": {
     "iopub.execute_input": "2025-04-12T23:49:15.391489Z",
     "iopub.status.busy": "2025-04-12T23:49:15.391046Z",
     "iopub.status.idle": "2025-04-12T23:49:23.480155Z",
     "shell.execute_reply": "2025-04-12T23:49:23.479027Z"
    },
    "papermill": {
     "duration": 8.31025,
     "end_time": "2025-04-12T23:49:23.481834",
     "exception": false,
     "start_time": "2025-04-12T23:49:15.171584",
     "status": "completed"
    },
    "tags": []
   },
   "outputs": [
    {
     "name": "stdout",
     "output_type": "stream",
     "text": [
      "CPU times: user 8.07 s, sys: 5.79 ms, total: 8.08 s\n",
      "Wall time: 8.08 s\n"
     ]
    }
   ],
   "source": [
    "%%time\n",
    "# Date report doit être révue pour prendre le 11 du mois en cours\n",
    "gfr.export_stock_region_to_sheet(\n",
    "    wb_feedback_report,\n",
    "    stock_lvl_decent.copy(),\n",
    "    stock_region.copy(),\n",
    "    date_report=pd.to_datetime(date_report).replace(day=11).strftime(\"%Y/%m/%d\"),\n",
    ")"
   ]
  },
  {
   "cell_type": "code",
   "execution_count": 23,
   "id": "db675e76-4de7-4c84-8ddc-af1a98b75064",
   "metadata": {
    "execution": {
     "iopub.execute_input": "2025-04-12T23:49:23.923833Z",
     "iopub.status.busy": "2025-04-12T23:49:23.923462Z",
     "iopub.status.idle": "2025-04-12T23:49:52.352013Z",
     "shell.execute_reply": "2025-04-12T23:49:52.350814Z"
    },
    "papermill": {
     "duration": 28.651135,
     "end_time": "2025-04-12T23:49:52.354183",
     "exception": false,
     "start_time": "2025-04-12T23:49:23.703048",
     "status": "completed"
    },
    "tags": []
   },
   "outputs": [],
   "source": [
    "# Sauvegarde du fichier dans un repertoire courant\n",
    "dest_file = (\n",
    "    Path(workspace.files_path)\n",
    "    / f\"Rapport Feedback/code/pipelines/rapport feedback genere/{date_report[:4]}\"\n",
    ")\n",
    "dest_file.mkdir(exist_ok=True, parents=True)\n",
    "\n",
    "dest_file = dest_file / f\"RapportFeedBack-{month_export.upper()}-{date_report[:4]}.xlsx\"\n",
    "\n",
    "wb_feedback_report.save(dest_file.as_posix())\n",
    "\n",
    "del wb_feedback_report"
   ]
  },
  {
   "cell_type": "markdown",
   "id": "f5fbb52c-d238-4c6f-98ef-00a78d080be5",
   "metadata": {
    "papermill": {
     "duration": 0.177982,
     "end_time": "2025-04-12T23:49:52.797645",
     "exception": false,
     "start_time": "2025-04-12T23:49:52.619663",
     "status": "completed"
    },
    "tags": []
   },
   "source": [
    "## 📊 Suite du Calcul des Indicateurs `(3/3)`"
   ]
  },
  {
   "cell_type": "code",
   "execution_count": 24,
   "id": "fa9a00de-fe01-47d7-a943-431a0ed29b37",
   "metadata": {
    "execution": {
     "iopub.execute_input": "2025-04-12T23:49:53.131739Z",
     "iopub.status.busy": "2025-04-12T23:49:53.131292Z",
     "iopub.status.idle": "2025-04-12T23:49:55.242888Z",
     "shell.execute_reply": "2025-04-12T23:49:55.241764Z"
    },
    "papermill": {
     "duration": 2.272266,
     "end_time": "2025-04-12T23:49:55.244832",
     "exception": false,
     "start_time": "2025-04-12T23:49:52.972566",
     "status": "completed"
    },
    "tags": []
   },
   "outputs": [
    {
     "name": "stdout",
     "output_type": "stream",
     "text": [
      "CPU times: user 2.1 s, sys: 1.92 ms, total: 2.11 s\n",
      "Wall time: 2.11 s\n"
     ]
    }
   ],
   "source": [
    "%%time\n",
    "(\n",
    "    stock_lvl_decent,\n",
    "    stock_region,\n",
    "    df_sheet_two,\n",
    "    stock_region_with_central,\n",
    ") = compute_indicators.aggregate_regional_stock_availability_metrics(\n",
    "    stock_lvl_decent.copy(), stock_region.copy()\n",
    ")"
   ]
  },
  {
   "attachments": {},
   "cell_type": "markdown",
   "id": "230f2328-a9bb-4663-9dc2-e17f64fd525f",
   "metadata": {
    "papermill": {
     "duration": 0.79084,
     "end_time": "2025-04-12T23:49:56.206856",
     "exception": false,
     "start_time": "2025-04-12T23:49:55.416016",
     "status": "completed"
    },
    "tags": []
   },
   "source": [
    "# Exportation des données vers la base des données"
   ]
  },
  {
   "cell_type": "markdown",
   "id": "851d680b-5fc8-422b-97cf-58883fb3c9c2",
   "metadata": {
    "papermill": {
     "duration": 1.702074,
     "end_time": "2025-04-12T23:49:58.604723",
     "exception": false,
     "start_time": "2025-04-12T23:49:56.902649",
     "status": "completed"
    },
    "tags": []
   },
   "source": [
    "## Export du lien du fichier vers le répertoire drive"
   ]
  },
  {
   "cell_type": "code",
   "execution_count": 25,
   "id": "75c244b6-83ae-434f-8dfc-ac70e871e769",
   "metadata": {
    "execution": {
     "iopub.execute_input": "2025-04-12T23:50:00.093829Z",
     "iopub.status.busy": "2025-04-12T23:50:00.093423Z",
     "iopub.status.idle": "2025-04-12T23:50:04.763189Z",
     "shell.execute_reply": "2025-04-12T23:50:04.761822Z"
    },
    "papermill": {
     "duration": 5.615402,
     "end_time": "2025-04-12T23:50:04.765204",
     "exception": false,
     "start_time": "2025-04-12T23:49:59.149802",
     "status": "completed"
    },
    "tags": []
   },
   "outputs": [
    {
     "name": "stdout",
     "output_type": "stream",
     "text": [
      "Fichier trouvé : RAPPORTFEEDBACK-MARS-2025.XLSX (ID: 1ltXi0Mtp-esECp4MxUVPki7ooM9fS-M1)\n"
     ]
    },
    {
     "name": "stdout",
     "output_type": "stream",
     "text": [
      "Fichier supprimé : RAPPORTFEEDBACK-MARS-2025.XLSX\n"
     ]
    }
   ],
   "source": [
    "share_link = upload_file_to_drive.upload_file_and_get_share_link(\n",
    "    dest_file.as_posix(), date_report=date_report\n",
    ")\n",
    "\n",
    "df_share_link = pd.DataFrame(\n",
    "    data=[{\"share_link\": share_link, \"date_report\": pd.to_datetime(date_report)}]\n",
    ")\n",
    "\n",
    "db_ops.civ_cursor.execute(\n",
    "    f\"\"\"\n",
    "DELETE FROM {schema_name}.share_link_fbr\n",
    "WHERE date_report = '{date_report}'\n",
    "\"\"\"\n",
    ")\n",
    "\n",
    "db_ops.conn.commit()\n",
    "\n",
    "df_share_link.to_sql(\n",
    "    \"share_link_fbr\",\n",
    "    con=db_ops.civ_engine,\n",
    "    schema=schema_name,\n",
    "    index=False,\n",
    "    if_exists=\"append\",\n",
    ")\n",
    "\n",
    "db_ops.civ_engine.dispose()\n",
    "\n",
    "del df_share_link"
   ]
  },
  {
   "cell_type": "markdown",
   "id": "567afe0d-0806-4827-adce-cfcfc760e605",
   "metadata": {
    "papermill": {
     "duration": 0.170571,
     "end_time": "2025-04-12T23:50:05.110987",
     "exception": false,
     "start_time": "2025-04-12T23:50:04.940416",
     "status": "completed"
    },
    "tags": []
   },
   "source": [
    "## Exportation des autres tables"
   ]
  },
  {
   "cell_type": "code",
   "execution_count": 26,
   "id": "f22bdf2e-69fe-47c5-ac75-73b2918a7550",
   "metadata": {
    "execution": {
     "iopub.execute_input": "2025-04-12T23:50:05.486390Z",
     "iopub.status.busy": "2025-04-12T23:50:05.485821Z",
     "iopub.status.idle": "2025-04-12T23:50:05.493978Z",
     "shell.execute_reply": "2025-04-12T23:50:05.492657Z"
    },
    "papermill": {
     "duration": 0.191886,
     "end_time": "2025-04-12T23:50:05.496333",
     "exception": false,
     "start_time": "2025-04-12T23:50:05.304447",
     "status": "completed"
    },
    "tags": []
   },
   "outputs": [],
   "source": [
    "# completude_promptitude_par_ets\n",
    "df_comp_promp_ets = df_ets.rename(\n",
    "    columns=lambda x: x.lower().replace(\" \", \"_\").replace(\"-\", \"_\")\n",
    "    if x not in (\"Code\", \"Site\", \"Region\")\n",
    "    else x\n",
    ")\n",
    "\n",
    "# completude_promptitude_attendu_taux_region\n",
    "df_comp_promp_region = df_region.rename(\n",
    "    columns=lambda x: x.lower().replace(\" \", \"_\") if x not in (\"Region\") else x\n",
    ")"
   ]
  },
  {
   "cell_type": "code",
   "execution_count": 27,
   "id": "cf8e1fe3-3722-413b-b5f3-c477efdbc4c0",
   "metadata": {
    "execution": {
     "iopub.execute_input": "2025-04-12T23:50:06.247380Z",
     "iopub.status.busy": "2025-04-12T23:50:06.246850Z",
     "iopub.status.idle": "2025-04-12T23:50:06.254889Z",
     "shell.execute_reply": "2025-04-12T23:50:06.253539Z"
    },
    "papermill": {
     "duration": 0.569902,
     "end_time": "2025-04-12T23:50:06.256877",
     "exception": false,
     "start_time": "2025-04-12T23:50:05.686975",
     "status": "completed"
    },
    "tags": []
   },
   "outputs": [],
   "source": [
    "date_report = pd.to_datetime(date_report).strftime(\"%d-%m-%Y\")"
   ]
  },
  {
   "cell_type": "code",
   "execution_count": 28,
   "id": "bd05188a-0ee8-4c23-8fac-c60a07f5d45f",
   "metadata": {
    "execution": {
     "iopub.execute_input": "2025-04-12T23:50:13.858744Z",
     "iopub.status.busy": "2025-04-12T23:50:13.857934Z",
     "iopub.status.idle": "2025-04-12T23:50:13.868577Z",
     "shell.execute_reply": "2025-04-12T23:50:13.867488Z"
    },
    "papermill": {
     "duration": 0.220602,
     "end_time": "2025-04-12T23:50:13.870487",
     "exception": false,
     "start_time": "2025-04-12T23:50:13.649885",
     "status": "completed"
    },
    "tags": []
   },
   "outputs": [],
   "source": [
    "df_etat_stock[\"date_report\"] = pd.to_datetime(date_report, format=\"%d-%m-%Y\")\n",
    "stock_region_with_central[\"date_report\"] = pd.to_datetime(\n",
    "    date_report, format=\"%d-%m-%Y\"\n",
    ")\n",
    "df_sheet_two[\"date_report\"] = pd.to_datetime(date_report, format=\"%d-%m-%Y\")\n",
    "\n",
    "# Some change here\n",
    "df_comp_promp_ets[\"date_report\"] = pd.to_datetime(date_report, format=\"%d-%m-%Y\")\n",
    "df_comp_promp_region[\"date_report\"] = pd.to_datetime(date_report, format=\"%d-%m-%Y\")"
   ]
  },
  {
   "cell_type": "code",
   "execution_count": 29,
   "id": "0fce1414-e756-4396-9fed-e600bc930091",
   "metadata": {
    "execution": {
     "iopub.execute_input": "2025-04-12T23:50:14.492957Z",
     "iopub.status.busy": "2025-04-12T23:50:14.492445Z",
     "iopub.status.idle": "2025-04-12T23:50:14.502595Z",
     "shell.execute_reply": "2025-04-12T23:50:14.501354Z"
    },
    "jupyter": {
     "source_hidden": true
    },
    "papermill": {
     "duration": 0.454752,
     "end_time": "2025-04-12T23:50:14.504526",
     "exception": false,
     "start_time": "2025-04-12T23:50:14.049774",
     "status": "completed"
    },
    "tags": []
   },
   "outputs": [],
   "source": [
    "df_etat_stock.rename(\n",
    "    columns={\n",
    "        \"CODE\": \"Code_produit\",\n",
    "        \"PROGRAMME\": \"programme_abrv\",\n",
    "        \"SOUS-PROGRAMME\": \"sous_programme\",\n",
    "        \"PERIODE\": \"Periode\",\n",
    "        \"REGION\": \"Region\",\n",
    "        \"DISTRICT\": \"District\",\n",
    "        \"CODE ETS\": \"Code_ets\",\n",
    "        \"STRUCTURE\": \"Structure\",\n",
    "        \"CATEGORIE PRODUIT\": \"cat_produit\",\n",
    "        \"PRODUIT\": \"produit_designation\",\n",
    "        \"UNITE DE RAPPORTAGE\": \"unit_rapportage\",\n",
    "        \"STOCK INITIAL\": \"stock_initial\",\n",
    "        \"QUANTITE RECUE\": \"qte_recue\",\n",
    "        \"QUANTITE UTILISEE\": \"qte_utilisee\",\n",
    "        \"PERTES ET AJUSTEMENT\": \"perte_ajust\",\n",
    "        \"JOURS DE RUPTURE\": \"j_rupture\",\n",
    "        \"SDU\": \"sdu\",\n",
    "        \"CMM ESIGL\": \"cmm_esigl\",\n",
    "        \"CMM gestionnaire\": \"cmm_gest\",\n",
    "        \"QUANTITE PROPOSEE\": \"qte_prop\",\n",
    "        \"QUANTITE COMMANDEE\": \"qte_cmde\",\n",
    "        \"QUANTITE APPROUVEE\": \"qte_approuv\",\n",
    "        \"MSD\": \"msd\",\n",
    "        \"ETAT DU STOCK\": \"etat_stock\",\n",
    "        \"BESOIN CMMMANDE URGENTE\": \"besoin_cmde_urg\",\n",
    "        \"BESOIN TRANSFERT IN\": \"besoin_trsf_in\",\n",
    "        \"QUANTITE A TRANSFERER OUT\": \"qte_trsf_out\",\n",
    "        \"CATEGORIE_DU_PRODUIT\": \"cat_du_produit\",\n",
    "    }, inplace=True)\n",
    "\n",
    "stock_region_with_central.rename(columns={\"Code\": \"Code_produit\", \"MSD\": \"msd\", \"STATUT\": \"Statut\"}, inplace=True)"
   ]
  },
  {
   "cell_type": "markdown",
   "id": "04ecbc11-662e-4a0c-ac7b-42705d0bcafa",
   "metadata": {
    "papermill": {
     "duration": 0.27575,
     "end_time": "2025-04-12T23:50:14.971942",
     "exception": false,
     "start_time": "2025-04-12T23:50:14.696192",
     "status": "completed"
    },
    "tags": []
   },
   "source": [
    "### Mise à jour des dimensions"
   ]
  },
  {
   "cell_type": "markdown",
   "id": "dfe1331f-a313-4972-9067-dcf845809e0e",
   "metadata": {
    "papermill": {
     "duration": 0.218671,
     "end_time": "2025-04-12T23:50:17.940847",
     "exception": false,
     "start_time": "2025-04-12T23:50:17.722176",
     "status": "completed"
    },
    "tags": []
   },
   "source": [
    "#### `Dimensions régions`\n",
    "\n",
    "\n",
    "Cette étape permet de maintenir à jour la **dimension des régions** dans la base de données.  \r\n",
    "Elle garantit que toutes les informations régionales sont alignées avec les mises à jour effectuées dans **eSIGL**\n",
    "\n",
    " 🛠 Actions réalisées :  \r\n",
    "1. **Mise à jour des régions existantes**  \r\n",
    "   - Si des modifications ont été apportées aux régions dans **eSIGL**, elles sont répercutées dans notre base de données.  \r\n",
    "   - Les informations régionales (ex. : noms, codes, identifiants) sont mises à jour pour rester cohérentes avec la source officielle.  \r\n",
    "\r\n",
    "2. **Ajout des nouvelles régions**  \r\n",
    "   - Si certaines régions ne sont pas encore présentes dans notre base, elles sont automatiquement ajoutées.  \r\n",
    "   - Cela garantit que l’ensemble des régions récentes est bien pris en compte dans les analyses et traitements futurs.  \r\n",
    "  "
   ]
  },
  {
   "cell_type": "code",
   "execution_count": 30,
   "id": "4dcda020-262e-4b3a-b8fc-32c319769b11",
   "metadata": {
    "execution": {
     "iopub.execute_input": "2025-04-12T23:50:22.915996Z",
     "iopub.status.busy": "2025-04-12T23:50:22.915450Z",
     "iopub.status.idle": "2025-04-12T23:50:23.017282Z",
     "shell.execute_reply": "2025-04-12T23:50:23.015983Z"
    },
    "papermill": {
     "duration": 0.316602,
     "end_time": "2025-04-12T23:50:23.019257",
     "exception": false,
     "start_time": "2025-04-12T23:50:22.702655",
     "status": "completed"
    },
    "tags": []
   },
   "outputs": [
    {
     "data": {
      "text/html": [
       "<div>\n",
       "<style scoped>\n",
       "    .dataframe tbody tr th:only-of-type {\n",
       "        vertical-align: middle;\n",
       "    }\n",
       "\n",
       "    .dataframe tbody tr th {\n",
       "        vertical-align: top;\n",
       "    }\n",
       "\n",
       "    .dataframe thead th {\n",
       "        text-align: right;\n",
       "    }\n",
       "</style>\n",
       "<table border=\"1\" class=\"dataframe\">\n",
       "  <thead>\n",
       "    <tr style=\"text-align: right;\">\n",
       "      <th></th>\n",
       "      <th>Region</th>\n",
       "      <th>id_region_esigl</th>\n",
       "      <th>Code_region</th>\n",
       "      <th>Region_existing</th>\n",
       "      <th>region_order</th>\n",
       "    </tr>\n",
       "  </thead>\n",
       "  <tbody>\n",
       "  </tbody>\n",
       "</table>\n",
       "</div>"
      ],
      "text/plain": [
       "Empty DataFrame\n",
       "Columns: [Region, id_region_esigl, Code_region, Region_existing, region_order]\n",
       "Index: []"
      ]
     },
     "execution_count": 30,
     "metadata": {},
     "output_type": "execute_result"
    }
   ],
   "source": [
    "# Recherche des nouvelles régions et modifications sur les régions survenues au cours de la période dans eSIGL\n",
    "df_new_region = update_dimension.update_dimension_table(\n",
    "    dimension_name=\"dim_region\",\n",
    "    source_dfs=[\n",
    "        df_transmission[[\"region\", \"id_region_esigl\"]].rename(\n",
    "            columns={\"region\": \"Region\"}\n",
    "        ),\n",
    "        df_etat_stock[[\"Region\", \"id_region_esigl\"]],\n",
    "    ],\n",
    "    merge_on=[\"id_region_esigl\"],\n",
    "    change_columns=[\"Region\"],\n",
    "    code_generation=partial(update_dimension.region_code_generation, metabase=metabase),\n",
    "    schema_name=schema_name,\n",
    ")\n",
    "\n",
    "df_new_region.head(3)"
   ]
  },
  {
   "cell_type": "code",
   "execution_count": 31,
   "id": "35f32f33-7697-4db4-9dac-9d0ab525bbf4",
   "metadata": {
    "execution": {
     "iopub.execute_input": "2025-04-12T23:50:23.384031Z",
     "iopub.status.busy": "2025-04-12T23:50:23.382784Z",
     "iopub.status.idle": "2025-04-12T23:50:23.388655Z",
     "shell.execute_reply": "2025-04-12T23:50:23.387200Z"
    },
    "papermill": {
     "duration": 0.183359,
     "end_time": "2025-04-12T23:50:23.390332",
     "exception": false,
     "start_time": "2025-04-12T23:50:23.206973",
     "status": "completed"
    },
    "tags": []
   },
   "outputs": [],
   "source": [
    "# Mise à jour des informations au niveau de la base de données\n",
    "upsert_table.upsert_table(\n",
    "    df_new_region, \"dim_region\", schema_name, engine=db_ops.civ_engine\n",
    ")\n",
    "\n",
    "del df_new_region"
   ]
  },
  {
   "cell_type": "code",
   "execution_count": 32,
   "id": "c67951f7-d439-44e6-b022-295a87335951",
   "metadata": {
    "execution": {
     "iopub.execute_input": "2025-04-12T23:50:23.728740Z",
     "iopub.status.busy": "2025-04-12T23:50:23.728355Z",
     "iopub.status.idle": "2025-04-12T23:50:23.748648Z",
     "shell.execute_reply": "2025-04-12T23:50:23.747432Z"
    },
    "papermill": {
     "duration": 0.198779,
     "end_time": "2025-04-12T23:50:23.750564",
     "exception": false,
     "start_time": "2025-04-12T23:50:23.551785",
     "status": "completed"
    },
    "tags": []
   },
   "outputs": [
    {
     "data": {
      "text/html": [
       "<div>\n",
       "<style scoped>\n",
       "    .dataframe tbody tr th:only-of-type {\n",
       "        vertical-align: middle;\n",
       "    }\n",
       "\n",
       "    .dataframe tbody tr th {\n",
       "        vertical-align: top;\n",
       "    }\n",
       "\n",
       "    .dataframe thead th {\n",
       "        text-align: right;\n",
       "    }\n",
       "</style>\n",
       "<table border=\"1\" class=\"dataframe\">\n",
       "  <thead>\n",
       "    <tr style=\"text-align: right;\">\n",
       "      <th></th>\n",
       "      <th>Code_region</th>\n",
       "      <th>Region</th>\n",
       "      <th>region_order</th>\n",
       "      <th>id_region_esigl</th>\n",
       "    </tr>\n",
       "  </thead>\n",
       "  <tbody>\n",
       "    <tr>\n",
       "      <th>0</th>\n",
       "      <td>NAT</td>\n",
       "      <td>NATIONAL</td>\n",
       "      <td>1</td>\n",
       "      <td>NaN</td>\n",
       "    </tr>\n",
       "    <tr>\n",
       "      <th>1</th>\n",
       "      <td>N-PSP</td>\n",
       "      <td>NOUVELLE PSP</td>\n",
       "      <td>0</td>\n",
       "      <td>NaN</td>\n",
       "    </tr>\n",
       "  </tbody>\n",
       "</table>\n",
       "</div>"
      ],
      "text/plain": [
       "  Code_region        Region  region_order  id_region_esigl\n",
       "0         NAT      NATIONAL             1              NaN\n",
       "1       N-PSP  NOUVELLE PSP             0              NaN"
      ]
     },
     "execution_count": 32,
     "metadata": {},
     "output_type": "execute_result"
    }
   ],
   "source": [
    "df_region = db_ops.get_data_from_database(\"dim_region\")\n",
    "\n",
    "df_region.head(2)"
   ]
  },
  {
   "cell_type": "markdown",
   "id": "cc04f7ba-a6f5-4663-9545-d7ce64e6fdd9",
   "metadata": {
    "papermill": {
     "duration": 3.430233,
     "end_time": "2025-04-12T23:50:28.128386",
     "exception": false,
     "start_time": "2025-04-12T23:50:24.698153",
     "status": "completed"
    },
    "tags": []
   },
   "source": [
    "#### `Dimension districts`\n",
    "\n",
    "Mise à Jour et Ajout d'Informations Complémentaires  \n",
    "\n",
    "Avant d'exécuter le traitement, il est **essentiel** de mettre à jour les informations si des modifications ont été effectuées dans **eSIGL**, notamment sur les districts.  \n",
    "\n",
    "Étapes à suivre :  \n",
    "1. **Vérification et mise à jour des informations existantes**  \n",
    "   - Si des districts ont été modifiés ou ajoutés dans **eSIGL**, il faut s'assurer que ces changements sont bien répercutés dans les données utilisées.  \n",
    "\n",
    "2. **Ajout des informations complémentaires**  \n",
    "   - Une fois la mise à jour effectuée, il est nécessaire d'ajouter toutes les informations additionnelles requises pour le bon fonctionnement du processus."
   ]
  },
  {
   "cell_type": "code",
   "execution_count": 33,
   "id": "806cb5c3-b781-448a-af07-f70082b08ba9",
   "metadata": {
    "execution": {
     "iopub.execute_input": "2025-04-12T23:50:32.420532Z",
     "iopub.status.busy": "2025-04-12T23:50:32.419381Z",
     "iopub.status.idle": "2025-04-12T23:50:32.465764Z",
     "shell.execute_reply": "2025-04-12T23:50:32.464611Z"
    },
    "papermill": {
     "duration": 0.269229,
     "end_time": "2025-04-12T23:50:32.467955",
     "exception": false,
     "start_time": "2025-04-12T23:50:32.198726",
     "status": "completed"
    },
    "tags": []
   },
   "outputs": [],
   "source": [
    "df_new_district = update_dimension.update_dimension_table(\n",
    "    dimension_name=\"dim_district\",\n",
    "    source_dfs=[\n",
    "        df_transmission[[\"id_region_esigl\", \"district\", \"id_district_esigl\"]].rename(\n",
    "            columns={\"district\": \"District\"}\n",
    "        ),\n",
    "        df_etat_stock[[\"id_region_esigl\", \"District\", \"id_district_esigl\"]],\n",
    "    ],\n",
    "    merge_on=[\"id_district_esigl\"],\n",
    "    change_columns=[\"District\"],\n",
    "    code_generation=partial(\n",
    "        update_dimension.district_code_generation,\n",
    "        tb_region=\"dim_region\",\n",
    "        schema_name=schema_name,\n",
    "    ),\n",
    "    schema_name=schema_name,\n",
    ")"
   ]
  },
  {
   "cell_type": "code",
   "execution_count": 34,
   "id": "45501e53-073e-4d94-b30b-7752526be3d7",
   "metadata": {
    "execution": {
     "iopub.execute_input": "2025-04-12T23:50:32.824397Z",
     "iopub.status.busy": "2025-04-12T23:50:32.823476Z",
     "iopub.status.idle": "2025-04-12T23:50:32.828810Z",
     "shell.execute_reply": "2025-04-12T23:50:32.827704Z"
    },
    "papermill": {
     "duration": 0.18789,
     "end_time": "2025-04-12T23:50:32.830742",
     "exception": false,
     "start_time": "2025-04-12T23:50:32.642852",
     "status": "completed"
    },
    "tags": []
   },
   "outputs": [],
   "source": [
    "upsert_table.upsert_table(\n",
    "    df_new_district, \"dim_district\", schema_name, engine=db_ops.civ_engine\n",
    ")\n",
    "\n",
    "del df_new_district"
   ]
  },
  {
   "cell_type": "code",
   "execution_count": 35,
   "id": "a0fcdf48-b34c-49a7-8042-9fd5023c4cf4",
   "metadata": {
    "execution": {
     "iopub.execute_input": "2025-04-12T23:50:33.201694Z",
     "iopub.status.busy": "2025-04-12T23:50:33.201234Z",
     "iopub.status.idle": "2025-04-12T23:50:33.215675Z",
     "shell.execute_reply": "2025-04-12T23:50:33.214432Z"
    },
    "papermill": {
     "duration": 0.193924,
     "end_time": "2025-04-12T23:50:33.217666",
     "exception": false,
     "start_time": "2025-04-12T23:50:33.023742",
     "status": "completed"
    },
    "tags": []
   },
   "outputs": [],
   "source": [
    "df_district_db = db_ops.get_data_from_database(\"dim_district\")"
   ]
  },
  {
   "cell_type": "markdown",
   "id": "c249201e-93b9-4d1f-b184-96c201752181",
   "metadata": {
    "papermill": {
     "duration": 3.654075,
     "end_time": "2025-04-12T23:50:37.055818",
     "exception": false,
     "start_time": "2025-04-12T23:50:33.401743",
     "status": "completed"
    },
    "tags": []
   },
   "source": [
    "#### `Dimensions Structure`"
   ]
  },
  {
   "cell_type": "markdown",
   "id": "c76f15d1-6428-46aa-890a-1d9e361844f3",
   "metadata": {
    "papermill": {
     "duration": 5.505419,
     "end_time": "2025-04-12T23:50:42.922383",
     "exception": false,
     "start_time": "2025-04-12T23:50:37.416964",
     "status": "completed"
    },
    "tags": []
   },
   "source": [
    "##### Première mise à jour de la dimensions structure avec les données eSIGL"
   ]
  },
  {
   "cell_type": "code",
   "execution_count": 36,
   "id": "bccd5ebd-6789-41b2-9668-f975505d2e66",
   "metadata": {
    "execution": {
     "iopub.execute_input": "2025-04-12T23:50:43.309812Z",
     "iopub.status.busy": "2025-04-12T23:50:43.309400Z",
     "iopub.status.idle": "2025-04-12T23:50:43.359716Z",
     "shell.execute_reply": "2025-04-12T23:50:43.358653Z"
    },
    "papermill": {
     "duration": 0.234303,
     "end_time": "2025-04-12T23:50:43.361772",
     "exception": false,
     "start_time": "2025-04-12T23:50:43.127469",
     "status": "completed"
    },
    "tags": []
   },
   "outputs": [],
   "source": [
    "df_new_structure = update_dimension.update_dimension_table(\n",
    "    dimension_name=\"dim_structure\",\n",
    "    source_dfs=[\n",
    "        df_etat_stock[\n",
    "            [\"Code_ets\", \"Structure\", \"TYPE DE STRUCTURE\", \"id_district_esigl\"]\n",
    "        ].rename(columns={\"TYPE DE STRUCTURE\": \"type_structure\"})\n",
    "    ],\n",
    "    merge_on=[\"Code_ets\"],\n",
    "    change_columns=[\"Structure\", \"type_structure\"],\n",
    "    schema_name=schema_name,\n",
    ")"
   ]
  },
  {
   "cell_type": "code",
   "execution_count": 37,
   "id": "cfa3d52a-3dc7-406e-9481-0cb9fa0449e7",
   "metadata": {
    "execution": {
     "iopub.execute_input": "2025-04-12T23:50:43.712509Z",
     "iopub.status.busy": "2025-04-12T23:50:43.712054Z",
     "iopub.status.idle": "2025-04-12T23:50:43.973662Z",
     "shell.execute_reply": "2025-04-12T23:50:43.972453Z"
    },
    "papermill": {
     "duration": 0.44107,
     "end_time": "2025-04-12T23:50:43.975798",
     "exception": false,
     "start_time": "2025-04-12T23:50:43.534728",
     "status": "completed"
    },
    "tags": []
   },
   "outputs": [],
   "source": [
    "# Exportation des données vers la BD\n",
    "upsert_table.upsert_table(\n",
    "    df_new_structure, \"dim_structure\", schema_name, engine=db_ops.civ_engine\n",
    ")\n",
    "\n",
    "del df_new_structure"
   ]
  },
  {
   "cell_type": "markdown",
   "id": "61072ee4-6260-4b08-87c5-31133342a342",
   "metadata": {
    "papermill": {
     "duration": 0.774669,
     "end_time": "2025-04-12T23:50:44.933151",
     "exception": false,
     "start_time": "2025-04-12T23:50:44.158482",
     "status": "completed"
    },
    "tags": []
   },
   "source": [
    "##### Seconde mise à jour avec la liste des sites attendus"
   ]
  },
  {
   "cell_type": "code",
   "execution_count": 38,
   "id": "f967b281-4be5-4ded-9c43-ceca82e249e8",
   "metadata": {
    "execution": {
     "iopub.execute_input": "2025-04-12T23:50:47.129937Z",
     "iopub.status.busy": "2025-04-12T23:50:47.129525Z",
     "iopub.status.idle": "2025-04-12T23:50:47.179717Z",
     "shell.execute_reply": "2025-04-12T23:50:47.178481Z"
    },
    "papermill": {
     "duration": 2.07919,
     "end_time": "2025-04-12T23:50:47.181811",
     "exception": false,
     "start_time": "2025-04-12T23:50:45.102621",
     "status": "completed"
    },
    "scrolled": true,
    "tags": []
   },
   "outputs": [],
   "source": [
    "df_site_attendu[\"District_standard\"] = df_site_attendu[\"District\"].apply(\n",
    "    lambda x: excel_file_handler.standardize_text(x)\n",
    ")\n",
    "\n",
    "df_district_db = db_ops.get_data_from_database(\"dim_district\")\n",
    "df_structure_db = db_ops.get_data_from_database(\"dim_structure\")\n",
    "df_structure_db[\"Code_ets\"] = df_structure_db[\"Code_ets\"].astype(\"Int64\")\n",
    "\n",
    "df_district_db[\"District\"] = df_district_db[\"District\"].apply(\n",
    "    lambda x: excel_file_handler.standardize_text(x)\n",
    ")\n",
    "\n",
    "df_site_attendu = df_site_attendu.merge(\n",
    "    df_district_db,\n",
    "    left_on=\"District_standard\",\n",
    "    right_on=\"District\",\n",
    "    suffixes=(\"\", \"_existing\"),\n",
    ")\n",
    "\n",
    "df_new_structure = (\n",
    "    df_site_attendu[[\"Code\", \"Site\", \"id_district_esigl\"]]\n",
    "    .drop_duplicates()\n",
    "    .rename(columns={\"Code\": \"Code_ets\", \"Site\": \"Structure\"})\n",
    ")\n",
    "\n",
    "df_new_structure = df_new_structure.loc[\n",
    "    ~df_new_structure[\"Code_ets\"].isin(df_structure_db[\"Code_ets\"])\n",
    "]\n",
    "\n",
    "df_new_structure = df_new_structure.merge(df_district_db, on=\"id_district_esigl\")\n",
    "df_new_structure[\"type_structure\"] = np.nan\n",
    "\n",
    "df_new_structure = df_new_structure[df_structure_db.columns.to_list()]"
   ]
  },
  {
   "cell_type": "code",
   "execution_count": 39,
   "id": "6b3f18c9-749f-4dc7-9fe2-ae8f0341b594",
   "metadata": {
    "execution": {
     "iopub.execute_input": "2025-04-12T23:50:54.390410Z",
     "iopub.status.busy": "2025-04-12T23:50:54.389989Z",
     "iopub.status.idle": "2025-04-12T23:50:54.395311Z",
     "shell.execute_reply": "2025-04-12T23:50:54.394196Z"
    },
    "papermill": {
     "duration": 5.390235,
     "end_time": "2025-04-12T23:50:54.397156",
     "exception": false,
     "start_time": "2025-04-12T23:50:49.006921",
     "status": "completed"
    },
    "tags": []
   },
   "outputs": [],
   "source": [
    "# Exportation des données vers la BD\n",
    "upsert_table.upsert_table(\n",
    "    df_new_structure, \"dim_structure\", schema_name, engine=db_ops.civ_engine\n",
    ")\n",
    "\n",
    "del df_new_structure"
   ]
  },
  {
   "cell_type": "code",
   "execution_count": 40,
   "id": "e6b86dbb-835d-4a36-aa28-63b38f4e0c16",
   "metadata": {
    "execution": {
     "iopub.execute_input": "2025-04-12T23:50:54.745803Z",
     "iopub.status.busy": "2025-04-12T23:50:54.744760Z",
     "iopub.status.idle": "2025-04-12T23:50:54.763800Z",
     "shell.execute_reply": "2025-04-12T23:50:54.762639Z"
    },
    "papermill": {
     "duration": 0.189392,
     "end_time": "2025-04-12T23:50:54.765885",
     "exception": false,
     "start_time": "2025-04-12T23:50:54.576493",
     "status": "completed"
    },
    "tags": []
   },
   "outputs": [],
   "source": [
    "df_structure_db = db_ops.get_data_from_database(\"dim_structure\")"
   ]
  },
  {
   "cell_type": "markdown",
   "id": "ea9761e2-e315-4773-80c9-baea93deba18",
   "metadata": {
    "papermill": {
     "duration": 0.184334,
     "end_time": "2025-04-12T23:50:55.143356",
     "exception": false,
     "start_time": "2025-04-12T23:50:54.959022",
     "status": "completed"
    },
    "tags": []
   },
   "source": [
    "#### `Dimensions programme`"
   ]
  },
  {
   "cell_type": "code",
   "execution_count": 41,
   "id": "3515186e-bfed-4550-95a1-3b26695d2781",
   "metadata": {
    "execution": {
     "iopub.execute_input": "2025-04-12T23:50:55.723205Z",
     "iopub.status.busy": "2025-04-12T23:50:55.722791Z",
     "iopub.status.idle": "2025-04-12T23:50:55.772734Z",
     "shell.execute_reply": "2025-04-12T23:50:55.771575Z"
    },
    "papermill": {
     "duration": 0.462874,
     "end_time": "2025-04-12T23:50:55.774604",
     "exception": false,
     "start_time": "2025-04-12T23:50:55.311730",
     "status": "completed"
    },
    "tags": []
   },
   "outputs": [
    {
     "data": {
      "text/html": [
       "<div>\n",
       "<style scoped>\n",
       "    .dataframe tbody tr th:only-of-type {\n",
       "        vertical-align: middle;\n",
       "    }\n",
       "\n",
       "    .dataframe tbody tr th {\n",
       "        vertical-align: top;\n",
       "    }\n",
       "\n",
       "    .dataframe thead th {\n",
       "        text-align: right;\n",
       "    }\n",
       "</style>\n",
       "<table border=\"1\" class=\"dataframe\">\n",
       "  <thead>\n",
       "    <tr style=\"text-align: right;\">\n",
       "      <th></th>\n",
       "      <th>Programme</th>\n",
       "      <th>programme_order</th>\n",
       "    </tr>\n",
       "  </thead>\n",
       "  <tbody>\n",
       "    <tr>\n",
       "      <th>0</th>\n",
       "      <td>PNLS</td>\n",
       "      <td>1</td>\n",
       "    </tr>\n",
       "    <tr>\n",
       "      <th>1</th>\n",
       "      <td>PNLP</td>\n",
       "      <td>2</td>\n",
       "    </tr>\n",
       "    <tr>\n",
       "      <th>2</th>\n",
       "      <td>PNSME</td>\n",
       "      <td>3</td>\n",
       "    </tr>\n",
       "    <tr>\n",
       "      <th>3</th>\n",
       "      <td>PNN</td>\n",
       "      <td>4</td>\n",
       "    </tr>\n",
       "    <tr>\n",
       "      <th>4</th>\n",
       "      <td>PNLT</td>\n",
       "      <td>5</td>\n",
       "    </tr>\n",
       "    <tr>\n",
       "      <th>5</th>\n",
       "      <td>TOUS</td>\n",
       "      <td>6</td>\n",
       "    </tr>\n",
       "  </tbody>\n",
       "</table>\n",
       "</div>"
      ],
      "text/plain": [
       "  Programme  programme_order\n",
       "0      PNLS                1\n",
       "1      PNLP                2\n",
       "2     PNSME                3\n",
       "3       PNN                4\n",
       "4      PNLT                5\n",
       "5      TOUS                6"
      ]
     },
     "execution_count": 41,
     "metadata": {},
     "output_type": "execute_result"
    }
   ],
   "source": [
    "prog_extract_stock = set(df_etat_stock.programme_abrv.unique()).union([\"TOUS\"])\n",
    "\n",
    "df_programme = (\n",
    "    pd.DataFrame({\"Programme\": list(prog_extract_stock)})\n",
    "    .sort_values(by=\"Programme\")\n",
    "    .reset_index()\n",
    "    .drop(columns=\"index\")\n",
    ")\n",
    "df_programme.dropna(inplace=True)\n",
    "\n",
    "del prog_extract_stock\n",
    "\n",
    "# Pour l'instant ce n'est que les produits des 5 programmes de santé qui sont gérés\n",
    "programme_order = {\"PNLS\": 1, \"PNLP\": 2, \"PNSME\": 3, \"PNN\": 4, \"PNLT\": 5, \"TOUS\": 6}\n",
    "df_programme[\"programme_order\"] = df_programme[\"Programme\"].map(programme_order)\n",
    "df_programme.sort_values(\"programme_order\", inplace=True)\n",
    "del programme_order\n",
    "\n",
    "df_programme = db_ops.get_full_table(\n",
    "    df_programme,\n",
    "    \"dim_programme\",\n",
    ")\n",
    "\n",
    "df_programme"
   ]
  },
  {
   "cell_type": "markdown",
   "id": "2f6ef55d-4979-476b-ad26-1cffe45efcc2",
   "metadata": {
    "papermill": {
     "duration": 6.135988,
     "end_time": "2025-04-12T23:51:03.240482",
     "exception": false,
     "start_time": "2025-04-12T23:50:57.104494",
     "status": "completed"
    },
    "tags": []
   },
   "source": [
    "#### `Dimension sous_programme`"
   ]
  },
  {
   "cell_type": "code",
   "execution_count": 42,
   "id": "0b5fafe6-7feb-4eb3-b711-8c477aa47463",
   "metadata": {
    "execution": {
     "iopub.execute_input": "2025-04-12T23:51:03.662710Z",
     "iopub.status.busy": "2025-04-12T23:51:03.662291Z",
     "iopub.status.idle": "2025-04-12T23:51:03.680356Z",
     "shell.execute_reply": "2025-04-12T23:51:03.679233Z"
    },
    "papermill": {
     "duration": 0.223566,
     "end_time": "2025-04-12T23:51:03.682343",
     "exception": false,
     "start_time": "2025-04-12T23:51:03.458777",
     "status": "completed"
    },
    "tags": []
   },
   "outputs": [],
   "source": [
    "df_sous_prog_db = db_ops.get_data_from_database(\n",
    "    \"dim_sous_programme\",\n",
    ")\n",
    "\n",
    "df_sous_prog_db = df_sous_prog_db[[\"Programme\", \"Sous_programme\"]].rename(\n",
    "    columns={\"Programme\": \"programme_abrv\", \"Sous_programme\": \"sous_programme\"}\n",
    ")"
   ]
  },
  {
   "cell_type": "code",
   "execution_count": 43,
   "id": "5f7f1af7-6870-4fa0-a2b8-83f7fde2056b",
   "metadata": {
    "execution": {
     "iopub.execute_input": "2025-04-12T23:51:04.096472Z",
     "iopub.status.busy": "2025-04-12T23:51:04.095461Z",
     "iopub.status.idle": "2025-04-12T23:51:04.122674Z",
     "shell.execute_reply": "2025-04-12T23:51:04.121541Z"
    },
    "papermill": {
     "duration": 0.242464,
     "end_time": "2025-04-12T23:51:04.124624",
     "exception": false,
     "start_time": "2025-04-12T23:51:03.882160",
     "status": "completed"
    },
    "tags": []
   },
   "outputs": [],
   "source": [
    "df_sous_prog = pd.concat(\n",
    "    [\n",
    "        df_etat_stock[[\"programme_abrv\", \"sous_programme\"]].drop_duplicates(),\n",
    "        df_sous_prog_db,\n",
    "    ],\n",
    "    ignore_index=True,\n",
    ").drop_duplicates()\n",
    "\n",
    "df_sous_prog = (\n",
    "    df_sous_prog.sort_values([\"programme_abrv\", \"sous_programme\"])\n",
    "    .reset_index()\n",
    "    .drop(columns=\"index\")\n",
    ")\n",
    "\n",
    "# df_sous_prog['Code_sous_prog'] =\n",
    "df_sous_prog[\"Occurence\"] = df_sous_prog.groupby(\"programme_abrv\").cumcount() + 1\n",
    "df_sous_prog[\"Code_sous_prog\"] = (\n",
    "    df_sous_prog[\"programme_abrv\"] + \"-\" + df_sous_prog[\"Occurence\"].astype(str)\n",
    ")\n",
    "\n",
    "df_sous_prog = df_sous_prog[\n",
    "    [\"Code_sous_prog\", \"sous_programme\", \"programme_abrv\"]\n",
    "].rename(columns={\"sous_programme\": \"Sous_programme\", \"programme_abrv\": \"Programme\"})\n",
    "df_sous_prog = df_sous_prog.map(\n",
    "    lambda x: x.lstrip().rstrip() if isinstance(x, str) else x\n",
    ")\n",
    "\n",
    "del df_sous_prog_db"
   ]
  },
  {
   "cell_type": "code",
   "execution_count": 44,
   "id": "284a53b0-ff93-4d24-9523-2dbb115ad53d",
   "metadata": {
    "execution": {
     "iopub.execute_input": "2025-04-12T23:51:05.158856Z",
     "iopub.status.busy": "2025-04-12T23:51:05.158378Z",
     "iopub.status.idle": "2025-04-12T23:51:05.197639Z",
     "shell.execute_reply": "2025-04-12T23:51:05.196657Z"
    },
    "papermill": {
     "duration": 0.248205,
     "end_time": "2025-04-12T23:51:05.199736",
     "exception": false,
     "start_time": "2025-04-12T23:51:04.951531",
     "status": "completed"
    },
    "tags": []
   },
   "outputs": [
    {
     "data": {
      "text/html": [
       "<div>\n",
       "<style scoped>\n",
       "    .dataframe tbody tr th:only-of-type {\n",
       "        vertical-align: middle;\n",
       "    }\n",
       "\n",
       "    .dataframe tbody tr th {\n",
       "        vertical-align: top;\n",
       "    }\n",
       "\n",
       "    .dataframe thead th {\n",
       "        text-align: right;\n",
       "    }\n",
       "</style>\n",
       "<table border=\"1\" class=\"dataframe\">\n",
       "  <thead>\n",
       "    <tr style=\"text-align: right;\">\n",
       "      <th></th>\n",
       "      <th>Code_sous_prog</th>\n",
       "      <th>Sous_programme</th>\n",
       "      <th>Programme</th>\n",
       "    </tr>\n",
       "  </thead>\n",
       "  <tbody>\n",
       "    <tr>\n",
       "      <th>0</th>\n",
       "      <td>PNLP-1</td>\n",
       "      <td>PNLP-MEDICAMENTS ET INTRANTS</td>\n",
       "      <td>PNLP</td>\n",
       "    </tr>\n",
       "    <tr>\n",
       "      <th>1</th>\n",
       "      <td>PNLS-1</td>\n",
       "      <td>PNLS-ANTIRETROVIRAUX ET IO</td>\n",
       "      <td>PNLS</td>\n",
       "    </tr>\n",
       "  </tbody>\n",
       "</table>\n",
       "</div>"
      ],
      "text/plain": [
       "  Code_sous_prog                Sous_programme Programme\n",
       "0         PNLP-1  PNLP-MEDICAMENTS ET INTRANTS      PNLP\n",
       "1         PNLS-1    PNLS-ANTIRETROVIRAUX ET IO      PNLS"
      ]
     },
     "execution_count": 44,
     "metadata": {},
     "output_type": "execute_result"
    }
   ],
   "source": [
    "df_sous_prog = db_ops.get_full_table(df_sous_prog, \"dim_sous_programme\", )\n",
    "\n",
    "df_sous_prog.head(2)"
   ]
  },
  {
   "cell_type": "markdown",
   "id": "2efd93f2-d482-45ca-abfa-c4f3addf66b2",
   "metadata": {
    "papermill": {
     "duration": 0.539075,
     "end_time": "2025-04-12T23:51:08.364743",
     "exception": false,
     "start_time": "2025-04-12T23:51:07.825668",
     "status": "completed"
    },
    "tags": []
   },
   "source": [
    "#### `Dimension produit`"
   ]
  },
  {
   "cell_type": "code",
   "execution_count": 45,
   "id": "9e5ca46e-6b23-4177-858f-99059be75029",
   "metadata": {
    "execution": {
     "iopub.execute_input": "2025-04-12T23:51:14.065687Z",
     "iopub.status.busy": "2025-04-12T23:51:14.064343Z",
     "iopub.status.idle": "2025-04-12T23:51:14.117900Z",
     "shell.execute_reply": "2025-04-12T23:51:14.116542Z"
    },
    "papermill": {
     "duration": 0.220683,
     "end_time": "2025-04-12T23:51:14.120368",
     "exception": false,
     "start_time": "2025-04-12T23:51:13.899685",
     "status": "completed"
    },
    "tags": []
   },
   "outputs": [],
   "source": [
    "df_new_product = (\n",
    "    df_etat_stock[\n",
    "        [\n",
    "            \"Code_produit\",\n",
    "            \"sous_programme\",\n",
    "            \"produit_designation\",\n",
    "            \"unit_rapportage\",\n",
    "            \"cat_du_produit\",\n",
    "            \"cat_produit\",\n",
    "        ]\n",
    "    ]\n",
    "    .drop_duplicates()\n",
    "    .rename(columns={\"sous_programme\": \"Sous_programme\"})\n",
    ")\n",
    "\n",
    "df_new_product = df_new_product.map(\n",
    "    lambda x: x.lstrip().rstrip() if isinstance(x, str) else x\n",
    ")\n",
    "\n",
    "df_new_product = (\n",
    "    df_new_product.merge(df_sous_prog, how=\"left\", on=\"Sous_programme\")\n",
    "    .drop(columns=[\"Sous_programme\", \"Programme\"])\n",
    "    .rename(\n",
    "        columns={\n",
    "            \"cat_du_produit\": \"Categorie_du_produit\",\n",
    "            \"cat_produit\": \"Categorie_produit\",\n",
    "        }\n",
    "    )\n",
    "    .rename(columns=lambda x: x.capitalize())\n",
    "    .sort_values(\"Code_produit\")\n",
    "    .reset_index(drop=True)\n",
    ")"
   ]
  },
  {
   "cell_type": "code",
   "execution_count": 46,
   "id": "d07b517c-c425-4f8c-aba8-576119c4eea1",
   "metadata": {
    "execution": {
     "iopub.execute_input": "2025-04-12T23:51:14.476459Z",
     "iopub.status.busy": "2025-04-12T23:51:14.476017Z",
     "iopub.status.idle": "2025-04-12T23:51:14.543546Z",
     "shell.execute_reply": "2025-04-12T23:51:14.542464Z"
    },
    "papermill": {
     "duration": 0.24285,
     "end_time": "2025-04-12T23:51:14.545162",
     "exception": false,
     "start_time": "2025-04-12T23:51:14.302312",
     "status": "completed"
    },
    "tags": []
   },
   "outputs": [
    {
     "data": {
      "text/html": [
       "<div>\n",
       "<style scoped>\n",
       "    .dataframe tbody tr th:only-of-type {\n",
       "        vertical-align: middle;\n",
       "    }\n",
       "\n",
       "    .dataframe tbody tr th {\n",
       "        vertical-align: top;\n",
       "    }\n",
       "\n",
       "    .dataframe thead th {\n",
       "        text-align: right;\n",
       "    }\n",
       "</style>\n",
       "<table border=\"1\" class=\"dataframe\">\n",
       "  <thead>\n",
       "    <tr style=\"text-align: right;\">\n",
       "      <th></th>\n",
       "      <th>id_produit_pk</th>\n",
       "      <th>Code_produit</th>\n",
       "      <th>Produit_designation</th>\n",
       "      <th>Unit_rapportage</th>\n",
       "      <th>Categorie_produit</th>\n",
       "      <th>Categorie_du_produit</th>\n",
       "      <th>Code_sous_prog</th>\n",
       "    </tr>\n",
       "  </thead>\n",
       "  <tbody>\n",
       "    <tr>\n",
       "      <th>27</th>\n",
       "      <td>4886.0</td>\n",
       "      <td>3050002</td>\n",
       "      <td>ALBENDAZOLE 400 mg comp UN  -</td>\n",
       "      <td>COMPRIME</td>\n",
       "      <td>Produit non traceur</td>\n",
       "      <td>MEDICAMENTS ET PETITS MATERIELS MEDICAL</td>\n",
       "      <td>PNN-1</td>\n",
       "    </tr>\n",
       "    <tr>\n",
       "      <th>28</th>\n",
       "      <td>4887.0</td>\n",
       "      <td>3050002</td>\n",
       "      <td>ALBENDAZOLE 400 mg comp UN  -</td>\n",
       "      <td>COMPRIME</td>\n",
       "      <td>Produit non traceur</td>\n",
       "      <td>MEDICAMENTS ET PETITS MATERIELS MEDICAL</td>\n",
       "      <td>PNN-1</td>\n",
       "    </tr>\n",
       "  </tbody>\n",
       "</table>\n",
       "</div>"
      ],
      "text/plain": [
       "    id_produit_pk Code_produit            Produit_designation Unit_rapportage  \\\n",
       "27         4886.0      3050002  ALBENDAZOLE 400 mg comp UN  -        COMPRIME   \n",
       "28         4887.0      3050002  ALBENDAZOLE 400 mg comp UN  -        COMPRIME   \n",
       "\n",
       "      Categorie_produit                     Categorie_du_produit  \\\n",
       "27  Produit non traceur  MEDICAMENTS ET PETITS MATERIELS MEDICAL   \n",
       "28  Produit non traceur  MEDICAMENTS ET PETITS MATERIELS MEDICAL   \n",
       "\n",
       "   Code_sous_prog  \n",
       "27          PNN-1  \n",
       "28          PNN-1  "
      ]
     },
     "execution_count": 46,
     "metadata": {},
     "output_type": "execute_result"
    }
   ],
   "source": [
    "df_new_product[\"Code_produit\"] = df_new_product[\"Code_produit\"].astype(str)\n",
    "\n",
    "df_product_db = db_ops.get_data_from_database(\"dim_produit\")\n",
    "\n",
    "df_new_product = df_new_product.merge(\n",
    "    df_product_db,\n",
    "    on=[\"Code_produit\", \"Code_sous_prog\"],\n",
    "    how=\"left\",\n",
    "    suffixes=(\"_new\", \"_past\"),\n",
    ")\n",
    "condition = \"\"\n",
    "for col in [\n",
    "    col.replace(\"_past\", \"\") for col in df_new_product.columns if \"_past\" in col\n",
    "]:\n",
    "    condition += f\"(df_new_product.{col}_new != df_new_product.{col}_past) | \"\n",
    "\n",
    "condition = condition.rstrip(\"| \")\n",
    "\n",
    "df_new_product = df_new_product.loc[eval(condition)]\n",
    "\n",
    "if not df_new_product.empty:\n",
    "    df_new_product = df_new_product.drop_duplicates(\n",
    "        subset=[\n",
    "            \"Code_produit\",\n",
    "            \"Unit_rapportage_new\",\n",
    "            \"Categorie_du_produit_new\",\n",
    "            \"Categorie_produit_new\",\n",
    "            \"Code_sous_prog\",\n",
    "            \"id_produit_pk\",\n",
    "        ],\n",
    "        keep=\"last\",\n",
    "    )\n",
    "\n",
    "    max_val = df_product_db[\"id_produit_pk\"].max() + 1\n",
    "    missing = df_new_product[\"id_produit_pk\"].isna()\n",
    "    df_new_product.loc[missing, \"id_produit_pk\"] = range(\n",
    "        max_val, max_val + missing.sum()\n",
    "    )\n",
    "\n",
    "    df_new_product.columns = df_new_product.columns.str.replace(\"_new\", \"\")\n",
    "\n",
    "df_new_product = df_new_product[df_product_db.columns.to_list()]\n",
    "\n",
    "df_new_product.head(2)"
   ]
  },
  {
   "cell_type": "code",
   "execution_count": 47,
   "id": "e8c4981e-171f-4dd1-852a-93b13fa66826",
   "metadata": {
    "execution": {
     "iopub.execute_input": "2025-04-12T23:51:30.333758Z",
     "iopub.status.busy": "2025-04-12T23:51:30.333081Z",
     "iopub.status.idle": "2025-04-12T23:51:30.482595Z",
     "shell.execute_reply": "2025-04-12T23:51:30.481441Z"
    },
    "papermill": {
     "duration": 15.77607,
     "end_time": "2025-04-12T23:51:30.484574",
     "exception": false,
     "start_time": "2025-04-12T23:51:14.708504",
     "status": "completed"
    },
    "tags": []
   },
   "outputs": [],
   "source": [
    "upsert_table.upsert_table(\n",
    "    df_new_product, \"dim_produit\", schema_name, engine=db_ops.civ_engine\n",
    ")\n",
    "\n",
    "del df_new_product"
   ]
  },
  {
   "cell_type": "markdown",
   "id": "23e3d4ba-362c-450f-aca9-2c2b01d8de5a",
   "metadata": {
    "papermill": {
     "duration": 0.219551,
     "end_time": "2025-04-12T23:51:31.008814",
     "exception": false,
     "start_time": "2025-04-12T23:51:30.789263",
     "status": "completed"
    },
    "tags": []
   },
   "source": [
    "### Table de faits `Complétude` et `Promptitude`"
   ]
  },
  {
   "cell_type": "code",
   "execution_count": 48,
   "id": "ab3a2c62-c9eb-4153-a635-3975b036d43f",
   "metadata": {
    "execution": {
     "iopub.execute_input": "2025-04-12T23:51:31.531793Z",
     "iopub.status.busy": "2025-04-12T23:51:31.531429Z",
     "iopub.status.idle": "2025-04-12T23:51:31.544452Z",
     "shell.execute_reply": "2025-04-12T23:51:31.543391Z"
    },
    "papermill": {
     "duration": 0.361614,
     "end_time": "2025-04-12T23:51:31.546333",
     "exception": false,
     "start_time": "2025-04-12T23:51:31.184719",
     "status": "completed"
    },
    "tags": []
   },
   "outputs": [],
   "source": [
    "df_region = db_ops.get_data_from_database(\"dim_region\")"
   ]
  },
  {
   "cell_type": "markdown",
   "id": "391eeb6b-ce3e-48f7-b475-d3524fa6f096",
   "metadata": {
    "papermill": {
     "duration": 0.897823,
     "end_time": "2025-04-12T23:51:32.624788",
     "exception": false,
     "start_time": "2025-04-12T23:51:31.726965",
     "status": "completed"
    },
    "tags": []
   },
   "source": [
    "#### `df_comp_promp_ets`"
   ]
  },
  {
   "cell_type": "code",
   "execution_count": 49,
   "id": "8a8099e0-32c8-4cca-b3ef-a971923ca151",
   "metadata": {
    "execution": {
     "iopub.execute_input": "2025-04-12T23:51:32.975990Z",
     "iopub.status.busy": "2025-04-12T23:51:32.975637Z",
     "iopub.status.idle": "2025-04-12T23:51:33.167202Z",
     "shell.execute_reply": "2025-04-12T23:51:33.165708Z"
    },
    "papermill": {
     "duration": 0.361504,
     "end_time": "2025-04-12T23:51:33.169252",
     "exception": false,
     "start_time": "2025-04-12T23:51:32.807748",
     "status": "completed"
    },
    "tags": []
   },
   "outputs": [],
   "source": [
    "db_ops.civ_cursor.execute(\n",
    "    f\"\"\"\n",
    "DELETE FROM {schema_name}.comp_promp_par_ets\n",
    "WHERE date_report = '{pd.to_datetime(date_report, format=\"%d-%m-%Y\").strftime('%Y-%m-%d')}'\n",
    "\"\"\"\n",
    ")\n",
    "\n",
    "db_ops.conn.commit()\n",
    "\n",
    "df_comp_promp_ets.drop(columns=[\"Site\", \"Region\"]).rename(\n",
    "    columns={\"Code\": \"Code_ets\"}\n",
    ").to_sql(\n",
    "    \"comp_promp_par_ets\",\n",
    "    con=db_ops.civ_engine,\n",
    "    schema=schema_name,\n",
    "    index=False,\n",
    "    if_exists=\"append\",\n",
    ")\n",
    "\n",
    "db_ops.civ_engine.dispose()"
   ]
  },
  {
   "cell_type": "markdown",
   "id": "0cc8e529-c108-4eba-9778-4e2c11dd446a",
   "metadata": {
    "papermill": {
     "duration": 0.169762,
     "end_time": "2025-04-12T23:51:34.531796",
     "exception": false,
     "start_time": "2025-04-12T23:51:34.362034",
     "status": "completed"
    },
    "tags": []
   },
   "source": [
    "#### `df_comp_promp_region`"
   ]
  },
  {
   "cell_type": "code",
   "execution_count": 50,
   "id": "d711cfcd-67c7-4551-84f3-04dc9a19c29a",
   "metadata": {
    "execution": {
     "iopub.execute_input": "2025-04-12T23:51:34.875605Z",
     "iopub.status.busy": "2025-04-12T23:51:34.874753Z",
     "iopub.status.idle": "2025-04-12T23:51:34.981332Z",
     "shell.execute_reply": "2025-04-12T23:51:34.980351Z"
    },
    "papermill": {
     "duration": 0.276061,
     "end_time": "2025-04-12T23:51:34.983289",
     "exception": false,
     "start_time": "2025-04-12T23:51:34.707228",
     "status": "completed"
    },
    "tags": []
   },
   "outputs": [],
   "source": [
    "db_ops.civ_cursor.execute(\n",
    "    f\"\"\"\n",
    "DELETE FROM {schema_name}.comp_promp_attendu_region\n",
    "WHERE date_report = '{pd.to_datetime(date_report, format=\"%d-%m-%Y\").strftime('%Y-%m-%d')}'\n",
    "\"\"\"\n",
    ")\n",
    "\n",
    "db_ops.conn.commit()\n",
    "\n",
    "\n",
    "df_comp_promp_region = df_comp_promp_region.map(\n",
    "    lambda x: x.lstrip().rstrip() if isinstance(x, str) else x\n",
    ")\n",
    "\n",
    "df_comp_promp_region.merge(\n",
    "    df_region[[\"Code_region\", \"Region\"]], on=\"Region\", how=\"left\"\n",
    ").drop(columns=\"Region\").rename(columns=lambda x: x.replace(\"région\", \"region\")).to_sql(\n",
    "    \"comp_promp_attendu_region\",\n",
    "    con=db_ops.civ_engine,\n",
    "    schema=schema_name,\n",
    "    index=False,\n",
    "    if_exists=\"append\",\n",
    ")\n",
    "\n",
    "db_ops.civ_engine.dispose()"
   ]
  },
  {
   "cell_type": "markdown",
   "id": "db082c68-955b-4c86-a66e-ffccf85f95a6",
   "metadata": {
    "papermill": {
     "duration": 0.174263,
     "end_time": "2025-04-12T23:51:42.377477",
     "exception": false,
     "start_time": "2025-04-12T23:51:42.203214",
     "status": "completed"
    },
    "tags": []
   },
   "source": [
    "### Table de faits Etat de stocks"
   ]
  },
  {
   "cell_type": "markdown",
   "id": "18bba6b2-cd30-4191-8484-a0f2a8c1e59c",
   "metadata": {
    "papermill": {
     "duration": 0.164761,
     "end_time": "2025-04-12T23:51:42.724965",
     "exception": false,
     "start_time": "2025-04-12T23:51:42.560204",
     "status": "completed"
    },
    "tags": []
   },
   "source": [
    "#### `recap_stock_by_region`"
   ]
  },
  {
   "cell_type": "code",
   "execution_count": 51,
   "id": "fa81c0f9-57e6-4e81-a372-5f0d3b7f5260",
   "metadata": {
    "execution": {
     "iopub.execute_input": "2025-04-12T23:51:43.083209Z",
     "iopub.status.busy": "2025-04-12T23:51:43.082814Z",
     "iopub.status.idle": "2025-04-12T23:51:43.172846Z",
     "shell.execute_reply": "2025-04-12T23:51:43.171728Z"
    },
    "papermill": {
     "duration": 0.279398,
     "end_time": "2025-04-12T23:51:43.174811",
     "exception": false,
     "start_time": "2025-04-12T23:51:42.895413",
     "status": "completed"
    },
    "tags": []
   },
   "outputs": [],
   "source": [
    "db_ops.civ_cursor.execute(\n",
    "    f\"\"\"\n",
    "DELETE FROM {schema_name}.recap_stock_by_region\n",
    "WHERE date_report = '{pd.to_datetime(date_report, format=\"%d-%m-%Y\").strftime('%Y-%m-%d')}'\n",
    "\"\"\"\n",
    ")\n",
    "\n",
    "db_ops.conn.commit()\n",
    "\n",
    "df_sheet_two.merge(df_region[[\"Code_region\", \"Region\"]]).drop(columns=\"Region\").to_sql(\n",
    "    \"recap_stock_by_region\",\n",
    "    con=db_ops.civ_engine,\n",
    "    schema=schema_name,\n",
    "    index=False,\n",
    "    if_exists=\"append\",\n",
    ")\n",
    "\n",
    "db_ops.civ_engine.dispose()"
   ]
  },
  {
   "cell_type": "code",
   "execution_count": 52,
   "id": "b77eff35-914c-4055-8e07-8ba5e6ca617d",
   "metadata": {
    "execution": {
     "iopub.execute_input": "2025-04-12T23:51:44.833083Z",
     "iopub.status.busy": "2025-04-12T23:51:44.832702Z",
     "iopub.status.idle": "2025-04-12T23:51:44.924385Z",
     "shell.execute_reply": "2025-04-12T23:51:44.923203Z"
    },
    "papermill": {
     "duration": 1.563892,
     "end_time": "2025-04-12T23:51:44.926349",
     "exception": false,
     "start_time": "2025-04-12T23:51:43.362457",
     "status": "completed"
    },
    "tags": []
   },
   "outputs": [
    {
     "data": {
      "text/html": [
       "<div>\n",
       "<style scoped>\n",
       "    .dataframe tbody tr th:only-of-type {\n",
       "        vertical-align: middle;\n",
       "    }\n",
       "\n",
       "    .dataframe tbody tr th {\n",
       "        vertical-align: top;\n",
       "    }\n",
       "\n",
       "    .dataframe thead th {\n",
       "        text-align: right;\n",
       "    }\n",
       "</style>\n",
       "<table border=\"1\" class=\"dataframe\">\n",
       "  <thead>\n",
       "    <tr style=\"text-align: right;\">\n",
       "      <th></th>\n",
       "      <th>id_produit_pk</th>\n",
       "      <th>Code_produit</th>\n",
       "      <th>Produit_designation</th>\n",
       "      <th>Unit_rapportage</th>\n",
       "      <th>Categorie_produit</th>\n",
       "      <th>Categorie_du_produit</th>\n",
       "      <th>Code_sous_prog</th>\n",
       "      <th>Programme</th>\n",
       "    </tr>\n",
       "  </thead>\n",
       "  <tbody>\n",
       "    <tr>\n",
       "      <th>0</th>\n",
       "      <td>1</td>\n",
       "      <td>3010049</td>\n",
       "      <td>PARACETAMOL 100 mg comp. BTE/100 BOITE  -</td>\n",
       "      <td>COMPRIME</td>\n",
       "      <td>Produit non traceur</td>\n",
       "      <td>PRODUITS PNLP</td>\n",
       "      <td>PNLP-1</td>\n",
       "      <td>PNLP</td>\n",
       "    </tr>\n",
       "    <tr>\n",
       "      <th>1</th>\n",
       "      <td>2</td>\n",
       "      <td>3010062</td>\n",
       "      <td>PARACETAMOL 250 mg comp BTE/100 BOITE  -</td>\n",
       "      <td>COMPRIME</td>\n",
       "      <td>Produit non traceur</td>\n",
       "      <td>PRODUITS PNLP</td>\n",
       "      <td>PNLP-1</td>\n",
       "      <td>PNLP</td>\n",
       "    </tr>\n",
       "  </tbody>\n",
       "</table>\n",
       "</div>"
      ],
      "text/plain": [
       "   id_produit_pk Code_produit                        Produit_designation  \\\n",
       "0              1      3010049  PARACETAMOL 100 mg comp. BTE/100 BOITE  -   \n",
       "1              2      3010062   PARACETAMOL 250 mg comp BTE/100 BOITE  -   \n",
       "\n",
       "  Unit_rapportage    Categorie_produit Categorie_du_produit Code_sous_prog  \\\n",
       "0        COMPRIME  Produit non traceur        PRODUITS PNLP         PNLP-1   \n",
       "1        COMPRIME  Produit non traceur        PRODUITS PNLP         PNLP-1   \n",
       "\n",
       "  Programme  \n",
       "0      PNLP  \n",
       "1      PNLP  "
      ]
     },
     "execution_count": 52,
     "metadata": {},
     "output_type": "execute_result"
    }
   ],
   "source": [
    "# Get full data product\n",
    "full_product = db_ops.get_data_from_database(\n",
    "    \"dim_produit\",\n",
    ")\n",
    "full_product[\"Programme\"] = full_product[\"Code_sous_prog\"].apply(\n",
    "    lambda x: x.split(\"-\")[0]\n",
    ")\n",
    "full_product[\"Code_produit\"] = full_product[\"Code_produit\"].astype(str)\n",
    "full_product.head(2)"
   ]
  },
  {
   "cell_type": "markdown",
   "id": "ab9da0fa-8bb3-4749-9c30-c0bc7c7242e8",
   "metadata": {
    "papermill": {
     "duration": 0.2094,
     "end_time": "2025-04-12T23:51:56.159369",
     "exception": false,
     "start_time": "2025-04-12T23:51:55.949969",
     "status": "completed"
    },
    "tags": []
   },
   "source": [
    "#### `recap_stock_prog_region`"
   ]
  },
  {
   "cell_type": "code",
   "execution_count": 53,
   "id": "f08cba7a-9094-4920-9ca3-a2de2e9c0c95",
   "metadata": {
    "execution": {
     "iopub.execute_input": "2025-04-12T23:51:56.573747Z",
     "iopub.status.busy": "2025-04-12T23:51:56.572842Z",
     "iopub.status.idle": "2025-04-12T23:51:56.691089Z",
     "shell.execute_reply": "2025-04-12T23:51:56.689940Z"
    },
    "papermill": {
     "duration": 0.327452,
     "end_time": "2025-04-12T23:51:56.693073",
     "exception": false,
     "start_time": "2025-04-12T23:51:56.365621",
     "status": "completed"
    },
    "tags": []
   },
   "outputs": [],
   "source": [
    "db_ops.civ_cursor.execute(\n",
    "    f\"\"\"\n",
    "DELETE FROM {schema_name}.recap_stock_prog_region\n",
    "WHERE date_report = '{pd.to_datetime(date_report, format=\"%d-%m-%Y\").strftime('%Y-%m-%d')}'\n",
    "\"\"\"\n",
    ")\n",
    "\n",
    "db_ops.conn.commit()"
   ]
  },
  {
   "cell_type": "code",
   "execution_count": 54,
   "id": "f00ae33f-d268-4c54-b0ce-f9ed419456b8",
   "metadata": {
    "execution": {
     "iopub.execute_input": "2025-04-12T23:51:57.049249Z",
     "iopub.status.busy": "2025-04-12T23:51:57.048732Z",
     "iopub.status.idle": "2025-04-12T23:51:57.151731Z",
     "shell.execute_reply": "2025-04-12T23:51:57.150382Z"
    },
    "papermill": {
     "duration": 0.277909,
     "end_time": "2025-04-12T23:51:57.154157",
     "exception": false,
     "start_time": "2025-04-12T23:51:56.876248",
     "status": "completed"
    },
    "tags": []
   },
   "outputs": [],
   "source": [
    "stock_region[\"Code\"] = stock_region[\"Code\"].astype(str)\n",
    "stock_region[\"date_report\"] = pd.to_datetime(date_report, format=\"%d-%m-%Y\")\n",
    "stock_region = stock_region.map(\n",
    "    lambda x: x.lstrip().rstrip() if isinstance(x, str) else x\n",
    ")\n",
    "stock_region[\"MSD\"] = stock_region[\"MSD\"].apply(\n",
    "    lambda x: str(round(float(x), 1)).replace(\".\", \",\") if x != \"NA\" else \"NA\"\n",
    ")\n",
    "\n",
    "assert (\n",
    "    stock_region.merge(\n",
    "        full_product[[\"id_produit_pk\", \"Code_produit\", \"Programme\"]].drop_duplicates(\n",
    "            subset=[\"Code_produit\", \"Programme\"]\n",
    "        ),\n",
    "        left_on=[\"Code\", \"Programme\"],\n",
    "        right_on=[\"Code_produit\", \"Programme\"],\n",
    "        how=\"left\",\n",
    "    )\n",
    "    .merge(df_region[[\"Code_region\", \"Region\"]], on=\"Region\", how=\"left\")\n",
    "    .drop(columns=[\"Code\", \"Code_produit\", \"Region\"])\n",
    "    .shape[0]\n",
    "    == stock_region.shape[0]\n",
    ")"
   ]
  },
  {
   "cell_type": "code",
   "execution_count": 55,
   "id": "6e7b9e1f-835d-4779-a1dd-26a9c6099756",
   "metadata": {
    "execution": {
     "iopub.execute_input": "2025-04-12T23:52:04.006681Z",
     "iopub.status.busy": "2025-04-12T23:52:04.005666Z",
     "iopub.status.idle": "2025-04-12T23:52:04.358724Z",
     "shell.execute_reply": "2025-04-12T23:52:04.357478Z"
    },
    "papermill": {
     "duration": 5.476681,
     "end_time": "2025-04-12T23:52:04.360887",
     "exception": false,
     "start_time": "2025-04-12T23:51:58.884206",
     "status": "completed"
    },
    "tags": []
   },
   "outputs": [],
   "source": [
    "stock_region.merge(\n",
    "    full_product[[\"id_produit_pk\", \"Code_produit\", \"Programme\"]].drop_duplicates(\n",
    "        subset=[\"Code_produit\", \"Programme\"]\n",
    "    ),\n",
    "    left_on=[\"Code\", \"Programme\"],\n",
    "    right_on=[\"Code_produit\", \"Programme\"],\n",
    "    how=\"left\",\n",
    ").merge(df_region[[\"Code_region\", \"Region\"]], on=\"Region\", how=\"left\").drop(\n",
    "    columns=[\"Code\", \"Code_produit\", \"Region\"]\n",
    ").rename(\n",
    "    columns={\"id_produit_pk\": \"id_produit_fk\"}\n",
    ").to_sql(\n",
    "    \"recap_stock_prog_region\",\n",
    "    con=db_ops.civ_engine,\n",
    "    schema=schema_name,\n",
    "    index=False,\n",
    "    if_exists=\"append\",\n",
    ")\n",
    "\n",
    "db_ops.civ_engine.dispose()"
   ]
  },
  {
   "cell_type": "markdown",
   "id": "c1cf3a8d-943d-4354-b552-e60f4d53324b",
   "metadata": {
    "papermill": {
     "duration": 0.216924,
     "end_time": "2025-04-12T23:52:04.784650",
     "exception": false,
     "start_time": "2025-04-12T23:52:04.567726",
     "status": "completed"
    },
    "tags": []
   },
   "source": [
    "#### `recap_stock_prog_nat`"
   ]
  },
  {
   "cell_type": "code",
   "execution_count": 56,
   "id": "d8c69e32-7a3c-4022-a7af-33f3a8e7e0e0",
   "metadata": {
    "execution": {
     "iopub.execute_input": "2025-04-12T23:52:05.195807Z",
     "iopub.status.busy": "2025-04-12T23:52:05.194832Z",
     "iopub.status.idle": "2025-04-12T23:52:05.213486Z",
     "shell.execute_reply": "2025-04-12T23:52:05.212332Z"
    },
    "papermill": {
     "duration": 0.201537,
     "end_time": "2025-04-12T23:52:05.215422",
     "exception": false,
     "start_time": "2025-04-12T23:52:05.013885",
     "status": "completed"
    },
    "tags": []
   },
   "outputs": [],
   "source": [
    "db_ops.civ_cursor.execute(\n",
    "    f\"\"\"\n",
    "DELETE FROM {schema_name}.recap_stock_prog_nat\n",
    "WHERE date_report = '{pd.to_datetime(date_report, format=\"%d-%m-%Y\").strftime('%Y-%m-%d')}'\n",
    "\"\"\"\n",
    ")\n",
    "\n",
    "db_ops.conn.commit()"
   ]
  },
  {
   "cell_type": "code",
   "execution_count": 57,
   "id": "d04becfb-6777-475b-b202-7a3657fa8027",
   "metadata": {
    "execution": {
     "iopub.execute_input": "2025-04-12T23:52:09.676003Z",
     "iopub.status.busy": "2025-04-12T23:52:09.675094Z",
     "iopub.status.idle": "2025-04-12T23:52:09.682922Z",
     "shell.execute_reply": "2025-04-12T23:52:09.681893Z"
    },
    "papermill": {
     "duration": 4.283298,
     "end_time": "2025-04-12T23:52:09.684634",
     "exception": false,
     "start_time": "2025-04-12T23:52:05.401336",
     "status": "completed"
    },
    "tags": []
   },
   "outputs": [],
   "source": [
    "stock_national = stock_lvl_decent[\n",
    "    [\n",
    "        \"Code\",\n",
    "        \"Programme\",\n",
    "        \"Region\",\n",
    "        \"lvl_decent_msd\",\n",
    "        \"lvl_decent_statut\",\n",
    "        \"lvl_decent_conso\",\n",
    "        \"lvl_decent_sdu\",\n",
    "        \"lvl_decent_cmm\",\n",
    "        \"dispo_globale\",\n",
    "        \"dispo_globale_cible\",\n",
    "        \"dispo_traceur\",\n",
    "        \"dispo_traceur_cible\",\n",
    "    ]\n",
    "].rename(\n",
    "    columns={\n",
    "        \"lvl_decent_msd\": \"MSD\",\n",
    "        \"lvl_decent_statut\": \"STATUT\",\n",
    "        \"lvl_decent_conso\": \"conso_lvl_national\",\n",
    "        \"lvl_decent_sdu\": \"sdu_lvl_national\",\n",
    "        \"lvl_decent_cmm\": \"cmm_lvl_national\",\n",
    "    }\n",
    ")"
   ]
  },
  {
   "cell_type": "code",
   "execution_count": 58,
   "id": "4a745127-ec99-441a-8964-11a0ab1b7998",
   "metadata": {
    "execution": {
     "iopub.execute_input": "2025-04-12T23:52:12.962852Z",
     "iopub.status.busy": "2025-04-12T23:52:12.962469Z",
     "iopub.status.idle": "2025-04-12T23:52:12.975464Z",
     "shell.execute_reply": "2025-04-12T23:52:12.974381Z"
    },
    "papermill": {
     "duration": 2.598583,
     "end_time": "2025-04-12T23:52:12.977000",
     "exception": false,
     "start_time": "2025-04-12T23:52:10.378417",
     "status": "completed"
    },
    "tags": []
   },
   "outputs": [],
   "source": [
    "stock_national[\"Code\"] = stock_national[\"Code\"].astype(str)\n",
    "stock_national = stock_national.map(lambda x: x.strip() if isinstance(x, str) else x)\n",
    "stock_national[\"date_report\"] = pd.to_datetime(date_report, format=\"%d-%m-%Y\")\n",
    "\n",
    "stock_national[\"MSD\"] = stock_national[\"MSD\"].apply(\n",
    "    lambda x: str(round(float(x), 1)).replace(\".\", \",\") if x != \"NA\" else \"NA\"\n",
    ")"
   ]
  },
  {
   "cell_type": "code",
   "execution_count": 59,
   "id": "14657e9e-237a-4e95-9fc3-ef7b20c8da08",
   "metadata": {
    "execution": {
     "iopub.execute_input": "2025-04-12T23:52:13.401702Z",
     "iopub.status.busy": "2025-04-12T23:52:13.400550Z",
     "iopub.status.idle": "2025-04-12T23:52:13.658141Z",
     "shell.execute_reply": "2025-04-12T23:52:13.657007Z"
    },
    "papermill": {
     "duration": 0.473612,
     "end_time": "2025-04-12T23:52:13.660213",
     "exception": false,
     "start_time": "2025-04-12T23:52:13.186601",
     "status": "completed"
    },
    "tags": []
   },
   "outputs": [],
   "source": [
    "assert (\n",
    "    stock_national.merge(\n",
    "        full_product[[\"id_produit_pk\", \"Code_produit\", \"Programme\"]].drop_duplicates(\n",
    "            subset=[\"Code_produit\", \"Programme\"]\n",
    "        ),\n",
    "        left_on=[\"Code\", \"Programme\"],\n",
    "        right_on=[\"Code_produit\", \"Programme\"],\n",
    "        how=\"left\",\n",
    "    )\n",
    "    .merge(df_region[[\"Code_region\", \"Region\"]], on=\"Region\", how=\"left\")\n",
    "    .drop(columns=[\"Code\", \"Code_produit\", \"Region\"])\n",
    "    .shape[0]\n",
    "    == stock_national.shape[0]\n",
    ")\n",
    "\n",
    "stock_national = (\n",
    "    stock_national.merge(\n",
    "        full_product[[\"id_produit_pk\", \"Code_produit\", \"Programme\"]].drop_duplicates(\n",
    "            subset=[\"Code_produit\", \"Programme\"]\n",
    "        ),\n",
    "        left_on=[\"Code\", \"Programme\"],\n",
    "        right_on=[\"Code_produit\", \"Programme\"],\n",
    "        how=\"left\",\n",
    "    )\n",
    "    .merge(df_region[[\"Code_region\", \"Region\"]], on=\"Region\", how=\"left\")\n",
    "    .drop(columns=[\"Code\", \"Code_produit\", \"Region\"])\n",
    "    .rename(\n",
    "        columns={\n",
    "            \"id_produit_pk\": \"id_produit_fk\",\n",
    "            \"conso_lvl_national\": \"CONSO\",\n",
    "            \"sdu_lvl_national\": \"SDU\",\n",
    "            \"cmm_lvl_national\": \"CMM\",\n",
    "        }\n",
    "    )\n",
    ")\n",
    "\n",
    "df_count_prog = (\n",
    "    stock_national.groupby([\"Programme\"])[\"id_produit_fk\"].count().reset_index()\n",
    ")\n",
    "\n",
    "stock_national[\"statut_pourcentage\"] = stock_national[[\"Programme\", \"STATUT\"]].apply(\n",
    "    lambda row: 1\n",
    "    / df_count_prog.loc[df_count_prog.Programme == row.Programme, \"id_produit_fk\"].iloc[\n",
    "        0\n",
    "    ],\n",
    "    axis=1,\n",
    ")\n",
    "\n",
    "stock_national.to_sql(\n",
    "    \"recap_stock_prog_nat\",\n",
    "    con=db_ops.civ_engine,\n",
    "    schema=schema_name,\n",
    "    index=False,\n",
    "    if_exists=\"append\",\n",
    ")\n",
    "\n",
    "db_ops.civ_engine.dispose()\n",
    "\n",
    "del df_count_prog"
   ]
  },
  {
   "cell_type": "markdown",
   "id": "7c582d98-b342-4ba6-9d19-89a99e791b11",
   "metadata": {
    "papermill": {
     "duration": 0.174981,
     "end_time": "2025-04-12T23:52:14.038192",
     "exception": false,
     "start_time": "2025-04-12T23:52:13.863211",
     "status": "completed"
    },
    "tags": []
   },
   "source": [
    "#### `Etat de stock`"
   ]
  },
  {
   "cell_type": "code",
   "execution_count": 60,
   "id": "8090a47a-1f61-42f4-a88c-7d28f8898396",
   "metadata": {
    "execution": {
     "iopub.execute_input": "2025-04-12T23:52:28.671417Z",
     "iopub.status.busy": "2025-04-12T23:52:28.670969Z",
     "iopub.status.idle": "2025-04-12T23:52:28.783227Z",
     "shell.execute_reply": "2025-04-12T23:52:28.782232Z"
    },
    "papermill": {
     "duration": 13.932025,
     "end_time": "2025-04-12T23:52:28.785201",
     "exception": false,
     "start_time": "2025-04-12T23:52:14.853176",
     "status": "completed"
    },
    "tags": []
   },
   "outputs": [],
   "source": [
    "db_ops.civ_cursor.execute(\n",
    "    f\"\"\"\n",
    "DELETE FROM {schema_name}.etat_de_stock\n",
    "WHERE date_report = '{pd.to_datetime(date_report, format=\"%d-%m-%Y\").strftime('%Y-%m-%d')}'\n",
    "\"\"\"\n",
    ")\n",
    "\n",
    "db_ops.conn.commit()"
   ]
  },
  {
   "cell_type": "code",
   "execution_count": 61,
   "id": "9cd6377c-7cd1-4251-b1ab-9dd03a28d240",
   "metadata": {
    "execution": {
     "iopub.execute_input": "2025-04-12T23:52:29.138675Z",
     "iopub.status.busy": "2025-04-12T23:52:29.137498Z",
     "iopub.status.idle": "2025-04-12T23:52:29.559821Z",
     "shell.execute_reply": "2025-04-12T23:52:29.558782Z"
    },
    "papermill": {
     "duration": 0.606895,
     "end_time": "2025-04-12T23:52:29.561735",
     "exception": false,
     "start_time": "2025-04-12T23:52:28.954840",
     "status": "completed"
    },
    "tags": []
   },
   "outputs": [],
   "source": [
    "mois_prec = (\n",
    "    pd.to_datetime(date_report, format=\"%d-%m-%Y\").replace(day=1) - pd.Timedelta(days=1)\n",
    ").strftime(\"%Y-%m-%d\")\n",
    "\n",
    "df_mois_prec = pd.read_sql(\n",
    "    f\"select * from {schema_name}.etat_de_stock where date_report='{mois_prec}'\",\n",
    "    db_ops.civ_engine,\n",
    ")"
   ]
  },
  {
   "cell_type": "code",
   "execution_count": 62,
   "id": "95205dd7-3432-4210-993c-d732dcd858c9",
   "metadata": {
    "execution": {
     "iopub.execute_input": "2025-04-12T23:52:29.912848Z",
     "iopub.status.busy": "2025-04-12T23:52:29.912471Z",
     "iopub.status.idle": "2025-04-12T23:52:30.440211Z",
     "shell.execute_reply": "2025-04-12T23:52:30.439068Z"
    },
    "papermill": {
     "duration": 0.695625,
     "end_time": "2025-04-12T23:52:30.442191",
     "exception": false,
     "start_time": "2025-04-12T23:52:29.746566",
     "status": "completed"
    },
    "tags": []
   },
   "outputs": [],
   "source": [
    "# Nettoyage initial des données\n",
    "df_etat_stock[\"Code_produit\"] = df_etat_stock[\"Code_produit\"].astype(str)\n",
    "df_etat_stock = df_etat_stock.applymap(lambda x: x.strip() if isinstance(x, str) else x)\n",
    "\n",
    "# Suppression des colonnes inutiles et nettoyage supplémentaire\n",
    "cols_to_drop = [\"programme_abrv\", \"Region\", \"District\", \"Structure\"]\n",
    "df_ = df_etat_stock.drop(columns=cols_to_drop)\n",
    "\n",
    "# Première jointure avec df_sous_prog\n",
    "df_ = df_.merge(\n",
    "    df_sous_prog, left_on=\"sous_programme\", right_on=\"Sous_programme\", how=\"left\"\n",
    ").drop(columns=[\"Sous_programme\", \"Programme\", \"sous_programme\"])\n",
    "\n",
    "# Définition des colonnes pour la déduplication\n",
    "dedup_cols = [\n",
    "    \"Code_produit\",\n",
    "    \"Code_sous_prog\",\n",
    "    \"Produit_designation\",\n",
    "    \"Unit_rapportage\",\n",
    "    \"Categorie_du_produit\",\n",
    "    \"Categorie_produit\",\n",
    "]\n",
    "\n",
    "# Seconde jointure avec full_product\n",
    "df_ = df_.merge(\n",
    "    full_product.drop_duplicates(subset=dedup_cols),\n",
    "    right_on=dedup_cols,\n",
    "    left_on=[\n",
    "        \"Code_produit\",\n",
    "        \"Code_sous_prog\",\n",
    "        \"produit_designation\",\n",
    "        \"unit_rapportage\",\n",
    "        \"cat_du_produit\",\n",
    "        \"cat_produit\",\n",
    "    ],\n",
    ")\n",
    "\n",
    "# Nettoyage final des colonnes\n",
    "final_cols_to_drop = [\n",
    "    \"Code_produit\",\n",
    "    \"cat_produit\",\n",
    "    \"produit_designation\",\n",
    "    \"unit_rapportage\",\n",
    "    \"cat_du_produit\",\n",
    "    \"Code_sous_prog\",\n",
    "    \"Produit_designation\",\n",
    "    \"Unit_rapportage\",\n",
    "    \"Categorie_produit\",\n",
    "    \"Categorie_du_produit\",\n",
    "    \"Programme\",\n",
    "]\n",
    "\n",
    "df_ = df_.drop(columns=final_cols_to_drop).rename(\n",
    "    columns={\"id_produit_pk\": \"id_produit_fk\"}\n",
    ")"
   ]
  },
  {
   "cell_type": "code",
   "execution_count": 63,
   "id": "f863d88e-4d88-44c4-bedd-047d7ccf86c8",
   "metadata": {
    "execution": {
     "iopub.execute_input": "2025-04-12T23:52:30.879150Z",
     "iopub.status.busy": "2025-04-12T23:52:30.877943Z",
     "iopub.status.idle": "2025-04-12T23:52:30.884430Z",
     "shell.execute_reply": "2025-04-12T23:52:30.883467Z"
    },
    "papermill": {
     "duration": 0.276247,
     "end_time": "2025-04-12T23:52:30.886066",
     "exception": false,
     "start_time": "2025-04-12T23:52:30.609819",
     "status": "completed"
    },
    "tags": []
   },
   "outputs": [],
   "source": [
    "df_['Code_ets'] = df_['Code_ets'].astype('Int64')"
   ]
  },
  {
   "cell_type": "code",
   "execution_count": 64,
   "id": "da6a7bca-9cab-44e8-82b1-a5b0a026f487",
   "metadata": {
    "execution": {
     "iopub.execute_input": "2025-04-12T23:52:32.877688Z",
     "iopub.status.busy": "2025-04-12T23:52:32.877216Z",
     "iopub.status.idle": "2025-04-12T23:52:32.948779Z",
     "shell.execute_reply": "2025-04-12T23:52:32.947889Z"
    },
    "papermill": {
     "duration": 1.880627,
     "end_time": "2025-04-12T23:52:32.950531",
     "exception": false,
     "start_time": "2025-04-12T23:52:31.069904",
     "status": "completed"
    },
    "tags": []
   },
   "outputs": [
    {
     "data": {
      "text/html": [
       "<div>\n",
       "<style scoped>\n",
       "    .dataframe tbody tr th:only-of-type {\n",
       "        vertical-align: middle;\n",
       "    }\n",
       "\n",
       "    .dataframe tbody tr th {\n",
       "        vertical-align: top;\n",
       "    }\n",
       "\n",
       "    .dataframe thead th {\n",
       "        text-align: right;\n",
       "    }\n",
       "</style>\n",
       "<table border=\"1\" class=\"dataframe\">\n",
       "  <thead>\n",
       "    <tr style=\"text-align: right;\">\n",
       "      <th></th>\n",
       "      <th>Periode</th>\n",
       "      <th>Code_ets</th>\n",
       "      <th>stock_initial</th>\n",
       "      <th>qte_recue</th>\n",
       "      <th>qte_utilisee</th>\n",
       "      <th>perte_ajust</th>\n",
       "      <th>j_rupture</th>\n",
       "      <th>sdu</th>\n",
       "      <th>cmm_esigl</th>\n",
       "      <th>cmm_gest</th>\n",
       "      <th>qte_prop</th>\n",
       "      <th>qte_cmde</th>\n",
       "      <th>qte_approuv</th>\n",
       "      <th>msd</th>\n",
       "      <th>etat_stock</th>\n",
       "      <th>besoin_cmde_urg</th>\n",
       "      <th>besoin_trsf_in</th>\n",
       "      <th>qte_trsf_out</th>\n",
       "      <th>date_report</th>\n",
       "      <th>id_produit_fk</th>\n",
       "      <th>qte_cmde_mois_prec</th>\n",
       "      <th>etat_stock_mois_prec</th>\n",
       "    </tr>\n",
       "  </thead>\n",
       "  <tbody>\n",
       "    <tr>\n",
       "      <th>0</th>\n",
       "      <td>JANVIER MARS 2025</td>\n",
       "      <td>62600030</td>\n",
       "      <td>9316</td>\n",
       "      <td>9408</td>\n",
       "      <td>8992</td>\n",
       "      <td>-2399</td>\n",
       "      <td>0</td>\n",
       "      <td>7333</td>\n",
       "      <td>1007</td>\n",
       "      <td>3021.0</td>\n",
       "      <td>0</td>\n",
       "      <td>10793</td>\n",
       "      <td>10793</td>\n",
       "      <td>2.427342</td>\n",
       "      <td>ENTRE PCU et MIN</td>\n",
       "      <td>NaN</td>\n",
       "      <td>1730.0</td>\n",
       "      <td>NaN</td>\n",
       "      <td>2025-03-31</td>\n",
       "      <td>62</td>\n",
       "      <td>NaN</td>\n",
       "      <td>NaN</td>\n",
       "    </tr>\n",
       "    <tr>\n",
       "      <th>1</th>\n",
       "      <td>JANVIER MARS 2025</td>\n",
       "      <td>62600030</td>\n",
       "      <td>8862</td>\n",
       "      <td>0</td>\n",
       "      <td>5251</td>\n",
       "      <td>-2016</td>\n",
       "      <td>0</td>\n",
       "      <td>1595</td>\n",
       "      <td>591</td>\n",
       "      <td>1774.0</td>\n",
       "      <td>1951</td>\n",
       "      <td>9049</td>\n",
       "      <td>9049</td>\n",
       "      <td>0.899098</td>\n",
       "      <td>EN BAS DU PCU</td>\n",
       "      <td>9049.0</td>\n",
       "      <td>3727.0</td>\n",
       "      <td>NaN</td>\n",
       "      <td>2025-03-31</td>\n",
       "      <td>65</td>\n",
       "      <td>NaN</td>\n",
       "      <td>NaN</td>\n",
       "    </tr>\n",
       "    <tr>\n",
       "      <th>2</th>\n",
       "      <td>JANVIER MARS 2025</td>\n",
       "      <td>62600030</td>\n",
       "      <td>622</td>\n",
       "      <td>0</td>\n",
       "      <td>172</td>\n",
       "      <td>-450</td>\n",
       "      <td>58</td>\n",
       "      <td>0</td>\n",
       "      <td>54</td>\n",
       "      <td>161.0</td>\n",
       "      <td>324</td>\n",
       "      <td>966</td>\n",
       "      <td>966</td>\n",
       "      <td>0.000000</td>\n",
       "      <td>RUPTURE</td>\n",
       "      <td>966.0</td>\n",
       "      <td>483.0</td>\n",
       "      <td>NaN</td>\n",
       "      <td>2025-03-31</td>\n",
       "      <td>35</td>\n",
       "      <td>NaN</td>\n",
       "      <td>NaN</td>\n",
       "    </tr>\n",
       "  </tbody>\n",
       "</table>\n",
       "</div>"
      ],
      "text/plain": [
       "             Periode  Code_ets  stock_initial  qte_recue  qte_utilisee  \\\n",
       "0  JANVIER MARS 2025  62600030           9316       9408          8992   \n",
       "1  JANVIER MARS 2025  62600030           8862          0          5251   \n",
       "2  JANVIER MARS 2025  62600030            622          0           172   \n",
       "\n",
       "   perte_ajust  j_rupture   sdu  cmm_esigl  cmm_gest  qte_prop  qte_cmde  \\\n",
       "0        -2399          0  7333       1007    3021.0         0     10793   \n",
       "1        -2016          0  1595        591    1774.0      1951      9049   \n",
       "2         -450         58     0         54     161.0       324       966   \n",
       "\n",
       "   qte_approuv       msd        etat_stock  besoin_cmde_urg  besoin_trsf_in  \\\n",
       "0        10793  2.427342  ENTRE PCU et MIN              NaN          1730.0   \n",
       "1         9049  0.899098     EN BAS DU PCU           9049.0          3727.0   \n",
       "2          966  0.000000           RUPTURE            966.0           483.0   \n",
       "\n",
       "   qte_trsf_out date_report  id_produit_fk  qte_cmde_mois_prec  \\\n",
       "0           NaN  2025-03-31             62                 NaN   \n",
       "1           NaN  2025-03-31             65                 NaN   \n",
       "2           NaN  2025-03-31             35                 NaN   \n",
       "\n",
       "  etat_stock_mois_prec  \n",
       "0                  NaN  \n",
       "1                  NaN  \n",
       "2                  NaN  "
      ]
     },
     "execution_count": 64,
     "metadata": {},
     "output_type": "execute_result"
    }
   ],
   "source": [
    "assert (\n",
    "    df_.merge(\n",
    "        df_mois_prec[[\"Code_ets\", \"id_produit_fk\", \"qte_cmde\", \"etat_stock\"]].rename(\n",
    "            columns={\n",
    "                \"qte_cmde\": \"qte_cmde_mois_prec\",\n",
    "                \"etat_stock\": \"etat_stock_mois_prec\",\n",
    "            }\n",
    "        ),\n",
    "        on=[\"Code_ets\", \"id_produit_fk\"],\n",
    "        how=\"left\",\n",
    "    ).shape[0]\n",
    "    == df_.shape[0]\n",
    ")\n",
    "\n",
    "\n",
    "df_ = df_.merge(\n",
    "    df_mois_prec[[\"Code_ets\", \"id_produit_fk\", \"qte_cmde\", \"etat_stock\"]].rename(\n",
    "        columns={\"qte_cmde\": \"qte_cmde_mois_prec\", \"etat_stock\": \"etat_stock_mois_prec\"}\n",
    "    ),\n",
    "    on=[\"Code_ets\", \"id_produit_fk\"],\n",
    "    how=\"left\",\n",
    ")\n",
    "\n",
    "df_.drop(\n",
    "    columns=[\"id_region_esigl\", \"TYPE DE STRUCTURE\", \"id_district_esigl\"], inplace=True\n",
    ")\n",
    "\n",
    "df_.head(3)"
   ]
  },
  {
   "cell_type": "code",
   "execution_count": 65,
   "id": "d185ea5f-3b35-4ba5-83dd-ea1d93e53e2c",
   "metadata": {
    "execution": {
     "iopub.execute_input": "2025-04-12T23:52:33.305988Z",
     "iopub.status.busy": "2025-04-12T23:52:33.305482Z",
     "iopub.status.idle": "2025-04-12T23:52:38.148903Z",
     "shell.execute_reply": "2025-04-12T23:52:38.147758Z"
    },
    "papermill": {
     "duration": 5.019355,
     "end_time": "2025-04-12T23:52:38.151050",
     "exception": false,
     "start_time": "2025-04-12T23:52:33.131695",
     "status": "completed"
    },
    "tags": []
   },
   "outputs": [],
   "source": [
    "df_.to_sql(\n",
    "    \"etat_de_stock\",\n",
    "    con=db_ops.civ_engine,\n",
    "    schema=schema_name,\n",
    "    index=False,\n",
    "    if_exists=\"append\",\n",
    ")\n",
    "\n",
    "db_ops.civ_engine.dispose()"
   ]
  }
 ],
 "metadata": {
  "kernelspec": {
   "display_name": "Python 3 (ipykernel)",
   "language": "python",
   "name": "python3"
  },
  "language_info": {
   "codemirror_mode": {
    "name": "ipython",
    "version": 3
   },
   "file_extension": ".py",
   "mimetype": "text/x-python",
   "name": "python",
   "nbconvert_exporter": "python",
   "pygments_lexer": "ipython3",
   "version": "3.12.8"
  },
  "papermill": {
   "default_parameters": {},
   "duration": 888.773854,
   "end_time": "2025-04-12T23:52:41.044422",
   "environment_variables": {},
   "exception": null,
   "input_path": "/home/hexa/workspace/Rapport Feedback/code/pipelines/main_program.ipynb",
   "output_path": "/home/hexa/workspace/Rapport Feedback/code/pipelines/output_notebook_execution/output_2025-04-12.ipynb",
   "parameters": {
    "date_report": "Mars",
    "fp_prod_traceurs": "Liste des Produits Traceurs Février 2025.xlsx",
    "fp_site_attendus": "Sites attendus Février 2025.xlsx"
   },
   "start_time": "2025-04-12T23:37:52.270568",
   "version": "2.6.0"
  }
 },
 "nbformat": 4,
 "nbformat_minor": 5
}