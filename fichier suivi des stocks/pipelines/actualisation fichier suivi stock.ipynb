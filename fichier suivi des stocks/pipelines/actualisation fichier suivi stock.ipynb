{
 "cells": [
  {
   "cell_type": "markdown",
   "id": "bca9a8d1-0509-4102-ab37-52698f6d31af",
   "metadata": {},
   "source": [
    "# I. Importation des bibliothèques"
   ]
  },
  {
   "cell_type": "code",
   "execution_count": null,
   "id": "581d085e-8132-458e-8c53-d389a9f18d32",
   "metadata": {},
   "outputs": [],
   "source": [
    "%%capture\n",
    "%pip install --quiet fuzzywuzzy python-Levenshtein excel-formulas-calculator\n",
    "%pip install google-api-python-client google-auth-httplib2 google-auth-oauthlib"
   ]
  },
  {
   "cell_type": "code",
   "execution_count": null,
   "id": "ef9cbed5-c517-4083-82da-ae99c869e994",
   "metadata": {
    "editable": true,
    "slideshow": {
     "slide_type": ""
    },
    "tags": []
   },
   "outputs": [],
   "source": [
    "%%capture\n",
    "import warnings\n",
    "\n",
    "warnings.filterwarnings(\"ignore\")\n",
    "import os\n",
    "import re\n",
    "from datetime import datetime\n",
    "from pathlib import Path\n",
    "\n",
    "import numpy as np\n",
    "import pandas as pd\n",
    "\n",
    "pd.set_option(\"display.max_columns\", None)\n",
    "import math\n",
    "\n",
    "import openpyxl as pyxl\n",
    "from openhexa.sdk import workspace\n",
    "\n",
    "try:\n",
    "    from efc.interfaces.iopenpyxl import OpenpyxlInterface\n",
    "except ImportError or ModuleNotFoundError:\n",
    "    %pip install --quiet excel-formulas-calculator\n",
    "    from efc.interfaces.iopenpyxl import OpenpyxlInterface"
   ]
  },
  {
   "cell_type": "markdown",
   "id": "29135b99-0736-4c44-b2e2-bd2e2f1df19f",
   "metadata": {},
   "source": [
    "## 1. Rafraîchissement des bibliothèques"
   ]
  },
  {
   "cell_type": "code",
   "execution_count": 3,
   "id": "7f8ca881-3e23-4b81-999a-73f467cecd10",
   "metadata": {},
   "outputs": [],
   "source": [
    "%%capture\n",
    "# Ajout du chemin d'accès pour l'importation des bibliothèques\n",
    "os.chdir(Path(workspace.files_path, \"Fichier Suivi de Stock/code/pipelines\"))\n",
    "\n",
    "from importlib import reload\n",
    "\n",
    "import compute_indicators\n",
    "import export_file_to_google_drive as ggdrive\n",
    "import generate_stock_tracking_file as gstf\n",
    "\n",
    "# Importation des réquêtes sql\n",
    "from compute_indicators.queries import QUERY_ETAT_STOCK_PROGRAMME\n",
    "from database_operations import process_statut_prod, stock_sync_manager\n",
    "\n",
    "# Reload modules\n",
    "reload(compute_indicators)\n",
    "reload(stock_sync_manager)\n",
    "reload(gstf)\n",
    "reload(ggdrive)"
   ]
  },
  {
   "cell_type": "markdown",
   "id": "9fe0c35d-0a6a-4eae-a9e7-82326b301d7c",
   "metadata": {},
   "source": [
    "# II. Définition des paramètres"
   ]
  },
  {
   "cell_type": "markdown",
   "id": "732297a5-73e7-4ef1-8300-fa3ab2c80ddc",
   "metadata": {},
   "source": [
    "## 1. Variables requises pour l'actualisation du fichier de suivi de stock\n",
    "\n",
    "1. **Mois de création du rapport** : Fournie en tant qu'entrée du pipeline.\n",
    "\n",
    "2. **Programme** : Le programme concerné pour lequel le fichier de suivi de stock.\n",
    "\n",
    "3. **Fichier Suivi de Stock** : Le fichier suivi de stock finalisé après la réunion mensuelle."
   ]
  },
  {
   "cell_type": "code",
   "execution_count": null,
   "id": "a5a16a05-fb68-4dfb-804a-491107794d05",
   "metadata": {
    "editable": true,
    "slideshow": {
     "slide_type": ""
    },
    "tags": [
     "parameters"
    ]
   },
   "outputs": [],
   "source": [
    "date_report, programme, fp_suvi_stock = (\n",
    "    \"Janvier\",\n",
    "    \"PNLP\",\n",
    "    \"Fichier Suivi de Stock/code/pipelines/generate_stock_tracking_file/Template Fichier Suivi de Stock/Fichier Suivi de Stock Template.xlsx\",\n",
    "    # \"Fichier Suivi de Stock PNLS-JUILLET-2024.xlsx\",\n",
    ")"
   ]
  },
  {
   "cell_type": "code",
   "execution_count": null,
   "id": "1cca0af8-a225-4a5e-9a33-105ec3a8cf47",
   "metadata": {},
   "outputs": [],
   "source": [
    "month_export, date_report = date_report, compute_indicators.utils.format_date(date_report)"
   ]
  },
  {
   "cell_type": "markdown",
   "id": "b2e83875-9b75-4d18-bd98-a56545f8bbbb",
   "metadata": {},
   "source": [
    "## 2. Test pour s'assurer qu'il y a bien des données déjà présentes dans la base de données pour ce programme en question\n",
    "\n",
    "L'idée est de vérifier au préalable, avant d'apporter des modifications au programme en question, que des données existent déjà dans la base de données."
   ]
  },
  {
   "cell_type": "code",
   "execution_count": null,
   "id": "a826a77c-1b49-480c-9df9-30c0d5add7dc",
   "metadata": {},
   "outputs": [],
   "source": [
    "stock_sync_manager.initialize_database_connection()\n",
    "\n",
    "schema_name = \"suivi_stock\""
   ]
  },
  {
   "cell_type": "code",
   "execution_count": null,
   "id": "be75b7f6-774c-4628-93bc-c29b1505e135",
   "metadata": {},
   "outputs": [],
   "source": [
    "df_ = stock_sync_manager.get_table_data(\n",
    "    query=f\"\"\"\n",
    "    select * \n",
    "    from {schema_name}.stock_track st \n",
    "    inner join {schema_name}.dim_produit_stock_track prod ON st.id_dim_produit_stock_track_fk = prod.id_dim_produit_stock_track_pk\n",
    "    where prod.programme='{programme}' and date_report='{date_report}'\n",
    "    limit 2\n",
    "    \"\"\"\n",
    ")\n",
    "\n",
    "assert df_.shape[0] != 0, (\n",
    "    f\"Le mois séléecitonné {date_report} n'a pas de données présente dans la base de données\"\n",
    ")\n",
    "\n",
    "del df_"
   ]
  },
  {
   "cell_type": "markdown",
   "id": "bee37964-cb24-46dc-8a9c-60ce4d3077ef",
   "metadata": {},
   "source": [
    "# III.📥Importation des Données\n",
    "  \n",
    "L'utilisateur doit veiller à ce que les fichiers respectent le format attendu et soient placés dans les répertoires dédiés avant de procéder au traitement."
   ]
  },
  {
   "cell_type": "markdown",
   "id": "408b4aaf-9aed-4a83-aad8-4d0253e6c4ab",
   "metadata": {},
   "source": [
    "## 📌1. Importation du fichier `Fichier Suivi des Stocks`\n",
    "\n",
    "- **Emplacement du fichier :** Le fichier doit être placé dans le répertoire dédié :  \n",
    "  **`Fichier Suivi de Stock/data/<programme>/Fichier Suivi de Stock`**\n",
    "  \n",
    "- **En cas d'erreur :**  \n",
    "  - Vérifiez que le fichier est bien présent dans le répertoire.  \n",
    "  - Assurez-vous que toutes les colonnes requises sont bien renseignées.  \n",
    "  - Contrôlez que le fichier est bien accessible et non corrompu."
   ]
  },
  {
   "cell_type": "code",
   "execution_count": null,
   "id": "ba1f1ad3-67dd-4a67-8d37-11e09e814cc8",
   "metadata": {},
   "outputs": [],
   "source": [
    "fp_suvi_stock = (\n",
    "    Path(workspace.files_path)\n",
    "    / f\"Fichier Suivi de Stock/data/{programme}/Fichier Suivi de Stock\"\n",
    "    / Path(fp_suvi_stock).name\n",
    ")\n",
    "src_wb = pyxl.load_workbook(fp_suvi_stock)\n",
    "sheetnames = src_wb.sheetnames"
   ]
  },
  {
   "cell_type": "markdown",
   "id": "679201eb-f060-452a-b0dc-9f299afdd5bc",
   "metadata": {},
   "source": [
    "## 📌2. Importation de la feuille `Etat de stock de la NPSP`"
   ]
  },
  {
   "cell_type": "code",
   "execution_count": null,
   "id": "5cb0bb3e-01a9-44de-9f82-f4844bc6cea3",
   "metadata": {},
   "outputs": [],
   "source": [
    "sheet_stock_npsp = compute_indicators.utils.check_if_sheet_name_in_file(\"Etat de stock\", sheetnames)\n",
    "\n",
    "assert sheet_stock_npsp is not None, print(\n",
    "    f\"La feuille `Etat de stock` n'est pas dans la liste {sheetnames} du classeur excel\"\n",
    ")\n",
    "\n",
    "df_etat_stock_npsp = pd.read_excel(fp_suvi_stock, sheet_name=sheet_stock_npsp, skiprows=4)\n",
    "\n",
    "del sheet_stock_npsp\n",
    "\n",
    "df_etat_stock_npsp = df_etat_stock_npsp.loc[df_etat_stock_npsp[\"Nouveau code\"].notna()]\n",
    "\n",
    "df_etat_stock_npsp = compute_indicators.file_utils.process_etat_stock_npsp(\n",
    "    df_etat_stock_npsp, date_report, programme\n",
    ")\n",
    "\n",
    "df_etat_stock_npsp.head(2)"
   ]
  },
  {
   "cell_type": "markdown",
   "id": "5f111988-26d2-42fd-80d3-e28d9547114d",
   "metadata": {},
   "source": [
    "## 📌3. Importation de la feuille `Stock detaille`"
   ]
  },
  {
   "cell_type": "code",
   "execution_count": null,
   "id": "1496d1c8-076b-4a9f-ac46-616633ccc593",
   "metadata": {},
   "outputs": [],
   "source": [
    "sheet_stock_detaille = compute_indicators.utils.check_if_sheet_name_in_file(\n",
    "    \"Stock detaille\", sheetnames\n",
    ")\n",
    "\n",
    "assert sheet_stock_detaille is not None, print(\n",
    "    f\"La feuille `Stock detaille` n'est pas dans la liste {sheetnames} du classeur excel\"\n",
    ")\n",
    "\n",
    "df_stock_detaille = pd.read_excel(fp_suvi_stock, sheet_name=sheet_stock_detaille)\n",
    "\n",
    "max_date_year = pd.Timestamp.max.year\n",
    "\n",
    "try:\n",
    "    df_stock_detaille[\"Date limite de consommation\"] = df_stock_detaille[\n",
    "        \"Date limite de consommation\"\n",
    "    ].apply(lambda x: x if x.year < max_date_year else x.replace(year=max_date_year - 1))\n",
    "except Exception:\n",
    "    df_stock_detaille[\"Date limite de consommation\"] = df_stock_detaille[\n",
    "        \"Date limite de consommation\"\n",
    "    ].str.strip()\n",
    "\n",
    "    df_stock_detaille[\"Date limite de consommation\"] = df_stock_detaille[\n",
    "        \"Date limite de consommation\"\n",
    "    ].apply(\n",
    "        lambda x: x if int(x[-4:]) < max_date_year else x.replace(x[-4:], str(max_date_year - 1))\n",
    "    )\n",
    "\n",
    "df_stock_detaille[\"Date limite de consommation\"] = pd.to_datetime(\n",
    "    df_stock_detaille[\"Date limite de consommation\"], format=\"%d/%m/%Y\"\n",
    ")\n",
    "\n",
    "del sheet_stock_detaille, max_date_year\n",
    "\n",
    "df_stock_detaille.head(2)"
   ]
  },
  {
   "cell_type": "markdown",
   "id": "069cccb1-5cb9-411f-9520-8a0f19258037",
   "metadata": {},
   "source": [
    "## 📌4. Importation de la feuille `Distribution X3`"
   ]
  },
  {
   "cell_type": "code",
   "execution_count": null,
   "id": "f723453b-ef15-4430-a690-c90e0a1b38fd",
   "metadata": {},
   "outputs": [],
   "source": [
    "sheet_distribution_x3 = compute_indicators.utils.check_if_sheet_name_in_file(\n",
    "    \"Distribution X3\", sheetnames\n",
    ")\n",
    "\n",
    "assert sheet_distribution_x3 is not None, print(\n",
    "    f\"La feuille `Distribution X3` n'est pas dans la liste {sheetnames} du classeur excel\"\n",
    ")\n",
    "\n",
    "df_distribution = pd.read_excel(fp_suvi_stock, sheet_name=sheet_distribution_x3)\n",
    "\n",
    "del sheet_distribution_x3\n",
    "\n",
    "df_distribution.head(2)"
   ]
  },
  {
   "cell_type": "markdown",
   "id": "a34aa5b6-79f2-4f60-85cd-318ff7f32311",
   "metadata": {},
   "source": [
    "## 📌5. Importation de la feuille `Receptions`"
   ]
  },
  {
   "cell_type": "code",
   "execution_count": null,
   "id": "2a7767d3-5a11-4009-a437-67dd8870a0f3",
   "metadata": {},
   "outputs": [],
   "source": [
    "sheet_reception = compute_indicators.utils.check_if_sheet_name_in_file(\"Receptions\", sheetnames)\n",
    "\n",
    "assert sheet_reception is not None, print(\n",
    "    f\"La feuille `Receptions` n'est pas dans la liste {sheetnames} du classeur excel\"\n",
    ")\n",
    "\n",
    "df_receptions = pd.read_excel(fp_suvi_stock, sheet_name=sheet_reception)\n",
    "\n",
    "del sheet_reception\n",
    "\n",
    "df_receptions.head(2)"
   ]
  },
  {
   "cell_type": "markdown",
   "id": "97d8786f-ef4d-4fb2-933f-665a84e59afd",
   "metadata": {},
   "source": [
    "## 📌6. Importation de la feuille `PPI`"
   ]
  },
  {
   "cell_type": "code",
   "execution_count": null,
   "id": "ca0bbd35-35e2-4078-a6f5-bea1283d17f5",
   "metadata": {},
   "outputs": [],
   "source": [
    "sheet_ppi = compute_indicators.utils.check_if_sheet_name_in_file(\"PPI\", sheetnames)\n",
    "\n",
    "assert sheet_ppi is not None, print(\n",
    "    f\"La feuille `PPI` n'est pas dans la liste {sheetnames} du classeur excel\"\n",
    ")\n",
    "\n",
    "df_ppi = pd.read_excel(fp_suvi_stock, sheet_name=sheet_ppi, skiprows=2)\n",
    "\n",
    "del sheet_ppi\n",
    "\n",
    "df_ppi.head(2)"
   ]
  },
  {
   "cell_type": "markdown",
   "id": "4f4c69b0-4818-4ae8-a0c7-92da1a353c56",
   "metadata": {},
   "source": [
    "## 📌7. Importation de la feuille  `Prélèvement`"
   ]
  },
  {
   "cell_type": "code",
   "execution_count": null,
   "id": "915bb72f-182f-4190-a83d-9294c11d39cb",
   "metadata": {},
   "outputs": [],
   "source": [
    "sheet_prelev = compute_indicators.utils.check_if_sheet_name_in_file(\"Prelèvement CQ\", sheetnames)\n",
    "\n",
    "assert sheet_prelev is not None, print(\n",
    "    f\"La feuille `Prelèvement CQ` n'est pas dans la liste {sheetnames} du classeur excel\"\n",
    ")\n",
    "\n",
    "df_prelevement = pd.read_excel(fp_suvi_stock, sheet_name=sheet_prelev, skiprows=2)\n",
    "\n",
    "del sheet_prelev\n",
    "\n",
    "df_prelevement.head(2)"
   ]
  },
  {
   "cell_type": "markdown",
   "id": "e29fc366-c3f8-4af2-9488-2efb6d5dca97",
   "metadata": {},
   "source": [
    "## 📌8. Importation de la feuille `Plan d'approvisionnement`"
   ]
  },
  {
   "cell_type": "code",
   "execution_count": null,
   "id": "2ea73ac4-24f8-4278-a06c-e46a96e3245f",
   "metadata": {},
   "outputs": [],
   "source": [
    "sheet_approv = compute_indicators.utils.check_if_sheet_name_in_file(\"Plan d'appro\", sheetnames)\n",
    "\n",
    "assert sheet_approv is not None, print(\n",
    "    f\"La feuille `Plan d'appro` n'est pas dans la liste {sheetnames} du classeur excel\"\n",
    ")\n",
    "\n",
    "df_plan_approv = pd.read_excel(fp_suvi_stock, sheet_name=sheet_approv)\n",
    "\n",
    "df_plan_approv.head()"
   ]
  },
  {
   "cell_type": "markdown",
   "id": "c5b9274c-1feb-4fb8-a71d-0bcb6ac96f6f",
   "metadata": {},
   "source": [
    "## 📌9. Importation de la feuille `Statut Produits`"
   ]
  },
  {
   "cell_type": "code",
   "execution_count": null,
   "id": "179513be-cd67-4636-bc13-619927537b4a",
   "metadata": {},
   "outputs": [],
   "source": [
    "sheet_statut_prod = compute_indicators.utils.check_if_sheet_name_in_file(\n",
    "    \"Statut Produits\", sheetnames\n",
    ")\n",
    "\n",
    "assert sheet_statut_prod is not None, print(\n",
    "    f\"La feuille `Statut Produits` n'est pas dans la liste {sheetnames} du classeur excel\"\n",
    ")\n",
    "\n",
    "df_statut_prod = pd.read_excel(fp_suvi_stock, sheet_name=sheet_statut_prod, skiprows=1)\n",
    "df_statut_prod[\"programme\"] = programme\n",
    "df_statut_prod.head()"
   ]
  },
  {
   "cell_type": "markdown",
   "id": "22fcafc1-0cb7-4746-8ae5-db7deba95887",
   "metadata": {},
   "source": [
    "## 📌10. Importation de la feuille `Annexe 1 - Consolidation`"
   ]
  },
  {
   "cell_type": "code",
   "execution_count": null,
   "id": "83e0beab-9968-4194-83a2-fb0d1749f54c",
   "metadata": {},
   "outputs": [],
   "source": [
    "sheet_annexe_1 = compute_indicators.utils.check_if_sheet_name_in_file(\n",
    "    \"Annexe 1 - Consolidation\", sheetnames\n",
    ")\n",
    "\n",
    "assert sheet_annexe_1 is not None, print(\n",
    "    f\"La feuille `Annexe 1 - Consolidation` n'est pas dans la liste {sheetnames} du classeur excel\"\n",
    ")\n",
    "\n",
    "df_annexe = pd.read_excel(\n",
    "    fp_suvi_stock, sheet_name=sheet_annexe_1, skiprows=2, usecols=\"A:T\"\n",
    ").dropna(how=\"all\")\n",
    "\n",
    "COLUMN_MAPPING = {\n",
    "    \"Stock Théorique\": \"stock_theorique_mois_precedent\",\n",
    "}\n",
    "df_annexe.rename(\n",
    "    columns={\"CODE\": \"code_produit\"},\n",
    "    inplace=True,\n",
    ")\n",
    "\n",
    "df_annexe.rename(\n",
    "    columns=lambda col: next(\n",
    "        (v for k, v in COLUMN_MAPPING.items() if re.search(k, col, re.I)), col\n",
    "    ),\n",
    "    inplace=True,\n",
    ")\n",
    "\n",
    "df_annexe.head(3)"
   ]
  },
  {
   "cell_type": "markdown",
   "id": "f3932d17-f4d3-41e2-bc6a-f45b3201bff7",
   "metadata": {},
   "source": [
    "# IV. Mise à jour des informations"
   ]
  },
  {
   "cell_type": "markdown",
   "id": "9f679aa4-7ab8-4b09-bd7e-009c12868e2e",
   "metadata": {},
   "source": [
    "## 1. Mise à jour des informations sur le produit en se basant sur la feuille `Statut Produits`\n",
    "\n",
    "À l’issue des réunions mensuelles, des ajustements peuvent être effectués sur les informations de produits.\n",
    "Ces ajustements incluent :\n",
    "\n",
    " * l’ajout de nouveaux produits,\n",
    " * la suppression de produits existants,\n",
    " * la modification des attributs ou métadonnées associées à certains produits.\n",
    "\n",
    "La fonction suivante a pour objectif de journaliser ces opérations afin d'assurer une traçabilité complète des modifications apportées."
   ]
  },
  {
   "cell_type": "code",
   "execution_count": null,
   "id": "22fe8454-8aa4-4309-b2eb-46381b0966b5",
   "metadata": {},
   "outputs": [],
   "source": [
    "process_statut_prod(df_statut_prod, schema_name, stock_sync_manager)"
   ]
  },
  {
   "cell_type": "markdown",
   "id": "a80ae391-d5b0-4556-aeb8-ca3517b026ec",
   "metadata": {},
   "source": [
    "## 2. Mise à jour des informations Produits en se basant sur la feuille `Plan d'appro`"
   ]
  },
  {
   "cell_type": "code",
   "execution_count": null,
   "id": "3ef12ee5-b647-4aa2-b0e5-566a4fa68c0d",
   "metadata": {},
   "outputs": [],
   "source": [
    "df_pa = df_plan_approv.rename(\n",
    "    columns={\n",
    "        \"Acronym\": \"acronym\",\n",
    "        \"Coût unitaire moyen (en dollar)\": \"cout_unitaire_moyen_qat\",\n",
    "        \"Facteur de conversion de QAT vers SAGE\": \"facteur_de_conversion_qat_sage\",\n",
    "    }\n",
    ")"
   ]
  },
  {
   "cell_type": "code",
   "execution_count": null,
   "id": "5829601e-1e3f-4b7b-8fe9-829fe5dcc516",
   "metadata": {},
   "outputs": [],
   "source": [
    "stock_sync_manager.synchronize_product_metadata(df_pa, programme)\n",
    "\n",
    "del df_pa"
   ]
  },
  {
   "cell_type": "markdown",
   "id": "aa4a8245-3021-4179-a5bb-5dcae15c63a9",
   "metadata": {},
   "source": [
    "## 2. Recherche des modifications sur `Annexe 1 - Consolidation`"
   ]
  },
  {
   "cell_type": "code",
   "execution_count": null,
   "id": "0be7cf74-da24-457e-8687-3c891c948f0c",
   "metadata": {},
   "outputs": [],
   "source": [
    "interface = OpenpyxlInterface(wb=src_wb, use_cache=True)\n",
    "interface.clear_cache()\n",
    "data_list = []\n",
    "for row in src_wb[sheet_annexe_1].iter_rows(min_row=5, max_col=19):\n",
    "    data = []\n",
    "    for cell in row:\n",
    "        if gstf.utils.has_formula(cell):\n",
    "            result = interface.calc_cell(cell.coordinate, sheet_annexe_1)\n",
    "            data.append(result)\n",
    "        else:\n",
    "            data.append(cell.value)\n",
    "    data_list.append(data)"
   ]
  },
  {
   "cell_type": "code",
   "execution_count": null,
   "id": "59abf3fd-66c7-4ad1-ba21-9a0f3293964f",
   "metadata": {},
   "outputs": [],
   "source": [
    "if data_list:\n",
    "    df_annexe = pd.DataFrame(data_list, columns=df_annexe.columns)\n",
    "\n",
    "    df_annexe.fillna(np.nan, inplace=True)\n",
    "\n",
    "    del data_list, data, result\n",
    "\n",
    "df_annexe.head(3)"
   ]
  },
  {
   "cell_type": "markdown",
   "id": "823c5159-f53e-4645-b02a-503c690ef52f",
   "metadata": {},
   "source": [
    "## 3. Recherche des modifications sur les `DMM`"
   ]
  },
  {
   "cell_type": "code",
   "execution_count": null,
   "id": "680a69a0-d52d-4c6a-94bc-8f6adfed701a",
   "metadata": {},
   "outputs": [],
   "source": [
    "# DMM échélonnée par mois\n",
    "interface.clear_cache()\n",
    "data_list = []\n",
    "for start, row in enumerate(\n",
    "    src_wb[sheet_annexe_1].iter_rows(\n",
    "        min_row=4,\n",
    "        min_col=pyxl.utils.column_index_from_string(\"V\"),\n",
    "        max_col=pyxl.utils.column_index_from_string(\"BE\"),\n",
    "    ),\n",
    "    start=1,\n",
    "):\n",
    "    data = []\n",
    "    for cell in row:\n",
    "        if gstf.utils.has_formula(cell):\n",
    "            result = interface.calc_cell(cell.coordinate, sheet_annexe_1)\n",
    "            data.append(result)\n",
    "        else:\n",
    "            data.append(cell.value)\n",
    "    if start == 1:\n",
    "        new_data = []\n",
    "        unnamed_counter = 22  # Colonne de début des DMM\n",
    "        for value in data:\n",
    "            if value is None:\n",
    "                new_data.append(f\"Unnamed: {unnamed_counter}\")\n",
    "                unnamed_counter += 23\n",
    "            else:\n",
    "                new_data.append(value)\n",
    "        data = new_data\n",
    "    data_list.append(data)\n",
    "del new_data"
   ]
  },
  {
   "cell_type": "code",
   "execution_count": null,
   "id": "dead9ac3-eeb4-4ce2-ae11-954db5949bef",
   "metadata": {},
   "outputs": [],
   "source": [
    "df_dmm = pd.concat(\n",
    "    [df_annexe[[\"code_produit\"]], pd.DataFrame(data_list[1:], columns=data_list[0])],\n",
    "    axis=1,\n",
    ")"
   ]
  },
  {
   "cell_type": "code",
   "execution_count": null,
   "id": "16acaa54-edeb-4b89-a650-5f2be3036b3d",
   "metadata": {},
   "outputs": [],
   "source": [
    "df_stock_track_dmm = df_dmm[[col for col in df_dmm.columns if \"Unnamed\" not in str(col)]]\n",
    "\n",
    "df_stock_track_dmm = pd.melt(\n",
    "    df_stock_track_dmm, id_vars=\"code_produit\", var_name=\"date_report\", value_name=\"dmm\"\n",
    ")  # .drop_duplicates()\n",
    "\n",
    "df_stock_track_dmm[\"date_report\"] = (\n",
    "    df_stock_track_dmm[\"date_report\"]\n",
    "    .apply(lambda x: pd.to_datetime(str(x)[:10], format=\"%Y-%m-%d\"))\n",
    "    .astype(\"<M8[ns]\")\n",
    ")"
   ]
  },
  {
   "cell_type": "code",
   "execution_count": null,
   "id": "72511fb3-0a72-45c6-9be9-c7303b654ef5",
   "metadata": {},
   "outputs": [],
   "source": [
    "# Extraction des informations pour le mois courant\n",
    "interface.clear_cache()\n",
    "data_list = []\n",
    "for row in src_wb[sheet_annexe_1].iter_rows(\n",
    "    min_row=3,\n",
    "    min_col=pyxl.utils.column_index_from_string(\"BG\"),\n",
    "    max_col=pyxl.utils.column_index_from_string(\"BJ\"),\n",
    "):\n",
    "    data = []\n",
    "    for cell in row:\n",
    "        if gstf.utils.has_formula(cell):\n",
    "            result = interface.calc_cell(cell.coordinate, sheet_annexe_1)\n",
    "            data.append(result)\n",
    "        else:\n",
    "            data.append(cell.value)\n",
    "    data_list.append(data)"
   ]
  },
  {
   "cell_type": "code",
   "execution_count": null,
   "id": "fb65f142-d393-48b0-b192-ae282f2afda9",
   "metadata": {},
   "outputs": [],
   "source": [
    "df_dmm_curent_month = pd.concat(\n",
    "    [df_annexe[[\"code_produit\"]], pd.DataFrame(data_list[1:], columns=data_list[0])],\n",
    "    axis=1,\n",
    ").dropna(how=\"all\")\n",
    "\n",
    "df_dmm_curent_month[\"date_report\"] = pd.to_datetime(date_report, format=\"%Y-%m-%d\")\n",
    "df_dmm_curent_month.columns = df_dmm_curent_month.columns.str.replace(\"\\n\", \" \")\n",
    "df_dmm_curent_month.rename(\n",
    "    columns={\n",
    "        \"Nbre de mois de considérés\": \"nbre_mois_consideres\",\n",
    "        \"Distributions enregistrées sur les mois de considérés\": \"distributions_mois_consideres\",\n",
    "        \"DMM Calculée  (à valider pour ce mois)\": \"dmm_calculee\",\n",
    "        \"COMMENTAIRE\": \"commentaire\",\n",
    "    },\n",
    "    inplace=True,\n",
    ")\n",
    "\n",
    "df_dmm_curent_month.head(2)"
   ]
  },
  {
   "cell_type": "code",
   "execution_count": null,
   "id": "9aae7d17-294f-437a-939c-95367de17484",
   "metadata": {},
   "outputs": [],
   "source": [
    "assert (\n",
    "    df_stock_track_dmm.merge(\n",
    "        df_dmm_curent_month, how=\"left\", on=[\"code_produit\", \"date_report\"]\n",
    "    ).shape[0]\n",
    "    == df_stock_track_dmm.shape[0]\n",
    ")\n",
    "\n",
    "df_stock_track_dmm = df_stock_track_dmm.merge(\n",
    "    df_dmm_curent_month, how=\"left\", on=[\"code_produit\", \"date_report\"]\n",
    ")"
   ]
  },
  {
   "cell_type": "code",
   "execution_count": null,
   "id": "46afbd3c-e9d8-42d2-b812-c38678964eb9",
   "metadata": {},
   "outputs": [],
   "source": [
    "cols_df_dmm = df_dmm.columns.to_list()\n",
    "\n",
    "mapping = {\n",
    "    col: cols_df_dmm[i - 1] for i, col in enumerate(cols_df_dmm) if \"Unnamed\" in str(col) and i > 0\n",
    "}\n",
    "\n",
    "\n",
    "df = pd.melt(\n",
    "    df_dmm,\n",
    "    id_vars=[\"code_produit\"],\n",
    "    value_vars=[col for col in df_dmm.columns if not pd.isna(col)],\n",
    "    var_name=\"date_report\",\n",
    ")\n",
    "\n",
    "df[\"date_report\"] = df[\"date_report\"].map(mapping)\n",
    "\n",
    "df = df.loc[df.value.notna()]\n",
    "\n",
    "df_stock_track_dmm_histo = (\n",
    "    df_stock_track_dmm[[\"code_produit\", \"date_report\", \"dmm\"]]\n",
    "    .merge(df.drop(columns=\"value\"), on=[\"code_produit\", \"date_report\"])\n",
    "    .rename(columns={\"date_report\": \"date_report_prev\"})\n",
    ")\n",
    "\n",
    "df_stock_track_dmm_histo[\"date_report\"] = pd.to_datetime(date_report, format=\"%Y-%m-%d\")\n",
    "\n",
    "del df, mapping\n",
    "\n",
    "df_stock_track_dmm_histo.head()"
   ]
  },
  {
   "cell_type": "markdown",
   "id": "46b5546a-5e3c-4567-ad50-4173900c7ba4",
   "metadata": {},
   "source": [
    "## 4. Recherche des modifications sur les `CMM`"
   ]
  },
  {
   "cell_type": "code",
   "execution_count": null,
   "id": "c489b2fb-5c63-451d-b68f-1e8a7a358726",
   "metadata": {},
   "outputs": [],
   "source": [
    "eomonth = (pd.to_datetime(date_report) + pd.offsets.MonthEnd(0)).strftime(\"%Y-%m-%d\")\n",
    "\n",
    "df_stock_prog_nat = stock_sync_manager.get_table_data(\n",
    "    query=QUERY_ETAT_STOCK_PROGRAMME.format(eomonth=eomonth, programme=programme)\n",
    ")\n",
    "\n",
    "df_stock_prog_nat[\"Code_produit\"] = df_stock_prog_nat[\"Code_produit\"].astype(int)\n",
    "\n",
    "df_stock_prog_nat.head(3)"
   ]
  },
  {
   "cell_type": "code",
   "execution_count": null,
   "id": "aef99e87-5a10-490a-b1f3-70cc8a9e62d5",
   "metadata": {},
   "outputs": [],
   "source": [
    "header_row = list(\n",
    "    src_wb[sheet_annexe_1].iter_rows(\n",
    "        min_row=4,\n",
    "        max_row=4,\n",
    "        min_col=pyxl.utils.column_index_from_string(\"BL\"),\n",
    "        max_col=pyxl.utils.column_index_from_string(\"CJ\"),\n",
    "    )\n",
    ")[0]\n",
    "\n",
    "dico_cols = {}\n",
    "for cell in header_row:\n",
    "    if not isinstance(cell, pyxl.cell.MergedCell):\n",
    "        dico_cols[str(cell.value)[:10]] = cell.column"
   ]
  },
  {
   "cell_type": "code",
   "execution_count": null,
   "id": "fdf228cf-fc2a-416b-8595-64c5ab0462dd",
   "metadata": {},
   "outputs": [],
   "source": [
    "# Mise à jour des valeur de cellule car la formule ArrondiSup n'est pas prise en charge dans la version actuelle du package utilisée\n",
    "for row in src_wb[sheet_annexe_1].iter_rows(\n",
    "    min_row=5, min_col=dico_cols[date_report], max_col=dico_cols[date_report]\n",
    "):\n",
    "    for cell in row:\n",
    "        if has_formula(cell):\n",
    "            code_produit, facteur_conversion = (\n",
    "                src_wb[sheet_annexe_1].cell(cell.row, 1).value,\n",
    "                src_wb[sheet_annexe_1].cell(cell.row, 8).value,\n",
    "            )\n",
    "            df = df_stock_prog_nat.loc[df_stock_prog_nat.Code_produit == int(code_produit)]\n",
    "            if not df.empty:\n",
    "                value = (\n",
    "                    math.ceil(df.CONSO.sum() / int(facteur_conversion))\n",
    "                    if not pd.isna(facteur_conversion) and facteur_conversion != 0\n",
    "                    else 0\n",
    "                )\n",
    "                cell = src_wb[sheet_annexe_1].cell(\n",
    "                    row=cell.row, column=dico_cols[date_report], value=value\n",
    "                )\n",
    "            else:\n",
    "                cell = src_wb[sheet_annexe_1].cell(\n",
    "                    row=cell.row, column=dico_cols[date_report], value=0\n",
    "                )\n",
    "\n",
    "del df"
   ]
  },
  {
   "cell_type": "code",
   "execution_count": null,
   "id": "602e011b-9ab6-4ce3-b29a-8a5e234969ef",
   "metadata": {},
   "outputs": [],
   "source": [
    "# CMM échélonnée par mois\n",
    "interface.clear_cache()\n",
    "data_list = []\n",
    "for start, row in enumerate(\n",
    "    src_wb[sheet_annexe_1].iter_rows(\n",
    "        min_row=4,\n",
    "        min_col=pyxl.utils.column_index_from_string(\"BL\"),\n",
    "        max_col=pyxl.utils.column_index_from_string(\"CJ\"),\n",
    "    ),\n",
    "    start=1,\n",
    "):\n",
    "    data = []\n",
    "    for cell in row:\n",
    "        if gstf.utils.has_formula(cell):\n",
    "            result = interface.calc_cell(cell.coordinate, sheet_annexe_1)\n",
    "            data.append(result)\n",
    "        else:\n",
    "            data.append(cell.value)\n",
    "    if start == 1:\n",
    "        new_data = []\n",
    "        unnamed_counter = 65  # Colonne de début des CMM\n",
    "        for value in data:\n",
    "            if value is None:\n",
    "                new_data.append(f\"Unnamed: {unnamed_counter}\")\n",
    "                unnamed_counter += 2\n",
    "            else:\n",
    "                new_data.append(value)\n",
    "        data = new_data\n",
    "    data_list.append(data)\n",
    "del new_data"
   ]
  },
  {
   "cell_type": "code",
   "execution_count": null,
   "id": "72cca9de-8953-46d5-98f7-80627f234af0",
   "metadata": {},
   "outputs": [],
   "source": [
    "df_cmm = pd.concat(\n",
    "    [df_annexe[[\"code_produit\"]], pd.DataFrame(data_list[1:], columns=data_list[0])],\n",
    "    axis=1,\n",
    ")"
   ]
  },
  {
   "cell_type": "code",
   "execution_count": null,
   "id": "03ed3a50-6d15-4b39-9db7-46174794c99f",
   "metadata": {},
   "outputs": [],
   "source": [
    "df_stock_track_cmm = df_cmm[[col for col in df_cmm.columns if \"Unnamed\" not in str(col)]]\n",
    "\n",
    "df_stock_track_cmm = pd.melt(\n",
    "    df_stock_track_cmm, id_vars=\"code_produit\", var_name=\"date_report\", value_name=\"cmm\"\n",
    ")  # .drop_duplicates()\n",
    "\n",
    "df_stock_track_cmm[\"date_report\"] = (\n",
    "    df_stock_track_cmm[\"date_report\"]\n",
    "    .apply(lambda x: pd.to_datetime(str(x)[:10], format=\"%Y-%m-%d\"))\n",
    "    .astype(\"<M8[ns]\")\n",
    ")"
   ]
  },
  {
   "cell_type": "code",
   "execution_count": null,
   "id": "43e677af-abbd-4d76-b655-ff32ec1b2f6e",
   "metadata": {},
   "outputs": [],
   "source": [
    "# Extraction des informations pour le mois courant\n",
    "interface.clear_cache()\n",
    "data_list = []\n",
    "for row in src_wb[sheet_annexe_1].iter_rows(\n",
    "    min_row=3,\n",
    "    min_col=pyxl.utils.column_index_from_string(\"CW\"),\n",
    "    max_col=pyxl.utils.column_index_from_string(\"CZ\"),\n",
    "):\n",
    "    data = []\n",
    "    for cell in row:\n",
    "        if gstf.utils.has_formula(cell):\n",
    "            result = interface.calc_cell(cell.coordinate, sheet_annexe_1)\n",
    "            data.append(result)\n",
    "        else:\n",
    "            data.append(cell.value)\n",
    "    data_list.append(data)"
   ]
  },
  {
   "cell_type": "code",
   "execution_count": null,
   "id": "a031068a-358d-442f-a4b3-938fb5a01a56",
   "metadata": {},
   "outputs": [],
   "source": [
    "df_cmm_currenth_month = pd.concat(\n",
    "    [df_annexe[[\"code_produit\"]], pd.DataFrame(data_list[1:], columns=data_list[0])],\n",
    "    axis=1,\n",
    ").dropna(how=\"all\")\n",
    "\n",
    "df_cmm_currenth_month[\"date_report\"] = pd.to_datetime(date_report, format=\"%Y-%m-%d\")\n",
    "df_cmm_currenth_month.columns = df_cmm_currenth_month.columns.str.replace(\"\\n\", \" \")\n",
    "df_cmm_currenth_month.rename(\n",
    "    columns={\n",
    "        \"Nbre de mois de considérés\": \"nbre_mois_consideres\",\n",
    "        \"Consommations enregistrées sur les mois de considérés\": \"conso_mois_consideres\",\n",
    "        \"CMM Calculée en fin du mois\": \"cmm_calculee\",\n",
    "        \"COMMENTAIRE\": \"commentaire\",\n",
    "    },\n",
    "    inplace=True,\n",
    ")\n",
    "\n",
    "df_cmm_currenth_month.head(2)"
   ]
  },
  {
   "cell_type": "code",
   "execution_count": null,
   "id": "b5642db2-178e-4f09-a925-96f997266107",
   "metadata": {},
   "outputs": [],
   "source": [
    "assert (\n",
    "    df_stock_track_cmm.merge(\n",
    "        df_cmm_currenth_month, how=\"left\", on=[\"code_produit\", \"date_report\"]\n",
    "    ).shape[0]\n",
    "    == df_stock_track_cmm.shape[0]\n",
    ")\n",
    "\n",
    "df_stock_track_cmm = df_stock_track_cmm.merge(\n",
    "    df_cmm_currenth_month, how=\"left\", on=[\"code_produit\", \"date_report\"]\n",
    ")"
   ]
  },
  {
   "cell_type": "code",
   "execution_count": null,
   "id": "c6168bd2-ac4f-4ca9-9db3-3168580d9542",
   "metadata": {},
   "outputs": [],
   "source": [
    "# CMM histo\n",
    "cols_df_cmm = df_cmm.columns.to_list()\n",
    "\n",
    "mapping = {\n",
    "    col: cols_df_cmm[i - 1] for i, col in enumerate(cols_df_cmm) if \"Unnamed\" in str(col) and i > 0\n",
    "}\n",
    "\n",
    "\n",
    "df = pd.melt(\n",
    "    df_cmm,\n",
    "    id_vars=[\"code_produit\"],\n",
    "    value_vars=[col for col in df_cmm.columns if not pd.isna(col)],\n",
    "    var_name=\"date_report\",\n",
    ")\n",
    "\n",
    "df[\"date_report\"] = df[\"date_report\"].map(mapping)\n",
    "\n",
    "df = df.loc[df.value.notna()]\n",
    "\n",
    "df_stock_track_cmm_histo = (\n",
    "    df_stock_track_cmm[[\"code_produit\", \"date_report\", \"cmm\"]]\n",
    "    .merge(df.drop(columns=\"value\"), on=[\"code_produit\", \"date_report\"])\n",
    "    .rename(columns={\"date_report\": \"date_report_prev\"})\n",
    ")\n",
    "\n",
    "df_stock_track_cmm_histo[\"date_report\"] = pd.to_datetime(date_report, format=\"%Y-%m-%d\")\n",
    "\n",
    "del df, mapping\n",
    "\n",
    "df_stock_track_cmm_histo.head()"
   ]
  },
  {
   "cell_type": "markdown",
   "id": "599f14b1-7a73-4853-bd58-3e05bd900460",
   "metadata": {},
   "source": [
    "## 3. Recherche des modifications sur `Annexe 2 - Suivi des Stocks`"
   ]
  },
  {
   "cell_type": "code",
   "execution_count": null,
   "id": "13e0f6af-53f9-4b69-8364-979450d2a747",
   "metadata": {},
   "outputs": [],
   "source": [
    "%%time\n",
    "sheet_annexe_2 = compute_indicators.utils.check_if_sheet_name_in_file(\n",
    "    \"Annexe 2 - Suivi des Stocks\", sheetnames\n",
    ")\n",
    "interface.clear_cache()\n",
    "data_list = []\n",
    "columns_letter = []\n",
    "for start, row in enumerate(\n",
    "    src_wb[sheet_annexe_2].iter_rows(\n",
    "        min_row=5,\n",
    "        min_col=pyxl.utils.column_index_from_string(\"I\"),\n",
    "        max_col=pyxl.utils.column_index_from_string(\"AR\"),\n",
    "    ),\n",
    "    start=1,\n",
    "):\n",
    "    data = []\n",
    "    for cell in row:\n",
    "        try:\n",
    "            if gstf.has_formula(cell):\n",
    "                result = interface.calc_cell(cell.coordinate, sheet_annexe_2)\n",
    "                data.append(result)\n",
    "            else:\n",
    "                data.append(cell.value)\n",
    "        except:\n",
    "            continue\n",
    "    data_list.append(data)"
   ]
  },
  {
   "cell_type": "code",
   "execution_count": null,
   "id": "9b13bac8-6b56-4267-9329-dd285ca60703",
   "metadata": {},
   "outputs": [],
   "source": [
    "# L'ancienne valeur de column letter permet d'identifier les valeurs suivantes\n",
    "columns_letter = [\n",
    "    \"SDU_CENTRAL\",\n",
    "    \"DMM_CENTRAL\",\n",
    "    \"MSD_CENTRAL\",\n",
    "    \"STATUT_CENTRAL\",\n",
    "    \"CONSO_DECENTRALISE\",\n",
    "    \"SDU_DECENTRALISE\",\n",
    "    \"CMM_DECENTRALISE\",\n",
    "    \"MSD_DECENTRALISE\",\n",
    "    \"STATUT_DECENTRALISE\",\n",
    "    \"nombre_de_site_en_rupture_annexe_2\",\n",
    "    \"SDU_NATIONAL\",\n",
    "    \"CMM_NATIONAL\",\n",
    "    \"MSD_NATIONAL\",\n",
    "    \"STATUT_NATIONAL\",\n",
    "    \"Date de Péremption la plus proche (BRUTE)\",\n",
    "    \"Date de Péremption la plus proche\",\n",
    "    \"Quantité correspondante\",\n",
    "    \"MSD correspondant\",\n",
    "    \"Durée d'utilisation à la NPSP (mois)\",\n",
    "    \"Nombre de jours restant avant l'expiration\",\n",
    "    \"Moins de 6 mois (RED)\",\n",
    "    \"Entre 6 et 12 mois (ORANGE)\",\n",
    "    \"Plus de 12 mois (GREEN)\",\n",
    "    \"Qtité attendue Annexe 2\",\n",
    "    \"MSD attendu Annexe 2\",\n",
    "    \"Qtité réceptionnés non en Stock\",\n",
    "    \"MSD reçu\",\n",
    "    \"Financement\",\n",
    "    \"Date Probable de Livraison\",\n",
    "    \"Date Effective de Livraison\",\n",
    "    \"Statut\",\n",
    "    \"Analyse du risque / Commentaires\",\n",
    "    \"Diligences au niveau Central\",\n",
    "    \"Diligences au niveau périphérique\",\n",
    "    \"Responsable\",\n",
    "    \"Dilig. Choisie\",\n",
    "]"
   ]
  },
  {
   "cell_type": "code",
   "execution_count": null,
   "id": "0ee3e4c5-c5ab-4f98-9efd-692143081eca",
   "metadata": {},
   "outputs": [],
   "source": [
    "df_annexe = pd.concat([df_annexe, pd.DataFrame(data_list, columns=columns_letter)], axis=1)\n",
    "\n",
    "df_annexe.fillna(np.nan, inplace=True)\n",
    "\n",
    "del data_list, data\n",
    "\n",
    "df_annexe.head(3)"
   ]
  },
  {
   "cell_type": "code",
   "execution_count": null,
   "id": "3c7ad5c9-e58f-448f-ae12-b828e153b72e",
   "metadata": {},
   "outputs": [],
   "source": []
  },
  {
   "cell_type": "code",
   "execution_count": null,
   "id": "b79c3aad-fb45-4cba-85ee-d6201b2dcaca",
   "metadata": {},
   "outputs": [],
   "source": []
  },
  {
   "cell_type": "code",
   "execution_count": null,
   "id": "07930a47-c480-4783-be04-e4dddf38ef61",
   "metadata": {},
   "outputs": [],
   "source": []
  },
  {
   "cell_type": "code",
   "execution_count": null,
   "id": "67575815-819d-46c1-9dee-ea98829317a1",
   "metadata": {},
   "outputs": [],
   "source": []
  },
  {
   "cell_type": "code",
   "execution_count": null,
   "id": "c88a1ba0-b23a-4b1e-ab22-eb1b15c54662",
   "metadata": {},
   "outputs": [],
   "source": []
  }
 ],
 "metadata": {
  "kernelspec": {
   "display_name": "Python 3 (ipykernel)",
   "language": "python",
   "name": "python3"
  },
  "language_info": {
   "codemirror_mode": {
    "name": "ipython",
    "version": 3
   },
   "file_extension": ".py",
   "mimetype": "text/x-python",
   "name": "python",
   "nbconvert_exporter": "python",
   "pygments_lexer": "ipython3",
   "version": "3.12.8"
  }
 },
 "nbformat": 4,
 "nbformat_minor": 5
}
