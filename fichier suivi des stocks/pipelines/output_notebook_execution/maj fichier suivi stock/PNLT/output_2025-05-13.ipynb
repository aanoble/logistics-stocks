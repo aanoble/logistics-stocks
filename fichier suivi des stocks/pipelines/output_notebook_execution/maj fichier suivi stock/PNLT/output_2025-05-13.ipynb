{
 "cells": [
  {
   "cell_type": "markdown",
   "id": "6a2244e4-3226-4d02-9910-ca30f2ed18b5",
   "metadata": {
    "papermill": {
     "duration": 0.196576,
     "end_time": "2025-05-13T17:30:58.257879",
     "exception": false,
     "start_time": "2025-05-13T17:30:58.061303",
     "status": "completed"
    },
    "tags": []
   },
   "source": [
    "# I. Importation des bibliothèques"
   ]
  },
  {
   "cell_type": "code",
   "execution_count": 1,
   "id": "2ed56fcd-16c9-4916-98c6-aeb22c88b1c4",
   "metadata": {
    "execution": {
     "iopub.execute_input": "2025-05-13T17:30:58.724502Z",
     "iopub.status.busy": "2025-05-13T17:30:58.723554Z",
     "iopub.status.idle": "2025-05-13T17:31:04.423865Z",
     "shell.execute_reply": "2025-05-13T17:31:04.422298Z"
    },
    "papermill": {
     "duration": 5.941057,
     "end_time": "2025-05-13T17:31:04.426337",
     "exception": false,
     "start_time": "2025-05-13T17:30:58.485280",
     "status": "completed"
    },
    "tags": []
   },
   "outputs": [],
   "source": [
    "%%capture\n",
    "!pip install google-api-python-client google-auth-httplib2 google-auth-oauthlib unidecode"
   ]
  },
  {
   "cell_type": "code",
   "execution_count": 2,
   "id": "c8ef43d4-7fec-400f-86ce-30991fb1b709",
   "metadata": {
    "editable": true,
    "execution": {
     "iopub.execute_input": "2025-05-13T17:31:04.844926Z",
     "iopub.status.busy": "2025-05-13T17:31:04.844572Z",
     "iopub.status.idle": "2025-05-13T17:31:10.890114Z",
     "shell.execute_reply": "2025-05-13T17:31:10.888374Z"
    },
    "papermill": {
     "duration": 6.254437,
     "end_time": "2025-05-13T17:31:10.892382",
     "exception": false,
     "start_time": "2025-05-13T17:31:04.637945",
     "status": "completed"
    },
    "slideshow": {
     "slide_type": ""
    },
    "tags": []
   },
   "outputs": [],
   "source": [
    "%%capture\n",
    "import warnings\n",
    "\n",
    "warnings.filterwarnings(\"ignore\")\n",
    "\n",
    "import os\n",
    "from pathlib import Path\n",
    "\n",
    "import pandas as pd\n",
    "from openhexa.sdk import workspace\n",
    "from unidecode import unidecode\n",
    "\n",
    "pd.set_option(\"display.max_columns\", None)\n",
    "\n",
    "try:\n",
    "    import openpyxl as pyxl\n",
    "    from efc.interfaces.iopenpyxl import OpenpyxlInterface\n",
    "    from fuzzywuzzy import fuzz, process\n",
    "except ImportError or ModuleNotFoundError:\n",
    "    !pip install --quiet fuzzywuzzy python-Levenshtein excel-formulas-calculator\n",
    "    import openpyxl as pyxl\n",
    "    from efc.interfaces.iopenpyxl import OpenpyxlInterface"
   ]
  },
  {
   "cell_type": "markdown",
   "id": "8dab03ab-9414-4670-befc-42b395b44059",
   "metadata": {
    "papermill": {
     "duration": 0.202037,
     "end_time": "2025-05-13T17:31:11.302640",
     "exception": false,
     "start_time": "2025-05-13T17:31:11.100603",
     "status": "completed"
    },
    "tags": []
   },
   "source": [
    "## 1. Rafraîchissement des bibliothèques"
   ]
  },
  {
   "cell_type": "code",
   "execution_count": 3,
   "id": "3a21bbdd-e895-4122-91bc-553d8ae02123",
   "metadata": {
    "editable": true,
    "execution": {
     "iopub.execute_input": "2025-05-13T17:31:12.135837Z",
     "iopub.status.busy": "2025-05-13T17:31:12.134160Z",
     "iopub.status.idle": "2025-05-13T17:31:16.855592Z",
     "shell.execute_reply": "2025-05-13T17:31:16.854391Z"
    },
    "papermill": {
     "duration": 5.34536,
     "end_time": "2025-05-13T17:31:16.858052",
     "exception": false,
     "start_time": "2025-05-13T17:31:11.512692",
     "status": "completed"
    },
    "slideshow": {
     "slide_type": ""
    },
    "tags": []
   },
   "outputs": [],
   "source": [
    "%%capture\n",
    "# Ajout du chemin d'accès pour l'importation des bibliothèques\n",
    "os.chdir(Path(workspace.files_path, \"Fichier Suivi de Stock/code/pipelines\"))\n",
    "\n",
    "from importlib import reload\n",
    "\n",
    "import compute_indicators\n",
    "import export_file_to_google_drive as ggdrive\n",
    "import generate_stock_tracking_file as gstf\n",
    "\n",
    "# Importation des réquêtes sql\n",
    "from compute_indicators.queries import *\n",
    "from database_operations import stock_sync_manager\n",
    "\n",
    "# Reload modules\n",
    "reload(compute_indicators)\n",
    "reload(stock_sync_manager)\n",
    "reload(gstf)\n",
    "reload(ggdrive)"
   ]
  },
  {
   "cell_type": "markdown",
   "id": "e26b3de7-b38f-4e98-a2a4-a88374dd84b4",
   "metadata": {
    "papermill": {
     "duration": 0.969786,
     "end_time": "2025-05-13T17:31:18.037049",
     "exception": false,
     "start_time": "2025-05-13T17:31:17.067263",
     "status": "completed"
    },
    "tags": []
   },
   "source": [
    "# II. Définition des paramètres"
   ]
  },
  {
   "cell_type": "markdown",
   "id": "f4ff0a57-7b4d-48cb-bd95-b05c42e9b876",
   "metadata": {
    "papermill": {
     "duration": 0.224858,
     "end_time": "2025-05-13T17:31:18.448747",
     "exception": false,
     "start_time": "2025-05-13T17:31:18.223889",
     "status": "completed"
    },
    "tags": []
   },
   "source": [
    "## 1. Variables requises pour la conception du fichier de suivi de stock\n",
    "\n",
    "1. **Mois de création du rapport** : Si le processus est bien défini, cette valeur peut être automatisée. Sinon, elle sera fournie en tant qu'entrée du pipeline.\n",
    "\n",
    "2. **Programme** : Le programme concerné pour lequel le fichier de suivi de stock est généré.\n",
    "\n",
    "3. **Fichier État Mensuel** : Fichier transmis mensuellement par la N-PSP (source : SAGE X3).\n",
    "\n",
    "4. **Fichier Plan d'Approvisionnement** : Utilisé pour certains calculs, notamment dans la feuille « Prévision ». Ce fichier est généralement récupéré depuis la source QAT.\n",
    "\n",
    "5. **Fichier de mappage des produits** : Fichier assurant la correspondance entre les produits de SAGE X3 et ceux de QAT."
   ]
  },
  {
   "cell_type": "code",
   "execution_count": 4,
   "id": "5d4117a6-ce2c-4aff-b0ac-3e5dc57a2319",
   "metadata": {
    "editable": true,
    "execution": {
     "iopub.execute_input": "2025-05-13T17:31:19.548148Z",
     "iopub.status.busy": "2025-05-13T17:31:19.547107Z",
     "iopub.status.idle": "2025-05-13T17:31:19.552950Z",
     "shell.execute_reply": "2025-05-13T17:31:19.551803Z"
    },
    "papermill": {
     "duration": 0.897549,
     "end_time": "2025-05-13T17:31:19.554891",
     "exception": false,
     "start_time": "2025-05-13T17:31:18.657342",
     "status": "completed"
    },
    "slideshow": {
     "slide_type": ""
    },
    "tags": [
     "parameters"
    ]
   },
   "outputs": [],
   "source": [
    "month_report, year_report, programme, fp_etat_mensuel, fp_plan_approv, fp_map_prod = (\n",
    "    \"Mars\",\n",
    "    2025,\n",
    "    \"PNLP\",\n",
    "    \"Etat du stock et de distribution PNLP fin Mars 2025.xlsx\",\n",
    "    \"Détails de l`envoiMar. 2025 ~ Dec. 2026.csv\",\n",
    "    \"Mapping QAT_SAGEX3.xlsx\",\n",
    ")"
   ]
  },
  {
   "cell_type": "code",
   "execution_count": 5,
   "id": "e3259514",
   "metadata": {
    "execution": {
     "iopub.execute_input": "2025-05-13T17:31:20.697144Z",
     "iopub.status.busy": "2025-05-13T17:31:20.696006Z",
     "iopub.status.idle": "2025-05-13T17:31:20.702322Z",
     "shell.execute_reply": "2025-05-13T17:31:20.700963Z"
    },
    "papermill": {
     "duration": 0.940846,
     "end_time": "2025-05-13T17:31:20.704120",
     "exception": false,
     "start_time": "2025-05-13T17:31:19.763274",
     "status": "completed"
    },
    "tags": [
     "injected-parameters"
    ]
   },
   "outputs": [],
   "source": [
    "# Parameters\n",
    "month_report = \"Mars\"\n",
    "year_report = 2025\n",
    "programme = \"PNLT\"\n",
    "fp_etat_mensuel = \"Etat du stock et de distribution PNLT fin Mars 2025.xlsx\"\n",
    "fp_plan_approv = \"De\\u0301tails de l`envoiMar. 2025 ~ Mar. 2026.csv\"\n",
    "fp_map_prod = \"Mapping QAT_SAGEX3.xlsx\"\n"
   ]
  },
  {
   "cell_type": "code",
   "execution_count": 6,
   "id": "7ffc244d-b753-49f8-8240-825a1e982c0b",
   "metadata": {
    "editable": true,
    "execution": {
     "iopub.execute_input": "2025-05-13T17:31:27.681131Z",
     "iopub.status.busy": "2025-05-13T17:31:27.680668Z",
     "iopub.status.idle": "2025-05-13T17:31:27.691819Z",
     "shell.execute_reply": "2025-05-13T17:31:27.690630Z"
    },
    "papermill": {
     "duration": 6.805652,
     "end_time": "2025-05-13T17:31:27.693535",
     "exception": false,
     "start_time": "2025-05-13T17:31:20.887883",
     "status": "completed"
    },
    "slideshow": {
     "slide_type": ""
    },
    "tags": []
   },
   "outputs": [],
   "source": [
    "month_export, date_report = month_report, compute_indicators.utils.format_date(month_report, year_report)\n",
    "\n",
    "date_report_prec = (pd.to_datetime(date_report).replace(day=1) - pd.offsets.MonthBegin()).strftime('%Y-%m-%d')"
   ]
  },
  {
   "cell_type": "markdown",
   "id": "6891eb05-f888-4c75-bdd0-749559cc7ca1",
   "metadata": {
    "papermill": {
     "duration": 0.431889,
     "end_time": "2025-05-13T17:31:29.820157",
     "exception": false,
     "start_time": "2025-05-13T17:31:29.388268",
     "status": "completed"
    },
    "tags": []
   },
   "source": [
    "## 2. Test pour s'assurer que cette date n'existe pas déjà dans la base de données"
   ]
  },
  {
   "cell_type": "code",
   "execution_count": 7,
   "id": "8b840e61-7ee1-478a-a6c3-c5b614e25f8b",
   "metadata": {
    "execution": {
     "iopub.execute_input": "2025-05-13T17:31:30.260590Z",
     "iopub.status.busy": "2025-05-13T17:31:30.260084Z",
     "iopub.status.idle": "2025-05-13T17:31:30.383643Z",
     "shell.execute_reply": "2025-05-13T17:31:30.382250Z"
    },
    "papermill": {
     "duration": 0.349571,
     "end_time": "2025-05-13T17:31:30.385795",
     "exception": false,
     "start_time": "2025-05-13T17:31:30.036224",
     "status": "completed"
    },
    "tags": []
   },
   "outputs": [
    {
     "name": "stdout",
     "output_type": "stream",
     "text": [
      "Connexion à la base de données établie avec succès\n"
     ]
    }
   ],
   "source": [
    "stock_sync_manager.initialize_database_connection()\n",
    "\n",
    "schema_name = \"suivi_stock\""
   ]
  },
  {
   "cell_type": "code",
   "execution_count": 8,
   "id": "4f4adfa5-719d-419c-8352-ad2e4dcdab8c",
   "metadata": {
    "execution": {
     "iopub.execute_input": "2025-05-13T17:31:30.793057Z",
     "iopub.status.busy": "2025-05-13T17:31:30.791900Z",
     "iopub.status.idle": "2025-05-13T17:31:30.909826Z",
     "shell.execute_reply": "2025-05-13T17:31:30.908607Z"
    },
    "papermill": {
     "duration": 0.330024,
     "end_time": "2025-05-13T17:31:30.911886",
     "exception": false,
     "start_time": "2025-05-13T17:31:30.581862",
     "status": "completed"
    },
    "tags": []
   },
   "outputs": [],
   "source": [
    "# Ici il faudrait également s'assurer que le mois précédent est bien présent à l'intérieur de la base de données au cas où on arriverait à se tromper sur le mois de conception du fichier\n",
    "df_ = stock_sync_manager.get_table_data(\n",
    "    query=f\"\"\"\n",
    "    select * \n",
    "    from {schema_name}.stock_track st \n",
    "    inner join {schema_name}.dim_produit_stock_track prod ON st.id_dim_produit_stock_track_fk = prod.id_dim_produit_stock_track_pk\n",
    "    where prod.programme='{programme}' and date_report='{date_report_prec}'\n",
    "    limit 2\n",
    "    \"\"\"\n",
    ")\n",
    "\n",
    "assert (\n",
    "    df_.shape[0] != 0\n",
    "), f\"Le mois précédent {date_report_prec} n'est pas présent dans la base de données locale êtes-vous sûre d'avoir choisir le bon mois de conception du fichier.\"\n",
    "\n",
    "del df_"
   ]
  },
  {
   "cell_type": "markdown",
   "id": "f89423e0-797c-4c0a-8ad6-1addbd0a7e3e",
   "metadata": {
    "papermill": {
     "duration": 12.420472,
     "end_time": "2025-05-13T17:31:44.501249",
     "exception": false,
     "start_time": "2025-05-13T17:31:32.080777",
     "status": "completed"
    },
    "tags": []
   },
   "source": [
    "# III.📥Importation des Données\n",
    "  \n",
    "L'utilisateur doit veiller à ce que les fichiers respectent le format attendu et soient placés dans les répertoires dédiés avant de procéder au traitement."
   ]
  },
  {
   "cell_type": "markdown",
   "id": "73015d7f-f3c2-4b44-96b6-1046109dbf21",
   "metadata": {
    "papermill": {
     "duration": 0.201529,
     "end_time": "2025-05-13T17:31:44.915078",
     "exception": false,
     "start_time": "2025-05-13T17:31:44.713549",
     "status": "completed"
    },
    "tags": []
   },
   "source": [
    "## 📌1. Importation du fichier `Etat de Stock Mensuel`\n",
    "\n",
    "- **Format requis :** Assurez-vous que le fichier respecte le template standard défini.\n",
    "- **Emplacement du fichier :** Le fichier doit être placé dans le répertoire dédié :  \n",
    "  **`Fichier Suivi de Stock/data/<programme>/Etat de Stock Mensuel`**\n",
    "  \n",
    "- **En cas d'erreur :**  \n",
    "  - Vérifiez que le fichier est bien présent dans le répertoire.  \n",
    "  - Assurez-vous que toutes les colonnes requises sont bien renseignées.  \n",
    "  - Contrôlez que le fichier est bien accessible et non corrompu."
   ]
  },
  {
   "cell_type": "code",
   "execution_count": 9,
   "id": "d02f7b2e-14f1-4174-95b4-c6cdaea297be",
   "metadata": {
    "execution": {
     "iopub.execute_input": "2025-05-13T17:31:45.327393Z",
     "iopub.status.busy": "2025-05-13T17:31:45.326103Z",
     "iopub.status.idle": "2025-05-13T17:31:45.821450Z",
     "shell.execute_reply": "2025-05-13T17:31:45.820164Z"
    },
    "papermill": {
     "duration": 0.712788,
     "end_time": "2025-05-13T17:31:45.823791",
     "exception": false,
     "start_time": "2025-05-13T17:31:45.111003",
     "status": "completed"
    },
    "tags": []
   },
   "outputs": [],
   "source": [
    "fp_etat_mensuel = (\n",
    "    Path(workspace.files_path)\n",
    "    / f\"Fichier Suivi de Stock/data/{programme}/Etat de Stock Mensuel\"\n",
    "    / Path(fp_etat_mensuel).name\n",
    ")\n",
    "\n",
    "sheetnames = pd.ExcelFile(fp_etat_mensuel).sheet_names"
   ]
  },
  {
   "cell_type": "markdown",
   "id": "36d21a7b-10c2-4c81-bc38-2a1dcf0916a0",
   "metadata": {
    "papermill": {
     "duration": 0.194289,
     "end_time": "2025-05-13T17:31:46.243375",
     "exception": false,
     "start_time": "2025-05-13T17:31:46.049086",
     "status": "completed"
    },
    "tags": []
   },
   "source": [
    "## 📌2. Importation de la feuille `Etat de stock de la NPSP`"
   ]
  },
  {
   "cell_type": "code",
   "execution_count": 10,
   "id": "f81ccd62-7a85-4830-a782-0721f40ed33a",
   "metadata": {
    "execution": {
     "iopub.execute_input": "2025-05-13T17:31:49.078459Z",
     "iopub.status.busy": "2025-05-13T17:31:49.077606Z",
     "iopub.status.idle": "2025-05-13T17:31:49.513372Z",
     "shell.execute_reply": "2025-05-13T17:31:49.512256Z"
    },
    "papermill": {
     "duration": 0.657313,
     "end_time": "2025-05-13T17:31:49.515290",
     "exception": false,
     "start_time": "2025-05-13T17:31:48.857977",
     "status": "completed"
    },
    "tags": []
   },
   "outputs": [
    {
     "data": {
      "text/html": [
       "<div>\n",
       "<style scoped>\n",
       "    .dataframe tbody tr th:only-of-type {\n",
       "        vertical-align: middle;\n",
       "    }\n",
       "\n",
       "    .dataframe tbody tr th {\n",
       "        vertical-align: top;\n",
       "    }\n",
       "\n",
       "    .dataframe thead th {\n",
       "        text-align: right;\n",
       "    }\n",
       "</style>\n",
       "<table border=\"1\" class=\"dataframe\">\n",
       "  <thead>\n",
       "    <tr style=\"text-align: right;\">\n",
       "      <th></th>\n",
       "      <th>date_report</th>\n",
       "      <th>code_produit</th>\n",
       "      <th>designation</th>\n",
       "      <th>contenance</th>\n",
       "      <th>dmm</th>\n",
       "      <th>traceurs</th>\n",
       "      <th>stock_theorique_bke</th>\n",
       "      <th>stock_theorique_abj</th>\n",
       "      <th>stock_theorique_central</th>\n",
       "      <th>stock_theorique_fin_mois</th>\n",
       "      <th>msd</th>\n",
       "      <th>statut_stock</th>\n",
       "      <th>programme</th>\n",
       "    </tr>\n",
       "  </thead>\n",
       "  <tbody>\n",
       "    <tr>\n",
       "      <th>1</th>\n",
       "      <td>2025-03-01</td>\n",
       "      <td>3230012.0</td>\n",
       "      <td>EAU POUR PREPARATION inj. 5 ml amp. BTE/50</td>\n",
       "      <td>BOITE/50</td>\n",
       "      <td>1.666667</td>\n",
       "      <td>0.0</td>\n",
       "      <td>0.0</td>\n",
       "      <td>0.0</td>\n",
       "      <td>0.0</td>\n",
       "      <td>0.0</td>\n",
       "      <td>0</td>\n",
       "      <td>Rupture</td>\n",
       "      <td>PNLT</td>\n",
       "    </tr>\n",
       "    <tr>\n",
       "      <th>2</th>\n",
       "      <td>2025-03-01</td>\n",
       "      <td>4150219.0</td>\n",
       "      <td>CRACHOIR PLASTIQUE CARTON/1000</td>\n",
       "      <td>CARTON/1000</td>\n",
       "      <td>19</td>\n",
       "      <td>1.0</td>\n",
       "      <td>115.0</td>\n",
       "      <td>389.0</td>\n",
       "      <td>0.0</td>\n",
       "      <td>504.0</td>\n",
       "      <td>26.526316</td>\n",
       "      <td>Surstock</td>\n",
       "      <td>PNLT</td>\n",
       "    </tr>\n",
       "  </tbody>\n",
       "</table>\n",
       "</div>"
      ],
      "text/plain": [
       "  date_report  code_produit                                 designation  \\\n",
       "1  2025-03-01     3230012.0  EAU POUR PREPARATION inj. 5 ml amp. BTE/50   \n",
       "2  2025-03-01     4150219.0              CRACHOIR PLASTIQUE CARTON/1000   \n",
       "\n",
       "    contenance       dmm  traceurs  stock_theorique_bke  stock_theorique_abj  \\\n",
       "1     BOITE/50  1.666667       0.0                  0.0                  0.0   \n",
       "2  CARTON/1000        19       1.0                115.0                389.0   \n",
       "\n",
       "   stock_theorique_central  stock_theorique_fin_mois        msd statut_stock  \\\n",
       "1                      0.0                       0.0          0      Rupture   \n",
       "2                      0.0                     504.0  26.526316     Surstock   \n",
       "\n",
       "  programme  \n",
       "1      PNLT  \n",
       "2      PNLT  "
      ]
     },
     "execution_count": 10,
     "metadata": {},
     "output_type": "execute_result"
    }
   ],
   "source": [
    "sheet_stock_npsp = compute_indicators.utils.check_if_sheet_name_in_file('Etat de stock', sheetnames)\n",
    "\n",
    "assert sheet_stock_npsp is not None, print(f\"La feuille `Etat de stock` n'est pas dans la liste {sheetnames} du classeur excel\")\n",
    "\n",
    "df_etat_stock_npsp = pd.read_excel(fp_etat_mensuel, sheet_name=sheet_stock_npsp, skiprows=4)\n",
    "df_etat_stock_npsp.columns = df_etat_stock_npsp.columns.str.strip()\n",
    "\n",
    "del sheet_stock_npsp\n",
    "\n",
    "df_etat_stock_npsp = df_etat_stock_npsp.loc[df_etat_stock_npsp[\"Nouveau code\"].notna()]\n",
    "\n",
    "df_etat_stock_npsp = compute_indicators.file_utils.process_etat_stock_npsp(df_etat_stock_npsp, date_report, programme)\n",
    "\n",
    "df_etat_stock_npsp.head(2)"
   ]
  },
  {
   "cell_type": "markdown",
   "id": "35af5650-cbb4-4b85-9fdd-301717a20e95",
   "metadata": {
    "papermill": {
     "duration": 0.187233,
     "end_time": "2025-05-13T17:31:49.918253",
     "exception": false,
     "start_time": "2025-05-13T17:31:49.731020",
     "status": "completed"
    },
    "tags": []
   },
   "source": [
    "## 📌3. Importation de la feuille `Stock detaille`"
   ]
  },
  {
   "cell_type": "code",
   "execution_count": 11,
   "id": "7722f6ab-9539-4935-9e0d-7b8973dabf7c",
   "metadata": {
    "execution": {
     "iopub.execute_input": "2025-05-13T17:31:50.327410Z",
     "iopub.status.busy": "2025-05-13T17:31:50.326886Z",
     "iopub.status.idle": "2025-05-13T17:31:50.709244Z",
     "shell.execute_reply": "2025-05-13T17:31:50.707873Z"
    },
    "papermill": {
     "duration": 0.589639,
     "end_time": "2025-05-13T17:31:50.710932",
     "exception": false,
     "start_time": "2025-05-13T17:31:50.121293",
     "status": "completed"
    },
    "tags": []
   },
   "outputs": [
    {
     "data": {
      "text/html": [
       "<div>\n",
       "<style scoped>\n",
       "    .dataframe tbody tr th:only-of-type {\n",
       "        vertical-align: middle;\n",
       "    }\n",
       "\n",
       "    .dataframe tbody tr th {\n",
       "        vertical-align: top;\n",
       "    }\n",
       "\n",
       "    .dataframe thead th {\n",
       "        text-align: right;\n",
       "    }\n",
       "</style>\n",
       "<table border=\"1\" class=\"dataframe\">\n",
       "  <thead>\n",
       "    <tr style=\"text-align: right;\">\n",
       "      <th></th>\n",
       "      <th>Code produit</th>\n",
       "      <th>Désignation</th>\n",
       "      <th>Emplacement</th>\n",
       "      <th>Date limite de consommation</th>\n",
       "      <th>Numéro Lot</th>\n",
       "      <th>Sous lot (Programme)</th>\n",
       "      <th>Qté \\nPhysique</th>\n",
       "      <th>Qté \\nlivrable</th>\n",
       "      <th>Unit</th>\n",
       "      <th>Site</th>\n",
       "      <th>Dépôt</th>\n",
       "      <th>Sous lot</th>\n",
       "      <th>Site.1</th>\n",
       "      <th>Bailleur</th>\n",
       "      <th>Statut</th>\n",
       "    </tr>\n",
       "  </thead>\n",
       "  <tbody>\n",
       "    <tr>\n",
       "      <th>0</th>\n",
       "      <td>3050301</td>\n",
       "      <td>MOXIFLOXACINE 400 mg comp BTE/100</td>\n",
       "      <td>01A01A08</td>\n",
       "      <td>2027-11-01</td>\n",
       "      <td>DRD12358A</td>\n",
       "      <td>PNLT</td>\n",
       "      <td>398</td>\n",
       "      <td>398</td>\n",
       "      <td>BTE</td>\n",
       "      <td>PG01</td>\n",
       "      <td>PGWIB</td>\n",
       "      <td>PNLT</td>\n",
       "      <td>PG01</td>\n",
       "      <td>FM</td>\n",
       "      <td>A</td>\n",
       "    </tr>\n",
       "    <tr>\n",
       "      <th>1</th>\n",
       "      <td>3050301</td>\n",
       "      <td>MOXIFLOXACINE 400 mg comp BTE/100</td>\n",
       "      <td>01A01A13</td>\n",
       "      <td>2026-12-01</td>\n",
       "      <td>DRD01071B</td>\n",
       "      <td>PNLT</td>\n",
       "      <td>611</td>\n",
       "      <td>611</td>\n",
       "      <td>BTE</td>\n",
       "      <td>PG01</td>\n",
       "      <td>PGWIB</td>\n",
       "      <td>PNLT</td>\n",
       "      <td>PG01</td>\n",
       "      <td>BAILLEURX</td>\n",
       "      <td>A</td>\n",
       "    </tr>\n",
       "  </tbody>\n",
       "</table>\n",
       "</div>"
      ],
      "text/plain": [
       "   Code produit                        Désignation Emplacement  \\\n",
       "0       3050301  MOXIFLOXACINE 400 mg comp BTE/100    01A01A08   \n",
       "1       3050301  MOXIFLOXACINE 400 mg comp BTE/100    01A01A13   \n",
       "\n",
       "  Date limite de consommation Numéro Lot Sous lot (Programme)  Qté \\nPhysique  \\\n",
       "0                  2027-11-01  DRD12358A                 PNLT             398   \n",
       "1                  2026-12-01  DRD01071B                 PNLT             611   \n",
       "\n",
       "   Qté \\nlivrable Unit  Site  Dépôt Sous lot Site.1   Bailleur Statut  \n",
       "0             398  BTE  PG01  PGWIB     PNLT   PG01         FM      A  \n",
       "1             611  BTE  PG01  PGWIB     PNLT   PG01  BAILLEURX      A  "
      ]
     },
     "execution_count": 11,
     "metadata": {},
     "output_type": "execute_result"
    }
   ],
   "source": [
    "sheet_stock_detaille = compute_indicators.utils.check_if_sheet_name_in_file('Stock detaille', sheetnames)\n",
    "\n",
    "assert sheet_stock_detaille is not None, print(f\"La feuille `Stock detaille` n'est pas dans la liste {sheetnames} du classeur excel\")\n",
    "\n",
    "df_stock_detaille = pd.read_excel(fp_etat_mensuel, sheet_name=sheet_stock_detaille)\n",
    "df_stock_detaille.columns = df_stock_detaille.columns.str.strip()\n",
    "\n",
    "max_date_year = pd.Timestamp.max.year\n",
    "\n",
    "df_stock_detaille[\"Date limite de consommation\"] = df_stock_detaille[\"Date limite de consommation\"].apply(\n",
    "    lambda x: x if x.year<max_date_year else x.replace(year=max_date_year-1)\n",
    ")\n",
    "\n",
    "del sheet_stock_detaille, max_date_year\n",
    "\n",
    "df_stock_detaille.head(2)"
   ]
  },
  {
   "cell_type": "markdown",
   "id": "37de2849-dc65-4fb7-b87a-8faf7121f280",
   "metadata": {
    "papermill": {
     "duration": 7.649656,
     "end_time": "2025-05-13T17:32:01.277508",
     "exception": false,
     "start_time": "2025-05-13T17:31:53.627852",
     "status": "completed"
    },
    "tags": []
   },
   "source": [
    "## 📌4. Importation de la feuille `Distribution X3`"
   ]
  },
  {
   "cell_type": "code",
   "execution_count": 12,
   "id": "7f1f692a-9147-4ac1-b50e-a0ba94ca588f",
   "metadata": {
    "execution": {
     "iopub.execute_input": "2025-05-13T17:32:01.779361Z",
     "iopub.status.busy": "2025-05-13T17:32:01.778137Z",
     "iopub.status.idle": "2025-05-13T17:32:02.516643Z",
     "shell.execute_reply": "2025-05-13T17:32:02.515365Z"
    },
    "papermill": {
     "duration": 0.95525,
     "end_time": "2025-05-13T17:32:02.518786",
     "exception": false,
     "start_time": "2025-05-13T17:32:01.563536",
     "status": "completed"
    },
    "tags": []
   },
   "outputs": [
    {
     "data": {
      "text/html": [
       "<div>\n",
       "<style scoped>\n",
       "    .dataframe tbody tr th:only-of-type {\n",
       "        vertical-align: middle;\n",
       "    }\n",
       "\n",
       "    .dataframe tbody tr th {\n",
       "        vertical-align: top;\n",
       "    }\n",
       "\n",
       "    .dataframe thead th {\n",
       "        text-align: right;\n",
       "    }\n",
       "</style>\n",
       "<table border=\"1\" class=\"dataframe\">\n",
       "  <thead>\n",
       "    <tr style=\"text-align: right;\">\n",
       "      <th></th>\n",
       "      <th>Programme</th>\n",
       "      <th>Date de livraison</th>\n",
       "      <th>No commande</th>\n",
       "      <th>No livraison</th>\n",
       "      <th>Client</th>\n",
       "      <th>Raison sociale</th>\n",
       "      <th>Article</th>\n",
       "      <th>Désignation</th>\n",
       "      <th>Unité vente</th>\n",
       "      <th>Qté commandée</th>\n",
       "      <th>Qté livrée</th>\n",
       "    </tr>\n",
       "  </thead>\n",
       "  <tbody>\n",
       "    <tr>\n",
       "      <th>0</th>\n",
       "      <td>PNLT</td>\n",
       "      <td>2025-03-07</td>\n",
       "      <td>VAL01-PSG-2502-2159</td>\n",
       "      <td>BL01-PSG-2503-0691</td>\n",
       "      <td>61100034</td>\n",
       "      <td>CENTRE ANTITUBERCULEUX BOUAKE</td>\n",
       "      <td>3050229</td>\n",
       "      <td>ETHIONAMIDE 250 mg comp. BTE/100 BTE  -</td>\n",
       "      <td>BTE</td>\n",
       "      <td>10</td>\n",
       "      <td>10</td>\n",
       "    </tr>\n",
       "    <tr>\n",
       "      <th>1</th>\n",
       "      <td>PNLT</td>\n",
       "      <td>2025-03-07</td>\n",
       "      <td>VAL01-PSG-2502-2159</td>\n",
       "      <td>BL01-PSG-2503-0691</td>\n",
       "      <td>61100034</td>\n",
       "      <td>CENTRE ANTITUBERCULEUX BOUAKE</td>\n",
       "      <td>3050180</td>\n",
       "      <td>CLOFAZIMINE 100 mg caps. BTE/100 BTE  -</td>\n",
       "      <td>BTE</td>\n",
       "      <td>10</td>\n",
       "      <td>10</td>\n",
       "    </tr>\n",
       "  </tbody>\n",
       "</table>\n",
       "</div>"
      ],
      "text/plain": [
       "  Programme Date de livraison          No commande        No livraison  \\\n",
       "0      PNLT        2025-03-07  VAL01-PSG-2502-2159  BL01-PSG-2503-0691   \n",
       "1      PNLT        2025-03-07  VAL01-PSG-2502-2159  BL01-PSG-2503-0691   \n",
       "\n",
       "     Client                 Raison sociale  Article  \\\n",
       "0  61100034  CENTRE ANTITUBERCULEUX BOUAKE  3050229   \n",
       "1  61100034  CENTRE ANTITUBERCULEUX BOUAKE  3050180   \n",
       "\n",
       "                               Désignation Unité vente  Qté commandée  \\\n",
       "0  ETHIONAMIDE 250 mg comp. BTE/100 BTE  -         BTE             10   \n",
       "1  CLOFAZIMINE 100 mg caps. BTE/100 BTE  -         BTE             10   \n",
       "\n",
       "   Qté livrée  \n",
       "0          10  \n",
       "1          10  "
      ]
     },
     "execution_count": 12,
     "metadata": {},
     "output_type": "execute_result"
    }
   ],
   "source": [
    "sheet_distribution_x3 = compute_indicators.utils.check_if_sheet_name_in_file('Distribution', sheetnames)\n",
    "\n",
    "assert sheet_distribution_x3 is not None, print(f\"La feuille `Distribution X3` n'est pas dans la liste {sheetnames} du classeur excel\")\n",
    "\n",
    "df_distribution = pd.read_excel(fp_etat_mensuel, sheet_name=sheet_distribution_x3)\n",
    "df_distribution.columns = df_distribution.columns.str.strip()\n",
    "\n",
    "del sheet_distribution_x3\n",
    "\n",
    "df_distribution.head(2)"
   ]
  },
  {
   "cell_type": "markdown",
   "id": "ccad74b5-8006-4fb2-9728-ec7b22892cc2",
   "metadata": {
    "papermill": {
     "duration": 0.213209,
     "end_time": "2025-05-13T17:32:02.931462",
     "exception": false,
     "start_time": "2025-05-13T17:32:02.718253",
     "status": "completed"
    },
    "tags": []
   },
   "source": [
    "## 📌5. Importation de la feuille `Receptions`"
   ]
  },
  {
   "cell_type": "code",
   "execution_count": 13,
   "id": "aba1696b-3a88-4499-8e96-218b21191f07",
   "metadata": {
    "execution": {
     "iopub.execute_input": "2025-05-13T17:32:11.030539Z",
     "iopub.status.busy": "2025-05-13T17:32:11.029885Z",
     "iopub.status.idle": "2025-05-13T17:32:11.127434Z",
     "shell.execute_reply": "2025-05-13T17:32:11.126372Z"
    },
    "papermill": {
     "duration": 6.750875,
     "end_time": "2025-05-13T17:32:11.129566",
     "exception": false,
     "start_time": "2025-05-13T17:32:04.378691",
     "status": "completed"
    },
    "tags": []
   },
   "outputs": [
    {
     "data": {
      "text/html": [
       "<div>\n",
       "<style scoped>\n",
       "    .dataframe tbody tr th:only-of-type {\n",
       "        vertical-align: middle;\n",
       "    }\n",
       "\n",
       "    .dataframe tbody tr th {\n",
       "        vertical-align: top;\n",
       "    }\n",
       "\n",
       "    .dataframe thead th {\n",
       "        text-align: right;\n",
       "    }\n",
       "</style>\n",
       "<table border=\"1\" class=\"dataframe\">\n",
       "  <thead>\n",
       "    <tr style=\"text-align: right;\">\n",
       "      <th></th>\n",
       "      <th>Programme</th>\n",
       "      <th>Bailleur (Funding)</th>\n",
       "      <th>Nouveau code</th>\n",
       "      <th>Code</th>\n",
       "      <th>Désignation NPSP</th>\n",
       "      <th>Date de réception effective</th>\n",
       "      <th>Date effective de dépotage et/ou expertise</th>\n",
       "      <th>Quantité réceptionnée</th>\n",
       "      <th>Date d'entrée en machine</th>\n",
       "    </tr>\n",
       "  </thead>\n",
       "  <tbody>\n",
       "    <tr>\n",
       "      <th>0</th>\n",
       "      <td>PNLT</td>\n",
       "      <td>GOUV/ DAF SANTE</td>\n",
       "      <td>3050359</td>\n",
       "      <td>NaN</td>\n",
       "      <td>RIFAMPICINE 150 mg gélule BTE/100</td>\n",
       "      <td>2025-03-14</td>\n",
       "      <td>2025-03-17</td>\n",
       "      <td>36</td>\n",
       "      <td>2025-03-17</td>\n",
       "    </tr>\n",
       "    <tr>\n",
       "      <th>1</th>\n",
       "      <td>PNLT</td>\n",
       "      <td>GOUV/ DAF SANTE</td>\n",
       "      <td>3050356</td>\n",
       "      <td>NaN</td>\n",
       "      <td>RHZE (RIFAMP 150 - ISON 75 - PYRAZ 400 - ETHAM...</td>\n",
       "      <td>2025-03-14</td>\n",
       "      <td>2025-03-17</td>\n",
       "      <td>1000</td>\n",
       "      <td>2025-03-17</td>\n",
       "    </tr>\n",
       "  </tbody>\n",
       "</table>\n",
       "</div>"
      ],
      "text/plain": [
       "  Programme Bailleur (Funding)  Nouveau code Code  \\\n",
       "0      PNLT    GOUV/ DAF SANTE       3050359  NaN   \n",
       "1      PNLT    GOUV/ DAF SANTE       3050356  NaN   \n",
       "\n",
       "                                    Désignation NPSP  \\\n",
       "0                  RIFAMPICINE 150 mg gélule BTE/100   \n",
       "1  RHZE (RIFAMP 150 - ISON 75 - PYRAZ 400 - ETHAM...   \n",
       "\n",
       "  Date de réception effective Date effective de dépotage et/ou expertise  \\\n",
       "0                  2025-03-14                                 2025-03-17   \n",
       "1                  2025-03-14                                 2025-03-17   \n",
       "\n",
       "   Quantité réceptionnée Date d'entrée en machine  \n",
       "0                     36               2025-03-17  \n",
       "1                   1000               2025-03-17  "
      ]
     },
     "execution_count": 13,
     "metadata": {},
     "output_type": "execute_result"
    }
   ],
   "source": [
    "sheet_reception = compute_indicators.utils.check_if_sheet_name_in_file('Receptions', sheetnames)\n",
    "\n",
    "assert sheet_reception is not None, print(f\"La feuille `Receptions` n'est pas dans la liste {sheetnames} du classeur excel\")\n",
    "\n",
    "df_receptions = pd.read_excel(fp_etat_mensuel, sheet_name=sheet_reception)\n",
    "df_receptions.columns = df_receptions.columns.str.strip()\n",
    "\n",
    "del sheet_reception\n",
    "\n",
    "df_receptions.head(2)"
   ]
  },
  {
   "cell_type": "markdown",
   "id": "5fca5f1b-ec81-4434-b361-25edab77eb43",
   "metadata": {
    "papermill": {
     "duration": 0.248715,
     "end_time": "2025-05-13T17:32:11.571952",
     "exception": false,
     "start_time": "2025-05-13T17:32:11.323237",
     "status": "completed"
    },
    "tags": []
   },
   "source": [
    "## 📌6. Importation de la feuille `PPI`"
   ]
  },
  {
   "cell_type": "code",
   "execution_count": 14,
   "id": "028e57f8-0239-43a3-b979-56fc164212e4",
   "metadata": {
    "execution": {
     "iopub.execute_input": "2025-05-13T17:32:12.337965Z",
     "iopub.status.busy": "2025-05-13T17:32:12.337000Z",
     "iopub.status.idle": "2025-05-13T17:32:12.457733Z",
     "shell.execute_reply": "2025-05-13T17:32:12.456817Z"
    },
    "papermill": {
     "duration": 0.684204,
     "end_time": "2025-05-13T17:32:12.459729",
     "exception": false,
     "start_time": "2025-05-13T17:32:11.775525",
     "status": "completed"
    },
    "tags": []
   },
   "outputs": [
    {
     "data": {
      "text/html": [
       "<div>\n",
       "<style scoped>\n",
       "    .dataframe tbody tr th:only-of-type {\n",
       "        vertical-align: middle;\n",
       "    }\n",
       "\n",
       "    .dataframe tbody tr th {\n",
       "        vertical-align: top;\n",
       "    }\n",
       "\n",
       "    .dataframe thead th {\n",
       "        text-align: right;\n",
       "    }\n",
       "</style>\n",
       "<table border=\"1\" class=\"dataframe\">\n",
       "  <thead>\n",
       "    <tr style=\"text-align: right;\">\n",
       "      <th></th>\n",
       "      <th>Code Produit</th>\n",
       "      <th>Nom Produit</th>\n",
       "      <th>Unite</th>\n",
       "      <th>Numéro Lot</th>\n",
       "      <th>Date Peremption</th>\n",
       "      <th>Quantité</th>\n",
       "    </tr>\n",
       "  </thead>\n",
       "  <tbody>\n",
       "    <tr>\n",
       "      <th>0</th>\n",
       "      <td>3050228</td>\n",
       "      <td>ETHIONAMIDE 125mg comp. dispersible BTE/100</td>\n",
       "      <td>BTE</td>\n",
       "      <td>EDEH008</td>\n",
       "      <td>2025-01-01</td>\n",
       "      <td>25</td>\n",
       "    </tr>\n",
       "  </tbody>\n",
       "</table>\n",
       "</div>"
      ],
      "text/plain": [
       "   Code Produit                                  Nom Produit Unite Numéro Lot  \\\n",
       "0       3050228  ETHIONAMIDE 125mg comp. dispersible BTE/100   BTE    EDEH008   \n",
       "\n",
       "  Date Peremption  Quantité  \n",
       "0      2025-01-01        25  "
      ]
     },
     "execution_count": 14,
     "metadata": {},
     "output_type": "execute_result"
    }
   ],
   "source": [
    "sheet_ppi = compute_indicators.utils.check_if_sheet_name_in_file('PPI', sheetnames)\n",
    "\n",
    "assert sheet_ppi is not None, print(f\"La feuille `PPI` n'est pas dans la liste {sheetnames} du classeur excel\")\n",
    "\n",
    "df_ppi = pd.read_excel(fp_etat_mensuel, sheet_name=sheet_ppi, skiprows=2)\n",
    "df_ppi.columns = df_ppi.columns.str.strip()\n",
    "\n",
    "del sheet_ppi\n",
    "\n",
    "df_ppi.head(2)"
   ]
  },
  {
   "cell_type": "markdown",
   "id": "7d034716-4571-4dbd-ab3c-a59bc9cd8d70",
   "metadata": {
    "papermill": {
     "duration": 2.69948,
     "end_time": "2025-05-13T17:32:15.426390",
     "exception": false,
     "start_time": "2025-05-13T17:32:12.726910",
     "status": "completed"
    },
    "tags": []
   },
   "source": [
    "## 📌7. Importation de la feuille  `Prélèvement`"
   ]
  },
  {
   "cell_type": "code",
   "execution_count": 15,
   "id": "f19419ab-c0ad-444f-9d58-c816e6a3371b",
   "metadata": {
    "execution": {
     "iopub.execute_input": "2025-05-13T17:32:19.989787Z",
     "iopub.status.busy": "2025-05-13T17:32:19.989393Z",
     "iopub.status.idle": "2025-05-13T17:32:20.135811Z",
     "shell.execute_reply": "2025-05-13T17:32:20.134680Z"
    },
    "papermill": {
     "duration": 0.333807,
     "end_time": "2025-05-13T17:32:20.137762",
     "exception": false,
     "start_time": "2025-05-13T17:32:19.803955",
     "status": "completed"
    },
    "tags": []
   },
   "outputs": [
    {
     "data": {
      "text/html": [
       "<div>\n",
       "<style scoped>\n",
       "    .dataframe tbody tr th:only-of-type {\n",
       "        vertical-align: middle;\n",
       "    }\n",
       "\n",
       "    .dataframe tbody tr th {\n",
       "        vertical-align: top;\n",
       "    }\n",
       "\n",
       "    .dataframe thead th {\n",
       "        text-align: right;\n",
       "    }\n",
       "</style>\n",
       "<table border=\"1\" class=\"dataframe\">\n",
       "  <thead>\n",
       "    <tr style=\"text-align: right;\">\n",
       "      <th></th>\n",
       "      <th>Code Produit</th>\n",
       "      <th>Nom Produit</th>\n",
       "      <th>Unite</th>\n",
       "      <th>Numéro Lot</th>\n",
       "      <th>Date Peremption</th>\n",
       "      <th>Quantité</th>\n",
       "    </tr>\n",
       "  </thead>\n",
       "  <tbody>\n",
       "  </tbody>\n",
       "</table>\n",
       "</div>"
      ],
      "text/plain": [
       "Empty DataFrame\n",
       "Columns: [Code Produit, Nom Produit, Unite, Numéro Lot, Date Peremption, Quantité]\n",
       "Index: []"
      ]
     },
     "execution_count": 15,
     "metadata": {},
     "output_type": "execute_result"
    }
   ],
   "source": [
    "sheet_prelev = compute_indicators.utils.check_if_sheet_name_in_file('Prelèvement CQ', sheetnames)\n",
    "\n",
    "assert sheet_prelev is not None, print(f\"La feuille `Prelèvement CQ` n'est pas dans la liste {sheetnames} du classeur excel\")\n",
    "\n",
    "df_prelevement = pd.read_excel(fp_etat_mensuel, sheet_name=sheet_prelev, skiprows=2)\n",
    "df_prelevement.columns = df_prelevement.columns.str.strip()\n",
    "\n",
    "del sheet_prelev\n",
    "\n",
    "df_prelevement.head(2)"
   ]
  },
  {
   "cell_type": "markdown",
   "id": "6df2ffd3-0e49-4c80-adc1-1219f1756a8a",
   "metadata": {
    "papermill": {
     "duration": 0.188551,
     "end_time": "2025-05-13T17:32:20.525350",
     "exception": false,
     "start_time": "2025-05-13T17:32:20.336799",
     "status": "completed"
    },
    "tags": []
   },
   "source": [
    "## 📌8. Importation du fichier de `mapping des produits QAT et SAGE X3`\n",
    "\n",
    "- **Format requis :** Respectez la structure du fichier.  \n",
    "- **Emplacement du fichier :** Le fichier doit être placé dans le répertoire suivant :  \n",
    "  **`Fichier Suivi de Stock/data/Mapping produits QAT SAGE X3`**  \n",
    "- **En cas d'erreur :**\n",
    "  - Vérifiez que le fichier est bien présent dans le répertoire.  \n",
    "  - Assurez-vous que les données respectent le format attendu. \n",
    "  - Vérifiez l'intégrité du fichier et assurez-vous et corriger l'anomalie."
   ]
  },
  {
   "cell_type": "code",
   "execution_count": 16,
   "id": "d7c8434e-8083-4d70-91bf-07c813f36fe4",
   "metadata": {
    "execution": {
     "iopub.execute_input": "2025-05-13T17:32:23.310533Z",
     "iopub.status.busy": "2025-05-13T17:32:23.309349Z",
     "iopub.status.idle": "2025-05-13T17:32:23.315137Z",
     "shell.execute_reply": "2025-05-13T17:32:23.313994Z"
    },
    "papermill": {
     "duration": 2.603691,
     "end_time": "2025-05-13T17:32:23.317096",
     "exception": false,
     "start_time": "2025-05-13T17:32:20.713405",
     "status": "completed"
    },
    "tags": []
   },
   "outputs": [],
   "source": [
    "fp_map_prod = (\n",
    "    Path(workspace.files_path)\n",
    "    / \"Fichier Suivi de Stock/data/Mapping produits QAT SAGE X3\"\n",
    "    / Path(fp_map_prod).name\n",
    ")"
   ]
  },
  {
   "cell_type": "code",
   "execution_count": 17,
   "id": "8fb198eb-ad43-4572-b4ff-7f3cbcc52a13",
   "metadata": {
    "execution": {
     "iopub.execute_input": "2025-05-13T17:32:28.926575Z",
     "iopub.status.busy": "2025-05-13T17:32:28.925507Z",
     "iopub.status.idle": "2025-05-13T17:32:29.009521Z",
     "shell.execute_reply": "2025-05-13T17:32:29.008301Z"
    },
    "papermill": {
     "duration": 0.358209,
     "end_time": "2025-05-13T17:32:29.011787",
     "exception": false,
     "start_time": "2025-05-13T17:32:28.653578",
     "status": "completed"
    },
    "tags": []
   },
   "outputs": [],
   "source": [
    "assert fp_map_prod.exists(), \"Le fichier de mapping des produits n'a pas été retrouvé dans le dossier dédié\""
   ]
  },
  {
   "cell_type": "markdown",
   "id": "e9df904b-5610-4442-aac3-294e6a2e0330",
   "metadata": {
    "papermill": {
     "duration": 0.208919,
     "end_time": "2025-05-13T17:32:29.440002",
     "exception": false,
     "start_time": "2025-05-13T17:32:29.231083",
     "status": "completed"
    },
    "tags": []
   },
   "source": [
    "## 📌9. Importation du `Plan d'approvisionnement`\n",
    "\n",
    "- **Format requis :** Respectez la structure du fichier définie pour l’importation peut conserver le fichier brut extrait de QAT.  \n",
    "- **Emplacement du fichier :** Le fichier doit être placé dans le répertoire suivant :  \n",
    "  **`Fichier Suivi de Stock/data/<programme>/Plan d'Approvisionnement`**  \n",
    "- **En cas d'erreur :**\n",
    "  - Vérifiez que le fichier est bien présent dans le répertoire.  \n",
    "  - Assurez-vous que les données respectent le format attendu.\n",
    "  - Vérifiez l'intégrité du fichier et assurez-vous et corriger l'anomalie."
   ]
  },
  {
   "cell_type": "code",
   "execution_count": 18,
   "id": "e5fe00dc-e276-4175-ab18-a31b4eeffe6e",
   "metadata": {
    "execution": {
     "iopub.execute_input": "2025-05-13T17:32:30.120484Z",
     "iopub.status.busy": "2025-05-13T17:32:30.119781Z",
     "iopub.status.idle": "2025-05-13T17:32:30.125556Z",
     "shell.execute_reply": "2025-05-13T17:32:30.124430Z"
    },
    "papermill": {
     "duration": 0.494184,
     "end_time": "2025-05-13T17:32:30.127554",
     "exception": false,
     "start_time": "2025-05-13T17:32:29.633370",
     "status": "completed"
    },
    "tags": []
   },
   "outputs": [],
   "source": [
    "fp_plan_approv = (\n",
    "    Path(workspace.files_path)\n",
    "    / f\"Fichier Suivi de Stock/data/{programme}/Plan d'Approvisionnement\"\n",
    "    / Path(fp_plan_approv)\n",
    ")"
   ]
  },
  {
   "cell_type": "code",
   "execution_count": 19,
   "id": "e3eb96f7-270b-4a55-a8b7-d74a6342b06d",
   "metadata": {
    "execution": {
     "iopub.execute_input": "2025-05-13T17:32:31.504833Z",
     "iopub.status.busy": "2025-05-13T17:32:31.504148Z",
     "iopub.status.idle": "2025-05-13T17:32:32.065833Z",
     "shell.execute_reply": "2025-05-13T17:32:32.064786Z"
    },
    "papermill": {
     "duration": 1.736749,
     "end_time": "2025-05-13T17:32:32.067894",
     "exception": false,
     "start_time": "2025-05-13T17:32:30.331145",
     "status": "completed"
    },
    "tags": []
   },
   "outputs": [
    {
     "data": {
      "text/html": [
       "<div>\n",
       "<style scoped>\n",
       "    .dataframe tbody tr th:only-of-type {\n",
       "        vertical-align: middle;\n",
       "    }\n",
       "\n",
       "    .dataframe tbody tr th {\n",
       "        vertical-align: top;\n",
       "    }\n",
       "\n",
       "    .dataframe thead th {\n",
       "        text-align: right;\n",
       "    }\n",
       "</style>\n",
       "<table border=\"1\" class=\"dataframe\">\n",
       "  <thead>\n",
       "    <tr style=\"text-align: right;\">\n",
       "      <th></th>\n",
       "      <th>ID de produit QAT</th>\n",
       "      <th>Produits</th>\n",
       "      <th>ID de l`envoi QAT</th>\n",
       "      <th>Commande d`urgence</th>\n",
       "      <th>Commande PGI</th>\n",
       "      <th>Approvisionnement local</th>\n",
       "      <th>N° de commande de l`agent d`approvisionnement</th>\n",
       "      <th>Agent d`approvisionnement</th>\n",
       "      <th>Source de financement</th>\n",
       "      <th>Budget</th>\n",
       "      <th>Status</th>\n",
       "      <th>Quantite</th>\n",
       "      <th>DATE</th>\n",
       "      <th>Cout des Produits</th>\n",
       "      <th>Couts du fret</th>\n",
       "      <th>Couts totaux</th>\n",
       "      <th>Notes</th>\n",
       "      <th>Standard product code</th>\n",
       "      <th>cout_unitaire_moyen_qat</th>\n",
       "      <th>facteur_de_conversion_qat_sage</th>\n",
       "      <th>acronym</th>\n",
       "      <th>code_and_date_concate</th>\n",
       "    </tr>\n",
       "  </thead>\n",
       "  <tbody>\n",
       "    <tr>\n",
       "      <th>0</th>\n",
       "      <td>3727</td>\n",
       "      <td>Isoniazid 100 mg Dispersible Tablet  10 x 10 S...</td>\n",
       "      <td>167233</td>\n",
       "      <td>false</td>\n",
       "      <td>false</td>\n",
       "      <td>false</td>\n",
       "      <td></td>\n",
       "      <td>Govt</td>\n",
       "      <td>Govt</td>\n",
       "      <td>GOVTB_2024</td>\n",
       "      <td>Reçu</td>\n",
       "      <td>3500.0</td>\n",
       "      <td>2025-03-15</td>\n",
       "      <td>32060.0</td>\n",
       "      <td>9618.0</td>\n",
       "      <td>41678.0</td>\n",
       "      <td></td>\n",
       "      <td>3050257.0</td>\n",
       "      <td>9.118141</td>\n",
       "      <td>1</td>\n",
       "      <td>H 100 MG</td>\n",
       "      <td>3050257_2025-03-15</td>\n",
       "    </tr>\n",
       "    <tr>\n",
       "      <th>1</th>\n",
       "      <td>5245</td>\n",
       "      <td>Rifampicin/Isoniazid 150/75 mg Tablet  24 x 28...</td>\n",
       "      <td>167241</td>\n",
       "      <td>false</td>\n",
       "      <td>false</td>\n",
       "      <td>false</td>\n",
       "      <td></td>\n",
       "      <td>Govt</td>\n",
       "      <td>Govt</td>\n",
       "      <td>GOVTB_2024</td>\n",
       "      <td>Approuvé</td>\n",
       "      <td>5000.0</td>\n",
       "      <td>2025-05-31</td>\n",
       "      <td>175400.0</td>\n",
       "      <td>52620.0</td>\n",
       "      <td>228020.0</td>\n",
       "      <td></td>\n",
       "      <td>3050350.0</td>\n",
       "      <td>34.996439</td>\n",
       "      <td>1</td>\n",
       "      <td>RH 150</td>\n",
       "      <td>3050350_2025-05-31</td>\n",
       "    </tr>\n",
       "  </tbody>\n",
       "</table>\n",
       "</div>"
      ],
      "text/plain": [
       "   ID de produit QAT                                           Produits  \\\n",
       "0               3727  Isoniazid 100 mg Dispersible Tablet  10 x 10 S...   \n",
       "1               5245  Rifampicin/Isoniazid 150/75 mg Tablet  24 x 28...   \n",
       "\n",
       "   ID de l`envoi QAT Commande d`urgence Commande PGI Approvisionnement local  \\\n",
       "0             167233              false        false                   false   \n",
       "1             167241              false        false                   false   \n",
       "\n",
       "  N° de commande de l`agent d`approvisionnement Agent d`approvisionnement  \\\n",
       "0                                                                    Govt   \n",
       "1                                                                    Govt   \n",
       "\n",
       "  Source de financement      Budget    Status  Quantite       DATE  \\\n",
       "0                  Govt  GOVTB_2024      Reçu    3500.0 2025-03-15   \n",
       "1                  Govt  GOVTB_2024  Approuvé    5000.0 2025-05-31   \n",
       "\n",
       "   Cout des Produits  Couts du fret  Couts totaux Notes  \\\n",
       "0            32060.0         9618.0       41678.0         \n",
       "1           175400.0        52620.0      228020.0         \n",
       "\n",
       "   Standard product code  cout_unitaire_moyen_qat  \\\n",
       "0              3050257.0                 9.118141   \n",
       "1              3050350.0                34.996439   \n",
       "\n",
       "   facteur_de_conversion_qat_sage   acronym code_and_date_concate  \n",
       "0                               1  H 100 MG    3050257_2025-03-15  \n",
       "1                               1    RH 150    3050350_2025-05-31  "
      ]
     },
     "execution_count": 19,
     "metadata": {},
     "output_type": "execute_result"
    }
   ],
   "source": [
    "df_plan_approv = compute_indicators.file_utils.process_pa_files(fp_plan_approv, fp_map_prod, programme)\n",
    "\n",
    "df_plan_approv[\"facteur_de_conversion_qat_sage\"] = df_plan_approv[\"facteur_de_conversion_qat_sage\"].apply(\n",
    "    lambda x: x if not pd.isna(x) else 1\n",
    ")\n",
    "\n",
    "df_plan_approv.head(2)"
   ]
  },
  {
   "cell_type": "markdown",
   "id": "16319b53-77c7-423a-999a-37aa2052514e",
   "metadata": {
    "papermill": {
     "duration": 5.337879,
     "end_time": "2025-05-13T17:32:37.901458",
     "exception": false,
     "start_time": "2025-05-13T17:32:32.563579",
     "status": "completed"
    },
    "tags": []
   },
   "source": [
    "# IV.📊Calcul des Indicateurs"
   ]
  },
  {
   "cell_type": "markdown",
   "id": "46d1687e-eb8e-4515-9be3-1bc3ffb55184",
   "metadata": {
    "papermill": {
     "duration": 0.232487,
     "end_time": "2025-05-13T17:32:39.037170",
     "exception": false,
     "start_time": "2025-05-13T17:32:38.804683",
     "status": "completed"
    },
    "tags": []
   },
   "source": [
    "## 📌1. `Etat de Stock (1/2)`"
   ]
  },
  {
   "cell_type": "code",
   "execution_count": 20,
   "id": "177a7f70-8d09-45b6-94fd-0900686bfc84",
   "metadata": {
    "execution": {
     "iopub.execute_input": "2025-05-13T17:32:39.502379Z",
     "iopub.status.busy": "2025-05-13T17:32:39.501157Z",
     "iopub.status.idle": "2025-05-13T17:32:39.662263Z",
     "shell.execute_reply": "2025-05-13T17:32:39.661440Z"
    },
    "papermill": {
     "duration": 0.380358,
     "end_time": "2025-05-13T17:32:39.663996",
     "exception": false,
     "start_time": "2025-05-13T17:32:39.283638",
     "status": "completed"
    },
    "tags": []
   },
   "outputs": [
    {
     "name": "stdout",
     "output_type": "stream",
     "text": [
      "Connexion à la base de données établie avec succès\n"
     ]
    },
    {
     "data": {
      "text/html": [
       "<div>\n",
       "<style scoped>\n",
       "    .dataframe tbody tr th:only-of-type {\n",
       "        vertical-align: middle;\n",
       "    }\n",
       "\n",
       "    .dataframe tbody tr th {\n",
       "        vertical-align: top;\n",
       "    }\n",
       "\n",
       "    .dataframe thead th {\n",
       "        text-align: right;\n",
       "    }\n",
       "</style>\n",
       "<table border=\"1\" class=\"dataframe\">\n",
       "  <thead>\n",
       "    <tr style=\"text-align: right;\">\n",
       "      <th></th>\n",
       "      <th>id_dim_produit_stock_track_pk</th>\n",
       "      <th>code_produit</th>\n",
       "      <th>ancien_code</th>\n",
       "      <th>categorie</th>\n",
       "      <th>designation</th>\n",
       "      <th>type_produit</th>\n",
       "      <th>unit_niveau_central</th>\n",
       "      <th>unit_niveau_peripherique</th>\n",
       "      <th>facteur_de_conversion</th>\n",
       "      <th>designation_acronym</th>\n",
       "      <th>code_qat</th>\n",
       "      <th>programme</th>\n",
       "      <th>cout_unitaire_moyen_qat</th>\n",
       "      <th>facteur_de_conversion_qat_sage</th>\n",
       "      <th>stock_theorique_mois_precedent</th>\n",
       "    </tr>\n",
       "  </thead>\n",
       "  <tbody>\n",
       "    <tr>\n",
       "      <th>0</th>\n",
       "      <td>320</td>\n",
       "      <td>3050208</td>\n",
       "      <td>AF28132</td>\n",
       "      <td>PNLT - MEDICAMENTS DE PREMIERE LIGNE</td>\n",
       "      <td>E 100 (ETHAMBUTOL) 100 MG CP BTE/100</td>\n",
       "      <td>Non traceur</td>\n",
       "      <td>BOITE/100</td>\n",
       "      <td>COMPRIME</td>\n",
       "      <td>100</td>\n",
       "      <td>E 100</td>\n",
       "      <td>7318.0</td>\n",
       "      <td>PNLT</td>\n",
       "      <td>21.6616</td>\n",
       "      <td>1.0</td>\n",
       "      <td>241.0</td>\n",
       "    </tr>\n",
       "    <tr>\n",
       "      <th>1</th>\n",
       "      <td>321</td>\n",
       "      <td>3050356</td>\n",
       "      <td>AF28065</td>\n",
       "      <td>PNLT - MEDICAMENTS DE PREMIERE LIGNE</td>\n",
       "      <td>RHZE (RIFAMP150-ISON75-PYRAZ400-ETHAM275) CP B...</td>\n",
       "      <td>Traceur</td>\n",
       "      <td>BOITE/672</td>\n",
       "      <td>COMPRIME</td>\n",
       "      <td>672</td>\n",
       "      <td>RHZE</td>\n",
       "      <td>8901.0</td>\n",
       "      <td>PNLT</td>\n",
       "      <td>68.2000</td>\n",
       "      <td>1.0</td>\n",
       "      <td>-40.0</td>\n",
       "    </tr>\n",
       "  </tbody>\n",
       "</table>\n",
       "</div>"
      ],
      "text/plain": [
       "   id_dim_produit_stock_track_pk  code_produit ancien_code  \\\n",
       "0                            320       3050208     AF28132   \n",
       "1                            321       3050356     AF28065   \n",
       "\n",
       "                              categorie  \\\n",
       "0  PNLT - MEDICAMENTS DE PREMIERE LIGNE   \n",
       "1  PNLT - MEDICAMENTS DE PREMIERE LIGNE   \n",
       "\n",
       "                                         designation type_produit  \\\n",
       "0               E 100 (ETHAMBUTOL) 100 MG CP BTE/100  Non traceur   \n",
       "1  RHZE (RIFAMP150-ISON75-PYRAZ400-ETHAM275) CP B...      Traceur   \n",
       "\n",
       "  unit_niveau_central unit_niveau_peripherique  facteur_de_conversion  \\\n",
       "0           BOITE/100                 COMPRIME                    100   \n",
       "1           BOITE/672                 COMPRIME                    672   \n",
       "\n",
       "  designation_acronym code_qat programme  cout_unitaire_moyen_qat  \\\n",
       "0               E 100   7318.0      PNLT                  21.6616   \n",
       "1                RHZE   8901.0      PNLT                  68.2000   \n",
       "\n",
       "   facteur_de_conversion_qat_sage  stock_theorique_mois_precedent  \n",
       "0                             1.0                           241.0  \n",
       "1                             1.0                           -40.0  "
      ]
     },
     "execution_count": 20,
     "metadata": {},
     "output_type": "execute_result"
    }
   ],
   "source": [
    "stock_sync_manager.initialize_database_connection()\n",
    "\n",
    "schema_name = \"suivi_stock\"\n",
    "\n",
    "df_etat_stock = stock_sync_manager.get_table_data(\n",
    "    query=QUERY_ETAT_STOCK.format(\n",
    "        schema_name=schema_name, programme=programme, date_report_prec=date_report_prec\n",
    "    )\n",
    ").drop_duplicates()\n",
    "\n",
    "df_etat_stock.head(2)"
   ]
  },
  {
   "cell_type": "code",
   "execution_count": 21,
   "id": "0cc47bc4-3b68-4d26-882e-05b121b18ec5",
   "metadata": {
    "execution": {
     "iopub.execute_input": "2025-05-13T17:32:41.469310Z",
     "iopub.status.busy": "2025-05-13T17:32:41.468143Z",
     "iopub.status.idle": "2025-05-13T17:32:41.720112Z",
     "shell.execute_reply": "2025-05-13T17:32:41.718815Z"
    },
    "papermill": {
     "duration": 1.853033,
     "end_time": "2025-05-13T17:32:41.722100",
     "exception": false,
     "start_time": "2025-05-13T17:32:39.869067",
     "status": "completed"
    },
    "tags": []
   },
   "outputs": [
    {
     "data": {
      "text/html": [
       "<div>\n",
       "<style scoped>\n",
       "    .dataframe tbody tr th:only-of-type {\n",
       "        vertical-align: middle;\n",
       "    }\n",
       "\n",
       "    .dataframe tbody tr th {\n",
       "        vertical-align: top;\n",
       "    }\n",
       "\n",
       "    .dataframe thead th {\n",
       "        text-align: right;\n",
       "    }\n",
       "</style>\n",
       "<table border=\"1\" class=\"dataframe\">\n",
       "  <thead>\n",
       "    <tr style=\"text-align: right;\">\n",
       "      <th></th>\n",
       "      <th>id_dim_produit_stock_track_pk</th>\n",
       "      <th>code_produit</th>\n",
       "      <th>ancien_code</th>\n",
       "      <th>categorie</th>\n",
       "      <th>designation</th>\n",
       "      <th>type_produit</th>\n",
       "      <th>unit_niveau_central</th>\n",
       "      <th>unit_niveau_peripherique</th>\n",
       "      <th>facteur_de_conversion</th>\n",
       "      <th>designation_acronym</th>\n",
       "      <th>code_qat</th>\n",
       "      <th>programme</th>\n",
       "      <th>cout_unitaire_moyen_qat</th>\n",
       "      <th>facteur_de_conversion_qat_sage</th>\n",
       "      <th>stock_theorique_mois_precedent</th>\n",
       "      <th>Distribution effectuée</th>\n",
       "      <th>Quantité reçue entrée en stock</th>\n",
       "      <th>Quantité de PPI</th>\n",
       "      <th>Quantité prélévée en Contrôle Qualité (CQ)</th>\n",
       "      <th>Ajustement de stock</th>\n",
       "      <th>Stock Théorique Final SAGE</th>\n",
       "      <th>Stock Théorique Final Attendu</th>\n",
       "      <th>ECARTS</th>\n",
       "      <th>Justification des écarts</th>\n",
       "      <th>Diligences</th>\n",
       "      <th>Dilig. Choisie</th>\n",
       "    </tr>\n",
       "  </thead>\n",
       "  <tbody>\n",
       "    <tr>\n",
       "      <th>0</th>\n",
       "      <td>320</td>\n",
       "      <td>3050208</td>\n",
       "      <td>AF28132</td>\n",
       "      <td>PNLT - MEDICAMENTS DE PREMIERE LIGNE</td>\n",
       "      <td>E 100 (ETHAMBUTOL) 100 MG CP BTE/100</td>\n",
       "      <td>Non traceur</td>\n",
       "      <td>BOITE/100</td>\n",
       "      <td>COMPRIME</td>\n",
       "      <td>100</td>\n",
       "      <td>E 100</td>\n",
       "      <td>7318.0</td>\n",
       "      <td>PNLT</td>\n",
       "      <td>21.661600</td>\n",
       "      <td>1.0</td>\n",
       "      <td>241.0</td>\n",
       "      <td>0</td>\n",
       "      <td>0</td>\n",
       "      <td>0</td>\n",
       "      <td>0</td>\n",
       "      <td>NaN</td>\n",
       "      <td>241</td>\n",
       "      <td>241.0</td>\n",
       "      <td>0.0</td>\n",
       "      <td></td>\n",
       "      <td></td>\n",
       "      <td></td>\n",
       "    </tr>\n",
       "    <tr>\n",
       "      <th>1</th>\n",
       "      <td>321</td>\n",
       "      <td>3050356</td>\n",
       "      <td>AF28065</td>\n",
       "      <td>PNLT - MEDICAMENTS DE PREMIERE LIGNE</td>\n",
       "      <td>RHZE (RIFAMP150-ISON75-PYRAZ400-ETHAM275) CP B...</td>\n",
       "      <td>Traceur</td>\n",
       "      <td>BOITE/672</td>\n",
       "      <td>COMPRIME</td>\n",
       "      <td>672</td>\n",
       "      <td>RHZE</td>\n",
       "      <td>8901.0</td>\n",
       "      <td>PNLT</td>\n",
       "      <td>68.200000</td>\n",
       "      <td>1.0</td>\n",
       "      <td>-40.0</td>\n",
       "      <td>0</td>\n",
       "      <td>1000</td>\n",
       "      <td>0</td>\n",
       "      <td>0</td>\n",
       "      <td>NaN</td>\n",
       "      <td>1013</td>\n",
       "      <td>960.0</td>\n",
       "      <td>53.0</td>\n",
       "      <td></td>\n",
       "      <td></td>\n",
       "      <td></td>\n",
       "    </tr>\n",
       "    <tr>\n",
       "      <th>2</th>\n",
       "      <td>322</td>\n",
       "      <td>3050257</td>\n",
       "      <td>AF28140</td>\n",
       "      <td>PNLT - MEDICAMENTS DE PREMIERE LIGNE</td>\n",
       "      <td>H 100 MG (ISONIAZIDE)  CP BTE/100 BOITE  -</td>\n",
       "      <td>Traceur</td>\n",
       "      <td>BOITE/100</td>\n",
       "      <td>COMPRIME</td>\n",
       "      <td>100</td>\n",
       "      <td>H 100 MG</td>\n",
       "      <td>3727.0</td>\n",
       "      <td>PNLT</td>\n",
       "      <td>9.118141</td>\n",
       "      <td>1.0</td>\n",
       "      <td>60.0</td>\n",
       "      <td>0</td>\n",
       "      <td>3500</td>\n",
       "      <td>0</td>\n",
       "      <td>0</td>\n",
       "      <td>NaN</td>\n",
       "      <td>9238</td>\n",
       "      <td>3560.0</td>\n",
       "      <td>5678.0</td>\n",
       "      <td></td>\n",
       "      <td></td>\n",
       "      <td></td>\n",
       "    </tr>\n",
       "  </tbody>\n",
       "</table>\n",
       "</div>"
      ],
      "text/plain": [
       "   id_dim_produit_stock_track_pk  code_produit ancien_code  \\\n",
       "0                            320       3050208     AF28132   \n",
       "1                            321       3050356     AF28065   \n",
       "2                            322       3050257     AF28140   \n",
       "\n",
       "                              categorie  \\\n",
       "0  PNLT - MEDICAMENTS DE PREMIERE LIGNE   \n",
       "1  PNLT - MEDICAMENTS DE PREMIERE LIGNE   \n",
       "2  PNLT - MEDICAMENTS DE PREMIERE LIGNE   \n",
       "\n",
       "                                         designation type_produit  \\\n",
       "0               E 100 (ETHAMBUTOL) 100 MG CP BTE/100  Non traceur   \n",
       "1  RHZE (RIFAMP150-ISON75-PYRAZ400-ETHAM275) CP B...      Traceur   \n",
       "2         H 100 MG (ISONIAZIDE)  CP BTE/100 BOITE  -      Traceur   \n",
       "\n",
       "  unit_niveau_central unit_niveau_peripherique  facteur_de_conversion  \\\n",
       "0           BOITE/100                 COMPRIME                    100   \n",
       "1           BOITE/672                 COMPRIME                    672   \n",
       "2           BOITE/100                 COMPRIME                    100   \n",
       "\n",
       "  designation_acronym code_qat programme  cout_unitaire_moyen_qat  \\\n",
       "0               E 100   7318.0      PNLT                21.661600   \n",
       "1                RHZE   8901.0      PNLT                68.200000   \n",
       "2            H 100 MG   3727.0      PNLT                 9.118141   \n",
       "\n",
       "   facteur_de_conversion_qat_sage  stock_theorique_mois_precedent  \\\n",
       "0                             1.0                           241.0   \n",
       "1                             1.0                           -40.0   \n",
       "2                             1.0                            60.0   \n",
       "\n",
       "   Distribution effectuée  Quantité reçue entrée en stock  Quantité de PPI  \\\n",
       "0                       0                               0                0   \n",
       "1                       0                            1000                0   \n",
       "2                       0                            3500                0   \n",
       "\n",
       "   Quantité prélévée en Contrôle Qualité (CQ)  Ajustement de stock  \\\n",
       "0                                           0                  NaN   \n",
       "1                                           0                  NaN   \n",
       "2                                           0                  NaN   \n",
       "\n",
       "   Stock Théorique Final SAGE  Stock Théorique Final Attendu  ECARTS  \\\n",
       "0                         241                          241.0     0.0   \n",
       "1                        1013                          960.0    53.0   \n",
       "2                        9238                         3560.0  5678.0   \n",
       "\n",
       "  Justification des écarts Diligences Dilig. Choisie  \n",
       "0                                                     \n",
       "1                                                     \n",
       "2                                                     "
      ]
     },
     "metadata": {},
     "output_type": "display_data"
    },
    {
     "name": "stdout",
     "output_type": "stream",
     "text": [
      "CPU times: user 211 ms, sys: 8.1 ms, total: 219 ms\n",
      "Wall time: 244 ms\n"
     ]
    }
   ],
   "source": [
    "%%time\n",
    "df_etat_stock = compute_indicators.annexe_1.get_etat_stock_current_month(\n",
    "    df_etat_stock.copy(),\n",
    "    df_stock_detaille.copy(),\n",
    "    df_distribution.copy(),\n",
    "    df_ppi.copy(),\n",
    "    df_prelevement.copy(),\n",
    "    df_receptions.copy(),\n",
    "    date_report\n",
    ")"
   ]
  },
  {
   "cell_type": "markdown",
   "id": "67fc32ed-308b-4166-ba9b-0ed51410cb58",
   "metadata": {
    "papermill": {
     "duration": 6.69639,
     "end_time": "2025-05-13T17:32:48.656611",
     "exception": false,
     "start_time": "2025-05-13T17:32:41.960221",
     "status": "completed"
    },
    "tags": []
   },
   "source": [
    "## 📌2.`Distributions et Consommations` - `Annexe 1`"
   ]
  },
  {
   "cell_type": "markdown",
   "id": "060791ec-5daf-443b-86a2-2a9e9046a654",
   "metadata": {
    "papermill": {
     "duration": 0.2318,
     "end_time": "2025-05-13T17:32:49.105068",
     "exception": false,
     "start_time": "2025-05-13T17:32:48.873268",
     "status": "completed"
    },
    "tags": []
   },
   "source": [
    "### 2.1.`Distributions`"
   ]
  },
  {
   "cell_type": "code",
   "execution_count": 22,
   "id": "3d47d66d-04ec-4f76-9aa3-b36d9fb31117",
   "metadata": {
    "execution": {
     "iopub.execute_input": "2025-05-13T17:32:49.554341Z",
     "iopub.status.busy": "2025-05-13T17:32:49.553802Z",
     "iopub.status.idle": "2025-05-13T17:32:49.838079Z",
     "shell.execute_reply": "2025-05-13T17:32:49.836884Z"
    },
    "papermill": {
     "duration": 0.514237,
     "end_time": "2025-05-13T17:32:49.839758",
     "exception": false,
     "start_time": "2025-05-13T17:32:49.325521",
     "status": "completed"
    },
    "tags": []
   },
   "outputs": [
    {
     "name": "stdout",
     "output_type": "stream",
     "text": [
      "CPU times: user 107 ms, sys: 2.46 ms, total: 110 ms\n",
      "Wall time: 277 ms\n"
     ]
    }
   ],
   "source": [
    "%%time\n",
    "df_dmm_curent, df_dmm_histo = compute_indicators.annexe_1.get_dmm_current_month(\n",
    "    df_etat_stock.copy(),\n",
    "    programme,\n",
    "    date_report,\n",
    "    stock_sync_manager.civ_engine\n",
    ")"
   ]
  },
  {
   "cell_type": "markdown",
   "id": "1646a2e7-aad7-4fdb-b9a6-9c9556df601e",
   "metadata": {
    "papermill": {
     "duration": 9.116262,
     "end_time": "2025-05-13T17:32:59.168519",
     "exception": false,
     "start_time": "2025-05-13T17:32:50.052257",
     "status": "completed"
    },
    "tags": []
   },
   "source": [
    "### 2.2.`Consommations`"
   ]
  },
  {
   "cell_type": "code",
   "execution_count": 23,
   "id": "25ad743a-e6e6-4481-8885-ca4057c65434",
   "metadata": {
    "editable": true,
    "execution": {
     "iopub.execute_input": "2025-05-13T17:32:59.656502Z",
     "iopub.status.busy": "2025-05-13T17:32:59.655977Z",
     "iopub.status.idle": "2025-05-13T17:32:59.709260Z",
     "shell.execute_reply": "2025-05-13T17:32:59.708205Z"
    },
    "papermill": {
     "duration": 0.303466,
     "end_time": "2025-05-13T17:32:59.711536",
     "exception": false,
     "start_time": "2025-05-13T17:32:59.408070",
     "status": "completed"
    },
    "slideshow": {
     "slide_type": ""
    },
    "tags": []
   },
   "outputs": [
    {
     "data": {
      "text/html": [
       "<div>\n",
       "<style scoped>\n",
       "    .dataframe tbody tr th:only-of-type {\n",
       "        vertical-align: middle;\n",
       "    }\n",
       "\n",
       "    .dataframe tbody tr th {\n",
       "        vertical-align: top;\n",
       "    }\n",
       "\n",
       "    .dataframe thead th {\n",
       "        text-align: right;\n",
       "    }\n",
       "</style>\n",
       "<table border=\"1\" class=\"dataframe\">\n",
       "  <thead>\n",
       "    <tr style=\"text-align: right;\">\n",
       "      <th></th>\n",
       "      <th>Programme</th>\n",
       "      <th>MSD</th>\n",
       "      <th>STATUT</th>\n",
       "      <th>CONSO</th>\n",
       "      <th>SDU</th>\n",
       "      <th>CMM</th>\n",
       "      <th>dispo_globale</th>\n",
       "      <th>dispo_globale_cible</th>\n",
       "      <th>dispo_traceur</th>\n",
       "      <th>dispo_traceur_cible</th>\n",
       "      <th>date_report</th>\n",
       "      <th>id_produit_fk</th>\n",
       "      <th>Code_region</th>\n",
       "      <th>region_order</th>\n",
       "      <th>statut_pourcentage</th>\n",
       "      <th>id_produit_pk</th>\n",
       "      <th>Code_produit</th>\n",
       "      <th>Produit_designation</th>\n",
       "      <th>Unit_rapportage</th>\n",
       "      <th>Categorie_produit</th>\n",
       "      <th>Categorie_du_produit</th>\n",
       "      <th>Code_sous_prog</th>\n",
       "    </tr>\n",
       "  </thead>\n",
       "  <tbody>\n",
       "    <tr>\n",
       "      <th>0</th>\n",
       "      <td>PNLT</td>\n",
       "      <td>3,1</td>\n",
       "      <td>BIEN STOCKE</td>\n",
       "      <td>1778690</td>\n",
       "      <td>2014256</td>\n",
       "      <td>649469.666667</td>\n",
       "      <td>0.019337</td>\n",
       "      <td>0.022368</td>\n",
       "      <td>0.021627</td>\n",
       "      <td>0.025</td>\n",
       "      <td>2025-03-31</td>\n",
       "      <td>62</td>\n",
       "      <td>NAT</td>\n",
       "      <td>None</td>\n",
       "      <td>0.026316</td>\n",
       "      <td>62</td>\n",
       "      <td>3050350</td>\n",
       "      <td>RH 150 (RIFAmpICINE150 - ISONIAZIDE75) comp. B...</td>\n",
       "      <td>COMPRIME</td>\n",
       "      <td>Produit traceur</td>\n",
       "      <td>PRODUITS PNLT ADULTE</td>\n",
       "      <td>PNLT-3</td>\n",
       "    </tr>\n",
       "    <tr>\n",
       "      <th>1</th>\n",
       "      <td>PNLT</td>\n",
       "      <td>2,4</td>\n",
       "      <td>BIEN STOCKE</td>\n",
       "      <td>1034824</td>\n",
       "      <td>919512</td>\n",
       "      <td>385330.333333</td>\n",
       "      <td>0.019337</td>\n",
       "      <td>0.022368</td>\n",
       "      <td>0.021627</td>\n",
       "      <td>0.025</td>\n",
       "      <td>2025-03-31</td>\n",
       "      <td>65</td>\n",
       "      <td>NAT</td>\n",
       "      <td>None</td>\n",
       "      <td>0.026316</td>\n",
       "      <td>65</td>\n",
       "      <td>3050356</td>\n",
       "      <td>RHZE (RIFAMP 150 - ISON 75 - PYRAZ 400 - ETHAM...</td>\n",
       "      <td>COMPRIME</td>\n",
       "      <td>Produit traceur</td>\n",
       "      <td>PRODUITS PNLT ADULTE</td>\n",
       "      <td>PNLT-3</td>\n",
       "    </tr>\n",
       "    <tr>\n",
       "      <th>2</th>\n",
       "      <td>PNLT</td>\n",
       "      <td>4,6</td>\n",
       "      <td>SURSTOCK</td>\n",
       "      <td>6921</td>\n",
       "      <td>12285</td>\n",
       "      <td>2647.166667</td>\n",
       "      <td>0.019337</td>\n",
       "      <td>0.022368</td>\n",
       "      <td>0.021627</td>\n",
       "      <td>0.025</td>\n",
       "      <td>2025-03-31</td>\n",
       "      <td>35</td>\n",
       "      <td>NAT</td>\n",
       "      <td>None</td>\n",
       "      <td>0.026316</td>\n",
       "      <td>35</td>\n",
       "      <td>3050208</td>\n",
       "      <td>E 100 (ETHAMBUTOL) 100 mg comp. BTE/100 BTE  -</td>\n",
       "      <td>COMPRIME</td>\n",
       "      <td>Produit non traceur</td>\n",
       "      <td>PRODUITS PNLT ENFANT</td>\n",
       "      <td>PNLT-3</td>\n",
       "    </tr>\n",
       "  </tbody>\n",
       "</table>\n",
       "</div>"
      ],
      "text/plain": [
       "  Programme  MSD       STATUT    CONSO      SDU            CMM  dispo_globale  \\\n",
       "0      PNLT  3,1  BIEN STOCKE  1778690  2014256  649469.666667       0.019337   \n",
       "1      PNLT  2,4  BIEN STOCKE  1034824   919512  385330.333333       0.019337   \n",
       "2      PNLT  4,6     SURSTOCK     6921    12285    2647.166667       0.019337   \n",
       "\n",
       "   dispo_globale_cible  dispo_traceur  dispo_traceur_cible date_report  \\\n",
       "0             0.022368       0.021627                0.025  2025-03-31   \n",
       "1             0.022368       0.021627                0.025  2025-03-31   \n",
       "2             0.022368       0.021627                0.025  2025-03-31   \n",
       "\n",
       "   id_produit_fk Code_region region_order  statut_pourcentage  id_produit_pk  \\\n",
       "0             62         NAT         None            0.026316             62   \n",
       "1             65         NAT         None            0.026316             65   \n",
       "2             35         NAT         None            0.026316             35   \n",
       "\n",
       "   Code_produit                                Produit_designation  \\\n",
       "0       3050350  RH 150 (RIFAmpICINE150 - ISONIAZIDE75) comp. B...   \n",
       "1       3050356  RHZE (RIFAMP 150 - ISON 75 - PYRAZ 400 - ETHAM...   \n",
       "2       3050208     E 100 (ETHAMBUTOL) 100 mg comp. BTE/100 BTE  -   \n",
       "\n",
       "  Unit_rapportage    Categorie_produit  Categorie_du_produit Code_sous_prog  \n",
       "0        COMPRIME      Produit traceur  PRODUITS PNLT ADULTE         PNLT-3  \n",
       "1        COMPRIME      Produit traceur  PRODUITS PNLT ADULTE         PNLT-3  \n",
       "2        COMPRIME  Produit non traceur  PRODUITS PNLT ENFANT         PNLT-3  "
      ]
     },
     "execution_count": 23,
     "metadata": {},
     "output_type": "execute_result"
    }
   ],
   "source": [
    "# Pour avoir la CMM du mois courant une recherche est d'abord faite sur la feuille StockParRegion provenant du RapportFeedback\n",
    "eomonth = (pd.to_datetime(date_report) + pd.offsets.MonthEnd(0)).strftime(\"%Y-%m-%d\")\n",
    "\n",
    "df_stock_prog_nat = stock_sync_manager.get_table_data(\n",
    "    query = QUERY_ETAT_STOCK_PROGRAMME.format(eomonth=eomonth, programme=programme)\n",
    ")\n",
    "\n",
    "df_stock_prog_nat[\"Code_produit\"] = df_stock_prog_nat[\"Code_produit\"].astype(int)\n",
    "\n",
    "df_stock_prog_nat.head(3)"
   ]
  },
  {
   "cell_type": "code",
   "execution_count": 24,
   "id": "d5fa0de6-3909-46f5-b737-856e204c92ba",
   "metadata": {
    "execution": {
     "iopub.execute_input": "2025-05-13T17:33:00.160526Z",
     "iopub.status.busy": "2025-05-13T17:33:00.159413Z",
     "iopub.status.idle": "2025-05-13T17:33:00.302600Z",
     "shell.execute_reply": "2025-05-13T17:33:00.301505Z"
    },
    "papermill": {
     "duration": 0.392421,
     "end_time": "2025-05-13T17:33:00.304634",
     "exception": false,
     "start_time": "2025-05-13T17:32:59.912213",
     "status": "completed"
    },
    "tags": []
   },
   "outputs": [
    {
     "name": "stdout",
     "output_type": "stream",
     "text": [
      "CPU times: user 112 ms, sys: 1.21 ms, total: 113 ms\n",
      "Wall time: 136 ms\n"
     ]
    }
   ],
   "source": [
    "%%time\n",
    "df_cmm_curent, df_cmm_histo = compute_indicators.annexe_1.get_cmm_current_month(\n",
    "    df_etat_stock.copy(),\n",
    "    df_stock_prog_nat.copy(),\n",
    "    programme,\n",
    "    date_report,\n",
    "    stock_sync_manager.civ_engine,\n",
    ")"
   ]
  },
  {
   "cell_type": "markdown",
   "id": "e70f49b8-4d30-4e44-b255-72c0fd9ca0ea",
   "metadata": {
    "papermill": {
     "duration": 0.948167,
     "end_time": "2025-05-13T17:33:01.731392",
     "exception": false,
     "start_time": "2025-05-13T17:33:00.783225",
     "status": "completed"
    },
    "tags": []
   },
   "source": [
    "## 📌3. Calcul des indicateurs `Etat de stock (2/2)` `Annexe 2 - Suivi des Stocks`"
   ]
  },
  {
   "cell_type": "code",
   "execution_count": 25,
   "id": "2fbe9e4d-1190-4695-8df7-37a4737f6a19",
   "metadata": {
    "execution": {
     "iopub.execute_input": "2025-05-13T17:33:06.210143Z",
     "iopub.status.busy": "2025-05-13T17:33:06.209164Z",
     "iopub.status.idle": "2025-05-13T17:33:07.255761Z",
     "shell.execute_reply": "2025-05-13T17:33:07.254375Z"
    },
    "papermill": {
     "duration": 3.772661,
     "end_time": "2025-05-13T17:33:07.257718",
     "exception": false,
     "start_time": "2025-05-13T17:33:03.485057",
     "status": "completed"
    },
    "tags": []
   },
   "outputs": [
    {
     "data": {
      "text/html": [
       "<div>\n",
       "<style scoped>\n",
       "    .dataframe tbody tr th:only-of-type {\n",
       "        vertical-align: middle;\n",
       "    }\n",
       "\n",
       "    .dataframe tbody tr th {\n",
       "        vertical-align: top;\n",
       "    }\n",
       "\n",
       "    .dataframe thead th {\n",
       "        text-align: right;\n",
       "    }\n",
       "</style>\n",
       "<table border=\"1\" class=\"dataframe\">\n",
       "  <thead>\n",
       "    <tr style=\"text-align: right;\">\n",
       "      <th></th>\n",
       "      <th>Periode</th>\n",
       "      <th>Code_ets</th>\n",
       "      <th>stock_initial</th>\n",
       "      <th>qte_recue</th>\n",
       "      <th>qte_utilisee</th>\n",
       "      <th>perte_ajust</th>\n",
       "      <th>j_rupture</th>\n",
       "      <th>sdu</th>\n",
       "      <th>cmm_esigl</th>\n",
       "      <th>cmm_gest</th>\n",
       "      <th>qte_prop</th>\n",
       "      <th>qte_cmde</th>\n",
       "      <th>qte_approuv</th>\n",
       "      <th>msd</th>\n",
       "      <th>etat_stock</th>\n",
       "      <th>besoin_cmde_urg</th>\n",
       "      <th>besoin_trsf_in</th>\n",
       "      <th>qte_trsf_out</th>\n",
       "      <th>date_report</th>\n",
       "      <th>qte_cmde_mois_prec</th>\n",
       "      <th>etat_stock_mois_prec</th>\n",
       "      <th>id_produit_fk</th>\n",
       "      <th>id_produit_pk</th>\n",
       "      <th>Code_produit</th>\n",
       "      <th>Produit_designation</th>\n",
       "      <th>Unit_rapportage</th>\n",
       "      <th>Categorie_produit</th>\n",
       "      <th>Categorie_du_produit</th>\n",
       "      <th>Code_sous_prog</th>\n",
       "    </tr>\n",
       "  </thead>\n",
       "  <tbody>\n",
       "    <tr>\n",
       "      <th>0</th>\n",
       "      <td>JANVIER MARS 2025</td>\n",
       "      <td>62600030</td>\n",
       "      <td>9316</td>\n",
       "      <td>9408</td>\n",
       "      <td>8992</td>\n",
       "      <td>-2399</td>\n",
       "      <td>0</td>\n",
       "      <td>7333</td>\n",
       "      <td>1007</td>\n",
       "      <td>3021.0</td>\n",
       "      <td>0</td>\n",
       "      <td>10793.0</td>\n",
       "      <td>10793</td>\n",
       "      <td>2.427342</td>\n",
       "      <td>ENTRE PCU et MIN</td>\n",
       "      <td>NaN</td>\n",
       "      <td>1730.0</td>\n",
       "      <td>NaN</td>\n",
       "      <td>2025-03-31</td>\n",
       "      <td>NaN</td>\n",
       "      <td>None</td>\n",
       "      <td>62</td>\n",
       "      <td>62</td>\n",
       "      <td>3050350</td>\n",
       "      <td>RH 150 (RIFAmpICINE150 - ISONIAZIDE75) comp. B...</td>\n",
       "      <td>COMPRIME</td>\n",
       "      <td>Produit traceur</td>\n",
       "      <td>PRODUITS PNLT ADULTE</td>\n",
       "      <td>PNLT-3</td>\n",
       "    </tr>\n",
       "    <tr>\n",
       "      <th>1</th>\n",
       "      <td>JANVIER MARS 2025</td>\n",
       "      <td>62600030</td>\n",
       "      <td>8862</td>\n",
       "      <td>0</td>\n",
       "      <td>5251</td>\n",
       "      <td>-2016</td>\n",
       "      <td>0</td>\n",
       "      <td>1595</td>\n",
       "      <td>591</td>\n",
       "      <td>1774.0</td>\n",
       "      <td>1951</td>\n",
       "      <td>9049.0</td>\n",
       "      <td>9049</td>\n",
       "      <td>0.899098</td>\n",
       "      <td>EN BAS DU PCU</td>\n",
       "      <td>9049.0</td>\n",
       "      <td>3727.0</td>\n",
       "      <td>NaN</td>\n",
       "      <td>2025-03-31</td>\n",
       "      <td>NaN</td>\n",
       "      <td>None</td>\n",
       "      <td>65</td>\n",
       "      <td>65</td>\n",
       "      <td>3050356</td>\n",
       "      <td>RHZE (RIFAMP 150 - ISON 75 - PYRAZ 400 - ETHAM...</td>\n",
       "      <td>COMPRIME</td>\n",
       "      <td>Produit traceur</td>\n",
       "      <td>PRODUITS PNLT ADULTE</td>\n",
       "      <td>PNLT-3</td>\n",
       "    </tr>\n",
       "  </tbody>\n",
       "</table>\n",
       "</div>"
      ],
      "text/plain": [
       "             Periode  Code_ets  stock_initial  qte_recue  qte_utilisee  \\\n",
       "0  JANVIER MARS 2025  62600030           9316       9408          8992   \n",
       "1  JANVIER MARS 2025  62600030           8862          0          5251   \n",
       "\n",
       "   perte_ajust  j_rupture   sdu  cmm_esigl  cmm_gest  qte_prop  qte_cmde  \\\n",
       "0        -2399          0  7333       1007    3021.0         0   10793.0   \n",
       "1        -2016          0  1595        591    1774.0      1951    9049.0   \n",
       "\n",
       "   qte_approuv       msd        etat_stock  besoin_cmde_urg  besoin_trsf_in  \\\n",
       "0        10793  2.427342  ENTRE PCU et MIN              NaN          1730.0   \n",
       "1         9049  0.899098     EN BAS DU PCU           9049.0          3727.0   \n",
       "\n",
       "   qte_trsf_out date_report  qte_cmde_mois_prec etat_stock_mois_prec  \\\n",
       "0           NaN  2025-03-31                 NaN                 None   \n",
       "1           NaN  2025-03-31                 NaN                 None   \n",
       "\n",
       "   id_produit_fk  id_produit_pk  Code_produit  \\\n",
       "0             62             62       3050350   \n",
       "1             65             65       3050356   \n",
       "\n",
       "                                 Produit_designation Unit_rapportage  \\\n",
       "0  RH 150 (RIFAmpICINE150 - ISONIAZIDE75) comp. B...        COMPRIME   \n",
       "1  RHZE (RIFAMP 150 - ISON 75 - PYRAZ 400 - ETHAM...        COMPRIME   \n",
       "\n",
       "  Categorie_produit  Categorie_du_produit Code_sous_prog  \n",
       "0   Produit traceur  PRODUITS PNLT ADULTE         PNLT-3  \n",
       "1   Produit traceur  PRODUITS PNLT ADULTE         PNLT-3  "
      ]
     },
     "execution_count": 25,
     "metadata": {},
     "output_type": "execute_result"
    }
   ],
   "source": [
    "df_etat_stock_periph = stock_sync_manager.get_table_data(\n",
    "    query=QUERY_ETAT_STOCK_PERIPH.format(eomonth=eomonth)\n",
    ")\n",
    "\n",
    "df_etat_stock_periph = df_etat_stock_periph.loc[\n",
    "    df_etat_stock_periph.Code_sous_prog.str.contains(programme)\n",
    "]\n",
    "\n",
    "df_etat_stock_periph[\"Code_produit\"] = df_etat_stock_periph[\"Code_produit\"].astype(int)\n",
    "\n",
    "df_etat_stock_periph.head(2)"
   ]
  },
  {
   "cell_type": "code",
   "execution_count": 26,
   "id": "592788d1-ea93-4c42-b744-a068f22d23be",
   "metadata": {
    "execution": {
     "iopub.execute_input": "2025-05-13T17:33:11.203821Z",
     "iopub.status.busy": "2025-05-13T17:33:11.202820Z",
     "iopub.status.idle": "2025-05-13T17:33:11.209814Z",
     "shell.execute_reply": "2025-05-13T17:33:11.208716Z"
    },
    "papermill": {
     "duration": 0.225906,
     "end_time": "2025-05-13T17:33:11.211705",
     "exception": false,
     "start_time": "2025-05-13T17:33:10.985799",
     "status": "completed"
    },
    "tags": []
   },
   "outputs": [],
   "source": [
    "df_plan_approv[\"Quantité harmonisée (SAGE)\"] = df_plan_approv[\"Quantite\"]*df_plan_approv[\"facteur_de_conversion_qat_sage\"]"
   ]
  },
  {
   "cell_type": "code",
   "execution_count": 27,
   "id": "08d7bdd6-cf53-4c3c-bca3-c9f6c218a273",
   "metadata": {
    "execution": {
     "iopub.execute_input": "2025-05-13T17:33:11.611068Z",
     "iopub.status.busy": "2025-05-13T17:33:11.609905Z",
     "iopub.status.idle": "2025-05-13T17:33:12.131959Z",
     "shell.execute_reply": "2025-05-13T17:33:12.130827Z"
    },
    "papermill": {
     "duration": 0.725111,
     "end_time": "2025-05-13T17:33:12.133627",
     "exception": false,
     "start_time": "2025-05-13T17:33:11.408516",
     "status": "completed"
    },
    "tags": []
   },
   "outputs": [
    {
     "data": {
      "text/html": [
       "<div>\n",
       "<style scoped>\n",
       "    .dataframe tbody tr th:only-of-type {\n",
       "        vertical-align: middle;\n",
       "    }\n",
       "\n",
       "    .dataframe tbody tr th {\n",
       "        vertical-align: top;\n",
       "    }\n",
       "\n",
       "    .dataframe thead th {\n",
       "        text-align: right;\n",
       "    }\n",
       "</style>\n",
       "<table border=\"1\" class=\"dataframe\">\n",
       "  <thead>\n",
       "    <tr style=\"text-align: right;\">\n",
       "      <th></th>\n",
       "      <th>id_dim_produit_stock_track_fk</th>\n",
       "      <th>stock_theorique_mois_precedent</th>\n",
       "      <th>distribution_effectuee</th>\n",
       "      <th>quantite_recue_stock</th>\n",
       "      <th>quantite_ppi</th>\n",
       "      <th>quantite_prelevee_cq</th>\n",
       "      <th>ajustement_stock</th>\n",
       "      <th>stock_theorique_final_sage</th>\n",
       "      <th>stock_theorique_final_attendu</th>\n",
       "      <th>ecarts</th>\n",
       "      <th>justification_ecarts</th>\n",
       "      <th>diligences</th>\n",
       "      <th>sdu_central_annexe_2</th>\n",
       "      <th>dmm_central_annexe_2</th>\n",
       "      <th>msd_central_annexe_2</th>\n",
       "      <th>statut_central_annexe_2</th>\n",
       "      <th>conso_decentralise_annexe_2</th>\n",
       "      <th>sdu_decentralise_annexe_2</th>\n",
       "      <th>cmm_decentralise_annexe_2</th>\n",
       "      <th>msd_decentralise_annexe_2</th>\n",
       "      <th>statut_decentralise_annexe_2</th>\n",
       "      <th>nombre_de_site_en_rupture_annexe_2</th>\n",
       "      <th>sdu_national_annexe_2</th>\n",
       "      <th>cmm_national_annexe_2</th>\n",
       "      <th>msd_national_annexe_2</th>\n",
       "      <th>statut_national_annexe_2</th>\n",
       "      <th>date_peremption_plus_proche_brute_annexe_2</th>\n",
       "      <th>date_peremption_plus_proche_annexe_2</th>\n",
       "      <th>quantite_correspondante_annexe_2</th>\n",
       "      <th>msd_correspondant_annexe_2</th>\n",
       "      <th>quantite_attendue_annexe_2</th>\n",
       "      <th>msd_attendu_annexe_2</th>\n",
       "      <th>quantite_non_stockee_annexe_2</th>\n",
       "      <th>msd_recu_annexe_2</th>\n",
       "      <th>financement_annexe_2</th>\n",
       "      <th>date_probable_livraison_annexe_2</th>\n",
       "      <th>date_effective_livraison_annexe_2</th>\n",
       "      <th>statut_annexe_2</th>\n",
       "      <th>analyse_risque_commentaires_annexe_2</th>\n",
       "      <th>diligences_central_annexe_2</th>\n",
       "      <th>diligences_peripherique_annexe_2</th>\n",
       "      <th>responsable_annexe_2</th>\n",
       "      <th>dilig_choisie_annexe_2</th>\n",
       "      <th>date_report</th>\n",
       "    </tr>\n",
       "  </thead>\n",
       "  <tbody>\n",
       "    <tr>\n",
       "      <th>0</th>\n",
       "      <td>320</td>\n",
       "      <td>241.0</td>\n",
       "      <td>0</td>\n",
       "      <td>0</td>\n",
       "      <td>0</td>\n",
       "      <td>0</td>\n",
       "      <td>NaN</td>\n",
       "      <td>241</td>\n",
       "      <td>241.0</td>\n",
       "      <td>0.0</td>\n",
       "      <td></td>\n",
       "      <td></td>\n",
       "      <td>241</td>\n",
       "      <td>42.333333</td>\n",
       "      <td>5,7</td>\n",
       "      <td>Bien Stocké</td>\n",
       "      <td>70</td>\n",
       "      <td>123</td>\n",
       "      <td>27</td>\n",
       "      <td>4,6</td>\n",
       "      <td>SurStock</td>\n",
       "      <td>5</td>\n",
       "      <td>364</td>\n",
       "      <td>27</td>\n",
       "      <td>13,5</td>\n",
       "      <td>SurStock</td>\n",
       "      <td>2026-09-01</td>\n",
       "      <td>2026-09-01</td>\n",
       "      <td>241.0</td>\n",
       "      <td>5,7</td>\n",
       "      <td>821.0</td>\n",
       "      <td>19,4</td>\n",
       "      <td>0</td>\n",
       "      <td>0,0</td>\n",
       "      <td></td>\n",
       "      <td>2025-06-30</td>\n",
       "      <td>NaT</td>\n",
       "      <td>Soumis</td>\n",
       "      <td></td>\n",
       "      <td></td>\n",
       "      <td></td>\n",
       "      <td></td>\n",
       "      <td></td>\n",
       "      <td>2025-03-01</td>\n",
       "    </tr>\n",
       "    <tr>\n",
       "      <th>1</th>\n",
       "      <td>321</td>\n",
       "      <td>-40.0</td>\n",
       "      <td>0</td>\n",
       "      <td>1000</td>\n",
       "      <td>0</td>\n",
       "      <td>0</td>\n",
       "      <td>NaN</td>\n",
       "      <td>1013</td>\n",
       "      <td>960.0</td>\n",
       "      <td>53.0</td>\n",
       "      <td></td>\n",
       "      <td></td>\n",
       "      <td>1013</td>\n",
       "      <td>558.500000</td>\n",
       "      <td>1,8</td>\n",
       "      <td>Sous-Stock</td>\n",
       "      <td>1540</td>\n",
       "      <td>1369</td>\n",
       "      <td>574</td>\n",
       "      <td>2,4</td>\n",
       "      <td>Bien Stocké</td>\n",
       "      <td>21</td>\n",
       "      <td>2382</td>\n",
       "      <td>574</td>\n",
       "      <td>4,1</td>\n",
       "      <td>Sous-Stock</td>\n",
       "      <td>2026-02-01</td>\n",
       "      <td>2026-02-01</td>\n",
       "      <td>5.0</td>\n",
       "      <td>0,0</td>\n",
       "      <td>2000.0</td>\n",
       "      <td>3,6</td>\n",
       "      <td>1000</td>\n",
       "      <td>1,8</td>\n",
       "      <td></td>\n",
       "      <td>2025-05-31</td>\n",
       "      <td>2025-03-14</td>\n",
       "      <td>Approuvé</td>\n",
       "      <td></td>\n",
       "      <td></td>\n",
       "      <td></td>\n",
       "      <td></td>\n",
       "      <td></td>\n",
       "      <td>2025-03-01</td>\n",
       "    </tr>\n",
       "    <tr>\n",
       "      <th>2</th>\n",
       "      <td>322</td>\n",
       "      <td>60.0</td>\n",
       "      <td>0</td>\n",
       "      <td>3500</td>\n",
       "      <td>0</td>\n",
       "      <td>0</td>\n",
       "      <td>NaN</td>\n",
       "      <td>9238</td>\n",
       "      <td>3560.0</td>\n",
       "      <td>5678.0</td>\n",
       "      <td></td>\n",
       "      <td></td>\n",
       "      <td>9238</td>\n",
       "      <td>313.500000</td>\n",
       "      <td>29,5</td>\n",
       "      <td>SurStock</td>\n",
       "      <td>1334</td>\n",
       "      <td>1188</td>\n",
       "      <td>625</td>\n",
       "      <td>1,9</td>\n",
       "      <td>Sous-Stock</td>\n",
       "      <td>2</td>\n",
       "      <td>10426</td>\n",
       "      <td>625</td>\n",
       "      <td>16,7</td>\n",
       "      <td>SurStock</td>\n",
       "      <td>2027-06-01</td>\n",
       "      <td>2027-06-01</td>\n",
       "      <td>60.0</td>\n",
       "      <td>0,2</td>\n",
       "      <td>14133.0</td>\n",
       "      <td>45,1</td>\n",
       "      <td>3500</td>\n",
       "      <td>11,2</td>\n",
       "      <td></td>\n",
       "      <td>2025-05-03</td>\n",
       "      <td>2025-03-14</td>\n",
       "      <td>Approuvé</td>\n",
       "      <td></td>\n",
       "      <td></td>\n",
       "      <td></td>\n",
       "      <td></td>\n",
       "      <td></td>\n",
       "      <td>2025-03-01</td>\n",
       "    </tr>\n",
       "  </tbody>\n",
       "</table>\n",
       "</div>"
      ],
      "text/plain": [
       "   id_dim_produit_stock_track_fk  stock_theorique_mois_precedent  \\\n",
       "0                            320                           241.0   \n",
       "1                            321                           -40.0   \n",
       "2                            322                            60.0   \n",
       "\n",
       "   distribution_effectuee  quantite_recue_stock  quantite_ppi  \\\n",
       "0                       0                     0             0   \n",
       "1                       0                  1000             0   \n",
       "2                       0                  3500             0   \n",
       "\n",
       "   quantite_prelevee_cq  ajustement_stock  stock_theorique_final_sage  \\\n",
       "0                     0               NaN                         241   \n",
       "1                     0               NaN                        1013   \n",
       "2                     0               NaN                        9238   \n",
       "\n",
       "   stock_theorique_final_attendu  ecarts justification_ecarts diligences  \\\n",
       "0                          241.0     0.0                                   \n",
       "1                          960.0    53.0                                   \n",
       "2                         3560.0  5678.0                                   \n",
       "\n",
       "   sdu_central_annexe_2  dmm_central_annexe_2 msd_central_annexe_2  \\\n",
       "0                   241             42.333333                  5,7   \n",
       "1                  1013            558.500000                  1,8   \n",
       "2                  9238            313.500000                 29,5   \n",
       "\n",
       "  statut_central_annexe_2  conso_decentralise_annexe_2  \\\n",
       "0             Bien Stocké                           70   \n",
       "1              Sous-Stock                         1540   \n",
       "2                SurStock                         1334   \n",
       "\n",
       "   sdu_decentralise_annexe_2  cmm_decentralise_annexe_2  \\\n",
       "0                        123                         27   \n",
       "1                       1369                        574   \n",
       "2                       1188                        625   \n",
       "\n",
       "  msd_decentralise_annexe_2 statut_decentralise_annexe_2  \\\n",
       "0                       4,6                     SurStock   \n",
       "1                       2,4                  Bien Stocké   \n",
       "2                       1,9                   Sous-Stock   \n",
       "\n",
       "   nombre_de_site_en_rupture_annexe_2  sdu_national_annexe_2  \\\n",
       "0                                   5                    364   \n",
       "1                                  21                   2382   \n",
       "2                                   2                  10426   \n",
       "\n",
       "   cmm_national_annexe_2 msd_national_annexe_2 statut_national_annexe_2  \\\n",
       "0                     27                  13,5                 SurStock   \n",
       "1                    574                   4,1               Sous-Stock   \n",
       "2                    625                  16,7                 SurStock   \n",
       "\n",
       "  date_peremption_plus_proche_brute_annexe_2  \\\n",
       "0                                 2026-09-01   \n",
       "1                                 2026-02-01   \n",
       "2                                 2027-06-01   \n",
       "\n",
       "  date_peremption_plus_proche_annexe_2  quantite_correspondante_annexe_2  \\\n",
       "0                           2026-09-01                             241.0   \n",
       "1                           2026-02-01                               5.0   \n",
       "2                           2027-06-01                              60.0   \n",
       "\n",
       "  msd_correspondant_annexe_2  quantite_attendue_annexe_2 msd_attendu_annexe_2  \\\n",
       "0                        5,7                       821.0                 19,4   \n",
       "1                        0,0                      2000.0                  3,6   \n",
       "2                        0,2                     14133.0                 45,1   \n",
       "\n",
       "   quantite_non_stockee_annexe_2 msd_recu_annexe_2 financement_annexe_2  \\\n",
       "0                              0               0,0                        \n",
       "1                           1000               1,8                        \n",
       "2                           3500              11,2                        \n",
       "\n",
       "  date_probable_livraison_annexe_2 date_effective_livraison_annexe_2  \\\n",
       "0                       2025-06-30                               NaT   \n",
       "1                       2025-05-31                        2025-03-14   \n",
       "2                       2025-05-03                        2025-03-14   \n",
       "\n",
       "  statut_annexe_2 analyse_risque_commentaires_annexe_2  \\\n",
       "0          Soumis                                        \n",
       "1        Approuvé                                        \n",
       "2        Approuvé                                        \n",
       "\n",
       "  diligences_central_annexe_2 diligences_peripherique_annexe_2  \\\n",
       "0                                                                \n",
       "1                                                                \n",
       "2                                                                \n",
       "\n",
       "  responsable_annexe_2 dilig_choisie_annexe_2 date_report  \n",
       "0                                              2025-03-01  \n",
       "1                                              2025-03-01  \n",
       "2                                              2025-03-01  "
      ]
     },
     "metadata": {},
     "output_type": "display_data"
    },
    {
     "name": "stdout",
     "output_type": "stream",
     "text": [
      "CPU times: user 477 ms, sys: 3.88 ms, total: 481 ms\n",
      "Wall time: 514 ms\n"
     ]
    }
   ],
   "source": [
    "%%time\n",
    "df_etat_stock = compute_indicators.annexe_2(\n",
    "    df_etat_stock,\n",
    "    df_dmm_curent.copy(),\n",
    "    df_stock_prog_nat.copy(),\n",
    "    df_etat_stock_periph.copy(),\n",
    "    df_stock_detaille.copy(),\n",
    "    df_receptions.copy(),\n",
    "    df_plan_approv.copy(),\n",
    "    date_report,\n",
    ")"
   ]
  },
  {
   "cell_type": "markdown",
   "id": "76c5e978-145b-4cb3-aa25-fb14eb470ff4",
   "metadata": {
    "papermill": {
     "duration": 0.195897,
     "end_time": "2025-05-13T17:33:12.527911",
     "exception": false,
     "start_time": "2025-05-13T17:33:12.332014",
     "status": "completed"
    },
    "tags": []
   },
   "source": [
    "# V.Exportation des données\n",
    "\n",
    "Avant d’exporter les données, il est essentiel de s’assurer qu’aucune information relative à la période en cours n’est déjà présente dans les différentes tables.  \r\n",
    "Si des données existent, une suppression devra être effectuée avant l’export."
   ]
  },
  {
   "cell_type": "markdown",
   "id": "040e8f88-31a1-4bd0-a32b-d2a10d2aa29b",
   "metadata": {
    "papermill": {
     "duration": 1.314382,
     "end_time": "2025-05-13T17:33:14.494528",
     "exception": false,
     "start_time": "2025-05-13T17:33:13.180146",
     "status": "completed"
    },
    "tags": []
   },
   "source": [
    "## 1. `Etat de Stock`"
   ]
  },
  {
   "cell_type": "code",
   "execution_count": 28,
   "id": "69402d6e-0979-4fe7-aef4-7a578d7c4948",
   "metadata": {
    "execution": {
     "iopub.execute_input": "2025-05-13T17:33:18.673075Z",
     "iopub.status.busy": "2025-05-13T17:33:18.672577Z",
     "iopub.status.idle": "2025-05-13T17:33:18.690877Z",
     "shell.execute_reply": "2025-05-13T17:33:18.689719Z"
    },
    "papermill": {
     "duration": 0.21766,
     "end_time": "2025-05-13T17:33:18.692667",
     "exception": false,
     "start_time": "2025-05-13T17:33:18.475007",
     "status": "completed"
    },
    "tags": []
   },
   "outputs": [],
   "source": [
    "id_list = list(map(int, df_etat_stock.id_dim_produit_stock_track_fk.unique()))\n",
    "placeholders = \", \".join([\"%s\"] * len(id_list))\n",
    "\n",
    "query = f\"\"\"\n",
    "DELETE FROM {schema_name}.stock_track\n",
    "WHERE date_report = '{date_report}' AND id_dim_produit_stock_track_fk IN ({placeholders});\n",
    "\"\"\"\n",
    "\n",
    "stock_sync_manager.civ_cursor.execute(query, list(id_list))\n",
    "stock_sync_manager.conn.commit()"
   ]
  },
  {
   "cell_type": "code",
   "execution_count": 29,
   "id": "92ca91ab-0797-414f-8c9c-3c5a185a2d0f",
   "metadata": {
    "execution": {
     "iopub.execute_input": "2025-05-13T17:33:19.064152Z",
     "iopub.status.busy": "2025-05-13T17:33:19.062978Z",
     "iopub.status.idle": "2025-05-13T17:33:19.180640Z",
     "shell.execute_reply": "2025-05-13T17:33:19.179550Z"
    },
    "papermill": {
     "duration": 0.30199,
     "end_time": "2025-05-13T17:33:19.182619",
     "exception": false,
     "start_time": "2025-05-13T17:33:18.880629",
     "status": "completed"
    },
    "tags": []
   },
   "outputs": [
    {
     "data": {
      "text/plain": [
       "'Insertion de 44 enrégistrements réussie'"
      ]
     },
     "execution_count": 29,
     "metadata": {},
     "output_type": "execute_result"
    }
   ],
   "source": [
    "assert df_etat_stock.date_report.unique().shape[0] == 1\n",
    "\n",
    "stock_sync_manager.insert_dataframe_to_table(df_etat_stock, \"stock_track\")"
   ]
  },
  {
   "cell_type": "markdown",
   "id": "08ed5151-ee3a-421c-8a19-5c03d4fd165b",
   "metadata": {
    "papermill": {
     "duration": 0.218949,
     "end_time": "2025-05-13T17:33:19.602151",
     "exception": false,
     "start_time": "2025-05-13T17:33:19.383202",
     "status": "completed"
    },
    "tags": []
   },
   "source": [
    "## 2. `Distributions`"
   ]
  },
  {
   "cell_type": "markdown",
   "id": "49e72b21-a586-4738-a5c9-95501a6db06c",
   "metadata": {
    "papermill": {
     "duration": 0.192934,
     "end_time": "2025-05-13T17:33:20.539908",
     "exception": false,
     "start_time": "2025-05-13T17:33:20.346974",
     "status": "completed"
    },
    "tags": []
   },
   "source": [
    "### 2.1.`Distributions mois courant` "
   ]
  },
  {
   "cell_type": "code",
   "execution_count": 30,
   "id": "6521c5ac-f762-4e55-b890-7d9751143a2e",
   "metadata": {
    "execution": {
     "iopub.execute_input": "2025-05-13T17:33:28.478247Z",
     "iopub.status.busy": "2025-05-13T17:33:28.477807Z",
     "iopub.status.idle": "2025-05-13T17:33:28.499425Z",
     "shell.execute_reply": "2025-05-13T17:33:28.497550Z"
    },
    "papermill": {
     "duration": 0.252344,
     "end_time": "2025-05-13T17:33:28.501798",
     "exception": false,
     "start_time": "2025-05-13T17:33:28.249454",
     "status": "completed"
    },
    "tags": []
   },
   "outputs": [],
   "source": [
    "id_list = list(map(int, df_dmm_curent.id_dim_produit_stock_track_fk.unique()))\n",
    "placeholders = \", \".join([\"%s\"] * len(id_list))\n",
    "\n",
    "query = f\"\"\"\n",
    "DELETE FROM {schema_name}.stock_track_dmm\n",
    "WHERE date_report = %s AND id_dim_produit_stock_track_fk IN ({placeholders});\n",
    "\"\"\"\n",
    "\n",
    "stock_sync_manager.civ_cursor.execute(query, [date_report] + list(id_list))\n",
    "stock_sync_manager.conn.commit()"
   ]
  },
  {
   "cell_type": "code",
   "execution_count": 31,
   "id": "0a8a2973-b667-403c-8102-fb9417afdf11",
   "metadata": {
    "execution": {
     "iopub.execute_input": "2025-05-13T17:33:28.958857Z",
     "iopub.status.busy": "2025-05-13T17:33:28.958467Z",
     "iopub.status.idle": "2025-05-13T17:33:29.001643Z",
     "shell.execute_reply": "2025-05-13T17:33:29.000458Z"
    },
    "papermill": {
     "duration": 0.283355,
     "end_time": "2025-05-13T17:33:29.003818",
     "exception": false,
     "start_time": "2025-05-13T17:33:28.720463",
     "status": "completed"
    },
    "tags": []
   },
   "outputs": [
    {
     "data": {
      "text/plain": [
       "'Insertion de 44 enrégistrements réussie'"
      ]
     },
     "execution_count": 31,
     "metadata": {},
     "output_type": "execute_result"
    }
   ],
   "source": [
    "assert df_dmm_curent.date_report.unique().shape[0] == 1\n",
    "\n",
    "stock_sync_manager.insert_dataframe_to_table(df_dmm_curent, \"stock_track_dmm\")"
   ]
  },
  {
   "cell_type": "markdown",
   "id": "1bf275e1-f2ea-4d6d-8205-713e903663d0",
   "metadata": {
    "papermill": {
     "duration": 0.205645,
     "end_time": "2025-05-13T17:33:30.119070",
     "exception": false,
     "start_time": "2025-05-13T17:33:29.913425",
     "status": "completed"
    },
    "tags": []
   },
   "source": [
    "### 2.2.`Distributions hitoriques considérées pour le mois en cours`"
   ]
  },
  {
   "cell_type": "code",
   "execution_count": 32,
   "id": "4b89b9f1-3f48-4e83-9c2f-43b49edfeb78",
   "metadata": {
    "execution": {
     "iopub.execute_input": "2025-05-13T17:33:32.726734Z",
     "iopub.status.busy": "2025-05-13T17:33:32.725607Z",
     "iopub.status.idle": "2025-05-13T17:33:32.742746Z",
     "shell.execute_reply": "2025-05-13T17:33:32.741580Z"
    },
    "papermill": {
     "duration": 2.395155,
     "end_time": "2025-05-13T17:33:32.745014",
     "exception": false,
     "start_time": "2025-05-13T17:33:30.349859",
     "status": "completed"
    },
    "tags": []
   },
   "outputs": [],
   "source": [
    "id_list = list(map(int, df_dmm_histo.id_dim_produit_stock_track_fk.unique()))\n",
    "placeholders = \", \".join([\"%s\"] * len(id_list))\n",
    "\n",
    "query = f\"\"\"\n",
    "DELETE FROM {schema_name}.stock_track_dmm_histo\n",
    "WHERE date_report = %s AND id_dim_produit_stock_track_fk IN ({placeholders});\n",
    "\"\"\"\n",
    "\n",
    "stock_sync_manager.civ_cursor.execute(query, [date_report] + list(id_list))\n",
    "stock_sync_manager.conn.commit()"
   ]
  },
  {
   "cell_type": "code",
   "execution_count": 33,
   "id": "8ea960f0-b89f-4b63-ae20-4ebb25009608",
   "metadata": {
    "execution": {
     "iopub.execute_input": "2025-05-13T17:33:39.992091Z",
     "iopub.status.busy": "2025-05-13T17:33:39.991472Z",
     "iopub.status.idle": "2025-05-13T17:33:40.094771Z",
     "shell.execute_reply": "2025-05-13T17:33:40.092875Z"
    },
    "papermill": {
     "duration": 4.860101,
     "end_time": "2025-05-13T17:33:40.098407",
     "exception": false,
     "start_time": "2025-05-13T17:33:35.238306",
     "status": "completed"
    },
    "tags": []
   },
   "outputs": [
    {
     "data": {
      "text/plain": [
       "'Insertion de 264 enrégistrements réussie'"
      ]
     },
     "execution_count": 33,
     "metadata": {},
     "output_type": "execute_result"
    }
   ],
   "source": [
    "assert df_dmm_histo.date_report.unique().shape[0] == 1\n",
    "\n",
    "stock_sync_manager.insert_dataframe_to_table(df_dmm_histo, \"stock_track_dmm_histo\")"
   ]
  },
  {
   "cell_type": "markdown",
   "id": "e131d312-d116-4302-98e5-c568b1e2e2a7",
   "metadata": {
    "papermill": {
     "duration": 0.187075,
     "end_time": "2025-05-13T17:33:40.514927",
     "exception": false,
     "start_time": "2025-05-13T17:33:40.327852",
     "status": "completed"
    },
    "tags": []
   },
   "source": [
    "## 3.`Consommations`"
   ]
  },
  {
   "cell_type": "markdown",
   "id": "705086d0-c23a-4856-bc5b-cd1ca88b99af",
   "metadata": {
    "papermill": {
     "duration": 0.186593,
     "end_time": "2025-05-13T17:33:40.896607",
     "exception": false,
     "start_time": "2025-05-13T17:33:40.710014",
     "status": "completed"
    },
    "tags": []
   },
   "source": [
    "### 3.1. `Consommations mois courant`"
   ]
  },
  {
   "cell_type": "code",
   "execution_count": 34,
   "id": "2e0f6f54-86c1-4583-bb9a-a15dbd160f12",
   "metadata": {
    "execution": {
     "iopub.execute_input": "2025-05-13T17:33:51.694088Z",
     "iopub.status.busy": "2025-05-13T17:33:51.693591Z",
     "iopub.status.idle": "2025-05-13T17:33:51.712384Z",
     "shell.execute_reply": "2025-05-13T17:33:51.711313Z"
    },
    "papermill": {
     "duration": 10.623885,
     "end_time": "2025-05-13T17:33:51.714307",
     "exception": false,
     "start_time": "2025-05-13T17:33:41.090422",
     "status": "completed"
    },
    "tags": []
   },
   "outputs": [],
   "source": [
    "id_list = list(map(int, df_cmm_curent.id_dim_produit_stock_track_fk.unique()))\n",
    "placeholders = \", \".join([\"%s\"] * len(id_list))\n",
    "\n",
    "query = f\"\"\"\n",
    "DELETE FROM {schema_name}.stock_track_cmm\n",
    "WHERE date_report = %s AND id_dim_produit_stock_track_fk IN ({placeholders});\n",
    "\"\"\"\n",
    "\n",
    "stock_sync_manager.civ_cursor.execute(query, [date_report] + list(id_list))\n",
    "stock_sync_manager.conn.commit()"
   ]
  },
  {
   "cell_type": "code",
   "execution_count": 35,
   "id": "42f04db9-4a08-4a21-a68e-5adf91cd5550",
   "metadata": {
    "execution": {
     "iopub.execute_input": "2025-05-13T17:33:52.128743Z",
     "iopub.status.busy": "2025-05-13T17:33:52.127680Z",
     "iopub.status.idle": "2025-05-13T17:33:52.181876Z",
     "shell.execute_reply": "2025-05-13T17:33:52.180928Z"
    },
    "papermill": {
     "duration": 0.258197,
     "end_time": "2025-05-13T17:33:52.183584",
     "exception": false,
     "start_time": "2025-05-13T17:33:51.925387",
     "status": "completed"
    },
    "tags": []
   },
   "outputs": [
    {
     "data": {
      "text/plain": [
       "'Insertion de 44 enrégistrements réussie'"
      ]
     },
     "execution_count": 35,
     "metadata": {},
     "output_type": "execute_result"
    }
   ],
   "source": [
    "assert df_cmm_curent.date_report.unique().shape[0] == 1\n",
    "\n",
    "stock_sync_manager.insert_dataframe_to_table(df_cmm_curent, \"stock_track_cmm\")"
   ]
  },
  {
   "cell_type": "markdown",
   "id": "17810bb8-a058-442e-b3ff-e6e15d22e308",
   "metadata": {
    "papermill": {
     "duration": 0.50467,
     "end_time": "2025-05-13T17:33:52.869104",
     "exception": false,
     "start_time": "2025-05-13T17:33:52.364434",
     "status": "completed"
    },
    "tags": []
   },
   "source": [
    "### 3.2.`Consommations hitoriques considérées pour le mois en cours`"
   ]
  },
  {
   "cell_type": "code",
   "execution_count": 36,
   "id": "6620b4be-6236-48cb-ac47-ab56e9970189",
   "metadata": {
    "execution": {
     "iopub.execute_input": "2025-05-13T17:33:54.248741Z",
     "iopub.status.busy": "2025-05-13T17:33:54.248298Z",
     "iopub.status.idle": "2025-05-13T17:33:54.266027Z",
     "shell.execute_reply": "2025-05-13T17:33:54.264820Z"
    },
    "papermill": {
     "duration": 1.187773,
     "end_time": "2025-05-13T17:33:54.268525",
     "exception": false,
     "start_time": "2025-05-13T17:33:53.080752",
     "status": "completed"
    },
    "tags": []
   },
   "outputs": [],
   "source": [
    "id_list = list(map(int, df_cmm_histo.id_dim_produit_stock_track_fk.unique()))\n",
    "placeholders = \", \".join([\"%s\"] * len(id_list))\n",
    "\n",
    "query = f\"\"\"\n",
    "DELETE FROM {schema_name}.stock_track_cmm_histo\n",
    "WHERE date_report = %s AND id_dim_produit_stock_track_fk IN ({placeholders});\n",
    "\"\"\"\n",
    "\n",
    "stock_sync_manager.civ_cursor.execute(query, [date_report] + list(id_list))\n",
    "stock_sync_manager.conn.commit()"
   ]
  },
  {
   "cell_type": "code",
   "execution_count": 37,
   "id": "c259b171-ca49-4521-9228-885b23fd4b6c",
   "metadata": {
    "execution": {
     "iopub.execute_input": "2025-05-13T17:33:58.214953Z",
     "iopub.status.busy": "2025-05-13T17:33:58.214516Z",
     "iopub.status.idle": "2025-05-13T17:33:58.294255Z",
     "shell.execute_reply": "2025-05-13T17:33:58.293059Z"
    },
    "papermill": {
     "duration": 0.967722,
     "end_time": "2025-05-13T17:33:58.295989",
     "exception": false,
     "start_time": "2025-05-13T17:33:57.328267",
     "status": "completed"
    },
    "tags": []
   },
   "outputs": [
    {
     "data": {
      "text/plain": [
       "'Insertion de 264 enrégistrements réussie'"
      ]
     },
     "execution_count": 37,
     "metadata": {},
     "output_type": "execute_result"
    }
   ],
   "source": [
    "assert df_dmm_histo.date_report.unique().shape[0] == 1\n",
    "\n",
    "stock_sync_manager.insert_dataframe_to_table(df_cmm_histo, \"stock_track_cmm_histo\")"
   ]
  },
  {
   "cell_type": "markdown",
   "id": "0c75f908-6510-42b7-9e4e-9d11f2a3caff",
   "metadata": {
    "papermill": {
     "duration": 0.21379,
     "end_time": "2025-05-13T17:33:58.694666",
     "exception": false,
     "start_time": "2025-05-13T17:33:58.480876",
     "status": "completed"
    },
    "tags": []
   },
   "source": [
    "## 4.`Stock détaillé`"
   ]
  },
  {
   "cell_type": "code",
   "execution_count": 38,
   "id": "0b0b73f7-3add-486f-9dd3-e3d900aba61d",
   "metadata": {
    "execution": {
     "iopub.execute_input": "2025-05-13T17:33:59.083928Z",
     "iopub.status.busy": "2025-05-13T17:33:59.082732Z",
     "iopub.status.idle": "2025-05-13T17:33:59.103502Z",
     "shell.execute_reply": "2025-05-13T17:33:59.102473Z"
    },
    "papermill": {
     "duration": 0.229776,
     "end_time": "2025-05-13T17:33:59.105380",
     "exception": false,
     "start_time": "2025-05-13T17:33:58.875604",
     "status": "completed"
    },
    "tags": []
   },
   "outputs": [],
   "source": [
    "dim_produit = pd.read_sql(\n",
    "    f\"SELECT * FROM {schema_name}.dim_produit_stock_track where programme='{programme}'\",\n",
    "    stock_sync_manager.civ_engine,\n",
    ")"
   ]
  },
  {
   "cell_type": "code",
   "execution_count": 39,
   "id": "c876a5cd-de28-494a-9e81-88fd9de9024f",
   "metadata": {
    "execution": {
     "iopub.execute_input": "2025-05-13T17:34:02.605157Z",
     "iopub.status.busy": "2025-05-13T17:34:02.604032Z",
     "iopub.status.idle": "2025-05-13T17:34:02.621259Z",
     "shell.execute_reply": "2025-05-13T17:34:02.619832Z"
    },
    "papermill": {
     "duration": 0.314524,
     "end_time": "2025-05-13T17:34:02.623054",
     "exception": false,
     "start_time": "2025-05-13T17:34:02.308530",
     "status": "completed"
    },
    "tags": []
   },
   "outputs": [
    {
     "data": {
      "text/html": [
       "<div>\n",
       "<style scoped>\n",
       "    .dataframe tbody tr th:only-of-type {\n",
       "        vertical-align: middle;\n",
       "    }\n",
       "\n",
       "    .dataframe tbody tr th {\n",
       "        vertical-align: top;\n",
       "    }\n",
       "\n",
       "    .dataframe thead th {\n",
       "        text-align: right;\n",
       "    }\n",
       "</style>\n",
       "<table border=\"1\" class=\"dataframe\">\n",
       "  <thead>\n",
       "    <tr style=\"text-align: right;\">\n",
       "      <th></th>\n",
       "      <th>code_produit</th>\n",
       "      <th>designation_produit</th>\n",
       "      <th>emplacement</th>\n",
       "      <th>date_limite_consommation</th>\n",
       "      <th>numero_lot</th>\n",
       "      <th>sous_lot_programme</th>\n",
       "      <th>qte_physique</th>\n",
       "      <th>qte_livrable</th>\n",
       "      <th>unit</th>\n",
       "    </tr>\n",
       "  </thead>\n",
       "  <tbody>\n",
       "    <tr>\n",
       "      <th>0</th>\n",
       "      <td>3050301</td>\n",
       "      <td>MOXIFLOXACINE 400 mg comp BTE/100</td>\n",
       "      <td>01A01A08</td>\n",
       "      <td>2027-11-01</td>\n",
       "      <td>DRD12358A</td>\n",
       "      <td>PNLT</td>\n",
       "      <td>398</td>\n",
       "      <td>398</td>\n",
       "      <td>BTE</td>\n",
       "    </tr>\n",
       "  </tbody>\n",
       "</table>\n",
       "</div>"
      ],
      "text/plain": [
       "   code_produit                designation_produit emplacement  \\\n",
       "0       3050301  MOXIFLOXACINE 400 mg comp BTE/100    01A01A08   \n",
       "\n",
       "  date_limite_consommation numero_lot sous_lot_programme  qte_physique  \\\n",
       "0               2027-11-01  DRD12358A               PNLT           398   \n",
       "\n",
       "   qte_livrable unit  \n",
       "0           398  BTE  "
      ]
     },
     "execution_count": 39,
     "metadata": {},
     "output_type": "execute_result"
    }
   ],
   "source": [
    "code_col = [col for col in df_stock_detaille.columns if \"CODE\" in str(col).upper()][0]\n",
    "\n",
    "df_stock_detaille.rename(\n",
    "    columns={\n",
    "        code_col: \"code_produit\",\n",
    "        \"Désignation\": \"designation_produit\",\n",
    "        \"Emplacement\": \"emplacement\",\n",
    "        \"Date limite de consommation\": \"date_limite_consommation\",\n",
    "        \"Numéro Lot\": \"numero_lot\",\n",
    "        \"Sous lot (Programme)\": \"sous_lot_programme\",\n",
    "        \"Qté \\nPhysique\": \"qte_physique\",\n",
    "        \"Qté \\nlivrable\": \"qte_livrable\",\n",
    "        \"Unit\": \"unit\",\n",
    "    },\n",
    "    inplace=True,\n",
    ")\n",
    "df_stock_detaille = df_stock_detaille[\n",
    "    [\n",
    "        \"code_produit\",\n",
    "        \"designation_produit\",\n",
    "        \"emplacement\",\n",
    "        \"date_limite_consommation\",\n",
    "        \"numero_lot\",\n",
    "        \"sous_lot_programme\",\n",
    "        \"qte_physique\",\n",
    "        \"qte_livrable\",\n",
    "        \"unit\",\n",
    "    ]\n",
    "]\n",
    "\n",
    "df_stock_detaille = df_stock_detaille.loc[\n",
    "    df_stock_detaille.code_produit.isin(dim_produit.code_produit)\n",
    "]\n",
    "df_stock_detaille.head(1)"
   ]
  },
  {
   "cell_type": "code",
   "execution_count": 40,
   "id": "c374989e-2d57-4ce8-8ea6-bb101672241e",
   "metadata": {
    "execution": {
     "iopub.execute_input": "2025-05-13T17:34:03.485544Z",
     "iopub.status.busy": "2025-05-13T17:34:03.484491Z",
     "iopub.status.idle": "2025-05-13T17:34:03.580043Z",
     "shell.execute_reply": "2025-05-13T17:34:03.578831Z"
    },
    "papermill": {
     "duration": 0.743741,
     "end_time": "2025-05-13T17:34:03.582131",
     "exception": false,
     "start_time": "2025-05-13T17:34:02.838390",
     "status": "completed"
    },
    "tags": []
   },
   "outputs": [],
   "source": [
    "df_stock_detaille = (\n",
    "    df_stock_detaille.groupby([\"code_produit\", \"date_limite_consommation\"])[\n",
    "        [\"qte_physique\", \"qte_livrable\"]\n",
    "    ]\n",
    "    .sum(min_count=1)\n",
    "    .reset_index()\n",
    ")\n",
    "\n",
    "df_stock_detaille = (\n",
    "    dim_produit[[\"id_dim_produit_stock_track_pk\", \"code_produit\"]]\n",
    "    .merge(df_stock_detaille, on=\"code_produit\")\n",
    "    .rename(columns={\"id_dim_produit_stock_track_pk\": \"id_dim_produit_stock_track_fk\"})\n",
    "    .drop(columns=[\"code_produit\"])\n",
    ")\n",
    "\n",
    "df_stock_detaille[\"date_report\"] = pd.to_datetime(date_report)"
   ]
  },
  {
   "cell_type": "code",
   "execution_count": 41,
   "id": "8c4a6d98-e14d-4742-a91e-0a40ec701ee5",
   "metadata": {
    "execution": {
     "iopub.execute_input": "2025-05-13T17:34:08.447808Z",
     "iopub.status.busy": "2025-05-13T17:34:08.447024Z",
     "iopub.status.idle": "2025-05-13T17:34:08.464030Z",
     "shell.execute_reply": "2025-05-13T17:34:08.463023Z"
    },
    "papermill": {
     "duration": 0.225163,
     "end_time": "2025-05-13T17:34:08.466315",
     "exception": false,
     "start_time": "2025-05-13T17:34:08.241152",
     "status": "completed"
    },
    "tags": []
   },
   "outputs": [],
   "source": [
    "id_list = list(map(int, df_stock_detaille.id_dim_produit_stock_track_fk.unique()))\n",
    "placeholders = \", \".join([\"%s\"] * len(id_list))\n",
    "\n",
    "query = f\"\"\"\n",
    "DELETE FROM {schema_name}.stock_track_detaille\n",
    "WHERE date_report = '{date_report}' AND id_dim_produit_stock_track_fk IN ({placeholders});\n",
    "\"\"\"\n",
    "\n",
    "stock_sync_manager.civ_cursor.execute(query, list(id_list))\n",
    "stock_sync_manager.conn.commit()"
   ]
  },
  {
   "cell_type": "code",
   "execution_count": 42,
   "id": "8f616ee2-8704-4eb2-a182-c65499a3b1dc",
   "metadata": {
    "execution": {
     "iopub.execute_input": "2025-05-13T17:34:08.832889Z",
     "iopub.status.busy": "2025-05-13T17:34:08.832396Z",
     "iopub.status.idle": "2025-05-13T17:34:08.881703Z",
     "shell.execute_reply": "2025-05-13T17:34:08.880547Z"
    },
    "papermill": {
     "duration": 0.233177,
     "end_time": "2025-05-13T17:34:08.884266",
     "exception": false,
     "start_time": "2025-05-13T17:34:08.651089",
     "status": "completed"
    },
    "tags": []
   },
   "outputs": [],
   "source": [
    "stock_sync_manager.insert_dataframe_to_table(df_stock_detaille, \"stock_track_detaille\")\n",
    "\n",
    "del df_stock_detaille"
   ]
  },
  {
   "cell_type": "markdown",
   "id": "fdec6090-24db-40ec-920d-854de310e532",
   "metadata": {
    "papermill": {
     "duration": 0.405864,
     "end_time": "2025-05-13T17:34:09.490553",
     "exception": false,
     "start_time": "2025-05-13T17:34:09.084689",
     "status": "completed"
    },
    "tags": []
   },
   "source": [
    "## 5. `Etat de stock de la NPSP`"
   ]
  },
  {
   "cell_type": "code",
   "execution_count": 43,
   "id": "89d9ea73-f635-42f3-8364-d8205843044e",
   "metadata": {
    "execution": {
     "iopub.execute_input": "2025-05-13T17:34:14.237368Z",
     "iopub.status.busy": "2025-05-13T17:34:14.236922Z",
     "iopub.status.idle": "2025-05-13T17:34:14.257167Z",
     "shell.execute_reply": "2025-05-13T17:34:14.256143Z"
    },
    "papermill": {
     "duration": 0.256594,
     "end_time": "2025-05-13T17:34:14.259021",
     "exception": false,
     "start_time": "2025-05-13T17:34:14.002427",
     "status": "completed"
    },
    "tags": []
   },
   "outputs": [],
   "source": [
    "query = f\"\"\"\n",
    "DELETE FROM {schema_name}.stock_track_npsp\n",
    "WHERE date_report = '{date_report}' and programme='{programme}';\n",
    "\"\"\"\n",
    "\n",
    "stock_sync_manager.civ_cursor.execute(query)\n",
    "stock_sync_manager.conn.commit()"
   ]
  },
  {
   "cell_type": "code",
   "execution_count": 44,
   "id": "fa060ab4-6bd8-44cd-bea2-8bbf1178782a",
   "metadata": {
    "execution": {
     "iopub.execute_input": "2025-05-13T17:34:21.188660Z",
     "iopub.status.busy": "2025-05-13T17:34:21.187931Z",
     "iopub.status.idle": "2025-05-13T17:34:21.243527Z",
     "shell.execute_reply": "2025-05-13T17:34:21.242291Z"
    },
    "papermill": {
     "duration": 0.291866,
     "end_time": "2025-05-13T17:34:21.245567",
     "exception": false,
     "start_time": "2025-05-13T17:34:20.953701",
     "status": "completed"
    },
    "tags": []
   },
   "outputs": [
    {
     "data": {
      "text/plain": [
       "'Insertion de 41 enrégistrements réussie'"
      ]
     },
     "execution_count": 44,
     "metadata": {},
     "output_type": "execute_result"
    }
   ],
   "source": [
    "stock_sync_manager.insert_dataframe_to_table(\n",
    "    df_etat_stock_npsp, table_name=\"stock_track_npsp\", schema_name=\"suivi_stock\"\n",
    ")"
   ]
  },
  {
   "cell_type": "markdown",
   "id": "e36a108a-15d9-4256-ad6e-a62fcd2933eb",
   "metadata": {
    "papermill": {
     "duration": 0.216109,
     "end_time": "2025-05-13T17:34:21.718606",
     "exception": false,
     "start_time": "2025-05-13T17:34:21.502497",
     "status": "completed"
    },
    "tags": []
   },
   "source": [
    "## 6.`Prévision`\n",
    "<div class=\"alert alert-block alert-warning\">\n",
    "Avant de procéder au calcul des éléments de prévision, il est essentiel de s’assurer que les informations produits sont à jour.\n",
    "Cette actualisation doit être effectuée à l’aide du fichier de mapping fourni en paramètre du pipeline.\n",
    "Ce fichier joue un rôle clé : il établit la correspondance entre les différentes sources de données, garantissant ainsi la cohérence et la fiabilité des informations utilisées pour les prévisions.\n",
    "\n",
    "</div>"
   ]
  },
  {
   "cell_type": "code",
   "execution_count": 45,
   "id": "1233e266-9e64-4468-b0e8-0a8997a922d8",
   "metadata": {
    "execution": {
     "iopub.execute_input": "2025-05-13T17:34:23.153533Z",
     "iopub.status.busy": "2025-05-13T17:34:23.152582Z",
     "iopub.status.idle": "2025-05-13T17:34:23.179678Z",
     "shell.execute_reply": "2025-05-13T17:34:23.178504Z"
    },
    "papermill": {
     "duration": 1.267917,
     "end_time": "2025-05-13T17:34:23.181707",
     "exception": false,
     "start_time": "2025-05-13T17:34:21.913790",
     "status": "completed"
    },
    "tags": []
   },
   "outputs": [
    {
     "data": {
      "text/plain": [
       "'Aucune mise à jour des données à effectuer sur la table dim_produit'"
      ]
     },
     "execution_count": 45,
     "metadata": {},
     "output_type": "execute_result"
    }
   ],
   "source": [
    "stock_sync_manager.synchronize_product_metadata(df_plan_approv.copy(), programme)"
   ]
  },
  {
   "cell_type": "code",
   "execution_count": 46,
   "id": "5951635c-2b33-4f6c-8ea0-713e2b7c8501",
   "metadata": {
    "execution": {
     "iopub.execute_input": "2025-05-13T17:34:23.598113Z",
     "iopub.status.busy": "2025-05-13T17:34:23.597089Z",
     "iopub.status.idle": "2025-05-13T17:34:23.605559Z",
     "shell.execute_reply": "2025-05-13T17:34:23.604544Z"
    },
    "papermill": {
     "duration": 0.211246,
     "end_time": "2025-05-13T17:34:23.607229",
     "exception": false,
     "start_time": "2025-05-13T17:34:23.395983",
     "status": "completed"
    },
    "tags": []
   },
   "outputs": [],
   "source": [
    "df_plan_approv['Date updated'] = df_plan_approv['DATE'].apply(lambda x: x.strftime(\"%b-%Y\"))"
   ]
  },
  {
   "cell_type": "code",
   "execution_count": 47,
   "id": "df8760ec-9a46-4a8f-838a-fb757d50b3d1",
   "metadata": {
    "execution": {
     "iopub.execute_input": "2025-05-13T17:34:29.162805Z",
     "iopub.status.busy": "2025-05-13T17:34:29.162334Z",
     "iopub.status.idle": "2025-05-13T17:34:32.551416Z",
     "shell.execute_reply": "2025-05-13T17:34:32.550265Z"
    },
    "papermill": {
     "duration": 6.463932,
     "end_time": "2025-05-13T17:34:32.553775",
     "exception": false,
     "start_time": "2025-05-13T17:34:26.089843",
     "status": "completed"
    },
    "tags": []
   },
   "outputs": [
    {
     "data": {
      "text/html": [
       "<div>\n",
       "<style scoped>\n",
       "    .dataframe tbody tr th:only-of-type {\n",
       "        vertical-align: middle;\n",
       "    }\n",
       "\n",
       "    .dataframe tbody tr th {\n",
       "        vertical-align: top;\n",
       "    }\n",
       "\n",
       "    .dataframe thead th {\n",
       "        text-align: right;\n",
       "    }\n",
       "</style>\n",
       "<table border=\"1\" class=\"dataframe\">\n",
       "  <thead>\n",
       "    <tr style=\"text-align: right;\">\n",
       "      <th></th>\n",
       "      <th>id_dim_produit_stock_track_fk</th>\n",
       "      <th>code_produit</th>\n",
       "      <th>ancien_code</th>\n",
       "      <th>stock_central</th>\n",
       "      <th>dmm_central</th>\n",
       "      <th>stock_national</th>\n",
       "      <th>cmm_national</th>\n",
       "      <th>stock_prev_central</th>\n",
       "      <th>stock_prev_national</th>\n",
       "      <th>period_prev</th>\n",
       "      <th>date_report</th>\n",
       "    </tr>\n",
       "  </thead>\n",
       "  <tbody>\n",
       "    <tr>\n",
       "      <th>0</th>\n",
       "      <td>360</td>\n",
       "      <td>3010071</td>\n",
       "      <td>AF13040</td>\n",
       "      <td>100.0</td>\n",
       "      <td>0.0</td>\n",
       "      <td>280.0</td>\n",
       "      <td>1006.0</td>\n",
       "      <td>ND</td>\n",
       "      <td>0</td>\n",
       "      <td>2025-03-01</td>\n",
       "      <td>2025-03-01</td>\n",
       "    </tr>\n",
       "    <tr>\n",
       "      <th>1</th>\n",
       "      <td>360</td>\n",
       "      <td>3010071</td>\n",
       "      <td>AF13040</td>\n",
       "      <td>NaN</td>\n",
       "      <td>NaN</td>\n",
       "      <td>NaN</td>\n",
       "      <td>NaN</td>\n",
       "      <td>ND</td>\n",
       "      <td>0</td>\n",
       "      <td>2025-04-01</td>\n",
       "      <td>2025-03-01</td>\n",
       "    </tr>\n",
       "    <tr>\n",
       "      <th>2</th>\n",
       "      <td>360</td>\n",
       "      <td>3010071</td>\n",
       "      <td>AF13040</td>\n",
       "      <td>NaN</td>\n",
       "      <td>NaN</td>\n",
       "      <td>NaN</td>\n",
       "      <td>NaN</td>\n",
       "      <td>ND</td>\n",
       "      <td>0</td>\n",
       "      <td>2025-05-01</td>\n",
       "      <td>2025-03-01</td>\n",
       "    </tr>\n",
       "  </tbody>\n",
       "</table>\n",
       "</div>"
      ],
      "text/plain": [
       "   id_dim_produit_stock_track_fk  code_produit ancien_code  stock_central  \\\n",
       "0                            360       3010071     AF13040          100.0   \n",
       "1                            360       3010071     AF13040            NaN   \n",
       "2                            360       3010071     AF13040            NaN   \n",
       "\n",
       "   dmm_central  stock_national  cmm_national stock_prev_central  \\\n",
       "0          0.0           280.0        1006.0                 ND   \n",
       "1          NaN             NaN           NaN                 ND   \n",
       "2          NaN             NaN           NaN                 ND   \n",
       "\n",
       "  stock_prev_national period_prev date_report  \n",
       "0                   0  2025-03-01  2025-03-01  \n",
       "1                   0  2025-04-01  2025-03-01  \n",
       "2                   0  2025-05-01  2025-03-01  "
      ]
     },
     "metadata": {},
     "output_type": "display_data"
    }
   ],
   "source": [
    "df_prevision = compute_indicators.prevision.get_prevision_current_month(\n",
    "    df_plan_approv.copy(),\n",
    "    date_report,\n",
    "    programme,\n",
    "    stock_sync_manager.civ_engine,\n",
    "    schema_name=\"suivi_stock\",\n",
    ")"
   ]
  },
  {
   "cell_type": "code",
   "execution_count": 48,
   "id": "6b5134dd-8cbc-4f9b-8671-af020adbb5cc",
   "metadata": {
    "execution": {
     "iopub.execute_input": "2025-05-13T17:34:32.972983Z",
     "iopub.status.busy": "2025-05-13T17:34:32.972598Z",
     "iopub.status.idle": "2025-05-13T17:34:32.987236Z",
     "shell.execute_reply": "2025-05-13T17:34:32.986148Z"
    },
    "papermill": {
     "duration": 0.229781,
     "end_time": "2025-05-13T17:34:32.990287",
     "exception": false,
     "start_time": "2025-05-13T17:34:32.760506",
     "status": "completed"
    },
    "tags": []
   },
   "outputs": [],
   "source": [
    "id_list = list(map(int, df_prevision.id_dim_produit_stock_track_fk.unique()))\n",
    "placeholders = \", \".join([\"%s\"] * len(id_list))\n",
    "\n",
    "query = f\"\"\"\n",
    "DELETE FROM {schema_name}.stock_track_prevision\n",
    "WHERE date_report = %s AND id_dim_produit_stock_track_fk IN ({placeholders});\n",
    "\"\"\"\n",
    "stock_sync_manager.civ_cursor.execute(query, [date_report] + list(id_list))\n",
    "stock_sync_manager.conn.commit()"
   ]
  },
  {
   "cell_type": "code",
   "execution_count": 49,
   "id": "b2cba3cf-54d4-40a9-81e4-db8ffc8af896",
   "metadata": {
    "execution": {
     "iopub.execute_input": "2025-05-13T17:34:33.422445Z",
     "iopub.status.busy": "2025-05-13T17:34:33.420965Z",
     "iopub.status.idle": "2025-05-13T17:34:33.633663Z",
     "shell.execute_reply": "2025-05-13T17:34:33.632377Z"
    },
    "papermill": {
     "duration": 0.426521,
     "end_time": "2025-05-13T17:34:33.635651",
     "exception": false,
     "start_time": "2025-05-13T17:34:33.209130",
     "status": "completed"
    },
    "tags": []
   },
   "outputs": [
    {
     "data": {
      "text/plain": [
       "'Insertion de 572 enrégistrements réussie'"
      ]
     },
     "execution_count": 49,
     "metadata": {},
     "output_type": "execute_result"
    }
   ],
   "source": [
    "stock_sync_manager.insert_dataframe_to_table(\n",
    "    df_prevision.drop(columns=[\"code_produit\", \"ancien_code\"]), \"stock_track_prevision\"\n",
    ")"
   ]
  },
  {
   "cell_type": "markdown",
   "id": "beed3506-66a5-4678-a064-cd62f6bd461c",
   "metadata": {
    "papermill": {
     "duration": 0.534344,
     "end_time": "2025-05-13T17:34:34.368765",
     "exception": false,
     "start_time": "2025-05-13T17:34:33.834421",
     "status": "completed"
    },
    "tags": []
   },
   "source": [
    "## 7.`Plan d'approvisionnement`"
   ]
  },
  {
   "cell_type": "code",
   "execution_count": 50,
   "id": "915dd339-4537-4fdd-b9f2-f3f52bc7db68",
   "metadata": {
    "execution": {
     "iopub.execute_input": "2025-05-13T17:34:37.371964Z",
     "iopub.status.busy": "2025-05-13T17:34:37.371462Z",
     "iopub.status.idle": "2025-05-13T17:34:45.823439Z",
     "shell.execute_reply": "2025-05-13T17:34:45.822161Z"
    },
    "papermill": {
     "duration": 10.881381,
     "end_time": "2025-05-13T17:34:45.825542",
     "exception": false,
     "start_time": "2025-05-13T17:34:34.944161",
     "status": "completed"
    },
    "tags": []
   },
   "outputs": [],
   "source": [
    "query = f\"\"\"\n",
    "DELETE FROM {schema_name}.plan_approv\n",
    "WHERE date_report = '{date_report}' and programme='{programme}'\n",
    "\"\"\"\n",
    "stock_sync_manager.civ_cursor.execute(query)\n",
    "stock_sync_manager.conn.commit()"
   ]
  },
  {
   "cell_type": "code",
   "execution_count": 51,
   "id": "8f6561dd-eac8-4500-bb97-c7cde0e0fdeb",
   "metadata": {
    "execution": {
     "iopub.execute_input": "2025-05-13T17:34:46.305147Z",
     "iopub.status.busy": "2025-05-13T17:34:46.304809Z",
     "iopub.status.idle": "2025-05-13T17:34:46.329160Z",
     "shell.execute_reply": "2025-05-13T17:34:46.328260Z"
    },
    "papermill": {
     "duration": 0.257516,
     "end_time": "2025-05-13T17:34:46.330821",
     "exception": false,
     "start_time": "2025-05-13T17:34:46.073305",
     "status": "completed"
    },
    "tags": []
   },
   "outputs": [
    {
     "data": {
      "text/html": [
       "<div>\n",
       "<style scoped>\n",
       "    .dataframe tbody tr th:only-of-type {\n",
       "        vertical-align: middle;\n",
       "    }\n",
       "\n",
       "    .dataframe tbody tr th {\n",
       "        vertical-align: top;\n",
       "    }\n",
       "\n",
       "    .dataframe thead th {\n",
       "        text-align: right;\n",
       "    }\n",
       "</style>\n",
       "<table border=\"1\" class=\"dataframe\">\n",
       "  <thead>\n",
       "    <tr style=\"text-align: right;\">\n",
       "      <th></th>\n",
       "      <th>standard_product_code</th>\n",
       "      <th>id_produit_qat</th>\n",
       "      <th>designation</th>\n",
       "      <th>id_envoi_qat</th>\n",
       "      <th>centrale_achat</th>\n",
       "      <th>source_financement</th>\n",
       "      <th>status</th>\n",
       "      <th>quantite</th>\n",
       "      <th>facteur_conversion_qat_vers_sage</th>\n",
       "      <th>quantite_harmonisee_sage</th>\n",
       "      <th>date</th>\n",
       "      <th>cout_produits</th>\n",
       "      <th>cout_fret</th>\n",
       "      <th>cout_total</th>\n",
       "      <th>date_report</th>\n",
       "      <th>programme</th>\n",
       "    </tr>\n",
       "  </thead>\n",
       "  <tbody>\n",
       "    <tr>\n",
       "      <th>0</th>\n",
       "      <td>3050257.0</td>\n",
       "      <td>3727</td>\n",
       "      <td>Isoniazid 100 mg Dispersible Tablet  10 x 10 S...</td>\n",
       "      <td>167233</td>\n",
       "      <td>Govt</td>\n",
       "      <td>Govt</td>\n",
       "      <td>Reçu</td>\n",
       "      <td>3500.0</td>\n",
       "      <td>1</td>\n",
       "      <td>3500.0</td>\n",
       "      <td>2025-03-15</td>\n",
       "      <td>32060.0</td>\n",
       "      <td>9618.0</td>\n",
       "      <td>41678.0</td>\n",
       "      <td>2025-03-01</td>\n",
       "      <td>PNLT</td>\n",
       "    </tr>\n",
       "    <tr>\n",
       "      <th>1</th>\n",
       "      <td>3050350.0</td>\n",
       "      <td>5245</td>\n",
       "      <td>Rifampicin/Isoniazid 150/75 mg Tablet  24 x 28...</td>\n",
       "      <td>167241</td>\n",
       "      <td>Govt</td>\n",
       "      <td>Govt</td>\n",
       "      <td>Approuvé</td>\n",
       "      <td>5000.0</td>\n",
       "      <td>1</td>\n",
       "      <td>5000.0</td>\n",
       "      <td>2025-05-31</td>\n",
       "      <td>175400.0</td>\n",
       "      <td>52620.0</td>\n",
       "      <td>228020.0</td>\n",
       "      <td>2025-03-01</td>\n",
       "      <td>PNLT</td>\n",
       "    </tr>\n",
       "  </tbody>\n",
       "</table>\n",
       "</div>"
      ],
      "text/plain": [
       "   standard_product_code  id_produit_qat  \\\n",
       "0              3050257.0            3727   \n",
       "1              3050350.0            5245   \n",
       "\n",
       "                                         designation  id_envoi_qat  \\\n",
       "0  Isoniazid 100 mg Dispersible Tablet  10 x 10 S...        167233   \n",
       "1  Rifampicin/Isoniazid 150/75 mg Tablet  24 x 28...        167241   \n",
       "\n",
       "  centrale_achat source_financement    status  quantite  \\\n",
       "0           Govt               Govt      Reçu    3500.0   \n",
       "1           Govt               Govt  Approuvé    5000.0   \n",
       "\n",
       "   facteur_conversion_qat_vers_sage  quantite_harmonisee_sage       date  \\\n",
       "0                                 1                    3500.0 2025-03-15   \n",
       "1                                 1                    5000.0 2025-05-31   \n",
       "\n",
       "   cout_produits  cout_fret  cout_total date_report programme  \n",
       "0        32060.0     9618.0     41678.0  2025-03-01      PNLT  \n",
       "1       175400.0    52620.0    228020.0  2025-03-01      PNLT  "
      ]
     },
     "execution_count": 51,
     "metadata": {},
     "output_type": "execute_result"
    }
   ],
   "source": [
    "df_pa = df_plan_approv.rename(\n",
    "    columns={\n",
    "        \"Standard product code\": \"standard_product_code\",\n",
    "        \"ID de produit QAT\": \"id_produit_qat\",\n",
    "        \"Produits\": \"designation\",\n",
    "        \"ID de l`envoi QAT\": \"id_envoi_qat\",\n",
    "        \"Agent d`approvisionnement\": \"centrale_achat\",\n",
    "        \"Source de financement\": \"source_financement\",\n",
    "        \"Status\": \"status\",\n",
    "        \"Quantite\": \"quantite\",\n",
    "        \"facteur_de_conversion_qat_sage\": \"facteur_conversion_qat_vers_sage\",\n",
    "        \"Quantité harmonisée (SAGE)\": \"quantite_harmonisee_sage\",\n",
    "        \"DATE\": \"date\",\n",
    "        \"Cout des Produits\": \"cout_produits\",\n",
    "        \"Couts du fret\": \"cout_fret\",\n",
    "        \"Couts totaux\": \"cout_total\",\n",
    "    },\n",
    ")\n",
    "\n",
    "df_pa = df_pa[\n",
    "    [\"standard_product_code\", \"id_produit_qat\",\n",
    "     \"designation\", \"id_envoi_qat\",\n",
    "     \"centrale_achat\", \"source_financement\",\n",
    "     \"status\", \"quantite\", \"facteur_conversion_qat_vers_sage\",\n",
    "     \"quantite_harmonisee_sage\", \"date\",\n",
    "     \"cout_produits\", \"cout_fret\", \"cout_total\",\n",
    "    ]\n",
    "]\n",
    "df_pa[\"date_report\"] = pd.to_datetime(date_report)\n",
    "df_pa[\"programme\"] = programme\n",
    "df_pa[\"standard_product_code\"] = df_pa[\"standard_product_code\"].fillna(0)\n",
    "\n",
    "df_pa.head(2)"
   ]
  },
  {
   "cell_type": "code",
   "execution_count": 52,
   "id": "557e36d1-3a17-48d4-851d-96de9b3f3be5",
   "metadata": {
    "execution": {
     "iopub.execute_input": "2025-05-13T17:34:46.767164Z",
     "iopub.status.busy": "2025-05-13T17:34:46.766827Z",
     "iopub.status.idle": "2025-05-13T17:34:46.845821Z",
     "shell.execute_reply": "2025-05-13T17:34:46.844978Z"
    },
    "papermill": {
     "duration": 0.279246,
     "end_time": "2025-05-13T17:34:46.847581",
     "exception": false,
     "start_time": "2025-05-13T17:34:46.568335",
     "status": "completed"
    },
    "tags": []
   },
   "outputs": [
    {
     "data": {
      "text/plain": [
       "'Insertion de 65 enrégistrements réussie'"
      ]
     },
     "execution_count": 52,
     "metadata": {},
     "output_type": "execute_result"
    }
   ],
   "source": [
    "stock_sync_manager.insert_dataframe_to_table(df_pa, table_name=\"plan_approv\", schema_name=\"suivi_stock\")"
   ]
  },
  {
   "cell_type": "code",
   "execution_count": 53,
   "id": "59e7f509-0f62-4188-8648-bef9a221b661",
   "metadata": {
    "execution": {
     "iopub.execute_input": "2025-05-13T17:34:47.271264Z",
     "iopub.status.busy": "2025-05-13T17:34:47.270729Z",
     "iopub.status.idle": "2025-05-13T17:34:47.275459Z",
     "shell.execute_reply": "2025-05-13T17:34:47.274550Z"
    },
    "papermill": {
     "duration": 0.206023,
     "end_time": "2025-05-13T17:34:47.276829",
     "exception": false,
     "start_time": "2025-05-13T17:34:47.070806",
     "status": "completed"
    },
    "tags": []
   },
   "outputs": [],
   "source": [
    "del df_pa"
   ]
  },
  {
   "cell_type": "markdown",
   "id": "0a6af0d7-53cb-45f0-a174-afed7ecd72db",
   "metadata": {
    "papermill": {
     "duration": 0.440163,
     "end_time": "2025-05-13T17:34:47.909419",
     "exception": false,
     "start_time": "2025-05-13T17:34:47.469256",
     "status": "completed"
    },
    "tags": []
   },
   "source": [
    "# VI.📄Génération du fichier pour le mois spécifique"
   ]
  },
  {
   "cell_type": "markdown",
   "id": "a1e25950-2b53-4f3b-b1f8-9ec34c76367b",
   "metadata": {
    "papermill": {
     "duration": 0.190939,
     "end_time": "2025-05-13T17:34:49.080290",
     "exception": false,
     "start_time": "2025-05-13T17:34:48.889351",
     "status": "completed"
    },
    "tags": []
   },
   "source": [
    "## 1. Initialisation des paramètres utile"
   ]
  },
  {
   "cell_type": "code",
   "execution_count": 54,
   "id": "30b49db8-06c5-4d9e-ae95-a24f0ee66888",
   "metadata": {
    "execution": {
     "iopub.execute_input": "2025-05-13T17:34:49.446385Z",
     "iopub.status.busy": "2025-05-13T17:34:49.445976Z",
     "iopub.status.idle": "2025-05-13T17:34:49.453394Z",
     "shell.execute_reply": "2025-05-13T17:34:49.452153Z"
    },
    "papermill": {
     "duration": 0.18962,
     "end_time": "2025-05-13T17:34:49.454935",
     "exception": false,
     "start_time": "2025-05-13T17:34:49.265315",
     "status": "completed"
    },
    "tags": []
   },
   "outputs": [],
   "source": [
    "date_report_format = date_report\n",
    "date_report = pd.to_datetime(date_report, format='%Y-%m-%d').strftime('%d/%m/%Y')\n",
    "f_month = gstf.get_current_variable(date_report)[1].replace(' ', '-')"
   ]
  },
  {
   "cell_type": "markdown",
   "id": "acace0b9-cbb6-4ee8-bc43-1fcd1c724a2d",
   "metadata": {
    "papermill": {
     "duration": 0.186883,
     "end_time": "2025-05-13T17:34:49.823669",
     "exception": false,
     "start_time": "2025-05-13T17:34:49.636786",
     "status": "completed"
    },
    "tags": []
   },
   "source": [
    "## 2. Importation des classeurs de bases"
   ]
  },
  {
   "cell_type": "code",
   "execution_count": 55,
   "id": "689f25f3-1bf9-4c16-9569-61b0b7140cce",
   "metadata": {
    "execution": {
     "iopub.execute_input": "2025-05-13T17:34:51.671469Z",
     "iopub.status.busy": "2025-05-13T17:34:51.670961Z",
     "iopub.status.idle": "2025-05-13T17:41:43.435487Z",
     "shell.execute_reply": "2025-05-13T17:41:43.434059Z"
    },
    "papermill": {
     "duration": 413.521912,
     "end_time": "2025-05-13T17:41:43.984993",
     "exception": false,
     "start_time": "2025-05-13T17:34:50.463081",
     "status": "completed"
    },
    "tags": []
   },
   "outputs": [
    {
     "name": "stdout",
     "output_type": "stream",
     "text": [
      "CPU times: user 6min 40s, sys: 9.92 s, total: 6min 50s\n",
      "Wall time: 6min 51s\n"
     ]
    }
   ],
   "source": [
    "%%time\n",
    "# WorkBook Template de base\n",
    "wb_template = pyxl.load_workbook(\n",
    "    filename=\"/home/jovyan/workspace/Fichier Suivi de Stock/code/pipelines/generate_stock_tracking_file/Template Fichier Suivi de Stock/Fichier Suivi de Stock Template.xlsx\"\n",
    ")\n",
    "\n",
    "# WorkBook Etats de stock mensuels\n",
    "wb_etat_stock = pyxl.load_workbook(filename=fp_etat_mensuel)\n",
    "\n",
    "# WorkBook du Rapport Feedback\n",
    "wb_fbr = pyxl.load_workbook(\n",
    "    filename=f\"/home/jovyan/workspace/Rapport Feedback/code/pipelines/rapport feedback genere/{date_report_format[:4]}/RapportFeedBack-{unidecode(f_month)}.xlsx\"\n",
    ")"
   ]
  },
  {
   "cell_type": "markdown",
   "id": "30d3235c-40f4-4d76-9cbb-463cbf37cb26",
   "metadata": {
    "papermill": {
     "duration": 0.192449,
     "end_time": "2025-05-13T17:41:44.452361",
     "exception": false,
     "start_time": "2025-05-13T17:41:44.259912",
     "status": "completed"
    },
    "tags": []
   },
   "source": [
    "## 3. Mise à jour des données en se basant sur la source `Etat de Stock Mensuel`"
   ]
  },
  {
   "cell_type": "code",
   "execution_count": 56,
   "id": "ef678267-2bdf-4fad-bdc6-837935e7c2bf",
   "metadata": {
    "execution": {
     "iopub.execute_input": "2025-05-13T17:41:44.843230Z",
     "iopub.status.busy": "2025-05-13T17:41:44.842839Z",
     "iopub.status.idle": "2025-05-13T17:42:21.189616Z",
     "shell.execute_reply": "2025-05-13T17:42:21.187974Z"
    },
    "papermill": {
     "duration": 36.788394,
     "end_time": "2025-05-13T17:42:21.442772",
     "exception": false,
     "start_time": "2025-05-13T17:41:44.654378",
     "status": "completed"
    },
    "tags": []
   },
   "outputs": [
    {
     "name": "stdout",
     "output_type": "stream",
     "text": [
      "CPU times: user 36.3 s, sys: 52.5 ms, total: 36.3 s\n",
      "Wall time: 36.3 s\n"
     ]
    }
   ],
   "source": [
    "%%time\n",
    "wb_template = gstf.update_sheets_etat_mensuel(\n",
    "    wb_etat_stock, wb_template, programme, date_report\n",
    ")"
   ]
  },
  {
   "cell_type": "markdown",
   "id": "40b4f4f0-6a5d-4685-9b86-b74e15424ed7",
   "metadata": {
    "papermill": {
     "duration": 0.19593,
     "end_time": "2025-05-13T17:42:21.825976",
     "exception": false,
     "start_time": "2025-05-13T17:42:21.630046",
     "status": "completed"
    },
    "tags": []
   },
   "source": [
    "## 4. Mise à jour des données en se basant sur la source `Rapport Feedback`\n",
    "\n",
    "Pour le faire on va se baser sur les inputs au préalable du fichier RapportFeebback généré et présent dans les fichiers d'OH pour le mois courant"
   ]
  },
  {
   "cell_type": "code",
   "execution_count": 57,
   "id": "aca0a3a7-c102-4200-8604-357171092ab5",
   "metadata": {
    "execution": {
     "iopub.execute_input": "2025-05-13T17:42:22.230180Z",
     "iopub.status.busy": "2025-05-13T17:42:22.229807Z",
     "iopub.status.idle": "2025-05-13T17:42:36.333322Z",
     "shell.execute_reply": "2025-05-13T17:42:36.332253Z"
    },
    "papermill": {
     "duration": 14.316076,
     "end_time": "2025-05-13T17:42:36.335315",
     "exception": false,
     "start_time": "2025-05-13T17:42:22.019239",
     "status": "completed"
    },
    "tags": []
   },
   "outputs": [
    {
     "data": {
      "text/html": [
       "<div>\n",
       "<style scoped>\n",
       "    .dataframe tbody tr th:only-of-type {\n",
       "        vertical-align: middle;\n",
       "    }\n",
       "\n",
       "    .dataframe tbody tr th {\n",
       "        vertical-align: top;\n",
       "    }\n",
       "\n",
       "    .dataframe thead th {\n",
       "        text-align: right;\n",
       "    }\n",
       "</style>\n",
       "<table border=\"1\" class=\"dataframe\">\n",
       "  <thead>\n",
       "    <tr style=\"text-align: right;\">\n",
       "      <th></th>\n",
       "      <th>Code_Pro</th>\n",
       "      <th>CODE</th>\n",
       "      <th>PROGRAMME</th>\n",
       "      <th>SOUS-PROGRAMME</th>\n",
       "      <th>PERIODE</th>\n",
       "      <th>REGION</th>\n",
       "      <th>DISTRICT</th>\n",
       "      <th>CODE  ETS</th>\n",
       "      <th>STRUCTURE</th>\n",
       "      <th>TYPE DE STRUCTURE</th>\n",
       "      <th>CATEGORIE PRODUIT</th>\n",
       "      <th>PRODUIT</th>\n",
       "      <th>UNITE DE RAPPORTAGE</th>\n",
       "      <th>STOCK INITIAL</th>\n",
       "      <th>QUANTITE RECUE</th>\n",
       "      <th>QUANTITE UTILISEE</th>\n",
       "      <th>PERTES ET AJUSTEMENT</th>\n",
       "      <th>JOURS DE RUPTURE</th>\n",
       "      <th>SDU</th>\n",
       "      <th>CMM ESIGL</th>\n",
       "      <th>CMM gestionnaire</th>\n",
       "      <th>QUANTITE PROPOSEE</th>\n",
       "      <th>QUANTITE COMMANDEE</th>\n",
       "      <th>QUANTITE APPROUVEE</th>\n",
       "      <th>MSD</th>\n",
       "      <th>ETAT DU STOCK</th>\n",
       "      <th>BESOIN COMMANDE URGENTE</th>\n",
       "      <th>BESOIN TRANSFERT IN</th>\n",
       "      <th>QUANTITE A TRANSFERER OUT</th>\n",
       "      <th>CATEGORIE_DU_PRODUIT</th>\n",
       "      <th>Commandes du mois précédent</th>\n",
       "      <th>Etat du stock du mois précédent</th>\n",
       "    </tr>\n",
       "  </thead>\n",
       "  <tbody>\n",
       "    <tr>\n",
       "      <th>0</th>\n",
       "      <td>3050350_PNLT</td>\n",
       "      <td>3050350</td>\n",
       "      <td>PNLT</td>\n",
       "      <td>PNLT-SENSIBLE MEDICAMENTS ET INTRANTS</td>\n",
       "      <td>JANVIER MARS 2025</td>\n",
       "      <td>IFFOU</td>\n",
       "      <td>DAOUKRO</td>\n",
       "      <td>62600030</td>\n",
       "      <td>CENTRE ANTITUBERCULEUX DAOUKRO</td>\n",
       "      <td>FORMATION SANITAIRE</td>\n",
       "      <td>Produit traceur</td>\n",
       "      <td>RH 150 (RIFAmpICINE150 - ISONIAZIDE75) comp. B...</td>\n",
       "      <td>COMPRIME</td>\n",
       "      <td>9316</td>\n",
       "      <td>9408</td>\n",
       "      <td>8992</td>\n",
       "      <td>-2399</td>\n",
       "      <td>0</td>\n",
       "      <td>7333</td>\n",
       "      <td>1007</td>\n",
       "      <td>3021.0</td>\n",
       "      <td>0</td>\n",
       "      <td>10793</td>\n",
       "      <td>10793</td>\n",
       "      <td>2.427342</td>\n",
       "      <td>ENTRE PCU et MIN</td>\n",
       "      <td>NaN</td>\n",
       "      <td>1730.0</td>\n",
       "      <td>NaN</td>\n",
       "      <td>PRODUITS PNLT ADULTE</td>\n",
       "      <td>NaN</td>\n",
       "      <td>NaN</td>\n",
       "    </tr>\n",
       "    <tr>\n",
       "      <th>1</th>\n",
       "      <td>3050356_PNLT</td>\n",
       "      <td>3050356</td>\n",
       "      <td>PNLT</td>\n",
       "      <td>PNLT-SENSIBLE MEDICAMENTS ET INTRANTS</td>\n",
       "      <td>JANVIER MARS 2025</td>\n",
       "      <td>IFFOU</td>\n",
       "      <td>DAOUKRO</td>\n",
       "      <td>62600030</td>\n",
       "      <td>CENTRE ANTITUBERCULEUX DAOUKRO</td>\n",
       "      <td>FORMATION SANITAIRE</td>\n",
       "      <td>Produit traceur</td>\n",
       "      <td>RHZE (RIFAMP 150 - ISON 75 - PYRAZ 400 - ETHAM...</td>\n",
       "      <td>COMPRIME</td>\n",
       "      <td>8862</td>\n",
       "      <td>0</td>\n",
       "      <td>5251</td>\n",
       "      <td>-2016</td>\n",
       "      <td>0</td>\n",
       "      <td>1595</td>\n",
       "      <td>591</td>\n",
       "      <td>1774.0</td>\n",
       "      <td>1951</td>\n",
       "      <td>9049</td>\n",
       "      <td>9049</td>\n",
       "      <td>0.899098</td>\n",
       "      <td>EN BAS DU PCU</td>\n",
       "      <td>9049.0</td>\n",
       "      <td>3727.0</td>\n",
       "      <td>NaN</td>\n",
       "      <td>PRODUITS PNLT ADULTE</td>\n",
       "      <td>NaN</td>\n",
       "      <td>NaN</td>\n",
       "    </tr>\n",
       "  </tbody>\n",
       "</table>\n",
       "</div>"
      ],
      "text/plain": [
       "       Code_Pro     CODE PROGRAMME                         SOUS-PROGRAMME  \\\n",
       "0  3050350_PNLT  3050350      PNLT  PNLT-SENSIBLE MEDICAMENTS ET INTRANTS   \n",
       "1  3050356_PNLT  3050356      PNLT  PNLT-SENSIBLE MEDICAMENTS ET INTRANTS   \n",
       "\n",
       "             PERIODE REGION DISTRICT  CODE  ETS  \\\n",
       "0  JANVIER MARS 2025  IFFOU  DAOUKRO   62600030   \n",
       "1  JANVIER MARS 2025  IFFOU  DAOUKRO   62600030   \n",
       "\n",
       "                         STRUCTURE    TYPE DE STRUCTURE CATEGORIE PRODUIT  \\\n",
       "0   CENTRE ANTITUBERCULEUX DAOUKRO  FORMATION SANITAIRE   Produit traceur   \n",
       "1   CENTRE ANTITUBERCULEUX DAOUKRO  FORMATION SANITAIRE   Produit traceur   \n",
       "\n",
       "                                             PRODUIT UNITE DE RAPPORTAGE  \\\n",
       "0  RH 150 (RIFAmpICINE150 - ISONIAZIDE75) comp. B...            COMPRIME   \n",
       "1  RHZE (RIFAMP 150 - ISON 75 - PYRAZ 400 - ETHAM...            COMPRIME   \n",
       "\n",
       "   STOCK INITIAL  QUANTITE RECUE  QUANTITE UTILISEE  PERTES ET AJUSTEMENT  \\\n",
       "0           9316            9408               8992                 -2399   \n",
       "1           8862               0               5251                 -2016   \n",
       "\n",
       "   JOURS DE RUPTURE   SDU  CMM ESIGL  CMM gestionnaire  QUANTITE PROPOSEE  \\\n",
       "0                 0  7333       1007            3021.0                  0   \n",
       "1                 0  1595        591            1774.0               1951   \n",
       "\n",
       "   QUANTITE COMMANDEE  QUANTITE APPROUVEE       MSD     ETAT DU STOCK  \\\n",
       "0               10793               10793  2.427342  ENTRE PCU et MIN   \n",
       "1                9049                9049  0.899098     EN BAS DU PCU   \n",
       "\n",
       "   BESOIN COMMANDE URGENTE                    \\\n",
       "0                                        NaN   \n",
       "1                                     9049.0   \n",
       "\n",
       "   BESOIN TRANSFERT IN                                 \\\n",
       "0                                             1730.0    \n",
       "1                                             3727.0    \n",
       "\n",
       "   QUANTITE A TRANSFERER OUT  CATEGORIE_DU_PRODUIT  \\\n",
       "0                        NaN  PRODUITS PNLT ADULTE   \n",
       "1                        NaN  PRODUITS PNLT ADULTE   \n",
       "\n",
       "   Commandes du mois précédent  Etat du stock du mois précédent  \n",
       "0                          NaN                              NaN  \n",
       "1                          NaN                              NaN  "
      ]
     },
     "execution_count": 57,
     "metadata": {},
     "output_type": "execute_result"
    }
   ],
   "source": [
    "df_etat_stock = pd.read_excel(\n",
    "    f\"/home/jovyan/workspace/Rapport Feedback/code/pipelines/rapport feedback genere/{date_report_format[:4]}/RapportFeedBack-{unidecode(f_month)}.xlsx\",\n",
    "    sheet_name=\"ETAT DU STOCK\",\n",
    ")\n",
    "\n",
    "df_etat_stock.head(2)"
   ]
  },
  {
   "cell_type": "code",
   "execution_count": 58,
   "id": "fcabb659-b3ab-42f0-b5bc-fcec276f97c3",
   "metadata": {
    "execution": {
     "iopub.execute_input": "2025-05-13T17:42:36.829516Z",
     "iopub.status.busy": "2025-05-13T17:42:36.829043Z",
     "iopub.status.idle": "2025-05-13T17:42:40.957804Z",
     "shell.execute_reply": "2025-05-13T17:42:40.956595Z"
    },
    "papermill": {
     "duration": 4.32132,
     "end_time": "2025-05-13T17:42:40.959656",
     "exception": false,
     "start_time": "2025-05-13T17:42:36.638336",
     "status": "completed"
    },
    "tags": []
   },
   "outputs": [
    {
     "name": "stdout",
     "output_type": "stream",
     "text": [
      "CPU times: user 4.12 s, sys: 1.96 ms, total: 4.12 s\n",
      "Wall time: 4.12 s\n"
     ]
    }
   ],
   "source": [
    "%%time\n",
    "\n",
    "wb_template = gstf.update_sheet_etat_stock(wb_template, df_etat_stock.loc[df_etat_stock.PROGRAMME==programme].copy())\n",
    "\n",
    "wb_template = gstf.update_sheet_stock_region(wb_template, wb_fbr, programme)"
   ]
  },
  {
   "cell_type": "markdown",
   "id": "aa2d9f5c-ff21-4dc3-8509-207e0f632a6e",
   "metadata": {
    "papermill": {
     "duration": 1.032298,
     "end_time": "2025-05-13T17:42:42.181722",
     "exception": false,
     "start_time": "2025-05-13T17:42:41.149424",
     "status": "completed"
    },
    "tags": []
   },
   "source": [
    "## 4. Mise à jour des informations feuille `Annexe 1 - Consolidation`"
   ]
  },
  {
   "cell_type": "code",
   "execution_count": 59,
   "id": "1448ebc3-75d4-4063-8d8d-daba9b9c2c65",
   "metadata": {
    "execution": {
     "iopub.execute_input": "2025-05-13T17:42:42.995414Z",
     "iopub.status.busy": "2025-05-13T17:42:42.994986Z",
     "iopub.status.idle": "2025-05-13T17:42:50.508606Z",
     "shell.execute_reply": "2025-05-13T17:42:50.507356Z"
    },
    "papermill": {
     "duration": 8.131021,
     "end_time": "2025-05-13T17:42:50.510684",
     "exception": false,
     "start_time": "2025-05-13T17:42:42.379663",
     "status": "completed"
    },
    "tags": []
   },
   "outputs": [],
   "source": [
    "wb_template = gstf.update_sheet_annexe_1(\n",
    "    wb_template, programme, schema_name, stock_sync_manager.civ_engine, date_report\n",
    ")"
   ]
  },
  {
   "cell_type": "markdown",
   "id": "17d87336-319e-4c52-bc10-ca92f55a36bd",
   "metadata": {
    "papermill": {
     "duration": 0.191836,
     "end_time": "2025-05-13T17:42:51.090526",
     "exception": false,
     "start_time": "2025-05-13T17:42:50.898690",
     "status": "completed"
    },
    "tags": []
   },
   "source": [
    "## 5. Mise à jour des données du `Plan d'approvisionnement`"
   ]
  },
  {
   "cell_type": "code",
   "execution_count": 60,
   "id": "896a4775-5a20-497e-9642-99b199e90a53",
   "metadata": {
    "execution": {
     "iopub.execute_input": "2025-05-13T17:42:51.493378Z",
     "iopub.status.busy": "2025-05-13T17:42:51.492804Z",
     "iopub.status.idle": "2025-05-13T17:42:51.534585Z",
     "shell.execute_reply": "2025-05-13T17:42:51.533557Z"
    },
    "papermill": {
     "duration": 0.261084,
     "end_time": "2025-05-13T17:42:51.536773",
     "exception": false,
     "start_time": "2025-05-13T17:42:51.275689",
     "status": "completed"
    },
    "scrolled": true,
    "tags": []
   },
   "outputs": [],
   "source": [
    "df_pa = df_plan_approv.rename(\n",
    "    columns={\n",
    "        \"Agent d`approvisionnement\": \"Centrale d'achat\",\n",
    "        \"Source de financement\": \"Source Financement\",\n",
    "        \"facteur_de_conversion_qat_sage\": \"Facteur de conversion de QAT vers SAGE\",\n",
    "        \"cout_unitaire_moyen_qat\": \"Coût unitaire moyen (en dollar)\",\n",
    "        \"acronym\": \"Acronym\",\n",
    "    }\n",
    ")\n",
    "\n",
    "df_pa[\"DATE\"] = pd.to_datetime(df_pa[\"DATE\"], format='%d-%b-%Y', errors='coerce')"
   ]
  },
  {
   "cell_type": "code",
   "execution_count": 61,
   "id": "7b64bf01-482b-473e-82df-9d96345e04cf",
   "metadata": {
    "execution": {
     "iopub.execute_input": "2025-05-13T17:42:51.936806Z",
     "iopub.status.busy": "2025-05-13T17:42:51.936449Z",
     "iopub.status.idle": "2025-05-13T17:42:52.042500Z",
     "shell.execute_reply": "2025-05-13T17:42:52.041395Z"
    },
    "papermill": {
     "duration": 0.312317,
     "end_time": "2025-05-13T17:42:52.044124",
     "exception": false,
     "start_time": "2025-05-13T17:42:51.731807",
     "status": "completed"
    },
    "tags": []
   },
   "outputs": [
    {
     "name": "stdout",
     "output_type": "stream",
     "text": [
      "CPU times: user 100 ms, sys: 987 μs, total: 101 ms\n",
      "Wall time: 101 ms\n"
     ]
    }
   ],
   "source": [
    "%%time\n",
    "wb_template = gstf.update_sheet_plan_approv(wb_template, df_pa)"
   ]
  },
  {
   "cell_type": "markdown",
   "id": "0e5eec95-ae01-435c-994f-597b583151ca",
   "metadata": {
    "papermill": {
     "duration": 1.245887,
     "end_time": "2025-05-13T17:42:53.488513",
     "exception": false,
     "start_time": "2025-05-13T17:42:52.242626",
     "status": "completed"
    },
    "tags": []
   },
   "source": [
    "## 5. Mise à jour des informations  en se basant sur la source `Annexe 2 - Suivi de Stock`"
   ]
  },
  {
   "cell_type": "code",
   "execution_count": 62,
   "id": "a8cbbd89-50c1-4467-b616-46071483927c",
   "metadata": {
    "execution": {
     "iopub.execute_input": "2025-05-13T17:42:53.876045Z",
     "iopub.status.busy": "2025-05-13T17:42:53.875664Z",
     "iopub.status.idle": "2025-05-13T17:42:55.731568Z",
     "shell.execute_reply": "2025-05-13T17:42:55.730502Z"
    },
    "papermill": {
     "duration": 2.04931,
     "end_time": "2025-05-13T17:42:55.733141",
     "exception": false,
     "start_time": "2025-05-13T17:42:53.683831",
     "status": "completed"
    },
    "tags": []
   },
   "outputs": [
    {
     "name": "stdout",
     "output_type": "stream",
     "text": [
      "CPU times: user 1.85 s, sys: 6.15 ms, total: 1.86 s\n",
      "Wall time: 1.85 s\n"
     ]
    }
   ],
   "source": [
    "%%time\n",
    "wb_template = gstf.update_sheet_annexe_2(wb_template, df_pa, date_report)"
   ]
  },
  {
   "cell_type": "markdown",
   "id": "23e8d193-e8ee-4e13-96a4-dca4dcd5cae5",
   "metadata": {
    "papermill": {
     "duration": 0.190032,
     "end_time": "2025-05-13T17:42:56.097180",
     "exception": false,
     "start_time": "2025-05-13T17:42:55.907148",
     "status": "completed"
    },
    "tags": []
   },
   "source": [
    "## 6. Mise à jour des données en se basant sur la source `Prévision`"
   ]
  },
  {
   "cell_type": "code",
   "execution_count": 63,
   "id": "907dc386-5f20-42a9-8bc4-a6033963db23",
   "metadata": {
    "execution": {
     "iopub.execute_input": "2025-05-13T17:42:57.410608Z",
     "iopub.status.busy": "2025-05-13T17:42:57.409527Z",
     "iopub.status.idle": "2025-05-13T17:42:57.418364Z",
     "shell.execute_reply": "2025-05-13T17:42:57.417461Z"
    },
    "papermill": {
     "duration": 1.149006,
     "end_time": "2025-05-13T17:42:57.419868",
     "exception": false,
     "start_time": "2025-05-13T17:42:56.270862",
     "status": "completed"
    },
    "tags": []
   },
   "outputs": [],
   "source": [
    "df_prod = dim_produit[\n",
    "    [\"code_produit\", \"type_produit\", \"designation\", \"designation_acronym\"]\n",
    "]\n",
    "\n",
    "df_prod[\"designation\"] = df_prod.apply(\n",
    "    lambda row: row[\"designation_acronym\"]\n",
    "    if not pd.isna(row[\"designation_acronym\"])\n",
    "    else row[\"designation\"],\n",
    "    axis=1,\n",
    ")\n",
    "df_prod = df_prod.drop(columns=\"designation_acronym\")"
   ]
  },
  {
   "cell_type": "code",
   "execution_count": 64,
   "id": "5390c300-62ab-40f6-af69-aed9c15b385c",
   "metadata": {
    "execution": {
     "iopub.execute_input": "2025-05-13T17:42:58.010632Z",
     "iopub.status.busy": "2025-05-13T17:42:58.009608Z",
     "iopub.status.idle": "2025-05-13T17:42:58.308953Z",
     "shell.execute_reply": "2025-05-13T17:42:58.307815Z"
    },
    "papermill": {
     "duration": 0.523285,
     "end_time": "2025-05-13T17:42:58.311024",
     "exception": false,
     "start_time": "2025-05-13T17:42:57.787739",
     "status": "completed"
    },
    "tags": []
   },
   "outputs": [],
   "source": [
    "wb_template = gstf.update_sheet_prevision(wb_template, date_report, df_prod)"
   ]
  },
  {
   "cell_type": "markdown",
   "id": "1630b9b1-f136-4538-84c8-bb3b1c40e1c4",
   "metadata": {
    "papermill": {
     "duration": 0.256392,
     "end_time": "2025-05-13T17:43:10.732216",
     "exception": false,
     "start_time": "2025-05-13T17:43:10.475824",
     "status": "completed"
    },
    "tags": []
   },
   "source": [
    "## 7. Mise à jour de certains éléments de la feuille `Rapport`"
   ]
  },
  {
   "cell_type": "code",
   "execution_count": 65,
   "id": "cbd158de-45e8-4f68-825e-825ac2154834",
   "metadata": {
    "execution": {
     "iopub.execute_input": "2025-05-13T17:43:11.106998Z",
     "iopub.status.busy": "2025-05-13T17:43:11.106603Z",
     "iopub.status.idle": "2025-05-13T17:43:11.113061Z",
     "shell.execute_reply": "2025-05-13T17:43:11.111914Z"
    },
    "papermill": {
     "duration": 0.19388,
     "end_time": "2025-05-13T17:43:11.115240",
     "exception": false,
     "start_time": "2025-05-13T17:43:10.921360",
     "status": "completed"
    },
    "tags": []
   },
   "outputs": [],
   "source": [
    "ws_rapport = wb_template['Rapport']\n",
    "ws_rapport['D4'].value = programme\n",
    "ws_rapport['D6'].value = f_month.split('-')[0].capitalize()\n",
    "ws_rapport['E6'].value = date_report_format[:4]"
   ]
  },
  {
   "cell_type": "markdown",
   "id": "d054f9c2-8975-4b31-baac-fc9b3629773d",
   "metadata": {
    "papermill": {
     "duration": 0.190632,
     "end_time": "2025-05-13T17:43:11.626626",
     "exception": false,
     "start_time": "2025-05-13T17:43:11.435994",
     "status": "completed"
    },
    "tags": []
   },
   "source": [
    "# VII. Exportation du Fichier Suivi de Stock vers le `drive` et la `BD`"
   ]
  },
  {
   "cell_type": "code",
   "execution_count": 66,
   "id": "f44d8752-d621-4c44-801e-c364c59ea156",
   "metadata": {
    "execution": {
     "iopub.execute_input": "2025-05-13T17:43:13.596045Z",
     "iopub.status.busy": "2025-05-13T17:43:13.595673Z",
     "iopub.status.idle": "2025-05-13T17:43:15.913337Z",
     "shell.execute_reply": "2025-05-13T17:43:15.911949Z"
    },
    "papermill": {
     "duration": 3.519272,
     "end_time": "2025-05-13T17:43:15.915874",
     "exception": false,
     "start_time": "2025-05-13T17:43:12.396602",
     "status": "completed"
    },
    "tags": []
   },
   "outputs": [
    {
     "name": "stdout",
     "output_type": "stream",
     "text": [
      "CPU times: user 1.82 s, sys: 36 ms, total: 1.86 s\n",
      "Wall time: 2.31 s\n"
     ]
    }
   ],
   "source": [
    "%%time\n",
    "# Sauvegarde du fichier dans un repertoire courant\n",
    "dest_file = (\n",
    "    Path(workspace.files_path)\n",
    "    / f\"Fichier Suivi de Stock/code/pipelines/fichier suivi de stock genere/{programme}/{date_report_format[:4]}\"\n",
    ")\n",
    "\n",
    "dest_file.mkdir(exist_ok=True, parents=True)\n",
    "\n",
    "dest_file = dest_file / f\"Fichier Suivi de Stock {programme}-{f_month}.xlsx\"\n",
    "\n",
    "wb_template.save(dest_file)"
   ]
  },
  {
   "cell_type": "code",
   "execution_count": 67,
   "id": "2e46bee1-54f4-48c9-986d-71ea1697f1dd",
   "metadata": {
    "execution": {
     "iopub.execute_input": "2025-05-13T17:43:16.304122Z",
     "iopub.status.busy": "2025-05-13T17:43:16.303759Z",
     "iopub.status.idle": "2025-05-13T17:43:19.363208Z",
     "shell.execute_reply": "2025-05-13T17:43:19.362056Z"
    },
    "papermill": {
     "duration": 3.257128,
     "end_time": "2025-05-13T17:43:19.365067",
     "exception": false,
     "start_time": "2025-05-13T17:43:16.107939",
     "status": "completed"
    },
    "tags": []
   },
   "outputs": [
    {
     "name": "stdout",
     "output_type": "stream",
     "text": [
      "Aucun file trouvé avec ce nom.\n"
     ]
    }
   ],
   "source": [
    "download_url = ggdrive.upload_and_return_link(\n",
    "    dest_file.as_posix(),\n",
    "    date_report_format,\n",
    ")"
   ]
  },
  {
   "cell_type": "code",
   "execution_count": 68,
   "id": "f1c90fd1-74f7-4b1f-b906-093975ea323e",
   "metadata": {
    "execution": {
     "iopub.execute_input": "2025-05-13T17:43:19.779317Z",
     "iopub.status.busy": "2025-05-13T17:43:19.778575Z",
     "iopub.status.idle": "2025-05-13T17:43:19.786897Z",
     "shell.execute_reply": "2025-05-13T17:43:19.785375Z"
    },
    "papermill": {
     "duration": 0.225886,
     "end_time": "2025-05-13T17:43:19.789521",
     "exception": false,
     "start_time": "2025-05-13T17:43:19.563635",
     "status": "completed"
    },
    "tags": []
   },
   "outputs": [],
   "source": [
    "df_download_url = pd.DataFrame(\n",
    "    data=[\n",
    "        {\n",
    "            \"programme\": programme,\n",
    "            \"download_url\": download_url,\n",
    "            \"date_report\": date_report_format,\n",
    "        }\n",
    "    ]\n",
    ")\n",
    "\n",
    "df_download_url.date_report = df_download_url.date_report.apply(\n",
    "    lambda x: pd.to_datetime(str(x)[:10], format=\"%Y-%m-%d\")\n",
    ")"
   ]
  },
  {
   "cell_type": "code",
   "execution_count": 69,
   "id": "01de3ddf-fc73-43bc-871f-c78aa90f5d37",
   "metadata": {
    "execution": {
     "iopub.execute_input": "2025-05-13T17:43:21.668729Z",
     "iopub.status.busy": "2025-05-13T17:43:21.667696Z",
     "iopub.status.idle": "2025-05-13T17:43:21.854321Z",
     "shell.execute_reply": "2025-05-13T17:43:21.853154Z"
    },
    "papermill": {
     "duration": 1.38863,
     "end_time": "2025-05-13T17:43:21.856454",
     "exception": false,
     "start_time": "2025-05-13T17:43:20.467824",
     "status": "completed"
    },
    "scrolled": true,
    "tags": []
   },
   "outputs": [
    {
     "name": "stdout",
     "output_type": "stream",
     "text": [
      "Insertion de 1 enrégistrements réussie\n"
     ]
    },
    {
     "data": {
      "text/plain": [
       "'Aucune mise à jour des données à effectuer'"
      ]
     },
     "execution_count": 69,
     "metadata": {},
     "output_type": "execute_result"
    }
   ],
   "source": [
    "stock_sync_manager.synchronize_table_data(\n",
    "    df_download_url,\n",
    "    table_name=\"share_link\",\n",
    "    merge_keys=[\"programme\", \"date_report\"],\n",
    "    programme=programme,\n",
    ")"
   ]
  }
 ],
 "metadata": {
  "kernelspec": {
   "display_name": "Python 3 (ipykernel)",
   "language": "python",
   "name": "python3"
  },
  "language_info": {
   "codemirror_mode": {
    "name": "ipython",
    "version": 3
   },
   "file_extension": ".py",
   "mimetype": "text/x-python",
   "name": "python",
   "nbconvert_exporter": "python",
   "pygments_lexer": "ipython3",
   "version": "3.12.8"
  },
  "papermill": {
   "default_parameters": {},
   "duration": 749.718138,
   "end_time": "2025-05-13T17:43:25.706286",
   "environment_variables": {},
   "exception": null,
   "input_path": "/home/hexa/workspace/Fichier Suivi de Stock/code/pipelines/mise a jour fichier suivi stock.ipynb",
   "output_path": "/home/hexa/workspace/Fichier Suivi de Stock/code/pipelines/output_notebook_execution/maj fichier suivi stock/PNLT/output_2025-05-13.ipynb",
   "parameters": {
    "fp_etat_mensuel": "Etat du stock et de distribution PNLT fin Mars 2025.xlsx",
    "fp_map_prod": "Mapping QAT_SAGEX3.xlsx",
    "fp_plan_approv": "Détails de l`envoiMar. 2025 ~ Mar. 2026.csv",
    "month_report": "Mars",
    "programme": "PNLT",
    "year_report": 2025
   },
   "start_time": "2025-05-13T17:30:55.988148",
   "version": "2.6.0"
  }
 },
 "nbformat": 4,
 "nbformat_minor": 5
}