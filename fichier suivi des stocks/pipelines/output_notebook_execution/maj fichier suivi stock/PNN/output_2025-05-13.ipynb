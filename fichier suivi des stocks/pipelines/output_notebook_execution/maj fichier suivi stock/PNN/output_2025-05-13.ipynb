{
 "cells": [
  {
   "cell_type": "markdown",
   "id": "6a2244e4-3226-4d02-9910-ca30f2ed18b5",
   "metadata": {
    "papermill": {
     "duration": 0.196785,
     "end_time": "2025-05-13T17:49:37.437026",
     "exception": false,
     "start_time": "2025-05-13T17:49:37.240241",
     "status": "completed"
    },
    "tags": []
   },
   "source": [
    "# I. Importation des bibliothèques"
   ]
  },
  {
   "cell_type": "code",
   "execution_count": 1,
   "id": "2ed56fcd-16c9-4916-98c6-aeb22c88b1c4",
   "metadata": {
    "execution": {
     "iopub.execute_input": "2025-05-13T17:49:37.881447Z",
     "iopub.status.busy": "2025-05-13T17:49:37.880455Z",
     "iopub.status.idle": "2025-05-13T17:49:42.866420Z",
     "shell.execute_reply": "2025-05-13T17:49:42.864509Z"
    },
    "papermill": {
     "duration": 5.228856,
     "end_time": "2025-05-13T17:49:42.868789",
     "exception": false,
     "start_time": "2025-05-13T17:49:37.639933",
     "status": "completed"
    },
    "tags": []
   },
   "outputs": [],
   "source": [
    "%%capture\n",
    "!pip install google-api-python-client google-auth-httplib2 google-auth-oauthlib unidecode"
   ]
  },
  {
   "cell_type": "code",
   "execution_count": 2,
   "id": "c8ef43d4-7fec-400f-86ce-30991fb1b709",
   "metadata": {
    "editable": true,
    "execution": {
     "iopub.execute_input": "2025-05-13T17:49:43.532286Z",
     "iopub.status.busy": "2025-05-13T17:49:43.531144Z",
     "iopub.status.idle": "2025-05-13T17:49:49.439714Z",
     "shell.execute_reply": "2025-05-13T17:49:49.438084Z"
    },
    "papermill": {
     "duration": 6.38553,
     "end_time": "2025-05-13T17:49:49.442387",
     "exception": false,
     "start_time": "2025-05-13T17:49:43.056857",
     "status": "completed"
    },
    "slideshow": {
     "slide_type": ""
    },
    "tags": []
   },
   "outputs": [],
   "source": [
    "%%capture\n",
    "import warnings\n",
    "\n",
    "warnings.filterwarnings(\"ignore\")\n",
    "\n",
    "import os\n",
    "from pathlib import Path\n",
    "\n",
    "import pandas as pd\n",
    "from openhexa.sdk import workspace\n",
    "from unidecode import unidecode\n",
    "\n",
    "pd.set_option(\"display.max_columns\", None)\n",
    "\n",
    "try:\n",
    "    import openpyxl as pyxl\n",
    "    from efc.interfaces.iopenpyxl import OpenpyxlInterface\n",
    "    from fuzzywuzzy import fuzz, process\n",
    "except ImportError or ModuleNotFoundError:\n",
    "    !pip install --quiet fuzzywuzzy python-Levenshtein excel-formulas-calculator\n",
    "    import openpyxl as pyxl\n",
    "    from efc.interfaces.iopenpyxl import OpenpyxlInterface"
   ]
  },
  {
   "cell_type": "markdown",
   "id": "8dab03ab-9414-4670-befc-42b395b44059",
   "metadata": {
    "papermill": {
     "duration": 0.196603,
     "end_time": "2025-05-13T17:49:49.833868",
     "exception": false,
     "start_time": "2025-05-13T17:49:49.637265",
     "status": "completed"
    },
    "tags": []
   },
   "source": [
    "## 1. Rafraîchissement des bibliothèques"
   ]
  },
  {
   "cell_type": "code",
   "execution_count": 3,
   "id": "3a21bbdd-e895-4122-91bc-553d8ae02123",
   "metadata": {
    "editable": true,
    "execution": {
     "iopub.execute_input": "2025-05-13T17:49:50.198572Z",
     "iopub.status.busy": "2025-05-13T17:49:50.197552Z",
     "iopub.status.idle": "2025-05-13T17:49:54.001636Z",
     "shell.execute_reply": "2025-05-13T17:49:54.000309Z"
    },
    "papermill": {
     "duration": 4.00277,
     "end_time": "2025-05-13T17:49:54.003860",
     "exception": false,
     "start_time": "2025-05-13T17:49:50.001090",
     "status": "completed"
    },
    "slideshow": {
     "slide_type": ""
    },
    "tags": []
   },
   "outputs": [],
   "source": [
    "%%capture\n",
    "# Ajout du chemin d'accès pour l'importation des bibliothèques\n",
    "os.chdir(Path(workspace.files_path, \"Fichier Suivi de Stock/code/pipelines\"))\n",
    "\n",
    "from importlib import reload\n",
    "\n",
    "import compute_indicators\n",
    "import export_file_to_google_drive as ggdrive\n",
    "import generate_stock_tracking_file as gstf\n",
    "\n",
    "# Importation des réquêtes sql\n",
    "from compute_indicators.queries import *\n",
    "from database_operations import stock_sync_manager\n",
    "\n",
    "# Reload modules\n",
    "reload(compute_indicators)\n",
    "reload(stock_sync_manager)\n",
    "reload(gstf)\n",
    "reload(ggdrive)"
   ]
  },
  {
   "cell_type": "markdown",
   "id": "e26b3de7-b38f-4e98-a2a4-a88374dd84b4",
   "metadata": {
    "papermill": {
     "duration": 0.191916,
     "end_time": "2025-05-13T17:49:54.390725",
     "exception": false,
     "start_time": "2025-05-13T17:49:54.198809",
     "status": "completed"
    },
    "tags": []
   },
   "source": [
    "# II. Définition des paramètres"
   ]
  },
  {
   "cell_type": "markdown",
   "id": "f4ff0a57-7b4d-48cb-bd95-b05c42e9b876",
   "metadata": {
    "papermill": {
     "duration": 2.507251,
     "end_time": "2025-05-13T17:49:57.785384",
     "exception": false,
     "start_time": "2025-05-13T17:49:55.278133",
     "status": "completed"
    },
    "tags": []
   },
   "source": [
    "## 1. Variables requises pour la conception du fichier de suivi de stock\n",
    "\n",
    "1. **Mois de création du rapport** : Si le processus est bien défini, cette valeur peut être automatisée. Sinon, elle sera fournie en tant qu'entrée du pipeline.\n",
    "\n",
    "2. **Programme** : Le programme concerné pour lequel le fichier de suivi de stock est généré.\n",
    "\n",
    "3. **Fichier État Mensuel** : Fichier transmis mensuellement par la N-PSP (source : SAGE X3).\n",
    "\n",
    "4. **Fichier Plan d'Approvisionnement** : Utilisé pour certains calculs, notamment dans la feuille « Prévision ». Ce fichier est généralement récupéré depuis la source QAT.\n",
    "\n",
    "5. **Fichier de mappage des produits** : Fichier assurant la correspondance entre les produits de SAGE X3 et ceux de QAT."
   ]
  },
  {
   "cell_type": "code",
   "execution_count": 4,
   "id": "5d4117a6-ce2c-4aff-b0ac-3e5dc57a2319",
   "metadata": {
    "editable": true,
    "execution": {
     "iopub.execute_input": "2025-05-13T17:49:58.195116Z",
     "iopub.status.busy": "2025-05-13T17:49:58.194031Z",
     "iopub.status.idle": "2025-05-13T17:49:58.201248Z",
     "shell.execute_reply": "2025-05-13T17:49:58.200248Z"
    },
    "papermill": {
     "duration": 0.224438,
     "end_time": "2025-05-13T17:49:58.203230",
     "exception": false,
     "start_time": "2025-05-13T17:49:57.978792",
     "status": "completed"
    },
    "slideshow": {
     "slide_type": ""
    },
    "tags": [
     "parameters"
    ]
   },
   "outputs": [],
   "source": [
    "month_report, year_report, programme, fp_etat_mensuel, fp_plan_approv, fp_map_prod = (\n",
    "    \"Mars\",\n",
    "    2025,\n",
    "    \"PNLP\",\n",
    "    \"Etat du stock et de distribution PNLP fin Mars 2025.xlsx\",\n",
    "    \"Détails de l`envoiMar. 2025 ~ Dec. 2026.csv\",\n",
    "    \"Mapping QAT_SAGEX3.xlsx\",\n",
    ")"
   ]
  },
  {
   "cell_type": "code",
   "execution_count": 5,
   "id": "1d075328",
   "metadata": {
    "execution": {
     "iopub.execute_input": "2025-05-13T17:49:59.210211Z",
     "iopub.status.busy": "2025-05-13T17:49:59.208985Z",
     "iopub.status.idle": "2025-05-13T17:49:59.214968Z",
     "shell.execute_reply": "2025-05-13T17:49:59.213887Z"
    },
    "papermill": {
     "duration": 0.839534,
     "end_time": "2025-05-13T17:49:59.216885",
     "exception": false,
     "start_time": "2025-05-13T17:49:58.377351",
     "status": "completed"
    },
    "tags": [
     "injected-parameters"
    ]
   },
   "outputs": [],
   "source": [
    "# Parameters\n",
    "month_report = \"Mars\"\n",
    "year_report = 2025\n",
    "programme = \"PNN\"\n",
    "fp_etat_mensuel = \"Etat du stock et de distribution PNN fin Mars 2025.xlsx\"\n",
    "fp_plan_approv = \"De\\u0301tails de l`envoiMar. 2025 ~ Mar. 2026.csv\"\n",
    "fp_map_prod = \"Mapping QAT_SAGEX3.xlsx\"\n"
   ]
  },
  {
   "cell_type": "code",
   "execution_count": 6,
   "id": "7ffc244d-b753-49f8-8240-825a1e982c0b",
   "metadata": {
    "editable": true,
    "execution": {
     "iopub.execute_input": "2025-05-13T17:50:02.142244Z",
     "iopub.status.busy": "2025-05-13T17:50:02.141731Z",
     "iopub.status.idle": "2025-05-13T17:50:02.152718Z",
     "shell.execute_reply": "2025-05-13T17:50:02.151507Z"
    },
    "papermill": {
     "duration": 0.46809,
     "end_time": "2025-05-13T17:50:02.154831",
     "exception": false,
     "start_time": "2025-05-13T17:50:01.686741",
     "status": "completed"
    },
    "slideshow": {
     "slide_type": ""
    },
    "tags": []
   },
   "outputs": [],
   "source": [
    "month_export, date_report = month_report, compute_indicators.utils.format_date(month_report, year_report)\n",
    "\n",
    "date_report_prec = (pd.to_datetime(date_report).replace(day=1) - pd.offsets.MonthBegin()).strftime('%Y-%m-%d')"
   ]
  },
  {
   "cell_type": "markdown",
   "id": "6891eb05-f888-4c75-bdd0-749559cc7ca1",
   "metadata": {
    "papermill": {
     "duration": 0.193176,
     "end_time": "2025-05-13T17:50:08.374349",
     "exception": false,
     "start_time": "2025-05-13T17:50:08.181173",
     "status": "completed"
    },
    "tags": []
   },
   "source": [
    "## 2. Test pour s'assurer que cette date n'existe pas déjà dans la base de données"
   ]
  },
  {
   "cell_type": "code",
   "execution_count": 7,
   "id": "8b840e61-7ee1-478a-a6c3-c5b614e25f8b",
   "metadata": {
    "execution": {
     "iopub.execute_input": "2025-05-13T17:50:08.761181Z",
     "iopub.status.busy": "2025-05-13T17:50:08.760714Z",
     "iopub.status.idle": "2025-05-13T17:50:08.893371Z",
     "shell.execute_reply": "2025-05-13T17:50:08.892148Z"
    },
    "papermill": {
     "duration": 0.326244,
     "end_time": "2025-05-13T17:50:08.895613",
     "exception": false,
     "start_time": "2025-05-13T17:50:08.569369",
     "status": "completed"
    },
    "tags": []
   },
   "outputs": [
    {
     "name": "stdout",
     "output_type": "stream",
     "text": [
      "Connexion à la base de données établie avec succès\n"
     ]
    }
   ],
   "source": [
    "stock_sync_manager.initialize_database_connection()\n",
    "\n",
    "schema_name = \"suivi_stock\""
   ]
  },
  {
   "cell_type": "code",
   "execution_count": 8,
   "id": "4f4adfa5-719d-419c-8352-ad2e4dcdab8c",
   "metadata": {
    "execution": {
     "iopub.execute_input": "2025-05-13T17:50:11.338613Z",
     "iopub.status.busy": "2025-05-13T17:50:11.337462Z",
     "iopub.status.idle": "2025-05-13T17:50:11.427698Z",
     "shell.execute_reply": "2025-05-13T17:50:11.426535Z"
    },
    "papermill": {
     "duration": 0.864121,
     "end_time": "2025-05-13T17:50:11.430059",
     "exception": false,
     "start_time": "2025-05-13T17:50:10.565938",
     "status": "completed"
    },
    "tags": []
   },
   "outputs": [],
   "source": [
    "# Ici il faudrait également s'assurer que le mois précédent est bien présent à l'intérieur de la base de données au cas où on arriverait à se tromper sur le mois de conception du fichier\n",
    "df_ = stock_sync_manager.get_table_data(\n",
    "    query=f\"\"\"\n",
    "    select * \n",
    "    from {schema_name}.stock_track st \n",
    "    inner join {schema_name}.dim_produit_stock_track prod ON st.id_dim_produit_stock_track_fk = prod.id_dim_produit_stock_track_pk\n",
    "    where prod.programme='{programme}' and date_report='{date_report_prec}'\n",
    "    limit 2\n",
    "    \"\"\"\n",
    ")\n",
    "\n",
    "assert (\n",
    "    df_.shape[0] != 0\n",
    "), f\"Le mois précédent {date_report_prec} n'est pas présent dans la base de données locale êtes-vous sûre d'avoir choisir le bon mois de conception du fichier.\"\n",
    "\n",
    "del df_"
   ]
  },
  {
   "cell_type": "markdown",
   "id": "f89423e0-797c-4c0a-8ad6-1addbd0a7e3e",
   "metadata": {
    "papermill": {
     "duration": 0.179534,
     "end_time": "2025-05-13T17:50:22.022633",
     "exception": false,
     "start_time": "2025-05-13T17:50:21.843099",
     "status": "completed"
    },
    "tags": []
   },
   "source": [
    "# III.📥Importation des Données\n",
    "  \n",
    "L'utilisateur doit veiller à ce que les fichiers respectent le format attendu et soient placés dans les répertoires dédiés avant de procéder au traitement."
   ]
  },
  {
   "cell_type": "markdown",
   "id": "73015d7f-f3c2-4b44-96b6-1046109dbf21",
   "metadata": {
    "papermill": {
     "duration": 0.194514,
     "end_time": "2025-05-13T17:50:22.411340",
     "exception": false,
     "start_time": "2025-05-13T17:50:22.216826",
     "status": "completed"
    },
    "tags": []
   },
   "source": [
    "## 📌1. Importation du fichier `Etat de Stock Mensuel`\n",
    "\n",
    "- **Format requis :** Assurez-vous que le fichier respecte le template standard défini.\n",
    "- **Emplacement du fichier :** Le fichier doit être placé dans le répertoire dédié :  \n",
    "  **`Fichier Suivi de Stock/data/<programme>/Etat de Stock Mensuel`**\n",
    "  \n",
    "- **En cas d'erreur :**  \n",
    "  - Vérifiez que le fichier est bien présent dans le répertoire.  \n",
    "  - Assurez-vous que toutes les colonnes requises sont bien renseignées.  \n",
    "  - Contrôlez que le fichier est bien accessible et non corrompu."
   ]
  },
  {
   "cell_type": "code",
   "execution_count": 9,
   "id": "d02f7b2e-14f1-4174-95b4-c6cdaea297be",
   "metadata": {
    "execution": {
     "iopub.execute_input": "2025-05-13T17:50:22.858716Z",
     "iopub.status.busy": "2025-05-13T17:50:22.858333Z",
     "iopub.status.idle": "2025-05-13T17:50:23.332686Z",
     "shell.execute_reply": "2025-05-13T17:50:23.331480Z"
    },
    "papermill": {
     "duration": 0.703463,
     "end_time": "2025-05-13T17:50:23.334746",
     "exception": false,
     "start_time": "2025-05-13T17:50:22.631283",
     "status": "completed"
    },
    "tags": []
   },
   "outputs": [],
   "source": [
    "fp_etat_mensuel = (\n",
    "    Path(workspace.files_path)\n",
    "    / f\"Fichier Suivi de Stock/data/{programme}/Etat de Stock Mensuel\"\n",
    "    / Path(fp_etat_mensuel).name\n",
    ")\n",
    "\n",
    "sheetnames = pd.ExcelFile(fp_etat_mensuel).sheet_names"
   ]
  },
  {
   "cell_type": "markdown",
   "id": "36d21a7b-10c2-4c81-bc38-2a1dcf0916a0",
   "metadata": {
    "papermill": {
     "duration": 0.419018,
     "end_time": "2025-05-13T17:50:23.974691",
     "exception": false,
     "start_time": "2025-05-13T17:50:23.555673",
     "status": "completed"
    },
    "tags": []
   },
   "source": [
    "## 📌2. Importation de la feuille `Etat de stock de la NPSP`"
   ]
  },
  {
   "cell_type": "code",
   "execution_count": 10,
   "id": "f81ccd62-7a85-4830-a782-0721f40ed33a",
   "metadata": {
    "execution": {
     "iopub.execute_input": "2025-05-13T17:50:28.737059Z",
     "iopub.status.busy": "2025-05-13T17:50:28.735903Z",
     "iopub.status.idle": "2025-05-13T17:50:28.929423Z",
     "shell.execute_reply": "2025-05-13T17:50:28.928373Z"
    },
    "papermill": {
     "duration": 0.499802,
     "end_time": "2025-05-13T17:50:28.931335",
     "exception": false,
     "start_time": "2025-05-13T17:50:28.431533",
     "status": "completed"
    },
    "tags": []
   },
   "outputs": [
    {
     "data": {
      "text/html": [
       "<div>\n",
       "<style scoped>\n",
       "    .dataframe tbody tr th:only-of-type {\n",
       "        vertical-align: middle;\n",
       "    }\n",
       "\n",
       "    .dataframe tbody tr th {\n",
       "        vertical-align: top;\n",
       "    }\n",
       "\n",
       "    .dataframe thead th {\n",
       "        text-align: right;\n",
       "    }\n",
       "</style>\n",
       "<table border=\"1\" class=\"dataframe\">\n",
       "  <thead>\n",
       "    <tr style=\"text-align: right;\">\n",
       "      <th></th>\n",
       "      <th>date_report</th>\n",
       "      <th>code_produit</th>\n",
       "      <th>designation</th>\n",
       "      <th>contenance</th>\n",
       "      <th>dmm</th>\n",
       "      <th>traceurs</th>\n",
       "      <th>stock_theorique_bke</th>\n",
       "      <th>stock_theorique_abj</th>\n",
       "      <th>stock_theorique_central</th>\n",
       "      <th>stock_theorique_fin_mois</th>\n",
       "      <th>msd</th>\n",
       "      <th>statut_stock</th>\n",
       "      <th>programme</th>\n",
       "    </tr>\n",
       "  </thead>\n",
       "  <tbody>\n",
       "    <tr>\n",
       "      <th>1</th>\n",
       "      <td>2025-03-01</td>\n",
       "      <td>3230040.0</td>\n",
       "      <td>PLUMPY NUT sach 92g carton/150</td>\n",
       "      <td>CARTON/150</td>\n",
       "      <td>526.5</td>\n",
       "      <td>1.0</td>\n",
       "      <td>66.0</td>\n",
       "      <td>117.0</td>\n",
       "      <td>0.0</td>\n",
       "      <td>183.0</td>\n",
       "      <td>0.347578</td>\n",
       "      <td>Sous-stock</td>\n",
       "      <td>PNN</td>\n",
       "    </tr>\n",
       "    <tr>\n",
       "      <th>2</th>\n",
       "      <td>2025-03-01</td>\n",
       "      <td>3230046.0</td>\n",
       "      <td>RESOMAL sach 42g/l carton/100</td>\n",
       "      <td>CARTON/100</td>\n",
       "      <td>1.333333</td>\n",
       "      <td>0.0</td>\n",
       "      <td>0.0</td>\n",
       "      <td>6.0</td>\n",
       "      <td>0.0</td>\n",
       "      <td>6.0</td>\n",
       "      <td>4.5</td>\n",
       "      <td>Bon</td>\n",
       "      <td>PNN</td>\n",
       "    </tr>\n",
       "  </tbody>\n",
       "</table>\n",
       "</div>"
      ],
      "text/plain": [
       "  date_report  code_produit                     designation  contenance  \\\n",
       "1  2025-03-01     3230040.0  PLUMPY NUT sach 92g carton/150  CARTON/150   \n",
       "2  2025-03-01     3230046.0   RESOMAL sach 42g/l carton/100  CARTON/100   \n",
       "\n",
       "        dmm  traceurs  stock_theorique_bke  stock_theorique_abj  \\\n",
       "1     526.5       1.0                 66.0                117.0   \n",
       "2  1.333333       0.0                  0.0                  6.0   \n",
       "\n",
       "   stock_theorique_central  stock_theorique_fin_mois       msd statut_stock  \\\n",
       "1                      0.0                     183.0  0.347578   Sous-stock   \n",
       "2                      0.0                       6.0       4.5          Bon   \n",
       "\n",
       "  programme  \n",
       "1       PNN  \n",
       "2       PNN  "
      ]
     },
     "execution_count": 10,
     "metadata": {},
     "output_type": "execute_result"
    }
   ],
   "source": [
    "sheet_stock_npsp = compute_indicators.utils.check_if_sheet_name_in_file('Etat de stock', sheetnames)\n",
    "\n",
    "assert sheet_stock_npsp is not None, print(f\"La feuille `Etat de stock` n'est pas dans la liste {sheetnames} du classeur excel\")\n",
    "\n",
    "df_etat_stock_npsp = pd.read_excel(fp_etat_mensuel, sheet_name=sheet_stock_npsp, skiprows=4)\n",
    "df_etat_stock_npsp.columns = df_etat_stock_npsp.columns.str.strip()\n",
    "\n",
    "del sheet_stock_npsp\n",
    "\n",
    "df_etat_stock_npsp = df_etat_stock_npsp.loc[df_etat_stock_npsp[\"Nouveau code\"].notna()]\n",
    "\n",
    "df_etat_stock_npsp = compute_indicators.file_utils.process_etat_stock_npsp(df_etat_stock_npsp, date_report, programme)\n",
    "\n",
    "df_etat_stock_npsp.head(2)"
   ]
  },
  {
   "cell_type": "markdown",
   "id": "35af5650-cbb4-4b85-9fdd-301717a20e95",
   "metadata": {
    "papermill": {
     "duration": 0.182399,
     "end_time": "2025-05-13T17:50:29.307947",
     "exception": false,
     "start_time": "2025-05-13T17:50:29.125548",
     "status": "completed"
    },
    "tags": []
   },
   "source": [
    "## 📌3. Importation de la feuille `Stock detaille`"
   ]
  },
  {
   "cell_type": "code",
   "execution_count": 11,
   "id": "7722f6ab-9539-4935-9e0d-7b8973dabf7c",
   "metadata": {
    "execution": {
     "iopub.execute_input": "2025-05-13T17:50:29.702105Z",
     "iopub.status.busy": "2025-05-13T17:50:29.700898Z",
     "iopub.status.idle": "2025-05-13T17:50:30.040976Z",
     "shell.execute_reply": "2025-05-13T17:50:30.039649Z"
    },
    "papermill": {
     "duration": 0.552601,
     "end_time": "2025-05-13T17:50:30.043135",
     "exception": false,
     "start_time": "2025-05-13T17:50:29.490534",
     "status": "completed"
    },
    "tags": []
   },
   "outputs": [
    {
     "data": {
      "text/html": [
       "<div>\n",
       "<style scoped>\n",
       "    .dataframe tbody tr th:only-of-type {\n",
       "        vertical-align: middle;\n",
       "    }\n",
       "\n",
       "    .dataframe tbody tr th {\n",
       "        vertical-align: top;\n",
       "    }\n",
       "\n",
       "    .dataframe thead th {\n",
       "        text-align: right;\n",
       "    }\n",
       "</style>\n",
       "<table border=\"1\" class=\"dataframe\">\n",
       "  <thead>\n",
       "    <tr style=\"text-align: right;\">\n",
       "      <th></th>\n",
       "      <th>Code produit</th>\n",
       "      <th>Désignation</th>\n",
       "      <th>Emplacement</th>\n",
       "      <th>Date limite de consommation</th>\n",
       "      <th>Numéro Lot</th>\n",
       "      <th>Sous lot (Programme)</th>\n",
       "      <th>Qté \\nPhysique</th>\n",
       "      <th>Qté \\nlivrable</th>\n",
       "      <th>Unit</th>\n",
       "      <th>Site</th>\n",
       "      <th>Dépôt</th>\n",
       "      <th>Sous lot</th>\n",
       "      <th>Site.1</th>\n",
       "      <th>Bailleur</th>\n",
       "      <th>Statut</th>\n",
       "    </tr>\n",
       "  </thead>\n",
       "  <tbody>\n",
       "    <tr>\n",
       "      <th>0</th>\n",
       "      <td>3230037</td>\n",
       "      <td>LAIT THERAPEUTIQUE F-75 400G BTE/1</td>\n",
       "      <td>01A01A01</td>\n",
       "      <td>2025-12-31</td>\n",
       "      <td>74053</td>\n",
       "      <td>PNN</td>\n",
       "      <td>24</td>\n",
       "      <td>0</td>\n",
       "      <td>BTE</td>\n",
       "      <td>PG01</td>\n",
       "      <td>PGWIB</td>\n",
       "      <td>PNN</td>\n",
       "      <td>PG01</td>\n",
       "      <td>UNICEF</td>\n",
       "      <td>Q</td>\n",
       "    </tr>\n",
       "    <tr>\n",
       "      <th>1</th>\n",
       "      <td>4150108</td>\n",
       "      <td>BP-5 COMPACT FOOD 500g. CARTON/24</td>\n",
       "      <td>01A02A22</td>\n",
       "      <td>2027-07-04</td>\n",
       "      <td>220704-L1044</td>\n",
       "      <td>PNN</td>\n",
       "      <td>55</td>\n",
       "      <td>55</td>\n",
       "      <td>CART</td>\n",
       "      <td>PG01</td>\n",
       "      <td>PGWIB</td>\n",
       "      <td>PNN</td>\n",
       "      <td>PG01</td>\n",
       "      <td>UNICEF</td>\n",
       "      <td>A</td>\n",
       "    </tr>\n",
       "  </tbody>\n",
       "</table>\n",
       "</div>"
      ],
      "text/plain": [
       "   Code produit                         Désignation Emplacement  \\\n",
       "0       3230037  LAIT THERAPEUTIQUE F-75 400G BTE/1    01A01A01   \n",
       "1       4150108   BP-5 COMPACT FOOD 500g. CARTON/24    01A02A22   \n",
       "\n",
       "  Date limite de consommation    Numéro Lot Sous lot (Programme)  \\\n",
       "0                  2025-12-31         74053                  PNN   \n",
       "1                  2027-07-04  220704-L1044                  PNN   \n",
       "\n",
       "   Qté \\nPhysique  Qté \\nlivrable  Unit  Site  Dépôt Sous lot Site.1 Bailleur  \\\n",
       "0              24               0   BTE  PG01  PGWIB      PNN   PG01   UNICEF   \n",
       "1              55              55  CART  PG01  PGWIB      PNN   PG01   UNICEF   \n",
       "\n",
       "  Statut  \n",
       "0      Q  \n",
       "1      A  "
      ]
     },
     "execution_count": 11,
     "metadata": {},
     "output_type": "execute_result"
    }
   ],
   "source": [
    "sheet_stock_detaille = compute_indicators.utils.check_if_sheet_name_in_file('Stock detaille', sheetnames)\n",
    "\n",
    "assert sheet_stock_detaille is not None, print(f\"La feuille `Stock detaille` n'est pas dans la liste {sheetnames} du classeur excel\")\n",
    "\n",
    "df_stock_detaille = pd.read_excel(fp_etat_mensuel, sheet_name=sheet_stock_detaille)\n",
    "df_stock_detaille.columns = df_stock_detaille.columns.str.strip()\n",
    "\n",
    "max_date_year = pd.Timestamp.max.year\n",
    "\n",
    "df_stock_detaille[\"Date limite de consommation\"] = df_stock_detaille[\"Date limite de consommation\"].apply(\n",
    "    lambda x: x if x.year<max_date_year else x.replace(year=max_date_year-1)\n",
    ")\n",
    "\n",
    "del sheet_stock_detaille, max_date_year\n",
    "\n",
    "df_stock_detaille.head(2)"
   ]
  },
  {
   "cell_type": "markdown",
   "id": "37de2849-dc65-4fb7-b87a-8faf7121f280",
   "metadata": {
    "papermill": {
     "duration": 6.607713,
     "end_time": "2025-05-13T17:50:37.591951",
     "exception": false,
     "start_time": "2025-05-13T17:50:30.984238",
     "status": "completed"
    },
    "tags": []
   },
   "source": [
    "## 📌4. Importation de la feuille `Distribution X3`"
   ]
  },
  {
   "cell_type": "code",
   "execution_count": 12,
   "id": "7f1f692a-9147-4ac1-b50e-a0ba94ca588f",
   "metadata": {
    "execution": {
     "iopub.execute_input": "2025-05-13T17:50:38.179429Z",
     "iopub.status.busy": "2025-05-13T17:50:38.178040Z",
     "iopub.status.idle": "2025-05-13T17:50:38.798399Z",
     "shell.execute_reply": "2025-05-13T17:50:38.797283Z"
    },
    "papermill": {
     "duration": 0.796781,
     "end_time": "2025-05-13T17:50:38.800612",
     "exception": false,
     "start_time": "2025-05-13T17:50:38.003831",
     "status": "completed"
    },
    "tags": []
   },
   "outputs": [
    {
     "data": {
      "text/html": [
       "<div>\n",
       "<style scoped>\n",
       "    .dataframe tbody tr th:only-of-type {\n",
       "        vertical-align: middle;\n",
       "    }\n",
       "\n",
       "    .dataframe tbody tr th {\n",
       "        vertical-align: top;\n",
       "    }\n",
       "\n",
       "    .dataframe thead th {\n",
       "        text-align: right;\n",
       "    }\n",
       "</style>\n",
       "<table border=\"1\" class=\"dataframe\">\n",
       "  <thead>\n",
       "    <tr style=\"text-align: right;\">\n",
       "      <th></th>\n",
       "      <th>Programme</th>\n",
       "      <th>Date de livraison</th>\n",
       "      <th>No commande</th>\n",
       "      <th>No livraison</th>\n",
       "      <th>Client</th>\n",
       "      <th>Raison sociale</th>\n",
       "      <th>Article</th>\n",
       "      <th>Désignation</th>\n",
       "      <th>Unité vente</th>\n",
       "      <th>Qté commandée</th>\n",
       "      <th>Qté livrée</th>\n",
       "    </tr>\n",
       "  </thead>\n",
       "  <tbody>\n",
       "    <tr>\n",
       "      <th>0</th>\n",
       "      <td>PNN</td>\n",
       "      <td>2025-03-03</td>\n",
       "      <td>VAL01-PSG-2502-0062</td>\n",
       "      <td>BL01-PSG-2503-0068</td>\n",
       "      <td>40300094</td>\n",
       "      <td>HOPITAL GENERAL PORT-BOUET</td>\n",
       "      <td>3230040</td>\n",
       "      <td>PLUMPY NUT sach 92g carton/150 CART  -</td>\n",
       "      <td>CART</td>\n",
       "      <td>2</td>\n",
       "      <td>2</td>\n",
       "    </tr>\n",
       "    <tr>\n",
       "      <th>1</th>\n",
       "      <td>PNN</td>\n",
       "      <td>2025-03-03</td>\n",
       "      <td>VAL01-PSG-2502-0208</td>\n",
       "      <td>BL01-PSG-2503-0041</td>\n",
       "      <td>31800014</td>\n",
       "      <td>CHR ABENGOUROU</td>\n",
       "      <td>3230037</td>\n",
       "      <td>LAIT THERAPEUTIQUE F-75 400G BTE/1 BTE  -</td>\n",
       "      <td>BTE</td>\n",
       "      <td>12</td>\n",
       "      <td>12</td>\n",
       "    </tr>\n",
       "  </tbody>\n",
       "</table>\n",
       "</div>"
      ],
      "text/plain": [
       "  Programme Date de livraison          No commande        No livraison  \\\n",
       "0       PNN        2025-03-03  VAL01-PSG-2502-0062  BL01-PSG-2503-0068   \n",
       "1       PNN        2025-03-03  VAL01-PSG-2502-0208  BL01-PSG-2503-0041   \n",
       "\n",
       "     Client              Raison sociale  Article  \\\n",
       "0  40300094  HOPITAL GENERAL PORT-BOUET  3230040   \n",
       "1  31800014              CHR ABENGOUROU  3230037   \n",
       "\n",
       "                                 Désignation Unité vente  Qté commandée  \\\n",
       "0     PLUMPY NUT sach 92g carton/150 CART  -        CART              2   \n",
       "1  LAIT THERAPEUTIQUE F-75 400G BTE/1 BTE  -         BTE             12   \n",
       "\n",
       "   Qté livrée  \n",
       "0           2  \n",
       "1          12  "
      ]
     },
     "execution_count": 12,
     "metadata": {},
     "output_type": "execute_result"
    }
   ],
   "source": [
    "sheet_distribution_x3 = compute_indicators.utils.check_if_sheet_name_in_file('Distribution', sheetnames)\n",
    "\n",
    "assert sheet_distribution_x3 is not None, print(f\"La feuille `Distribution X3` n'est pas dans la liste {sheetnames} du classeur excel\")\n",
    "\n",
    "df_distribution = pd.read_excel(fp_etat_mensuel, sheet_name=sheet_distribution_x3)\n",
    "df_distribution.columns = df_distribution.columns.str.strip()\n",
    "\n",
    "del sheet_distribution_x3\n",
    "\n",
    "df_distribution.head(2)"
   ]
  },
  {
   "cell_type": "markdown",
   "id": "ccad74b5-8006-4fb2-9728-ec7b22892cc2",
   "metadata": {
    "papermill": {
     "duration": 0.195457,
     "end_time": "2025-05-13T17:50:39.185955",
     "exception": false,
     "start_time": "2025-05-13T17:50:38.990498",
     "status": "completed"
    },
    "tags": []
   },
   "source": [
    "## 📌5. Importation de la feuille `Receptions`"
   ]
  },
  {
   "cell_type": "code",
   "execution_count": 13,
   "id": "aba1696b-3a88-4499-8e96-218b21191f07",
   "metadata": {
    "execution": {
     "iopub.execute_input": "2025-05-13T17:50:39.572696Z",
     "iopub.status.busy": "2025-05-13T17:50:39.572153Z",
     "iopub.status.idle": "2025-05-13T17:50:39.691907Z",
     "shell.execute_reply": "2025-05-13T17:50:39.691006Z"
    },
    "papermill": {
     "duration": 0.296672,
     "end_time": "2025-05-13T17:50:39.694103",
     "exception": false,
     "start_time": "2025-05-13T17:50:39.397431",
     "status": "completed"
    },
    "tags": []
   },
   "outputs": [
    {
     "data": {
      "text/html": [
       "<div>\n",
       "<style scoped>\n",
       "    .dataframe tbody tr th:only-of-type {\n",
       "        vertical-align: middle;\n",
       "    }\n",
       "\n",
       "    .dataframe tbody tr th {\n",
       "        vertical-align: top;\n",
       "    }\n",
       "\n",
       "    .dataframe thead th {\n",
       "        text-align: right;\n",
       "    }\n",
       "</style>\n",
       "<table border=\"1\" class=\"dataframe\">\n",
       "  <thead>\n",
       "    <tr style=\"text-align: right;\">\n",
       "      <th></th>\n",
       "      <th>Programme</th>\n",
       "      <th>Bailleur (Funding)</th>\n",
       "      <th>Nouveau code</th>\n",
       "      <th>Code</th>\n",
       "      <th>Désignation NPSP</th>\n",
       "      <th>Date de réception effective</th>\n",
       "      <th>Date effective de dépotage et/ou expertise</th>\n",
       "      <th>Quantité réceptionnée</th>\n",
       "      <th>Date d'entrée en machine</th>\n",
       "    </tr>\n",
       "  </thead>\n",
       "  <tbody>\n",
       "  </tbody>\n",
       "</table>\n",
       "</div>"
      ],
      "text/plain": [
       "Empty DataFrame\n",
       "Columns: [Programme, Bailleur (Funding), Nouveau code, Code, Désignation NPSP, Date de réception effective, Date effective de dépotage et/ou expertise, Quantité réceptionnée, Date d'entrée en machine]\n",
       "Index: []"
      ]
     },
     "execution_count": 13,
     "metadata": {},
     "output_type": "execute_result"
    }
   ],
   "source": [
    "sheet_reception = compute_indicators.utils.check_if_sheet_name_in_file('Receptions', sheetnames)\n",
    "\n",
    "assert sheet_reception is not None, print(f\"La feuille `Receptions` n'est pas dans la liste {sheetnames} du classeur excel\")\n",
    "\n",
    "df_receptions = pd.read_excel(fp_etat_mensuel, sheet_name=sheet_reception)\n",
    "df_receptions.columns = df_receptions.columns.str.strip()\n",
    "\n",
    "del sheet_reception\n",
    "\n",
    "df_receptions.head(2)"
   ]
  },
  {
   "cell_type": "markdown",
   "id": "5fca5f1b-ec81-4434-b361-25edab77eb43",
   "metadata": {
    "papermill": {
     "duration": 9.742305,
     "end_time": "2025-05-13T17:50:50.562100",
     "exception": false,
     "start_time": "2025-05-13T17:50:40.819795",
     "status": "completed"
    },
    "tags": []
   },
   "source": [
    "## 📌6. Importation de la feuille `PPI`"
   ]
  },
  {
   "cell_type": "code",
   "execution_count": 14,
   "id": "028e57f8-0239-43a3-b979-56fc164212e4",
   "metadata": {
    "execution": {
     "iopub.execute_input": "2025-05-13T17:50:51.018083Z",
     "iopub.status.busy": "2025-05-13T17:50:51.017022Z",
     "iopub.status.idle": "2025-05-13T17:50:51.137112Z",
     "shell.execute_reply": "2025-05-13T17:50:51.135208Z"
    },
    "papermill": {
     "duration": 0.340646,
     "end_time": "2025-05-13T17:50:51.139210",
     "exception": false,
     "start_time": "2025-05-13T17:50:50.798564",
     "status": "completed"
    },
    "tags": []
   },
   "outputs": [
    {
     "data": {
      "text/html": [
       "<div>\n",
       "<style scoped>\n",
       "    .dataframe tbody tr th:only-of-type {\n",
       "        vertical-align: middle;\n",
       "    }\n",
       "\n",
       "    .dataframe tbody tr th {\n",
       "        vertical-align: top;\n",
       "    }\n",
       "\n",
       "    .dataframe thead th {\n",
       "        text-align: right;\n",
       "    }\n",
       "</style>\n",
       "<table border=\"1\" class=\"dataframe\">\n",
       "  <thead>\n",
       "    <tr style=\"text-align: right;\">\n",
       "      <th></th>\n",
       "      <th>Code Produit</th>\n",
       "      <th>Nom Produit</th>\n",
       "      <th>Unite</th>\n",
       "      <th>Numéro Lot</th>\n",
       "      <th>Date Peremption</th>\n",
       "      <th>Quantité</th>\n",
       "    </tr>\n",
       "  </thead>\n",
       "  <tbody>\n",
       "    <tr>\n",
       "      <th>0</th>\n",
       "      <td>3230037</td>\n",
       "      <td>LAIT THERAPEUTIQUE F-75 400G BTE/1</td>\n",
       "      <td>BTE</td>\n",
       "      <td>69952</td>\n",
       "      <td>2025-01-01</td>\n",
       "      <td>449</td>\n",
       "    </tr>\n",
       "    <tr>\n",
       "      <th>1</th>\n",
       "      <td>3230040</td>\n",
       "      <td>PLUMPY NUT sach 92g carton/150</td>\n",
       "      <td>CART</td>\n",
       "      <td>23034005</td>\n",
       "      <td>2025-01-01</td>\n",
       "      <td>1</td>\n",
       "    </tr>\n",
       "  </tbody>\n",
       "</table>\n",
       "</div>"
      ],
      "text/plain": [
       "   Code Produit                         Nom Produit Unite Numéro Lot  \\\n",
       "0       3230037  LAIT THERAPEUTIQUE F-75 400G BTE/1   BTE      69952   \n",
       "1       3230040      PLUMPY NUT sach 92g carton/150  CART   23034005   \n",
       "\n",
       "  Date Peremption  Quantité  \n",
       "0      2025-01-01       449  \n",
       "1      2025-01-01         1  "
      ]
     },
     "execution_count": 14,
     "metadata": {},
     "output_type": "execute_result"
    }
   ],
   "source": [
    "sheet_ppi = compute_indicators.utils.check_if_sheet_name_in_file('PPI', sheetnames)\n",
    "\n",
    "assert sheet_ppi is not None, print(f\"La feuille `PPI` n'est pas dans la liste {sheetnames} du classeur excel\")\n",
    "\n",
    "df_ppi = pd.read_excel(fp_etat_mensuel, sheet_name=sheet_ppi, skiprows=2)\n",
    "df_ppi.columns = df_ppi.columns.str.strip()\n",
    "\n",
    "del sheet_ppi\n",
    "\n",
    "df_ppi.head(2)"
   ]
  },
  {
   "cell_type": "markdown",
   "id": "7d034716-4571-4dbd-ab3c-a59bc9cd8d70",
   "metadata": {
    "papermill": {
     "duration": 0.200771,
     "end_time": "2025-05-13T17:50:51.536623",
     "exception": false,
     "start_time": "2025-05-13T17:50:51.335852",
     "status": "completed"
    },
    "tags": []
   },
   "source": [
    "## 📌7. Importation de la feuille  `Prélèvement`"
   ]
  },
  {
   "cell_type": "code",
   "execution_count": 15,
   "id": "f19419ab-c0ad-444f-9d58-c816e6a3371b",
   "metadata": {
    "execution": {
     "iopub.execute_input": "2025-05-13T17:50:51.922840Z",
     "iopub.status.busy": "2025-05-13T17:50:51.922379Z",
     "iopub.status.idle": "2025-05-13T17:50:52.017741Z",
     "shell.execute_reply": "2025-05-13T17:50:52.016680Z"
    },
    "papermill": {
     "duration": 0.29821,
     "end_time": "2025-05-13T17:50:52.019899",
     "exception": false,
     "start_time": "2025-05-13T17:50:51.721689",
     "status": "completed"
    },
    "tags": []
   },
   "outputs": [
    {
     "data": {
      "text/html": [
       "<div>\n",
       "<style scoped>\n",
       "    .dataframe tbody tr th:only-of-type {\n",
       "        vertical-align: middle;\n",
       "    }\n",
       "\n",
       "    .dataframe tbody tr th {\n",
       "        vertical-align: top;\n",
       "    }\n",
       "\n",
       "    .dataframe thead th {\n",
       "        text-align: right;\n",
       "    }\n",
       "</style>\n",
       "<table border=\"1\" class=\"dataframe\">\n",
       "  <thead>\n",
       "    <tr style=\"text-align: right;\">\n",
       "      <th></th>\n",
       "      <th>Code Produit</th>\n",
       "      <th>Nom Produit</th>\n",
       "      <th>Unite</th>\n",
       "      <th>Numéro Lot</th>\n",
       "      <th>Date Peremption</th>\n",
       "      <th>Quantité</th>\n",
       "    </tr>\n",
       "  </thead>\n",
       "  <tbody>\n",
       "  </tbody>\n",
       "</table>\n",
       "</div>"
      ],
      "text/plain": [
       "Empty DataFrame\n",
       "Columns: [Code Produit, Nom Produit, Unite, Numéro Lot, Date Peremption, Quantité]\n",
       "Index: []"
      ]
     },
     "execution_count": 15,
     "metadata": {},
     "output_type": "execute_result"
    }
   ],
   "source": [
    "sheet_prelev = compute_indicators.utils.check_if_sheet_name_in_file('Prelèvement CQ', sheetnames)\n",
    "\n",
    "assert sheet_prelev is not None, print(f\"La feuille `Prelèvement CQ` n'est pas dans la liste {sheetnames} du classeur excel\")\n",
    "\n",
    "df_prelevement = pd.read_excel(fp_etat_mensuel, sheet_name=sheet_prelev, skiprows=2)\n",
    "df_prelevement.columns = df_prelevement.columns.str.strip()\n",
    "\n",
    "del sheet_prelev\n",
    "\n",
    "df_prelevement.head(2)"
   ]
  },
  {
   "cell_type": "markdown",
   "id": "6df2ffd3-0e49-4c80-adc1-1219f1756a8a",
   "metadata": {
    "papermill": {
     "duration": 0.205011,
     "end_time": "2025-05-13T17:51:01.114536",
     "exception": false,
     "start_time": "2025-05-13T17:51:00.909525",
     "status": "completed"
    },
    "tags": []
   },
   "source": [
    "## 📌8. Importation du fichier de `mapping des produits QAT et SAGE X3`\n",
    "\n",
    "- **Format requis :** Respectez la structure du fichier.  \n",
    "- **Emplacement du fichier :** Le fichier doit être placé dans le répertoire suivant :  \n",
    "  **`Fichier Suivi de Stock/data/Mapping produits QAT SAGE X3`**  \n",
    "- **En cas d'erreur :**\n",
    "  - Vérifiez que le fichier est bien présent dans le répertoire.  \n",
    "  - Assurez-vous que les données respectent le format attendu. \n",
    "  - Vérifiez l'intégrité du fichier et assurez-vous et corriger l'anomalie."
   ]
  },
  {
   "cell_type": "code",
   "execution_count": 16,
   "id": "d7c8434e-8083-4d70-91bf-07c813f36fe4",
   "metadata": {
    "execution": {
     "iopub.execute_input": "2025-05-13T17:51:01.536508Z",
     "iopub.status.busy": "2025-05-13T17:51:01.535151Z",
     "iopub.status.idle": "2025-05-13T17:51:01.541844Z",
     "shell.execute_reply": "2025-05-13T17:51:01.540819Z"
    },
    "papermill": {
     "duration": 0.23581,
     "end_time": "2025-05-13T17:51:01.543584",
     "exception": false,
     "start_time": "2025-05-13T17:51:01.307774",
     "status": "completed"
    },
    "tags": []
   },
   "outputs": [],
   "source": [
    "fp_map_prod = (\n",
    "    Path(workspace.files_path)\n",
    "    / \"Fichier Suivi de Stock/data/Mapping produits QAT SAGE X3\"\n",
    "    / Path(fp_map_prod).name\n",
    ")"
   ]
  },
  {
   "cell_type": "code",
   "execution_count": 17,
   "id": "8fb198eb-ad43-4572-b4ff-7f3cbcc52a13",
   "metadata": {
    "execution": {
     "iopub.execute_input": "2025-05-13T17:51:02.479083Z",
     "iopub.status.busy": "2025-05-13T17:51:02.478600Z",
     "iopub.status.idle": "2025-05-13T17:51:02.570494Z",
     "shell.execute_reply": "2025-05-13T17:51:02.569286Z"
    },
    "papermill": {
     "duration": 0.830517,
     "end_time": "2025-05-13T17:51:02.572589",
     "exception": false,
     "start_time": "2025-05-13T17:51:01.742072",
     "status": "completed"
    },
    "tags": []
   },
   "outputs": [],
   "source": [
    "assert fp_map_prod.exists(), \"Le fichier de mapping des produits n'a pas été retrouvé dans le dossier dédié\""
   ]
  },
  {
   "cell_type": "markdown",
   "id": "e9df904b-5610-4442-aac3-294e6a2e0330",
   "metadata": {
    "papermill": {
     "duration": 5.344063,
     "end_time": "2025-05-13T17:51:08.136049",
     "exception": false,
     "start_time": "2025-05-13T17:51:02.791986",
     "status": "completed"
    },
    "tags": []
   },
   "source": [
    "## 📌9. Importation du `Plan d'approvisionnement`\n",
    "\n",
    "- **Format requis :** Respectez la structure du fichier définie pour l’importation peut conserver le fichier brut extrait de QAT.  \n",
    "- **Emplacement du fichier :** Le fichier doit être placé dans le répertoire suivant :  \n",
    "  **`Fichier Suivi de Stock/data/<programme>/Plan d'Approvisionnement`**  \n",
    "- **En cas d'erreur :**\n",
    "  - Vérifiez que le fichier est bien présent dans le répertoire.  \n",
    "  - Assurez-vous que les données respectent le format attendu.\n",
    "  - Vérifiez l'intégrité du fichier et assurez-vous et corriger l'anomalie."
   ]
  },
  {
   "cell_type": "code",
   "execution_count": 18,
   "id": "e5fe00dc-e276-4175-ab18-a31b4eeffe6e",
   "metadata": {
    "execution": {
     "iopub.execute_input": "2025-05-13T17:51:08.625379Z",
     "iopub.status.busy": "2025-05-13T17:51:08.623769Z",
     "iopub.status.idle": "2025-05-13T17:51:08.629935Z",
     "shell.execute_reply": "2025-05-13T17:51:08.628875Z"
    },
    "papermill": {
     "duration": 0.291458,
     "end_time": "2025-05-13T17:51:08.631938",
     "exception": false,
     "start_time": "2025-05-13T17:51:08.340480",
     "status": "completed"
    },
    "tags": []
   },
   "outputs": [],
   "source": [
    "fp_plan_approv = (\n",
    "    Path(workspace.files_path)\n",
    "    / f\"Fichier Suivi de Stock/data/{programme}/Plan d'Approvisionnement\"\n",
    "    / Path(fp_plan_approv)\n",
    ")"
   ]
  },
  {
   "cell_type": "code",
   "execution_count": 19,
   "id": "e3eb96f7-270b-4a55-a8b7-d74a6342b06d",
   "metadata": {
    "execution": {
     "iopub.execute_input": "2025-05-13T17:51:09.043981Z",
     "iopub.status.busy": "2025-05-13T17:51:09.042821Z",
     "iopub.status.idle": "2025-05-13T17:51:09.382010Z",
     "shell.execute_reply": "2025-05-13T17:51:09.380836Z"
    },
    "papermill": {
     "duration": 0.562758,
     "end_time": "2025-05-13T17:51:09.384349",
     "exception": false,
     "start_time": "2025-05-13T17:51:08.821591",
     "status": "completed"
    },
    "tags": []
   },
   "outputs": [
    {
     "data": {
      "text/html": [
       "<div>\n",
       "<style scoped>\n",
       "    .dataframe tbody tr th:only-of-type {\n",
       "        vertical-align: middle;\n",
       "    }\n",
       "\n",
       "    .dataframe tbody tr th {\n",
       "        vertical-align: top;\n",
       "    }\n",
       "\n",
       "    .dataframe thead th {\n",
       "        text-align: right;\n",
       "    }\n",
       "</style>\n",
       "<table border=\"1\" class=\"dataframe\">\n",
       "  <thead>\n",
       "    <tr style=\"text-align: right;\">\n",
       "      <th></th>\n",
       "      <th>ID de produit QAT</th>\n",
       "      <th>Produits</th>\n",
       "      <th>ID de l`envoi QAT</th>\n",
       "      <th>Commande d`urgence</th>\n",
       "      <th>Commande PGI</th>\n",
       "      <th>Approvisionnement local</th>\n",
       "      <th>N° de commande de l`agent d`approvisionnement</th>\n",
       "      <th>Agent d`approvisionnement</th>\n",
       "      <th>Source de financement</th>\n",
       "      <th>Budget</th>\n",
       "      <th>Status</th>\n",
       "      <th>Quantite</th>\n",
       "      <th>DATE</th>\n",
       "      <th>Cout des Produits</th>\n",
       "      <th>Couts du fret</th>\n",
       "      <th>Couts totaux</th>\n",
       "      <th>Notes</th>\n",
       "      <th>Standard product code</th>\n",
       "      <th>cout_unitaire_moyen_qat</th>\n",
       "      <th>facteur_de_conversion_qat_sage</th>\n",
       "      <th>acronym</th>\n",
       "      <th>code_and_date_concate</th>\n",
       "    </tr>\n",
       "  </thead>\n",
       "  <tbody>\n",
       "    <tr>\n",
       "      <th>0</th>\n",
       "      <td>1144</td>\n",
       "      <td>Albendazole 400 mg Chewable Tablet  100 Tablets</td>\n",
       "      <td>161753</td>\n",
       "      <td>false</td>\n",
       "      <td>false</td>\n",
       "      <td>false</td>\n",
       "      <td></td>\n",
       "      <td>TBD</td>\n",
       "      <td>TBD</td>\n",
       "      <td>TBD</td>\n",
       "      <td>Planifié</td>\n",
       "      <td>21900.0</td>\n",
       "      <td>2025-05-31</td>\n",
       "      <td>153300.0</td>\n",
       "      <td>15330.0</td>\n",
       "      <td>168630.0</td>\n",
       "      <td></td>\n",
       "      <td>3050002</td>\n",
       "      <td>7.00</td>\n",
       "      <td>1</td>\n",
       "      <td>ALBENDAZOLE 400mg comp</td>\n",
       "      <td>3050002_2025-05-31</td>\n",
       "    </tr>\n",
       "    <tr>\n",
       "      <th>1</th>\n",
       "      <td>5190</td>\n",
       "      <td>Ready-to-Use Therapeutic Food (RUTF) 92 g Past...</td>\n",
       "      <td>161758</td>\n",
       "      <td>false</td>\n",
       "      <td>false</td>\n",
       "      <td>false</td>\n",
       "      <td></td>\n",
       "      <td>TBD</td>\n",
       "      <td>WB</td>\n",
       "      <td>BM_PNN</td>\n",
       "      <td>Planifié</td>\n",
       "      <td>15000.0</td>\n",
       "      <td>2025-07-31</td>\n",
       "      <td>606300.0</td>\n",
       "      <td>60630.0</td>\n",
       "      <td>666930.0</td>\n",
       "      <td></td>\n",
       "      <td>3230040</td>\n",
       "      <td>40.42</td>\n",
       "      <td>1</td>\n",
       "      <td>PLUMPY NUT</td>\n",
       "      <td>3230040_2025-07-31</td>\n",
       "    </tr>\n",
       "  </tbody>\n",
       "</table>\n",
       "</div>"
      ],
      "text/plain": [
       "   ID de produit QAT                                           Produits  \\\n",
       "0               1144    Albendazole 400 mg Chewable Tablet  100 Tablets   \n",
       "1               5190  Ready-to-Use Therapeutic Food (RUTF) 92 g Past...   \n",
       "\n",
       "   ID de l`envoi QAT Commande d`urgence Commande PGI Approvisionnement local  \\\n",
       "0             161753              false        false                   false   \n",
       "1             161758              false        false                   false   \n",
       "\n",
       "  N° de commande de l`agent d`approvisionnement Agent d`approvisionnement  \\\n",
       "0                                                                     TBD   \n",
       "1                                                                     TBD   \n",
       "\n",
       "  Source de financement  Budget    Status  Quantite       DATE  \\\n",
       "0                   TBD     TBD  Planifié   21900.0 2025-05-31   \n",
       "1                    WB  BM_PNN  Planifié   15000.0 2025-07-31   \n",
       "\n",
       "   Cout des Produits  Couts du fret  Couts totaux Notes  \\\n",
       "0           153300.0        15330.0      168630.0         \n",
       "1           606300.0        60630.0      666930.0         \n",
       "\n",
       "   Standard product code  cout_unitaire_moyen_qat  \\\n",
       "0                3050002                     7.00   \n",
       "1                3230040                    40.42   \n",
       "\n",
       "   facteur_de_conversion_qat_sage                 acronym  \\\n",
       "0                               1  ALBENDAZOLE 400mg comp   \n",
       "1                               1             PLUMPY NUT    \n",
       "\n",
       "  code_and_date_concate  \n",
       "0    3050002_2025-05-31  \n",
       "1    3230040_2025-07-31  "
      ]
     },
     "execution_count": 19,
     "metadata": {},
     "output_type": "execute_result"
    }
   ],
   "source": [
    "df_plan_approv = compute_indicators.file_utils.process_pa_files(fp_plan_approv, fp_map_prod, programme)\n",
    "\n",
    "df_plan_approv[\"facteur_de_conversion_qat_sage\"] = df_plan_approv[\"facteur_de_conversion_qat_sage\"].apply(\n",
    "    lambda x: x if not pd.isna(x) else 1\n",
    ")\n",
    "\n",
    "df_plan_approv.head(2)"
   ]
  },
  {
   "cell_type": "markdown",
   "id": "16319b53-77c7-423a-999a-37aa2052514e",
   "metadata": {
    "papermill": {
     "duration": 0.184118,
     "end_time": "2025-05-13T17:51:09.783168",
     "exception": false,
     "start_time": "2025-05-13T17:51:09.599050",
     "status": "completed"
    },
    "tags": []
   },
   "source": [
    "# IV.📊Calcul des Indicateurs"
   ]
  },
  {
   "cell_type": "markdown",
   "id": "46d1687e-eb8e-4515-9be3-1bc3ffb55184",
   "metadata": {
    "papermill": {
     "duration": 11.279057,
     "end_time": "2025-05-13T17:51:21.255164",
     "exception": false,
     "start_time": "2025-05-13T17:51:09.976107",
     "status": "completed"
    },
    "tags": []
   },
   "source": [
    "## 📌1. `Etat de Stock (1/2)`"
   ]
  },
  {
   "cell_type": "code",
   "execution_count": 20,
   "id": "177a7f70-8d09-45b6-94fd-0900686bfc84",
   "metadata": {
    "execution": {
     "iopub.execute_input": "2025-05-13T17:51:21.711911Z",
     "iopub.status.busy": "2025-05-13T17:51:21.710779Z",
     "iopub.status.idle": "2025-05-13T17:51:21.903613Z",
     "shell.execute_reply": "2025-05-13T17:51:21.902617Z"
    },
    "papermill": {
     "duration": 0.426019,
     "end_time": "2025-05-13T17:51:21.905507",
     "exception": false,
     "start_time": "2025-05-13T17:51:21.479488",
     "status": "completed"
    },
    "tags": []
   },
   "outputs": [
    {
     "name": "stdout",
     "output_type": "stream",
     "text": [
      "Connexion à la base de données établie avec succès\n"
     ]
    },
    {
     "data": {
      "text/html": [
       "<div>\n",
       "<style scoped>\n",
       "    .dataframe tbody tr th:only-of-type {\n",
       "        vertical-align: middle;\n",
       "    }\n",
       "\n",
       "    .dataframe tbody tr th {\n",
       "        vertical-align: top;\n",
       "    }\n",
       "\n",
       "    .dataframe thead th {\n",
       "        text-align: right;\n",
       "    }\n",
       "</style>\n",
       "<table border=\"1\" class=\"dataframe\">\n",
       "  <thead>\n",
       "    <tr style=\"text-align: right;\">\n",
       "      <th></th>\n",
       "      <th>id_dim_produit_stock_track_pk</th>\n",
       "      <th>code_produit</th>\n",
       "      <th>ancien_code</th>\n",
       "      <th>categorie</th>\n",
       "      <th>designation</th>\n",
       "      <th>type_produit</th>\n",
       "      <th>unit_niveau_central</th>\n",
       "      <th>unit_niveau_peripherique</th>\n",
       "      <th>facteur_de_conversion</th>\n",
       "      <th>designation_acronym</th>\n",
       "      <th>code_qat</th>\n",
       "      <th>programme</th>\n",
       "      <th>cout_unitaire_moyen_qat</th>\n",
       "      <th>facteur_de_conversion_qat_sage</th>\n",
       "      <th>stock_theorique_mois_precedent</th>\n",
       "    </tr>\n",
       "  </thead>\n",
       "  <tbody>\n",
       "    <tr>\n",
       "      <th>0</th>\n",
       "      <td>380</td>\n",
       "      <td>3050002</td>\n",
       "      <td>AE02080</td>\n",
       "      <td>PNN - MEDICAMENTS ET ALIMENTS THERAPEUTIQUES</td>\n",
       "      <td>ALBENDAZOLE 400mg comp COMPRIME</td>\n",
       "      <td>Non traceur</td>\n",
       "      <td>COMPRIME</td>\n",
       "      <td>COMPRIME</td>\n",
       "      <td>1</td>\n",
       "      <td>ALBENDAZOLE 400mg comp</td>\n",
       "      <td>1144.0</td>\n",
       "      <td>PNN</td>\n",
       "      <td>7.00</td>\n",
       "      <td>1.0</td>\n",
       "      <td>0.0</td>\n",
       "    </tr>\n",
       "    <tr>\n",
       "      <th>1</th>\n",
       "      <td>381</td>\n",
       "      <td>3230036</td>\n",
       "      <td>AE01080</td>\n",
       "      <td>PNN - MEDICAMENTS ET ALIMENTS THERAPEUTIQUES</td>\n",
       "      <td>LAIT THERAPEUTIQUE F-100  BOITE/400G</td>\n",
       "      <td>Non traceur</td>\n",
       "      <td>BOITE</td>\n",
       "      <td>UNITE</td>\n",
       "      <td>1</td>\n",
       "      <td>LAIT  F-100  BOITE/400G</td>\n",
       "      <td>7561.0</td>\n",
       "      <td>PNN</td>\n",
       "      <td>2.36</td>\n",
       "      <td>1.0</td>\n",
       "      <td>765.0</td>\n",
       "    </tr>\n",
       "  </tbody>\n",
       "</table>\n",
       "</div>"
      ],
      "text/plain": [
       "   id_dim_produit_stock_track_pk  code_produit ancien_code  \\\n",
       "0                            380       3050002     AE02080   \n",
       "1                            381       3230036     AE01080   \n",
       "\n",
       "                                      categorie  \\\n",
       "0  PNN - MEDICAMENTS ET ALIMENTS THERAPEUTIQUES   \n",
       "1  PNN - MEDICAMENTS ET ALIMENTS THERAPEUTIQUES   \n",
       "\n",
       "                            designation type_produit unit_niveau_central  \\\n",
       "0     ALBENDAZOLE 400mg comp COMPRIME    Non traceur            COMPRIME   \n",
       "1  LAIT THERAPEUTIQUE F-100  BOITE/400G  Non traceur               BOITE   \n",
       "\n",
       "  unit_niveau_peripherique  facteur_de_conversion      designation_acronym  \\\n",
       "0                 COMPRIME                      1   ALBENDAZOLE 400mg comp   \n",
       "1                    UNITE                      1  LAIT  F-100  BOITE/400G   \n",
       "\n",
       "  code_qat programme  cout_unitaire_moyen_qat  facteur_de_conversion_qat_sage  \\\n",
       "0   1144.0       PNN                     7.00                             1.0   \n",
       "1   7561.0       PNN                     2.36                             1.0   \n",
       "\n",
       "   stock_theorique_mois_precedent  \n",
       "0                             0.0  \n",
       "1                           765.0  "
      ]
     },
     "execution_count": 20,
     "metadata": {},
     "output_type": "execute_result"
    }
   ],
   "source": [
    "stock_sync_manager.initialize_database_connection()\n",
    "\n",
    "schema_name = \"suivi_stock\"\n",
    "\n",
    "df_etat_stock = stock_sync_manager.get_table_data(\n",
    "    query=QUERY_ETAT_STOCK.format(\n",
    "        schema_name=schema_name, programme=programme, date_report_prec=date_report_prec\n",
    "    )\n",
    ").drop_duplicates()\n",
    "\n",
    "df_etat_stock.head(2)"
   ]
  },
  {
   "cell_type": "code",
   "execution_count": 21,
   "id": "0cc47bc4-3b68-4d26-882e-05b121b18ec5",
   "metadata": {
    "execution": {
     "iopub.execute_input": "2025-05-13T17:51:22.357252Z",
     "iopub.status.busy": "2025-05-13T17:51:22.356008Z",
     "iopub.status.idle": "2025-05-13T17:51:22.436390Z",
     "shell.execute_reply": "2025-05-13T17:51:22.435278Z"
    },
    "papermill": {
     "duration": 0.306195,
     "end_time": "2025-05-13T17:51:22.437912",
     "exception": false,
     "start_time": "2025-05-13T17:51:22.131717",
     "status": "completed"
    },
    "tags": []
   },
   "outputs": [
    {
     "data": {
      "text/html": [
       "<div>\n",
       "<style scoped>\n",
       "    .dataframe tbody tr th:only-of-type {\n",
       "        vertical-align: middle;\n",
       "    }\n",
       "\n",
       "    .dataframe tbody tr th {\n",
       "        vertical-align: top;\n",
       "    }\n",
       "\n",
       "    .dataframe thead th {\n",
       "        text-align: right;\n",
       "    }\n",
       "</style>\n",
       "<table border=\"1\" class=\"dataframe\">\n",
       "  <thead>\n",
       "    <tr style=\"text-align: right;\">\n",
       "      <th></th>\n",
       "      <th>id_dim_produit_stock_track_pk</th>\n",
       "      <th>code_produit</th>\n",
       "      <th>ancien_code</th>\n",
       "      <th>categorie</th>\n",
       "      <th>designation</th>\n",
       "      <th>type_produit</th>\n",
       "      <th>unit_niveau_central</th>\n",
       "      <th>unit_niveau_peripherique</th>\n",
       "      <th>facteur_de_conversion</th>\n",
       "      <th>designation_acronym</th>\n",
       "      <th>code_qat</th>\n",
       "      <th>programme</th>\n",
       "      <th>cout_unitaire_moyen_qat</th>\n",
       "      <th>facteur_de_conversion_qat_sage</th>\n",
       "      <th>stock_theorique_mois_precedent</th>\n",
       "      <th>Distribution effectuée</th>\n",
       "      <th>Quantité reçue entrée en stock</th>\n",
       "      <th>Quantité de PPI</th>\n",
       "      <th>Quantité prélévée en Contrôle Qualité (CQ)</th>\n",
       "      <th>Ajustement de stock</th>\n",
       "      <th>Stock Théorique Final SAGE</th>\n",
       "      <th>Stock Théorique Final Attendu</th>\n",
       "      <th>ECARTS</th>\n",
       "      <th>Justification des écarts</th>\n",
       "      <th>Diligences</th>\n",
       "      <th>Dilig. Choisie</th>\n",
       "    </tr>\n",
       "  </thead>\n",
       "  <tbody>\n",
       "    <tr>\n",
       "      <th>0</th>\n",
       "      <td>380</td>\n",
       "      <td>3050002</td>\n",
       "      <td>AE02080</td>\n",
       "      <td>PNN - MEDICAMENTS ET ALIMENTS THERAPEUTIQUES</td>\n",
       "      <td>ALBENDAZOLE 400mg comp COMPRIME</td>\n",
       "      <td>Non traceur</td>\n",
       "      <td>COMPRIME</td>\n",
       "      <td>COMPRIME</td>\n",
       "      <td>1</td>\n",
       "      <td>ALBENDAZOLE 400mg comp</td>\n",
       "      <td>1144.0</td>\n",
       "      <td>PNN</td>\n",
       "      <td>7.00</td>\n",
       "      <td>1.0</td>\n",
       "      <td>0.0</td>\n",
       "      <td>0</td>\n",
       "      <td>0</td>\n",
       "      <td>0</td>\n",
       "      <td>0</td>\n",
       "      <td>NaN</td>\n",
       "      <td>0</td>\n",
       "      <td>0.0</td>\n",
       "      <td>0.0</td>\n",
       "      <td></td>\n",
       "      <td></td>\n",
       "      <td></td>\n",
       "    </tr>\n",
       "    <tr>\n",
       "      <th>1</th>\n",
       "      <td>381</td>\n",
       "      <td>3230036</td>\n",
       "      <td>AE01080</td>\n",
       "      <td>PNN - MEDICAMENTS ET ALIMENTS THERAPEUTIQUES</td>\n",
       "      <td>LAIT THERAPEUTIQUE F-100  BOITE/400G</td>\n",
       "      <td>Non traceur</td>\n",
       "      <td>BOITE</td>\n",
       "      <td>UNITE</td>\n",
       "      <td>1</td>\n",
       "      <td>LAIT  F-100  BOITE/400G</td>\n",
       "      <td>7561.0</td>\n",
       "      <td>PNN</td>\n",
       "      <td>2.36</td>\n",
       "      <td>1.0</td>\n",
       "      <td>765.0</td>\n",
       "      <td>403</td>\n",
       "      <td>0</td>\n",
       "      <td>0</td>\n",
       "      <td>0</td>\n",
       "      <td>NaN</td>\n",
       "      <td>362</td>\n",
       "      <td>362.0</td>\n",
       "      <td>0.0</td>\n",
       "      <td></td>\n",
       "      <td></td>\n",
       "      <td></td>\n",
       "    </tr>\n",
       "    <tr>\n",
       "      <th>2</th>\n",
       "      <td>382</td>\n",
       "      <td>3230037</td>\n",
       "      <td>AE01085</td>\n",
       "      <td>PNN - MEDICAMENTS ET ALIMENTS THERAPEUTIQUES</td>\n",
       "      <td>LAIT THERAPEUTIQUE F-75 BOITE/400G</td>\n",
       "      <td>Traceur</td>\n",
       "      <td>BOITE</td>\n",
       "      <td>UNITE</td>\n",
       "      <td>1</td>\n",
       "      <td>LAIT F-75 BOITE/400G</td>\n",
       "      <td>7560.0</td>\n",
       "      <td>PNN</td>\n",
       "      <td>2.10</td>\n",
       "      <td>1.0</td>\n",
       "      <td>2288.0</td>\n",
       "      <td>29</td>\n",
       "      <td>0</td>\n",
       "      <td>449</td>\n",
       "      <td>0</td>\n",
       "      <td>NaN</td>\n",
       "      <td>2301</td>\n",
       "      <td>1810.0</td>\n",
       "      <td>491.0</td>\n",
       "      <td></td>\n",
       "      <td></td>\n",
       "      <td></td>\n",
       "    </tr>\n",
       "  </tbody>\n",
       "</table>\n",
       "</div>"
      ],
      "text/plain": [
       "   id_dim_produit_stock_track_pk  code_produit ancien_code  \\\n",
       "0                            380       3050002     AE02080   \n",
       "1                            381       3230036     AE01080   \n",
       "2                            382       3230037     AE01085   \n",
       "\n",
       "                                      categorie  \\\n",
       "0  PNN - MEDICAMENTS ET ALIMENTS THERAPEUTIQUES   \n",
       "1  PNN - MEDICAMENTS ET ALIMENTS THERAPEUTIQUES   \n",
       "2  PNN - MEDICAMENTS ET ALIMENTS THERAPEUTIQUES   \n",
       "\n",
       "                            designation type_produit unit_niveau_central  \\\n",
       "0     ALBENDAZOLE 400mg comp COMPRIME    Non traceur            COMPRIME   \n",
       "1  LAIT THERAPEUTIQUE F-100  BOITE/400G  Non traceur               BOITE   \n",
       "2    LAIT THERAPEUTIQUE F-75 BOITE/400G      Traceur               BOITE   \n",
       "\n",
       "  unit_niveau_peripherique  facteur_de_conversion      designation_acronym  \\\n",
       "0                 COMPRIME                      1   ALBENDAZOLE 400mg comp   \n",
       "1                    UNITE                      1  LAIT  F-100  BOITE/400G   \n",
       "2                    UNITE                      1     LAIT F-75 BOITE/400G   \n",
       "\n",
       "  code_qat programme  cout_unitaire_moyen_qat  facteur_de_conversion_qat_sage  \\\n",
       "0   1144.0       PNN                     7.00                             1.0   \n",
       "1   7561.0       PNN                     2.36                             1.0   \n",
       "2   7560.0       PNN                     2.10                             1.0   \n",
       "\n",
       "   stock_theorique_mois_precedent  Distribution effectuée  \\\n",
       "0                             0.0                       0   \n",
       "1                           765.0                     403   \n",
       "2                          2288.0                      29   \n",
       "\n",
       "   Quantité reçue entrée en stock  Quantité de PPI  \\\n",
       "0                               0                0   \n",
       "1                               0                0   \n",
       "2                               0              449   \n",
       "\n",
       "   Quantité prélévée en Contrôle Qualité (CQ)  Ajustement de stock  \\\n",
       "0                                           0                  NaN   \n",
       "1                                           0                  NaN   \n",
       "2                                           0                  NaN   \n",
       "\n",
       "   Stock Théorique Final SAGE  Stock Théorique Final Attendu  ECARTS  \\\n",
       "0                           0                            0.0     0.0   \n",
       "1                         362                          362.0     0.0   \n",
       "2                        2301                         1810.0   491.0   \n",
       "\n",
       "  Justification des écarts Diligences Dilig. Choisie  \n",
       "0                                                     \n",
       "1                                                     \n",
       "2                                                     "
      ]
     },
     "metadata": {},
     "output_type": "display_data"
    },
    {
     "name": "stdout",
     "output_type": "stream",
     "text": [
      "CPU times: user 72.8 ms, sys: 2 ms, total: 74.8 ms\n",
      "Wall time: 73.2 ms\n"
     ]
    }
   ],
   "source": [
    "%%time\n",
    "df_etat_stock = compute_indicators.annexe_1.get_etat_stock_current_month(\n",
    "    df_etat_stock.copy(),\n",
    "    df_stock_detaille.copy(),\n",
    "    df_distribution.copy(),\n",
    "    df_ppi.copy(),\n",
    "    df_prelevement.copy(),\n",
    "    df_receptions.copy(),\n",
    "    date_report\n",
    ")"
   ]
  },
  {
   "cell_type": "markdown",
   "id": "67fc32ed-308b-4166-ba9b-0ed51410cb58",
   "metadata": {
    "papermill": {
     "duration": 3.578475,
     "end_time": "2025-05-13T17:51:26.747527",
     "exception": false,
     "start_time": "2025-05-13T17:51:23.169052",
     "status": "completed"
    },
    "tags": []
   },
   "source": [
    "## 📌2.`Distributions et Consommations` - `Annexe 1`"
   ]
  },
  {
   "cell_type": "markdown",
   "id": "060791ec-5daf-443b-86a2-2a9e9046a654",
   "metadata": {
    "papermill": {
     "duration": 0.231457,
     "end_time": "2025-05-13T17:51:27.970552",
     "exception": false,
     "start_time": "2025-05-13T17:51:27.739095",
     "status": "completed"
    },
    "tags": []
   },
   "source": [
    "### 2.1.`Distributions`"
   ]
  },
  {
   "cell_type": "code",
   "execution_count": 22,
   "id": "3d47d66d-04ec-4f76-9aa3-b36d9fb31117",
   "metadata": {
    "execution": {
     "iopub.execute_input": "2025-05-13T17:51:28.382044Z",
     "iopub.status.busy": "2025-05-13T17:51:28.381583Z",
     "iopub.status.idle": "2025-05-13T17:51:28.488942Z",
     "shell.execute_reply": "2025-05-13T17:51:28.487780Z"
    },
    "papermill": {
     "duration": 0.314995,
     "end_time": "2025-05-13T17:51:28.490991",
     "exception": false,
     "start_time": "2025-05-13T17:51:28.175996",
     "status": "completed"
    },
    "tags": []
   },
   "outputs": [
    {
     "name": "stdout",
     "output_type": "stream",
     "text": [
      "CPU times: user 66 ms, sys: 1.11 ms, total: 67.1 ms\n",
      "Wall time: 101 ms\n"
     ]
    }
   ],
   "source": [
    "%%time\n",
    "df_dmm_curent, df_dmm_histo = compute_indicators.annexe_1.get_dmm_current_month(\n",
    "    df_etat_stock.copy(),\n",
    "    programme,\n",
    "    date_report,\n",
    "    stock_sync_manager.civ_engine\n",
    ")"
   ]
  },
  {
   "cell_type": "markdown",
   "id": "1646a2e7-aad7-4fdb-b9a6-9c9556df601e",
   "metadata": {
    "papermill": {
     "duration": 0.197508,
     "end_time": "2025-05-13T17:51:28.901894",
     "exception": false,
     "start_time": "2025-05-13T17:51:28.704386",
     "status": "completed"
    },
    "tags": []
   },
   "source": [
    "### 2.2.`Consommations`"
   ]
  },
  {
   "cell_type": "code",
   "execution_count": 23,
   "id": "25ad743a-e6e6-4481-8885-ca4057c65434",
   "metadata": {
    "editable": true,
    "execution": {
     "iopub.execute_input": "2025-05-13T17:51:30.797525Z",
     "iopub.status.busy": "2025-05-13T17:51:30.796413Z",
     "iopub.status.idle": "2025-05-13T17:51:30.849483Z",
     "shell.execute_reply": "2025-05-13T17:51:30.848363Z"
    },
    "papermill": {
     "duration": 0.93962,
     "end_time": "2025-05-13T17:51:30.851336",
     "exception": false,
     "start_time": "2025-05-13T17:51:29.911716",
     "status": "completed"
    },
    "slideshow": {
     "slide_type": ""
    },
    "tags": []
   },
   "outputs": [
    {
     "data": {
      "text/html": [
       "<div>\n",
       "<style scoped>\n",
       "    .dataframe tbody tr th:only-of-type {\n",
       "        vertical-align: middle;\n",
       "    }\n",
       "\n",
       "    .dataframe tbody tr th {\n",
       "        vertical-align: top;\n",
       "    }\n",
       "\n",
       "    .dataframe thead th {\n",
       "        text-align: right;\n",
       "    }\n",
       "</style>\n",
       "<table border=\"1\" class=\"dataframe\">\n",
       "  <thead>\n",
       "    <tr style=\"text-align: right;\">\n",
       "      <th></th>\n",
       "      <th>Programme</th>\n",
       "      <th>MSD</th>\n",
       "      <th>STATUT</th>\n",
       "      <th>CONSO</th>\n",
       "      <th>SDU</th>\n",
       "      <th>CMM</th>\n",
       "      <th>dispo_globale</th>\n",
       "      <th>dispo_globale_cible</th>\n",
       "      <th>dispo_traceur</th>\n",
       "      <th>dispo_traceur_cible</th>\n",
       "      <th>date_report</th>\n",
       "      <th>id_produit_fk</th>\n",
       "      <th>Code_region</th>\n",
       "      <th>region_order</th>\n",
       "      <th>statut_pourcentage</th>\n",
       "      <th>id_produit_pk</th>\n",
       "      <th>Code_produit</th>\n",
       "      <th>Produit_designation</th>\n",
       "      <th>Unit_rapportage</th>\n",
       "      <th>Categorie_produit</th>\n",
       "      <th>Categorie_du_produit</th>\n",
       "      <th>Code_sous_prog</th>\n",
       "    </tr>\n",
       "  </thead>\n",
       "  <tbody>\n",
       "    <tr>\n",
       "      <th>0</th>\n",
       "      <td>PNN</td>\n",
       "      <td>0,0</td>\n",
       "      <td>RUPTURE</td>\n",
       "      <td>0</td>\n",
       "      <td>0</td>\n",
       "      <td>2985.00</td>\n",
       "      <td>0.040275</td>\n",
       "      <td>0.070833</td>\n",
       "      <td>0.05069</td>\n",
       "      <td>0.079167</td>\n",
       "      <td>2025-03-31</td>\n",
       "      <td>13</td>\n",
       "      <td>NAT</td>\n",
       "      <td>None</td>\n",
       "      <td>0.083333</td>\n",
       "      <td>13</td>\n",
       "      <td>3050039</td>\n",
       "      <td>AMOXICILLINE 125 mg susp. FL/100 ml FL  -</td>\n",
       "      <td>FLACON</td>\n",
       "      <td>Produit non traceur</td>\n",
       "      <td>MEDICAMENTS ET PETITS MATERIELS MEDICAL</td>\n",
       "      <td>PNN-1</td>\n",
       "    </tr>\n",
       "    <tr>\n",
       "      <th>1</th>\n",
       "      <td>PNN</td>\n",
       "      <td>4,3</td>\n",
       "      <td>SURSTOCK</td>\n",
       "      <td>180798</td>\n",
       "      <td>917664</td>\n",
       "      <td>215767.25</td>\n",
       "      <td>0.040275</td>\n",
       "      <td>0.070833</td>\n",
       "      <td>0.05069</td>\n",
       "      <td>0.079167</td>\n",
       "      <td>2025-03-31</td>\n",
       "      <td>5010</td>\n",
       "      <td>NAT</td>\n",
       "      <td>None</td>\n",
       "      <td>0.083333</td>\n",
       "      <td>5010</td>\n",
       "      <td>3150050</td>\n",
       "      <td>VITAMINE A 200 000 UI caps UN  -</td>\n",
       "      <td>UNITE</td>\n",
       "      <td>Produit traceur</td>\n",
       "      <td>MEDICAMENTS ET PETITS MATERIELS MEDICAL</td>\n",
       "      <td>PNN-1</td>\n",
       "    </tr>\n",
       "    <tr>\n",
       "      <th>2</th>\n",
       "      <td>PNN</td>\n",
       "      <td>0,0</td>\n",
       "      <td>RUPTURE</td>\n",
       "      <td>0</td>\n",
       "      <td>0</td>\n",
       "      <td>8660.00</td>\n",
       "      <td>0.040275</td>\n",
       "      <td>0.070833</td>\n",
       "      <td>0.05069</td>\n",
       "      <td>0.079167</td>\n",
       "      <td>2025-03-31</td>\n",
       "      <td>172</td>\n",
       "      <td>NAT</td>\n",
       "      <td>None</td>\n",
       "      <td>0.083333</td>\n",
       "      <td>172</td>\n",
       "      <td>3160005</td>\n",
       "      <td>ACIDE FOLIQUE 5 mg comp. BTE/10 BTE  -</td>\n",
       "      <td>COMPRIME</td>\n",
       "      <td>Produit non traceur</td>\n",
       "      <td>MEDICAMENTS ET PETITS MATERIELS MEDICAL</td>\n",
       "      <td>PNN-1</td>\n",
       "    </tr>\n",
       "  </tbody>\n",
       "</table>\n",
       "</div>"
      ],
      "text/plain": [
       "  Programme  MSD    STATUT   CONSO     SDU        CMM  dispo_globale  \\\n",
       "0       PNN  0,0   RUPTURE       0       0    2985.00       0.040275   \n",
       "1       PNN  4,3  SURSTOCK  180798  917664  215767.25       0.040275   \n",
       "2       PNN  0,0   RUPTURE       0       0    8660.00       0.040275   \n",
       "\n",
       "   dispo_globale_cible  dispo_traceur  dispo_traceur_cible date_report  \\\n",
       "0             0.070833        0.05069             0.079167  2025-03-31   \n",
       "1             0.070833        0.05069             0.079167  2025-03-31   \n",
       "2             0.070833        0.05069             0.079167  2025-03-31   \n",
       "\n",
       "   id_produit_fk Code_region region_order  statut_pourcentage  id_produit_pk  \\\n",
       "0             13         NAT         None            0.083333             13   \n",
       "1           5010         NAT         None            0.083333           5010   \n",
       "2            172         NAT         None            0.083333            172   \n",
       "\n",
       "   Code_produit                        Produit_designation Unit_rapportage  \\\n",
       "0       3050039  AMOXICILLINE 125 mg susp. FL/100 ml FL  -          FLACON   \n",
       "1       3150050           VITAMINE A 200 000 UI caps UN  -           UNITE   \n",
       "2       3160005     ACIDE FOLIQUE 5 mg comp. BTE/10 BTE  -        COMPRIME   \n",
       "\n",
       "     Categorie_produit                     Categorie_du_produit Code_sous_prog  \n",
       "0  Produit non traceur  MEDICAMENTS ET PETITS MATERIELS MEDICAL          PNN-1  \n",
       "1      Produit traceur  MEDICAMENTS ET PETITS MATERIELS MEDICAL          PNN-1  \n",
       "2  Produit non traceur  MEDICAMENTS ET PETITS MATERIELS MEDICAL          PNN-1  "
      ]
     },
     "execution_count": 23,
     "metadata": {},
     "output_type": "execute_result"
    }
   ],
   "source": [
    "# Pour avoir la CMM du mois courant une recherche est d'abord faite sur la feuille StockParRegion provenant du RapportFeedback\n",
    "eomonth = (pd.to_datetime(date_report) + pd.offsets.MonthEnd(0)).strftime(\"%Y-%m-%d\")\n",
    "\n",
    "df_stock_prog_nat = stock_sync_manager.get_table_data(\n",
    "    query = QUERY_ETAT_STOCK_PROGRAMME.format(eomonth=eomonth, programme=programme)\n",
    ")\n",
    "\n",
    "df_stock_prog_nat[\"Code_produit\"] = df_stock_prog_nat[\"Code_produit\"].astype(int)\n",
    "\n",
    "df_stock_prog_nat.head(3)"
   ]
  },
  {
   "cell_type": "code",
   "execution_count": 24,
   "id": "d5fa0de6-3909-46f5-b737-856e204c92ba",
   "metadata": {
    "execution": {
     "iopub.execute_input": "2025-05-13T17:51:41.064506Z",
     "iopub.status.busy": "2025-05-13T17:51:41.063725Z",
     "iopub.status.idle": "2025-05-13T17:51:41.163748Z",
     "shell.execute_reply": "2025-05-13T17:51:41.162669Z"
    },
    "papermill": {
     "duration": 7.094416,
     "end_time": "2025-05-13T17:51:41.165591",
     "exception": false,
     "start_time": "2025-05-13T17:51:34.071175",
     "status": "completed"
    },
    "tags": []
   },
   "outputs": [
    {
     "name": "stdout",
     "output_type": "stream",
     "text": [
      "CPU times: user 65.8 ms, sys: 1.95 ms, total: 67.8 ms\n",
      "Wall time: 93.3 ms\n"
     ]
    }
   ],
   "source": [
    "%%time\n",
    "df_cmm_curent, df_cmm_histo = compute_indicators.annexe_1.get_cmm_current_month(\n",
    "    df_etat_stock.copy(),\n",
    "    df_stock_prog_nat.copy(),\n",
    "    programme,\n",
    "    date_report,\n",
    "    stock_sync_manager.civ_engine,\n",
    ")"
   ]
  },
  {
   "cell_type": "markdown",
   "id": "e70f49b8-4d30-4e44-b255-72c0fd9ca0ea",
   "metadata": {
    "papermill": {
     "duration": 0.203475,
     "end_time": "2025-05-13T17:51:41.687547",
     "exception": false,
     "start_time": "2025-05-13T17:51:41.484072",
     "status": "completed"
    },
    "tags": []
   },
   "source": [
    "## 📌3. Calcul des indicateurs `Etat de stock (2/2)` `Annexe 2 - Suivi des Stocks`"
   ]
  },
  {
   "cell_type": "code",
   "execution_count": 25,
   "id": "2fbe9e4d-1190-4695-8df7-37a4737f6a19",
   "metadata": {
    "execution": {
     "iopub.execute_input": "2025-05-13T17:51:42.104022Z",
     "iopub.status.busy": "2025-05-13T17:51:42.103688Z",
     "iopub.status.idle": "2025-05-13T17:51:42.968591Z",
     "shell.execute_reply": "2025-05-13T17:51:42.967625Z"
    },
    "papermill": {
     "duration": 1.080279,
     "end_time": "2025-05-13T17:51:42.970137",
     "exception": false,
     "start_time": "2025-05-13T17:51:41.889858",
     "status": "completed"
    },
    "tags": []
   },
   "outputs": [
    {
     "data": {
      "text/html": [
       "<div>\n",
       "<style scoped>\n",
       "    .dataframe tbody tr th:only-of-type {\n",
       "        vertical-align: middle;\n",
       "    }\n",
       "\n",
       "    .dataframe tbody tr th {\n",
       "        vertical-align: top;\n",
       "    }\n",
       "\n",
       "    .dataframe thead th {\n",
       "        text-align: right;\n",
       "    }\n",
       "</style>\n",
       "<table border=\"1\" class=\"dataframe\">\n",
       "  <thead>\n",
       "    <tr style=\"text-align: right;\">\n",
       "      <th></th>\n",
       "      <th>Periode</th>\n",
       "      <th>Code_ets</th>\n",
       "      <th>stock_initial</th>\n",
       "      <th>qte_recue</th>\n",
       "      <th>qte_utilisee</th>\n",
       "      <th>perte_ajust</th>\n",
       "      <th>j_rupture</th>\n",
       "      <th>sdu</th>\n",
       "      <th>cmm_esigl</th>\n",
       "      <th>cmm_gest</th>\n",
       "      <th>qte_prop</th>\n",
       "      <th>qte_cmde</th>\n",
       "      <th>qte_approuv</th>\n",
       "      <th>msd</th>\n",
       "      <th>etat_stock</th>\n",
       "      <th>besoin_cmde_urg</th>\n",
       "      <th>besoin_trsf_in</th>\n",
       "      <th>qte_trsf_out</th>\n",
       "      <th>date_report</th>\n",
       "      <th>qte_cmde_mois_prec</th>\n",
       "      <th>etat_stock_mois_prec</th>\n",
       "      <th>id_produit_fk</th>\n",
       "      <th>id_produit_pk</th>\n",
       "      <th>Code_produit</th>\n",
       "      <th>Produit_designation</th>\n",
       "      <th>Unit_rapportage</th>\n",
       "      <th>Categorie_produit</th>\n",
       "      <th>Categorie_du_produit</th>\n",
       "      <th>Code_sous_prog</th>\n",
       "    </tr>\n",
       "  </thead>\n",
       "  <tbody>\n",
       "    <tr>\n",
       "      <th>21452</th>\n",
       "      <td>MARS 2025</td>\n",
       "      <td>41900070</td>\n",
       "      <td>0</td>\n",
       "      <td>0</td>\n",
       "      <td>0</td>\n",
       "      <td>0</td>\n",
       "      <td>31</td>\n",
       "      <td>0</td>\n",
       "      <td>0</td>\n",
       "      <td>0.0</td>\n",
       "      <td>0</td>\n",
       "      <td>0.0</td>\n",
       "      <td>0</td>\n",
       "      <td>NaN</td>\n",
       "      <td>RUPTURE</td>\n",
       "      <td>0.0</td>\n",
       "      <td>0.0</td>\n",
       "      <td>NaN</td>\n",
       "      <td>2025-03-31</td>\n",
       "      <td>NaN</td>\n",
       "      <td>None</td>\n",
       "      <td>471</td>\n",
       "      <td>471</td>\n",
       "      <td>4150828</td>\n",
       "      <td>SONDE D'INTUBATION NASOGASTRIQUE CH8 UNITE UN  -</td>\n",
       "      <td>SONDE</td>\n",
       "      <td>Produit non traceur</td>\n",
       "      <td>MEDICAMENTS ET PETITS MATERIELS MEDICAL</td>\n",
       "      <td>PNN-1</td>\n",
       "    </tr>\n",
       "    <tr>\n",
       "      <th>21604</th>\n",
       "      <td>MARS 2025</td>\n",
       "      <td>41900070</td>\n",
       "      <td>0</td>\n",
       "      <td>0</td>\n",
       "      <td>0</td>\n",
       "      <td>0</td>\n",
       "      <td>31</td>\n",
       "      <td>0</td>\n",
       "      <td>0</td>\n",
       "      <td>0.0</td>\n",
       "      <td>0</td>\n",
       "      <td>0.0</td>\n",
       "      <td>0</td>\n",
       "      <td>NaN</td>\n",
       "      <td>RUPTURE</td>\n",
       "      <td>0.0</td>\n",
       "      <td>0.0</td>\n",
       "      <td>NaN</td>\n",
       "      <td>2025-03-31</td>\n",
       "      <td>NaN</td>\n",
       "      <td>None</td>\n",
       "      <td>5018</td>\n",
       "      <td>5018</td>\n",
       "      <td>3230036</td>\n",
       "      <td>LAIT THERAPEUTIQUE F-100 400G BTE/1 BTE  -</td>\n",
       "      <td>BOITE</td>\n",
       "      <td>Produit non traceur</td>\n",
       "      <td>PRODUIT PNN</td>\n",
       "      <td>PNN-1</td>\n",
       "    </tr>\n",
       "  </tbody>\n",
       "</table>\n",
       "</div>"
      ],
      "text/plain": [
       "         Periode  Code_ets  stock_initial  qte_recue  qte_utilisee  \\\n",
       "21452  MARS 2025  41900070              0          0             0   \n",
       "21604  MARS 2025  41900070              0          0             0   \n",
       "\n",
       "       perte_ajust  j_rupture  sdu  cmm_esigl  cmm_gest  qte_prop  qte_cmde  \\\n",
       "21452            0         31    0          0       0.0         0       0.0   \n",
       "21604            0         31    0          0       0.0         0       0.0   \n",
       "\n",
       "       qte_approuv  msd etat_stock  besoin_cmde_urg  besoin_trsf_in  \\\n",
       "21452            0  NaN    RUPTURE              0.0             0.0   \n",
       "21604            0  NaN    RUPTURE              0.0             0.0   \n",
       "\n",
       "       qte_trsf_out date_report  qte_cmde_mois_prec etat_stock_mois_prec  \\\n",
       "21452           NaN  2025-03-31                 NaN                 None   \n",
       "21604           NaN  2025-03-31                 NaN                 None   \n",
       "\n",
       "       id_produit_fk  id_produit_pk  Code_produit  \\\n",
       "21452            471            471       4150828   \n",
       "21604           5018           5018       3230036   \n",
       "\n",
       "                                    Produit_designation Unit_rapportage  \\\n",
       "21452  SONDE D'INTUBATION NASOGASTRIQUE CH8 UNITE UN  -           SONDE   \n",
       "21604        LAIT THERAPEUTIQUE F-100 400G BTE/1 BTE  -           BOITE   \n",
       "\n",
       "         Categorie_produit                     Categorie_du_produit  \\\n",
       "21452  Produit non traceur  MEDICAMENTS ET PETITS MATERIELS MEDICAL   \n",
       "21604  Produit non traceur                              PRODUIT PNN   \n",
       "\n",
       "      Code_sous_prog  \n",
       "21452          PNN-1  \n",
       "21604          PNN-1  "
      ]
     },
     "execution_count": 25,
     "metadata": {},
     "output_type": "execute_result"
    }
   ],
   "source": [
    "df_etat_stock_periph = stock_sync_manager.get_table_data(\n",
    "    query=QUERY_ETAT_STOCK_PERIPH.format(eomonth=eomonth)\n",
    ")\n",
    "\n",
    "df_etat_stock_periph = df_etat_stock_periph.loc[\n",
    "    df_etat_stock_periph.Code_sous_prog.str.contains(programme)\n",
    "]\n",
    "\n",
    "df_etat_stock_periph[\"Code_produit\"] = df_etat_stock_periph[\"Code_produit\"].astype(int)\n",
    "\n",
    "df_etat_stock_periph.head(2)"
   ]
  },
  {
   "cell_type": "code",
   "execution_count": 26,
   "id": "592788d1-ea93-4c42-b744-a068f22d23be",
   "metadata": {
    "execution": {
     "iopub.execute_input": "2025-05-13T17:51:45.528932Z",
     "iopub.status.busy": "2025-05-13T17:51:45.528471Z",
     "iopub.status.idle": "2025-05-13T17:51:45.535434Z",
     "shell.execute_reply": "2025-05-13T17:51:45.534285Z"
    },
    "papermill": {
     "duration": 2.189667,
     "end_time": "2025-05-13T17:51:45.537375",
     "exception": false,
     "start_time": "2025-05-13T17:51:43.347708",
     "status": "completed"
    },
    "tags": []
   },
   "outputs": [],
   "source": [
    "df_plan_approv[\"Quantité harmonisée (SAGE)\"] = df_plan_approv[\"Quantite\"]*df_plan_approv[\"facteur_de_conversion_qat_sage\"]"
   ]
  },
  {
   "cell_type": "code",
   "execution_count": 27,
   "id": "08d7bdd6-cf53-4c3c-bca3-c9f6c218a273",
   "metadata": {
    "execution": {
     "iopub.execute_input": "2025-05-13T17:51:47.499655Z",
     "iopub.status.busy": "2025-05-13T17:51:47.499133Z",
     "iopub.status.idle": "2025-05-13T17:51:47.679596Z",
     "shell.execute_reply": "2025-05-13T17:51:47.678529Z"
    },
    "papermill": {
     "duration": 1.200777,
     "end_time": "2025-05-13T17:51:47.681002",
     "exception": false,
     "start_time": "2025-05-13T17:51:46.480225",
     "status": "completed"
    },
    "tags": []
   },
   "outputs": [
    {
     "data": {
      "text/html": [
       "<div>\n",
       "<style scoped>\n",
       "    .dataframe tbody tr th:only-of-type {\n",
       "        vertical-align: middle;\n",
       "    }\n",
       "\n",
       "    .dataframe tbody tr th {\n",
       "        vertical-align: top;\n",
       "    }\n",
       "\n",
       "    .dataframe thead th {\n",
       "        text-align: right;\n",
       "    }\n",
       "</style>\n",
       "<table border=\"1\" class=\"dataframe\">\n",
       "  <thead>\n",
       "    <tr style=\"text-align: right;\">\n",
       "      <th></th>\n",
       "      <th>id_dim_produit_stock_track_fk</th>\n",
       "      <th>stock_theorique_mois_precedent</th>\n",
       "      <th>distribution_effectuee</th>\n",
       "      <th>quantite_recue_stock</th>\n",
       "      <th>quantite_ppi</th>\n",
       "      <th>quantite_prelevee_cq</th>\n",
       "      <th>ajustement_stock</th>\n",
       "      <th>stock_theorique_final_sage</th>\n",
       "      <th>stock_theorique_final_attendu</th>\n",
       "      <th>ecarts</th>\n",
       "      <th>justification_ecarts</th>\n",
       "      <th>diligences</th>\n",
       "      <th>sdu_central_annexe_2</th>\n",
       "      <th>dmm_central_annexe_2</th>\n",
       "      <th>msd_central_annexe_2</th>\n",
       "      <th>statut_central_annexe_2</th>\n",
       "      <th>conso_decentralise_annexe_2</th>\n",
       "      <th>sdu_decentralise_annexe_2</th>\n",
       "      <th>cmm_decentralise_annexe_2</th>\n",
       "      <th>msd_decentralise_annexe_2</th>\n",
       "      <th>statut_decentralise_annexe_2</th>\n",
       "      <th>nombre_de_site_en_rupture_annexe_2</th>\n",
       "      <th>sdu_national_annexe_2</th>\n",
       "      <th>cmm_national_annexe_2</th>\n",
       "      <th>msd_national_annexe_2</th>\n",
       "      <th>statut_national_annexe_2</th>\n",
       "      <th>date_peremption_plus_proche_brute_annexe_2</th>\n",
       "      <th>date_peremption_plus_proche_annexe_2</th>\n",
       "      <th>quantite_correspondante_annexe_2</th>\n",
       "      <th>msd_correspondant_annexe_2</th>\n",
       "      <th>quantite_attendue_annexe_2</th>\n",
       "      <th>msd_attendu_annexe_2</th>\n",
       "      <th>quantite_non_stockee_annexe_2</th>\n",
       "      <th>msd_recu_annexe_2</th>\n",
       "      <th>financement_annexe_2</th>\n",
       "      <th>date_probable_livraison_annexe_2</th>\n",
       "      <th>date_effective_livraison_annexe_2</th>\n",
       "      <th>statut_annexe_2</th>\n",
       "      <th>analyse_risque_commentaires_annexe_2</th>\n",
       "      <th>diligences_central_annexe_2</th>\n",
       "      <th>diligences_peripherique_annexe_2</th>\n",
       "      <th>responsable_annexe_2</th>\n",
       "      <th>dilig_choisie_annexe_2</th>\n",
       "      <th>date_report</th>\n",
       "    </tr>\n",
       "  </thead>\n",
       "  <tbody>\n",
       "    <tr>\n",
       "      <th>0</th>\n",
       "      <td>380</td>\n",
       "      <td>0.0</td>\n",
       "      <td>0</td>\n",
       "      <td>0</td>\n",
       "      <td>0</td>\n",
       "      <td>0</td>\n",
       "      <td>NaN</td>\n",
       "      <td>0</td>\n",
       "      <td>0.0</td>\n",
       "      <td>0.0</td>\n",
       "      <td></td>\n",
       "      <td></td>\n",
       "      <td>0</td>\n",
       "      <td>83.333333</td>\n",
       "      <td>0,0</td>\n",
       "      <td>Rupture</td>\n",
       "      <td>10385</td>\n",
       "      <td>54156</td>\n",
       "      <td>104054</td>\n",
       "      <td>0,5</td>\n",
       "      <td>Sous-Stock</td>\n",
       "      <td>90</td>\n",
       "      <td>54156</td>\n",
       "      <td>104054</td>\n",
       "      <td>0,5</td>\n",
       "      <td>Sous-Stock</td>\n",
       "      <td>NaT</td>\n",
       "      <td>NaT</td>\n",
       "      <td>NaN</td>\n",
       "      <td>NaN</td>\n",
       "      <td>21900.0</td>\n",
       "      <td>262,8</td>\n",
       "      <td>0</td>\n",
       "      <td>0,0</td>\n",
       "      <td></td>\n",
       "      <td>2025-05-31</td>\n",
       "      <td>NaN</td>\n",
       "      <td>Planifié</td>\n",
       "      <td></td>\n",
       "      <td></td>\n",
       "      <td></td>\n",
       "      <td></td>\n",
       "      <td></td>\n",
       "      <td>2025-03-01</td>\n",
       "    </tr>\n",
       "    <tr>\n",
       "      <th>1</th>\n",
       "      <td>381</td>\n",
       "      <td>765.0</td>\n",
       "      <td>403</td>\n",
       "      <td>0</td>\n",
       "      <td>0</td>\n",
       "      <td>0</td>\n",
       "      <td>NaN</td>\n",
       "      <td>362</td>\n",
       "      <td>362.0</td>\n",
       "      <td>0.0</td>\n",
       "      <td></td>\n",
       "      <td></td>\n",
       "      <td>362</td>\n",
       "      <td>505.833333</td>\n",
       "      <td>0,7</td>\n",
       "      <td>Sous-Stock</td>\n",
       "      <td>410</td>\n",
       "      <td>1241</td>\n",
       "      <td>405</td>\n",
       "      <td>3,1</td>\n",
       "      <td>Bien Stocké</td>\n",
       "      <td>30</td>\n",
       "      <td>1603</td>\n",
       "      <td>405</td>\n",
       "      <td>4,0</td>\n",
       "      <td>Sous-Stock</td>\n",
       "      <td>2025-09-05</td>\n",
       "      <td>2025-09-05</td>\n",
       "      <td>362.0</td>\n",
       "      <td>0,7</td>\n",
       "      <td>2700.0</td>\n",
       "      <td>5,3</td>\n",
       "      <td>0</td>\n",
       "      <td>0,0</td>\n",
       "      <td></td>\n",
       "      <td>2025-05-31</td>\n",
       "      <td>NaN</td>\n",
       "      <td>Planifié</td>\n",
       "      <td></td>\n",
       "      <td></td>\n",
       "      <td></td>\n",
       "      <td></td>\n",
       "      <td></td>\n",
       "      <td>2025-03-01</td>\n",
       "    </tr>\n",
       "    <tr>\n",
       "      <th>2</th>\n",
       "      <td>382</td>\n",
       "      <td>2288.0</td>\n",
       "      <td>29</td>\n",
       "      <td>0</td>\n",
       "      <td>449</td>\n",
       "      <td>0</td>\n",
       "      <td>NaN</td>\n",
       "      <td>2301</td>\n",
       "      <td>1810.0</td>\n",
       "      <td>491.0</td>\n",
       "      <td></td>\n",
       "      <td></td>\n",
       "      <td>2301</td>\n",
       "      <td>446.833333</td>\n",
       "      <td>5,1</td>\n",
       "      <td>Bien Stocké</td>\n",
       "      <td>367</td>\n",
       "      <td>1691</td>\n",
       "      <td>328</td>\n",
       "      <td>5,2</td>\n",
       "      <td>SurStock</td>\n",
       "      <td>26</td>\n",
       "      <td>3992</td>\n",
       "      <td>328</td>\n",
       "      <td>12,2</td>\n",
       "      <td>SurStock</td>\n",
       "      <td>2025-12-31</td>\n",
       "      <td>2025-12-31</td>\n",
       "      <td>2301.0</td>\n",
       "      <td>5,1</td>\n",
       "      <td>3800.0</td>\n",
       "      <td>8,5</td>\n",
       "      <td>0</td>\n",
       "      <td>0,0</td>\n",
       "      <td></td>\n",
       "      <td>2025-06-01</td>\n",
       "      <td>NaN</td>\n",
       "      <td>Planifié</td>\n",
       "      <td></td>\n",
       "      <td></td>\n",
       "      <td></td>\n",
       "      <td></td>\n",
       "      <td></td>\n",
       "      <td>2025-03-01</td>\n",
       "    </tr>\n",
       "  </tbody>\n",
       "</table>\n",
       "</div>"
      ],
      "text/plain": [
       "   id_dim_produit_stock_track_fk  stock_theorique_mois_precedent  \\\n",
       "0                            380                             0.0   \n",
       "1                            381                           765.0   \n",
       "2                            382                          2288.0   \n",
       "\n",
       "   distribution_effectuee  quantite_recue_stock  quantite_ppi  \\\n",
       "0                       0                     0             0   \n",
       "1                     403                     0             0   \n",
       "2                      29                     0           449   \n",
       "\n",
       "   quantite_prelevee_cq  ajustement_stock  stock_theorique_final_sage  \\\n",
       "0                     0               NaN                           0   \n",
       "1                     0               NaN                         362   \n",
       "2                     0               NaN                        2301   \n",
       "\n",
       "   stock_theorique_final_attendu  ecarts justification_ecarts diligences  \\\n",
       "0                            0.0     0.0                                   \n",
       "1                          362.0     0.0                                   \n",
       "2                         1810.0   491.0                                   \n",
       "\n",
       "   sdu_central_annexe_2  dmm_central_annexe_2 msd_central_annexe_2  \\\n",
       "0                     0             83.333333                  0,0   \n",
       "1                   362            505.833333                  0,7   \n",
       "2                  2301            446.833333                  5,1   \n",
       "\n",
       "  statut_central_annexe_2  conso_decentralise_annexe_2  \\\n",
       "0                 Rupture                        10385   \n",
       "1              Sous-Stock                          410   \n",
       "2             Bien Stocké                          367   \n",
       "\n",
       "   sdu_decentralise_annexe_2  cmm_decentralise_annexe_2  \\\n",
       "0                      54156                     104054   \n",
       "1                       1241                        405   \n",
       "2                       1691                        328   \n",
       "\n",
       "  msd_decentralise_annexe_2 statut_decentralise_annexe_2  \\\n",
       "0                       0,5                   Sous-Stock   \n",
       "1                       3,1                  Bien Stocké   \n",
       "2                       5,2                     SurStock   \n",
       "\n",
       "   nombre_de_site_en_rupture_annexe_2  sdu_national_annexe_2  \\\n",
       "0                                  90                  54156   \n",
       "1                                  30                   1603   \n",
       "2                                  26                   3992   \n",
       "\n",
       "   cmm_national_annexe_2 msd_national_annexe_2 statut_national_annexe_2  \\\n",
       "0                 104054                   0,5               Sous-Stock   \n",
       "1                    405                   4,0               Sous-Stock   \n",
       "2                    328                  12,2                 SurStock   \n",
       "\n",
       "  date_peremption_plus_proche_brute_annexe_2  \\\n",
       "0                                        NaT   \n",
       "1                                 2025-09-05   \n",
       "2                                 2025-12-31   \n",
       "\n",
       "  date_peremption_plus_proche_annexe_2  quantite_correspondante_annexe_2  \\\n",
       "0                                  NaT                               NaN   \n",
       "1                           2025-09-05                             362.0   \n",
       "2                           2025-12-31                            2301.0   \n",
       "\n",
       "  msd_correspondant_annexe_2  quantite_attendue_annexe_2 msd_attendu_annexe_2  \\\n",
       "0                        NaN                     21900.0                262,8   \n",
       "1                        0,7                      2700.0                  5,3   \n",
       "2                        5,1                      3800.0                  8,5   \n",
       "\n",
       "   quantite_non_stockee_annexe_2 msd_recu_annexe_2 financement_annexe_2  \\\n",
       "0                              0               0,0                        \n",
       "1                              0               0,0                        \n",
       "2                              0               0,0                        \n",
       "\n",
       "  date_probable_livraison_annexe_2  date_effective_livraison_annexe_2  \\\n",
       "0                       2025-05-31                                NaN   \n",
       "1                       2025-05-31                                NaN   \n",
       "2                       2025-06-01                                NaN   \n",
       "\n",
       "  statut_annexe_2 analyse_risque_commentaires_annexe_2  \\\n",
       "0        Planifié                                        \n",
       "1        Planifié                                        \n",
       "2        Planifié                                        \n",
       "\n",
       "  diligences_central_annexe_2 diligences_peripherique_annexe_2  \\\n",
       "0                                                                \n",
       "1                                                                \n",
       "2                                                                \n",
       "\n",
       "  responsable_annexe_2 dilig_choisie_annexe_2 date_report  \n",
       "0                                              2025-03-01  \n",
       "1                                              2025-03-01  \n",
       "2                                              2025-03-01  "
      ]
     },
     "metadata": {},
     "output_type": "display_data"
    },
    {
     "name": "stdout",
     "output_type": "stream",
     "text": [
      "CPU times: user 169 ms, sys: 4.98 ms, total: 174 ms\n",
      "Wall time: 174 ms\n"
     ]
    }
   ],
   "source": [
    "%%time\n",
    "df_etat_stock = compute_indicators.annexe_2(\n",
    "    df_etat_stock,\n",
    "    df_dmm_curent.copy(),\n",
    "    df_stock_prog_nat.copy(),\n",
    "    df_etat_stock_periph.copy(),\n",
    "    df_stock_detaille.copy(),\n",
    "    df_receptions.copy(),\n",
    "    df_plan_approv.copy(),\n",
    "    date_report,\n",
    ")"
   ]
  },
  {
   "cell_type": "markdown",
   "id": "76c5e978-145b-4cb3-aa25-fb14eb470ff4",
   "metadata": {
    "papermill": {
     "duration": 0.199006,
     "end_time": "2025-05-13T17:51:48.058165",
     "exception": false,
     "start_time": "2025-05-13T17:51:47.859159",
     "status": "completed"
    },
    "tags": []
   },
   "source": [
    "# V.Exportation des données\n",
    "\n",
    "Avant d’exporter les données, il est essentiel de s’assurer qu’aucune information relative à la période en cours n’est déjà présente dans les différentes tables.  \r\n",
    "Si des données existent, une suppression devra être effectuée avant l’export."
   ]
  },
  {
   "cell_type": "markdown",
   "id": "040e8f88-31a1-4bd0-a32b-d2a10d2aa29b",
   "metadata": {
    "papermill": {
     "duration": 0.17425,
     "end_time": "2025-05-13T17:51:48.411531",
     "exception": false,
     "start_time": "2025-05-13T17:51:48.237281",
     "status": "completed"
    },
    "tags": []
   },
   "source": [
    "## 1. `Etat de Stock`"
   ]
  },
  {
   "cell_type": "code",
   "execution_count": 28,
   "id": "69402d6e-0979-4fe7-aef4-7a578d7c4948",
   "metadata": {
    "execution": {
     "iopub.execute_input": "2025-05-13T17:51:48.885842Z",
     "iopub.status.busy": "2025-05-13T17:51:48.885436Z",
     "iopub.status.idle": "2025-05-13T17:51:48.898539Z",
     "shell.execute_reply": "2025-05-13T17:51:48.897456Z"
    },
    "papermill": {
     "duration": 0.301796,
     "end_time": "2025-05-13T17:51:48.900573",
     "exception": false,
     "start_time": "2025-05-13T17:51:48.598777",
     "status": "completed"
    },
    "tags": []
   },
   "outputs": [],
   "source": [
    "id_list = list(map(int, df_etat_stock.id_dim_produit_stock_track_fk.unique()))\n",
    "placeholders = \", \".join([\"%s\"] * len(id_list))\n",
    "\n",
    "query = f\"\"\"\n",
    "DELETE FROM {schema_name}.stock_track\n",
    "WHERE date_report = '{date_report}' AND id_dim_produit_stock_track_fk IN ({placeholders});\n",
    "\"\"\"\n",
    "\n",
    "stock_sync_manager.civ_cursor.execute(query, list(id_list))\n",
    "stock_sync_manager.conn.commit()"
   ]
  },
  {
   "cell_type": "code",
   "execution_count": 29,
   "id": "92ca91ab-0797-414f-8c9c-3c5a185a2d0f",
   "metadata": {
    "execution": {
     "iopub.execute_input": "2025-05-13T17:51:58.722396Z",
     "iopub.status.busy": "2025-05-13T17:51:58.721339Z",
     "iopub.status.idle": "2025-05-13T17:51:58.821629Z",
     "shell.execute_reply": "2025-05-13T17:51:58.820533Z"
    },
    "papermill": {
     "duration": 6.386731,
     "end_time": "2025-05-13T17:51:58.823488",
     "exception": false,
     "start_time": "2025-05-13T17:51:52.436757",
     "status": "completed"
    },
    "tags": []
   },
   "outputs": [
    {
     "data": {
      "text/plain": [
       "'Insertion de 13 enrégistrements réussie'"
      ]
     },
     "execution_count": 29,
     "metadata": {},
     "output_type": "execute_result"
    }
   ],
   "source": [
    "assert df_etat_stock.date_report.unique().shape[0] == 1\n",
    "\n",
    "stock_sync_manager.insert_dataframe_to_table(df_etat_stock, \"stock_track\")"
   ]
  },
  {
   "cell_type": "markdown",
   "id": "08ed5151-ee3a-421c-8a19-5c03d4fd165b",
   "metadata": {
    "papermill": {
     "duration": 0.219668,
     "end_time": "2025-05-13T17:51:59.250300",
     "exception": false,
     "start_time": "2025-05-13T17:51:59.030632",
     "status": "completed"
    },
    "tags": []
   },
   "source": [
    "## 2. `Distributions`"
   ]
  },
  {
   "cell_type": "markdown",
   "id": "49e72b21-a586-4738-a5c9-95501a6db06c",
   "metadata": {
    "papermill": {
     "duration": 0.17166,
     "end_time": "2025-05-13T17:51:59.598432",
     "exception": false,
     "start_time": "2025-05-13T17:51:59.426772",
     "status": "completed"
    },
    "tags": []
   },
   "source": [
    "### 2.1.`Distributions mois courant` "
   ]
  },
  {
   "cell_type": "code",
   "execution_count": 30,
   "id": "6521c5ac-f762-4e55-b890-7d9751143a2e",
   "metadata": {
    "execution": {
     "iopub.execute_input": "2025-05-13T17:52:11.391790Z",
     "iopub.status.busy": "2025-05-13T17:52:11.391396Z",
     "iopub.status.idle": "2025-05-13T17:52:11.408122Z",
     "shell.execute_reply": "2025-05-13T17:52:11.406890Z"
    },
    "papermill": {
     "duration": 10.66188,
     "end_time": "2025-05-13T17:52:11.410124",
     "exception": false,
     "start_time": "2025-05-13T17:52:00.748244",
     "status": "completed"
    },
    "tags": []
   },
   "outputs": [],
   "source": [
    "id_list = list(map(int, df_dmm_curent.id_dim_produit_stock_track_fk.unique()))\n",
    "placeholders = \", \".join([\"%s\"] * len(id_list))\n",
    "\n",
    "query = f\"\"\"\n",
    "DELETE FROM {schema_name}.stock_track_dmm\n",
    "WHERE date_report = %s AND id_dim_produit_stock_track_fk IN ({placeholders});\n",
    "\"\"\"\n",
    "\n",
    "stock_sync_manager.civ_cursor.execute(query, [date_report] + list(id_list))\n",
    "stock_sync_manager.conn.commit()"
   ]
  },
  {
   "cell_type": "code",
   "execution_count": 31,
   "id": "0a8a2973-b667-403c-8102-fb9417afdf11",
   "metadata": {
    "execution": {
     "iopub.execute_input": "2025-05-13T17:52:11.873000Z",
     "iopub.status.busy": "2025-05-13T17:52:11.872580Z",
     "iopub.status.idle": "2025-05-13T17:52:11.913040Z",
     "shell.execute_reply": "2025-05-13T17:52:11.911817Z"
    },
    "papermill": {
     "duration": 0.278485,
     "end_time": "2025-05-13T17:52:11.915093",
     "exception": false,
     "start_time": "2025-05-13T17:52:11.636608",
     "status": "completed"
    },
    "tags": []
   },
   "outputs": [
    {
     "data": {
      "text/plain": [
       "'Insertion de 13 enrégistrements réussie'"
      ]
     },
     "execution_count": 31,
     "metadata": {},
     "output_type": "execute_result"
    }
   ],
   "source": [
    "assert df_dmm_curent.date_report.unique().shape[0] == 1\n",
    "\n",
    "stock_sync_manager.insert_dataframe_to_table(df_dmm_curent, \"stock_track_dmm\")"
   ]
  },
  {
   "cell_type": "markdown",
   "id": "1bf275e1-f2ea-4d6d-8205-713e903663d0",
   "metadata": {
    "papermill": {
     "duration": 0.220514,
     "end_time": "2025-05-13T17:52:12.339789",
     "exception": false,
     "start_time": "2025-05-13T17:52:12.119275",
     "status": "completed"
    },
    "tags": []
   },
   "source": [
    "### 2.2.`Distributions hitoriques considérées pour le mois en cours`"
   ]
  },
  {
   "cell_type": "code",
   "execution_count": 32,
   "id": "4b89b9f1-3f48-4e83-9c2f-43b49edfeb78",
   "metadata": {
    "execution": {
     "iopub.execute_input": "2025-05-13T17:52:13.486548Z",
     "iopub.status.busy": "2025-05-13T17:52:13.485785Z",
     "iopub.status.idle": "2025-05-13T17:52:13.501887Z",
     "shell.execute_reply": "2025-05-13T17:52:13.500706Z"
    },
    "papermill": {
     "duration": 0.222051,
     "end_time": "2025-05-13T17:52:13.503779",
     "exception": false,
     "start_time": "2025-05-13T17:52:13.281728",
     "status": "completed"
    },
    "tags": []
   },
   "outputs": [],
   "source": [
    "id_list = list(map(int, df_dmm_histo.id_dim_produit_stock_track_fk.unique()))\n",
    "placeholders = \", \".join([\"%s\"] * len(id_list))\n",
    "\n",
    "query = f\"\"\"\n",
    "DELETE FROM {schema_name}.stock_track_dmm_histo\n",
    "WHERE date_report = %s AND id_dim_produit_stock_track_fk IN ({placeholders});\n",
    "\"\"\"\n",
    "\n",
    "stock_sync_manager.civ_cursor.execute(query, [date_report] + list(id_list))\n",
    "stock_sync_manager.conn.commit()"
   ]
  },
  {
   "cell_type": "code",
   "execution_count": 33,
   "id": "8ea960f0-b89f-4b63-ae20-4ebb25009608",
   "metadata": {
    "execution": {
     "iopub.execute_input": "2025-05-13T17:52:17.457964Z",
     "iopub.status.busy": "2025-05-13T17:52:17.457534Z",
     "iopub.status.idle": "2025-05-13T17:52:17.504226Z",
     "shell.execute_reply": "2025-05-13T17:52:17.503320Z"
    },
    "papermill": {
     "duration": 0.694561,
     "end_time": "2025-05-13T17:52:17.506024",
     "exception": false,
     "start_time": "2025-05-13T17:52:16.811463",
     "status": "completed"
    },
    "tags": []
   },
   "outputs": [
    {
     "data": {
      "text/plain": [
       "'Insertion de 78 enrégistrements réussie'"
      ]
     },
     "execution_count": 33,
     "metadata": {},
     "output_type": "execute_result"
    }
   ],
   "source": [
    "assert df_dmm_histo.date_report.unique().shape[0] == 1\n",
    "\n",
    "stock_sync_manager.insert_dataframe_to_table(df_dmm_histo, \"stock_track_dmm_histo\")"
   ]
  },
  {
   "cell_type": "markdown",
   "id": "e131d312-d116-4302-98e5-c568b1e2e2a7",
   "metadata": {
    "papermill": {
     "duration": 0.195366,
     "end_time": "2025-05-13T17:52:17.920644",
     "exception": false,
     "start_time": "2025-05-13T17:52:17.725278",
     "status": "completed"
    },
    "tags": []
   },
   "source": [
    "## 3.`Consommations`"
   ]
  },
  {
   "cell_type": "markdown",
   "id": "705086d0-c23a-4856-bc5b-cd1ca88b99af",
   "metadata": {
    "papermill": {
     "duration": 0.183006,
     "end_time": "2025-05-13T17:52:18.302757",
     "exception": false,
     "start_time": "2025-05-13T17:52:18.119751",
     "status": "completed"
    },
    "tags": []
   },
   "source": [
    "### 3.1. `Consommations mois courant`"
   ]
  },
  {
   "cell_type": "code",
   "execution_count": 34,
   "id": "2e0f6f54-86c1-4583-bb9a-a15dbd160f12",
   "metadata": {
    "execution": {
     "iopub.execute_input": "2025-05-13T17:52:19.818937Z",
     "iopub.status.busy": "2025-05-13T17:52:19.818538Z",
     "iopub.status.idle": "2025-05-13T17:52:19.834483Z",
     "shell.execute_reply": "2025-05-13T17:52:19.833346Z"
    },
    "papermill": {
     "duration": 1.311652,
     "end_time": "2025-05-13T17:52:19.836412",
     "exception": false,
     "start_time": "2025-05-13T17:52:18.524760",
     "status": "completed"
    },
    "tags": []
   },
   "outputs": [],
   "source": [
    "id_list = list(map(int, df_cmm_curent.id_dim_produit_stock_track_fk.unique()))\n",
    "placeholders = \", \".join([\"%s\"] * len(id_list))\n",
    "\n",
    "query = f\"\"\"\n",
    "DELETE FROM {schema_name}.stock_track_cmm\n",
    "WHERE date_report = %s AND id_dim_produit_stock_track_fk IN ({placeholders});\n",
    "\"\"\"\n",
    "\n",
    "stock_sync_manager.civ_cursor.execute(query, [date_report] + list(id_list))\n",
    "stock_sync_manager.conn.commit()"
   ]
  },
  {
   "cell_type": "code",
   "execution_count": 35,
   "id": "42f04db9-4a08-4a21-a68e-5adf91cd5550",
   "metadata": {
    "execution": {
     "iopub.execute_input": "2025-05-13T17:52:20.729929Z",
     "iopub.status.busy": "2025-05-13T17:52:20.729489Z",
     "iopub.status.idle": "2025-05-13T17:52:20.777435Z",
     "shell.execute_reply": "2025-05-13T17:52:20.776328Z"
    },
    "papermill": {
     "duration": 0.282119,
     "end_time": "2025-05-13T17:52:20.779802",
     "exception": false,
     "start_time": "2025-05-13T17:52:20.497683",
     "status": "completed"
    },
    "tags": []
   },
   "outputs": [
    {
     "data": {
      "text/plain": [
       "'Insertion de 13 enrégistrements réussie'"
      ]
     },
     "execution_count": 35,
     "metadata": {},
     "output_type": "execute_result"
    }
   ],
   "source": [
    "assert df_cmm_curent.date_report.unique().shape[0] == 1\n",
    "\n",
    "stock_sync_manager.insert_dataframe_to_table(df_cmm_curent, \"stock_track_cmm\")"
   ]
  },
  {
   "cell_type": "markdown",
   "id": "17810bb8-a058-442e-b3ff-e6e15d22e308",
   "metadata": {
    "papermill": {
     "duration": 10.19526,
     "end_time": "2025-05-13T17:52:32.858216",
     "exception": false,
     "start_time": "2025-05-13T17:52:22.662956",
     "status": "completed"
    },
    "tags": []
   },
   "source": [
    "### 3.2.`Consommations hitoriques considérées pour le mois en cours`"
   ]
  },
  {
   "cell_type": "code",
   "execution_count": 36,
   "id": "6620b4be-6236-48cb-ac47-ab56e9970189",
   "metadata": {
    "execution": {
     "iopub.execute_input": "2025-05-13T17:52:33.317354Z",
     "iopub.status.busy": "2025-05-13T17:52:33.316322Z",
     "iopub.status.idle": "2025-05-13T17:52:33.338423Z",
     "shell.execute_reply": "2025-05-13T17:52:33.337380Z"
    },
    "papermill": {
     "duration": 0.247952,
     "end_time": "2025-05-13T17:52:33.339993",
     "exception": false,
     "start_time": "2025-05-13T17:52:33.092041",
     "status": "completed"
    },
    "tags": []
   },
   "outputs": [],
   "source": [
    "id_list = list(map(int, df_cmm_histo.id_dim_produit_stock_track_fk.unique()))\n",
    "placeholders = \", \".join([\"%s\"] * len(id_list))\n",
    "\n",
    "query = f\"\"\"\n",
    "DELETE FROM {schema_name}.stock_track_cmm_histo\n",
    "WHERE date_report = %s AND id_dim_produit_stock_track_fk IN ({placeholders});\n",
    "\"\"\"\n",
    "\n",
    "stock_sync_manager.civ_cursor.execute(query, [date_report] + list(id_list))\n",
    "stock_sync_manager.conn.commit()"
   ]
  },
  {
   "cell_type": "code",
   "execution_count": 37,
   "id": "c259b171-ca49-4521-9228-885b23fd4b6c",
   "metadata": {
    "execution": {
     "iopub.execute_input": "2025-05-13T17:52:33.741378Z",
     "iopub.status.busy": "2025-05-13T17:52:33.740550Z",
     "iopub.status.idle": "2025-05-13T17:52:33.801691Z",
     "shell.execute_reply": "2025-05-13T17:52:33.800530Z"
    },
    "papermill": {
     "duration": 0.258594,
     "end_time": "2025-05-13T17:52:33.803688",
     "exception": false,
     "start_time": "2025-05-13T17:52:33.545094",
     "status": "completed"
    },
    "tags": []
   },
   "outputs": [
    {
     "data": {
      "text/plain": [
       "'Insertion de 78 enrégistrements réussie'"
      ]
     },
     "execution_count": 37,
     "metadata": {},
     "output_type": "execute_result"
    }
   ],
   "source": [
    "assert df_dmm_histo.date_report.unique().shape[0] == 1\n",
    "\n",
    "stock_sync_manager.insert_dataframe_to_table(df_cmm_histo, \"stock_track_cmm_histo\")"
   ]
  },
  {
   "cell_type": "markdown",
   "id": "0c75f908-6510-42b7-9e4e-9d11f2a3caff",
   "metadata": {
    "papermill": {
     "duration": 0.841249,
     "end_time": "2025-05-13T17:52:34.826708",
     "exception": false,
     "start_time": "2025-05-13T17:52:33.985459",
     "status": "completed"
    },
    "tags": []
   },
   "source": [
    "## 4.`Stock détaillé`"
   ]
  },
  {
   "cell_type": "code",
   "execution_count": 38,
   "id": "0b0b73f7-3add-486f-9dd3-e3d900aba61d",
   "metadata": {
    "execution": {
     "iopub.execute_input": "2025-05-13T17:52:40.791057Z",
     "iopub.status.busy": "2025-05-13T17:52:40.790713Z",
     "iopub.status.idle": "2025-05-13T17:52:40.805624Z",
     "shell.execute_reply": "2025-05-13T17:52:40.804536Z"
    },
    "papermill": {
     "duration": 0.280916,
     "end_time": "2025-05-13T17:52:40.807480",
     "exception": false,
     "start_time": "2025-05-13T17:52:40.526564",
     "status": "completed"
    },
    "tags": []
   },
   "outputs": [],
   "source": [
    "dim_produit = pd.read_sql(\n",
    "    f\"SELECT * FROM {schema_name}.dim_produit_stock_track where programme='{programme}'\",\n",
    "    stock_sync_manager.civ_engine,\n",
    ")"
   ]
  },
  {
   "cell_type": "code",
   "execution_count": 39,
   "id": "c876a5cd-de28-494a-9e81-88fd9de9024f",
   "metadata": {
    "execution": {
     "iopub.execute_input": "2025-05-13T17:52:41.203000Z",
     "iopub.status.busy": "2025-05-13T17:52:41.202630Z",
     "iopub.status.idle": "2025-05-13T17:52:41.221510Z",
     "shell.execute_reply": "2025-05-13T17:52:41.220476Z"
    },
    "papermill": {
     "duration": 0.216411,
     "end_time": "2025-05-13T17:52:41.223364",
     "exception": false,
     "start_time": "2025-05-13T17:52:41.006953",
     "status": "completed"
    },
    "tags": []
   },
   "outputs": [
    {
     "data": {
      "text/html": [
       "<div>\n",
       "<style scoped>\n",
       "    .dataframe tbody tr th:only-of-type {\n",
       "        vertical-align: middle;\n",
       "    }\n",
       "\n",
       "    .dataframe tbody tr th {\n",
       "        vertical-align: top;\n",
       "    }\n",
       "\n",
       "    .dataframe thead th {\n",
       "        text-align: right;\n",
       "    }\n",
       "</style>\n",
       "<table border=\"1\" class=\"dataframe\">\n",
       "  <thead>\n",
       "    <tr style=\"text-align: right;\">\n",
       "      <th></th>\n",
       "      <th>code_produit</th>\n",
       "      <th>designation_produit</th>\n",
       "      <th>emplacement</th>\n",
       "      <th>date_limite_consommation</th>\n",
       "      <th>numero_lot</th>\n",
       "      <th>sous_lot_programme</th>\n",
       "      <th>qte_physique</th>\n",
       "      <th>qte_livrable</th>\n",
       "      <th>unit</th>\n",
       "    </tr>\n",
       "  </thead>\n",
       "  <tbody>\n",
       "    <tr>\n",
       "      <th>0</th>\n",
       "      <td>3230037</td>\n",
       "      <td>LAIT THERAPEUTIQUE F-75 400G BTE/1</td>\n",
       "      <td>01A01A01</td>\n",
       "      <td>2025-12-31</td>\n",
       "      <td>74053</td>\n",
       "      <td>PNN</td>\n",
       "      <td>24</td>\n",
       "      <td>0</td>\n",
       "      <td>BTE</td>\n",
       "    </tr>\n",
       "  </tbody>\n",
       "</table>\n",
       "</div>"
      ],
      "text/plain": [
       "   code_produit                 designation_produit emplacement  \\\n",
       "0       3230037  LAIT THERAPEUTIQUE F-75 400G BTE/1    01A01A01   \n",
       "\n",
       "  date_limite_consommation numero_lot sous_lot_programme  qte_physique  \\\n",
       "0               2025-12-31      74053                PNN            24   \n",
       "\n",
       "   qte_livrable unit  \n",
       "0             0  BTE  "
      ]
     },
     "execution_count": 39,
     "metadata": {},
     "output_type": "execute_result"
    }
   ],
   "source": [
    "code_col = [col for col in df_stock_detaille.columns if \"CODE\" in str(col).upper()][0]\n",
    "\n",
    "df_stock_detaille.rename(\n",
    "    columns={\n",
    "        code_col: \"code_produit\",\n",
    "        \"Désignation\": \"designation_produit\",\n",
    "        \"Emplacement\": \"emplacement\",\n",
    "        \"Date limite de consommation\": \"date_limite_consommation\",\n",
    "        \"Numéro Lot\": \"numero_lot\",\n",
    "        \"Sous lot (Programme)\": \"sous_lot_programme\",\n",
    "        \"Qté \\nPhysique\": \"qte_physique\",\n",
    "        \"Qté \\nlivrable\": \"qte_livrable\",\n",
    "        \"Unit\": \"unit\",\n",
    "    },\n",
    "    inplace=True,\n",
    ")\n",
    "df_stock_detaille = df_stock_detaille[\n",
    "    [\n",
    "        \"code_produit\",\n",
    "        \"designation_produit\",\n",
    "        \"emplacement\",\n",
    "        \"date_limite_consommation\",\n",
    "        \"numero_lot\",\n",
    "        \"sous_lot_programme\",\n",
    "        \"qte_physique\",\n",
    "        \"qte_livrable\",\n",
    "        \"unit\",\n",
    "    ]\n",
    "]\n",
    "\n",
    "df_stock_detaille = df_stock_detaille.loc[\n",
    "    df_stock_detaille.code_produit.isin(dim_produit.code_produit)\n",
    "]\n",
    "df_stock_detaille.head(1)"
   ]
  },
  {
   "cell_type": "code",
   "execution_count": 40,
   "id": "c374989e-2d57-4ce8-8ea6-bb101672241e",
   "metadata": {
    "execution": {
     "iopub.execute_input": "2025-05-13T17:52:42.049724Z",
     "iopub.status.busy": "2025-05-13T17:52:42.049274Z",
     "iopub.status.idle": "2025-05-13T17:52:42.068758Z",
     "shell.execute_reply": "2025-05-13T17:52:42.067571Z"
    },
    "papermill": {
     "duration": 0.5601,
     "end_time": "2025-05-13T17:52:42.070626",
     "exception": false,
     "start_time": "2025-05-13T17:52:41.510526",
     "status": "completed"
    },
    "tags": []
   },
   "outputs": [],
   "source": [
    "df_stock_detaille = (\n",
    "    df_stock_detaille.groupby([\"code_produit\", \"date_limite_consommation\"])[\n",
    "        [\"qte_physique\", \"qte_livrable\"]\n",
    "    ]\n",
    "    .sum(min_count=1)\n",
    "    .reset_index()\n",
    ")\n",
    "\n",
    "df_stock_detaille = (\n",
    "    dim_produit[[\"id_dim_produit_stock_track_pk\", \"code_produit\"]]\n",
    "    .merge(df_stock_detaille, on=\"code_produit\")\n",
    "    .rename(columns={\"id_dim_produit_stock_track_pk\": \"id_dim_produit_stock_track_fk\"})\n",
    "    .drop(columns=[\"code_produit\"])\n",
    ")\n",
    "\n",
    "df_stock_detaille[\"date_report\"] = pd.to_datetime(date_report)"
   ]
  },
  {
   "cell_type": "code",
   "execution_count": 41,
   "id": "8c4a6d98-e14d-4742-a91e-0a40ec701ee5",
   "metadata": {
    "execution": {
     "iopub.execute_input": "2025-05-13T17:52:46.170784Z",
     "iopub.status.busy": "2025-05-13T17:52:46.169644Z",
     "iopub.status.idle": "2025-05-13T17:52:46.185102Z",
     "shell.execute_reply": "2025-05-13T17:52:46.183959Z"
    },
    "papermill": {
     "duration": 3.918598,
     "end_time": "2025-05-13T17:52:46.187085",
     "exception": false,
     "start_time": "2025-05-13T17:52:42.268487",
     "status": "completed"
    },
    "tags": []
   },
   "outputs": [],
   "source": [
    "id_list = list(map(int, df_stock_detaille.id_dim_produit_stock_track_fk.unique()))\n",
    "placeholders = \", \".join([\"%s\"] * len(id_list))\n",
    "\n",
    "query = f\"\"\"\n",
    "DELETE FROM {schema_name}.stock_track_detaille\n",
    "WHERE date_report = '{date_report}' AND id_dim_produit_stock_track_fk IN ({placeholders});\n",
    "\"\"\"\n",
    "\n",
    "stock_sync_manager.civ_cursor.execute(query, list(id_list))\n",
    "stock_sync_manager.conn.commit()"
   ]
  },
  {
   "cell_type": "code",
   "execution_count": 42,
   "id": "8f616ee2-8704-4eb2-a182-c65499a3b1dc",
   "metadata": {
    "execution": {
     "iopub.execute_input": "2025-05-13T17:52:47.756350Z",
     "iopub.status.busy": "2025-05-13T17:52:47.755398Z",
     "iopub.status.idle": "2025-05-13T17:52:47.799865Z",
     "shell.execute_reply": "2025-05-13T17:52:47.798626Z"
    },
    "papermill": {
     "duration": 0.244185,
     "end_time": "2025-05-13T17:52:47.801840",
     "exception": false,
     "start_time": "2025-05-13T17:52:47.557655",
     "status": "completed"
    },
    "tags": []
   },
   "outputs": [],
   "source": [
    "stock_sync_manager.insert_dataframe_to_table(df_stock_detaille, \"stock_track_detaille\")\n",
    "\n",
    "del df_stock_detaille"
   ]
  },
  {
   "cell_type": "markdown",
   "id": "fdec6090-24db-40ec-920d-854de310e532",
   "metadata": {
    "papermill": {
     "duration": 0.180587,
     "end_time": "2025-05-13T17:52:48.186043",
     "exception": false,
     "start_time": "2025-05-13T17:52:48.005456",
     "status": "completed"
    },
    "tags": []
   },
   "source": [
    "## 5. `Etat de stock de la NPSP`"
   ]
  },
  {
   "cell_type": "code",
   "execution_count": 43,
   "id": "89d9ea73-f635-42f3-8364-d8205843044e",
   "metadata": {
    "execution": {
     "iopub.execute_input": "2025-05-13T17:52:52.889385Z",
     "iopub.status.busy": "2025-05-13T17:52:52.888037Z",
     "iopub.status.idle": "2025-05-13T17:52:52.900789Z",
     "shell.execute_reply": "2025-05-13T17:52:52.899354Z"
    },
    "papermill": {
     "duration": 0.291804,
     "end_time": "2025-05-13T17:52:52.903048",
     "exception": false,
     "start_time": "2025-05-13T17:52:52.611244",
     "status": "completed"
    },
    "tags": []
   },
   "outputs": [],
   "source": [
    "query = f\"\"\"\n",
    "DELETE FROM {schema_name}.stock_track_npsp\n",
    "WHERE date_report = '{date_report}' and programme='{programme}';\n",
    "\"\"\"\n",
    "\n",
    "stock_sync_manager.civ_cursor.execute(query)\n",
    "stock_sync_manager.conn.commit()"
   ]
  },
  {
   "cell_type": "code",
   "execution_count": 44,
   "id": "fa060ab4-6bd8-44cd-bea2-8bbf1178782a",
   "metadata": {
    "execution": {
     "iopub.execute_input": "2025-05-13T17:52:54.605987Z",
     "iopub.status.busy": "2025-05-13T17:52:54.605623Z",
     "iopub.status.idle": "2025-05-13T17:52:54.653437Z",
     "shell.execute_reply": "2025-05-13T17:52:54.652273Z"
    },
    "papermill": {
     "duration": 1.1151,
     "end_time": "2025-05-13T17:52:54.655458",
     "exception": false,
     "start_time": "2025-05-13T17:52:53.540358",
     "status": "completed"
    },
    "tags": []
   },
   "outputs": [
    {
     "data": {
      "text/plain": [
       "'Insertion de 20 enrégistrements réussie'"
      ]
     },
     "execution_count": 44,
     "metadata": {},
     "output_type": "execute_result"
    }
   ],
   "source": [
    "stock_sync_manager.insert_dataframe_to_table(\n",
    "    df_etat_stock_npsp, table_name=\"stock_track_npsp\", schema_name=\"suivi_stock\"\n",
    ")"
   ]
  },
  {
   "cell_type": "markdown",
   "id": "e36a108a-15d9-4256-ad6e-a62fcd2933eb",
   "metadata": {
    "papermill": {
     "duration": 0.210851,
     "end_time": "2025-05-13T17:52:59.193444",
     "exception": false,
     "start_time": "2025-05-13T17:52:58.982593",
     "status": "completed"
    },
    "tags": []
   },
   "source": [
    "## 6.`Prévision`\n",
    "<div class=\"alert alert-block alert-warning\">\n",
    "Avant de procéder au calcul des éléments de prévision, il est essentiel de s’assurer que les informations produits sont à jour.\n",
    "Cette actualisation doit être effectuée à l’aide du fichier de mapping fourni en paramètre du pipeline.\n",
    "Ce fichier joue un rôle clé : il établit la correspondance entre les différentes sources de données, garantissant ainsi la cohérence et la fiabilité des informations utilisées pour les prévisions.\n",
    "\n",
    "</div>"
   ]
  },
  {
   "cell_type": "code",
   "execution_count": 45,
   "id": "1233e266-9e64-4468-b0e8-0a8997a922d8",
   "metadata": {
    "execution": {
     "iopub.execute_input": "2025-05-13T17:52:59.628545Z",
     "iopub.status.busy": "2025-05-13T17:52:59.628106Z",
     "iopub.status.idle": "2025-05-13T17:52:59.653652Z",
     "shell.execute_reply": "2025-05-13T17:52:59.652419Z"
    },
    "papermill": {
     "duration": 0.221911,
     "end_time": "2025-05-13T17:52:59.655774",
     "exception": false,
     "start_time": "2025-05-13T17:52:59.433863",
     "status": "completed"
    },
    "tags": []
   },
   "outputs": [
    {
     "data": {
      "text/plain": [
       "'Aucune mise à jour des données à effectuer sur la table dim_produit'"
      ]
     },
     "execution_count": 45,
     "metadata": {},
     "output_type": "execute_result"
    }
   ],
   "source": [
    "stock_sync_manager.synchronize_product_metadata(df_plan_approv.copy(), programme)"
   ]
  },
  {
   "cell_type": "code",
   "execution_count": 46,
   "id": "5951635c-2b33-4f6c-8ea0-713e2b7c8501",
   "metadata": {
    "execution": {
     "iopub.execute_input": "2025-05-13T17:53:00.091519Z",
     "iopub.status.busy": "2025-05-13T17:53:00.090101Z",
     "iopub.status.idle": "2025-05-13T17:53:00.098762Z",
     "shell.execute_reply": "2025-05-13T17:53:00.097600Z"
    },
    "papermill": {
     "duration": 0.255542,
     "end_time": "2025-05-13T17:53:00.100649",
     "exception": false,
     "start_time": "2025-05-13T17:52:59.845107",
     "status": "completed"
    },
    "tags": []
   },
   "outputs": [],
   "source": [
    "df_plan_approv['Date updated'] = df_plan_approv['DATE'].apply(lambda x: x.strftime(\"%b-%Y\"))"
   ]
  },
  {
   "cell_type": "code",
   "execution_count": 47,
   "id": "df8760ec-9a46-4a8f-838a-fb757d50b3d1",
   "metadata": {
    "execution": {
     "iopub.execute_input": "2025-05-13T17:53:00.499818Z",
     "iopub.status.busy": "2025-05-13T17:53:00.499240Z",
     "iopub.status.idle": "2025-05-13T17:53:01.549578Z",
     "shell.execute_reply": "2025-05-13T17:53:01.548399Z"
    },
    "papermill": {
     "duration": 1.248261,
     "end_time": "2025-05-13T17:53:01.551816",
     "exception": false,
     "start_time": "2025-05-13T17:53:00.303555",
     "status": "completed"
    },
    "tags": []
   },
   "outputs": [
    {
     "data": {
      "text/html": [
       "<div>\n",
       "<style scoped>\n",
       "    .dataframe tbody tr th:only-of-type {\n",
       "        vertical-align: middle;\n",
       "    }\n",
       "\n",
       "    .dataframe tbody tr th {\n",
       "        vertical-align: top;\n",
       "    }\n",
       "\n",
       "    .dataframe thead th {\n",
       "        text-align: right;\n",
       "    }\n",
       "</style>\n",
       "<table border=\"1\" class=\"dataframe\">\n",
       "  <thead>\n",
       "    <tr style=\"text-align: right;\">\n",
       "      <th></th>\n",
       "      <th>id_dim_produit_stock_track_fk</th>\n",
       "      <th>code_produit</th>\n",
       "      <th>ancien_code</th>\n",
       "      <th>stock_central</th>\n",
       "      <th>dmm_central</th>\n",
       "      <th>stock_national</th>\n",
       "      <th>cmm_national</th>\n",
       "      <th>stock_prev_central</th>\n",
       "      <th>stock_prev_national</th>\n",
       "      <th>period_prev</th>\n",
       "      <th>date_report</th>\n",
       "    </tr>\n",
       "  </thead>\n",
       "  <tbody>\n",
       "    <tr>\n",
       "      <th>0</th>\n",
       "      <td>380</td>\n",
       "      <td>3050002</td>\n",
       "      <td>AE02080</td>\n",
       "      <td>0.0</td>\n",
       "      <td>83.333336</td>\n",
       "      <td>54156.0</td>\n",
       "      <td>104054.0</td>\n",
       "      <td>0</td>\n",
       "      <td>1</td>\n",
       "      <td>2025-03-01</td>\n",
       "      <td>2025-03-01</td>\n",
       "    </tr>\n",
       "    <tr>\n",
       "      <th>1</th>\n",
       "      <td>380</td>\n",
       "      <td>3050002</td>\n",
       "      <td>AE02080</td>\n",
       "      <td>NaN</td>\n",
       "      <td>NaN</td>\n",
       "      <td>NaN</td>\n",
       "      <td>NaN</td>\n",
       "      <td>0</td>\n",
       "      <td>0</td>\n",
       "      <td>2025-04-01</td>\n",
       "      <td>2025-03-01</td>\n",
       "    </tr>\n",
       "    <tr>\n",
       "      <th>2</th>\n",
       "      <td>380</td>\n",
       "      <td>3050002</td>\n",
       "      <td>AE02080</td>\n",
       "      <td>NaN</td>\n",
       "      <td>NaN</td>\n",
       "      <td>NaN</td>\n",
       "      <td>NaN</td>\n",
       "      <td>263</td>\n",
       "      <td>0</td>\n",
       "      <td>2025-05-01</td>\n",
       "      <td>2025-03-01</td>\n",
       "    </tr>\n",
       "  </tbody>\n",
       "</table>\n",
       "</div>"
      ],
      "text/plain": [
       "   id_dim_produit_stock_track_fk  code_produit ancien_code  stock_central  \\\n",
       "0                            380       3050002     AE02080            0.0   \n",
       "1                            380       3050002     AE02080            NaN   \n",
       "2                            380       3050002     AE02080            NaN   \n",
       "\n",
       "   dmm_central  stock_national  cmm_national stock_prev_central  \\\n",
       "0    83.333336         54156.0      104054.0                  0   \n",
       "1          NaN             NaN           NaN                  0   \n",
       "2          NaN             NaN           NaN                263   \n",
       "\n",
       "  stock_prev_national period_prev date_report  \n",
       "0                   1  2025-03-01  2025-03-01  \n",
       "1                   0  2025-04-01  2025-03-01  \n",
       "2                   0  2025-05-01  2025-03-01  "
      ]
     },
     "metadata": {},
     "output_type": "display_data"
    }
   ],
   "source": [
    "df_prevision = compute_indicators.prevision.get_prevision_current_month(\n",
    "    df_plan_approv.copy(),\n",
    "    date_report,\n",
    "    programme,\n",
    "    stock_sync_manager.civ_engine,\n",
    "    schema_name=\"suivi_stock\",\n",
    ")"
   ]
  },
  {
   "cell_type": "code",
   "execution_count": 48,
   "id": "6b5134dd-8cbc-4f9b-8671-af020adbb5cc",
   "metadata": {
    "execution": {
     "iopub.execute_input": "2025-05-13T17:53:07.678815Z",
     "iopub.status.busy": "2025-05-13T17:53:07.677759Z",
     "iopub.status.idle": "2025-05-13T17:53:07.694097Z",
     "shell.execute_reply": "2025-05-13T17:53:07.693081Z"
    },
    "papermill": {
     "duration": 5.859473,
     "end_time": "2025-05-13T17:53:07.696038",
     "exception": false,
     "start_time": "2025-05-13T17:53:01.836565",
     "status": "completed"
    },
    "tags": []
   },
   "outputs": [],
   "source": [
    "id_list = list(map(int, df_prevision.id_dim_produit_stock_track_fk.unique()))\n",
    "placeholders = \", \".join([\"%s\"] * len(id_list))\n",
    "\n",
    "query = f\"\"\"\n",
    "DELETE FROM {schema_name}.stock_track_prevision\n",
    "WHERE date_report = %s AND id_dim_produit_stock_track_fk IN ({placeholders});\n",
    "\"\"\"\n",
    "stock_sync_manager.civ_cursor.execute(query, [date_report] + list(id_list))\n",
    "stock_sync_manager.conn.commit()"
   ]
  },
  {
   "cell_type": "code",
   "execution_count": 49,
   "id": "b2cba3cf-54d4-40a9-81e4-db8ffc8af896",
   "metadata": {
    "execution": {
     "iopub.execute_input": "2025-05-13T17:53:08.137674Z",
     "iopub.status.busy": "2025-05-13T17:53:08.137170Z",
     "iopub.status.idle": "2025-05-13T17:53:08.250225Z",
     "shell.execute_reply": "2025-05-13T17:53:08.248785Z"
    },
    "papermill": {
     "duration": 0.324124,
     "end_time": "2025-05-13T17:53:08.251994",
     "exception": false,
     "start_time": "2025-05-13T17:53:07.927870",
     "status": "completed"
    },
    "tags": []
   },
   "outputs": [
    {
     "data": {
      "text/plain": [
       "'Insertion de 169 enrégistrements réussie'"
      ]
     },
     "execution_count": 49,
     "metadata": {},
     "output_type": "execute_result"
    }
   ],
   "source": [
    "stock_sync_manager.insert_dataframe_to_table(\n",
    "    df_prevision.drop(columns=[\"code_produit\", \"ancien_code\"]), \"stock_track_prevision\"\n",
    ")"
   ]
  },
  {
   "cell_type": "markdown",
   "id": "beed3506-66a5-4678-a064-cd62f6bd461c",
   "metadata": {
    "papermill": {
     "duration": 2.317615,
     "end_time": "2025-05-13T17:53:10.786086",
     "exception": false,
     "start_time": "2025-05-13T17:53:08.468471",
     "status": "completed"
    },
    "tags": []
   },
   "source": [
    "## 7.`Plan d'approvisionnement`"
   ]
  },
  {
   "cell_type": "code",
   "execution_count": 50,
   "id": "915dd339-4537-4fdd-b9f2-f3f52bc7db68",
   "metadata": {
    "execution": {
     "iopub.execute_input": "2025-05-13T17:53:14.768481Z",
     "iopub.status.busy": "2025-05-13T17:53:14.767956Z",
     "iopub.status.idle": "2025-05-13T17:53:14.792621Z",
     "shell.execute_reply": "2025-05-13T17:53:14.791372Z"
    },
    "papermill": {
     "duration": 3.799886,
     "end_time": "2025-05-13T17:53:14.794655",
     "exception": false,
     "start_time": "2025-05-13T17:53:10.994769",
     "status": "completed"
    },
    "tags": []
   },
   "outputs": [],
   "source": [
    "query = f\"\"\"\n",
    "DELETE FROM {schema_name}.plan_approv\n",
    "WHERE date_report = '{date_report}' and programme='{programme}'\n",
    "\"\"\"\n",
    "stock_sync_manager.civ_cursor.execute(query)\n",
    "stock_sync_manager.conn.commit()"
   ]
  },
  {
   "cell_type": "code",
   "execution_count": 51,
   "id": "8f6561dd-eac8-4500-bb97-c7cde0e0fdeb",
   "metadata": {
    "execution": {
     "iopub.execute_input": "2025-05-13T17:53:23.660376Z",
     "iopub.status.busy": "2025-05-13T17:53:23.659078Z",
     "iopub.status.idle": "2025-05-13T17:53:23.682393Z",
     "shell.execute_reply": "2025-05-13T17:53:23.681145Z"
    },
    "papermill": {
     "duration": 0.202081,
     "end_time": "2025-05-13T17:53:23.683915",
     "exception": false,
     "start_time": "2025-05-13T17:53:23.481834",
     "status": "completed"
    },
    "tags": []
   },
   "outputs": [
    {
     "data": {
      "text/html": [
       "<div>\n",
       "<style scoped>\n",
       "    .dataframe tbody tr th:only-of-type {\n",
       "        vertical-align: middle;\n",
       "    }\n",
       "\n",
       "    .dataframe tbody tr th {\n",
       "        vertical-align: top;\n",
       "    }\n",
       "\n",
       "    .dataframe thead th {\n",
       "        text-align: right;\n",
       "    }\n",
       "</style>\n",
       "<table border=\"1\" class=\"dataframe\">\n",
       "  <thead>\n",
       "    <tr style=\"text-align: right;\">\n",
       "      <th></th>\n",
       "      <th>standard_product_code</th>\n",
       "      <th>id_produit_qat</th>\n",
       "      <th>designation</th>\n",
       "      <th>id_envoi_qat</th>\n",
       "      <th>centrale_achat</th>\n",
       "      <th>source_financement</th>\n",
       "      <th>status</th>\n",
       "      <th>quantite</th>\n",
       "      <th>facteur_conversion_qat_vers_sage</th>\n",
       "      <th>quantite_harmonisee_sage</th>\n",
       "      <th>date</th>\n",
       "      <th>cout_produits</th>\n",
       "      <th>cout_fret</th>\n",
       "      <th>cout_total</th>\n",
       "      <th>date_report</th>\n",
       "      <th>programme</th>\n",
       "    </tr>\n",
       "  </thead>\n",
       "  <tbody>\n",
       "    <tr>\n",
       "      <th>0</th>\n",
       "      <td>3050002</td>\n",
       "      <td>1144</td>\n",
       "      <td>Albendazole 400 mg Chewable Tablet  100 Tablets</td>\n",
       "      <td>161753</td>\n",
       "      <td>TBD</td>\n",
       "      <td>TBD</td>\n",
       "      <td>Planifié</td>\n",
       "      <td>21900.0</td>\n",
       "      <td>1</td>\n",
       "      <td>21900.0</td>\n",
       "      <td>2025-05-31</td>\n",
       "      <td>153300.0</td>\n",
       "      <td>15330.0</td>\n",
       "      <td>168630.0</td>\n",
       "      <td>2025-03-01</td>\n",
       "      <td>PNN</td>\n",
       "    </tr>\n",
       "    <tr>\n",
       "      <th>1</th>\n",
       "      <td>3230040</td>\n",
       "      <td>5190</td>\n",
       "      <td>Ready-to-Use Therapeutic Food (RUTF) 92 g Past...</td>\n",
       "      <td>161758</td>\n",
       "      <td>TBD</td>\n",
       "      <td>WB</td>\n",
       "      <td>Planifié</td>\n",
       "      <td>15000.0</td>\n",
       "      <td>1</td>\n",
       "      <td>15000.0</td>\n",
       "      <td>2025-07-31</td>\n",
       "      <td>606300.0</td>\n",
       "      <td>60630.0</td>\n",
       "      <td>666930.0</td>\n",
       "      <td>2025-03-01</td>\n",
       "      <td>PNN</td>\n",
       "    </tr>\n",
       "  </tbody>\n",
       "</table>\n",
       "</div>"
      ],
      "text/plain": [
       "   standard_product_code  id_produit_qat  \\\n",
       "0                3050002            1144   \n",
       "1                3230040            5190   \n",
       "\n",
       "                                         designation  id_envoi_qat  \\\n",
       "0    Albendazole 400 mg Chewable Tablet  100 Tablets        161753   \n",
       "1  Ready-to-Use Therapeutic Food (RUTF) 92 g Past...        161758   \n",
       "\n",
       "  centrale_achat source_financement    status  quantite  \\\n",
       "0            TBD                TBD  Planifié   21900.0   \n",
       "1            TBD                 WB  Planifié   15000.0   \n",
       "\n",
       "   facteur_conversion_qat_vers_sage  quantite_harmonisee_sage       date  \\\n",
       "0                                 1                   21900.0 2025-05-31   \n",
       "1                                 1                   15000.0 2025-07-31   \n",
       "\n",
       "   cout_produits  cout_fret  cout_total date_report programme  \n",
       "0       153300.0    15330.0    168630.0  2025-03-01       PNN  \n",
       "1       606300.0    60630.0    666930.0  2025-03-01       PNN  "
      ]
     },
     "execution_count": 51,
     "metadata": {},
     "output_type": "execute_result"
    }
   ],
   "source": [
    "df_pa = df_plan_approv.rename(\n",
    "    columns={\n",
    "        \"Standard product code\": \"standard_product_code\",\n",
    "        \"ID de produit QAT\": \"id_produit_qat\",\n",
    "        \"Produits\": \"designation\",\n",
    "        \"ID de l`envoi QAT\": \"id_envoi_qat\",\n",
    "        \"Agent d`approvisionnement\": \"centrale_achat\",\n",
    "        \"Source de financement\": \"source_financement\",\n",
    "        \"Status\": \"status\",\n",
    "        \"Quantite\": \"quantite\",\n",
    "        \"facteur_de_conversion_qat_sage\": \"facteur_conversion_qat_vers_sage\",\n",
    "        \"Quantité harmonisée (SAGE)\": \"quantite_harmonisee_sage\",\n",
    "        \"DATE\": \"date\",\n",
    "        \"Cout des Produits\": \"cout_produits\",\n",
    "        \"Couts du fret\": \"cout_fret\",\n",
    "        \"Couts totaux\": \"cout_total\",\n",
    "    },\n",
    ")\n",
    "\n",
    "df_pa = df_pa[\n",
    "    [\"standard_product_code\", \"id_produit_qat\",\n",
    "     \"designation\", \"id_envoi_qat\",\n",
    "     \"centrale_achat\", \"source_financement\",\n",
    "     \"status\", \"quantite\", \"facteur_conversion_qat_vers_sage\",\n",
    "     \"quantite_harmonisee_sage\", \"date\",\n",
    "     \"cout_produits\", \"cout_fret\", \"cout_total\",\n",
    "    ]\n",
    "]\n",
    "df_pa[\"date_report\"] = pd.to_datetime(date_report)\n",
    "df_pa[\"programme\"] = programme\n",
    "df_pa[\"standard_product_code\"] = df_pa[\"standard_product_code\"].fillna(0)\n",
    "\n",
    "df_pa.head(2)"
   ]
  },
  {
   "cell_type": "code",
   "execution_count": 52,
   "id": "557e36d1-3a17-48d4-851d-96de9b3f3be5",
   "metadata": {
    "execution": {
     "iopub.execute_input": "2025-05-13T17:53:24.094608Z",
     "iopub.status.busy": "2025-05-13T17:53:24.094216Z",
     "iopub.status.idle": "2025-05-13T17:53:24.159576Z",
     "shell.execute_reply": "2025-05-13T17:53:24.158386Z"
    },
    "papermill": {
     "duration": 0.25689,
     "end_time": "2025-05-13T17:53:24.161355",
     "exception": false,
     "start_time": "2025-05-13T17:53:23.904465",
     "status": "completed"
    },
    "tags": []
   },
   "outputs": [
    {
     "data": {
      "text/plain": [
       "'Insertion de 12 enrégistrements réussie'"
      ]
     },
     "execution_count": 52,
     "metadata": {},
     "output_type": "execute_result"
    }
   ],
   "source": [
    "stock_sync_manager.insert_dataframe_to_table(df_pa, table_name=\"plan_approv\", schema_name=\"suivi_stock\")"
   ]
  },
  {
   "cell_type": "code",
   "execution_count": 53,
   "id": "59e7f509-0f62-4188-8648-bef9a221b661",
   "metadata": {
    "execution": {
     "iopub.execute_input": "2025-05-13T17:53:25.277520Z",
     "iopub.status.busy": "2025-05-13T17:53:25.277041Z",
     "iopub.status.idle": "2025-05-13T17:53:25.282652Z",
     "shell.execute_reply": "2025-05-13T17:53:25.281292Z"
    },
    "papermill": {
     "duration": 0.364138,
     "end_time": "2025-05-13T17:53:25.284265",
     "exception": false,
     "start_time": "2025-05-13T17:53:24.920127",
     "status": "completed"
    },
    "tags": []
   },
   "outputs": [],
   "source": [
    "del df_pa"
   ]
  },
  {
   "cell_type": "markdown",
   "id": "0a6af0d7-53cb-45f0-a174-afed7ecd72db",
   "metadata": {
    "papermill": {
     "duration": 0.238368,
     "end_time": "2025-05-13T17:53:28.699227",
     "exception": false,
     "start_time": "2025-05-13T17:53:28.460859",
     "status": "completed"
    },
    "tags": []
   },
   "source": [
    "# VI.📄Génération du fichier pour le mois spécifique"
   ]
  },
  {
   "cell_type": "markdown",
   "id": "a1e25950-2b53-4f3b-b1f8-9ec34c76367b",
   "metadata": {
    "papermill": {
     "duration": 0.19755,
     "end_time": "2025-05-13T17:53:29.101143",
     "exception": false,
     "start_time": "2025-05-13T17:53:28.903593",
     "status": "completed"
    },
    "tags": []
   },
   "source": [
    "## 1. Initialisation des paramètres utile"
   ]
  },
  {
   "cell_type": "code",
   "execution_count": 54,
   "id": "30b49db8-06c5-4d9e-ae95-a24f0ee66888",
   "metadata": {
    "execution": {
     "iopub.execute_input": "2025-05-13T17:53:29.576499Z",
     "iopub.status.busy": "2025-05-13T17:53:29.575559Z",
     "iopub.status.idle": "2025-05-13T17:53:29.582447Z",
     "shell.execute_reply": "2025-05-13T17:53:29.581297Z"
    },
    "papermill": {
     "duration": 0.280258,
     "end_time": "2025-05-13T17:53:29.584433",
     "exception": false,
     "start_time": "2025-05-13T17:53:29.304175",
     "status": "completed"
    },
    "tags": []
   },
   "outputs": [],
   "source": [
    "date_report_format = date_report\n",
    "date_report = pd.to_datetime(date_report, format='%Y-%m-%d').strftime('%d/%m/%Y')\n",
    "f_month = gstf.get_current_variable(date_report)[1].replace(' ', '-')"
   ]
  },
  {
   "cell_type": "markdown",
   "id": "acace0b9-cbb6-4ee8-bc43-1fcd1c724a2d",
   "metadata": {
    "papermill": {
     "duration": 1.991042,
     "end_time": "2025-05-13T17:53:31.779789",
     "exception": false,
     "start_time": "2025-05-13T17:53:29.788747",
     "status": "completed"
    },
    "tags": []
   },
   "source": [
    "## 2. Importation des classeurs de bases"
   ]
  },
  {
   "cell_type": "code",
   "execution_count": 55,
   "id": "689f25f3-1bf9-4c16-9569-61b0b7140cce",
   "metadata": {
    "execution": {
     "iopub.execute_input": "2025-05-13T17:53:40.341297Z",
     "iopub.status.busy": "2025-05-13T17:53:40.340879Z",
     "iopub.status.idle": "2025-05-13T18:01:24.817853Z",
     "shell.execute_reply": "2025-05-13T18:01:24.816687Z"
    },
    "papermill": {
     "duration": 465.287728,
     "end_time": "2025-05-13T18:01:25.389971",
     "exception": false,
     "start_time": "2025-05-13T17:53:40.102243",
     "status": "completed"
    },
    "tags": []
   },
   "outputs": [
    {
     "name": "stdout",
     "output_type": "stream",
     "text": [
      "CPU times: user 7min 16s, sys: 11.2 s, total: 7min 27s\n",
      "Wall time: 7min 44s\n"
     ]
    }
   ],
   "source": [
    "%%time\n",
    "# WorkBook Template de base\n",
    "wb_template = pyxl.load_workbook(\n",
    "    filename=\"/home/jovyan/workspace/Fichier Suivi de Stock/code/pipelines/generate_stock_tracking_file/Template Fichier Suivi de Stock/Fichier Suivi de Stock Template.xlsx\"\n",
    ")\n",
    "\n",
    "# WorkBook Etats de stock mensuels\n",
    "wb_etat_stock = pyxl.load_workbook(filename=fp_etat_mensuel)\n",
    "\n",
    "# WorkBook du Rapport Feedback\n",
    "wb_fbr = pyxl.load_workbook(\n",
    "    filename=f\"/home/jovyan/workspace/Rapport Feedback/code/pipelines/rapport feedback genere/{date_report_format[:4]}/RapportFeedBack-{unidecode(f_month)}.xlsx\"\n",
    ")"
   ]
  },
  {
   "cell_type": "markdown",
   "id": "30d3235c-40f4-4d76-9cbb-463cbf37cb26",
   "metadata": {
    "papermill": {
     "duration": 0.253702,
     "end_time": "2025-05-13T18:01:25.882524",
     "exception": false,
     "start_time": "2025-05-13T18:01:25.628822",
     "status": "completed"
    },
    "tags": []
   },
   "source": [
    "## 3. Mise à jour des données en se basant sur la source `Etat de Stock Mensuel`"
   ]
  },
  {
   "cell_type": "code",
   "execution_count": 56,
   "id": "ef678267-2bdf-4fad-bdc6-837935e7c2bf",
   "metadata": {
    "execution": {
     "iopub.execute_input": "2025-05-13T18:01:26.306218Z",
     "iopub.status.busy": "2025-05-13T18:01:26.305114Z",
     "iopub.status.idle": "2025-05-13T18:02:03.897625Z",
     "shell.execute_reply": "2025-05-13T18:02:03.896294Z"
    },
    "papermill": {
     "duration": 38.101451,
     "end_time": "2025-05-13T18:02:04.192594",
     "exception": false,
     "start_time": "2025-05-13T18:01:26.091143",
     "status": "completed"
    },
    "tags": []
   },
   "outputs": [
    {
     "name": "stdout",
     "output_type": "stream",
     "text": [
      "CPU times: user 37.4 s, sys: 40 ms, total: 37.5 s\n",
      "Wall time: 37.6 s\n"
     ]
    }
   ],
   "source": [
    "%%time\n",
    "wb_template = gstf.update_sheets_etat_mensuel(\n",
    "    wb_etat_stock, wb_template, programme, date_report\n",
    ")"
   ]
  },
  {
   "cell_type": "markdown",
   "id": "40b4f4f0-6a5d-4685-9b86-b74e15424ed7",
   "metadata": {
    "papermill": {
     "duration": 0.265688,
     "end_time": "2025-05-13T18:02:04.751811",
     "exception": false,
     "start_time": "2025-05-13T18:02:04.486123",
     "status": "completed"
    },
    "tags": []
   },
   "source": [
    "## 4. Mise à jour des données en se basant sur la source `Rapport Feedback`\n",
    "\n",
    "Pour le faire on va se baser sur les inputs au préalable du fichier RapportFeebback généré et présent dans les fichiers d'OH pour le mois courant"
   ]
  },
  {
   "cell_type": "code",
   "execution_count": 57,
   "id": "aca0a3a7-c102-4200-8604-357171092ab5",
   "metadata": {
    "execution": {
     "iopub.execute_input": "2025-05-13T18:02:05.175718Z",
     "iopub.status.busy": "2025-05-13T18:02:05.174522Z",
     "iopub.status.idle": "2025-05-13T18:02:20.814110Z",
     "shell.execute_reply": "2025-05-13T18:02:20.812952Z"
    },
    "papermill": {
     "duration": 15.846082,
     "end_time": "2025-05-13T18:02:20.815857",
     "exception": false,
     "start_time": "2025-05-13T18:02:04.969775",
     "status": "completed"
    },
    "tags": []
   },
   "outputs": [
    {
     "data": {
      "text/html": [
       "<div>\n",
       "<style scoped>\n",
       "    .dataframe tbody tr th:only-of-type {\n",
       "        vertical-align: middle;\n",
       "    }\n",
       "\n",
       "    .dataframe tbody tr th {\n",
       "        vertical-align: top;\n",
       "    }\n",
       "\n",
       "    .dataframe thead th {\n",
       "        text-align: right;\n",
       "    }\n",
       "</style>\n",
       "<table border=\"1\" class=\"dataframe\">\n",
       "  <thead>\n",
       "    <tr style=\"text-align: right;\">\n",
       "      <th></th>\n",
       "      <th>Code_Pro</th>\n",
       "      <th>CODE</th>\n",
       "      <th>PROGRAMME</th>\n",
       "      <th>SOUS-PROGRAMME</th>\n",
       "      <th>PERIODE</th>\n",
       "      <th>REGION</th>\n",
       "      <th>DISTRICT</th>\n",
       "      <th>CODE  ETS</th>\n",
       "      <th>STRUCTURE</th>\n",
       "      <th>TYPE DE STRUCTURE</th>\n",
       "      <th>CATEGORIE PRODUIT</th>\n",
       "      <th>PRODUIT</th>\n",
       "      <th>UNITE DE RAPPORTAGE</th>\n",
       "      <th>STOCK INITIAL</th>\n",
       "      <th>QUANTITE RECUE</th>\n",
       "      <th>QUANTITE UTILISEE</th>\n",
       "      <th>PERTES ET AJUSTEMENT</th>\n",
       "      <th>JOURS DE RUPTURE</th>\n",
       "      <th>SDU</th>\n",
       "      <th>CMM ESIGL</th>\n",
       "      <th>CMM gestionnaire</th>\n",
       "      <th>QUANTITE PROPOSEE</th>\n",
       "      <th>QUANTITE COMMANDEE</th>\n",
       "      <th>QUANTITE APPROUVEE</th>\n",
       "      <th>MSD</th>\n",
       "      <th>ETAT DU STOCK</th>\n",
       "      <th>BESOIN COMMANDE URGENTE</th>\n",
       "      <th>BESOIN TRANSFERT IN</th>\n",
       "      <th>QUANTITE A TRANSFERER OUT</th>\n",
       "      <th>CATEGORIE_DU_PRODUIT</th>\n",
       "      <th>Commandes du mois précédent</th>\n",
       "      <th>Etat du stock du mois précédent</th>\n",
       "    </tr>\n",
       "  </thead>\n",
       "  <tbody>\n",
       "    <tr>\n",
       "      <th>0</th>\n",
       "      <td>3050350_PNLT</td>\n",
       "      <td>3050350</td>\n",
       "      <td>PNLT</td>\n",
       "      <td>PNLT-SENSIBLE MEDICAMENTS ET INTRANTS</td>\n",
       "      <td>JANVIER MARS 2025</td>\n",
       "      <td>IFFOU</td>\n",
       "      <td>DAOUKRO</td>\n",
       "      <td>62600030</td>\n",
       "      <td>CENTRE ANTITUBERCULEUX DAOUKRO</td>\n",
       "      <td>FORMATION SANITAIRE</td>\n",
       "      <td>Produit traceur</td>\n",
       "      <td>RH 150 (RIFAmpICINE150 - ISONIAZIDE75) comp. B...</td>\n",
       "      <td>COMPRIME</td>\n",
       "      <td>9316</td>\n",
       "      <td>9408</td>\n",
       "      <td>8992</td>\n",
       "      <td>-2399</td>\n",
       "      <td>0</td>\n",
       "      <td>7333</td>\n",
       "      <td>1007</td>\n",
       "      <td>3021.0</td>\n",
       "      <td>0</td>\n",
       "      <td>10793</td>\n",
       "      <td>10793</td>\n",
       "      <td>2.427342</td>\n",
       "      <td>ENTRE PCU et MIN</td>\n",
       "      <td>NaN</td>\n",
       "      <td>1730.0</td>\n",
       "      <td>NaN</td>\n",
       "      <td>PRODUITS PNLT ADULTE</td>\n",
       "      <td>NaN</td>\n",
       "      <td>NaN</td>\n",
       "    </tr>\n",
       "    <tr>\n",
       "      <th>1</th>\n",
       "      <td>3050356_PNLT</td>\n",
       "      <td>3050356</td>\n",
       "      <td>PNLT</td>\n",
       "      <td>PNLT-SENSIBLE MEDICAMENTS ET INTRANTS</td>\n",
       "      <td>JANVIER MARS 2025</td>\n",
       "      <td>IFFOU</td>\n",
       "      <td>DAOUKRO</td>\n",
       "      <td>62600030</td>\n",
       "      <td>CENTRE ANTITUBERCULEUX DAOUKRO</td>\n",
       "      <td>FORMATION SANITAIRE</td>\n",
       "      <td>Produit traceur</td>\n",
       "      <td>RHZE (RIFAMP 150 - ISON 75 - PYRAZ 400 - ETHAM...</td>\n",
       "      <td>COMPRIME</td>\n",
       "      <td>8862</td>\n",
       "      <td>0</td>\n",
       "      <td>5251</td>\n",
       "      <td>-2016</td>\n",
       "      <td>0</td>\n",
       "      <td>1595</td>\n",
       "      <td>591</td>\n",
       "      <td>1774.0</td>\n",
       "      <td>1951</td>\n",
       "      <td>9049</td>\n",
       "      <td>9049</td>\n",
       "      <td>0.899098</td>\n",
       "      <td>EN BAS DU PCU</td>\n",
       "      <td>9049.0</td>\n",
       "      <td>3727.0</td>\n",
       "      <td>NaN</td>\n",
       "      <td>PRODUITS PNLT ADULTE</td>\n",
       "      <td>NaN</td>\n",
       "      <td>NaN</td>\n",
       "    </tr>\n",
       "  </tbody>\n",
       "</table>\n",
       "</div>"
      ],
      "text/plain": [
       "       Code_Pro     CODE PROGRAMME                         SOUS-PROGRAMME  \\\n",
       "0  3050350_PNLT  3050350      PNLT  PNLT-SENSIBLE MEDICAMENTS ET INTRANTS   \n",
       "1  3050356_PNLT  3050356      PNLT  PNLT-SENSIBLE MEDICAMENTS ET INTRANTS   \n",
       "\n",
       "             PERIODE REGION DISTRICT  CODE  ETS  \\\n",
       "0  JANVIER MARS 2025  IFFOU  DAOUKRO   62600030   \n",
       "1  JANVIER MARS 2025  IFFOU  DAOUKRO   62600030   \n",
       "\n",
       "                         STRUCTURE    TYPE DE STRUCTURE CATEGORIE PRODUIT  \\\n",
       "0   CENTRE ANTITUBERCULEUX DAOUKRO  FORMATION SANITAIRE   Produit traceur   \n",
       "1   CENTRE ANTITUBERCULEUX DAOUKRO  FORMATION SANITAIRE   Produit traceur   \n",
       "\n",
       "                                             PRODUIT UNITE DE RAPPORTAGE  \\\n",
       "0  RH 150 (RIFAmpICINE150 - ISONIAZIDE75) comp. B...            COMPRIME   \n",
       "1  RHZE (RIFAMP 150 - ISON 75 - PYRAZ 400 - ETHAM...            COMPRIME   \n",
       "\n",
       "   STOCK INITIAL  QUANTITE RECUE  QUANTITE UTILISEE  PERTES ET AJUSTEMENT  \\\n",
       "0           9316            9408               8992                 -2399   \n",
       "1           8862               0               5251                 -2016   \n",
       "\n",
       "   JOURS DE RUPTURE   SDU  CMM ESIGL  CMM gestionnaire  QUANTITE PROPOSEE  \\\n",
       "0                 0  7333       1007            3021.0                  0   \n",
       "1                 0  1595        591            1774.0               1951   \n",
       "\n",
       "   QUANTITE COMMANDEE  QUANTITE APPROUVEE       MSD     ETAT DU STOCK  \\\n",
       "0               10793               10793  2.427342  ENTRE PCU et MIN   \n",
       "1                9049                9049  0.899098     EN BAS DU PCU   \n",
       "\n",
       "   BESOIN COMMANDE URGENTE                    \\\n",
       "0                                        NaN   \n",
       "1                                     9049.0   \n",
       "\n",
       "   BESOIN TRANSFERT IN                                 \\\n",
       "0                                             1730.0    \n",
       "1                                             3727.0    \n",
       "\n",
       "   QUANTITE A TRANSFERER OUT  CATEGORIE_DU_PRODUIT  \\\n",
       "0                        NaN  PRODUITS PNLT ADULTE   \n",
       "1                        NaN  PRODUITS PNLT ADULTE   \n",
       "\n",
       "   Commandes du mois précédent  Etat du stock du mois précédent  \n",
       "0                          NaN                              NaN  \n",
       "1                          NaN                              NaN  "
      ]
     },
     "execution_count": 57,
     "metadata": {},
     "output_type": "execute_result"
    }
   ],
   "source": [
    "df_etat_stock = pd.read_excel(\n",
    "    f\"/home/jovyan/workspace/Rapport Feedback/code/pipelines/rapport feedback genere/{date_report_format[:4]}/RapportFeedBack-{unidecode(f_month)}.xlsx\",\n",
    "    sheet_name=\"ETAT DU STOCK\",\n",
    ")\n",
    "\n",
    "df_etat_stock.head(2)"
   ]
  },
  {
   "cell_type": "code",
   "execution_count": 58,
   "id": "fcabb659-b3ab-42f0-b5bc-fcec276f97c3",
   "metadata": {
    "execution": {
     "iopub.execute_input": "2025-05-13T18:02:21.361495Z",
     "iopub.status.busy": "2025-05-13T18:02:21.360913Z",
     "iopub.status.idle": "2025-05-13T18:02:24.040456Z",
     "shell.execute_reply": "2025-05-13T18:02:24.039460Z"
    },
    "papermill": {
     "duration": 2.937612,
     "end_time": "2025-05-13T18:02:24.042520",
     "exception": false,
     "start_time": "2025-05-13T18:02:21.104908",
     "status": "completed"
    },
    "tags": []
   },
   "outputs": [
    {
     "name": "stdout",
     "output_type": "stream",
     "text": [
      "CPU times: user 2.66 s, sys: 6.09 ms, total: 2.67 s\n",
      "Wall time: 2.67 s\n"
     ]
    }
   ],
   "source": [
    "%%time\n",
    "\n",
    "wb_template = gstf.update_sheet_etat_stock(wb_template, df_etat_stock.loc[df_etat_stock.PROGRAMME==programme].copy())\n",
    "\n",
    "wb_template = gstf.update_sheet_stock_region(wb_template, wb_fbr, programme)"
   ]
  },
  {
   "cell_type": "markdown",
   "id": "aa2d9f5c-ff21-4dc3-8509-207e0f632a6e",
   "metadata": {
    "papermill": {
     "duration": 0.266508,
     "end_time": "2025-05-13T18:02:24.582584",
     "exception": false,
     "start_time": "2025-05-13T18:02:24.316076",
     "status": "completed"
    },
    "tags": []
   },
   "source": [
    "## 4. Mise à jour des informations feuille `Annexe 1 - Consolidation`"
   ]
  },
  {
   "cell_type": "code",
   "execution_count": 59,
   "id": "1448ebc3-75d4-4063-8d8d-daba9b9c2c65",
   "metadata": {
    "execution": {
     "iopub.execute_input": "2025-05-13T18:02:26.259168Z",
     "iopub.status.busy": "2025-05-13T18:02:26.258689Z",
     "iopub.status.idle": "2025-05-13T18:02:33.939514Z",
     "shell.execute_reply": "2025-05-13T18:02:33.938256Z"
    },
    "papermill": {
     "duration": 9.140327,
     "end_time": "2025-05-13T18:02:33.941674",
     "exception": false,
     "start_time": "2025-05-13T18:02:24.801347",
     "status": "completed"
    },
    "tags": []
   },
   "outputs": [],
   "source": [
    "wb_template = gstf.update_sheet_annexe_1(\n",
    "    wb_template, programme, schema_name, stock_sync_manager.civ_engine, date_report\n",
    ")"
   ]
  },
  {
   "cell_type": "markdown",
   "id": "17d87336-319e-4c52-bc10-ca92f55a36bd",
   "metadata": {
    "papermill": {
     "duration": 0.23089,
     "end_time": "2025-05-13T18:02:34.619170",
     "exception": false,
     "start_time": "2025-05-13T18:02:34.388280",
     "status": "completed"
    },
    "tags": []
   },
   "source": [
    "## 5. Mise à jour des données du `Plan d'approvisionnement`"
   ]
  },
  {
   "cell_type": "code",
   "execution_count": 60,
   "id": "896a4775-5a20-497e-9642-99b199e90a53",
   "metadata": {
    "execution": {
     "iopub.execute_input": "2025-05-13T18:02:35.114461Z",
     "iopub.status.busy": "2025-05-13T18:02:35.114058Z",
     "iopub.status.idle": "2025-05-13T18:02:35.122627Z",
     "shell.execute_reply": "2025-05-13T18:02:35.121422Z"
    },
    "papermill": {
     "duration": 0.233435,
     "end_time": "2025-05-13T18:02:35.124361",
     "exception": false,
     "start_time": "2025-05-13T18:02:34.890926",
     "status": "completed"
    },
    "scrolled": true,
    "tags": []
   },
   "outputs": [],
   "source": [
    "df_pa = df_plan_approv.rename(\n",
    "    columns={\n",
    "        \"Agent d`approvisionnement\": \"Centrale d'achat\",\n",
    "        \"Source de financement\": \"Source Financement\",\n",
    "        \"facteur_de_conversion_qat_sage\": \"Facteur de conversion de QAT vers SAGE\",\n",
    "        \"cout_unitaire_moyen_qat\": \"Coût unitaire moyen (en dollar)\",\n",
    "        \"acronym\": \"Acronym\",\n",
    "    }\n",
    ")\n",
    "\n",
    "df_pa[\"DATE\"] = pd.to_datetime(df_pa[\"DATE\"], format='%d-%b-%Y', errors='coerce')"
   ]
  },
  {
   "cell_type": "code",
   "execution_count": 61,
   "id": "7b64bf01-482b-473e-82df-9d96345e04cf",
   "metadata": {
    "execution": {
     "iopub.execute_input": "2025-05-13T18:02:35.990262Z",
     "iopub.status.busy": "2025-05-13T18:02:35.989234Z",
     "iopub.status.idle": "2025-05-13T18:02:36.016561Z",
     "shell.execute_reply": "2025-05-13T18:02:36.015604Z"
    },
    "papermill": {
     "duration": 0.67992,
     "end_time": "2025-05-13T18:02:36.018576",
     "exception": false,
     "start_time": "2025-05-13T18:02:35.338656",
     "status": "completed"
    },
    "tags": []
   },
   "outputs": [
    {
     "name": "stdout",
     "output_type": "stream",
     "text": [
      "CPU times: user 21.9 ms, sys: 0 ns, total: 21.9 ms\n",
      "Wall time: 21.6 ms\n"
     ]
    }
   ],
   "source": [
    "%%time\n",
    "wb_template = gstf.update_sheet_plan_approv(wb_template, df_pa)"
   ]
  },
  {
   "cell_type": "markdown",
   "id": "0e5eec95-ae01-435c-994f-597b583151ca",
   "metadata": {
    "papermill": {
     "duration": 0.215873,
     "end_time": "2025-05-13T18:02:36.845027",
     "exception": false,
     "start_time": "2025-05-13T18:02:36.629154",
     "status": "completed"
    },
    "tags": []
   },
   "source": [
    "## 5. Mise à jour des informations  en se basant sur la source `Annexe 2 - Suivi de Stock`"
   ]
  },
  {
   "cell_type": "code",
   "execution_count": 62,
   "id": "a8cbbd89-50c1-4467-b616-46071483927c",
   "metadata": {
    "execution": {
     "iopub.execute_input": "2025-05-13T18:02:37.241589Z",
     "iopub.status.busy": "2025-05-13T18:02:37.241112Z",
     "iopub.status.idle": "2025-05-13T18:02:39.051459Z",
     "shell.execute_reply": "2025-05-13T18:02:39.050437Z"
    },
    "papermill": {
     "duration": 2.009456,
     "end_time": "2025-05-13T18:02:39.053331",
     "exception": false,
     "start_time": "2025-05-13T18:02:37.043875",
     "status": "completed"
    },
    "tags": []
   },
   "outputs": [
    {
     "name": "stdout",
     "output_type": "stream",
     "text": [
      "CPU times: user 1.8 s, sys: 3.05 ms, total: 1.81 s\n",
      "Wall time: 1.8 s\n"
     ]
    }
   ],
   "source": [
    "%%time\n",
    "wb_template = gstf.update_sheet_annexe_2(wb_template, df_pa, date_report)"
   ]
  },
  {
   "cell_type": "markdown",
   "id": "23e8d193-e8ee-4e13-96a4-dca4dcd5cae5",
   "metadata": {
    "papermill": {
     "duration": 0.189138,
     "end_time": "2025-05-13T18:02:39.453593",
     "exception": false,
     "start_time": "2025-05-13T18:02:39.264455",
     "status": "completed"
    },
    "tags": []
   },
   "source": [
    "## 6. Mise à jour des données en se basant sur la source `Prévision`"
   ]
  },
  {
   "cell_type": "code",
   "execution_count": 63,
   "id": "907dc386-5f20-42a9-8bc4-a6033963db23",
   "metadata": {
    "execution": {
     "iopub.execute_input": "2025-05-13T18:02:40.383462Z",
     "iopub.status.busy": "2025-05-13T18:02:40.382231Z",
     "iopub.status.idle": "2025-05-13T18:02:40.392449Z",
     "shell.execute_reply": "2025-05-13T18:02:40.391279Z"
    },
    "papermill": {
     "duration": 0.728392,
     "end_time": "2025-05-13T18:02:40.394544",
     "exception": false,
     "start_time": "2025-05-13T18:02:39.666152",
     "status": "completed"
    },
    "tags": []
   },
   "outputs": [],
   "source": [
    "df_prod = dim_produit[\n",
    "    [\"code_produit\", \"type_produit\", \"designation\", \"designation_acronym\"]\n",
    "]\n",
    "\n",
    "df_prod[\"designation\"] = df_prod.apply(\n",
    "    lambda row: row[\"designation_acronym\"]\n",
    "    if not pd.isna(row[\"designation_acronym\"])\n",
    "    else row[\"designation\"],\n",
    "    axis=1,\n",
    ")\n",
    "df_prod = df_prod.drop(columns=\"designation_acronym\")"
   ]
  },
  {
   "cell_type": "code",
   "execution_count": 64,
   "id": "5390c300-62ab-40f6-af69-aed9c15b385c",
   "metadata": {
    "execution": {
     "iopub.execute_input": "2025-05-13T18:02:42.520171Z",
     "iopub.status.busy": "2025-05-13T18:02:42.519651Z",
     "iopub.status.idle": "2025-05-13T18:02:42.652244Z",
     "shell.execute_reply": "2025-05-13T18:02:42.651082Z"
    },
    "papermill": {
     "duration": 1.40882,
     "end_time": "2025-05-13T18:02:42.654108",
     "exception": false,
     "start_time": "2025-05-13T18:02:41.245288",
     "status": "completed"
    },
    "tags": []
   },
   "outputs": [],
   "source": [
    "wb_template = gstf.update_sheet_prevision(wb_template, date_report, df_prod)"
   ]
  },
  {
   "cell_type": "markdown",
   "id": "1630b9b1-f136-4538-84c8-bb3b1c40e1c4",
   "metadata": {
    "papermill": {
     "duration": 4.943946,
     "end_time": "2025-05-13T18:02:50.228154",
     "exception": false,
     "start_time": "2025-05-13T18:02:45.284208",
     "status": "completed"
    },
    "tags": []
   },
   "source": [
    "## 7. Mise à jour de certains éléments de la feuille `Rapport`"
   ]
  },
  {
   "cell_type": "code",
   "execution_count": 65,
   "id": "cbd158de-45e8-4f68-825e-825ac2154834",
   "metadata": {
    "execution": {
     "iopub.execute_input": "2025-05-13T18:02:50.638966Z",
     "iopub.status.busy": "2025-05-13T18:02:50.638120Z",
     "iopub.status.idle": "2025-05-13T18:02:50.644031Z",
     "shell.execute_reply": "2025-05-13T18:02:50.642788Z"
    },
    "papermill": {
     "duration": 0.19167,
     "end_time": "2025-05-13T18:02:50.645847",
     "exception": false,
     "start_time": "2025-05-13T18:02:50.454177",
     "status": "completed"
    },
    "tags": []
   },
   "outputs": [],
   "source": [
    "ws_rapport = wb_template['Rapport']\n",
    "ws_rapport['D4'].value = programme\n",
    "ws_rapport['D6'].value = f_month.split('-')[0].capitalize()\n",
    "ws_rapport['E6'].value = date_report_format[:4]"
   ]
  },
  {
   "cell_type": "markdown",
   "id": "d054f9c2-8975-4b31-baac-fc9b3629773d",
   "metadata": {
    "papermill": {
     "duration": 0.219554,
     "end_time": "2025-05-13T18:02:51.082806",
     "exception": false,
     "start_time": "2025-05-13T18:02:50.863252",
     "status": "completed"
    },
    "tags": []
   },
   "source": [
    "# VII. Exportation du Fichier Suivi de Stock vers le `drive` et la `BD`"
   ]
  },
  {
   "cell_type": "code",
   "execution_count": 66,
   "id": "f44d8752-d621-4c44-801e-c364c59ea156",
   "metadata": {
    "execution": {
     "iopub.execute_input": "2025-05-13T18:02:51.774181Z",
     "iopub.status.busy": "2025-05-13T18:02:51.773012Z",
     "iopub.status.idle": "2025-05-13T18:02:53.881014Z",
     "shell.execute_reply": "2025-05-13T18:02:53.879620Z"
    },
    "papermill": {
     "duration": 2.377466,
     "end_time": "2025-05-13T18:02:53.883219",
     "exception": false,
     "start_time": "2025-05-13T18:02:51.505753",
     "status": "completed"
    },
    "tags": []
   },
   "outputs": [
    {
     "name": "stdout",
     "output_type": "stream",
     "text": [
      "CPU times: user 1.66 s, sys: 28 ms, total: 1.69 s\n",
      "Wall time: 2.1 s\n"
     ]
    }
   ],
   "source": [
    "%%time\n",
    "# Sauvegarde du fichier dans un repertoire courant\n",
    "dest_file = (\n",
    "    Path(workspace.files_path)\n",
    "    / f\"Fichier Suivi de Stock/code/pipelines/fichier suivi de stock genere/{programme}/{date_report_format[:4]}\"\n",
    ")\n",
    "\n",
    "dest_file.mkdir(exist_ok=True, parents=True)\n",
    "\n",
    "dest_file = dest_file / f\"Fichier Suivi de Stock {programme}-{f_month}.xlsx\"\n",
    "\n",
    "wb_template.save(dest_file)"
   ]
  },
  {
   "cell_type": "code",
   "execution_count": 67,
   "id": "2e46bee1-54f4-48c9-986d-71ea1697f1dd",
   "metadata": {
    "execution": {
     "iopub.execute_input": "2025-05-13T18:02:57.553377Z",
     "iopub.status.busy": "2025-05-13T18:02:57.552966Z",
     "iopub.status.idle": "2025-05-13T18:03:00.785308Z",
     "shell.execute_reply": "2025-05-13T18:03:00.784167Z"
    },
    "papermill": {
     "duration": 5.968133,
     "end_time": "2025-05-13T18:03:00.787615",
     "exception": false,
     "start_time": "2025-05-13T18:02:54.819482",
     "status": "completed"
    },
    "tags": []
   },
   "outputs": [
    {
     "name": "stdout",
     "output_type": "stream",
     "text": [
      "Aucun file trouvé avec ce nom.\n"
     ]
    }
   ],
   "source": [
    "download_url = ggdrive.upload_and_return_link(\n",
    "    dest_file.as_posix(),\n",
    "    date_report_format,\n",
    ")"
   ]
  },
  {
   "cell_type": "code",
   "execution_count": 68,
   "id": "f1c90fd1-74f7-4b1f-b906-093975ea323e",
   "metadata": {
    "execution": {
     "iopub.execute_input": "2025-05-13T18:03:01.226481Z",
     "iopub.status.busy": "2025-05-13T18:03:01.225579Z",
     "iopub.status.idle": "2025-05-13T18:03:01.234038Z",
     "shell.execute_reply": "2025-05-13T18:03:01.232718Z"
    },
    "papermill": {
     "duration": 0.238649,
     "end_time": "2025-05-13T18:03:01.236257",
     "exception": false,
     "start_time": "2025-05-13T18:03:00.997608",
     "status": "completed"
    },
    "tags": []
   },
   "outputs": [],
   "source": [
    "df_download_url = pd.DataFrame(\n",
    "    data=[\n",
    "        {\n",
    "            \"programme\": programme,\n",
    "            \"download_url\": download_url,\n",
    "            \"date_report\": date_report_format,\n",
    "        }\n",
    "    ]\n",
    ")\n",
    "\n",
    "df_download_url.date_report = df_download_url.date_report.apply(\n",
    "    lambda x: pd.to_datetime(str(x)[:10], format=\"%Y-%m-%d\")\n",
    ")"
   ]
  },
  {
   "cell_type": "code",
   "execution_count": 69,
   "id": "01de3ddf-fc73-43bc-871f-c78aa90f5d37",
   "metadata": {
    "execution": {
     "iopub.execute_input": "2025-05-13T18:03:01.680518Z",
     "iopub.status.busy": "2025-05-13T18:03:01.679996Z",
     "iopub.status.idle": "2025-05-13T18:03:01.763039Z",
     "shell.execute_reply": "2025-05-13T18:03:01.761823Z"
    },
    "papermill": {
     "duration": 0.321905,
     "end_time": "2025-05-13T18:03:01.764949",
     "exception": false,
     "start_time": "2025-05-13T18:03:01.443044",
     "status": "completed"
    },
    "scrolled": true,
    "tags": []
   },
   "outputs": [
    {
     "name": "stdout",
     "output_type": "stream",
     "text": [
      "Insertion de 1 enrégistrements réussie\n"
     ]
    },
    {
     "data": {
      "text/plain": [
       "'Aucune mise à jour des données à effectuer'"
      ]
     },
     "execution_count": 69,
     "metadata": {},
     "output_type": "execute_result"
    }
   ],
   "source": [
    "stock_sync_manager.synchronize_table_data(\n",
    "    df_download_url,\n",
    "    table_name=\"share_link\",\n",
    "    merge_keys=[\"programme\", \"date_report\"],\n",
    "    programme=programme,\n",
    ")"
   ]
  }
 ],
 "metadata": {
  "kernelspec": {
   "display_name": "Python 3 (ipykernel)",
   "language": "python",
   "name": "python3"
  },
  "language_info": {
   "codemirror_mode": {
    "name": "ipython",
    "version": 3
   },
   "file_extension": ".py",
   "mimetype": "text/x-python",
   "name": "python",
   "nbconvert_exporter": "python",
   "pygments_lexer": "ipython3",
   "version": "3.12.8"
  },
  "papermill": {
   "default_parameters": {},
   "duration": 809.914439,
   "end_time": "2025-05-13T18:03:05.250266",
   "environment_variables": {},
   "exception": null,
   "input_path": "/home/hexa/workspace/Fichier Suivi de Stock/code/pipelines/mise a jour fichier suivi stock.ipynb",
   "output_path": "/home/hexa/workspace/Fichier Suivi de Stock/code/pipelines/output_notebook_execution/maj fichier suivi stock/PNN/output_2025-05-13.ipynb",
   "parameters": {
    "fp_etat_mensuel": "Etat du stock et de distribution PNN fin Mars 2025.xlsx",
    "fp_map_prod": "Mapping QAT_SAGEX3.xlsx",
    "fp_plan_approv": "Détails de l`envoiMar. 2025 ~ Mar. 2026.csv",
    "month_report": "Mars",
    "programme": "PNN",
    "year_report": 2025
   },
   "start_time": "2025-05-13T17:49:35.335827",
   "version": "2.6.0"
  }
 },
 "nbformat": 4,
 "nbformat_minor": 5
}