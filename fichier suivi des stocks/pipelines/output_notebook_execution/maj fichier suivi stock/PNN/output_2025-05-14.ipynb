{
 "cells": [
  {
   "cell_type": "markdown",
   "id": "6a2244e4-3226-4d02-9910-ca30f2ed18b5",
   "metadata": {
    "papermill": {
     "duration": 0.191113,
     "end_time": "2025-05-14T11:53:38.801439",
     "exception": false,
     "start_time": "2025-05-14T11:53:38.610326",
     "status": "completed"
    },
    "tags": []
   },
   "source": [
    "# I. Importation des bibliothèques"
   ]
  },
  {
   "cell_type": "code",
   "execution_count": 1,
   "id": "2ed56fcd-16c9-4916-98c6-aeb22c88b1c4",
   "metadata": {
    "execution": {
     "iopub.execute_input": "2025-05-14T11:53:39.210612Z",
     "iopub.status.busy": "2025-05-14T11:53:39.210274Z",
     "iopub.status.idle": "2025-05-14T11:53:43.152124Z",
     "shell.execute_reply": "2025-05-14T11:53:43.151057Z"
    },
    "papermill": {
     "duration": 4.171144,
     "end_time": "2025-05-14T11:53:43.154045",
     "exception": false,
     "start_time": "2025-05-14T11:53:38.982901",
     "status": "completed"
    },
    "tags": []
   },
   "outputs": [],
   "source": [
    "%%capture\n",
    "!pip install google-api-python-client google-auth-httplib2 google-auth-oauthlib unidecode"
   ]
  },
  {
   "cell_type": "code",
   "execution_count": 2,
   "id": "c8ef43d4-7fec-400f-86ce-30991fb1b709",
   "metadata": {
    "editable": true,
    "execution": {
     "iopub.execute_input": "2025-05-14T11:53:44.038238Z",
     "iopub.status.busy": "2025-05-14T11:53:44.037813Z",
     "iopub.status.idle": "2025-05-14T11:53:48.218693Z",
     "shell.execute_reply": "2025-05-14T11:53:48.217607Z"
    },
    "papermill": {
     "duration": 4.848247,
     "end_time": "2025-05-14T11:53:48.220707",
     "exception": false,
     "start_time": "2025-05-14T11:53:43.372460",
     "status": "completed"
    },
    "slideshow": {
     "slide_type": ""
    },
    "tags": []
   },
   "outputs": [],
   "source": [
    "%%capture\n",
    "import warnings\n",
    "\n",
    "warnings.filterwarnings(\"ignore\")\n",
    "\n",
    "import os\n",
    "from pathlib import Path\n",
    "\n",
    "import pandas as pd\n",
    "from openhexa.sdk import workspace\n",
    "from unidecode import unidecode\n",
    "\n",
    "pd.set_option(\"display.max_columns\", None)\n",
    "\n",
    "try:\n",
    "    import openpyxl as pyxl\n",
    "    from efc.interfaces.iopenpyxl import OpenpyxlInterface\n",
    "    from fuzzywuzzy import fuzz, process\n",
    "except ImportError or ModuleNotFoundError:\n",
    "    !pip install --quiet fuzzywuzzy python-Levenshtein excel-formulas-calculator\n",
    "    import openpyxl as pyxl\n",
    "    from efc.interfaces.iopenpyxl import OpenpyxlInterface"
   ]
  },
  {
   "cell_type": "markdown",
   "id": "8dab03ab-9414-4670-befc-42b395b44059",
   "metadata": {
    "papermill": {
     "duration": 0.230065,
     "end_time": "2025-05-14T11:53:48.680205",
     "exception": false,
     "start_time": "2025-05-14T11:53:48.450140",
     "status": "completed"
    },
    "tags": []
   },
   "source": [
    "## 1. Rafraîchissement des bibliothèques"
   ]
  },
  {
   "cell_type": "code",
   "execution_count": 3,
   "id": "3a21bbdd-e895-4122-91bc-553d8ae02123",
   "metadata": {
    "editable": true,
    "execution": {
     "iopub.execute_input": "2025-05-14T11:53:49.034232Z",
     "iopub.status.busy": "2025-05-14T11:53:49.033394Z",
     "iopub.status.idle": "2025-05-14T11:53:52.597514Z",
     "shell.execute_reply": "2025-05-14T11:53:52.596481Z"
    },
    "papermill": {
     "duration": 3.753985,
     "end_time": "2025-05-14T11:53:52.599274",
     "exception": false,
     "start_time": "2025-05-14T11:53:48.845289",
     "status": "completed"
    },
    "slideshow": {
     "slide_type": ""
    },
    "tags": []
   },
   "outputs": [],
   "source": [
    "%%capture\n",
    "# Ajout du chemin d'accès pour l'importation des bibliothèques\n",
    "os.chdir(Path(workspace.files_path, \"Fichier Suivi de Stock/code/pipelines\"))\n",
    "\n",
    "from importlib import reload\n",
    "\n",
    "import compute_indicators\n",
    "import export_file_to_google_drive as ggdrive\n",
    "import generate_stock_tracking_file as gstf\n",
    "\n",
    "# Importation des réquêtes sql\n",
    "from compute_indicators.queries import *\n",
    "from database_operations import stock_sync_manager\n",
    "\n",
    "# Reload modules\n",
    "reload(compute_indicators)\n",
    "reload(stock_sync_manager)\n",
    "reload(gstf)\n",
    "reload(ggdrive)"
   ]
  },
  {
   "cell_type": "markdown",
   "id": "e26b3de7-b38f-4e98-a2a4-a88374dd84b4",
   "metadata": {
    "papermill": {
     "duration": 0.178701,
     "end_time": "2025-05-14T11:53:52.982833",
     "exception": false,
     "start_time": "2025-05-14T11:53:52.804132",
     "status": "completed"
    },
    "tags": []
   },
   "source": [
    "# II. Définition des paramètres"
   ]
  },
  {
   "cell_type": "markdown",
   "id": "f4ff0a57-7b4d-48cb-bd95-b05c42e9b876",
   "metadata": {
    "papermill": {
     "duration": 2.036494,
     "end_time": "2025-05-14T11:53:55.565279",
     "exception": false,
     "start_time": "2025-05-14T11:53:53.528785",
     "status": "completed"
    },
    "tags": []
   },
   "source": [
    "## 1. Variables requises pour la conception du fichier de suivi de stock\n",
    "\n",
    "1. **Mois de création du rapport** : Si le processus est bien défini, cette valeur peut être automatisée. Sinon, elle sera fournie en tant qu'entrée du pipeline.\n",
    "\n",
    "2. **Programme** : Le programme concerné pour lequel le fichier de suivi de stock est généré.\n",
    "\n",
    "3. **Fichier État Mensuel** : Fichier transmis mensuellement par la N-PSP (source : SAGE X3).\n",
    "\n",
    "4. **Fichier Plan d'Approvisionnement** : Utilisé pour certains calculs, notamment dans la feuille « Prévision ». Ce fichier est généralement récupéré depuis la source QAT.\n",
    "\n",
    "5. **Fichier de mappage des produits** : Fichier assurant la correspondance entre les produits de SAGE X3 et ceux de QAT."
   ]
  },
  {
   "cell_type": "code",
   "execution_count": 4,
   "id": "5d4117a6-ce2c-4aff-b0ac-3e5dc57a2319",
   "metadata": {
    "editable": true,
    "execution": {
     "iopub.execute_input": "2025-05-14T11:54:01.251138Z",
     "iopub.status.busy": "2025-05-14T11:54:01.250568Z",
     "iopub.status.idle": "2025-05-14T11:54:01.255782Z",
     "shell.execute_reply": "2025-05-14T11:54:01.254823Z"
    },
    "papermill": {
     "duration": 5.353932,
     "end_time": "2025-05-14T11:54:01.257284",
     "exception": false,
     "start_time": "2025-05-14T11:53:55.903352",
     "status": "completed"
    },
    "slideshow": {
     "slide_type": ""
    },
    "tags": [
     "parameters"
    ]
   },
   "outputs": [],
   "source": [
    "month_report, year_report, programme, fp_etat_mensuel, fp_plan_approv, fp_map_prod = (\n",
    "    \"Mars\",\n",
    "    2025,\n",
    "    \"PNLP\",\n",
    "    \"Etat du stock et de distribution PNLP fin Mars 2025.xlsx\",\n",
    "    \"Détails de l`envoiMar. 2025 ~ Dec. 2026.csv\",\n",
    "    \"Mapping QAT_SAGEX3.xlsx\",\n",
    ")"
   ]
  },
  {
   "cell_type": "code",
   "execution_count": 5,
   "id": "ae0fd17f",
   "metadata": {
    "execution": {
     "iopub.execute_input": "2025-05-14T11:54:01.717769Z",
     "iopub.status.busy": "2025-05-14T11:54:01.716838Z",
     "iopub.status.idle": "2025-05-14T11:54:01.722109Z",
     "shell.execute_reply": "2025-05-14T11:54:01.721226Z"
    },
    "papermill": {
     "duration": 0.226002,
     "end_time": "2025-05-14T11:54:01.723671",
     "exception": false,
     "start_time": "2025-05-14T11:54:01.497669",
     "status": "completed"
    },
    "tags": [
     "injected-parameters"
    ]
   },
   "outputs": [],
   "source": [
    "# Parameters\n",
    "month_report = \"Mars\"\n",
    "year_report = 2025\n",
    "programme = \"PNN\"\n",
    "fp_etat_mensuel = \"Etat du stock et de distribution PNN fin Mars 2025.xlsx\"\n",
    "fp_plan_approv = \"De\\u0301tails de l`envoiMar. 2025 ~ Mar. 2026.csv\"\n",
    "fp_map_prod = \"Mapping QAT_SAGEX3.xlsx\"\n"
   ]
  },
  {
   "cell_type": "code",
   "execution_count": 6,
   "id": "7ffc244d-b753-49f8-8240-825a1e982c0b",
   "metadata": {
    "editable": true,
    "execution": {
     "iopub.execute_input": "2025-05-14T11:54:02.144857Z",
     "iopub.status.busy": "2025-05-14T11:54:02.144468Z",
     "iopub.status.idle": "2025-05-14T11:54:02.152170Z",
     "shell.execute_reply": "2025-05-14T11:54:02.151351Z"
    },
    "papermill": {
     "duration": 0.204904,
     "end_time": "2025-05-14T11:54:02.153823",
     "exception": false,
     "start_time": "2025-05-14T11:54:01.948919",
     "status": "completed"
    },
    "slideshow": {
     "slide_type": ""
    },
    "tags": []
   },
   "outputs": [],
   "source": [
    "month_export, date_report = month_report, compute_indicators.utils.format_date(month_report, year_report)\n",
    "\n",
    "date_report_prec = (pd.to_datetime(date_report).replace(day=1) - pd.offsets.MonthBegin()).strftime('%Y-%m-%d')"
   ]
  },
  {
   "cell_type": "markdown",
   "id": "6891eb05-f888-4c75-bdd0-749559cc7ca1",
   "metadata": {
    "papermill": {
     "duration": 0.19066,
     "end_time": "2025-05-14T11:54:02.629091",
     "exception": false,
     "start_time": "2025-05-14T11:54:02.438431",
     "status": "completed"
    },
    "tags": []
   },
   "source": [
    "## 2. Test pour s'assurer que cette date n'existe pas déjà dans la base de données"
   ]
  },
  {
   "cell_type": "code",
   "execution_count": 7,
   "id": "8b840e61-7ee1-478a-a6c3-c5b614e25f8b",
   "metadata": {
    "execution": {
     "iopub.execute_input": "2025-05-14T11:54:09.455049Z",
     "iopub.status.busy": "2025-05-14T11:54:09.454660Z",
     "iopub.status.idle": "2025-05-14T11:54:09.563923Z",
     "shell.execute_reply": "2025-05-14T11:54:09.562854Z"
    },
    "papermill": {
     "duration": 6.329487,
     "end_time": "2025-05-14T11:54:09.565928",
     "exception": false,
     "start_time": "2025-05-14T11:54:03.236441",
     "status": "completed"
    },
    "tags": []
   },
   "outputs": [
    {
     "name": "stdout",
     "output_type": "stream",
     "text": [
      "Connexion à la base de données établie avec succès\n"
     ]
    }
   ],
   "source": [
    "stock_sync_manager.initialize_database_connection()\n",
    "\n",
    "schema_name = \"suivi_stock\""
   ]
  },
  {
   "cell_type": "code",
   "execution_count": 8,
   "id": "4f4adfa5-719d-419c-8352-ad2e4dcdab8c",
   "metadata": {
    "execution": {
     "iopub.execute_input": "2025-05-14T11:54:10.005548Z",
     "iopub.status.busy": "2025-05-14T11:54:10.004600Z",
     "iopub.status.idle": "2025-05-14T11:54:10.089825Z",
     "shell.execute_reply": "2025-05-14T11:54:10.088876Z"
    },
    "papermill": {
     "duration": 0.292204,
     "end_time": "2025-05-14T11:54:10.092000",
     "exception": false,
     "start_time": "2025-05-14T11:54:09.799796",
     "status": "completed"
    },
    "tags": []
   },
   "outputs": [],
   "source": [
    "# Ici il faudrait également s'assurer que le mois précédent est bien présent à l'intérieur de la base de données au cas où on arriverait à se tromper sur le mois de conception du fichier\n",
    "df_ = stock_sync_manager.get_table_data(\n",
    "    query=f\"\"\"\n",
    "    select * \n",
    "    from {schema_name}.stock_track st \n",
    "    inner join {schema_name}.dim_produit_stock_track prod ON st.id_dim_produit_stock_track_fk = prod.id_dim_produit_stock_track_pk\n",
    "    where prod.programme='{programme}' and date_report='{date_report_prec}'\n",
    "    limit 2\n",
    "    \"\"\"\n",
    ")\n",
    "\n",
    "assert (\n",
    "    df_.shape[0] != 0\n",
    "), f\"Le mois précédent {date_report_prec} n'est pas présent dans la base de données locale êtes-vous sûre d'avoir choisir le bon mois de conception du fichier.\"\n",
    "\n",
    "del df_"
   ]
  },
  {
   "cell_type": "markdown",
   "id": "f89423e0-797c-4c0a-8ad6-1addbd0a7e3e",
   "metadata": {
    "papermill": {
     "duration": 0.234155,
     "end_time": "2025-05-14T11:54:10.500566",
     "exception": false,
     "start_time": "2025-05-14T11:54:10.266411",
     "status": "completed"
    },
    "tags": []
   },
   "source": [
    "# III.📥Importation des Données\n",
    "  \n",
    "L'utilisateur doit veiller à ce que les fichiers respectent le format attendu et soient placés dans les répertoires dédiés avant de procéder au traitement."
   ]
  },
  {
   "cell_type": "markdown",
   "id": "73015d7f-f3c2-4b44-96b6-1046109dbf21",
   "metadata": {
    "papermill": {
     "duration": 0.428211,
     "end_time": "2025-05-14T11:54:13.581141",
     "exception": false,
     "start_time": "2025-05-14T11:54:13.152930",
     "status": "completed"
    },
    "tags": []
   },
   "source": [
    "## 📌1. Importation du fichier `Etat de Stock Mensuel`\n",
    "\n",
    "- **Format requis :** Assurez-vous que le fichier respecte le template standard défini.\n",
    "- **Emplacement du fichier :** Le fichier doit être placé dans le répertoire dédié :  \n",
    "  **`Fichier Suivi de Stock/data/<programme>/Etat de Stock Mensuel`**\n",
    "  \n",
    "- **En cas d'erreur :**  \n",
    "  - Vérifiez que le fichier est bien présent dans le répertoire.  \n",
    "  - Assurez-vous que toutes les colonnes requises sont bien renseignées.  \n",
    "  - Contrôlez que le fichier est bien accessible et non corrompu."
   ]
  },
  {
   "cell_type": "code",
   "execution_count": 9,
   "id": "d02f7b2e-14f1-4174-95b4-c6cdaea297be",
   "metadata": {
    "execution": {
     "iopub.execute_input": "2025-05-14T11:54:20.725123Z",
     "iopub.status.busy": "2025-05-14T11:54:20.724295Z",
     "iopub.status.idle": "2025-05-14T11:54:21.171412Z",
     "shell.execute_reply": "2025-05-14T11:54:21.170521Z"
    },
    "papermill": {
     "duration": 0.673117,
     "end_time": "2025-05-14T11:54:21.173361",
     "exception": false,
     "start_time": "2025-05-14T11:54:20.500244",
     "status": "completed"
    },
    "tags": []
   },
   "outputs": [],
   "source": [
    "fp_etat_mensuel = (\n",
    "    Path(workspace.files_path)\n",
    "    / f\"Fichier Suivi de Stock/data/{programme}/Etat de Stock Mensuel\"\n",
    "    / Path(fp_etat_mensuel).name\n",
    ")\n",
    "\n",
    "sheetnames = pd.ExcelFile(fp_etat_mensuel).sheet_names"
   ]
  },
  {
   "cell_type": "markdown",
   "id": "36d21a7b-10c2-4c81-bc38-2a1dcf0916a0",
   "metadata": {
    "papermill": {
     "duration": 0.222652,
     "end_time": "2025-05-14T11:54:21.646847",
     "exception": false,
     "start_time": "2025-05-14T11:54:21.424195",
     "status": "completed"
    },
    "tags": []
   },
   "source": [
    "## 📌2. Importation de la feuille `Etat de stock de la NPSP`"
   ]
  },
  {
   "cell_type": "code",
   "execution_count": 10,
   "id": "f81ccd62-7a85-4830-a782-0721f40ed33a",
   "metadata": {
    "execution": {
     "iopub.execute_input": "2025-05-14T11:54:22.085183Z",
     "iopub.status.busy": "2025-05-14T11:54:22.084802Z",
     "iopub.status.idle": "2025-05-14T11:54:22.200227Z",
     "shell.execute_reply": "2025-05-14T11:54:22.199419Z"
    },
    "papermill": {
     "duration": 0.318868,
     "end_time": "2025-05-14T11:54:22.201715",
     "exception": false,
     "start_time": "2025-05-14T11:54:21.882847",
     "status": "completed"
    },
    "tags": []
   },
   "outputs": [
    {
     "data": {
      "text/html": [
       "<div>\n",
       "<style scoped>\n",
       "    .dataframe tbody tr th:only-of-type {\n",
       "        vertical-align: middle;\n",
       "    }\n",
       "\n",
       "    .dataframe tbody tr th {\n",
       "        vertical-align: top;\n",
       "    }\n",
       "\n",
       "    .dataframe thead th {\n",
       "        text-align: right;\n",
       "    }\n",
       "</style>\n",
       "<table border=\"1\" class=\"dataframe\">\n",
       "  <thead>\n",
       "    <tr style=\"text-align: right;\">\n",
       "      <th></th>\n",
       "      <th>date_report</th>\n",
       "      <th>code_produit</th>\n",
       "      <th>designation</th>\n",
       "      <th>contenance</th>\n",
       "      <th>dmm</th>\n",
       "      <th>traceurs</th>\n",
       "      <th>stock_theorique_bke</th>\n",
       "      <th>stock_theorique_abj</th>\n",
       "      <th>stock_theorique_central</th>\n",
       "      <th>stock_theorique_fin_mois</th>\n",
       "      <th>msd</th>\n",
       "      <th>statut_stock</th>\n",
       "      <th>programme</th>\n",
       "    </tr>\n",
       "  </thead>\n",
       "  <tbody>\n",
       "    <tr>\n",
       "      <th>1</th>\n",
       "      <td>2025-03-01</td>\n",
       "      <td>3230040.0</td>\n",
       "      <td>PLUMPY NUT sach 92g carton/150</td>\n",
       "      <td>CARTON/150</td>\n",
       "      <td>526.5</td>\n",
       "      <td>1.0</td>\n",
       "      <td>66.0</td>\n",
       "      <td>117.0</td>\n",
       "      <td>0.0</td>\n",
       "      <td>183.0</td>\n",
       "      <td>0.347578</td>\n",
       "      <td>Sous-stock</td>\n",
       "      <td>PNN</td>\n",
       "    </tr>\n",
       "    <tr>\n",
       "      <th>2</th>\n",
       "      <td>2025-03-01</td>\n",
       "      <td>3230046.0</td>\n",
       "      <td>RESOMAL sach 42g/l carton/100</td>\n",
       "      <td>CARTON/100</td>\n",
       "      <td>1.333333</td>\n",
       "      <td>0.0</td>\n",
       "      <td>0.0</td>\n",
       "      <td>6.0</td>\n",
       "      <td>0.0</td>\n",
       "      <td>6.0</td>\n",
       "      <td>4.5</td>\n",
       "      <td>Bon</td>\n",
       "      <td>PNN</td>\n",
       "    </tr>\n",
       "  </tbody>\n",
       "</table>\n",
       "</div>"
      ],
      "text/plain": [
       "  date_report  code_produit                     designation  contenance  \\\n",
       "1  2025-03-01     3230040.0  PLUMPY NUT sach 92g carton/150  CARTON/150   \n",
       "2  2025-03-01     3230046.0   RESOMAL sach 42g/l carton/100  CARTON/100   \n",
       "\n",
       "        dmm  traceurs  stock_theorique_bke  stock_theorique_abj  \\\n",
       "1     526.5       1.0                 66.0                117.0   \n",
       "2  1.333333       0.0                  0.0                  6.0   \n",
       "\n",
       "   stock_theorique_central  stock_theorique_fin_mois       msd statut_stock  \\\n",
       "1                      0.0                     183.0  0.347578   Sous-stock   \n",
       "2                      0.0                       6.0       4.5          Bon   \n",
       "\n",
       "  programme  \n",
       "1       PNN  \n",
       "2       PNN  "
      ]
     },
     "execution_count": 10,
     "metadata": {},
     "output_type": "execute_result"
    }
   ],
   "source": [
    "sheet_stock_npsp = compute_indicators.utils.check_if_sheet_name_in_file('Etat de stock', sheetnames)\n",
    "\n",
    "assert sheet_stock_npsp is not None, print(f\"La feuille `Etat de stock` n'est pas dans la liste {sheetnames} du classeur excel\")\n",
    "\n",
    "df_etat_stock_npsp = pd.read_excel(fp_etat_mensuel, sheet_name=sheet_stock_npsp, skiprows=4)\n",
    "df_etat_stock_npsp.columns = df_etat_stock_npsp.columns.str.strip()\n",
    "\n",
    "del sheet_stock_npsp\n",
    "\n",
    "df_etat_stock_npsp = df_etat_stock_npsp.loc[df_etat_stock_npsp[\"Nouveau code\"].notna()]\n",
    "\n",
    "df_etat_stock_npsp = compute_indicators.file_utils.process_etat_stock_npsp(df_etat_stock_npsp, date_report, programme)\n",
    "\n",
    "df_etat_stock_npsp.head(2)"
   ]
  },
  {
   "cell_type": "markdown",
   "id": "35af5650-cbb4-4b85-9fdd-301717a20e95",
   "metadata": {
    "papermill": {
     "duration": 0.198033,
     "end_time": "2025-05-14T11:54:36.877266",
     "exception": false,
     "start_time": "2025-05-14T11:54:36.679233",
     "status": "completed"
    },
    "tags": []
   },
   "source": [
    "## 📌3. Importation de la feuille `Stock detaille`"
   ]
  },
  {
   "cell_type": "code",
   "execution_count": 11,
   "id": "7722f6ab-9539-4935-9e0d-7b8973dabf7c",
   "metadata": {
    "execution": {
     "iopub.execute_input": "2025-05-14T11:54:37.393241Z",
     "iopub.status.busy": "2025-05-14T11:54:37.392807Z",
     "iopub.status.idle": "2025-05-14T11:54:37.613272Z",
     "shell.execute_reply": "2025-05-14T11:54:37.612578Z"
    },
    "papermill": {
     "duration": 0.430905,
     "end_time": "2025-05-14T11:54:37.615094",
     "exception": false,
     "start_time": "2025-05-14T11:54:37.184189",
     "status": "completed"
    },
    "tags": []
   },
   "outputs": [
    {
     "data": {
      "text/html": [
       "<div>\n",
       "<style scoped>\n",
       "    .dataframe tbody tr th:only-of-type {\n",
       "        vertical-align: middle;\n",
       "    }\n",
       "\n",
       "    .dataframe tbody tr th {\n",
       "        vertical-align: top;\n",
       "    }\n",
       "\n",
       "    .dataframe thead th {\n",
       "        text-align: right;\n",
       "    }\n",
       "</style>\n",
       "<table border=\"1\" class=\"dataframe\">\n",
       "  <thead>\n",
       "    <tr style=\"text-align: right;\">\n",
       "      <th></th>\n",
       "      <th>Code produit</th>\n",
       "      <th>Désignation</th>\n",
       "      <th>Emplacement</th>\n",
       "      <th>Date limite de consommation</th>\n",
       "      <th>Numéro Lot</th>\n",
       "      <th>Sous lot (Programme)</th>\n",
       "      <th>Qté \\nPhysique</th>\n",
       "      <th>Qté \\nlivrable</th>\n",
       "      <th>Unit</th>\n",
       "      <th>Site</th>\n",
       "      <th>Dépôt</th>\n",
       "      <th>Sous lot</th>\n",
       "      <th>Site.1</th>\n",
       "      <th>Bailleur</th>\n",
       "      <th>Statut</th>\n",
       "    </tr>\n",
       "  </thead>\n",
       "  <tbody>\n",
       "    <tr>\n",
       "      <th>0</th>\n",
       "      <td>3230037</td>\n",
       "      <td>LAIT THERAPEUTIQUE F-75 400G BTE/1</td>\n",
       "      <td>01A01A01</td>\n",
       "      <td>2025-12-31</td>\n",
       "      <td>74053</td>\n",
       "      <td>PNN</td>\n",
       "      <td>24</td>\n",
       "      <td>0</td>\n",
       "      <td>BTE</td>\n",
       "      <td>PG01</td>\n",
       "      <td>PGWIB</td>\n",
       "      <td>PNN</td>\n",
       "      <td>PG01</td>\n",
       "      <td>UNICEF</td>\n",
       "      <td>Q</td>\n",
       "    </tr>\n",
       "    <tr>\n",
       "      <th>1</th>\n",
       "      <td>4150108</td>\n",
       "      <td>BP-5 COMPACT FOOD 500g. CARTON/24</td>\n",
       "      <td>01A02A22</td>\n",
       "      <td>2027-07-04</td>\n",
       "      <td>220704-L1044</td>\n",
       "      <td>PNN</td>\n",
       "      <td>55</td>\n",
       "      <td>55</td>\n",
       "      <td>CART</td>\n",
       "      <td>PG01</td>\n",
       "      <td>PGWIB</td>\n",
       "      <td>PNN</td>\n",
       "      <td>PG01</td>\n",
       "      <td>UNICEF</td>\n",
       "      <td>A</td>\n",
       "    </tr>\n",
       "  </tbody>\n",
       "</table>\n",
       "</div>"
      ],
      "text/plain": [
       "   Code produit                         Désignation Emplacement  \\\n",
       "0       3230037  LAIT THERAPEUTIQUE F-75 400G BTE/1    01A01A01   \n",
       "1       4150108   BP-5 COMPACT FOOD 500g. CARTON/24    01A02A22   \n",
       "\n",
       "  Date limite de consommation    Numéro Lot Sous lot (Programme)  \\\n",
       "0                  2025-12-31         74053                  PNN   \n",
       "1                  2027-07-04  220704-L1044                  PNN   \n",
       "\n",
       "   Qté \\nPhysique  Qté \\nlivrable  Unit  Site  Dépôt Sous lot Site.1 Bailleur  \\\n",
       "0              24               0   BTE  PG01  PGWIB      PNN   PG01   UNICEF   \n",
       "1              55              55  CART  PG01  PGWIB      PNN   PG01   UNICEF   \n",
       "\n",
       "  Statut  \n",
       "0      Q  \n",
       "1      A  "
      ]
     },
     "execution_count": 11,
     "metadata": {},
     "output_type": "execute_result"
    }
   ],
   "source": [
    "sheet_stock_detaille = compute_indicators.utils.check_if_sheet_name_in_file('Stock detaille', sheetnames)\n",
    "\n",
    "assert sheet_stock_detaille is not None, print(f\"La feuille `Stock detaille` n'est pas dans la liste {sheetnames} du classeur excel\")\n",
    "\n",
    "df_stock_detaille = pd.read_excel(fp_etat_mensuel, sheet_name=sheet_stock_detaille)\n",
    "df_stock_detaille.columns = df_stock_detaille.columns.str.strip()\n",
    "\n",
    "max_date_year = pd.Timestamp.max.year\n",
    "\n",
    "df_stock_detaille[\"Date limite de consommation\"] = df_stock_detaille[\"Date limite de consommation\"].apply(\n",
    "    lambda x: x if x.year<max_date_year else x.replace(year=max_date_year-1)\n",
    ")\n",
    "\n",
    "del sheet_stock_detaille, max_date_year\n",
    "\n",
    "df_stock_detaille.head(2)"
   ]
  },
  {
   "cell_type": "markdown",
   "id": "37de2849-dc65-4fb7-b87a-8faf7121f280",
   "metadata": {
    "papermill": {
     "duration": 0.604563,
     "end_time": "2025-05-14T11:54:38.449067",
     "exception": false,
     "start_time": "2025-05-14T11:54:37.844504",
     "status": "completed"
    },
    "tags": []
   },
   "source": [
    "## 📌4. Importation de la feuille `Distribution X3`"
   ]
  },
  {
   "cell_type": "code",
   "execution_count": 12,
   "id": "7f1f692a-9147-4ac1-b50e-a0ba94ca588f",
   "metadata": {
    "execution": {
     "iopub.execute_input": "2025-05-14T11:54:38.961251Z",
     "iopub.status.busy": "2025-05-14T11:54:38.960399Z",
     "iopub.status.idle": "2025-05-14T11:54:39.423834Z",
     "shell.execute_reply": "2025-05-14T11:54:39.422881Z"
    },
    "papermill": {
     "duration": 0.770379,
     "end_time": "2025-05-14T11:54:39.425363",
     "exception": false,
     "start_time": "2025-05-14T11:54:38.654984",
     "status": "completed"
    },
    "tags": []
   },
   "outputs": [
    {
     "data": {
      "text/html": [
       "<div>\n",
       "<style scoped>\n",
       "    .dataframe tbody tr th:only-of-type {\n",
       "        vertical-align: middle;\n",
       "    }\n",
       "\n",
       "    .dataframe tbody tr th {\n",
       "        vertical-align: top;\n",
       "    }\n",
       "\n",
       "    .dataframe thead th {\n",
       "        text-align: right;\n",
       "    }\n",
       "</style>\n",
       "<table border=\"1\" class=\"dataframe\">\n",
       "  <thead>\n",
       "    <tr style=\"text-align: right;\">\n",
       "      <th></th>\n",
       "      <th>Programme</th>\n",
       "      <th>Date de livraison</th>\n",
       "      <th>No commande</th>\n",
       "      <th>No livraison</th>\n",
       "      <th>Client</th>\n",
       "      <th>Raison sociale</th>\n",
       "      <th>Article</th>\n",
       "      <th>Désignation</th>\n",
       "      <th>Unité vente</th>\n",
       "      <th>Qté commandée</th>\n",
       "      <th>Qté livrée</th>\n",
       "    </tr>\n",
       "  </thead>\n",
       "  <tbody>\n",
       "    <tr>\n",
       "      <th>0</th>\n",
       "      <td>PNN</td>\n",
       "      <td>2025-03-03</td>\n",
       "      <td>VAL01-PSG-2502-0062</td>\n",
       "      <td>BL01-PSG-2503-0068</td>\n",
       "      <td>40300094</td>\n",
       "      <td>HOPITAL GENERAL PORT-BOUET</td>\n",
       "      <td>3230040</td>\n",
       "      <td>PLUMPY NUT sach 92g carton/150 CART  -</td>\n",
       "      <td>CART</td>\n",
       "      <td>2</td>\n",
       "      <td>2</td>\n",
       "    </tr>\n",
       "    <tr>\n",
       "      <th>1</th>\n",
       "      <td>PNN</td>\n",
       "      <td>2025-03-03</td>\n",
       "      <td>VAL01-PSG-2502-0208</td>\n",
       "      <td>BL01-PSG-2503-0041</td>\n",
       "      <td>31800014</td>\n",
       "      <td>CHR ABENGOUROU</td>\n",
       "      <td>3230037</td>\n",
       "      <td>LAIT THERAPEUTIQUE F-75 400G BTE/1 BTE  -</td>\n",
       "      <td>BTE</td>\n",
       "      <td>12</td>\n",
       "      <td>12</td>\n",
       "    </tr>\n",
       "  </tbody>\n",
       "</table>\n",
       "</div>"
      ],
      "text/plain": [
       "  Programme Date de livraison          No commande        No livraison  \\\n",
       "0       PNN        2025-03-03  VAL01-PSG-2502-0062  BL01-PSG-2503-0068   \n",
       "1       PNN        2025-03-03  VAL01-PSG-2502-0208  BL01-PSG-2503-0041   \n",
       "\n",
       "     Client              Raison sociale  Article  \\\n",
       "0  40300094  HOPITAL GENERAL PORT-BOUET  3230040   \n",
       "1  31800014              CHR ABENGOUROU  3230037   \n",
       "\n",
       "                                 Désignation Unité vente  Qté commandée  \\\n",
       "0     PLUMPY NUT sach 92g carton/150 CART  -        CART              2   \n",
       "1  LAIT THERAPEUTIQUE F-75 400G BTE/1 BTE  -         BTE             12   \n",
       "\n",
       "   Qté livrée  \n",
       "0           2  \n",
       "1          12  "
      ]
     },
     "execution_count": 12,
     "metadata": {},
     "output_type": "execute_result"
    }
   ],
   "source": [
    "sheet_distribution_x3 = compute_indicators.utils.check_if_sheet_name_in_file('Distribution', sheetnames)\n",
    "\n",
    "assert sheet_distribution_x3 is not None, print(f\"La feuille `Distribution X3` n'est pas dans la liste {sheetnames} du classeur excel\")\n",
    "\n",
    "df_distribution = pd.read_excel(fp_etat_mensuel, sheet_name=sheet_distribution_x3)\n",
    "df_distribution.columns = df_distribution.columns.str.strip()\n",
    "\n",
    "del sheet_distribution_x3\n",
    "\n",
    "df_distribution.head(2)"
   ]
  },
  {
   "cell_type": "markdown",
   "id": "ccad74b5-8006-4fb2-9728-ec7b22892cc2",
   "metadata": {
    "papermill": {
     "duration": 0.165008,
     "end_time": "2025-05-14T11:54:39.784676",
     "exception": false,
     "start_time": "2025-05-14T11:54:39.619668",
     "status": "completed"
    },
    "tags": []
   },
   "source": [
    "## 📌5. Importation de la feuille `Receptions`"
   ]
  },
  {
   "cell_type": "code",
   "execution_count": 13,
   "id": "aba1696b-3a88-4499-8e96-218b21191f07",
   "metadata": {
    "execution": {
     "iopub.execute_input": "2025-05-14T11:54:46.111044Z",
     "iopub.status.busy": "2025-05-14T11:54:46.110497Z",
     "iopub.status.idle": "2025-05-14T11:54:46.217548Z",
     "shell.execute_reply": "2025-05-14T11:54:46.216612Z"
    },
    "papermill": {
     "duration": 5.219048,
     "end_time": "2025-05-14T11:54:46.219308",
     "exception": false,
     "start_time": "2025-05-14T11:54:41.000260",
     "status": "completed"
    },
    "tags": []
   },
   "outputs": [
    {
     "data": {
      "text/html": [
       "<div>\n",
       "<style scoped>\n",
       "    .dataframe tbody tr th:only-of-type {\n",
       "        vertical-align: middle;\n",
       "    }\n",
       "\n",
       "    .dataframe tbody tr th {\n",
       "        vertical-align: top;\n",
       "    }\n",
       "\n",
       "    .dataframe thead th {\n",
       "        text-align: right;\n",
       "    }\n",
       "</style>\n",
       "<table border=\"1\" class=\"dataframe\">\n",
       "  <thead>\n",
       "    <tr style=\"text-align: right;\">\n",
       "      <th></th>\n",
       "      <th>Programme</th>\n",
       "      <th>Bailleur (Funding)</th>\n",
       "      <th>Nouveau code</th>\n",
       "      <th>Code</th>\n",
       "      <th>Désignation NPSP</th>\n",
       "      <th>Date de réception effective</th>\n",
       "      <th>Date effective de dépotage et/ou expertise</th>\n",
       "      <th>Quantité réceptionnée</th>\n",
       "      <th>Date d'entrée en machine</th>\n",
       "    </tr>\n",
       "  </thead>\n",
       "  <tbody>\n",
       "  </tbody>\n",
       "</table>\n",
       "</div>"
      ],
      "text/plain": [
       "Empty DataFrame\n",
       "Columns: [Programme, Bailleur (Funding), Nouveau code, Code, Désignation NPSP, Date de réception effective, Date effective de dépotage et/ou expertise, Quantité réceptionnée, Date d'entrée en machine]\n",
       "Index: []"
      ]
     },
     "execution_count": 13,
     "metadata": {},
     "output_type": "execute_result"
    }
   ],
   "source": [
    "sheet_reception = compute_indicators.utils.check_if_sheet_name_in_file('Receptions', sheetnames)\n",
    "\n",
    "assert sheet_reception is not None, print(f\"La feuille `Receptions` n'est pas dans la liste {sheetnames} du classeur excel\")\n",
    "\n",
    "df_receptions = pd.read_excel(fp_etat_mensuel, sheet_name=sheet_reception)\n",
    "df_receptions.columns = df_receptions.columns.str.strip()\n",
    "\n",
    "del sheet_reception\n",
    "\n",
    "df_receptions.head(2)"
   ]
  },
  {
   "cell_type": "markdown",
   "id": "5fca5f1b-ec81-4434-b361-25edab77eb43",
   "metadata": {
    "papermill": {
     "duration": 0.400639,
     "end_time": "2025-05-14T11:54:48.350530",
     "exception": false,
     "start_time": "2025-05-14T11:54:47.949891",
     "status": "completed"
    },
    "tags": []
   },
   "source": [
    "## 📌6. Importation de la feuille `PPI`"
   ]
  },
  {
   "cell_type": "code",
   "execution_count": 14,
   "id": "028e57f8-0239-43a3-b979-56fc164212e4",
   "metadata": {
    "execution": {
     "iopub.execute_input": "2025-05-14T11:54:48.778152Z",
     "iopub.status.busy": "2025-05-14T11:54:48.777597Z",
     "iopub.status.idle": "2025-05-14T11:54:48.859568Z",
     "shell.execute_reply": "2025-05-14T11:54:48.858514Z"
    },
    "papermill": {
     "duration": 0.292192,
     "end_time": "2025-05-14T11:54:48.861257",
     "exception": false,
     "start_time": "2025-05-14T11:54:48.569065",
     "status": "completed"
    },
    "tags": []
   },
   "outputs": [
    {
     "data": {
      "text/html": [
       "<div>\n",
       "<style scoped>\n",
       "    .dataframe tbody tr th:only-of-type {\n",
       "        vertical-align: middle;\n",
       "    }\n",
       "\n",
       "    .dataframe tbody tr th {\n",
       "        vertical-align: top;\n",
       "    }\n",
       "\n",
       "    .dataframe thead th {\n",
       "        text-align: right;\n",
       "    }\n",
       "</style>\n",
       "<table border=\"1\" class=\"dataframe\">\n",
       "  <thead>\n",
       "    <tr style=\"text-align: right;\">\n",
       "      <th></th>\n",
       "      <th>Code Produit</th>\n",
       "      <th>Nom Produit</th>\n",
       "      <th>Unite</th>\n",
       "      <th>Numéro Lot</th>\n",
       "      <th>Date Peremption</th>\n",
       "      <th>Quantité</th>\n",
       "    </tr>\n",
       "  </thead>\n",
       "  <tbody>\n",
       "    <tr>\n",
       "      <th>0</th>\n",
       "      <td>3230037</td>\n",
       "      <td>LAIT THERAPEUTIQUE F-75 400G BTE/1</td>\n",
       "      <td>BTE</td>\n",
       "      <td>69952</td>\n",
       "      <td>2025-01-01</td>\n",
       "      <td>449</td>\n",
       "    </tr>\n",
       "    <tr>\n",
       "      <th>1</th>\n",
       "      <td>3230040</td>\n",
       "      <td>PLUMPY NUT sach 92g carton/150</td>\n",
       "      <td>CART</td>\n",
       "      <td>23034005</td>\n",
       "      <td>2025-01-01</td>\n",
       "      <td>1</td>\n",
       "    </tr>\n",
       "  </tbody>\n",
       "</table>\n",
       "</div>"
      ],
      "text/plain": [
       "   Code Produit                         Nom Produit Unite Numéro Lot  \\\n",
       "0       3230037  LAIT THERAPEUTIQUE F-75 400G BTE/1   BTE      69952   \n",
       "1       3230040      PLUMPY NUT sach 92g carton/150  CART   23034005   \n",
       "\n",
       "  Date Peremption  Quantité  \n",
       "0      2025-01-01       449  \n",
       "1      2025-01-01         1  "
      ]
     },
     "execution_count": 14,
     "metadata": {},
     "output_type": "execute_result"
    }
   ],
   "source": [
    "sheet_ppi = compute_indicators.utils.check_if_sheet_name_in_file('PPI', sheetnames)\n",
    "\n",
    "assert sheet_ppi is not None, print(f\"La feuille `PPI` n'est pas dans la liste {sheetnames} du classeur excel\")\n",
    "\n",
    "df_ppi = pd.read_excel(fp_etat_mensuel, sheet_name=sheet_ppi, skiprows=2)\n",
    "df_ppi.columns = df_ppi.columns.str.strip()\n",
    "\n",
    "del sheet_ppi\n",
    "\n",
    "df_ppi.head(2)"
   ]
  },
  {
   "cell_type": "markdown",
   "id": "7d034716-4571-4dbd-ab3c-a59bc9cd8d70",
   "metadata": {
    "papermill": {
     "duration": 0.187399,
     "end_time": "2025-05-14T11:54:49.236046",
     "exception": false,
     "start_time": "2025-05-14T11:54:49.048647",
     "status": "completed"
    },
    "tags": []
   },
   "source": [
    "## 📌7. Importation de la feuille  `Prélèvement`"
   ]
  },
  {
   "cell_type": "code",
   "execution_count": 15,
   "id": "f19419ab-c0ad-444f-9d58-c816e6a3371b",
   "metadata": {
    "execution": {
     "iopub.execute_input": "2025-05-14T11:54:51.091166Z",
     "iopub.status.busy": "2025-05-14T11:54:51.090316Z",
     "iopub.status.idle": "2025-05-14T11:54:51.186322Z",
     "shell.execute_reply": "2025-05-14T11:54:51.185292Z"
    },
    "papermill": {
     "duration": 1.649286,
     "end_time": "2025-05-14T11:54:51.187906",
     "exception": false,
     "start_time": "2025-05-14T11:54:49.538620",
     "status": "completed"
    },
    "tags": []
   },
   "outputs": [
    {
     "data": {
      "text/html": [
       "<div>\n",
       "<style scoped>\n",
       "    .dataframe tbody tr th:only-of-type {\n",
       "        vertical-align: middle;\n",
       "    }\n",
       "\n",
       "    .dataframe tbody tr th {\n",
       "        vertical-align: top;\n",
       "    }\n",
       "\n",
       "    .dataframe thead th {\n",
       "        text-align: right;\n",
       "    }\n",
       "</style>\n",
       "<table border=\"1\" class=\"dataframe\">\n",
       "  <thead>\n",
       "    <tr style=\"text-align: right;\">\n",
       "      <th></th>\n",
       "      <th>Code Produit</th>\n",
       "      <th>Nom Produit</th>\n",
       "      <th>Unite</th>\n",
       "      <th>Numéro Lot</th>\n",
       "      <th>Date Peremption</th>\n",
       "      <th>Quantité</th>\n",
       "    </tr>\n",
       "  </thead>\n",
       "  <tbody>\n",
       "  </tbody>\n",
       "</table>\n",
       "</div>"
      ],
      "text/plain": [
       "Empty DataFrame\n",
       "Columns: [Code Produit, Nom Produit, Unite, Numéro Lot, Date Peremption, Quantité]\n",
       "Index: []"
      ]
     },
     "execution_count": 15,
     "metadata": {},
     "output_type": "execute_result"
    }
   ],
   "source": [
    "sheet_prelev = compute_indicators.utils.check_if_sheet_name_in_file('Prelèvement CQ', sheetnames)\n",
    "\n",
    "assert sheet_prelev is not None, print(f\"La feuille `Prelèvement CQ` n'est pas dans la liste {sheetnames} du classeur excel\")\n",
    "\n",
    "df_prelevement = pd.read_excel(fp_etat_mensuel, sheet_name=sheet_prelev, skiprows=2)\n",
    "df_prelevement.columns = df_prelevement.columns.str.strip()\n",
    "\n",
    "del sheet_prelev\n",
    "\n",
    "df_prelevement.head(2)"
   ]
  },
  {
   "cell_type": "markdown",
   "id": "6df2ffd3-0e49-4c80-adc1-1219f1756a8a",
   "metadata": {
    "papermill": {
     "duration": 0.229167,
     "end_time": "2025-05-14T11:54:53.248558",
     "exception": false,
     "start_time": "2025-05-14T11:54:53.019391",
     "status": "completed"
    },
    "tags": []
   },
   "source": [
    "## 📌8. Importation du fichier de `mapping des produits QAT et SAGE X3`\n",
    "\n",
    "- **Format requis :** Respectez la structure du fichier.  \n",
    "- **Emplacement du fichier :** Le fichier doit être placé dans le répertoire suivant :  \n",
    "  **`Fichier Suivi de Stock/data/Mapping produits QAT SAGE X3`**  \n",
    "- **En cas d'erreur :**\n",
    "  - Vérifiez que le fichier est bien présent dans le répertoire.  \n",
    "  - Assurez-vous que les données respectent le format attendu. \n",
    "  - Vérifiez l'intégrité du fichier et assurez-vous et corriger l'anomalie."
   ]
  },
  {
   "cell_type": "code",
   "execution_count": 16,
   "id": "d7c8434e-8083-4d70-91bf-07c813f36fe4",
   "metadata": {
    "execution": {
     "iopub.execute_input": "2025-05-14T11:55:00.085679Z",
     "iopub.status.busy": "2025-05-14T11:55:00.084680Z",
     "iopub.status.idle": "2025-05-14T11:55:00.089649Z",
     "shell.execute_reply": "2025-05-14T11:55:00.088725Z"
    },
    "papermill": {
     "duration": 0.255697,
     "end_time": "2025-05-14T11:55:00.091260",
     "exception": false,
     "start_time": "2025-05-14T11:54:59.835563",
     "status": "completed"
    },
    "tags": []
   },
   "outputs": [],
   "source": [
    "fp_map_prod = (\n",
    "    Path(workspace.files_path)\n",
    "    / \"Fichier Suivi de Stock/data/Mapping produits QAT SAGE X3\"\n",
    "    / Path(fp_map_prod).name\n",
    ")"
   ]
  },
  {
   "cell_type": "code",
   "execution_count": 17,
   "id": "8fb198eb-ad43-4572-b4ff-7f3cbcc52a13",
   "metadata": {
    "execution": {
     "iopub.execute_input": "2025-05-14T11:55:00.521141Z",
     "iopub.status.busy": "2025-05-14T11:55:00.520539Z",
     "iopub.status.idle": "2025-05-14T11:55:00.593538Z",
     "shell.execute_reply": "2025-05-14T11:55:00.592578Z"
    },
    "papermill": {
     "duration": 0.296166,
     "end_time": "2025-05-14T11:55:00.595578",
     "exception": false,
     "start_time": "2025-05-14T11:55:00.299412",
     "status": "completed"
    },
    "tags": []
   },
   "outputs": [],
   "source": [
    "assert fp_map_prod.exists(), \"Le fichier de mapping des produits n'a pas été retrouvé dans le dossier dédié\""
   ]
  },
  {
   "cell_type": "markdown",
   "id": "e9df904b-5610-4442-aac3-294e6a2e0330",
   "metadata": {
    "papermill": {
     "duration": 0.429528,
     "end_time": "2025-05-14T11:55:02.255032",
     "exception": false,
     "start_time": "2025-05-14T11:55:01.825504",
     "status": "completed"
    },
    "tags": []
   },
   "source": [
    "## 📌9. Importation du `Plan d'approvisionnement`\n",
    "\n",
    "- **Format requis :** Respectez la structure du fichier définie pour l’importation peut conserver le fichier brut extrait de QAT.  \n",
    "- **Emplacement du fichier :** Le fichier doit être placé dans le répertoire suivant :  \n",
    "  **`Fichier Suivi de Stock/data/<programme>/Plan d'Approvisionnement`**  \n",
    "- **En cas d'erreur :**\n",
    "  - Vérifiez que le fichier est bien présent dans le répertoire.  \n",
    "  - Assurez-vous que les données respectent le format attendu.\n",
    "  - Vérifiez l'intégrité du fichier et assurez-vous et corriger l'anomalie."
   ]
  },
  {
   "cell_type": "code",
   "execution_count": 18,
   "id": "e5fe00dc-e276-4175-ab18-a31b4eeffe6e",
   "metadata": {
    "execution": {
     "iopub.execute_input": "2025-05-14T11:55:04.297931Z",
     "iopub.status.busy": "2025-05-14T11:55:04.297419Z",
     "iopub.status.idle": "2025-05-14T11:55:04.303013Z",
     "shell.execute_reply": "2025-05-14T11:55:04.302022Z"
    },
    "papermill": {
     "duration": 1.840312,
     "end_time": "2025-05-14T11:55:04.304842",
     "exception": false,
     "start_time": "2025-05-14T11:55:02.464530",
     "status": "completed"
    },
    "tags": []
   },
   "outputs": [],
   "source": [
    "fp_plan_approv = (\n",
    "    Path(workspace.files_path)\n",
    "    / f\"Fichier Suivi de Stock/data/{programme}/Plan d'Approvisionnement\"\n",
    "    / Path(fp_plan_approv)\n",
    ")"
   ]
  },
  {
   "cell_type": "code",
   "execution_count": 19,
   "id": "e3eb96f7-270b-4a55-a8b7-d74a6342b06d",
   "metadata": {
    "execution": {
     "iopub.execute_input": "2025-05-14T11:55:08.847387Z",
     "iopub.status.busy": "2025-05-14T11:55:08.845521Z",
     "iopub.status.idle": "2025-05-14T11:55:09.372180Z",
     "shell.execute_reply": "2025-05-14T11:55:09.370578Z"
    },
    "papermill": {
     "duration": 3.291208,
     "end_time": "2025-05-14T11:55:09.375543",
     "exception": false,
     "start_time": "2025-05-14T11:55:06.084335",
     "status": "completed"
    },
    "tags": []
   },
   "outputs": [
    {
     "data": {
      "text/html": [
       "<div>\n",
       "<style scoped>\n",
       "    .dataframe tbody tr th:only-of-type {\n",
       "        vertical-align: middle;\n",
       "    }\n",
       "\n",
       "    .dataframe tbody tr th {\n",
       "        vertical-align: top;\n",
       "    }\n",
       "\n",
       "    .dataframe thead th {\n",
       "        text-align: right;\n",
       "    }\n",
       "</style>\n",
       "<table border=\"1\" class=\"dataframe\">\n",
       "  <thead>\n",
       "    <tr style=\"text-align: right;\">\n",
       "      <th></th>\n",
       "      <th>ID de produit QAT</th>\n",
       "      <th>Produits</th>\n",
       "      <th>ID de l`envoi QAT</th>\n",
       "      <th>Commande d`urgence</th>\n",
       "      <th>Commande PGI</th>\n",
       "      <th>Approvisionnement local</th>\n",
       "      <th>N° de commande de l`agent d`approvisionnement</th>\n",
       "      <th>Agent d`approvisionnement</th>\n",
       "      <th>Source de financement</th>\n",
       "      <th>Budget</th>\n",
       "      <th>Status</th>\n",
       "      <th>Quantite</th>\n",
       "      <th>DATE</th>\n",
       "      <th>Cout des Produits</th>\n",
       "      <th>Couts du fret</th>\n",
       "      <th>Couts totaux</th>\n",
       "      <th>Notes</th>\n",
       "      <th>Standard product code</th>\n",
       "      <th>cout_unitaire_moyen_qat</th>\n",
       "      <th>facteur_de_conversion_qat_sage</th>\n",
       "      <th>acronym</th>\n",
       "      <th>code_and_date_concate</th>\n",
       "    </tr>\n",
       "  </thead>\n",
       "  <tbody>\n",
       "    <tr>\n",
       "      <th>0</th>\n",
       "      <td>1144</td>\n",
       "      <td>Albendazole 400 mg Chewable Tablet  100 Tablets</td>\n",
       "      <td>161753</td>\n",
       "      <td>false</td>\n",
       "      <td>false</td>\n",
       "      <td>false</td>\n",
       "      <td></td>\n",
       "      <td>TBD</td>\n",
       "      <td>TBD</td>\n",
       "      <td>TBD</td>\n",
       "      <td>Planifié</td>\n",
       "      <td>21900.0</td>\n",
       "      <td>2025-05-31</td>\n",
       "      <td>153300.0</td>\n",
       "      <td>15330.0</td>\n",
       "      <td>168630.0</td>\n",
       "      <td></td>\n",
       "      <td>3050002</td>\n",
       "      <td>7.00</td>\n",
       "      <td>1</td>\n",
       "      <td>ALBENDAZOLE 400mg comp</td>\n",
       "      <td>3050002_2025-05-31</td>\n",
       "    </tr>\n",
       "    <tr>\n",
       "      <th>1</th>\n",
       "      <td>5190</td>\n",
       "      <td>Ready-to-Use Therapeutic Food (RUTF) 92 g Past...</td>\n",
       "      <td>161758</td>\n",
       "      <td>false</td>\n",
       "      <td>false</td>\n",
       "      <td>false</td>\n",
       "      <td></td>\n",
       "      <td>TBD</td>\n",
       "      <td>WB</td>\n",
       "      <td>BM_PNN</td>\n",
       "      <td>Planifié</td>\n",
       "      <td>15000.0</td>\n",
       "      <td>2025-07-31</td>\n",
       "      <td>606300.0</td>\n",
       "      <td>60630.0</td>\n",
       "      <td>666930.0</td>\n",
       "      <td></td>\n",
       "      <td>3230040</td>\n",
       "      <td>40.42</td>\n",
       "      <td>1</td>\n",
       "      <td>PLUMPY NUT</td>\n",
       "      <td>3230040_2025-07-31</td>\n",
       "    </tr>\n",
       "  </tbody>\n",
       "</table>\n",
       "</div>"
      ],
      "text/plain": [
       "   ID de produit QAT                                           Produits  \\\n",
       "0               1144    Albendazole 400 mg Chewable Tablet  100 Tablets   \n",
       "1               5190  Ready-to-Use Therapeutic Food (RUTF) 92 g Past...   \n",
       "\n",
       "   ID de l`envoi QAT Commande d`urgence Commande PGI Approvisionnement local  \\\n",
       "0             161753              false        false                   false   \n",
       "1             161758              false        false                   false   \n",
       "\n",
       "  N° de commande de l`agent d`approvisionnement Agent d`approvisionnement  \\\n",
       "0                                                                     TBD   \n",
       "1                                                                     TBD   \n",
       "\n",
       "  Source de financement  Budget    Status  Quantite       DATE  \\\n",
       "0                   TBD     TBD  Planifié   21900.0 2025-05-31   \n",
       "1                    WB  BM_PNN  Planifié   15000.0 2025-07-31   \n",
       "\n",
       "   Cout des Produits  Couts du fret  Couts totaux Notes  \\\n",
       "0           153300.0        15330.0      168630.0         \n",
       "1           606300.0        60630.0      666930.0         \n",
       "\n",
       "   Standard product code  cout_unitaire_moyen_qat  \\\n",
       "0                3050002                     7.00   \n",
       "1                3230040                    40.42   \n",
       "\n",
       "   facteur_de_conversion_qat_sage                 acronym  \\\n",
       "0                               1  ALBENDAZOLE 400mg comp   \n",
       "1                               1             PLUMPY NUT    \n",
       "\n",
       "  code_and_date_concate  \n",
       "0    3050002_2025-05-31  \n",
       "1    3230040_2025-07-31  "
      ]
     },
     "execution_count": 19,
     "metadata": {},
     "output_type": "execute_result"
    }
   ],
   "source": [
    "df_plan_approv = compute_indicators.file_utils.process_pa_files(fp_plan_approv, fp_map_prod, programme)\n",
    "\n",
    "df_plan_approv[\"facteur_de_conversion_qat_sage\"] = df_plan_approv[\"facteur_de_conversion_qat_sage\"].apply(\n",
    "    lambda x: x if not pd.isna(x) else 1\n",
    ")\n",
    "\n",
    "df_plan_approv.head(2)"
   ]
  },
  {
   "cell_type": "markdown",
   "id": "16319b53-77c7-423a-999a-37aa2052514e",
   "metadata": {
    "papermill": {
     "duration": 0.23346,
     "end_time": "2025-05-14T11:55:09.861535",
     "exception": false,
     "start_time": "2025-05-14T11:55:09.628075",
     "status": "completed"
    },
    "tags": []
   },
   "source": [
    "# IV.📊Calcul des Indicateurs"
   ]
  },
  {
   "cell_type": "markdown",
   "id": "46d1687e-eb8e-4515-9be3-1bc3ffb55184",
   "metadata": {
    "papermill": {
     "duration": 0.913964,
     "end_time": "2025-05-14T11:55:10.992743",
     "exception": false,
     "start_time": "2025-05-14T11:55:10.078779",
     "status": "completed"
    },
    "tags": []
   },
   "source": [
    "## 📌1. `Etat de Stock (1/2)`"
   ]
  },
  {
   "cell_type": "code",
   "execution_count": 20,
   "id": "177a7f70-8d09-45b6-94fd-0900686bfc84",
   "metadata": {
    "execution": {
     "iopub.execute_input": "2025-05-14T11:55:14.487570Z",
     "iopub.status.busy": "2025-05-14T11:55:14.487070Z",
     "iopub.status.idle": "2025-05-14T11:55:14.728443Z",
     "shell.execute_reply": "2025-05-14T11:55:14.727571Z"
    },
    "papermill": {
     "duration": 3.500074,
     "end_time": "2025-05-14T11:55:14.730382",
     "exception": false,
     "start_time": "2025-05-14T11:55:11.230308",
     "status": "completed"
    },
    "tags": []
   },
   "outputs": [
    {
     "name": "stdout",
     "output_type": "stream",
     "text": [
      "Connexion à la base de données établie avec succès\n"
     ]
    },
    {
     "data": {
      "text/html": [
       "<div>\n",
       "<style scoped>\n",
       "    .dataframe tbody tr th:only-of-type {\n",
       "        vertical-align: middle;\n",
       "    }\n",
       "\n",
       "    .dataframe tbody tr th {\n",
       "        vertical-align: top;\n",
       "    }\n",
       "\n",
       "    .dataframe thead th {\n",
       "        text-align: right;\n",
       "    }\n",
       "</style>\n",
       "<table border=\"1\" class=\"dataframe\">\n",
       "  <thead>\n",
       "    <tr style=\"text-align: right;\">\n",
       "      <th></th>\n",
       "      <th>id_dim_produit_stock_track_pk</th>\n",
       "      <th>code_produit</th>\n",
       "      <th>ancien_code</th>\n",
       "      <th>categorie</th>\n",
       "      <th>designation</th>\n",
       "      <th>type_produit</th>\n",
       "      <th>unit_niveau_central</th>\n",
       "      <th>unit_niveau_peripherique</th>\n",
       "      <th>facteur_de_conversion</th>\n",
       "      <th>designation_acronym</th>\n",
       "      <th>code_qat</th>\n",
       "      <th>programme</th>\n",
       "      <th>cout_unitaire_moyen_qat</th>\n",
       "      <th>facteur_de_conversion_qat_sage</th>\n",
       "      <th>stock_theorique_mois_precedent</th>\n",
       "    </tr>\n",
       "  </thead>\n",
       "  <tbody>\n",
       "    <tr>\n",
       "      <th>0</th>\n",
       "      <td>380</td>\n",
       "      <td>3050002</td>\n",
       "      <td>AE02080</td>\n",
       "      <td>PNN - MEDICAMENTS ET ALIMENTS THERAPEUTIQUES</td>\n",
       "      <td>ALBENDAZOLE 400mg comp COMPRIME</td>\n",
       "      <td>Non traceur</td>\n",
       "      <td>COMPRIME</td>\n",
       "      <td>COMPRIME</td>\n",
       "      <td>1</td>\n",
       "      <td>ALBENDAZOLE 400mg comp</td>\n",
       "      <td>1144.0</td>\n",
       "      <td>PNN</td>\n",
       "      <td>7.00</td>\n",
       "      <td>1.0</td>\n",
       "      <td>0.0</td>\n",
       "    </tr>\n",
       "    <tr>\n",
       "      <th>1</th>\n",
       "      <td>381</td>\n",
       "      <td>3230036</td>\n",
       "      <td>AE01080</td>\n",
       "      <td>PNN - MEDICAMENTS ET ALIMENTS THERAPEUTIQUES</td>\n",
       "      <td>LAIT THERAPEUTIQUE F-100  BOITE/400G</td>\n",
       "      <td>Non traceur</td>\n",
       "      <td>BOITE</td>\n",
       "      <td>UNITE</td>\n",
       "      <td>1</td>\n",
       "      <td>LAIT  F-100  BOITE/400G</td>\n",
       "      <td>7561.0</td>\n",
       "      <td>PNN</td>\n",
       "      <td>2.36</td>\n",
       "      <td>1.0</td>\n",
       "      <td>765.0</td>\n",
       "    </tr>\n",
       "  </tbody>\n",
       "</table>\n",
       "</div>"
      ],
      "text/plain": [
       "   id_dim_produit_stock_track_pk  code_produit ancien_code  \\\n",
       "0                            380       3050002     AE02080   \n",
       "1                            381       3230036     AE01080   \n",
       "\n",
       "                                      categorie  \\\n",
       "0  PNN - MEDICAMENTS ET ALIMENTS THERAPEUTIQUES   \n",
       "1  PNN - MEDICAMENTS ET ALIMENTS THERAPEUTIQUES   \n",
       "\n",
       "                            designation type_produit unit_niveau_central  \\\n",
       "0     ALBENDAZOLE 400mg comp COMPRIME    Non traceur            COMPRIME   \n",
       "1  LAIT THERAPEUTIQUE F-100  BOITE/400G  Non traceur               BOITE   \n",
       "\n",
       "  unit_niveau_peripherique  facteur_de_conversion      designation_acronym  \\\n",
       "0                 COMPRIME                      1   ALBENDAZOLE 400mg comp   \n",
       "1                    UNITE                      1  LAIT  F-100  BOITE/400G   \n",
       "\n",
       "  code_qat programme  cout_unitaire_moyen_qat  facteur_de_conversion_qat_sage  \\\n",
       "0   1144.0       PNN                     7.00                             1.0   \n",
       "1   7561.0       PNN                     2.36                             1.0   \n",
       "\n",
       "   stock_theorique_mois_precedent  \n",
       "0                             0.0  \n",
       "1                           765.0  "
      ]
     },
     "execution_count": 20,
     "metadata": {},
     "output_type": "execute_result"
    }
   ],
   "source": [
    "stock_sync_manager.initialize_database_connection()\n",
    "\n",
    "schema_name = \"suivi_stock\"\n",
    "\n",
    "df_etat_stock = stock_sync_manager.get_table_data(\n",
    "    query=QUERY_ETAT_STOCK.format(\n",
    "        schema_name=schema_name, programme=programme, date_report_prec=date_report_prec\n",
    "    )\n",
    ").drop_duplicates()\n",
    "\n",
    "df_etat_stock.head(2)"
   ]
  },
  {
   "cell_type": "code",
   "execution_count": 21,
   "id": "0cc47bc4-3b68-4d26-882e-05b121b18ec5",
   "metadata": {
    "execution": {
     "iopub.execute_input": "2025-05-14T11:55:20.379315Z",
     "iopub.status.busy": "2025-05-14T11:55:20.378978Z",
     "iopub.status.idle": "2025-05-14T11:55:20.472206Z",
     "shell.execute_reply": "2025-05-14T11:55:20.471212Z"
    },
    "papermill": {
     "duration": 0.313554,
     "end_time": "2025-05-14T11:55:20.474034",
     "exception": false,
     "start_time": "2025-05-14T11:55:20.160480",
     "status": "completed"
    },
    "tags": []
   },
   "outputs": [
    {
     "data": {
      "text/html": [
       "<div>\n",
       "<style scoped>\n",
       "    .dataframe tbody tr th:only-of-type {\n",
       "        vertical-align: middle;\n",
       "    }\n",
       "\n",
       "    .dataframe tbody tr th {\n",
       "        vertical-align: top;\n",
       "    }\n",
       "\n",
       "    .dataframe thead th {\n",
       "        text-align: right;\n",
       "    }\n",
       "</style>\n",
       "<table border=\"1\" class=\"dataframe\">\n",
       "  <thead>\n",
       "    <tr style=\"text-align: right;\">\n",
       "      <th></th>\n",
       "      <th>id_dim_produit_stock_track_pk</th>\n",
       "      <th>code_produit</th>\n",
       "      <th>ancien_code</th>\n",
       "      <th>categorie</th>\n",
       "      <th>designation</th>\n",
       "      <th>type_produit</th>\n",
       "      <th>unit_niveau_central</th>\n",
       "      <th>unit_niveau_peripherique</th>\n",
       "      <th>facteur_de_conversion</th>\n",
       "      <th>designation_acronym</th>\n",
       "      <th>code_qat</th>\n",
       "      <th>programme</th>\n",
       "      <th>cout_unitaire_moyen_qat</th>\n",
       "      <th>facteur_de_conversion_qat_sage</th>\n",
       "      <th>stock_theorique_mois_precedent</th>\n",
       "      <th>Distribution effectuée</th>\n",
       "      <th>Quantité reçue entrée en stock</th>\n",
       "      <th>Quantité de PPI</th>\n",
       "      <th>Quantité prélévée en Contrôle Qualité (CQ)</th>\n",
       "      <th>Ajustement de stock</th>\n",
       "      <th>Stock Théorique Final SAGE</th>\n",
       "      <th>Stock Théorique Final Attendu</th>\n",
       "      <th>ECARTS</th>\n",
       "      <th>Justification des écarts</th>\n",
       "      <th>Diligences</th>\n",
       "      <th>Dilig. Choisie</th>\n",
       "    </tr>\n",
       "  </thead>\n",
       "  <tbody>\n",
       "    <tr>\n",
       "      <th>0</th>\n",
       "      <td>380</td>\n",
       "      <td>3050002</td>\n",
       "      <td>AE02080</td>\n",
       "      <td>PNN - MEDICAMENTS ET ALIMENTS THERAPEUTIQUES</td>\n",
       "      <td>ALBENDAZOLE 400mg comp COMPRIME</td>\n",
       "      <td>Non traceur</td>\n",
       "      <td>COMPRIME</td>\n",
       "      <td>COMPRIME</td>\n",
       "      <td>1</td>\n",
       "      <td>ALBENDAZOLE 400mg comp</td>\n",
       "      <td>1144.0</td>\n",
       "      <td>PNN</td>\n",
       "      <td>7.00</td>\n",
       "      <td>1.0</td>\n",
       "      <td>0.0</td>\n",
       "      <td>0</td>\n",
       "      <td>0</td>\n",
       "      <td>0</td>\n",
       "      <td>0</td>\n",
       "      <td>NaN</td>\n",
       "      <td>0</td>\n",
       "      <td>0.0</td>\n",
       "      <td>0.0</td>\n",
       "      <td></td>\n",
       "      <td></td>\n",
       "      <td></td>\n",
       "    </tr>\n",
       "    <tr>\n",
       "      <th>1</th>\n",
       "      <td>381</td>\n",
       "      <td>3230036</td>\n",
       "      <td>AE01080</td>\n",
       "      <td>PNN - MEDICAMENTS ET ALIMENTS THERAPEUTIQUES</td>\n",
       "      <td>LAIT THERAPEUTIQUE F-100  BOITE/400G</td>\n",
       "      <td>Non traceur</td>\n",
       "      <td>BOITE</td>\n",
       "      <td>UNITE</td>\n",
       "      <td>1</td>\n",
       "      <td>LAIT  F-100  BOITE/400G</td>\n",
       "      <td>7561.0</td>\n",
       "      <td>PNN</td>\n",
       "      <td>2.36</td>\n",
       "      <td>1.0</td>\n",
       "      <td>765.0</td>\n",
       "      <td>403</td>\n",
       "      <td>0</td>\n",
       "      <td>0</td>\n",
       "      <td>0</td>\n",
       "      <td>NaN</td>\n",
       "      <td>362</td>\n",
       "      <td>362.0</td>\n",
       "      <td>0.0</td>\n",
       "      <td></td>\n",
       "      <td></td>\n",
       "      <td></td>\n",
       "    </tr>\n",
       "    <tr>\n",
       "      <th>2</th>\n",
       "      <td>382</td>\n",
       "      <td>3230037</td>\n",
       "      <td>AE01085</td>\n",
       "      <td>PNN - MEDICAMENTS ET ALIMENTS THERAPEUTIQUES</td>\n",
       "      <td>LAIT THERAPEUTIQUE F-75 BOITE/400G</td>\n",
       "      <td>Traceur</td>\n",
       "      <td>BOITE</td>\n",
       "      <td>UNITE</td>\n",
       "      <td>1</td>\n",
       "      <td>LAIT F-75 BOITE/400G</td>\n",
       "      <td>7560.0</td>\n",
       "      <td>PNN</td>\n",
       "      <td>2.10</td>\n",
       "      <td>1.0</td>\n",
       "      <td>2288.0</td>\n",
       "      <td>29</td>\n",
       "      <td>0</td>\n",
       "      <td>449</td>\n",
       "      <td>0</td>\n",
       "      <td>NaN</td>\n",
       "      <td>2301</td>\n",
       "      <td>1810.0</td>\n",
       "      <td>491.0</td>\n",
       "      <td></td>\n",
       "      <td></td>\n",
       "      <td></td>\n",
       "    </tr>\n",
       "  </tbody>\n",
       "</table>\n",
       "</div>"
      ],
      "text/plain": [
       "   id_dim_produit_stock_track_pk  code_produit ancien_code  \\\n",
       "0                            380       3050002     AE02080   \n",
       "1                            381       3230036     AE01080   \n",
       "2                            382       3230037     AE01085   \n",
       "\n",
       "                                      categorie  \\\n",
       "0  PNN - MEDICAMENTS ET ALIMENTS THERAPEUTIQUES   \n",
       "1  PNN - MEDICAMENTS ET ALIMENTS THERAPEUTIQUES   \n",
       "2  PNN - MEDICAMENTS ET ALIMENTS THERAPEUTIQUES   \n",
       "\n",
       "                            designation type_produit unit_niveau_central  \\\n",
       "0     ALBENDAZOLE 400mg comp COMPRIME    Non traceur            COMPRIME   \n",
       "1  LAIT THERAPEUTIQUE F-100  BOITE/400G  Non traceur               BOITE   \n",
       "2    LAIT THERAPEUTIQUE F-75 BOITE/400G      Traceur               BOITE   \n",
       "\n",
       "  unit_niveau_peripherique  facteur_de_conversion      designation_acronym  \\\n",
       "0                 COMPRIME                      1   ALBENDAZOLE 400mg comp   \n",
       "1                    UNITE                      1  LAIT  F-100  BOITE/400G   \n",
       "2                    UNITE                      1     LAIT F-75 BOITE/400G   \n",
       "\n",
       "  code_qat programme  cout_unitaire_moyen_qat  facteur_de_conversion_qat_sage  \\\n",
       "0   1144.0       PNN                     7.00                             1.0   \n",
       "1   7561.0       PNN                     2.36                             1.0   \n",
       "2   7560.0       PNN                     2.10                             1.0   \n",
       "\n",
       "   stock_theorique_mois_precedent  Distribution effectuée  \\\n",
       "0                             0.0                       0   \n",
       "1                           765.0                     403   \n",
       "2                          2288.0                      29   \n",
       "\n",
       "   Quantité reçue entrée en stock  Quantité de PPI  \\\n",
       "0                               0                0   \n",
       "1                               0                0   \n",
       "2                               0              449   \n",
       "\n",
       "   Quantité prélévée en Contrôle Qualité (CQ)  Ajustement de stock  \\\n",
       "0                                           0                  NaN   \n",
       "1                                           0                  NaN   \n",
       "2                                           0                  NaN   \n",
       "\n",
       "   Stock Théorique Final SAGE  Stock Théorique Final Attendu  ECARTS  \\\n",
       "0                           0                            0.0     0.0   \n",
       "1                         362                          362.0     0.0   \n",
       "2                        2301                         1810.0   491.0   \n",
       "\n",
       "  Justification des écarts Diligences Dilig. Choisie  \n",
       "0                                                     \n",
       "1                                                     \n",
       "2                                                     "
      ]
     },
     "metadata": {},
     "output_type": "display_data"
    },
    {
     "name": "stdout",
     "output_type": "stream",
     "text": [
      "CPU times: user 72.4 ms, sys: 1.13 ms, total: 73.5 ms\n",
      "Wall time: 87.8 ms\n"
     ]
    }
   ],
   "source": [
    "%%time\n",
    "df_etat_stock = compute_indicators.annexe_1.get_etat_stock_current_month(\n",
    "    df_etat_stock.copy(),\n",
    "    df_stock_detaille.copy(),\n",
    "    df_distribution.copy(),\n",
    "    df_ppi.copy(),\n",
    "    df_prelevement.copy(),\n",
    "    df_receptions.copy(),\n",
    "    date_report\n",
    ")"
   ]
  },
  {
   "cell_type": "markdown",
   "id": "67fc32ed-308b-4166-ba9b-0ed51410cb58",
   "metadata": {
    "papermill": {
     "duration": 0.241451,
     "end_time": "2025-05-14T11:55:20.986693",
     "exception": false,
     "start_time": "2025-05-14T11:55:20.745242",
     "status": "completed"
    },
    "tags": []
   },
   "source": [
    "## 📌2.`Distributions et Consommations` - `Annexe 1`"
   ]
  },
  {
   "cell_type": "markdown",
   "id": "060791ec-5daf-443b-86a2-2a9e9046a654",
   "metadata": {
    "papermill": {
     "duration": 0.232764,
     "end_time": "2025-05-14T11:55:22.341372",
     "exception": false,
     "start_time": "2025-05-14T11:55:22.108608",
     "status": "completed"
    },
    "tags": []
   },
   "source": [
    "### 2.1.`Distributions`"
   ]
  },
  {
   "cell_type": "code",
   "execution_count": 22,
   "id": "3d47d66d-04ec-4f76-9aa3-b36d9fb31117",
   "metadata": {
    "execution": {
     "iopub.execute_input": "2025-05-14T11:55:23.312256Z",
     "iopub.status.busy": "2025-05-14T11:55:23.311456Z",
     "iopub.status.idle": "2025-05-14T11:55:23.476789Z",
     "shell.execute_reply": "2025-05-14T11:55:23.475712Z"
    },
    "papermill": {
     "duration": 0.955103,
     "end_time": "2025-05-14T11:55:23.478743",
     "exception": false,
     "start_time": "2025-05-14T11:55:22.523640",
     "status": "completed"
    },
    "tags": []
   },
   "outputs": [
    {
     "name": "stdout",
     "output_type": "stream",
     "text": [
      "CPU times: user 50.2 ms, sys: 7 μs, total: 50.2 ms\n",
      "Wall time: 159 ms\n"
     ]
    }
   ],
   "source": [
    "%%time\n",
    "df_dmm_curent, df_dmm_histo = compute_indicators.annexe_1.get_dmm_current_month(\n",
    "    df_etat_stock.copy(),\n",
    "    programme,\n",
    "    date_report,\n",
    "    stock_sync_manager.civ_engine\n",
    ")"
   ]
  },
  {
   "cell_type": "markdown",
   "id": "1646a2e7-aad7-4fdb-b9a6-9c9556df601e",
   "metadata": {
    "papermill": {
     "duration": 4.691375,
     "end_time": "2025-05-14T11:55:29.257309",
     "exception": false,
     "start_time": "2025-05-14T11:55:24.565934",
     "status": "completed"
    },
    "tags": []
   },
   "source": [
    "### 2.2.`Consommations`"
   ]
  },
  {
   "cell_type": "code",
   "execution_count": 23,
   "id": "25ad743a-e6e6-4481-8885-ca4057c65434",
   "metadata": {
    "editable": true,
    "execution": {
     "iopub.execute_input": "2025-05-14T11:55:29.776194Z",
     "iopub.status.busy": "2025-05-14T11:55:29.774838Z",
     "iopub.status.idle": "2025-05-14T11:55:29.824441Z",
     "shell.execute_reply": "2025-05-14T11:55:29.823445Z"
    },
    "papermill": {
     "duration": 0.264603,
     "end_time": "2025-05-14T11:55:29.826081",
     "exception": false,
     "start_time": "2025-05-14T11:55:29.561478",
     "status": "completed"
    },
    "slideshow": {
     "slide_type": ""
    },
    "tags": []
   },
   "outputs": [
    {
     "data": {
      "text/html": [
       "<div>\n",
       "<style scoped>\n",
       "    .dataframe tbody tr th:only-of-type {\n",
       "        vertical-align: middle;\n",
       "    }\n",
       "\n",
       "    .dataframe tbody tr th {\n",
       "        vertical-align: top;\n",
       "    }\n",
       "\n",
       "    .dataframe thead th {\n",
       "        text-align: right;\n",
       "    }\n",
       "</style>\n",
       "<table border=\"1\" class=\"dataframe\">\n",
       "  <thead>\n",
       "    <tr style=\"text-align: right;\">\n",
       "      <th></th>\n",
       "      <th>Programme</th>\n",
       "      <th>MSD</th>\n",
       "      <th>STATUT</th>\n",
       "      <th>CONSO</th>\n",
       "      <th>SDU</th>\n",
       "      <th>CMM</th>\n",
       "      <th>dispo_globale</th>\n",
       "      <th>dispo_globale_cible</th>\n",
       "      <th>dispo_traceur</th>\n",
       "      <th>dispo_traceur_cible</th>\n",
       "      <th>date_report</th>\n",
       "      <th>id_produit_fk</th>\n",
       "      <th>Code_region</th>\n",
       "      <th>region_order</th>\n",
       "      <th>statut_pourcentage</th>\n",
       "      <th>id_produit_pk</th>\n",
       "      <th>Code_produit</th>\n",
       "      <th>Produit_designation</th>\n",
       "      <th>Unit_rapportage</th>\n",
       "      <th>Categorie_produit</th>\n",
       "      <th>Categorie_du_produit</th>\n",
       "      <th>Code_sous_prog</th>\n",
       "    </tr>\n",
       "  </thead>\n",
       "  <tbody>\n",
       "    <tr>\n",
       "      <th>0</th>\n",
       "      <td>PNN</td>\n",
       "      <td>0,0</td>\n",
       "      <td>RUPTURE</td>\n",
       "      <td>0</td>\n",
       "      <td>0</td>\n",
       "      <td>2985.00</td>\n",
       "      <td>0.040275</td>\n",
       "      <td>0.070833</td>\n",
       "      <td>0.05069</td>\n",
       "      <td>0.079167</td>\n",
       "      <td>2025-03-31</td>\n",
       "      <td>13</td>\n",
       "      <td>NAT</td>\n",
       "      <td>None</td>\n",
       "      <td>0.083333</td>\n",
       "      <td>13</td>\n",
       "      <td>3050039</td>\n",
       "      <td>AMOXICILLINE 125 mg susp. FL/100 ml FL  -</td>\n",
       "      <td>FLACON</td>\n",
       "      <td>Produit non traceur</td>\n",
       "      <td>MEDICAMENTS ET PETITS MATERIELS MEDICAL</td>\n",
       "      <td>PNN-1</td>\n",
       "    </tr>\n",
       "    <tr>\n",
       "      <th>1</th>\n",
       "      <td>PNN</td>\n",
       "      <td>4,3</td>\n",
       "      <td>SURSTOCK</td>\n",
       "      <td>180798</td>\n",
       "      <td>917664</td>\n",
       "      <td>215767.25</td>\n",
       "      <td>0.040275</td>\n",
       "      <td>0.070833</td>\n",
       "      <td>0.05069</td>\n",
       "      <td>0.079167</td>\n",
       "      <td>2025-03-31</td>\n",
       "      <td>5010</td>\n",
       "      <td>NAT</td>\n",
       "      <td>None</td>\n",
       "      <td>0.083333</td>\n",
       "      <td>5010</td>\n",
       "      <td>3150050</td>\n",
       "      <td>VITAMINE A 200 000 UI caps UN  -</td>\n",
       "      <td>UNITE</td>\n",
       "      <td>Produit traceur</td>\n",
       "      <td>MEDICAMENTS ET PETITS MATERIELS MEDICAL</td>\n",
       "      <td>PNN-1</td>\n",
       "    </tr>\n",
       "    <tr>\n",
       "      <th>2</th>\n",
       "      <td>PNN</td>\n",
       "      <td>0,0</td>\n",
       "      <td>RUPTURE</td>\n",
       "      <td>0</td>\n",
       "      <td>0</td>\n",
       "      <td>8660.00</td>\n",
       "      <td>0.040275</td>\n",
       "      <td>0.070833</td>\n",
       "      <td>0.05069</td>\n",
       "      <td>0.079167</td>\n",
       "      <td>2025-03-31</td>\n",
       "      <td>172</td>\n",
       "      <td>NAT</td>\n",
       "      <td>None</td>\n",
       "      <td>0.083333</td>\n",
       "      <td>172</td>\n",
       "      <td>3160005</td>\n",
       "      <td>ACIDE FOLIQUE 5 mg comp. BTE/10 BTE  -</td>\n",
       "      <td>COMPRIME</td>\n",
       "      <td>Produit non traceur</td>\n",
       "      <td>MEDICAMENTS ET PETITS MATERIELS MEDICAL</td>\n",
       "      <td>PNN-1</td>\n",
       "    </tr>\n",
       "  </tbody>\n",
       "</table>\n",
       "</div>"
      ],
      "text/plain": [
       "  Programme  MSD    STATUT   CONSO     SDU        CMM  dispo_globale  \\\n",
       "0       PNN  0,0   RUPTURE       0       0    2985.00       0.040275   \n",
       "1       PNN  4,3  SURSTOCK  180798  917664  215767.25       0.040275   \n",
       "2       PNN  0,0   RUPTURE       0       0    8660.00       0.040275   \n",
       "\n",
       "   dispo_globale_cible  dispo_traceur  dispo_traceur_cible date_report  \\\n",
       "0             0.070833        0.05069             0.079167  2025-03-31   \n",
       "1             0.070833        0.05069             0.079167  2025-03-31   \n",
       "2             0.070833        0.05069             0.079167  2025-03-31   \n",
       "\n",
       "   id_produit_fk Code_region region_order  statut_pourcentage  id_produit_pk  \\\n",
       "0             13         NAT         None            0.083333             13   \n",
       "1           5010         NAT         None            0.083333           5010   \n",
       "2            172         NAT         None            0.083333            172   \n",
       "\n",
       "   Code_produit                        Produit_designation Unit_rapportage  \\\n",
       "0       3050039  AMOXICILLINE 125 mg susp. FL/100 ml FL  -          FLACON   \n",
       "1       3150050           VITAMINE A 200 000 UI caps UN  -           UNITE   \n",
       "2       3160005     ACIDE FOLIQUE 5 mg comp. BTE/10 BTE  -        COMPRIME   \n",
       "\n",
       "     Categorie_produit                     Categorie_du_produit Code_sous_prog  \n",
       "0  Produit non traceur  MEDICAMENTS ET PETITS MATERIELS MEDICAL          PNN-1  \n",
       "1      Produit traceur  MEDICAMENTS ET PETITS MATERIELS MEDICAL          PNN-1  \n",
       "2  Produit non traceur  MEDICAMENTS ET PETITS MATERIELS MEDICAL          PNN-1  "
      ]
     },
     "execution_count": 23,
     "metadata": {},
     "output_type": "execute_result"
    }
   ],
   "source": [
    "# Pour avoir la CMM du mois courant une recherche est d'abord faite sur la feuille StockParRegion provenant du RapportFeedback\n",
    "eomonth = (pd.to_datetime(date_report) + pd.offsets.MonthEnd(0)).strftime(\"%Y-%m-%d\")\n",
    "\n",
    "df_stock_prog_nat = stock_sync_manager.get_table_data(\n",
    "    query = QUERY_ETAT_STOCK_PROGRAMME.format(eomonth=eomonth, programme=programme)\n",
    ")\n",
    "\n",
    "df_stock_prog_nat[\"Code_produit\"] = df_stock_prog_nat[\"Code_produit\"].astype(int)\n",
    "\n",
    "df_stock_prog_nat.head(3)"
   ]
  },
  {
   "cell_type": "code",
   "execution_count": 24,
   "id": "d5fa0de6-3909-46f5-b737-856e204c92ba",
   "metadata": {
    "execution": {
     "iopub.execute_input": "2025-05-14T11:55:30.622371Z",
     "iopub.status.busy": "2025-05-14T11:55:30.621900Z",
     "iopub.status.idle": "2025-05-14T11:55:30.726227Z",
     "shell.execute_reply": "2025-05-14T11:55:30.724974Z"
    },
    "papermill": {
     "duration": 0.704526,
     "end_time": "2025-05-14T11:55:30.728367",
     "exception": false,
     "start_time": "2025-05-14T11:55:30.023841",
     "status": "completed"
    },
    "tags": []
   },
   "outputs": [
    {
     "name": "stdout",
     "output_type": "stream",
     "text": [
      "CPU times: user 58.8 ms, sys: 2.87 ms, total: 61.7 ms\n",
      "Wall time: 97.7 ms\n"
     ]
    }
   ],
   "source": [
    "%%time\n",
    "df_cmm_curent, df_cmm_histo = compute_indicators.annexe_1.get_cmm_current_month(\n",
    "    df_etat_stock.copy(),\n",
    "    df_stock_prog_nat.copy(),\n",
    "    programme,\n",
    "    date_report,\n",
    "    stock_sync_manager.civ_engine,\n",
    ")"
   ]
  },
  {
   "cell_type": "markdown",
   "id": "e70f49b8-4d30-4e44-b255-72c0fd9ca0ea",
   "metadata": {
    "papermill": {
     "duration": 0.31798,
     "end_time": "2025-05-14T11:55:31.259976",
     "exception": false,
     "start_time": "2025-05-14T11:55:30.941996",
     "status": "completed"
    },
    "tags": []
   },
   "source": [
    "## 📌3. Calcul des indicateurs `Etat de stock (2/2)` `Annexe 2 - Suivi des Stocks`"
   ]
  },
  {
   "cell_type": "code",
   "execution_count": 25,
   "id": "2fbe9e4d-1190-4695-8df7-37a4737f6a19",
   "metadata": {
    "execution": {
     "iopub.execute_input": "2025-05-14T11:55:36.780222Z",
     "iopub.status.busy": "2025-05-14T11:55:36.779522Z",
     "iopub.status.idle": "2025-05-14T11:55:37.646382Z",
     "shell.execute_reply": "2025-05-14T11:55:37.645254Z"
    },
    "papermill": {
     "duration": 5.76543,
     "end_time": "2025-05-14T11:55:37.648115",
     "exception": false,
     "start_time": "2025-05-14T11:55:31.882685",
     "status": "completed"
    },
    "tags": []
   },
   "outputs": [
    {
     "data": {
      "text/html": [
       "<div>\n",
       "<style scoped>\n",
       "    .dataframe tbody tr th:only-of-type {\n",
       "        vertical-align: middle;\n",
       "    }\n",
       "\n",
       "    .dataframe tbody tr th {\n",
       "        vertical-align: top;\n",
       "    }\n",
       "\n",
       "    .dataframe thead th {\n",
       "        text-align: right;\n",
       "    }\n",
       "</style>\n",
       "<table border=\"1\" class=\"dataframe\">\n",
       "  <thead>\n",
       "    <tr style=\"text-align: right;\">\n",
       "      <th></th>\n",
       "      <th>Periode</th>\n",
       "      <th>Code_ets</th>\n",
       "      <th>stock_initial</th>\n",
       "      <th>qte_recue</th>\n",
       "      <th>qte_utilisee</th>\n",
       "      <th>perte_ajust</th>\n",
       "      <th>j_rupture</th>\n",
       "      <th>sdu</th>\n",
       "      <th>cmm_esigl</th>\n",
       "      <th>cmm_gest</th>\n",
       "      <th>qte_prop</th>\n",
       "      <th>qte_cmde</th>\n",
       "      <th>qte_approuv</th>\n",
       "      <th>msd</th>\n",
       "      <th>etat_stock</th>\n",
       "      <th>besoin_cmde_urg</th>\n",
       "      <th>besoin_trsf_in</th>\n",
       "      <th>qte_trsf_out</th>\n",
       "      <th>date_report</th>\n",
       "      <th>qte_cmde_mois_prec</th>\n",
       "      <th>etat_stock_mois_prec</th>\n",
       "      <th>id_produit_fk</th>\n",
       "      <th>id_produit_pk</th>\n",
       "      <th>Code_produit</th>\n",
       "      <th>Produit_designation</th>\n",
       "      <th>Unit_rapportage</th>\n",
       "      <th>Categorie_produit</th>\n",
       "      <th>Categorie_du_produit</th>\n",
       "      <th>Code_sous_prog</th>\n",
       "    </tr>\n",
       "  </thead>\n",
       "  <tbody>\n",
       "    <tr>\n",
       "      <th>21452</th>\n",
       "      <td>MARS 2025</td>\n",
       "      <td>41900070</td>\n",
       "      <td>0</td>\n",
       "      <td>0</td>\n",
       "      <td>0</td>\n",
       "      <td>0</td>\n",
       "      <td>31</td>\n",
       "      <td>0</td>\n",
       "      <td>0</td>\n",
       "      <td>0.0</td>\n",
       "      <td>0</td>\n",
       "      <td>0.0</td>\n",
       "      <td>0</td>\n",
       "      <td>NaN</td>\n",
       "      <td>RUPTURE</td>\n",
       "      <td>0.0</td>\n",
       "      <td>0.0</td>\n",
       "      <td>NaN</td>\n",
       "      <td>2025-03-31</td>\n",
       "      <td>NaN</td>\n",
       "      <td>None</td>\n",
       "      <td>471</td>\n",
       "      <td>471</td>\n",
       "      <td>4150828</td>\n",
       "      <td>SONDE D'INTUBATION NASOGASTRIQUE CH8 UNITE UN  -</td>\n",
       "      <td>SONDE</td>\n",
       "      <td>Produit non traceur</td>\n",
       "      <td>MEDICAMENTS ET PETITS MATERIELS MEDICAL</td>\n",
       "      <td>PNN-1</td>\n",
       "    </tr>\n",
       "    <tr>\n",
       "      <th>21604</th>\n",
       "      <td>MARS 2025</td>\n",
       "      <td>41900070</td>\n",
       "      <td>0</td>\n",
       "      <td>0</td>\n",
       "      <td>0</td>\n",
       "      <td>0</td>\n",
       "      <td>31</td>\n",
       "      <td>0</td>\n",
       "      <td>0</td>\n",
       "      <td>0.0</td>\n",
       "      <td>0</td>\n",
       "      <td>0.0</td>\n",
       "      <td>0</td>\n",
       "      <td>NaN</td>\n",
       "      <td>RUPTURE</td>\n",
       "      <td>0.0</td>\n",
       "      <td>0.0</td>\n",
       "      <td>NaN</td>\n",
       "      <td>2025-03-31</td>\n",
       "      <td>NaN</td>\n",
       "      <td>None</td>\n",
       "      <td>5018</td>\n",
       "      <td>5018</td>\n",
       "      <td>3230036</td>\n",
       "      <td>LAIT THERAPEUTIQUE F-100 400G BTE/1 BTE  -</td>\n",
       "      <td>BOITE</td>\n",
       "      <td>Produit non traceur</td>\n",
       "      <td>PRODUIT PNN</td>\n",
       "      <td>PNN-1</td>\n",
       "    </tr>\n",
       "  </tbody>\n",
       "</table>\n",
       "</div>"
      ],
      "text/plain": [
       "         Periode  Code_ets  stock_initial  qte_recue  qte_utilisee  \\\n",
       "21452  MARS 2025  41900070              0          0             0   \n",
       "21604  MARS 2025  41900070              0          0             0   \n",
       "\n",
       "       perte_ajust  j_rupture  sdu  cmm_esigl  cmm_gest  qte_prop  qte_cmde  \\\n",
       "21452            0         31    0          0       0.0         0       0.0   \n",
       "21604            0         31    0          0       0.0         0       0.0   \n",
       "\n",
       "       qte_approuv  msd etat_stock  besoin_cmde_urg  besoin_trsf_in  \\\n",
       "21452            0  NaN    RUPTURE              0.0             0.0   \n",
       "21604            0  NaN    RUPTURE              0.0             0.0   \n",
       "\n",
       "       qte_trsf_out date_report  qte_cmde_mois_prec etat_stock_mois_prec  \\\n",
       "21452           NaN  2025-03-31                 NaN                 None   \n",
       "21604           NaN  2025-03-31                 NaN                 None   \n",
       "\n",
       "       id_produit_fk  id_produit_pk  Code_produit  \\\n",
       "21452            471            471       4150828   \n",
       "21604           5018           5018       3230036   \n",
       "\n",
       "                                    Produit_designation Unit_rapportage  \\\n",
       "21452  SONDE D'INTUBATION NASOGASTRIQUE CH8 UNITE UN  -           SONDE   \n",
       "21604        LAIT THERAPEUTIQUE F-100 400G BTE/1 BTE  -           BOITE   \n",
       "\n",
       "         Categorie_produit                     Categorie_du_produit  \\\n",
       "21452  Produit non traceur  MEDICAMENTS ET PETITS MATERIELS MEDICAL   \n",
       "21604  Produit non traceur                              PRODUIT PNN   \n",
       "\n",
       "      Code_sous_prog  \n",
       "21452          PNN-1  \n",
       "21604          PNN-1  "
      ]
     },
     "execution_count": 25,
     "metadata": {},
     "output_type": "execute_result"
    }
   ],
   "source": [
    "df_etat_stock_periph = stock_sync_manager.get_table_data(\n",
    "    query=QUERY_ETAT_STOCK_PERIPH.format(eomonth=eomonth)\n",
    ")\n",
    "\n",
    "df_etat_stock_periph = df_etat_stock_periph.loc[\n",
    "    df_etat_stock_periph.Code_sous_prog.str.contains(programme)\n",
    "]\n",
    "\n",
    "df_etat_stock_periph[\"Code_produit\"] = df_etat_stock_periph[\"Code_produit\"].astype(int)\n",
    "\n",
    "df_etat_stock_periph.head(2)"
   ]
  },
  {
   "cell_type": "code",
   "execution_count": 26,
   "id": "592788d1-ea93-4c42-b744-a068f22d23be",
   "metadata": {
    "execution": {
     "iopub.execute_input": "2025-05-14T11:55:38.966763Z",
     "iopub.status.busy": "2025-05-14T11:55:38.966239Z",
     "iopub.status.idle": "2025-05-14T11:55:38.973492Z",
     "shell.execute_reply": "2025-05-14T11:55:38.972224Z"
    },
    "papermill": {
     "duration": 0.235923,
     "end_time": "2025-05-14T11:55:38.975566",
     "exception": false,
     "start_time": "2025-05-14T11:55:38.739643",
     "status": "completed"
    },
    "tags": []
   },
   "outputs": [],
   "source": [
    "df_plan_approv[\"Quantité harmonisée (SAGE)\"] = df_plan_approv[\"Quantite\"]*df_plan_approv[\"facteur_de_conversion_qat_sage\"]"
   ]
  },
  {
   "cell_type": "code",
   "execution_count": 27,
   "id": "08d7bdd6-cf53-4c3c-bca3-c9f6c218a273",
   "metadata": {
    "execution": {
     "iopub.execute_input": "2025-05-14T11:55:39.384125Z",
     "iopub.status.busy": "2025-05-14T11:55:39.383634Z",
     "iopub.status.idle": "2025-05-14T11:55:39.597704Z",
     "shell.execute_reply": "2025-05-14T11:55:39.596700Z"
    },
    "papermill": {
     "duration": 0.424308,
     "end_time": "2025-05-14T11:55:39.599570",
     "exception": false,
     "start_time": "2025-05-14T11:55:39.175262",
     "status": "completed"
    },
    "tags": []
   },
   "outputs": [
    {
     "data": {
      "text/html": [
       "<div>\n",
       "<style scoped>\n",
       "    .dataframe tbody tr th:only-of-type {\n",
       "        vertical-align: middle;\n",
       "    }\n",
       "\n",
       "    .dataframe tbody tr th {\n",
       "        vertical-align: top;\n",
       "    }\n",
       "\n",
       "    .dataframe thead th {\n",
       "        text-align: right;\n",
       "    }\n",
       "</style>\n",
       "<table border=\"1\" class=\"dataframe\">\n",
       "  <thead>\n",
       "    <tr style=\"text-align: right;\">\n",
       "      <th></th>\n",
       "      <th>id_dim_produit_stock_track_fk</th>\n",
       "      <th>stock_theorique_mois_precedent</th>\n",
       "      <th>distribution_effectuee</th>\n",
       "      <th>quantite_recue_stock</th>\n",
       "      <th>quantite_ppi</th>\n",
       "      <th>quantite_prelevee_cq</th>\n",
       "      <th>ajustement_stock</th>\n",
       "      <th>stock_theorique_final_sage</th>\n",
       "      <th>stock_theorique_final_attendu</th>\n",
       "      <th>ecarts</th>\n",
       "      <th>justification_ecarts</th>\n",
       "      <th>diligences</th>\n",
       "      <th>sdu_central_annexe_2</th>\n",
       "      <th>dmm_central_annexe_2</th>\n",
       "      <th>msd_central_annexe_2</th>\n",
       "      <th>statut_central_annexe_2</th>\n",
       "      <th>conso_decentralise_annexe_2</th>\n",
       "      <th>sdu_decentralise_annexe_2</th>\n",
       "      <th>cmm_decentralise_annexe_2</th>\n",
       "      <th>msd_decentralise_annexe_2</th>\n",
       "      <th>statut_decentralise_annexe_2</th>\n",
       "      <th>nombre_de_site_en_rupture_annexe_2</th>\n",
       "      <th>sdu_national_annexe_2</th>\n",
       "      <th>cmm_national_annexe_2</th>\n",
       "      <th>msd_national_annexe_2</th>\n",
       "      <th>statut_national_annexe_2</th>\n",
       "      <th>date_peremption_plus_proche_brute_annexe_2</th>\n",
       "      <th>date_peremption_plus_proche_annexe_2</th>\n",
       "      <th>quantite_correspondante_annexe_2</th>\n",
       "      <th>msd_correspondant_annexe_2</th>\n",
       "      <th>quantite_attendue_annexe_2</th>\n",
       "      <th>msd_attendu_annexe_2</th>\n",
       "      <th>quantite_non_stockee_annexe_2</th>\n",
       "      <th>msd_recu_annexe_2</th>\n",
       "      <th>financement_annexe_2</th>\n",
       "      <th>date_probable_livraison_annexe_2</th>\n",
       "      <th>date_effective_livraison_annexe_2</th>\n",
       "      <th>statut_annexe_2</th>\n",
       "      <th>analyse_risque_commentaires_annexe_2</th>\n",
       "      <th>diligences_central_annexe_2</th>\n",
       "      <th>diligences_peripherique_annexe_2</th>\n",
       "      <th>responsable_annexe_2</th>\n",
       "      <th>dilig_choisie_annexe_2</th>\n",
       "      <th>date_report</th>\n",
       "    </tr>\n",
       "  </thead>\n",
       "  <tbody>\n",
       "    <tr>\n",
       "      <th>0</th>\n",
       "      <td>380</td>\n",
       "      <td>0.0</td>\n",
       "      <td>0</td>\n",
       "      <td>0</td>\n",
       "      <td>0</td>\n",
       "      <td>0</td>\n",
       "      <td>NaN</td>\n",
       "      <td>0</td>\n",
       "      <td>0.0</td>\n",
       "      <td>0.0</td>\n",
       "      <td></td>\n",
       "      <td></td>\n",
       "      <td>0</td>\n",
       "      <td>83.333333</td>\n",
       "      <td>0,0</td>\n",
       "      <td>Rupture</td>\n",
       "      <td>10385</td>\n",
       "      <td>54156</td>\n",
       "      <td>104054</td>\n",
       "      <td>0,5</td>\n",
       "      <td>Sous-Stock</td>\n",
       "      <td>90</td>\n",
       "      <td>54156</td>\n",
       "      <td>104054</td>\n",
       "      <td>0,5</td>\n",
       "      <td>Sous-Stock</td>\n",
       "      <td>NaT</td>\n",
       "      <td>NaT</td>\n",
       "      <td>NaN</td>\n",
       "      <td></td>\n",
       "      <td>21900.0</td>\n",
       "      <td>262,8</td>\n",
       "      <td>0</td>\n",
       "      <td>0,0</td>\n",
       "      <td></td>\n",
       "      <td>2025-05-31</td>\n",
       "      <td>NaN</td>\n",
       "      <td>Planifié</td>\n",
       "      <td></td>\n",
       "      <td></td>\n",
       "      <td></td>\n",
       "      <td></td>\n",
       "      <td></td>\n",
       "      <td>2025-03-01</td>\n",
       "    </tr>\n",
       "    <tr>\n",
       "      <th>1</th>\n",
       "      <td>381</td>\n",
       "      <td>765.0</td>\n",
       "      <td>403</td>\n",
       "      <td>0</td>\n",
       "      <td>0</td>\n",
       "      <td>0</td>\n",
       "      <td>NaN</td>\n",
       "      <td>362</td>\n",
       "      <td>362.0</td>\n",
       "      <td>0.0</td>\n",
       "      <td></td>\n",
       "      <td></td>\n",
       "      <td>362</td>\n",
       "      <td>505.833333</td>\n",
       "      <td>0,7</td>\n",
       "      <td>Sous-Stock</td>\n",
       "      <td>410</td>\n",
       "      <td>1241</td>\n",
       "      <td>405</td>\n",
       "      <td>3,1</td>\n",
       "      <td>Bien Stocké</td>\n",
       "      <td>30</td>\n",
       "      <td>1603</td>\n",
       "      <td>405</td>\n",
       "      <td>4,0</td>\n",
       "      <td>Sous-Stock</td>\n",
       "      <td>2025-09-05</td>\n",
       "      <td>2025-09-05</td>\n",
       "      <td>362.0</td>\n",
       "      <td>0,7</td>\n",
       "      <td>2700.0</td>\n",
       "      <td>5,3</td>\n",
       "      <td>0</td>\n",
       "      <td>0,0</td>\n",
       "      <td></td>\n",
       "      <td>2025-05-31</td>\n",
       "      <td>NaN</td>\n",
       "      <td>Planifié</td>\n",
       "      <td></td>\n",
       "      <td></td>\n",
       "      <td></td>\n",
       "      <td></td>\n",
       "      <td></td>\n",
       "      <td>2025-03-01</td>\n",
       "    </tr>\n",
       "    <tr>\n",
       "      <th>2</th>\n",
       "      <td>382</td>\n",
       "      <td>2288.0</td>\n",
       "      <td>29</td>\n",
       "      <td>0</td>\n",
       "      <td>449</td>\n",
       "      <td>0</td>\n",
       "      <td>NaN</td>\n",
       "      <td>2301</td>\n",
       "      <td>1810.0</td>\n",
       "      <td>491.0</td>\n",
       "      <td></td>\n",
       "      <td></td>\n",
       "      <td>2301</td>\n",
       "      <td>446.833333</td>\n",
       "      <td>5,1</td>\n",
       "      <td>Bien Stocké</td>\n",
       "      <td>367</td>\n",
       "      <td>1691</td>\n",
       "      <td>328</td>\n",
       "      <td>5,2</td>\n",
       "      <td>SurStock</td>\n",
       "      <td>26</td>\n",
       "      <td>3992</td>\n",
       "      <td>328</td>\n",
       "      <td>12,2</td>\n",
       "      <td>SurStock</td>\n",
       "      <td>2025-12-31</td>\n",
       "      <td>2025-12-31</td>\n",
       "      <td>2301.0</td>\n",
       "      <td>5,1</td>\n",
       "      <td>3800.0</td>\n",
       "      <td>8,5</td>\n",
       "      <td>0</td>\n",
       "      <td>0,0</td>\n",
       "      <td></td>\n",
       "      <td>2025-06-01</td>\n",
       "      <td>NaN</td>\n",
       "      <td>Planifié</td>\n",
       "      <td></td>\n",
       "      <td></td>\n",
       "      <td></td>\n",
       "      <td></td>\n",
       "      <td></td>\n",
       "      <td>2025-03-01</td>\n",
       "    </tr>\n",
       "  </tbody>\n",
       "</table>\n",
       "</div>"
      ],
      "text/plain": [
       "   id_dim_produit_stock_track_fk  stock_theorique_mois_precedent  \\\n",
       "0                            380                             0.0   \n",
       "1                            381                           765.0   \n",
       "2                            382                          2288.0   \n",
       "\n",
       "   distribution_effectuee  quantite_recue_stock  quantite_ppi  \\\n",
       "0                       0                     0             0   \n",
       "1                     403                     0             0   \n",
       "2                      29                     0           449   \n",
       "\n",
       "   quantite_prelevee_cq  ajustement_stock  stock_theorique_final_sage  \\\n",
       "0                     0               NaN                           0   \n",
       "1                     0               NaN                         362   \n",
       "2                     0               NaN                        2301   \n",
       "\n",
       "   stock_theorique_final_attendu  ecarts justification_ecarts diligences  \\\n",
       "0                            0.0     0.0                                   \n",
       "1                          362.0     0.0                                   \n",
       "2                         1810.0   491.0                                   \n",
       "\n",
       "   sdu_central_annexe_2  dmm_central_annexe_2 msd_central_annexe_2  \\\n",
       "0                     0             83.333333                  0,0   \n",
       "1                   362            505.833333                  0,7   \n",
       "2                  2301            446.833333                  5,1   \n",
       "\n",
       "  statut_central_annexe_2  conso_decentralise_annexe_2  \\\n",
       "0                 Rupture                        10385   \n",
       "1              Sous-Stock                          410   \n",
       "2             Bien Stocké                          367   \n",
       "\n",
       "   sdu_decentralise_annexe_2  cmm_decentralise_annexe_2  \\\n",
       "0                      54156                     104054   \n",
       "1                       1241                        405   \n",
       "2                       1691                        328   \n",
       "\n",
       "  msd_decentralise_annexe_2 statut_decentralise_annexe_2  \\\n",
       "0                       0,5                   Sous-Stock   \n",
       "1                       3,1                  Bien Stocké   \n",
       "2                       5,2                     SurStock   \n",
       "\n",
       "   nombre_de_site_en_rupture_annexe_2  sdu_national_annexe_2  \\\n",
       "0                                  90                  54156   \n",
       "1                                  30                   1603   \n",
       "2                                  26                   3992   \n",
       "\n",
       "   cmm_national_annexe_2 msd_national_annexe_2 statut_national_annexe_2  \\\n",
       "0                 104054                   0,5               Sous-Stock   \n",
       "1                    405                   4,0               Sous-Stock   \n",
       "2                    328                  12,2                 SurStock   \n",
       "\n",
       "  date_peremption_plus_proche_brute_annexe_2  \\\n",
       "0                                        NaT   \n",
       "1                                 2025-09-05   \n",
       "2                                 2025-12-31   \n",
       "\n",
       "  date_peremption_plus_proche_annexe_2  quantite_correspondante_annexe_2  \\\n",
       "0                                  NaT                               NaN   \n",
       "1                           2025-09-05                             362.0   \n",
       "2                           2025-12-31                            2301.0   \n",
       "\n",
       "  msd_correspondant_annexe_2  quantite_attendue_annexe_2 msd_attendu_annexe_2  \\\n",
       "0                                                21900.0                262,8   \n",
       "1                        0,7                      2700.0                  5,3   \n",
       "2                        5,1                      3800.0                  8,5   \n",
       "\n",
       "   quantite_non_stockee_annexe_2 msd_recu_annexe_2 financement_annexe_2  \\\n",
       "0                              0               0,0                        \n",
       "1                              0               0,0                        \n",
       "2                              0               0,0                        \n",
       "\n",
       "  date_probable_livraison_annexe_2  date_effective_livraison_annexe_2  \\\n",
       "0                       2025-05-31                                NaN   \n",
       "1                       2025-05-31                                NaN   \n",
       "2                       2025-06-01                                NaN   \n",
       "\n",
       "  statut_annexe_2 analyse_risque_commentaires_annexe_2  \\\n",
       "0        Planifié                                        \n",
       "1        Planifié                                        \n",
       "2        Planifié                                        \n",
       "\n",
       "  diligences_central_annexe_2 diligences_peripherique_annexe_2  \\\n",
       "0                                                                \n",
       "1                                                                \n",
       "2                                                                \n",
       "\n",
       "  responsable_annexe_2 dilig_choisie_annexe_2 date_report  \n",
       "0                                              2025-03-01  \n",
       "1                                              2025-03-01  \n",
       "2                                              2025-03-01  "
      ]
     },
     "metadata": {},
     "output_type": "display_data"
    },
    {
     "name": "stdout",
     "output_type": "stream",
     "text": [
      "CPU times: user 204 ms, sys: 5.02 ms, total: 209 ms\n",
      "Wall time: 208 ms\n"
     ]
    }
   ],
   "source": [
    "%%time\n",
    "df_etat_stock = compute_indicators.annexe_2(\n",
    "    df_etat_stock,\n",
    "    df_dmm_curent.copy(),\n",
    "    df_stock_prog_nat.copy(),\n",
    "    df_etat_stock_periph.copy(),\n",
    "    df_stock_detaille.copy(),\n",
    "    df_receptions.copy(),\n",
    "    df_plan_approv.copy(),\n",
    "    date_report,\n",
    ")"
   ]
  },
  {
   "cell_type": "markdown",
   "id": "76c5e978-145b-4cb3-aa25-fb14eb470ff4",
   "metadata": {
    "papermill": {
     "duration": 0.225669,
     "end_time": "2025-05-14T11:55:40.039804",
     "exception": false,
     "start_time": "2025-05-14T11:55:39.814135",
     "status": "completed"
    },
    "tags": []
   },
   "source": [
    "# V.Exportation des données\n",
    "\n",
    "Avant d’exporter les données, il est essentiel de s’assurer qu’aucune information relative à la période en cours n’est déjà présente dans les différentes tables.  \r\n",
    "Si des données existent, une suppression devra être effectuée avant l’export."
   ]
  },
  {
   "cell_type": "markdown",
   "id": "040e8f88-31a1-4bd0-a32b-d2a10d2aa29b",
   "metadata": {
    "papermill": {
     "duration": 2.318794,
     "end_time": "2025-05-14T11:55:44.545387",
     "exception": false,
     "start_time": "2025-05-14T11:55:42.226593",
     "status": "completed"
    },
    "tags": []
   },
   "source": [
    "## 1. `Etat de Stock`"
   ]
  },
  {
   "cell_type": "code",
   "execution_count": 28,
   "id": "69402d6e-0979-4fe7-aef4-7a578d7c4948",
   "metadata": {
    "execution": {
     "iopub.execute_input": "2025-05-14T11:55:51.763838Z",
     "iopub.status.busy": "2025-05-14T11:55:51.763373Z",
     "iopub.status.idle": "2025-05-14T11:55:51.783119Z",
     "shell.execute_reply": "2025-05-14T11:55:51.782055Z"
    },
    "papermill": {
     "duration": 6.234657,
     "end_time": "2025-05-14T11:55:51.785100",
     "exception": false,
     "start_time": "2025-05-14T11:55:45.550443",
     "status": "completed"
    },
    "tags": []
   },
   "outputs": [],
   "source": [
    "id_list = list(map(int, df_etat_stock.id_dim_produit_stock_track_fk.unique()))\n",
    "placeholders = \", \".join([\"%s\"] * len(id_list))\n",
    "\n",
    "query = f\"\"\"\n",
    "DELETE FROM {schema_name}.stock_track\n",
    "WHERE date_report = '{date_report}' AND id_dim_produit_stock_track_fk IN ({placeholders});\n",
    "\"\"\"\n",
    "\n",
    "stock_sync_manager.civ_cursor.execute(query, list(id_list))\n",
    "stock_sync_manager.conn.commit()"
   ]
  },
  {
   "cell_type": "code",
   "execution_count": 29,
   "id": "92ca91ab-0797-414f-8c9c-3c5a185a2d0f",
   "metadata": {
    "execution": {
     "iopub.execute_input": "2025-05-14T11:55:52.279999Z",
     "iopub.status.busy": "2025-05-14T11:55:52.279475Z",
     "iopub.status.idle": "2025-05-14T11:55:52.390758Z",
     "shell.execute_reply": "2025-05-14T11:55:52.389741Z"
    },
    "papermill": {
     "duration": 0.311129,
     "end_time": "2025-05-14T11:55:52.392366",
     "exception": false,
     "start_time": "2025-05-14T11:55:52.081237",
     "status": "completed"
    },
    "tags": []
   },
   "outputs": [
    {
     "data": {
      "text/plain": [
       "'Insertion de 13 enrégistrements réussie'"
      ]
     },
     "execution_count": 29,
     "metadata": {},
     "output_type": "execute_result"
    }
   ],
   "source": [
    "assert df_etat_stock.date_report.unique().shape[0] == 1\n",
    "\n",
    "stock_sync_manager.insert_dataframe_to_table(df_etat_stock, \"stock_track\")"
   ]
  },
  {
   "cell_type": "markdown",
   "id": "08ed5151-ee3a-421c-8a19-5c03d4fd165b",
   "metadata": {
    "papermill": {
     "duration": 0.194409,
     "end_time": "2025-05-14T11:55:52.834440",
     "exception": false,
     "start_time": "2025-05-14T11:55:52.640031",
     "status": "completed"
    },
    "tags": []
   },
   "source": [
    "## 2. `Distributions`"
   ]
  },
  {
   "cell_type": "markdown",
   "id": "49e72b21-a586-4738-a5c9-95501a6db06c",
   "metadata": {
    "papermill": {
     "duration": 0.303222,
     "end_time": "2025-05-14T11:55:53.326565",
     "exception": false,
     "start_time": "2025-05-14T11:55:53.023343",
     "status": "completed"
    },
    "tags": []
   },
   "source": [
    "### 2.1.`Distributions mois courant` "
   ]
  },
  {
   "cell_type": "code",
   "execution_count": 30,
   "id": "6521c5ac-f762-4e55-b890-7d9751143a2e",
   "metadata": {
    "execution": {
     "iopub.execute_input": "2025-05-14T11:56:00.478589Z",
     "iopub.status.busy": "2025-05-14T11:56:00.478225Z",
     "iopub.status.idle": "2025-05-14T11:56:00.492737Z",
     "shell.execute_reply": "2025-05-14T11:56:00.491721Z"
    },
    "papermill": {
     "duration": 0.224921,
     "end_time": "2025-05-14T11:56:00.494721",
     "exception": false,
     "start_time": "2025-05-14T11:56:00.269800",
     "status": "completed"
    },
    "tags": []
   },
   "outputs": [],
   "source": [
    "id_list = list(map(int, df_dmm_curent.id_dim_produit_stock_track_fk.unique()))\n",
    "placeholders = \", \".join([\"%s\"] * len(id_list))\n",
    "\n",
    "query = f\"\"\"\n",
    "DELETE FROM {schema_name}.stock_track_dmm\n",
    "WHERE date_report = %s AND id_dim_produit_stock_track_fk IN ({placeholders});\n",
    "\"\"\"\n",
    "\n",
    "stock_sync_manager.civ_cursor.execute(query, [date_report] + list(id_list))\n",
    "stock_sync_manager.conn.commit()"
   ]
  },
  {
   "cell_type": "code",
   "execution_count": 31,
   "id": "0a8a2973-b667-403c-8102-fb9417afdf11",
   "metadata": {
    "execution": {
     "iopub.execute_input": "2025-05-14T11:56:00.902675Z",
     "iopub.status.busy": "2025-05-14T11:56:00.902199Z",
     "iopub.status.idle": "2025-05-14T11:56:00.945984Z",
     "shell.execute_reply": "2025-05-14T11:56:00.945121Z"
    },
    "papermill": {
     "duration": 0.233221,
     "end_time": "2025-05-14T11:56:00.947764",
     "exception": false,
     "start_time": "2025-05-14T11:56:00.714543",
     "status": "completed"
    },
    "tags": []
   },
   "outputs": [
    {
     "data": {
      "text/plain": [
       "'Insertion de 13 enrégistrements réussie'"
      ]
     },
     "execution_count": 31,
     "metadata": {},
     "output_type": "execute_result"
    }
   ],
   "source": [
    "assert df_dmm_curent.date_report.unique().shape[0] == 1\n",
    "\n",
    "stock_sync_manager.insert_dataframe_to_table(df_dmm_curent, \"stock_track_dmm\")"
   ]
  },
  {
   "cell_type": "markdown",
   "id": "1bf275e1-f2ea-4d6d-8205-713e903663d0",
   "metadata": {
    "papermill": {
     "duration": 0.189775,
     "end_time": "2025-05-14T11:56:01.364915",
     "exception": false,
     "start_time": "2025-05-14T11:56:01.175140",
     "status": "completed"
    },
    "tags": []
   },
   "source": [
    "### 2.2.`Distributions hitoriques considérées pour le mois en cours`"
   ]
  },
  {
   "cell_type": "code",
   "execution_count": 32,
   "id": "4b89b9f1-3f48-4e83-9c2f-43b49edfeb78",
   "metadata": {
    "execution": {
     "iopub.execute_input": "2025-05-14T11:56:02.457446Z",
     "iopub.status.busy": "2025-05-14T11:56:02.456764Z",
     "iopub.status.idle": "2025-05-14T11:56:02.470820Z",
     "shell.execute_reply": "2025-05-14T11:56:02.469895Z"
    },
    "papermill": {
     "duration": 0.911285,
     "end_time": "2025-05-14T11:56:02.473149",
     "exception": false,
     "start_time": "2025-05-14T11:56:01.561864",
     "status": "completed"
    },
    "tags": []
   },
   "outputs": [],
   "source": [
    "id_list = list(map(int, df_dmm_histo.id_dim_produit_stock_track_fk.unique()))\n",
    "placeholders = \", \".join([\"%s\"] * len(id_list))\n",
    "\n",
    "query = f\"\"\"\n",
    "DELETE FROM {schema_name}.stock_track_dmm_histo\n",
    "WHERE date_report = %s AND id_dim_produit_stock_track_fk IN ({placeholders});\n",
    "\"\"\"\n",
    "\n",
    "stock_sync_manager.civ_cursor.execute(query, [date_report] + list(id_list))\n",
    "stock_sync_manager.conn.commit()"
   ]
  },
  {
   "cell_type": "code",
   "execution_count": 33,
   "id": "8ea960f0-b89f-4b63-ae20-4ebb25009608",
   "metadata": {
    "execution": {
     "iopub.execute_input": "2025-05-14T11:56:10.801073Z",
     "iopub.status.busy": "2025-05-14T11:56:10.800609Z",
     "iopub.status.idle": "2025-05-14T11:56:10.865289Z",
     "shell.execute_reply": "2025-05-14T11:56:10.864248Z"
    },
    "papermill": {
     "duration": 6.17909,
     "end_time": "2025-05-14T11:56:10.867813",
     "exception": false,
     "start_time": "2025-05-14T11:56:04.688723",
     "status": "completed"
    },
    "tags": []
   },
   "outputs": [
    {
     "data": {
      "text/plain": [
       "'Insertion de 78 enrégistrements réussie'"
      ]
     },
     "execution_count": 33,
     "metadata": {},
     "output_type": "execute_result"
    }
   ],
   "source": [
    "assert df_dmm_histo.date_report.unique().shape[0] == 1\n",
    "\n",
    "stock_sync_manager.insert_dataframe_to_table(df_dmm_histo, \"stock_track_dmm_histo\")"
   ]
  },
  {
   "cell_type": "markdown",
   "id": "e131d312-d116-4302-98e5-c568b1e2e2a7",
   "metadata": {
    "papermill": {
     "duration": 0.211266,
     "end_time": "2025-05-14T11:56:11.303015",
     "exception": false,
     "start_time": "2025-05-14T11:56:11.091749",
     "status": "completed"
    },
    "tags": []
   },
   "source": [
    "## 3.`Consommations`"
   ]
  },
  {
   "cell_type": "markdown",
   "id": "705086d0-c23a-4856-bc5b-cd1ca88b99af",
   "metadata": {
    "papermill": {
     "duration": 0.222333,
     "end_time": "2025-05-14T11:56:11.728611",
     "exception": false,
     "start_time": "2025-05-14T11:56:11.506278",
     "status": "completed"
    },
    "tags": []
   },
   "source": [
    "### 3.1. `Consommations mois courant`"
   ]
  },
  {
   "cell_type": "code",
   "execution_count": 34,
   "id": "2e0f6f54-86c1-4583-bb9a-a15dbd160f12",
   "metadata": {
    "execution": {
     "iopub.execute_input": "2025-05-14T11:56:23.771272Z",
     "iopub.status.busy": "2025-05-14T11:56:23.770147Z",
     "iopub.status.idle": "2025-05-14T11:56:23.789477Z",
     "shell.execute_reply": "2025-05-14T11:56:23.788593Z"
    },
    "papermill": {
     "duration": 10.737259,
     "end_time": "2025-05-14T11:56:23.791244",
     "exception": false,
     "start_time": "2025-05-14T11:56:13.053985",
     "status": "completed"
    },
    "tags": []
   },
   "outputs": [],
   "source": [
    "id_list = list(map(int, df_cmm_curent.id_dim_produit_stock_track_fk.unique()))\n",
    "placeholders = \", \".join([\"%s\"] * len(id_list))\n",
    "\n",
    "query = f\"\"\"\n",
    "DELETE FROM {schema_name}.stock_track_cmm\n",
    "WHERE date_report = %s AND id_dim_produit_stock_track_fk IN ({placeholders});\n",
    "\"\"\"\n",
    "\n",
    "stock_sync_manager.civ_cursor.execute(query, [date_report] + list(id_list))\n",
    "stock_sync_manager.conn.commit()"
   ]
  },
  {
   "cell_type": "code",
   "execution_count": 35,
   "id": "42f04db9-4a08-4a21-a68e-5adf91cd5550",
   "metadata": {
    "execution": {
     "iopub.execute_input": "2025-05-14T11:56:24.248245Z",
     "iopub.status.busy": "2025-05-14T11:56:24.247622Z",
     "iopub.status.idle": "2025-05-14T11:56:24.305217Z",
     "shell.execute_reply": "2025-05-14T11:56:24.304492Z"
    },
    "papermill": {
     "duration": 0.288769,
     "end_time": "2025-05-14T11:56:24.306858",
     "exception": false,
     "start_time": "2025-05-14T11:56:24.018089",
     "status": "completed"
    },
    "tags": []
   },
   "outputs": [
    {
     "data": {
      "text/plain": [
       "'Insertion de 13 enrégistrements réussie'"
      ]
     },
     "execution_count": 35,
     "metadata": {},
     "output_type": "execute_result"
    }
   ],
   "source": [
    "assert df_cmm_curent.date_report.unique().shape[0] == 1\n",
    "\n",
    "stock_sync_manager.insert_dataframe_to_table(df_cmm_curent, \"stock_track_cmm\")"
   ]
  },
  {
   "cell_type": "markdown",
   "id": "17810bb8-a058-442e-b3ff-e6e15d22e308",
   "metadata": {
    "papermill": {
     "duration": 0.188877,
     "end_time": "2025-05-14T11:56:24.724703",
     "exception": false,
     "start_time": "2025-05-14T11:56:24.535826",
     "status": "completed"
    },
    "tags": []
   },
   "source": [
    "### 3.2.`Consommations hitoriques considérées pour le mois en cours`"
   ]
  },
  {
   "cell_type": "code",
   "execution_count": 36,
   "id": "6620b4be-6236-48cb-ac47-ab56e9970189",
   "metadata": {
    "execution": {
     "iopub.execute_input": "2025-05-14T11:56:25.328606Z",
     "iopub.status.busy": "2025-05-14T11:56:25.327695Z",
     "iopub.status.idle": "2025-05-14T11:56:25.341567Z",
     "shell.execute_reply": "2025-05-14T11:56:25.340774Z"
    },
    "papermill": {
     "duration": 0.416272,
     "end_time": "2025-05-14T11:56:25.343285",
     "exception": false,
     "start_time": "2025-05-14T11:56:24.927013",
     "status": "completed"
    },
    "tags": []
   },
   "outputs": [],
   "source": [
    "id_list = list(map(int, df_cmm_histo.id_dim_produit_stock_track_fk.unique()))\n",
    "placeholders = \", \".join([\"%s\"] * len(id_list))\n",
    "\n",
    "query = f\"\"\"\n",
    "DELETE FROM {schema_name}.stock_track_cmm_histo\n",
    "WHERE date_report = %s AND id_dim_produit_stock_track_fk IN ({placeholders});\n",
    "\"\"\"\n",
    "\n",
    "stock_sync_manager.civ_cursor.execute(query, [date_report] + list(id_list))\n",
    "stock_sync_manager.conn.commit()"
   ]
  },
  {
   "cell_type": "code",
   "execution_count": 37,
   "id": "c259b171-ca49-4521-9228-885b23fd4b6c",
   "metadata": {
    "execution": {
     "iopub.execute_input": "2025-05-14T11:56:28.908768Z",
     "iopub.status.busy": "2025-05-14T11:56:28.907639Z",
     "iopub.status.idle": "2025-05-14T11:56:28.962470Z",
     "shell.execute_reply": "2025-05-14T11:56:28.961277Z"
    },
    "papermill": {
     "duration": 0.311476,
     "end_time": "2025-05-14T11:56:28.964221",
     "exception": false,
     "start_time": "2025-05-14T11:56:28.652745",
     "status": "completed"
    },
    "tags": []
   },
   "outputs": [
    {
     "data": {
      "text/plain": [
       "'Insertion de 78 enrégistrements réussie'"
      ]
     },
     "execution_count": 37,
     "metadata": {},
     "output_type": "execute_result"
    }
   ],
   "source": [
    "assert df_dmm_histo.date_report.unique().shape[0] == 1\n",
    "\n",
    "stock_sync_manager.insert_dataframe_to_table(df_cmm_histo, \"stock_track_cmm_histo\")"
   ]
  },
  {
   "cell_type": "markdown",
   "id": "0c75f908-6510-42b7-9e4e-9d11f2a3caff",
   "metadata": {
    "papermill": {
     "duration": 0.172238,
     "end_time": "2025-05-14T11:56:29.350562",
     "exception": false,
     "start_time": "2025-05-14T11:56:29.178324",
     "status": "completed"
    },
    "tags": []
   },
   "source": [
    "## 4.`Stock détaillé`"
   ]
  },
  {
   "cell_type": "code",
   "execution_count": 38,
   "id": "0b0b73f7-3add-486f-9dd3-e3d900aba61d",
   "metadata": {
    "execution": {
     "iopub.execute_input": "2025-05-14T11:56:29.793398Z",
     "iopub.status.busy": "2025-05-14T11:56:29.792820Z",
     "iopub.status.idle": "2025-05-14T11:56:29.812661Z",
     "shell.execute_reply": "2025-05-14T11:56:29.811582Z"
    },
    "papermill": {
     "duration": 0.267909,
     "end_time": "2025-05-14T11:56:29.814661",
     "exception": false,
     "start_time": "2025-05-14T11:56:29.546752",
     "status": "completed"
    },
    "tags": []
   },
   "outputs": [],
   "source": [
    "dim_produit = pd.read_sql(\n",
    "    f\"SELECT * FROM {schema_name}.dim_produit_stock_track where programme='{programme}'\",\n",
    "    stock_sync_manager.civ_engine,\n",
    ")"
   ]
  },
  {
   "cell_type": "code",
   "execution_count": 39,
   "id": "c876a5cd-de28-494a-9e81-88fd9de9024f",
   "metadata": {
    "execution": {
     "iopub.execute_input": "2025-05-14T11:56:33.759980Z",
     "iopub.status.busy": "2025-05-14T11:56:33.759183Z",
     "iopub.status.idle": "2025-05-14T11:56:33.783475Z",
     "shell.execute_reply": "2025-05-14T11:56:33.782364Z"
    },
    "papermill": {
     "duration": 2.990776,
     "end_time": "2025-05-14T11:56:33.785235",
     "exception": false,
     "start_time": "2025-05-14T11:56:30.794459",
     "status": "completed"
    },
    "tags": []
   },
   "outputs": [
    {
     "data": {
      "text/html": [
       "<div>\n",
       "<style scoped>\n",
       "    .dataframe tbody tr th:only-of-type {\n",
       "        vertical-align: middle;\n",
       "    }\n",
       "\n",
       "    .dataframe tbody tr th {\n",
       "        vertical-align: top;\n",
       "    }\n",
       "\n",
       "    .dataframe thead th {\n",
       "        text-align: right;\n",
       "    }\n",
       "</style>\n",
       "<table border=\"1\" class=\"dataframe\">\n",
       "  <thead>\n",
       "    <tr style=\"text-align: right;\">\n",
       "      <th></th>\n",
       "      <th>code_produit</th>\n",
       "      <th>designation_produit</th>\n",
       "      <th>emplacement</th>\n",
       "      <th>date_limite_consommation</th>\n",
       "      <th>numero_lot</th>\n",
       "      <th>sous_lot_programme</th>\n",
       "      <th>qte_physique</th>\n",
       "      <th>qte_livrable</th>\n",
       "      <th>unit</th>\n",
       "    </tr>\n",
       "  </thead>\n",
       "  <tbody>\n",
       "    <tr>\n",
       "      <th>0</th>\n",
       "      <td>3230037</td>\n",
       "      <td>LAIT THERAPEUTIQUE F-75 400G BTE/1</td>\n",
       "      <td>01A01A01</td>\n",
       "      <td>2025-12-31</td>\n",
       "      <td>74053</td>\n",
       "      <td>PNN</td>\n",
       "      <td>24</td>\n",
       "      <td>0</td>\n",
       "      <td>BTE</td>\n",
       "    </tr>\n",
       "  </tbody>\n",
       "</table>\n",
       "</div>"
      ],
      "text/plain": [
       "   code_produit                 designation_produit emplacement  \\\n",
       "0       3230037  LAIT THERAPEUTIQUE F-75 400G BTE/1    01A01A01   \n",
       "\n",
       "  date_limite_consommation numero_lot sous_lot_programme  qte_physique  \\\n",
       "0               2025-12-31      74053                PNN            24   \n",
       "\n",
       "   qte_livrable unit  \n",
       "0             0  BTE  "
      ]
     },
     "execution_count": 39,
     "metadata": {},
     "output_type": "execute_result"
    }
   ],
   "source": [
    "code_col = [col for col in df_stock_detaille.columns if \"CODE\" in str(col).upper()][0]\n",
    "\n",
    "df_stock_detaille.rename(\n",
    "    columns={\n",
    "        code_col: \"code_produit\",\n",
    "        \"Désignation\": \"designation_produit\",\n",
    "        \"Emplacement\": \"emplacement\",\n",
    "        \"Date limite de consommation\": \"date_limite_consommation\",\n",
    "        \"Numéro Lot\": \"numero_lot\",\n",
    "        \"Sous lot (Programme)\": \"sous_lot_programme\",\n",
    "        \"Qté \\nPhysique\": \"qte_physique\",\n",
    "        \"Qté \\nlivrable\": \"qte_livrable\",\n",
    "        \"Unit\": \"unit\",\n",
    "    },\n",
    "    inplace=True,\n",
    ")\n",
    "df_stock_detaille = df_stock_detaille[\n",
    "    [\n",
    "        \"code_produit\",\n",
    "        \"designation_produit\",\n",
    "        \"emplacement\",\n",
    "        \"date_limite_consommation\",\n",
    "        \"numero_lot\",\n",
    "        \"sous_lot_programme\",\n",
    "        \"qte_physique\",\n",
    "        \"qte_livrable\",\n",
    "        \"unit\",\n",
    "    ]\n",
    "]\n",
    "\n",
    "df_stock_detaille = df_stock_detaille.loc[\n",
    "    df_stock_detaille.code_produit.isin(dim_produit.code_produit)\n",
    "]\n",
    "df_stock_detaille.head(1)"
   ]
  },
  {
   "cell_type": "code",
   "execution_count": 40,
   "id": "c374989e-2d57-4ce8-8ea6-bb101672241e",
   "metadata": {
    "execution": {
     "iopub.execute_input": "2025-05-14T11:56:35.921216Z",
     "iopub.status.busy": "2025-05-14T11:56:35.920692Z",
     "iopub.status.idle": "2025-05-14T11:56:35.935922Z",
     "shell.execute_reply": "2025-05-14T11:56:35.934989Z"
    },
    "papermill": {
     "duration": 0.21872,
     "end_time": "2025-05-14T11:56:35.937820",
     "exception": false,
     "start_time": "2025-05-14T11:56:35.719100",
     "status": "completed"
    },
    "tags": []
   },
   "outputs": [],
   "source": [
    "df_stock_detaille = (\n",
    "    df_stock_detaille.groupby([\"code_produit\", \"date_limite_consommation\"])[\n",
    "        [\"qte_physique\", \"qte_livrable\"]\n",
    "    ]\n",
    "    .sum(min_count=1)\n",
    "    .reset_index()\n",
    ")\n",
    "\n",
    "df_stock_detaille = (\n",
    "    dim_produit[[\"id_dim_produit_stock_track_pk\", \"code_produit\"]]\n",
    "    .merge(df_stock_detaille, on=\"code_produit\")\n",
    "    .rename(columns={\"id_dim_produit_stock_track_pk\": \"id_dim_produit_stock_track_fk\"})\n",
    "    .drop(columns=[\"code_produit\"])\n",
    ")\n",
    "\n",
    "df_stock_detaille[\"date_report\"] = pd.to_datetime(date_report)"
   ]
  },
  {
   "cell_type": "code",
   "execution_count": 41,
   "id": "8c4a6d98-e14d-4742-a91e-0a40ec701ee5",
   "metadata": {
    "execution": {
     "iopub.execute_input": "2025-05-14T11:56:38.665370Z",
     "iopub.status.busy": "2025-05-14T11:56:38.664934Z",
     "iopub.status.idle": "2025-05-14T11:56:38.679462Z",
     "shell.execute_reply": "2025-05-14T11:56:38.678416Z"
    },
    "papermill": {
     "duration": 0.294976,
     "end_time": "2025-05-14T11:56:38.681163",
     "exception": false,
     "start_time": "2025-05-14T11:56:38.386187",
     "status": "completed"
    },
    "tags": []
   },
   "outputs": [],
   "source": [
    "id_list = list(map(int, df_stock_detaille.id_dim_produit_stock_track_fk.unique()))\n",
    "placeholders = \", \".join([\"%s\"] * len(id_list))\n",
    "\n",
    "query = f\"\"\"\n",
    "DELETE FROM {schema_name}.stock_track_detaille\n",
    "WHERE date_report = '{date_report}' AND id_dim_produit_stock_track_fk IN ({placeholders});\n",
    "\"\"\"\n",
    "\n",
    "stock_sync_manager.civ_cursor.execute(query, list(id_list))\n",
    "stock_sync_manager.conn.commit()"
   ]
  },
  {
   "cell_type": "code",
   "execution_count": 42,
   "id": "8f616ee2-8704-4eb2-a182-c65499a3b1dc",
   "metadata": {
    "execution": {
     "iopub.execute_input": "2025-05-14T11:56:39.065842Z",
     "iopub.status.busy": "2025-05-14T11:56:39.065070Z",
     "iopub.status.idle": "2025-05-14T11:56:39.103619Z",
     "shell.execute_reply": "2025-05-14T11:56:39.102602Z"
    },
    "papermill": {
     "duration": 0.224423,
     "end_time": "2025-05-14T11:56:39.105458",
     "exception": false,
     "start_time": "2025-05-14T11:56:38.881035",
     "status": "completed"
    },
    "tags": []
   },
   "outputs": [],
   "source": [
    "stock_sync_manager.insert_dataframe_to_table(df_stock_detaille, \"stock_track_detaille\")\n",
    "\n",
    "del df_stock_detaille"
   ]
  },
  {
   "cell_type": "markdown",
   "id": "fdec6090-24db-40ec-920d-854de310e532",
   "metadata": {
    "papermill": {
     "duration": 0.225598,
     "end_time": "2025-05-14T11:56:39.518937",
     "exception": false,
     "start_time": "2025-05-14T11:56:39.293339",
     "status": "completed"
    },
    "tags": []
   },
   "source": [
    "## 5. `Etat de stock de la NPSP`"
   ]
  },
  {
   "cell_type": "code",
   "execution_count": 43,
   "id": "89d9ea73-f635-42f3-8364-d8205843044e",
   "metadata": {
    "execution": {
     "iopub.execute_input": "2025-05-14T11:56:48.730670Z",
     "iopub.status.busy": "2025-05-14T11:56:48.729606Z",
     "iopub.status.idle": "2025-05-14T11:56:48.744703Z",
     "shell.execute_reply": "2025-05-14T11:56:48.743527Z"
    },
    "papermill": {
     "duration": 3.142651,
     "end_time": "2025-05-14T11:56:48.746731",
     "exception": false,
     "start_time": "2025-05-14T11:56:45.604080",
     "status": "completed"
    },
    "tags": []
   },
   "outputs": [],
   "source": [
    "query = f\"\"\"\n",
    "DELETE FROM {schema_name}.stock_track_npsp\n",
    "WHERE date_report = '{date_report}' and programme='{programme}';\n",
    "\"\"\"\n",
    "\n",
    "stock_sync_manager.civ_cursor.execute(query)\n",
    "stock_sync_manager.conn.commit()"
   ]
  },
  {
   "cell_type": "code",
   "execution_count": 44,
   "id": "fa060ab4-6bd8-44cd-bea2-8bbf1178782a",
   "metadata": {
    "execution": {
     "iopub.execute_input": "2025-05-14T11:56:49.122805Z",
     "iopub.status.busy": "2025-05-14T11:56:49.122444Z",
     "iopub.status.idle": "2025-05-14T11:56:49.166015Z",
     "shell.execute_reply": "2025-05-14T11:56:49.165031Z"
    },
    "papermill": {
     "duration": 0.245423,
     "end_time": "2025-05-14T11:56:49.167552",
     "exception": false,
     "start_time": "2025-05-14T11:56:48.922129",
     "status": "completed"
    },
    "tags": []
   },
   "outputs": [
    {
     "data": {
      "text/plain": [
       "'Insertion de 20 enrégistrements réussie'"
      ]
     },
     "execution_count": 44,
     "metadata": {},
     "output_type": "execute_result"
    }
   ],
   "source": [
    "stock_sync_manager.insert_dataframe_to_table(\n",
    "    df_etat_stock_npsp, table_name=\"stock_track_npsp\", schema_name=\"suivi_stock\"\n",
    ")"
   ]
  },
  {
   "cell_type": "markdown",
   "id": "e36a108a-15d9-4256-ad6e-a62fcd2933eb",
   "metadata": {
    "papermill": {
     "duration": 0.191555,
     "end_time": "2025-05-14T11:56:49.539181",
     "exception": false,
     "start_time": "2025-05-14T11:56:49.347626",
     "status": "completed"
    },
    "tags": []
   },
   "source": [
    "## 6.`Prévision`\n",
    "<div class=\"alert alert-block alert-warning\">\n",
    "Avant de procéder au calcul des éléments de prévision, il est essentiel de s’assurer que les informations produits sont à jour.\n",
    "Cette actualisation doit être effectuée à l’aide du fichier de mapping fourni en paramètre du pipeline.\n",
    "Ce fichier joue un rôle clé : il établit la correspondance entre les différentes sources de données, garantissant ainsi la cohérence et la fiabilité des informations utilisées pour les prévisions.\n",
    "\n",
    "</div>"
   ]
  },
  {
   "cell_type": "code",
   "execution_count": 45,
   "id": "1233e266-9e64-4468-b0e8-0a8997a922d8",
   "metadata": {
    "execution": {
     "iopub.execute_input": "2025-05-14T11:56:53.354702Z",
     "iopub.status.busy": "2025-05-14T11:56:53.353334Z",
     "iopub.status.idle": "2025-05-14T11:56:53.378463Z",
     "shell.execute_reply": "2025-05-14T11:56:53.377343Z"
    },
    "papermill": {
     "duration": 3.498223,
     "end_time": "2025-05-14T11:56:53.380394",
     "exception": false,
     "start_time": "2025-05-14T11:56:49.882171",
     "status": "completed"
    },
    "tags": []
   },
   "outputs": [
    {
     "data": {
      "text/plain": [
       "'Aucune mise à jour des données à effectuer sur la table dim_produit'"
      ]
     },
     "execution_count": 45,
     "metadata": {},
     "output_type": "execute_result"
    }
   ],
   "source": [
    "stock_sync_manager.synchronize_product_metadata(df_plan_approv.copy(), programme)"
   ]
  },
  {
   "cell_type": "code",
   "execution_count": 46,
   "id": "5951635c-2b33-4f6c-8ea0-713e2b7c8501",
   "metadata": {
    "execution": {
     "iopub.execute_input": "2025-05-14T11:56:58.946517Z",
     "iopub.status.busy": "2025-05-14T11:56:58.945533Z",
     "iopub.status.idle": "2025-05-14T11:56:58.952150Z",
     "shell.execute_reply": "2025-05-14T11:56:58.951156Z"
    },
    "papermill": {
     "duration": 2.938992,
     "end_time": "2025-05-14T11:56:58.953878",
     "exception": false,
     "start_time": "2025-05-14T11:56:56.014886",
     "status": "completed"
    },
    "tags": []
   },
   "outputs": [],
   "source": [
    "df_plan_approv['Date updated'] = df_plan_approv['DATE'].apply(lambda x: x.strftime(\"%b-%Y\"))"
   ]
  },
  {
   "cell_type": "code",
   "execution_count": 47,
   "id": "df8760ec-9a46-4a8f-838a-fb757d50b3d1",
   "metadata": {
    "execution": {
     "iopub.execute_input": "2025-05-14T11:56:59.340969Z",
     "iopub.status.busy": "2025-05-14T11:56:59.339354Z",
     "iopub.status.idle": "2025-05-14T11:57:00.368849Z",
     "shell.execute_reply": "2025-05-14T11:57:00.367521Z"
    },
    "papermill": {
     "duration": 1.223926,
     "end_time": "2025-05-14T11:57:00.370965",
     "exception": false,
     "start_time": "2025-05-14T11:56:59.147039",
     "status": "completed"
    },
    "tags": []
   },
   "outputs": [
    {
     "data": {
      "text/html": [
       "<div>\n",
       "<style scoped>\n",
       "    .dataframe tbody tr th:only-of-type {\n",
       "        vertical-align: middle;\n",
       "    }\n",
       "\n",
       "    .dataframe tbody tr th {\n",
       "        vertical-align: top;\n",
       "    }\n",
       "\n",
       "    .dataframe thead th {\n",
       "        text-align: right;\n",
       "    }\n",
       "</style>\n",
       "<table border=\"1\" class=\"dataframe\">\n",
       "  <thead>\n",
       "    <tr style=\"text-align: right;\">\n",
       "      <th></th>\n",
       "      <th>id_dim_produit_stock_track_fk</th>\n",
       "      <th>code_produit</th>\n",
       "      <th>ancien_code</th>\n",
       "      <th>stock_central</th>\n",
       "      <th>dmm_central</th>\n",
       "      <th>stock_national</th>\n",
       "      <th>cmm_national</th>\n",
       "      <th>stock_prev_central</th>\n",
       "      <th>stock_prev_national</th>\n",
       "      <th>period_prev</th>\n",
       "      <th>date_report</th>\n",
       "    </tr>\n",
       "  </thead>\n",
       "  <tbody>\n",
       "    <tr>\n",
       "      <th>0</th>\n",
       "      <td>380</td>\n",
       "      <td>3050002</td>\n",
       "      <td>AE02080</td>\n",
       "      <td>0.0</td>\n",
       "      <td>83.333336</td>\n",
       "      <td>54156.0</td>\n",
       "      <td>104054.0</td>\n",
       "      <td>0</td>\n",
       "      <td>1</td>\n",
       "      <td>2025-03-01</td>\n",
       "      <td>2025-03-01</td>\n",
       "    </tr>\n",
       "    <tr>\n",
       "      <th>1</th>\n",
       "      <td>380</td>\n",
       "      <td>3050002</td>\n",
       "      <td>AE02080</td>\n",
       "      <td>NaN</td>\n",
       "      <td>NaN</td>\n",
       "      <td>NaN</td>\n",
       "      <td>NaN</td>\n",
       "      <td>0</td>\n",
       "      <td>0</td>\n",
       "      <td>2025-04-01</td>\n",
       "      <td>2025-03-01</td>\n",
       "    </tr>\n",
       "    <tr>\n",
       "      <th>2</th>\n",
       "      <td>380</td>\n",
       "      <td>3050002</td>\n",
       "      <td>AE02080</td>\n",
       "      <td>NaN</td>\n",
       "      <td>NaN</td>\n",
       "      <td>NaN</td>\n",
       "      <td>NaN</td>\n",
       "      <td>263</td>\n",
       "      <td>0</td>\n",
       "      <td>2025-05-01</td>\n",
       "      <td>2025-03-01</td>\n",
       "    </tr>\n",
       "  </tbody>\n",
       "</table>\n",
       "</div>"
      ],
      "text/plain": [
       "   id_dim_produit_stock_track_fk  code_produit ancien_code  stock_central  \\\n",
       "0                            380       3050002     AE02080            0.0   \n",
       "1                            380       3050002     AE02080            NaN   \n",
       "2                            380       3050002     AE02080            NaN   \n",
       "\n",
       "   dmm_central  stock_national  cmm_national stock_prev_central  \\\n",
       "0    83.333336         54156.0      104054.0                  0   \n",
       "1          NaN             NaN           NaN                  0   \n",
       "2          NaN             NaN           NaN                263   \n",
       "\n",
       "  stock_prev_national period_prev date_report  \n",
       "0                   1  2025-03-01  2025-03-01  \n",
       "1                   0  2025-04-01  2025-03-01  \n",
       "2                   0  2025-05-01  2025-03-01  "
      ]
     },
     "metadata": {},
     "output_type": "display_data"
    }
   ],
   "source": [
    "df_prevision = compute_indicators.prevision.get_prevision_current_month(\n",
    "    df_plan_approv.copy(),\n",
    "    date_report,\n",
    "    programme,\n",
    "    stock_sync_manager.civ_engine,\n",
    "    schema_name=\"suivi_stock\",\n",
    ")"
   ]
  },
  {
   "cell_type": "code",
   "execution_count": 48,
   "id": "6b5134dd-8cbc-4f9b-8671-af020adbb5cc",
   "metadata": {
    "execution": {
     "iopub.execute_input": "2025-05-14T11:57:04.506269Z",
     "iopub.status.busy": "2025-05-14T11:57:04.505061Z",
     "iopub.status.idle": "2025-05-14T11:57:04.523114Z",
     "shell.execute_reply": "2025-05-14T11:57:04.521976Z"
    },
    "papermill": {
     "duration": 3.942703,
     "end_time": "2025-05-14T11:57:04.525319",
     "exception": false,
     "start_time": "2025-05-14T11:57:00.582616",
     "status": "completed"
    },
    "tags": []
   },
   "outputs": [],
   "source": [
    "id_list = list(map(int, df_prevision.id_dim_produit_stock_track_fk.unique()))\n",
    "placeholders = \", \".join([\"%s\"] * len(id_list))\n",
    "\n",
    "query = f\"\"\"\n",
    "DELETE FROM {schema_name}.stock_track_prevision\n",
    "WHERE date_report = %s AND id_dim_produit_stock_track_fk IN ({placeholders});\n",
    "\"\"\"\n",
    "stock_sync_manager.civ_cursor.execute(query, [date_report] + list(id_list))\n",
    "stock_sync_manager.conn.commit()"
   ]
  },
  {
   "cell_type": "code",
   "execution_count": 49,
   "id": "b2cba3cf-54d4-40a9-81e4-db8ffc8af896",
   "metadata": {
    "execution": {
     "iopub.execute_input": "2025-05-14T11:57:09.692316Z",
     "iopub.status.busy": "2025-05-14T11:57:09.691332Z",
     "iopub.status.idle": "2025-05-14T11:57:09.758730Z",
     "shell.execute_reply": "2025-05-14T11:57:09.757772Z"
    },
    "papermill": {
     "duration": 4.71525,
     "end_time": "2025-05-14T11:57:09.760303",
     "exception": false,
     "start_time": "2025-05-14T11:57:05.045053",
     "status": "completed"
    },
    "tags": []
   },
   "outputs": [
    {
     "data": {
      "text/plain": [
       "'Insertion de 169 enrégistrements réussie'"
      ]
     },
     "execution_count": 49,
     "metadata": {},
     "output_type": "execute_result"
    }
   ],
   "source": [
    "stock_sync_manager.insert_dataframe_to_table(\n",
    "    df_prevision.drop(columns=[\"code_produit\", \"ancien_code\"]), \"stock_track_prevision\"\n",
    ")"
   ]
  },
  {
   "cell_type": "markdown",
   "id": "beed3506-66a5-4678-a064-cd62f6bd461c",
   "metadata": {
    "papermill": {
     "duration": 0.178792,
     "end_time": "2025-05-14T11:57:10.162186",
     "exception": false,
     "start_time": "2025-05-14T11:57:09.983394",
     "status": "completed"
    },
    "tags": []
   },
   "source": [
    "## 7.`Plan d'approvisionnement`"
   ]
  },
  {
   "cell_type": "code",
   "execution_count": 50,
   "id": "915dd339-4537-4fdd-b9f2-f3f52bc7db68",
   "metadata": {
    "execution": {
     "iopub.execute_input": "2025-05-14T11:57:10.531645Z",
     "iopub.status.busy": "2025-05-14T11:57:10.530679Z",
     "iopub.status.idle": "2025-05-14T11:57:10.543237Z",
     "shell.execute_reply": "2025-05-14T11:57:10.542408Z"
    },
    "papermill": {
     "duration": 0.194683,
     "end_time": "2025-05-14T11:57:10.544779",
     "exception": false,
     "start_time": "2025-05-14T11:57:10.350096",
     "status": "completed"
    },
    "tags": []
   },
   "outputs": [],
   "source": [
    "query = f\"\"\"\n",
    "DELETE FROM {schema_name}.plan_approv\n",
    "WHERE date_report = '{date_report}' and programme='{programme}'\n",
    "\"\"\"\n",
    "stock_sync_manager.civ_cursor.execute(query)\n",
    "stock_sync_manager.conn.commit()"
   ]
  },
  {
   "cell_type": "code",
   "execution_count": 51,
   "id": "8f6561dd-eac8-4500-bb97-c7cde0e0fdeb",
   "metadata": {
    "execution": {
     "iopub.execute_input": "2025-05-14T11:57:11.870480Z",
     "iopub.status.busy": "2025-05-14T11:57:11.869844Z",
     "iopub.status.idle": "2025-05-14T11:57:11.894587Z",
     "shell.execute_reply": "2025-05-14T11:57:11.893496Z"
    },
    "papermill": {
     "duration": 1.142004,
     "end_time": "2025-05-14T11:57:11.895944",
     "exception": false,
     "start_time": "2025-05-14T11:57:10.753940",
     "status": "completed"
    },
    "tags": []
   },
   "outputs": [
    {
     "data": {
      "text/html": [
       "<div>\n",
       "<style scoped>\n",
       "    .dataframe tbody tr th:only-of-type {\n",
       "        vertical-align: middle;\n",
       "    }\n",
       "\n",
       "    .dataframe tbody tr th {\n",
       "        vertical-align: top;\n",
       "    }\n",
       "\n",
       "    .dataframe thead th {\n",
       "        text-align: right;\n",
       "    }\n",
       "</style>\n",
       "<table border=\"1\" class=\"dataframe\">\n",
       "  <thead>\n",
       "    <tr style=\"text-align: right;\">\n",
       "      <th></th>\n",
       "      <th>standard_product_code</th>\n",
       "      <th>id_produit_qat</th>\n",
       "      <th>designation</th>\n",
       "      <th>id_envoi_qat</th>\n",
       "      <th>centrale_achat</th>\n",
       "      <th>source_financement</th>\n",
       "      <th>status</th>\n",
       "      <th>quantite</th>\n",
       "      <th>facteur_conversion_qat_vers_sage</th>\n",
       "      <th>quantite_harmonisee_sage</th>\n",
       "      <th>date</th>\n",
       "      <th>cout_produits</th>\n",
       "      <th>cout_fret</th>\n",
       "      <th>cout_total</th>\n",
       "      <th>date_report</th>\n",
       "      <th>programme</th>\n",
       "    </tr>\n",
       "  </thead>\n",
       "  <tbody>\n",
       "    <tr>\n",
       "      <th>0</th>\n",
       "      <td>3050002</td>\n",
       "      <td>1144</td>\n",
       "      <td>Albendazole 400 mg Chewable Tablet  100 Tablets</td>\n",
       "      <td>161753</td>\n",
       "      <td>TBD</td>\n",
       "      <td>TBD</td>\n",
       "      <td>Planifié</td>\n",
       "      <td>21900.0</td>\n",
       "      <td>1</td>\n",
       "      <td>21900.0</td>\n",
       "      <td>2025-05-31</td>\n",
       "      <td>153300.0</td>\n",
       "      <td>15330.0</td>\n",
       "      <td>168630.0</td>\n",
       "      <td>2025-03-01</td>\n",
       "      <td>PNN</td>\n",
       "    </tr>\n",
       "    <tr>\n",
       "      <th>1</th>\n",
       "      <td>3230040</td>\n",
       "      <td>5190</td>\n",
       "      <td>Ready-to-Use Therapeutic Food (RUTF) 92 g Past...</td>\n",
       "      <td>161758</td>\n",
       "      <td>TBD</td>\n",
       "      <td>WB</td>\n",
       "      <td>Planifié</td>\n",
       "      <td>15000.0</td>\n",
       "      <td>1</td>\n",
       "      <td>15000.0</td>\n",
       "      <td>2025-07-31</td>\n",
       "      <td>606300.0</td>\n",
       "      <td>60630.0</td>\n",
       "      <td>666930.0</td>\n",
       "      <td>2025-03-01</td>\n",
       "      <td>PNN</td>\n",
       "    </tr>\n",
       "  </tbody>\n",
       "</table>\n",
       "</div>"
      ],
      "text/plain": [
       "   standard_product_code  id_produit_qat  \\\n",
       "0                3050002            1144   \n",
       "1                3230040            5190   \n",
       "\n",
       "                                         designation  id_envoi_qat  \\\n",
       "0    Albendazole 400 mg Chewable Tablet  100 Tablets        161753   \n",
       "1  Ready-to-Use Therapeutic Food (RUTF) 92 g Past...        161758   \n",
       "\n",
       "  centrale_achat source_financement    status  quantite  \\\n",
       "0            TBD                TBD  Planifié   21900.0   \n",
       "1            TBD                 WB  Planifié   15000.0   \n",
       "\n",
       "   facteur_conversion_qat_vers_sage  quantite_harmonisee_sage       date  \\\n",
       "0                                 1                   21900.0 2025-05-31   \n",
       "1                                 1                   15000.0 2025-07-31   \n",
       "\n",
       "   cout_produits  cout_fret  cout_total date_report programme  \n",
       "0       153300.0    15330.0    168630.0  2025-03-01       PNN  \n",
       "1       606300.0    60630.0    666930.0  2025-03-01       PNN  "
      ]
     },
     "execution_count": 51,
     "metadata": {},
     "output_type": "execute_result"
    }
   ],
   "source": [
    "df_pa = df_plan_approv.rename(\n",
    "    columns={\n",
    "        \"Standard product code\": \"standard_product_code\",\n",
    "        \"ID de produit QAT\": \"id_produit_qat\",\n",
    "        \"Produits\": \"designation\",\n",
    "        \"ID de l`envoi QAT\": \"id_envoi_qat\",\n",
    "        \"Agent d`approvisionnement\": \"centrale_achat\",\n",
    "        \"Source de financement\": \"source_financement\",\n",
    "        \"Status\": \"status\",\n",
    "        \"Quantite\": \"quantite\",\n",
    "        \"facteur_de_conversion_qat_sage\": \"facteur_conversion_qat_vers_sage\",\n",
    "        \"Quantité harmonisée (SAGE)\": \"quantite_harmonisee_sage\",\n",
    "        \"DATE\": \"date\",\n",
    "        \"Cout des Produits\": \"cout_produits\",\n",
    "        \"Couts du fret\": \"cout_fret\",\n",
    "        \"Couts totaux\": \"cout_total\",\n",
    "    },\n",
    ")\n",
    "\n",
    "df_pa = df_pa[\n",
    "    [\"standard_product_code\", \"id_produit_qat\",\n",
    "     \"designation\", \"id_envoi_qat\",\n",
    "     \"centrale_achat\", \"source_financement\",\n",
    "     \"status\", \"quantite\", \"facteur_conversion_qat_vers_sage\",\n",
    "     \"quantite_harmonisee_sage\", \"date\",\n",
    "     \"cout_produits\", \"cout_fret\", \"cout_total\",\n",
    "    ]\n",
    "]\n",
    "df_pa[\"date_report\"] = pd.to_datetime(date_report)\n",
    "df_pa[\"programme\"] = programme\n",
    "df_pa[\"standard_product_code\"] = df_pa[\"standard_product_code\"].fillna(0)\n",
    "\n",
    "df_pa.head(2)"
   ]
  },
  {
   "cell_type": "code",
   "execution_count": 52,
   "id": "557e36d1-3a17-48d4-851d-96de9b3f3be5",
   "metadata": {
    "execution": {
     "iopub.execute_input": "2025-05-14T11:57:13.792749Z",
     "iopub.status.busy": "2025-05-14T11:57:13.791813Z",
     "iopub.status.idle": "2025-05-14T11:57:13.848656Z",
     "shell.execute_reply": "2025-05-14T11:57:13.847836Z"
    },
    "papermill": {
     "duration": 0.956334,
     "end_time": "2025-05-14T11:57:13.850502",
     "exception": false,
     "start_time": "2025-05-14T11:57:12.894168",
     "status": "completed"
    },
    "tags": []
   },
   "outputs": [
    {
     "data": {
      "text/plain": [
       "'Insertion de 12 enrégistrements réussie'"
      ]
     },
     "execution_count": 52,
     "metadata": {},
     "output_type": "execute_result"
    }
   ],
   "source": [
    "stock_sync_manager.insert_dataframe_to_table(df_pa, table_name=\"plan_approv\", schema_name=\"suivi_stock\")"
   ]
  },
  {
   "cell_type": "code",
   "execution_count": 53,
   "id": "59e7f509-0f62-4188-8648-bef9a221b661",
   "metadata": {
    "execution": {
     "iopub.execute_input": "2025-05-14T11:57:18.612771Z",
     "iopub.status.busy": "2025-05-14T11:57:18.612302Z",
     "iopub.status.idle": "2025-05-14T11:57:18.617639Z",
     "shell.execute_reply": "2025-05-14T11:57:18.616484Z"
    },
    "papermill": {
     "duration": 4.415634,
     "end_time": "2025-05-14T11:57:18.619262",
     "exception": false,
     "start_time": "2025-05-14T11:57:14.203628",
     "status": "completed"
    },
    "tags": []
   },
   "outputs": [],
   "source": [
    "del df_pa"
   ]
  },
  {
   "cell_type": "code",
   "execution_count": 54,
   "id": "6a0e5239-2271-4793-b121-72e9633d1543",
   "metadata": {
    "execution": {
     "iopub.execute_input": "2025-05-14T11:57:19.009499Z",
     "iopub.status.busy": "2025-05-14T11:57:19.008385Z",
     "iopub.status.idle": "2025-05-14T11:57:19.363198Z",
     "shell.execute_reply": "2025-05-14T11:57:19.361945Z"
    },
    "papermill": {
     "duration": 0.553149,
     "end_time": "2025-05-14T11:57:19.365489",
     "exception": false,
     "start_time": "2025-05-14T11:57:18.812340",
     "status": "completed"
    },
    "tags": []
   },
   "outputs": [],
   "source": [
    "# Mise à jour des colonnes qui contienent des valeurs nan, NaN ou None malgré les mises à jours effectuée\n",
    "from database_operations import queries\n",
    "\n",
    "stock_sync_manager.civ_cursor.execute(\n",
    "    queries.QUERY_UPDATE.format(schema_name=schema_name)\n",
    ")\n",
    "stock_sync_manager.conn.commit()"
   ]
  },
  {
   "cell_type": "markdown",
   "id": "0a6af0d7-53cb-45f0-a174-afed7ecd72db",
   "metadata": {
    "papermill": {
     "duration": 0.198866,
     "end_time": "2025-05-14T11:57:19.759365",
     "exception": false,
     "start_time": "2025-05-14T11:57:19.560499",
     "status": "completed"
    },
    "tags": []
   },
   "source": [
    "# VI.📄Génération du fichier pour le mois spécifique"
   ]
  },
  {
   "cell_type": "markdown",
   "id": "a1e25950-2b53-4f3b-b1f8-9ec34c76367b",
   "metadata": {
    "papermill": {
     "duration": 0.86494,
     "end_time": "2025-05-14T11:57:21.643751",
     "exception": false,
     "start_time": "2025-05-14T11:57:20.778811",
     "status": "completed"
    },
    "tags": []
   },
   "source": [
    "## 1. Initialisation des paramètres utile"
   ]
  },
  {
   "cell_type": "code",
   "execution_count": 55,
   "id": "30b49db8-06c5-4d9e-ae95-a24f0ee66888",
   "metadata": {
    "execution": {
     "iopub.execute_input": "2025-05-14T11:57:29.646625Z",
     "iopub.status.busy": "2025-05-14T11:57:29.645642Z",
     "iopub.status.idle": "2025-05-14T11:57:29.651499Z",
     "shell.execute_reply": "2025-05-14T11:57:29.650541Z"
    },
    "papermill": {
     "duration": 6.818526,
     "end_time": "2025-05-14T11:57:29.653206",
     "exception": false,
     "start_time": "2025-05-14T11:57:22.834680",
     "status": "completed"
    },
    "tags": []
   },
   "outputs": [],
   "source": [
    "date_report_format = date_report\n",
    "date_report = pd.to_datetime(date_report, format='%Y-%m-%d').strftime('%d/%m/%Y')\n",
    "f_month = gstf.get_current_variable(date_report)[1].replace(' ', '-')"
   ]
  },
  {
   "cell_type": "markdown",
   "id": "acace0b9-cbb6-4ee8-bc43-1fcd1c724a2d",
   "metadata": {
    "papermill": {
     "duration": 0.178949,
     "end_time": "2025-05-14T11:57:30.017202",
     "exception": false,
     "start_time": "2025-05-14T11:57:29.838253",
     "status": "completed"
    },
    "tags": []
   },
   "source": [
    "## 2. Importation des classeurs de bases"
   ]
  },
  {
   "cell_type": "code",
   "execution_count": 56,
   "id": "689f25f3-1bf9-4c16-9569-61b0b7140cce",
   "metadata": {
    "execution": {
     "iopub.execute_input": "2025-05-14T11:57:31.672245Z",
     "iopub.status.busy": "2025-05-14T11:57:31.671814Z",
     "iopub.status.idle": "2025-05-14T12:05:00.366738Z",
     "shell.execute_reply": "2025-05-14T12:05:00.365534Z"
    },
    "papermill": {
     "duration": 450.281863,
     "end_time": "2025-05-14T12:05:00.970538",
     "exception": false,
     "start_time": "2025-05-14T11:57:30.688675",
     "status": "completed"
    },
    "tags": []
   },
   "outputs": [
    {
     "name": "stdout",
     "output_type": "stream",
     "text": [
      "CPU times: user 6min 56s, sys: 11.2 s, total: 7min 7s\n",
      "Wall time: 7min 28s\n"
     ]
    }
   ],
   "source": [
    "%%time\n",
    "# WorkBook Template de base\n",
    "wb_template = pyxl.load_workbook(\n",
    "    filename=\"/home/jovyan/workspace/Fichier Suivi de Stock/code/pipelines/generate_stock_tracking_file/Template Fichier Suivi de Stock/Fichier Suivi de Stock Template.xlsx\"\n",
    ")\n",
    "\n",
    "# WorkBook Etats de stock mensuels\n",
    "wb_etat_stock = pyxl.load_workbook(filename=fp_etat_mensuel)\n",
    "\n",
    "# WorkBook du Rapport Feedback\n",
    "wb_fbr = pyxl.load_workbook(\n",
    "    filename=f\"/home/jovyan/workspace/Rapport Feedback/code/pipelines/rapport feedback genere/{date_report_format[:4]}/RapportFeedBack-{unidecode(f_month)}.xlsx\"\n",
    ")"
   ]
  },
  {
   "cell_type": "markdown",
   "id": "30d3235c-40f4-4d76-9cbb-463cbf37cb26",
   "metadata": {
    "papermill": {
     "duration": 0.202158,
     "end_time": "2025-05-14T12:05:01.383589",
     "exception": false,
     "start_time": "2025-05-14T12:05:01.181431",
     "status": "completed"
    },
    "tags": []
   },
   "source": [
    "## 3. Mise à jour des données en se basant sur la source `Etat de Stock Mensuel`"
   ]
  },
  {
   "cell_type": "code",
   "execution_count": 57,
   "id": "ef678267-2bdf-4fad-bdc6-837935e7c2bf",
   "metadata": {
    "execution": {
     "iopub.execute_input": "2025-05-14T12:05:01.797692Z",
     "iopub.status.busy": "2025-05-14T12:05:01.796736Z",
     "iopub.status.idle": "2025-05-14T12:05:43.576446Z",
     "shell.execute_reply": "2025-05-14T12:05:43.575435Z"
    },
    "papermill": {
     "duration": 42.281642,
     "end_time": "2025-05-14T12:05:43.865720",
     "exception": false,
     "start_time": "2025-05-14T12:05:01.584078",
     "status": "completed"
    },
    "tags": []
   },
   "outputs": [
    {
     "name": "stdout",
     "output_type": "stream",
     "text": [
      "CPU times: user 41.4 s, sys: 142 ms, total: 41.5 s\n",
      "Wall time: 41.8 s\n"
     ]
    }
   ],
   "source": [
    "%%time\n",
    "wb_template = gstf.update_sheets_etat_mensuel(\n",
    "    wb_etat_stock, wb_template, programme, date_report\n",
    ")"
   ]
  },
  {
   "cell_type": "markdown",
   "id": "40b4f4f0-6a5d-4685-9b86-b74e15424ed7",
   "metadata": {
    "papermill": {
     "duration": 0.195137,
     "end_time": "2025-05-14T12:05:44.315597",
     "exception": false,
     "start_time": "2025-05-14T12:05:44.120460",
     "status": "completed"
    },
    "tags": []
   },
   "source": [
    "## 4. Mise à jour des données en se basant sur la source `Rapport Feedback`\n",
    "\n",
    "Pour le faire on va se baser sur les inputs au préalable du fichier RapportFeebback généré et présent dans les fichiers d'OH pour le mois courant"
   ]
  },
  {
   "cell_type": "code",
   "execution_count": 58,
   "id": "aca0a3a7-c102-4200-8604-357171092ab5",
   "metadata": {
    "execution": {
     "iopub.execute_input": "2025-05-14T12:05:45.699234Z",
     "iopub.status.busy": "2025-05-14T12:05:45.697840Z",
     "iopub.status.idle": "2025-05-14T12:06:03.005989Z",
     "shell.execute_reply": "2025-05-14T12:06:03.004978Z"
    },
    "papermill": {
     "duration": 18.476587,
     "end_time": "2025-05-14T12:06:03.007635",
     "exception": false,
     "start_time": "2025-05-14T12:05:44.531048",
     "status": "completed"
    },
    "tags": []
   },
   "outputs": [
    {
     "data": {
      "text/html": [
       "<div>\n",
       "<style scoped>\n",
       "    .dataframe tbody tr th:only-of-type {\n",
       "        vertical-align: middle;\n",
       "    }\n",
       "\n",
       "    .dataframe tbody tr th {\n",
       "        vertical-align: top;\n",
       "    }\n",
       "\n",
       "    .dataframe thead th {\n",
       "        text-align: right;\n",
       "    }\n",
       "</style>\n",
       "<table border=\"1\" class=\"dataframe\">\n",
       "  <thead>\n",
       "    <tr style=\"text-align: right;\">\n",
       "      <th></th>\n",
       "      <th>Code_Pro</th>\n",
       "      <th>CODE</th>\n",
       "      <th>PROGRAMME</th>\n",
       "      <th>SOUS-PROGRAMME</th>\n",
       "      <th>PERIODE</th>\n",
       "      <th>REGION</th>\n",
       "      <th>DISTRICT</th>\n",
       "      <th>CODE  ETS</th>\n",
       "      <th>STRUCTURE</th>\n",
       "      <th>TYPE DE STRUCTURE</th>\n",
       "      <th>CATEGORIE PRODUIT</th>\n",
       "      <th>PRODUIT</th>\n",
       "      <th>UNITE DE RAPPORTAGE</th>\n",
       "      <th>STOCK INITIAL</th>\n",
       "      <th>QUANTITE RECUE</th>\n",
       "      <th>QUANTITE UTILISEE</th>\n",
       "      <th>PERTES ET AJUSTEMENT</th>\n",
       "      <th>JOURS DE RUPTURE</th>\n",
       "      <th>SDU</th>\n",
       "      <th>CMM ESIGL</th>\n",
       "      <th>CMM gestionnaire</th>\n",
       "      <th>QUANTITE PROPOSEE</th>\n",
       "      <th>QUANTITE COMMANDEE</th>\n",
       "      <th>QUANTITE APPROUVEE</th>\n",
       "      <th>MSD</th>\n",
       "      <th>ETAT DU STOCK</th>\n",
       "      <th>BESOIN COMMANDE URGENTE</th>\n",
       "      <th>BESOIN TRANSFERT IN</th>\n",
       "      <th>QUANTITE A TRANSFERER OUT</th>\n",
       "      <th>CATEGORIE_DU_PRODUIT</th>\n",
       "      <th>Commandes du mois précédent</th>\n",
       "      <th>Etat du stock du mois précédent</th>\n",
       "    </tr>\n",
       "  </thead>\n",
       "  <tbody>\n",
       "    <tr>\n",
       "      <th>0</th>\n",
       "      <td>3050350_PNLT</td>\n",
       "      <td>3050350</td>\n",
       "      <td>PNLT</td>\n",
       "      <td>PNLT-SENSIBLE MEDICAMENTS ET INTRANTS</td>\n",
       "      <td>JANVIER MARS 2025</td>\n",
       "      <td>IFFOU</td>\n",
       "      <td>DAOUKRO</td>\n",
       "      <td>62600030</td>\n",
       "      <td>CENTRE ANTITUBERCULEUX DAOUKRO</td>\n",
       "      <td>FORMATION SANITAIRE</td>\n",
       "      <td>Produit traceur</td>\n",
       "      <td>RH 150 (RIFAmpICINE150 - ISONIAZIDE75) comp. B...</td>\n",
       "      <td>COMPRIME</td>\n",
       "      <td>9316</td>\n",
       "      <td>9408</td>\n",
       "      <td>8992</td>\n",
       "      <td>-2399</td>\n",
       "      <td>0</td>\n",
       "      <td>7333</td>\n",
       "      <td>1007</td>\n",
       "      <td>3021.0</td>\n",
       "      <td>0</td>\n",
       "      <td>10793</td>\n",
       "      <td>10793</td>\n",
       "      <td>2.427342</td>\n",
       "      <td>ENTRE PCU et MIN</td>\n",
       "      <td>NaN</td>\n",
       "      <td>1730.0</td>\n",
       "      <td>NaN</td>\n",
       "      <td>PRODUITS PNLT ADULTE</td>\n",
       "      <td>NaN</td>\n",
       "      <td>NaN</td>\n",
       "    </tr>\n",
       "    <tr>\n",
       "      <th>1</th>\n",
       "      <td>3050356_PNLT</td>\n",
       "      <td>3050356</td>\n",
       "      <td>PNLT</td>\n",
       "      <td>PNLT-SENSIBLE MEDICAMENTS ET INTRANTS</td>\n",
       "      <td>JANVIER MARS 2025</td>\n",
       "      <td>IFFOU</td>\n",
       "      <td>DAOUKRO</td>\n",
       "      <td>62600030</td>\n",
       "      <td>CENTRE ANTITUBERCULEUX DAOUKRO</td>\n",
       "      <td>FORMATION SANITAIRE</td>\n",
       "      <td>Produit traceur</td>\n",
       "      <td>RHZE (RIFAMP 150 - ISON 75 - PYRAZ 400 - ETHAM...</td>\n",
       "      <td>COMPRIME</td>\n",
       "      <td>8862</td>\n",
       "      <td>0</td>\n",
       "      <td>5251</td>\n",
       "      <td>-2016</td>\n",
       "      <td>0</td>\n",
       "      <td>1595</td>\n",
       "      <td>591</td>\n",
       "      <td>1774.0</td>\n",
       "      <td>1951</td>\n",
       "      <td>9049</td>\n",
       "      <td>9049</td>\n",
       "      <td>0.899098</td>\n",
       "      <td>EN BAS DU PCU</td>\n",
       "      <td>9049.0</td>\n",
       "      <td>3727.0</td>\n",
       "      <td>NaN</td>\n",
       "      <td>PRODUITS PNLT ADULTE</td>\n",
       "      <td>NaN</td>\n",
       "      <td>NaN</td>\n",
       "    </tr>\n",
       "  </tbody>\n",
       "</table>\n",
       "</div>"
      ],
      "text/plain": [
       "       Code_Pro     CODE PROGRAMME                         SOUS-PROGRAMME  \\\n",
       "0  3050350_PNLT  3050350      PNLT  PNLT-SENSIBLE MEDICAMENTS ET INTRANTS   \n",
       "1  3050356_PNLT  3050356      PNLT  PNLT-SENSIBLE MEDICAMENTS ET INTRANTS   \n",
       "\n",
       "             PERIODE REGION DISTRICT  CODE  ETS  \\\n",
       "0  JANVIER MARS 2025  IFFOU  DAOUKRO   62600030   \n",
       "1  JANVIER MARS 2025  IFFOU  DAOUKRO   62600030   \n",
       "\n",
       "                         STRUCTURE    TYPE DE STRUCTURE CATEGORIE PRODUIT  \\\n",
       "0   CENTRE ANTITUBERCULEUX DAOUKRO  FORMATION SANITAIRE   Produit traceur   \n",
       "1   CENTRE ANTITUBERCULEUX DAOUKRO  FORMATION SANITAIRE   Produit traceur   \n",
       "\n",
       "                                             PRODUIT UNITE DE RAPPORTAGE  \\\n",
       "0  RH 150 (RIFAmpICINE150 - ISONIAZIDE75) comp. B...            COMPRIME   \n",
       "1  RHZE (RIFAMP 150 - ISON 75 - PYRAZ 400 - ETHAM...            COMPRIME   \n",
       "\n",
       "   STOCK INITIAL  QUANTITE RECUE  QUANTITE UTILISEE  PERTES ET AJUSTEMENT  \\\n",
       "0           9316            9408               8992                 -2399   \n",
       "1           8862               0               5251                 -2016   \n",
       "\n",
       "   JOURS DE RUPTURE   SDU  CMM ESIGL  CMM gestionnaire  QUANTITE PROPOSEE  \\\n",
       "0                 0  7333       1007            3021.0                  0   \n",
       "1                 0  1595        591            1774.0               1951   \n",
       "\n",
       "   QUANTITE COMMANDEE  QUANTITE APPROUVEE       MSD     ETAT DU STOCK  \\\n",
       "0               10793               10793  2.427342  ENTRE PCU et MIN   \n",
       "1                9049                9049  0.899098     EN BAS DU PCU   \n",
       "\n",
       "   BESOIN COMMANDE URGENTE                    \\\n",
       "0                                        NaN   \n",
       "1                                     9049.0   \n",
       "\n",
       "   BESOIN TRANSFERT IN                                 \\\n",
       "0                                             1730.0    \n",
       "1                                             3727.0    \n",
       "\n",
       "   QUANTITE A TRANSFERER OUT  CATEGORIE_DU_PRODUIT  \\\n",
       "0                        NaN  PRODUITS PNLT ADULTE   \n",
       "1                        NaN  PRODUITS PNLT ADULTE   \n",
       "\n",
       "   Commandes du mois précédent  Etat du stock du mois précédent  \n",
       "0                          NaN                              NaN  \n",
       "1                          NaN                              NaN  "
      ]
     },
     "execution_count": 58,
     "metadata": {},
     "output_type": "execute_result"
    }
   ],
   "source": [
    "df_etat_stock = pd.read_excel(\n",
    "    f\"/home/jovyan/workspace/Rapport Feedback/code/pipelines/rapport feedback genere/{date_report_format[:4]}/RapportFeedBack-{unidecode(f_month)}.xlsx\",\n",
    "    sheet_name=\"ETAT DU STOCK\",\n",
    ")\n",
    "\n",
    "df_etat_stock.head(2)"
   ]
  },
  {
   "cell_type": "code",
   "execution_count": 59,
   "id": "fcabb659-b3ab-42f0-b5bc-fcec276f97c3",
   "metadata": {
    "execution": {
     "iopub.execute_input": "2025-05-14T12:06:03.702828Z",
     "iopub.status.busy": "2025-05-14T12:06:03.702364Z",
     "iopub.status.idle": "2025-05-14T12:06:06.184756Z",
     "shell.execute_reply": "2025-05-14T12:06:06.183545Z"
    },
    "papermill": {
     "duration": 2.725156,
     "end_time": "2025-05-14T12:06:06.186532",
     "exception": false,
     "start_time": "2025-05-14T12:06:03.461376",
     "status": "completed"
    },
    "tags": []
   },
   "outputs": [
    {
     "name": "stdout",
     "output_type": "stream",
     "text": [
      "CPU times: user 2.47 s, sys: 8.05 ms, total: 2.48 s\n",
      "Wall time: 2.48 s\n"
     ]
    }
   ],
   "source": [
    "%%time\n",
    "\n",
    "wb_template = gstf.update_sheet_etat_stock(wb_template, df_etat_stock.loc[df_etat_stock.PROGRAMME==programme].copy())\n",
    "\n",
    "wb_template = gstf.update_sheet_stock_region(wb_template, wb_fbr, programme)"
   ]
  },
  {
   "cell_type": "markdown",
   "id": "aa2d9f5c-ff21-4dc3-8509-207e0f632a6e",
   "metadata": {
    "papermill": {
     "duration": 0.210319,
     "end_time": "2025-05-14T12:06:06.652702",
     "exception": false,
     "start_time": "2025-05-14T12:06:06.442383",
     "status": "completed"
    },
    "tags": []
   },
   "source": [
    "## 4. Mise à jour des informations feuille `Annexe 1 - Consolidation`"
   ]
  },
  {
   "cell_type": "code",
   "execution_count": 60,
   "id": "1448ebc3-75d4-4063-8d8d-daba9b9c2c65",
   "metadata": {
    "execution": {
     "iopub.execute_input": "2025-05-14T12:06:09.478439Z",
     "iopub.status.busy": "2025-05-14T12:06:09.477936Z",
     "iopub.status.idle": "2025-05-14T12:06:09.965108Z",
     "shell.execute_reply": "2025-05-14T12:06:09.964157Z"
    },
    "papermill": {
     "duration": 3.11405,
     "end_time": "2025-05-14T12:06:09.966724",
     "exception": false,
     "start_time": "2025-05-14T12:06:06.852674",
     "status": "completed"
    },
    "tags": []
   },
   "outputs": [],
   "source": [
    "wb_template = gstf.update_sheet_annexe_1(\n",
    "    wb_template, programme, schema_name, stock_sync_manager.civ_engine, date_report\n",
    ")"
   ]
  },
  {
   "cell_type": "markdown",
   "id": "17d87336-319e-4c52-bc10-ca92f55a36bd",
   "metadata": {
    "papermill": {
     "duration": 0.221201,
     "end_time": "2025-05-14T12:06:10.456474",
     "exception": false,
     "start_time": "2025-05-14T12:06:10.235273",
     "status": "completed"
    },
    "tags": []
   },
   "source": [
    "## 5. Mise à jour des données du `Plan d'approvisionnement`"
   ]
  },
  {
   "cell_type": "code",
   "execution_count": 61,
   "id": "896a4775-5a20-497e-9642-99b199e90a53",
   "metadata": {
    "execution": {
     "iopub.execute_input": "2025-05-14T12:06:10.878133Z",
     "iopub.status.busy": "2025-05-14T12:06:10.877083Z",
     "iopub.status.idle": "2025-05-14T12:06:10.883966Z",
     "shell.execute_reply": "2025-05-14T12:06:10.883136Z"
    },
    "papermill": {
     "duration": 0.239341,
     "end_time": "2025-05-14T12:06:10.885358",
     "exception": false,
     "start_time": "2025-05-14T12:06:10.646017",
     "status": "completed"
    },
    "scrolled": true,
    "tags": []
   },
   "outputs": [],
   "source": [
    "df_pa = df_plan_approv.rename(\n",
    "    columns={\n",
    "        \"Agent d`approvisionnement\": \"Centrale d'achat\",\n",
    "        \"Source de financement\": \"Source Financement\",\n",
    "        \"facteur_de_conversion_qat_sage\": \"Facteur de conversion de QAT vers SAGE\",\n",
    "        \"cout_unitaire_moyen_qat\": \"Coût unitaire moyen (en dollar)\",\n",
    "        \"acronym\": \"Acronym\",\n",
    "    }\n",
    ")\n",
    "\n",
    "df_pa[\"DATE\"] = pd.to_datetime(df_pa[\"DATE\"], format='%d-%b-%Y', errors='coerce')"
   ]
  },
  {
   "cell_type": "code",
   "execution_count": 62,
   "id": "7b64bf01-482b-473e-82df-9d96345e04cf",
   "metadata": {
    "execution": {
     "iopub.execute_input": "2025-05-14T12:06:11.289623Z",
     "iopub.status.busy": "2025-05-14T12:06:11.289282Z",
     "iopub.status.idle": "2025-05-14T12:06:11.317801Z",
     "shell.execute_reply": "2025-05-14T12:06:11.316900Z"
    },
    "papermill": {
     "duration": 0.243915,
     "end_time": "2025-05-14T12:06:11.319558",
     "exception": false,
     "start_time": "2025-05-14T12:06:11.075643",
     "status": "completed"
    },
    "tags": []
   },
   "outputs": [
    {
     "name": "stdout",
     "output_type": "stream",
     "text": [
      "CPU times: user 24.2 ms, sys: 0 ns, total: 24.2 ms\n",
      "Wall time: 23.5 ms\n"
     ]
    }
   ],
   "source": [
    "%%time\n",
    "wb_template = gstf.update_sheet_plan_approv(wb_template, df_pa)"
   ]
  },
  {
   "cell_type": "markdown",
   "id": "0e5eec95-ae01-435c-994f-597b583151ca",
   "metadata": {
    "papermill": {
     "duration": 2.41227,
     "end_time": "2025-05-14T12:06:13.939690",
     "exception": false,
     "start_time": "2025-05-14T12:06:11.527420",
     "status": "completed"
    },
    "tags": []
   },
   "source": [
    "## 5. Mise à jour des informations  en se basant sur la source `Annexe 2 - Suivi de Stock`"
   ]
  },
  {
   "cell_type": "code",
   "execution_count": 63,
   "id": "a8cbbd89-50c1-4467-b616-46071483927c",
   "metadata": {
    "execution": {
     "iopub.execute_input": "2025-05-14T12:06:22.217110Z",
     "iopub.status.busy": "2025-05-14T12:06:22.216237Z",
     "iopub.status.idle": "2025-05-14T12:06:22.364497Z",
     "shell.execute_reply": "2025-05-14T12:06:22.363472Z"
    },
    "papermill": {
     "duration": 0.43428,
     "end_time": "2025-05-14T12:06:22.366556",
     "exception": false,
     "start_time": "2025-05-14T12:06:21.932276",
     "status": "completed"
    },
    "tags": []
   },
   "outputs": [
    {
     "name": "stdout",
     "output_type": "stream",
     "text": [
      "CPU times: user 141 ms, sys: 990 μs, total: 142 ms\n",
      "Wall time: 142 ms\n"
     ]
    }
   ],
   "source": [
    "%%time\n",
    "wb_template = gstf.update_sheet_annexe_2(wb_template, df_pa, date_report)"
   ]
  },
  {
   "cell_type": "markdown",
   "id": "23e8d193-e8ee-4e13-96a4-dca4dcd5cae5",
   "metadata": {
    "papermill": {
     "duration": 0.209647,
     "end_time": "2025-05-14T12:06:22.797142",
     "exception": false,
     "start_time": "2025-05-14T12:06:22.587495",
     "status": "completed"
    },
    "tags": []
   },
   "source": [
    "## 6. Mise à jour des données en se basant sur la source `Prévision`"
   ]
  },
  {
   "cell_type": "code",
   "execution_count": 64,
   "id": "907dc386-5f20-42a9-8bc4-a6033963db23",
   "metadata": {
    "execution": {
     "iopub.execute_input": "2025-05-14T12:06:23.250461Z",
     "iopub.status.busy": "2025-05-14T12:06:23.249360Z",
     "iopub.status.idle": "2025-05-14T12:06:23.259145Z",
     "shell.execute_reply": "2025-05-14T12:06:23.258019Z"
    },
    "papermill": {
     "duration": 0.2462,
     "end_time": "2025-05-14T12:06:23.260901",
     "exception": false,
     "start_time": "2025-05-14T12:06:23.014701",
     "status": "completed"
    },
    "tags": []
   },
   "outputs": [],
   "source": [
    "df_prod = dim_produit[\n",
    "    [\"code_produit\", \"type_produit\", \"designation\", \"designation_acronym\"]\n",
    "]\n",
    "\n",
    "df_prod[\"designation\"] = df_prod.apply(\n",
    "    lambda row: row[\"designation_acronym\"]\n",
    "    if not pd.isna(row[\"designation_acronym\"])\n",
    "    else row[\"designation\"],\n",
    "    axis=1,\n",
    ")\n",
    "df_prod = df_prod.drop(columns=\"designation_acronym\")"
   ]
  },
  {
   "cell_type": "code",
   "execution_count": 65,
   "id": "5390c300-62ab-40f6-af69-aed9c15b385c",
   "metadata": {
    "execution": {
     "iopub.execute_input": "2025-05-14T12:06:24.727029Z",
     "iopub.status.busy": "2025-05-14T12:06:24.726043Z",
     "iopub.status.idle": "2025-05-14T12:06:24.865962Z",
     "shell.execute_reply": "2025-05-14T12:06:24.865006Z"
    },
    "papermill": {
     "duration": 1.415229,
     "end_time": "2025-05-14T12:06:24.867878",
     "exception": false,
     "start_time": "2025-05-14T12:06:23.452649",
     "status": "completed"
    },
    "tags": []
   },
   "outputs": [],
   "source": [
    "wb_template = gstf.update_sheet_prevision(wb_template, date_report, df_prod)"
   ]
  },
  {
   "cell_type": "markdown",
   "id": "1630b9b1-f136-4538-84c8-bb3b1c40e1c4",
   "metadata": {
    "papermill": {
     "duration": 5.445382,
     "end_time": "2025-05-14T12:06:30.527515",
     "exception": false,
     "start_time": "2025-05-14T12:06:25.082133",
     "status": "completed"
    },
    "tags": []
   },
   "source": [
    "## 7. Mise à jour de certains éléments de la feuille `Rapport`"
   ]
  },
  {
   "cell_type": "code",
   "execution_count": 66,
   "id": "cbd158de-45e8-4f68-825e-825ac2154834",
   "metadata": {
    "execution": {
     "iopub.execute_input": "2025-05-14T12:06:30.976638Z",
     "iopub.status.busy": "2025-05-14T12:06:30.975680Z",
     "iopub.status.idle": "2025-05-14T12:06:30.982164Z",
     "shell.execute_reply": "2025-05-14T12:06:30.980887Z"
    },
    "papermill": {
     "duration": 0.227527,
     "end_time": "2025-05-14T12:06:30.983883",
     "exception": false,
     "start_time": "2025-05-14T12:06:30.756356",
     "status": "completed"
    },
    "tags": []
   },
   "outputs": [],
   "source": [
    "ws_rapport = wb_template['Rapport']\n",
    "ws_rapport['D4'].value = programme\n",
    "ws_rapport['D6'].value = f_month.split('-')[0].capitalize()\n",
    "ws_rapport['E6'].value = date_report_format[:4]"
   ]
  },
  {
   "cell_type": "markdown",
   "id": "d054f9c2-8975-4b31-baac-fc9b3629773d",
   "metadata": {
    "papermill": {
     "duration": 0.228794,
     "end_time": "2025-05-14T12:06:31.429624",
     "exception": false,
     "start_time": "2025-05-14T12:06:31.200830",
     "status": "completed"
    },
    "tags": []
   },
   "source": [
    "# VII. Exportation du Fichier Suivi de Stock vers le `drive` et la `BD`"
   ]
  },
  {
   "cell_type": "code",
   "execution_count": 67,
   "id": "f44d8752-d621-4c44-801e-c364c59ea156",
   "metadata": {
    "execution": {
     "iopub.execute_input": "2025-05-14T12:06:33.307342Z",
     "iopub.status.busy": "2025-05-14T12:06:33.306205Z",
     "iopub.status.idle": "2025-05-14T12:06:34.960425Z",
     "shell.execute_reply": "2025-05-14T12:06:34.959362Z"
    },
    "papermill": {
     "duration": 2.685048,
     "end_time": "2025-05-14T12:06:34.961946",
     "exception": false,
     "start_time": "2025-05-14T12:06:32.276898",
     "status": "completed"
    },
    "tags": []
   },
   "outputs": [
    {
     "name": "stdout",
     "output_type": "stream",
     "text": [
      "CPU times: user 1.13 s, sys: 18.1 ms, total: 1.15 s\n",
      "Wall time: 1.65 s\n"
     ]
    }
   ],
   "source": [
    "%%time\n",
    "# Sauvegarde du fichier dans un repertoire courant\n",
    "dest_file = (\n",
    "    Path(workspace.files_path)\n",
    "    / f\"Fichier Suivi de Stock/code/pipelines/fichier suivi de stock genere/{programme}/{date_report_format[:4]}\"\n",
    ")\n",
    "\n",
    "dest_file.mkdir(exist_ok=True, parents=True)\n",
    "\n",
    "dest_file = dest_file / f\"Fichier Suivi de Stock {programme}-{f_month}.xlsx\"\n",
    "\n",
    "wb_template.save(dest_file)"
   ]
  },
  {
   "cell_type": "code",
   "execution_count": 68,
   "id": "2e46bee1-54f4-48c9-986d-71ea1697f1dd",
   "metadata": {
    "execution": {
     "iopub.execute_input": "2025-05-14T12:06:40.645480Z",
     "iopub.status.busy": "2025-05-14T12:06:40.644180Z",
     "iopub.status.idle": "2025-05-14T12:06:44.646680Z",
     "shell.execute_reply": "2025-05-14T12:06:44.645437Z"
    },
    "papermill": {
     "duration": 5.796681,
     "end_time": "2025-05-14T12:06:44.648896",
     "exception": false,
     "start_time": "2025-05-14T12:06:38.852215",
     "status": "completed"
    },
    "tags": []
   },
   "outputs": [
    {
     "name": "stdout",
     "output_type": "stream",
     "text": [
      "Fichier trouvé : FICHIER SUIVI DE STOCK PNN-MARS-2025.XLSX (ID: 1PwYqOdKXs2_4r2QKtOLk8HTQbz6QJOmt)\n"
     ]
    },
    {
     "name": "stdout",
     "output_type": "stream",
     "text": [
      "Fichier supprimé : FICHIER SUIVI DE STOCK PNN-MARS-2025.XLSX\n"
     ]
    }
   ],
   "source": [
    "download_url = ggdrive.upload_and_return_link(\n",
    "    dest_file.as_posix(),\n",
    "    date_report_format,\n",
    ")"
   ]
  },
  {
   "cell_type": "code",
   "execution_count": 69,
   "id": "f1c90fd1-74f7-4b1f-b906-093975ea323e",
   "metadata": {
    "execution": {
     "iopub.execute_input": "2025-05-14T12:06:45.185704Z",
     "iopub.status.busy": "2025-05-14T12:06:45.184605Z",
     "iopub.status.idle": "2025-05-14T12:06:45.193466Z",
     "shell.execute_reply": "2025-05-14T12:06:45.192457Z"
    },
    "papermill": {
     "duration": 0.251893,
     "end_time": "2025-05-14T12:06:45.195195",
     "exception": false,
     "start_time": "2025-05-14T12:06:44.943302",
     "status": "completed"
    },
    "tags": []
   },
   "outputs": [],
   "source": [
    "df_download_url = pd.DataFrame(\n",
    "    data=[\n",
    "        {\n",
    "            \"programme\": programme,\n",
    "            \"download_url\": download_url,\n",
    "            \"date_report\": date_report_format,\n",
    "        }\n",
    "    ]\n",
    ")\n",
    "\n",
    "df_download_url.date_report = df_download_url.date_report.apply(\n",
    "    lambda x: pd.to_datetime(str(x)[:10], format=\"%Y-%m-%d\")\n",
    ")"
   ]
  },
  {
   "cell_type": "code",
   "execution_count": 70,
   "id": "01de3ddf-fc73-43bc-871f-c78aa90f5d37",
   "metadata": {
    "execution": {
     "iopub.execute_input": "2025-05-14T12:06:45.838065Z",
     "iopub.status.busy": "2025-05-14T12:06:45.836920Z",
     "iopub.status.idle": "2025-05-14T12:06:46.060901Z",
     "shell.execute_reply": "2025-05-14T12:06:46.060031Z"
    },
    "papermill": {
     "duration": 0.664371,
     "end_time": "2025-05-14T12:06:46.062912",
     "exception": false,
     "start_time": "2025-05-14T12:06:45.398541",
     "status": "completed"
    },
    "scrolled": true,
    "tags": []
   },
   "outputs": [
    {
     "data": {
      "text/html": [
       "<div>\n",
       "<style scoped>\n",
       "    .dataframe tbody tr th:only-of-type {\n",
       "        vertical-align: middle;\n",
       "    }\n",
       "\n",
       "    .dataframe tbody tr th {\n",
       "        vertical-align: top;\n",
       "    }\n",
       "\n",
       "    .dataframe thead th {\n",
       "        text-align: right;\n",
       "    }\n",
       "</style>\n",
       "<table border=\"1\" class=\"dataframe\">\n",
       "  <thead>\n",
       "    <tr style=\"text-align: right;\">\n",
       "      <th></th>\n",
       "      <th>id_share_link_pk</th>\n",
       "      <th>programme</th>\n",
       "      <th>download_url</th>\n",
       "      <th>date_report</th>\n",
       "    </tr>\n",
       "  </thead>\n",
       "  <tbody>\n",
       "    <tr>\n",
       "      <th>0</th>\n",
       "      <td>1</td>\n",
       "      <td>PNLP</td>\n",
       "      <td>https://drive.google.com/uc?id=1ECWpifZRPsj_xk...</td>\n",
       "      <td>2025-01-01</td>\n",
       "    </tr>\n",
       "    <tr>\n",
       "      <th>1</th>\n",
       "      <td>2</td>\n",
       "      <td>PNLP</td>\n",
       "      <td>https://drive.google.com/uc?id=1Kt1b5WtvRTGZcf...</td>\n",
       "      <td>2024-12-01</td>\n",
       "    </tr>\n",
       "    <tr>\n",
       "      <th>2</th>\n",
       "      <td>3</td>\n",
       "      <td>PNLS</td>\n",
       "      <td>https://drive.google.com/uc?id=1nwJdjZJue10fVA...</td>\n",
       "      <td>2024-12-01</td>\n",
       "    </tr>\n",
       "    <tr>\n",
       "      <th>3</th>\n",
       "      <td>5</td>\n",
       "      <td>PNLT</td>\n",
       "      <td>https://drive.google.com/uc?id=1ZbYwcqo4yunODi...</td>\n",
       "      <td>2024-12-01</td>\n",
       "    </tr>\n",
       "    <tr>\n",
       "      <th>4</th>\n",
       "      <td>6</td>\n",
       "      <td>PNLT</td>\n",
       "      <td>https://drive.google.com/uc?id=1RGmdhrn3-WdP0c...</td>\n",
       "      <td>2025-01-01</td>\n",
       "    </tr>\n",
       "    <tr>\n",
       "      <th>5</th>\n",
       "      <td>7</td>\n",
       "      <td>PNSME</td>\n",
       "      <td>https://drive.google.com/uc?id=1q5bqUgozycpGxK...</td>\n",
       "      <td>2024-12-01</td>\n",
       "    </tr>\n",
       "    <tr>\n",
       "      <th>6</th>\n",
       "      <td>8</td>\n",
       "      <td>PNSME</td>\n",
       "      <td>https://drive.google.com/uc?id=1BC_kZufkLXK5Ra...</td>\n",
       "      <td>2025-01-01</td>\n",
       "    </tr>\n",
       "    <tr>\n",
       "      <th>7</th>\n",
       "      <td>9</td>\n",
       "      <td>PNN</td>\n",
       "      <td>https://drive.google.com/uc?id=10z80VdlDTc6jnK...</td>\n",
       "      <td>2024-12-01</td>\n",
       "    </tr>\n",
       "    <tr>\n",
       "      <th>8</th>\n",
       "      <td>10</td>\n",
       "      <td>PNN</td>\n",
       "      <td>https://drive.google.com/uc?id=1OCNoFbRgSbf7lf...</td>\n",
       "      <td>2025-01-01</td>\n",
       "    </tr>\n",
       "    <tr>\n",
       "      <th>9</th>\n",
       "      <td>4</td>\n",
       "      <td>PNLS</td>\n",
       "      <td>https://drive.google.com/uc?id=18bC9vRuBW9nqbg...</td>\n",
       "      <td>2025-01-01</td>\n",
       "    </tr>\n",
       "    <tr>\n",
       "      <th>10</th>\n",
       "      <td>11</td>\n",
       "      <td>PNLS</td>\n",
       "      <td>https://drive.google.com/uc?id=18bC9vRuBW9nqbg...</td>\n",
       "      <td>2025-01-01</td>\n",
       "    </tr>\n",
       "    <tr>\n",
       "      <th>11</th>\n",
       "      <td>12</td>\n",
       "      <td>PNLP</td>\n",
       "      <td>https://drive.google.com/uc?id=1C-fpEVVzTAJ2V1...</td>\n",
       "      <td>2025-02-01</td>\n",
       "    </tr>\n",
       "    <tr>\n",
       "      <th>12</th>\n",
       "      <td>13</td>\n",
       "      <td>PNLS</td>\n",
       "      <td>https://drive.google.com/uc?id=1fvFlxbu9L6G9Od...</td>\n",
       "      <td>2025-02-01</td>\n",
       "    </tr>\n",
       "    <tr>\n",
       "      <th>13</th>\n",
       "      <td>14</td>\n",
       "      <td>PNLT</td>\n",
       "      <td>https://drive.google.com/uc?id=1ya9W7EZ7u671r7...</td>\n",
       "      <td>2025-02-01</td>\n",
       "    </tr>\n",
       "    <tr>\n",
       "      <th>14</th>\n",
       "      <td>15</td>\n",
       "      <td>PNN</td>\n",
       "      <td>https://drive.google.com/uc?id=1gVRSEe8xHpVE-S...</td>\n",
       "      <td>2025-02-01</td>\n",
       "    </tr>\n",
       "    <tr>\n",
       "      <th>15</th>\n",
       "      <td>16</td>\n",
       "      <td>PNSME</td>\n",
       "      <td>https://drive.google.com/uc?id=1XYYA8UI-Qzdxs4...</td>\n",
       "      <td>2025-02-01</td>\n",
       "    </tr>\n",
       "    <tr>\n",
       "      <th>16</th>\n",
       "      <td>17</td>\n",
       "      <td>PNLP</td>\n",
       "      <td>https://drive.google.com/uc?id=1Mv9LRDISiBMj7G...</td>\n",
       "      <td>2025-03-01</td>\n",
       "    </tr>\n",
       "    <tr>\n",
       "      <th>17</th>\n",
       "      <td>18</td>\n",
       "      <td>PNLS</td>\n",
       "      <td>https://drive.google.com/uc?id=1z1fLLjvySZZAMO...</td>\n",
       "      <td>2025-03-01</td>\n",
       "    </tr>\n",
       "    <tr>\n",
       "      <th>18</th>\n",
       "      <td>19</td>\n",
       "      <td>PNLT</td>\n",
       "      <td>https://drive.google.com/uc?id=1sof0Bfa44s16Gm...</td>\n",
       "      <td>2025-03-01</td>\n",
       "    </tr>\n",
       "    <tr>\n",
       "      <th>19</th>\n",
       "      <td>20</td>\n",
       "      <td>PNN</td>\n",
       "      <td>https://drive.google.com/uc?id=1eXHOXps6ytx7OP...</td>\n",
       "      <td>2025-03-01</td>\n",
       "    </tr>\n",
       "  </tbody>\n",
       "</table>\n",
       "</div>"
      ],
      "text/plain": [
       "    id_share_link_pk programme  \\\n",
       "0                  1      PNLP   \n",
       "1                  2      PNLP   \n",
       "2                  3      PNLS   \n",
       "3                  5      PNLT   \n",
       "4                  6      PNLT   \n",
       "5                  7     PNSME   \n",
       "6                  8     PNSME   \n",
       "7                  9       PNN   \n",
       "8                 10       PNN   \n",
       "9                  4      PNLS   \n",
       "10                11      PNLS   \n",
       "11                12      PNLP   \n",
       "12                13      PNLS   \n",
       "13                14      PNLT   \n",
       "14                15       PNN   \n",
       "15                16     PNSME   \n",
       "16                17      PNLP   \n",
       "17                18      PNLS   \n",
       "18                19      PNLT   \n",
       "19                20       PNN   \n",
       "\n",
       "                                         download_url date_report  \n",
       "0   https://drive.google.com/uc?id=1ECWpifZRPsj_xk...  2025-01-01  \n",
       "1   https://drive.google.com/uc?id=1Kt1b5WtvRTGZcf...  2024-12-01  \n",
       "2   https://drive.google.com/uc?id=1nwJdjZJue10fVA...  2024-12-01  \n",
       "3   https://drive.google.com/uc?id=1ZbYwcqo4yunODi...  2024-12-01  \n",
       "4   https://drive.google.com/uc?id=1RGmdhrn3-WdP0c...  2025-01-01  \n",
       "5   https://drive.google.com/uc?id=1q5bqUgozycpGxK...  2024-12-01  \n",
       "6   https://drive.google.com/uc?id=1BC_kZufkLXK5Ra...  2025-01-01  \n",
       "7   https://drive.google.com/uc?id=10z80VdlDTc6jnK...  2024-12-01  \n",
       "8   https://drive.google.com/uc?id=1OCNoFbRgSbf7lf...  2025-01-01  \n",
       "9   https://drive.google.com/uc?id=18bC9vRuBW9nqbg...  2025-01-01  \n",
       "10  https://drive.google.com/uc?id=18bC9vRuBW9nqbg...  2025-01-01  \n",
       "11  https://drive.google.com/uc?id=1C-fpEVVzTAJ2V1...  2025-02-01  \n",
       "12  https://drive.google.com/uc?id=1fvFlxbu9L6G9Od...  2025-02-01  \n",
       "13  https://drive.google.com/uc?id=1ya9W7EZ7u671r7...  2025-02-01  \n",
       "14  https://drive.google.com/uc?id=1gVRSEe8xHpVE-S...  2025-02-01  \n",
       "15  https://drive.google.com/uc?id=1XYYA8UI-Qzdxs4...  2025-02-01  \n",
       "16  https://drive.google.com/uc?id=1Mv9LRDISiBMj7G...  2025-03-01  \n",
       "17  https://drive.google.com/uc?id=1z1fLLjvySZZAMO...  2025-03-01  \n",
       "18  https://drive.google.com/uc?id=1sof0Bfa44s16Gm...  2025-03-01  \n",
       "19  https://drive.google.com/uc?id=1eXHOXps6ytx7OP...  2025-03-01  "
      ]
     },
     "execution_count": 70,
     "metadata": {},
     "output_type": "execute_result"
    }
   ],
   "source": [
    "stock_sync_manager.synchronize_table_data(\n",
    "    df_download_url,\n",
    "    table_name=\"share_link\",\n",
    "    merge_keys=[\"programme\", \"date_report\"],\n",
    "    programme=programme,\n",
    ")"
   ]
  }
 ],
 "metadata": {
  "kernelspec": {
   "display_name": "Python 3 (ipykernel)",
   "language": "python",
   "name": "python3"
  },
  "language_info": {
   "codemirror_mode": {
    "name": "ipython",
    "version": 3
   },
   "file_extension": ".py",
   "mimetype": "text/x-python",
   "name": "python",
   "nbconvert_exporter": "python",
   "pygments_lexer": "ipython3",
   "version": "3.12.8"
  },
  "papermill": {
   "default_parameters": {},
   "duration": 791.977057,
   "end_time": "2025-05-14T12:06:49.092715",
   "environment_variables": {},
   "exception": null,
   "input_path": "/home/hexa/workspace/Fichier Suivi de Stock/code/pipelines/mise a jour fichier suivi stock.ipynb",
   "output_path": "/home/hexa/workspace/Fichier Suivi de Stock/code/pipelines/output_notebook_execution/maj fichier suivi stock/PNN/output_2025-05-14.ipynb",
   "parameters": {
    "fp_etat_mensuel": "Etat du stock et de distribution PNN fin Mars 2025.xlsx",
    "fp_map_prod": "Mapping QAT_SAGEX3.xlsx",
    "fp_plan_approv": "Détails de l`envoiMar. 2025 ~ Mar. 2026.csv",
    "month_report": "Mars",
    "programme": "PNN",
    "year_report": 2025
   },
   "start_time": "2025-05-14T11:53:37.115658",
   "version": "2.6.0"
  }
 },
 "nbformat": 4,
 "nbformat_minor": 5
}