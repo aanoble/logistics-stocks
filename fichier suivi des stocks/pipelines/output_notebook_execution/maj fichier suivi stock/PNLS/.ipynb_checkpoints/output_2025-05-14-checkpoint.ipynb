{
 "cells": [
  {
   "cell_type": "markdown",
   "id": "6f3ca650",
   "metadata": {
    "tags": [
     "papermill-error-cell-tag"
    ]
   },
   "source": [
    "<span style=\"color:red; font-family:Helvetica Neue, Helvetica, Arial, sans-serif; font-size:2em;\">An Exception was encountered at '<a href=\"#papermill-error-cell\">In [28]</a>'.</span>"
   ]
  },
  {
   "cell_type": "markdown",
   "id": "6a2244e4-3226-4d02-9910-ca30f2ed18b5",
   "metadata": {
    "papermill": {
     "duration": 0.297771,
     "end_time": "2025-05-14T11:04:32.182759",
     "exception": false,
     "start_time": "2025-05-14T11:04:31.884988",
     "status": "completed"
    },
    "tags": []
   },
   "source": [
    "# I. Importation des bibliothèques"
   ]
  },
  {
   "cell_type": "code",
   "execution_count": 1,
   "id": "2ed56fcd-16c9-4916-98c6-aeb22c88b1c4",
   "metadata": {
    "execution": {
     "iopub.execute_input": "2025-05-14T11:04:32.593891Z",
     "iopub.status.busy": "2025-05-14T11:04:32.593559Z",
     "iopub.status.idle": "2025-05-14T11:04:36.816072Z",
     "shell.execute_reply": "2025-05-14T11:04:36.815110Z"
    },
    "papermill": {
     "duration": 4.442799,
     "end_time": "2025-05-14T11:04:36.817833",
     "exception": false,
     "start_time": "2025-05-14T11:04:32.375034",
     "status": "completed"
    },
    "tags": []
   },
   "outputs": [],
   "source": [
    "%%capture\n",
    "!pip install google-api-python-client google-auth-httplib2 google-auth-oauthlib unidecode"
   ]
  },
  {
   "cell_type": "code",
   "execution_count": 2,
   "id": "c8ef43d4-7fec-400f-86ce-30991fb1b709",
   "metadata": {
    "editable": true,
    "execution": {
     "iopub.execute_input": "2025-05-14T11:04:37.297932Z",
     "iopub.status.busy": "2025-05-14T11:04:37.296931Z",
     "iopub.status.idle": "2025-05-14T11:04:41.481793Z",
     "shell.execute_reply": "2025-05-14T11:04:41.480726Z"
    },
    "papermill": {
     "duration": 4.426022,
     "end_time": "2025-05-14T11:04:41.483645",
     "exception": false,
     "start_time": "2025-05-14T11:04:37.057623",
     "status": "completed"
    },
    "slideshow": {
     "slide_type": ""
    },
    "tags": []
   },
   "outputs": [],
   "source": [
    "%%capture\n",
    "import warnings\n",
    "\n",
    "warnings.filterwarnings(\"ignore\")\n",
    "\n",
    "import os\n",
    "from pathlib import Path\n",
    "\n",
    "import pandas as pd\n",
    "from openhexa.sdk import workspace\n",
    "from unidecode import unidecode\n",
    "\n",
    "pd.set_option(\"display.max_columns\", None)\n",
    "\n",
    "try:\n",
    "    import openpyxl as pyxl\n",
    "    from efc.interfaces.iopenpyxl import OpenpyxlInterface\n",
    "    from fuzzywuzzy import fuzz, process\n",
    "except ImportError or ModuleNotFoundError:\n",
    "    !pip install --quiet fuzzywuzzy python-Levenshtein excel-formulas-calculator\n",
    "    import openpyxl as pyxl\n",
    "    from efc.interfaces.iopenpyxl import OpenpyxlInterface"
   ]
  },
  {
   "cell_type": "markdown",
   "id": "8dab03ab-9414-4670-befc-42b395b44059",
   "metadata": {
    "papermill": {
     "duration": 0.226416,
     "end_time": "2025-05-14T11:04:41.943643",
     "exception": false,
     "start_time": "2025-05-14T11:04:41.717227",
     "status": "completed"
    },
    "tags": []
   },
   "source": [
    "## 1. Rafraîchissement des bibliothèques"
   ]
  },
  {
   "cell_type": "code",
   "execution_count": 3,
   "id": "3a21bbdd-e895-4122-91bc-553d8ae02123",
   "metadata": {
    "editable": true,
    "execution": {
     "iopub.execute_input": "2025-05-14T11:04:42.370912Z",
     "iopub.status.busy": "2025-05-14T11:04:42.370230Z",
     "iopub.status.idle": "2025-05-14T11:04:46.746355Z",
     "shell.execute_reply": "2025-05-14T11:04:46.745236Z"
    },
    "papermill": {
     "duration": 4.582257,
     "end_time": "2025-05-14T11:04:46.748006",
     "exception": false,
     "start_time": "2025-05-14T11:04:42.165749",
     "status": "completed"
    },
    "slideshow": {
     "slide_type": ""
    },
    "tags": []
   },
   "outputs": [],
   "source": [
    "%%capture\n",
    "# Ajout du chemin d'accès pour l'importation des bibliothèques\n",
    "os.chdir(Path(workspace.files_path, \"Fichier Suivi de Stock/code/pipelines\"))\n",
    "\n",
    "from importlib import reload\n",
    "\n",
    "import compute_indicators\n",
    "import export_file_to_google_drive as ggdrive\n",
    "import generate_stock_tracking_file as gstf\n",
    "\n",
    "# Importation des réquêtes sql\n",
    "from compute_indicators.queries import *\n",
    "from database_operations import stock_sync_manager\n",
    "\n",
    "# Reload modules\n",
    "reload(compute_indicators)\n",
    "reload(stock_sync_manager)\n",
    "reload(gstf)\n",
    "reload(ggdrive)"
   ]
  },
  {
   "cell_type": "markdown",
   "id": "e26b3de7-b38f-4e98-a2a4-a88374dd84b4",
   "metadata": {
    "papermill": {
     "duration": 0.165294,
     "end_time": "2025-05-14T11:04:47.110124",
     "exception": false,
     "start_time": "2025-05-14T11:04:46.944830",
     "status": "completed"
    },
    "tags": []
   },
   "source": [
    "# II. Définition des paramètres"
   ]
  },
  {
   "cell_type": "markdown",
   "id": "f4ff0a57-7b4d-48cb-bd95-b05c42e9b876",
   "metadata": {
    "papermill": {
     "duration": 0.243729,
     "end_time": "2025-05-14T11:04:47.938231",
     "exception": false,
     "start_time": "2025-05-14T11:04:47.694502",
     "status": "completed"
    },
    "tags": []
   },
   "source": [
    "## 1. Variables requises pour la conception du fichier de suivi de stock\n",
    "\n",
    "1. **Mois de création du rapport** : Si le processus est bien défini, cette valeur peut être automatisée. Sinon, elle sera fournie en tant qu'entrée du pipeline.\n",
    "\n",
    "2. **Programme** : Le programme concerné pour lequel le fichier de suivi de stock est généré.\n",
    "\n",
    "3. **Fichier État Mensuel** : Fichier transmis mensuellement par la N-PSP (source : SAGE X3).\n",
    "\n",
    "4. **Fichier Plan d'Approvisionnement** : Utilisé pour certains calculs, notamment dans la feuille « Prévision ». Ce fichier est généralement récupéré depuis la source QAT.\n",
    "\n",
    "5. **Fichier de mappage des produits** : Fichier assurant la correspondance entre les produits de SAGE X3 et ceux de QAT."
   ]
  },
  {
   "cell_type": "code",
   "execution_count": 4,
   "id": "5d4117a6-ce2c-4aff-b0ac-3e5dc57a2319",
   "metadata": {
    "editable": true,
    "execution": {
     "iopub.execute_input": "2025-05-14T11:04:52.096121Z",
     "iopub.status.busy": "2025-05-14T11:04:52.095522Z",
     "iopub.status.idle": "2025-05-14T11:04:52.100857Z",
     "shell.execute_reply": "2025-05-14T11:04:52.100009Z"
    },
    "papermill": {
     "duration": 2.209699,
     "end_time": "2025-05-14T11:04:52.102233",
     "exception": false,
     "start_time": "2025-05-14T11:04:49.892534",
     "status": "completed"
    },
    "slideshow": {
     "slide_type": ""
    },
    "tags": [
     "parameters"
    ]
   },
   "outputs": [],
   "source": [
    "month_report, year_report, programme, fp_etat_mensuel, fp_plan_approv, fp_map_prod = (\n",
    "    \"Mars\",\n",
    "    2025,\n",
    "    \"PNLP\",\n",
    "    \"Etat du stock et de distribution PNLP fin Mars 2025.xlsx\",\n",
    "    \"Détails de l`envoiMar. 2025 ~ Dec. 2026.csv\",\n",
    "    \"Mapping QAT_SAGEX3.xlsx\",\n",
    ")"
   ]
  },
  {
   "cell_type": "code",
   "execution_count": 5,
   "id": "b0cf3666",
   "metadata": {
    "execution": {
     "iopub.execute_input": "2025-05-14T11:04:52.502313Z",
     "iopub.status.busy": "2025-05-14T11:04:52.501277Z",
     "iopub.status.idle": "2025-05-14T11:04:52.506393Z",
     "shell.execute_reply": "2025-05-14T11:04:52.505528Z"
    },
    "papermill": {
     "duration": 0.206555,
     "end_time": "2025-05-14T11:04:52.507770",
     "exception": false,
     "start_time": "2025-05-14T11:04:52.301215",
     "status": "completed"
    },
    "tags": [
     "injected-parameters"
    ]
   },
   "outputs": [],
   "source": [
    "# Parameters\n",
    "month_report = \"Mars\"\n",
    "year_report = 2025\n",
    "programme = \"PNLS\"\n",
    "fp_etat_mensuel = \"Etat du stock et de distribution PNLS fin Mars 2025.xlsx\"\n",
    "fp_plan_approv = \"Mars 2025\"\n",
    "fp_map_prod = \"Mapping QAT_SAGEX3.xlsx\"\n"
   ]
  },
  {
   "cell_type": "code",
   "execution_count": 6,
   "id": "7ffc244d-b753-49f8-8240-825a1e982c0b",
   "metadata": {
    "editable": true,
    "execution": {
     "iopub.execute_input": "2025-05-14T11:04:55.326397Z",
     "iopub.status.busy": "2025-05-14T11:04:55.325404Z",
     "iopub.status.idle": "2025-05-14T11:04:55.335678Z",
     "shell.execute_reply": "2025-05-14T11:04:55.334810Z"
    },
    "papermill": {
     "duration": 2.630232,
     "end_time": "2025-05-14T11:04:55.337084",
     "exception": false,
     "start_time": "2025-05-14T11:04:52.706852",
     "status": "completed"
    },
    "slideshow": {
     "slide_type": ""
    },
    "tags": []
   },
   "outputs": [],
   "source": [
    "month_export, date_report = month_report, compute_indicators.utils.format_date(month_report, year_report)\n",
    "\n",
    "date_report_prec = (pd.to_datetime(date_report).replace(day=1) - pd.offsets.MonthBegin()).strftime('%Y-%m-%d')"
   ]
  },
  {
   "cell_type": "markdown",
   "id": "6891eb05-f888-4c75-bdd0-749559cc7ca1",
   "metadata": {
    "papermill": {
     "duration": 15.164167,
     "end_time": "2025-05-14T11:05:10.706180",
     "exception": false,
     "start_time": "2025-05-14T11:04:55.542013",
     "status": "completed"
    },
    "tags": []
   },
   "source": [
    "## 2. Test pour s'assurer que cette date n'existe pas déjà dans la base de données"
   ]
  },
  {
   "cell_type": "code",
   "execution_count": 7,
   "id": "8b840e61-7ee1-478a-a6c3-c5b614e25f8b",
   "metadata": {
    "execution": {
     "iopub.execute_input": "2025-05-14T11:05:11.413309Z",
     "iopub.status.busy": "2025-05-14T11:05:11.409208Z",
     "iopub.status.idle": "2025-05-14T11:05:11.586530Z",
     "shell.execute_reply": "2025-05-14T11:05:11.585440Z"
    },
    "papermill": {
     "duration": 0.471049,
     "end_time": "2025-05-14T11:05:11.589359",
     "exception": false,
     "start_time": "2025-05-14T11:05:11.118310",
     "status": "completed"
    },
    "tags": []
   },
   "outputs": [
    {
     "name": "stdout",
     "output_type": "stream",
     "text": [
      "Connexion à la base de données établie avec succès\n"
     ]
    }
   ],
   "source": [
    "stock_sync_manager.initialize_database_connection()\n",
    "\n",
    "schema_name = \"suivi_stock\""
   ]
  },
  {
   "cell_type": "code",
   "execution_count": 8,
   "id": "4f4adfa5-719d-419c-8352-ad2e4dcdab8c",
   "metadata": {
    "execution": {
     "iopub.execute_input": "2025-05-14T11:05:12.145464Z",
     "iopub.status.busy": "2025-05-14T11:05:12.145037Z",
     "iopub.status.idle": "2025-05-14T11:05:12.381938Z",
     "shell.execute_reply": "2025-05-14T11:05:12.380910Z"
    },
    "papermill": {
     "duration": 0.505096,
     "end_time": "2025-05-14T11:05:12.383934",
     "exception": false,
     "start_time": "2025-05-14T11:05:11.878838",
     "status": "completed"
    },
    "tags": []
   },
   "outputs": [],
   "source": [
    "# Ici il faudrait également s'assurer que le mois précédent est bien présent à l'intérieur de la base de données au cas où on arriverait à se tromper sur le mois de conception du fichier\n",
    "df_ = stock_sync_manager.get_table_data(\n",
    "    query=f\"\"\"\n",
    "    select * \n",
    "    from {schema_name}.stock_track st \n",
    "    inner join {schema_name}.dim_produit_stock_track prod ON st.id_dim_produit_stock_track_fk = prod.id_dim_produit_stock_track_pk\n",
    "    where prod.programme='{programme}' and date_report='{date_report_prec}'\n",
    "    limit 2\n",
    "    \"\"\"\n",
    ")\n",
    "\n",
    "assert (\n",
    "    df_.shape[0] != 0\n",
    "), f\"Le mois précédent {date_report_prec} n'est pas présent dans la base de données locale êtes-vous sûre d'avoir choisir le bon mois de conception du fichier.\"\n",
    "\n",
    "del df_"
   ]
  },
  {
   "cell_type": "markdown",
   "id": "f89423e0-797c-4c0a-8ad6-1addbd0a7e3e",
   "metadata": {
    "papermill": {
     "duration": 0.492048,
     "end_time": "2025-05-14T11:05:14.621852",
     "exception": false,
     "start_time": "2025-05-14T11:05:14.129804",
     "status": "completed"
    },
    "tags": []
   },
   "source": [
    "# III.📥Importation des Données\n",
    "  \n",
    "L'utilisateur doit veiller à ce que les fichiers respectent le format attendu et soient placés dans les répertoires dédiés avant de procéder au traitement."
   ]
  },
  {
   "cell_type": "markdown",
   "id": "73015d7f-f3c2-4b44-96b6-1046109dbf21",
   "metadata": {
    "papermill": {
     "duration": 2.686391,
     "end_time": "2025-05-14T11:05:18.387867",
     "exception": false,
     "start_time": "2025-05-14T11:05:15.701476",
     "status": "completed"
    },
    "tags": []
   },
   "source": [
    "## 📌1. Importation du fichier `Etat de Stock Mensuel`\n",
    "\n",
    "- **Format requis :** Assurez-vous que le fichier respecte le template standard défini.\n",
    "- **Emplacement du fichier :** Le fichier doit être placé dans le répertoire dédié :  \n",
    "  **`Fichier Suivi de Stock/data/<programme>/Etat de Stock Mensuel`**\n",
    "  \n",
    "- **En cas d'erreur :**  \n",
    "  - Vérifiez que le fichier est bien présent dans le répertoire.  \n",
    "  - Assurez-vous que toutes les colonnes requises sont bien renseignées.  \n",
    "  - Contrôlez que le fichier est bien accessible et non corrompu."
   ]
  },
  {
   "cell_type": "code",
   "execution_count": 9,
   "id": "d02f7b2e-14f1-4174-95b4-c6cdaea297be",
   "metadata": {
    "execution": {
     "iopub.execute_input": "2025-05-14T11:05:22.751262Z",
     "iopub.status.busy": "2025-05-14T11:05:22.750854Z",
     "iopub.status.idle": "2025-05-14T11:05:23.275621Z",
     "shell.execute_reply": "2025-05-14T11:05:23.274482Z"
    },
    "papermill": {
     "duration": 0.785487,
     "end_time": "2025-05-14T11:05:23.277314",
     "exception": false,
     "start_time": "2025-05-14T11:05:22.491827",
     "status": "completed"
    },
    "tags": []
   },
   "outputs": [],
   "source": [
    "fp_etat_mensuel = (\n",
    "    Path(workspace.files_path)\n",
    "    / f\"Fichier Suivi de Stock/data/{programme}/Etat de Stock Mensuel\"\n",
    "    / Path(fp_etat_mensuel).name\n",
    ")\n",
    "\n",
    "sheetnames = pd.ExcelFile(fp_etat_mensuel).sheet_names"
   ]
  },
  {
   "cell_type": "markdown",
   "id": "36d21a7b-10c2-4c81-bc38-2a1dcf0916a0",
   "metadata": {
    "papermill": {
     "duration": 0.211437,
     "end_time": "2025-05-14T11:05:23.697263",
     "exception": false,
     "start_time": "2025-05-14T11:05:23.485826",
     "status": "completed"
    },
    "tags": []
   },
   "source": [
    "## 📌2. Importation de la feuille `Etat de stock de la NPSP`"
   ]
  },
  {
   "cell_type": "code",
   "execution_count": 10,
   "id": "f81ccd62-7a85-4830-a782-0721f40ed33a",
   "metadata": {
    "execution": {
     "iopub.execute_input": "2025-05-14T11:05:24.095833Z",
     "iopub.status.busy": "2025-05-14T11:05:24.094928Z",
     "iopub.status.idle": "2025-05-14T11:05:24.407671Z",
     "shell.execute_reply": "2025-05-14T11:05:24.406967Z"
    },
    "papermill": {
     "duration": 0.506836,
     "end_time": "2025-05-14T11:05:24.409368",
     "exception": false,
     "start_time": "2025-05-14T11:05:23.902532",
     "status": "completed"
    },
    "tags": []
   },
   "outputs": [
    {
     "data": {
      "text/html": [
       "<div>\n",
       "<style scoped>\n",
       "    .dataframe tbody tr th:only-of-type {\n",
       "        vertical-align: middle;\n",
       "    }\n",
       "\n",
       "    .dataframe tbody tr th {\n",
       "        vertical-align: top;\n",
       "    }\n",
       "\n",
       "    .dataframe thead th {\n",
       "        text-align: right;\n",
       "    }\n",
       "</style>\n",
       "<table border=\"1\" class=\"dataframe\">\n",
       "  <thead>\n",
       "    <tr style=\"text-align: right;\">\n",
       "      <th></th>\n",
       "      <th>date_report</th>\n",
       "      <th>code_produit</th>\n",
       "      <th>designation</th>\n",
       "      <th>contenance</th>\n",
       "      <th>dmm</th>\n",
       "      <th>traceurs</th>\n",
       "      <th>stock_theorique_bke</th>\n",
       "      <th>stock_theorique_abj</th>\n",
       "      <th>stock_theorique_central</th>\n",
       "      <th>stock_theorique_fin_mois</th>\n",
       "      <th>msd</th>\n",
       "      <th>statut_stock</th>\n",
       "      <th>programme</th>\n",
       "    </tr>\n",
       "  </thead>\n",
       "  <tbody>\n",
       "    <tr>\n",
       "      <th>2</th>\n",
       "      <td>2025-03-01</td>\n",
       "      <td>3050188.0</td>\n",
       "      <td>COTRIMOXAZOLE 120 (TRIMETHOPRIME 20+SULFAMETHO...</td>\n",
       "      <td>BOITE/1000</td>\n",
       "      <td>820.166667</td>\n",
       "      <td>0.0</td>\n",
       "      <td>77.0</td>\n",
       "      <td>280.0</td>\n",
       "      <td>0.0</td>\n",
       "      <td>357.0</td>\n",
       "      <td>0.435277</td>\n",
       "      <td>Sous-stock</td>\n",
       "      <td>PNLS</td>\n",
       "    </tr>\n",
       "    <tr>\n",
       "      <th>3</th>\n",
       "      <td>2025-03-01</td>\n",
       "      <td>3050191.0</td>\n",
       "      <td>COTRIMOXAZOLE 960 (TRIMETHOPRIME + SULFAMET. 1...</td>\n",
       "      <td>COMPRIME</td>\n",
       "      <td>2340928.166667</td>\n",
       "      <td>1.0</td>\n",
       "      <td>4212870.0</td>\n",
       "      <td>7247159.0</td>\n",
       "      <td>0.0</td>\n",
       "      <td>11460029.0</td>\n",
       "      <td>4.895506</td>\n",
       "      <td>Bon</td>\n",
       "      <td>PNLS</td>\n",
       "    </tr>\n",
       "  </tbody>\n",
       "</table>\n",
       "</div>"
      ],
      "text/plain": [
       "  date_report  code_produit  \\\n",
       "2  2025-03-01     3050188.0   \n",
       "3  2025-03-01     3050191.0   \n",
       "\n",
       "                                         designation  contenance  \\\n",
       "2  COTRIMOXAZOLE 120 (TRIMETHOPRIME 20+SULFAMETHO...  BOITE/1000   \n",
       "3  COTRIMOXAZOLE 960 (TRIMETHOPRIME + SULFAMET. 1...    COMPRIME   \n",
       "\n",
       "              dmm  traceurs  stock_theorique_bke  stock_theorique_abj  \\\n",
       "2      820.166667       0.0                 77.0                280.0   \n",
       "3  2340928.166667       1.0            4212870.0            7247159.0   \n",
       "\n",
       "   stock_theorique_central  stock_theorique_fin_mois       msd statut_stock  \\\n",
       "2                      0.0                     357.0  0.435277   Sous-stock   \n",
       "3                      0.0                11460029.0  4.895506          Bon   \n",
       "\n",
       "  programme  \n",
       "2      PNLS  \n",
       "3      PNLS  "
      ]
     },
     "execution_count": 10,
     "metadata": {},
     "output_type": "execute_result"
    }
   ],
   "source": [
    "sheet_stock_npsp = compute_indicators.utils.check_if_sheet_name_in_file('Etat de stock', sheetnames)\n",
    "\n",
    "assert sheet_stock_npsp is not None, print(f\"La feuille `Etat de stock` n'est pas dans la liste {sheetnames} du classeur excel\")\n",
    "\n",
    "df_etat_stock_npsp = pd.read_excel(fp_etat_mensuel, sheet_name=sheet_stock_npsp, skiprows=4)\n",
    "df_etat_stock_npsp.columns = df_etat_stock_npsp.columns.str.strip()\n",
    "\n",
    "del sheet_stock_npsp\n",
    "\n",
    "df_etat_stock_npsp = df_etat_stock_npsp.loc[df_etat_stock_npsp[\"Nouveau code\"].notna()]\n",
    "\n",
    "df_etat_stock_npsp = compute_indicators.file_utils.process_etat_stock_npsp(df_etat_stock_npsp, date_report, programme)\n",
    "\n",
    "df_etat_stock_npsp.head(2)"
   ]
  },
  {
   "cell_type": "markdown",
   "id": "35af5650-cbb4-4b85-9fdd-301717a20e95",
   "metadata": {
    "papermill": {
     "duration": 0.192235,
     "end_time": "2025-05-14T11:05:24.811155",
     "exception": false,
     "start_time": "2025-05-14T11:05:24.618920",
     "status": "completed"
    },
    "tags": []
   },
   "source": [
    "## 📌3. Importation de la feuille `Stock detaille`"
   ]
  },
  {
   "cell_type": "code",
   "execution_count": 11,
   "id": "7722f6ab-9539-4935-9e0d-7b8973dabf7c",
   "metadata": {
    "execution": {
     "iopub.execute_input": "2025-05-14T11:05:34.297824Z",
     "iopub.status.busy": "2025-05-14T11:05:34.297365Z",
     "iopub.status.idle": "2025-05-14T11:05:35.241276Z",
     "shell.execute_reply": "2025-05-14T11:05:35.240462Z"
    },
    "papermill": {
     "duration": 1.239428,
     "end_time": "2025-05-14T11:05:35.242554",
     "exception": false,
     "start_time": "2025-05-14T11:05:34.003126",
     "status": "completed"
    },
    "tags": []
   },
   "outputs": [
    {
     "data": {
      "text/html": [
       "<div>\n",
       "<style scoped>\n",
       "    .dataframe tbody tr th:only-of-type {\n",
       "        vertical-align: middle;\n",
       "    }\n",
       "\n",
       "    .dataframe tbody tr th {\n",
       "        vertical-align: top;\n",
       "    }\n",
       "\n",
       "    .dataframe thead th {\n",
       "        text-align: right;\n",
       "    }\n",
       "</style>\n",
       "<table border=\"1\" class=\"dataframe\">\n",
       "  <thead>\n",
       "    <tr style=\"text-align: right;\">\n",
       "      <th></th>\n",
       "      <th>Code produit</th>\n",
       "      <th>Désignation</th>\n",
       "      <th>Emplacement</th>\n",
       "      <th>Date limite de consommation</th>\n",
       "      <th>Numéro Lot</th>\n",
       "      <th>Sous lot (Programme)</th>\n",
       "      <th>Qté \\nPhysique</th>\n",
       "      <th>Qté \\nlivrable</th>\n",
       "      <th>Unit</th>\n",
       "      <th>Site</th>\n",
       "      <th>Dépôt</th>\n",
       "      <th>Sous lot</th>\n",
       "      <th>Site.1</th>\n",
       "      <th>Bailleur</th>\n",
       "      <th>Statut</th>\n",
       "    </tr>\n",
       "  </thead>\n",
       "  <tbody>\n",
       "    <tr>\n",
       "      <th>0</th>\n",
       "      <td>4040095</td>\n",
       "      <td>COBAS C111 SAMPLE CUPS sach/250 (C 111/C 311)</td>\n",
       "      <td>01A01A01</td>\n",
       "      <td>2099-01-01</td>\n",
       "      <td>NEANT</td>\n",
       "      <td>PNLS</td>\n",
       "      <td>1650</td>\n",
       "      <td>0</td>\n",
       "      <td>SACH</td>\n",
       "      <td>PG01</td>\n",
       "      <td>PGWIB</td>\n",
       "      <td>PNLS</td>\n",
       "      <td>PG01</td>\n",
       "      <td>BAILLEURX</td>\n",
       "      <td>Q</td>\n",
       "    </tr>\n",
       "    <tr>\n",
       "      <th>1</th>\n",
       "      <td>3100039</td>\n",
       "      <td>RALTEGRAVIR 400 mg comp. BTE/60</td>\n",
       "      <td>01A01A02</td>\n",
       "      <td>2026-11-01</td>\n",
       "      <td>4524</td>\n",
       "      <td>PNLS</td>\n",
       "      <td>780</td>\n",
       "      <td>540</td>\n",
       "      <td>BTE</td>\n",
       "      <td>PG01</td>\n",
       "      <td>PGWIB</td>\n",
       "      <td>PNLS</td>\n",
       "      <td>PG01</td>\n",
       "      <td>LHSPLA</td>\n",
       "      <td>A</td>\n",
       "    </tr>\n",
       "  </tbody>\n",
       "</table>\n",
       "</div>"
      ],
      "text/plain": [
       "   Code produit                                    Désignation Emplacement  \\\n",
       "0       4040095  COBAS C111 SAMPLE CUPS sach/250 (C 111/C 311)    01A01A01   \n",
       "1       3100039                RALTEGRAVIR 400 mg comp. BTE/60    01A01A02   \n",
       "\n",
       "  Date limite de consommation Numéro Lot Sous lot (Programme)  Qté \\nPhysique  \\\n",
       "0                  2099-01-01      NEANT                 PNLS            1650   \n",
       "1                  2026-11-01       4524                 PNLS             780   \n",
       "\n",
       "   Qté \\nlivrable  Unit  Site  Dépôt Sous lot Site.1   Bailleur Statut  \n",
       "0               0  SACH  PG01  PGWIB     PNLS   PG01  BAILLEURX      Q  \n",
       "1             540   BTE  PG01  PGWIB     PNLS   PG01     LHSPLA      A  "
      ]
     },
     "execution_count": 11,
     "metadata": {},
     "output_type": "execute_result"
    }
   ],
   "source": [
    "sheet_stock_detaille = compute_indicators.utils.check_if_sheet_name_in_file('Stock detaille', sheetnames)\n",
    "\n",
    "assert sheet_stock_detaille is not None, print(f\"La feuille `Stock detaille` n'est pas dans la liste {sheetnames} du classeur excel\")\n",
    "\n",
    "df_stock_detaille = pd.read_excel(fp_etat_mensuel, sheet_name=sheet_stock_detaille)\n",
    "df_stock_detaille.columns = df_stock_detaille.columns.str.strip()\n",
    "\n",
    "max_date_year = pd.Timestamp.max.year\n",
    "\n",
    "df_stock_detaille[\"Date limite de consommation\"] = df_stock_detaille[\"Date limite de consommation\"].apply(\n",
    "    lambda x: x if x.year<max_date_year else x.replace(year=max_date_year-1)\n",
    ")\n",
    "\n",
    "del sheet_stock_detaille, max_date_year\n",
    "\n",
    "df_stock_detaille.head(2)"
   ]
  },
  {
   "cell_type": "markdown",
   "id": "37de2849-dc65-4fb7-b87a-8faf7121f280",
   "metadata": {
    "papermill": {
     "duration": 0.199181,
     "end_time": "2025-05-14T11:05:35.684125",
     "exception": false,
     "start_time": "2025-05-14T11:05:35.484944",
     "status": "completed"
    },
    "tags": []
   },
   "source": [
    "## 📌4. Importation de la feuille `Distribution X3`"
   ]
  },
  {
   "cell_type": "code",
   "execution_count": 12,
   "id": "7f1f692a-9147-4ac1-b50e-a0ba94ca588f",
   "metadata": {
    "execution": {
     "iopub.execute_input": "2025-05-14T11:05:36.132987Z",
     "iopub.status.busy": "2025-05-14T11:05:36.131897Z",
     "iopub.status.idle": "2025-05-14T11:05:36.805204Z",
     "shell.execute_reply": "2025-05-14T11:05:36.804159Z"
    },
    "papermill": {
     "duration": 0.911288,
     "end_time": "2025-05-14T11:05:36.806772",
     "exception": false,
     "start_time": "2025-05-14T11:05:35.895484",
     "status": "completed"
    },
    "tags": []
   },
   "outputs": [
    {
     "data": {
      "text/html": [
       "<div>\n",
       "<style scoped>\n",
       "    .dataframe tbody tr th:only-of-type {\n",
       "        vertical-align: middle;\n",
       "    }\n",
       "\n",
       "    .dataframe tbody tr th {\n",
       "        vertical-align: top;\n",
       "    }\n",
       "\n",
       "    .dataframe thead th {\n",
       "        text-align: right;\n",
       "    }\n",
       "</style>\n",
       "<table border=\"1\" class=\"dataframe\">\n",
       "  <thead>\n",
       "    <tr style=\"text-align: right;\">\n",
       "      <th></th>\n",
       "      <th>Programme</th>\n",
       "      <th>Date de livraison</th>\n",
       "      <th>No commande</th>\n",
       "      <th>No livraison</th>\n",
       "      <th>Client</th>\n",
       "      <th>Raison sociale</th>\n",
       "      <th>Article</th>\n",
       "      <th>Désignation</th>\n",
       "      <th>Unité vente</th>\n",
       "      <th>Qté commandée</th>\n",
       "      <th>Qté livrée</th>\n",
       "    </tr>\n",
       "  </thead>\n",
       "  <tbody>\n",
       "    <tr>\n",
       "      <th>0</th>\n",
       "      <td>PNLS</td>\n",
       "      <td>2025-03-04</td>\n",
       "      <td>VAL01-PSG-2501-1804</td>\n",
       "      <td>BL01-PSG-2503-0223</td>\n",
       "      <td>60300244</td>\n",
       "      <td>FSU COM ABOBO SAGBE</td>\n",
       "      <td>3120045</td>\n",
       "      <td>PRESERVATIF MASCULIN PQT/100 PQT  -</td>\n",
       "      <td>PQT</td>\n",
       "      <td>162</td>\n",
       "      <td>162</td>\n",
       "    </tr>\n",
       "    <tr>\n",
       "      <th>1</th>\n",
       "      <td>PNLS</td>\n",
       "      <td>2025-03-04</td>\n",
       "      <td>VAL01-PSG-2501-1804</td>\n",
       "      <td>BL01-PSG-2503-0223</td>\n",
       "      <td>60300244</td>\n",
       "      <td>FSU COM ABOBO SAGBE</td>\n",
       "      <td>3100042</td>\n",
       "      <td>TENOFOVIR / LAMIVUDINE 300 mg / 300 mg comp. B...</td>\n",
       "      <td>BTE</td>\n",
       "      <td>23</td>\n",
       "      <td>23</td>\n",
       "    </tr>\n",
       "  </tbody>\n",
       "</table>\n",
       "</div>"
      ],
      "text/plain": [
       "  Programme Date de livraison          No commande        No livraison  \\\n",
       "0      PNLS        2025-03-04  VAL01-PSG-2501-1804  BL01-PSG-2503-0223   \n",
       "1      PNLS        2025-03-04  VAL01-PSG-2501-1804  BL01-PSG-2503-0223   \n",
       "\n",
       "     Client       Raison sociale  Article  \\\n",
       "0  60300244  FSU COM ABOBO SAGBE  3120045   \n",
       "1  60300244  FSU COM ABOBO SAGBE  3100042   \n",
       "\n",
       "                                         Désignation Unité vente  \\\n",
       "0                PRESERVATIF MASCULIN PQT/100 PQT  -         PQT   \n",
       "1  TENOFOVIR / LAMIVUDINE 300 mg / 300 mg comp. B...         BTE   \n",
       "\n",
       "   Qté commandée  Qté livrée  \n",
       "0            162         162  \n",
       "1             23          23  "
      ]
     },
     "execution_count": 12,
     "metadata": {},
     "output_type": "execute_result"
    }
   ],
   "source": [
    "sheet_distribution_x3 = compute_indicators.utils.check_if_sheet_name_in_file('Distribution', sheetnames)\n",
    "\n",
    "assert sheet_distribution_x3 is not None, print(f\"La feuille `Distribution X3` n'est pas dans la liste {sheetnames} du classeur excel\")\n",
    "\n",
    "df_distribution = pd.read_excel(fp_etat_mensuel, sheet_name=sheet_distribution_x3)\n",
    "df_distribution.columns = df_distribution.columns.str.strip()\n",
    "\n",
    "del sheet_distribution_x3\n",
    "\n",
    "df_distribution.head(2)"
   ]
  },
  {
   "cell_type": "markdown",
   "id": "ccad74b5-8006-4fb2-9728-ec7b22892cc2",
   "metadata": {
    "papermill": {
     "duration": 0.228884,
     "end_time": "2025-05-14T11:05:37.252944",
     "exception": false,
     "start_time": "2025-05-14T11:05:37.024060",
     "status": "completed"
    },
    "tags": []
   },
   "source": [
    "## 📌5. Importation de la feuille `Receptions`"
   ]
  },
  {
   "cell_type": "code",
   "execution_count": 13,
   "id": "aba1696b-3a88-4499-8e96-218b21191f07",
   "metadata": {
    "execution": {
     "iopub.execute_input": "2025-05-14T11:05:41.670516Z",
     "iopub.status.busy": "2025-05-14T11:05:41.669355Z",
     "iopub.status.idle": "2025-05-14T11:05:41.952078Z",
     "shell.execute_reply": "2025-05-14T11:05:41.951029Z"
    },
    "papermill": {
     "duration": 2.978819,
     "end_time": "2025-05-14T11:05:41.953664",
     "exception": false,
     "start_time": "2025-05-14T11:05:38.974845",
     "status": "completed"
    },
    "tags": []
   },
   "outputs": [
    {
     "data": {
      "text/html": [
       "<div>\n",
       "<style scoped>\n",
       "    .dataframe tbody tr th:only-of-type {\n",
       "        vertical-align: middle;\n",
       "    }\n",
       "\n",
       "    .dataframe tbody tr th {\n",
       "        vertical-align: top;\n",
       "    }\n",
       "\n",
       "    .dataframe thead th {\n",
       "        text-align: right;\n",
       "    }\n",
       "</style>\n",
       "<table border=\"1\" class=\"dataframe\">\n",
       "  <thead>\n",
       "    <tr style=\"text-align: right;\">\n",
       "      <th></th>\n",
       "      <th>Programme</th>\n",
       "      <th>Bailleur (Funding)</th>\n",
       "      <th>Nouveau code</th>\n",
       "      <th>Code</th>\n",
       "      <th>Désignation NPSP</th>\n",
       "      <th>Date de réception effective</th>\n",
       "      <th>Date effective de dépotage et/ou expertise</th>\n",
       "      <th>Quantité réceptionnée</th>\n",
       "      <th>Date d'entrée en machine</th>\n",
       "    </tr>\n",
       "  </thead>\n",
       "  <tbody>\n",
       "    <tr>\n",
       "      <th>0</th>\n",
       "      <td>PNLS</td>\n",
       "      <td>FONDS MONDIAL</td>\n",
       "      <td>4040328</td>\n",
       "      <td>ND</td>\n",
       "      <td>WONDFO HIV 1/2 TEST KIT/25</td>\n",
       "      <td>2025-02-17</td>\n",
       "      <td>2025-02-19</td>\n",
       "      <td>14080</td>\n",
       "      <td>2025-03-07</td>\n",
       "    </tr>\n",
       "    <tr>\n",
       "      <th>1</th>\n",
       "      <td>PNLS</td>\n",
       "      <td>FONDS MONDIAL</td>\n",
       "      <td>4040328</td>\n",
       "      <td>ND</td>\n",
       "      <td>WONDFO HIV 1/2 TEST KIT/25</td>\n",
       "      <td>2025-02-17</td>\n",
       "      <td>2025-02-19</td>\n",
       "      <td>9660</td>\n",
       "      <td>2025-03-07</td>\n",
       "    </tr>\n",
       "  </tbody>\n",
       "</table>\n",
       "</div>"
      ],
      "text/plain": [
       "  Programme Bailleur (Funding)  Nouveau code Code            Désignation NPSP  \\\n",
       "0      PNLS      FONDS MONDIAL       4040328   ND  WONDFO HIV 1/2 TEST KIT/25   \n",
       "1      PNLS      FONDS MONDIAL       4040328   ND  WONDFO HIV 1/2 TEST KIT/25   \n",
       "\n",
       "  Date de réception effective Date effective de dépotage et/ou expertise  \\\n",
       "0                  2025-02-17                                 2025-02-19   \n",
       "1                  2025-02-17                                 2025-02-19   \n",
       "\n",
       "   Quantité réceptionnée Date d'entrée en machine  \n",
       "0                  14080               2025-03-07  \n",
       "1                   9660               2025-03-07  "
      ]
     },
     "execution_count": 13,
     "metadata": {},
     "output_type": "execute_result"
    }
   ],
   "source": [
    "sheet_reception = compute_indicators.utils.check_if_sheet_name_in_file('Receptions', sheetnames)\n",
    "\n",
    "assert sheet_reception is not None, print(f\"La feuille `Receptions` n'est pas dans la liste {sheetnames} du classeur excel\")\n",
    "\n",
    "df_receptions = pd.read_excel(fp_etat_mensuel, sheet_name=sheet_reception)\n",
    "df_receptions.columns = df_receptions.columns.str.strip()\n",
    "\n",
    "del sheet_reception\n",
    "\n",
    "df_receptions.head(2)"
   ]
  },
  {
   "cell_type": "markdown",
   "id": "5fca5f1b-ec81-4434-b361-25edab77eb43",
   "metadata": {
    "papermill": {
     "duration": 0.197947,
     "end_time": "2025-05-14T11:05:42.379328",
     "exception": false,
     "start_time": "2025-05-14T11:05:42.181381",
     "status": "completed"
    },
    "tags": []
   },
   "source": [
    "## 📌6. Importation de la feuille `PPI`"
   ]
  },
  {
   "cell_type": "code",
   "execution_count": 14,
   "id": "028e57f8-0239-43a3-b979-56fc164212e4",
   "metadata": {
    "execution": {
     "iopub.execute_input": "2025-05-14T11:05:43.588791Z",
     "iopub.status.busy": "2025-05-14T11:05:43.587803Z",
     "iopub.status.idle": "2025-05-14T11:05:43.798490Z",
     "shell.execute_reply": "2025-05-14T11:05:43.797552Z"
    },
    "papermill": {
     "duration": 0.428393,
     "end_time": "2025-05-14T11:05:43.800417",
     "exception": false,
     "start_time": "2025-05-14T11:05:43.372024",
     "status": "completed"
    },
    "tags": []
   },
   "outputs": [
    {
     "data": {
      "text/html": [
       "<div>\n",
       "<style scoped>\n",
       "    .dataframe tbody tr th:only-of-type {\n",
       "        vertical-align: middle;\n",
       "    }\n",
       "\n",
       "    .dataframe tbody tr th {\n",
       "        vertical-align: top;\n",
       "    }\n",
       "\n",
       "    .dataframe thead th {\n",
       "        text-align: right;\n",
       "    }\n",
       "</style>\n",
       "<table border=\"1\" class=\"dataframe\">\n",
       "  <thead>\n",
       "    <tr style=\"text-align: right;\">\n",
       "      <th></th>\n",
       "      <th>Code Produit</th>\n",
       "      <th>Nom Produit</th>\n",
       "      <th>Unite</th>\n",
       "      <th>Numéro Lot</th>\n",
       "      <th>Date Peremption</th>\n",
       "      <th>Quantité</th>\n",
       "    </tr>\n",
       "  </thead>\n",
       "  <tbody>\n",
       "    <tr>\n",
       "      <th>0</th>\n",
       "      <td>3100023</td>\n",
       "      <td>EFAVIRENZ/LAMIVUDINE/TENOFOVIR 400/300/300 mg ...</td>\n",
       "      <td>BTE</td>\n",
       "      <td>22075712</td>\n",
       "      <td>2025-04-01</td>\n",
       "      <td>2552</td>\n",
       "    </tr>\n",
       "    <tr>\n",
       "      <th>1</th>\n",
       "      <td>3100023</td>\n",
       "      <td>EFAVIRENZ/LAMIVUDINE/TENOFOVIR 400/300/300 mg ...</td>\n",
       "      <td>BTE</td>\n",
       "      <td>22075712</td>\n",
       "      <td>2025-04-01</td>\n",
       "      <td>9157</td>\n",
       "    </tr>\n",
       "  </tbody>\n",
       "</table>\n",
       "</div>"
      ],
      "text/plain": [
       "   Code Produit                                        Nom Produit Unite  \\\n",
       "0       3100023  EFAVIRENZ/LAMIVUDINE/TENOFOVIR 400/300/300 mg ...   BTE   \n",
       "1       3100023  EFAVIRENZ/LAMIVUDINE/TENOFOVIR 400/300/300 mg ...   BTE   \n",
       "\n",
       "  Numéro Lot Date Peremption  Quantité  \n",
       "0   22075712      2025-04-01      2552  \n",
       "1   22075712      2025-04-01      9157  "
      ]
     },
     "execution_count": 14,
     "metadata": {},
     "output_type": "execute_result"
    }
   ],
   "source": [
    "sheet_ppi = compute_indicators.utils.check_if_sheet_name_in_file('PPI', sheetnames)\n",
    "\n",
    "assert sheet_ppi is not None, print(f\"La feuille `PPI` n'est pas dans la liste {sheetnames} du classeur excel\")\n",
    "\n",
    "df_ppi = pd.read_excel(fp_etat_mensuel, sheet_name=sheet_ppi, skiprows=2)\n",
    "df_ppi.columns = df_ppi.columns.str.strip()\n",
    "\n",
    "del sheet_ppi\n",
    "\n",
    "df_ppi.head(2)"
   ]
  },
  {
   "cell_type": "markdown",
   "id": "7d034716-4571-4dbd-ab3c-a59bc9cd8d70",
   "metadata": {
    "papermill": {
     "duration": 11.284439,
     "end_time": "2025-05-14T11:05:55.341491",
     "exception": false,
     "start_time": "2025-05-14T11:05:44.057052",
     "status": "completed"
    },
    "tags": []
   },
   "source": [
    "## 📌7. Importation de la feuille  `Prélèvement`"
   ]
  },
  {
   "cell_type": "code",
   "execution_count": 15,
   "id": "f19419ab-c0ad-444f-9d58-c816e6a3371b",
   "metadata": {
    "execution": {
     "iopub.execute_input": "2025-05-14T11:05:55.769868Z",
     "iopub.status.busy": "2025-05-14T11:05:55.769490Z",
     "iopub.status.idle": "2025-05-14T11:05:55.930198Z",
     "shell.execute_reply": "2025-05-14T11:05:55.929312Z"
    },
    "papermill": {
     "duration": 0.379098,
     "end_time": "2025-05-14T11:05:55.931629",
     "exception": false,
     "start_time": "2025-05-14T11:05:55.552531",
     "status": "completed"
    },
    "tags": []
   },
   "outputs": [
    {
     "data": {
      "text/html": [
       "<div>\n",
       "<style scoped>\n",
       "    .dataframe tbody tr th:only-of-type {\n",
       "        vertical-align: middle;\n",
       "    }\n",
       "\n",
       "    .dataframe tbody tr th {\n",
       "        vertical-align: top;\n",
       "    }\n",
       "\n",
       "    .dataframe thead th {\n",
       "        text-align: right;\n",
       "    }\n",
       "</style>\n",
       "<table border=\"1\" class=\"dataframe\">\n",
       "  <thead>\n",
       "    <tr style=\"text-align: right;\">\n",
       "      <th></th>\n",
       "      <th>Code Produit</th>\n",
       "      <th>Nom Produit</th>\n",
       "      <th>Unite</th>\n",
       "      <th>Numéro Lot</th>\n",
       "      <th>Date Peremption</th>\n",
       "      <th>Quantité</th>\n",
       "    </tr>\n",
       "  </thead>\n",
       "  <tbody>\n",
       "  </tbody>\n",
       "</table>\n",
       "</div>"
      ],
      "text/plain": [
       "Empty DataFrame\n",
       "Columns: [Code Produit, Nom Produit, Unite, Numéro Lot, Date Peremption, Quantité]\n",
       "Index: []"
      ]
     },
     "execution_count": 15,
     "metadata": {},
     "output_type": "execute_result"
    }
   ],
   "source": [
    "sheet_prelev = compute_indicators.utils.check_if_sheet_name_in_file('Prelèvement CQ', sheetnames)\n",
    "\n",
    "assert sheet_prelev is not None, print(f\"La feuille `Prelèvement CQ` n'est pas dans la liste {sheetnames} du classeur excel\")\n",
    "\n",
    "df_prelevement = pd.read_excel(fp_etat_mensuel, sheet_name=sheet_prelev, skiprows=2)\n",
    "df_prelevement.columns = df_prelevement.columns.str.strip()\n",
    "\n",
    "del sheet_prelev\n",
    "\n",
    "df_prelevement.head(2)"
   ]
  },
  {
   "cell_type": "markdown",
   "id": "6df2ffd3-0e49-4c80-adc1-1219f1756a8a",
   "metadata": {
    "papermill": {
     "duration": 0.207978,
     "end_time": "2025-05-14T11:05:56.569515",
     "exception": false,
     "start_time": "2025-05-14T11:05:56.361537",
     "status": "completed"
    },
    "tags": []
   },
   "source": [
    "## 📌8. Importation du fichier de `mapping des produits QAT et SAGE X3`\n",
    "\n",
    "- **Format requis :** Respectez la structure du fichier.  \n",
    "- **Emplacement du fichier :** Le fichier doit être placé dans le répertoire suivant :  \n",
    "  **`Fichier Suivi de Stock/data/Mapping produits QAT SAGE X3`**  \n",
    "- **En cas d'erreur :**\n",
    "  - Vérifiez que le fichier est bien présent dans le répertoire.  \n",
    "  - Assurez-vous que les données respectent le format attendu. \n",
    "  - Vérifiez l'intégrité du fichier et assurez-vous et corriger l'anomalie."
   ]
  },
  {
   "cell_type": "code",
   "execution_count": 16,
   "id": "d7c8434e-8083-4d70-91bf-07c813f36fe4",
   "metadata": {
    "execution": {
     "iopub.execute_input": "2025-05-14T11:05:56.933135Z",
     "iopub.status.busy": "2025-05-14T11:05:56.932624Z",
     "iopub.status.idle": "2025-05-14T11:05:56.937369Z",
     "shell.execute_reply": "2025-05-14T11:05:56.936393Z"
    },
    "papermill": {
     "duration": 0.177002,
     "end_time": "2025-05-14T11:05:56.939013",
     "exception": false,
     "start_time": "2025-05-14T11:05:56.762011",
     "status": "completed"
    },
    "tags": []
   },
   "outputs": [],
   "source": [
    "fp_map_prod = (\n",
    "    Path(workspace.files_path)\n",
    "    / \"Fichier Suivi de Stock/data/Mapping produits QAT SAGE X3\"\n",
    "    / Path(fp_map_prod).name\n",
    ")"
   ]
  },
  {
   "cell_type": "code",
   "execution_count": 17,
   "id": "8fb198eb-ad43-4572-b4ff-7f3cbcc52a13",
   "metadata": {
    "execution": {
     "iopub.execute_input": "2025-05-14T11:05:59.178148Z",
     "iopub.status.busy": "2025-05-14T11:05:59.177088Z",
     "iopub.status.idle": "2025-05-14T11:05:59.258641Z",
     "shell.execute_reply": "2025-05-14T11:05:59.257601Z"
    },
    "papermill": {
     "duration": 1.266436,
     "end_time": "2025-05-14T11:05:59.260409",
     "exception": false,
     "start_time": "2025-05-14T11:05:57.993973",
     "status": "completed"
    },
    "tags": []
   },
   "outputs": [],
   "source": [
    "assert fp_map_prod.exists(), \"Le fichier de mapping des produits n'a pas été retrouvé dans le dossier dédié\""
   ]
  },
  {
   "cell_type": "markdown",
   "id": "e9df904b-5610-4442-aac3-294e6a2e0330",
   "metadata": {
    "papermill": {
     "duration": 0.19481,
     "end_time": "2025-05-14T11:06:02.302544",
     "exception": false,
     "start_time": "2025-05-14T11:06:02.107734",
     "status": "completed"
    },
    "tags": []
   },
   "source": [
    "## 📌9. Importation du `Plan d'approvisionnement`\n",
    "\n",
    "- **Format requis :** Respectez la structure du fichier définie pour l’importation peut conserver le fichier brut extrait de QAT.  \n",
    "- **Emplacement du fichier :** Le fichier doit être placé dans le répertoire suivant :  \n",
    "  **`Fichier Suivi de Stock/data/<programme>/Plan d'Approvisionnement`**  \n",
    "- **En cas d'erreur :**\n",
    "  - Vérifiez que le fichier est bien présent dans le répertoire.  \n",
    "  - Assurez-vous que les données respectent le format attendu.\n",
    "  - Vérifiez l'intégrité du fichier et assurez-vous et corriger l'anomalie."
   ]
  },
  {
   "cell_type": "code",
   "execution_count": 18,
   "id": "e5fe00dc-e276-4175-ab18-a31b4eeffe6e",
   "metadata": {
    "execution": {
     "iopub.execute_input": "2025-05-14T11:06:02.804058Z",
     "iopub.status.busy": "2025-05-14T11:06:02.803668Z",
     "iopub.status.idle": "2025-05-14T11:06:02.808471Z",
     "shell.execute_reply": "2025-05-14T11:06:02.807523Z"
    },
    "papermill": {
     "duration": 0.297572,
     "end_time": "2025-05-14T11:06:02.809862",
     "exception": false,
     "start_time": "2025-05-14T11:06:02.512290",
     "status": "completed"
    },
    "tags": []
   },
   "outputs": [],
   "source": [
    "fp_plan_approv = (\n",
    "    Path(workspace.files_path)\n",
    "    / f\"Fichier Suivi de Stock/data/{programme}/Plan d'Approvisionnement\"\n",
    "    / Path(fp_plan_approv)\n",
    ")"
   ]
  },
  {
   "cell_type": "code",
   "execution_count": 19,
   "id": "e3eb96f7-270b-4a55-a8b7-d74a6342b06d",
   "metadata": {
    "execution": {
     "iopub.execute_input": "2025-05-14T11:06:03.192828Z",
     "iopub.status.busy": "2025-05-14T11:06:03.191798Z",
     "iopub.status.idle": "2025-05-14T11:06:04.075257Z",
     "shell.execute_reply": "2025-05-14T11:06:04.074198Z"
    },
    "papermill": {
     "duration": 1.084759,
     "end_time": "2025-05-14T11:06:04.076841",
     "exception": false,
     "start_time": "2025-05-14T11:06:02.992082",
     "status": "completed"
    },
    "tags": []
   },
   "outputs": [
    {
     "data": {
      "text/html": [
       "<div>\n",
       "<style scoped>\n",
       "    .dataframe tbody tr th:only-of-type {\n",
       "        vertical-align: middle;\n",
       "    }\n",
       "\n",
       "    .dataframe tbody tr th {\n",
       "        vertical-align: top;\n",
       "    }\n",
       "\n",
       "    .dataframe thead th {\n",
       "        text-align: right;\n",
       "    }\n",
       "</style>\n",
       "<table border=\"1\" class=\"dataframe\">\n",
       "  <thead>\n",
       "    <tr style=\"text-align: right;\">\n",
       "      <th></th>\n",
       "      <th>ID de produit QAT</th>\n",
       "      <th>Produits</th>\n",
       "      <th>ID de l`envoi QAT</th>\n",
       "      <th>Commande d`urgence</th>\n",
       "      <th>Commande PGI</th>\n",
       "      <th>Approvisionnement local</th>\n",
       "      <th>N° de commande de l`agent d`approvisionnement</th>\n",
       "      <th>Agent d`approvisionnement</th>\n",
       "      <th>Source de financement</th>\n",
       "      <th>Budget</th>\n",
       "      <th>Status</th>\n",
       "      <th>Quantite</th>\n",
       "      <th>DATE</th>\n",
       "      <th>Cout des Produits</th>\n",
       "      <th>Couts du fret</th>\n",
       "      <th>Couts totaux</th>\n",
       "      <th>Notes</th>\n",
       "      <th>Standard product code</th>\n",
       "      <th>cout_unitaire_moyen_qat</th>\n",
       "      <th>facteur_de_conversion_qat_sage</th>\n",
       "      <th>acronym</th>\n",
       "      <th>code_and_date_concate</th>\n",
       "    </tr>\n",
       "  </thead>\n",
       "  <tbody>\n",
       "    <tr>\n",
       "      <th>0</th>\n",
       "      <td>3067</td>\n",
       "      <td>Female Condom (Nitrile) Lubricated  17 cm  100...</td>\n",
       "      <td>173896</td>\n",
       "      <td>false</td>\n",
       "      <td>false</td>\n",
       "      <td>false</td>\n",
       "      <td></td>\n",
       "      <td>PPM-GF</td>\n",
       "      <td>GFATM</td>\n",
       "      <td>GF_2024</td>\n",
       "      <td>Planifié</td>\n",
       "      <td>200.000</td>\n",
       "      <td>2025-12-31</td>\n",
       "      <td>100000.00</td>\n",
       "      <td>10000.0</td>\n",
       "      <td>110000.00</td>\n",
       "      <td></td>\n",
       "      <td>3120042.0</td>\n",
       "      <td>506.923077</td>\n",
       "      <td>1.0</td>\n",
       "      <td>NaN</td>\n",
       "      <td>3120042_2025-12-31</td>\n",
       "    </tr>\n",
       "    <tr>\n",
       "      <th>1</th>\n",
       "      <td>4182</td>\n",
       "      <td>Male Condom (Latex) Lubricated  No Logo  53 mm...</td>\n",
       "      <td>173899</td>\n",
       "      <td>false</td>\n",
       "      <td>false</td>\n",
       "      <td>false</td>\n",
       "      <td></td>\n",
       "      <td>PPM-GF</td>\n",
       "      <td>GFATM</td>\n",
       "      <td>GF_2024</td>\n",
       "      <td>Soumis</td>\n",
       "      <td>4147.584</td>\n",
       "      <td>2025-07-31</td>\n",
       "      <td>401776.46</td>\n",
       "      <td>40181.7</td>\n",
       "      <td>441958.16</td>\n",
       "      <td></td>\n",
       "      <td>3120044.0</td>\n",
       "      <td>96.632703</td>\n",
       "      <td>1.0</td>\n",
       "      <td>CONDOM M 144</td>\n",
       "      <td>3120044_2025-07-31</td>\n",
       "    </tr>\n",
       "  </tbody>\n",
       "</table>\n",
       "</div>"
      ],
      "text/plain": [
       "   ID de produit QAT                                           Produits  \\\n",
       "0               3067  Female Condom (Nitrile) Lubricated  17 cm  100...   \n",
       "1               4182  Male Condom (Latex) Lubricated  No Logo  53 mm...   \n",
       "\n",
       "   ID de l`envoi QAT Commande d`urgence Commande PGI Approvisionnement local  \\\n",
       "0             173896              false        false                   false   \n",
       "1             173899              false        false                   false   \n",
       "\n",
       "  N° de commande de l`agent d`approvisionnement Agent d`approvisionnement  \\\n",
       "0                                                                  PPM-GF   \n",
       "1                                                                  PPM-GF   \n",
       "\n",
       "  Source de financement   Budget    Status  Quantite       DATE  \\\n",
       "0                 GFATM  GF_2024  Planifié   200.000 2025-12-31   \n",
       "1                 GFATM  GF_2024    Soumis  4147.584 2025-07-31   \n",
       "\n",
       "   Cout des Produits  Couts du fret  Couts totaux Notes  \\\n",
       "0          100000.00        10000.0     110000.00         \n",
       "1          401776.46        40181.7     441958.16         \n",
       "\n",
       "   Standard product code  cout_unitaire_moyen_qat  \\\n",
       "0              3120042.0               506.923077   \n",
       "1              3120044.0                96.632703   \n",
       "\n",
       "   facteur_de_conversion_qat_sage       acronym code_and_date_concate  \n",
       "0                             1.0           NaN    3120042_2025-12-31  \n",
       "1                             1.0  CONDOM M 144    3120044_2025-07-31  "
      ]
     },
     "execution_count": 19,
     "metadata": {},
     "output_type": "execute_result"
    }
   ],
   "source": [
    "df_plan_approv = compute_indicators.file_utils.process_pa_files(fp_plan_approv, fp_map_prod, programme)\n",
    "\n",
    "df_plan_approv[\"facteur_de_conversion_qat_sage\"] = df_plan_approv[\"facteur_de_conversion_qat_sage\"].apply(\n",
    "    lambda x: x if not pd.isna(x) else 1\n",
    ")\n",
    "\n",
    "df_plan_approv.head(2)"
   ]
  },
  {
   "cell_type": "markdown",
   "id": "16319b53-77c7-423a-999a-37aa2052514e",
   "metadata": {
    "papermill": {
     "duration": 0.670973,
     "end_time": "2025-05-14T11:06:04.959509",
     "exception": false,
     "start_time": "2025-05-14T11:06:04.288536",
     "status": "completed"
    },
    "tags": []
   },
   "source": [
    "# IV.📊Calcul des Indicateurs"
   ]
  },
  {
   "cell_type": "markdown",
   "id": "46d1687e-eb8e-4515-9be3-1bc3ffb55184",
   "metadata": {
    "papermill": {
     "duration": 0.226185,
     "end_time": "2025-05-14T11:06:14.770085",
     "exception": false,
     "start_time": "2025-05-14T11:06:14.543900",
     "status": "completed"
    },
    "tags": []
   },
   "source": [
    "## 📌1. `Etat de Stock (1/2)`"
   ]
  },
  {
   "cell_type": "code",
   "execution_count": 20,
   "id": "177a7f70-8d09-45b6-94fd-0900686bfc84",
   "metadata": {
    "execution": {
     "iopub.execute_input": "2025-05-14T11:06:15.242329Z",
     "iopub.status.busy": "2025-05-14T11:06:15.241654Z",
     "iopub.status.idle": "2025-05-14T11:06:15.396930Z",
     "shell.execute_reply": "2025-05-14T11:06:15.395991Z"
    },
    "papermill": {
     "duration": 0.406977,
     "end_time": "2025-05-14T11:06:15.398207",
     "exception": false,
     "start_time": "2025-05-14T11:06:14.991230",
     "status": "completed"
    },
    "tags": []
   },
   "outputs": [
    {
     "name": "stdout",
     "output_type": "stream",
     "text": [
      "Connexion à la base de données établie avec succès\n"
     ]
    },
    {
     "data": {
      "text/html": [
       "<div>\n",
       "<style scoped>\n",
       "    .dataframe tbody tr th:only-of-type {\n",
       "        vertical-align: middle;\n",
       "    }\n",
       "\n",
       "    .dataframe tbody tr th {\n",
       "        vertical-align: top;\n",
       "    }\n",
       "\n",
       "    .dataframe thead th {\n",
       "        text-align: right;\n",
       "    }\n",
       "</style>\n",
       "<table border=\"1\" class=\"dataframe\">\n",
       "  <thead>\n",
       "    <tr style=\"text-align: right;\">\n",
       "      <th></th>\n",
       "      <th>id_dim_produit_stock_track_pk</th>\n",
       "      <th>code_produit</th>\n",
       "      <th>ancien_code</th>\n",
       "      <th>categorie</th>\n",
       "      <th>designation</th>\n",
       "      <th>type_produit</th>\n",
       "      <th>unit_niveau_central</th>\n",
       "      <th>unit_niveau_peripherique</th>\n",
       "      <th>facteur_de_conversion</th>\n",
       "      <th>designation_acronym</th>\n",
       "      <th>code_qat</th>\n",
       "      <th>programme</th>\n",
       "      <th>cout_unitaire_moyen_qat</th>\n",
       "      <th>facteur_de_conversion_qat_sage</th>\n",
       "      <th>stock_theorique_mois_precedent</th>\n",
       "    </tr>\n",
       "  </thead>\n",
       "  <tbody>\n",
       "    <tr>\n",
       "      <th>0</th>\n",
       "      <td>40</td>\n",
       "      <td>3100001</td>\n",
       "      <td>AR33198</td>\n",
       "      <td>MEDICAMENTS ARV</td>\n",
       "      <td>ABACAVIR / LAMIVUDINE 120/60 mg comp disp. BTE/30</td>\n",
       "      <td>Traceur</td>\n",
       "      <td>BTE/30</td>\n",
       "      <td>COMPRIME</td>\n",
       "      <td>30</td>\n",
       "      <td>ABC/3TC 120/60MG CP BTE/30</td>\n",
       "      <td>1073.0</td>\n",
       "      <td>PNLS</td>\n",
       "      <td>3.316414</td>\n",
       "      <td>1.0</td>\n",
       "      <td>50058.0</td>\n",
       "    </tr>\n",
       "    <tr>\n",
       "      <th>1</th>\n",
       "      <td>41</td>\n",
       "      <td>3100003</td>\n",
       "      <td>AR33196</td>\n",
       "      <td>MEDICAMENTS ARV</td>\n",
       "      <td>ABACAVIR / LAMIVUDINE 600 mg / 300 mg comp. BT...</td>\n",
       "      <td>Non traceur</td>\n",
       "      <td>BTE/30</td>\n",
       "      <td>COMPRIME</td>\n",
       "      <td>30</td>\n",
       "      <td>ABC/3TC 120/60MG CP BTE/30</td>\n",
       "      <td>1082.0</td>\n",
       "      <td>PNLS</td>\n",
       "      <td>9.000000</td>\n",
       "      <td>1.0</td>\n",
       "      <td>34968.0</td>\n",
       "    </tr>\n",
       "  </tbody>\n",
       "</table>\n",
       "</div>"
      ],
      "text/plain": [
       "   id_dim_produit_stock_track_pk  code_produit ancien_code        categorie  \\\n",
       "0                             40       3100001     AR33198  MEDICAMENTS ARV   \n",
       "1                             41       3100003     AR33196  MEDICAMENTS ARV   \n",
       "\n",
       "                                         designation type_produit  \\\n",
       "0  ABACAVIR / LAMIVUDINE 120/60 mg comp disp. BTE/30      Traceur   \n",
       "1  ABACAVIR / LAMIVUDINE 600 mg / 300 mg comp. BT...  Non traceur   \n",
       "\n",
       "  unit_niveau_central unit_niveau_peripherique  facteur_de_conversion  \\\n",
       "0              BTE/30                 COMPRIME                     30   \n",
       "1              BTE/30                 COMPRIME                     30   \n",
       "\n",
       "          designation_acronym code_qat programme  cout_unitaire_moyen_qat  \\\n",
       "0  ABC/3TC 120/60MG CP BTE/30   1073.0      PNLS                 3.316414   \n",
       "1  ABC/3TC 120/60MG CP BTE/30   1082.0      PNLS                 9.000000   \n",
       "\n",
       "   facteur_de_conversion_qat_sage  stock_theorique_mois_precedent  \n",
       "0                             1.0                         50058.0  \n",
       "1                             1.0                         34968.0  "
      ]
     },
     "execution_count": 20,
     "metadata": {},
     "output_type": "execute_result"
    }
   ],
   "source": [
    "stock_sync_manager.initialize_database_connection()\n",
    "\n",
    "schema_name = \"suivi_stock\"\n",
    "\n",
    "df_etat_stock = stock_sync_manager.get_table_data(\n",
    "    query=QUERY_ETAT_STOCK.format(\n",
    "        schema_name=schema_name, programme=programme, date_report_prec=date_report_prec\n",
    "    )\n",
    ").drop_duplicates()\n",
    "\n",
    "df_etat_stock.head(2)"
   ]
  },
  {
   "cell_type": "code",
   "execution_count": 21,
   "id": "0cc47bc4-3b68-4d26-882e-05b121b18ec5",
   "metadata": {
    "execution": {
     "iopub.execute_input": "2025-05-14T11:06:16.037624Z",
     "iopub.status.busy": "2025-05-14T11:06:16.036737Z",
     "iopub.status.idle": "2025-05-14T11:06:16.667851Z",
     "shell.execute_reply": "2025-05-14T11:06:16.666940Z"
    },
    "papermill": {
     "duration": 1.039738,
     "end_time": "2025-05-14T11:06:16.669427",
     "exception": false,
     "start_time": "2025-05-14T11:06:15.629689",
     "status": "completed"
    },
    "tags": []
   },
   "outputs": [
    {
     "data": {
      "text/html": [
       "<div>\n",
       "<style scoped>\n",
       "    .dataframe tbody tr th:only-of-type {\n",
       "        vertical-align: middle;\n",
       "    }\n",
       "\n",
       "    .dataframe tbody tr th {\n",
       "        vertical-align: top;\n",
       "    }\n",
       "\n",
       "    .dataframe thead th {\n",
       "        text-align: right;\n",
       "    }\n",
       "</style>\n",
       "<table border=\"1\" class=\"dataframe\">\n",
       "  <thead>\n",
       "    <tr style=\"text-align: right;\">\n",
       "      <th></th>\n",
       "      <th>id_dim_produit_stock_track_pk</th>\n",
       "      <th>code_produit</th>\n",
       "      <th>ancien_code</th>\n",
       "      <th>categorie</th>\n",
       "      <th>designation</th>\n",
       "      <th>type_produit</th>\n",
       "      <th>unit_niveau_central</th>\n",
       "      <th>unit_niveau_peripherique</th>\n",
       "      <th>facteur_de_conversion</th>\n",
       "      <th>designation_acronym</th>\n",
       "      <th>code_qat</th>\n",
       "      <th>programme</th>\n",
       "      <th>cout_unitaire_moyen_qat</th>\n",
       "      <th>facteur_de_conversion_qat_sage</th>\n",
       "      <th>stock_theorique_mois_precedent</th>\n",
       "      <th>Distribution effectuée</th>\n",
       "      <th>Quantité reçue entrée en stock</th>\n",
       "      <th>Quantité de PPI</th>\n",
       "      <th>Quantité prélévée en Contrôle Qualité (CQ)</th>\n",
       "      <th>Ajustement de stock</th>\n",
       "      <th>Stock Théorique Final SAGE</th>\n",
       "      <th>Stock Théorique Final Attendu</th>\n",
       "      <th>ECARTS</th>\n",
       "      <th>Justification des écarts</th>\n",
       "      <th>Diligences</th>\n",
       "      <th>Dilig. Choisie</th>\n",
       "    </tr>\n",
       "  </thead>\n",
       "  <tbody>\n",
       "    <tr>\n",
       "      <th>0</th>\n",
       "      <td>40</td>\n",
       "      <td>3100001</td>\n",
       "      <td>AR33198</td>\n",
       "      <td>MEDICAMENTS ARV</td>\n",
       "      <td>ABACAVIR / LAMIVUDINE 120/60 mg comp disp. BTE/30</td>\n",
       "      <td>Traceur</td>\n",
       "      <td>BTE/30</td>\n",
       "      <td>COMPRIME</td>\n",
       "      <td>30</td>\n",
       "      <td>ABC/3TC 120/60MG CP BTE/30</td>\n",
       "      <td>1073.0</td>\n",
       "      <td>PNLS</td>\n",
       "      <td>3.316414</td>\n",
       "      <td>1.0</td>\n",
       "      <td>50058.0</td>\n",
       "      <td>4643</td>\n",
       "      <td>0</td>\n",
       "      <td>0</td>\n",
       "      <td>0</td>\n",
       "      <td>NaN</td>\n",
       "      <td>45532</td>\n",
       "      <td>45415.0</td>\n",
       "      <td>117.0</td>\n",
       "      <td></td>\n",
       "      <td></td>\n",
       "      <td></td>\n",
       "    </tr>\n",
       "    <tr>\n",
       "      <th>1</th>\n",
       "      <td>41</td>\n",
       "      <td>3100003</td>\n",
       "      <td>AR33196</td>\n",
       "      <td>MEDICAMENTS ARV</td>\n",
       "      <td>ABACAVIR / LAMIVUDINE 600 mg / 300 mg comp. BT...</td>\n",
       "      <td>Non traceur</td>\n",
       "      <td>BTE/30</td>\n",
       "      <td>COMPRIME</td>\n",
       "      <td>30</td>\n",
       "      <td>ABC/3TC 120/60MG CP BTE/30</td>\n",
       "      <td>1082.0</td>\n",
       "      <td>PNLS</td>\n",
       "      <td>9.000000</td>\n",
       "      <td>1.0</td>\n",
       "      <td>34968.0</td>\n",
       "      <td>1391</td>\n",
       "      <td>0</td>\n",
       "      <td>0</td>\n",
       "      <td>0</td>\n",
       "      <td>NaN</td>\n",
       "      <td>34201</td>\n",
       "      <td>33577.0</td>\n",
       "      <td>624.0</td>\n",
       "      <td></td>\n",
       "      <td></td>\n",
       "      <td></td>\n",
       "    </tr>\n",
       "    <tr>\n",
       "      <th>2</th>\n",
       "      <td>42</td>\n",
       "      <td>3100004</td>\n",
       "      <td>AR33195</td>\n",
       "      <td>MEDICAMENTS ARV</td>\n",
       "      <td>ABACAVIR 300 mg comp. BTE/60</td>\n",
       "      <td>Non traceur</td>\n",
       "      <td>BTE/60</td>\n",
       "      <td>COMPRIME</td>\n",
       "      <td>60</td>\n",
       "      <td>None</td>\n",
       "      <td>1069.0</td>\n",
       "      <td>PNLS</td>\n",
       "      <td>10.965459</td>\n",
       "      <td>1.0</td>\n",
       "      <td>0.0</td>\n",
       "      <td>135</td>\n",
       "      <td>0</td>\n",
       "      <td>0</td>\n",
       "      <td>0</td>\n",
       "      <td>NaN</td>\n",
       "      <td>4145</td>\n",
       "      <td>-135.0</td>\n",
       "      <td>4280.0</td>\n",
       "      <td></td>\n",
       "      <td></td>\n",
       "      <td></td>\n",
       "    </tr>\n",
       "  </tbody>\n",
       "</table>\n",
       "</div>"
      ],
      "text/plain": [
       "   id_dim_produit_stock_track_pk  code_produit ancien_code        categorie  \\\n",
       "0                             40       3100001     AR33198  MEDICAMENTS ARV   \n",
       "1                             41       3100003     AR33196  MEDICAMENTS ARV   \n",
       "2                             42       3100004     AR33195  MEDICAMENTS ARV   \n",
       "\n",
       "                                         designation type_produit  \\\n",
       "0  ABACAVIR / LAMIVUDINE 120/60 mg comp disp. BTE/30      Traceur   \n",
       "1  ABACAVIR / LAMIVUDINE 600 mg / 300 mg comp. BT...  Non traceur   \n",
       "2                       ABACAVIR 300 mg comp. BTE/60  Non traceur   \n",
       "\n",
       "  unit_niveau_central unit_niveau_peripherique  facteur_de_conversion  \\\n",
       "0              BTE/30                 COMPRIME                     30   \n",
       "1              BTE/30                 COMPRIME                     30   \n",
       "2              BTE/60                 COMPRIME                     60   \n",
       "\n",
       "          designation_acronym code_qat programme  cout_unitaire_moyen_qat  \\\n",
       "0  ABC/3TC 120/60MG CP BTE/30   1073.0      PNLS                 3.316414   \n",
       "1  ABC/3TC 120/60MG CP BTE/30   1082.0      PNLS                 9.000000   \n",
       "2                        None   1069.0      PNLS                10.965459   \n",
       "\n",
       "   facteur_de_conversion_qat_sage  stock_theorique_mois_precedent  \\\n",
       "0                             1.0                         50058.0   \n",
       "1                             1.0                         34968.0   \n",
       "2                             1.0                             0.0   \n",
       "\n",
       "   Distribution effectuée  Quantité reçue entrée en stock  Quantité de PPI  \\\n",
       "0                    4643                               0                0   \n",
       "1                    1391                               0                0   \n",
       "2                     135                               0                0   \n",
       "\n",
       "   Quantité prélévée en Contrôle Qualité (CQ)  Ajustement de stock  \\\n",
       "0                                           0                  NaN   \n",
       "1                                           0                  NaN   \n",
       "2                                           0                  NaN   \n",
       "\n",
       "   Stock Théorique Final SAGE  Stock Théorique Final Attendu  ECARTS  \\\n",
       "0                       45532                        45415.0   117.0   \n",
       "1                       34201                        33577.0   624.0   \n",
       "2                        4145                         -135.0  4280.0   \n",
       "\n",
       "  Justification des écarts Diligences Dilig. Choisie  \n",
       "0                                                     \n",
       "1                                                     \n",
       "2                                                     "
      ]
     },
     "metadata": {},
     "output_type": "display_data"
    },
    {
     "name": "stdout",
     "output_type": "stream",
     "text": [
      "CPU times: user 621 ms, sys: 3.79 ms, total: 625 ms\n",
      "Wall time: 625 ms\n"
     ]
    }
   ],
   "source": [
    "%%time\n",
    "df_etat_stock = compute_indicators.annexe_1.get_etat_stock_current_month(\n",
    "    df_etat_stock.copy(),\n",
    "    df_stock_detaille.copy(),\n",
    "    df_distribution.copy(),\n",
    "    df_ppi.copy(),\n",
    "    df_prelevement.copy(),\n",
    "    df_receptions.copy(),\n",
    "    date_report\n",
    ")"
   ]
  },
  {
   "cell_type": "markdown",
   "id": "67fc32ed-308b-4166-ba9b-0ed51410cb58",
   "metadata": {
    "papermill": {
     "duration": 4.261567,
     "end_time": "2025-05-14T11:06:21.154825",
     "exception": false,
     "start_time": "2025-05-14T11:06:16.893258",
     "status": "completed"
    },
    "tags": []
   },
   "source": [
    "## 📌2.`Distributions et Consommations` - `Annexe 1`"
   ]
  },
  {
   "cell_type": "markdown",
   "id": "060791ec-5daf-443b-86a2-2a9e9046a654",
   "metadata": {
    "papermill": {
     "duration": 0.174343,
     "end_time": "2025-05-14T11:06:21.528487",
     "exception": false,
     "start_time": "2025-05-14T11:06:21.354144",
     "status": "completed"
    },
    "tags": []
   },
   "source": [
    "### 2.1.`Distributions`"
   ]
  },
  {
   "cell_type": "code",
   "execution_count": 22,
   "id": "3d47d66d-04ec-4f76-9aa3-b36d9fb31117",
   "metadata": {
    "execution": {
     "iopub.execute_input": "2025-05-14T11:06:22.081345Z",
     "iopub.status.busy": "2025-05-14T11:06:22.080104Z",
     "iopub.status.idle": "2025-05-14T11:06:22.436928Z",
     "shell.execute_reply": "2025-05-14T11:06:22.435879Z"
    },
    "papermill": {
     "duration": 0.703159,
     "end_time": "2025-05-14T11:06:22.438485",
     "exception": false,
     "start_time": "2025-05-14T11:06:21.735326",
     "status": "completed"
    },
    "tags": []
   },
   "outputs": [
    {
     "name": "stdout",
     "output_type": "stream",
     "text": [
      "CPU times: user 299 ms, sys: 3.08 ms, total: 302 ms\n",
      "Wall time: 351 ms\n"
     ]
    }
   ],
   "source": [
    "%%time\n",
    "df_dmm_curent, df_dmm_histo = compute_indicators.annexe_1.get_dmm_current_month(\n",
    "    df_etat_stock.copy(),\n",
    "    programme,\n",
    "    date_report,\n",
    "    stock_sync_manager.civ_engine\n",
    ")"
   ]
  },
  {
   "cell_type": "markdown",
   "id": "1646a2e7-aad7-4fdb-b9a6-9c9556df601e",
   "metadata": {
    "papermill": {
     "duration": 0.985664,
     "end_time": "2025-05-14T11:06:23.651196",
     "exception": false,
     "start_time": "2025-05-14T11:06:22.665532",
     "status": "completed"
    },
    "tags": []
   },
   "source": [
    "### 2.2.`Consommations`"
   ]
  },
  {
   "cell_type": "code",
   "execution_count": 23,
   "id": "25ad743a-e6e6-4481-8885-ca4057c65434",
   "metadata": {
    "editable": true,
    "execution": {
     "iopub.execute_input": "2025-05-14T11:06:39.712567Z",
     "iopub.status.busy": "2025-05-14T11:06:39.711710Z",
     "iopub.status.idle": "2025-05-14T11:06:39.801973Z",
     "shell.execute_reply": "2025-05-14T11:06:39.801124Z"
    },
    "papermill": {
     "duration": 15.966111,
     "end_time": "2025-05-14T11:06:39.803411",
     "exception": false,
     "start_time": "2025-05-14T11:06:23.837300",
     "status": "completed"
    },
    "slideshow": {
     "slide_type": ""
    },
    "tags": []
   },
   "outputs": [
    {
     "data": {
      "text/html": [
       "<div>\n",
       "<style scoped>\n",
       "    .dataframe tbody tr th:only-of-type {\n",
       "        vertical-align: middle;\n",
       "    }\n",
       "\n",
       "    .dataframe tbody tr th {\n",
       "        vertical-align: top;\n",
       "    }\n",
       "\n",
       "    .dataframe thead th {\n",
       "        text-align: right;\n",
       "    }\n",
       "</style>\n",
       "<table border=\"1\" class=\"dataframe\">\n",
       "  <thead>\n",
       "    <tr style=\"text-align: right;\">\n",
       "      <th></th>\n",
       "      <th>Programme</th>\n",
       "      <th>MSD</th>\n",
       "      <th>STATUT</th>\n",
       "      <th>CONSO</th>\n",
       "      <th>SDU</th>\n",
       "      <th>CMM</th>\n",
       "      <th>dispo_globale</th>\n",
       "      <th>dispo_globale_cible</th>\n",
       "      <th>dispo_traceur</th>\n",
       "      <th>dispo_traceur_cible</th>\n",
       "      <th>date_report</th>\n",
       "      <th>id_produit_fk</th>\n",
       "      <th>Code_region</th>\n",
       "      <th>region_order</th>\n",
       "      <th>statut_pourcentage</th>\n",
       "      <th>id_produit_pk</th>\n",
       "      <th>Code_produit</th>\n",
       "      <th>Produit_designation</th>\n",
       "      <th>Unit_rapportage</th>\n",
       "      <th>Categorie_produit</th>\n",
       "      <th>Categorie_du_produit</th>\n",
       "      <th>Code_sous_prog</th>\n",
       "    </tr>\n",
       "  </thead>\n",
       "  <tbody>\n",
       "    <tr>\n",
       "      <th>0</th>\n",
       "      <td>PNLS</td>\n",
       "      <td>3,7</td>\n",
       "      <td>BIEN STOCKE</td>\n",
       "      <td>156255</td>\n",
       "      <td>588198</td>\n",
       "      <td>158253.50</td>\n",
       "      <td>0.002797</td>\n",
       "      <td>0.003441</td>\n",
       "      <td>0.003649</td>\n",
       "      <td>0.003846</td>\n",
       "      <td>2025-03-31</td>\n",
       "      <td>97</td>\n",
       "      <td>NAT</td>\n",
       "      <td>None</td>\n",
       "      <td>0.004049</td>\n",
       "      <td>97</td>\n",
       "      <td>3100016</td>\n",
       "      <td>DOLUTEGRAVIR 10 mg comp. dispersible BTE/90 BT...</td>\n",
       "      <td>COMPRIME</td>\n",
       "      <td>Produit traceur</td>\n",
       "      <td>ARV-ENFANT</td>\n",
       "      <td>PNLS-1</td>\n",
       "    </tr>\n",
       "    <tr>\n",
       "      <th>1</th>\n",
       "      <td>PNLS</td>\n",
       "      <td>2,7</td>\n",
       "      <td>BIEN STOCKE</td>\n",
       "      <td>630487</td>\n",
       "      <td>2218676</td>\n",
       "      <td>814590.50</td>\n",
       "      <td>0.002797</td>\n",
       "      <td>0.003441</td>\n",
       "      <td>0.003649</td>\n",
       "      <td>0.003846</td>\n",
       "      <td>2025-03-31</td>\n",
       "      <td>161</td>\n",
       "      <td>NAT</td>\n",
       "      <td>None</td>\n",
       "      <td>0.004049</td>\n",
       "      <td>161</td>\n",
       "      <td>3120044</td>\n",
       "      <td>PRESERVATIF MASCULIN BTE/144 BTE  -</td>\n",
       "      <td>PRESERVATIF</td>\n",
       "      <td>Produit non traceur</td>\n",
       "      <td>AUTRE</td>\n",
       "      <td>PNLS-1</td>\n",
       "    </tr>\n",
       "    <tr>\n",
       "      <th>2</th>\n",
       "      <td>PNLS</td>\n",
       "      <td>4,0</td>\n",
       "      <td>BIEN STOCKE</td>\n",
       "      <td>222084</td>\n",
       "      <td>1104291</td>\n",
       "      <td>278226.25</td>\n",
       "      <td>0.002797</td>\n",
       "      <td>0.003441</td>\n",
       "      <td>0.003649</td>\n",
       "      <td>0.003846</td>\n",
       "      <td>2025-03-31</td>\n",
       "      <td>95</td>\n",
       "      <td>NAT</td>\n",
       "      <td>None</td>\n",
       "      <td>0.004049</td>\n",
       "      <td>95</td>\n",
       "      <td>3100013</td>\n",
       "      <td>DOLUTEGRAVIR /LAMIVUDINE/TENOFOVIR 50/300/300 ...</td>\n",
       "      <td>COMPRIME</td>\n",
       "      <td>Produit non traceur</td>\n",
       "      <td>MEDICAMENTS ET INTRANTS</td>\n",
       "      <td>PNLS-1</td>\n",
       "    </tr>\n",
       "  </tbody>\n",
       "</table>\n",
       "</div>"
      ],
      "text/plain": [
       "  Programme  MSD       STATUT   CONSO      SDU        CMM  dispo_globale  \\\n",
       "0      PNLS  3,7  BIEN STOCKE  156255   588198  158253.50       0.002797   \n",
       "1      PNLS  2,7  BIEN STOCKE  630487  2218676  814590.50       0.002797   \n",
       "2      PNLS  4,0  BIEN STOCKE  222084  1104291  278226.25       0.002797   \n",
       "\n",
       "   dispo_globale_cible  dispo_traceur  dispo_traceur_cible date_report  \\\n",
       "0             0.003441       0.003649             0.003846  2025-03-31   \n",
       "1             0.003441       0.003649             0.003846  2025-03-31   \n",
       "2             0.003441       0.003649             0.003846  2025-03-31   \n",
       "\n",
       "   id_produit_fk Code_region region_order  statut_pourcentage  id_produit_pk  \\\n",
       "0             97         NAT         None            0.004049             97   \n",
       "1            161         NAT         None            0.004049            161   \n",
       "2             95         NAT         None            0.004049             95   \n",
       "\n",
       "   Code_produit                                Produit_designation  \\\n",
       "0       3100016  DOLUTEGRAVIR 10 mg comp. dispersible BTE/90 BT...   \n",
       "1       3120044                PRESERVATIF MASCULIN BTE/144 BTE  -   \n",
       "2       3100013  DOLUTEGRAVIR /LAMIVUDINE/TENOFOVIR 50/300/300 ...   \n",
       "\n",
       "  Unit_rapportage    Categorie_produit     Categorie_du_produit Code_sous_prog  \n",
       "0        COMPRIME      Produit traceur               ARV-ENFANT         PNLS-1  \n",
       "1     PRESERVATIF  Produit non traceur                    AUTRE         PNLS-1  \n",
       "2        COMPRIME  Produit non traceur  MEDICAMENTS ET INTRANTS         PNLS-1  "
      ]
     },
     "execution_count": 23,
     "metadata": {},
     "output_type": "execute_result"
    }
   ],
   "source": [
    "# Pour avoir la CMM du mois courant une recherche est d'abord faite sur la feuille StockParRegion provenant du RapportFeedback\n",
    "eomonth = (pd.to_datetime(date_report) + pd.offsets.MonthEnd(0)).strftime(\"%Y-%m-%d\")\n",
    "\n",
    "df_stock_prog_nat = stock_sync_manager.get_table_data(\n",
    "    query = QUERY_ETAT_STOCK_PROGRAMME.format(eomonth=eomonth, programme=programme)\n",
    ")\n",
    "\n",
    "df_stock_prog_nat[\"Code_produit\"] = df_stock_prog_nat[\"Code_produit\"].astype(int)\n",
    "\n",
    "df_stock_prog_nat.head(3)"
   ]
  },
  {
   "cell_type": "code",
   "execution_count": 24,
   "id": "d5fa0de6-3909-46f5-b737-856e204c92ba",
   "metadata": {
    "execution": {
     "iopub.execute_input": "2025-05-14T11:06:40.349538Z",
     "iopub.status.busy": "2025-05-14T11:06:40.349072Z",
     "iopub.status.idle": "2025-05-14T11:06:40.727450Z",
     "shell.execute_reply": "2025-05-14T11:06:40.726647Z"
    },
    "papermill": {
     "duration": 0.600646,
     "end_time": "2025-05-14T11:06:40.728795",
     "exception": false,
     "start_time": "2025-05-14T11:06:40.128149",
     "status": "completed"
    },
    "tags": []
   },
   "outputs": [
    {
     "name": "stdout",
     "output_type": "stream",
     "text": [
      "CPU times: user 322 ms, sys: 5.86 ms, total: 327 ms\n",
      "Wall time: 373 ms\n"
     ]
    }
   ],
   "source": [
    "%%time\n",
    "df_cmm_curent, df_cmm_histo = compute_indicators.annexe_1.get_cmm_current_month(\n",
    "    df_etat_stock.copy(),\n",
    "    df_stock_prog_nat.copy(),\n",
    "    programme,\n",
    "    date_report,\n",
    "    stock_sync_manager.civ_engine,\n",
    ")"
   ]
  },
  {
   "cell_type": "markdown",
   "id": "e70f49b8-4d30-4e44-b255-72c0fd9ca0ea",
   "metadata": {
    "papermill": {
     "duration": 0.236115,
     "end_time": "2025-05-14T11:06:41.186496",
     "exception": false,
     "start_time": "2025-05-14T11:06:40.950381",
     "status": "completed"
    },
    "tags": []
   },
   "source": [
    "## 📌3. Calcul des indicateurs `Etat de stock (2/2)` `Annexe 2 - Suivi des Stocks`"
   ]
  },
  {
   "cell_type": "code",
   "execution_count": 25,
   "id": "2fbe9e4d-1190-4695-8df7-37a4737f6a19",
   "metadata": {
    "execution": {
     "iopub.execute_input": "2025-05-14T11:06:41.592096Z",
     "iopub.status.busy": "2025-05-14T11:06:41.591705Z",
     "iopub.status.idle": "2025-05-14T11:06:43.100717Z",
     "shell.execute_reply": "2025-05-14T11:06:43.099816Z"
    },
    "papermill": {
     "duration": 1.703448,
     "end_time": "2025-05-14T11:06:43.102289",
     "exception": false,
     "start_time": "2025-05-14T11:06:41.398841",
     "status": "completed"
    },
    "tags": []
   },
   "outputs": [
    {
     "data": {
      "text/html": [
       "<div>\n",
       "<style scoped>\n",
       "    .dataframe tbody tr th:only-of-type {\n",
       "        vertical-align: middle;\n",
       "    }\n",
       "\n",
       "    .dataframe tbody tr th {\n",
       "        vertical-align: top;\n",
       "    }\n",
       "\n",
       "    .dataframe thead th {\n",
       "        text-align: right;\n",
       "    }\n",
       "</style>\n",
       "<table border=\"1\" class=\"dataframe\">\n",
       "  <thead>\n",
       "    <tr style=\"text-align: right;\">\n",
       "      <th></th>\n",
       "      <th>Periode</th>\n",
       "      <th>Code_ets</th>\n",
       "      <th>stock_initial</th>\n",
       "      <th>qte_recue</th>\n",
       "      <th>qte_utilisee</th>\n",
       "      <th>perte_ajust</th>\n",
       "      <th>j_rupture</th>\n",
       "      <th>sdu</th>\n",
       "      <th>cmm_esigl</th>\n",
       "      <th>cmm_gest</th>\n",
       "      <th>qte_prop</th>\n",
       "      <th>qte_cmde</th>\n",
       "      <th>qte_approuv</th>\n",
       "      <th>msd</th>\n",
       "      <th>etat_stock</th>\n",
       "      <th>besoin_cmde_urg</th>\n",
       "      <th>besoin_trsf_in</th>\n",
       "      <th>qte_trsf_out</th>\n",
       "      <th>date_report</th>\n",
       "      <th>qte_cmde_mois_prec</th>\n",
       "      <th>etat_stock_mois_prec</th>\n",
       "      <th>id_produit_fk</th>\n",
       "      <th>id_produit_pk</th>\n",
       "      <th>Code_produit</th>\n",
       "      <th>Produit_designation</th>\n",
       "      <th>Unit_rapportage</th>\n",
       "      <th>Categorie_produit</th>\n",
       "      <th>Categorie_du_produit</th>\n",
       "      <th>Code_sous_prog</th>\n",
       "    </tr>\n",
       "  </thead>\n",
       "  <tbody>\n",
       "    <tr>\n",
       "      <th>5628</th>\n",
       "      <td>MARS 2025</td>\n",
       "      <td>50800030</td>\n",
       "      <td>6840</td>\n",
       "      <td>0</td>\n",
       "      <td>2490</td>\n",
       "      <td>0</td>\n",
       "      <td>0</td>\n",
       "      <td>4350</td>\n",
       "      <td>3640</td>\n",
       "      <td>3640.0</td>\n",
       "      <td>10210</td>\n",
       "      <td>10210.0</td>\n",
       "      <td>10210</td>\n",
       "      <td>1.195055</td>\n",
       "      <td>ENTRE PCU et MIN</td>\n",
       "      <td>NaN</td>\n",
       "      <td>NaN</td>\n",
       "      <td>NaN</td>\n",
       "      <td>2025-03-31</td>\n",
       "      <td>NaN</td>\n",
       "      <td>None</td>\n",
       "      <td>96</td>\n",
       "      <td>96</td>\n",
       "      <td>3100014</td>\n",
       "      <td>DOLUTEGRAVIR /LAMIVUDINE/TENOFOVIR 50/300/300 ...</td>\n",
       "      <td>COMPRIME</td>\n",
       "      <td>Produit traceur</td>\n",
       "      <td>MEDICAMENTS ET INTRANTS</td>\n",
       "      <td>PNLS-1</td>\n",
       "    </tr>\n",
       "    <tr>\n",
       "      <th>5986</th>\n",
       "      <td>MARS 2025</td>\n",
       "      <td>51600040</td>\n",
       "      <td>810</td>\n",
       "      <td>0</td>\n",
       "      <td>180</td>\n",
       "      <td>0</td>\n",
       "      <td>0</td>\n",
       "      <td>630</td>\n",
       "      <td>60</td>\n",
       "      <td>60.0</td>\n",
       "      <td>0</td>\n",
       "      <td>0.0</td>\n",
       "      <td>0</td>\n",
       "      <td>10.500000</td>\n",
       "      <td>SURSTOCK</td>\n",
       "      <td>NaN</td>\n",
       "      <td>NaN</td>\n",
       "      <td>390.0</td>\n",
       "      <td>2025-03-31</td>\n",
       "      <td>0.0</td>\n",
       "      <td>STOCK DORMANT</td>\n",
       "      <td>97</td>\n",
       "      <td>97</td>\n",
       "      <td>3100016</td>\n",
       "      <td>DOLUTEGRAVIR 10 mg comp. dispersible BTE/90 BT...</td>\n",
       "      <td>COMPRIME</td>\n",
       "      <td>Produit traceur</td>\n",
       "      <td>ARV-ENFANT</td>\n",
       "      <td>PNLS-1</td>\n",
       "    </tr>\n",
       "  </tbody>\n",
       "</table>\n",
       "</div>"
      ],
      "text/plain": [
       "        Periode  Code_ets  stock_initial  qte_recue  qte_utilisee  \\\n",
       "5628  MARS 2025  50800030           6840          0          2490   \n",
       "5986  MARS 2025  51600040            810          0           180   \n",
       "\n",
       "      perte_ajust  j_rupture   sdu  cmm_esigl  cmm_gest  qte_prop  qte_cmde  \\\n",
       "5628            0          0  4350       3640    3640.0     10210   10210.0   \n",
       "5986            0          0   630         60      60.0         0       0.0   \n",
       "\n",
       "      qte_approuv        msd        etat_stock  besoin_cmde_urg  \\\n",
       "5628        10210   1.195055  ENTRE PCU et MIN              NaN   \n",
       "5986            0  10.500000          SURSTOCK              NaN   \n",
       "\n",
       "      besoin_trsf_in  qte_trsf_out date_report  qte_cmde_mois_prec  \\\n",
       "5628             NaN           NaN  2025-03-31                 NaN   \n",
       "5986             NaN         390.0  2025-03-31                 0.0   \n",
       "\n",
       "     etat_stock_mois_prec  id_produit_fk  id_produit_pk  Code_produit  \\\n",
       "5628                 None             96             96       3100014   \n",
       "5986        STOCK DORMANT             97             97       3100016   \n",
       "\n",
       "                                    Produit_designation Unit_rapportage  \\\n",
       "5628  DOLUTEGRAVIR /LAMIVUDINE/TENOFOVIR 50/300/300 ...        COMPRIME   \n",
       "5986  DOLUTEGRAVIR 10 mg comp. dispersible BTE/90 BT...        COMPRIME   \n",
       "\n",
       "     Categorie_produit     Categorie_du_produit Code_sous_prog  \n",
       "5628   Produit traceur  MEDICAMENTS ET INTRANTS         PNLS-1  \n",
       "5986   Produit traceur               ARV-ENFANT         PNLS-1  "
      ]
     },
     "execution_count": 25,
     "metadata": {},
     "output_type": "execute_result"
    }
   ],
   "source": [
    "df_etat_stock_periph = stock_sync_manager.get_table_data(\n",
    "    query=QUERY_ETAT_STOCK_PERIPH.format(eomonth=eomonth)\n",
    ")\n",
    "\n",
    "df_etat_stock_periph = df_etat_stock_periph.loc[\n",
    "    df_etat_stock_periph.Code_sous_prog.str.contains(programme)\n",
    "]\n",
    "\n",
    "df_etat_stock_periph[\"Code_produit\"] = df_etat_stock_periph[\"Code_produit\"].astype(int)\n",
    "\n",
    "df_etat_stock_periph.head(2)"
   ]
  },
  {
   "cell_type": "code",
   "execution_count": 26,
   "id": "592788d1-ea93-4c42-b744-a068f22d23be",
   "metadata": {
    "execution": {
     "iopub.execute_input": "2025-05-14T11:06:43.548857Z",
     "iopub.status.busy": "2025-05-14T11:06:43.548032Z",
     "iopub.status.idle": "2025-05-14T11:06:43.553448Z",
     "shell.execute_reply": "2025-05-14T11:06:43.552706Z"
    },
    "papermill": {
     "duration": 0.228513,
     "end_time": "2025-05-14T11:06:43.554903",
     "exception": false,
     "start_time": "2025-05-14T11:06:43.326390",
     "status": "completed"
    },
    "tags": []
   },
   "outputs": [],
   "source": [
    "df_plan_approv[\"Quantité harmonisée (SAGE)\"] = df_plan_approv[\"Quantite\"]*df_plan_approv[\"facteur_de_conversion_qat_sage\"]"
   ]
  },
  {
   "cell_type": "code",
   "execution_count": 27,
   "id": "08d7bdd6-cf53-4c3c-bca3-c9f6c218a273",
   "metadata": {
    "execution": {
     "iopub.execute_input": "2025-05-14T11:06:46.710414Z",
     "iopub.status.busy": "2025-05-14T11:06:46.710072Z",
     "iopub.status.idle": "2025-05-14T11:06:50.419081Z",
     "shell.execute_reply": "2025-05-14T11:06:50.418184Z"
    },
    "papermill": {
     "duration": 6.662389,
     "end_time": "2025-05-14T11:06:50.420532",
     "exception": false,
     "start_time": "2025-05-14T11:06:43.758143",
     "status": "completed"
    },
    "tags": []
   },
   "outputs": [
    {
     "ename": "ValueError",
     "evalue": "could not convert string to float: ''",
     "output_type": "error",
     "traceback": [
      "\u001b[0;31m---------------------------------------------------------------------------\u001b[0m",
      "\u001b[0;31mValueError\u001b[0m                                Traceback (most recent call last)",
      "File \u001b[0;32m<timed exec>:1\u001b[0m\n",
      "File \u001b[0;32m~/workspace/Fichier Suivi de Stock/code/pipelines/compute_indicators/compute_indicators_annexe_2.py:522\u001b[0m, in \u001b[0;36mcompute_indicators_annexe_2\u001b[0;34m(df_etat_stock, df_dmm_curent, df_stock_prog_nat, df_etat_stock_periph, df_stock_detaille, df_receptions, df_plan_approv, date_report)\u001b[0m\n\u001b[1;32m    514\u001b[0m df_etat_stock \u001b[38;5;241m=\u001b[39m _get_etat_stock_first_part(\n\u001b[1;32m    515\u001b[0m     df_etat_stock, df_dmm_curent, df_stock_prog_nat, df_etat_stock_periph, date_report\n\u001b[1;32m    516\u001b[0m )\n\u001b[1;32m    518\u001b[0m df_etat_stock \u001b[38;5;241m=\u001b[39m _get_etat_stock_second_part(\n\u001b[1;32m    519\u001b[0m     df_etat_stock, df_stock_detaille, df_receptions, df_plan_approv, date_report\n\u001b[1;32m    520\u001b[0m )\n\u001b[0;32m--> 522\u001b[0m df_etat_stock \u001b[38;5;241m=\u001b[39m \u001b[43m_get_etat_stock_end_part\u001b[49m\u001b[43m(\u001b[49m\u001b[43mdf_etat_stock\u001b[49m\u001b[43m)\u001b[49m\n\u001b[1;32m    524\u001b[0m \u001b[38;5;28;01mreturn\u001b[39;00m df_etat_stock\n",
      "File \u001b[0;32m~/workspace/Fichier Suivi de Stock/code/pipelines/compute_indicators/compute_indicators_annexe_2.py:472\u001b[0m, in \u001b[0;36m_get_etat_stock_end_part\u001b[0;34m(df_etat_stock)\u001b[0m\n\u001b[1;32m    470\u001b[0m cols \u001b[38;5;241m=\u001b[39m [col \u001b[38;5;28;01mfor\u001b[39;00m col \u001b[38;5;129;01min\u001b[39;00m df_etat_stock\u001b[38;5;241m.\u001b[39mcolumns \u001b[38;5;28;01mif\u001b[39;00m \u001b[38;5;124m\"\u001b[39m\u001b[38;5;124mmsd\u001b[39m\u001b[38;5;124m\"\u001b[39m \u001b[38;5;129;01min\u001b[39;00m col]\n\u001b[1;32m    471\u001b[0m \u001b[38;5;28;01mfor\u001b[39;00m col \u001b[38;5;129;01min\u001b[39;00m cols:\n\u001b[0;32m--> 472\u001b[0m     df_etat_stock[col] \u001b[38;5;241m=\u001b[39m \u001b[43mdf_etat_stock\u001b[49m\u001b[43m[\u001b[49m\u001b[43mcol\u001b[49m\u001b[43m]\u001b[49m\u001b[38;5;241;43m.\u001b[39;49m\u001b[43mapply\u001b[49m\u001b[43m(\u001b[49m\n\u001b[1;32m    473\u001b[0m \u001b[43m        \u001b[49m\u001b[38;5;28;43;01mlambda\u001b[39;49;00m\u001b[43m \u001b[49m\u001b[43mx\u001b[49m\u001b[43m:\u001b[49m\u001b[43m \u001b[49m\u001b[38;5;28;43mstr\u001b[39;49m\u001b[43m(\u001b[49m\u001b[38;5;28;43mround\u001b[39;49m\u001b[43m(\u001b[49m\u001b[38;5;28;43mfloat\u001b[39;49m\u001b[43m(\u001b[49m\u001b[43mx\u001b[49m\u001b[43m)\u001b[49m\u001b[43m,\u001b[49m\u001b[43m \u001b[49m\u001b[38;5;241;43m1\u001b[39;49m\u001b[43m)\u001b[49m\u001b[43m)\u001b[49m\u001b[38;5;241;43m.\u001b[39;49m\u001b[43mreplace\u001b[49m\u001b[43m(\u001b[49m\u001b[38;5;124;43m\"\u001b[39;49m\u001b[38;5;124;43m.\u001b[39;49m\u001b[38;5;124;43m\"\u001b[39;49m\u001b[43m,\u001b[49m\u001b[43m \u001b[49m\u001b[38;5;124;43m\"\u001b[39;49m\u001b[38;5;124;43m,\u001b[39;49m\u001b[38;5;124;43m\"\u001b[39;49m\u001b[43m)\u001b[49m\n\u001b[1;32m    474\u001b[0m \u001b[43m        \u001b[49m\u001b[38;5;28;43;01mif\u001b[39;49;00m\u001b[43m \u001b[49m\u001b[38;5;129;43;01mnot\u001b[39;49;00m\u001b[43m \u001b[49m\u001b[43mpd\u001b[49m\u001b[38;5;241;43m.\u001b[39;49m\u001b[43misna\u001b[49m\u001b[43m(\u001b[49m\u001b[43mx\u001b[49m\u001b[43m)\u001b[49m\u001b[43m \u001b[49m\u001b[38;5;129;43;01mand\u001b[39;49;00m\u001b[43m \u001b[49m\u001b[43mx\u001b[49m\u001b[43m \u001b[49m\u001b[38;5;241;43m!=\u001b[39;49m\u001b[43m \u001b[49m\u001b[38;5;124;43m\"\u001b[39;49m\u001b[38;5;124;43mND\u001b[39;49m\u001b[38;5;124;43m\"\u001b[39;49m\u001b[43m \u001b[49m\u001b[38;5;129;43;01mand\u001b[39;49;00m\u001b[43m \u001b[49m\u001b[43mx\u001b[49m\u001b[43m \u001b[49m\u001b[38;5;241;43m!=\u001b[39;49m\u001b[43m \u001b[49m\u001b[38;5;124;43m\"\u001b[39;49m\u001b[38;5;124;43mNA\u001b[39;49m\u001b[38;5;124;43m\"\u001b[39;49m\n\u001b[1;32m    475\u001b[0m \u001b[43m        \u001b[49m\u001b[38;5;28;43;01melse\u001b[39;49;00m\u001b[43m \u001b[49m\u001b[43mx\u001b[49m\n\u001b[1;32m    476\u001b[0m \u001b[43m    \u001b[49m\u001b[43m)\u001b[49m\n\u001b[1;32m    478\u001b[0m \u001b[38;5;66;03m# Formattage du champ date\u001b[39;00m\n\u001b[1;32m    479\u001b[0m cols \u001b[38;5;241m=\u001b[39m [col \u001b[38;5;28;01mfor\u001b[39;00m col \u001b[38;5;129;01min\u001b[39;00m df_etat_stock\u001b[38;5;241m.\u001b[39mcolumns \u001b[38;5;28;01mif\u001b[39;00m \u001b[38;5;124m\"\u001b[39m\u001b[38;5;124mdate\u001b[39m\u001b[38;5;124m\"\u001b[39m \u001b[38;5;129;01min\u001b[39;00m col]\n",
      "File \u001b[0;32m/opt/conda/lib/python3.12/site-packages/pandas/core/series.py:4924\u001b[0m, in \u001b[0;36mSeries.apply\u001b[0;34m(self, func, convert_dtype, args, by_row, **kwargs)\u001b[0m\n\u001b[1;32m   4789\u001b[0m \u001b[38;5;28;01mdef\u001b[39;00m \u001b[38;5;21mapply\u001b[39m(\n\u001b[1;32m   4790\u001b[0m     \u001b[38;5;28mself\u001b[39m,\n\u001b[1;32m   4791\u001b[0m     func: AggFuncType,\n\u001b[0;32m   (...)\u001b[0m\n\u001b[1;32m   4796\u001b[0m     \u001b[38;5;241m*\u001b[39m\u001b[38;5;241m*\u001b[39mkwargs,\n\u001b[1;32m   4797\u001b[0m ) \u001b[38;5;241m-\u001b[39m\u001b[38;5;241m>\u001b[39m DataFrame \u001b[38;5;241m|\u001b[39m Series:\n\u001b[1;32m   4798\u001b[0m \u001b[38;5;250m    \u001b[39m\u001b[38;5;124;03m\"\"\"\u001b[39;00m\n\u001b[1;32m   4799\u001b[0m \u001b[38;5;124;03m    Invoke function on values of Series.\u001b[39;00m\n\u001b[1;32m   4800\u001b[0m \n\u001b[0;32m   (...)\u001b[0m\n\u001b[1;32m   4915\u001b[0m \u001b[38;5;124;03m    dtype: float64\u001b[39;00m\n\u001b[1;32m   4916\u001b[0m \u001b[38;5;124;03m    \"\"\"\u001b[39;00m\n\u001b[1;32m   4917\u001b[0m     \u001b[38;5;28;01mreturn\u001b[39;00m \u001b[43mSeriesApply\u001b[49m\u001b[43m(\u001b[49m\n\u001b[1;32m   4918\u001b[0m \u001b[43m        \u001b[49m\u001b[38;5;28;43mself\u001b[39;49m\u001b[43m,\u001b[49m\n\u001b[1;32m   4919\u001b[0m \u001b[43m        \u001b[49m\u001b[43mfunc\u001b[49m\u001b[43m,\u001b[49m\n\u001b[1;32m   4920\u001b[0m \u001b[43m        \u001b[49m\u001b[43mconvert_dtype\u001b[49m\u001b[38;5;241;43m=\u001b[39;49m\u001b[43mconvert_dtype\u001b[49m\u001b[43m,\u001b[49m\n\u001b[1;32m   4921\u001b[0m \u001b[43m        \u001b[49m\u001b[43mby_row\u001b[49m\u001b[38;5;241;43m=\u001b[39;49m\u001b[43mby_row\u001b[49m\u001b[43m,\u001b[49m\n\u001b[1;32m   4922\u001b[0m \u001b[43m        \u001b[49m\u001b[43margs\u001b[49m\u001b[38;5;241;43m=\u001b[39;49m\u001b[43margs\u001b[49m\u001b[43m,\u001b[49m\n\u001b[1;32m   4923\u001b[0m \u001b[43m        \u001b[49m\u001b[43mkwargs\u001b[49m\u001b[38;5;241;43m=\u001b[39;49m\u001b[43mkwargs\u001b[49m\u001b[43m,\u001b[49m\n\u001b[0;32m-> 4924\u001b[0m \u001b[43m    \u001b[49m\u001b[43m)\u001b[49m\u001b[38;5;241;43m.\u001b[39;49m\u001b[43mapply\u001b[49m\u001b[43m(\u001b[49m\u001b[43m)\u001b[49m\n",
      "File \u001b[0;32m/opt/conda/lib/python3.12/site-packages/pandas/core/apply.py:1427\u001b[0m, in \u001b[0;36mSeriesApply.apply\u001b[0;34m(self)\u001b[0m\n\u001b[1;32m   1424\u001b[0m     \u001b[38;5;28;01mreturn\u001b[39;00m \u001b[38;5;28mself\u001b[39m\u001b[38;5;241m.\u001b[39mapply_compat()\n\u001b[1;32m   1426\u001b[0m \u001b[38;5;66;03m# self.func is Callable\u001b[39;00m\n\u001b[0;32m-> 1427\u001b[0m \u001b[38;5;28;01mreturn\u001b[39;00m \u001b[38;5;28;43mself\u001b[39;49m\u001b[38;5;241;43m.\u001b[39;49m\u001b[43mapply_standard\u001b[49m\u001b[43m(\u001b[49m\u001b[43m)\u001b[49m\n",
      "File \u001b[0;32m/opt/conda/lib/python3.12/site-packages/pandas/core/apply.py:1507\u001b[0m, in \u001b[0;36mSeriesApply.apply_standard\u001b[0;34m(self)\u001b[0m\n\u001b[1;32m   1501\u001b[0m \u001b[38;5;66;03m# row-wise access\u001b[39;00m\n\u001b[1;32m   1502\u001b[0m \u001b[38;5;66;03m# apply doesn't have a `na_action` keyword and for backward compat reasons\u001b[39;00m\n\u001b[1;32m   1503\u001b[0m \u001b[38;5;66;03m# we need to give `na_action=\"ignore\"` for categorical data.\u001b[39;00m\n\u001b[1;32m   1504\u001b[0m \u001b[38;5;66;03m# TODO: remove the `na_action=\"ignore\"` when that default has been changed in\u001b[39;00m\n\u001b[1;32m   1505\u001b[0m \u001b[38;5;66;03m#  Categorical (GH51645).\u001b[39;00m\n\u001b[1;32m   1506\u001b[0m action \u001b[38;5;241m=\u001b[39m \u001b[38;5;124m\"\u001b[39m\u001b[38;5;124mignore\u001b[39m\u001b[38;5;124m\"\u001b[39m \u001b[38;5;28;01mif\u001b[39;00m \u001b[38;5;28misinstance\u001b[39m(obj\u001b[38;5;241m.\u001b[39mdtype, CategoricalDtype) \u001b[38;5;28;01melse\u001b[39;00m \u001b[38;5;28;01mNone\u001b[39;00m\n\u001b[0;32m-> 1507\u001b[0m mapped \u001b[38;5;241m=\u001b[39m \u001b[43mobj\u001b[49m\u001b[38;5;241;43m.\u001b[39;49m\u001b[43m_map_values\u001b[49m\u001b[43m(\u001b[49m\n\u001b[1;32m   1508\u001b[0m \u001b[43m    \u001b[49m\u001b[43mmapper\u001b[49m\u001b[38;5;241;43m=\u001b[39;49m\u001b[43mcurried\u001b[49m\u001b[43m,\u001b[49m\u001b[43m \u001b[49m\u001b[43mna_action\u001b[49m\u001b[38;5;241;43m=\u001b[39;49m\u001b[43maction\u001b[49m\u001b[43m,\u001b[49m\u001b[43m \u001b[49m\u001b[43mconvert\u001b[49m\u001b[38;5;241;43m=\u001b[39;49m\u001b[38;5;28;43mself\u001b[39;49m\u001b[38;5;241;43m.\u001b[39;49m\u001b[43mconvert_dtype\u001b[49m\n\u001b[1;32m   1509\u001b[0m \u001b[43m\u001b[49m\u001b[43m)\u001b[49m\n\u001b[1;32m   1511\u001b[0m \u001b[38;5;28;01mif\u001b[39;00m \u001b[38;5;28mlen\u001b[39m(mapped) \u001b[38;5;129;01mand\u001b[39;00m \u001b[38;5;28misinstance\u001b[39m(mapped[\u001b[38;5;241m0\u001b[39m], ABCSeries):\n\u001b[1;32m   1512\u001b[0m     \u001b[38;5;66;03m# GH#43986 Need to do list(mapped) in order to get treated as nested\u001b[39;00m\n\u001b[1;32m   1513\u001b[0m     \u001b[38;5;66;03m#  See also GH#25959 regarding EA support\u001b[39;00m\n\u001b[1;32m   1514\u001b[0m     \u001b[38;5;28;01mreturn\u001b[39;00m obj\u001b[38;5;241m.\u001b[39m_constructor_expanddim(\u001b[38;5;28mlist\u001b[39m(mapped), index\u001b[38;5;241m=\u001b[39mobj\u001b[38;5;241m.\u001b[39mindex)\n",
      "File \u001b[0;32m/opt/conda/lib/python3.12/site-packages/pandas/core/base.py:921\u001b[0m, in \u001b[0;36mIndexOpsMixin._map_values\u001b[0;34m(self, mapper, na_action, convert)\u001b[0m\n\u001b[1;32m    918\u001b[0m \u001b[38;5;28;01mif\u001b[39;00m \u001b[38;5;28misinstance\u001b[39m(arr, ExtensionArray):\n\u001b[1;32m    919\u001b[0m     \u001b[38;5;28;01mreturn\u001b[39;00m arr\u001b[38;5;241m.\u001b[39mmap(mapper, na_action\u001b[38;5;241m=\u001b[39mna_action)\n\u001b[0;32m--> 921\u001b[0m \u001b[38;5;28;01mreturn\u001b[39;00m \u001b[43malgorithms\u001b[49m\u001b[38;5;241;43m.\u001b[39;49m\u001b[43mmap_array\u001b[49m\u001b[43m(\u001b[49m\u001b[43marr\u001b[49m\u001b[43m,\u001b[49m\u001b[43m \u001b[49m\u001b[43mmapper\u001b[49m\u001b[43m,\u001b[49m\u001b[43m \u001b[49m\u001b[43mna_action\u001b[49m\u001b[38;5;241;43m=\u001b[39;49m\u001b[43mna_action\u001b[49m\u001b[43m,\u001b[49m\u001b[43m \u001b[49m\u001b[43mconvert\u001b[49m\u001b[38;5;241;43m=\u001b[39;49m\u001b[43mconvert\u001b[49m\u001b[43m)\u001b[49m\n",
      "File \u001b[0;32m/opt/conda/lib/python3.12/site-packages/pandas/core/algorithms.py:1743\u001b[0m, in \u001b[0;36mmap_array\u001b[0;34m(arr, mapper, na_action, convert)\u001b[0m\n\u001b[1;32m   1741\u001b[0m values \u001b[38;5;241m=\u001b[39m arr\u001b[38;5;241m.\u001b[39mastype(\u001b[38;5;28mobject\u001b[39m, copy\u001b[38;5;241m=\u001b[39m\u001b[38;5;28;01mFalse\u001b[39;00m)\n\u001b[1;32m   1742\u001b[0m \u001b[38;5;28;01mif\u001b[39;00m na_action \u001b[38;5;129;01mis\u001b[39;00m \u001b[38;5;28;01mNone\u001b[39;00m:\n\u001b[0;32m-> 1743\u001b[0m     \u001b[38;5;28;01mreturn\u001b[39;00m \u001b[43mlib\u001b[49m\u001b[38;5;241;43m.\u001b[39;49m\u001b[43mmap_infer\u001b[49m\u001b[43m(\u001b[49m\u001b[43mvalues\u001b[49m\u001b[43m,\u001b[49m\u001b[43m \u001b[49m\u001b[43mmapper\u001b[49m\u001b[43m,\u001b[49m\u001b[43m \u001b[49m\u001b[43mconvert\u001b[49m\u001b[38;5;241;43m=\u001b[39;49m\u001b[43mconvert\u001b[49m\u001b[43m)\u001b[49m\n\u001b[1;32m   1744\u001b[0m \u001b[38;5;28;01melse\u001b[39;00m:\n\u001b[1;32m   1745\u001b[0m     \u001b[38;5;28;01mreturn\u001b[39;00m lib\u001b[38;5;241m.\u001b[39mmap_infer_mask(\n\u001b[1;32m   1746\u001b[0m         values, mapper, mask\u001b[38;5;241m=\u001b[39misna(values)\u001b[38;5;241m.\u001b[39mview(np\u001b[38;5;241m.\u001b[39muint8), convert\u001b[38;5;241m=\u001b[39mconvert\n\u001b[1;32m   1747\u001b[0m     )\n",
      "File \u001b[0;32mlib.pyx:2972\u001b[0m, in \u001b[0;36mpandas._libs.lib.map_infer\u001b[0;34m()\u001b[0m\n",
      "File \u001b[0;32m~/workspace/Fichier Suivi de Stock/code/pipelines/compute_indicators/compute_indicators_annexe_2.py:473\u001b[0m, in \u001b[0;36m_get_etat_stock_end_part.<locals>.<lambda>\u001b[0;34m(x)\u001b[0m\n\u001b[1;32m    470\u001b[0m cols \u001b[38;5;241m=\u001b[39m [col \u001b[38;5;28;01mfor\u001b[39;00m col \u001b[38;5;129;01min\u001b[39;00m df_etat_stock\u001b[38;5;241m.\u001b[39mcolumns \u001b[38;5;28;01mif\u001b[39;00m \u001b[38;5;124m\"\u001b[39m\u001b[38;5;124mmsd\u001b[39m\u001b[38;5;124m\"\u001b[39m \u001b[38;5;129;01min\u001b[39;00m col]\n\u001b[1;32m    471\u001b[0m \u001b[38;5;28;01mfor\u001b[39;00m col \u001b[38;5;129;01min\u001b[39;00m cols:\n\u001b[1;32m    472\u001b[0m     df_etat_stock[col] \u001b[38;5;241m=\u001b[39m df_etat_stock[col]\u001b[38;5;241m.\u001b[39mapply(\n\u001b[0;32m--> 473\u001b[0m         \u001b[38;5;28;01mlambda\u001b[39;00m x: \u001b[38;5;28mstr\u001b[39m(\u001b[38;5;28mround\u001b[39m(\u001b[38;5;28;43mfloat\u001b[39;49m\u001b[43m(\u001b[49m\u001b[43mx\u001b[49m\u001b[43m)\u001b[49m, \u001b[38;5;241m1\u001b[39m))\u001b[38;5;241m.\u001b[39mreplace(\u001b[38;5;124m\"\u001b[39m\u001b[38;5;124m.\u001b[39m\u001b[38;5;124m\"\u001b[39m, \u001b[38;5;124m\"\u001b[39m\u001b[38;5;124m,\u001b[39m\u001b[38;5;124m\"\u001b[39m)\n\u001b[1;32m    474\u001b[0m         \u001b[38;5;28;01mif\u001b[39;00m \u001b[38;5;129;01mnot\u001b[39;00m pd\u001b[38;5;241m.\u001b[39misna(x) \u001b[38;5;129;01mand\u001b[39;00m x \u001b[38;5;241m!=\u001b[39m \u001b[38;5;124m\"\u001b[39m\u001b[38;5;124mND\u001b[39m\u001b[38;5;124m\"\u001b[39m \u001b[38;5;129;01mand\u001b[39;00m x \u001b[38;5;241m!=\u001b[39m \u001b[38;5;124m\"\u001b[39m\u001b[38;5;124mNA\u001b[39m\u001b[38;5;124m\"\u001b[39m\n\u001b[1;32m    475\u001b[0m         \u001b[38;5;28;01melse\u001b[39;00m x\n\u001b[1;32m    476\u001b[0m     )\n\u001b[1;32m    478\u001b[0m \u001b[38;5;66;03m# Formattage du champ date\u001b[39;00m\n\u001b[1;32m    479\u001b[0m cols \u001b[38;5;241m=\u001b[39m [col \u001b[38;5;28;01mfor\u001b[39;00m col \u001b[38;5;129;01min\u001b[39;00m df_etat_stock\u001b[38;5;241m.\u001b[39mcolumns \u001b[38;5;28;01mif\u001b[39;00m \u001b[38;5;124m\"\u001b[39m\u001b[38;5;124mdate\u001b[39m\u001b[38;5;124m\"\u001b[39m \u001b[38;5;129;01min\u001b[39;00m col]\n",
      "\u001b[0;31mValueError\u001b[0m: could not convert string to float: ''"
     ]
    }
   ],
   "source": [
    "%%time\n",
    "df_etat_stock = compute_indicators.annexe_2(\n",
    "    df_etat_stock,\n",
    "    df_dmm_curent.copy(),\n",
    "    df_stock_prog_nat.copy(),\n",
    "    df_etat_stock_periph.copy(),\n",
    "    df_stock_detaille.copy(),\n",
    "    df_receptions.copy(),\n",
    "    df_plan_approv.copy(),\n",
    "    date_report,\n",
    ")"
   ]
  },
  {
   "cell_type": "markdown",
   "id": "76c5e978-145b-4cb3-aa25-fb14eb470ff4",
   "metadata": {
    "papermill": {
     "duration": 0.507544,
     "end_time": "2025-05-14T11:06:51.161743",
     "exception": false,
     "start_time": "2025-05-14T11:06:50.654199",
     "status": "completed"
    },
    "tags": []
   },
   "source": [
    "# V.Exportation des données\n",
    "\n",
    "Avant d’exporter les données, il est essentiel de s’assurer qu’aucune information relative à la période en cours n’est déjà présente dans les différentes tables.  \r\n",
    "Si des données existent, une suppression devra être effectuée avant l’export."
   ]
  },
  {
   "cell_type": "markdown",
   "id": "040e8f88-31a1-4bd0-a32b-d2a10d2aa29b",
   "metadata": {
    "papermill": {
     "duration": 0.18729,
     "end_time": "2025-05-14T11:06:51.548365",
     "exception": false,
     "start_time": "2025-05-14T11:06:51.361075",
     "status": "completed"
    },
    "tags": []
   },
   "source": [
    "## 1. `Etat de Stock`"
   ]
  },
  {
   "cell_type": "markdown",
   "id": "e1d4e6b1",
   "metadata": {
    "tags": [
     "papermill-error-cell-tag"
    ]
   },
   "source": [
    "<span id=\"papermill-error-cell\" style=\"color:red; font-family:Helvetica Neue, Helvetica, Arial, sans-serif; font-size:2em;\">Execution using papermill encountered an exception here and stopped:</span>"
   ]
  },
  {
   "cell_type": "code",
   "execution_count": 28,
   "id": "69402d6e-0979-4fe7-aef4-7a578d7c4948",
   "metadata": {
    "execution": {
     "iopub.execute_input": "2025-05-14T11:06:51.927386Z",
     "iopub.status.busy": "2025-05-14T11:06:51.926942Z",
     "iopub.status.idle": "2025-05-14T11:06:51.949232Z",
     "shell.execute_reply": "2025-05-14T11:06:51.948048Z"
    },
    "papermill": {
     "duration": 0.202003,
     "end_time": "2025-05-14T11:06:51.950491",
     "exception": true,
     "start_time": "2025-05-14T11:06:51.748488",
     "status": "failed"
    },
    "tags": []
   },
   "outputs": [
    {
     "ename": "AttributeError",
     "evalue": "'DataFrame' object has no attribute 'id_dim_produit_stock_track_fk'",
     "output_type": "error",
     "traceback": [
      "\u001b[0;31m---------------------------------------------------------------------------\u001b[0m",
      "\u001b[0;31mAttributeError\u001b[0m                            Traceback (most recent call last)",
      "\u001b[0;32m/tmp/ipykernel_128/946941514.py\u001b[0m in \u001b[0;36m?\u001b[0;34m()\u001b[0m\n\u001b[0;32m----> 1\u001b[0;31m \u001b[0mid_list\u001b[0m \u001b[0;34m=\u001b[0m \u001b[0mlist\u001b[0m\u001b[0;34m(\u001b[0m\u001b[0mmap\u001b[0m\u001b[0;34m(\u001b[0m\u001b[0mint\u001b[0m\u001b[0;34m,\u001b[0m \u001b[0mdf_etat_stock\u001b[0m\u001b[0;34m.\u001b[0m\u001b[0mid_dim_produit_stock_track_fk\u001b[0m\u001b[0;34m.\u001b[0m\u001b[0munique\u001b[0m\u001b[0;34m(\u001b[0m\u001b[0;34m)\u001b[0m\u001b[0;34m)\u001b[0m\u001b[0;34m)\u001b[0m\u001b[0;34m\u001b[0m\u001b[0;34m\u001b[0m\u001b[0m\n\u001b[0m\u001b[1;32m      2\u001b[0m \u001b[0mplaceholders\u001b[0m \u001b[0;34m=\u001b[0m \u001b[0;34m\", \"\u001b[0m\u001b[0;34m.\u001b[0m\u001b[0mjoin\u001b[0m\u001b[0;34m(\u001b[0m\u001b[0;34m[\u001b[0m\u001b[0;34m\"%s\"\u001b[0m\u001b[0;34m]\u001b[0m \u001b[0;34m*\u001b[0m \u001b[0mlen\u001b[0m\u001b[0;34m(\u001b[0m\u001b[0mid_list\u001b[0m\u001b[0;34m)\u001b[0m\u001b[0;34m)\u001b[0m\u001b[0;34m\u001b[0m\u001b[0;34m\u001b[0m\u001b[0m\n\u001b[1;32m      3\u001b[0m \u001b[0;34m\u001b[0m\u001b[0m\n\u001b[1;32m      4\u001b[0m query = f\"\"\"\n",
      "\u001b[0;32m/opt/conda/lib/python3.12/site-packages/pandas/core/generic.py\u001b[0m in \u001b[0;36m?\u001b[0;34m(self, name)\u001b[0m\n\u001b[1;32m   6295\u001b[0m             \u001b[0;32mand\u001b[0m \u001b[0mname\u001b[0m \u001b[0;32mnot\u001b[0m \u001b[0;32min\u001b[0m \u001b[0mself\u001b[0m\u001b[0;34m.\u001b[0m\u001b[0m_accessors\u001b[0m\u001b[0;34m\u001b[0m\u001b[0;34m\u001b[0m\u001b[0m\n\u001b[1;32m   6296\u001b[0m             \u001b[0;32mand\u001b[0m \u001b[0mself\u001b[0m\u001b[0;34m.\u001b[0m\u001b[0m_info_axis\u001b[0m\u001b[0;34m.\u001b[0m\u001b[0m_can_hold_identifiers_and_holds_name\u001b[0m\u001b[0;34m(\u001b[0m\u001b[0mname\u001b[0m\u001b[0;34m)\u001b[0m\u001b[0;34m\u001b[0m\u001b[0;34m\u001b[0m\u001b[0m\n\u001b[1;32m   6297\u001b[0m         \u001b[0;34m)\u001b[0m\u001b[0;34m:\u001b[0m\u001b[0;34m\u001b[0m\u001b[0;34m\u001b[0m\u001b[0m\n\u001b[1;32m   6298\u001b[0m             \u001b[0;32mreturn\u001b[0m \u001b[0mself\u001b[0m\u001b[0;34m[\u001b[0m\u001b[0mname\u001b[0m\u001b[0;34m]\u001b[0m\u001b[0;34m\u001b[0m\u001b[0;34m\u001b[0m\u001b[0m\n\u001b[0;32m-> 6299\u001b[0;31m         \u001b[0;32mreturn\u001b[0m \u001b[0mobject\u001b[0m\u001b[0;34m.\u001b[0m\u001b[0m__getattribute__\u001b[0m\u001b[0;34m(\u001b[0m\u001b[0mself\u001b[0m\u001b[0;34m,\u001b[0m \u001b[0mname\u001b[0m\u001b[0;34m)\u001b[0m\u001b[0;34m\u001b[0m\u001b[0;34m\u001b[0m\u001b[0m\n\u001b[0m",
      "\u001b[0;31mAttributeError\u001b[0m: 'DataFrame' object has no attribute 'id_dim_produit_stock_track_fk'"
     ]
    }
   ],
   "source": [
    "id_list = list(map(int, df_etat_stock.id_dim_produit_stock_track_fk.unique()))\n",
    "placeholders = \", \".join([\"%s\"] * len(id_list))\n",
    "\n",
    "query = f\"\"\"\n",
    "DELETE FROM {schema_name}.stock_track\n",
    "WHERE date_report = '{date_report}' AND id_dim_produit_stock_track_fk IN ({placeholders});\n",
    "\"\"\"\n",
    "\n",
    "stock_sync_manager.civ_cursor.execute(query, list(id_list))\n",
    "stock_sync_manager.conn.commit()"
   ]
  },
  {
   "cell_type": "code",
   "execution_count": null,
   "id": "92ca91ab-0797-414f-8c9c-3c5a185a2d0f",
   "metadata": {
    "papermill": {
     "duration": null,
     "end_time": null,
     "exception": null,
     "start_time": null,
     "status": "pending"
    },
    "tags": []
   },
   "outputs": [],
   "source": [
    "assert df_etat_stock.date_report.unique().shape[0] == 1\n",
    "\n",
    "stock_sync_manager.insert_dataframe_to_table(df_etat_stock, \"stock_track\")"
   ]
  },
  {
   "cell_type": "markdown",
   "id": "08ed5151-ee3a-421c-8a19-5c03d4fd165b",
   "metadata": {
    "papermill": {
     "duration": null,
     "end_time": null,
     "exception": null,
     "start_time": null,
     "status": "pending"
    },
    "tags": []
   },
   "source": [
    "## 2. `Distributions`"
   ]
  },
  {
   "cell_type": "markdown",
   "id": "49e72b21-a586-4738-a5c9-95501a6db06c",
   "metadata": {
    "papermill": {
     "duration": null,
     "end_time": null,
     "exception": null,
     "start_time": null,
     "status": "pending"
    },
    "tags": []
   },
   "source": [
    "### 2.1.`Distributions mois courant` "
   ]
  },
  {
   "cell_type": "code",
   "execution_count": null,
   "id": "6521c5ac-f762-4e55-b890-7d9751143a2e",
   "metadata": {
    "papermill": {
     "duration": null,
     "end_time": null,
     "exception": null,
     "start_time": null,
     "status": "pending"
    },
    "tags": []
   },
   "outputs": [],
   "source": [
    "id_list = list(map(int, df_dmm_curent.id_dim_produit_stock_track_fk.unique()))\n",
    "placeholders = \", \".join([\"%s\"] * len(id_list))\n",
    "\n",
    "query = f\"\"\"\n",
    "DELETE FROM {schema_name}.stock_track_dmm\n",
    "WHERE date_report = %s AND id_dim_produit_stock_track_fk IN ({placeholders});\n",
    "\"\"\"\n",
    "\n",
    "stock_sync_manager.civ_cursor.execute(query, [date_report] + list(id_list))\n",
    "stock_sync_manager.conn.commit()"
   ]
  },
  {
   "cell_type": "code",
   "execution_count": null,
   "id": "0a8a2973-b667-403c-8102-fb9417afdf11",
   "metadata": {
    "papermill": {
     "duration": null,
     "end_time": null,
     "exception": null,
     "start_time": null,
     "status": "pending"
    },
    "tags": []
   },
   "outputs": [],
   "source": [
    "assert df_dmm_curent.date_report.unique().shape[0] == 1\n",
    "\n",
    "stock_sync_manager.insert_dataframe_to_table(df_dmm_curent, \"stock_track_dmm\")"
   ]
  },
  {
   "cell_type": "markdown",
   "id": "1bf275e1-f2ea-4d6d-8205-713e903663d0",
   "metadata": {
    "papermill": {
     "duration": null,
     "end_time": null,
     "exception": null,
     "start_time": null,
     "status": "pending"
    },
    "tags": []
   },
   "source": [
    "### 2.2.`Distributions hitoriques considérées pour le mois en cours`"
   ]
  },
  {
   "cell_type": "code",
   "execution_count": null,
   "id": "4b89b9f1-3f48-4e83-9c2f-43b49edfeb78",
   "metadata": {
    "papermill": {
     "duration": null,
     "end_time": null,
     "exception": null,
     "start_time": null,
     "status": "pending"
    },
    "tags": []
   },
   "outputs": [],
   "source": [
    "id_list = list(map(int, df_dmm_histo.id_dim_produit_stock_track_fk.unique()))\n",
    "placeholders = \", \".join([\"%s\"] * len(id_list))\n",
    "\n",
    "query = f\"\"\"\n",
    "DELETE FROM {schema_name}.stock_track_dmm_histo\n",
    "WHERE date_report = %s AND id_dim_produit_stock_track_fk IN ({placeholders});\n",
    "\"\"\"\n",
    "\n",
    "stock_sync_manager.civ_cursor.execute(query, [date_report] + list(id_list))\n",
    "stock_sync_manager.conn.commit()"
   ]
  },
  {
   "cell_type": "code",
   "execution_count": null,
   "id": "8ea960f0-b89f-4b63-ae20-4ebb25009608",
   "metadata": {
    "papermill": {
     "duration": null,
     "end_time": null,
     "exception": null,
     "start_time": null,
     "status": "pending"
    },
    "tags": []
   },
   "outputs": [],
   "source": [
    "assert df_dmm_histo.date_report.unique().shape[0] == 1\n",
    "\n",
    "stock_sync_manager.insert_dataframe_to_table(df_dmm_histo, \"stock_track_dmm_histo\")"
   ]
  },
  {
   "cell_type": "markdown",
   "id": "e131d312-d116-4302-98e5-c568b1e2e2a7",
   "metadata": {
    "papermill": {
     "duration": null,
     "end_time": null,
     "exception": null,
     "start_time": null,
     "status": "pending"
    },
    "tags": []
   },
   "source": [
    "## 3.`Consommations`"
   ]
  },
  {
   "cell_type": "markdown",
   "id": "705086d0-c23a-4856-bc5b-cd1ca88b99af",
   "metadata": {
    "papermill": {
     "duration": null,
     "end_time": null,
     "exception": null,
     "start_time": null,
     "status": "pending"
    },
    "tags": []
   },
   "source": [
    "### 3.1. `Consommations mois courant`"
   ]
  },
  {
   "cell_type": "code",
   "execution_count": null,
   "id": "2e0f6f54-86c1-4583-bb9a-a15dbd160f12",
   "metadata": {
    "papermill": {
     "duration": null,
     "end_time": null,
     "exception": null,
     "start_time": null,
     "status": "pending"
    },
    "tags": []
   },
   "outputs": [],
   "source": [
    "id_list = list(map(int, df_cmm_curent.id_dim_produit_stock_track_fk.unique()))\n",
    "placeholders = \", \".join([\"%s\"] * len(id_list))\n",
    "\n",
    "query = f\"\"\"\n",
    "DELETE FROM {schema_name}.stock_track_cmm\n",
    "WHERE date_report = %s AND id_dim_produit_stock_track_fk IN ({placeholders});\n",
    "\"\"\"\n",
    "\n",
    "stock_sync_manager.civ_cursor.execute(query, [date_report] + list(id_list))\n",
    "stock_sync_manager.conn.commit()"
   ]
  },
  {
   "cell_type": "code",
   "execution_count": null,
   "id": "42f04db9-4a08-4a21-a68e-5adf91cd5550",
   "metadata": {
    "papermill": {
     "duration": null,
     "end_time": null,
     "exception": null,
     "start_time": null,
     "status": "pending"
    },
    "tags": []
   },
   "outputs": [],
   "source": [
    "assert df_cmm_curent.date_report.unique().shape[0] == 1\n",
    "\n",
    "stock_sync_manager.insert_dataframe_to_table(df_cmm_curent, \"stock_track_cmm\")"
   ]
  },
  {
   "cell_type": "markdown",
   "id": "17810bb8-a058-442e-b3ff-e6e15d22e308",
   "metadata": {
    "papermill": {
     "duration": null,
     "end_time": null,
     "exception": null,
     "start_time": null,
     "status": "pending"
    },
    "tags": []
   },
   "source": [
    "### 3.2.`Consommations hitoriques considérées pour le mois en cours`"
   ]
  },
  {
   "cell_type": "code",
   "execution_count": null,
   "id": "6620b4be-6236-48cb-ac47-ab56e9970189",
   "metadata": {
    "papermill": {
     "duration": null,
     "end_time": null,
     "exception": null,
     "start_time": null,
     "status": "pending"
    },
    "tags": []
   },
   "outputs": [],
   "source": [
    "id_list = list(map(int, df_cmm_histo.id_dim_produit_stock_track_fk.unique()))\n",
    "placeholders = \", \".join([\"%s\"] * len(id_list))\n",
    "\n",
    "query = f\"\"\"\n",
    "DELETE FROM {schema_name}.stock_track_cmm_histo\n",
    "WHERE date_report = %s AND id_dim_produit_stock_track_fk IN ({placeholders});\n",
    "\"\"\"\n",
    "\n",
    "stock_sync_manager.civ_cursor.execute(query, [date_report] + list(id_list))\n",
    "stock_sync_manager.conn.commit()"
   ]
  },
  {
   "cell_type": "code",
   "execution_count": null,
   "id": "c259b171-ca49-4521-9228-885b23fd4b6c",
   "metadata": {
    "papermill": {
     "duration": null,
     "end_time": null,
     "exception": null,
     "start_time": null,
     "status": "pending"
    },
    "tags": []
   },
   "outputs": [],
   "source": [
    "assert df_dmm_histo.date_report.unique().shape[0] == 1\n",
    "\n",
    "stock_sync_manager.insert_dataframe_to_table(df_cmm_histo, \"stock_track_cmm_histo\")"
   ]
  },
  {
   "cell_type": "markdown",
   "id": "0c75f908-6510-42b7-9e4e-9d11f2a3caff",
   "metadata": {
    "papermill": {
     "duration": null,
     "end_time": null,
     "exception": null,
     "start_time": null,
     "status": "pending"
    },
    "tags": []
   },
   "source": [
    "## 4.`Stock détaillé`"
   ]
  },
  {
   "cell_type": "code",
   "execution_count": null,
   "id": "0b0b73f7-3add-486f-9dd3-e3d900aba61d",
   "metadata": {
    "papermill": {
     "duration": null,
     "end_time": null,
     "exception": null,
     "start_time": null,
     "status": "pending"
    },
    "tags": []
   },
   "outputs": [],
   "source": [
    "dim_produit = pd.read_sql(\n",
    "    f\"SELECT * FROM {schema_name}.dim_produit_stock_track where programme='{programme}'\",\n",
    "    stock_sync_manager.civ_engine,\n",
    ")"
   ]
  },
  {
   "cell_type": "code",
   "execution_count": null,
   "id": "c876a5cd-de28-494a-9e81-88fd9de9024f",
   "metadata": {
    "papermill": {
     "duration": null,
     "end_time": null,
     "exception": null,
     "start_time": null,
     "status": "pending"
    },
    "tags": []
   },
   "outputs": [],
   "source": [
    "code_col = [col for col in df_stock_detaille.columns if \"CODE\" in str(col).upper()][0]\n",
    "\n",
    "df_stock_detaille.rename(\n",
    "    columns={\n",
    "        code_col: \"code_produit\",\n",
    "        \"Désignation\": \"designation_produit\",\n",
    "        \"Emplacement\": \"emplacement\",\n",
    "        \"Date limite de consommation\": \"date_limite_consommation\",\n",
    "        \"Numéro Lot\": \"numero_lot\",\n",
    "        \"Sous lot (Programme)\": \"sous_lot_programme\",\n",
    "        \"Qté \\nPhysique\": \"qte_physique\",\n",
    "        \"Qté \\nlivrable\": \"qte_livrable\",\n",
    "        \"Unit\": \"unit\",\n",
    "    },\n",
    "    inplace=True,\n",
    ")\n",
    "df_stock_detaille = df_stock_detaille[\n",
    "    [\n",
    "        \"code_produit\",\n",
    "        \"designation_produit\",\n",
    "        \"emplacement\",\n",
    "        \"date_limite_consommation\",\n",
    "        \"numero_lot\",\n",
    "        \"sous_lot_programme\",\n",
    "        \"qte_physique\",\n",
    "        \"qte_livrable\",\n",
    "        \"unit\",\n",
    "    ]\n",
    "]\n",
    "\n",
    "df_stock_detaille = df_stock_detaille.loc[\n",
    "    df_stock_detaille.code_produit.isin(dim_produit.code_produit)\n",
    "]\n",
    "df_stock_detaille.head(1)"
   ]
  },
  {
   "cell_type": "code",
   "execution_count": null,
   "id": "c374989e-2d57-4ce8-8ea6-bb101672241e",
   "metadata": {
    "papermill": {
     "duration": null,
     "end_time": null,
     "exception": null,
     "start_time": null,
     "status": "pending"
    },
    "tags": []
   },
   "outputs": [],
   "source": [
    "df_stock_detaille = (\n",
    "    df_stock_detaille.groupby([\"code_produit\", \"date_limite_consommation\"])[\n",
    "        [\"qte_physique\", \"qte_livrable\"]\n",
    "    ]\n",
    "    .sum(min_count=1)\n",
    "    .reset_index()\n",
    ")\n",
    "\n",
    "df_stock_detaille = (\n",
    "    dim_produit[[\"id_dim_produit_stock_track_pk\", \"code_produit\"]]\n",
    "    .merge(df_stock_detaille, on=\"code_produit\")\n",
    "    .rename(columns={\"id_dim_produit_stock_track_pk\": \"id_dim_produit_stock_track_fk\"})\n",
    "    .drop(columns=[\"code_produit\"])\n",
    ")\n",
    "\n",
    "df_stock_detaille[\"date_report\"] = pd.to_datetime(date_report)"
   ]
  },
  {
   "cell_type": "code",
   "execution_count": null,
   "id": "8c4a6d98-e14d-4742-a91e-0a40ec701ee5",
   "metadata": {
    "papermill": {
     "duration": null,
     "end_time": null,
     "exception": null,
     "start_time": null,
     "status": "pending"
    },
    "tags": []
   },
   "outputs": [],
   "source": [
    "id_list = list(map(int, df_stock_detaille.id_dim_produit_stock_track_fk.unique()))\n",
    "placeholders = \", \".join([\"%s\"] * len(id_list))\n",
    "\n",
    "query = f\"\"\"\n",
    "DELETE FROM {schema_name}.stock_track_detaille\n",
    "WHERE date_report = '{date_report}' AND id_dim_produit_stock_track_fk IN ({placeholders});\n",
    "\"\"\"\n",
    "\n",
    "stock_sync_manager.civ_cursor.execute(query, list(id_list))\n",
    "stock_sync_manager.conn.commit()"
   ]
  },
  {
   "cell_type": "code",
   "execution_count": null,
   "id": "8f616ee2-8704-4eb2-a182-c65499a3b1dc",
   "metadata": {
    "papermill": {
     "duration": null,
     "end_time": null,
     "exception": null,
     "start_time": null,
     "status": "pending"
    },
    "tags": []
   },
   "outputs": [],
   "source": [
    "stock_sync_manager.insert_dataframe_to_table(df_stock_detaille, \"stock_track_detaille\")\n",
    "\n",
    "del df_stock_detaille"
   ]
  },
  {
   "cell_type": "markdown",
   "id": "fdec6090-24db-40ec-920d-854de310e532",
   "metadata": {
    "papermill": {
     "duration": null,
     "end_time": null,
     "exception": null,
     "start_time": null,
     "status": "pending"
    },
    "tags": []
   },
   "source": [
    "## 5. `Etat de stock de la NPSP`"
   ]
  },
  {
   "cell_type": "code",
   "execution_count": null,
   "id": "89d9ea73-f635-42f3-8364-d8205843044e",
   "metadata": {
    "papermill": {
     "duration": null,
     "end_time": null,
     "exception": null,
     "start_time": null,
     "status": "pending"
    },
    "tags": []
   },
   "outputs": [],
   "source": [
    "query = f\"\"\"\n",
    "DELETE FROM {schema_name}.stock_track_npsp\n",
    "WHERE date_report = '{date_report}' and programme='{programme}';\n",
    "\"\"\"\n",
    "\n",
    "stock_sync_manager.civ_cursor.execute(query)\n",
    "stock_sync_manager.conn.commit()"
   ]
  },
  {
   "cell_type": "code",
   "execution_count": null,
   "id": "fa060ab4-6bd8-44cd-bea2-8bbf1178782a",
   "metadata": {
    "papermill": {
     "duration": null,
     "end_time": null,
     "exception": null,
     "start_time": null,
     "status": "pending"
    },
    "tags": []
   },
   "outputs": [],
   "source": [
    "stock_sync_manager.insert_dataframe_to_table(\n",
    "    df_etat_stock_npsp, table_name=\"stock_track_npsp\", schema_name=\"suivi_stock\"\n",
    ")"
   ]
  },
  {
   "cell_type": "markdown",
   "id": "e36a108a-15d9-4256-ad6e-a62fcd2933eb",
   "metadata": {
    "papermill": {
     "duration": null,
     "end_time": null,
     "exception": null,
     "start_time": null,
     "status": "pending"
    },
    "tags": []
   },
   "source": [
    "## 6.`Prévision`\n",
    "<div class=\"alert alert-block alert-warning\">\n",
    "Avant de procéder au calcul des éléments de prévision, il est essentiel de s’assurer que les informations produits sont à jour.\n",
    "Cette actualisation doit être effectuée à l’aide du fichier de mapping fourni en paramètre du pipeline.\n",
    "Ce fichier joue un rôle clé : il établit la correspondance entre les différentes sources de données, garantissant ainsi la cohérence et la fiabilité des informations utilisées pour les prévisions.\n",
    "\n",
    "</div>"
   ]
  },
  {
   "cell_type": "code",
   "execution_count": null,
   "id": "1233e266-9e64-4468-b0e8-0a8997a922d8",
   "metadata": {
    "papermill": {
     "duration": null,
     "end_time": null,
     "exception": null,
     "start_time": null,
     "status": "pending"
    },
    "tags": []
   },
   "outputs": [],
   "source": [
    "stock_sync_manager.synchronize_product_metadata(df_plan_approv.copy(), programme)"
   ]
  },
  {
   "cell_type": "code",
   "execution_count": null,
   "id": "5951635c-2b33-4f6c-8ea0-713e2b7c8501",
   "metadata": {
    "papermill": {
     "duration": null,
     "end_time": null,
     "exception": null,
     "start_time": null,
     "status": "pending"
    },
    "tags": []
   },
   "outputs": [],
   "source": [
    "df_plan_approv['Date updated'] = df_plan_approv['DATE'].apply(lambda x: x.strftime(\"%b-%Y\"))"
   ]
  },
  {
   "cell_type": "code",
   "execution_count": null,
   "id": "df8760ec-9a46-4a8f-838a-fb757d50b3d1",
   "metadata": {
    "papermill": {
     "duration": null,
     "end_time": null,
     "exception": null,
     "start_time": null,
     "status": "pending"
    },
    "tags": []
   },
   "outputs": [],
   "source": [
    "df_prevision = compute_indicators.prevision.get_prevision_current_month(\n",
    "    df_plan_approv.copy(),\n",
    "    date_report,\n",
    "    programme,\n",
    "    stock_sync_manager.civ_engine,\n",
    "    schema_name=\"suivi_stock\",\n",
    ")"
   ]
  },
  {
   "cell_type": "code",
   "execution_count": null,
   "id": "6b5134dd-8cbc-4f9b-8671-af020adbb5cc",
   "metadata": {
    "papermill": {
     "duration": null,
     "end_time": null,
     "exception": null,
     "start_time": null,
     "status": "pending"
    },
    "tags": []
   },
   "outputs": [],
   "source": [
    "id_list = list(map(int, df_prevision.id_dim_produit_stock_track_fk.unique()))\n",
    "placeholders = \", \".join([\"%s\"] * len(id_list))\n",
    "\n",
    "query = f\"\"\"\n",
    "DELETE FROM {schema_name}.stock_track_prevision\n",
    "WHERE date_report = %s AND id_dim_produit_stock_track_fk IN ({placeholders});\n",
    "\"\"\"\n",
    "stock_sync_manager.civ_cursor.execute(query, [date_report] + list(id_list))\n",
    "stock_sync_manager.conn.commit()"
   ]
  },
  {
   "cell_type": "code",
   "execution_count": null,
   "id": "b2cba3cf-54d4-40a9-81e4-db8ffc8af896",
   "metadata": {
    "papermill": {
     "duration": null,
     "end_time": null,
     "exception": null,
     "start_time": null,
     "status": "pending"
    },
    "tags": []
   },
   "outputs": [],
   "source": [
    "stock_sync_manager.insert_dataframe_to_table(\n",
    "    df_prevision.drop(columns=[\"code_produit\", \"ancien_code\"]), \"stock_track_prevision\"\n",
    ")"
   ]
  },
  {
   "cell_type": "markdown",
   "id": "beed3506-66a5-4678-a064-cd62f6bd461c",
   "metadata": {
    "papermill": {
     "duration": null,
     "end_time": null,
     "exception": null,
     "start_time": null,
     "status": "pending"
    },
    "tags": []
   },
   "source": [
    "## 7.`Plan d'approvisionnement`"
   ]
  },
  {
   "cell_type": "code",
   "execution_count": null,
   "id": "915dd339-4537-4fdd-b9f2-f3f52bc7db68",
   "metadata": {
    "papermill": {
     "duration": null,
     "end_time": null,
     "exception": null,
     "start_time": null,
     "status": "pending"
    },
    "tags": []
   },
   "outputs": [],
   "source": [
    "query = f\"\"\"\n",
    "DELETE FROM {schema_name}.plan_approv\n",
    "WHERE date_report = '{date_report}' and programme='{programme}'\n",
    "\"\"\"\n",
    "stock_sync_manager.civ_cursor.execute(query)\n",
    "stock_sync_manager.conn.commit()"
   ]
  },
  {
   "cell_type": "code",
   "execution_count": null,
   "id": "8f6561dd-eac8-4500-bb97-c7cde0e0fdeb",
   "metadata": {
    "papermill": {
     "duration": null,
     "end_time": null,
     "exception": null,
     "start_time": null,
     "status": "pending"
    },
    "tags": []
   },
   "outputs": [],
   "source": [
    "df_pa = df_plan_approv.rename(\n",
    "    columns={\n",
    "        \"Standard product code\": \"standard_product_code\",\n",
    "        \"ID de produit QAT\": \"id_produit_qat\",\n",
    "        \"Produits\": \"designation\",\n",
    "        \"ID de l`envoi QAT\": \"id_envoi_qat\",\n",
    "        \"Agent d`approvisionnement\": \"centrale_achat\",\n",
    "        \"Source de financement\": \"source_financement\",\n",
    "        \"Status\": \"status\",\n",
    "        \"Quantite\": \"quantite\",\n",
    "        \"facteur_de_conversion_qat_sage\": \"facteur_conversion_qat_vers_sage\",\n",
    "        \"Quantité harmonisée (SAGE)\": \"quantite_harmonisee_sage\",\n",
    "        \"DATE\": \"date\",\n",
    "        \"Cout des Produits\": \"cout_produits\",\n",
    "        \"Couts du fret\": \"cout_fret\",\n",
    "        \"Couts totaux\": \"cout_total\",\n",
    "    },\n",
    ")\n",
    "\n",
    "df_pa = df_pa[\n",
    "    [\"standard_product_code\", \"id_produit_qat\",\n",
    "     \"designation\", \"id_envoi_qat\",\n",
    "     \"centrale_achat\", \"source_financement\",\n",
    "     \"status\", \"quantite\", \"facteur_conversion_qat_vers_sage\",\n",
    "     \"quantite_harmonisee_sage\", \"date\",\n",
    "     \"cout_produits\", \"cout_fret\", \"cout_total\",\n",
    "    ]\n",
    "]\n",
    "df_pa[\"date_report\"] = pd.to_datetime(date_report)\n",
    "df_pa[\"programme\"] = programme\n",
    "df_pa[\"standard_product_code\"] = df_pa[\"standard_product_code\"].fillna(0)\n",
    "\n",
    "df_pa.head(2)"
   ]
  },
  {
   "cell_type": "code",
   "execution_count": null,
   "id": "557e36d1-3a17-48d4-851d-96de9b3f3be5",
   "metadata": {
    "papermill": {
     "duration": null,
     "end_time": null,
     "exception": null,
     "start_time": null,
     "status": "pending"
    },
    "tags": []
   },
   "outputs": [],
   "source": [
    "stock_sync_manager.insert_dataframe_to_table(df_pa, table_name=\"plan_approv\", schema_name=\"suivi_stock\")"
   ]
  },
  {
   "cell_type": "code",
   "execution_count": null,
   "id": "59e7f509-0f62-4188-8648-bef9a221b661",
   "metadata": {
    "papermill": {
     "duration": null,
     "end_time": null,
     "exception": null,
     "start_time": null,
     "status": "pending"
    },
    "tags": []
   },
   "outputs": [],
   "source": [
    "del df_pa"
   ]
  },
  {
   "cell_type": "code",
   "execution_count": null,
   "id": "6a0e5239-2271-4793-b121-72e9633d1543",
   "metadata": {
    "papermill": {
     "duration": null,
     "end_time": null,
     "exception": null,
     "start_time": null,
     "status": "pending"
    },
    "tags": []
   },
   "outputs": [],
   "source": [
    "# Mise à jour des colonnes qui contienent des valeurs nan, NaN ou None malgré les mises à jours effectuée\n",
    "from database_operations import queries\n",
    "\n",
    "stock_sync_manager.civ_cursor.execute(\n",
    "    queries.QUERY_UPDATE.format(schema_name=schema_name)\n",
    ")\n",
    "stock_sync_manager.conn.commit()"
   ]
  },
  {
   "cell_type": "markdown",
   "id": "0a6af0d7-53cb-45f0-a174-afed7ecd72db",
   "metadata": {
    "papermill": {
     "duration": null,
     "end_time": null,
     "exception": null,
     "start_time": null,
     "status": "pending"
    },
    "tags": []
   },
   "source": [
    "# VI.📄Génération du fichier pour le mois spécifique"
   ]
  },
  {
   "cell_type": "markdown",
   "id": "a1e25950-2b53-4f3b-b1f8-9ec34c76367b",
   "metadata": {
    "papermill": {
     "duration": null,
     "end_time": null,
     "exception": null,
     "start_time": null,
     "status": "pending"
    },
    "tags": []
   },
   "source": [
    "## 1. Initialisation des paramètres utile"
   ]
  },
  {
   "cell_type": "code",
   "execution_count": null,
   "id": "30b49db8-06c5-4d9e-ae95-a24f0ee66888",
   "metadata": {
    "papermill": {
     "duration": null,
     "end_time": null,
     "exception": null,
     "start_time": null,
     "status": "pending"
    },
    "tags": []
   },
   "outputs": [],
   "source": [
    "date_report_format = date_report\n",
    "date_report = pd.to_datetime(date_report, format='%Y-%m-%d').strftime('%d/%m/%Y')\n",
    "f_month = gstf.get_current_variable(date_report)[1].replace(' ', '-')"
   ]
  },
  {
   "cell_type": "markdown",
   "id": "acace0b9-cbb6-4ee8-bc43-1fcd1c724a2d",
   "metadata": {
    "papermill": {
     "duration": null,
     "end_time": null,
     "exception": null,
     "start_time": null,
     "status": "pending"
    },
    "tags": []
   },
   "source": [
    "## 2. Importation des classeurs de bases"
   ]
  },
  {
   "cell_type": "code",
   "execution_count": null,
   "id": "689f25f3-1bf9-4c16-9569-61b0b7140cce",
   "metadata": {
    "papermill": {
     "duration": null,
     "end_time": null,
     "exception": null,
     "start_time": null,
     "status": "pending"
    },
    "tags": []
   },
   "outputs": [],
   "source": [
    "%%time\n",
    "# WorkBook Template de base\n",
    "wb_template = pyxl.load_workbook(\n",
    "    filename=\"/home/jovyan/workspace/Fichier Suivi de Stock/code/pipelines/generate_stock_tracking_file/Template Fichier Suivi de Stock/Fichier Suivi de Stock Template.xlsx\"\n",
    ")\n",
    "\n",
    "# WorkBook Etats de stock mensuels\n",
    "wb_etat_stock = pyxl.load_workbook(filename=fp_etat_mensuel)\n",
    "\n",
    "# WorkBook du Rapport Feedback\n",
    "wb_fbr = pyxl.load_workbook(\n",
    "    filename=f\"/home/jovyan/workspace/Rapport Feedback/code/pipelines/rapport feedback genere/{date_report_format[:4]}/RapportFeedBack-{unidecode(f_month)}.xlsx\"\n",
    ")"
   ]
  },
  {
   "cell_type": "markdown",
   "id": "30d3235c-40f4-4d76-9cbb-463cbf37cb26",
   "metadata": {
    "papermill": {
     "duration": null,
     "end_time": null,
     "exception": null,
     "start_time": null,
     "status": "pending"
    },
    "tags": []
   },
   "source": [
    "## 3. Mise à jour des données en se basant sur la source `Etat de Stock Mensuel`"
   ]
  },
  {
   "cell_type": "code",
   "execution_count": null,
   "id": "ef678267-2bdf-4fad-bdc6-837935e7c2bf",
   "metadata": {
    "papermill": {
     "duration": null,
     "end_time": null,
     "exception": null,
     "start_time": null,
     "status": "pending"
    },
    "tags": []
   },
   "outputs": [],
   "source": [
    "%%time\n",
    "wb_template = gstf.update_sheets_etat_mensuel(\n",
    "    wb_etat_stock, wb_template, programme, date_report\n",
    ")"
   ]
  },
  {
   "cell_type": "markdown",
   "id": "40b4f4f0-6a5d-4685-9b86-b74e15424ed7",
   "metadata": {
    "papermill": {
     "duration": null,
     "end_time": null,
     "exception": null,
     "start_time": null,
     "status": "pending"
    },
    "tags": []
   },
   "source": [
    "## 4. Mise à jour des données en se basant sur la source `Rapport Feedback`\n",
    "\n",
    "Pour le faire on va se baser sur les inputs au préalable du fichier RapportFeebback généré et présent dans les fichiers d'OH pour le mois courant"
   ]
  },
  {
   "cell_type": "code",
   "execution_count": null,
   "id": "aca0a3a7-c102-4200-8604-357171092ab5",
   "metadata": {
    "papermill": {
     "duration": null,
     "end_time": null,
     "exception": null,
     "start_time": null,
     "status": "pending"
    },
    "tags": []
   },
   "outputs": [],
   "source": [
    "df_etat_stock = pd.read_excel(\n",
    "    f\"/home/jovyan/workspace/Rapport Feedback/code/pipelines/rapport feedback genere/{date_report_format[:4]}/RapportFeedBack-{unidecode(f_month)}.xlsx\",\n",
    "    sheet_name=\"ETAT DU STOCK\",\n",
    ")\n",
    "\n",
    "df_etat_stock.head(2)"
   ]
  },
  {
   "cell_type": "code",
   "execution_count": null,
   "id": "fcabb659-b3ab-42f0-b5bc-fcec276f97c3",
   "metadata": {
    "papermill": {
     "duration": null,
     "end_time": null,
     "exception": null,
     "start_time": null,
     "status": "pending"
    },
    "tags": []
   },
   "outputs": [],
   "source": [
    "%%time\n",
    "\n",
    "wb_template = gstf.update_sheet_etat_stock(wb_template, df_etat_stock.loc[df_etat_stock.PROGRAMME==programme].copy())\n",
    "\n",
    "wb_template = gstf.update_sheet_stock_region(wb_template, wb_fbr, programme)"
   ]
  },
  {
   "cell_type": "markdown",
   "id": "aa2d9f5c-ff21-4dc3-8509-207e0f632a6e",
   "metadata": {
    "papermill": {
     "duration": null,
     "end_time": null,
     "exception": null,
     "start_time": null,
     "status": "pending"
    },
    "tags": []
   },
   "source": [
    "## 4. Mise à jour des informations feuille `Annexe 1 - Consolidation`"
   ]
  },
  {
   "cell_type": "code",
   "execution_count": null,
   "id": "1448ebc3-75d4-4063-8d8d-daba9b9c2c65",
   "metadata": {
    "papermill": {
     "duration": null,
     "end_time": null,
     "exception": null,
     "start_time": null,
     "status": "pending"
    },
    "tags": []
   },
   "outputs": [],
   "source": [
    "wb_template = gstf.update_sheet_annexe_1(\n",
    "    wb_template, programme, schema_name, stock_sync_manager.civ_engine, date_report\n",
    ")"
   ]
  },
  {
   "cell_type": "markdown",
   "id": "17d87336-319e-4c52-bc10-ca92f55a36bd",
   "metadata": {
    "papermill": {
     "duration": null,
     "end_time": null,
     "exception": null,
     "start_time": null,
     "status": "pending"
    },
    "tags": []
   },
   "source": [
    "## 5. Mise à jour des données du `Plan d'approvisionnement`"
   ]
  },
  {
   "cell_type": "code",
   "execution_count": null,
   "id": "896a4775-5a20-497e-9642-99b199e90a53",
   "metadata": {
    "papermill": {
     "duration": null,
     "end_time": null,
     "exception": null,
     "start_time": null,
     "status": "pending"
    },
    "scrolled": true,
    "tags": []
   },
   "outputs": [],
   "source": [
    "df_pa = df_plan_approv.rename(\n",
    "    columns={\n",
    "        \"Agent d`approvisionnement\": \"Centrale d'achat\",\n",
    "        \"Source de financement\": \"Source Financement\",\n",
    "        \"facteur_de_conversion_qat_sage\": \"Facteur de conversion de QAT vers SAGE\",\n",
    "        \"cout_unitaire_moyen_qat\": \"Coût unitaire moyen (en dollar)\",\n",
    "        \"acronym\": \"Acronym\",\n",
    "    }\n",
    ")\n",
    "\n",
    "df_pa[\"DATE\"] = pd.to_datetime(df_pa[\"DATE\"], format='%d-%b-%Y', errors='coerce')"
   ]
  },
  {
   "cell_type": "code",
   "execution_count": null,
   "id": "7b64bf01-482b-473e-82df-9d96345e04cf",
   "metadata": {
    "papermill": {
     "duration": null,
     "end_time": null,
     "exception": null,
     "start_time": null,
     "status": "pending"
    },
    "tags": []
   },
   "outputs": [],
   "source": [
    "%%time\n",
    "wb_template = gstf.update_sheet_plan_approv(wb_template, df_pa)"
   ]
  },
  {
   "cell_type": "markdown",
   "id": "0e5eec95-ae01-435c-994f-597b583151ca",
   "metadata": {
    "papermill": {
     "duration": null,
     "end_time": null,
     "exception": null,
     "start_time": null,
     "status": "pending"
    },
    "tags": []
   },
   "source": [
    "## 5. Mise à jour des informations  en se basant sur la source `Annexe 2 - Suivi de Stock`"
   ]
  },
  {
   "cell_type": "code",
   "execution_count": null,
   "id": "a8cbbd89-50c1-4467-b616-46071483927c",
   "metadata": {
    "papermill": {
     "duration": null,
     "end_time": null,
     "exception": null,
     "start_time": null,
     "status": "pending"
    },
    "tags": []
   },
   "outputs": [],
   "source": [
    "%%time\n",
    "wb_template = gstf.update_sheet_annexe_2(wb_template, df_pa, date_report)"
   ]
  },
  {
   "cell_type": "markdown",
   "id": "23e8d193-e8ee-4e13-96a4-dca4dcd5cae5",
   "metadata": {
    "papermill": {
     "duration": null,
     "end_time": null,
     "exception": null,
     "start_time": null,
     "status": "pending"
    },
    "tags": []
   },
   "source": [
    "## 6. Mise à jour des données en se basant sur la source `Prévision`"
   ]
  },
  {
   "cell_type": "code",
   "execution_count": null,
   "id": "907dc386-5f20-42a9-8bc4-a6033963db23",
   "metadata": {
    "papermill": {
     "duration": null,
     "end_time": null,
     "exception": null,
     "start_time": null,
     "status": "pending"
    },
    "tags": []
   },
   "outputs": [],
   "source": [
    "df_prod = dim_produit[\n",
    "    [\"code_produit\", \"type_produit\", \"designation\", \"designation_acronym\"]\n",
    "]\n",
    "\n",
    "df_prod[\"designation\"] = df_prod.apply(\n",
    "    lambda row: row[\"designation_acronym\"]\n",
    "    if not pd.isna(row[\"designation_acronym\"])\n",
    "    else row[\"designation\"],\n",
    "    axis=1,\n",
    ")\n",
    "df_prod = df_prod.drop(columns=\"designation_acronym\")"
   ]
  },
  {
   "cell_type": "code",
   "execution_count": null,
   "id": "5390c300-62ab-40f6-af69-aed9c15b385c",
   "metadata": {
    "papermill": {
     "duration": null,
     "end_time": null,
     "exception": null,
     "start_time": null,
     "status": "pending"
    },
    "tags": []
   },
   "outputs": [],
   "source": [
    "wb_template = gstf.update_sheet_prevision(wb_template, date_report, df_prod)"
   ]
  },
  {
   "cell_type": "markdown",
   "id": "1630b9b1-f136-4538-84c8-bb3b1c40e1c4",
   "metadata": {
    "papermill": {
     "duration": null,
     "end_time": null,
     "exception": null,
     "start_time": null,
     "status": "pending"
    },
    "tags": []
   },
   "source": [
    "## 7. Mise à jour de certains éléments de la feuille `Rapport`"
   ]
  },
  {
   "cell_type": "code",
   "execution_count": null,
   "id": "cbd158de-45e8-4f68-825e-825ac2154834",
   "metadata": {
    "papermill": {
     "duration": null,
     "end_time": null,
     "exception": null,
     "start_time": null,
     "status": "pending"
    },
    "tags": []
   },
   "outputs": [],
   "source": [
    "ws_rapport = wb_template['Rapport']\n",
    "ws_rapport['D4'].value = programme\n",
    "ws_rapport['D6'].value = f_month.split('-')[0].capitalize()\n",
    "ws_rapport['E6'].value = date_report_format[:4]"
   ]
  },
  {
   "cell_type": "markdown",
   "id": "d054f9c2-8975-4b31-baac-fc9b3629773d",
   "metadata": {
    "papermill": {
     "duration": null,
     "end_time": null,
     "exception": null,
     "start_time": null,
     "status": "pending"
    },
    "tags": []
   },
   "source": [
    "# VII. Exportation du Fichier Suivi de Stock vers le `drive` et la `BD`"
   ]
  },
  {
   "cell_type": "code",
   "execution_count": null,
   "id": "f44d8752-d621-4c44-801e-c364c59ea156",
   "metadata": {
    "papermill": {
     "duration": null,
     "end_time": null,
     "exception": null,
     "start_time": null,
     "status": "pending"
    },
    "tags": []
   },
   "outputs": [],
   "source": [
    "%%time\n",
    "# Sauvegarde du fichier dans un repertoire courant\n",
    "dest_file = (\n",
    "    Path(workspace.files_path)\n",
    "    / f\"Fichier Suivi de Stock/code/pipelines/fichier suivi de stock genere/{programme}/{date_report_format[:4]}\"\n",
    ")\n",
    "\n",
    "dest_file.mkdir(exist_ok=True, parents=True)\n",
    "\n",
    "dest_file = dest_file / f\"Fichier Suivi de Stock {programme}-{f_month}.xlsx\"\n",
    "\n",
    "wb_template.save(dest_file)"
   ]
  },
  {
   "cell_type": "code",
   "execution_count": null,
   "id": "2e46bee1-54f4-48c9-986d-71ea1697f1dd",
   "metadata": {
    "papermill": {
     "duration": null,
     "end_time": null,
     "exception": null,
     "start_time": null,
     "status": "pending"
    },
    "tags": []
   },
   "outputs": [],
   "source": [
    "download_url = ggdrive.upload_and_return_link(\n",
    "    dest_file.as_posix(),\n",
    "    date_report_format,\n",
    ")"
   ]
  },
  {
   "cell_type": "code",
   "execution_count": null,
   "id": "f1c90fd1-74f7-4b1f-b906-093975ea323e",
   "metadata": {
    "papermill": {
     "duration": null,
     "end_time": null,
     "exception": null,
     "start_time": null,
     "status": "pending"
    },
    "tags": []
   },
   "outputs": [],
   "source": [
    "df_download_url = pd.DataFrame(\n",
    "    data=[\n",
    "        {\n",
    "            \"programme\": programme,\n",
    "            \"download_url\": download_url,\n",
    "            \"date_report\": date_report_format,\n",
    "        }\n",
    "    ]\n",
    ")\n",
    "\n",
    "df_download_url.date_report = df_download_url.date_report.apply(\n",
    "    lambda x: pd.to_datetime(str(x)[:10], format=\"%Y-%m-%d\")\n",
    ")"
   ]
  },
  {
   "cell_type": "code",
   "execution_count": null,
   "id": "01de3ddf-fc73-43bc-871f-c78aa90f5d37",
   "metadata": {
    "papermill": {
     "duration": null,
     "end_time": null,
     "exception": null,
     "start_time": null,
     "status": "pending"
    },
    "scrolled": true,
    "tags": []
   },
   "outputs": [],
   "source": [
    "stock_sync_manager.synchronize_table_data(\n",
    "    df_download_url,\n",
    "    table_name=\"share_link\",\n",
    "    merge_keys=[\"programme\", \"date_report\"],\n",
    "    programme=programme,\n",
    ")"
   ]
  }
 ],
 "metadata": {
  "kernelspec": {
   "display_name": "Python 3 (ipykernel)",
   "language": "python",
   "name": "python3"
  },
  "language_info": {
   "codemirror_mode": {
    "name": "ipython",
    "version": 3
   },
   "file_extension": ".py",
   "mimetype": "text/x-python",
   "name": "python",
   "nbconvert_exporter": "python",
   "pygments_lexer": "ipython3",
   "version": "3.12.8"
  },
  "papermill": {
   "default_parameters": {},
   "duration": 142.633602,
   "end_time": "2025-05-14T11:06:53.076446",
   "environment_variables": {},
   "exception": true,
   "input_path": "/home/hexa/workspace/Fichier Suivi de Stock/code/pipelines/mise a jour fichier suivi stock.ipynb",
   "output_path": "/home/hexa/workspace/Fichier Suivi de Stock/code/pipelines/output_notebook_execution/maj fichier suivi stock/PNLS/output_2025-05-14.ipynb",
   "parameters": {
    "fp_etat_mensuel": "Etat du stock et de distribution PNLS fin Mars 2025.xlsx",
    "fp_map_prod": "Mapping QAT_SAGEX3.xlsx",
    "fp_plan_approv": "Mars 2025",
    "month_report": "Mars",
    "programme": "PNLS",
    "year_report": 2025
   },
   "start_time": "2025-05-14T11:04:30.442844",
   "version": "2.6.0"
  }
 },
 "nbformat": 4,
 "nbformat_minor": 5
}