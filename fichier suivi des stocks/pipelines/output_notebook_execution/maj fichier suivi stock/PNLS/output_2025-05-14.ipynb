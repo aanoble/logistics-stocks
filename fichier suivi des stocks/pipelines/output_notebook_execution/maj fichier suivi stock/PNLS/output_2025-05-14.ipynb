{
 "cells": [
  {
   "cell_type": "markdown",
   "id": "6a2244e4-3226-4d02-9910-ca30f2ed18b5",
   "metadata": {
    "papermill": {
     "duration": 0.2092,
     "end_time": "2025-05-14T15:57:28.190649",
     "exception": false,
     "start_time": "2025-05-14T15:57:27.981449",
     "status": "completed"
    },
    "tags": []
   },
   "source": [
    "# I. Importation des bibliothèques"
   ]
  },
  {
   "cell_type": "code",
   "execution_count": 1,
   "id": "2ed56fcd-16c9-4916-98c6-aeb22c88b1c4",
   "metadata": {
    "execution": {
     "iopub.execute_input": "2025-05-14T15:57:28.587000Z",
     "iopub.status.busy": "2025-05-14T15:57:28.585825Z",
     "iopub.status.idle": "2025-05-14T15:57:32.609270Z",
     "shell.execute_reply": "2025-05-14T15:57:32.607931Z"
    },
    "papermill": {
     "duration": 4.22462,
     "end_time": "2025-05-14T15:57:32.611797",
     "exception": false,
     "start_time": "2025-05-14T15:57:28.387177",
     "status": "completed"
    },
    "tags": []
   },
   "outputs": [],
   "source": [
    "%%capture\n",
    "!pip install google-api-python-client google-auth-httplib2 google-auth-oauthlib unidecode"
   ]
  },
  {
   "cell_type": "code",
   "execution_count": 2,
   "id": "c8ef43d4-7fec-400f-86ce-30991fb1b709",
   "metadata": {
    "editable": true,
    "execution": {
     "iopub.execute_input": "2025-05-14T15:57:33.030173Z",
     "iopub.status.busy": "2025-05-14T15:57:33.029679Z",
     "iopub.status.idle": "2025-05-14T15:57:38.014860Z",
     "shell.execute_reply": "2025-05-14T15:57:38.013789Z"
    },
    "papermill": {
     "duration": 5.191122,
     "end_time": "2025-05-14T15:57:38.016695",
     "exception": false,
     "start_time": "2025-05-14T15:57:32.825573",
     "status": "completed"
    },
    "slideshow": {
     "slide_type": ""
    },
    "tags": []
   },
   "outputs": [],
   "source": [
    "%%capture\n",
    "import warnings\n",
    "\n",
    "warnings.filterwarnings(\"ignore\")\n",
    "\n",
    "import os\n",
    "from pathlib import Path\n",
    "\n",
    "import pandas as pd\n",
    "from openhexa.sdk import workspace\n",
    "from unidecode import unidecode\n",
    "\n",
    "pd.set_option(\"display.max_columns\", None)\n",
    "\n",
    "try:\n",
    "    import openpyxl as pyxl\n",
    "    from efc.interfaces.iopenpyxl import OpenpyxlInterface\n",
    "    from fuzzywuzzy import fuzz, process\n",
    "except ImportError or ModuleNotFoundError:\n",
    "    !pip install --quiet fuzzywuzzy python-Levenshtein excel-formulas-calculator\n",
    "    import openpyxl as pyxl\n",
    "    from efc.interfaces.iopenpyxl import OpenpyxlInterface"
   ]
  },
  {
   "cell_type": "markdown",
   "id": "8dab03ab-9414-4670-befc-42b395b44059",
   "metadata": {
    "papermill": {
     "duration": 0.181504,
     "end_time": "2025-05-14T15:57:38.411926",
     "exception": false,
     "start_time": "2025-05-14T15:57:38.230422",
     "status": "completed"
    },
    "tags": []
   },
   "source": [
    "## 1. Rafraîchissement des bibliothèques"
   ]
  },
  {
   "cell_type": "code",
   "execution_count": 3,
   "id": "3a21bbdd-e895-4122-91bc-553d8ae02123",
   "metadata": {
    "editable": true,
    "execution": {
     "iopub.execute_input": "2025-05-14T15:57:41.024510Z",
     "iopub.status.busy": "2025-05-14T15:57:41.022844Z",
     "iopub.status.idle": "2025-05-14T15:57:44.993385Z",
     "shell.execute_reply": "2025-05-14T15:57:44.992424Z"
    },
    "papermill": {
     "duration": 6.364444,
     "end_time": "2025-05-14T15:57:44.995175",
     "exception": false,
     "start_time": "2025-05-14T15:57:38.630731",
     "status": "completed"
    },
    "slideshow": {
     "slide_type": ""
    },
    "tags": []
   },
   "outputs": [],
   "source": [
    "%%capture\n",
    "# Ajout du chemin d'accès pour l'importation des bibliothèques\n",
    "os.chdir(Path(workspace.files_path, \"Fichier Suivi de Stock/code/pipelines\"))\n",
    "\n",
    "from importlib import reload\n",
    "\n",
    "import compute_indicators\n",
    "import export_file_to_google_drive as ggdrive\n",
    "import generate_stock_tracking_file as gstf\n",
    "\n",
    "# Importation des réquêtes sql\n",
    "from compute_indicators.queries import *\n",
    "from database_operations import stock_sync_manager\n",
    "\n",
    "# Reload modules\n",
    "reload(compute_indicators)\n",
    "reload(stock_sync_manager)\n",
    "reload(gstf)\n",
    "reload(ggdrive)"
   ]
  },
  {
   "cell_type": "markdown",
   "id": "e26b3de7-b38f-4e98-a2a4-a88374dd84b4",
   "metadata": {
    "papermill": {
     "duration": 0.189131,
     "end_time": "2025-05-14T15:57:45.366236",
     "exception": false,
     "start_time": "2025-05-14T15:57:45.177105",
     "status": "completed"
    },
    "tags": []
   },
   "source": [
    "# II. Définition des paramètres"
   ]
  },
  {
   "cell_type": "markdown",
   "id": "f4ff0a57-7b4d-48cb-bd95-b05c42e9b876",
   "metadata": {
    "papermill": {
     "duration": 0.65038,
     "end_time": "2025-05-14T15:57:46.216489",
     "exception": false,
     "start_time": "2025-05-14T15:57:45.566109",
     "status": "completed"
    },
    "tags": []
   },
   "source": [
    "## 1. Variables requises pour la conception du fichier de suivi de stock\n",
    "\n",
    "1. **Mois de création du rapport** : Si le processus est bien défini, cette valeur peut être automatisée. Sinon, elle sera fournie en tant qu'entrée du pipeline.\n",
    "\n",
    "2. **Programme** : Le programme concerné pour lequel le fichier de suivi de stock est généré.\n",
    "\n",
    "3. **Fichier État Mensuel** : Fichier transmis mensuellement par la N-PSP (source : SAGE X3).\n",
    "\n",
    "4. **Fichier Plan d'Approvisionnement** : Utilisé pour certains calculs, notamment dans la feuille « Prévision ». Ce fichier est généralement récupéré depuis la source QAT.\n",
    "\n",
    "5. **Fichier de mappage des produits** : Fichier assurant la correspondance entre les produits de SAGE X3 et ceux de QAT."
   ]
  },
  {
   "cell_type": "code",
   "execution_count": 4,
   "id": "5d4117a6-ce2c-4aff-b0ac-3e5dc57a2319",
   "metadata": {
    "editable": true,
    "execution": {
     "iopub.execute_input": "2025-05-14T15:57:46.681203Z",
     "iopub.status.busy": "2025-05-14T15:57:46.680212Z",
     "iopub.status.idle": "2025-05-14T15:57:46.685848Z",
     "shell.execute_reply": "2025-05-14T15:57:46.684990Z"
    },
    "papermill": {
     "duration": 0.251549,
     "end_time": "2025-05-14T15:57:46.687356",
     "exception": false,
     "start_time": "2025-05-14T15:57:46.435807",
     "status": "completed"
    },
    "slideshow": {
     "slide_type": ""
    },
    "tags": [
     "parameters"
    ]
   },
   "outputs": [],
   "source": [
    "month_report, year_report, programme, fp_etat_mensuel, fp_plan_approv, fp_map_prod = (\n",
    "    \"Mars\",\n",
    "    2025,\n",
    "    \"PNLP\",\n",
    "    \"Etat du stock et de distribution PNLP fin Mars 2025.xlsx\",\n",
    "    \"Détails de l`envoiMar. 2025 ~ Dec. 2026.csv\",\n",
    "    \"Mapping QAT_SAGEX3.xlsx\",\n",
    ")"
   ]
  },
  {
   "cell_type": "code",
   "execution_count": 5,
   "id": "088f89d1",
   "metadata": {
    "execution": {
     "iopub.execute_input": "2025-05-14T15:57:47.053133Z",
     "iopub.status.busy": "2025-05-14T15:57:47.052645Z",
     "iopub.status.idle": "2025-05-14T15:57:47.057612Z",
     "shell.execute_reply": "2025-05-14T15:57:47.056714Z"
    },
    "papermill": {
     "duration": 0.194069,
     "end_time": "2025-05-14T15:57:47.059185",
     "exception": false,
     "start_time": "2025-05-14T15:57:46.865116",
     "status": "completed"
    },
    "tags": [
     "injected-parameters"
    ]
   },
   "outputs": [],
   "source": [
    "# Parameters\n",
    "month_report = \"Mars\"\n",
    "year_report = 2025\n",
    "programme = \"PNLS\"\n",
    "fp_etat_mensuel = \"Etat du stock et de distribution PNLS fin Mars 2025.xlsx\"\n",
    "fp_plan_approv = \"Mars 2025\"\n",
    "fp_map_prod = \"Mapping QAT_SAGEX3.xlsx\"\n"
   ]
  },
  {
   "cell_type": "code",
   "execution_count": 6,
   "id": "7ffc244d-b753-49f8-8240-825a1e982c0b",
   "metadata": {
    "editable": true,
    "execution": {
     "iopub.execute_input": "2025-05-14T15:57:47.475816Z",
     "iopub.status.busy": "2025-05-14T15:57:47.474843Z",
     "iopub.status.idle": "2025-05-14T15:57:47.485089Z",
     "shell.execute_reply": "2025-05-14T15:57:47.484034Z"
    },
    "papermill": {
     "duration": 0.243025,
     "end_time": "2025-05-14T15:57:47.486576",
     "exception": false,
     "start_time": "2025-05-14T15:57:47.243551",
     "status": "completed"
    },
    "slideshow": {
     "slide_type": ""
    },
    "tags": []
   },
   "outputs": [],
   "source": [
    "month_export, date_report = month_report, compute_indicators.utils.format_date(month_report, year_report)\n",
    "\n",
    "date_report_prec = (pd.to_datetime(date_report).replace(day=1) - pd.offsets.MonthBegin()).strftime('%Y-%m-%d')"
   ]
  },
  {
   "cell_type": "markdown",
   "id": "6891eb05-f888-4c75-bdd0-749559cc7ca1",
   "metadata": {
    "papermill": {
     "duration": 2.169759,
     "end_time": "2025-05-14T15:57:52.720752",
     "exception": false,
     "start_time": "2025-05-14T15:57:50.550993",
     "status": "completed"
    },
    "tags": []
   },
   "source": [
    "## 2. Test pour s'assurer que cette date n'existe pas déjà dans la base de données"
   ]
  },
  {
   "cell_type": "code",
   "execution_count": 7,
   "id": "8b840e61-7ee1-478a-a6c3-c5b614e25f8b",
   "metadata": {
    "execution": {
     "iopub.execute_input": "2025-05-14T15:57:58.675176Z",
     "iopub.status.busy": "2025-05-14T15:57:58.674110Z",
     "iopub.status.idle": "2025-05-14T15:57:58.775426Z",
     "shell.execute_reply": "2025-05-14T15:57:58.774539Z"
    },
    "papermill": {
     "duration": 0.326709,
     "end_time": "2025-05-14T15:57:58.776776",
     "exception": false,
     "start_time": "2025-05-14T15:57:58.450067",
     "status": "completed"
    },
    "tags": []
   },
   "outputs": [
    {
     "name": "stdout",
     "output_type": "stream",
     "text": [
      "Connexion à la base de données établie avec succès\n"
     ]
    }
   ],
   "source": [
    "stock_sync_manager.initialize_database_connection()\n",
    "\n",
    "schema_name = \"suivi_stock\""
   ]
  },
  {
   "cell_type": "code",
   "execution_count": 8,
   "id": "4f4adfa5-719d-419c-8352-ad2e4dcdab8c",
   "metadata": {
    "execution": {
     "iopub.execute_input": "2025-05-14T15:57:59.181483Z",
     "iopub.status.busy": "2025-05-14T15:57:59.181118Z",
     "iopub.status.idle": "2025-05-14T15:57:59.272789Z",
     "shell.execute_reply": "2025-05-14T15:57:59.271717Z"
    },
    "papermill": {
     "duration": 0.30106,
     "end_time": "2025-05-14T15:57:59.274652",
     "exception": false,
     "start_time": "2025-05-14T15:57:58.973592",
     "status": "completed"
    },
    "tags": []
   },
   "outputs": [],
   "source": [
    "# Ici il faudrait également s'assurer que le mois précédent est bien présent à l'intérieur de la base de données au cas où on arriverait à se tromper sur le mois de conception du fichier\n",
    "df_ = stock_sync_manager.get_table_data(\n",
    "    query=f\"\"\"\n",
    "    select * \n",
    "    from {schema_name}.stock_track st \n",
    "    inner join {schema_name}.dim_produit_stock_track prod ON st.id_dim_produit_stock_track_fk = prod.id_dim_produit_stock_track_pk\n",
    "    where prod.programme='{programme}' and date_report='{date_report_prec}'\n",
    "    limit 2\n",
    "    \"\"\"\n",
    ")\n",
    "\n",
    "assert (\n",
    "    df_.shape[0] != 0\n",
    "), f\"Le mois précédent {date_report_prec} n'est pas présent dans la base de données locale êtes-vous sûre d'avoir choisir le bon mois de conception du fichier.\"\n",
    "\n",
    "del df_"
   ]
  },
  {
   "cell_type": "markdown",
   "id": "f89423e0-797c-4c0a-8ad6-1addbd0a7e3e",
   "metadata": {
    "papermill": {
     "duration": 0.180282,
     "end_time": "2025-05-14T15:57:59.641463",
     "exception": false,
     "start_time": "2025-05-14T15:57:59.461181",
     "status": "completed"
    },
    "tags": []
   },
   "source": [
    "# III.📥Importation des Données\n",
    "  \n",
    "L'utilisateur doit veiller à ce que les fichiers respectent le format attendu et soient placés dans les répertoires dédiés avant de procéder au traitement."
   ]
  },
  {
   "cell_type": "markdown",
   "id": "73015d7f-f3c2-4b44-96b6-1046109dbf21",
   "metadata": {
    "papermill": {
     "duration": 0.857426,
     "end_time": "2025-05-14T15:58:02.717310",
     "exception": false,
     "start_time": "2025-05-14T15:58:01.859884",
     "status": "completed"
    },
    "tags": []
   },
   "source": [
    "## 📌1. Importation du fichier `Etat de Stock Mensuel`\n",
    "\n",
    "- **Format requis :** Assurez-vous que le fichier respecte le template standard défini.\n",
    "- **Emplacement du fichier :** Le fichier doit être placé dans le répertoire dédié :  \n",
    "  **`Fichier Suivi de Stock/data/<programme>/Etat de Stock Mensuel`**\n",
    "  \n",
    "- **En cas d'erreur :**  \n",
    "  - Vérifiez que le fichier est bien présent dans le répertoire.  \n",
    "  - Assurez-vous que toutes les colonnes requises sont bien renseignées.  \n",
    "  - Contrôlez que le fichier est bien accessible et non corrompu."
   ]
  },
  {
   "cell_type": "code",
   "execution_count": 9,
   "id": "d02f7b2e-14f1-4174-95b4-c6cdaea297be",
   "metadata": {
    "execution": {
     "iopub.execute_input": "2025-05-14T15:58:08.436844Z",
     "iopub.status.busy": "2025-05-14T15:58:08.435861Z",
     "iopub.status.idle": "2025-05-14T15:58:09.043910Z",
     "shell.execute_reply": "2025-05-14T15:58:09.043134Z"
    },
    "papermill": {
     "duration": 5.387659,
     "end_time": "2025-05-14T15:58:09.046011",
     "exception": false,
     "start_time": "2025-05-14T15:58:03.658352",
     "status": "completed"
    },
    "tags": []
   },
   "outputs": [],
   "source": [
    "fp_etat_mensuel = (\n",
    "    Path(workspace.files_path)\n",
    "    / f\"Fichier Suivi de Stock/data/{programme}/Etat de Stock Mensuel\"\n",
    "    / Path(fp_etat_mensuel).name\n",
    ")\n",
    "\n",
    "sheetnames = pd.ExcelFile(fp_etat_mensuel).sheet_names"
   ]
  },
  {
   "cell_type": "markdown",
   "id": "36d21a7b-10c2-4c81-bc38-2a1dcf0916a0",
   "metadata": {
    "papermill": {
     "duration": 0.181799,
     "end_time": "2025-05-14T15:58:09.465053",
     "exception": false,
     "start_time": "2025-05-14T15:58:09.283254",
     "status": "completed"
    },
    "tags": []
   },
   "source": [
    "## 📌2. Importation de la feuille `Etat de stock de la NPSP`"
   ]
  },
  {
   "cell_type": "code",
   "execution_count": 10,
   "id": "f81ccd62-7a85-4830-a782-0721f40ed33a",
   "metadata": {
    "execution": {
     "iopub.execute_input": "2025-05-14T15:58:09.845329Z",
     "iopub.status.busy": "2025-05-14T15:58:09.844907Z",
     "iopub.status.idle": "2025-05-14T15:58:10.137673Z",
     "shell.execute_reply": "2025-05-14T15:58:10.137007Z"
    },
    "papermill": {
     "duration": 0.477159,
     "end_time": "2025-05-14T15:58:10.139018",
     "exception": false,
     "start_time": "2025-05-14T15:58:09.661859",
     "status": "completed"
    },
    "tags": []
   },
   "outputs": [
    {
     "data": {
      "text/html": [
       "<div>\n",
       "<style scoped>\n",
       "    .dataframe tbody tr th:only-of-type {\n",
       "        vertical-align: middle;\n",
       "    }\n",
       "\n",
       "    .dataframe tbody tr th {\n",
       "        vertical-align: top;\n",
       "    }\n",
       "\n",
       "    .dataframe thead th {\n",
       "        text-align: right;\n",
       "    }\n",
       "</style>\n",
       "<table border=\"1\" class=\"dataframe\">\n",
       "  <thead>\n",
       "    <tr style=\"text-align: right;\">\n",
       "      <th></th>\n",
       "      <th>date_report</th>\n",
       "      <th>code_produit</th>\n",
       "      <th>designation</th>\n",
       "      <th>contenance</th>\n",
       "      <th>dmm</th>\n",
       "      <th>traceurs</th>\n",
       "      <th>stock_theorique_bke</th>\n",
       "      <th>stock_theorique_abj</th>\n",
       "      <th>stock_theorique_central</th>\n",
       "      <th>stock_theorique_fin_mois</th>\n",
       "      <th>msd</th>\n",
       "      <th>statut_stock</th>\n",
       "      <th>programme</th>\n",
       "    </tr>\n",
       "  </thead>\n",
       "  <tbody>\n",
       "    <tr>\n",
       "      <th>2</th>\n",
       "      <td>2025-03-01</td>\n",
       "      <td>3050188.0</td>\n",
       "      <td>COTRIMOXAZOLE 120 (TRIMETHOPRIME 20+SULFAMETHO...</td>\n",
       "      <td>BOITE/1000</td>\n",
       "      <td>820.166667</td>\n",
       "      <td>0.0</td>\n",
       "      <td>77.0</td>\n",
       "      <td>280.0</td>\n",
       "      <td>0.0</td>\n",
       "      <td>357.0</td>\n",
       "      <td>0.435277</td>\n",
       "      <td>Sous-stock</td>\n",
       "      <td>PNLS</td>\n",
       "    </tr>\n",
       "    <tr>\n",
       "      <th>3</th>\n",
       "      <td>2025-03-01</td>\n",
       "      <td>3050191.0</td>\n",
       "      <td>COTRIMOXAZOLE 960 (TRIMETHOPRIME + SULFAMET. 1...</td>\n",
       "      <td>COMPRIME</td>\n",
       "      <td>2340928.166667</td>\n",
       "      <td>1.0</td>\n",
       "      <td>4212870.0</td>\n",
       "      <td>7247159.0</td>\n",
       "      <td>0.0</td>\n",
       "      <td>11460029.0</td>\n",
       "      <td>4.895506</td>\n",
       "      <td>Bon</td>\n",
       "      <td>PNLS</td>\n",
       "    </tr>\n",
       "  </tbody>\n",
       "</table>\n",
       "</div>"
      ],
      "text/plain": [
       "  date_report  code_produit  \\\n",
       "2  2025-03-01     3050188.0   \n",
       "3  2025-03-01     3050191.0   \n",
       "\n",
       "                                         designation  contenance  \\\n",
       "2  COTRIMOXAZOLE 120 (TRIMETHOPRIME 20+SULFAMETHO...  BOITE/1000   \n",
       "3  COTRIMOXAZOLE 960 (TRIMETHOPRIME + SULFAMET. 1...    COMPRIME   \n",
       "\n",
       "              dmm  traceurs  stock_theorique_bke  stock_theorique_abj  \\\n",
       "2      820.166667       0.0                 77.0                280.0   \n",
       "3  2340928.166667       1.0            4212870.0            7247159.0   \n",
       "\n",
       "   stock_theorique_central  stock_theorique_fin_mois       msd statut_stock  \\\n",
       "2                      0.0                     357.0  0.435277   Sous-stock   \n",
       "3                      0.0                11460029.0  4.895506          Bon   \n",
       "\n",
       "  programme  \n",
       "2      PNLS  \n",
       "3      PNLS  "
      ]
     },
     "execution_count": 10,
     "metadata": {},
     "output_type": "execute_result"
    }
   ],
   "source": [
    "sheet_stock_npsp = compute_indicators.utils.check_if_sheet_name_in_file('Etat de stock', sheetnames)\n",
    "\n",
    "assert sheet_stock_npsp is not None, print(f\"La feuille `Etat de stock` n'est pas dans la liste {sheetnames} du classeur excel\")\n",
    "\n",
    "df_etat_stock_npsp = pd.read_excel(fp_etat_mensuel, sheet_name=sheet_stock_npsp, skiprows=4)\n",
    "df_etat_stock_npsp.columns = df_etat_stock_npsp.columns.str.strip()\n",
    "\n",
    "del sheet_stock_npsp\n",
    "\n",
    "df_etat_stock_npsp = df_etat_stock_npsp.loc[df_etat_stock_npsp[\"Nouveau code\"].notna()]\n",
    "\n",
    "df_etat_stock_npsp = compute_indicators.file_utils.process_etat_stock_npsp(df_etat_stock_npsp, date_report, programme)\n",
    "\n",
    "df_etat_stock_npsp.head(2)"
   ]
  },
  {
   "cell_type": "markdown",
   "id": "35af5650-cbb4-4b85-9fdd-301717a20e95",
   "metadata": {
    "papermill": {
     "duration": 0.200381,
     "end_time": "2025-05-14T15:58:10.805464",
     "exception": false,
     "start_time": "2025-05-14T15:58:10.605083",
     "status": "completed"
    },
    "tags": []
   },
   "source": [
    "## 📌3. Importation de la feuille `Stock detaille`"
   ]
  },
  {
   "cell_type": "code",
   "execution_count": 11,
   "id": "7722f6ab-9539-4935-9e0d-7b8973dabf7c",
   "metadata": {
    "execution": {
     "iopub.execute_input": "2025-05-14T15:58:13.086072Z",
     "iopub.status.busy": "2025-05-14T15:58:13.085666Z",
     "iopub.status.idle": "2025-05-14T15:58:13.957826Z",
     "shell.execute_reply": "2025-05-14T15:58:13.957016Z"
    },
    "papermill": {
     "duration": 1.072751,
     "end_time": "2025-05-14T15:58:13.959309",
     "exception": false,
     "start_time": "2025-05-14T15:58:12.886558",
     "status": "completed"
    },
    "tags": []
   },
   "outputs": [
    {
     "data": {
      "text/html": [
       "<div>\n",
       "<style scoped>\n",
       "    .dataframe tbody tr th:only-of-type {\n",
       "        vertical-align: middle;\n",
       "    }\n",
       "\n",
       "    .dataframe tbody tr th {\n",
       "        vertical-align: top;\n",
       "    }\n",
       "\n",
       "    .dataframe thead th {\n",
       "        text-align: right;\n",
       "    }\n",
       "</style>\n",
       "<table border=\"1\" class=\"dataframe\">\n",
       "  <thead>\n",
       "    <tr style=\"text-align: right;\">\n",
       "      <th></th>\n",
       "      <th>Code produit</th>\n",
       "      <th>Désignation</th>\n",
       "      <th>Emplacement</th>\n",
       "      <th>Date limite de consommation</th>\n",
       "      <th>Numéro Lot</th>\n",
       "      <th>Sous lot (Programme)</th>\n",
       "      <th>Qté \\nPhysique</th>\n",
       "      <th>Qté \\nlivrable</th>\n",
       "      <th>Unit</th>\n",
       "      <th>Site</th>\n",
       "      <th>Dépôt</th>\n",
       "      <th>Sous lot</th>\n",
       "      <th>Site.1</th>\n",
       "      <th>Bailleur</th>\n",
       "      <th>Statut</th>\n",
       "    </tr>\n",
       "  </thead>\n",
       "  <tbody>\n",
       "    <tr>\n",
       "      <th>0</th>\n",
       "      <td>4040095</td>\n",
       "      <td>COBAS C111 SAMPLE CUPS sach/250 (C 111/C 311)</td>\n",
       "      <td>01A01A01</td>\n",
       "      <td>2099-01-01</td>\n",
       "      <td>NEANT</td>\n",
       "      <td>PNLS</td>\n",
       "      <td>1650</td>\n",
       "      <td>0</td>\n",
       "      <td>SACH</td>\n",
       "      <td>PG01</td>\n",
       "      <td>PGWIB</td>\n",
       "      <td>PNLS</td>\n",
       "      <td>PG01</td>\n",
       "      <td>BAILLEURX</td>\n",
       "      <td>Q</td>\n",
       "    </tr>\n",
       "    <tr>\n",
       "      <th>1</th>\n",
       "      <td>3100039</td>\n",
       "      <td>RALTEGRAVIR 400 mg comp. BTE/60</td>\n",
       "      <td>01A01A02</td>\n",
       "      <td>2026-11-01</td>\n",
       "      <td>4524</td>\n",
       "      <td>PNLS</td>\n",
       "      <td>780</td>\n",
       "      <td>540</td>\n",
       "      <td>BTE</td>\n",
       "      <td>PG01</td>\n",
       "      <td>PGWIB</td>\n",
       "      <td>PNLS</td>\n",
       "      <td>PG01</td>\n",
       "      <td>LHSPLA</td>\n",
       "      <td>A</td>\n",
       "    </tr>\n",
       "  </tbody>\n",
       "</table>\n",
       "</div>"
      ],
      "text/plain": [
       "   Code produit                                    Désignation Emplacement  \\\n",
       "0       4040095  COBAS C111 SAMPLE CUPS sach/250 (C 111/C 311)    01A01A01   \n",
       "1       3100039                RALTEGRAVIR 400 mg comp. BTE/60    01A01A02   \n",
       "\n",
       "  Date limite de consommation Numéro Lot Sous lot (Programme)  Qté \\nPhysique  \\\n",
       "0                  2099-01-01      NEANT                 PNLS            1650   \n",
       "1                  2026-11-01       4524                 PNLS             780   \n",
       "\n",
       "   Qté \\nlivrable  Unit  Site  Dépôt Sous lot Site.1   Bailleur Statut  \n",
       "0               0  SACH  PG01  PGWIB     PNLS   PG01  BAILLEURX      Q  \n",
       "1             540   BTE  PG01  PGWIB     PNLS   PG01     LHSPLA      A  "
      ]
     },
     "execution_count": 11,
     "metadata": {},
     "output_type": "execute_result"
    }
   ],
   "source": [
    "sheet_stock_detaille = compute_indicators.utils.check_if_sheet_name_in_file('Stock detaille', sheetnames)\n",
    "\n",
    "assert sheet_stock_detaille is not None, print(f\"La feuille `Stock detaille` n'est pas dans la liste {sheetnames} du classeur excel\")\n",
    "\n",
    "df_stock_detaille = pd.read_excel(fp_etat_mensuel, sheet_name=sheet_stock_detaille)\n",
    "df_stock_detaille.columns = df_stock_detaille.columns.str.strip()\n",
    "\n",
    "max_date_year = pd.Timestamp.max.year\n",
    "\n",
    "df_stock_detaille[\"Date limite de consommation\"] = df_stock_detaille[\"Date limite de consommation\"].apply(\n",
    "    lambda x: x if x.year<max_date_year else x.replace(year=max_date_year-1)\n",
    ")\n",
    "\n",
    "del sheet_stock_detaille, max_date_year\n",
    "\n",
    "df_stock_detaille.head(2)"
   ]
  },
  {
   "cell_type": "markdown",
   "id": "37de2849-dc65-4fb7-b87a-8faf7121f280",
   "metadata": {
    "papermill": {
     "duration": 0.211211,
     "end_time": "2025-05-14T15:58:18.983935",
     "exception": false,
     "start_time": "2025-05-14T15:58:18.772724",
     "status": "completed"
    },
    "tags": []
   },
   "source": [
    "## 📌4. Importation de la feuille `Distribution X3`"
   ]
  },
  {
   "cell_type": "code",
   "execution_count": 12,
   "id": "7f1f692a-9147-4ac1-b50e-a0ba94ca588f",
   "metadata": {
    "execution": {
     "iopub.execute_input": "2025-05-14T15:58:19.470491Z",
     "iopub.status.busy": "2025-05-14T15:58:19.469569Z",
     "iopub.status.idle": "2025-05-14T15:58:20.135555Z",
     "shell.execute_reply": "2025-05-14T15:58:20.134374Z"
    },
    "papermill": {
     "duration": 0.932468,
     "end_time": "2025-05-14T15:58:20.137269",
     "exception": false,
     "start_time": "2025-05-14T15:58:19.204801",
     "status": "completed"
    },
    "tags": []
   },
   "outputs": [
    {
     "data": {
      "text/html": [
       "<div>\n",
       "<style scoped>\n",
       "    .dataframe tbody tr th:only-of-type {\n",
       "        vertical-align: middle;\n",
       "    }\n",
       "\n",
       "    .dataframe tbody tr th {\n",
       "        vertical-align: top;\n",
       "    }\n",
       "\n",
       "    .dataframe thead th {\n",
       "        text-align: right;\n",
       "    }\n",
       "</style>\n",
       "<table border=\"1\" class=\"dataframe\">\n",
       "  <thead>\n",
       "    <tr style=\"text-align: right;\">\n",
       "      <th></th>\n",
       "      <th>Programme</th>\n",
       "      <th>Date de livraison</th>\n",
       "      <th>No commande</th>\n",
       "      <th>No livraison</th>\n",
       "      <th>Client</th>\n",
       "      <th>Raison sociale</th>\n",
       "      <th>Article</th>\n",
       "      <th>Désignation</th>\n",
       "      <th>Unité vente</th>\n",
       "      <th>Qté commandée</th>\n",
       "      <th>Qté livrée</th>\n",
       "    </tr>\n",
       "  </thead>\n",
       "  <tbody>\n",
       "    <tr>\n",
       "      <th>0</th>\n",
       "      <td>PNLS</td>\n",
       "      <td>2025-03-04</td>\n",
       "      <td>VAL01-PSG-2501-1804</td>\n",
       "      <td>BL01-PSG-2503-0223</td>\n",
       "      <td>60300244</td>\n",
       "      <td>FSU COM ABOBO SAGBE</td>\n",
       "      <td>3120045</td>\n",
       "      <td>PRESERVATIF MASCULIN PQT/100 PQT  -</td>\n",
       "      <td>PQT</td>\n",
       "      <td>162</td>\n",
       "      <td>162</td>\n",
       "    </tr>\n",
       "    <tr>\n",
       "      <th>1</th>\n",
       "      <td>PNLS</td>\n",
       "      <td>2025-03-04</td>\n",
       "      <td>VAL01-PSG-2501-1804</td>\n",
       "      <td>BL01-PSG-2503-0223</td>\n",
       "      <td>60300244</td>\n",
       "      <td>FSU COM ABOBO SAGBE</td>\n",
       "      <td>3100042</td>\n",
       "      <td>TENOFOVIR / LAMIVUDINE 300 mg / 300 mg comp. B...</td>\n",
       "      <td>BTE</td>\n",
       "      <td>23</td>\n",
       "      <td>23</td>\n",
       "    </tr>\n",
       "  </tbody>\n",
       "</table>\n",
       "</div>"
      ],
      "text/plain": [
       "  Programme Date de livraison          No commande        No livraison  \\\n",
       "0      PNLS        2025-03-04  VAL01-PSG-2501-1804  BL01-PSG-2503-0223   \n",
       "1      PNLS        2025-03-04  VAL01-PSG-2501-1804  BL01-PSG-2503-0223   \n",
       "\n",
       "     Client       Raison sociale  Article  \\\n",
       "0  60300244  FSU COM ABOBO SAGBE  3120045   \n",
       "1  60300244  FSU COM ABOBO SAGBE  3100042   \n",
       "\n",
       "                                         Désignation Unité vente  \\\n",
       "0                PRESERVATIF MASCULIN PQT/100 PQT  -         PQT   \n",
       "1  TENOFOVIR / LAMIVUDINE 300 mg / 300 mg comp. B...         BTE   \n",
       "\n",
       "   Qté commandée  Qté livrée  \n",
       "0            162         162  \n",
       "1             23          23  "
      ]
     },
     "execution_count": 12,
     "metadata": {},
     "output_type": "execute_result"
    }
   ],
   "source": [
    "sheet_distribution_x3 = compute_indicators.utils.check_if_sheet_name_in_file('Distribution', sheetnames)\n",
    "\n",
    "assert sheet_distribution_x3 is not None, print(f\"La feuille `Distribution X3` n'est pas dans la liste {sheetnames} du classeur excel\")\n",
    "\n",
    "df_distribution = pd.read_excel(fp_etat_mensuel, sheet_name=sheet_distribution_x3)\n",
    "df_distribution.columns = df_distribution.columns.str.strip()\n",
    "\n",
    "del sheet_distribution_x3\n",
    "\n",
    "df_distribution.head(2)"
   ]
  },
  {
   "cell_type": "markdown",
   "id": "ccad74b5-8006-4fb2-9728-ec7b22892cc2",
   "metadata": {
    "papermill": {
     "duration": 0.190764,
     "end_time": "2025-05-14T15:58:20.571217",
     "exception": false,
     "start_time": "2025-05-14T15:58:20.380453",
     "status": "completed"
    },
    "tags": []
   },
   "source": [
    "## 📌5. Importation de la feuille `Receptions`"
   ]
  },
  {
   "cell_type": "code",
   "execution_count": 13,
   "id": "aba1696b-3a88-4499-8e96-218b21191f07",
   "metadata": {
    "execution": {
     "iopub.execute_input": "2025-05-14T15:58:21.729364Z",
     "iopub.status.busy": "2025-05-14T15:58:21.728924Z",
     "iopub.status.idle": "2025-05-14T15:58:21.998409Z",
     "shell.execute_reply": "2025-05-14T15:58:21.997483Z"
    },
    "papermill": {
     "duration": 1.215695,
     "end_time": "2025-05-14T15:58:21.999901",
     "exception": false,
     "start_time": "2025-05-14T15:58:20.784206",
     "status": "completed"
    },
    "tags": []
   },
   "outputs": [
    {
     "data": {
      "text/html": [
       "<div>\n",
       "<style scoped>\n",
       "    .dataframe tbody tr th:only-of-type {\n",
       "        vertical-align: middle;\n",
       "    }\n",
       "\n",
       "    .dataframe tbody tr th {\n",
       "        vertical-align: top;\n",
       "    }\n",
       "\n",
       "    .dataframe thead th {\n",
       "        text-align: right;\n",
       "    }\n",
       "</style>\n",
       "<table border=\"1\" class=\"dataframe\">\n",
       "  <thead>\n",
       "    <tr style=\"text-align: right;\">\n",
       "      <th></th>\n",
       "      <th>Programme</th>\n",
       "      <th>Bailleur (Funding)</th>\n",
       "      <th>Nouveau code</th>\n",
       "      <th>Code</th>\n",
       "      <th>Désignation NPSP</th>\n",
       "      <th>Date de réception effective</th>\n",
       "      <th>Date effective de dépotage et/ou expertise</th>\n",
       "      <th>Quantité réceptionnée</th>\n",
       "      <th>Date d'entrée en machine</th>\n",
       "    </tr>\n",
       "  </thead>\n",
       "  <tbody>\n",
       "    <tr>\n",
       "      <th>0</th>\n",
       "      <td>PNLS</td>\n",
       "      <td>FONDS MONDIAL</td>\n",
       "      <td>4040328</td>\n",
       "      <td>ND</td>\n",
       "      <td>WONDFO HIV 1/2 TEST KIT/25</td>\n",
       "      <td>2025-02-17</td>\n",
       "      <td>2025-02-19</td>\n",
       "      <td>14080</td>\n",
       "      <td>2025-03-07</td>\n",
       "    </tr>\n",
       "    <tr>\n",
       "      <th>1</th>\n",
       "      <td>PNLS</td>\n",
       "      <td>FONDS MONDIAL</td>\n",
       "      <td>4040328</td>\n",
       "      <td>ND</td>\n",
       "      <td>WONDFO HIV 1/2 TEST KIT/25</td>\n",
       "      <td>2025-02-17</td>\n",
       "      <td>2025-02-19</td>\n",
       "      <td>9660</td>\n",
       "      <td>2025-03-07</td>\n",
       "    </tr>\n",
       "  </tbody>\n",
       "</table>\n",
       "</div>"
      ],
      "text/plain": [
       "  Programme Bailleur (Funding)  Nouveau code Code            Désignation NPSP  \\\n",
       "0      PNLS      FONDS MONDIAL       4040328   ND  WONDFO HIV 1/2 TEST KIT/25   \n",
       "1      PNLS      FONDS MONDIAL       4040328   ND  WONDFO HIV 1/2 TEST KIT/25   \n",
       "\n",
       "  Date de réception effective Date effective de dépotage et/ou expertise  \\\n",
       "0                  2025-02-17                                 2025-02-19   \n",
       "1                  2025-02-17                                 2025-02-19   \n",
       "\n",
       "   Quantité réceptionnée Date d'entrée en machine  \n",
       "0                  14080               2025-03-07  \n",
       "1                   9660               2025-03-07  "
      ]
     },
     "execution_count": 13,
     "metadata": {},
     "output_type": "execute_result"
    }
   ],
   "source": [
    "sheet_reception = compute_indicators.utils.check_if_sheet_name_in_file('Receptions', sheetnames)\n",
    "\n",
    "assert sheet_reception is not None, print(f\"La feuille `Receptions` n'est pas dans la liste {sheetnames} du classeur excel\")\n",
    "\n",
    "df_receptions = pd.read_excel(fp_etat_mensuel, sheet_name=sheet_reception)\n",
    "df_receptions.columns = df_receptions.columns.str.strip()\n",
    "\n",
    "del sheet_reception\n",
    "\n",
    "df_receptions.head(2)"
   ]
  },
  {
   "cell_type": "markdown",
   "id": "5fca5f1b-ec81-4434-b361-25edab77eb43",
   "metadata": {
    "papermill": {
     "duration": 2.804602,
     "end_time": "2025-05-14T15:58:26.457207",
     "exception": false,
     "start_time": "2025-05-14T15:58:23.652605",
     "status": "completed"
    },
    "tags": []
   },
   "source": [
    "## 📌6. Importation de la feuille `PPI`"
   ]
  },
  {
   "cell_type": "code",
   "execution_count": 14,
   "id": "028e57f8-0239-43a3-b979-56fc164212e4",
   "metadata": {
    "execution": {
     "iopub.execute_input": "2025-05-14T15:58:26.971587Z",
     "iopub.status.busy": "2025-05-14T15:58:26.971252Z",
     "iopub.status.idle": "2025-05-14T15:58:27.135067Z",
     "shell.execute_reply": "2025-05-14T15:58:27.134193Z"
    },
    "papermill": {
     "duration": 0.355734,
     "end_time": "2025-05-14T15:58:27.136448",
     "exception": false,
     "start_time": "2025-05-14T15:58:26.780714",
     "status": "completed"
    },
    "tags": []
   },
   "outputs": [
    {
     "data": {
      "text/html": [
       "<div>\n",
       "<style scoped>\n",
       "    .dataframe tbody tr th:only-of-type {\n",
       "        vertical-align: middle;\n",
       "    }\n",
       "\n",
       "    .dataframe tbody tr th {\n",
       "        vertical-align: top;\n",
       "    }\n",
       "\n",
       "    .dataframe thead th {\n",
       "        text-align: right;\n",
       "    }\n",
       "</style>\n",
       "<table border=\"1\" class=\"dataframe\">\n",
       "  <thead>\n",
       "    <tr style=\"text-align: right;\">\n",
       "      <th></th>\n",
       "      <th>Code Produit</th>\n",
       "      <th>Nom Produit</th>\n",
       "      <th>Unite</th>\n",
       "      <th>Numéro Lot</th>\n",
       "      <th>Date Peremption</th>\n",
       "      <th>Quantité</th>\n",
       "    </tr>\n",
       "  </thead>\n",
       "  <tbody>\n",
       "    <tr>\n",
       "      <th>0</th>\n",
       "      <td>3100023</td>\n",
       "      <td>EFAVIRENZ/LAMIVUDINE/TENOFOVIR 400/300/300 mg ...</td>\n",
       "      <td>BTE</td>\n",
       "      <td>22075712</td>\n",
       "      <td>2025-04-01</td>\n",
       "      <td>2552</td>\n",
       "    </tr>\n",
       "    <tr>\n",
       "      <th>1</th>\n",
       "      <td>3100023</td>\n",
       "      <td>EFAVIRENZ/LAMIVUDINE/TENOFOVIR 400/300/300 mg ...</td>\n",
       "      <td>BTE</td>\n",
       "      <td>22075712</td>\n",
       "      <td>2025-04-01</td>\n",
       "      <td>9157</td>\n",
       "    </tr>\n",
       "  </tbody>\n",
       "</table>\n",
       "</div>"
      ],
      "text/plain": [
       "   Code Produit                                        Nom Produit Unite  \\\n",
       "0       3100023  EFAVIRENZ/LAMIVUDINE/TENOFOVIR 400/300/300 mg ...   BTE   \n",
       "1       3100023  EFAVIRENZ/LAMIVUDINE/TENOFOVIR 400/300/300 mg ...   BTE   \n",
       "\n",
       "  Numéro Lot Date Peremption  Quantité  \n",
       "0   22075712      2025-04-01      2552  \n",
       "1   22075712      2025-04-01      9157  "
      ]
     },
     "execution_count": 14,
     "metadata": {},
     "output_type": "execute_result"
    }
   ],
   "source": [
    "sheet_ppi = compute_indicators.utils.check_if_sheet_name_in_file('PPI', sheetnames)\n",
    "\n",
    "assert sheet_ppi is not None, print(f\"La feuille `PPI` n'est pas dans la liste {sheetnames} du classeur excel\")\n",
    "\n",
    "df_ppi = pd.read_excel(fp_etat_mensuel, sheet_name=sheet_ppi, skiprows=2)\n",
    "df_ppi.columns = df_ppi.columns.str.strip()\n",
    "\n",
    "del sheet_ppi\n",
    "\n",
    "df_ppi.head(2)"
   ]
  },
  {
   "cell_type": "markdown",
   "id": "7d034716-4571-4dbd-ab3c-a59bc9cd8d70",
   "metadata": {
    "papermill": {
     "duration": 0.169081,
     "end_time": "2025-05-14T15:58:27.509649",
     "exception": false,
     "start_time": "2025-05-14T15:58:27.340568",
     "status": "completed"
    },
    "tags": []
   },
   "source": [
    "## 📌7. Importation de la feuille  `Prélèvement`"
   ]
  },
  {
   "cell_type": "code",
   "execution_count": 15,
   "id": "f19419ab-c0ad-444f-9d58-c816e6a3371b",
   "metadata": {
    "execution": {
     "iopub.execute_input": "2025-05-14T15:58:28.505258Z",
     "iopub.status.busy": "2025-05-14T15:58:28.504492Z",
     "iopub.status.idle": "2025-05-14T15:58:28.678496Z",
     "shell.execute_reply": "2025-05-14T15:58:28.677808Z"
    },
    "papermill": {
     "duration": 0.982661,
     "end_time": "2025-05-14T15:58:28.679699",
     "exception": false,
     "start_time": "2025-05-14T15:58:27.697038",
     "status": "completed"
    },
    "tags": []
   },
   "outputs": [
    {
     "data": {
      "text/html": [
       "<div>\n",
       "<style scoped>\n",
       "    .dataframe tbody tr th:only-of-type {\n",
       "        vertical-align: middle;\n",
       "    }\n",
       "\n",
       "    .dataframe tbody tr th {\n",
       "        vertical-align: top;\n",
       "    }\n",
       "\n",
       "    .dataframe thead th {\n",
       "        text-align: right;\n",
       "    }\n",
       "</style>\n",
       "<table border=\"1\" class=\"dataframe\">\n",
       "  <thead>\n",
       "    <tr style=\"text-align: right;\">\n",
       "      <th></th>\n",
       "      <th>Code Produit</th>\n",
       "      <th>Nom Produit</th>\n",
       "      <th>Unite</th>\n",
       "      <th>Numéro Lot</th>\n",
       "      <th>Date Peremption</th>\n",
       "      <th>Quantité</th>\n",
       "    </tr>\n",
       "  </thead>\n",
       "  <tbody>\n",
       "  </tbody>\n",
       "</table>\n",
       "</div>"
      ],
      "text/plain": [
       "Empty DataFrame\n",
       "Columns: [Code Produit, Nom Produit, Unite, Numéro Lot, Date Peremption, Quantité]\n",
       "Index: []"
      ]
     },
     "execution_count": 15,
     "metadata": {},
     "output_type": "execute_result"
    }
   ],
   "source": [
    "sheet_prelev = compute_indicators.utils.check_if_sheet_name_in_file('Prelèvement CQ', sheetnames)\n",
    "\n",
    "assert sheet_prelev is not None, print(f\"La feuille `Prelèvement CQ` n'est pas dans la liste {sheetnames} du classeur excel\")\n",
    "\n",
    "df_prelevement = pd.read_excel(fp_etat_mensuel, sheet_name=sheet_prelev, skiprows=2)\n",
    "df_prelevement.columns = df_prelevement.columns.str.strip()\n",
    "\n",
    "del sheet_prelev\n",
    "\n",
    "df_prelevement.head(2)"
   ]
  },
  {
   "cell_type": "markdown",
   "id": "6df2ffd3-0e49-4c80-adc1-1219f1756a8a",
   "metadata": {
    "papermill": {
     "duration": 2.941693,
     "end_time": "2025-05-14T15:58:31.826326",
     "exception": false,
     "start_time": "2025-05-14T15:58:28.884633",
     "status": "completed"
    },
    "tags": []
   },
   "source": [
    "## 📌8. Importation du fichier de `mapping des produits QAT et SAGE X3`\n",
    "\n",
    "- **Format requis :** Respectez la structure du fichier.  \n",
    "- **Emplacement du fichier :** Le fichier doit être placé dans le répertoire suivant :  \n",
    "  **`Fichier Suivi de Stock/data/Mapping produits QAT SAGE X3`**  \n",
    "- **En cas d'erreur :**\n",
    "  - Vérifiez que le fichier est bien présent dans le répertoire.  \n",
    "  - Assurez-vous que les données respectent le format attendu. \n",
    "  - Vérifiez l'intégrité du fichier et assurez-vous et corriger l'anomalie."
   ]
  },
  {
   "cell_type": "code",
   "execution_count": 16,
   "id": "d7c8434e-8083-4d70-91bf-07c813f36fe4",
   "metadata": {
    "execution": {
     "iopub.execute_input": "2025-05-14T15:58:36.473145Z",
     "iopub.status.busy": "2025-05-14T15:58:36.472023Z",
     "iopub.status.idle": "2025-05-14T15:58:36.477327Z",
     "shell.execute_reply": "2025-05-14T15:58:36.476451Z"
    },
    "papermill": {
     "duration": 3.236446,
     "end_time": "2025-05-14T15:58:36.478680",
     "exception": false,
     "start_time": "2025-05-14T15:58:33.242234",
     "status": "completed"
    },
    "tags": []
   },
   "outputs": [],
   "source": [
    "fp_map_prod = (\n",
    "    Path(workspace.files_path)\n",
    "    / \"Fichier Suivi de Stock/data/Mapping produits QAT SAGE X3\"\n",
    "    / Path(fp_map_prod).name\n",
    ")"
   ]
  },
  {
   "cell_type": "code",
   "execution_count": 17,
   "id": "8fb198eb-ad43-4572-b4ff-7f3cbcc52a13",
   "metadata": {
    "execution": {
     "iopub.execute_input": "2025-05-14T15:58:36.890158Z",
     "iopub.status.busy": "2025-05-14T15:58:36.889345Z",
     "iopub.status.idle": "2025-05-14T15:58:36.959016Z",
     "shell.execute_reply": "2025-05-14T15:58:36.958019Z"
    },
    "papermill": {
     "duration": 0.257788,
     "end_time": "2025-05-14T15:58:36.960688",
     "exception": false,
     "start_time": "2025-05-14T15:58:36.702900",
     "status": "completed"
    },
    "tags": []
   },
   "outputs": [],
   "source": [
    "assert fp_map_prod.exists(), \"Le fichier de mapping des produits n'a pas été retrouvé dans le dossier dédié\""
   ]
  },
  {
   "cell_type": "markdown",
   "id": "e9df904b-5610-4442-aac3-294e6a2e0330",
   "metadata": {
    "papermill": {
     "duration": 0.200896,
     "end_time": "2025-05-14T15:58:37.340414",
     "exception": false,
     "start_time": "2025-05-14T15:58:37.139518",
     "status": "completed"
    },
    "tags": []
   },
   "source": [
    "## 📌9. Importation du `Plan d'approvisionnement`\n",
    "\n",
    "- **Format requis :** Respectez la structure du fichier définie pour l’importation peut conserver le fichier brut extrait de QAT.  \n",
    "- **Emplacement du fichier :** Le fichier doit être placé dans le répertoire suivant :  \n",
    "  **`Fichier Suivi de Stock/data/<programme>/Plan d'Approvisionnement`**  \n",
    "- **En cas d'erreur :**\n",
    "  - Vérifiez que le fichier est bien présent dans le répertoire.  \n",
    "  - Assurez-vous que les données respectent le format attendu.\n",
    "  - Vérifiez l'intégrité du fichier et assurez-vous et corriger l'anomalie."
   ]
  },
  {
   "cell_type": "code",
   "execution_count": 18,
   "id": "e5fe00dc-e276-4175-ab18-a31b4eeffe6e",
   "metadata": {
    "execution": {
     "iopub.execute_input": "2025-05-14T15:58:39.401939Z",
     "iopub.status.busy": "2025-05-14T15:58:39.401611Z",
     "iopub.status.idle": "2025-05-14T15:58:39.405837Z",
     "shell.execute_reply": "2025-05-14T15:58:39.405007Z"
    },
    "papermill": {
     "duration": 1.884326,
     "end_time": "2025-05-14T15:58:39.407309",
     "exception": false,
     "start_time": "2025-05-14T15:58:37.522983",
     "status": "completed"
    },
    "tags": []
   },
   "outputs": [],
   "source": [
    "fp_plan_approv = (\n",
    "    Path(workspace.files_path)\n",
    "    / f\"Fichier Suivi de Stock/data/{programme}/Plan d'Approvisionnement\"\n",
    "    / Path(fp_plan_approv)\n",
    ")"
   ]
  },
  {
   "cell_type": "code",
   "execution_count": 19,
   "id": "e3eb96f7-270b-4a55-a8b7-d74a6342b06d",
   "metadata": {
    "execution": {
     "iopub.execute_input": "2025-05-14T15:58:39.779031Z",
     "iopub.status.busy": "2025-05-14T15:58:39.777933Z",
     "iopub.status.idle": "2025-05-14T15:58:40.562358Z",
     "shell.execute_reply": "2025-05-14T15:58:40.561487Z"
    },
    "papermill": {
     "duration": 0.970566,
     "end_time": "2025-05-14T15:58:40.563705",
     "exception": false,
     "start_time": "2025-05-14T15:58:39.593139",
     "status": "completed"
    },
    "tags": []
   },
   "outputs": [
    {
     "data": {
      "text/html": [
       "<div>\n",
       "<style scoped>\n",
       "    .dataframe tbody tr th:only-of-type {\n",
       "        vertical-align: middle;\n",
       "    }\n",
       "\n",
       "    .dataframe tbody tr th {\n",
       "        vertical-align: top;\n",
       "    }\n",
       "\n",
       "    .dataframe thead th {\n",
       "        text-align: right;\n",
       "    }\n",
       "</style>\n",
       "<table border=\"1\" class=\"dataframe\">\n",
       "  <thead>\n",
       "    <tr style=\"text-align: right;\">\n",
       "      <th></th>\n",
       "      <th>ID de produit QAT</th>\n",
       "      <th>Produits</th>\n",
       "      <th>ID de l`envoi QAT</th>\n",
       "      <th>Commande d`urgence</th>\n",
       "      <th>Commande PGI</th>\n",
       "      <th>Approvisionnement local</th>\n",
       "      <th>N° de commande de l`agent d`approvisionnement</th>\n",
       "      <th>Agent d`approvisionnement</th>\n",
       "      <th>Source de financement</th>\n",
       "      <th>Budget</th>\n",
       "      <th>Status</th>\n",
       "      <th>Quantite</th>\n",
       "      <th>DATE</th>\n",
       "      <th>Cout des Produits</th>\n",
       "      <th>Couts du fret</th>\n",
       "      <th>Couts totaux</th>\n",
       "      <th>Notes</th>\n",
       "      <th>Standard product code</th>\n",
       "      <th>cout_unitaire_moyen_qat</th>\n",
       "      <th>facteur_de_conversion_qat_sage</th>\n",
       "      <th>acronym</th>\n",
       "      <th>code_and_date_concate</th>\n",
       "    </tr>\n",
       "  </thead>\n",
       "  <tbody>\n",
       "    <tr>\n",
       "      <th>0</th>\n",
       "      <td>3067</td>\n",
       "      <td>Female Condom (Nitrile) Lubricated  17 cm  100...</td>\n",
       "      <td>173896</td>\n",
       "      <td>false</td>\n",
       "      <td>false</td>\n",
       "      <td>false</td>\n",
       "      <td></td>\n",
       "      <td>PPM-GF</td>\n",
       "      <td>GFATM</td>\n",
       "      <td>GF_2024</td>\n",
       "      <td>Planifié</td>\n",
       "      <td>200.000</td>\n",
       "      <td>2025-12-31</td>\n",
       "      <td>100000.00</td>\n",
       "      <td>10000.0</td>\n",
       "      <td>110000.00</td>\n",
       "      <td></td>\n",
       "      <td>3120042.0</td>\n",
       "      <td>506.923077</td>\n",
       "      <td>1.0</td>\n",
       "      <td>NaN</td>\n",
       "      <td>3120042_2025-12-31</td>\n",
       "    </tr>\n",
       "    <tr>\n",
       "      <th>1</th>\n",
       "      <td>4182</td>\n",
       "      <td>Male Condom (Latex) Lubricated  No Logo  53 mm...</td>\n",
       "      <td>173899</td>\n",
       "      <td>false</td>\n",
       "      <td>false</td>\n",
       "      <td>false</td>\n",
       "      <td></td>\n",
       "      <td>PPM-GF</td>\n",
       "      <td>GFATM</td>\n",
       "      <td>GF_2024</td>\n",
       "      <td>Soumis</td>\n",
       "      <td>4147.584</td>\n",
       "      <td>2025-07-31</td>\n",
       "      <td>401776.46</td>\n",
       "      <td>40181.7</td>\n",
       "      <td>441958.16</td>\n",
       "      <td></td>\n",
       "      <td>3120044.0</td>\n",
       "      <td>96.632703</td>\n",
       "      <td>1.0</td>\n",
       "      <td>CONDOM M 144</td>\n",
       "      <td>3120044_2025-07-31</td>\n",
       "    </tr>\n",
       "  </tbody>\n",
       "</table>\n",
       "</div>"
      ],
      "text/plain": [
       "   ID de produit QAT                                           Produits  \\\n",
       "0               3067  Female Condom (Nitrile) Lubricated  17 cm  100...   \n",
       "1               4182  Male Condom (Latex) Lubricated  No Logo  53 mm...   \n",
       "\n",
       "   ID de l`envoi QAT Commande d`urgence Commande PGI Approvisionnement local  \\\n",
       "0             173896              false        false                   false   \n",
       "1             173899              false        false                   false   \n",
       "\n",
       "  N° de commande de l`agent d`approvisionnement Agent d`approvisionnement  \\\n",
       "0                                                                  PPM-GF   \n",
       "1                                                                  PPM-GF   \n",
       "\n",
       "  Source de financement   Budget    Status  Quantite       DATE  \\\n",
       "0                 GFATM  GF_2024  Planifié   200.000 2025-12-31   \n",
       "1                 GFATM  GF_2024    Soumis  4147.584 2025-07-31   \n",
       "\n",
       "   Cout des Produits  Couts du fret  Couts totaux Notes  \\\n",
       "0          100000.00        10000.0     110000.00         \n",
       "1          401776.46        40181.7     441958.16         \n",
       "\n",
       "   Standard product code  cout_unitaire_moyen_qat  \\\n",
       "0              3120042.0               506.923077   \n",
       "1              3120044.0                96.632703   \n",
       "\n",
       "   facteur_de_conversion_qat_sage       acronym code_and_date_concate  \n",
       "0                             1.0           NaN    3120042_2025-12-31  \n",
       "1                             1.0  CONDOM M 144    3120044_2025-07-31  "
      ]
     },
     "execution_count": 19,
     "metadata": {},
     "output_type": "execute_result"
    }
   ],
   "source": [
    "df_plan_approv = compute_indicators.file_utils.process_pa_files(fp_plan_approv, fp_map_prod, programme)\n",
    "\n",
    "df_plan_approv[\"facteur_de_conversion_qat_sage\"] = df_plan_approv[\"facteur_de_conversion_qat_sage\"].apply(\n",
    "    lambda x: x if not pd.isna(x) else 1\n",
    ")\n",
    "\n",
    "df_plan_approv.head(2)"
   ]
  },
  {
   "cell_type": "markdown",
   "id": "16319b53-77c7-423a-999a-37aa2052514e",
   "metadata": {
    "papermill": {
     "duration": 0.261566,
     "end_time": "2025-05-14T15:58:50.584699",
     "exception": false,
     "start_time": "2025-05-14T15:58:50.323133",
     "status": "completed"
    },
    "tags": []
   },
   "source": [
    "# IV.📊Calcul des Indicateurs"
   ]
  },
  {
   "cell_type": "markdown",
   "id": "46d1687e-eb8e-4515-9be3-1bc3ffb55184",
   "metadata": {
    "papermill": {
     "duration": 0.228701,
     "end_time": "2025-05-14T15:58:51.015277",
     "exception": false,
     "start_time": "2025-05-14T15:58:50.786576",
     "status": "completed"
    },
    "tags": []
   },
   "source": [
    "## 📌1. `Etat de Stock (1/2)`"
   ]
  },
  {
   "cell_type": "code",
   "execution_count": 20,
   "id": "177a7f70-8d09-45b6-94fd-0900686bfc84",
   "metadata": {
    "execution": {
     "iopub.execute_input": "2025-05-14T15:58:52.072540Z",
     "iopub.status.busy": "2025-05-14T15:58:52.071501Z",
     "iopub.status.idle": "2025-05-14T15:58:52.332942Z",
     "shell.execute_reply": "2025-05-14T15:58:52.331944Z"
    },
    "papermill": {
     "duration": 1.103178,
     "end_time": "2025-05-14T15:58:52.334233",
     "exception": false,
     "start_time": "2025-05-14T15:58:51.231055",
     "status": "completed"
    },
    "tags": []
   },
   "outputs": [
    {
     "name": "stdout",
     "output_type": "stream",
     "text": [
      "Connexion à la base de données établie avec succès\n"
     ]
    },
    {
     "data": {
      "text/html": [
       "<div>\n",
       "<style scoped>\n",
       "    .dataframe tbody tr th:only-of-type {\n",
       "        vertical-align: middle;\n",
       "    }\n",
       "\n",
       "    .dataframe tbody tr th {\n",
       "        vertical-align: top;\n",
       "    }\n",
       "\n",
       "    .dataframe thead th {\n",
       "        text-align: right;\n",
       "    }\n",
       "</style>\n",
       "<table border=\"1\" class=\"dataframe\">\n",
       "  <thead>\n",
       "    <tr style=\"text-align: right;\">\n",
       "      <th></th>\n",
       "      <th>id_dim_produit_stock_track_pk</th>\n",
       "      <th>code_produit</th>\n",
       "      <th>ancien_code</th>\n",
       "      <th>categorie</th>\n",
       "      <th>designation</th>\n",
       "      <th>type_produit</th>\n",
       "      <th>unit_niveau_central</th>\n",
       "      <th>unit_niveau_peripherique</th>\n",
       "      <th>facteur_de_conversion</th>\n",
       "      <th>designation_acronym</th>\n",
       "      <th>code_qat</th>\n",
       "      <th>programme</th>\n",
       "      <th>cout_unitaire_moyen_qat</th>\n",
       "      <th>facteur_de_conversion_qat_sage</th>\n",
       "      <th>stock_theorique_mois_precedent</th>\n",
       "    </tr>\n",
       "  </thead>\n",
       "  <tbody>\n",
       "    <tr>\n",
       "      <th>0</th>\n",
       "      <td>40</td>\n",
       "      <td>3100001</td>\n",
       "      <td>AR33198</td>\n",
       "      <td>MEDICAMENTS ARV</td>\n",
       "      <td>ABACAVIR / LAMIVUDINE 120/60 mg comp disp. BTE/30</td>\n",
       "      <td>Traceur</td>\n",
       "      <td>BTE/30</td>\n",
       "      <td>COMPRIME</td>\n",
       "      <td>30</td>\n",
       "      <td>ABC/3TC 120/60MG CP BTE/30</td>\n",
       "      <td>1073.0</td>\n",
       "      <td>PNLS</td>\n",
       "      <td>3.316414</td>\n",
       "      <td>1.0</td>\n",
       "      <td>50058.0</td>\n",
       "    </tr>\n",
       "    <tr>\n",
       "      <th>1</th>\n",
       "      <td>41</td>\n",
       "      <td>3100003</td>\n",
       "      <td>AR33196</td>\n",
       "      <td>MEDICAMENTS ARV</td>\n",
       "      <td>ABACAVIR / LAMIVUDINE 600 mg / 300 mg comp. BT...</td>\n",
       "      <td>Non traceur</td>\n",
       "      <td>BTE/30</td>\n",
       "      <td>COMPRIME</td>\n",
       "      <td>30</td>\n",
       "      <td>ABC/3TC 120/60MG CP BTE/30</td>\n",
       "      <td>1082.0</td>\n",
       "      <td>PNLS</td>\n",
       "      <td>9.000000</td>\n",
       "      <td>1.0</td>\n",
       "      <td>34968.0</td>\n",
       "    </tr>\n",
       "  </tbody>\n",
       "</table>\n",
       "</div>"
      ],
      "text/plain": [
       "   id_dim_produit_stock_track_pk  code_produit ancien_code        categorie  \\\n",
       "0                             40       3100001     AR33198  MEDICAMENTS ARV   \n",
       "1                             41       3100003     AR33196  MEDICAMENTS ARV   \n",
       "\n",
       "                                         designation type_produit  \\\n",
       "0  ABACAVIR / LAMIVUDINE 120/60 mg comp disp. BTE/30      Traceur   \n",
       "1  ABACAVIR / LAMIVUDINE 600 mg / 300 mg comp. BT...  Non traceur   \n",
       "\n",
       "  unit_niveau_central unit_niveau_peripherique  facteur_de_conversion  \\\n",
       "0              BTE/30                 COMPRIME                     30   \n",
       "1              BTE/30                 COMPRIME                     30   \n",
       "\n",
       "          designation_acronym code_qat programme  cout_unitaire_moyen_qat  \\\n",
       "0  ABC/3TC 120/60MG CP BTE/30   1073.0      PNLS                 3.316414   \n",
       "1  ABC/3TC 120/60MG CP BTE/30   1082.0      PNLS                 9.000000   \n",
       "\n",
       "   facteur_de_conversion_qat_sage  stock_theorique_mois_precedent  \n",
       "0                             1.0                         50058.0  \n",
       "1                             1.0                         34968.0  "
      ]
     },
     "execution_count": 20,
     "metadata": {},
     "output_type": "execute_result"
    }
   ],
   "source": [
    "stock_sync_manager.initialize_database_connection()\n",
    "\n",
    "schema_name = \"suivi_stock\"\n",
    "\n",
    "df_etat_stock = stock_sync_manager.get_table_data(\n",
    "    query=QUERY_ETAT_STOCK.format(\n",
    "        schema_name=schema_name, programme=programme, date_report_prec=date_report_prec\n",
    "    )\n",
    ").drop_duplicates()\n",
    "\n",
    "df_etat_stock.head(2)"
   ]
  },
  {
   "cell_type": "code",
   "execution_count": 21,
   "id": "0cc47bc4-3b68-4d26-882e-05b121b18ec5",
   "metadata": {
    "execution": {
     "iopub.execute_input": "2025-05-14T15:58:57.267824Z",
     "iopub.status.busy": "2025-05-14T15:58:57.267501Z",
     "iopub.status.idle": "2025-05-14T15:58:57.884663Z",
     "shell.execute_reply": "2025-05-14T15:58:57.883978Z"
    },
    "papermill": {
     "duration": 4.33261,
     "end_time": "2025-05-14T15:58:57.885914",
     "exception": false,
     "start_time": "2025-05-14T15:58:53.553304",
     "status": "completed"
    },
    "tags": []
   },
   "outputs": [
    {
     "data": {
      "text/html": [
       "<div>\n",
       "<style scoped>\n",
       "    .dataframe tbody tr th:only-of-type {\n",
       "        vertical-align: middle;\n",
       "    }\n",
       "\n",
       "    .dataframe tbody tr th {\n",
       "        vertical-align: top;\n",
       "    }\n",
       "\n",
       "    .dataframe thead th {\n",
       "        text-align: right;\n",
       "    }\n",
       "</style>\n",
       "<table border=\"1\" class=\"dataframe\">\n",
       "  <thead>\n",
       "    <tr style=\"text-align: right;\">\n",
       "      <th></th>\n",
       "      <th>id_dim_produit_stock_track_pk</th>\n",
       "      <th>code_produit</th>\n",
       "      <th>ancien_code</th>\n",
       "      <th>categorie</th>\n",
       "      <th>designation</th>\n",
       "      <th>type_produit</th>\n",
       "      <th>unit_niveau_central</th>\n",
       "      <th>unit_niveau_peripherique</th>\n",
       "      <th>facteur_de_conversion</th>\n",
       "      <th>designation_acronym</th>\n",
       "      <th>code_qat</th>\n",
       "      <th>programme</th>\n",
       "      <th>cout_unitaire_moyen_qat</th>\n",
       "      <th>facteur_de_conversion_qat_sage</th>\n",
       "      <th>stock_theorique_mois_precedent</th>\n",
       "      <th>Distribution effectuée</th>\n",
       "      <th>Quantité reçue entrée en stock</th>\n",
       "      <th>Quantité de PPI</th>\n",
       "      <th>Quantité prélévée en Contrôle Qualité (CQ)</th>\n",
       "      <th>Ajustement de stock</th>\n",
       "      <th>Stock Théorique Final SAGE</th>\n",
       "      <th>Stock Théorique Final Attendu</th>\n",
       "      <th>ECARTS</th>\n",
       "      <th>Justification des écarts</th>\n",
       "      <th>Diligences</th>\n",
       "      <th>Dilig. Choisie</th>\n",
       "    </tr>\n",
       "  </thead>\n",
       "  <tbody>\n",
       "    <tr>\n",
       "      <th>0</th>\n",
       "      <td>40</td>\n",
       "      <td>3100001</td>\n",
       "      <td>AR33198</td>\n",
       "      <td>MEDICAMENTS ARV</td>\n",
       "      <td>ABACAVIR / LAMIVUDINE 120/60 mg comp disp. BTE/30</td>\n",
       "      <td>Traceur</td>\n",
       "      <td>BTE/30</td>\n",
       "      <td>COMPRIME</td>\n",
       "      <td>30</td>\n",
       "      <td>ABC/3TC 120/60MG CP BTE/30</td>\n",
       "      <td>1073.0</td>\n",
       "      <td>PNLS</td>\n",
       "      <td>3.316414</td>\n",
       "      <td>1.0</td>\n",
       "      <td>50058.0</td>\n",
       "      <td>4643</td>\n",
       "      <td>0</td>\n",
       "      <td>0</td>\n",
       "      <td>0</td>\n",
       "      <td>NaN</td>\n",
       "      <td>45532</td>\n",
       "      <td>45415.0</td>\n",
       "      <td>117.0</td>\n",
       "      <td></td>\n",
       "      <td></td>\n",
       "      <td></td>\n",
       "    </tr>\n",
       "    <tr>\n",
       "      <th>1</th>\n",
       "      <td>41</td>\n",
       "      <td>3100003</td>\n",
       "      <td>AR33196</td>\n",
       "      <td>MEDICAMENTS ARV</td>\n",
       "      <td>ABACAVIR / LAMIVUDINE 600 mg / 300 mg comp. BT...</td>\n",
       "      <td>Non traceur</td>\n",
       "      <td>BTE/30</td>\n",
       "      <td>COMPRIME</td>\n",
       "      <td>30</td>\n",
       "      <td>ABC/3TC 120/60MG CP BTE/30</td>\n",
       "      <td>1082.0</td>\n",
       "      <td>PNLS</td>\n",
       "      <td>9.000000</td>\n",
       "      <td>1.0</td>\n",
       "      <td>34968.0</td>\n",
       "      <td>1391</td>\n",
       "      <td>0</td>\n",
       "      <td>0</td>\n",
       "      <td>0</td>\n",
       "      <td>NaN</td>\n",
       "      <td>34201</td>\n",
       "      <td>33577.0</td>\n",
       "      <td>624.0</td>\n",
       "      <td></td>\n",
       "      <td></td>\n",
       "      <td></td>\n",
       "    </tr>\n",
       "    <tr>\n",
       "      <th>2</th>\n",
       "      <td>42</td>\n",
       "      <td>3100004</td>\n",
       "      <td>AR33195</td>\n",
       "      <td>MEDICAMENTS ARV</td>\n",
       "      <td>ABACAVIR 300 mg comp. BTE/60</td>\n",
       "      <td>Non traceur</td>\n",
       "      <td>BTE/60</td>\n",
       "      <td>COMPRIME</td>\n",
       "      <td>60</td>\n",
       "      <td>None</td>\n",
       "      <td>1069.0</td>\n",
       "      <td>PNLS</td>\n",
       "      <td>10.965459</td>\n",
       "      <td>1.0</td>\n",
       "      <td>0.0</td>\n",
       "      <td>135</td>\n",
       "      <td>0</td>\n",
       "      <td>0</td>\n",
       "      <td>0</td>\n",
       "      <td>NaN</td>\n",
       "      <td>4145</td>\n",
       "      <td>-135.0</td>\n",
       "      <td>4280.0</td>\n",
       "      <td></td>\n",
       "      <td></td>\n",
       "      <td></td>\n",
       "    </tr>\n",
       "  </tbody>\n",
       "</table>\n",
       "</div>"
      ],
      "text/plain": [
       "   id_dim_produit_stock_track_pk  code_produit ancien_code        categorie  \\\n",
       "0                             40       3100001     AR33198  MEDICAMENTS ARV   \n",
       "1                             41       3100003     AR33196  MEDICAMENTS ARV   \n",
       "2                             42       3100004     AR33195  MEDICAMENTS ARV   \n",
       "\n",
       "                                         designation type_produit  \\\n",
       "0  ABACAVIR / LAMIVUDINE 120/60 mg comp disp. BTE/30      Traceur   \n",
       "1  ABACAVIR / LAMIVUDINE 600 mg / 300 mg comp. BT...  Non traceur   \n",
       "2                       ABACAVIR 300 mg comp. BTE/60  Non traceur   \n",
       "\n",
       "  unit_niveau_central unit_niveau_peripherique  facteur_de_conversion  \\\n",
       "0              BTE/30                 COMPRIME                     30   \n",
       "1              BTE/30                 COMPRIME                     30   \n",
       "2              BTE/60                 COMPRIME                     60   \n",
       "\n",
       "          designation_acronym code_qat programme  cout_unitaire_moyen_qat  \\\n",
       "0  ABC/3TC 120/60MG CP BTE/30   1073.0      PNLS                 3.316414   \n",
       "1  ABC/3TC 120/60MG CP BTE/30   1082.0      PNLS                 9.000000   \n",
       "2                        None   1069.0      PNLS                10.965459   \n",
       "\n",
       "   facteur_de_conversion_qat_sage  stock_theorique_mois_precedent  \\\n",
       "0                             1.0                         50058.0   \n",
       "1                             1.0                         34968.0   \n",
       "2                             1.0                             0.0   \n",
       "\n",
       "   Distribution effectuée  Quantité reçue entrée en stock  Quantité de PPI  \\\n",
       "0                    4643                               0                0   \n",
       "1                    1391                               0                0   \n",
       "2                     135                               0                0   \n",
       "\n",
       "   Quantité prélévée en Contrôle Qualité (CQ)  Ajustement de stock  \\\n",
       "0                                           0                  NaN   \n",
       "1                                           0                  NaN   \n",
       "2                                           0                  NaN   \n",
       "\n",
       "   Stock Théorique Final SAGE  Stock Théorique Final Attendu  ECARTS  \\\n",
       "0                       45532                        45415.0   117.0   \n",
       "1                       34201                        33577.0   624.0   \n",
       "2                        4145                         -135.0  4280.0   \n",
       "\n",
       "  Justification des écarts Diligences Dilig. Choisie  \n",
       "0                                                     \n",
       "1                                                     \n",
       "2                                                     "
      ]
     },
     "metadata": {},
     "output_type": "display_data"
    },
    {
     "name": "stdout",
     "output_type": "stream",
     "text": [
      "CPU times: user 608 ms, sys: 13 ms, total: 621 ms\n",
      "Wall time: 613 ms\n"
     ]
    }
   ],
   "source": [
    "%%time\n",
    "df_etat_stock = compute_indicators.annexe_1.get_etat_stock_current_month(\n",
    "    df_etat_stock.copy(),\n",
    "    df_stock_detaille.copy(),\n",
    "    df_distribution.copy(),\n",
    "    df_ppi.copy(),\n",
    "    df_prelevement.copy(),\n",
    "    df_receptions.copy(),\n",
    "    date_report\n",
    ")"
   ]
  },
  {
   "cell_type": "markdown",
   "id": "67fc32ed-308b-4166-ba9b-0ed51410cb58",
   "metadata": {
    "papermill": {
     "duration": 0.228161,
     "end_time": "2025-05-14T15:58:58.345348",
     "exception": false,
     "start_time": "2025-05-14T15:58:58.117187",
     "status": "completed"
    },
    "tags": []
   },
   "source": [
    "## 📌2.`Distributions et Consommations` - `Annexe 1`"
   ]
  },
  {
   "cell_type": "markdown",
   "id": "060791ec-5daf-443b-86a2-2a9e9046a654",
   "metadata": {
    "papermill": {
     "duration": 0.202971,
     "end_time": "2025-05-14T15:58:58.759039",
     "exception": false,
     "start_time": "2025-05-14T15:58:58.556068",
     "status": "completed"
    },
    "tags": []
   },
   "source": [
    "### 2.1.`Distributions`"
   ]
  },
  {
   "cell_type": "code",
   "execution_count": 22,
   "id": "3d47d66d-04ec-4f76-9aa3-b36d9fb31117",
   "metadata": {
    "execution": {
     "iopub.execute_input": "2025-05-14T15:58:59.147438Z",
     "iopub.status.busy": "2025-05-14T15:58:59.146517Z",
     "iopub.status.idle": "2025-05-14T15:58:59.504624Z",
     "shell.execute_reply": "2025-05-14T15:58:59.503538Z"
    },
    "papermill": {
     "duration": 0.531574,
     "end_time": "2025-05-14T15:58:59.506383",
     "exception": false,
     "start_time": "2025-05-14T15:58:58.974809",
     "status": "completed"
    },
    "tags": []
   },
   "outputs": [
    {
     "name": "stdout",
     "output_type": "stream",
     "text": [
      "CPU times: user 302 ms, sys: 2.72 ms, total: 305 ms\n",
      "Wall time: 352 ms\n"
     ]
    }
   ],
   "source": [
    "%%time\n",
    "df_dmm_curent, df_dmm_histo = compute_indicators.annexe_1.get_dmm_current_month(\n",
    "    df_etat_stock.copy(),\n",
    "    programme,\n",
    "    date_report,\n",
    "    stock_sync_manager.civ_engine\n",
    ")"
   ]
  },
  {
   "cell_type": "markdown",
   "id": "1646a2e7-aad7-4fdb-b9a6-9c9556df601e",
   "metadata": {
    "papermill": {
     "duration": 0.195448,
     "end_time": "2025-05-14T15:59:00.682900",
     "exception": false,
     "start_time": "2025-05-14T15:59:00.487452",
     "status": "completed"
    },
    "tags": []
   },
   "source": [
    "### 2.2.`Consommations`"
   ]
  },
  {
   "cell_type": "code",
   "execution_count": 23,
   "id": "25ad743a-e6e6-4481-8885-ca4057c65434",
   "metadata": {
    "editable": true,
    "execution": {
     "iopub.execute_input": "2025-05-14T15:59:08.142268Z",
     "iopub.status.busy": "2025-05-14T15:59:08.140918Z",
     "iopub.status.idle": "2025-05-14T15:59:08.213364Z",
     "shell.execute_reply": "2025-05-14T15:59:08.212383Z"
    },
    "papermill": {
     "duration": 0.337135,
     "end_time": "2025-05-14T15:59:08.214854",
     "exception": false,
     "start_time": "2025-05-14T15:59:07.877719",
     "status": "completed"
    },
    "slideshow": {
     "slide_type": ""
    },
    "tags": []
   },
   "outputs": [
    {
     "data": {
      "text/html": [
       "<div>\n",
       "<style scoped>\n",
       "    .dataframe tbody tr th:only-of-type {\n",
       "        vertical-align: middle;\n",
       "    }\n",
       "\n",
       "    .dataframe tbody tr th {\n",
       "        vertical-align: top;\n",
       "    }\n",
       "\n",
       "    .dataframe thead th {\n",
       "        text-align: right;\n",
       "    }\n",
       "</style>\n",
       "<table border=\"1\" class=\"dataframe\">\n",
       "  <thead>\n",
       "    <tr style=\"text-align: right;\">\n",
       "      <th></th>\n",
       "      <th>Programme</th>\n",
       "      <th>MSD</th>\n",
       "      <th>STATUT</th>\n",
       "      <th>CONSO</th>\n",
       "      <th>SDU</th>\n",
       "      <th>CMM</th>\n",
       "      <th>dispo_globale</th>\n",
       "      <th>dispo_globale_cible</th>\n",
       "      <th>dispo_traceur</th>\n",
       "      <th>dispo_traceur_cible</th>\n",
       "      <th>date_report</th>\n",
       "      <th>id_produit_fk</th>\n",
       "      <th>Code_region</th>\n",
       "      <th>region_order</th>\n",
       "      <th>statut_pourcentage</th>\n",
       "      <th>id_produit_pk</th>\n",
       "      <th>Code_produit</th>\n",
       "      <th>Produit_designation</th>\n",
       "      <th>Unit_rapportage</th>\n",
       "      <th>Categorie_produit</th>\n",
       "      <th>Categorie_du_produit</th>\n",
       "      <th>Code_sous_prog</th>\n",
       "    </tr>\n",
       "  </thead>\n",
       "  <tbody>\n",
       "    <tr>\n",
       "      <th>0</th>\n",
       "      <td>PNLS</td>\n",
       "      <td>3,7</td>\n",
       "      <td>BIEN STOCKE</td>\n",
       "      <td>156255</td>\n",
       "      <td>588198</td>\n",
       "      <td>158253.50</td>\n",
       "      <td>0.002797</td>\n",
       "      <td>0.003441</td>\n",
       "      <td>0.003649</td>\n",
       "      <td>0.003846</td>\n",
       "      <td>2025-03-31</td>\n",
       "      <td>97</td>\n",
       "      <td>NAT</td>\n",
       "      <td>None</td>\n",
       "      <td>0.004049</td>\n",
       "      <td>97</td>\n",
       "      <td>3100016</td>\n",
       "      <td>DOLUTEGRAVIR 10 mg comp. dispersible BTE/90 BT...</td>\n",
       "      <td>COMPRIME</td>\n",
       "      <td>Produit traceur</td>\n",
       "      <td>ARV-ENFANT</td>\n",
       "      <td>PNLS-1</td>\n",
       "    </tr>\n",
       "    <tr>\n",
       "      <th>1</th>\n",
       "      <td>PNLS</td>\n",
       "      <td>2,7</td>\n",
       "      <td>BIEN STOCKE</td>\n",
       "      <td>630487</td>\n",
       "      <td>2218676</td>\n",
       "      <td>814590.50</td>\n",
       "      <td>0.002797</td>\n",
       "      <td>0.003441</td>\n",
       "      <td>0.003649</td>\n",
       "      <td>0.003846</td>\n",
       "      <td>2025-03-31</td>\n",
       "      <td>161</td>\n",
       "      <td>NAT</td>\n",
       "      <td>None</td>\n",
       "      <td>0.004049</td>\n",
       "      <td>161</td>\n",
       "      <td>3120044</td>\n",
       "      <td>PRESERVATIF MASCULIN BTE/144 BTE  -</td>\n",
       "      <td>PRESERVATIF</td>\n",
       "      <td>Produit non traceur</td>\n",
       "      <td>AUTRE</td>\n",
       "      <td>PNLS-1</td>\n",
       "    </tr>\n",
       "    <tr>\n",
       "      <th>2</th>\n",
       "      <td>PNLS</td>\n",
       "      <td>4,0</td>\n",
       "      <td>BIEN STOCKE</td>\n",
       "      <td>222084</td>\n",
       "      <td>1104291</td>\n",
       "      <td>278226.25</td>\n",
       "      <td>0.002797</td>\n",
       "      <td>0.003441</td>\n",
       "      <td>0.003649</td>\n",
       "      <td>0.003846</td>\n",
       "      <td>2025-03-31</td>\n",
       "      <td>95</td>\n",
       "      <td>NAT</td>\n",
       "      <td>None</td>\n",
       "      <td>0.004049</td>\n",
       "      <td>95</td>\n",
       "      <td>3100013</td>\n",
       "      <td>DOLUTEGRAVIR /LAMIVUDINE/TENOFOVIR 50/300/300 ...</td>\n",
       "      <td>COMPRIME</td>\n",
       "      <td>Produit non traceur</td>\n",
       "      <td>MEDICAMENTS ET INTRANTS</td>\n",
       "      <td>PNLS-1</td>\n",
       "    </tr>\n",
       "  </tbody>\n",
       "</table>\n",
       "</div>"
      ],
      "text/plain": [
       "  Programme  MSD       STATUT   CONSO      SDU        CMM  dispo_globale  \\\n",
       "0      PNLS  3,7  BIEN STOCKE  156255   588198  158253.50       0.002797   \n",
       "1      PNLS  2,7  BIEN STOCKE  630487  2218676  814590.50       0.002797   \n",
       "2      PNLS  4,0  BIEN STOCKE  222084  1104291  278226.25       0.002797   \n",
       "\n",
       "   dispo_globale_cible  dispo_traceur  dispo_traceur_cible date_report  \\\n",
       "0             0.003441       0.003649             0.003846  2025-03-31   \n",
       "1             0.003441       0.003649             0.003846  2025-03-31   \n",
       "2             0.003441       0.003649             0.003846  2025-03-31   \n",
       "\n",
       "   id_produit_fk Code_region region_order  statut_pourcentage  id_produit_pk  \\\n",
       "0             97         NAT         None            0.004049             97   \n",
       "1            161         NAT         None            0.004049            161   \n",
       "2             95         NAT         None            0.004049             95   \n",
       "\n",
       "   Code_produit                                Produit_designation  \\\n",
       "0       3100016  DOLUTEGRAVIR 10 mg comp. dispersible BTE/90 BT...   \n",
       "1       3120044                PRESERVATIF MASCULIN BTE/144 BTE  -   \n",
       "2       3100013  DOLUTEGRAVIR /LAMIVUDINE/TENOFOVIR 50/300/300 ...   \n",
       "\n",
       "  Unit_rapportage    Categorie_produit     Categorie_du_produit Code_sous_prog  \n",
       "0        COMPRIME      Produit traceur               ARV-ENFANT         PNLS-1  \n",
       "1     PRESERVATIF  Produit non traceur                    AUTRE         PNLS-1  \n",
       "2        COMPRIME  Produit non traceur  MEDICAMENTS ET INTRANTS         PNLS-1  "
      ]
     },
     "execution_count": 23,
     "metadata": {},
     "output_type": "execute_result"
    }
   ],
   "source": [
    "# Pour avoir la CMM du mois courant une recherche est d'abord faite sur la feuille StockParRegion provenant du RapportFeedback\n",
    "eomonth = (pd.to_datetime(date_report) + pd.offsets.MonthEnd(0)).strftime(\"%Y-%m-%d\")\n",
    "\n",
    "df_stock_prog_nat = stock_sync_manager.get_table_data(\n",
    "    query = QUERY_ETAT_STOCK_PROGRAMME.format(eomonth=eomonth, programme=programme)\n",
    ")\n",
    "\n",
    "df_stock_prog_nat[\"Code_produit\"] = df_stock_prog_nat[\"Code_produit\"].astype(int)\n",
    "\n",
    "df_stock_prog_nat.head(3)"
   ]
  },
  {
   "cell_type": "code",
   "execution_count": 24,
   "id": "d5fa0de6-3909-46f5-b737-856e204c92ba",
   "metadata": {
    "execution": {
     "iopub.execute_input": "2025-05-14T15:59:08.632076Z",
     "iopub.status.busy": "2025-05-14T15:59:08.631153Z",
     "iopub.status.idle": "2025-05-14T15:59:08.979616Z",
     "shell.execute_reply": "2025-05-14T15:59:08.978808Z"
    },
    "papermill": {
     "duration": 0.545844,
     "end_time": "2025-05-14T15:59:08.980857",
     "exception": false,
     "start_time": "2025-05-14T15:59:08.435013",
     "status": "completed"
    },
    "tags": []
   },
   "outputs": [
    {
     "name": "stdout",
     "output_type": "stream",
     "text": [
      "CPU times: user 290 ms, sys: 1.04 ms, total: 291 ms\n",
      "Wall time: 342 ms\n"
     ]
    }
   ],
   "source": [
    "%%time\n",
    "df_cmm_curent, df_cmm_histo = compute_indicators.annexe_1.get_cmm_current_month(\n",
    "    df_etat_stock.copy(),\n",
    "    df_stock_prog_nat.copy(),\n",
    "    programme,\n",
    "    date_report,\n",
    "    stock_sync_manager.civ_engine,\n",
    ")"
   ]
  },
  {
   "cell_type": "markdown",
   "id": "e70f49b8-4d30-4e44-b255-72c0fd9ca0ea",
   "metadata": {
    "papermill": {
     "duration": 7.748291,
     "end_time": "2025-05-14T15:59:16.912614",
     "exception": false,
     "start_time": "2025-05-14T15:59:09.164323",
     "status": "completed"
    },
    "tags": []
   },
   "source": [
    "## 📌3. Calcul des indicateurs `Etat de stock (2/2)` `Annexe 2 - Suivi des Stocks`"
   ]
  },
  {
   "cell_type": "code",
   "execution_count": 25,
   "id": "2fbe9e4d-1190-4695-8df7-37a4737f6a19",
   "metadata": {
    "execution": {
     "iopub.execute_input": "2025-05-14T15:59:17.399823Z",
     "iopub.status.busy": "2025-05-14T15:59:17.398836Z",
     "iopub.status.idle": "2025-05-14T15:59:18.613643Z",
     "shell.execute_reply": "2025-05-14T15:59:18.612730Z"
    },
    "papermill": {
     "duration": 1.457968,
     "end_time": "2025-05-14T15:59:18.615410",
     "exception": false,
     "start_time": "2025-05-14T15:59:17.157442",
     "status": "completed"
    },
    "tags": []
   },
   "outputs": [
    {
     "data": {
      "text/html": [
       "<div>\n",
       "<style scoped>\n",
       "    .dataframe tbody tr th:only-of-type {\n",
       "        vertical-align: middle;\n",
       "    }\n",
       "\n",
       "    .dataframe tbody tr th {\n",
       "        vertical-align: top;\n",
       "    }\n",
       "\n",
       "    .dataframe thead th {\n",
       "        text-align: right;\n",
       "    }\n",
       "</style>\n",
       "<table border=\"1\" class=\"dataframe\">\n",
       "  <thead>\n",
       "    <tr style=\"text-align: right;\">\n",
       "      <th></th>\n",
       "      <th>Periode</th>\n",
       "      <th>Code_ets</th>\n",
       "      <th>stock_initial</th>\n",
       "      <th>qte_recue</th>\n",
       "      <th>qte_utilisee</th>\n",
       "      <th>perte_ajust</th>\n",
       "      <th>j_rupture</th>\n",
       "      <th>sdu</th>\n",
       "      <th>cmm_esigl</th>\n",
       "      <th>cmm_gest</th>\n",
       "      <th>qte_prop</th>\n",
       "      <th>qte_cmde</th>\n",
       "      <th>qte_approuv</th>\n",
       "      <th>msd</th>\n",
       "      <th>etat_stock</th>\n",
       "      <th>besoin_cmde_urg</th>\n",
       "      <th>besoin_trsf_in</th>\n",
       "      <th>qte_trsf_out</th>\n",
       "      <th>date_report</th>\n",
       "      <th>qte_cmde_mois_prec</th>\n",
       "      <th>etat_stock_mois_prec</th>\n",
       "      <th>id_produit_fk</th>\n",
       "      <th>id_produit_pk</th>\n",
       "      <th>Code_produit</th>\n",
       "      <th>Produit_designation</th>\n",
       "      <th>Unit_rapportage</th>\n",
       "      <th>Categorie_produit</th>\n",
       "      <th>Categorie_du_produit</th>\n",
       "      <th>Code_sous_prog</th>\n",
       "    </tr>\n",
       "  </thead>\n",
       "  <tbody>\n",
       "    <tr>\n",
       "      <th>5628</th>\n",
       "      <td>MARS 2025</td>\n",
       "      <td>50800030</td>\n",
       "      <td>6840</td>\n",
       "      <td>0</td>\n",
       "      <td>2490</td>\n",
       "      <td>0</td>\n",
       "      <td>0</td>\n",
       "      <td>4350</td>\n",
       "      <td>3640</td>\n",
       "      <td>3640.0</td>\n",
       "      <td>10210</td>\n",
       "      <td>10210.0</td>\n",
       "      <td>10210</td>\n",
       "      <td>1.195055</td>\n",
       "      <td>ENTRE PCU et MIN</td>\n",
       "      <td>NaN</td>\n",
       "      <td>NaN</td>\n",
       "      <td>NaN</td>\n",
       "      <td>2025-03-31</td>\n",
       "      <td>NaN</td>\n",
       "      <td>None</td>\n",
       "      <td>96</td>\n",
       "      <td>96</td>\n",
       "      <td>3100014</td>\n",
       "      <td>DOLUTEGRAVIR /LAMIVUDINE/TENOFOVIR 50/300/300 ...</td>\n",
       "      <td>COMPRIME</td>\n",
       "      <td>Produit traceur</td>\n",
       "      <td>MEDICAMENTS ET INTRANTS</td>\n",
       "      <td>PNLS-1</td>\n",
       "    </tr>\n",
       "    <tr>\n",
       "      <th>5986</th>\n",
       "      <td>MARS 2025</td>\n",
       "      <td>51600040</td>\n",
       "      <td>810</td>\n",
       "      <td>0</td>\n",
       "      <td>180</td>\n",
       "      <td>0</td>\n",
       "      <td>0</td>\n",
       "      <td>630</td>\n",
       "      <td>60</td>\n",
       "      <td>60.0</td>\n",
       "      <td>0</td>\n",
       "      <td>0.0</td>\n",
       "      <td>0</td>\n",
       "      <td>10.500000</td>\n",
       "      <td>SURSTOCK</td>\n",
       "      <td>NaN</td>\n",
       "      <td>NaN</td>\n",
       "      <td>390.0</td>\n",
       "      <td>2025-03-31</td>\n",
       "      <td>0.0</td>\n",
       "      <td>STOCK DORMANT</td>\n",
       "      <td>97</td>\n",
       "      <td>97</td>\n",
       "      <td>3100016</td>\n",
       "      <td>DOLUTEGRAVIR 10 mg comp. dispersible BTE/90 BT...</td>\n",
       "      <td>COMPRIME</td>\n",
       "      <td>Produit traceur</td>\n",
       "      <td>ARV-ENFANT</td>\n",
       "      <td>PNLS-1</td>\n",
       "    </tr>\n",
       "  </tbody>\n",
       "</table>\n",
       "</div>"
      ],
      "text/plain": [
       "        Periode  Code_ets  stock_initial  qte_recue  qte_utilisee  \\\n",
       "5628  MARS 2025  50800030           6840          0          2490   \n",
       "5986  MARS 2025  51600040            810          0           180   \n",
       "\n",
       "      perte_ajust  j_rupture   sdu  cmm_esigl  cmm_gest  qte_prop  qte_cmde  \\\n",
       "5628            0          0  4350       3640    3640.0     10210   10210.0   \n",
       "5986            0          0   630         60      60.0         0       0.0   \n",
       "\n",
       "      qte_approuv        msd        etat_stock  besoin_cmde_urg  \\\n",
       "5628        10210   1.195055  ENTRE PCU et MIN              NaN   \n",
       "5986            0  10.500000          SURSTOCK              NaN   \n",
       "\n",
       "      besoin_trsf_in  qte_trsf_out date_report  qte_cmde_mois_prec  \\\n",
       "5628             NaN           NaN  2025-03-31                 NaN   \n",
       "5986             NaN         390.0  2025-03-31                 0.0   \n",
       "\n",
       "     etat_stock_mois_prec  id_produit_fk  id_produit_pk  Code_produit  \\\n",
       "5628                 None             96             96       3100014   \n",
       "5986        STOCK DORMANT             97             97       3100016   \n",
       "\n",
       "                                    Produit_designation Unit_rapportage  \\\n",
       "5628  DOLUTEGRAVIR /LAMIVUDINE/TENOFOVIR 50/300/300 ...        COMPRIME   \n",
       "5986  DOLUTEGRAVIR 10 mg comp. dispersible BTE/90 BT...        COMPRIME   \n",
       "\n",
       "     Categorie_produit     Categorie_du_produit Code_sous_prog  \n",
       "5628   Produit traceur  MEDICAMENTS ET INTRANTS         PNLS-1  \n",
       "5986   Produit traceur               ARV-ENFANT         PNLS-1  "
      ]
     },
     "execution_count": 25,
     "metadata": {},
     "output_type": "execute_result"
    }
   ],
   "source": [
    "df_etat_stock_periph = stock_sync_manager.get_table_data(\n",
    "    query=QUERY_ETAT_STOCK_PERIPH.format(eomonth=eomonth)\n",
    ")\n",
    "\n",
    "df_etat_stock_periph = df_etat_stock_periph.loc[\n",
    "    df_etat_stock_periph.Code_sous_prog.str.contains(programme)\n",
    "]\n",
    "\n",
    "df_etat_stock_periph[\"Code_produit\"] = df_etat_stock_periph[\"Code_produit\"].astype(int)\n",
    "\n",
    "df_etat_stock_periph.head(2)"
   ]
  },
  {
   "cell_type": "code",
   "execution_count": 26,
   "id": "592788d1-ea93-4c42-b744-a068f22d23be",
   "metadata": {
    "execution": {
     "iopub.execute_input": "2025-05-14T15:59:19.089246Z",
     "iopub.status.busy": "2025-05-14T15:59:19.088770Z",
     "iopub.status.idle": "2025-05-14T15:59:19.095105Z",
     "shell.execute_reply": "2025-05-14T15:59:19.094117Z"
    },
    "papermill": {
     "duration": 0.243561,
     "end_time": "2025-05-14T15:59:19.096580",
     "exception": false,
     "start_time": "2025-05-14T15:59:18.853019",
     "status": "completed"
    },
    "tags": []
   },
   "outputs": [],
   "source": [
    "df_plan_approv[\"Quantité harmonisée (SAGE)\"] = df_plan_approv[\"Quantite\"]*df_plan_approv[\"facteur_de_conversion_qat_sage\"]"
   ]
  },
  {
   "cell_type": "code",
   "execution_count": 27,
   "id": "08d7bdd6-cf53-4c3c-bca3-c9f6c218a273",
   "metadata": {
    "execution": {
     "iopub.execute_input": "2025-05-14T15:59:19.542358Z",
     "iopub.status.busy": "2025-05-14T15:59:19.541263Z",
     "iopub.status.idle": "2025-05-14T15:59:21.897892Z",
     "shell.execute_reply": "2025-05-14T15:59:21.896615Z"
    },
    "papermill": {
     "duration": 2.574282,
     "end_time": "2025-05-14T15:59:21.899409",
     "exception": false,
     "start_time": "2025-05-14T15:59:19.325127",
     "status": "completed"
    },
    "tags": []
   },
   "outputs": [
    {
     "data": {
      "text/html": [
       "<div>\n",
       "<style scoped>\n",
       "    .dataframe tbody tr th:only-of-type {\n",
       "        vertical-align: middle;\n",
       "    }\n",
       "\n",
       "    .dataframe tbody tr th {\n",
       "        vertical-align: top;\n",
       "    }\n",
       "\n",
       "    .dataframe thead th {\n",
       "        text-align: right;\n",
       "    }\n",
       "</style>\n",
       "<table border=\"1\" class=\"dataframe\">\n",
       "  <thead>\n",
       "    <tr style=\"text-align: right;\">\n",
       "      <th></th>\n",
       "      <th>id_dim_produit_stock_track_fk</th>\n",
       "      <th>stock_theorique_mois_precedent</th>\n",
       "      <th>distribution_effectuee</th>\n",
       "      <th>quantite_recue_stock</th>\n",
       "      <th>quantite_ppi</th>\n",
       "      <th>quantite_prelevee_cq</th>\n",
       "      <th>ajustement_stock</th>\n",
       "      <th>stock_theorique_final_sage</th>\n",
       "      <th>stock_theorique_final_attendu</th>\n",
       "      <th>ecarts</th>\n",
       "      <th>justification_ecarts</th>\n",
       "      <th>diligences</th>\n",
       "      <th>sdu_central_annexe_2</th>\n",
       "      <th>dmm_central_annexe_2</th>\n",
       "      <th>msd_central_annexe_2</th>\n",
       "      <th>statut_central_annexe_2</th>\n",
       "      <th>conso_decentralise_annexe_2</th>\n",
       "      <th>sdu_decentralise_annexe_2</th>\n",
       "      <th>cmm_decentralise_annexe_2</th>\n",
       "      <th>msd_decentralise_annexe_2</th>\n",
       "      <th>statut_decentralise_annexe_2</th>\n",
       "      <th>nombre_de_site_en_rupture_annexe_2</th>\n",
       "      <th>sdu_national_annexe_2</th>\n",
       "      <th>cmm_national_annexe_2</th>\n",
       "      <th>msd_national_annexe_2</th>\n",
       "      <th>statut_national_annexe_2</th>\n",
       "      <th>date_peremption_plus_proche_brute_annexe_2</th>\n",
       "      <th>date_peremption_plus_proche_annexe_2</th>\n",
       "      <th>quantite_correspondante_annexe_2</th>\n",
       "      <th>msd_correspondant_annexe_2</th>\n",
       "      <th>quantite_attendue_annexe_2</th>\n",
       "      <th>msd_attendu_annexe_2</th>\n",
       "      <th>quantite_non_stockee_annexe_2</th>\n",
       "      <th>msd_recu_annexe_2</th>\n",
       "      <th>financement_annexe_2</th>\n",
       "      <th>date_probable_livraison_annexe_2</th>\n",
       "      <th>date_effective_livraison_annexe_2</th>\n",
       "      <th>statut_annexe_2</th>\n",
       "      <th>analyse_risque_commentaires_annexe_2</th>\n",
       "      <th>diligences_central_annexe_2</th>\n",
       "      <th>diligences_peripherique_annexe_2</th>\n",
       "      <th>responsable_annexe_2</th>\n",
       "      <th>dilig_choisie_annexe_2</th>\n",
       "      <th>date_report</th>\n",
       "    </tr>\n",
       "  </thead>\n",
       "  <tbody>\n",
       "    <tr>\n",
       "      <th>0</th>\n",
       "      <td>40</td>\n",
       "      <td>50058.0</td>\n",
       "      <td>4643</td>\n",
       "      <td>0</td>\n",
       "      <td>0</td>\n",
       "      <td>0</td>\n",
       "      <td>NaN</td>\n",
       "      <td>45532</td>\n",
       "      <td>45415.0</td>\n",
       "      <td>117.0</td>\n",
       "      <td></td>\n",
       "      <td></td>\n",
       "      <td>45532</td>\n",
       "      <td>6832.000000</td>\n",
       "      <td>6,7</td>\n",
       "      <td>Bien Stocké</td>\n",
       "      <td>8523</td>\n",
       "      <td>31292</td>\n",
       "      <td>9005</td>\n",
       "      <td>3,5</td>\n",
       "      <td>Bien Stocké</td>\n",
       "      <td>3</td>\n",
       "      <td>76824</td>\n",
       "      <td>9005</td>\n",
       "      <td>8,5</td>\n",
       "      <td>Bien Stocké</td>\n",
       "      <td>2027-01-01</td>\n",
       "      <td>2027-01-01</td>\n",
       "      <td>5.0</td>\n",
       "      <td>0,0</td>\n",
       "      <td>0.0</td>\n",
       "      <td>0,0</td>\n",
       "      <td>0</td>\n",
       "      <td>0,0</td>\n",
       "      <td></td>\n",
       "      <td>NaT</td>\n",
       "      <td>NaT</td>\n",
       "      <td></td>\n",
       "      <td></td>\n",
       "      <td></td>\n",
       "      <td></td>\n",
       "      <td></td>\n",
       "      <td></td>\n",
       "      <td>2025-03-01</td>\n",
       "    </tr>\n",
       "    <tr>\n",
       "      <th>1</th>\n",
       "      <td>41</td>\n",
       "      <td>34968.0</td>\n",
       "      <td>1391</td>\n",
       "      <td>0</td>\n",
       "      <td>0</td>\n",
       "      <td>0</td>\n",
       "      <td>NaN</td>\n",
       "      <td>34201</td>\n",
       "      <td>33577.0</td>\n",
       "      <td>624.0</td>\n",
       "      <td></td>\n",
       "      <td></td>\n",
       "      <td>34201</td>\n",
       "      <td>2427.666667</td>\n",
       "      <td>14,1</td>\n",
       "      <td>SurStock</td>\n",
       "      <td>2497</td>\n",
       "      <td>11939</td>\n",
       "      <td>2752</td>\n",
       "      <td>4,3</td>\n",
       "      <td>SurStock</td>\n",
       "      <td>11</td>\n",
       "      <td>46140</td>\n",
       "      <td>2752</td>\n",
       "      <td>16,8</td>\n",
       "      <td>SurStock</td>\n",
       "      <td>2025-10-01</td>\n",
       "      <td>2025-10-01</td>\n",
       "      <td>3446.0</td>\n",
       "      <td>1,4</td>\n",
       "      <td>0.0</td>\n",
       "      <td>0,0</td>\n",
       "      <td>0</td>\n",
       "      <td>0,0</td>\n",
       "      <td></td>\n",
       "      <td>NaT</td>\n",
       "      <td>NaT</td>\n",
       "      <td></td>\n",
       "      <td></td>\n",
       "      <td></td>\n",
       "      <td></td>\n",
       "      <td></td>\n",
       "      <td></td>\n",
       "      <td>2025-03-01</td>\n",
       "    </tr>\n",
       "    <tr>\n",
       "      <th>2</th>\n",
       "      <td>42</td>\n",
       "      <td>0.0</td>\n",
       "      <td>135</td>\n",
       "      <td>0</td>\n",
       "      <td>0</td>\n",
       "      <td>0</td>\n",
       "      <td>NaN</td>\n",
       "      <td>4145</td>\n",
       "      <td>-135.0</td>\n",
       "      <td>4280.0</td>\n",
       "      <td></td>\n",
       "      <td></td>\n",
       "      <td>4145</td>\n",
       "      <td>27.000000</td>\n",
       "      <td>153,5</td>\n",
       "      <td>SurStock</td>\n",
       "      <td>34</td>\n",
       "      <td>94</td>\n",
       "      <td>63</td>\n",
       "      <td>1,5</td>\n",
       "      <td>Sous-Stock</td>\n",
       "      <td>10</td>\n",
       "      <td>4239</td>\n",
       "      <td>63</td>\n",
       "      <td>67,3</td>\n",
       "      <td>SurStock</td>\n",
       "      <td>2028-11-01</td>\n",
       "      <td>2028-11-01</td>\n",
       "      <td>4145.0</td>\n",
       "      <td>153,5</td>\n",
       "      <td>0.0</td>\n",
       "      <td>0,0</td>\n",
       "      <td>0</td>\n",
       "      <td>0,0</td>\n",
       "      <td></td>\n",
       "      <td>NaT</td>\n",
       "      <td>NaT</td>\n",
       "      <td></td>\n",
       "      <td></td>\n",
       "      <td></td>\n",
       "      <td></td>\n",
       "      <td></td>\n",
       "      <td></td>\n",
       "      <td>2025-03-01</td>\n",
       "    </tr>\n",
       "  </tbody>\n",
       "</table>\n",
       "</div>"
      ],
      "text/plain": [
       "   id_dim_produit_stock_track_fk  stock_theorique_mois_precedent  \\\n",
       "0                             40                         50058.0   \n",
       "1                             41                         34968.0   \n",
       "2                             42                             0.0   \n",
       "\n",
       "   distribution_effectuee  quantite_recue_stock  quantite_ppi  \\\n",
       "0                    4643                     0             0   \n",
       "1                    1391                     0             0   \n",
       "2                     135                     0             0   \n",
       "\n",
       "   quantite_prelevee_cq  ajustement_stock  stock_theorique_final_sage  \\\n",
       "0                     0               NaN                       45532   \n",
       "1                     0               NaN                       34201   \n",
       "2                     0               NaN                        4145   \n",
       "\n",
       "   stock_theorique_final_attendu  ecarts justification_ecarts diligences  \\\n",
       "0                        45415.0   117.0                                   \n",
       "1                        33577.0   624.0                                   \n",
       "2                         -135.0  4280.0                                   \n",
       "\n",
       "   sdu_central_annexe_2  dmm_central_annexe_2 msd_central_annexe_2  \\\n",
       "0                 45532           6832.000000                  6,7   \n",
       "1                 34201           2427.666667                 14,1   \n",
       "2                  4145             27.000000                153,5   \n",
       "\n",
       "  statut_central_annexe_2  conso_decentralise_annexe_2  \\\n",
       "0             Bien Stocké                         8523   \n",
       "1                SurStock                         2497   \n",
       "2                SurStock                           34   \n",
       "\n",
       "   sdu_decentralise_annexe_2  cmm_decentralise_annexe_2  \\\n",
       "0                      31292                       9005   \n",
       "1                      11939                       2752   \n",
       "2                         94                         63   \n",
       "\n",
       "  msd_decentralise_annexe_2 statut_decentralise_annexe_2  \\\n",
       "0                       3,5                  Bien Stocké   \n",
       "1                       4,3                     SurStock   \n",
       "2                       1,5                   Sous-Stock   \n",
       "\n",
       "   nombre_de_site_en_rupture_annexe_2  sdu_national_annexe_2  \\\n",
       "0                                   3                  76824   \n",
       "1                                  11                  46140   \n",
       "2                                  10                   4239   \n",
       "\n",
       "   cmm_national_annexe_2 msd_national_annexe_2 statut_national_annexe_2  \\\n",
       "0                   9005                   8,5              Bien Stocké   \n",
       "1                   2752                  16,8                 SurStock   \n",
       "2                     63                  67,3                 SurStock   \n",
       "\n",
       "  date_peremption_plus_proche_brute_annexe_2  \\\n",
       "0                                 2027-01-01   \n",
       "1                                 2025-10-01   \n",
       "2                                 2028-11-01   \n",
       "\n",
       "  date_peremption_plus_proche_annexe_2  quantite_correspondante_annexe_2  \\\n",
       "0                           2027-01-01                               5.0   \n",
       "1                           2025-10-01                            3446.0   \n",
       "2                           2028-11-01                            4145.0   \n",
       "\n",
       "  msd_correspondant_annexe_2  quantite_attendue_annexe_2 msd_attendu_annexe_2  \\\n",
       "0                        0,0                         0.0                  0,0   \n",
       "1                        1,4                         0.0                  0,0   \n",
       "2                      153,5                         0.0                  0,0   \n",
       "\n",
       "   quantite_non_stockee_annexe_2 msd_recu_annexe_2 financement_annexe_2  \\\n",
       "0                              0               0,0                        \n",
       "1                              0               0,0                        \n",
       "2                              0               0,0                        \n",
       "\n",
       "  date_probable_livraison_annexe_2 date_effective_livraison_annexe_2  \\\n",
       "0                              NaT                               NaT   \n",
       "1                              NaT                               NaT   \n",
       "2                              NaT                               NaT   \n",
       "\n",
       "  statut_annexe_2 analyse_risque_commentaires_annexe_2  \\\n",
       "0                                                        \n",
       "1                                                        \n",
       "2                                                        \n",
       "\n",
       "  diligences_central_annexe_2 diligences_peripherique_annexe_2  \\\n",
       "0                                                                \n",
       "1                                                                \n",
       "2                                                                \n",
       "\n",
       "  responsable_annexe_2 dilig_choisie_annexe_2 date_report  \n",
       "0                                              2025-03-01  \n",
       "1                                              2025-03-01  \n",
       "2                                              2025-03-01  "
      ]
     },
     "metadata": {},
     "output_type": "display_data"
    },
    {
     "name": "stdout",
     "output_type": "stream",
     "text": [
      "CPU times: user 2.35 s, sys: 4.04 ms, total: 2.35 s\n",
      "Wall time: 2.35 s\n"
     ]
    }
   ],
   "source": [
    "%%time\n",
    "df_etat_stock = compute_indicators.annexe_2(\n",
    "    df_etat_stock,\n",
    "    df_dmm_curent.copy(),\n",
    "    df_stock_prog_nat.copy(),\n",
    "    df_etat_stock_periph.copy(),\n",
    "    df_stock_detaille.copy(),\n",
    "    df_receptions.copy(),\n",
    "    df_plan_approv.copy(),\n",
    "    date_report,\n",
    ")"
   ]
  },
  {
   "cell_type": "markdown",
   "id": "76c5e978-145b-4cb3-aa25-fb14eb470ff4",
   "metadata": {
    "papermill": {
     "duration": 4.018237,
     "end_time": "2025-05-14T15:59:26.154135",
     "exception": false,
     "start_time": "2025-05-14T15:59:22.135898",
     "status": "completed"
    },
    "tags": []
   },
   "source": [
    "# V.Exportation des données\n",
    "\n",
    "Avant d’exporter les données, il est essentiel de s’assurer qu’aucune information relative à la période en cours n’est déjà présente dans les différentes tables.  \r\n",
    "Si des données existent, une suppression devra être effectuée avant l’export."
   ]
  },
  {
   "cell_type": "markdown",
   "id": "040e8f88-31a1-4bd0-a32b-d2a10d2aa29b",
   "metadata": {
    "papermill": {
     "duration": 0.213385,
     "end_time": "2025-05-14T15:59:26.601850",
     "exception": false,
     "start_time": "2025-05-14T15:59:26.388465",
     "status": "completed"
    },
    "tags": []
   },
   "source": [
    "## 1. `Etat de Stock`"
   ]
  },
  {
   "cell_type": "code",
   "execution_count": 28,
   "id": "69402d6e-0979-4fe7-aef4-7a578d7c4948",
   "metadata": {
    "execution": {
     "iopub.execute_input": "2025-05-14T15:59:27.257582Z",
     "iopub.status.busy": "2025-05-14T15:59:27.257212Z",
     "iopub.status.idle": "2025-05-14T15:59:27.387885Z",
     "shell.execute_reply": "2025-05-14T15:59:27.387142Z"
    },
    "papermill": {
     "duration": 0.507361,
     "end_time": "2025-05-14T15:59:27.389609",
     "exception": false,
     "start_time": "2025-05-14T15:59:26.882248",
     "status": "completed"
    },
    "tags": []
   },
   "outputs": [],
   "source": [
    "id_list = list(map(int, df_etat_stock.id_dim_produit_stock_track_fk.unique()))\n",
    "placeholders = \", \".join([\"%s\"] * len(id_list))\n",
    "\n",
    "query = f\"\"\"\n",
    "DELETE FROM {schema_name}.stock_track\n",
    "WHERE date_report = '{date_report}' AND id_dim_produit_stock_track_fk IN ({placeholders});\n",
    "\"\"\"\n",
    "\n",
    "stock_sync_manager.civ_cursor.execute(query, list(id_list))\n",
    "stock_sync_manager.conn.commit()"
   ]
  },
  {
   "cell_type": "code",
   "execution_count": 29,
   "id": "92ca91ab-0797-414f-8c9c-3c5a185a2d0f",
   "metadata": {
    "execution": {
     "iopub.execute_input": "2025-05-14T15:59:28.025352Z",
     "iopub.status.busy": "2025-05-14T15:59:28.024904Z",
     "iopub.status.idle": "2025-05-14T15:59:28.489302Z",
     "shell.execute_reply": "2025-05-14T15:59:28.488426Z"
    },
    "papermill": {
     "duration": 0.698967,
     "end_time": "2025-05-14T15:59:28.490699",
     "exception": false,
     "start_time": "2025-05-14T15:59:27.791732",
     "status": "completed"
    },
    "tags": []
   },
   "outputs": [
    {
     "data": {
      "text/plain": [
       "'Insertion de 280 enrégistrements réussie'"
      ]
     },
     "execution_count": 29,
     "metadata": {},
     "output_type": "execute_result"
    }
   ],
   "source": [
    "assert df_etat_stock.date_report.unique().shape[0] == 1\n",
    "\n",
    "stock_sync_manager.insert_dataframe_to_table(df_etat_stock, \"stock_track\")"
   ]
  },
  {
   "cell_type": "markdown",
   "id": "08ed5151-ee3a-421c-8a19-5c03d4fd165b",
   "metadata": {
    "papermill": {
     "duration": 2.01985,
     "end_time": "2025-05-14T15:59:35.705754",
     "exception": false,
     "start_time": "2025-05-14T15:59:33.685904",
     "status": "completed"
    },
    "tags": []
   },
   "source": [
    "## 2. `Distributions`"
   ]
  },
  {
   "cell_type": "markdown",
   "id": "49e72b21-a586-4738-a5c9-95501a6db06c",
   "metadata": {
    "papermill": {
     "duration": 0.191088,
     "end_time": "2025-05-14T15:59:36.713511",
     "exception": false,
     "start_time": "2025-05-14T15:59:36.522423",
     "status": "completed"
    },
    "tags": []
   },
   "source": [
    "### 2.1.`Distributions mois courant` "
   ]
  },
  {
   "cell_type": "code",
   "execution_count": 30,
   "id": "6521c5ac-f762-4e55-b890-7d9751143a2e",
   "metadata": {
    "execution": {
     "iopub.execute_input": "2025-05-14T15:59:37.112619Z",
     "iopub.status.busy": "2025-05-14T15:59:37.111801Z",
     "iopub.status.idle": "2025-05-14T15:59:37.207441Z",
     "shell.execute_reply": "2025-05-14T15:59:37.206536Z"
    },
    "papermill": {
     "duration": 0.298719,
     "end_time": "2025-05-14T15:59:37.209101",
     "exception": false,
     "start_time": "2025-05-14T15:59:36.910382",
     "status": "completed"
    },
    "tags": []
   },
   "outputs": [],
   "source": [
    "id_list = list(map(int, df_dmm_curent.id_dim_produit_stock_track_fk.unique()))\n",
    "placeholders = \", \".join([\"%s\"] * len(id_list))\n",
    "\n",
    "query = f\"\"\"\n",
    "DELETE FROM {schema_name}.stock_track_dmm\n",
    "WHERE date_report = %s AND id_dim_produit_stock_track_fk IN ({placeholders});\n",
    "\"\"\"\n",
    "\n",
    "stock_sync_manager.civ_cursor.execute(query, [date_report] + list(id_list))\n",
    "stock_sync_manager.conn.commit()"
   ]
  },
  {
   "cell_type": "code",
   "execution_count": 31,
   "id": "0a8a2973-b667-403c-8102-fb9417afdf11",
   "metadata": {
    "execution": {
     "iopub.execute_input": "2025-05-14T15:59:37.879568Z",
     "iopub.status.busy": "2025-05-14T15:59:37.878485Z",
     "iopub.status.idle": "2025-05-14T15:59:38.061009Z",
     "shell.execute_reply": "2025-05-14T15:59:38.059903Z"
    },
    "papermill": {
     "duration": 0.512292,
     "end_time": "2025-05-14T15:59:38.062937",
     "exception": false,
     "start_time": "2025-05-14T15:59:37.550645",
     "status": "completed"
    },
    "tags": []
   },
   "outputs": [
    {
     "data": {
      "text/plain": [
       "'Insertion de 280 enrégistrements réussie'"
      ]
     },
     "execution_count": 31,
     "metadata": {},
     "output_type": "execute_result"
    }
   ],
   "source": [
    "assert df_dmm_curent.date_report.unique().shape[0] == 1\n",
    "\n",
    "stock_sync_manager.insert_dataframe_to_table(df_dmm_curent, \"stock_track_dmm\")"
   ]
  },
  {
   "cell_type": "markdown",
   "id": "1bf275e1-f2ea-4d6d-8205-713e903663d0",
   "metadata": {
    "papermill": {
     "duration": 0.395548,
     "end_time": "2025-05-14T15:59:38.653866",
     "exception": false,
     "start_time": "2025-05-14T15:59:38.258318",
     "status": "completed"
    },
    "tags": []
   },
   "source": [
    "### 2.2.`Distributions hitoriques considérées pour le mois en cours`"
   ]
  },
  {
   "cell_type": "code",
   "execution_count": 32,
   "id": "4b89b9f1-3f48-4e83-9c2f-43b49edfeb78",
   "metadata": {
    "execution": {
     "iopub.execute_input": "2025-05-14T15:59:55.630812Z",
     "iopub.status.busy": "2025-05-14T15:59:55.629734Z",
     "iopub.status.idle": "2025-05-14T15:59:55.708200Z",
     "shell.execute_reply": "2025-05-14T15:59:55.707027Z"
    },
    "papermill": {
     "duration": 12.159995,
     "end_time": "2025-05-14T15:59:55.710327",
     "exception": false,
     "start_time": "2025-05-14T15:59:43.550332",
     "status": "completed"
    },
    "tags": []
   },
   "outputs": [],
   "source": [
    "id_list = list(map(int, df_dmm_histo.id_dim_produit_stock_track_fk.unique()))\n",
    "placeholders = \", \".join([\"%s\"] * len(id_list))\n",
    "\n",
    "query = f\"\"\"\n",
    "DELETE FROM {schema_name}.stock_track_dmm_histo\n",
    "WHERE date_report = %s AND id_dim_produit_stock_track_fk IN ({placeholders});\n",
    "\"\"\"\n",
    "\n",
    "stock_sync_manager.civ_cursor.execute(query, [date_report] + list(id_list))\n",
    "stock_sync_manager.conn.commit()"
   ]
  },
  {
   "cell_type": "code",
   "execution_count": 33,
   "id": "8ea960f0-b89f-4b63-ae20-4ebb25009608",
   "metadata": {
    "execution": {
     "iopub.execute_input": "2025-05-14T15:59:56.233629Z",
     "iopub.status.busy": "2025-05-14T15:59:56.233211Z",
     "iopub.status.idle": "2025-05-14T15:59:56.596391Z",
     "shell.execute_reply": "2025-05-14T15:59:56.595492Z"
    },
    "papermill": {
     "duration": 0.587127,
     "end_time": "2025-05-14T15:59:56.598367",
     "exception": false,
     "start_time": "2025-05-14T15:59:56.011240",
     "status": "completed"
    },
    "tags": []
   },
   "outputs": [
    {
     "data": {
      "text/plain": [
       "'Insertion de 1680 enrégistrements réussie'"
      ]
     },
     "execution_count": 33,
     "metadata": {},
     "output_type": "execute_result"
    }
   ],
   "source": [
    "assert df_dmm_histo.date_report.unique().shape[0] == 1\n",
    "\n",
    "stock_sync_manager.insert_dataframe_to_table(df_dmm_histo, \"stock_track_dmm_histo\")"
   ]
  },
  {
   "cell_type": "markdown",
   "id": "e131d312-d116-4302-98e5-c568b1e2e2a7",
   "metadata": {
    "papermill": {
     "duration": 0.183434,
     "end_time": "2025-05-14T15:59:56.992548",
     "exception": false,
     "start_time": "2025-05-14T15:59:56.809114",
     "status": "completed"
    },
    "tags": []
   },
   "source": [
    "## 3.`Consommations`"
   ]
  },
  {
   "cell_type": "markdown",
   "id": "705086d0-c23a-4856-bc5b-cd1ca88b99af",
   "metadata": {
    "papermill": {
     "duration": 0.206407,
     "end_time": "2025-05-14T15:59:57.408152",
     "exception": false,
     "start_time": "2025-05-14T15:59:57.201745",
     "status": "completed"
    },
    "tags": []
   },
   "source": [
    "### 3.1. `Consommations mois courant`"
   ]
  },
  {
   "cell_type": "code",
   "execution_count": 34,
   "id": "2e0f6f54-86c1-4583-bb9a-a15dbd160f12",
   "metadata": {
    "execution": {
     "iopub.execute_input": "2025-05-14T15:59:58.547739Z",
     "iopub.status.busy": "2025-05-14T15:59:58.547409Z",
     "iopub.status.idle": "2025-05-14T15:59:58.631267Z",
     "shell.execute_reply": "2025-05-14T15:59:58.630549Z"
    },
    "papermill": {
     "duration": 0.329757,
     "end_time": "2025-05-14T15:59:58.633168",
     "exception": false,
     "start_time": "2025-05-14T15:59:58.303411",
     "status": "completed"
    },
    "tags": []
   },
   "outputs": [],
   "source": [
    "id_list = list(map(int, df_cmm_curent.id_dim_produit_stock_track_fk.unique()))\n",
    "placeholders = \", \".join([\"%s\"] * len(id_list))\n",
    "\n",
    "query = f\"\"\"\n",
    "DELETE FROM {schema_name}.stock_track_cmm\n",
    "WHERE date_report = %s AND id_dim_produit_stock_track_fk IN ({placeholders});\n",
    "\"\"\"\n",
    "\n",
    "stock_sync_manager.civ_cursor.execute(query, [date_report] + list(id_list))\n",
    "stock_sync_manager.conn.commit()"
   ]
  },
  {
   "cell_type": "code",
   "execution_count": 35,
   "id": "42f04db9-4a08-4a21-a68e-5adf91cd5550",
   "metadata": {
    "execution": {
     "iopub.execute_input": "2025-05-14T16:00:12.648835Z",
     "iopub.status.busy": "2025-05-14T16:00:12.647818Z",
     "iopub.status.idle": "2025-05-14T16:00:12.867552Z",
     "shell.execute_reply": "2025-05-14T16:00:12.866312Z"
    },
    "papermill": {
     "duration": 10.722523,
     "end_time": "2025-05-14T16:00:12.871618",
     "exception": false,
     "start_time": "2025-05-14T16:00:02.149095",
     "status": "completed"
    },
    "tags": []
   },
   "outputs": [
    {
     "data": {
      "text/plain": [
       "'Insertion de 280 enrégistrements réussie'"
      ]
     },
     "execution_count": 35,
     "metadata": {},
     "output_type": "execute_result"
    }
   ],
   "source": [
    "assert df_cmm_curent.date_report.unique().shape[0] == 1\n",
    "\n",
    "stock_sync_manager.insert_dataframe_to_table(df_cmm_curent, \"stock_track_cmm\")"
   ]
  },
  {
   "cell_type": "markdown",
   "id": "17810bb8-a058-442e-b3ff-e6e15d22e308",
   "metadata": {
    "papermill": {
     "duration": 0.344664,
     "end_time": "2025-05-14T16:00:13.502670",
     "exception": false,
     "start_time": "2025-05-14T16:00:13.158006",
     "status": "completed"
    },
    "tags": []
   },
   "source": [
    "### 3.2.`Consommations hitoriques considérées pour le mois en cours`"
   ]
  },
  {
   "cell_type": "code",
   "execution_count": 36,
   "id": "6620b4be-6236-48cb-ac47-ab56e9970189",
   "metadata": {
    "execution": {
     "iopub.execute_input": "2025-05-14T16:00:15.757379Z",
     "iopub.status.busy": "2025-05-14T16:00:15.756243Z",
     "iopub.status.idle": "2025-05-14T16:00:15.902389Z",
     "shell.execute_reply": "2025-05-14T16:00:15.901017Z"
    },
    "papermill": {
     "duration": 0.588504,
     "end_time": "2025-05-14T16:00:15.904678",
     "exception": false,
     "start_time": "2025-05-14T16:00:15.316174",
     "status": "completed"
    },
    "tags": []
   },
   "outputs": [],
   "source": [
    "id_list = list(map(int, df_cmm_histo.id_dim_produit_stock_track_fk.unique()))\n",
    "placeholders = \", \".join([\"%s\"] * len(id_list))\n",
    "\n",
    "query = f\"\"\"\n",
    "DELETE FROM {schema_name}.stock_track_cmm_histo\n",
    "WHERE date_report = %s AND id_dim_produit_stock_track_fk IN ({placeholders});\n",
    "\"\"\"\n",
    "\n",
    "stock_sync_manager.civ_cursor.execute(query, [date_report] + list(id_list))\n",
    "stock_sync_manager.conn.commit()"
   ]
  },
  {
   "cell_type": "code",
   "execution_count": 37,
   "id": "c259b171-ca49-4521-9228-885b23fd4b6c",
   "metadata": {
    "execution": {
     "iopub.execute_input": "2025-05-14T16:00:16.486285Z",
     "iopub.status.busy": "2025-05-14T16:00:16.481991Z",
     "iopub.status.idle": "2025-05-14T16:00:16.973744Z",
     "shell.execute_reply": "2025-05-14T16:00:16.965655Z"
    },
    "papermill": {
     "duration": 0.805432,
     "end_time": "2025-05-14T16:00:16.979209",
     "exception": false,
     "start_time": "2025-05-14T16:00:16.173777",
     "status": "completed"
    },
    "tags": []
   },
   "outputs": [
    {
     "data": {
      "text/plain": [
       "'Insertion de 1680 enrégistrements réussie'"
      ]
     },
     "execution_count": 37,
     "metadata": {},
     "output_type": "execute_result"
    }
   ],
   "source": [
    "assert df_dmm_histo.date_report.unique().shape[0] == 1\n",
    "\n",
    "stock_sync_manager.insert_dataframe_to_table(df_cmm_histo, \"stock_track_cmm_histo\")"
   ]
  },
  {
   "cell_type": "markdown",
   "id": "0c75f908-6510-42b7-9e4e-9d11f2a3caff",
   "metadata": {
    "papermill": {
     "duration": 0.251769,
     "end_time": "2025-05-14T16:00:18.331061",
     "exception": false,
     "start_time": "2025-05-14T16:00:18.079292",
     "status": "completed"
    },
    "tags": []
   },
   "source": [
    "## 4.`Stock détaillé`"
   ]
  },
  {
   "cell_type": "code",
   "execution_count": 38,
   "id": "0b0b73f7-3add-486f-9dd3-e3d900aba61d",
   "metadata": {
    "execution": {
     "iopub.execute_input": "2025-05-14T16:00:18.839988Z",
     "iopub.status.busy": "2025-05-14T16:00:18.839471Z",
     "iopub.status.idle": "2025-05-14T16:00:18.863239Z",
     "shell.execute_reply": "2025-05-14T16:00:18.861973Z"
    },
    "papermill": {
     "duration": 0.274811,
     "end_time": "2025-05-14T16:00:18.867131",
     "exception": false,
     "start_time": "2025-05-14T16:00:18.592320",
     "status": "completed"
    },
    "tags": []
   },
   "outputs": [],
   "source": [
    "dim_produit = pd.read_sql(\n",
    "    f\"SELECT * FROM {schema_name}.dim_produit_stock_track where programme='{programme}'\",\n",
    "    stock_sync_manager.civ_engine,\n",
    ")"
   ]
  },
  {
   "cell_type": "code",
   "execution_count": 39,
   "id": "c876a5cd-de28-494a-9e81-88fd9de9024f",
   "metadata": {
    "execution": {
     "iopub.execute_input": "2025-05-14T16:00:19.433043Z",
     "iopub.status.busy": "2025-05-14T16:00:19.432051Z",
     "iopub.status.idle": "2025-05-14T16:00:19.463557Z",
     "shell.execute_reply": "2025-05-14T16:00:19.459387Z"
    },
    "papermill": {
     "duration": 0.335567,
     "end_time": "2025-05-14T16:00:19.468780",
     "exception": false,
     "start_time": "2025-05-14T16:00:19.133213",
     "status": "completed"
    },
    "tags": []
   },
   "outputs": [
    {
     "data": {
      "text/html": [
       "<div>\n",
       "<style scoped>\n",
       "    .dataframe tbody tr th:only-of-type {\n",
       "        vertical-align: middle;\n",
       "    }\n",
       "\n",
       "    .dataframe tbody tr th {\n",
       "        vertical-align: top;\n",
       "    }\n",
       "\n",
       "    .dataframe thead th {\n",
       "        text-align: right;\n",
       "    }\n",
       "</style>\n",
       "<table border=\"1\" class=\"dataframe\">\n",
       "  <thead>\n",
       "    <tr style=\"text-align: right;\">\n",
       "      <th></th>\n",
       "      <th>code_produit</th>\n",
       "      <th>designation_produit</th>\n",
       "      <th>emplacement</th>\n",
       "      <th>date_limite_consommation</th>\n",
       "      <th>numero_lot</th>\n",
       "      <th>sous_lot_programme</th>\n",
       "      <th>qte_physique</th>\n",
       "      <th>qte_livrable</th>\n",
       "      <th>unit</th>\n",
       "    </tr>\n",
       "  </thead>\n",
       "  <tbody>\n",
       "    <tr>\n",
       "      <th>0</th>\n",
       "      <td>4040095</td>\n",
       "      <td>COBAS C111 SAMPLE CUPS sach/250 (C 111/C 311)</td>\n",
       "      <td>01A01A01</td>\n",
       "      <td>2099-01-01</td>\n",
       "      <td>NEANT</td>\n",
       "      <td>PNLS</td>\n",
       "      <td>1650</td>\n",
       "      <td>0</td>\n",
       "      <td>SACH</td>\n",
       "    </tr>\n",
       "  </tbody>\n",
       "</table>\n",
       "</div>"
      ],
      "text/plain": [
       "   code_produit                            designation_produit emplacement  \\\n",
       "0       4040095  COBAS C111 SAMPLE CUPS sach/250 (C 111/C 311)    01A01A01   \n",
       "\n",
       "  date_limite_consommation numero_lot sous_lot_programme  qte_physique  \\\n",
       "0               2099-01-01      NEANT               PNLS          1650   \n",
       "\n",
       "   qte_livrable  unit  \n",
       "0             0  SACH  "
      ]
     },
     "execution_count": 39,
     "metadata": {},
     "output_type": "execute_result"
    }
   ],
   "source": [
    "code_col = [col for col in df_stock_detaille.columns if \"CODE\" in str(col).upper()][0]\n",
    "\n",
    "df_stock_detaille.rename(\n",
    "    columns={\n",
    "        code_col: \"code_produit\",\n",
    "        \"Désignation\": \"designation_produit\",\n",
    "        \"Emplacement\": \"emplacement\",\n",
    "        \"Date limite de consommation\": \"date_limite_consommation\",\n",
    "        \"Numéro Lot\": \"numero_lot\",\n",
    "        \"Sous lot (Programme)\": \"sous_lot_programme\",\n",
    "        \"Qté \\nPhysique\": \"qte_physique\",\n",
    "        \"Qté \\nlivrable\": \"qte_livrable\",\n",
    "        \"Unit\": \"unit\",\n",
    "    },\n",
    "    inplace=True,\n",
    ")\n",
    "df_stock_detaille = df_stock_detaille[\n",
    "    [\n",
    "        \"code_produit\",\n",
    "        \"designation_produit\",\n",
    "        \"emplacement\",\n",
    "        \"date_limite_consommation\",\n",
    "        \"numero_lot\",\n",
    "        \"sous_lot_programme\",\n",
    "        \"qte_physique\",\n",
    "        \"qte_livrable\",\n",
    "        \"unit\",\n",
    "    ]\n",
    "]\n",
    "\n",
    "df_stock_detaille = df_stock_detaille.loc[\n",
    "    df_stock_detaille.code_produit.isin(dim_produit.code_produit)\n",
    "]\n",
    "df_stock_detaille.head(1)"
   ]
  },
  {
   "cell_type": "code",
   "execution_count": 40,
   "id": "c374989e-2d57-4ce8-8ea6-bb101672241e",
   "metadata": {
    "execution": {
     "iopub.execute_input": "2025-05-14T16:00:37.029599Z",
     "iopub.status.busy": "2025-05-14T16:00:37.029228Z",
     "iopub.status.idle": "2025-05-14T16:00:37.051090Z",
     "shell.execute_reply": "2025-05-14T16:00:37.049778Z"
    },
    "papermill": {
     "duration": 16.306294,
     "end_time": "2025-05-14T16:00:37.053544",
     "exception": false,
     "start_time": "2025-05-14T16:00:20.747250",
     "status": "completed"
    },
    "tags": []
   },
   "outputs": [],
   "source": [
    "df_stock_detaille = (\n",
    "    df_stock_detaille.groupby([\"code_produit\", \"date_limite_consommation\"])[\n",
    "        [\"qte_physique\", \"qte_livrable\"]\n",
    "    ]\n",
    "    .sum(min_count=1)\n",
    "    .reset_index()\n",
    ")\n",
    "\n",
    "df_stock_detaille = (\n",
    "    dim_produit[[\"id_dim_produit_stock_track_pk\", \"code_produit\"]]\n",
    "    .merge(df_stock_detaille, on=\"code_produit\")\n",
    "    .rename(columns={\"id_dim_produit_stock_track_pk\": \"id_dim_produit_stock_track_fk\"})\n",
    "    .drop(columns=[\"code_produit\"])\n",
    ")\n",
    "\n",
    "df_stock_detaille[\"date_report\"] = pd.to_datetime(date_report)"
   ]
  },
  {
   "cell_type": "code",
   "execution_count": 41,
   "id": "8c4a6d98-e14d-4742-a91e-0a40ec701ee5",
   "metadata": {
    "execution": {
     "iopub.execute_input": "2025-05-14T16:00:37.654213Z",
     "iopub.status.busy": "2025-05-14T16:00:37.653550Z",
     "iopub.status.idle": "2025-05-14T16:00:37.717646Z",
     "shell.execute_reply": "2025-05-14T16:00:37.715817Z"
    },
    "papermill": {
     "duration": 0.288194,
     "end_time": "2025-05-14T16:00:37.721611",
     "exception": false,
     "start_time": "2025-05-14T16:00:37.433417",
     "status": "completed"
    },
    "tags": []
   },
   "outputs": [],
   "source": [
    "id_list = list(map(int, df_stock_detaille.id_dim_produit_stock_track_fk.unique()))\n",
    "placeholders = \", \".join([\"%s\"] * len(id_list))\n",
    "\n",
    "query = f\"\"\"\n",
    "DELETE FROM {schema_name}.stock_track_detaille\n",
    "WHERE date_report = '{date_report}' AND id_dim_produit_stock_track_fk IN ({placeholders});\n",
    "\"\"\"\n",
    "\n",
    "stock_sync_manager.civ_cursor.execute(query, list(id_list))\n",
    "stock_sync_manager.conn.commit()"
   ]
  },
  {
   "cell_type": "code",
   "execution_count": 42,
   "id": "8f616ee2-8704-4eb2-a182-c65499a3b1dc",
   "metadata": {
    "execution": {
     "iopub.execute_input": "2025-05-14T16:00:38.181694Z",
     "iopub.status.busy": "2025-05-14T16:00:38.181194Z",
     "iopub.status.idle": "2025-05-14T16:00:38.375251Z",
     "shell.execute_reply": "2025-05-14T16:00:38.374182Z"
    },
    "papermill": {
     "duration": 0.431528,
     "end_time": "2025-05-14T16:00:38.376994",
     "exception": false,
     "start_time": "2025-05-14T16:00:37.945466",
     "status": "completed"
    },
    "tags": []
   },
   "outputs": [],
   "source": [
    "stock_sync_manager.insert_dataframe_to_table(df_stock_detaille, \"stock_track_detaille\")\n",
    "\n",
    "del df_stock_detaille"
   ]
  },
  {
   "cell_type": "markdown",
   "id": "fdec6090-24db-40ec-920d-854de310e532",
   "metadata": {
    "papermill": {
     "duration": 0.496078,
     "end_time": "2025-05-14T16:00:39.083657",
     "exception": false,
     "start_time": "2025-05-14T16:00:38.587579",
     "status": "completed"
    },
    "tags": []
   },
   "source": [
    "## 5. `Etat de stock de la NPSP`"
   ]
  },
  {
   "cell_type": "code",
   "execution_count": 43,
   "id": "89d9ea73-f635-42f3-8364-d8205843044e",
   "metadata": {
    "execution": {
     "iopub.execute_input": "2025-05-14T16:00:42.211095Z",
     "iopub.status.busy": "2025-05-14T16:00:42.210709Z",
     "iopub.status.idle": "2025-05-14T16:00:42.333068Z",
     "shell.execute_reply": "2025-05-14T16:00:42.331873Z"
    },
    "papermill": {
     "duration": 1.31484,
     "end_time": "2025-05-14T16:00:42.335017",
     "exception": false,
     "start_time": "2025-05-14T16:00:41.020177",
     "status": "completed"
    },
    "tags": []
   },
   "outputs": [],
   "source": [
    "query = f\"\"\"\n",
    "DELETE FROM {schema_name}.stock_track_npsp\n",
    "WHERE date_report = '{date_report}' and programme='{programme}';\n",
    "\"\"\"\n",
    "\n",
    "stock_sync_manager.civ_cursor.execute(query)\n",
    "stock_sync_manager.conn.commit()"
   ]
  },
  {
   "cell_type": "code",
   "execution_count": 44,
   "id": "fa060ab4-6bd8-44cd-bea2-8bbf1178782a",
   "metadata": {
    "execution": {
     "iopub.execute_input": "2025-05-14T16:00:50.491069Z",
     "iopub.status.busy": "2025-05-14T16:00:50.489721Z",
     "iopub.status.idle": "2025-05-14T16:00:50.700629Z",
     "shell.execute_reply": "2025-05-14T16:00:50.699871Z"
    },
    "papermill": {
     "duration": 0.445984,
     "end_time": "2025-05-14T16:00:50.702494",
     "exception": false,
     "start_time": "2025-05-14T16:00:50.256510",
     "status": "completed"
    },
    "tags": []
   },
   "outputs": [
    {
     "data": {
      "text/plain": [
       "'Insertion de 287 enrégistrements réussie'"
      ]
     },
     "execution_count": 44,
     "metadata": {},
     "output_type": "execute_result"
    }
   ],
   "source": [
    "stock_sync_manager.insert_dataframe_to_table(\n",
    "    df_etat_stock_npsp, table_name=\"stock_track_npsp\", schema_name=\"suivi_stock\"\n",
    ")"
   ]
  },
  {
   "cell_type": "markdown",
   "id": "e36a108a-15d9-4256-ad6e-a62fcd2933eb",
   "metadata": {
    "papermill": {
     "duration": 0.211295,
     "end_time": "2025-05-14T16:00:51.116674",
     "exception": false,
     "start_time": "2025-05-14T16:00:50.905379",
     "status": "completed"
    },
    "tags": []
   },
   "source": [
    "## 6.`Prévision`\n",
    "<div class=\"alert alert-block alert-warning\">\n",
    "Avant de procéder au calcul des éléments de prévision, il est essentiel de s’assurer que les informations produits sont à jour.\n",
    "Cette actualisation doit être effectuée à l’aide du fichier de mapping fourni en paramètre du pipeline.\n",
    "Ce fichier joue un rôle clé : il établit la correspondance entre les différentes sources de données, garantissant ainsi la cohérence et la fiabilité des informations utilisées pour les prévisions.\n",
    "\n",
    "</div>"
   ]
  },
  {
   "cell_type": "code",
   "execution_count": 45,
   "id": "1233e266-9e64-4468-b0e8-0a8997a922d8",
   "metadata": {
    "execution": {
     "iopub.execute_input": "2025-05-14T16:00:51.992783Z",
     "iopub.status.busy": "2025-05-14T16:00:51.992424Z",
     "iopub.status.idle": "2025-05-14T16:00:52.018832Z",
     "shell.execute_reply": "2025-05-14T16:00:52.018116Z"
    },
    "papermill": {
     "duration": 0.70873,
     "end_time": "2025-05-14T16:00:52.020447",
     "exception": false,
     "start_time": "2025-05-14T16:00:51.311717",
     "status": "completed"
    },
    "tags": []
   },
   "outputs": [
    {
     "data": {
      "text/plain": [
       "'Aucune mise à jour des données à effectuer sur la table dim_produit'"
      ]
     },
     "execution_count": 45,
     "metadata": {},
     "output_type": "execute_result"
    }
   ],
   "source": [
    "stock_sync_manager.synchronize_product_metadata(df_plan_approv.copy(), programme)"
   ]
  },
  {
   "cell_type": "code",
   "execution_count": 46,
   "id": "5951635c-2b33-4f6c-8ea0-713e2b7c8501",
   "metadata": {
    "execution": {
     "iopub.execute_input": "2025-05-14T16:00:52.396328Z",
     "iopub.status.busy": "2025-05-14T16:00:52.395473Z",
     "iopub.status.idle": "2025-05-14T16:00:52.405005Z",
     "shell.execute_reply": "2025-05-14T16:00:52.403974Z"
    },
    "papermill": {
     "duration": 0.192433,
     "end_time": "2025-05-14T16:00:52.406608",
     "exception": false,
     "start_time": "2025-05-14T16:00:52.214175",
     "status": "completed"
    },
    "tags": []
   },
   "outputs": [],
   "source": [
    "df_plan_approv['Date updated'] = df_plan_approv['DATE'].apply(lambda x: x.strftime(\"%b-%Y\"))"
   ]
  },
  {
   "cell_type": "code",
   "execution_count": 47,
   "id": "df8760ec-9a46-4a8f-838a-fb757d50b3d1",
   "metadata": {
    "execution": {
     "iopub.execute_input": "2025-05-14T16:00:57.145196Z",
     "iopub.status.busy": "2025-05-14T16:00:57.144197Z",
     "iopub.status.idle": "2025-05-14T16:01:17.775789Z",
     "shell.execute_reply": "2025-05-14T16:01:17.774940Z"
    },
    "papermill": {
     "duration": 25.166967,
     "end_time": "2025-05-14T16:01:17.777341",
     "exception": false,
     "start_time": "2025-05-14T16:00:52.610374",
     "status": "completed"
    },
    "tags": []
   },
   "outputs": [
    {
     "data": {
      "text/html": [
       "<div>\n",
       "<style scoped>\n",
       "    .dataframe tbody tr th:only-of-type {\n",
       "        vertical-align: middle;\n",
       "    }\n",
       "\n",
       "    .dataframe tbody tr th {\n",
       "        vertical-align: top;\n",
       "    }\n",
       "\n",
       "    .dataframe thead th {\n",
       "        text-align: right;\n",
       "    }\n",
       "</style>\n",
       "<table border=\"1\" class=\"dataframe\">\n",
       "  <thead>\n",
       "    <tr style=\"text-align: right;\">\n",
       "      <th></th>\n",
       "      <th>id_dim_produit_stock_track_fk</th>\n",
       "      <th>code_produit</th>\n",
       "      <th>ancien_code</th>\n",
       "      <th>stock_central</th>\n",
       "      <th>dmm_central</th>\n",
       "      <th>stock_national</th>\n",
       "      <th>cmm_national</th>\n",
       "      <th>stock_prev_central</th>\n",
       "      <th>stock_prev_national</th>\n",
       "      <th>period_prev</th>\n",
       "      <th>date_report</th>\n",
       "    </tr>\n",
       "  </thead>\n",
       "  <tbody>\n",
       "    <tr>\n",
       "      <th>0</th>\n",
       "      <td>66</td>\n",
       "      <td>3050188</td>\n",
       "      <td>AR01321</td>\n",
       "      <td>357.0</td>\n",
       "      <td>367.16666</td>\n",
       "      <td>2081.0</td>\n",
       "      <td>470.0</td>\n",
       "      <td>1</td>\n",
       "      <td>4</td>\n",
       "      <td>2025-03-01</td>\n",
       "      <td>2025-03-01</td>\n",
       "    </tr>\n",
       "    <tr>\n",
       "      <th>1</th>\n",
       "      <td>66</td>\n",
       "      <td>3050188</td>\n",
       "      <td>AR01321</td>\n",
       "      <td>NaN</td>\n",
       "      <td>NaN</td>\n",
       "      <td>NaN</td>\n",
       "      <td>NaN</td>\n",
       "      <td>0</td>\n",
       "      <td>3</td>\n",
       "      <td>2025-04-01</td>\n",
       "      <td>2025-03-01</td>\n",
       "    </tr>\n",
       "    <tr>\n",
       "      <th>2</th>\n",
       "      <td>66</td>\n",
       "      <td>3050188</td>\n",
       "      <td>AR01321</td>\n",
       "      <td>NaN</td>\n",
       "      <td>NaN</td>\n",
       "      <td>NaN</td>\n",
       "      <td>NaN</td>\n",
       "      <td>8</td>\n",
       "      <td>8</td>\n",
       "      <td>2025-05-01</td>\n",
       "      <td>2025-03-01</td>\n",
       "    </tr>\n",
       "  </tbody>\n",
       "</table>\n",
       "</div>"
      ],
      "text/plain": [
       "   id_dim_produit_stock_track_fk  code_produit ancien_code  stock_central  \\\n",
       "0                             66       3050188     AR01321          357.0   \n",
       "1                             66       3050188     AR01321            NaN   \n",
       "2                             66       3050188     AR01321            NaN   \n",
       "\n",
       "   dmm_central  stock_national  cmm_national stock_prev_central  \\\n",
       "0    367.16666          2081.0         470.0                  1   \n",
       "1          NaN             NaN           NaN                  0   \n",
       "2          NaN             NaN           NaN                  8   \n",
       "\n",
       "  stock_prev_national period_prev date_report  \n",
       "0                   4  2025-03-01  2025-03-01  \n",
       "1                   3  2025-04-01  2025-03-01  \n",
       "2                   8  2025-05-01  2025-03-01  "
      ]
     },
     "metadata": {},
     "output_type": "display_data"
    }
   ],
   "source": [
    "df_prevision = compute_indicators.prevision.get_prevision_current_month(\n",
    "    df_plan_approv.copy(),\n",
    "    date_report,\n",
    "    programme,\n",
    "    stock_sync_manager.civ_engine,\n",
    "    schema_name=\"suivi_stock\",\n",
    ")"
   ]
  },
  {
   "cell_type": "code",
   "execution_count": 48,
   "id": "6b5134dd-8cbc-4f9b-8671-af020adbb5cc",
   "metadata": {
    "execution": {
     "iopub.execute_input": "2025-05-14T16:01:18.266609Z",
     "iopub.status.busy": "2025-05-14T16:01:18.265797Z",
     "iopub.status.idle": "2025-05-14T16:01:18.347592Z",
     "shell.execute_reply": "2025-05-14T16:01:18.346789Z"
    },
    "papermill": {
     "duration": 0.298711,
     "end_time": "2025-05-14T16:01:18.349270",
     "exception": false,
     "start_time": "2025-05-14T16:01:18.050559",
     "status": "completed"
    },
    "tags": []
   },
   "outputs": [],
   "source": [
    "id_list = list(map(int, df_prevision.id_dim_produit_stock_track_fk.unique()))\n",
    "placeholders = \", \".join([\"%s\"] * len(id_list))\n",
    "\n",
    "query = f\"\"\"\n",
    "DELETE FROM {schema_name}.stock_track_prevision\n",
    "WHERE date_report = %s AND id_dim_produit_stock_track_fk IN ({placeholders});\n",
    "\"\"\"\n",
    "stock_sync_manager.civ_cursor.execute(query, [date_report] + list(id_list))\n",
    "stock_sync_manager.conn.commit()"
   ]
  },
  {
   "cell_type": "code",
   "execution_count": 49,
   "id": "b2cba3cf-54d4-40a9-81e4-db8ffc8af896",
   "metadata": {
    "execution": {
     "iopub.execute_input": "2025-05-14T16:01:18.721691Z",
     "iopub.status.busy": "2025-05-14T16:01:18.721373Z",
     "iopub.status.idle": "2025-05-14T16:01:19.816422Z",
     "shell.execute_reply": "2025-05-14T16:01:19.815465Z"
    },
    "papermill": {
     "duration": 1.291473,
     "end_time": "2025-05-14T16:01:19.817888",
     "exception": false,
     "start_time": "2025-05-14T16:01:18.526415",
     "status": "completed"
    },
    "tags": []
   },
   "outputs": [
    {
     "data": {
      "text/plain": [
       "'Insertion de 3640 enrégistrements réussie'"
      ]
     },
     "execution_count": 49,
     "metadata": {},
     "output_type": "execute_result"
    }
   ],
   "source": [
    "stock_sync_manager.insert_dataframe_to_table(\n",
    "    df_prevision.drop(columns=[\"code_produit\", \"ancien_code\"]), \"stock_track_prevision\"\n",
    ")"
   ]
  },
  {
   "cell_type": "markdown",
   "id": "beed3506-66a5-4678-a064-cd62f6bd461c",
   "metadata": {
    "papermill": {
     "duration": 0.195065,
     "end_time": "2025-05-14T16:01:20.221204",
     "exception": false,
     "start_time": "2025-05-14T16:01:20.026139",
     "status": "completed"
    },
    "tags": []
   },
   "source": [
    "## 7.`Plan d'approvisionnement`"
   ]
  },
  {
   "cell_type": "code",
   "execution_count": 50,
   "id": "915dd339-4537-4fdd-b9f2-f3f52bc7db68",
   "metadata": {
    "execution": {
     "iopub.execute_input": "2025-05-14T16:01:21.316821Z",
     "iopub.status.busy": "2025-05-14T16:01:21.316467Z",
     "iopub.status.idle": "2025-05-14T16:01:21.536254Z",
     "shell.execute_reply": "2025-05-14T16:01:21.535193Z"
    },
    "papermill": {
     "duration": 0.419692,
     "end_time": "2025-05-14T16:01:21.538197",
     "exception": false,
     "start_time": "2025-05-14T16:01:21.118505",
     "status": "completed"
    },
    "tags": []
   },
   "outputs": [],
   "source": [
    "query = f\"\"\"\n",
    "DELETE FROM {schema_name}.plan_approv\n",
    "WHERE date_report = '{date_report}' and programme='{programme}'\n",
    "\"\"\"\n",
    "stock_sync_manager.civ_cursor.execute(query)\n",
    "stock_sync_manager.conn.commit()"
   ]
  },
  {
   "cell_type": "code",
   "execution_count": 51,
   "id": "8f6561dd-eac8-4500-bb97-c7cde0e0fdeb",
   "metadata": {
    "execution": {
     "iopub.execute_input": "2025-05-14T16:01:27.322017Z",
     "iopub.status.busy": "2025-05-14T16:01:27.320596Z",
     "iopub.status.idle": "2025-05-14T16:01:27.414887Z",
     "shell.execute_reply": "2025-05-14T16:01:27.411494Z"
    },
    "papermill": {
     "duration": 0.402009,
     "end_time": "2025-05-14T16:01:27.425145",
     "exception": false,
     "start_time": "2025-05-14T16:01:27.023136",
     "status": "completed"
    },
    "tags": []
   },
   "outputs": [
    {
     "data": {
      "text/html": [
       "<div>\n",
       "<style scoped>\n",
       "    .dataframe tbody tr th:only-of-type {\n",
       "        vertical-align: middle;\n",
       "    }\n",
       "\n",
       "    .dataframe tbody tr th {\n",
       "        vertical-align: top;\n",
       "    }\n",
       "\n",
       "    .dataframe thead th {\n",
       "        text-align: right;\n",
       "    }\n",
       "</style>\n",
       "<table border=\"1\" class=\"dataframe\">\n",
       "  <thead>\n",
       "    <tr style=\"text-align: right;\">\n",
       "      <th></th>\n",
       "      <th>standard_product_code</th>\n",
       "      <th>id_produit_qat</th>\n",
       "      <th>designation</th>\n",
       "      <th>id_envoi_qat</th>\n",
       "      <th>centrale_achat</th>\n",
       "      <th>source_financement</th>\n",
       "      <th>status</th>\n",
       "      <th>quantite</th>\n",
       "      <th>facteur_conversion_qat_vers_sage</th>\n",
       "      <th>quantite_harmonisee_sage</th>\n",
       "      <th>date</th>\n",
       "      <th>cout_produits</th>\n",
       "      <th>cout_fret</th>\n",
       "      <th>cout_total</th>\n",
       "      <th>date_report</th>\n",
       "      <th>programme</th>\n",
       "    </tr>\n",
       "  </thead>\n",
       "  <tbody>\n",
       "    <tr>\n",
       "      <th>0</th>\n",
       "      <td>3120042.0</td>\n",
       "      <td>3067</td>\n",
       "      <td>Female Condom (Nitrile) Lubricated  17 cm  100...</td>\n",
       "      <td>173896</td>\n",
       "      <td>PPM-GF</td>\n",
       "      <td>GFATM</td>\n",
       "      <td>Planifié</td>\n",
       "      <td>200.000</td>\n",
       "      <td>1.0</td>\n",
       "      <td>200.000</td>\n",
       "      <td>2025-12-31</td>\n",
       "      <td>100000.00</td>\n",
       "      <td>10000.0</td>\n",
       "      <td>110000.00</td>\n",
       "      <td>2025-03-01</td>\n",
       "      <td>PNLS</td>\n",
       "    </tr>\n",
       "    <tr>\n",
       "      <th>1</th>\n",
       "      <td>3120044.0</td>\n",
       "      <td>4182</td>\n",
       "      <td>Male Condom (Latex) Lubricated  No Logo  53 mm...</td>\n",
       "      <td>173899</td>\n",
       "      <td>PPM-GF</td>\n",
       "      <td>GFATM</td>\n",
       "      <td>Soumis</td>\n",
       "      <td>4147.584</td>\n",
       "      <td>1.0</td>\n",
       "      <td>4147.584</td>\n",
       "      <td>2025-07-31</td>\n",
       "      <td>401776.46</td>\n",
       "      <td>40181.7</td>\n",
       "      <td>441958.16</td>\n",
       "      <td>2025-03-01</td>\n",
       "      <td>PNLS</td>\n",
       "    </tr>\n",
       "  </tbody>\n",
       "</table>\n",
       "</div>"
      ],
      "text/plain": [
       "   standard_product_code  id_produit_qat  \\\n",
       "0              3120042.0            3067   \n",
       "1              3120044.0            4182   \n",
       "\n",
       "                                         designation  id_envoi_qat  \\\n",
       "0  Female Condom (Nitrile) Lubricated  17 cm  100...        173896   \n",
       "1  Male Condom (Latex) Lubricated  No Logo  53 mm...        173899   \n",
       "\n",
       "  centrale_achat source_financement    status  quantite  \\\n",
       "0         PPM-GF              GFATM  Planifié   200.000   \n",
       "1         PPM-GF              GFATM    Soumis  4147.584   \n",
       "\n",
       "   facteur_conversion_qat_vers_sage  quantite_harmonisee_sage       date  \\\n",
       "0                               1.0                   200.000 2025-12-31   \n",
       "1                               1.0                  4147.584 2025-07-31   \n",
       "\n",
       "   cout_produits  cout_fret  cout_total date_report programme  \n",
       "0      100000.00    10000.0   110000.00  2025-03-01      PNLS  \n",
       "1      401776.46    40181.7   441958.16  2025-03-01      PNLS  "
      ]
     },
     "execution_count": 51,
     "metadata": {},
     "output_type": "execute_result"
    }
   ],
   "source": [
    "df_pa = df_plan_approv.rename(\n",
    "    columns={\n",
    "        \"Standard product code\": \"standard_product_code\",\n",
    "        \"ID de produit QAT\": \"id_produit_qat\",\n",
    "        \"Produits\": \"designation\",\n",
    "        \"ID de l`envoi QAT\": \"id_envoi_qat\",\n",
    "        \"Agent d`approvisionnement\": \"centrale_achat\",\n",
    "        \"Source de financement\": \"source_financement\",\n",
    "        \"Status\": \"status\",\n",
    "        \"Quantite\": \"quantite\",\n",
    "        \"facteur_de_conversion_qat_sage\": \"facteur_conversion_qat_vers_sage\",\n",
    "        \"Quantité harmonisée (SAGE)\": \"quantite_harmonisee_sage\",\n",
    "        \"DATE\": \"date\",\n",
    "        \"Cout des Produits\": \"cout_produits\",\n",
    "        \"Couts du fret\": \"cout_fret\",\n",
    "        \"Couts totaux\": \"cout_total\",\n",
    "    },\n",
    ")\n",
    "\n",
    "df_pa = df_pa[\n",
    "    [\"standard_product_code\", \"id_produit_qat\",\n",
    "     \"designation\", \"id_envoi_qat\",\n",
    "     \"centrale_achat\", \"source_financement\",\n",
    "     \"status\", \"quantite\", \"facteur_conversion_qat_vers_sage\",\n",
    "     \"quantite_harmonisee_sage\", \"date\",\n",
    "     \"cout_produits\", \"cout_fret\", \"cout_total\",\n",
    "    ]\n",
    "]\n",
    "df_pa[\"date_report\"] = pd.to_datetime(date_report)\n",
    "df_pa[\"programme\"] = programme\n",
    "df_pa[\"standard_product_code\"] = df_pa[\"standard_product_code\"].fillna(0)\n",
    "\n",
    "df_pa.head(2)"
   ]
  },
  {
   "cell_type": "code",
   "execution_count": 52,
   "id": "557e36d1-3a17-48d4-851d-96de9b3f3be5",
   "metadata": {
    "execution": {
     "iopub.execute_input": "2025-05-14T16:01:28.119051Z",
     "iopub.status.busy": "2025-05-14T16:01:28.116459Z",
     "iopub.status.idle": "2025-05-14T16:01:29.077276Z",
     "shell.execute_reply": "2025-05-14T16:01:29.072412Z"
    },
    "papermill": {
     "duration": 1.339806,
     "end_time": "2025-05-14T16:01:29.089024",
     "exception": false,
     "start_time": "2025-05-14T16:01:27.749218",
     "status": "completed"
    },
    "tags": []
   },
   "outputs": [
    {
     "data": {
      "text/plain": [
       "'Insertion de 527 enrégistrements réussie'"
      ]
     },
     "execution_count": 52,
     "metadata": {},
     "output_type": "execute_result"
    }
   ],
   "source": [
    "stock_sync_manager.insert_dataframe_to_table(df_pa, table_name=\"plan_approv\", schema_name=\"suivi_stock\")"
   ]
  },
  {
   "cell_type": "code",
   "execution_count": 53,
   "id": "59e7f509-0f62-4188-8648-bef9a221b661",
   "metadata": {
    "execution": {
     "iopub.execute_input": "2025-05-14T16:01:29.758845Z",
     "iopub.status.busy": "2025-05-14T16:01:29.755772Z",
     "iopub.status.idle": "2025-05-14T16:01:29.769114Z",
     "shell.execute_reply": "2025-05-14T16:01:29.766226Z"
    },
    "papermill": {
     "duration": 0.317917,
     "end_time": "2025-05-14T16:01:29.773642",
     "exception": false,
     "start_time": "2025-05-14T16:01:29.455725",
     "status": "completed"
    },
    "tags": []
   },
   "outputs": [],
   "source": [
    "del df_pa"
   ]
  },
  {
   "cell_type": "code",
   "execution_count": 54,
   "id": "6a0e5239-2271-4793-b121-72e9633d1543",
   "metadata": {
    "execution": {
     "iopub.execute_input": "2025-05-14T16:01:32.745818Z",
     "iopub.status.busy": "2025-05-14T16:01:32.739308Z",
     "iopub.status.idle": "2025-05-14T16:01:33.534180Z",
     "shell.execute_reply": "2025-05-14T16:01:33.532936Z"
    },
    "papermill": {
     "duration": 2.337761,
     "end_time": "2025-05-14T16:01:33.535908",
     "exception": false,
     "start_time": "2025-05-14T16:01:31.198147",
     "status": "completed"
    },
    "tags": []
   },
   "outputs": [],
   "source": [
    "# Mise à jour des colonnes qui contienent des valeurs nan, NaN ou None malgré les mises à jours effectuée\n",
    "from database_operations import queries\n",
    "\n",
    "stock_sync_manager.civ_cursor.execute(\n",
    "    queries.QUERY_UPDATE.format(schema_name=schema_name)\n",
    ")\n",
    "stock_sync_manager.conn.commit()"
   ]
  },
  {
   "cell_type": "markdown",
   "id": "0a6af0d7-53cb-45f0-a174-afed7ecd72db",
   "metadata": {
    "papermill": {
     "duration": 0.382385,
     "end_time": "2025-05-14T16:01:37.480189",
     "exception": false,
     "start_time": "2025-05-14T16:01:37.097804",
     "status": "completed"
    },
    "tags": []
   },
   "source": [
    "# VI.📄Génération du fichier pour le mois spécifique"
   ]
  },
  {
   "cell_type": "markdown",
   "id": "a1e25950-2b53-4f3b-b1f8-9ec34c76367b",
   "metadata": {
    "papermill": {
     "duration": 0.261216,
     "end_time": "2025-05-14T16:01:38.009506",
     "exception": false,
     "start_time": "2025-05-14T16:01:37.748290",
     "status": "completed"
    },
    "tags": []
   },
   "source": [
    "## 1. Initialisation des paramètres utile"
   ]
  },
  {
   "cell_type": "code",
   "execution_count": 55,
   "id": "30b49db8-06c5-4d9e-ae95-a24f0ee66888",
   "metadata": {
    "execution": {
     "iopub.execute_input": "2025-05-14T16:01:38.491412Z",
     "iopub.status.busy": "2025-05-14T16:01:38.490241Z",
     "iopub.status.idle": "2025-05-14T16:01:38.501660Z",
     "shell.execute_reply": "2025-05-14T16:01:38.499763Z"
    },
    "papermill": {
     "duration": 0.233361,
     "end_time": "2025-05-14T16:01:38.505571",
     "exception": false,
     "start_time": "2025-05-14T16:01:38.272210",
     "status": "completed"
    },
    "tags": []
   },
   "outputs": [],
   "source": [
    "date_report_format = date_report\n",
    "date_report = pd.to_datetime(date_report, format='%Y-%m-%d').strftime('%d/%m/%Y')\n",
    "f_month = gstf.get_current_variable(date_report)[1].replace(' ', '-')"
   ]
  },
  {
   "cell_type": "markdown",
   "id": "acace0b9-cbb6-4ee8-bc43-1fcd1c724a2d",
   "metadata": {
    "papermill": {
     "duration": 4.202782,
     "end_time": "2025-05-14T16:01:45.546442",
     "exception": false,
     "start_time": "2025-05-14T16:01:41.343660",
     "status": "completed"
    },
    "tags": []
   },
   "source": [
    "## 2. Importation des classeurs de bases"
   ]
  },
  {
   "cell_type": "code",
   "execution_count": 56,
   "id": "689f25f3-1bf9-4c16-9569-61b0b7140cce",
   "metadata": {
    "execution": {
     "iopub.execute_input": "2025-05-14T16:01:46.649866Z",
     "iopub.status.busy": "2025-05-14T16:01:46.648783Z",
     "iopub.status.idle": "2025-05-14T16:08:30.167882Z",
     "shell.execute_reply": "2025-05-14T16:08:30.166738Z"
    },
    "papermill": {
     "duration": 404.336425,
     "end_time": "2025-05-14T16:08:30.733792",
     "exception": false,
     "start_time": "2025-05-14T16:01:46.397367",
     "status": "completed"
    },
    "tags": []
   },
   "outputs": [
    {
     "name": "stdout",
     "output_type": "stream",
     "text": [
      "CPU times: user 6min 32s, sys: 9.78 s, total: 6min 41s\n",
      "Wall time: 6min 43s\n"
     ]
    }
   ],
   "source": [
    "%%time\n",
    "# WorkBook Template de base\n",
    "wb_template = pyxl.load_workbook(\n",
    "    filename=\"/home/jovyan/workspace/Fichier Suivi de Stock/code/pipelines/generate_stock_tracking_file/Template Fichier Suivi de Stock/Fichier Suivi de Stock Template.xlsx\"\n",
    ")\n",
    "\n",
    "# WorkBook Etats de stock mensuels\n",
    "wb_etat_stock = pyxl.load_workbook(filename=fp_etat_mensuel)\n",
    "\n",
    "# WorkBook du Rapport Feedback\n",
    "wb_fbr = pyxl.load_workbook(\n",
    "    filename=f\"/home/jovyan/workspace/Rapport Feedback/code/pipelines/rapport feedback genere/{date_report_format[:4]}/RapportFeedBack-{unidecode(f_month)}.xlsx\"\n",
    ")"
   ]
  },
  {
   "cell_type": "markdown",
   "id": "30d3235c-40f4-4d76-9cbb-463cbf37cb26",
   "metadata": {
    "papermill": {
     "duration": 0.219542,
     "end_time": "2025-05-14T16:08:31.202534",
     "exception": false,
     "start_time": "2025-05-14T16:08:30.982992",
     "status": "completed"
    },
    "tags": []
   },
   "source": [
    "## 3. Mise à jour des données en se basant sur la source `Etat de Stock Mensuel`"
   ]
  },
  {
   "cell_type": "code",
   "execution_count": 57,
   "id": "ef678267-2bdf-4fad-bdc6-837935e7c2bf",
   "metadata": {
    "execution": {
     "iopub.execute_input": "2025-05-14T16:08:31.661587Z",
     "iopub.status.busy": "2025-05-14T16:08:31.661090Z",
     "iopub.status.idle": "2025-05-14T16:09:47.588442Z",
     "shell.execute_reply": "2025-05-14T16:09:47.587490Z"
    },
    "papermill": {
     "duration": 76.680968,
     "end_time": "2025-05-14T16:09:48.124045",
     "exception": false,
     "start_time": "2025-05-14T16:08:31.443077",
     "status": "completed"
    },
    "tags": []
   },
   "outputs": [
    {
     "name": "stdout",
     "output_type": "stream",
     "text": [
      "CPU times: user 1min 15s, sys: 66.5 ms, total: 1min 15s\n",
      "Wall time: 1min 15s\n"
     ]
    }
   ],
   "source": [
    "%%time\n",
    "wb_template = gstf.update_sheets_etat_mensuel(\n",
    "    wb_etat_stock, wb_template, programme, date_report\n",
    ")"
   ]
  },
  {
   "cell_type": "markdown",
   "id": "40b4f4f0-6a5d-4685-9b86-b74e15424ed7",
   "metadata": {
    "papermill": {
     "duration": 0.196621,
     "end_time": "2025-05-14T16:09:48.598418",
     "exception": false,
     "start_time": "2025-05-14T16:09:48.401797",
     "status": "completed"
    },
    "tags": []
   },
   "source": [
    "## 4. Mise à jour des données en se basant sur la source `Rapport Feedback`\n",
    "\n",
    "Pour le faire on va se baser sur les inputs au préalable du fichier RapportFeebback généré et présent dans les fichiers d'OH pour le mois courant"
   ]
  },
  {
   "cell_type": "code",
   "execution_count": 58,
   "id": "aca0a3a7-c102-4200-8604-357171092ab5",
   "metadata": {
    "execution": {
     "iopub.execute_input": "2025-05-14T16:09:49.005395Z",
     "iopub.status.busy": "2025-05-14T16:09:49.004992Z",
     "iopub.status.idle": "2025-05-14T16:10:03.757434Z",
     "shell.execute_reply": "2025-05-14T16:10:03.756466Z"
    },
    "papermill": {
     "duration": 14.954705,
     "end_time": "2025-05-14T16:10:03.758781",
     "exception": false,
     "start_time": "2025-05-14T16:09:48.804076",
     "status": "completed"
    },
    "tags": []
   },
   "outputs": [
    {
     "data": {
      "text/html": [
       "<div>\n",
       "<style scoped>\n",
       "    .dataframe tbody tr th:only-of-type {\n",
       "        vertical-align: middle;\n",
       "    }\n",
       "\n",
       "    .dataframe tbody tr th {\n",
       "        vertical-align: top;\n",
       "    }\n",
       "\n",
       "    .dataframe thead th {\n",
       "        text-align: right;\n",
       "    }\n",
       "</style>\n",
       "<table border=\"1\" class=\"dataframe\">\n",
       "  <thead>\n",
       "    <tr style=\"text-align: right;\">\n",
       "      <th></th>\n",
       "      <th>Code_Pro</th>\n",
       "      <th>CODE</th>\n",
       "      <th>PROGRAMME</th>\n",
       "      <th>SOUS-PROGRAMME</th>\n",
       "      <th>PERIODE</th>\n",
       "      <th>REGION</th>\n",
       "      <th>DISTRICT</th>\n",
       "      <th>CODE  ETS</th>\n",
       "      <th>STRUCTURE</th>\n",
       "      <th>TYPE DE STRUCTURE</th>\n",
       "      <th>CATEGORIE PRODUIT</th>\n",
       "      <th>PRODUIT</th>\n",
       "      <th>UNITE DE RAPPORTAGE</th>\n",
       "      <th>STOCK INITIAL</th>\n",
       "      <th>QUANTITE RECUE</th>\n",
       "      <th>QUANTITE UTILISEE</th>\n",
       "      <th>PERTES ET AJUSTEMENT</th>\n",
       "      <th>JOURS DE RUPTURE</th>\n",
       "      <th>SDU</th>\n",
       "      <th>CMM ESIGL</th>\n",
       "      <th>CMM gestionnaire</th>\n",
       "      <th>QUANTITE PROPOSEE</th>\n",
       "      <th>QUANTITE COMMANDEE</th>\n",
       "      <th>QUANTITE APPROUVEE</th>\n",
       "      <th>MSD</th>\n",
       "      <th>ETAT DU STOCK</th>\n",
       "      <th>BESOIN COMMANDE URGENTE</th>\n",
       "      <th>BESOIN TRANSFERT IN</th>\n",
       "      <th>QUANTITE A TRANSFERER OUT</th>\n",
       "      <th>CATEGORIE_DU_PRODUIT</th>\n",
       "      <th>Commandes du mois précédent</th>\n",
       "      <th>Etat du stock du mois précédent</th>\n",
       "    </tr>\n",
       "  </thead>\n",
       "  <tbody>\n",
       "    <tr>\n",
       "      <th>0</th>\n",
       "      <td>3050350_PNLT</td>\n",
       "      <td>3050350</td>\n",
       "      <td>PNLT</td>\n",
       "      <td>PNLT-SENSIBLE MEDICAMENTS ET INTRANTS</td>\n",
       "      <td>JANVIER MARS 2025</td>\n",
       "      <td>IFFOU</td>\n",
       "      <td>DAOUKRO</td>\n",
       "      <td>62600030</td>\n",
       "      <td>CENTRE ANTITUBERCULEUX DAOUKRO</td>\n",
       "      <td>FORMATION SANITAIRE</td>\n",
       "      <td>Produit traceur</td>\n",
       "      <td>RH 150 (RIFAmpICINE150 - ISONIAZIDE75) comp. B...</td>\n",
       "      <td>COMPRIME</td>\n",
       "      <td>9316</td>\n",
       "      <td>9408</td>\n",
       "      <td>8992</td>\n",
       "      <td>-2399</td>\n",
       "      <td>0</td>\n",
       "      <td>7333</td>\n",
       "      <td>1007</td>\n",
       "      <td>3021.0</td>\n",
       "      <td>0</td>\n",
       "      <td>10793</td>\n",
       "      <td>10793</td>\n",
       "      <td>2.427342</td>\n",
       "      <td>ENTRE PCU et MIN</td>\n",
       "      <td>NaN</td>\n",
       "      <td>1730.0</td>\n",
       "      <td>NaN</td>\n",
       "      <td>PRODUITS PNLT ADULTE</td>\n",
       "      <td>NaN</td>\n",
       "      <td>NaN</td>\n",
       "    </tr>\n",
       "    <tr>\n",
       "      <th>1</th>\n",
       "      <td>3050356_PNLT</td>\n",
       "      <td>3050356</td>\n",
       "      <td>PNLT</td>\n",
       "      <td>PNLT-SENSIBLE MEDICAMENTS ET INTRANTS</td>\n",
       "      <td>JANVIER MARS 2025</td>\n",
       "      <td>IFFOU</td>\n",
       "      <td>DAOUKRO</td>\n",
       "      <td>62600030</td>\n",
       "      <td>CENTRE ANTITUBERCULEUX DAOUKRO</td>\n",
       "      <td>FORMATION SANITAIRE</td>\n",
       "      <td>Produit traceur</td>\n",
       "      <td>RHZE (RIFAMP 150 - ISON 75 - PYRAZ 400 - ETHAM...</td>\n",
       "      <td>COMPRIME</td>\n",
       "      <td>8862</td>\n",
       "      <td>0</td>\n",
       "      <td>5251</td>\n",
       "      <td>-2016</td>\n",
       "      <td>0</td>\n",
       "      <td>1595</td>\n",
       "      <td>591</td>\n",
       "      <td>1774.0</td>\n",
       "      <td>1951</td>\n",
       "      <td>9049</td>\n",
       "      <td>9049</td>\n",
       "      <td>0.899098</td>\n",
       "      <td>EN BAS DU PCU</td>\n",
       "      <td>9049.0</td>\n",
       "      <td>3727.0</td>\n",
       "      <td>NaN</td>\n",
       "      <td>PRODUITS PNLT ADULTE</td>\n",
       "      <td>NaN</td>\n",
       "      <td>NaN</td>\n",
       "    </tr>\n",
       "  </tbody>\n",
       "</table>\n",
       "</div>"
      ],
      "text/plain": [
       "       Code_Pro     CODE PROGRAMME                         SOUS-PROGRAMME  \\\n",
       "0  3050350_PNLT  3050350      PNLT  PNLT-SENSIBLE MEDICAMENTS ET INTRANTS   \n",
       "1  3050356_PNLT  3050356      PNLT  PNLT-SENSIBLE MEDICAMENTS ET INTRANTS   \n",
       "\n",
       "             PERIODE REGION DISTRICT  CODE  ETS  \\\n",
       "0  JANVIER MARS 2025  IFFOU  DAOUKRO   62600030   \n",
       "1  JANVIER MARS 2025  IFFOU  DAOUKRO   62600030   \n",
       "\n",
       "                         STRUCTURE    TYPE DE STRUCTURE CATEGORIE PRODUIT  \\\n",
       "0   CENTRE ANTITUBERCULEUX DAOUKRO  FORMATION SANITAIRE   Produit traceur   \n",
       "1   CENTRE ANTITUBERCULEUX DAOUKRO  FORMATION SANITAIRE   Produit traceur   \n",
       "\n",
       "                                             PRODUIT UNITE DE RAPPORTAGE  \\\n",
       "0  RH 150 (RIFAmpICINE150 - ISONIAZIDE75) comp. B...            COMPRIME   \n",
       "1  RHZE (RIFAMP 150 - ISON 75 - PYRAZ 400 - ETHAM...            COMPRIME   \n",
       "\n",
       "   STOCK INITIAL  QUANTITE RECUE  QUANTITE UTILISEE  PERTES ET AJUSTEMENT  \\\n",
       "0           9316            9408               8992                 -2399   \n",
       "1           8862               0               5251                 -2016   \n",
       "\n",
       "   JOURS DE RUPTURE   SDU  CMM ESIGL  CMM gestionnaire  QUANTITE PROPOSEE  \\\n",
       "0                 0  7333       1007            3021.0                  0   \n",
       "1                 0  1595        591            1774.0               1951   \n",
       "\n",
       "   QUANTITE COMMANDEE  QUANTITE APPROUVEE       MSD     ETAT DU STOCK  \\\n",
       "0               10793               10793  2.427342  ENTRE PCU et MIN   \n",
       "1                9049                9049  0.899098     EN BAS DU PCU   \n",
       "\n",
       "   BESOIN COMMANDE URGENTE                    \\\n",
       "0                                        NaN   \n",
       "1                                     9049.0   \n",
       "\n",
       "   BESOIN TRANSFERT IN                                 \\\n",
       "0                                             1730.0    \n",
       "1                                             3727.0    \n",
       "\n",
       "   QUANTITE A TRANSFERER OUT  CATEGORIE_DU_PRODUIT  \\\n",
       "0                        NaN  PRODUITS PNLT ADULTE   \n",
       "1                        NaN  PRODUITS PNLT ADULTE   \n",
       "\n",
       "   Commandes du mois précédent  Etat du stock du mois précédent  \n",
       "0                          NaN                              NaN  \n",
       "1                          NaN                              NaN  "
      ]
     },
     "execution_count": 58,
     "metadata": {},
     "output_type": "execute_result"
    }
   ],
   "source": [
    "df_etat_stock = pd.read_excel(\n",
    "    f\"/home/jovyan/workspace/Rapport Feedback/code/pipelines/rapport feedback genere/{date_report_format[:4]}/RapportFeedBack-{unidecode(f_month)}.xlsx\",\n",
    "    sheet_name=\"ETAT DU STOCK\",\n",
    ")\n",
    "\n",
    "df_etat_stock.head(2)"
   ]
  },
  {
   "cell_type": "code",
   "execution_count": 59,
   "id": "fcabb659-b3ab-42f0-b5bc-fcec276f97c3",
   "metadata": {
    "execution": {
     "iopub.execute_input": "2025-05-14T16:10:04.226004Z",
     "iopub.status.busy": "2025-05-14T16:10:04.225644Z",
     "iopub.status.idle": "2025-05-14T16:10:41.016579Z",
     "shell.execute_reply": "2025-05-14T16:10:41.015549Z"
    },
    "papermill": {
     "duration": 37.266918,
     "end_time": "2025-05-14T16:10:41.289377",
     "exception": false,
     "start_time": "2025-05-14T16:10:04.022459",
     "status": "completed"
    },
    "tags": []
   },
   "outputs": [
    {
     "name": "stdout",
     "output_type": "stream",
     "text": [
      "CPU times: user 36.5 s, sys: 168 ms, total: 36.7 s\n",
      "Wall time: 36.8 s\n"
     ]
    }
   ],
   "source": [
    "%%time\n",
    "\n",
    "wb_template = gstf.update_sheet_etat_stock(wb_template, df_etat_stock.loc[df_etat_stock.PROGRAMME==programme].copy())\n",
    "\n",
    "wb_template = gstf.update_sheet_stock_region(wb_template, wb_fbr, programme)"
   ]
  },
  {
   "cell_type": "markdown",
   "id": "aa2d9f5c-ff21-4dc3-8509-207e0f632a6e",
   "metadata": {
    "papermill": {
     "duration": 0.215292,
     "end_time": "2025-05-14T16:10:41.702653",
     "exception": false,
     "start_time": "2025-05-14T16:10:41.487361",
     "status": "completed"
    },
    "tags": []
   },
   "source": [
    "## 4. Mise à jour des informations feuille `Annexe 1 - Consolidation`"
   ]
  },
  {
   "cell_type": "code",
   "execution_count": 60,
   "id": "1448ebc3-75d4-4063-8d8d-daba9b9c2c65",
   "metadata": {
    "execution": {
     "iopub.execute_input": "2025-05-14T16:10:42.108618Z",
     "iopub.status.busy": "2025-05-14T16:10:42.108277Z",
     "iopub.status.idle": "2025-05-14T16:10:48.496103Z",
     "shell.execute_reply": "2025-05-14T16:10:48.495304Z"
    },
    "papermill": {
     "duration": 6.592443,
     "end_time": "2025-05-14T16:10:48.497799",
     "exception": false,
     "start_time": "2025-05-14T16:10:41.905356",
     "status": "completed"
    },
    "tags": []
   },
   "outputs": [],
   "source": [
    "wb_template = gstf.update_sheet_annexe_1(\n",
    "    wb_template, programme, schema_name, stock_sync_manager.civ_engine, date_report\n",
    ")"
   ]
  },
  {
   "cell_type": "markdown",
   "id": "17d87336-319e-4c52-bc10-ca92f55a36bd",
   "metadata": {
    "papermill": {
     "duration": 0.21331,
     "end_time": "2025-05-14T16:10:49.128005",
     "exception": false,
     "start_time": "2025-05-14T16:10:48.914695",
     "status": "completed"
    },
    "tags": []
   },
   "source": [
    "## 5. Mise à jour des données du `Plan d'approvisionnement`"
   ]
  },
  {
   "cell_type": "code",
   "execution_count": 61,
   "id": "896a4775-5a20-497e-9642-99b199e90a53",
   "metadata": {
    "execution": {
     "iopub.execute_input": "2025-05-14T16:10:49.535482Z",
     "iopub.status.busy": "2025-05-14T16:10:49.535118Z",
     "iopub.status.idle": "2025-05-14T16:10:49.544252Z",
     "shell.execute_reply": "2025-05-14T16:10:49.543423Z"
    },
    "papermill": {
     "duration": 0.189016,
     "end_time": "2025-05-14T16:10:49.545606",
     "exception": false,
     "start_time": "2025-05-14T16:10:49.356590",
     "status": "completed"
    },
    "scrolled": true,
    "tags": []
   },
   "outputs": [],
   "source": [
    "df_pa = df_plan_approv.rename(\n",
    "    columns={\n",
    "        \"Agent d`approvisionnement\": \"Centrale d'achat\",\n",
    "        \"Source de financement\": \"Source Financement\",\n",
    "        \"facteur_de_conversion_qat_sage\": \"Facteur de conversion de QAT vers SAGE\",\n",
    "        \"cout_unitaire_moyen_qat\": \"Coût unitaire moyen (en dollar)\",\n",
    "        \"acronym\": \"Acronym\",\n",
    "    }\n",
    ")\n",
    "\n",
    "df_pa[\"DATE\"] = pd.to_datetime(df_pa[\"DATE\"], format='%d-%b-%Y', errors='coerce')"
   ]
  },
  {
   "cell_type": "code",
   "execution_count": 62,
   "id": "7b64bf01-482b-473e-82df-9d96345e04cf",
   "metadata": {
    "execution": {
     "iopub.execute_input": "2025-05-14T16:10:49.969782Z",
     "iopub.status.busy": "2025-05-14T16:10:49.969263Z",
     "iopub.status.idle": "2025-05-14T16:10:50.731645Z",
     "shell.execute_reply": "2025-05-14T16:10:50.730644Z"
    },
    "papermill": {
     "duration": 0.986483,
     "end_time": "2025-05-14T16:10:50.733064",
     "exception": false,
     "start_time": "2025-05-14T16:10:49.746581",
     "status": "completed"
    },
    "tags": []
   },
   "outputs": [
    {
     "name": "stdout",
     "output_type": "stream",
     "text": [
      "CPU times: user 757 ms, sys: 1.01 ms, total: 758 ms\n",
      "Wall time: 757 ms\n"
     ]
    }
   ],
   "source": [
    "%%time\n",
    "wb_template = gstf.update_sheet_plan_approv(wb_template, df_pa)"
   ]
  },
  {
   "cell_type": "markdown",
   "id": "0e5eec95-ae01-435c-994f-597b583151ca",
   "metadata": {
    "papermill": {
     "duration": 2.012527,
     "end_time": "2025-05-14T16:10:53.223685",
     "exception": false,
     "start_time": "2025-05-14T16:10:51.211158",
     "status": "completed"
    },
    "tags": []
   },
   "source": [
    "## 5. Mise à jour des informations  en se basant sur la source `Annexe 2 - Suivi de Stock`"
   ]
  },
  {
   "cell_type": "code",
   "execution_count": 63,
   "id": "a8cbbd89-50c1-4467-b616-46071483927c",
   "metadata": {
    "execution": {
     "iopub.execute_input": "2025-05-14T16:10:57.899362Z",
     "iopub.status.busy": "2025-05-14T16:10:57.898182Z",
     "iopub.status.idle": "2025-05-14T16:10:59.411230Z",
     "shell.execute_reply": "2025-05-14T16:10:59.410249Z"
    },
    "papermill": {
     "duration": 1.73161,
     "end_time": "2025-05-14T16:10:59.412882",
     "exception": false,
     "start_time": "2025-05-14T16:10:57.681272",
     "status": "completed"
    },
    "tags": []
   },
   "outputs": [
    {
     "name": "stdout",
     "output_type": "stream",
     "text": [
      "CPU times: user 1.51 s, sys: 18 μs, total: 1.51 s\n",
      "Wall time: 1.51 s\n"
     ]
    }
   ],
   "source": [
    "%%time\n",
    "wb_template = gstf.update_sheet_annexe_2(wb_template, df_pa, date_report)"
   ]
  },
  {
   "cell_type": "markdown",
   "id": "23e8d193-e8ee-4e13-96a4-dca4dcd5cae5",
   "metadata": {
    "papermill": {
     "duration": 0.206373,
     "end_time": "2025-05-14T16:10:59.878220",
     "exception": false,
     "start_time": "2025-05-14T16:10:59.671847",
     "status": "completed"
    },
    "tags": []
   },
   "source": [
    "## 6. Mise à jour des données en se basant sur la source `Prévision`"
   ]
  },
  {
   "cell_type": "code",
   "execution_count": 64,
   "id": "907dc386-5f20-42a9-8bc4-a6033963db23",
   "metadata": {
    "execution": {
     "iopub.execute_input": "2025-05-14T16:11:00.467743Z",
     "iopub.status.busy": "2025-05-14T16:11:00.467346Z",
     "iopub.status.idle": "2025-05-14T16:11:00.478228Z",
     "shell.execute_reply": "2025-05-14T16:11:00.477458Z"
    },
    "papermill": {
     "duration": 0.226247,
     "end_time": "2025-05-14T16:11:00.479862",
     "exception": false,
     "start_time": "2025-05-14T16:11:00.253615",
     "status": "completed"
    },
    "tags": []
   },
   "outputs": [],
   "source": [
    "df_prod = dim_produit[\n",
    "    [\"code_produit\", \"type_produit\", \"designation\", \"designation_acronym\"]\n",
    "]\n",
    "\n",
    "df_prod[\"designation\"] = df_prod.apply(\n",
    "    lambda row: row[\"designation_acronym\"]\n",
    "    if not pd.isna(row[\"designation_acronym\"])\n",
    "    else row[\"designation\"],\n",
    "    axis=1,\n",
    ")\n",
    "df_prod = df_prod.drop(columns=\"designation_acronym\")"
   ]
  },
  {
   "cell_type": "code",
   "execution_count": 65,
   "id": "5390c300-62ab-40f6-af69-aed9c15b385c",
   "metadata": {
    "execution": {
     "iopub.execute_input": "2025-05-14T16:11:02.376363Z",
     "iopub.status.busy": "2025-05-14T16:11:02.375927Z",
     "iopub.status.idle": "2025-05-14T16:11:04.239251Z",
     "shell.execute_reply": "2025-05-14T16:11:04.238399Z"
    },
    "papermill": {
     "duration": 3.069631,
     "end_time": "2025-05-14T16:11:04.241070",
     "exception": false,
     "start_time": "2025-05-14T16:11:01.171439",
     "status": "completed"
    },
    "tags": []
   },
   "outputs": [],
   "source": [
    "wb_template = gstf.update_sheet_prevision(wb_template, date_report, df_prod)"
   ]
  },
  {
   "cell_type": "markdown",
   "id": "1630b9b1-f136-4538-84c8-bb3b1c40e1c4",
   "metadata": {
    "papermill": {
     "duration": 0.268025,
     "end_time": "2025-05-14T16:11:07.607246",
     "exception": false,
     "start_time": "2025-05-14T16:11:07.339221",
     "status": "completed"
    },
    "tags": []
   },
   "source": [
    "## 7. Mise à jour de certains éléments de la feuille `Rapport`"
   ]
  },
  {
   "cell_type": "code",
   "execution_count": 66,
   "id": "cbd158de-45e8-4f68-825e-825ac2154834",
   "metadata": {
    "execution": {
     "iopub.execute_input": "2025-05-14T16:11:08.024404Z",
     "iopub.status.busy": "2025-05-14T16:11:08.024048Z",
     "iopub.status.idle": "2025-05-14T16:11:08.028794Z",
     "shell.execute_reply": "2025-05-14T16:11:08.028080Z"
    },
    "papermill": {
     "duration": 0.205844,
     "end_time": "2025-05-14T16:11:08.029990",
     "exception": false,
     "start_time": "2025-05-14T16:11:07.824146",
     "status": "completed"
    },
    "tags": []
   },
   "outputs": [],
   "source": [
    "ws_rapport = wb_template['Rapport']\n",
    "ws_rapport['D4'].value = programme\n",
    "ws_rapport['D6'].value = f_month.split('-')[0].capitalize()\n",
    "ws_rapport['E6'].value = date_report_format[:4]"
   ]
  },
  {
   "cell_type": "markdown",
   "id": "d054f9c2-8975-4b31-baac-fc9b3629773d",
   "metadata": {
    "papermill": {
     "duration": 0.206686,
     "end_time": "2025-05-14T16:11:08.433135",
     "exception": false,
     "start_time": "2025-05-14T16:11:08.226449",
     "status": "completed"
    },
    "tags": []
   },
   "source": [
    "# VII. Exportation du Fichier Suivi de Stock vers le `drive` et la `BD`"
   ]
  },
  {
   "cell_type": "code",
   "execution_count": 67,
   "id": "f44d8752-d621-4c44-801e-c364c59ea156",
   "metadata": {
    "execution": {
     "iopub.execute_input": "2025-05-14T16:11:11.928726Z",
     "iopub.status.busy": "2025-05-14T16:11:11.928377Z",
     "iopub.status.idle": "2025-05-14T16:11:20.331607Z",
     "shell.execute_reply": "2025-05-14T16:11:20.330798Z"
    },
    "papermill": {
     "duration": 10.749608,
     "end_time": "2025-05-14T16:11:20.333395",
     "exception": false,
     "start_time": "2025-05-14T16:11:09.583787",
     "status": "completed"
    },
    "tags": []
   },
   "outputs": [
    {
     "name": "stdout",
     "output_type": "stream",
     "text": [
      "CPU times: user 7.39 s, sys: 186 ms, total: 7.58 s\n",
      "Wall time: 8.4 s\n"
     ]
    }
   ],
   "source": [
    "%%time\n",
    "# Sauvegarde du fichier dans un repertoire courant\n",
    "dest_file = (\n",
    "    Path(workspace.files_path)\n",
    "    / f\"Fichier Suivi de Stock/code/pipelines/fichier suivi de stock genere/{programme}/{date_report_format[:4]}\"\n",
    ")\n",
    "\n",
    "dest_file.mkdir(exist_ok=True, parents=True)\n",
    "\n",
    "dest_file = dest_file / f\"Fichier Suivi de Stock {programme}-{f_month}.xlsx\"\n",
    "\n",
    "wb_template.save(dest_file)"
   ]
  },
  {
   "cell_type": "code",
   "execution_count": 68,
   "id": "2e46bee1-54f4-48c9-986d-71ea1697f1dd",
   "metadata": {
    "execution": {
     "iopub.execute_input": "2025-05-14T16:11:20.775630Z",
     "iopub.status.busy": "2025-05-14T16:11:20.775260Z",
     "iopub.status.idle": "2025-05-14T16:11:25.147968Z",
     "shell.execute_reply": "2025-05-14T16:11:25.147040Z"
    },
    "papermill": {
     "duration": 4.617191,
     "end_time": "2025-05-14T16:11:25.149657",
     "exception": false,
     "start_time": "2025-05-14T16:11:20.532466",
     "status": "completed"
    },
    "tags": []
   },
   "outputs": [
    {
     "name": "stdout",
     "output_type": "stream",
     "text": [
      "Fichier trouvé : FICHIER SUIVI DE STOCK PNLS-MARS-2025.XLSX (ID: 1z1fLLjvySZZAMOPmb2FlSBCZpFx7_zja)\n"
     ]
    },
    {
     "name": "stdout",
     "output_type": "stream",
     "text": [
      "Fichier supprimé : FICHIER SUIVI DE STOCK PNLS-MARS-2025.XLSX\n"
     ]
    }
   ],
   "source": [
    "download_url = ggdrive.upload_and_return_link(\n",
    "    dest_file.as_posix(),\n",
    "    date_report_format,\n",
    ")"
   ]
  },
  {
   "cell_type": "code",
   "execution_count": 69,
   "id": "f1c90fd1-74f7-4b1f-b906-093975ea323e",
   "metadata": {
    "execution": {
     "iopub.execute_input": "2025-05-14T16:11:25.623812Z",
     "iopub.status.busy": "2025-05-14T16:11:25.623343Z",
     "iopub.status.idle": "2025-05-14T16:11:25.631202Z",
     "shell.execute_reply": "2025-05-14T16:11:25.630471Z"
    },
    "papermill": {
     "duration": 0.230982,
     "end_time": "2025-05-14T16:11:25.632649",
     "exception": false,
     "start_time": "2025-05-14T16:11:25.401667",
     "status": "completed"
    },
    "tags": []
   },
   "outputs": [],
   "source": [
    "df_download_url = pd.DataFrame(\n",
    "    data=[\n",
    "        {\n",
    "            \"programme\": programme,\n",
    "            \"download_url\": download_url,\n",
    "            \"date_report\": date_report_format,\n",
    "        }\n",
    "    ]\n",
    ")\n",
    "\n",
    "df_download_url.date_report = df_download_url.date_report.apply(\n",
    "    lambda x: pd.to_datetime(str(x)[:10], format=\"%Y-%m-%d\")\n",
    ")"
   ]
  },
  {
   "cell_type": "code",
   "execution_count": 70,
   "id": "01de3ddf-fc73-43bc-871f-c78aa90f5d37",
   "metadata": {
    "execution": {
     "iopub.execute_input": "2025-05-14T16:11:26.039249Z",
     "iopub.status.busy": "2025-05-14T16:11:26.038852Z",
     "iopub.status.idle": "2025-05-14T16:11:26.113033Z",
     "shell.execute_reply": "2025-05-14T16:11:26.112065Z"
    },
    "papermill": {
     "duration": 0.293268,
     "end_time": "2025-05-14T16:11:26.114680",
     "exception": false,
     "start_time": "2025-05-14T16:11:25.821412",
     "status": "completed"
    },
    "scrolled": true,
    "tags": []
   },
   "outputs": [
    {
     "data": {
      "text/html": [
       "<div>\n",
       "<style scoped>\n",
       "    .dataframe tbody tr th:only-of-type {\n",
       "        vertical-align: middle;\n",
       "    }\n",
       "\n",
       "    .dataframe tbody tr th {\n",
       "        vertical-align: top;\n",
       "    }\n",
       "\n",
       "    .dataframe thead th {\n",
       "        text-align: right;\n",
       "    }\n",
       "</style>\n",
       "<table border=\"1\" class=\"dataframe\">\n",
       "  <thead>\n",
       "    <tr style=\"text-align: right;\">\n",
       "      <th></th>\n",
       "      <th>id_share_link_pk</th>\n",
       "      <th>programme</th>\n",
       "      <th>download_url</th>\n",
       "      <th>date_report</th>\n",
       "    </tr>\n",
       "  </thead>\n",
       "  <tbody>\n",
       "    <tr>\n",
       "      <th>0</th>\n",
       "      <td>1</td>\n",
       "      <td>PNLP</td>\n",
       "      <td>https://drive.google.com/uc?id=1ECWpifZRPsj_xk...</td>\n",
       "      <td>2025-01-01</td>\n",
       "    </tr>\n",
       "    <tr>\n",
       "      <th>1</th>\n",
       "      <td>2</td>\n",
       "      <td>PNLP</td>\n",
       "      <td>https://drive.google.com/uc?id=1Kt1b5WtvRTGZcf...</td>\n",
       "      <td>2024-12-01</td>\n",
       "    </tr>\n",
       "    <tr>\n",
       "      <th>2</th>\n",
       "      <td>3</td>\n",
       "      <td>PNLS</td>\n",
       "      <td>https://drive.google.com/uc?id=1nwJdjZJue10fVA...</td>\n",
       "      <td>2024-12-01</td>\n",
       "    </tr>\n",
       "    <tr>\n",
       "      <th>3</th>\n",
       "      <td>5</td>\n",
       "      <td>PNLT</td>\n",
       "      <td>https://drive.google.com/uc?id=1ZbYwcqo4yunODi...</td>\n",
       "      <td>2024-12-01</td>\n",
       "    </tr>\n",
       "    <tr>\n",
       "      <th>4</th>\n",
       "      <td>6</td>\n",
       "      <td>PNLT</td>\n",
       "      <td>https://drive.google.com/uc?id=1RGmdhrn3-WdP0c...</td>\n",
       "      <td>2025-01-01</td>\n",
       "    </tr>\n",
       "    <tr>\n",
       "      <th>5</th>\n",
       "      <td>7</td>\n",
       "      <td>PNSME</td>\n",
       "      <td>https://drive.google.com/uc?id=1q5bqUgozycpGxK...</td>\n",
       "      <td>2024-12-01</td>\n",
       "    </tr>\n",
       "    <tr>\n",
       "      <th>6</th>\n",
       "      <td>8</td>\n",
       "      <td>PNSME</td>\n",
       "      <td>https://drive.google.com/uc?id=1BC_kZufkLXK5Ra...</td>\n",
       "      <td>2025-01-01</td>\n",
       "    </tr>\n",
       "    <tr>\n",
       "      <th>7</th>\n",
       "      <td>9</td>\n",
       "      <td>PNN</td>\n",
       "      <td>https://drive.google.com/uc?id=10z80VdlDTc6jnK...</td>\n",
       "      <td>2024-12-01</td>\n",
       "    </tr>\n",
       "    <tr>\n",
       "      <th>8</th>\n",
       "      <td>10</td>\n",
       "      <td>PNN</td>\n",
       "      <td>https://drive.google.com/uc?id=1OCNoFbRgSbf7lf...</td>\n",
       "      <td>2025-01-01</td>\n",
       "    </tr>\n",
       "    <tr>\n",
       "      <th>9</th>\n",
       "      <td>4</td>\n",
       "      <td>PNLS</td>\n",
       "      <td>https://drive.google.com/uc?id=18bC9vRuBW9nqbg...</td>\n",
       "      <td>2025-01-01</td>\n",
       "    </tr>\n",
       "    <tr>\n",
       "      <th>10</th>\n",
       "      <td>11</td>\n",
       "      <td>PNLS</td>\n",
       "      <td>https://drive.google.com/uc?id=18bC9vRuBW9nqbg...</td>\n",
       "      <td>2025-01-01</td>\n",
       "    </tr>\n",
       "    <tr>\n",
       "      <th>11</th>\n",
       "      <td>12</td>\n",
       "      <td>PNLP</td>\n",
       "      <td>https://drive.google.com/uc?id=1C-fpEVVzTAJ2V1...</td>\n",
       "      <td>2025-02-01</td>\n",
       "    </tr>\n",
       "    <tr>\n",
       "      <th>12</th>\n",
       "      <td>13</td>\n",
       "      <td>PNLS</td>\n",
       "      <td>https://drive.google.com/uc?id=1fvFlxbu9L6G9Od...</td>\n",
       "      <td>2025-02-01</td>\n",
       "    </tr>\n",
       "    <tr>\n",
       "      <th>13</th>\n",
       "      <td>14</td>\n",
       "      <td>PNLT</td>\n",
       "      <td>https://drive.google.com/uc?id=1ya9W7EZ7u671r7...</td>\n",
       "      <td>2025-02-01</td>\n",
       "    </tr>\n",
       "    <tr>\n",
       "      <th>14</th>\n",
       "      <td>15</td>\n",
       "      <td>PNN</td>\n",
       "      <td>https://drive.google.com/uc?id=1gVRSEe8xHpVE-S...</td>\n",
       "      <td>2025-02-01</td>\n",
       "    </tr>\n",
       "    <tr>\n",
       "      <th>15</th>\n",
       "      <td>16</td>\n",
       "      <td>PNSME</td>\n",
       "      <td>https://drive.google.com/uc?id=1XYYA8UI-Qzdxs4...</td>\n",
       "      <td>2025-02-01</td>\n",
       "    </tr>\n",
       "    <tr>\n",
       "      <th>16</th>\n",
       "      <td>19</td>\n",
       "      <td>PNLT</td>\n",
       "      <td>https://drive.google.com/uc?id=1sof0Bfa44s16Gm...</td>\n",
       "      <td>2025-03-01</td>\n",
       "    </tr>\n",
       "    <tr>\n",
       "      <th>17</th>\n",
       "      <td>20</td>\n",
       "      <td>PNN</td>\n",
       "      <td>https://drive.google.com/uc?id=1eXHOXps6ytx7OP...</td>\n",
       "      <td>2025-03-01</td>\n",
       "    </tr>\n",
       "    <tr>\n",
       "      <th>18</th>\n",
       "      <td>21</td>\n",
       "      <td>PNSME</td>\n",
       "      <td>https://drive.google.com/uc?id=1XQUP6MxxjcsSgL...</td>\n",
       "      <td>2025-03-01</td>\n",
       "    </tr>\n",
       "    <tr>\n",
       "      <th>19</th>\n",
       "      <td>17</td>\n",
       "      <td>PNLP</td>\n",
       "      <td>https://drive.google.com/uc?id=1_MPQSOrU4AtIrA...</td>\n",
       "      <td>2025-03-01</td>\n",
       "    </tr>\n",
       "    <tr>\n",
       "      <th>20</th>\n",
       "      <td>18</td>\n",
       "      <td>PNLS</td>\n",
       "      <td>https://drive.google.com/uc?id=1WFWLqaJVDhJHeN...</td>\n",
       "      <td>2025-03-01</td>\n",
       "    </tr>\n",
       "  </tbody>\n",
       "</table>\n",
       "</div>"
      ],
      "text/plain": [
       "    id_share_link_pk programme  \\\n",
       "0                  1      PNLP   \n",
       "1                  2      PNLP   \n",
       "2                  3      PNLS   \n",
       "3                  5      PNLT   \n",
       "4                  6      PNLT   \n",
       "5                  7     PNSME   \n",
       "6                  8     PNSME   \n",
       "7                  9       PNN   \n",
       "8                 10       PNN   \n",
       "9                  4      PNLS   \n",
       "10                11      PNLS   \n",
       "11                12      PNLP   \n",
       "12                13      PNLS   \n",
       "13                14      PNLT   \n",
       "14                15       PNN   \n",
       "15                16     PNSME   \n",
       "16                19      PNLT   \n",
       "17                20       PNN   \n",
       "18                21     PNSME   \n",
       "19                17      PNLP   \n",
       "20                18      PNLS   \n",
       "\n",
       "                                         download_url date_report  \n",
       "0   https://drive.google.com/uc?id=1ECWpifZRPsj_xk...  2025-01-01  \n",
       "1   https://drive.google.com/uc?id=1Kt1b5WtvRTGZcf...  2024-12-01  \n",
       "2   https://drive.google.com/uc?id=1nwJdjZJue10fVA...  2024-12-01  \n",
       "3   https://drive.google.com/uc?id=1ZbYwcqo4yunODi...  2024-12-01  \n",
       "4   https://drive.google.com/uc?id=1RGmdhrn3-WdP0c...  2025-01-01  \n",
       "5   https://drive.google.com/uc?id=1q5bqUgozycpGxK...  2024-12-01  \n",
       "6   https://drive.google.com/uc?id=1BC_kZufkLXK5Ra...  2025-01-01  \n",
       "7   https://drive.google.com/uc?id=10z80VdlDTc6jnK...  2024-12-01  \n",
       "8   https://drive.google.com/uc?id=1OCNoFbRgSbf7lf...  2025-01-01  \n",
       "9   https://drive.google.com/uc?id=18bC9vRuBW9nqbg...  2025-01-01  \n",
       "10  https://drive.google.com/uc?id=18bC9vRuBW9nqbg...  2025-01-01  \n",
       "11  https://drive.google.com/uc?id=1C-fpEVVzTAJ2V1...  2025-02-01  \n",
       "12  https://drive.google.com/uc?id=1fvFlxbu9L6G9Od...  2025-02-01  \n",
       "13  https://drive.google.com/uc?id=1ya9W7EZ7u671r7...  2025-02-01  \n",
       "14  https://drive.google.com/uc?id=1gVRSEe8xHpVE-S...  2025-02-01  \n",
       "15  https://drive.google.com/uc?id=1XYYA8UI-Qzdxs4...  2025-02-01  \n",
       "16  https://drive.google.com/uc?id=1sof0Bfa44s16Gm...  2025-03-01  \n",
       "17  https://drive.google.com/uc?id=1eXHOXps6ytx7OP...  2025-03-01  \n",
       "18  https://drive.google.com/uc?id=1XQUP6MxxjcsSgL...  2025-03-01  \n",
       "19  https://drive.google.com/uc?id=1_MPQSOrU4AtIrA...  2025-03-01  \n",
       "20  https://drive.google.com/uc?id=1WFWLqaJVDhJHeN...  2025-03-01  "
      ]
     },
     "execution_count": 70,
     "metadata": {},
     "output_type": "execute_result"
    }
   ],
   "source": [
    "stock_sync_manager.synchronize_table_data(\n",
    "    df_download_url,\n",
    "    table_name=\"share_link\",\n",
    "    merge_keys=[\"programme\", \"date_report\"],\n",
    "    programme=programme,\n",
    ")"
   ]
  }
 ],
 "metadata": {
  "kernelspec": {
   "display_name": "Python 3 (ipykernel)",
   "language": "python",
   "name": "python3"
  },
  "language_info": {
   "codemirror_mode": {
    "name": "ipython",
    "version": 3
   },
   "file_extension": ".py",
   "mimetype": "text/x-python",
   "name": "python",
   "nbconvert_exporter": "python",
   "pygments_lexer": "ipython3",
   "version": "3.12.8"
  },
  "papermill": {
   "default_parameters": {},
   "duration": 843.003245,
   "end_time": "2025-05-14T16:11:29.249697",
   "environment_variables": {},
   "exception": null,
   "input_path": "/home/hexa/workspace/Fichier Suivi de Stock/code/pipelines/mise a jour fichier suivi stock.ipynb",
   "output_path": "/home/hexa/workspace/Fichier Suivi de Stock/code/pipelines/output_notebook_execution/maj fichier suivi stock/PNLS/output_2025-05-14.ipynb",
   "parameters": {
    "fp_etat_mensuel": "Etat du stock et de distribution PNLS fin Mars 2025.xlsx",
    "fp_map_prod": "Mapping QAT_SAGEX3.xlsx",
    "fp_plan_approv": "Mars 2025",
    "month_report": "Mars",
    "programme": "PNLS",
    "year_report": 2025
   },
   "start_time": "2025-05-14T15:57:26.246452",
   "version": "2.6.0"
  }
 },
 "nbformat": 4,
 "nbformat_minor": 5
}