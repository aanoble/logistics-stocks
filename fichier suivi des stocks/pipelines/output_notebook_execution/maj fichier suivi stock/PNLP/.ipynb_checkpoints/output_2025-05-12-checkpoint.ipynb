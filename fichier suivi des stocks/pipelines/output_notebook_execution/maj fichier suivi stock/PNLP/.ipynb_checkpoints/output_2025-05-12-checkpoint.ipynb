{
 "cells": [
  {
   "cell_type": "markdown",
   "id": "a5fef135",
   "metadata": {
    "tags": [
     "papermill-error-cell-tag"
    ]
   },
   "source": [
    "<span style=\"color:red; font-family:Helvetica Neue, Helvetica, Arial, sans-serif; font-size:2em;\">An Exception was encountered at '<a href=\"#papermill-error-cell\">In [6]</a>'.</span>"
   ]
  },
  {
   "cell_type": "markdown",
   "id": "6a2244e4-3226-4d02-9910-ca30f2ed18b5",
   "metadata": {
    "papermill": {
     "duration": 0.216481,
     "end_time": "2025-05-12T17:05:46.681523",
     "exception": false,
     "start_time": "2025-05-12T17:05:46.465042",
     "status": "completed"
    },
    "tags": []
   },
   "source": [
    "# I. Importation des bibliothèques"
   ]
  },
  {
   "cell_type": "code",
   "execution_count": 1,
   "id": "2ed56fcd-16c9-4916-98c6-aeb22c88b1c4",
   "metadata": {
    "execution": {
     "iopub.execute_input": "2025-05-12T17:05:47.096422Z",
     "iopub.status.busy": "2025-05-12T17:05:47.095931Z",
     "iopub.status.idle": "2025-05-12T17:05:52.240757Z",
     "shell.execute_reply": "2025-05-12T17:05:52.237649Z"
    },
    "papermill": {
     "duration": 5.368374,
     "end_time": "2025-05-12T17:05:52.243296",
     "exception": false,
     "start_time": "2025-05-12T17:05:46.874922",
     "status": "completed"
    },
    "tags": []
   },
   "outputs": [],
   "source": [
    "%%capture\n",
    "!pip install google-api-python-client google-auth-httplib2 google-auth-oauthlib unidecode"
   ]
  },
  {
   "cell_type": "code",
   "execution_count": 2,
   "id": "c8ef43d4-7fec-400f-86ce-30991fb1b709",
   "metadata": {
    "editable": true,
    "execution": {
     "iopub.execute_input": "2025-05-12T17:05:53.494835Z",
     "iopub.status.busy": "2025-05-12T17:05:53.492501Z",
     "iopub.status.idle": "2025-05-12T17:06:01.339849Z",
     "shell.execute_reply": "2025-05-12T17:06:01.338441Z"
    },
    "papermill": {
     "duration": 8.909281,
     "end_time": "2025-05-12T17:06:01.342575",
     "exception": false,
     "start_time": "2025-05-12T17:05:52.433294",
     "status": "completed"
    },
    "slideshow": {
     "slide_type": ""
    },
    "tags": []
   },
   "outputs": [],
   "source": [
    "%%capture\n",
    "import warnings\n",
    "\n",
    "warnings.filterwarnings(\"ignore\")\n",
    "\n",
    "import os\n",
    "from pathlib import Path\n",
    "\n",
    "import pandas as pd\n",
    "from openhexa.sdk import workspace\n",
    "from unidecode import unidecode\n",
    "\n",
    "pd.set_option(\"display.max_columns\", None)\n",
    "\n",
    "try:\n",
    "    import openpyxl as pyxl\n",
    "    from efc.interfaces.iopenpyxl import OpenpyxlInterface\n",
    "    from fuzzywuzzy import fuzz, process\n",
    "except ImportError or ModuleNotFoundError:\n",
    "    !pip install --quiet fuzzywuzzy python-Levenshtein excel-formulas-calculator\n",
    "    import openpyxl as pyxl\n",
    "    from efc.interfaces.iopenpyxl import OpenpyxlInterface"
   ]
  },
  {
   "cell_type": "markdown",
   "id": "8dab03ab-9414-4670-befc-42b395b44059",
   "metadata": {
    "papermill": {
     "duration": 0.193752,
     "end_time": "2025-05-12T17:06:01.720770",
     "exception": false,
     "start_time": "2025-05-12T17:06:01.527018",
     "status": "completed"
    },
    "tags": []
   },
   "source": [
    "## 1. Rafraîchissement des bibliothèques"
   ]
  },
  {
   "cell_type": "code",
   "execution_count": 3,
   "id": "3a21bbdd-e895-4122-91bc-553d8ae02123",
   "metadata": {
    "editable": true,
    "execution": {
     "iopub.execute_input": "2025-05-12T17:06:02.092671Z",
     "iopub.status.busy": "2025-05-12T17:06:02.091636Z",
     "iopub.status.idle": "2025-05-12T17:06:07.760111Z",
     "shell.execute_reply": "2025-05-12T17:06:07.759084Z"
    },
    "papermill": {
     "duration": 5.860341,
     "end_time": "2025-05-12T17:06:07.762283",
     "exception": false,
     "start_time": "2025-05-12T17:06:01.901942",
     "status": "completed"
    },
    "slideshow": {
     "slide_type": ""
    },
    "tags": []
   },
   "outputs": [],
   "source": [
    "%%capture\n",
    "# Ajout du chemin d'accès pour l'importation des bibliothèques\n",
    "os.chdir(Path(workspace.files_path, \"Fichier Suivi de Stock/code/pipelines\"))\n",
    "\n",
    "from importlib import reload\n",
    "\n",
    "import compute_indicators\n",
    "import export_file_to_google_drive as ggdrive\n",
    "import generate_stock_tracking_file as gstf\n",
    "\n",
    "# Importation des réquêtes sql\n",
    "from compute_indicators.queries import *\n",
    "from database_operations import stock_sync_manager\n",
    "\n",
    "# Reload modules\n",
    "reload(compute_indicators)\n",
    "reload(stock_sync_manager)\n",
    "reload(gstf)\n",
    "reload(ggdrive)"
   ]
  },
  {
   "cell_type": "markdown",
   "id": "e26b3de7-b38f-4e98-a2a4-a88374dd84b4",
   "metadata": {
    "papermill": {
     "duration": 0.217974,
     "end_time": "2025-05-12T17:06:08.168354",
     "exception": false,
     "start_time": "2025-05-12T17:06:07.950380",
     "status": "completed"
    },
    "tags": []
   },
   "source": [
    "# II. Définition des paramètres"
   ]
  },
  {
   "cell_type": "markdown",
   "id": "f4ff0a57-7b4d-48cb-bd95-b05c42e9b876",
   "metadata": {
    "papermill": {
     "duration": 0.201266,
     "end_time": "2025-05-12T17:06:08.567771",
     "exception": false,
     "start_time": "2025-05-12T17:06:08.366505",
     "status": "completed"
    },
    "tags": []
   },
   "source": [
    "## 1. Variables requises pour la conception du fichier de suivi de stock\n",
    "\n",
    "1. **Mois de création du rapport** : Si le processus est bien défini, cette valeur peut être automatisée. Sinon, elle sera fournie en tant qu'entrée du pipeline.\n",
    "\n",
    "2. **Programme** : Le programme concerné pour lequel le fichier de suivi de stock est généré.\n",
    "\n",
    "3. **Fichier État Mensuel** : Fichier transmis mensuellement par la N-PSP (source : SAGE X3).\n",
    "\n",
    "4. **Fichier Plan d'Approvisionnement** : Utilisé pour certains calculs, notamment dans la feuille « Prévision ». Ce fichier est généralement récupéré depuis la source QAT.\n",
    "\n",
    "5. **Fichier de mappage des produits** : Fichier assurant la correspondance entre les produits de SAGE X3 et ceux de QAT."
   ]
  },
  {
   "cell_type": "code",
   "execution_count": 4,
   "id": "5d4117a6-ce2c-4aff-b0ac-3e5dc57a2319",
   "metadata": {
    "editable": true,
    "execution": {
     "iopub.execute_input": "2025-05-12T17:06:08.988853Z",
     "iopub.status.busy": "2025-05-12T17:06:08.988258Z",
     "iopub.status.idle": "2025-05-12T17:06:08.994193Z",
     "shell.execute_reply": "2025-05-12T17:06:08.993035Z"
    },
    "papermill": {
     "duration": 0.214192,
     "end_time": "2025-05-12T17:06:08.996212",
     "exception": false,
     "start_time": "2025-05-12T17:06:08.782020",
     "status": "completed"
    },
    "slideshow": {
     "slide_type": ""
    },
    "tags": [
     "parameters"
    ]
   },
   "outputs": [],
   "source": [
    "month_report, year_report, programme, fp_etat_mensuel, fp_plan_approv, fp_map_prod = (\n",
    "    \"Mars\",\n",
    "    2025,\n",
    "    \"PNLP\",\n",
    "    \"Etat du stock et de distribution PNLP fin Mars 2025.xlsx\",\n",
    "    \"Détails de l`envoiMar. 2025 ~ Dec. 2026.csv\",\n",
    "    \"Mapping QAT_SAGEX3.xlsx\",\n",
    ")"
   ]
  },
  {
   "cell_type": "code",
   "execution_count": 5,
   "id": "8609ab41",
   "metadata": {
    "execution": {
     "iopub.execute_input": "2025-05-12T17:06:13.843144Z",
     "iopub.status.busy": "2025-05-12T17:06:13.842389Z",
     "iopub.status.idle": "2025-05-12T17:06:13.848795Z",
     "shell.execute_reply": "2025-05-12T17:06:13.847697Z"
    },
    "papermill": {
     "duration": 1.092856,
     "end_time": "2025-05-12T17:06:13.850887",
     "exception": false,
     "start_time": "2025-05-12T17:06:12.758031",
     "status": "completed"
    },
    "tags": [
     "injected-parameters"
    ]
   },
   "outputs": [],
   "source": [
    "# Parameters\n",
    "month_report = \"Mars\"\n",
    "year_report = 2025\n",
    "programme = \"PNLP\"\n",
    "fp_etat_mensuel = \"Etat du stock et de distribution PNLP fin Mars 2025.xlsx\"\n",
    "fp_plan_approv = \"De\\u0301tails de l`envoiMar. 2025 ~ Dec. 2026.csv\"\n",
    "fp_map_prod = \"Mapping QAT_SAGEX3.xlsx\"\n"
   ]
  },
  {
   "cell_type": "markdown",
   "id": "aa9c6931",
   "metadata": {
    "tags": [
     "papermill-error-cell-tag"
    ]
   },
   "source": [
    "<span id=\"papermill-error-cell\" style=\"color:red; font-family:Helvetica Neue, Helvetica, Arial, sans-serif; font-size:2em;\">Execution using papermill encountered an exception here and stopped:</span>"
   ]
  },
  {
   "cell_type": "code",
   "execution_count": 6,
   "id": "7ffc244d-b753-49f8-8240-825a1e982c0b",
   "metadata": {
    "editable": true,
    "execution": {
     "iopub.execute_input": "2025-05-12T17:06:17.423546Z",
     "iopub.status.busy": "2025-05-12T17:06:17.422371Z",
     "iopub.status.idle": "2025-05-12T17:06:17.894654Z",
     "shell.execute_reply": "2025-05-12T17:06:17.893404Z"
    },
    "papermill": {
     "duration": 3.726262,
     "end_time": "2025-05-12T17:06:17.896408",
     "exception": true,
     "start_time": "2025-05-12T17:06:14.170146",
     "status": "failed"
    },
    "slideshow": {
     "slide_type": ""
    },
    "tags": []
   },
   "outputs": [
    {
     "ename": "NameError",
     "evalue": "name 'date_report' is not defined",
     "output_type": "error",
     "traceback": [
      "\u001b[0;31m---------------------------------------------------------------------------\u001b[0m",
      "\u001b[0;31mNameError\u001b[0m                                 Traceback (most recent call last)",
      "Cell \u001b[0;32mIn[6], line 1\u001b[0m\n\u001b[0;32m----> 1\u001b[0m month_export, date_report \u001b[38;5;241m=\u001b[39m \u001b[43mdate_report\u001b[49m, compute_indicators\u001b[38;5;241m.\u001b[39mutils\u001b[38;5;241m.\u001b[39mformat_date(month_report, year_report)\n\u001b[1;32m      3\u001b[0m date_report_prec \u001b[38;5;241m=\u001b[39m (pd\u001b[38;5;241m.\u001b[39mto_datetime(date_report)\u001b[38;5;241m.\u001b[39mreplace(day\u001b[38;5;241m=\u001b[39m\u001b[38;5;241m1\u001b[39m) \u001b[38;5;241m-\u001b[39m pd\u001b[38;5;241m.\u001b[39moffsets\u001b[38;5;241m.\u001b[39mMonthBegin())\u001b[38;5;241m.\u001b[39mstrftime(\u001b[38;5;124m'\u001b[39m\u001b[38;5;124m%\u001b[39m\u001b[38;5;124mY-\u001b[39m\u001b[38;5;124m%\u001b[39m\u001b[38;5;124mm-\u001b[39m\u001b[38;5;132;01m%d\u001b[39;00m\u001b[38;5;124m'\u001b[39m)\n",
      "\u001b[0;31mNameError\u001b[0m: name 'date_report' is not defined"
     ]
    }
   ],
   "source": [
    "month_export, date_report = date_report, compute_indicators.utils.format_date(month_report, year_report)\n",
    "\n",
    "date_report_prec = (pd.to_datetime(date_report).replace(day=1) - pd.offsets.MonthBegin()).strftime('%Y-%m-%d')"
   ]
  },
  {
   "cell_type": "markdown",
   "id": "6891eb05-f888-4c75-bdd0-749559cc7ca1",
   "metadata": {
    "papermill": {
     "duration": null,
     "end_time": null,
     "exception": null,
     "start_time": null,
     "status": "pending"
    },
    "tags": []
   },
   "source": [
    "## 2. Test pour s'assurer que cette date n'existe pas déjà dans la base de données"
   ]
  },
  {
   "cell_type": "code",
   "execution_count": null,
   "id": "8b840e61-7ee1-478a-a6c3-c5b614e25f8b",
   "metadata": {
    "papermill": {
     "duration": null,
     "end_time": null,
     "exception": null,
     "start_time": null,
     "status": "pending"
    },
    "tags": []
   },
   "outputs": [],
   "source": [
    "stock_sync_manager.initialize_database_connection()\n",
    "\n",
    "schema_name = \"suivi_stock\""
   ]
  },
  {
   "cell_type": "code",
   "execution_count": null,
   "id": "4f4adfa5-719d-419c-8352-ad2e4dcdab8c",
   "metadata": {
    "papermill": {
     "duration": null,
     "end_time": null,
     "exception": null,
     "start_time": null,
     "status": "pending"
    },
    "tags": []
   },
   "outputs": [],
   "source": [
    "# Ici il faudrait également s'assurer que le mois précédent est bien présent à l'intérieur de la base de données au cas où on arriverait à se tromper sur le mois de conception du fichier\n",
    "df_ = stock_sync_manager.get_table_data(\n",
    "    query=f\"\"\"\n",
    "    select * \n",
    "    from {schema_name}.stock_track st \n",
    "    inner join {schema_name}.dim_produit_stock_track prod ON st.id_dim_produit_stock_track_fk = prod.id_dim_produit_stock_track_pk\n",
    "    where prod.programme='{programme}' and date_report='{date_report_prec}'\n",
    "    limit 2\n",
    "    \"\"\"\n",
    ")\n",
    "\n",
    "assert (\n",
    "    df_.shape[0] != 0\n",
    "), f\"Le mois précédent {date_report_prec} n'est pas présent dans la base de données locale êtes-vous sûre d'avoir choisir le bon mois de conception du fichier.\"\n",
    "\n",
    "del df_"
   ]
  },
  {
   "cell_type": "markdown",
   "id": "f89423e0-797c-4c0a-8ad6-1addbd0a7e3e",
   "metadata": {
    "papermill": {
     "duration": null,
     "end_time": null,
     "exception": null,
     "start_time": null,
     "status": "pending"
    },
    "tags": []
   },
   "source": [
    "# III.📥Importation des Données\n",
    "  \n",
    "L'utilisateur doit veiller à ce que les fichiers respectent le format attendu et soient placés dans les répertoires dédiés avant de procéder au traitement."
   ]
  },
  {
   "cell_type": "markdown",
   "id": "73015d7f-f3c2-4b44-96b6-1046109dbf21",
   "metadata": {
    "papermill": {
     "duration": null,
     "end_time": null,
     "exception": null,
     "start_time": null,
     "status": "pending"
    },
    "tags": []
   },
   "source": [
    "## 📌1. Importation du fichier `Etat de Stock Mensuel`\n",
    "\n",
    "- **Format requis :** Assurez-vous que le fichier respecte le template standard défini.\n",
    "- **Emplacement du fichier :** Le fichier doit être placé dans le répertoire dédié :  \n",
    "  **`Fichier Suivi de Stock/data/<programme>/Etat de Stock Mensuel`**\n",
    "  \n",
    "- **En cas d'erreur :**  \n",
    "  - Vérifiez que le fichier est bien présent dans le répertoire.  \n",
    "  - Assurez-vous que toutes les colonnes requises sont bien renseignées.  \n",
    "  - Contrôlez que le fichier est bien accessible et non corrompu."
   ]
  },
  {
   "cell_type": "code",
   "execution_count": null,
   "id": "d02f7b2e-14f1-4174-95b4-c6cdaea297be",
   "metadata": {
    "papermill": {
     "duration": null,
     "end_time": null,
     "exception": null,
     "start_time": null,
     "status": "pending"
    },
    "tags": []
   },
   "outputs": [],
   "source": [
    "fp_etat_mensuel = (\n",
    "    Path(workspace.files_path)\n",
    "    / f\"Fichier Suivi de Stock/data/{programme}/Etat de Stock Mensuel\"\n",
    "    / Path(fp_etat_mensuel).name\n",
    ")\n",
    "\n",
    "sheetnames = pd.ExcelFile(fp_etat_mensuel).sheet_names"
   ]
  },
  {
   "cell_type": "markdown",
   "id": "36d21a7b-10c2-4c81-bc38-2a1dcf0916a0",
   "metadata": {
    "papermill": {
     "duration": null,
     "end_time": null,
     "exception": null,
     "start_time": null,
     "status": "pending"
    },
    "tags": []
   },
   "source": [
    "## 📌2. Importation de la feuille `Etat de stock de la NPSP`"
   ]
  },
  {
   "cell_type": "code",
   "execution_count": null,
   "id": "f81ccd62-7a85-4830-a782-0721f40ed33a",
   "metadata": {
    "papermill": {
     "duration": null,
     "end_time": null,
     "exception": null,
     "start_time": null,
     "status": "pending"
    },
    "tags": []
   },
   "outputs": [],
   "source": [
    "sheet_stock_npsp = compute_indicators.utils.check_if_sheet_name_in_file('Etat de stock', sheetnames)\n",
    "\n",
    "assert sheet_stock_npsp is not None, print(f\"La feuille `Etat de stock` n'est pas dans la liste {sheetnames} du classeur excel\")\n",
    "\n",
    "df_etat_stock_npsp = pd.read_excel(fp_etat_mensuel, sheet_name=sheet_stock_npsp, skiprows=4)\n",
    "df_etat_stock_npsp.columns = df_etat_stock_npsp.columns.str.strip()\n",
    "\n",
    "del sheet_stock_npsp\n",
    "\n",
    "df_etat_stock_npsp = df_etat_stock_npsp.loc[df_etat_stock_npsp[\"Nouveau code\"].notna()]\n",
    "\n",
    "df_etat_stock_npsp = compute_indicators.file_utils.process_etat_stock_npsp(df_etat_stock_npsp, date_report, programme)\n",
    "\n",
    "df_etat_stock_npsp.head(2)"
   ]
  },
  {
   "cell_type": "markdown",
   "id": "35af5650-cbb4-4b85-9fdd-301717a20e95",
   "metadata": {
    "papermill": {
     "duration": null,
     "end_time": null,
     "exception": null,
     "start_time": null,
     "status": "pending"
    },
    "tags": []
   },
   "source": [
    "## 📌3. Importation de la feuille `Stock detaille`"
   ]
  },
  {
   "cell_type": "code",
   "execution_count": null,
   "id": "7722f6ab-9539-4935-9e0d-7b8973dabf7c",
   "metadata": {
    "papermill": {
     "duration": null,
     "end_time": null,
     "exception": null,
     "start_time": null,
     "status": "pending"
    },
    "tags": []
   },
   "outputs": [],
   "source": [
    "sheet_stock_detaille = compute_indicators.utils.check_if_sheet_name_in_file('Stock detaille', sheetnames)\n",
    "\n",
    "assert sheet_stock_detaille is not None, print(f\"La feuille `Stock detaille` n'est pas dans la liste {sheetnames} du classeur excel\")\n",
    "\n",
    "df_stock_detaille = pd.read_excel(fp_etat_mensuel, sheet_name=sheet_stock_detaille)\n",
    "df_stock_detaille.columns = df_stock_detaille.columns.str.strip()\n",
    "\n",
    "max_date_year = pd.Timestamp.max.year\n",
    "\n",
    "df_stock_detaille[\"Date limite de consommation\"] = df_stock_detaille[\"Date limite de consommation\"].apply(\n",
    "    lambda x: x if x.year<max_date_year else x.replace(year=max_date_year-1)\n",
    ")\n",
    "\n",
    "del sheet_stock_detaille, max_date_year\n",
    "\n",
    "df_stock_detaille.head(2)"
   ]
  },
  {
   "cell_type": "markdown",
   "id": "37de2849-dc65-4fb7-b87a-8faf7121f280",
   "metadata": {
    "papermill": {
     "duration": null,
     "end_time": null,
     "exception": null,
     "start_time": null,
     "status": "pending"
    },
    "tags": []
   },
   "source": [
    "## 📌4. Importation de la feuille `Distribution X3`"
   ]
  },
  {
   "cell_type": "code",
   "execution_count": null,
   "id": "7f1f692a-9147-4ac1-b50e-a0ba94ca588f",
   "metadata": {
    "papermill": {
     "duration": null,
     "end_time": null,
     "exception": null,
     "start_time": null,
     "status": "pending"
    },
    "tags": []
   },
   "outputs": [],
   "source": [
    "sheet_distribution_x3 = compute_indicators.utils.check_if_sheet_name_in_file('Distribution', sheetnames)\n",
    "\n",
    "assert sheet_distribution_x3 is not None, print(f\"La feuille `Distribution X3` n'est pas dans la liste {sheetnames} du classeur excel\")\n",
    "\n",
    "df_distribution = pd.read_excel(fp_etat_mensuel, sheet_name=sheet_distribution_x3)\n",
    "df_distribution.columns = df_distribution.columns.str.strip()\n",
    "\n",
    "del sheet_distribution_x3\n",
    "\n",
    "df_distribution.head(2)"
   ]
  },
  {
   "cell_type": "markdown",
   "id": "ccad74b5-8006-4fb2-9728-ec7b22892cc2",
   "metadata": {
    "papermill": {
     "duration": null,
     "end_time": null,
     "exception": null,
     "start_time": null,
     "status": "pending"
    },
    "tags": []
   },
   "source": [
    "## 📌5. Importation de la feuille `Receptions`"
   ]
  },
  {
   "cell_type": "code",
   "execution_count": null,
   "id": "aba1696b-3a88-4499-8e96-218b21191f07",
   "metadata": {
    "papermill": {
     "duration": null,
     "end_time": null,
     "exception": null,
     "start_time": null,
     "status": "pending"
    },
    "tags": []
   },
   "outputs": [],
   "source": [
    "sheet_reception = compute_indicators.utils.check_if_sheet_name_in_file('Receptions', sheetnames)\n",
    "\n",
    "assert sheet_reception is not None, print(f\"La feuille `Receptions` n'est pas dans la liste {sheetnames} du classeur excel\")\n",
    "\n",
    "df_receptions = pd.read_excel(fp_etat_mensuel, sheet_name=sheet_reception)\n",
    "df_receptions.columns = df_receptions.columns.str.strip()\n",
    "\n",
    "del sheet_reception\n",
    "\n",
    "df_receptions.head(2)"
   ]
  },
  {
   "cell_type": "markdown",
   "id": "5fca5f1b-ec81-4434-b361-25edab77eb43",
   "metadata": {
    "papermill": {
     "duration": null,
     "end_time": null,
     "exception": null,
     "start_time": null,
     "status": "pending"
    },
    "tags": []
   },
   "source": [
    "## 📌6. Importation de la feuille `PPI`"
   ]
  },
  {
   "cell_type": "code",
   "execution_count": null,
   "id": "028e57f8-0239-43a3-b979-56fc164212e4",
   "metadata": {
    "papermill": {
     "duration": null,
     "end_time": null,
     "exception": null,
     "start_time": null,
     "status": "pending"
    },
    "tags": []
   },
   "outputs": [],
   "source": [
    "sheet_ppi = compute_indicators.utils.check_if_sheet_name_in_file('PPI', sheetnames)\n",
    "\n",
    "assert sheet_ppi is not None, print(f\"La feuille `PPI` n'est pas dans la liste {sheetnames} du classeur excel\")\n",
    "\n",
    "df_ppi = pd.read_excel(fp_etat_mensuel, sheet_name=sheet_ppi, skiprows=2)\n",
    "df_ppi.columns = df_ppi.columns.str.strip()\n",
    "\n",
    "del sheet_ppi\n",
    "\n",
    "df_ppi.head(2)"
   ]
  },
  {
   "cell_type": "markdown",
   "id": "7d034716-4571-4dbd-ab3c-a59bc9cd8d70",
   "metadata": {
    "papermill": {
     "duration": null,
     "end_time": null,
     "exception": null,
     "start_time": null,
     "status": "pending"
    },
    "tags": []
   },
   "source": [
    "## 📌7. Importation de la feuille  `Prélèvement`"
   ]
  },
  {
   "cell_type": "code",
   "execution_count": null,
   "id": "f19419ab-c0ad-444f-9d58-c816e6a3371b",
   "metadata": {
    "papermill": {
     "duration": null,
     "end_time": null,
     "exception": null,
     "start_time": null,
     "status": "pending"
    },
    "tags": []
   },
   "outputs": [],
   "source": [
    "sheet_prelev = compute_indicators.utils.check_if_sheet_name_in_file('Prelèvement CQ', sheetnames)\n",
    "\n",
    "assert sheet_prelev is not None, print(f\"La feuille `Prelèvement CQ` n'est pas dans la liste {sheetnames} du classeur excel\")\n",
    "\n",
    "df_prelevement = pd.read_excel(fp_etat_mensuel, sheet_name=sheet_prelev, skiprows=2)\n",
    "df_prelevement.columns = df_prelevement.columns.str.strip()\n",
    "\n",
    "del sheet_prelev\n",
    "\n",
    "df_prelevement.head(2)"
   ]
  },
  {
   "cell_type": "markdown",
   "id": "6df2ffd3-0e49-4c80-adc1-1219f1756a8a",
   "metadata": {
    "papermill": {
     "duration": null,
     "end_time": null,
     "exception": null,
     "start_time": null,
     "status": "pending"
    },
    "tags": []
   },
   "source": [
    "## 📌8. Importation du fichier de `mapping des produits QAT et SAGE X3`\n",
    "\n",
    "- **Format requis :** Respectez la structure du fichier.  \n",
    "- **Emplacement du fichier :** Le fichier doit être placé dans le répertoire suivant :  \n",
    "  **`Fichier Suivi de Stock/data/Mapping produits QAT SAGE X3`**  \n",
    "- **En cas d'erreur :**\n",
    "  - Vérifiez que le fichier est bien présent dans le répertoire.  \n",
    "  - Assurez-vous que les données respectent le format attendu. \n",
    "  - Vérifiez l'intégrité du fichier et assurez-vous et corriger l'anomalie."
   ]
  },
  {
   "cell_type": "code",
   "execution_count": null,
   "id": "d7c8434e-8083-4d70-91bf-07c813f36fe4",
   "metadata": {
    "papermill": {
     "duration": null,
     "end_time": null,
     "exception": null,
     "start_time": null,
     "status": "pending"
    },
    "tags": []
   },
   "outputs": [],
   "source": [
    "fp_map_prod = (\n",
    "    Path(workspace.files_path)\n",
    "    / \"Fichier Suivi de Stock/data/Mapping produits QAT SAGE X3\"\n",
    "    / Path(fp_map_prod).name\n",
    ")"
   ]
  },
  {
   "cell_type": "code",
   "execution_count": null,
   "id": "8fb198eb-ad43-4572-b4ff-7f3cbcc52a13",
   "metadata": {
    "papermill": {
     "duration": null,
     "end_time": null,
     "exception": null,
     "start_time": null,
     "status": "pending"
    },
    "tags": []
   },
   "outputs": [],
   "source": [
    "assert fp_map_prod.exists(), \"Le fichier de mapping des produits n'a pas été retrouvé dans le dossier dédié\""
   ]
  },
  {
   "cell_type": "markdown",
   "id": "e9df904b-5610-4442-aac3-294e6a2e0330",
   "metadata": {
    "papermill": {
     "duration": null,
     "end_time": null,
     "exception": null,
     "start_time": null,
     "status": "pending"
    },
    "tags": []
   },
   "source": [
    "## 📌9. Importation du `Plan d'approvisionnement`\n",
    "\n",
    "- **Format requis :** Respectez la structure du fichier définie pour l’importation peut conserver le fichier brut extrait de QAT.  \n",
    "- **Emplacement du fichier :** Le fichier doit être placé dans le répertoire suivant :  \n",
    "  **`Fichier Suivi de Stock/data/<programme>/Plan d'Approvisionnement`**  \n",
    "- **En cas d'erreur :**\n",
    "  - Vérifiez que le fichier est bien présent dans le répertoire.  \n",
    "  - Assurez-vous que les données respectent le format attendu.\n",
    "  - Vérifiez l'intégrité du fichier et assurez-vous et corriger l'anomalie."
   ]
  },
  {
   "cell_type": "code",
   "execution_count": null,
   "id": "e5fe00dc-e276-4175-ab18-a31b4eeffe6e",
   "metadata": {
    "papermill": {
     "duration": null,
     "end_time": null,
     "exception": null,
     "start_time": null,
     "status": "pending"
    },
    "tags": []
   },
   "outputs": [],
   "source": [
    "fp_plan_approv = (\n",
    "    Path(workspace.files_path)\n",
    "    / f\"Fichier Suivi de Stock/data/{programme}/Plan d'Approvisionnement\"\n",
    "    / Path(fp_plan_approv)\n",
    ")"
   ]
  },
  {
   "cell_type": "code",
   "execution_count": null,
   "id": "e3eb96f7-270b-4a55-a8b7-d74a6342b06d",
   "metadata": {
    "papermill": {
     "duration": null,
     "end_time": null,
     "exception": null,
     "start_time": null,
     "status": "pending"
    },
    "tags": []
   },
   "outputs": [],
   "source": [
    "df_plan_approv = compute_indicators.file_utils.process_pa_files(fp_plan_approv, fp_map_prod, programme)\n",
    "\n",
    "df_plan_approv[\"facteur_de_conversion_qat_sage\"] = df_plan_approv[\"facteur_de_conversion_qat_sage\"].apply(\n",
    "    lambda x: x if not pd.isna(x) else 1\n",
    ")\n",
    "\n",
    "df_plan_approv.head(2)"
   ]
  },
  {
   "cell_type": "markdown",
   "id": "16319b53-77c7-423a-999a-37aa2052514e",
   "metadata": {
    "papermill": {
     "duration": null,
     "end_time": null,
     "exception": null,
     "start_time": null,
     "status": "pending"
    },
    "tags": []
   },
   "source": [
    "# IV.📊Calcul des Indicateurs"
   ]
  },
  {
   "cell_type": "markdown",
   "id": "46d1687e-eb8e-4515-9be3-1bc3ffb55184",
   "metadata": {
    "papermill": {
     "duration": null,
     "end_time": null,
     "exception": null,
     "start_time": null,
     "status": "pending"
    },
    "tags": []
   },
   "source": [
    "## 📌1. `Etat de Stock (1/2)`"
   ]
  },
  {
   "cell_type": "code",
   "execution_count": null,
   "id": "177a7f70-8d09-45b6-94fd-0900686bfc84",
   "metadata": {
    "papermill": {
     "duration": null,
     "end_time": null,
     "exception": null,
     "start_time": null,
     "status": "pending"
    },
    "tags": []
   },
   "outputs": [],
   "source": [
    "stock_sync_manager.initialize_database_connection()\n",
    "\n",
    "schema_name = \"suivi_stock\"\n",
    "\n",
    "df_etat_stock = stock_sync_manager.get_table_data(\n",
    "    query=QUERY_ETAT_STOCK.format(\n",
    "        schema_name=schema_name, programme=programme, date_report_prec=date_report_prec\n",
    "    )\n",
    ").drop_duplicates()\n",
    "\n",
    "df_etat_stock.head(2)"
   ]
  },
  {
   "cell_type": "code",
   "execution_count": null,
   "id": "0cc47bc4-3b68-4d26-882e-05b121b18ec5",
   "metadata": {
    "papermill": {
     "duration": null,
     "end_time": null,
     "exception": null,
     "start_time": null,
     "status": "pending"
    },
    "tags": []
   },
   "outputs": [],
   "source": [
    "%%time\n",
    "df_etat_stock = compute_indicators.annexe_1.get_etat_stock_current_month(\n",
    "    df_etat_stock.copy(),\n",
    "    df_stock_detaille.copy(),\n",
    "    df_distribution.copy(),\n",
    "    df_ppi.copy(),\n",
    "    df_prelevement.copy(),\n",
    "    df_receptions.copy(),\n",
    "    date_report\n",
    ")"
   ]
  },
  {
   "cell_type": "markdown",
   "id": "67fc32ed-308b-4166-ba9b-0ed51410cb58",
   "metadata": {
    "papermill": {
     "duration": null,
     "end_time": null,
     "exception": null,
     "start_time": null,
     "status": "pending"
    },
    "tags": []
   },
   "source": [
    "## 📌2.`Distributions et Consommations` - `Annexe 1`"
   ]
  },
  {
   "cell_type": "markdown",
   "id": "060791ec-5daf-443b-86a2-2a9e9046a654",
   "metadata": {
    "papermill": {
     "duration": null,
     "end_time": null,
     "exception": null,
     "start_time": null,
     "status": "pending"
    },
    "tags": []
   },
   "source": [
    "### 2.1.`Distributions`"
   ]
  },
  {
   "cell_type": "code",
   "execution_count": null,
   "id": "3d47d66d-04ec-4f76-9aa3-b36d9fb31117",
   "metadata": {
    "papermill": {
     "duration": null,
     "end_time": null,
     "exception": null,
     "start_time": null,
     "status": "pending"
    },
    "tags": []
   },
   "outputs": [],
   "source": [
    "%%time\n",
    "df_dmm_curent, df_dmm_histo = compute_indicators.annexe_1.get_dmm_current_month(\n",
    "    df_etat_stock.copy(),\n",
    "    programme,\n",
    "    date_report,\n",
    "    stock_sync_manager.civ_engine\n",
    ")"
   ]
  },
  {
   "cell_type": "markdown",
   "id": "1646a2e7-aad7-4fdb-b9a6-9c9556df601e",
   "metadata": {
    "papermill": {
     "duration": null,
     "end_time": null,
     "exception": null,
     "start_time": null,
     "status": "pending"
    },
    "tags": []
   },
   "source": [
    "### 2.2.`Consommations`"
   ]
  },
  {
   "cell_type": "code",
   "execution_count": null,
   "id": "25ad743a-e6e6-4481-8885-ca4057c65434",
   "metadata": {
    "editable": true,
    "papermill": {
     "duration": null,
     "end_time": null,
     "exception": null,
     "start_time": null,
     "status": "pending"
    },
    "slideshow": {
     "slide_type": ""
    },
    "tags": []
   },
   "outputs": [],
   "source": [
    "# Pour avoir la CMM du mois courant une recherche est d'abord faite sur la feuille StockParRegion provenant du RapportFeedback\n",
    "eomonth = (pd.to_datetime(date_report) + pd.offsets.MonthEnd(0)).strftime(\"%Y-%m-%d\")\n",
    "\n",
    "df_stock_prog_nat = stock_sync_manager.get_table_data(\n",
    "    query = QUERY_ETAT_STOCK_PROGRAMME.format(eomonth=eomonth, programme=programme)\n",
    ")\n",
    "\n",
    "df_stock_prog_nat[\"Code_produit\"] = df_stock_prog_nat[\"Code_produit\"].astype(int)\n",
    "\n",
    "df_stock_prog_nat.head(3)"
   ]
  },
  {
   "cell_type": "code",
   "execution_count": null,
   "id": "d5fa0de6-3909-46f5-b737-856e204c92ba",
   "metadata": {
    "papermill": {
     "duration": null,
     "end_time": null,
     "exception": null,
     "start_time": null,
     "status": "pending"
    },
    "tags": []
   },
   "outputs": [],
   "source": [
    "%%time\n",
    "df_cmm_curent, df_cmm_histo = compute_indicators.annexe_1.get_cmm_current_month(\n",
    "    df_etat_stock.copy(),\n",
    "    df_stock_prog_nat.copy(),\n",
    "    programme,\n",
    "    date_report,\n",
    "    stock_sync_manager.civ_engine,\n",
    ")"
   ]
  },
  {
   "cell_type": "markdown",
   "id": "e70f49b8-4d30-4e44-b255-72c0fd9ca0ea",
   "metadata": {
    "papermill": {
     "duration": null,
     "end_time": null,
     "exception": null,
     "start_time": null,
     "status": "pending"
    },
    "tags": []
   },
   "source": [
    "## 📌3. Calcul des indicateurs `Etat de stock (2/2)` `Annexe 2 - Suivi des Stocks`"
   ]
  },
  {
   "cell_type": "code",
   "execution_count": null,
   "id": "2fbe9e4d-1190-4695-8df7-37a4737f6a19",
   "metadata": {
    "papermill": {
     "duration": null,
     "end_time": null,
     "exception": null,
     "start_time": null,
     "status": "pending"
    },
    "tags": []
   },
   "outputs": [],
   "source": [
    "df_etat_stock_periph = stock_sync_manager.get_table_data(\n",
    "    query=QUERY_ETAT_STOCK_PERIPH.format(eomonth=eomonth)\n",
    ")\n",
    "\n",
    "df_etat_stock_periph = df_etat_stock_periph.loc[\n",
    "    df_etat_stock_periph.Code_sous_prog.str.contains(programme)\n",
    "]\n",
    "\n",
    "df_etat_stock_periph[\"Code_produit\"] = df_etat_stock_periph[\"Code_produit\"].astype(int)\n",
    "\n",
    "df_etat_stock_periph.head(2)"
   ]
  },
  {
   "cell_type": "code",
   "execution_count": null,
   "id": "592788d1-ea93-4c42-b744-a068f22d23be",
   "metadata": {
    "papermill": {
     "duration": null,
     "end_time": null,
     "exception": null,
     "start_time": null,
     "status": "pending"
    },
    "tags": []
   },
   "outputs": [],
   "source": [
    "df_plan_approv[\"Quantité harmonisée (SAGE)\"] = df_plan_approv[\"Quantite\"]*df_plan_approv[\"facteur_de_conversion_qat_sage\"]"
   ]
  },
  {
   "cell_type": "code",
   "execution_count": null,
   "id": "08d7bdd6-cf53-4c3c-bca3-c9f6c218a273",
   "metadata": {
    "papermill": {
     "duration": null,
     "end_time": null,
     "exception": null,
     "start_time": null,
     "status": "pending"
    },
    "tags": []
   },
   "outputs": [],
   "source": [
    "%%time\n",
    "df_etat_stock = compute_indicators.annexe_2(\n",
    "    df_etat_stock,\n",
    "    df_dmm_curent.copy(),\n",
    "    df_stock_prog_nat.copy(),\n",
    "    df_etat_stock_periph.copy(),\n",
    "    df_stock_detaille.copy(),\n",
    "    df_receptions.copy(),\n",
    "    df_plan_approv.copy(),\n",
    "    date_report,\n",
    ")"
   ]
  },
  {
   "cell_type": "markdown",
   "id": "76c5e978-145b-4cb3-aa25-fb14eb470ff4",
   "metadata": {
    "papermill": {
     "duration": null,
     "end_time": null,
     "exception": null,
     "start_time": null,
     "status": "pending"
    },
    "tags": []
   },
   "source": [
    "# V.Exportation des données\n",
    "\n",
    "Avant d’exporter les données, il est essentiel de s’assurer qu’aucune information relative à la période en cours n’est déjà présente dans les différentes tables.  \r\n",
    "Si des données existent, une suppression devra être effectuée avant l’export."
   ]
  },
  {
   "cell_type": "markdown",
   "id": "040e8f88-31a1-4bd0-a32b-d2a10d2aa29b",
   "metadata": {
    "papermill": {
     "duration": null,
     "end_time": null,
     "exception": null,
     "start_time": null,
     "status": "pending"
    },
    "tags": []
   },
   "source": [
    "## 1. `Etat de Stock`"
   ]
  },
  {
   "cell_type": "code",
   "execution_count": null,
   "id": "69402d6e-0979-4fe7-aef4-7a578d7c4948",
   "metadata": {
    "papermill": {
     "duration": null,
     "end_time": null,
     "exception": null,
     "start_time": null,
     "status": "pending"
    },
    "tags": []
   },
   "outputs": [],
   "source": [
    "id_list = list(map(int, df_etat_stock.id_dim_produit_stock_track_fk.unique()))\n",
    "placeholders = \", \".join([\"%s\"] * len(id_list))\n",
    "\n",
    "query = f\"\"\"\n",
    "DELETE FROM {schema_name}.stock_track\n",
    "WHERE date_report = '{date_report}' AND id_dim_produit_stock_track_fk IN ({placeholders});\n",
    "\"\"\"\n",
    "\n",
    "stock_sync_manager.civ_cursor.execute(query, list(id_list))\n",
    "stock_sync_manager.conn.commit()"
   ]
  },
  {
   "cell_type": "code",
   "execution_count": null,
   "id": "92ca91ab-0797-414f-8c9c-3c5a185a2d0f",
   "metadata": {
    "papermill": {
     "duration": null,
     "end_time": null,
     "exception": null,
     "start_time": null,
     "status": "pending"
    },
    "tags": []
   },
   "outputs": [],
   "source": [
    "assert df_etat_stock.date_report.unique().shape[0] == 1\n",
    "\n",
    "stock_sync_manager.insert_dataframe_to_table(df_etat_stock, \"stock_track\")"
   ]
  },
  {
   "cell_type": "markdown",
   "id": "08ed5151-ee3a-421c-8a19-5c03d4fd165b",
   "metadata": {
    "papermill": {
     "duration": null,
     "end_time": null,
     "exception": null,
     "start_time": null,
     "status": "pending"
    },
    "tags": []
   },
   "source": [
    "## 2. `Distributions`"
   ]
  },
  {
   "cell_type": "markdown",
   "id": "49e72b21-a586-4738-a5c9-95501a6db06c",
   "metadata": {
    "papermill": {
     "duration": null,
     "end_time": null,
     "exception": null,
     "start_time": null,
     "status": "pending"
    },
    "tags": []
   },
   "source": [
    "### 2.1.`Distributions mois courant` "
   ]
  },
  {
   "cell_type": "code",
   "execution_count": null,
   "id": "6521c5ac-f762-4e55-b890-7d9751143a2e",
   "metadata": {
    "papermill": {
     "duration": null,
     "end_time": null,
     "exception": null,
     "start_time": null,
     "status": "pending"
    },
    "tags": []
   },
   "outputs": [],
   "source": [
    "id_list = list(map(int, df_dmm_curent.id_dim_produit_stock_track_fk.unique()))\n",
    "placeholders = \", \".join([\"%s\"] * len(id_list))\n",
    "\n",
    "query = f\"\"\"\n",
    "DELETE FROM {schema_name}.stock_track_dmm\n",
    "WHERE date_report = %s AND id_dim_produit_stock_track_fk IN ({placeholders});\n",
    "\"\"\"\n",
    "\n",
    "stock_sync_manager.civ_cursor.execute(query, [date_report] + list(id_list))\n",
    "stock_sync_manager.conn.commit()"
   ]
  },
  {
   "cell_type": "code",
   "execution_count": null,
   "id": "0a8a2973-b667-403c-8102-fb9417afdf11",
   "metadata": {
    "papermill": {
     "duration": null,
     "end_time": null,
     "exception": null,
     "start_time": null,
     "status": "pending"
    },
    "tags": []
   },
   "outputs": [],
   "source": [
    "assert df_dmm_curent.date_report.unique().shape[0] == 1\n",
    "\n",
    "stock_sync_manager.insert_dataframe_to_table(df_dmm_curent, \"stock_track_dmm\")"
   ]
  },
  {
   "cell_type": "markdown",
   "id": "1bf275e1-f2ea-4d6d-8205-713e903663d0",
   "metadata": {
    "papermill": {
     "duration": null,
     "end_time": null,
     "exception": null,
     "start_time": null,
     "status": "pending"
    },
    "tags": []
   },
   "source": [
    "### 2.2.`Distributions hitoriques considérées pour le mois en cours`"
   ]
  },
  {
   "cell_type": "code",
   "execution_count": null,
   "id": "4b89b9f1-3f48-4e83-9c2f-43b49edfeb78",
   "metadata": {
    "papermill": {
     "duration": null,
     "end_time": null,
     "exception": null,
     "start_time": null,
     "status": "pending"
    },
    "tags": []
   },
   "outputs": [],
   "source": [
    "id_list = list(map(int, df_dmm_histo.id_dim_produit_stock_track_fk.unique()))\n",
    "placeholders = \", \".join([\"%s\"] * len(id_list))\n",
    "\n",
    "query = f\"\"\"\n",
    "DELETE FROM {schema_name}.stock_track_dmm_histo\n",
    "WHERE date_report = %s AND id_dim_produit_stock_track_fk IN ({placeholders});\n",
    "\"\"\"\n",
    "\n",
    "stock_sync_manager.civ_cursor.execute(query, [date_report] + list(id_list))\n",
    "stock_sync_manager.conn.commit()"
   ]
  },
  {
   "cell_type": "code",
   "execution_count": null,
   "id": "8ea960f0-b89f-4b63-ae20-4ebb25009608",
   "metadata": {
    "papermill": {
     "duration": null,
     "end_time": null,
     "exception": null,
     "start_time": null,
     "status": "pending"
    },
    "tags": []
   },
   "outputs": [],
   "source": [
    "assert df_dmm_histo.date_report.unique().shape[0] == 1\n",
    "\n",
    "stock_sync_manager.insert_dataframe_to_table(df_dmm_histo, \"stock_track_dmm_histo\")"
   ]
  },
  {
   "cell_type": "markdown",
   "id": "e131d312-d116-4302-98e5-c568b1e2e2a7",
   "metadata": {
    "papermill": {
     "duration": null,
     "end_time": null,
     "exception": null,
     "start_time": null,
     "status": "pending"
    },
    "tags": []
   },
   "source": [
    "## 3.`Consommations`"
   ]
  },
  {
   "cell_type": "markdown",
   "id": "705086d0-c23a-4856-bc5b-cd1ca88b99af",
   "metadata": {
    "papermill": {
     "duration": null,
     "end_time": null,
     "exception": null,
     "start_time": null,
     "status": "pending"
    },
    "tags": []
   },
   "source": [
    "### 3.1. `Consommations mois courant`"
   ]
  },
  {
   "cell_type": "code",
   "execution_count": null,
   "id": "2e0f6f54-86c1-4583-bb9a-a15dbd160f12",
   "metadata": {
    "papermill": {
     "duration": null,
     "end_time": null,
     "exception": null,
     "start_time": null,
     "status": "pending"
    },
    "tags": []
   },
   "outputs": [],
   "source": [
    "id_list = list(map(int, df_cmm_curent.id_dim_produit_stock_track_fk.unique()))\n",
    "placeholders = \", \".join([\"%s\"] * len(id_list))\n",
    "\n",
    "query = f\"\"\"\n",
    "DELETE FROM {schema_name}.stock_track_cmm\n",
    "WHERE date_report = %s AND id_dim_produit_stock_track_fk IN ({placeholders});\n",
    "\"\"\"\n",
    "\n",
    "stock_sync_manager.civ_cursor.execute(query, [date_report] + list(id_list))\n",
    "stock_sync_manager.conn.commit()"
   ]
  },
  {
   "cell_type": "code",
   "execution_count": null,
   "id": "42f04db9-4a08-4a21-a68e-5adf91cd5550",
   "metadata": {
    "papermill": {
     "duration": null,
     "end_time": null,
     "exception": null,
     "start_time": null,
     "status": "pending"
    },
    "tags": []
   },
   "outputs": [],
   "source": [
    "assert df_cmm_curent.date_report.unique().shape[0] == 1\n",
    "\n",
    "stock_sync_manager.insert_dataframe_to_table(df_cmm_curent, \"stock_track_cmm\")"
   ]
  },
  {
   "cell_type": "markdown",
   "id": "17810bb8-a058-442e-b3ff-e6e15d22e308",
   "metadata": {
    "papermill": {
     "duration": null,
     "end_time": null,
     "exception": null,
     "start_time": null,
     "status": "pending"
    },
    "tags": []
   },
   "source": [
    "### 3.2.`Consommations hitoriques considérées pour le mois en cours`"
   ]
  },
  {
   "cell_type": "code",
   "execution_count": null,
   "id": "6620b4be-6236-48cb-ac47-ab56e9970189",
   "metadata": {
    "papermill": {
     "duration": null,
     "end_time": null,
     "exception": null,
     "start_time": null,
     "status": "pending"
    },
    "tags": []
   },
   "outputs": [],
   "source": [
    "id_list = list(map(int, df_cmm_histo.id_dim_produit_stock_track_fk.unique()))\n",
    "placeholders = \", \".join([\"%s\"] * len(id_list))\n",
    "\n",
    "query = f\"\"\"\n",
    "DELETE FROM {schema_name}.stock_track_cmm_histo\n",
    "WHERE date_report = %s AND id_dim_produit_stock_track_fk IN ({placeholders});\n",
    "\"\"\"\n",
    "\n",
    "stock_sync_manager.civ_cursor.execute(query, [date_report] + list(id_list))\n",
    "stock_sync_manager.conn.commit()"
   ]
  },
  {
   "cell_type": "code",
   "execution_count": null,
   "id": "c259b171-ca49-4521-9228-885b23fd4b6c",
   "metadata": {
    "papermill": {
     "duration": null,
     "end_time": null,
     "exception": null,
     "start_time": null,
     "status": "pending"
    },
    "tags": []
   },
   "outputs": [],
   "source": [
    "assert df_dmm_histo.date_report.unique().shape[0] == 1\n",
    "\n",
    "stock_sync_manager.insert_dataframe_to_table(df_cmm_histo, \"stock_track_cmm_histo\")"
   ]
  },
  {
   "cell_type": "markdown",
   "id": "0c75f908-6510-42b7-9e4e-9d11f2a3caff",
   "metadata": {
    "papermill": {
     "duration": null,
     "end_time": null,
     "exception": null,
     "start_time": null,
     "status": "pending"
    },
    "tags": []
   },
   "source": [
    "## 4.`Stock détaillé`"
   ]
  },
  {
   "cell_type": "code",
   "execution_count": null,
   "id": "0b0b73f7-3add-486f-9dd3-e3d900aba61d",
   "metadata": {
    "papermill": {
     "duration": null,
     "end_time": null,
     "exception": null,
     "start_time": null,
     "status": "pending"
    },
    "tags": []
   },
   "outputs": [],
   "source": [
    "dim_produit = pd.read_sql(\n",
    "    f\"SELECT * FROM {schema_name}.dim_produit_stock_track where programme='{programme}'\",\n",
    "    stock_sync_manager.civ_engine,\n",
    ")"
   ]
  },
  {
   "cell_type": "code",
   "execution_count": null,
   "id": "c876a5cd-de28-494a-9e81-88fd9de9024f",
   "metadata": {
    "papermill": {
     "duration": null,
     "end_time": null,
     "exception": null,
     "start_time": null,
     "status": "pending"
    },
    "tags": []
   },
   "outputs": [],
   "source": [
    "code_col = [col for col in df_stock_detaille.columns if \"CODE\" in str(col).upper()][0]\n",
    "\n",
    "df_stock_detaille.rename(\n",
    "    columns={\n",
    "        code_col: \"code_produit\",\n",
    "        \"Désignation\": \"designation_produit\",\n",
    "        \"Emplacement\": \"emplacement\",\n",
    "        \"Date limite de consommation\": \"date_limite_consommation\",\n",
    "        \"Numéro Lot\": \"numero_lot\",\n",
    "        \"Sous lot (Programme)\": \"sous_lot_programme\",\n",
    "        \"Qté \\nPhysique\": \"qte_physique\",\n",
    "        \"Qté \\nlivrable\": \"qte_livrable\",\n",
    "        \"Unit\": \"unit\",\n",
    "    },\n",
    "    inplace=True,\n",
    ")\n",
    "df_stock_detaille = df_stock_detaille[\n",
    "    [\n",
    "        \"code_produit\",\n",
    "        \"designation_produit\",\n",
    "        \"emplacement\",\n",
    "        \"date_limite_consommation\",\n",
    "        \"numero_lot\",\n",
    "        \"sous_lot_programme\",\n",
    "        \"qte_physique\",\n",
    "        \"qte_livrable\",\n",
    "        \"unit\",\n",
    "    ]\n",
    "]\n",
    "\n",
    "df_stock_detaille = df_stock_detaille.loc[\n",
    "    df_stock_detaille.code_produit.isin(dim_produit.code_produit)\n",
    "]\n",
    "df_stock_detaille.head(1)"
   ]
  },
  {
   "cell_type": "code",
   "execution_count": null,
   "id": "c374989e-2d57-4ce8-8ea6-bb101672241e",
   "metadata": {
    "papermill": {
     "duration": null,
     "end_time": null,
     "exception": null,
     "start_time": null,
     "status": "pending"
    },
    "tags": []
   },
   "outputs": [],
   "source": [
    "df_stock_detaille = (\n",
    "    df_stock_detaille.groupby([\"code_produit\", \"date_limite_consommation\"])[\n",
    "        [\"qte_physique\", \"qte_livrable\"]\n",
    "    ]\n",
    "    .sum(min_count=1)\n",
    "    .reset_index()\n",
    ")\n",
    "\n",
    "df_stock_detaille = (\n",
    "    dim_produit[[\"id_dim_produit_stock_track_pk\", \"code_produit\"]]\n",
    "    .merge(df_stock_detaille, on=\"code_produit\")\n",
    "    .rename(columns={\"id_dim_produit_stock_track_pk\": \"id_dim_produit_stock_track_fk\"})\n",
    "    .drop(columns=[\"code_produit\"])\n",
    ")\n",
    "\n",
    "df_stock_detaille[\"date_report\"] = pd.to_datetime(date_report)"
   ]
  },
  {
   "cell_type": "code",
   "execution_count": null,
   "id": "8c4a6d98-e14d-4742-a91e-0a40ec701ee5",
   "metadata": {
    "papermill": {
     "duration": null,
     "end_time": null,
     "exception": null,
     "start_time": null,
     "status": "pending"
    },
    "tags": []
   },
   "outputs": [],
   "source": [
    "id_list = list(map(int, df_stock_detaille.id_dim_produit_stock_track_fk.unique()))\n",
    "placeholders = \", \".join([\"%s\"] * len(id_list))\n",
    "\n",
    "query = f\"\"\"\n",
    "DELETE FROM {schema_name}.stock_track_detaille\n",
    "WHERE date_report = '{date_report}' AND id_dim_produit_stock_track_fk IN ({placeholders});\n",
    "\"\"\"\n",
    "\n",
    "stock_sync_manager.civ_cursor.execute(query, list(id_list))\n",
    "stock_sync_manager.conn.commit()"
   ]
  },
  {
   "cell_type": "code",
   "execution_count": null,
   "id": "8f616ee2-8704-4eb2-a182-c65499a3b1dc",
   "metadata": {
    "papermill": {
     "duration": null,
     "end_time": null,
     "exception": null,
     "start_time": null,
     "status": "pending"
    },
    "tags": []
   },
   "outputs": [],
   "source": [
    "stock_sync_manager.insert_dataframe_to_table(df_stock_detaille, \"stock_track_detaille\")\n",
    "\n",
    "del df_stock_detaille"
   ]
  },
  {
   "cell_type": "markdown",
   "id": "fdec6090-24db-40ec-920d-854de310e532",
   "metadata": {
    "papermill": {
     "duration": null,
     "end_time": null,
     "exception": null,
     "start_time": null,
     "status": "pending"
    },
    "tags": []
   },
   "source": [
    "## 5. `Etat de stock de la NPSP`"
   ]
  },
  {
   "cell_type": "code",
   "execution_count": null,
   "id": "89d9ea73-f635-42f3-8364-d8205843044e",
   "metadata": {
    "papermill": {
     "duration": null,
     "end_time": null,
     "exception": null,
     "start_time": null,
     "status": "pending"
    },
    "tags": []
   },
   "outputs": [],
   "source": [
    "query = f\"\"\"\n",
    "DELETE FROM {schema_name}.stock_track_npsp\n",
    "WHERE date_report = '{date_report}' and programme='{programme}';\n",
    "\"\"\"\n",
    "\n",
    "stock_sync_manager.civ_cursor.execute(query)\n",
    "stock_sync_manager.conn.commit()"
   ]
  },
  {
   "cell_type": "code",
   "execution_count": null,
   "id": "fa060ab4-6bd8-44cd-bea2-8bbf1178782a",
   "metadata": {
    "papermill": {
     "duration": null,
     "end_time": null,
     "exception": null,
     "start_time": null,
     "status": "pending"
    },
    "tags": []
   },
   "outputs": [],
   "source": [
    "stock_sync_manager.insert_dataframe_to_table(\n",
    "    df_etat_stock_npsp, table_name=\"stock_track_npsp\", schema_name=\"suivi_stock\"\n",
    ")"
   ]
  },
  {
   "cell_type": "markdown",
   "id": "e36a108a-15d9-4256-ad6e-a62fcd2933eb",
   "metadata": {
    "papermill": {
     "duration": null,
     "end_time": null,
     "exception": null,
     "start_time": null,
     "status": "pending"
    },
    "tags": []
   },
   "source": [
    "## 6.`Prévision`\n",
    "<div class=\"alert alert-block alert-warning\">\n",
    "Avant de procéder au calcul des éléments de prévision, il est essentiel de s’assurer que les informations produits sont à jour.\n",
    "Cette actualisation doit être effectuée à l’aide du fichier de mapping fourni en paramètre du pipeline.\n",
    "Ce fichier joue un rôle clé : il établit la correspondance entre les différentes sources de données, garantissant ainsi la cohérence et la fiabilité des informations utilisées pour les prévisions.\n",
    "\n",
    "</div>"
   ]
  },
  {
   "cell_type": "code",
   "execution_count": null,
   "id": "1233e266-9e64-4468-b0e8-0a8997a922d8",
   "metadata": {
    "papermill": {
     "duration": null,
     "end_time": null,
     "exception": null,
     "start_time": null,
     "status": "pending"
    },
    "tags": []
   },
   "outputs": [],
   "source": [
    "stock_sync_manager.synchronize_product_metadata(df_plan_approv.copy(), programme)"
   ]
  },
  {
   "cell_type": "code",
   "execution_count": null,
   "id": "5951635c-2b33-4f6c-8ea0-713e2b7c8501",
   "metadata": {
    "papermill": {
     "duration": null,
     "end_time": null,
     "exception": null,
     "start_time": null,
     "status": "pending"
    },
    "tags": []
   },
   "outputs": [],
   "source": [
    "df_plan_approv['Date updated'] = df_plan_approv['DATE'].apply(lambda x: x.strftime(\"%b-%Y\"))"
   ]
  },
  {
   "cell_type": "code",
   "execution_count": null,
   "id": "df8760ec-9a46-4a8f-838a-fb757d50b3d1",
   "metadata": {
    "papermill": {
     "duration": null,
     "end_time": null,
     "exception": null,
     "start_time": null,
     "status": "pending"
    },
    "tags": []
   },
   "outputs": [],
   "source": [
    "df_prevision = compute_indicators.prevision.get_prevision_current_month(\n",
    "    df_plan_approv.copy(),\n",
    "    date_report,\n",
    "    programme,\n",
    "    stock_sync_manager.civ_engine,\n",
    "    schema_name=\"suivi_stock\",\n",
    ")"
   ]
  },
  {
   "cell_type": "code",
   "execution_count": null,
   "id": "6b5134dd-8cbc-4f9b-8671-af020adbb5cc",
   "metadata": {
    "papermill": {
     "duration": null,
     "end_time": null,
     "exception": null,
     "start_time": null,
     "status": "pending"
    },
    "tags": []
   },
   "outputs": [],
   "source": [
    "id_list = list(map(int, df_prevision.id_dim_produit_stock_track_fk.unique()))\n",
    "placeholders = \", \".join([\"%s\"] * len(id_list))\n",
    "\n",
    "query = f\"\"\"\n",
    "DELETE FROM {schema_name}.stock_track_prevision\n",
    "WHERE date_report = %s AND id_dim_produit_stock_track_fk IN ({placeholders});\n",
    "\"\"\"\n",
    "stock_sync_manager.civ_cursor.execute(query, [date_report] + list(id_list))\n",
    "stock_sync_manager.conn.commit()"
   ]
  },
  {
   "cell_type": "code",
   "execution_count": null,
   "id": "b2cba3cf-54d4-40a9-81e4-db8ffc8af896",
   "metadata": {
    "papermill": {
     "duration": null,
     "end_time": null,
     "exception": null,
     "start_time": null,
     "status": "pending"
    },
    "tags": []
   },
   "outputs": [],
   "source": [
    "stock_sync_manager.insert_dataframe_to_table(\n",
    "    df_prevision.drop(columns=[\"code_produit\", \"ancien_code\"]), \"stock_track_prevision\"\n",
    ")"
   ]
  },
  {
   "cell_type": "markdown",
   "id": "beed3506-66a5-4678-a064-cd62f6bd461c",
   "metadata": {
    "papermill": {
     "duration": null,
     "end_time": null,
     "exception": null,
     "start_time": null,
     "status": "pending"
    },
    "tags": []
   },
   "source": [
    "## 7.`Plan d'approvisionnement`"
   ]
  },
  {
   "cell_type": "code",
   "execution_count": null,
   "id": "915dd339-4537-4fdd-b9f2-f3f52bc7db68",
   "metadata": {
    "papermill": {
     "duration": null,
     "end_time": null,
     "exception": null,
     "start_time": null,
     "status": "pending"
    },
    "tags": []
   },
   "outputs": [],
   "source": [
    "query = f\"\"\"\n",
    "DELETE FROM {schema_name}.plan_approv\n",
    "WHERE date_report = '{date_report}' and programme='{programme}'\n",
    "\"\"\"\n",
    "stock_sync_manager.civ_cursor.execute(query)\n",
    "stock_sync_manager.conn.commit()"
   ]
  },
  {
   "cell_type": "code",
   "execution_count": null,
   "id": "8f6561dd-eac8-4500-bb97-c7cde0e0fdeb",
   "metadata": {
    "papermill": {
     "duration": null,
     "end_time": null,
     "exception": null,
     "start_time": null,
     "status": "pending"
    },
    "tags": []
   },
   "outputs": [],
   "source": [
    "df_pa = df_plan_approv.rename(\n",
    "    columns={\n",
    "        \"Standard product code\": \"standard_product_code\",\n",
    "        \"ID de produit QAT\": \"id_produit_qat\",\n",
    "        \"Produits\": \"designation\",\n",
    "        \"ID de l`envoi QAT\": \"id_envoi_qat\",\n",
    "        \"Agent d`approvisionnement\": \"centrale_achat\",\n",
    "        \"Source de financement\": \"source_financement\",\n",
    "        \"Status\": \"status\",\n",
    "        \"Quantite\": \"quantite\",\n",
    "        \"facteur_de_conversion_qat_sage\": \"facteur_conversion_qat_vers_sage\",\n",
    "        \"Quantité harmonisée (SAGE)\": \"quantite_harmonisee_sage\",\n",
    "        \"DATE\": \"date\",\n",
    "        \"Cout des Produits\": \"cout_produits\",\n",
    "        \"Couts du fret\": \"cout_fret\",\n",
    "        \"Couts totaux\": \"cout_total\",\n",
    "    },\n",
    ")\n",
    "\n",
    "df_pa = df_pa[\n",
    "    [\"standard_product_code\", \"id_produit_qat\",\n",
    "     \"designation\", \"id_envoi_qat\",\n",
    "     \"centrale_achat\", \"source_financement\",\n",
    "     \"status\", \"quantite\", \"facteur_conversion_qat_vers_sage\",\n",
    "     \"quantite_harmonisee_sage\", \"date\",\n",
    "     \"cout_produits\", \"cout_fret\", \"cout_total\",\n",
    "    ]\n",
    "]\n",
    "df_pa[\"date_report\"] = pd.to_datetime(date_report)\n",
    "df_pa[\"programme\"] = programme\n",
    "df_pa[\"standard_product_code\"] = df_pa[\"standard_product_code\"].fillna(0)\n",
    "\n",
    "df_pa.head(2)"
   ]
  },
  {
   "cell_type": "code",
   "execution_count": null,
   "id": "557e36d1-3a17-48d4-851d-96de9b3f3be5",
   "metadata": {
    "papermill": {
     "duration": null,
     "end_time": null,
     "exception": null,
     "start_time": null,
     "status": "pending"
    },
    "tags": []
   },
   "outputs": [],
   "source": [
    "stock_sync_manager.insert_dataframe_to_table(df_pa, table_name=\"plan_approv\", schema_name=\"suivi_stock\")"
   ]
  },
  {
   "cell_type": "code",
   "execution_count": null,
   "id": "59e7f509-0f62-4188-8648-bef9a221b661",
   "metadata": {
    "papermill": {
     "duration": null,
     "end_time": null,
     "exception": null,
     "start_time": null,
     "status": "pending"
    },
    "tags": []
   },
   "outputs": [],
   "source": [
    "del df_pa"
   ]
  },
  {
   "cell_type": "markdown",
   "id": "0a6af0d7-53cb-45f0-a174-afed7ecd72db",
   "metadata": {
    "papermill": {
     "duration": null,
     "end_time": null,
     "exception": null,
     "start_time": null,
     "status": "pending"
    },
    "tags": []
   },
   "source": [
    "# VI.📄Génération du fichier pour le mois spécifique"
   ]
  },
  {
   "cell_type": "markdown",
   "id": "a1e25950-2b53-4f3b-b1f8-9ec34c76367b",
   "metadata": {
    "papermill": {
     "duration": null,
     "end_time": null,
     "exception": null,
     "start_time": null,
     "status": "pending"
    },
    "tags": []
   },
   "source": [
    "## 1. Initialisation des paramètres utile"
   ]
  },
  {
   "cell_type": "code",
   "execution_count": null,
   "id": "30b49db8-06c5-4d9e-ae95-a24f0ee66888",
   "metadata": {
    "papermill": {
     "duration": null,
     "end_time": null,
     "exception": null,
     "start_time": null,
     "status": "pending"
    },
    "tags": []
   },
   "outputs": [],
   "source": [
    "date_report_format = date_report\n",
    "date_report = pd.to_datetime(date_report, format='%Y-%m-%d').strftime('%d/%m/%Y')\n",
    "f_month = gstf.get_current_variable(date_report)[1].replace(' ', '-')"
   ]
  },
  {
   "cell_type": "markdown",
   "id": "acace0b9-cbb6-4ee8-bc43-1fcd1c724a2d",
   "metadata": {
    "papermill": {
     "duration": null,
     "end_time": null,
     "exception": null,
     "start_time": null,
     "status": "pending"
    },
    "tags": []
   },
   "source": [
    "## 2. Importation des classeurs de bases"
   ]
  },
  {
   "cell_type": "code",
   "execution_count": null,
   "id": "689f25f3-1bf9-4c16-9569-61b0b7140cce",
   "metadata": {
    "papermill": {
     "duration": null,
     "end_time": null,
     "exception": null,
     "start_time": null,
     "status": "pending"
    },
    "tags": []
   },
   "outputs": [],
   "source": [
    "%%time\n",
    "# WorkBook Template de base\n",
    "wb_template = pyxl.load_workbook(\n",
    "    filename=\"/home/jovyan/workspace/Fichier Suivi de Stock/code/pipelines/generate_stock_tracking_file/Template Fichier Suivi de Stock/Fichier Suivi de Stock Template.xlsx\"\n",
    ")\n",
    "\n",
    "# WorkBook Etats de stock mensuels\n",
    "wb_etat_stock = pyxl.load_workbook(filename=fp_etat_mensuel)\n",
    "\n",
    "# WorkBook du Rapport Feedback\n",
    "wb_fbr = pyxl.load_workbook(\n",
    "    filename=f\"/home/jovyan/workspace/Rapport Feedback/code/pipelines/rapport feedback genere/{date_report_format[:4]}/RapportFeedBack-{unidecode(f_month)}.xlsx\"\n",
    ")"
   ]
  },
  {
   "cell_type": "markdown",
   "id": "30d3235c-40f4-4d76-9cbb-463cbf37cb26",
   "metadata": {
    "papermill": {
     "duration": null,
     "end_time": null,
     "exception": null,
     "start_time": null,
     "status": "pending"
    },
    "tags": []
   },
   "source": [
    "## 3. Mise à jour des données en se basant sur la source `Etat de Stock Mensuel`"
   ]
  },
  {
   "cell_type": "code",
   "execution_count": null,
   "id": "ef678267-2bdf-4fad-bdc6-837935e7c2bf",
   "metadata": {
    "papermill": {
     "duration": null,
     "end_time": null,
     "exception": null,
     "start_time": null,
     "status": "pending"
    },
    "tags": []
   },
   "outputs": [],
   "source": [
    "%%time\n",
    "wb_template = gstf.update_sheets_etat_mensuel(\n",
    "    wb_etat_stock, wb_template, programme, date_report\n",
    ")"
   ]
  },
  {
   "cell_type": "markdown",
   "id": "40b4f4f0-6a5d-4685-9b86-b74e15424ed7",
   "metadata": {
    "papermill": {
     "duration": null,
     "end_time": null,
     "exception": null,
     "start_time": null,
     "status": "pending"
    },
    "tags": []
   },
   "source": [
    "## 4. Mise à jour des données en se basant sur la source `Rapport Feedback`\n",
    "\n",
    "Pour le faire on va se baser sur les inputs au préalable du fichier RapportFeebback généré et présent dans les fichiers d'OH pour le mois courant"
   ]
  },
  {
   "cell_type": "code",
   "execution_count": null,
   "id": "aca0a3a7-c102-4200-8604-357171092ab5",
   "metadata": {
    "papermill": {
     "duration": null,
     "end_time": null,
     "exception": null,
     "start_time": null,
     "status": "pending"
    },
    "tags": []
   },
   "outputs": [],
   "source": [
    "df_etat_stock = pd.read_excel(\n",
    "    f\"/home/jovyan/workspace/Rapport Feedback/code/pipelines/rapport feedback genere/{date_report_format[:4]}/RapportFeedBack-{unidecode(f_month)}.xlsx\",\n",
    "    sheet_name=\"ETAT DU STOCK\",\n",
    ")\n",
    "\n",
    "df_etat_stock.head(2)"
   ]
  },
  {
   "cell_type": "code",
   "execution_count": null,
   "id": "fcabb659-b3ab-42f0-b5bc-fcec276f97c3",
   "metadata": {
    "papermill": {
     "duration": null,
     "end_time": null,
     "exception": null,
     "start_time": null,
     "status": "pending"
    },
    "tags": []
   },
   "outputs": [],
   "source": [
    "%%time\n",
    "\n",
    "wb_template = gstf.update_sheet_etat_stock(wb_template, df_etat_stock.loc[df_etat_stock.PROGRAMME==programme].copy())\n",
    "\n",
    "wb_template = gstf.update_sheet_stock_region(wb_template, wb_fbr, programme)"
   ]
  },
  {
   "cell_type": "markdown",
   "id": "aa2d9f5c-ff21-4dc3-8509-207e0f632a6e",
   "metadata": {
    "papermill": {
     "duration": null,
     "end_time": null,
     "exception": null,
     "start_time": null,
     "status": "pending"
    },
    "tags": []
   },
   "source": [
    "## 4. Mise à jour des informations feuille `Annexe 1 - Consolidation`"
   ]
  },
  {
   "cell_type": "code",
   "execution_count": null,
   "id": "1448ebc3-75d4-4063-8d8d-daba9b9c2c65",
   "metadata": {
    "papermill": {
     "duration": null,
     "end_time": null,
     "exception": null,
     "start_time": null,
     "status": "pending"
    },
    "tags": []
   },
   "outputs": [],
   "source": [
    "wb_template = gstf.update_sheet_annexe_1(\n",
    "    wb_template, programme, schema_name, stock_sync_manager.civ_engine, date_report\n",
    ")"
   ]
  },
  {
   "cell_type": "markdown",
   "id": "17d87336-319e-4c52-bc10-ca92f55a36bd",
   "metadata": {
    "papermill": {
     "duration": null,
     "end_time": null,
     "exception": null,
     "start_time": null,
     "status": "pending"
    },
    "tags": []
   },
   "source": [
    "## 5. Mise à jour des données du `Plan d'approvisionnement`"
   ]
  },
  {
   "cell_type": "code",
   "execution_count": null,
   "id": "896a4775-5a20-497e-9642-99b199e90a53",
   "metadata": {
    "papermill": {
     "duration": null,
     "end_time": null,
     "exception": null,
     "start_time": null,
     "status": "pending"
    },
    "scrolled": true,
    "tags": []
   },
   "outputs": [],
   "source": [
    "df_pa = df_plan_approv.rename(\n",
    "    columns={\n",
    "        \"Agent d`approvisionnement\": \"Centrale d'achat\",\n",
    "        \"Source de financement\": \"Source Financement\",\n",
    "        \"facteur_de_conversion_qat_sage\": \"Facteur de conversion de QAT vers SAGE\",\n",
    "        \"cout_unitaire_moyen_qat\": \"Coût unitaire moyen (en dollar)\",\n",
    "        \"acronym\": \"Acronym\",\n",
    "    }\n",
    ")\n",
    "\n",
    "df_pa[\"DATE\"] = pd.to_datetime(df_pa[\"DATE\"], format='%d-%b-%Y', errors='coerce')"
   ]
  },
  {
   "cell_type": "code",
   "execution_count": null,
   "id": "7b64bf01-482b-473e-82df-9d96345e04cf",
   "metadata": {
    "papermill": {
     "duration": null,
     "end_time": null,
     "exception": null,
     "start_time": null,
     "status": "pending"
    },
    "tags": []
   },
   "outputs": [],
   "source": [
    "%%time\n",
    "wb_template = gstf.update_sheet_plan_approv(wb_template, df_pa)"
   ]
  },
  {
   "cell_type": "markdown",
   "id": "0e5eec95-ae01-435c-994f-597b583151ca",
   "metadata": {
    "papermill": {
     "duration": null,
     "end_time": null,
     "exception": null,
     "start_time": null,
     "status": "pending"
    },
    "tags": []
   },
   "source": [
    "## 5. Mise à jour des informations  en se basant sur la source `Annexe 2 - Suivi de Stock`"
   ]
  },
  {
   "cell_type": "code",
   "execution_count": null,
   "id": "a8cbbd89-50c1-4467-b616-46071483927c",
   "metadata": {
    "papermill": {
     "duration": null,
     "end_time": null,
     "exception": null,
     "start_time": null,
     "status": "pending"
    },
    "tags": []
   },
   "outputs": [],
   "source": [
    "%%time\n",
    "wb_template = gstf.update_sheet_annexe_2(wb_template, df_pa, date_report)"
   ]
  },
  {
   "cell_type": "markdown",
   "id": "23e8d193-e8ee-4e13-96a4-dca4dcd5cae5",
   "metadata": {
    "papermill": {
     "duration": null,
     "end_time": null,
     "exception": null,
     "start_time": null,
     "status": "pending"
    },
    "tags": []
   },
   "source": [
    "## 6. Mise à jour des données en se basant sur la source `Prévision`"
   ]
  },
  {
   "cell_type": "code",
   "execution_count": null,
   "id": "907dc386-5f20-42a9-8bc4-a6033963db23",
   "metadata": {
    "papermill": {
     "duration": null,
     "end_time": null,
     "exception": null,
     "start_time": null,
     "status": "pending"
    },
    "tags": []
   },
   "outputs": [],
   "source": [
    "df_prod = dim_produit[\n",
    "    [\"code_produit\", \"type_produit\", \"designation\", \"designation_acronym\"]\n",
    "]\n",
    "\n",
    "df_prod[\"designation\"] = df_prod.apply(\n",
    "    lambda row: row[\"designation_acronym\"]\n",
    "    if not pd.isna(row[\"designation_acronym\"])\n",
    "    else row[\"designation\"],\n",
    "    axis=1,\n",
    ")\n",
    "df_prod = df_prod.drop(columns=\"designation_acronym\")"
   ]
  },
  {
   "cell_type": "code",
   "execution_count": null,
   "id": "5390c300-62ab-40f6-af69-aed9c15b385c",
   "metadata": {
    "papermill": {
     "duration": null,
     "end_time": null,
     "exception": null,
     "start_time": null,
     "status": "pending"
    },
    "tags": []
   },
   "outputs": [],
   "source": [
    "wb_template = gstf.update_sheet_prevision(wb_template, date_report, df_prod)"
   ]
  },
  {
   "cell_type": "markdown",
   "id": "1630b9b1-f136-4538-84c8-bb3b1c40e1c4",
   "metadata": {
    "papermill": {
     "duration": null,
     "end_time": null,
     "exception": null,
     "start_time": null,
     "status": "pending"
    },
    "tags": []
   },
   "source": [
    "## 7. Mise à jour de certains éléments de la feuille `Rapport`"
   ]
  },
  {
   "cell_type": "code",
   "execution_count": null,
   "id": "cbd158de-45e8-4f68-825e-825ac2154834",
   "metadata": {
    "papermill": {
     "duration": null,
     "end_time": null,
     "exception": null,
     "start_time": null,
     "status": "pending"
    },
    "tags": []
   },
   "outputs": [],
   "source": [
    "ws_rapport = wb_template['Rapport']\n",
    "ws_rapport['D4'].value = programme\n",
    "ws_rapport['D6'].value = f_month.split('-')[0].capitalize()\n",
    "ws_rapport['E6'].value = date_report_format[:4]"
   ]
  },
  {
   "cell_type": "markdown",
   "id": "d054f9c2-8975-4b31-baac-fc9b3629773d",
   "metadata": {
    "papermill": {
     "duration": null,
     "end_time": null,
     "exception": null,
     "start_time": null,
     "status": "pending"
    },
    "tags": []
   },
   "source": [
    "# VII. Exportation du Fichier Suivi de Stock vers le `drive` et la `BD`"
   ]
  },
  {
   "cell_type": "code",
   "execution_count": null,
   "id": "f44d8752-d621-4c44-801e-c364c59ea156",
   "metadata": {
    "papermill": {
     "duration": null,
     "end_time": null,
     "exception": null,
     "start_time": null,
     "status": "pending"
    },
    "tags": []
   },
   "outputs": [],
   "source": [
    "%%time\n",
    "# Sauvegarde du fichier dans un repertoire courant\n",
    "dest_file = (\n",
    "    Path(workspace.files_path)\n",
    "    / f\"Fichier Suivi de Stock/code/pipelines/fichier suivi de stock genere/{programme}/{date_report_format[:4]}\"\n",
    ")\n",
    "\n",
    "dest_file.mkdir(exist_ok=True, parents=True)\n",
    "\n",
    "dest_file = dest_file / f\"Fichier Suivi de Stock {programme}-{f_month}.xlsx\"\n",
    "\n",
    "wb_template.save(dest_file)"
   ]
  },
  {
   "cell_type": "code",
   "execution_count": null,
   "id": "2e46bee1-54f4-48c9-986d-71ea1697f1dd",
   "metadata": {
    "papermill": {
     "duration": null,
     "end_time": null,
     "exception": null,
     "start_time": null,
     "status": "pending"
    },
    "tags": []
   },
   "outputs": [],
   "source": [
    "download_url = ggdrive.upload_and_return_link(\n",
    "    dest_file.as_posix(),\n",
    "    date_report_format,\n",
    ")"
   ]
  },
  {
   "cell_type": "code",
   "execution_count": null,
   "id": "f1c90fd1-74f7-4b1f-b906-093975ea323e",
   "metadata": {
    "papermill": {
     "duration": null,
     "end_time": null,
     "exception": null,
     "start_time": null,
     "status": "pending"
    },
    "tags": []
   },
   "outputs": [],
   "source": [
    "df_download_url = pd.DataFrame(\n",
    "    data=[\n",
    "        {\n",
    "            \"programme\": programme,\n",
    "            \"download_url\": download_url,\n",
    "            \"date_report\": date_report_format,\n",
    "        }\n",
    "    ]\n",
    ")\n",
    "\n",
    "df_download_url.date_report = df_download_url.date_report.apply(\n",
    "    lambda x: pd.to_datetime(str(x)[:10], format=\"%Y-%m-%d\")\n",
    ")"
   ]
  },
  {
   "cell_type": "code",
   "execution_count": null,
   "id": "01de3ddf-fc73-43bc-871f-c78aa90f5d37",
   "metadata": {
    "papermill": {
     "duration": null,
     "end_time": null,
     "exception": null,
     "start_time": null,
     "status": "pending"
    },
    "scrolled": true,
    "tags": []
   },
   "outputs": [],
   "source": [
    "stock_sync_manager.synchronize_table_data(\n",
    "    df_download_url,\n",
    "    table_name=\"share_link\",\n",
    "    merge_keys=[\"programme\", \"date_report\"],\n",
    "    programme=programme,\n",
    ")"
   ]
  }
 ],
 "metadata": {
  "kernelspec": {
   "display_name": "Python 3 (ipykernel)",
   "language": "python",
   "name": "python3"
  },
  "language_info": {
   "codemirror_mode": {
    "name": "ipython",
    "version": 3
   },
   "file_extension": ".py",
   "mimetype": "text/x-python",
   "name": "python",
   "nbconvert_exporter": "python",
   "pygments_lexer": "ipython3",
   "version": "3.12.8"
  },
  "papermill": {
   "default_parameters": {},
   "duration": 34.250636,
   "end_time": "2025-05-12T17:06:19.029728",
   "environment_variables": {},
   "exception": true,
   "input_path": "/home/hexa/workspace/Fichier Suivi de Stock/code/pipelines/mise a jour fichier suivi stock.ipynb",
   "output_path": "/home/hexa/workspace/Fichier Suivi de Stock/code/pipelines/output_notebook_execution/maj fichier suivi stock/PNLP/output_2025-05-12.ipynb",
   "parameters": {
    "fp_etat_mensuel": "Etat du stock et de distribution PNLP fin Mars 2025.xlsx",
    "fp_map_prod": "Mapping QAT_SAGEX3.xlsx",
    "fp_plan_approv": "Détails de l`envoiMar. 2025 ~ Dec. 2026.csv",
    "month_report": "Mars",
    "programme": "PNLP",
    "year_report": 2025
   },
   "start_time": "2025-05-12T17:05:44.779092",
   "version": "2.6.0"
  }
 },
 "nbformat": 4,
 "nbformat_minor": 5
}