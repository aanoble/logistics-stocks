{
 "cells": [
  {
   "cell_type": "markdown",
   "id": "6a2244e4-3226-4d02-9910-ca30f2ed18b5",
   "metadata": {
    "papermill": {
     "duration": 0.202547,
     "end_time": "2025-05-12T17:44:03.269264",
     "exception": false,
     "start_time": "2025-05-12T17:44:03.066717",
     "status": "completed"
    },
    "tags": []
   },
   "source": [
    "# I. Importation des bibliothèques"
   ]
  },
  {
   "cell_type": "code",
   "execution_count": 1,
   "id": "2ed56fcd-16c9-4916-98c6-aeb22c88b1c4",
   "metadata": {
    "execution": {
     "iopub.execute_input": "2025-05-12T17:44:03.655541Z",
     "iopub.status.busy": "2025-05-12T17:44:03.655152Z",
     "iopub.status.idle": "2025-05-12T17:44:07.582707Z",
     "shell.execute_reply": "2025-05-12T17:44:07.581137Z"
    },
    "papermill": {
     "duration": 4.127022,
     "end_time": "2025-05-12T17:44:07.584661",
     "exception": false,
     "start_time": "2025-05-12T17:44:03.457639",
     "status": "completed"
    },
    "tags": []
   },
   "outputs": [],
   "source": [
    "%%capture\n",
    "!pip install google-api-python-client google-auth-httplib2 google-auth-oauthlib unidecode"
   ]
  },
  {
   "cell_type": "code",
   "execution_count": 2,
   "id": "c8ef43d4-7fec-400f-86ce-30991fb1b709",
   "metadata": {
    "editable": true,
    "execution": {
     "iopub.execute_input": "2025-05-12T17:44:07.994684Z",
     "iopub.status.busy": "2025-05-12T17:44:07.994220Z",
     "iopub.status.idle": "2025-05-12T17:44:11.920779Z",
     "shell.execute_reply": "2025-05-12T17:44:11.919449Z"
    },
    "papermill": {
     "duration": 4.115506,
     "end_time": "2025-05-12T17:44:11.923068",
     "exception": false,
     "start_time": "2025-05-12T17:44:07.807562",
     "status": "completed"
    },
    "slideshow": {
     "slide_type": ""
    },
    "tags": []
   },
   "outputs": [],
   "source": [
    "%%capture\n",
    "import warnings\n",
    "\n",
    "warnings.filterwarnings(\"ignore\")\n",
    "\n",
    "import os\n",
    "from pathlib import Path\n",
    "\n",
    "import pandas as pd\n",
    "from openhexa.sdk import workspace\n",
    "from unidecode import unidecode\n",
    "\n",
    "pd.set_option(\"display.max_columns\", None)\n",
    "\n",
    "try:\n",
    "    import openpyxl as pyxl\n",
    "    from efc.interfaces.iopenpyxl import OpenpyxlInterface\n",
    "    from fuzzywuzzy import fuzz, process\n",
    "except ImportError or ModuleNotFoundError:\n",
    "    !pip install --quiet fuzzywuzzy python-Levenshtein excel-formulas-calculator\n",
    "    import openpyxl as pyxl\n",
    "    from efc.interfaces.iopenpyxl import OpenpyxlInterface"
   ]
  },
  {
   "cell_type": "markdown",
   "id": "8dab03ab-9414-4670-befc-42b395b44059",
   "metadata": {
    "papermill": {
     "duration": 0.334872,
     "end_time": "2025-05-12T17:44:12.515441",
     "exception": false,
     "start_time": "2025-05-12T17:44:12.180569",
     "status": "completed"
    },
    "tags": []
   },
   "source": [
    "## 1. Rafraîchissement des bibliothèques"
   ]
  },
  {
   "cell_type": "code",
   "execution_count": 3,
   "id": "3a21bbdd-e895-4122-91bc-553d8ae02123",
   "metadata": {
    "editable": true,
    "execution": {
     "iopub.execute_input": "2025-05-12T17:44:13.581272Z",
     "iopub.status.busy": "2025-05-12T17:44:13.579501Z",
     "iopub.status.idle": "2025-05-12T17:44:18.151439Z",
     "shell.execute_reply": "2025-05-12T17:44:18.150386Z"
    },
    "papermill": {
     "duration": 5.461109,
     "end_time": "2025-05-12T17:44:18.153211",
     "exception": false,
     "start_time": "2025-05-12T17:44:12.692102",
     "status": "completed"
    },
    "slideshow": {
     "slide_type": ""
    },
    "tags": []
   },
   "outputs": [],
   "source": [
    "%%capture\n",
    "# Ajout du chemin d'accès pour l'importation des bibliothèques\n",
    "os.chdir(Path(workspace.files_path, \"Fichier Suivi de Stock/code/pipelines\"))\n",
    "\n",
    "from importlib import reload\n",
    "\n",
    "import compute_indicators\n",
    "import export_file_to_google_drive as ggdrive\n",
    "import generate_stock_tracking_file as gstf\n",
    "\n",
    "# Importation des réquêtes sql\n",
    "from compute_indicators.queries import *\n",
    "from database_operations import stock_sync_manager\n",
    "\n",
    "# Reload modules\n",
    "reload(compute_indicators)\n",
    "reload(stock_sync_manager)\n",
    "reload(gstf)\n",
    "reload(ggdrive)"
   ]
  },
  {
   "cell_type": "markdown",
   "id": "e26b3de7-b38f-4e98-a2a4-a88374dd84b4",
   "metadata": {
    "papermill": {
     "duration": 0.194041,
     "end_time": "2025-05-12T17:44:18.515938",
     "exception": false,
     "start_time": "2025-05-12T17:44:18.321897",
     "status": "completed"
    },
    "tags": []
   },
   "source": [
    "# II. Définition des paramètres"
   ]
  },
  {
   "cell_type": "markdown",
   "id": "f4ff0a57-7b4d-48cb-bd95-b05c42e9b876",
   "metadata": {
    "papermill": {
     "duration": 0.2036,
     "end_time": "2025-05-12T17:44:18.900584",
     "exception": false,
     "start_time": "2025-05-12T17:44:18.696984",
     "status": "completed"
    },
    "tags": []
   },
   "source": [
    "## 1. Variables requises pour la conception du fichier de suivi de stock\n",
    "\n",
    "1. **Mois de création du rapport** : Si le processus est bien défini, cette valeur peut être automatisée. Sinon, elle sera fournie en tant qu'entrée du pipeline.\n",
    "\n",
    "2. **Programme** : Le programme concerné pour lequel le fichier de suivi de stock est généré.\n",
    "\n",
    "3. **Fichier État Mensuel** : Fichier transmis mensuellement par la N-PSP (source : SAGE X3).\n",
    "\n",
    "4. **Fichier Plan d'Approvisionnement** : Utilisé pour certains calculs, notamment dans la feuille « Prévision ». Ce fichier est généralement récupéré depuis la source QAT.\n",
    "\n",
    "5. **Fichier de mappage des produits** : Fichier assurant la correspondance entre les produits de SAGE X3 et ceux de QAT."
   ]
  },
  {
   "cell_type": "code",
   "execution_count": 4,
   "id": "5d4117a6-ce2c-4aff-b0ac-3e5dc57a2319",
   "metadata": {
    "editable": true,
    "execution": {
     "iopub.execute_input": "2025-05-12T17:44:19.764128Z",
     "iopub.status.busy": "2025-05-12T17:44:19.762999Z",
     "iopub.status.idle": "2025-05-12T17:44:19.768646Z",
     "shell.execute_reply": "2025-05-12T17:44:19.767609Z"
    },
    "papermill": {
     "duration": 0.687115,
     "end_time": "2025-05-12T17:44:19.770545",
     "exception": false,
     "start_time": "2025-05-12T17:44:19.083430",
     "status": "completed"
    },
    "slideshow": {
     "slide_type": ""
    },
    "tags": [
     "parameters"
    ]
   },
   "outputs": [],
   "source": [
    "month_report, year_report, programme, fp_etat_mensuel, fp_plan_approv, fp_map_prod = (\n",
    "    \"Mars\",\n",
    "    2025,\n",
    "    \"PNLP\",\n",
    "    \"Etat du stock et de distribution PNLP fin Mars 2025.xlsx\",\n",
    "    \"Détails de l`envoiMar. 2025 ~ Dec. 2026.csv\",\n",
    "    \"Mapping QAT_SAGEX3.xlsx\",\n",
    ")"
   ]
  },
  {
   "cell_type": "code",
   "execution_count": 5,
   "id": "1a798677",
   "metadata": {
    "execution": {
     "iopub.execute_input": "2025-05-12T17:44:20.584470Z",
     "iopub.status.busy": "2025-05-12T17:44:20.583907Z",
     "iopub.status.idle": "2025-05-12T17:44:20.589861Z",
     "shell.execute_reply": "2025-05-12T17:44:20.588292Z"
    },
    "papermill": {
     "duration": 0.62747,
     "end_time": "2025-05-12T17:44:20.591660",
     "exception": false,
     "start_time": "2025-05-12T17:44:19.964190",
     "status": "completed"
    },
    "tags": [
     "injected-parameters"
    ]
   },
   "outputs": [],
   "source": [
    "# Parameters\n",
    "month_report = \"Mars\"\n",
    "year_report = 2025\n",
    "programme = \"PNLP\"\n",
    "fp_etat_mensuel = \"Etat du stock et de distribution PNLP fin Mars 2025.xlsx\"\n",
    "fp_plan_approv = \"De\\u0301tails de l`envoiMar. 2025 ~ Dec. 2026.csv\"\n",
    "fp_map_prod = \"Mapping QAT_SAGEX3.xlsx\"\n"
   ]
  },
  {
   "cell_type": "code",
   "execution_count": 6,
   "id": "7ffc244d-b753-49f8-8240-825a1e982c0b",
   "metadata": {
    "editable": true,
    "execution": {
     "iopub.execute_input": "2025-05-12T17:44:32.117044Z",
     "iopub.status.busy": "2025-05-12T17:44:32.116494Z",
     "iopub.status.idle": "2025-05-12T17:44:32.127526Z",
     "shell.execute_reply": "2025-05-12T17:44:32.126507Z"
    },
    "papermill": {
     "duration": 11.364674,
     "end_time": "2025-05-12T17:44:32.129342",
     "exception": false,
     "start_time": "2025-05-12T17:44:20.764668",
     "status": "completed"
    },
    "slideshow": {
     "slide_type": ""
    },
    "tags": []
   },
   "outputs": [],
   "source": [
    "month_export, date_report = month_report, compute_indicators.utils.format_date(month_report, year_report)\n",
    "\n",
    "date_report_prec = (pd.to_datetime(date_report).replace(day=1) - pd.offsets.MonthBegin()).strftime('%Y-%m-%d')"
   ]
  },
  {
   "cell_type": "markdown",
   "id": "6891eb05-f888-4c75-bdd0-749559cc7ca1",
   "metadata": {
    "papermill": {
     "duration": 0.210296,
     "end_time": "2025-05-12T17:44:32.575237",
     "exception": false,
     "start_time": "2025-05-12T17:44:32.364941",
     "status": "completed"
    },
    "tags": []
   },
   "source": [
    "## 2. Test pour s'assurer que cette date n'existe pas déjà dans la base de données"
   ]
  },
  {
   "cell_type": "code",
   "execution_count": 7,
   "id": "8b840e61-7ee1-478a-a6c3-c5b614e25f8b",
   "metadata": {
    "execution": {
     "iopub.execute_input": "2025-05-12T17:44:33.021346Z",
     "iopub.status.busy": "2025-05-12T17:44:33.020340Z",
     "iopub.status.idle": "2025-05-12T17:44:33.151640Z",
     "shell.execute_reply": "2025-05-12T17:44:33.150545Z"
    },
    "papermill": {
     "duration": 0.352523,
     "end_time": "2025-05-12T17:44:33.153891",
     "exception": false,
     "start_time": "2025-05-12T17:44:32.801368",
     "status": "completed"
    },
    "tags": []
   },
   "outputs": [
    {
     "name": "stdout",
     "output_type": "stream",
     "text": [
      "Connexion à la base de données établie avec succès\n"
     ]
    }
   ],
   "source": [
    "stock_sync_manager.initialize_database_connection()\n",
    "\n",
    "schema_name = \"suivi_stock\""
   ]
  },
  {
   "cell_type": "code",
   "execution_count": 8,
   "id": "4f4adfa5-719d-419c-8352-ad2e4dcdab8c",
   "metadata": {
    "execution": {
     "iopub.execute_input": "2025-05-12T17:44:34.278126Z",
     "iopub.status.busy": "2025-05-12T17:44:34.277132Z",
     "iopub.status.idle": "2025-05-12T17:44:34.381086Z",
     "shell.execute_reply": "2025-05-12T17:44:34.380120Z"
    },
    "papermill": {
     "duration": 1.007031,
     "end_time": "2025-05-12T17:44:34.382890",
     "exception": false,
     "start_time": "2025-05-12T17:44:33.375859",
     "status": "completed"
    },
    "tags": []
   },
   "outputs": [],
   "source": [
    "# Ici il faudrait également s'assurer que le mois précédent est bien présent à l'intérieur de la base de données au cas où on arriverait à se tromper sur le mois de conception du fichier\n",
    "df_ = stock_sync_manager.get_table_data(\n",
    "    query=f\"\"\"\n",
    "    select * \n",
    "    from {schema_name}.stock_track st \n",
    "    inner join {schema_name}.dim_produit_stock_track prod ON st.id_dim_produit_stock_track_fk = prod.id_dim_produit_stock_track_pk\n",
    "    where prod.programme='{programme}' and date_report='{date_report_prec}'\n",
    "    limit 2\n",
    "    \"\"\"\n",
    ")\n",
    "\n",
    "assert (\n",
    "    df_.shape[0] != 0\n",
    "), f\"Le mois précédent {date_report_prec} n'est pas présent dans la base de données locale êtes-vous sûre d'avoir choisir le bon mois de conception du fichier.\"\n",
    "\n",
    "del df_"
   ]
  },
  {
   "cell_type": "markdown",
   "id": "f89423e0-797c-4c0a-8ad6-1addbd0a7e3e",
   "metadata": {
    "papermill": {
     "duration": 4.633014,
     "end_time": "2025-05-12T17:44:39.197016",
     "exception": false,
     "start_time": "2025-05-12T17:44:34.564002",
     "status": "completed"
    },
    "tags": []
   },
   "source": [
    "# III.📥Importation des Données\n",
    "  \n",
    "L'utilisateur doit veiller à ce que les fichiers respectent le format attendu et soient placés dans les répertoires dédiés avant de procéder au traitement."
   ]
  },
  {
   "cell_type": "markdown",
   "id": "73015d7f-f3c2-4b44-96b6-1046109dbf21",
   "metadata": {
    "papermill": {
     "duration": 0.186718,
     "end_time": "2025-05-12T17:44:39.577308",
     "exception": false,
     "start_time": "2025-05-12T17:44:39.390590",
     "status": "completed"
    },
    "tags": []
   },
   "source": [
    "## 📌1. Importation du fichier `Etat de Stock Mensuel`\n",
    "\n",
    "- **Format requis :** Assurez-vous que le fichier respecte le template standard défini.\n",
    "- **Emplacement du fichier :** Le fichier doit être placé dans le répertoire dédié :  \n",
    "  **`Fichier Suivi de Stock/data/<programme>/Etat de Stock Mensuel`**\n",
    "  \n",
    "- **En cas d'erreur :**  \n",
    "  - Vérifiez que le fichier est bien présent dans le répertoire.  \n",
    "  - Assurez-vous que toutes les colonnes requises sont bien renseignées.  \n",
    "  - Contrôlez que le fichier est bien accessible et non corrompu."
   ]
  },
  {
   "cell_type": "code",
   "execution_count": 9,
   "id": "d02f7b2e-14f1-4174-95b4-c6cdaea297be",
   "metadata": {
    "execution": {
     "iopub.execute_input": "2025-05-12T17:44:41.138191Z",
     "iopub.status.busy": "2025-05-12T17:44:41.137262Z",
     "iopub.status.idle": "2025-05-12T17:44:41.677401Z",
     "shell.execute_reply": "2025-05-12T17:44:41.676138Z"
    },
    "papermill": {
     "duration": 1.906778,
     "end_time": "2025-05-12T17:44:41.679603",
     "exception": false,
     "start_time": "2025-05-12T17:44:39.772825",
     "status": "completed"
    },
    "tags": []
   },
   "outputs": [],
   "source": [
    "fp_etat_mensuel = (\n",
    "    Path(workspace.files_path)\n",
    "    / f\"Fichier Suivi de Stock/data/{programme}/Etat de Stock Mensuel\"\n",
    "    / Path(fp_etat_mensuel).name\n",
    ")\n",
    "\n",
    "sheetnames = pd.ExcelFile(fp_etat_mensuel).sheet_names"
   ]
  },
  {
   "cell_type": "markdown",
   "id": "36d21a7b-10c2-4c81-bc38-2a1dcf0916a0",
   "metadata": {
    "papermill": {
     "duration": 0.913523,
     "end_time": "2025-05-12T17:44:43.520083",
     "exception": false,
     "start_time": "2025-05-12T17:44:42.606560",
     "status": "completed"
    },
    "tags": []
   },
   "source": [
    "## 📌2. Importation de la feuille `Etat de stock de la NPSP`"
   ]
  },
  {
   "cell_type": "code",
   "execution_count": 10,
   "id": "f81ccd62-7a85-4830-a782-0721f40ed33a",
   "metadata": {
    "execution": {
     "iopub.execute_input": "2025-05-12T17:44:46.380810Z",
     "iopub.status.busy": "2025-05-12T17:44:46.379984Z",
     "iopub.status.idle": "2025-05-12T17:44:46.548952Z",
     "shell.execute_reply": "2025-05-12T17:44:46.547854Z"
    },
    "papermill": {
     "duration": 1.21889,
     "end_time": "2025-05-12T17:44:46.551303",
     "exception": false,
     "start_time": "2025-05-12T17:44:45.332413",
     "status": "completed"
    },
    "tags": []
   },
   "outputs": [
    {
     "data": {
      "text/html": [
       "<div>\n",
       "<style scoped>\n",
       "    .dataframe tbody tr th:only-of-type {\n",
       "        vertical-align: middle;\n",
       "    }\n",
       "\n",
       "    .dataframe tbody tr th {\n",
       "        vertical-align: top;\n",
       "    }\n",
       "\n",
       "    .dataframe thead th {\n",
       "        text-align: right;\n",
       "    }\n",
       "</style>\n",
       "<table border=\"1\" class=\"dataframe\">\n",
       "  <thead>\n",
       "    <tr style=\"text-align: right;\">\n",
       "      <th></th>\n",
       "      <th>date_report</th>\n",
       "      <th>code_produit</th>\n",
       "      <th>designation</th>\n",
       "      <th>contenance</th>\n",
       "      <th>dmm</th>\n",
       "      <th>traceurs</th>\n",
       "      <th>stock_theorique_bke</th>\n",
       "      <th>stock_theorique_abj</th>\n",
       "      <th>stock_theorique_central</th>\n",
       "      <th>stock_theorique_fin_mois</th>\n",
       "      <th>msd</th>\n",
       "      <th>statut_stock</th>\n",
       "      <th>programme</th>\n",
       "    </tr>\n",
       "  </thead>\n",
       "  <tbody>\n",
       "    <tr>\n",
       "      <th>1</th>\n",
       "      <td>2025-03-01</td>\n",
       "      <td>3010049.0</td>\n",
       "      <td>PARACETAMOL 100 mg comp. BTE/100</td>\n",
       "      <td>BOITE/100</td>\n",
       "      <td>5357.166667</td>\n",
       "      <td>1.0</td>\n",
       "      <td>21379.0</td>\n",
       "      <td>71018.0</td>\n",
       "      <td>0.0</td>\n",
       "      <td>92397.0</td>\n",
       "      <td>17.247363</td>\n",
       "      <td>Surstock</td>\n",
       "      <td>PNLP</td>\n",
       "    </tr>\n",
       "    <tr>\n",
       "      <th>2</th>\n",
       "      <td>2025-03-01</td>\n",
       "      <td>3010062.0</td>\n",
       "      <td>PARACETAMOL 250 mg comp BTE/100</td>\n",
       "      <td>BOITE/100</td>\n",
       "      <td>6458.166667</td>\n",
       "      <td>1.0</td>\n",
       "      <td>13877.0</td>\n",
       "      <td>25574.0</td>\n",
       "      <td>0.0</td>\n",
       "      <td>39451.0</td>\n",
       "      <td>6.1087</td>\n",
       "      <td>Bon</td>\n",
       "      <td>PNLP</td>\n",
       "    </tr>\n",
       "  </tbody>\n",
       "</table>\n",
       "</div>"
      ],
      "text/plain": [
       "  date_report  code_produit                       designation contenance  \\\n",
       "1  2025-03-01     3010049.0  PARACETAMOL 100 mg comp. BTE/100  BOITE/100   \n",
       "2  2025-03-01     3010062.0   PARACETAMOL 250 mg comp BTE/100  BOITE/100   \n",
       "\n",
       "           dmm  traceurs  stock_theorique_bke  stock_theorique_abj  \\\n",
       "1  5357.166667       1.0              21379.0              71018.0   \n",
       "2  6458.166667       1.0              13877.0              25574.0   \n",
       "\n",
       "   stock_theorique_central  stock_theorique_fin_mois        msd statut_stock  \\\n",
       "1                      0.0                   92397.0  17.247363     Surstock   \n",
       "2                      0.0                   39451.0     6.1087          Bon   \n",
       "\n",
       "  programme  \n",
       "1      PNLP  \n",
       "2      PNLP  "
      ]
     },
     "execution_count": 10,
     "metadata": {},
     "output_type": "execute_result"
    }
   ],
   "source": [
    "sheet_stock_npsp = compute_indicators.utils.check_if_sheet_name_in_file('Etat de stock', sheetnames)\n",
    "\n",
    "assert sheet_stock_npsp is not None, print(f\"La feuille `Etat de stock` n'est pas dans la liste {sheetnames} du classeur excel\")\n",
    "\n",
    "df_etat_stock_npsp = pd.read_excel(fp_etat_mensuel, sheet_name=sheet_stock_npsp, skiprows=4)\n",
    "df_etat_stock_npsp.columns = df_etat_stock_npsp.columns.str.strip()\n",
    "\n",
    "del sheet_stock_npsp\n",
    "\n",
    "df_etat_stock_npsp = df_etat_stock_npsp.loc[df_etat_stock_npsp[\"Nouveau code\"].notna()]\n",
    "\n",
    "df_etat_stock_npsp = compute_indicators.file_utils.process_etat_stock_npsp(df_etat_stock_npsp, date_report, programme)\n",
    "\n",
    "df_etat_stock_npsp.head(2)"
   ]
  },
  {
   "cell_type": "markdown",
   "id": "35af5650-cbb4-4b85-9fdd-301717a20e95",
   "metadata": {
    "papermill": {
     "duration": 0.218018,
     "end_time": "2025-05-12T17:44:46.951832",
     "exception": false,
     "start_time": "2025-05-12T17:44:46.733814",
     "status": "completed"
    },
    "tags": []
   },
   "source": [
    "## 📌3. Importation de la feuille `Stock detaille`"
   ]
  },
  {
   "cell_type": "code",
   "execution_count": 11,
   "id": "7722f6ab-9539-4935-9e0d-7b8973dabf7c",
   "metadata": {
    "execution": {
     "iopub.execute_input": "2025-05-12T17:44:48.099313Z",
     "iopub.status.busy": "2025-05-12T17:44:48.098232Z",
     "iopub.status.idle": "2025-05-12T17:44:48.537395Z",
     "shell.execute_reply": "2025-05-12T17:44:48.536485Z"
    },
    "papermill": {
     "duration": 1.397081,
     "end_time": "2025-05-12T17:44:48.538967",
     "exception": false,
     "start_time": "2025-05-12T17:44:47.141886",
     "status": "completed"
    },
    "tags": []
   },
   "outputs": [
    {
     "data": {
      "text/html": [
       "<div>\n",
       "<style scoped>\n",
       "    .dataframe tbody tr th:only-of-type {\n",
       "        vertical-align: middle;\n",
       "    }\n",
       "\n",
       "    .dataframe tbody tr th {\n",
       "        vertical-align: top;\n",
       "    }\n",
       "\n",
       "    .dataframe thead th {\n",
       "        text-align: right;\n",
       "    }\n",
       "</style>\n",
       "<table border=\"1\" class=\"dataframe\">\n",
       "  <thead>\n",
       "    <tr style=\"text-align: right;\">\n",
       "      <th></th>\n",
       "      <th>Code produit</th>\n",
       "      <th>Désignation</th>\n",
       "      <th>Emplacement</th>\n",
       "      <th>Date limite de consommation</th>\n",
       "      <th>Numéro Lot</th>\n",
       "      <th>Sous lot (Programme)</th>\n",
       "      <th>Qté \\nPhysique</th>\n",
       "      <th>Qté \\nlivrable</th>\n",
       "      <th>Unit</th>\n",
       "      <th>Site</th>\n",
       "      <th>Dépôt</th>\n",
       "      <th>Sous lot</th>\n",
       "      <th>Site.1</th>\n",
       "      <th>Bailleur</th>\n",
       "      <th>Statut</th>\n",
       "    </tr>\n",
       "  </thead>\n",
       "  <tbody>\n",
       "    <tr>\n",
       "      <th>0</th>\n",
       "      <td>4150558</td>\n",
       "      <td>MILDA STANDARD/DELTAMETHRINE</td>\n",
       "      <td>27Q00A00</td>\n",
       "      <td>2099-01-01</td>\n",
       "      <td>NEANT</td>\n",
       "      <td>PNLP</td>\n",
       "      <td>3245</td>\n",
       "      <td>0</td>\n",
       "      <td>UN</td>\n",
       "      <td>NPSP</td>\n",
       "      <td>PGY</td>\n",
       "      <td>PNLP</td>\n",
       "      <td>PG05</td>\n",
       "      <td>BAILLEURX</td>\n",
       "      <td>RA</td>\n",
       "    </tr>\n",
       "    <tr>\n",
       "      <th>1</th>\n",
       "      <td>4150558</td>\n",
       "      <td>MILDA STANDARD/DELTAMETHRINE</td>\n",
       "      <td>27Q00A00</td>\n",
       "      <td>2099-01-01</td>\n",
       "      <td>NEANT</td>\n",
       "      <td>PNLP</td>\n",
       "      <td>139500</td>\n",
       "      <td>0</td>\n",
       "      <td>UN</td>\n",
       "      <td>NPSP</td>\n",
       "      <td>PGY</td>\n",
       "      <td>PNLP</td>\n",
       "      <td>PG05</td>\n",
       "      <td>BAILLEURX</td>\n",
       "      <td>RNC</td>\n",
       "    </tr>\n",
       "  </tbody>\n",
       "</table>\n",
       "</div>"
      ],
      "text/plain": [
       "   Code produit                   Désignation Emplacement  \\\n",
       "0       4150558  MILDA STANDARD/DELTAMETHRINE    27Q00A00   \n",
       "1       4150558  MILDA STANDARD/DELTAMETHRINE    27Q00A00   \n",
       "\n",
       "  Date limite de consommation Numéro Lot Sous lot (Programme)  Qté \\nPhysique  \\\n",
       "0                  2099-01-01      NEANT                 PNLP            3245   \n",
       "1                  2099-01-01      NEANT                 PNLP          139500   \n",
       "\n",
       "   Qté \\nlivrable Unit  Site Dépôt Sous lot Site.1   Bailleur Statut  \n",
       "0               0   UN  NPSP   PGY     PNLP   PG05  BAILLEURX     RA  \n",
       "1               0   UN  NPSP   PGY     PNLP   PG05  BAILLEURX    RNC  "
      ]
     },
     "execution_count": 11,
     "metadata": {},
     "output_type": "execute_result"
    }
   ],
   "source": [
    "sheet_stock_detaille = compute_indicators.utils.check_if_sheet_name_in_file('Stock detaille', sheetnames)\n",
    "\n",
    "assert sheet_stock_detaille is not None, print(f\"La feuille `Stock detaille` n'est pas dans la liste {sheetnames} du classeur excel\")\n",
    "\n",
    "df_stock_detaille = pd.read_excel(fp_etat_mensuel, sheet_name=sheet_stock_detaille)\n",
    "df_stock_detaille.columns = df_stock_detaille.columns.str.strip()\n",
    "\n",
    "max_date_year = pd.Timestamp.max.year\n",
    "\n",
    "df_stock_detaille[\"Date limite de consommation\"] = df_stock_detaille[\"Date limite de consommation\"].apply(\n",
    "    lambda x: x if x.year<max_date_year else x.replace(year=max_date_year-1)\n",
    ")\n",
    "\n",
    "del sheet_stock_detaille, max_date_year\n",
    "\n",
    "df_stock_detaille.head(2)"
   ]
  },
  {
   "cell_type": "markdown",
   "id": "37de2849-dc65-4fb7-b87a-8faf7121f280",
   "metadata": {
    "papermill": {
     "duration": 0.186132,
     "end_time": "2025-05-12T17:44:49.060322",
     "exception": false,
     "start_time": "2025-05-12T17:44:48.874190",
     "status": "completed"
    },
    "tags": []
   },
   "source": [
    "## 📌4. Importation de la feuille `Distribution X3`"
   ]
  },
  {
   "cell_type": "code",
   "execution_count": 12,
   "id": "7f1f692a-9147-4ac1-b50e-a0ba94ca588f",
   "metadata": {
    "execution": {
     "iopub.execute_input": "2025-05-12T17:44:50.298197Z",
     "iopub.status.busy": "2025-05-12T17:44:50.297802Z",
     "iopub.status.idle": "2025-05-12T17:44:50.479857Z",
     "shell.execute_reply": "2025-05-12T17:44:50.478938Z"
    },
    "papermill": {
     "duration": 0.364201,
     "end_time": "2025-05-12T17:44:50.481413",
     "exception": false,
     "start_time": "2025-05-12T17:44:50.117212",
     "status": "completed"
    },
    "tags": []
   },
   "outputs": [
    {
     "data": {
      "text/html": [
       "<div>\n",
       "<style scoped>\n",
       "    .dataframe tbody tr th:only-of-type {\n",
       "        vertical-align: middle;\n",
       "    }\n",
       "\n",
       "    .dataframe tbody tr th {\n",
       "        vertical-align: top;\n",
       "    }\n",
       "\n",
       "    .dataframe thead th {\n",
       "        text-align: right;\n",
       "    }\n",
       "</style>\n",
       "<table border=\"1\" class=\"dataframe\">\n",
       "  <thead>\n",
       "    <tr style=\"text-align: right;\">\n",
       "      <th></th>\n",
       "      <th>Programme</th>\n",
       "      <th>Date de livraison</th>\n",
       "      <th>No commande</th>\n",
       "      <th>No livraison</th>\n",
       "      <th>Client</th>\n",
       "      <th>Raison sociale</th>\n",
       "      <th>Article</th>\n",
       "      <th>Désignation</th>\n",
       "      <th>Unité vente</th>\n",
       "      <th>Qté commandée</th>\n",
       "      <th>Qté livrée</th>\n",
       "    </tr>\n",
       "  </thead>\n",
       "  <tbody>\n",
       "    <tr>\n",
       "      <th>0</th>\n",
       "      <td>PNLP</td>\n",
       "      <td>2025-03-03</td>\n",
       "      <td>VAL01-PSG-2502-0230</td>\n",
       "      <td>BL01-PSG-2503-0187</td>\n",
       "      <td>42400024</td>\n",
       "      <td>HOPITAL GENERAL GUEYO</td>\n",
       "      <td>3050016</td>\n",
       "      <td>ARTESUNATE/AMODIAQUINE 50 / 135 mg ENFANT (1 -...</td>\n",
       "      <td>BTE</td>\n",
       "      <td>1</td>\n",
       "      <td>1</td>\n",
       "    </tr>\n",
       "    <tr>\n",
       "      <th>1</th>\n",
       "      <td>PNLP</td>\n",
       "      <td>2025-03-03</td>\n",
       "      <td>VAL01-PSG-2502-0230</td>\n",
       "      <td>BL01-PSG-2503-0187</td>\n",
       "      <td>42400024</td>\n",
       "      <td>HOPITAL GENERAL GUEYO</td>\n",
       "      <td>3050062</td>\n",
       "      <td>ARTEMETHER/LUMEFANTRINE 20 / 120 mg (3 - 8 ANS...</td>\n",
       "      <td>BTE</td>\n",
       "      <td>21</td>\n",
       "      <td>21</td>\n",
       "    </tr>\n",
       "  </tbody>\n",
       "</table>\n",
       "</div>"
      ],
      "text/plain": [
       "  Programme Date de livraison          No commande        No livraison  \\\n",
       "0      PNLP        2025-03-03  VAL01-PSG-2502-0230  BL01-PSG-2503-0187   \n",
       "1      PNLP        2025-03-03  VAL01-PSG-2502-0230  BL01-PSG-2503-0187   \n",
       "\n",
       "     Client         Raison sociale  Article  \\\n",
       "0  42400024  HOPITAL GENERAL GUEYO  3050016   \n",
       "1  42400024  HOPITAL GENERAL GUEYO  3050062   \n",
       "\n",
       "                                         Désignation Unité vente  \\\n",
       "0  ARTESUNATE/AMODIAQUINE 50 / 135 mg ENFANT (1 -...         BTE   \n",
       "1  ARTEMETHER/LUMEFANTRINE 20 / 120 mg (3 - 8 ANS...         BTE   \n",
       "\n",
       "   Qté commandée  Qté livrée  \n",
       "0              1           1  \n",
       "1             21          21  "
      ]
     },
     "execution_count": 12,
     "metadata": {},
     "output_type": "execute_result"
    }
   ],
   "source": [
    "sheet_distribution_x3 = compute_indicators.utils.check_if_sheet_name_in_file('Distribution', sheetnames)\n",
    "\n",
    "assert sheet_distribution_x3 is not None, print(f\"La feuille `Distribution X3` n'est pas dans la liste {sheetnames} du classeur excel\")\n",
    "\n",
    "df_distribution = pd.read_excel(fp_etat_mensuel, sheet_name=sheet_distribution_x3)\n",
    "df_distribution.columns = df_distribution.columns.str.strip()\n",
    "\n",
    "del sheet_distribution_x3\n",
    "\n",
    "df_distribution.head(2)"
   ]
  },
  {
   "cell_type": "markdown",
   "id": "ccad74b5-8006-4fb2-9728-ec7b22892cc2",
   "metadata": {
    "papermill": {
     "duration": 1.257763,
     "end_time": "2025-05-12T17:44:56.445092",
     "exception": false,
     "start_time": "2025-05-12T17:44:55.187329",
     "status": "completed"
    },
    "tags": []
   },
   "source": [
    "## 📌5. Importation de la feuille `Receptions`"
   ]
  },
  {
   "cell_type": "code",
   "execution_count": 13,
   "id": "aba1696b-3a88-4499-8e96-218b21191f07",
   "metadata": {
    "execution": {
     "iopub.execute_input": "2025-05-12T17:44:56.839994Z",
     "iopub.status.busy": "2025-05-12T17:44:56.839230Z",
     "iopub.status.idle": "2025-05-12T17:44:56.950929Z",
     "shell.execute_reply": "2025-05-12T17:44:56.949886Z"
    },
    "papermill": {
     "duration": 0.322599,
     "end_time": "2025-05-12T17:44:56.952842",
     "exception": false,
     "start_time": "2025-05-12T17:44:56.630243",
     "status": "completed"
    },
    "tags": []
   },
   "outputs": [
    {
     "data": {
      "text/html": [
       "<div>\n",
       "<style scoped>\n",
       "    .dataframe tbody tr th:only-of-type {\n",
       "        vertical-align: middle;\n",
       "    }\n",
       "\n",
       "    .dataframe tbody tr th {\n",
       "        vertical-align: top;\n",
       "    }\n",
       "\n",
       "    .dataframe thead th {\n",
       "        text-align: right;\n",
       "    }\n",
       "</style>\n",
       "<table border=\"1\" class=\"dataframe\">\n",
       "  <thead>\n",
       "    <tr style=\"text-align: right;\">\n",
       "      <th></th>\n",
       "      <th>Programme</th>\n",
       "      <th>Bailleur (Funding)</th>\n",
       "      <th>Nouveau code</th>\n",
       "      <th>Code</th>\n",
       "      <th>Désignation NPSP</th>\n",
       "      <th>Date de réception effective</th>\n",
       "      <th>Date effective de dépotage et/ou expertise</th>\n",
       "      <th>Quantité réceptionnée</th>\n",
       "      <th>Date d'entrée en machine</th>\n",
       "    </tr>\n",
       "  </thead>\n",
       "  <tbody>\n",
       "  </tbody>\n",
       "</table>\n",
       "</div>"
      ],
      "text/plain": [
       "Empty DataFrame\n",
       "Columns: [Programme, Bailleur (Funding), Nouveau code, Code, Désignation NPSP, Date de réception effective, Date effective de dépotage et/ou expertise, Quantité réceptionnée, Date d'entrée en machine]\n",
       "Index: []"
      ]
     },
     "execution_count": 13,
     "metadata": {},
     "output_type": "execute_result"
    }
   ],
   "source": [
    "sheet_reception = compute_indicators.utils.check_if_sheet_name_in_file('Receptions', sheetnames)\n",
    "\n",
    "assert sheet_reception is not None, print(f\"La feuille `Receptions` n'est pas dans la liste {sheetnames} du classeur excel\")\n",
    "\n",
    "df_receptions = pd.read_excel(fp_etat_mensuel, sheet_name=sheet_reception)\n",
    "df_receptions.columns = df_receptions.columns.str.strip()\n",
    "\n",
    "del sheet_reception\n",
    "\n",
    "df_receptions.head(2)"
   ]
  },
  {
   "cell_type": "markdown",
   "id": "5fca5f1b-ec81-4434-b361-25edab77eb43",
   "metadata": {
    "papermill": {
     "duration": 0.19475,
     "end_time": "2025-05-12T17:44:57.329395",
     "exception": false,
     "start_time": "2025-05-12T17:44:57.134645",
     "status": "completed"
    },
    "tags": []
   },
   "source": [
    "## 📌6. Importation de la feuille `PPI`"
   ]
  },
  {
   "cell_type": "code",
   "execution_count": 14,
   "id": "028e57f8-0239-43a3-b979-56fc164212e4",
   "metadata": {
    "execution": {
     "iopub.execute_input": "2025-05-12T17:44:59.675749Z",
     "iopub.status.busy": "2025-05-12T17:44:59.674714Z",
     "iopub.status.idle": "2025-05-12T17:44:59.779388Z",
     "shell.execute_reply": "2025-05-12T17:44:59.778257Z"
    },
    "papermill": {
     "duration": 2.150568,
     "end_time": "2025-05-12T17:44:59.781144",
     "exception": false,
     "start_time": "2025-05-12T17:44:57.630576",
     "status": "completed"
    },
    "tags": []
   },
   "outputs": [
    {
     "data": {
      "text/html": [
       "<div>\n",
       "<style scoped>\n",
       "    .dataframe tbody tr th:only-of-type {\n",
       "        vertical-align: middle;\n",
       "    }\n",
       "\n",
       "    .dataframe tbody tr th {\n",
       "        vertical-align: top;\n",
       "    }\n",
       "\n",
       "    .dataframe thead th {\n",
       "        text-align: right;\n",
       "    }\n",
       "</style>\n",
       "<table border=\"1\" class=\"dataframe\">\n",
       "  <thead>\n",
       "    <tr style=\"text-align: right;\">\n",
       "      <th></th>\n",
       "      <th>Code Produit</th>\n",
       "      <th>Nom Produit</th>\n",
       "      <th>Unite</th>\n",
       "      <th>Numéro Lot</th>\n",
       "      <th>Date Peremption</th>\n",
       "      <th>Quantité</th>\n",
       "    </tr>\n",
       "  </thead>\n",
       "  <tbody>\n",
       "    <tr>\n",
       "      <th>0</th>\n",
       "      <td>3050015</td>\n",
       "      <td>AMODIAQUINE/ARTESUNATE 25 / 67.5 mg ENFANT (2 ...</td>\n",
       "      <td>BTE</td>\n",
       "      <td>EAG523001B</td>\n",
       "      <td>2025-01-31</td>\n",
       "      <td>25</td>\n",
       "    </tr>\n",
       "    <tr>\n",
       "      <th>1</th>\n",
       "      <td>3050016</td>\n",
       "      <td>AMODIAQUINE/ARTESUNATE 50 / 135 mg ENFANT (1 -...</td>\n",
       "      <td>BTE</td>\n",
       "      <td>EAC723001A</td>\n",
       "      <td>2025-01-31</td>\n",
       "      <td>18</td>\n",
       "    </tr>\n",
       "  </tbody>\n",
       "</table>\n",
       "</div>"
      ],
      "text/plain": [
       "   Code Produit                                        Nom Produit Unite  \\\n",
       "0       3050015  AMODIAQUINE/ARTESUNATE 25 / 67.5 mg ENFANT (2 ...   BTE   \n",
       "1       3050016  AMODIAQUINE/ARTESUNATE 50 / 135 mg ENFANT (1 -...   BTE   \n",
       "\n",
       "   Numéro Lot Date Peremption  Quantité  \n",
       "0  EAG523001B      2025-01-31        25  \n",
       "1  EAC723001A      2025-01-31        18  "
      ]
     },
     "execution_count": 14,
     "metadata": {},
     "output_type": "execute_result"
    }
   ],
   "source": [
    "sheet_ppi = compute_indicators.utils.check_if_sheet_name_in_file('PPI', sheetnames)\n",
    "\n",
    "assert sheet_ppi is not None, print(f\"La feuille `PPI` n'est pas dans la liste {sheetnames} du classeur excel\")\n",
    "\n",
    "df_ppi = pd.read_excel(fp_etat_mensuel, sheet_name=sheet_ppi, skiprows=2)\n",
    "df_ppi.columns = df_ppi.columns.str.strip()\n",
    "\n",
    "del sheet_ppi\n",
    "\n",
    "df_ppi.head(2)"
   ]
  },
  {
   "cell_type": "markdown",
   "id": "7d034716-4571-4dbd-ab3c-a59bc9cd8d70",
   "metadata": {
    "papermill": {
     "duration": 1.797797,
     "end_time": "2025-05-12T17:45:06.692563",
     "exception": false,
     "start_time": "2025-05-12T17:45:04.894766",
     "status": "completed"
    },
    "tags": []
   },
   "source": [
    "## 📌7. Importation de la feuille  `Prélèvement`"
   ]
  },
  {
   "cell_type": "code",
   "execution_count": 15,
   "id": "f19419ab-c0ad-444f-9d58-c816e6a3371b",
   "metadata": {
    "execution": {
     "iopub.execute_input": "2025-05-12T17:45:07.153589Z",
     "iopub.status.busy": "2025-05-12T17:45:07.152969Z",
     "iopub.status.idle": "2025-05-12T17:45:07.331645Z",
     "shell.execute_reply": "2025-05-12T17:45:07.330730Z"
    },
    "papermill": {
     "duration": 0.442552,
     "end_time": "2025-05-12T17:45:07.333849",
     "exception": false,
     "start_time": "2025-05-12T17:45:06.891297",
     "status": "completed"
    },
    "tags": []
   },
   "outputs": [
    {
     "data": {
      "text/html": [
       "<div>\n",
       "<style scoped>\n",
       "    .dataframe tbody tr th:only-of-type {\n",
       "        vertical-align: middle;\n",
       "    }\n",
       "\n",
       "    .dataframe tbody tr th {\n",
       "        vertical-align: top;\n",
       "    }\n",
       "\n",
       "    .dataframe thead th {\n",
       "        text-align: right;\n",
       "    }\n",
       "</style>\n",
       "<table border=\"1\" class=\"dataframe\">\n",
       "  <thead>\n",
       "    <tr style=\"text-align: right;\">\n",
       "      <th></th>\n",
       "      <th>Code Produit</th>\n",
       "      <th>Nom Produit</th>\n",
       "      <th>Unite</th>\n",
       "      <th>Numéro Lot</th>\n",
       "      <th>Date Peremption</th>\n",
       "      <th>Quantité</th>\n",
       "    </tr>\n",
       "  </thead>\n",
       "  <tbody>\n",
       "  </tbody>\n",
       "</table>\n",
       "</div>"
      ],
      "text/plain": [
       "Empty DataFrame\n",
       "Columns: [Code Produit, Nom Produit, Unite, Numéro Lot, Date Peremption, Quantité]\n",
       "Index: []"
      ]
     },
     "execution_count": 15,
     "metadata": {},
     "output_type": "execute_result"
    }
   ],
   "source": [
    "sheet_prelev = compute_indicators.utils.check_if_sheet_name_in_file('Prelèvement CQ', sheetnames)\n",
    "\n",
    "assert sheet_prelev is not None, print(f\"La feuille `Prelèvement CQ` n'est pas dans la liste {sheetnames} du classeur excel\")\n",
    "\n",
    "df_prelevement = pd.read_excel(fp_etat_mensuel, sheet_name=sheet_prelev, skiprows=2)\n",
    "df_prelevement.columns = df_prelevement.columns.str.strip()\n",
    "\n",
    "del sheet_prelev\n",
    "\n",
    "df_prelevement.head(2)"
   ]
  },
  {
   "cell_type": "markdown",
   "id": "6df2ffd3-0e49-4c80-adc1-1219f1756a8a",
   "metadata": {
    "papermill": {
     "duration": 0.267457,
     "end_time": "2025-05-12T17:45:07.824997",
     "exception": false,
     "start_time": "2025-05-12T17:45:07.557540",
     "status": "completed"
    },
    "tags": []
   },
   "source": [
    "## 📌8. Importation du fichier de `mapping des produits QAT et SAGE X3`\n",
    "\n",
    "- **Format requis :** Respectez la structure du fichier.  \n",
    "- **Emplacement du fichier :** Le fichier doit être placé dans le répertoire suivant :  \n",
    "  **`Fichier Suivi de Stock/data/Mapping produits QAT SAGE X3`**  \n",
    "- **En cas d'erreur :**\n",
    "  - Vérifiez que le fichier est bien présent dans le répertoire.  \n",
    "  - Assurez-vous que les données respectent le format attendu. \n",
    "  - Vérifiez l'intégrité du fichier et assurez-vous et corriger l'anomalie."
   ]
  },
  {
   "cell_type": "code",
   "execution_count": 16,
   "id": "d7c8434e-8083-4d70-91bf-07c813f36fe4",
   "metadata": {
    "execution": {
     "iopub.execute_input": "2025-05-12T17:45:09.102622Z",
     "iopub.status.busy": "2025-05-12T17:45:09.102052Z",
     "iopub.status.idle": "2025-05-12T17:45:09.110590Z",
     "shell.execute_reply": "2025-05-12T17:45:09.109308Z"
    },
    "papermill": {
     "duration": 1.098758,
     "end_time": "2025-05-12T17:45:09.113285",
     "exception": false,
     "start_time": "2025-05-12T17:45:08.014527",
     "status": "completed"
    },
    "tags": []
   },
   "outputs": [],
   "source": [
    "fp_map_prod = (\n",
    "    Path(workspace.files_path)\n",
    "    / \"Fichier Suivi de Stock/data/Mapping produits QAT SAGE X3\"\n",
    "    / Path(fp_map_prod).name\n",
    ")"
   ]
  },
  {
   "cell_type": "code",
   "execution_count": 17,
   "id": "8fb198eb-ad43-4572-b4ff-7f3cbcc52a13",
   "metadata": {
    "execution": {
     "iopub.execute_input": "2025-05-12T17:45:16.524238Z",
     "iopub.status.busy": "2025-05-12T17:45:16.523725Z",
     "iopub.status.idle": "2025-05-12T17:45:16.621425Z",
     "shell.execute_reply": "2025-05-12T17:45:16.620392Z"
    },
    "papermill": {
     "duration": 0.380605,
     "end_time": "2025-05-12T17:45:16.623681",
     "exception": false,
     "start_time": "2025-05-12T17:45:16.243076",
     "status": "completed"
    },
    "tags": []
   },
   "outputs": [],
   "source": [
    "assert fp_map_prod.exists(), \"Le fichier de mapping des produits n'a pas été retrouvé dans le dossier dédié\""
   ]
  },
  {
   "cell_type": "markdown",
   "id": "e9df904b-5610-4442-aac3-294e6a2e0330",
   "metadata": {
    "papermill": {
     "duration": 0.202076,
     "end_time": "2025-05-12T17:45:17.062623",
     "exception": false,
     "start_time": "2025-05-12T17:45:16.860547",
     "status": "completed"
    },
    "tags": []
   },
   "source": [
    "## 📌9. Importation du `Plan d'approvisionnement`\n",
    "\n",
    "- **Format requis :** Respectez la structure du fichier définie pour l’importation peut conserver le fichier brut extrait de QAT.  \n",
    "- **Emplacement du fichier :** Le fichier doit être placé dans le répertoire suivant :  \n",
    "  **`Fichier Suivi de Stock/data/<programme>/Plan d'Approvisionnement`**  \n",
    "- **En cas d'erreur :**\n",
    "  - Vérifiez que le fichier est bien présent dans le répertoire.  \n",
    "  - Assurez-vous que les données respectent le format attendu.\n",
    "  - Vérifiez l'intégrité du fichier et assurez-vous et corriger l'anomalie."
   ]
  },
  {
   "cell_type": "code",
   "execution_count": 18,
   "id": "e5fe00dc-e276-4175-ab18-a31b4eeffe6e",
   "metadata": {
    "execution": {
     "iopub.execute_input": "2025-05-12T17:45:20.314672Z",
     "iopub.status.busy": "2025-05-12T17:45:20.314273Z",
     "iopub.status.idle": "2025-05-12T17:45:20.319872Z",
     "shell.execute_reply": "2025-05-12T17:45:20.317804Z"
    },
    "papermill": {
     "duration": 3.051687,
     "end_time": "2025-05-12T17:45:20.322009",
     "exception": false,
     "start_time": "2025-05-12T17:45:17.270322",
     "status": "completed"
    },
    "tags": []
   },
   "outputs": [],
   "source": [
    "fp_plan_approv = (\n",
    "    Path(workspace.files_path)\n",
    "    / f\"Fichier Suivi de Stock/data/{programme}/Plan d'Approvisionnement\"\n",
    "    / Path(fp_plan_approv)\n",
    ")"
   ]
  },
  {
   "cell_type": "code",
   "execution_count": 19,
   "id": "e3eb96f7-270b-4a55-a8b7-d74a6342b06d",
   "metadata": {
    "execution": {
     "iopub.execute_input": "2025-05-12T17:45:28.188288Z",
     "iopub.status.busy": "2025-05-12T17:45:28.187589Z",
     "iopub.status.idle": "2025-05-12T17:45:28.627983Z",
     "shell.execute_reply": "2025-05-12T17:45:28.625712Z"
    },
    "papermill": {
     "duration": 0.752877,
     "end_time": "2025-05-12T17:45:28.637132",
     "exception": false,
     "start_time": "2025-05-12T17:45:27.884255",
     "status": "completed"
    },
    "tags": []
   },
   "outputs": [
    {
     "data": {
      "text/html": [
       "<div>\n",
       "<style scoped>\n",
       "    .dataframe tbody tr th:only-of-type {\n",
       "        vertical-align: middle;\n",
       "    }\n",
       "\n",
       "    .dataframe tbody tr th {\n",
       "        vertical-align: top;\n",
       "    }\n",
       "\n",
       "    .dataframe thead th {\n",
       "        text-align: right;\n",
       "    }\n",
       "</style>\n",
       "<table border=\"1\" class=\"dataframe\">\n",
       "  <thead>\n",
       "    <tr style=\"text-align: right;\">\n",
       "      <th></th>\n",
       "      <th>ID de produit QAT</th>\n",
       "      <th>Produits</th>\n",
       "      <th>ID de l`envoi QAT</th>\n",
       "      <th>Commande d`urgence</th>\n",
       "      <th>Commande PGI</th>\n",
       "      <th>Approvisionnement local</th>\n",
       "      <th>N° de commande de l`agent d`approvisionnement</th>\n",
       "      <th>Agent d`approvisionnement</th>\n",
       "      <th>Source de financement</th>\n",
       "      <th>Budget</th>\n",
       "      <th>Status</th>\n",
       "      <th>Quantite</th>\n",
       "      <th>DATE</th>\n",
       "      <th>Cout des Produits</th>\n",
       "      <th>Couts du fret</th>\n",
       "      <th>Couts totaux</th>\n",
       "      <th>Notes</th>\n",
       "      <th>Standard product code</th>\n",
       "      <th>cout_unitaire_moyen_qat</th>\n",
       "      <th>facteur_de_conversion_qat_sage</th>\n",
       "      <th>acronym</th>\n",
       "      <th>code_and_date_concate</th>\n",
       "    </tr>\n",
       "  </thead>\n",
       "  <tbody>\n",
       "    <tr>\n",
       "      <th>0</th>\n",
       "      <td>3340</td>\n",
       "      <td>Giemsa Stain Solution  500 mL</td>\n",
       "      <td>160768</td>\n",
       "      <td>false</td>\n",
       "      <td>false</td>\n",
       "      <td>false</td>\n",
       "      <td>855-PA 2024</td>\n",
       "      <td>UNICEF</td>\n",
       "      <td>GFATM</td>\n",
       "      <td>FM_2024</td>\n",
       "      <td>Expédié</td>\n",
       "      <td>1071.0</td>\n",
       "      <td>2025-05-31</td>\n",
       "      <td>11416.86</td>\n",
       "      <td>1369.93</td>\n",
       "      <td>12786.79</td>\n",
       "      <td>Une livraison unique de 1071 Flacons 500 ml po...</td>\n",
       "      <td>4030209.0</td>\n",
       "      <td>10.660085</td>\n",
       "      <td>1</td>\n",
       "      <td>GIEMSA (500)</td>\n",
       "      <td>4030209_2025-05-31</td>\n",
       "    </tr>\n",
       "    <tr>\n",
       "      <th>1</th>\n",
       "      <td>3651</td>\n",
       "      <td>Immersion Oil  250 mL</td>\n",
       "      <td>160773</td>\n",
       "      <td>false</td>\n",
       "      <td>false</td>\n",
       "      <td>false</td>\n",
       "      <td>862-PA 2024</td>\n",
       "      <td>UNICEF</td>\n",
       "      <td>GFATM</td>\n",
       "      <td>FM_2024</td>\n",
       "      <td>Reçu</td>\n",
       "      <td>205.0</td>\n",
       "      <td>2025-04-10</td>\n",
       "      <td>3995.45</td>\n",
       "      <td>479.50</td>\n",
       "      <td>4474.95</td>\n",
       "      <td>Une livraison unique de 205 flacons pour 2024</td>\n",
       "      <td>4030224.0</td>\n",
       "      <td>19.490000</td>\n",
       "      <td>1</td>\n",
       "      <td>HUILE A IMMERSION FL/250 ML FLACON</td>\n",
       "      <td>4030224_2025-04-10</td>\n",
       "    </tr>\n",
       "  </tbody>\n",
       "</table>\n",
       "</div>"
      ],
      "text/plain": [
       "   ID de produit QAT                       Produits  ID de l`envoi QAT  \\\n",
       "0               3340  Giemsa Stain Solution  500 mL             160768   \n",
       "1               3651          Immersion Oil  250 mL             160773   \n",
       "\n",
       "  Commande d`urgence Commande PGI Approvisionnement local  \\\n",
       "0              false        false                   false   \n",
       "1              false        false                   false   \n",
       "\n",
       "  N° de commande de l`agent d`approvisionnement Agent d`approvisionnement  \\\n",
       "0                                   855-PA 2024                    UNICEF   \n",
       "1                                   862-PA 2024                    UNICEF   \n",
       "\n",
       "  Source de financement   Budget   Status  Quantite       DATE  \\\n",
       "0                 GFATM  FM_2024  Expédié    1071.0 2025-05-31   \n",
       "1                 GFATM  FM_2024     Reçu     205.0 2025-04-10   \n",
       "\n",
       "   Cout des Produits  Couts du fret  Couts totaux  \\\n",
       "0           11416.86        1369.93      12786.79   \n",
       "1            3995.45         479.50       4474.95   \n",
       "\n",
       "                                               Notes  Standard product code  \\\n",
       "0  Une livraison unique de 1071 Flacons 500 ml po...              4030209.0   \n",
       "1      Une livraison unique de 205 flacons pour 2024              4030224.0   \n",
       "\n",
       "   cout_unitaire_moyen_qat  facteur_de_conversion_qat_sage  \\\n",
       "0                10.660085                               1   \n",
       "1                19.490000                               1   \n",
       "\n",
       "                              acronym code_and_date_concate  \n",
       "0                        GIEMSA (500)    4030209_2025-05-31  \n",
       "1  HUILE A IMMERSION FL/250 ML FLACON    4030224_2025-04-10  "
      ]
     },
     "execution_count": 19,
     "metadata": {},
     "output_type": "execute_result"
    }
   ],
   "source": [
    "df_plan_approv = compute_indicators.file_utils.process_pa_files(fp_plan_approv, fp_map_prod, programme)\n",
    "\n",
    "df_plan_approv[\"facteur_de_conversion_qat_sage\"] = df_plan_approv[\"facteur_de_conversion_qat_sage\"].apply(\n",
    "    lambda x: x if not pd.isna(x) else 1\n",
    ")\n",
    "\n",
    "df_plan_approv.head(2)"
   ]
  },
  {
   "cell_type": "markdown",
   "id": "16319b53-77c7-423a-999a-37aa2052514e",
   "metadata": {
    "papermill": {
     "duration": 0.248949,
     "end_time": "2025-05-12T17:45:29.146244",
     "exception": false,
     "start_time": "2025-05-12T17:45:28.897295",
     "status": "completed"
    },
    "tags": []
   },
   "source": [
    "# IV.📊Calcul des Indicateurs"
   ]
  },
  {
   "cell_type": "markdown",
   "id": "46d1687e-eb8e-4515-9be3-1bc3ffb55184",
   "metadata": {
    "papermill": {
     "duration": 0.254987,
     "end_time": "2025-05-12T17:45:29.661216",
     "exception": false,
     "start_time": "2025-05-12T17:45:29.406229",
     "status": "completed"
    },
    "tags": []
   },
   "source": [
    "## 📌1. `Etat de Stock (1/2)`"
   ]
  },
  {
   "cell_type": "code",
   "execution_count": 20,
   "id": "177a7f70-8d09-45b6-94fd-0900686bfc84",
   "metadata": {
    "execution": {
     "iopub.execute_input": "2025-05-12T17:45:37.430371Z",
     "iopub.status.busy": "2025-05-12T17:45:37.429898Z",
     "iopub.status.idle": "2025-05-12T17:45:37.570359Z",
     "shell.execute_reply": "2025-05-12T17:45:37.569353Z"
    },
    "papermill": {
     "duration": 2.795403,
     "end_time": "2025-05-12T17:45:37.572323",
     "exception": false,
     "start_time": "2025-05-12T17:45:34.776920",
     "status": "completed"
    },
    "tags": []
   },
   "outputs": [
    {
     "name": "stdout",
     "output_type": "stream",
     "text": [
      "Connexion à la base de données établie avec succès\n"
     ]
    },
    {
     "data": {
      "text/html": [
       "<div>\n",
       "<style scoped>\n",
       "    .dataframe tbody tr th:only-of-type {\n",
       "        vertical-align: middle;\n",
       "    }\n",
       "\n",
       "    .dataframe tbody tr th {\n",
       "        vertical-align: top;\n",
       "    }\n",
       "\n",
       "    .dataframe thead th {\n",
       "        text-align: right;\n",
       "    }\n",
       "</style>\n",
       "<table border=\"1\" class=\"dataframe\">\n",
       "  <thead>\n",
       "    <tr style=\"text-align: right;\">\n",
       "      <th></th>\n",
       "      <th>id_dim_produit_stock_track_pk</th>\n",
       "      <th>code_produit</th>\n",
       "      <th>ancien_code</th>\n",
       "      <th>categorie</th>\n",
       "      <th>designation</th>\n",
       "      <th>type_produit</th>\n",
       "      <th>unit_niveau_central</th>\n",
       "      <th>unit_niveau_peripherique</th>\n",
       "      <th>facteur_de_conversion</th>\n",
       "      <th>designation_acronym</th>\n",
       "      <th>code_qat</th>\n",
       "      <th>programme</th>\n",
       "      <th>cout_unitaire_moyen_qat</th>\n",
       "      <th>facteur_de_conversion_qat_sage</th>\n",
       "      <th>stock_theorique_mois_precedent</th>\n",
       "    </tr>\n",
       "  </thead>\n",
       "  <tbody>\n",
       "    <tr>\n",
       "      <th>0</th>\n",
       "      <td>1</td>\n",
       "      <td>3050015</td>\n",
       "      <td>AY02027</td>\n",
       "      <td>Médicaments</td>\n",
       "      <td>AMODIAQUINE/ARTESUNATE 25 / 67,5 mg ENFANT (0 ...</td>\n",
       "      <td>Traceur</td>\n",
       "      <td>BOITE/25</td>\n",
       "      <td>PLAQUETTE</td>\n",
       "      <td>25</td>\n",
       "      <td>AA (0-11 MOIS)</td>\n",
       "      <td>1381.0</td>\n",
       "      <td>PNLP</td>\n",
       "      <td>4.007185</td>\n",
       "      <td>1.0</td>\n",
       "      <td>736.0</td>\n",
       "    </tr>\n",
       "    <tr>\n",
       "      <th>1</th>\n",
       "      <td>2</td>\n",
       "      <td>3050016</td>\n",
       "      <td>AY02028</td>\n",
       "      <td>Médicaments</td>\n",
       "      <td>AMODIAQUINE/ARTESUNATE 50 / 135 mg ENFANT (1 -...</td>\n",
       "      <td>Traceur</td>\n",
       "      <td>BOITE/25</td>\n",
       "      <td>PLAQUETTE</td>\n",
       "      <td>25</td>\n",
       "      <td>AA (1-5 ANS)</td>\n",
       "      <td>1382.0</td>\n",
       "      <td>PNLP</td>\n",
       "      <td>6.237433</td>\n",
       "      <td>1.0</td>\n",
       "      <td>-592.0</td>\n",
       "    </tr>\n",
       "  </tbody>\n",
       "</table>\n",
       "</div>"
      ],
      "text/plain": [
       "   id_dim_produit_stock_track_pk  code_produit ancien_code    categorie  \\\n",
       "0                              1       3050015     AY02027  Médicaments   \n",
       "1                              2       3050016     AY02028  Médicaments   \n",
       "\n",
       "                                         designation type_produit  \\\n",
       "0  AMODIAQUINE/ARTESUNATE 25 / 67,5 mg ENFANT (0 ...      Traceur   \n",
       "1  AMODIAQUINE/ARTESUNATE 50 / 135 mg ENFANT (1 -...      Traceur   \n",
       "\n",
       "  unit_niveau_central unit_niveau_peripherique  facteur_de_conversion  \\\n",
       "0            BOITE/25                PLAQUETTE                     25   \n",
       "1            BOITE/25                PLAQUETTE                     25   \n",
       "\n",
       "  designation_acronym code_qat programme  cout_unitaire_moyen_qat  \\\n",
       "0      AA (0-11 MOIS)   1381.0      PNLP                 4.007185   \n",
       "1        AA (1-5 ANS)   1382.0      PNLP                 6.237433   \n",
       "\n",
       "   facteur_de_conversion_qat_sage  stock_theorique_mois_precedent  \n",
       "0                             1.0                           736.0  \n",
       "1                             1.0                          -592.0  "
      ]
     },
     "execution_count": 20,
     "metadata": {},
     "output_type": "execute_result"
    }
   ],
   "source": [
    "stock_sync_manager.initialize_database_connection()\n",
    "\n",
    "schema_name = \"suivi_stock\"\n",
    "\n",
    "df_etat_stock = stock_sync_manager.get_table_data(\n",
    "    query=QUERY_ETAT_STOCK.format(\n",
    "        schema_name=schema_name, programme=programme, date_report_prec=date_report_prec\n",
    "    )\n",
    ").drop_duplicates()\n",
    "\n",
    "df_etat_stock.head(2)"
   ]
  },
  {
   "cell_type": "code",
   "execution_count": 21,
   "id": "0cc47bc4-3b68-4d26-882e-05b121b18ec5",
   "metadata": {
    "execution": {
     "iopub.execute_input": "2025-05-12T17:45:37.953489Z",
     "iopub.status.busy": "2025-05-12T17:45:37.953008Z",
     "iopub.status.idle": "2025-05-12T17:45:38.084290Z",
     "shell.execute_reply": "2025-05-12T17:45:38.083328Z"
    },
    "papermill": {
     "duration": 0.30847,
     "end_time": "2025-05-12T17:45:38.085873",
     "exception": false,
     "start_time": "2025-05-12T17:45:37.777403",
     "status": "completed"
    },
    "tags": []
   },
   "outputs": [
    {
     "data": {
      "text/html": [
       "<div>\n",
       "<style scoped>\n",
       "    .dataframe tbody tr th:only-of-type {\n",
       "        vertical-align: middle;\n",
       "    }\n",
       "\n",
       "    .dataframe tbody tr th {\n",
       "        vertical-align: top;\n",
       "    }\n",
       "\n",
       "    .dataframe thead th {\n",
       "        text-align: right;\n",
       "    }\n",
       "</style>\n",
       "<table border=\"1\" class=\"dataframe\">\n",
       "  <thead>\n",
       "    <tr style=\"text-align: right;\">\n",
       "      <th></th>\n",
       "      <th>id_dim_produit_stock_track_pk</th>\n",
       "      <th>code_produit</th>\n",
       "      <th>ancien_code</th>\n",
       "      <th>categorie</th>\n",
       "      <th>designation</th>\n",
       "      <th>type_produit</th>\n",
       "      <th>unit_niveau_central</th>\n",
       "      <th>unit_niveau_peripherique</th>\n",
       "      <th>facteur_de_conversion</th>\n",
       "      <th>designation_acronym</th>\n",
       "      <th>code_qat</th>\n",
       "      <th>programme</th>\n",
       "      <th>cout_unitaire_moyen_qat</th>\n",
       "      <th>facteur_de_conversion_qat_sage</th>\n",
       "      <th>stock_theorique_mois_precedent</th>\n",
       "      <th>Distribution effectuée</th>\n",
       "      <th>Quantité reçue entrée en stock</th>\n",
       "      <th>Quantité de PPI</th>\n",
       "      <th>Quantité prélévée en Contrôle Qualité (CQ)</th>\n",
       "      <th>Ajustement de stock</th>\n",
       "      <th>Stock Théorique Final SAGE</th>\n",
       "      <th>Stock Théorique Final Attendu</th>\n",
       "      <th>ECARTS</th>\n",
       "      <th>Justification des écarts</th>\n",
       "      <th>Diligences</th>\n",
       "      <th>Dilig. Choisie</th>\n",
       "    </tr>\n",
       "  </thead>\n",
       "  <tbody>\n",
       "    <tr>\n",
       "      <th>0</th>\n",
       "      <td>1</td>\n",
       "      <td>3050015</td>\n",
       "      <td>AY02027</td>\n",
       "      <td>Médicaments</td>\n",
       "      <td>AMODIAQUINE/ARTESUNATE 25 / 67,5 mg ENFANT (0 ...</td>\n",
       "      <td>Traceur</td>\n",
       "      <td>BOITE/25</td>\n",
       "      <td>PLAQUETTE</td>\n",
       "      <td>25</td>\n",
       "      <td>AA (0-11 MOIS)</td>\n",
       "      <td>1381.0</td>\n",
       "      <td>PNLP</td>\n",
       "      <td>4.007185</td>\n",
       "      <td>1.0</td>\n",
       "      <td>736.0</td>\n",
       "      <td>255</td>\n",
       "      <td>0</td>\n",
       "      <td>25</td>\n",
       "      <td>0</td>\n",
       "      <td>NaN</td>\n",
       "      <td>501</td>\n",
       "      <td>456.0</td>\n",
       "      <td>45.0</td>\n",
       "      <td>NaN</td>\n",
       "      <td>NaN</td>\n",
       "      <td>NaN</td>\n",
       "    </tr>\n",
       "    <tr>\n",
       "      <th>1</th>\n",
       "      <td>2</td>\n",
       "      <td>3050016</td>\n",
       "      <td>AY02028</td>\n",
       "      <td>Médicaments</td>\n",
       "      <td>AMODIAQUINE/ARTESUNATE 50 / 135 mg ENFANT (1 -...</td>\n",
       "      <td>Traceur</td>\n",
       "      <td>BOITE/25</td>\n",
       "      <td>PLAQUETTE</td>\n",
       "      <td>25</td>\n",
       "      <td>AA (1-5 ANS)</td>\n",
       "      <td>1382.0</td>\n",
       "      <td>PNLP</td>\n",
       "      <td>6.237433</td>\n",
       "      <td>1.0</td>\n",
       "      <td>-592.0</td>\n",
       "      <td>2</td>\n",
       "      <td>0</td>\n",
       "      <td>19</td>\n",
       "      <td>0</td>\n",
       "      <td>NaN</td>\n",
       "      <td>2</td>\n",
       "      <td>-613.0</td>\n",
       "      <td>615.0</td>\n",
       "      <td>NaN</td>\n",
       "      <td>NaN</td>\n",
       "      <td>NaN</td>\n",
       "    </tr>\n",
       "    <tr>\n",
       "      <th>2</th>\n",
       "      <td>3</td>\n",
       "      <td>3050456</td>\n",
       "      <td>None</td>\n",
       "      <td>Médicaments</td>\n",
       "      <td>ARTEMETHER/ LUMEFANTRINE 80/480mg PLAQ/6 comp....</td>\n",
       "      <td>Traceur</td>\n",
       "      <td>BOITE/30</td>\n",
       "      <td>None</td>\n",
       "      <td>30</td>\n",
       "      <td>None</td>\n",
       "      <td>None</td>\n",
       "      <td>PNLP</td>\n",
       "      <td>NaN</td>\n",
       "      <td>NaN</td>\n",
       "      <td>4300.0</td>\n",
       "      <td>0</td>\n",
       "      <td>0</td>\n",
       "      <td>0</td>\n",
       "      <td>0</td>\n",
       "      <td>NaN</td>\n",
       "      <td>4300</td>\n",
       "      <td>4300.0</td>\n",
       "      <td>0.0</td>\n",
       "      <td>NaN</td>\n",
       "      <td>NaN</td>\n",
       "      <td>NaN</td>\n",
       "    </tr>\n",
       "  </tbody>\n",
       "</table>\n",
       "</div>"
      ],
      "text/plain": [
       "   id_dim_produit_stock_track_pk  code_produit ancien_code    categorie  \\\n",
       "0                              1       3050015     AY02027  Médicaments   \n",
       "1                              2       3050016     AY02028  Médicaments   \n",
       "2                              3       3050456        None  Médicaments   \n",
       "\n",
       "                                         designation type_produit  \\\n",
       "0  AMODIAQUINE/ARTESUNATE 25 / 67,5 mg ENFANT (0 ...      Traceur   \n",
       "1  AMODIAQUINE/ARTESUNATE 50 / 135 mg ENFANT (1 -...      Traceur   \n",
       "2  ARTEMETHER/ LUMEFANTRINE 80/480mg PLAQ/6 comp....      Traceur   \n",
       "\n",
       "  unit_niveau_central unit_niveau_peripherique  facteur_de_conversion  \\\n",
       "0            BOITE/25                PLAQUETTE                     25   \n",
       "1            BOITE/25                PLAQUETTE                     25   \n",
       "2            BOITE/30                     None                     30   \n",
       "\n",
       "  designation_acronym code_qat programme  cout_unitaire_moyen_qat  \\\n",
       "0      AA (0-11 MOIS)   1381.0      PNLP                 4.007185   \n",
       "1        AA (1-5 ANS)   1382.0      PNLP                 6.237433   \n",
       "2                None     None      PNLP                      NaN   \n",
       "\n",
       "   facteur_de_conversion_qat_sage  stock_theorique_mois_precedent  \\\n",
       "0                             1.0                           736.0   \n",
       "1                             1.0                          -592.0   \n",
       "2                             NaN                          4300.0   \n",
       "\n",
       "   Distribution effectuée  Quantité reçue entrée en stock  Quantité de PPI  \\\n",
       "0                     255                               0               25   \n",
       "1                       2                               0               19   \n",
       "2                       0                               0                0   \n",
       "\n",
       "   Quantité prélévée en Contrôle Qualité (CQ)  Ajustement de stock  \\\n",
       "0                                           0                  NaN   \n",
       "1                                           0                  NaN   \n",
       "2                                           0                  NaN   \n",
       "\n",
       "   Stock Théorique Final SAGE  Stock Théorique Final Attendu  ECARTS  \\\n",
       "0                         501                          456.0    45.0   \n",
       "1                           2                         -613.0   615.0   \n",
       "2                        4300                         4300.0     0.0   \n",
       "\n",
       "   Justification des écarts  Diligences  Dilig. Choisie  \n",
       "0                       NaN         NaN             NaN  \n",
       "1                       NaN         NaN             NaN  \n",
       "2                       NaN         NaN             NaN  "
      ]
     },
     "metadata": {},
     "output_type": "display_data"
    },
    {
     "name": "stdout",
     "output_type": "stream",
     "text": [
      "CPU times: user 124 ms, sys: 2.02 ms, total: 126 ms\n",
      "Wall time: 125 ms\n"
     ]
    }
   ],
   "source": [
    "%%time\n",
    "df_etat_stock = compute_indicators.annexe_1.get_etat_stock_current_month(\n",
    "    df_etat_stock.copy(),\n",
    "    df_stock_detaille.copy(),\n",
    "    df_distribution.copy(),\n",
    "    df_ppi.copy(),\n",
    "    df_prelevement.copy(),\n",
    "    df_receptions.copy(),\n",
    "    date_report\n",
    ")"
   ]
  },
  {
   "cell_type": "markdown",
   "id": "67fc32ed-308b-4166-ba9b-0ed51410cb58",
   "metadata": {
    "papermill": {
     "duration": 0.194808,
     "end_time": "2025-05-12T17:45:38.449099",
     "exception": false,
     "start_time": "2025-05-12T17:45:38.254291",
     "status": "completed"
    },
    "tags": []
   },
   "source": [
    "## 📌2.`Distributions et Consommations` - `Annexe 1`"
   ]
  },
  {
   "cell_type": "markdown",
   "id": "060791ec-5daf-443b-86a2-2a9e9046a654",
   "metadata": {
    "papermill": {
     "duration": 0.311271,
     "end_time": "2025-05-12T17:45:38.964647",
     "exception": false,
     "start_time": "2025-05-12T17:45:38.653376",
     "status": "completed"
    },
    "tags": []
   },
   "source": [
    "### 2.1.`Distributions`"
   ]
  },
  {
   "cell_type": "code",
   "execution_count": 22,
   "id": "3d47d66d-04ec-4f76-9aa3-b36d9fb31117",
   "metadata": {
    "execution": {
     "iopub.execute_input": "2025-05-12T17:45:48.767232Z",
     "iopub.status.busy": "2025-05-12T17:45:48.766138Z",
     "iopub.status.idle": "2025-05-12T17:45:48.900779Z",
     "shell.execute_reply": "2025-05-12T17:45:48.899742Z"
    },
    "papermill": {
     "duration": 0.335564,
     "end_time": "2025-05-12T17:45:48.902836",
     "exception": false,
     "start_time": "2025-05-12T17:45:48.567272",
     "status": "completed"
    },
    "tags": []
   },
   "outputs": [
    {
     "name": "stdout",
     "output_type": "stream",
     "text": [
      "CPU times: user 107 ms, sys: 3.11 ms, total: 110 ms\n",
      "Wall time: 128 ms\n"
     ]
    }
   ],
   "source": [
    "%%time\n",
    "df_dmm_curent, df_dmm_histo = compute_indicators.annexe_1.get_dmm_current_month(\n",
    "    df_etat_stock.copy(),\n",
    "    programme,\n",
    "    date_report,\n",
    "    stock_sync_manager.civ_engine\n",
    ")"
   ]
  },
  {
   "cell_type": "markdown",
   "id": "1646a2e7-aad7-4fdb-b9a6-9c9556df601e",
   "metadata": {
    "papermill": {
     "duration": 0.213153,
     "end_time": "2025-05-12T17:45:49.298301",
     "exception": false,
     "start_time": "2025-05-12T17:45:49.085148",
     "status": "completed"
    },
    "tags": []
   },
   "source": [
    "### 2.2.`Consommations`"
   ]
  },
  {
   "cell_type": "code",
   "execution_count": 23,
   "id": "25ad743a-e6e6-4481-8885-ca4057c65434",
   "metadata": {
    "editable": true,
    "execution": {
     "iopub.execute_input": "2025-05-12T17:45:50.522384Z",
     "iopub.status.busy": "2025-05-12T17:45:50.520942Z",
     "iopub.status.idle": "2025-05-12T17:45:50.573396Z",
     "shell.execute_reply": "2025-05-12T17:45:50.572200Z"
    },
    "papermill": {
     "duration": 0.260679,
     "end_time": "2025-05-12T17:45:50.575573",
     "exception": false,
     "start_time": "2025-05-12T17:45:50.314894",
     "status": "completed"
    },
    "slideshow": {
     "slide_type": ""
    },
    "tags": []
   },
   "outputs": [
    {
     "data": {
      "text/html": [
       "<div>\n",
       "<style scoped>\n",
       "    .dataframe tbody tr th:only-of-type {\n",
       "        vertical-align: middle;\n",
       "    }\n",
       "\n",
       "    .dataframe tbody tr th {\n",
       "        vertical-align: top;\n",
       "    }\n",
       "\n",
       "    .dataframe thead th {\n",
       "        text-align: right;\n",
       "    }\n",
       "</style>\n",
       "<table border=\"1\" class=\"dataframe\">\n",
       "  <thead>\n",
       "    <tr style=\"text-align: right;\">\n",
       "      <th></th>\n",
       "      <th>Programme</th>\n",
       "      <th>MSD</th>\n",
       "      <th>STATUT</th>\n",
       "      <th>CONSO</th>\n",
       "      <th>SDU</th>\n",
       "      <th>CMM</th>\n",
       "      <th>dispo_globale</th>\n",
       "      <th>dispo_globale_cible</th>\n",
       "      <th>dispo_traceur</th>\n",
       "      <th>dispo_traceur_cible</th>\n",
       "      <th>date_report</th>\n",
       "      <th>id_produit_fk</th>\n",
       "      <th>Code_region</th>\n",
       "      <th>region_order</th>\n",
       "      <th>statut_pourcentage</th>\n",
       "      <th>id_produit_pk</th>\n",
       "      <th>Code_produit</th>\n",
       "      <th>Produit_designation</th>\n",
       "      <th>Unit_rapportage</th>\n",
       "      <th>Categorie_produit</th>\n",
       "      <th>Categorie_du_produit</th>\n",
       "      <th>Code_sous_prog</th>\n",
       "    </tr>\n",
       "  </thead>\n",
       "  <tbody>\n",
       "    <tr>\n",
       "      <th>0</th>\n",
       "      <td>PNLP</td>\n",
       "      <td>1,0</td>\n",
       "      <td>SOUS-STOCK</td>\n",
       "      <td>31789</td>\n",
       "      <td>62881</td>\n",
       "      <td>63895.0</td>\n",
       "      <td>0.018922</td>\n",
       "      <td>0.023611</td>\n",
       "      <td>0.026342</td>\n",
       "      <td>0.026389</td>\n",
       "      <td>2025-03-31</td>\n",
       "      <td>17</td>\n",
       "      <td>NAT</td>\n",
       "      <td>None</td>\n",
       "      <td>0.027778</td>\n",
       "      <td>17</td>\n",
       "      <td>3050061</td>\n",
       "      <td>ARTEMETHER/LUMEFANTRINE 20 / 120 mg (0 - 3ANS)...</td>\n",
       "      <td>PLAQUETTE</td>\n",
       "      <td>Produit non traceur</td>\n",
       "      <td>PRODUITS PNLP</td>\n",
       "      <td>PNLP-1</td>\n",
       "    </tr>\n",
       "    <tr>\n",
       "      <th>1</th>\n",
       "      <td>PNLP</td>\n",
       "      <td>0,7</td>\n",
       "      <td>SOUS-STOCK</td>\n",
       "      <td>2475</td>\n",
       "      <td>12450</td>\n",
       "      <td>16819.5</td>\n",
       "      <td>0.018922</td>\n",
       "      <td>0.023611</td>\n",
       "      <td>0.026342</td>\n",
       "      <td>0.026389</td>\n",
       "      <td>2025-03-31</td>\n",
       "      <td>4882</td>\n",
       "      <td>NAT</td>\n",
       "      <td>None</td>\n",
       "      <td>0.027778</td>\n",
       "      <td>4882</td>\n",
       "      <td>3010103</td>\n",
       "      <td>AMODIAQUINE 75 MG + SULFADOXINE/PYRIMETHAMINE ...</td>\n",
       "      <td>COMPRIME</td>\n",
       "      <td>Produit non traceur</td>\n",
       "      <td>MEDICAMENTS</td>\n",
       "      <td>PNLP-1</td>\n",
       "    </tr>\n",
       "    <tr>\n",
       "      <th>2</th>\n",
       "      <td>PNLP</td>\n",
       "      <td>4,7</td>\n",
       "      <td>SURSTOCK</td>\n",
       "      <td>28635</td>\n",
       "      <td>154550</td>\n",
       "      <td>32958.5</td>\n",
       "      <td>0.018922</td>\n",
       "      <td>0.023611</td>\n",
       "      <td>0.026342</td>\n",
       "      <td>0.026389</td>\n",
       "      <td>2025-03-31</td>\n",
       "      <td>5310</td>\n",
       "      <td>NAT</td>\n",
       "      <td>None</td>\n",
       "      <td>0.027778</td>\n",
       "      <td>5310</td>\n",
       "      <td>4151200</td>\n",
       "      <td>MILDA Dual AI BALLE/50 BALLE  -</td>\n",
       "      <td>MOUSTIQUAIRE</td>\n",
       "      <td>Produit non traceur</td>\n",
       "      <td>MEDICAMENTS</td>\n",
       "      <td>PNLP-1</td>\n",
       "    </tr>\n",
       "  </tbody>\n",
       "</table>\n",
       "</div>"
      ],
      "text/plain": [
       "  Programme  MSD      STATUT  CONSO     SDU      CMM  dispo_globale  \\\n",
       "0      PNLP  1,0  SOUS-STOCK  31789   62881  63895.0       0.018922   \n",
       "1      PNLP  0,7  SOUS-STOCK   2475   12450  16819.5       0.018922   \n",
       "2      PNLP  4,7    SURSTOCK  28635  154550  32958.5       0.018922   \n",
       "\n",
       "   dispo_globale_cible  dispo_traceur  dispo_traceur_cible date_report  \\\n",
       "0             0.023611       0.026342             0.026389  2025-03-31   \n",
       "1             0.023611       0.026342             0.026389  2025-03-31   \n",
       "2             0.023611       0.026342             0.026389  2025-03-31   \n",
       "\n",
       "   id_produit_fk Code_region region_order  statut_pourcentage  id_produit_pk  \\\n",
       "0             17         NAT         None            0.027778             17   \n",
       "1           4882         NAT         None            0.027778           4882   \n",
       "2           5310         NAT         None            0.027778           5310   \n",
       "\n",
       "   Code_produit                                Produit_designation  \\\n",
       "0       3050061  ARTEMETHER/LUMEFANTRINE 20 / 120 mg (0 - 3ANS)...   \n",
       "1       3010103  AMODIAQUINE 75 MG + SULFADOXINE/PYRIMETHAMINE ...   \n",
       "2       4151200                    MILDA Dual AI BALLE/50 BALLE  -   \n",
       "\n",
       "  Unit_rapportage    Categorie_produit Categorie_du_produit Code_sous_prog  \n",
       "0       PLAQUETTE  Produit non traceur        PRODUITS PNLP         PNLP-1  \n",
       "1        COMPRIME  Produit non traceur          MEDICAMENTS         PNLP-1  \n",
       "2    MOUSTIQUAIRE  Produit non traceur          MEDICAMENTS         PNLP-1  "
      ]
     },
     "execution_count": 23,
     "metadata": {},
     "output_type": "execute_result"
    }
   ],
   "source": [
    "# Pour avoir la CMM du mois courant une recherche est d'abord faite sur la feuille StockParRegion provenant du RapportFeedback\n",
    "eomonth = (pd.to_datetime(date_report) + pd.offsets.MonthEnd(0)).strftime(\"%Y-%m-%d\")\n",
    "\n",
    "df_stock_prog_nat = stock_sync_manager.get_table_data(\n",
    "    query = QUERY_ETAT_STOCK_PROGRAMME.format(eomonth=eomonth, programme=programme)\n",
    ")\n",
    "\n",
    "df_stock_prog_nat[\"Code_produit\"] = df_stock_prog_nat[\"Code_produit\"].astype(int)\n",
    "\n",
    "df_stock_prog_nat.head(3)"
   ]
  },
  {
   "cell_type": "code",
   "execution_count": 24,
   "id": "d5fa0de6-3909-46f5-b737-856e204c92ba",
   "metadata": {
    "execution": {
     "iopub.execute_input": "2025-05-12T17:45:54.203802Z",
     "iopub.status.busy": "2025-05-12T17:45:54.202935Z",
     "iopub.status.idle": "2025-05-12T17:45:54.353345Z",
     "shell.execute_reply": "2025-05-12T17:45:54.352266Z"
    },
    "papermill": {
     "duration": 3.574773,
     "end_time": "2025-05-12T17:45:54.355478",
     "exception": false,
     "start_time": "2025-05-12T17:45:50.780705",
     "status": "completed"
    },
    "tags": []
   },
   "outputs": [
    {
     "name": "stdout",
     "output_type": "stream",
     "text": [
      "CPU times: user 125 ms, sys: 1.18 ms, total: 126 ms\n",
      "Wall time: 143 ms\n"
     ]
    }
   ],
   "source": [
    "%%time\n",
    "df_cmm_curent, df_cmm_histo = compute_indicators.annexe_1.get_cmm_current_month(\n",
    "    df_etat_stock.copy(),\n",
    "    df_stock_prog_nat.copy(),\n",
    "    programme,\n",
    "    date_report,\n",
    "    stock_sync_manager.civ_engine,\n",
    ")"
   ]
  },
  {
   "cell_type": "markdown",
   "id": "e70f49b8-4d30-4e44-b255-72c0fd9ca0ea",
   "metadata": {
    "papermill": {
     "duration": 0.242619,
     "end_time": "2025-05-12T17:45:57.306497",
     "exception": false,
     "start_time": "2025-05-12T17:45:57.063878",
     "status": "completed"
    },
    "tags": []
   },
   "source": [
    "## 📌3. Calcul des indicateurs `Etat de stock (2/2)` `Annexe 2 - Suivi des Stocks`"
   ]
  },
  {
   "cell_type": "code",
   "execution_count": 25,
   "id": "2fbe9e4d-1190-4695-8df7-37a4737f6a19",
   "metadata": {
    "execution": {
     "iopub.execute_input": "2025-05-12T17:45:57.681433Z",
     "iopub.status.busy": "2025-05-12T17:45:57.680391Z",
     "iopub.status.idle": "2025-05-12T17:45:58.601095Z",
     "shell.execute_reply": "2025-05-12T17:45:58.599907Z"
    },
    "papermill": {
     "duration": 1.10181,
     "end_time": "2025-05-12T17:45:58.603306",
     "exception": false,
     "start_time": "2025-05-12T17:45:57.501496",
     "status": "completed"
    },
    "tags": []
   },
   "outputs": [
    {
     "data": {
      "text/html": [
       "<div>\n",
       "<style scoped>\n",
       "    .dataframe tbody tr th:only-of-type {\n",
       "        vertical-align: middle;\n",
       "    }\n",
       "\n",
       "    .dataframe tbody tr th {\n",
       "        vertical-align: top;\n",
       "    }\n",
       "\n",
       "    .dataframe thead th {\n",
       "        text-align: right;\n",
       "    }\n",
       "</style>\n",
       "<table border=\"1\" class=\"dataframe\">\n",
       "  <thead>\n",
       "    <tr style=\"text-align: right;\">\n",
       "      <th></th>\n",
       "      <th>Periode</th>\n",
       "      <th>Code_ets</th>\n",
       "      <th>stock_initial</th>\n",
       "      <th>qte_recue</th>\n",
       "      <th>qte_utilisee</th>\n",
       "      <th>perte_ajust</th>\n",
       "      <th>j_rupture</th>\n",
       "      <th>sdu</th>\n",
       "      <th>cmm_esigl</th>\n",
       "      <th>cmm_gest</th>\n",
       "      <th>qte_prop</th>\n",
       "      <th>qte_cmde</th>\n",
       "      <th>qte_approuv</th>\n",
       "      <th>msd</th>\n",
       "      <th>etat_stock</th>\n",
       "      <th>besoin_cmde_urg</th>\n",
       "      <th>besoin_trsf_in</th>\n",
       "      <th>qte_trsf_out</th>\n",
       "      <th>date_report</th>\n",
       "      <th>qte_cmde_mois_prec</th>\n",
       "      <th>etat_stock_mois_prec</th>\n",
       "      <th>id_produit_fk</th>\n",
       "      <th>id_produit_pk</th>\n",
       "      <th>Code_produit</th>\n",
       "      <th>Produit_designation</th>\n",
       "      <th>Unit_rapportage</th>\n",
       "      <th>Categorie_produit</th>\n",
       "      <th>Categorie_du_produit</th>\n",
       "      <th>Code_sous_prog</th>\n",
       "    </tr>\n",
       "  </thead>\n",
       "  <tbody>\n",
       "    <tr>\n",
       "      <th>571</th>\n",
       "      <td>MARS 2025</td>\n",
       "      <td>50800010</td>\n",
       "      <td>101</td>\n",
       "      <td>0</td>\n",
       "      <td>101</td>\n",
       "      <td>0</td>\n",
       "      <td>30</td>\n",
       "      <td>0</td>\n",
       "      <td>65</td>\n",
       "      <td>750.0</td>\n",
       "      <td>260</td>\n",
       "      <td>3000.0</td>\n",
       "      <td>260</td>\n",
       "      <td>0.0</td>\n",
       "      <td>RUPTURE</td>\n",
       "      <td>3000.0</td>\n",
       "      <td>750.0</td>\n",
       "      <td>NaN</td>\n",
       "      <td>2025-03-31</td>\n",
       "      <td>2000.0</td>\n",
       "      <td>EN BAS DU PCU</td>\n",
       "      <td>17</td>\n",
       "      <td>17</td>\n",
       "      <td>3050061</td>\n",
       "      <td>ARTEMETHER/LUMEFANTRINE 20 / 120 mg (0 - 3ANS)...</td>\n",
       "      <td>PLAQUETTE</td>\n",
       "      <td>Produit non traceur</td>\n",
       "      <td>PRODUITS PNLP</td>\n",
       "      <td>PNLP-1</td>\n",
       "    </tr>\n",
       "    <tr>\n",
       "      <th>572</th>\n",
       "      <td>MARS 2025</td>\n",
       "      <td>50800010</td>\n",
       "      <td>0</td>\n",
       "      <td>0</td>\n",
       "      <td>0</td>\n",
       "      <td>0</td>\n",
       "      <td>30</td>\n",
       "      <td>0</td>\n",
       "      <td>0</td>\n",
       "      <td>0.0</td>\n",
       "      <td>0</td>\n",
       "      <td>0.0</td>\n",
       "      <td>0</td>\n",
       "      <td>NaN</td>\n",
       "      <td>RUPTURE</td>\n",
       "      <td>0.0</td>\n",
       "      <td>0.0</td>\n",
       "      <td>NaN</td>\n",
       "      <td>2025-03-31</td>\n",
       "      <td>200.0</td>\n",
       "      <td>RUPTURE</td>\n",
       "      <td>4882</td>\n",
       "      <td>4882</td>\n",
       "      <td>3010103</td>\n",
       "      <td>AMODIAQUINE 75 MG + SULFADOXINE/PYRIMETHAMINE ...</td>\n",
       "      <td>COMPRIME</td>\n",
       "      <td>Produit non traceur</td>\n",
       "      <td>MEDICAMENTS</td>\n",
       "      <td>PNLP-1</td>\n",
       "    </tr>\n",
       "  </tbody>\n",
       "</table>\n",
       "</div>"
      ],
      "text/plain": [
       "       Periode  Code_ets  stock_initial  qte_recue  qte_utilisee  perte_ajust  \\\n",
       "571  MARS 2025  50800010            101          0           101            0   \n",
       "572  MARS 2025  50800010              0          0             0            0   \n",
       "\n",
       "     j_rupture  sdu  cmm_esigl  cmm_gest  qte_prop  qte_cmde  qte_approuv  \\\n",
       "571         30    0         65     750.0       260    3000.0          260   \n",
       "572         30    0          0       0.0         0       0.0            0   \n",
       "\n",
       "     msd etat_stock  besoin_cmde_urg  besoin_trsf_in  qte_trsf_out  \\\n",
       "571  0.0    RUPTURE           3000.0           750.0           NaN   \n",
       "572  NaN    RUPTURE              0.0             0.0           NaN   \n",
       "\n",
       "    date_report  qte_cmde_mois_prec etat_stock_mois_prec  id_produit_fk  \\\n",
       "571  2025-03-31              2000.0        EN BAS DU PCU             17   \n",
       "572  2025-03-31               200.0              RUPTURE           4882   \n",
       "\n",
       "     id_produit_pk  Code_produit  \\\n",
       "571             17       3050061   \n",
       "572           4882       3010103   \n",
       "\n",
       "                                   Produit_designation Unit_rapportage  \\\n",
       "571  ARTEMETHER/LUMEFANTRINE 20 / 120 mg (0 - 3ANS)...       PLAQUETTE   \n",
       "572  AMODIAQUINE 75 MG + SULFADOXINE/PYRIMETHAMINE ...        COMPRIME   \n",
       "\n",
       "       Categorie_produit Categorie_du_produit Code_sous_prog  \n",
       "571  Produit non traceur        PRODUITS PNLP         PNLP-1  \n",
       "572  Produit non traceur          MEDICAMENTS         PNLP-1  "
      ]
     },
     "execution_count": 25,
     "metadata": {},
     "output_type": "execute_result"
    }
   ],
   "source": [
    "df_etat_stock_periph = stock_sync_manager.get_table_data(\n",
    "    query=QUERY_ETAT_STOCK_PERIPH.format(eomonth=eomonth)\n",
    ")\n",
    "\n",
    "df_etat_stock_periph = df_etat_stock_periph.loc[\n",
    "    df_etat_stock_periph.Code_sous_prog.str.contains(programme)\n",
    "]\n",
    "\n",
    "df_etat_stock_periph[\"Code_produit\"] = df_etat_stock_periph[\"Code_produit\"].astype(int)\n",
    "\n",
    "df_etat_stock_periph.head(2)"
   ]
  },
  {
   "cell_type": "code",
   "execution_count": 26,
   "id": "592788d1-ea93-4c42-b744-a068f22d23be",
   "metadata": {
    "execution": {
     "iopub.execute_input": "2025-05-12T17:45:58.990078Z",
     "iopub.status.busy": "2025-05-12T17:45:58.989064Z",
     "iopub.status.idle": "2025-05-12T17:45:58.996290Z",
     "shell.execute_reply": "2025-05-12T17:45:58.994999Z"
    },
    "papermill": {
     "duration": 0.209414,
     "end_time": "2025-05-12T17:45:58.998444",
     "exception": false,
     "start_time": "2025-05-12T17:45:58.789030",
     "status": "completed"
    },
    "tags": []
   },
   "outputs": [],
   "source": [
    "df_plan_approv[\"Quantité harmonisée (SAGE)\"] = df_plan_approv[\"Quantite\"]*df_plan_approv[\"facteur_de_conversion_qat_sage\"]"
   ]
  },
  {
   "cell_type": "code",
   "execution_count": 27,
   "id": "08d7bdd6-cf53-4c3c-bca3-c9f6c218a273",
   "metadata": {
    "execution": {
     "iopub.execute_input": "2025-05-12T17:46:02.040987Z",
     "iopub.status.busy": "2025-05-12T17:46:02.040051Z",
     "iopub.status.idle": "2025-05-12T17:46:02.523444Z",
     "shell.execute_reply": "2025-05-12T17:46:02.522232Z"
    },
    "papermill": {
     "duration": 1.859366,
     "end_time": "2025-05-12T17:46:02.525521",
     "exception": false,
     "start_time": "2025-05-12T17:46:00.666155",
     "status": "completed"
    },
    "tags": []
   },
   "outputs": [
    {
     "data": {
      "text/html": [
       "<div>\n",
       "<style scoped>\n",
       "    .dataframe tbody tr th:only-of-type {\n",
       "        vertical-align: middle;\n",
       "    }\n",
       "\n",
       "    .dataframe tbody tr th {\n",
       "        vertical-align: top;\n",
       "    }\n",
       "\n",
       "    .dataframe thead th {\n",
       "        text-align: right;\n",
       "    }\n",
       "</style>\n",
       "<table border=\"1\" class=\"dataframe\">\n",
       "  <thead>\n",
       "    <tr style=\"text-align: right;\">\n",
       "      <th></th>\n",
       "      <th>id_dim_produit_stock_track_fk</th>\n",
       "      <th>stock_theorique_mois_precedent</th>\n",
       "      <th>distribution_effectuee</th>\n",
       "      <th>quantite_recue_stock</th>\n",
       "      <th>quantite_ppi</th>\n",
       "      <th>quantite_prelevee_cq</th>\n",
       "      <th>ajustement_stock</th>\n",
       "      <th>stock_theorique_final_sage</th>\n",
       "      <th>stock_theorique_final_attendu</th>\n",
       "      <th>ecarts</th>\n",
       "      <th>justification_ecarts</th>\n",
       "      <th>diligences</th>\n",
       "      <th>sdu_central_annexe_2</th>\n",
       "      <th>dmm_central_annexe_2</th>\n",
       "      <th>msd_central_annexe_2</th>\n",
       "      <th>statut_central_annexe_2</th>\n",
       "      <th>conso_decentralise_annexe_2</th>\n",
       "      <th>sdu_decentralise_annexe_2</th>\n",
       "      <th>cmm_decentralise_annexe_2</th>\n",
       "      <th>msd_decentralise_annexe_2</th>\n",
       "      <th>statut_decentralise_annexe_2</th>\n",
       "      <th>nombre_de_site_en_rupture_annexe_2</th>\n",
       "      <th>sdu_national_annexe_2</th>\n",
       "      <th>cmm_national_annexe_2</th>\n",
       "      <th>msd_national_annexe_2</th>\n",
       "      <th>statut_national_annexe_2</th>\n",
       "      <th>date_peremption_plus_proche_brute_annexe_2</th>\n",
       "      <th>date_peremption_plus_proche_annexe_2</th>\n",
       "      <th>quantite_correspondante_annexe_2</th>\n",
       "      <th>msd_correspondant_annexe_2</th>\n",
       "      <th>quantite_attendue_annexe_2</th>\n",
       "      <th>msd_attendu_annexe_2</th>\n",
       "      <th>quantite_non_stockee_annexe_2</th>\n",
       "      <th>msd_recu_annexe_2</th>\n",
       "      <th>financement_annexe_2</th>\n",
       "      <th>date_probable_livraison_annexe_2</th>\n",
       "      <th>date_effective_livraison_annexe_2</th>\n",
       "      <th>statut_annexe_2</th>\n",
       "      <th>analyse_risque_commentaires_annexe_2</th>\n",
       "      <th>diligences_central_annexe_2</th>\n",
       "      <th>diligences_peripherique_annexe_2</th>\n",
       "      <th>responsable_annexe_2</th>\n",
       "      <th>dilig_choisie_annexe_2</th>\n",
       "      <th>date_report</th>\n",
       "    </tr>\n",
       "  </thead>\n",
       "  <tbody>\n",
       "    <tr>\n",
       "      <th>0</th>\n",
       "      <td>1</td>\n",
       "      <td>736.0</td>\n",
       "      <td>255</td>\n",
       "      <td>0</td>\n",
       "      <td>25</td>\n",
       "      <td>0</td>\n",
       "      <td>NaN</td>\n",
       "      <td>501</td>\n",
       "      <td>456.0</td>\n",
       "      <td>45.0</td>\n",
       "      <td>NaN</td>\n",
       "      <td>NaN</td>\n",
       "      <td>501</td>\n",
       "      <td>2002.333333</td>\n",
       "      <td>0,3</td>\n",
       "      <td>Sous-Stock</td>\n",
       "      <td>1760</td>\n",
       "      <td>6317</td>\n",
       "      <td>2141</td>\n",
       "      <td>3,0</td>\n",
       "      <td>Bien Stocké</td>\n",
       "      <td>24</td>\n",
       "      <td>6818</td>\n",
       "      <td>2141</td>\n",
       "      <td>3,2</td>\n",
       "      <td>Sous-Stock</td>\n",
       "      <td>2025-08-23</td>\n",
       "      <td>2025-08-23</td>\n",
       "      <td>412.0</td>\n",
       "      <td>0,2</td>\n",
       "      <td>15100.0</td>\n",
       "      <td>7,5</td>\n",
       "      <td>0</td>\n",
       "      <td>0,0</td>\n",
       "      <td></td>\n",
       "      <td>2025-07-31</td>\n",
       "      <td>NaN</td>\n",
       "      <td>Approuvé</td>\n",
       "      <td>NaN</td>\n",
       "      <td>NaN</td>\n",
       "      <td>NaN</td>\n",
       "      <td>NaN</td>\n",
       "      <td>NaN</td>\n",
       "      <td>2025-03-01</td>\n",
       "    </tr>\n",
       "    <tr>\n",
       "      <th>1</th>\n",
       "      <td>2</td>\n",
       "      <td>-592.0</td>\n",
       "      <td>2</td>\n",
       "      <td>0</td>\n",
       "      <td>19</td>\n",
       "      <td>0</td>\n",
       "      <td>NaN</td>\n",
       "      <td>2</td>\n",
       "      <td>-613.0</td>\n",
       "      <td>615.0</td>\n",
       "      <td>NaN</td>\n",
       "      <td>NaN</td>\n",
       "      <td>2</td>\n",
       "      <td>6260.000000</td>\n",
       "      <td>0,0</td>\n",
       "      <td>Sous-Stock</td>\n",
       "      <td>7281</td>\n",
       "      <td>13945</td>\n",
       "      <td>8254</td>\n",
       "      <td>1,7</td>\n",
       "      <td>Sous-Stock</td>\n",
       "      <td>25</td>\n",
       "      <td>13947</td>\n",
       "      <td>8254</td>\n",
       "      <td>1,7</td>\n",
       "      <td>Sous-Stock</td>\n",
       "      <td>2026-06-01</td>\n",
       "      <td>2026-06-01</td>\n",
       "      <td>2.0</td>\n",
       "      <td>0,0</td>\n",
       "      <td>45043.0</td>\n",
       "      <td>7,2</td>\n",
       "      <td>0</td>\n",
       "      <td>0,0</td>\n",
       "      <td></td>\n",
       "      <td>2026-01-31</td>\n",
       "      <td>NaN</td>\n",
       "      <td>Planifié</td>\n",
       "      <td>NaN</td>\n",
       "      <td>NaN</td>\n",
       "      <td>NaN</td>\n",
       "      <td>NaN</td>\n",
       "      <td>NaN</td>\n",
       "      <td>2025-03-01</td>\n",
       "    </tr>\n",
       "    <tr>\n",
       "      <th>2</th>\n",
       "      <td>3</td>\n",
       "      <td>4300.0</td>\n",
       "      <td>0</td>\n",
       "      <td>0</td>\n",
       "      <td>0</td>\n",
       "      <td>0</td>\n",
       "      <td>NaN</td>\n",
       "      <td>4300</td>\n",
       "      <td>4300.0</td>\n",
       "      <td>0.0</td>\n",
       "      <td>NaN</td>\n",
       "      <td>NaN</td>\n",
       "      <td>4300</td>\n",
       "      <td>0.000000</td>\n",
       "      <td>ND</td>\n",
       "      <td>Stock dormant</td>\n",
       "      <td>0</td>\n",
       "      <td>0</td>\n",
       "      <td>0</td>\n",
       "      <td>0,0</td>\n",
       "      <td>Rupture</td>\n",
       "      <td>0</td>\n",
       "      <td>4300</td>\n",
       "      <td>0</td>\n",
       "      <td>ND</td>\n",
       "      <td>Stock dormant</td>\n",
       "      <td>2027-05-01</td>\n",
       "      <td>2027-05-01</td>\n",
       "      <td>4300.0</td>\n",
       "      <td>NA</td>\n",
       "      <td>0.0</td>\n",
       "      <td>0,0</td>\n",
       "      <td>0</td>\n",
       "      <td>0,0</td>\n",
       "      <td></td>\n",
       "      <td>NaT</td>\n",
       "      <td>NaN</td>\n",
       "      <td></td>\n",
       "      <td>NaN</td>\n",
       "      <td>NaN</td>\n",
       "      <td>NaN</td>\n",
       "      <td>NaN</td>\n",
       "      <td>NaN</td>\n",
       "      <td>2025-03-01</td>\n",
       "    </tr>\n",
       "  </tbody>\n",
       "</table>\n",
       "</div>"
      ],
      "text/plain": [
       "   id_dim_produit_stock_track_fk  stock_theorique_mois_precedent  \\\n",
       "0                              1                           736.0   \n",
       "1                              2                          -592.0   \n",
       "2                              3                          4300.0   \n",
       "\n",
       "   distribution_effectuee  quantite_recue_stock  quantite_ppi  \\\n",
       "0                     255                     0            25   \n",
       "1                       2                     0            19   \n",
       "2                       0                     0             0   \n",
       "\n",
       "   quantite_prelevee_cq  ajustement_stock  stock_theorique_final_sage  \\\n",
       "0                     0               NaN                         501   \n",
       "1                     0               NaN                           2   \n",
       "2                     0               NaN                        4300   \n",
       "\n",
       "   stock_theorique_final_attendu  ecarts  justification_ecarts  diligences  \\\n",
       "0                          456.0    45.0                   NaN         NaN   \n",
       "1                         -613.0   615.0                   NaN         NaN   \n",
       "2                         4300.0     0.0                   NaN         NaN   \n",
       "\n",
       "   sdu_central_annexe_2  dmm_central_annexe_2 msd_central_annexe_2  \\\n",
       "0                   501           2002.333333                  0,3   \n",
       "1                     2           6260.000000                  0,0   \n",
       "2                  4300              0.000000                   ND   \n",
       "\n",
       "  statut_central_annexe_2  conso_decentralise_annexe_2  \\\n",
       "0              Sous-Stock                         1760   \n",
       "1              Sous-Stock                         7281   \n",
       "2           Stock dormant                            0   \n",
       "\n",
       "   sdu_decentralise_annexe_2  cmm_decentralise_annexe_2  \\\n",
       "0                       6317                       2141   \n",
       "1                      13945                       8254   \n",
       "2                          0                          0   \n",
       "\n",
       "  msd_decentralise_annexe_2 statut_decentralise_annexe_2  \\\n",
       "0                       3,0                  Bien Stocké   \n",
       "1                       1,7                   Sous-Stock   \n",
       "2                       0,0                      Rupture   \n",
       "\n",
       "   nombre_de_site_en_rupture_annexe_2  sdu_national_annexe_2  \\\n",
       "0                                  24                   6818   \n",
       "1                                  25                  13947   \n",
       "2                                   0                   4300   \n",
       "\n",
       "   cmm_national_annexe_2 msd_national_annexe_2 statut_national_annexe_2  \\\n",
       "0                   2141                   3,2               Sous-Stock   \n",
       "1                   8254                   1,7               Sous-Stock   \n",
       "2                      0                    ND            Stock dormant   \n",
       "\n",
       "  date_peremption_plus_proche_brute_annexe_2  \\\n",
       "0                                 2025-08-23   \n",
       "1                                 2026-06-01   \n",
       "2                                 2027-05-01   \n",
       "\n",
       "  date_peremption_plus_proche_annexe_2  quantite_correspondante_annexe_2  \\\n",
       "0                           2025-08-23                             412.0   \n",
       "1                           2026-06-01                               2.0   \n",
       "2                           2027-05-01                            4300.0   \n",
       "\n",
       "  msd_correspondant_annexe_2  quantite_attendue_annexe_2 msd_attendu_annexe_2  \\\n",
       "0                        0,2                     15100.0                  7,5   \n",
       "1                        0,0                     45043.0                  7,2   \n",
       "2                         NA                         0.0                  0,0   \n",
       "\n",
       "   quantite_non_stockee_annexe_2 msd_recu_annexe_2 financement_annexe_2  \\\n",
       "0                              0               0,0                        \n",
       "1                              0               0,0                        \n",
       "2                              0               0,0                        \n",
       "\n",
       "  date_probable_livraison_annexe_2  date_effective_livraison_annexe_2  \\\n",
       "0                       2025-07-31                                NaN   \n",
       "1                       2026-01-31                                NaN   \n",
       "2                              NaT                                NaN   \n",
       "\n",
       "  statut_annexe_2  analyse_risque_commentaires_annexe_2  \\\n",
       "0        Approuvé                                   NaN   \n",
       "1        Planifié                                   NaN   \n",
       "2                                                   NaN   \n",
       "\n",
       "   diligences_central_annexe_2  diligences_peripherique_annexe_2  \\\n",
       "0                          NaN                               NaN   \n",
       "1                          NaN                               NaN   \n",
       "2                          NaN                               NaN   \n",
       "\n",
       "   responsable_annexe_2  dilig_choisie_annexe_2 date_report  \n",
       "0                   NaN                     NaN  2025-03-01  \n",
       "1                   NaN                     NaN  2025-03-01  \n",
       "2                   NaN                     NaN  2025-03-01  "
      ]
     },
     "metadata": {},
     "output_type": "display_data"
    },
    {
     "name": "stdout",
     "output_type": "stream",
     "text": [
      "CPU times: user 472 ms, sys: 3.83 ms, total: 476 ms\n",
      "Wall time: 476 ms\n"
     ]
    }
   ],
   "source": [
    "%%time\n",
    "df_etat_stock = compute_indicators.annexe_2(\n",
    "    df_etat_stock,\n",
    "    df_dmm_curent.copy(),\n",
    "    df_stock_prog_nat.copy(),\n",
    "    df_etat_stock_periph.copy(),\n",
    "    df_stock_detaille.copy(),\n",
    "    df_receptions.copy(),\n",
    "    df_plan_approv.copy(),\n",
    "    date_report,\n",
    ")"
   ]
  },
  {
   "cell_type": "markdown",
   "id": "76c5e978-145b-4cb3-aa25-fb14eb470ff4",
   "metadata": {
    "papermill": {
     "duration": 3.311,
     "end_time": "2025-05-12T17:46:06.174787",
     "exception": false,
     "start_time": "2025-05-12T17:46:02.863787",
     "status": "completed"
    },
    "tags": []
   },
   "source": [
    "# V.Exportation des données\n",
    "\n",
    "Avant d’exporter les données, il est essentiel de s’assurer qu’aucune information relative à la période en cours n’est déjà présente dans les différentes tables.  \r\n",
    "Si des données existent, une suppression devra être effectuée avant l’export."
   ]
  },
  {
   "cell_type": "markdown",
   "id": "040e8f88-31a1-4bd0-a32b-d2a10d2aa29b",
   "metadata": {
    "papermill": {
     "duration": 0.185082,
     "end_time": "2025-05-12T17:46:06.676958",
     "exception": false,
     "start_time": "2025-05-12T17:46:06.491876",
     "status": "completed"
    },
    "tags": []
   },
   "source": [
    "## 1. `Etat de Stock`"
   ]
  },
  {
   "cell_type": "code",
   "execution_count": 28,
   "id": "69402d6e-0979-4fe7-aef4-7a578d7c4948",
   "metadata": {
    "execution": {
     "iopub.execute_input": "2025-05-12T17:46:07.978258Z",
     "iopub.status.busy": "2025-05-12T17:46:07.977766Z",
     "iopub.status.idle": "2025-05-12T17:46:07.995026Z",
     "shell.execute_reply": "2025-05-12T17:46:07.993731Z"
    },
    "papermill": {
     "duration": 1.125979,
     "end_time": "2025-05-12T17:46:07.997790",
     "exception": false,
     "start_time": "2025-05-12T17:46:06.871811",
     "status": "completed"
    },
    "tags": []
   },
   "outputs": [],
   "source": [
    "id_list = list(map(int, df_etat_stock.id_dim_produit_stock_track_fk.unique()))\n",
    "placeholders = \", \".join([\"%s\"] * len(id_list))\n",
    "\n",
    "query = f\"\"\"\n",
    "DELETE FROM {schema_name}.stock_track\n",
    "WHERE date_report = '{date_report}' AND id_dim_produit_stock_track_fk IN ({placeholders});\n",
    "\"\"\"\n",
    "\n",
    "stock_sync_manager.civ_cursor.execute(query, list(id_list))\n",
    "stock_sync_manager.conn.commit()"
   ]
  },
  {
   "cell_type": "code",
   "execution_count": 29,
   "id": "92ca91ab-0797-414f-8c9c-3c5a185a2d0f",
   "metadata": {
    "execution": {
     "iopub.execute_input": "2025-05-12T17:46:08.412155Z",
     "iopub.status.busy": "2025-05-12T17:46:08.411749Z",
     "iopub.status.idle": "2025-05-12T17:46:08.537520Z",
     "shell.execute_reply": "2025-05-12T17:46:08.536329Z"
    },
    "papermill": {
     "duration": 0.340996,
     "end_time": "2025-05-12T17:46:08.539697",
     "exception": false,
     "start_time": "2025-05-12T17:46:08.198701",
     "status": "completed"
    },
    "tags": []
   },
   "outputs": [
    {
     "data": {
      "text/plain": [
       "'Insertion de 39 enrégistrements réussie'"
      ]
     },
     "execution_count": 29,
     "metadata": {},
     "output_type": "execute_result"
    }
   ],
   "source": [
    "assert df_etat_stock.date_report.unique().shape[0] == 1\n",
    "\n",
    "stock_sync_manager.insert_dataframe_to_table(df_etat_stock, \"stock_track\")"
   ]
  },
  {
   "cell_type": "markdown",
   "id": "08ed5151-ee3a-421c-8a19-5c03d4fd165b",
   "metadata": {
    "papermill": {
     "duration": 0.195492,
     "end_time": "2025-05-12T17:46:09.178935",
     "exception": false,
     "start_time": "2025-05-12T17:46:08.983443",
     "status": "completed"
    },
    "tags": []
   },
   "source": [
    "## 2. `Distributions`"
   ]
  },
  {
   "cell_type": "markdown",
   "id": "49e72b21-a586-4738-a5c9-95501a6db06c",
   "metadata": {
    "papermill": {
     "duration": 0.273022,
     "end_time": "2025-05-12T17:46:16.908078",
     "exception": false,
     "start_time": "2025-05-12T17:46:16.635056",
     "status": "completed"
    },
    "tags": []
   },
   "source": [
    "### 2.1.`Distributions mois courant` "
   ]
  },
  {
   "cell_type": "code",
   "execution_count": 30,
   "id": "6521c5ac-f762-4e55-b890-7d9751143a2e",
   "metadata": {
    "execution": {
     "iopub.execute_input": "2025-05-12T17:46:17.298880Z",
     "iopub.status.busy": "2025-05-12T17:46:17.298421Z",
     "iopub.status.idle": "2025-05-12T17:46:17.326634Z",
     "shell.execute_reply": "2025-05-12T17:46:17.325577Z"
    },
    "papermill": {
     "duration": 0.23061,
     "end_time": "2025-05-12T17:46:17.328997",
     "exception": false,
     "start_time": "2025-05-12T17:46:17.098387",
     "status": "completed"
    },
    "tags": []
   },
   "outputs": [],
   "source": [
    "id_list = list(map(int, df_dmm_curent.id_dim_produit_stock_track_fk.unique()))\n",
    "placeholders = \", \".join([\"%s\"] * len(id_list))\n",
    "\n",
    "query = f\"\"\"\n",
    "DELETE FROM {schema_name}.stock_track_dmm\n",
    "WHERE date_report = %s AND id_dim_produit_stock_track_fk IN ({placeholders});\n",
    "\"\"\"\n",
    "\n",
    "stock_sync_manager.civ_cursor.execute(query, [date_report] + list(id_list))\n",
    "stock_sync_manager.conn.commit()"
   ]
  },
  {
   "cell_type": "code",
   "execution_count": 31,
   "id": "0a8a2973-b667-403c-8102-fb9417afdf11",
   "metadata": {
    "execution": {
     "iopub.execute_input": "2025-05-12T17:46:17.681897Z",
     "iopub.status.busy": "2025-05-12T17:46:17.681394Z",
     "iopub.status.idle": "2025-05-12T17:46:17.734607Z",
     "shell.execute_reply": "2025-05-12T17:46:17.733556Z"
    },
    "papermill": {
     "duration": 0.235459,
     "end_time": "2025-05-12T17:46:17.736990",
     "exception": false,
     "start_time": "2025-05-12T17:46:17.501531",
     "status": "completed"
    },
    "tags": []
   },
   "outputs": [
    {
     "data": {
      "text/plain": [
       "'Insertion de 39 enrégistrements réussie'"
      ]
     },
     "execution_count": 31,
     "metadata": {},
     "output_type": "execute_result"
    }
   ],
   "source": [
    "assert df_dmm_curent.date_report.unique().shape[0] == 1\n",
    "\n",
    "stock_sync_manager.insert_dataframe_to_table(df_dmm_curent, \"stock_track_dmm\")"
   ]
  },
  {
   "cell_type": "markdown",
   "id": "1bf275e1-f2ea-4d6d-8205-713e903663d0",
   "metadata": {
    "papermill": {
     "duration": 0.341794,
     "end_time": "2025-05-12T17:46:19.175397",
     "exception": false,
     "start_time": "2025-05-12T17:46:18.833603",
     "status": "completed"
    },
    "tags": []
   },
   "source": [
    "### 2.2.`Distributions hitoriques considérées pour le mois en cours`"
   ]
  },
  {
   "cell_type": "code",
   "execution_count": 32,
   "id": "4b89b9f1-3f48-4e83-9c2f-43b49edfeb78",
   "metadata": {
    "execution": {
     "iopub.execute_input": "2025-05-12T17:46:26.600761Z",
     "iopub.status.busy": "2025-05-12T17:46:26.600271Z",
     "iopub.status.idle": "2025-05-12T17:46:26.614732Z",
     "shell.execute_reply": "2025-05-12T17:46:26.613448Z"
    },
    "papermill": {
     "duration": 0.207149,
     "end_time": "2025-05-12T17:46:26.617012",
     "exception": false,
     "start_time": "2025-05-12T17:46:26.409863",
     "status": "completed"
    },
    "tags": []
   },
   "outputs": [],
   "source": [
    "id_list = list(map(int, df_dmm_histo.id_dim_produit_stock_track_fk.unique()))\n",
    "placeholders = \", \".join([\"%s\"] * len(id_list))\n",
    "\n",
    "query = f\"\"\"\n",
    "DELETE FROM {schema_name}.stock_track_dmm_histo\n",
    "WHERE date_report = %s AND id_dim_produit_stock_track_fk IN ({placeholders});\n",
    "\"\"\"\n",
    "\n",
    "stock_sync_manager.civ_cursor.execute(query, [date_report] + list(id_list))\n",
    "stock_sync_manager.conn.commit()"
   ]
  },
  {
   "cell_type": "code",
   "execution_count": 33,
   "id": "8ea960f0-b89f-4b63-ae20-4ebb25009608",
   "metadata": {
    "execution": {
     "iopub.execute_input": "2025-05-12T17:46:27.090840Z",
     "iopub.status.busy": "2025-05-12T17:46:27.090443Z",
     "iopub.status.idle": "2025-05-12T17:46:27.163767Z",
     "shell.execute_reply": "2025-05-12T17:46:27.162624Z"
    },
    "papermill": {
     "duration": 0.275007,
     "end_time": "2025-05-12T17:46:27.165920",
     "exception": false,
     "start_time": "2025-05-12T17:46:26.890913",
     "status": "completed"
    },
    "tags": []
   },
   "outputs": [
    {
     "data": {
      "text/plain": [
       "'Insertion de 234 enrégistrements réussie'"
      ]
     },
     "execution_count": 33,
     "metadata": {},
     "output_type": "execute_result"
    }
   ],
   "source": [
    "assert df_dmm_histo.date_report.unique().shape[0] == 1\n",
    "\n",
    "stock_sync_manager.insert_dataframe_to_table(df_dmm_histo, \"stock_track_dmm_histo\")"
   ]
  },
  {
   "cell_type": "markdown",
   "id": "e131d312-d116-4302-98e5-c568b1e2e2a7",
   "metadata": {
    "papermill": {
     "duration": 0.215997,
     "end_time": "2025-05-12T17:46:27.588964",
     "exception": false,
     "start_time": "2025-05-12T17:46:27.372967",
     "status": "completed"
    },
    "tags": []
   },
   "source": [
    "## 3.`Consommations`"
   ]
  },
  {
   "cell_type": "markdown",
   "id": "705086d0-c23a-4856-bc5b-cd1ca88b99af",
   "metadata": {
    "papermill": {
     "duration": 5.386216,
     "end_time": "2025-05-12T17:46:33.396749",
     "exception": false,
     "start_time": "2025-05-12T17:46:28.010533",
     "status": "completed"
    },
    "tags": []
   },
   "source": [
    "### 3.1. `Consommations mois courant`"
   ]
  },
  {
   "cell_type": "code",
   "execution_count": 34,
   "id": "2e0f6f54-86c1-4583-bb9a-a15dbd160f12",
   "metadata": {
    "execution": {
     "iopub.execute_input": "2025-05-12T17:46:37.285688Z",
     "iopub.status.busy": "2025-05-12T17:46:37.284788Z",
     "iopub.status.idle": "2025-05-12T17:46:37.300124Z",
     "shell.execute_reply": "2025-05-12T17:46:37.298899Z"
    },
    "papermill": {
     "duration": 2.525393,
     "end_time": "2025-05-12T17:46:37.302119",
     "exception": false,
     "start_time": "2025-05-12T17:46:34.776726",
     "status": "completed"
    },
    "tags": []
   },
   "outputs": [],
   "source": [
    "id_list = list(map(int, df_cmm_curent.id_dim_produit_stock_track_fk.unique()))\n",
    "placeholders = \", \".join([\"%s\"] * len(id_list))\n",
    "\n",
    "query = f\"\"\"\n",
    "DELETE FROM {schema_name}.stock_track_cmm\n",
    "WHERE date_report = %s AND id_dim_produit_stock_track_fk IN ({placeholders});\n",
    "\"\"\"\n",
    "\n",
    "stock_sync_manager.civ_cursor.execute(query, [date_report] + list(id_list))\n",
    "stock_sync_manager.conn.commit()"
   ]
  },
  {
   "cell_type": "code",
   "execution_count": 35,
   "id": "42f04db9-4a08-4a21-a68e-5adf91cd5550",
   "metadata": {
    "execution": {
     "iopub.execute_input": "2025-05-12T17:46:37.724822Z",
     "iopub.status.busy": "2025-05-12T17:46:37.723184Z",
     "iopub.status.idle": "2025-05-12T17:46:37.782745Z",
     "shell.execute_reply": "2025-05-12T17:46:37.781667Z"
    },
    "papermill": {
     "duration": 0.257004,
     "end_time": "2025-05-12T17:46:37.784711",
     "exception": false,
     "start_time": "2025-05-12T17:46:37.527707",
     "status": "completed"
    },
    "tags": []
   },
   "outputs": [
    {
     "data": {
      "text/plain": [
       "'Insertion de 39 enrégistrements réussie'"
      ]
     },
     "execution_count": 35,
     "metadata": {},
     "output_type": "execute_result"
    }
   ],
   "source": [
    "assert df_cmm_curent.date_report.unique().shape[0] == 1\n",
    "\n",
    "stock_sync_manager.insert_dataframe_to_table(df_cmm_curent, \"stock_track_cmm\")"
   ]
  },
  {
   "cell_type": "markdown",
   "id": "17810bb8-a058-442e-b3ff-e6e15d22e308",
   "metadata": {
    "papermill": {
     "duration": 0.17493,
     "end_time": "2025-05-12T17:46:38.161436",
     "exception": false,
     "start_time": "2025-05-12T17:46:37.986506",
     "status": "completed"
    },
    "tags": []
   },
   "source": [
    "### 3.2.`Consommations hitoriques considérées pour le mois en cours`"
   ]
  },
  {
   "cell_type": "code",
   "execution_count": 36,
   "id": "6620b4be-6236-48cb-ac47-ab56e9970189",
   "metadata": {
    "execution": {
     "iopub.execute_input": "2025-05-12T17:46:40.370432Z",
     "iopub.status.busy": "2025-05-12T17:46:40.369358Z",
     "iopub.status.idle": "2025-05-12T17:46:40.385320Z",
     "shell.execute_reply": "2025-05-12T17:46:40.384070Z"
    },
    "papermill": {
     "duration": 2.027934,
     "end_time": "2025-05-12T17:46:40.387743",
     "exception": false,
     "start_time": "2025-05-12T17:46:38.359809",
     "status": "completed"
    },
    "tags": []
   },
   "outputs": [],
   "source": [
    "id_list = list(map(int, df_cmm_histo.id_dim_produit_stock_track_fk.unique()))\n",
    "placeholders = \", \".join([\"%s\"] * len(id_list))\n",
    "\n",
    "query = f\"\"\"\n",
    "DELETE FROM {schema_name}.stock_track_cmm_histo\n",
    "WHERE date_report = %s AND id_dim_produit_stock_track_fk IN ({placeholders});\n",
    "\"\"\"\n",
    "\n",
    "stock_sync_manager.civ_cursor.execute(query, [date_report] + list(id_list))\n",
    "stock_sync_manager.conn.commit()"
   ]
  },
  {
   "cell_type": "code",
   "execution_count": 37,
   "id": "c259b171-ca49-4521-9228-885b23fd4b6c",
   "metadata": {
    "execution": {
     "iopub.execute_input": "2025-05-12T17:46:46.613661Z",
     "iopub.status.busy": "2025-05-12T17:46:46.610879Z",
     "iopub.status.idle": "2025-05-12T17:46:46.900156Z",
     "shell.execute_reply": "2025-05-12T17:46:46.896554Z"
    },
    "papermill": {
     "duration": 0.659448,
     "end_time": "2025-05-12T17:46:46.907662",
     "exception": false,
     "start_time": "2025-05-12T17:46:46.248214",
     "status": "completed"
    },
    "tags": []
   },
   "outputs": [
    {
     "data": {
      "text/plain": [
       "'Insertion de 234 enrégistrements réussie'"
      ]
     },
     "execution_count": 37,
     "metadata": {},
     "output_type": "execute_result"
    }
   ],
   "source": [
    "assert df_dmm_histo.date_report.unique().shape[0] == 1\n",
    "\n",
    "stock_sync_manager.insert_dataframe_to_table(df_cmm_histo, \"stock_track_cmm_histo\")"
   ]
  },
  {
   "cell_type": "markdown",
   "id": "0c75f908-6510-42b7-9e4e-9d11f2a3caff",
   "metadata": {
    "papermill": {
     "duration": 0.285468,
     "end_time": "2025-05-12T17:46:47.552837",
     "exception": false,
     "start_time": "2025-05-12T17:46:47.267369",
     "status": "completed"
    },
    "tags": []
   },
   "source": [
    "## 4.`Stock détaillé`"
   ]
  },
  {
   "cell_type": "code",
   "execution_count": 38,
   "id": "0b0b73f7-3add-486f-9dd3-e3d900aba61d",
   "metadata": {
    "execution": {
     "iopub.execute_input": "2025-05-12T17:46:48.557845Z",
     "iopub.status.busy": "2025-05-12T17:46:48.550627Z",
     "iopub.status.idle": "2025-05-12T17:46:48.606802Z",
     "shell.execute_reply": "2025-05-12T17:46:48.601600Z"
    },
    "papermill": {
     "duration": 0.77452,
     "end_time": "2025-05-12T17:46:48.614902",
     "exception": false,
     "start_time": "2025-05-12T17:46:47.840382",
     "status": "completed"
    },
    "tags": []
   },
   "outputs": [],
   "source": [
    "dim_produit = pd.read_sql(\n",
    "    f\"SELECT * FROM {schema_name}.dim_produit_stock_track where programme='{programme}'\",\n",
    "    stock_sync_manager.civ_engine,\n",
    ")"
   ]
  },
  {
   "cell_type": "code",
   "execution_count": 39,
   "id": "c876a5cd-de28-494a-9e81-88fd9de9024f",
   "metadata": {
    "execution": {
     "iopub.execute_input": "2025-05-12T17:46:49.248085Z",
     "iopub.status.busy": "2025-05-12T17:46:49.244047Z",
     "iopub.status.idle": "2025-05-12T17:46:49.345212Z",
     "shell.execute_reply": "2025-05-12T17:46:49.341368Z"
    },
    "papermill": {
     "duration": 0.411883,
     "end_time": "2025-05-12T17:46:49.350771",
     "exception": false,
     "start_time": "2025-05-12T17:46:48.938888",
     "status": "completed"
    },
    "tags": []
   },
   "outputs": [
    {
     "data": {
      "text/html": [
       "<div>\n",
       "<style scoped>\n",
       "    .dataframe tbody tr th:only-of-type {\n",
       "        vertical-align: middle;\n",
       "    }\n",
       "\n",
       "    .dataframe tbody tr th {\n",
       "        vertical-align: top;\n",
       "    }\n",
       "\n",
       "    .dataframe thead th {\n",
       "        text-align: right;\n",
       "    }\n",
       "</style>\n",
       "<table border=\"1\" class=\"dataframe\">\n",
       "  <thead>\n",
       "    <tr style=\"text-align: right;\">\n",
       "      <th></th>\n",
       "      <th>code_produit</th>\n",
       "      <th>designation_produit</th>\n",
       "      <th>emplacement</th>\n",
       "      <th>date_limite_consommation</th>\n",
       "      <th>numero_lot</th>\n",
       "      <th>sous_lot_programme</th>\n",
       "      <th>qte_physique</th>\n",
       "      <th>qte_livrable</th>\n",
       "      <th>unit</th>\n",
       "    </tr>\n",
       "  </thead>\n",
       "  <tbody>\n",
       "    <tr>\n",
       "      <th>2</th>\n",
       "      <td>4030247</td>\n",
       "      <td>LAME PORTE OBJET BTE/50</td>\n",
       "      <td>01A01A01</td>\n",
       "      <td>2025-09-01</td>\n",
       "      <td>09323</td>\n",
       "      <td>PNLP</td>\n",
       "      <td>100</td>\n",
       "      <td>0</td>\n",
       "      <td>BTE</td>\n",
       "    </tr>\n",
       "  </tbody>\n",
       "</table>\n",
       "</div>"
      ],
      "text/plain": [
       "   code_produit      designation_produit emplacement date_limite_consommation  \\\n",
       "2       4030247  LAME PORTE OBJET BTE/50    01A01A01               2025-09-01   \n",
       "\n",
       "  numero_lot sous_lot_programme  qte_physique  qte_livrable unit  \n",
       "2      09323               PNLP           100             0  BTE  "
      ]
     },
     "execution_count": 39,
     "metadata": {},
     "output_type": "execute_result"
    }
   ],
   "source": [
    "code_col = [col for col in df_stock_detaille.columns if \"CODE\" in str(col).upper()][0]\n",
    "\n",
    "df_stock_detaille.rename(\n",
    "    columns={\n",
    "        code_col: \"code_produit\",\n",
    "        \"Désignation\": \"designation_produit\",\n",
    "        \"Emplacement\": \"emplacement\",\n",
    "        \"Date limite de consommation\": \"date_limite_consommation\",\n",
    "        \"Numéro Lot\": \"numero_lot\",\n",
    "        \"Sous lot (Programme)\": \"sous_lot_programme\",\n",
    "        \"Qté \\nPhysique\": \"qte_physique\",\n",
    "        \"Qté \\nlivrable\": \"qte_livrable\",\n",
    "        \"Unit\": \"unit\",\n",
    "    },\n",
    "    inplace=True,\n",
    ")\n",
    "df_stock_detaille = df_stock_detaille[\n",
    "    [\n",
    "        \"code_produit\",\n",
    "        \"designation_produit\",\n",
    "        \"emplacement\",\n",
    "        \"date_limite_consommation\",\n",
    "        \"numero_lot\",\n",
    "        \"sous_lot_programme\",\n",
    "        \"qte_physique\",\n",
    "        \"qte_livrable\",\n",
    "        \"unit\",\n",
    "    ]\n",
    "]\n",
    "\n",
    "df_stock_detaille = df_stock_detaille.loc[\n",
    "    df_stock_detaille.code_produit.isin(dim_produit.code_produit)\n",
    "]\n",
    "df_stock_detaille.head(1)"
   ]
  },
  {
   "cell_type": "code",
   "execution_count": 40,
   "id": "c374989e-2d57-4ce8-8ea6-bb101672241e",
   "metadata": {
    "execution": {
     "iopub.execute_input": "2025-05-12T17:47:00.027115Z",
     "iopub.status.busy": "2025-05-12T17:47:00.024040Z",
     "iopub.status.idle": "2025-05-12T17:47:00.097120Z",
     "shell.execute_reply": "2025-05-12T17:47:00.093275Z"
    },
    "papermill": {
     "duration": 0.421659,
     "end_time": "2025-05-12T17:47:00.104800",
     "exception": false,
     "start_time": "2025-05-12T17:46:59.683141",
     "status": "completed"
    },
    "tags": []
   },
   "outputs": [],
   "source": [
    "df_stock_detaille = (\n",
    "    df_stock_detaille.groupby([\"code_produit\", \"date_limite_consommation\"])[\n",
    "        [\"qte_physique\", \"qte_livrable\"]\n",
    "    ]\n",
    "    .sum(min_count=1)\n",
    "    .reset_index()\n",
    ")\n",
    "\n",
    "df_stock_detaille = (\n",
    "    dim_produit[[\"id_dim_produit_stock_track_pk\", \"code_produit\"]]\n",
    "    .merge(df_stock_detaille, on=\"code_produit\")\n",
    "    .rename(columns={\"id_dim_produit_stock_track_pk\": \"id_dim_produit_stock_track_fk\"})\n",
    "    .drop(columns=[\"code_produit\"])\n",
    ")\n",
    "\n",
    "df_stock_detaille[\"date_report\"] = pd.to_datetime(date_report)"
   ]
  },
  {
   "cell_type": "code",
   "execution_count": 41,
   "id": "8c4a6d98-e14d-4742-a91e-0a40ec701ee5",
   "metadata": {
    "execution": {
     "iopub.execute_input": "2025-05-12T17:47:00.753350Z",
     "iopub.status.busy": "2025-05-12T17:47:00.748145Z",
     "iopub.status.idle": "2025-05-12T17:47:00.783247Z",
     "shell.execute_reply": "2025-05-12T17:47:00.779286Z"
    },
    "papermill": {
     "duration": 0.357715,
     "end_time": "2025-05-12T17:47:00.790372",
     "exception": false,
     "start_time": "2025-05-12T17:47:00.432657",
     "status": "completed"
    },
    "tags": []
   },
   "outputs": [],
   "source": [
    "id_list = list(map(int, df_stock_detaille.id_dim_produit_stock_track_fk.unique()))\n",
    "placeholders = \", \".join([\"%s\"] * len(id_list))\n",
    "\n",
    "query = f\"\"\"\n",
    "DELETE FROM {schema_name}.stock_track_detaille\n",
    "WHERE date_report = '{date_report}' AND id_dim_produit_stock_track_fk IN ({placeholders});\n",
    "\"\"\"\n",
    "\n",
    "stock_sync_manager.civ_cursor.execute(query, list(id_list))\n",
    "stock_sync_manager.conn.commit()"
   ]
  },
  {
   "cell_type": "code",
   "execution_count": 42,
   "id": "8f616ee2-8704-4eb2-a182-c65499a3b1dc",
   "metadata": {
    "execution": {
     "iopub.execute_input": "2025-05-12T17:47:01.431373Z",
     "iopub.status.busy": "2025-05-12T17:47:01.428893Z",
     "iopub.status.idle": "2025-05-12T17:47:01.603554Z",
     "shell.execute_reply": "2025-05-12T17:47:01.598370Z"
    },
    "papermill": {
     "duration": 0.526989,
     "end_time": "2025-05-12T17:47:01.612612",
     "exception": false,
     "start_time": "2025-05-12T17:47:01.085623",
     "status": "completed"
    },
    "tags": []
   },
   "outputs": [],
   "source": [
    "stock_sync_manager.insert_dataframe_to_table(df_stock_detaille, \"stock_track_detaille\")\n",
    "\n",
    "del df_stock_detaille"
   ]
  },
  {
   "cell_type": "markdown",
   "id": "fdec6090-24db-40ec-920d-854de310e532",
   "metadata": {
    "papermill": {
     "duration": 2.471747,
     "end_time": "2025-05-12T17:47:04.403097",
     "exception": false,
     "start_time": "2025-05-12T17:47:01.931350",
     "status": "completed"
    },
    "tags": []
   },
   "source": [
    "## 5. `Etat de stock de la NPSP`"
   ]
  },
  {
   "cell_type": "code",
   "execution_count": 43,
   "id": "89d9ea73-f635-42f3-8364-d8205843044e",
   "metadata": {
    "execution": {
     "iopub.execute_input": "2025-05-12T17:47:06.695260Z",
     "iopub.status.busy": "2025-05-12T17:47:06.694137Z",
     "iopub.status.idle": "2025-05-12T17:47:06.732854Z",
     "shell.execute_reply": "2025-05-12T17:47:06.727517Z"
    },
    "papermill": {
     "duration": 1.050315,
     "end_time": "2025-05-12T17:47:06.740808",
     "exception": false,
     "start_time": "2025-05-12T17:47:05.690493",
     "status": "completed"
    },
    "tags": []
   },
   "outputs": [],
   "source": [
    "query = f\"\"\"\n",
    "DELETE FROM {schema_name}.stock_track_npsp\n",
    "WHERE date_report = '{date_report}' and programme='{programme}';\n",
    "\"\"\"\n",
    "\n",
    "stock_sync_manager.civ_cursor.execute(query)\n",
    "stock_sync_manager.conn.commit()"
   ]
  },
  {
   "cell_type": "code",
   "execution_count": 44,
   "id": "fa060ab4-6bd8-44cd-bea2-8bbf1178782a",
   "metadata": {
    "execution": {
     "iopub.execute_input": "2025-05-12T17:47:07.436601Z",
     "iopub.status.busy": "2025-05-12T17:47:07.435337Z",
     "iopub.status.idle": "2025-05-12T17:47:07.510860Z",
     "shell.execute_reply": "2025-05-12T17:47:07.509771Z"
    },
    "papermill": {
     "duration": 0.296594,
     "end_time": "2025-05-12T17:47:07.513068",
     "exception": false,
     "start_time": "2025-05-12T17:47:07.216474",
     "status": "completed"
    },
    "tags": []
   },
   "outputs": [
    {
     "data": {
      "text/plain": [
       "'Insertion de 42 enrégistrements réussie'"
      ]
     },
     "execution_count": 44,
     "metadata": {},
     "output_type": "execute_result"
    }
   ],
   "source": [
    "stock_sync_manager.insert_dataframe_to_table(\n",
    "    df_etat_stock_npsp, table_name=\"stock_track_npsp\", schema_name=\"suivi_stock\"\n",
    ")"
   ]
  },
  {
   "cell_type": "markdown",
   "id": "e36a108a-15d9-4256-ad6e-a62fcd2933eb",
   "metadata": {
    "papermill": {
     "duration": 0.187839,
     "end_time": "2025-05-12T17:47:07.900469",
     "exception": false,
     "start_time": "2025-05-12T17:47:07.712630",
     "status": "completed"
    },
    "tags": []
   },
   "source": [
    "## 6.`Prévision`\n",
    "<div class=\"alert alert-block alert-warning\">\n",
    "Avant de procéder au calcul des éléments de prévision, il est essentiel de s’assurer que les informations produits sont à jour.\n",
    "Cette actualisation doit être effectuée à l’aide du fichier de mapping fourni en paramètre du pipeline.\n",
    "Ce fichier joue un rôle clé : il établit la correspondance entre les différentes sources de données, garantissant ainsi la cohérence et la fiabilité des informations utilisées pour les prévisions.\n",
    "\n",
    "</div>"
   ]
  },
  {
   "cell_type": "code",
   "execution_count": 45,
   "id": "1233e266-9e64-4468-b0e8-0a8997a922d8",
   "metadata": {
    "execution": {
     "iopub.execute_input": "2025-05-12T17:47:09.073323Z",
     "iopub.status.busy": "2025-05-12T17:47:09.072040Z",
     "iopub.status.idle": "2025-05-12T17:47:09.101149Z",
     "shell.execute_reply": "2025-05-12T17:47:09.099874Z"
    },
    "papermill": {
     "duration": 0.335251,
     "end_time": "2025-05-12T17:47:09.103303",
     "exception": false,
     "start_time": "2025-05-12T17:47:08.768052",
     "status": "completed"
    },
    "tags": []
   },
   "outputs": [
    {
     "data": {
      "text/plain": [
       "'Aucune mise à jour des données à effectuer sur la table dim_produit'"
      ]
     },
     "execution_count": 45,
     "metadata": {},
     "output_type": "execute_result"
    }
   ],
   "source": [
    "stock_sync_manager.synchronize_product_metadata(df_plan_approv.copy(), programme)"
   ]
  },
  {
   "cell_type": "code",
   "execution_count": 46,
   "id": "5951635c-2b33-4f6c-8ea0-713e2b7c8501",
   "metadata": {
    "execution": {
     "iopub.execute_input": "2025-05-12T17:47:18.765834Z",
     "iopub.status.busy": "2025-05-12T17:47:18.764913Z",
     "iopub.status.idle": "2025-05-12T17:47:18.775034Z",
     "shell.execute_reply": "2025-05-12T17:47:18.773831Z"
    },
    "papermill": {
     "duration": 9.115192,
     "end_time": "2025-05-12T17:47:18.777237",
     "exception": false,
     "start_time": "2025-05-12T17:47:09.662045",
     "status": "completed"
    },
    "tags": []
   },
   "outputs": [],
   "source": [
    "df_plan_approv['Date updated'] = df_plan_approv['DATE'].apply(lambda x: x.strftime(\"%b-%Y\"))"
   ]
  },
  {
   "cell_type": "code",
   "execution_count": 47,
   "id": "df8760ec-9a46-4a8f-838a-fb757d50b3d1",
   "metadata": {
    "execution": {
     "iopub.execute_input": "2025-05-12T17:47:19.326544Z",
     "iopub.status.busy": "2025-05-12T17:47:19.326035Z",
     "iopub.status.idle": "2025-05-12T17:47:32.157809Z",
     "shell.execute_reply": "2025-05-12T17:47:32.156519Z"
    },
    "papermill": {
     "duration": 13.069313,
     "end_time": "2025-05-12T17:47:32.170349",
     "exception": false,
     "start_time": "2025-05-12T17:47:19.101036",
     "status": "completed"
    },
    "tags": []
   },
   "outputs": [
    {
     "data": {
      "text/html": [
       "<div>\n",
       "<style scoped>\n",
       "    .dataframe tbody tr th:only-of-type {\n",
       "        vertical-align: middle;\n",
       "    }\n",
       "\n",
       "    .dataframe tbody tr th {\n",
       "        vertical-align: top;\n",
       "    }\n",
       "\n",
       "    .dataframe thead th {\n",
       "        text-align: right;\n",
       "    }\n",
       "</style>\n",
       "<table border=\"1\" class=\"dataframe\">\n",
       "  <thead>\n",
       "    <tr style=\"text-align: right;\">\n",
       "      <th></th>\n",
       "      <th>id_dim_produit_stock_track_fk</th>\n",
       "      <th>code_produit</th>\n",
       "      <th>ancien_code</th>\n",
       "      <th>stock_central</th>\n",
       "      <th>dmm_central</th>\n",
       "      <th>stock_national</th>\n",
       "      <th>cmm_national</th>\n",
       "      <th>stock_prev_central</th>\n",
       "      <th>stock_prev_national</th>\n",
       "      <th>period_prev</th>\n",
       "      <th>date_report</th>\n",
       "    </tr>\n",
       "  </thead>\n",
       "  <tbody>\n",
       "    <tr>\n",
       "      <th>0</th>\n",
       "      <td>14</td>\n",
       "      <td>3010049</td>\n",
       "      <td>AY13071</td>\n",
       "      <td>92397.0</td>\n",
       "      <td>5003.3335</td>\n",
       "      <td>105553.0</td>\n",
       "      <td>4922.0</td>\n",
       "      <td>18</td>\n",
       "      <td>21</td>\n",
       "      <td>2025-03-01</td>\n",
       "      <td>2025-03-01</td>\n",
       "    </tr>\n",
       "    <tr>\n",
       "      <th>1</th>\n",
       "      <td>14</td>\n",
       "      <td>3010049</td>\n",
       "      <td>AY13071</td>\n",
       "      <td>NaN</td>\n",
       "      <td>NaN</td>\n",
       "      <td>NaN</td>\n",
       "      <td>NaN</td>\n",
       "      <td>17</td>\n",
       "      <td>20</td>\n",
       "      <td>2025-04-01</td>\n",
       "      <td>2025-03-01</td>\n",
       "    </tr>\n",
       "    <tr>\n",
       "      <th>2</th>\n",
       "      <td>14</td>\n",
       "      <td>3010049</td>\n",
       "      <td>AY13071</td>\n",
       "      <td>NaN</td>\n",
       "      <td>NaN</td>\n",
       "      <td>NaN</td>\n",
       "      <td>NaN</td>\n",
       "      <td>16</td>\n",
       "      <td>19</td>\n",
       "      <td>2025-05-01</td>\n",
       "      <td>2025-03-01</td>\n",
       "    </tr>\n",
       "  </tbody>\n",
       "</table>\n",
       "</div>"
      ],
      "text/plain": [
       "   id_dim_produit_stock_track_fk  code_produit ancien_code  stock_central  \\\n",
       "0                             14       3010049     AY13071        92397.0   \n",
       "1                             14       3010049     AY13071            NaN   \n",
       "2                             14       3010049     AY13071            NaN   \n",
       "\n",
       "   dmm_central  stock_national  cmm_national stock_prev_central  \\\n",
       "0    5003.3335        105553.0        4922.0                 18   \n",
       "1          NaN             NaN           NaN                 17   \n",
       "2          NaN             NaN           NaN                 16   \n",
       "\n",
       "  stock_prev_national period_prev date_report  \n",
       "0                  21  2025-03-01  2025-03-01  \n",
       "1                  20  2025-04-01  2025-03-01  \n",
       "2                  19  2025-05-01  2025-03-01  "
      ]
     },
     "metadata": {},
     "output_type": "display_data"
    }
   ],
   "source": [
    "df_prevision = compute_indicators.prevision.get_prevision_current_month(\n",
    "    df_plan_approv.copy(),\n",
    "    date_report,\n",
    "    programme,\n",
    "    stock_sync_manager.civ_engine,\n",
    "    schema_name=\"suivi_stock\",\n",
    ")"
   ]
  },
  {
   "cell_type": "code",
   "execution_count": 48,
   "id": "6b5134dd-8cbc-4f9b-8671-af020adbb5cc",
   "metadata": {
    "execution": {
     "iopub.execute_input": "2025-05-12T17:47:32.856835Z",
     "iopub.status.busy": "2025-05-12T17:47:32.853687Z",
     "iopub.status.idle": "2025-05-12T17:47:32.890875Z",
     "shell.execute_reply": "2025-05-12T17:47:32.888715Z"
    },
    "papermill": {
     "duration": 0.365665,
     "end_time": "2025-05-12T17:47:32.895117",
     "exception": false,
     "start_time": "2025-05-12T17:47:32.529452",
     "status": "completed"
    },
    "tags": []
   },
   "outputs": [],
   "source": [
    "id_list = list(map(int, df_prevision.id_dim_produit_stock_track_fk.unique()))\n",
    "placeholders = \", \".join([\"%s\"] * len(id_list))\n",
    "\n",
    "query = f\"\"\"\n",
    "DELETE FROM {schema_name}.stock_track_prevision\n",
    "WHERE date_report = %s AND id_dim_produit_stock_track_fk IN ({placeholders});\n",
    "\"\"\"\n",
    "stock_sync_manager.civ_cursor.execute(query, [date_report] + list(id_list))\n",
    "stock_sync_manager.conn.commit()"
   ]
  },
  {
   "cell_type": "code",
   "execution_count": 49,
   "id": "b2cba3cf-54d4-40a9-81e4-db8ffc8af896",
   "metadata": {
    "execution": {
     "iopub.execute_input": "2025-05-12T17:47:33.673402Z",
     "iopub.status.busy": "2025-05-12T17:47:33.672791Z",
     "iopub.status.idle": "2025-05-12T17:47:34.298595Z",
     "shell.execute_reply": "2025-05-12T17:47:34.297467Z"
    },
    "papermill": {
     "duration": 0.983878,
     "end_time": "2025-05-12T17:47:34.302959",
     "exception": false,
     "start_time": "2025-05-12T17:47:33.319081",
     "status": "completed"
    },
    "tags": []
   },
   "outputs": [
    {
     "data": {
      "text/plain": [
       "'Insertion de 507 enrégistrements réussie'"
      ]
     },
     "execution_count": 49,
     "metadata": {},
     "output_type": "execute_result"
    }
   ],
   "source": [
    "stock_sync_manager.insert_dataframe_to_table(\n",
    "    df_prevision.drop(columns=[\"code_produit\", \"ancien_code\"]), \"stock_track_prevision\"\n",
    ")"
   ]
  },
  {
   "cell_type": "markdown",
   "id": "beed3506-66a5-4678-a064-cd62f6bd461c",
   "metadata": {
    "papermill": {
     "duration": 3.099486,
     "end_time": "2025-05-12T17:47:37.695493",
     "exception": false,
     "start_time": "2025-05-12T17:47:34.596007",
     "status": "completed"
    },
    "tags": []
   },
   "source": [
    "## 7.`Plan d'approvisionnement`"
   ]
  },
  {
   "cell_type": "code",
   "execution_count": 50,
   "id": "915dd339-4537-4fdd-b9f2-f3f52bc7db68",
   "metadata": {
    "execution": {
     "iopub.execute_input": "2025-05-12T17:47:38.351579Z",
     "iopub.status.busy": "2025-05-12T17:47:38.348729Z",
     "iopub.status.idle": "2025-05-12T17:47:38.394333Z",
     "shell.execute_reply": "2025-05-12T17:47:38.386883Z"
    },
    "papermill": {
     "duration": 0.369198,
     "end_time": "2025-05-12T17:47:38.403853",
     "exception": false,
     "start_time": "2025-05-12T17:47:38.034655",
     "status": "completed"
    },
    "tags": []
   },
   "outputs": [],
   "source": [
    "query = f\"\"\"\n",
    "DELETE FROM {schema_name}.plan_approv\n",
    "WHERE date_report = '{date_report}' and programme='{programme}'\n",
    "\"\"\"\n",
    "stock_sync_manager.civ_cursor.execute(query)\n",
    "stock_sync_manager.conn.commit()"
   ]
  },
  {
   "cell_type": "code",
   "execution_count": 51,
   "id": "8f6561dd-eac8-4500-bb97-c7cde0e0fdeb",
   "metadata": {
    "execution": {
     "iopub.execute_input": "2025-05-12T17:47:39.471670Z",
     "iopub.status.busy": "2025-05-12T17:47:39.468854Z",
     "iopub.status.idle": "2025-05-12T17:47:39.572672Z",
     "shell.execute_reply": "2025-05-12T17:47:39.569396Z"
    },
    "papermill": {
     "duration": 0.867893,
     "end_time": "2025-05-12T17:47:39.582431",
     "exception": false,
     "start_time": "2025-05-12T17:47:38.714538",
     "status": "completed"
    },
    "tags": []
   },
   "outputs": [
    {
     "data": {
      "text/html": [
       "<div>\n",
       "<style scoped>\n",
       "    .dataframe tbody tr th:only-of-type {\n",
       "        vertical-align: middle;\n",
       "    }\n",
       "\n",
       "    .dataframe tbody tr th {\n",
       "        vertical-align: top;\n",
       "    }\n",
       "\n",
       "    .dataframe thead th {\n",
       "        text-align: right;\n",
       "    }\n",
       "</style>\n",
       "<table border=\"1\" class=\"dataframe\">\n",
       "  <thead>\n",
       "    <tr style=\"text-align: right;\">\n",
       "      <th></th>\n",
       "      <th>standard_product_code</th>\n",
       "      <th>id_produit_qat</th>\n",
       "      <th>designation</th>\n",
       "      <th>id_envoi_qat</th>\n",
       "      <th>centrale_achat</th>\n",
       "      <th>source_financement</th>\n",
       "      <th>status</th>\n",
       "      <th>quantite</th>\n",
       "      <th>facteur_conversion_qat_vers_sage</th>\n",
       "      <th>quantite_harmonisee_sage</th>\n",
       "      <th>date</th>\n",
       "      <th>cout_produits</th>\n",
       "      <th>cout_fret</th>\n",
       "      <th>cout_total</th>\n",
       "      <th>date_report</th>\n",
       "      <th>programme</th>\n",
       "    </tr>\n",
       "  </thead>\n",
       "  <tbody>\n",
       "    <tr>\n",
       "      <th>0</th>\n",
       "      <td>4030209.0</td>\n",
       "      <td>3340</td>\n",
       "      <td>Giemsa Stain Solution  500 mL</td>\n",
       "      <td>160768</td>\n",
       "      <td>UNICEF</td>\n",
       "      <td>GFATM</td>\n",
       "      <td>Expédié</td>\n",
       "      <td>1071.0</td>\n",
       "      <td>1</td>\n",
       "      <td>1071.0</td>\n",
       "      <td>2025-05-31</td>\n",
       "      <td>11416.86</td>\n",
       "      <td>1369.93</td>\n",
       "      <td>12786.79</td>\n",
       "      <td>2025-03-01</td>\n",
       "      <td>PNLP</td>\n",
       "    </tr>\n",
       "    <tr>\n",
       "      <th>1</th>\n",
       "      <td>4030224.0</td>\n",
       "      <td>3651</td>\n",
       "      <td>Immersion Oil  250 mL</td>\n",
       "      <td>160773</td>\n",
       "      <td>UNICEF</td>\n",
       "      <td>GFATM</td>\n",
       "      <td>Reçu</td>\n",
       "      <td>205.0</td>\n",
       "      <td>1</td>\n",
       "      <td>205.0</td>\n",
       "      <td>2025-04-10</td>\n",
       "      <td>3995.45</td>\n",
       "      <td>479.50</td>\n",
       "      <td>4474.95</td>\n",
       "      <td>2025-03-01</td>\n",
       "      <td>PNLP</td>\n",
       "    </tr>\n",
       "  </tbody>\n",
       "</table>\n",
       "</div>"
      ],
      "text/plain": [
       "   standard_product_code  id_produit_qat                    designation  \\\n",
       "0              4030209.0            3340  Giemsa Stain Solution  500 mL   \n",
       "1              4030224.0            3651          Immersion Oil  250 mL   \n",
       "\n",
       "   id_envoi_qat centrale_achat source_financement   status  quantite  \\\n",
       "0        160768         UNICEF              GFATM  Expédié    1071.0   \n",
       "1        160773         UNICEF              GFATM     Reçu     205.0   \n",
       "\n",
       "   facteur_conversion_qat_vers_sage  quantite_harmonisee_sage       date  \\\n",
       "0                                 1                    1071.0 2025-05-31   \n",
       "1                                 1                     205.0 2025-04-10   \n",
       "\n",
       "   cout_produits  cout_fret  cout_total date_report programme  \n",
       "0       11416.86    1369.93    12786.79  2025-03-01      PNLP  \n",
       "1        3995.45     479.50     4474.95  2025-03-01      PNLP  "
      ]
     },
     "execution_count": 51,
     "metadata": {},
     "output_type": "execute_result"
    }
   ],
   "source": [
    "df_pa = df_plan_approv.rename(\n",
    "    columns={\n",
    "        \"Standard product code\": \"standard_product_code\",\n",
    "        \"ID de produit QAT\": \"id_produit_qat\",\n",
    "        \"Produits\": \"designation\",\n",
    "        \"ID de l`envoi QAT\": \"id_envoi_qat\",\n",
    "        \"Agent d`approvisionnement\": \"centrale_achat\",\n",
    "        \"Source de financement\": \"source_financement\",\n",
    "        \"Status\": \"status\",\n",
    "        \"Quantite\": \"quantite\",\n",
    "        \"facteur_de_conversion_qat_sage\": \"facteur_conversion_qat_vers_sage\",\n",
    "        \"Quantité harmonisée (SAGE)\": \"quantite_harmonisee_sage\",\n",
    "        \"DATE\": \"date\",\n",
    "        \"Cout des Produits\": \"cout_produits\",\n",
    "        \"Couts du fret\": \"cout_fret\",\n",
    "        \"Couts totaux\": \"cout_total\",\n",
    "    },\n",
    ")\n",
    "\n",
    "df_pa = df_pa[\n",
    "    [\"standard_product_code\", \"id_produit_qat\",\n",
    "     \"designation\", \"id_envoi_qat\",\n",
    "     \"centrale_achat\", \"source_financement\",\n",
    "     \"status\", \"quantite\", \"facteur_conversion_qat_vers_sage\",\n",
    "     \"quantite_harmonisee_sage\", \"date\",\n",
    "     \"cout_produits\", \"cout_fret\", \"cout_total\",\n",
    "    ]\n",
    "]\n",
    "df_pa[\"date_report\"] = pd.to_datetime(date_report)\n",
    "df_pa[\"programme\"] = programme\n",
    "df_pa[\"standard_product_code\"] = df_pa[\"standard_product_code\"].fillna(0)\n",
    "\n",
    "df_pa.head(2)"
   ]
  },
  {
   "cell_type": "code",
   "execution_count": 52,
   "id": "557e36d1-3a17-48d4-851d-96de9b3f3be5",
   "metadata": {
    "execution": {
     "iopub.execute_input": "2025-05-12T17:47:41.505523Z",
     "iopub.status.busy": "2025-05-12T17:47:41.502305Z",
     "iopub.status.idle": "2025-05-12T17:47:41.733794Z",
     "shell.execute_reply": "2025-05-12T17:47:41.730251Z"
    },
    "papermill": {
     "duration": 1.805334,
     "end_time": "2025-05-12T17:47:41.741682",
     "exception": false,
     "start_time": "2025-05-12T17:47:39.936348",
     "status": "completed"
    },
    "tags": []
   },
   "outputs": [
    {
     "data": {
      "text/plain": [
       "'Insertion de 71 enrégistrements réussie'"
      ]
     },
     "execution_count": 52,
     "metadata": {},
     "output_type": "execute_result"
    }
   ],
   "source": [
    "stock_sync_manager.insert_dataframe_to_table(df_pa, table_name=\"plan_approv\", schema_name=\"suivi_stock\")"
   ]
  },
  {
   "cell_type": "code",
   "execution_count": 53,
   "id": "59e7f509-0f62-4188-8648-bef9a221b661",
   "metadata": {
    "execution": {
     "iopub.execute_input": "2025-05-12T17:47:47.984509Z",
     "iopub.status.busy": "2025-05-12T17:47:47.980397Z",
     "iopub.status.idle": "2025-05-12T17:47:47.996357Z",
     "shell.execute_reply": "2025-05-12T17:47:47.992248Z"
    },
    "papermill": {
     "duration": 0.360344,
     "end_time": "2025-05-12T17:47:48.001056",
     "exception": false,
     "start_time": "2025-05-12T17:47:47.640712",
     "status": "completed"
    },
    "tags": []
   },
   "outputs": [],
   "source": [
    "del df_pa"
   ]
  },
  {
   "cell_type": "markdown",
   "id": "0a6af0d7-53cb-45f0-a174-afed7ecd72db",
   "metadata": {
    "papermill": {
     "duration": 0.3207,
     "end_time": "2025-05-12T17:47:48.628780",
     "exception": false,
     "start_time": "2025-05-12T17:47:48.308080",
     "status": "completed"
    },
    "tags": []
   },
   "source": [
    "# VI.📄Génération du fichier pour le mois spécifique"
   ]
  },
  {
   "cell_type": "markdown",
   "id": "a1e25950-2b53-4f3b-b1f8-9ec34c76367b",
   "metadata": {
    "papermill": {
     "duration": 0.286673,
     "end_time": "2025-05-12T17:47:49.209541",
     "exception": false,
     "start_time": "2025-05-12T17:47:48.922868",
     "status": "completed"
    },
    "tags": []
   },
   "source": [
    "## 1. Initialisation des paramètres utile"
   ]
  },
  {
   "cell_type": "code",
   "execution_count": 54,
   "id": "30b49db8-06c5-4d9e-ae95-a24f0ee66888",
   "metadata": {
    "execution": {
     "iopub.execute_input": "2025-05-12T17:47:53.847925Z",
     "iopub.status.busy": "2025-05-12T17:47:53.847436Z",
     "iopub.status.idle": "2025-05-12T17:47:53.856726Z",
     "shell.execute_reply": "2025-05-12T17:47:53.855698Z"
    },
    "papermill": {
     "duration": 4.364827,
     "end_time": "2025-05-12T17:47:53.858809",
     "exception": false,
     "start_time": "2025-05-12T17:47:49.493982",
     "status": "completed"
    },
    "tags": []
   },
   "outputs": [],
   "source": [
    "date_report_format = date_report\n",
    "date_report = pd.to_datetime(date_report, format='%Y-%m-%d').strftime('%d/%m/%Y')\n",
    "f_month = gstf.get_current_variable(date_report)[1].replace(' ', '-')"
   ]
  },
  {
   "cell_type": "markdown",
   "id": "acace0b9-cbb6-4ee8-bc43-1fcd1c724a2d",
   "metadata": {
    "papermill": {
     "duration": 1.632902,
     "end_time": "2025-05-12T17:47:56.790133",
     "exception": false,
     "start_time": "2025-05-12T17:47:55.157231",
     "status": "completed"
    },
    "tags": []
   },
   "source": [
    "## 2. Importation des classeurs de bases"
   ]
  },
  {
   "cell_type": "code",
   "execution_count": 55,
   "id": "689f25f3-1bf9-4c16-9569-61b0b7140cce",
   "metadata": {
    "execution": {
     "iopub.execute_input": "2025-05-12T17:47:57.190329Z",
     "iopub.status.busy": "2025-05-12T17:47:57.188963Z",
     "iopub.status.idle": "2025-05-12T17:55:42.711979Z",
     "shell.execute_reply": "2025-05-12T17:55:42.710753Z"
    },
    "papermill": {
     "duration": 466.253554,
     "end_time": "2025-05-12T17:55:43.238760",
     "exception": false,
     "start_time": "2025-05-12T17:47:56.985206",
     "status": "completed"
    },
    "tags": []
   },
   "outputs": [
    {
     "name": "stdout",
     "output_type": "stream",
     "text": [
      "CPU times: user 7min 21s, sys: 22 s, total: 7min 43s\n",
      "Wall time: 7min 45s\n"
     ]
    }
   ],
   "source": [
    "%%time\n",
    "# WorkBook Template de base\n",
    "wb_template = pyxl.load_workbook(\n",
    "    filename=\"/home/jovyan/workspace/Fichier Suivi de Stock/code/pipelines/generate_stock_tracking_file/Template Fichier Suivi de Stock/Fichier Suivi de Stock Template.xlsx\"\n",
    ")\n",
    "\n",
    "# WorkBook Etats de stock mensuels\n",
    "wb_etat_stock = pyxl.load_workbook(filename=fp_etat_mensuel)\n",
    "\n",
    "# WorkBook du Rapport Feedback\n",
    "wb_fbr = pyxl.load_workbook(\n",
    "    filename=f\"/home/jovyan/workspace/Rapport Feedback/code/pipelines/rapport feedback genere/{date_report_format[:4]}/RapportFeedBack-{unidecode(f_month)}.xlsx\"\n",
    ")"
   ]
  },
  {
   "cell_type": "markdown",
   "id": "30d3235c-40f4-4d76-9cbb-463cbf37cb26",
   "metadata": {
    "papermill": {
     "duration": 0.199255,
     "end_time": "2025-05-12T17:55:43.641922",
     "exception": false,
     "start_time": "2025-05-12T17:55:43.442667",
     "status": "completed"
    },
    "tags": []
   },
   "source": [
    "## 3. Mise à jour des données en se basant sur la source `Etat de Stock Mensuel`"
   ]
  },
  {
   "cell_type": "code",
   "execution_count": 56,
   "id": "ef678267-2bdf-4fad-bdc6-837935e7c2bf",
   "metadata": {
    "execution": {
     "iopub.execute_input": "2025-05-12T17:55:44.034067Z",
     "iopub.status.busy": "2025-05-12T17:55:44.033538Z",
     "iopub.status.idle": "2025-05-12T17:55:59.927660Z",
     "shell.execute_reply": "2025-05-12T17:55:59.926356Z"
    },
    "papermill": {
     "duration": 16.105122,
     "end_time": "2025-05-12T17:55:59.929599",
     "exception": false,
     "start_time": "2025-05-12T17:55:43.824477",
     "status": "completed"
    },
    "tags": []
   },
   "outputs": [
    {
     "name": "stdout",
     "output_type": "stream",
     "text": [
      "CPU times: user 15.9 s, sys: 11.8 ms, total: 15.9 s\n",
      "Wall time: 15.9 s\n"
     ]
    }
   ],
   "source": [
    "%%time\n",
    "wb_template = gstf.update_sheets_etat_mensuel(\n",
    "    wb_etat_stock, wb_template, programme, date_report\n",
    ")"
   ]
  },
  {
   "cell_type": "markdown",
   "id": "40b4f4f0-6a5d-4685-9b86-b74e15424ed7",
   "metadata": {
    "papermill": {
     "duration": 0.206711,
     "end_time": "2025-05-12T17:56:00.395426",
     "exception": false,
     "start_time": "2025-05-12T17:56:00.188715",
     "status": "completed"
    },
    "tags": []
   },
   "source": [
    "## 4. Mise à jour des données en se basant sur la source `Rapport Feedback`\n",
    "\n",
    "Pour le faire on va se baser sur les inputs au préalable du fichier RapportFeebback généré et présent dans les fichiers d'OH pour le mois courant"
   ]
  },
  {
   "cell_type": "code",
   "execution_count": 57,
   "id": "aca0a3a7-c102-4200-8604-357171092ab5",
   "metadata": {
    "execution": {
     "iopub.execute_input": "2025-05-12T17:56:00.764030Z",
     "iopub.status.busy": "2025-05-12T17:56:00.763142Z",
     "iopub.status.idle": "2025-05-12T17:56:14.295452Z",
     "shell.execute_reply": "2025-05-12T17:56:14.294669Z"
    },
    "papermill": {
     "duration": 13.705353,
     "end_time": "2025-05-12T17:56:14.297316",
     "exception": false,
     "start_time": "2025-05-12T17:56:00.591963",
     "status": "completed"
    },
    "tags": []
   },
   "outputs": [
    {
     "data": {
      "text/html": [
       "<div>\n",
       "<style scoped>\n",
       "    .dataframe tbody tr th:only-of-type {\n",
       "        vertical-align: middle;\n",
       "    }\n",
       "\n",
       "    .dataframe tbody tr th {\n",
       "        vertical-align: top;\n",
       "    }\n",
       "\n",
       "    .dataframe thead th {\n",
       "        text-align: right;\n",
       "    }\n",
       "</style>\n",
       "<table border=\"1\" class=\"dataframe\">\n",
       "  <thead>\n",
       "    <tr style=\"text-align: right;\">\n",
       "      <th></th>\n",
       "      <th>Code_Pro</th>\n",
       "      <th>CODE</th>\n",
       "      <th>PROGRAMME</th>\n",
       "      <th>SOUS-PROGRAMME</th>\n",
       "      <th>PERIODE</th>\n",
       "      <th>REGION</th>\n",
       "      <th>DISTRICT</th>\n",
       "      <th>CODE  ETS</th>\n",
       "      <th>STRUCTURE</th>\n",
       "      <th>TYPE DE STRUCTURE</th>\n",
       "      <th>CATEGORIE PRODUIT</th>\n",
       "      <th>PRODUIT</th>\n",
       "      <th>UNITE DE RAPPORTAGE</th>\n",
       "      <th>STOCK INITIAL</th>\n",
       "      <th>QUANTITE RECUE</th>\n",
       "      <th>QUANTITE UTILISEE</th>\n",
       "      <th>PERTES ET AJUSTEMENT</th>\n",
       "      <th>JOURS DE RUPTURE</th>\n",
       "      <th>SDU</th>\n",
       "      <th>CMM ESIGL</th>\n",
       "      <th>CMM gestionnaire</th>\n",
       "      <th>QUANTITE PROPOSEE</th>\n",
       "      <th>QUANTITE COMMANDEE</th>\n",
       "      <th>QUANTITE APPROUVEE</th>\n",
       "      <th>MSD</th>\n",
       "      <th>ETAT DU STOCK</th>\n",
       "      <th>BESOIN COMMANDE URGENTE</th>\n",
       "      <th>BESOIN TRANSFERT IN</th>\n",
       "      <th>QUANTITE A TRANSFERER OUT</th>\n",
       "      <th>CATEGORIE_DU_PRODUIT</th>\n",
       "      <th>Commandes du mois précédent</th>\n",
       "      <th>Etat du stock du mois précédent</th>\n",
       "    </tr>\n",
       "  </thead>\n",
       "  <tbody>\n",
       "    <tr>\n",
       "      <th>0</th>\n",
       "      <td>3050350_PNLT</td>\n",
       "      <td>3050350</td>\n",
       "      <td>PNLT</td>\n",
       "      <td>PNLT-SENSIBLE MEDICAMENTS ET INTRANTS</td>\n",
       "      <td>JANVIER MARS 2025</td>\n",
       "      <td>IFFOU</td>\n",
       "      <td>DAOUKRO</td>\n",
       "      <td>62600030</td>\n",
       "      <td>CENTRE ANTITUBERCULEUX DAOUKRO</td>\n",
       "      <td>FORMATION SANITAIRE</td>\n",
       "      <td>Produit traceur</td>\n",
       "      <td>RH 150 (RIFAmpICINE150 - ISONIAZIDE75) comp. B...</td>\n",
       "      <td>COMPRIME</td>\n",
       "      <td>9316</td>\n",
       "      <td>9408</td>\n",
       "      <td>8992</td>\n",
       "      <td>-2399</td>\n",
       "      <td>0</td>\n",
       "      <td>7333</td>\n",
       "      <td>1007</td>\n",
       "      <td>3021.0</td>\n",
       "      <td>0</td>\n",
       "      <td>10793</td>\n",
       "      <td>10793</td>\n",
       "      <td>2.427342</td>\n",
       "      <td>ENTRE PCU et MIN</td>\n",
       "      <td>NaN</td>\n",
       "      <td>1730.0</td>\n",
       "      <td>NaN</td>\n",
       "      <td>PRODUITS PNLT ADULTE</td>\n",
       "      <td>NaN</td>\n",
       "      <td>NaN</td>\n",
       "    </tr>\n",
       "    <tr>\n",
       "      <th>1</th>\n",
       "      <td>3050356_PNLT</td>\n",
       "      <td>3050356</td>\n",
       "      <td>PNLT</td>\n",
       "      <td>PNLT-SENSIBLE MEDICAMENTS ET INTRANTS</td>\n",
       "      <td>JANVIER MARS 2025</td>\n",
       "      <td>IFFOU</td>\n",
       "      <td>DAOUKRO</td>\n",
       "      <td>62600030</td>\n",
       "      <td>CENTRE ANTITUBERCULEUX DAOUKRO</td>\n",
       "      <td>FORMATION SANITAIRE</td>\n",
       "      <td>Produit traceur</td>\n",
       "      <td>RHZE (RIFAMP 150 - ISON 75 - PYRAZ 400 - ETHAM...</td>\n",
       "      <td>COMPRIME</td>\n",
       "      <td>8862</td>\n",
       "      <td>0</td>\n",
       "      <td>5251</td>\n",
       "      <td>-2016</td>\n",
       "      <td>0</td>\n",
       "      <td>1595</td>\n",
       "      <td>591</td>\n",
       "      <td>1774.0</td>\n",
       "      <td>1951</td>\n",
       "      <td>9049</td>\n",
       "      <td>9049</td>\n",
       "      <td>0.899098</td>\n",
       "      <td>EN BAS DU PCU</td>\n",
       "      <td>9049.0</td>\n",
       "      <td>3727.0</td>\n",
       "      <td>NaN</td>\n",
       "      <td>PRODUITS PNLT ADULTE</td>\n",
       "      <td>NaN</td>\n",
       "      <td>NaN</td>\n",
       "    </tr>\n",
       "  </tbody>\n",
       "</table>\n",
       "</div>"
      ],
      "text/plain": [
       "       Code_Pro     CODE PROGRAMME                         SOUS-PROGRAMME  \\\n",
       "0  3050350_PNLT  3050350      PNLT  PNLT-SENSIBLE MEDICAMENTS ET INTRANTS   \n",
       "1  3050356_PNLT  3050356      PNLT  PNLT-SENSIBLE MEDICAMENTS ET INTRANTS   \n",
       "\n",
       "             PERIODE REGION DISTRICT  CODE  ETS  \\\n",
       "0  JANVIER MARS 2025  IFFOU  DAOUKRO   62600030   \n",
       "1  JANVIER MARS 2025  IFFOU  DAOUKRO   62600030   \n",
       "\n",
       "                         STRUCTURE    TYPE DE STRUCTURE CATEGORIE PRODUIT  \\\n",
       "0   CENTRE ANTITUBERCULEUX DAOUKRO  FORMATION SANITAIRE   Produit traceur   \n",
       "1   CENTRE ANTITUBERCULEUX DAOUKRO  FORMATION SANITAIRE   Produit traceur   \n",
       "\n",
       "                                             PRODUIT UNITE DE RAPPORTAGE  \\\n",
       "0  RH 150 (RIFAmpICINE150 - ISONIAZIDE75) comp. B...            COMPRIME   \n",
       "1  RHZE (RIFAMP 150 - ISON 75 - PYRAZ 400 - ETHAM...            COMPRIME   \n",
       "\n",
       "   STOCK INITIAL  QUANTITE RECUE  QUANTITE UTILISEE  PERTES ET AJUSTEMENT  \\\n",
       "0           9316            9408               8992                 -2399   \n",
       "1           8862               0               5251                 -2016   \n",
       "\n",
       "   JOURS DE RUPTURE   SDU  CMM ESIGL  CMM gestionnaire  QUANTITE PROPOSEE  \\\n",
       "0                 0  7333       1007            3021.0                  0   \n",
       "1                 0  1595        591            1774.0               1951   \n",
       "\n",
       "   QUANTITE COMMANDEE  QUANTITE APPROUVEE       MSD     ETAT DU STOCK  \\\n",
       "0               10793               10793  2.427342  ENTRE PCU et MIN   \n",
       "1                9049                9049  0.899098     EN BAS DU PCU   \n",
       "\n",
       "   BESOIN COMMANDE URGENTE                    \\\n",
       "0                                        NaN   \n",
       "1                                     9049.0   \n",
       "\n",
       "   BESOIN TRANSFERT IN                                 \\\n",
       "0                                             1730.0    \n",
       "1                                             3727.0    \n",
       "\n",
       "   QUANTITE A TRANSFERER OUT  CATEGORIE_DU_PRODUIT  \\\n",
       "0                        NaN  PRODUITS PNLT ADULTE   \n",
       "1                        NaN  PRODUITS PNLT ADULTE   \n",
       "\n",
       "   Commandes du mois précédent  Etat du stock du mois précédent  \n",
       "0                          NaN                              NaN  \n",
       "1                          NaN                              NaN  "
      ]
     },
     "execution_count": 57,
     "metadata": {},
     "output_type": "execute_result"
    }
   ],
   "source": [
    "df_etat_stock = pd.read_excel(\n",
    "    f\"/home/jovyan/workspace/Rapport Feedback/code/pipelines/rapport feedback genere/{date_report_format[:4]}/RapportFeedBack-{unidecode(f_month)}.xlsx\",\n",
    "    sheet_name=\"ETAT DU STOCK\",\n",
    ")\n",
    "\n",
    "df_etat_stock.head(2)"
   ]
  },
  {
   "cell_type": "code",
   "execution_count": 58,
   "id": "fcabb659-b3ab-42f0-b5bc-fcec276f97c3",
   "metadata": {
    "execution": {
     "iopub.execute_input": "2025-05-12T17:56:14.797997Z",
     "iopub.status.busy": "2025-05-12T17:56:14.796821Z",
     "iopub.status.idle": "2025-05-12T17:56:26.937225Z",
     "shell.execute_reply": "2025-05-12T17:56:26.936071Z"
    },
    "papermill": {
     "duration": 12.359358,
     "end_time": "2025-05-12T17:56:26.939326",
     "exception": false,
     "start_time": "2025-05-12T17:56:14.579968",
     "status": "completed"
    },
    "tags": []
   },
   "outputs": [
    {
     "name": "stdout",
     "output_type": "stream",
     "text": [
      "CPU times: user 12.1 s, sys: 24.6 ms, total: 12.1 s\n",
      "Wall time: 12.1 s\n"
     ]
    }
   ],
   "source": [
    "%%time\n",
    "\n",
    "wb_template = gstf.update_sheet_etat_stock(wb_template, df_etat_stock.loc[df_etat_stock.PROGRAMME==programme].copy())\n",
    "\n",
    "wb_template = gstf.update_sheet_stock_region(wb_template, wb_fbr, programme)"
   ]
  },
  {
   "cell_type": "markdown",
   "id": "aa2d9f5c-ff21-4dc3-8509-207e0f632a6e",
   "metadata": {
    "papermill": {
     "duration": 0.227782,
     "end_time": "2025-05-12T17:56:27.444641",
     "exception": false,
     "start_time": "2025-05-12T17:56:27.216859",
     "status": "completed"
    },
    "tags": []
   },
   "source": [
    "## 4. Mise à jour des informations feuille `Annexe 1 - Consolidation`"
   ]
  },
  {
   "cell_type": "code",
   "execution_count": 59,
   "id": "1448ebc3-75d4-4063-8d8d-daba9b9c2c65",
   "metadata": {
    "execution": {
     "iopub.execute_input": "2025-05-12T17:56:27.829573Z",
     "iopub.status.busy": "2025-05-12T17:56:27.825480Z",
     "iopub.status.idle": "2025-05-12T17:56:29.287751Z",
     "shell.execute_reply": "2025-05-12T17:56:29.286661Z"
    },
    "papermill": {
     "duration": 1.649144,
     "end_time": "2025-05-12T17:56:29.289598",
     "exception": false,
     "start_time": "2025-05-12T17:56:27.640454",
     "status": "completed"
    },
    "tags": []
   },
   "outputs": [],
   "source": [
    "wb_template = gstf.update_sheet_annexe_1(\n",
    "    wb_template, programme, schema_name, stock_sync_manager.civ_engine, date_report\n",
    ")"
   ]
  },
  {
   "cell_type": "markdown",
   "id": "17d87336-319e-4c52-bc10-ca92f55a36bd",
   "metadata": {
    "papermill": {
     "duration": 0.201512,
     "end_time": "2025-05-12T17:56:29.678036",
     "exception": false,
     "start_time": "2025-05-12T17:56:29.476524",
     "status": "completed"
    },
    "tags": []
   },
   "source": [
    "## 5. Mise à jour des données du `Plan d'approvisionnement`"
   ]
  },
  {
   "cell_type": "code",
   "execution_count": 60,
   "id": "896a4775-5a20-497e-9642-99b199e90a53",
   "metadata": {
    "execution": {
     "iopub.execute_input": "2025-05-12T17:56:30.500510Z",
     "iopub.status.busy": "2025-05-12T17:56:30.499459Z",
     "iopub.status.idle": "2025-05-12T17:56:30.508491Z",
     "shell.execute_reply": "2025-05-12T17:56:30.507448Z"
    },
    "papermill": {
     "duration": 0.629427,
     "end_time": "2025-05-12T17:56:30.510422",
     "exception": false,
     "start_time": "2025-05-12T17:56:29.880995",
     "status": "completed"
    },
    "scrolled": true,
    "tags": []
   },
   "outputs": [],
   "source": [
    "df_pa = df_plan_approv.rename(\n",
    "    columns={\n",
    "        \"Agent d`approvisionnement\": \"Centrale d'achat\",\n",
    "        \"Source de financement\": \"Source Financement\",\n",
    "        \"facteur_de_conversion_qat_sage\": \"Facteur de conversion de QAT vers SAGE\",\n",
    "        \"cout_unitaire_moyen_qat\": \"Coût unitaire moyen (en dollar)\",\n",
    "        \"acronym\": \"Acronym\",\n",
    "    }\n",
    ")\n",
    "\n",
    "df_pa[\"DATE\"] = pd.to_datetime(df_pa[\"DATE\"], format='%d-%b-%Y', errors='coerce')"
   ]
  },
  {
   "cell_type": "code",
   "execution_count": 61,
   "id": "7b64bf01-482b-473e-82df-9d96345e04cf",
   "metadata": {
    "execution": {
     "iopub.execute_input": "2025-05-12T17:56:34.502387Z",
     "iopub.status.busy": "2025-05-12T17:56:34.501199Z",
     "iopub.status.idle": "2025-05-12T17:56:34.620156Z",
     "shell.execute_reply": "2025-05-12T17:56:34.618992Z"
    },
    "papermill": {
     "duration": 0.323918,
     "end_time": "2025-05-12T17:56:34.621932",
     "exception": false,
     "start_time": "2025-05-12T17:56:34.298014",
     "status": "completed"
    },
    "tags": []
   },
   "outputs": [
    {
     "name": "stdout",
     "output_type": "stream",
     "text": [
      "CPU times: user 112 ms, sys: 987 μs, total: 113 ms\n",
      "Wall time: 112 ms\n"
     ]
    }
   ],
   "source": [
    "%%time\n",
    "wb_template = gstf.update_sheet_plan_approv(wb_template, df_pa)"
   ]
  },
  {
   "cell_type": "markdown",
   "id": "0e5eec95-ae01-435c-994f-597b583151ca",
   "metadata": {
    "papermill": {
     "duration": 0.171853,
     "end_time": "2025-05-12T17:56:34.972288",
     "exception": false,
     "start_time": "2025-05-12T17:56:34.800435",
     "status": "completed"
    },
    "tags": []
   },
   "source": [
    "## 5. Mise à jour des informations  en se basant sur la source `Annexe 2 - Suivi de Stock`"
   ]
  },
  {
   "cell_type": "code",
   "execution_count": 62,
   "id": "a8cbbd89-50c1-4467-b616-46071483927c",
   "metadata": {
    "execution": {
     "iopub.execute_input": "2025-05-12T17:56:35.353082Z",
     "iopub.status.busy": "2025-05-12T17:56:35.351873Z",
     "iopub.status.idle": "2025-05-12T17:56:35.582267Z",
     "shell.execute_reply": "2025-05-12T17:56:35.581268Z"
    },
    "papermill": {
     "duration": 0.424038,
     "end_time": "2025-05-12T17:56:35.584159",
     "exception": false,
     "start_time": "2025-05-12T17:56:35.160121",
     "status": "completed"
    },
    "tags": []
   },
   "outputs": [
    {
     "name": "stdout",
     "output_type": "stream",
     "text": [
      "CPU times: user 225 ms, sys: 55 μs, total: 225 ms\n",
      "Wall time: 224 ms\n"
     ]
    }
   ],
   "source": [
    "%%time\n",
    "wb_template = gstf.update_sheet_annexe_2(wb_template, df_pa, date_report)"
   ]
  },
  {
   "cell_type": "markdown",
   "id": "23e8d193-e8ee-4e13-96a4-dca4dcd5cae5",
   "metadata": {
    "papermill": {
     "duration": 1.855479,
     "end_time": "2025-05-12T17:56:38.196926",
     "exception": false,
     "start_time": "2025-05-12T17:56:36.341447",
     "status": "completed"
    },
    "tags": []
   },
   "source": [
    "## 6. Mise à jour des données en se basant sur la source `Prévision`"
   ]
  },
  {
   "cell_type": "code",
   "execution_count": 63,
   "id": "907dc386-5f20-42a9-8bc4-a6033963db23",
   "metadata": {
    "execution": {
     "iopub.execute_input": "2025-05-12T17:56:43.919911Z",
     "iopub.status.busy": "2025-05-12T17:56:43.919492Z",
     "iopub.status.idle": "2025-05-12T17:56:43.927840Z",
     "shell.execute_reply": "2025-05-12T17:56:43.926874Z"
    },
    "papermill": {
     "duration": 0.378843,
     "end_time": "2025-05-12T17:56:43.929758",
     "exception": false,
     "start_time": "2025-05-12T17:56:43.550915",
     "status": "completed"
    },
    "tags": []
   },
   "outputs": [],
   "source": [
    "df_prod = dim_produit[\n",
    "    [\"code_produit\", \"type_produit\", \"designation\", \"designation_acronym\"]\n",
    "]\n",
    "\n",
    "df_prod[\"designation\"] = df_prod.apply(\n",
    "    lambda row: row[\"designation_acronym\"]\n",
    "    if not pd.isna(row[\"designation_acronym\"])\n",
    "    else row[\"designation\"],\n",
    "    axis=1,\n",
    ")\n",
    "df_prod = df_prod.drop(columns=\"designation_acronym\")"
   ]
  },
  {
   "cell_type": "code",
   "execution_count": 64,
   "id": "5390c300-62ab-40f6-af69-aed9c15b385c",
   "metadata": {
    "execution": {
     "iopub.execute_input": "2025-05-12T17:56:44.340091Z",
     "iopub.status.busy": "2025-05-12T17:56:44.338832Z",
     "iopub.status.idle": "2025-05-12T17:56:44.623385Z",
     "shell.execute_reply": "2025-05-12T17:56:44.622356Z"
    },
    "papermill": {
     "duration": 0.485391,
     "end_time": "2025-05-12T17:56:44.625725",
     "exception": false,
     "start_time": "2025-05-12T17:56:44.140334",
     "status": "completed"
    },
    "tags": []
   },
   "outputs": [],
   "source": [
    "wb_template = gstf.update_sheet_prevision(wb_template, date_report, df_prod)"
   ]
  },
  {
   "cell_type": "markdown",
   "id": "1630b9b1-f136-4538-84c8-bb3b1c40e1c4",
   "metadata": {
    "papermill": {
     "duration": 0.193807,
     "end_time": "2025-05-12T17:56:46.214536",
     "exception": false,
     "start_time": "2025-05-12T17:56:46.020729",
     "status": "completed"
    },
    "tags": []
   },
   "source": [
    "## 7. Mise à jour de certains éléments de la feuille `Rapport`"
   ]
  },
  {
   "cell_type": "code",
   "execution_count": 65,
   "id": "cbd158de-45e8-4f68-825e-825ac2154834",
   "metadata": {
    "execution": {
     "iopub.execute_input": "2025-05-12T17:56:50.364238Z",
     "iopub.status.busy": "2025-05-12T17:56:50.363752Z",
     "iopub.status.idle": "2025-05-12T17:56:50.370177Z",
     "shell.execute_reply": "2025-05-12T17:56:50.369073Z"
    },
    "papermill": {
     "duration": 3.969495,
     "end_time": "2025-05-12T17:56:50.372043",
     "exception": false,
     "start_time": "2025-05-12T17:56:46.402548",
     "status": "completed"
    },
    "tags": []
   },
   "outputs": [],
   "source": [
    "ws_rapport = wb_template['Rapport']\n",
    "ws_rapport['D4'].value = programme\n",
    "ws_rapport['D6'].value = f_month.split('-')[0].capitalize()\n",
    "ws_rapport['E6'].value = date_report_format[:4]"
   ]
  },
  {
   "cell_type": "markdown",
   "id": "d054f9c2-8975-4b31-baac-fc9b3629773d",
   "metadata": {
    "papermill": {
     "duration": 0.239586,
     "end_time": "2025-05-12T17:56:53.705008",
     "exception": false,
     "start_time": "2025-05-12T17:56:53.465422",
     "status": "completed"
    },
    "tags": []
   },
   "source": [
    "# VII. Exportation du Fichier Suivi de Stock vers le `drive` et la `BD`"
   ]
  },
  {
   "cell_type": "code",
   "execution_count": 66,
   "id": "f44d8752-d621-4c44-801e-c364c59ea156",
   "metadata": {
    "execution": {
     "iopub.execute_input": "2025-05-12T17:56:54.080344Z",
     "iopub.status.busy": "2025-05-12T17:56:54.079959Z",
     "iopub.status.idle": "2025-05-12T17:56:57.085933Z",
     "shell.execute_reply": "2025-05-12T17:56:57.084805Z"
    },
    "papermill": {
     "duration": 3.199541,
     "end_time": "2025-05-12T17:56:57.087980",
     "exception": false,
     "start_time": "2025-05-12T17:56:53.888439",
     "status": "completed"
    },
    "tags": []
   },
   "outputs": [
    {
     "name": "stdout",
     "output_type": "stream",
     "text": [
      "CPU times: user 2.46 s, sys: 57.5 ms, total: 2.52 s\n",
      "Wall time: 3 s\n"
     ]
    }
   ],
   "source": [
    "%%time\n",
    "# Sauvegarde du fichier dans un repertoire courant\n",
    "dest_file = (\n",
    "    Path(workspace.files_path)\n",
    "    / f\"Fichier Suivi de Stock/code/pipelines/fichier suivi de stock genere/{programme}/{date_report_format[:4]}\"\n",
    ")\n",
    "\n",
    "dest_file.mkdir(exist_ok=True, parents=True)\n",
    "\n",
    "dest_file = dest_file / f\"Fichier Suivi de Stock {programme}-{f_month}.xlsx\"\n",
    "\n",
    "wb_template.save(dest_file)"
   ]
  },
  {
   "cell_type": "code",
   "execution_count": 67,
   "id": "2e46bee1-54f4-48c9-986d-71ea1697f1dd",
   "metadata": {
    "execution": {
     "iopub.execute_input": "2025-05-12T17:56:58.113792Z",
     "iopub.status.busy": "2025-05-12T17:56:58.112678Z",
     "iopub.status.idle": "2025-05-12T17:57:02.050192Z",
     "shell.execute_reply": "2025-05-12T17:57:02.048987Z"
    },
    "papermill": {
     "duration": 4.772093,
     "end_time": "2025-05-12T17:57:02.052843",
     "exception": false,
     "start_time": "2025-05-12T17:56:57.280750",
     "status": "completed"
    },
    "tags": []
   },
   "outputs": [
    {
     "name": "stdout",
     "output_type": "stream",
     "text": [
      "Fichier trouvé : FICHIER SUIVI DE STOCK PNLP-MARS-2025.XLSX (ID: 1w-UFrXmdNIDVbGENByofwSbh3Ef1KJRa)\n"
     ]
    },
    {
     "name": "stdout",
     "output_type": "stream",
     "text": [
      "Fichier supprimé : FICHIER SUIVI DE STOCK PNLP-MARS-2025.XLSX\n"
     ]
    }
   ],
   "source": [
    "download_url = ggdrive.upload_and_return_link(\n",
    "    dest_file.as_posix(),\n",
    "    date_report_format,\n",
    ")"
   ]
  },
  {
   "cell_type": "code",
   "execution_count": 68,
   "id": "f1c90fd1-74f7-4b1f-b906-093975ea323e",
   "metadata": {
    "execution": {
     "iopub.execute_input": "2025-05-12T17:57:03.136103Z",
     "iopub.status.busy": "2025-05-12T17:57:03.134931Z",
     "iopub.status.idle": "2025-05-12T17:57:03.143928Z",
     "shell.execute_reply": "2025-05-12T17:57:03.142844Z"
    },
    "papermill": {
     "duration": 0.22856,
     "end_time": "2025-05-12T17:57:03.145812",
     "exception": false,
     "start_time": "2025-05-12T17:57:02.917252",
     "status": "completed"
    },
    "tags": []
   },
   "outputs": [],
   "source": [
    "df_download_url = pd.DataFrame(\n",
    "    data=[\n",
    "        {\n",
    "            \"programme\": programme,\n",
    "            \"download_url\": download_url,\n",
    "            \"date_report\": date_report_format,\n",
    "        }\n",
    "    ]\n",
    ")\n",
    "\n",
    "df_download_url.date_report = df_download_url.date_report.apply(\n",
    "    lambda x: pd.to_datetime(str(x)[:10], format=\"%Y-%m-%d\")\n",
    ")"
   ]
  },
  {
   "cell_type": "code",
   "execution_count": 69,
   "id": "01de3ddf-fc73-43bc-871f-c78aa90f5d37",
   "metadata": {
    "execution": {
     "iopub.execute_input": "2025-05-12T17:57:03.558726Z",
     "iopub.status.busy": "2025-05-12T17:57:03.557729Z",
     "iopub.status.idle": "2025-05-12T17:57:03.651384Z",
     "shell.execute_reply": "2025-05-12T17:57:03.650113Z"
    },
    "papermill": {
     "duration": 0.294755,
     "end_time": "2025-05-12T17:57:03.653306",
     "exception": false,
     "start_time": "2025-05-12T17:57:03.358551",
     "status": "completed"
    },
    "scrolled": true,
    "tags": []
   },
   "outputs": [
    {
     "data": {
      "text/html": [
       "<div>\n",
       "<style scoped>\n",
       "    .dataframe tbody tr th:only-of-type {\n",
       "        vertical-align: middle;\n",
       "    }\n",
       "\n",
       "    .dataframe tbody tr th {\n",
       "        vertical-align: top;\n",
       "    }\n",
       "\n",
       "    .dataframe thead th {\n",
       "        text-align: right;\n",
       "    }\n",
       "</style>\n",
       "<table border=\"1\" class=\"dataframe\">\n",
       "  <thead>\n",
       "    <tr style=\"text-align: right;\">\n",
       "      <th></th>\n",
       "      <th>id_share_link_pk</th>\n",
       "      <th>programme</th>\n",
       "      <th>download_url</th>\n",
       "      <th>date_report</th>\n",
       "    </tr>\n",
       "  </thead>\n",
       "  <tbody>\n",
       "    <tr>\n",
       "      <th>0</th>\n",
       "      <td>1</td>\n",
       "      <td>PNLP</td>\n",
       "      <td>https://drive.google.com/uc?id=1ECWpifZRPsj_xk...</td>\n",
       "      <td>2025-01-01</td>\n",
       "    </tr>\n",
       "    <tr>\n",
       "      <th>1</th>\n",
       "      <td>2</td>\n",
       "      <td>PNLP</td>\n",
       "      <td>https://drive.google.com/uc?id=1Kt1b5WtvRTGZcf...</td>\n",
       "      <td>2024-12-01</td>\n",
       "    </tr>\n",
       "    <tr>\n",
       "      <th>2</th>\n",
       "      <td>3</td>\n",
       "      <td>PNLS</td>\n",
       "      <td>https://drive.google.com/uc?id=1nwJdjZJue10fVA...</td>\n",
       "      <td>2024-12-01</td>\n",
       "    </tr>\n",
       "    <tr>\n",
       "      <th>3</th>\n",
       "      <td>5</td>\n",
       "      <td>PNLT</td>\n",
       "      <td>https://drive.google.com/uc?id=1ZbYwcqo4yunODi...</td>\n",
       "      <td>2024-12-01</td>\n",
       "    </tr>\n",
       "    <tr>\n",
       "      <th>4</th>\n",
       "      <td>6</td>\n",
       "      <td>PNLT</td>\n",
       "      <td>https://drive.google.com/uc?id=1RGmdhrn3-WdP0c...</td>\n",
       "      <td>2025-01-01</td>\n",
       "    </tr>\n",
       "    <tr>\n",
       "      <th>5</th>\n",
       "      <td>7</td>\n",
       "      <td>PNSME</td>\n",
       "      <td>https://drive.google.com/uc?id=1q5bqUgozycpGxK...</td>\n",
       "      <td>2024-12-01</td>\n",
       "    </tr>\n",
       "    <tr>\n",
       "      <th>6</th>\n",
       "      <td>8</td>\n",
       "      <td>PNSME</td>\n",
       "      <td>https://drive.google.com/uc?id=1BC_kZufkLXK5Ra...</td>\n",
       "      <td>2025-01-01</td>\n",
       "    </tr>\n",
       "    <tr>\n",
       "      <th>7</th>\n",
       "      <td>9</td>\n",
       "      <td>PNN</td>\n",
       "      <td>https://drive.google.com/uc?id=10z80VdlDTc6jnK...</td>\n",
       "      <td>2024-12-01</td>\n",
       "    </tr>\n",
       "    <tr>\n",
       "      <th>8</th>\n",
       "      <td>10</td>\n",
       "      <td>PNN</td>\n",
       "      <td>https://drive.google.com/uc?id=1OCNoFbRgSbf7lf...</td>\n",
       "      <td>2025-01-01</td>\n",
       "    </tr>\n",
       "    <tr>\n",
       "      <th>9</th>\n",
       "      <td>4</td>\n",
       "      <td>PNLS</td>\n",
       "      <td>https://drive.google.com/uc?id=18bC9vRuBW9nqbg...</td>\n",
       "      <td>2025-01-01</td>\n",
       "    </tr>\n",
       "    <tr>\n",
       "      <th>10</th>\n",
       "      <td>11</td>\n",
       "      <td>PNLS</td>\n",
       "      <td>https://drive.google.com/uc?id=18bC9vRuBW9nqbg...</td>\n",
       "      <td>2025-01-01</td>\n",
       "    </tr>\n",
       "    <tr>\n",
       "      <th>11</th>\n",
       "      <td>12</td>\n",
       "      <td>PNLP</td>\n",
       "      <td>https://drive.google.com/uc?id=1C-fpEVVzTAJ2V1...</td>\n",
       "      <td>2025-02-01</td>\n",
       "    </tr>\n",
       "    <tr>\n",
       "      <th>12</th>\n",
       "      <td>13</td>\n",
       "      <td>PNLS</td>\n",
       "      <td>https://drive.google.com/uc?id=1fvFlxbu9L6G9Od...</td>\n",
       "      <td>2025-02-01</td>\n",
       "    </tr>\n",
       "    <tr>\n",
       "      <th>13</th>\n",
       "      <td>14</td>\n",
       "      <td>PNLT</td>\n",
       "      <td>https://drive.google.com/uc?id=1ya9W7EZ7u671r7...</td>\n",
       "      <td>2025-02-01</td>\n",
       "    </tr>\n",
       "    <tr>\n",
       "      <th>14</th>\n",
       "      <td>15</td>\n",
       "      <td>PNN</td>\n",
       "      <td>https://drive.google.com/uc?id=1gVRSEe8xHpVE-S...</td>\n",
       "      <td>2025-02-01</td>\n",
       "    </tr>\n",
       "    <tr>\n",
       "      <th>15</th>\n",
       "      <td>16</td>\n",
       "      <td>PNSME</td>\n",
       "      <td>https://drive.google.com/uc?id=1XYYA8UI-Qzdxs4...</td>\n",
       "      <td>2025-02-01</td>\n",
       "    </tr>\n",
       "    <tr>\n",
       "      <th>16</th>\n",
       "      <td>17</td>\n",
       "      <td>PNLP</td>\n",
       "      <td>https://drive.google.com/uc?id=1Mv9LRDISiBMj7G...</td>\n",
       "      <td>2025-03-01</td>\n",
       "    </tr>\n",
       "  </tbody>\n",
       "</table>\n",
       "</div>"
      ],
      "text/plain": [
       "    id_share_link_pk programme  \\\n",
       "0                  1      PNLP   \n",
       "1                  2      PNLP   \n",
       "2                  3      PNLS   \n",
       "3                  5      PNLT   \n",
       "4                  6      PNLT   \n",
       "5                  7     PNSME   \n",
       "6                  8     PNSME   \n",
       "7                  9       PNN   \n",
       "8                 10       PNN   \n",
       "9                  4      PNLS   \n",
       "10                11      PNLS   \n",
       "11                12      PNLP   \n",
       "12                13      PNLS   \n",
       "13                14      PNLT   \n",
       "14                15       PNN   \n",
       "15                16     PNSME   \n",
       "16                17      PNLP   \n",
       "\n",
       "                                         download_url date_report  \n",
       "0   https://drive.google.com/uc?id=1ECWpifZRPsj_xk...  2025-01-01  \n",
       "1   https://drive.google.com/uc?id=1Kt1b5WtvRTGZcf...  2024-12-01  \n",
       "2   https://drive.google.com/uc?id=1nwJdjZJue10fVA...  2024-12-01  \n",
       "3   https://drive.google.com/uc?id=1ZbYwcqo4yunODi...  2024-12-01  \n",
       "4   https://drive.google.com/uc?id=1RGmdhrn3-WdP0c...  2025-01-01  \n",
       "5   https://drive.google.com/uc?id=1q5bqUgozycpGxK...  2024-12-01  \n",
       "6   https://drive.google.com/uc?id=1BC_kZufkLXK5Ra...  2025-01-01  \n",
       "7   https://drive.google.com/uc?id=10z80VdlDTc6jnK...  2024-12-01  \n",
       "8   https://drive.google.com/uc?id=1OCNoFbRgSbf7lf...  2025-01-01  \n",
       "9   https://drive.google.com/uc?id=18bC9vRuBW9nqbg...  2025-01-01  \n",
       "10  https://drive.google.com/uc?id=18bC9vRuBW9nqbg...  2025-01-01  \n",
       "11  https://drive.google.com/uc?id=1C-fpEVVzTAJ2V1...  2025-02-01  \n",
       "12  https://drive.google.com/uc?id=1fvFlxbu9L6G9Od...  2025-02-01  \n",
       "13  https://drive.google.com/uc?id=1ya9W7EZ7u671r7...  2025-02-01  \n",
       "14  https://drive.google.com/uc?id=1gVRSEe8xHpVE-S...  2025-02-01  \n",
       "15  https://drive.google.com/uc?id=1XYYA8UI-Qzdxs4...  2025-02-01  \n",
       "16  https://drive.google.com/uc?id=1Mv9LRDISiBMj7G...  2025-03-01  "
      ]
     },
     "execution_count": 69,
     "metadata": {},
     "output_type": "execute_result"
    }
   ],
   "source": [
    "stock_sync_manager.synchronize_table_data(\n",
    "    df_download_url,\n",
    "    table_name=\"share_link\",\n",
    "    merge_keys=[\"programme\", \"date_report\"],\n",
    "    programme=programme,\n",
    ")"
   ]
  }
 ],
 "metadata": {
  "kernelspec": {
   "display_name": "Python 3 (ipykernel)",
   "language": "python",
   "name": "python3"
  },
  "language_info": {
   "codemirror_mode": {
    "name": "ipython",
    "version": 3
   },
   "file_extension": ".py",
   "mimetype": "text/x-python",
   "name": "python",
   "nbconvert_exporter": "python",
   "pygments_lexer": "ipython3",
   "version": "3.12.8"
  },
  "papermill": {
   "default_parameters": {},
   "duration": 785.286409,
   "end_time": "2025-05-12T17:57:06.676333",
   "environment_variables": {},
   "exception": null,
   "input_path": "/home/hexa/workspace/Fichier Suivi de Stock/code/pipelines/mise a jour fichier suivi stock.ipynb",
   "output_path": "/home/hexa/workspace/Fichier Suivi de Stock/code/pipelines/output_notebook_execution/maj fichier suivi stock/PNLP/output_2025-05-12.ipynb",
   "parameters": {
    "fp_etat_mensuel": "Etat du stock et de distribution PNLP fin Mars 2025.xlsx",
    "fp_map_prod": "Mapping QAT_SAGEX3.xlsx",
    "fp_plan_approv": "Détails de l`envoiMar. 2025 ~ Dec. 2026.csv",
    "month_report": "Mars",
    "programme": "PNLP",
    "year_report": 2025
   },
   "start_time": "2025-05-12T17:44:01.389924",
   "version": "2.6.0"
  }
 },
 "nbformat": 4,
 "nbformat_minor": 5
}