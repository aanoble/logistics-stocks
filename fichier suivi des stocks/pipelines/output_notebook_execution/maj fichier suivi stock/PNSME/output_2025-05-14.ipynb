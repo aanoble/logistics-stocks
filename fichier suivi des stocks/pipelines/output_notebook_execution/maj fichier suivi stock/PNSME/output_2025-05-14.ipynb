{
 "cells": [
  {
   "cell_type": "markdown",
   "id": "6a2244e4-3226-4d02-9910-ca30f2ed18b5",
   "metadata": {
    "papermill": {
     "duration": 0.196933,
     "end_time": "2025-05-14T15:41:07.478985",
     "exception": false,
     "start_time": "2025-05-14T15:41:07.282052",
     "status": "completed"
    },
    "tags": []
   },
   "source": [
    "# I. Importation des bibliothèques"
   ]
  },
  {
   "cell_type": "code",
   "execution_count": 1,
   "id": "2ed56fcd-16c9-4916-98c6-aeb22c88b1c4",
   "metadata": {
    "execution": {
     "iopub.execute_input": "2025-05-14T15:41:08.334780Z",
     "iopub.status.busy": "2025-05-14T15:41:08.333542Z",
     "iopub.status.idle": "2025-05-14T15:41:12.432468Z",
     "shell.execute_reply": "2025-05-14T15:41:12.431369Z"
    },
    "papermill": {
     "duration": 4.778334,
     "end_time": "2025-05-14T15:41:12.434306",
     "exception": false,
     "start_time": "2025-05-14T15:41:07.655972",
     "status": "completed"
    },
    "tags": []
   },
   "outputs": [],
   "source": [
    "%%capture\n",
    "!pip install google-api-python-client google-auth-httplib2 google-auth-oauthlib unidecode"
   ]
  },
  {
   "cell_type": "code",
   "execution_count": 2,
   "id": "c8ef43d4-7fec-400f-86ce-30991fb1b709",
   "metadata": {
    "editable": true,
    "execution": {
     "iopub.execute_input": "2025-05-14T15:41:12.847564Z",
     "iopub.status.busy": "2025-05-14T15:41:12.847209Z",
     "iopub.status.idle": "2025-05-14T15:41:17.035343Z",
     "shell.execute_reply": "2025-05-14T15:41:17.034246Z"
    },
    "papermill": {
     "duration": 4.382483,
     "end_time": "2025-05-14T15:41:17.037287",
     "exception": false,
     "start_time": "2025-05-14T15:41:12.654804",
     "status": "completed"
    },
    "slideshow": {
     "slide_type": ""
    },
    "tags": []
   },
   "outputs": [],
   "source": [
    "%%capture\n",
    "import warnings\n",
    "\n",
    "warnings.filterwarnings(\"ignore\")\n",
    "\n",
    "import os\n",
    "from pathlib import Path\n",
    "\n",
    "import pandas as pd\n",
    "from openhexa.sdk import workspace\n",
    "from unidecode import unidecode\n",
    "\n",
    "pd.set_option(\"display.max_columns\", None)\n",
    "\n",
    "try:\n",
    "    import openpyxl as pyxl\n",
    "    from efc.interfaces.iopenpyxl import OpenpyxlInterface\n",
    "    from fuzzywuzzy import fuzz, process\n",
    "except ImportError or ModuleNotFoundError:\n",
    "    !pip install --quiet fuzzywuzzy python-Levenshtein excel-formulas-calculator\n",
    "    import openpyxl as pyxl\n",
    "    from efc.interfaces.iopenpyxl import OpenpyxlInterface"
   ]
  },
  {
   "cell_type": "markdown",
   "id": "8dab03ab-9414-4670-befc-42b395b44059",
   "metadata": {
    "papermill": {
     "duration": 0.191635,
     "end_time": "2025-05-14T15:41:17.459161",
     "exception": false,
     "start_time": "2025-05-14T15:41:17.267526",
     "status": "completed"
    },
    "tags": []
   },
   "source": [
    "## 1. Rafraîchissement des bibliothèques"
   ]
  },
  {
   "cell_type": "code",
   "execution_count": 3,
   "id": "3a21bbdd-e895-4122-91bc-553d8ae02123",
   "metadata": {
    "editable": true,
    "execution": {
     "iopub.execute_input": "2025-05-14T15:41:17.901984Z",
     "iopub.status.busy": "2025-05-14T15:41:17.901160Z",
     "iopub.status.idle": "2025-05-14T15:41:21.960785Z",
     "shell.execute_reply": "2025-05-14T15:41:21.959667Z"
    },
    "papermill": {
     "duration": 4.282734,
     "end_time": "2025-05-14T15:41:21.962863",
     "exception": false,
     "start_time": "2025-05-14T15:41:17.680129",
     "status": "completed"
    },
    "slideshow": {
     "slide_type": ""
    },
    "tags": []
   },
   "outputs": [],
   "source": [
    "%%capture\n",
    "# Ajout du chemin d'accès pour l'importation des bibliothèques\n",
    "os.chdir(Path(workspace.files_path, \"Fichier Suivi de Stock/code/pipelines\"))\n",
    "\n",
    "from importlib import reload\n",
    "\n",
    "import compute_indicators\n",
    "import export_file_to_google_drive as ggdrive\n",
    "import generate_stock_tracking_file as gstf\n",
    "\n",
    "# Importation des réquêtes sql\n",
    "from compute_indicators.queries import *\n",
    "from database_operations import stock_sync_manager\n",
    "\n",
    "# Reload modules\n",
    "reload(compute_indicators)\n",
    "reload(stock_sync_manager)\n",
    "reload(gstf)\n",
    "reload(ggdrive)"
   ]
  },
  {
   "cell_type": "markdown",
   "id": "e26b3de7-b38f-4e98-a2a4-a88374dd84b4",
   "metadata": {
    "papermill": {
     "duration": 4.004227,
     "end_time": "2025-05-14T15:41:26.185507",
     "exception": false,
     "start_time": "2025-05-14T15:41:22.181280",
     "status": "completed"
    },
    "tags": []
   },
   "source": [
    "# II. Définition des paramètres"
   ]
  },
  {
   "cell_type": "markdown",
   "id": "f4ff0a57-7b4d-48cb-bd95-b05c42e9b876",
   "metadata": {
    "papermill": {
     "duration": 0.224446,
     "end_time": "2025-05-14T15:41:26.624721",
     "exception": false,
     "start_time": "2025-05-14T15:41:26.400275",
     "status": "completed"
    },
    "tags": []
   },
   "source": [
    "## 1. Variables requises pour la conception du fichier de suivi de stock\n",
    "\n",
    "1. **Mois de création du rapport** : Si le processus est bien défini, cette valeur peut être automatisée. Sinon, elle sera fournie en tant qu'entrée du pipeline.\n",
    "\n",
    "2. **Programme** : Le programme concerné pour lequel le fichier de suivi de stock est généré.\n",
    "\n",
    "3. **Fichier État Mensuel** : Fichier transmis mensuellement par la N-PSP (source : SAGE X3).\n",
    "\n",
    "4. **Fichier Plan d'Approvisionnement** : Utilisé pour certains calculs, notamment dans la feuille « Prévision ». Ce fichier est généralement récupéré depuis la source QAT.\n",
    "\n",
    "5. **Fichier de mappage des produits** : Fichier assurant la correspondance entre les produits de SAGE X3 et ceux de QAT."
   ]
  },
  {
   "cell_type": "code",
   "execution_count": 4,
   "id": "5d4117a6-ce2c-4aff-b0ac-3e5dc57a2319",
   "metadata": {
    "editable": true,
    "execution": {
     "iopub.execute_input": "2025-05-14T15:41:27.052725Z",
     "iopub.status.busy": "2025-05-14T15:41:27.051897Z",
     "iopub.status.idle": "2025-05-14T15:41:27.057374Z",
     "shell.execute_reply": "2025-05-14T15:41:27.056162Z"
    },
    "papermill": {
     "duration": 0.221316,
     "end_time": "2025-05-14T15:41:27.059094",
     "exception": false,
     "start_time": "2025-05-14T15:41:26.837778",
     "status": "completed"
    },
    "slideshow": {
     "slide_type": ""
    },
    "tags": [
     "parameters"
    ]
   },
   "outputs": [],
   "source": [
    "month_report, year_report, programme, fp_etat_mensuel, fp_plan_approv, fp_map_prod = (\n",
    "    \"Mars\",\n",
    "    2025,\n",
    "    \"PNLP\",\n",
    "    \"Etat du stock et de distribution PNLP fin Mars 2025.xlsx\",\n",
    "    \"Détails de l`envoiMar. 2025 ~ Dec. 2026.csv\",\n",
    "    \"Mapping QAT_SAGEX3.xlsx\",\n",
    ")"
   ]
  },
  {
   "cell_type": "code",
   "execution_count": 5,
   "id": "32d542cb",
   "metadata": {
    "execution": {
     "iopub.execute_input": "2025-05-14T15:41:31.270693Z",
     "iopub.status.busy": "2025-05-14T15:41:31.270238Z",
     "iopub.status.idle": "2025-05-14T15:41:31.276000Z",
     "shell.execute_reply": "2025-05-14T15:41:31.274867Z"
    },
    "papermill": {
     "duration": 1.209878,
     "end_time": "2025-05-14T15:41:31.277649",
     "exception": false,
     "start_time": "2025-05-14T15:41:30.067771",
     "status": "completed"
    },
    "tags": [
     "injected-parameters"
    ]
   },
   "outputs": [],
   "source": [
    "# Parameters\n",
    "month_report = \"Mars\"\n",
    "year_report = 2025\n",
    "programme = \"PNSME\"\n",
    "fp_etat_mensuel = \"Etat du stock et de distribution PNSME fin Mars 2025.xlsx\"\n",
    "fp_plan_approv = \"De\\u0301tails de l`envoiMar. 2025 ~ Mar. 2026.csv\"\n",
    "fp_map_prod = \"Mapping QAT_SAGEX3.xlsx\"\n"
   ]
  },
  {
   "cell_type": "code",
   "execution_count": 6,
   "id": "7ffc244d-b753-49f8-8240-825a1e982c0b",
   "metadata": {
    "editable": true,
    "execution": {
     "iopub.execute_input": "2025-05-14T15:41:36.193511Z",
     "iopub.status.busy": "2025-05-14T15:41:36.193029Z",
     "iopub.status.idle": "2025-05-14T15:41:36.204138Z",
     "shell.execute_reply": "2025-05-14T15:41:36.203033Z"
    },
    "papermill": {
     "duration": 4.128378,
     "end_time": "2025-05-14T15:41:36.205837",
     "exception": false,
     "start_time": "2025-05-14T15:41:32.077459",
     "status": "completed"
    },
    "slideshow": {
     "slide_type": ""
    },
    "tags": []
   },
   "outputs": [],
   "source": [
    "month_export, date_report = month_report, compute_indicators.utils.format_date(month_report, year_report)\n",
    "\n",
    "date_report_prec = (pd.to_datetime(date_report).replace(day=1) - pd.offsets.MonthBegin()).strftime('%Y-%m-%d')"
   ]
  },
  {
   "cell_type": "markdown",
   "id": "6891eb05-f888-4c75-bdd0-749559cc7ca1",
   "metadata": {
    "papermill": {
     "duration": 0.242573,
     "end_time": "2025-05-14T15:41:36.675769",
     "exception": false,
     "start_time": "2025-05-14T15:41:36.433196",
     "status": "completed"
    },
    "tags": []
   },
   "source": [
    "## 2. Test pour s'assurer que cette date n'existe pas déjà dans la base de données"
   ]
  },
  {
   "cell_type": "code",
   "execution_count": 7,
   "id": "8b840e61-7ee1-478a-a6c3-c5b614e25f8b",
   "metadata": {
    "execution": {
     "iopub.execute_input": "2025-05-14T15:41:37.139601Z",
     "iopub.status.busy": "2025-05-14T15:41:37.139216Z",
     "iopub.status.idle": "2025-05-14T15:41:37.271702Z",
     "shell.execute_reply": "2025-05-14T15:41:37.270512Z"
    },
    "papermill": {
     "duration": 0.367974,
     "end_time": "2025-05-14T15:41:37.273416",
     "exception": false,
     "start_time": "2025-05-14T15:41:36.905442",
     "status": "completed"
    },
    "tags": []
   },
   "outputs": [
    {
     "name": "stdout",
     "output_type": "stream",
     "text": [
      "Connexion à la base de données établie avec succès\n"
     ]
    }
   ],
   "source": [
    "stock_sync_manager.initialize_database_connection()\n",
    "\n",
    "schema_name = \"suivi_stock\""
   ]
  },
  {
   "cell_type": "code",
   "execution_count": 8,
   "id": "4f4adfa5-719d-419c-8352-ad2e4dcdab8c",
   "metadata": {
    "execution": {
     "iopub.execute_input": "2025-05-14T15:41:37.784730Z",
     "iopub.status.busy": "2025-05-14T15:41:37.784385Z",
     "iopub.status.idle": "2025-05-14T15:41:37.872866Z",
     "shell.execute_reply": "2025-05-14T15:41:37.872073Z"
    },
    "papermill": {
     "duration": 0.396698,
     "end_time": "2025-05-14T15:41:37.874553",
     "exception": false,
     "start_time": "2025-05-14T15:41:37.477855",
     "status": "completed"
    },
    "tags": []
   },
   "outputs": [],
   "source": [
    "# Ici il faudrait également s'assurer que le mois précédent est bien présent à l'intérieur de la base de données au cas où on arriverait à se tromper sur le mois de conception du fichier\n",
    "df_ = stock_sync_manager.get_table_data(\n",
    "    query=f\"\"\"\n",
    "    select * \n",
    "    from {schema_name}.stock_track st \n",
    "    inner join {schema_name}.dim_produit_stock_track prod ON st.id_dim_produit_stock_track_fk = prod.id_dim_produit_stock_track_pk\n",
    "    where prod.programme='{programme}' and date_report='{date_report_prec}'\n",
    "    limit 2\n",
    "    \"\"\"\n",
    ")\n",
    "\n",
    "assert (\n",
    "    df_.shape[0] != 0\n",
    "), f\"Le mois précédent {date_report_prec} n'est pas présent dans la base de données locale êtes-vous sûre d'avoir choisir le bon mois de conception du fichier.\"\n",
    "\n",
    "del df_"
   ]
  },
  {
   "cell_type": "markdown",
   "id": "f89423e0-797c-4c0a-8ad6-1addbd0a7e3e",
   "metadata": {
    "papermill": {
     "duration": 0.226436,
     "end_time": "2025-05-14T15:41:38.967380",
     "exception": false,
     "start_time": "2025-05-14T15:41:38.740944",
     "status": "completed"
    },
    "tags": []
   },
   "source": [
    "# III.📥Importation des Données\n",
    "  \n",
    "L'utilisateur doit veiller à ce que les fichiers respectent le format attendu et soient placés dans les répertoires dédiés avant de procéder au traitement."
   ]
  },
  {
   "cell_type": "markdown",
   "id": "73015d7f-f3c2-4b44-96b6-1046109dbf21",
   "metadata": {
    "papermill": {
     "duration": 0.223449,
     "end_time": "2025-05-14T15:41:48.075325",
     "exception": false,
     "start_time": "2025-05-14T15:41:47.851876",
     "status": "completed"
    },
    "tags": []
   },
   "source": [
    "## 📌1. Importation du fichier `Etat de Stock Mensuel`\n",
    "\n",
    "- **Format requis :** Assurez-vous que le fichier respecte le template standard défini.\n",
    "- **Emplacement du fichier :** Le fichier doit être placé dans le répertoire dédié :  \n",
    "  **`Fichier Suivi de Stock/data/<programme>/Etat de Stock Mensuel`**\n",
    "  \n",
    "- **En cas d'erreur :**  \n",
    "  - Vérifiez que le fichier est bien présent dans le répertoire.  \n",
    "  - Assurez-vous que toutes les colonnes requises sont bien renseignées.  \n",
    "  - Contrôlez que le fichier est bien accessible et non corrompu."
   ]
  },
  {
   "cell_type": "code",
   "execution_count": 9,
   "id": "d02f7b2e-14f1-4174-95b4-c6cdaea297be",
   "metadata": {
    "execution": {
     "iopub.execute_input": "2025-05-14T15:41:48.478892Z",
     "iopub.status.busy": "2025-05-14T15:41:48.478509Z",
     "iopub.status.idle": "2025-05-14T15:41:49.020599Z",
     "shell.execute_reply": "2025-05-14T15:41:49.019525Z"
    },
    "papermill": {
     "duration": 0.755087,
     "end_time": "2025-05-14T15:41:49.022446",
     "exception": false,
     "start_time": "2025-05-14T15:41:48.267359",
     "status": "completed"
    },
    "tags": []
   },
   "outputs": [],
   "source": [
    "fp_etat_mensuel = (\n",
    "    Path(workspace.files_path)\n",
    "    / f\"Fichier Suivi de Stock/data/{programme}/Etat de Stock Mensuel\"\n",
    "    / Path(fp_etat_mensuel).name\n",
    ")\n",
    "\n",
    "sheetnames = pd.ExcelFile(fp_etat_mensuel).sheet_names"
   ]
  },
  {
   "cell_type": "markdown",
   "id": "36d21a7b-10c2-4c81-bc38-2a1dcf0916a0",
   "metadata": {
    "papermill": {
     "duration": 0.217091,
     "end_time": "2025-05-14T15:41:49.494560",
     "exception": false,
     "start_time": "2025-05-14T15:41:49.277469",
     "status": "completed"
    },
    "tags": []
   },
   "source": [
    "## 📌2. Importation de la feuille `Etat de stock de la NPSP`"
   ]
  },
  {
   "cell_type": "code",
   "execution_count": 10,
   "id": "f81ccd62-7a85-4830-a782-0721f40ed33a",
   "metadata": {
    "execution": {
     "iopub.execute_input": "2025-05-14T15:41:51.799492Z",
     "iopub.status.busy": "2025-05-14T15:41:51.798472Z",
     "iopub.status.idle": "2025-05-14T15:41:51.962152Z",
     "shell.execute_reply": "2025-05-14T15:41:51.961184Z"
    },
    "papermill": {
     "duration": 1.452471,
     "end_time": "2025-05-14T15:41:51.963694",
     "exception": false,
     "start_time": "2025-05-14T15:41:50.511223",
     "status": "completed"
    },
    "tags": []
   },
   "outputs": [
    {
     "data": {
      "text/html": [
       "<div>\n",
       "<style scoped>\n",
       "    .dataframe tbody tr th:only-of-type {\n",
       "        vertical-align: middle;\n",
       "    }\n",
       "\n",
       "    .dataframe tbody tr th {\n",
       "        vertical-align: top;\n",
       "    }\n",
       "\n",
       "    .dataframe thead th {\n",
       "        text-align: right;\n",
       "    }\n",
       "</style>\n",
       "<table border=\"1\" class=\"dataframe\">\n",
       "  <thead>\n",
       "    <tr style=\"text-align: right;\">\n",
       "      <th></th>\n",
       "      <th>date_report</th>\n",
       "      <th>code_produit</th>\n",
       "      <th>designation</th>\n",
       "      <th>contenance</th>\n",
       "      <th>dmm</th>\n",
       "      <th>traceurs</th>\n",
       "      <th>stock_theorique_bke</th>\n",
       "      <th>stock_theorique_abj</th>\n",
       "      <th>stock_theorique_central</th>\n",
       "      <th>stock_theorique_fin_mois</th>\n",
       "      <th>msd</th>\n",
       "      <th>statut_stock</th>\n",
       "      <th>programme</th>\n",
       "    </tr>\n",
       "  </thead>\n",
       "  <tbody>\n",
       "    <tr>\n",
       "      <th>1</th>\n",
       "      <td>2025-03-01</td>\n",
       "      <td>3120022.0</td>\n",
       "      <td>MAGNESIUM SULFATE 500 mg / ml amp. inj. BTE/10</td>\n",
       "      <td>BOITE/10</td>\n",
       "      <td>586</td>\n",
       "      <td>1.0</td>\n",
       "      <td>12071.0</td>\n",
       "      <td>23595.0</td>\n",
       "      <td>2.0</td>\n",
       "      <td>35668.0</td>\n",
       "      <td>60.866894</td>\n",
       "      <td>Surstock</td>\n",
       "      <td>PNSME</td>\n",
       "    </tr>\n",
       "    <tr>\n",
       "      <th>2</th>\n",
       "      <td>2025-03-01</td>\n",
       "      <td>3120048.0</td>\n",
       "      <td>SAYANA PRESS (MEDROXYPROGESTERONE) 104 mg / 0....</td>\n",
       "      <td>AMPOULE</td>\n",
       "      <td>24559</td>\n",
       "      <td>0.0</td>\n",
       "      <td>87932.0</td>\n",
       "      <td>382899.0</td>\n",
       "      <td>52000.0</td>\n",
       "      <td>523431.0</td>\n",
       "      <td>21.313205</td>\n",
       "      <td>Surstock</td>\n",
       "      <td>PNSME</td>\n",
       "    </tr>\n",
       "  </tbody>\n",
       "</table>\n",
       "</div>"
      ],
      "text/plain": [
       "  date_report  code_produit  \\\n",
       "1  2025-03-01     3120022.0   \n",
       "2  2025-03-01     3120048.0   \n",
       "\n",
       "                                         designation contenance    dmm  \\\n",
       "1     MAGNESIUM SULFATE 500 mg / ml amp. inj. BTE/10   BOITE/10    586   \n",
       "2  SAYANA PRESS (MEDROXYPROGESTERONE) 104 mg / 0....    AMPOULE  24559   \n",
       "\n",
       "   traceurs  stock_theorique_bke  stock_theorique_abj  \\\n",
       "1       1.0              12071.0              23595.0   \n",
       "2       0.0              87932.0             382899.0   \n",
       "\n",
       "   stock_theorique_central  stock_theorique_fin_mois        msd statut_stock  \\\n",
       "1                      2.0                   35668.0  60.866894     Surstock   \n",
       "2                  52000.0                  523431.0  21.313205     Surstock   \n",
       "\n",
       "  programme  \n",
       "1     PNSME  \n",
       "2     PNSME  "
      ]
     },
     "execution_count": 10,
     "metadata": {},
     "output_type": "execute_result"
    }
   ],
   "source": [
    "sheet_stock_npsp = compute_indicators.utils.check_if_sheet_name_in_file('Etat de stock', sheetnames)\n",
    "\n",
    "assert sheet_stock_npsp is not None, print(f\"La feuille `Etat de stock` n'est pas dans la liste {sheetnames} du classeur excel\")\n",
    "\n",
    "df_etat_stock_npsp = pd.read_excel(fp_etat_mensuel, sheet_name=sheet_stock_npsp, skiprows=4)\n",
    "df_etat_stock_npsp.columns = df_etat_stock_npsp.columns.str.strip()\n",
    "\n",
    "del sheet_stock_npsp\n",
    "\n",
    "df_etat_stock_npsp = df_etat_stock_npsp.loc[df_etat_stock_npsp[\"Nouveau code\"].notna()]\n",
    "\n",
    "df_etat_stock_npsp = compute_indicators.file_utils.process_etat_stock_npsp(df_etat_stock_npsp, date_report, programme)\n",
    "\n",
    "df_etat_stock_npsp.head(2)"
   ]
  },
  {
   "cell_type": "markdown",
   "id": "35af5650-cbb4-4b85-9fdd-301717a20e95",
   "metadata": {
    "papermill": {
     "duration": 3.006672,
     "end_time": "2025-05-14T15:41:56.546299",
     "exception": false,
     "start_time": "2025-05-14T15:41:53.539627",
     "status": "completed"
    },
    "tags": []
   },
   "source": [
    "## 📌3. Importation de la feuille `Stock detaille`"
   ]
  },
  {
   "cell_type": "code",
   "execution_count": 11,
   "id": "7722f6ab-9539-4935-9e0d-7b8973dabf7c",
   "metadata": {
    "execution": {
     "iopub.execute_input": "2025-05-14T15:41:56.907824Z",
     "iopub.status.busy": "2025-05-14T15:41:56.906800Z",
     "iopub.status.idle": "2025-05-14T15:41:57.388944Z",
     "shell.execute_reply": "2025-05-14T15:41:57.388132Z"
    },
    "papermill": {
     "duration": 0.669747,
     "end_time": "2025-05-14T15:41:57.390487",
     "exception": false,
     "start_time": "2025-05-14T15:41:56.720740",
     "status": "completed"
    },
    "tags": []
   },
   "outputs": [
    {
     "data": {
      "text/html": [
       "<div>\n",
       "<style scoped>\n",
       "    .dataframe tbody tr th:only-of-type {\n",
       "        vertical-align: middle;\n",
       "    }\n",
       "\n",
       "    .dataframe tbody tr th {\n",
       "        vertical-align: top;\n",
       "    }\n",
       "\n",
       "    .dataframe thead th {\n",
       "        text-align: right;\n",
       "    }\n",
       "</style>\n",
       "<table border=\"1\" class=\"dataframe\">\n",
       "  <thead>\n",
       "    <tr style=\"text-align: right;\">\n",
       "      <th></th>\n",
       "      <th>Code produit</th>\n",
       "      <th>Désignation</th>\n",
       "      <th>Emplacement</th>\n",
       "      <th>Date limite de consommation</th>\n",
       "      <th>Numéro Lot</th>\n",
       "      <th>Sous lot (Programme)</th>\n",
       "      <th>Qté \\nPhysique</th>\n",
       "      <th>Qté \\nlivrable</th>\n",
       "      <th>Unit</th>\n",
       "      <th>Site</th>\n",
       "      <th>Dépôt</th>\n",
       "      <th>Sous lot</th>\n",
       "      <th>Site.1</th>\n",
       "      <th>Bailleur</th>\n",
       "      <th>Statut</th>\n",
       "    </tr>\n",
       "  </thead>\n",
       "  <tbody>\n",
       "    <tr>\n",
       "      <th>0</th>\n",
       "      <td>3120048</td>\n",
       "      <td>SAYANA PRESS (MEDROXYPROGESTERONE) 104 mg / 0....</td>\n",
       "      <td>01A01A07</td>\n",
       "      <td>2026-08-01</td>\n",
       "      <td>HJ18315</td>\n",
       "      <td>PNSME</td>\n",
       "      <td>200</td>\n",
       "      <td>200</td>\n",
       "      <td>UN</td>\n",
       "      <td>PG01</td>\n",
       "      <td>PGWIB</td>\n",
       "      <td>PNSME</td>\n",
       "      <td>PG01</td>\n",
       "      <td>BAILLEURX</td>\n",
       "      <td>A</td>\n",
       "    </tr>\n",
       "    <tr>\n",
       "      <th>1</th>\n",
       "      <td>3120048</td>\n",
       "      <td>SAYANA PRESS (MEDROXYPROGESTERONE) 104 mg / 0....</td>\n",
       "      <td>01A01A21</td>\n",
       "      <td>2026-06-01</td>\n",
       "      <td>HG8170</td>\n",
       "      <td>PNSME</td>\n",
       "      <td>5000</td>\n",
       "      <td>5000</td>\n",
       "      <td>UN</td>\n",
       "      <td>PG01</td>\n",
       "      <td>PGWIB</td>\n",
       "      <td>PNSME</td>\n",
       "      <td>PG01</td>\n",
       "      <td>BAILLEURX</td>\n",
       "      <td>A</td>\n",
       "    </tr>\n",
       "  </tbody>\n",
       "</table>\n",
       "</div>"
      ],
      "text/plain": [
       "   Code produit                                        Désignation  \\\n",
       "0       3120048  SAYANA PRESS (MEDROXYPROGESTERONE) 104 mg / 0....   \n",
       "1       3120048  SAYANA PRESS (MEDROXYPROGESTERONE) 104 mg / 0....   \n",
       "\n",
       "  Emplacement Date limite de consommation Numéro Lot Sous lot (Programme)  \\\n",
       "0    01A01A07                  2026-08-01    HJ18315                PNSME   \n",
       "1    01A01A21                  2026-06-01     HG8170                PNSME   \n",
       "\n",
       "   Qté \\nPhysique  Qté \\nlivrable Unit  Site  Dépôt Sous lot Site.1  \\\n",
       "0             200             200   UN  PG01  PGWIB    PNSME   PG01   \n",
       "1            5000            5000   UN  PG01  PGWIB    PNSME   PG01   \n",
       "\n",
       "    Bailleur Statut  \n",
       "0  BAILLEURX      A  \n",
       "1  BAILLEURX      A  "
      ]
     },
     "execution_count": 11,
     "metadata": {},
     "output_type": "execute_result"
    }
   ],
   "source": [
    "sheet_stock_detaille = compute_indicators.utils.check_if_sheet_name_in_file('Stock detaille', sheetnames)\n",
    "\n",
    "assert sheet_stock_detaille is not None, print(f\"La feuille `Stock detaille` n'est pas dans la liste {sheetnames} du classeur excel\")\n",
    "\n",
    "df_stock_detaille = pd.read_excel(fp_etat_mensuel, sheet_name=sheet_stock_detaille)\n",
    "df_stock_detaille.columns = df_stock_detaille.columns.str.strip()\n",
    "\n",
    "max_date_year = pd.Timestamp.max.year\n",
    "\n",
    "df_stock_detaille[\"Date limite de consommation\"] = df_stock_detaille[\"Date limite de consommation\"].apply(\n",
    "    lambda x: x if x.year<max_date_year else x.replace(year=max_date_year-1)\n",
    ")\n",
    "\n",
    "del sheet_stock_detaille, max_date_year\n",
    "\n",
    "df_stock_detaille.head(2)"
   ]
  },
  {
   "cell_type": "markdown",
   "id": "37de2849-dc65-4fb7-b87a-8faf7121f280",
   "metadata": {
    "papermill": {
     "duration": 0.180833,
     "end_time": "2025-05-14T15:41:57.786710",
     "exception": false,
     "start_time": "2025-05-14T15:41:57.605877",
     "status": "completed"
    },
    "tags": []
   },
   "source": [
    "## 📌4. Importation de la feuille `Distribution X3`"
   ]
  },
  {
   "cell_type": "code",
   "execution_count": 12,
   "id": "7f1f692a-9147-4ac1-b50e-a0ba94ca588f",
   "metadata": {
    "execution": {
     "iopub.execute_input": "2025-05-14T15:41:59.828183Z",
     "iopub.status.busy": "2025-05-14T15:41:59.827757Z",
     "iopub.status.idle": "2025-05-14T15:42:00.061919Z",
     "shell.execute_reply": "2025-05-14T15:42:00.060921Z"
    },
    "papermill": {
     "duration": 2.067361,
     "end_time": "2025-05-14T15:42:00.063636",
     "exception": false,
     "start_time": "2025-05-14T15:41:57.996275",
     "status": "completed"
    },
    "tags": []
   },
   "outputs": [
    {
     "data": {
      "text/html": [
       "<div>\n",
       "<style scoped>\n",
       "    .dataframe tbody tr th:only-of-type {\n",
       "        vertical-align: middle;\n",
       "    }\n",
       "\n",
       "    .dataframe tbody tr th {\n",
       "        vertical-align: top;\n",
       "    }\n",
       "\n",
       "    .dataframe thead th {\n",
       "        text-align: right;\n",
       "    }\n",
       "</style>\n",
       "<table border=\"1\" class=\"dataframe\">\n",
       "  <thead>\n",
       "    <tr style=\"text-align: right;\">\n",
       "      <th></th>\n",
       "      <th>Programme</th>\n",
       "      <th>Date de livraison</th>\n",
       "      <th>No commande</th>\n",
       "      <th>No livraison</th>\n",
       "      <th>Client</th>\n",
       "      <th>Raison sociale</th>\n",
       "      <th>Article</th>\n",
       "      <th>Désignation</th>\n",
       "      <th>Unité vente</th>\n",
       "      <th>Qté commandée</th>\n",
       "      <th>Qté livrée</th>\n",
       "    </tr>\n",
       "  </thead>\n",
       "  <tbody>\n",
       "    <tr>\n",
       "      <th>0</th>\n",
       "      <td>PNSME</td>\n",
       "      <td>2025-03-03</td>\n",
       "      <td>VAL01-PSG-2502-0037</td>\n",
       "      <td>BL01-PSG-2503-0146</td>\n",
       "      <td>60300394</td>\n",
       "      <td>FSU COCODY DISPENSAIRE</td>\n",
       "      <td>3120022</td>\n",
       "      <td>SULFATE DE MAGNESIUM 500mg/ml amp 2ml BTE/10 B...</td>\n",
       "      <td>BTE</td>\n",
       "      <td>1</td>\n",
       "      <td>1</td>\n",
       "    </tr>\n",
       "    <tr>\n",
       "      <th>1</th>\n",
       "      <td>PNSME</td>\n",
       "      <td>2025-03-04</td>\n",
       "      <td>VAL01-PSG-2502-0206</td>\n",
       "      <td>BL01-PSG-2503-0337</td>\n",
       "      <td>42800074</td>\n",
       "      <td>HOPITAL GENERAL TIASSALE</td>\n",
       "      <td>3120004</td>\n",
       "      <td>DEPO-PROVERA (DMPA-IM) 150mg amp inj BTE/20 BT...</td>\n",
       "      <td>BTE</td>\n",
       "      <td>3</td>\n",
       "      <td>3</td>\n",
       "    </tr>\n",
       "  </tbody>\n",
       "</table>\n",
       "</div>"
      ],
      "text/plain": [
       "  Programme Date de livraison          No commande        No livraison  \\\n",
       "0     PNSME        2025-03-03  VAL01-PSG-2502-0037  BL01-PSG-2503-0146   \n",
       "1     PNSME        2025-03-04  VAL01-PSG-2502-0206  BL01-PSG-2503-0337   \n",
       "\n",
       "     Client            Raison sociale  Article  \\\n",
       "0  60300394    FSU COCODY DISPENSAIRE  3120022   \n",
       "1  42800074  HOPITAL GENERAL TIASSALE  3120004   \n",
       "\n",
       "                                         Désignation Unité vente  \\\n",
       "0  SULFATE DE MAGNESIUM 500mg/ml amp 2ml BTE/10 B...         BTE   \n",
       "1  DEPO-PROVERA (DMPA-IM) 150mg amp inj BTE/20 BT...         BTE   \n",
       "\n",
       "   Qté commandée  Qté livrée  \n",
       "0              1           1  \n",
       "1              3           3  "
      ]
     },
     "execution_count": 12,
     "metadata": {},
     "output_type": "execute_result"
    }
   ],
   "source": [
    "sheet_distribution_x3 = compute_indicators.utils.check_if_sheet_name_in_file('Distribution', sheetnames)\n",
    "\n",
    "assert sheet_distribution_x3 is not None, print(f\"La feuille `Distribution X3` n'est pas dans la liste {sheetnames} du classeur excel\")\n",
    "\n",
    "df_distribution = pd.read_excel(fp_etat_mensuel, sheet_name=sheet_distribution_x3)\n",
    "df_distribution.columns = df_distribution.columns.str.strip()\n",
    "\n",
    "del sheet_distribution_x3\n",
    "\n",
    "df_distribution.head(2)"
   ]
  },
  {
   "cell_type": "markdown",
   "id": "ccad74b5-8006-4fb2-9728-ec7b22892cc2",
   "metadata": {
    "papermill": {
     "duration": 2.660642,
     "end_time": "2025-05-14T15:42:05.869788",
     "exception": false,
     "start_time": "2025-05-14T15:42:03.209146",
     "status": "completed"
    },
    "tags": []
   },
   "source": [
    "## 📌5. Importation de la feuille `Receptions`"
   ]
  },
  {
   "cell_type": "code",
   "execution_count": 13,
   "id": "aba1696b-3a88-4499-8e96-218b21191f07",
   "metadata": {
    "execution": {
     "iopub.execute_input": "2025-05-14T15:42:06.380291Z",
     "iopub.status.busy": "2025-05-14T15:42:06.379882Z",
     "iopub.status.idle": "2025-05-14T15:42:06.488699Z",
     "shell.execute_reply": "2025-05-14T15:42:06.487525Z"
    },
    "papermill": {
     "duration": 0.314397,
     "end_time": "2025-05-14T15:42:06.490396",
     "exception": false,
     "start_time": "2025-05-14T15:42:06.175999",
     "status": "completed"
    },
    "tags": []
   },
   "outputs": [
    {
     "data": {
      "text/html": [
       "<div>\n",
       "<style scoped>\n",
       "    .dataframe tbody tr th:only-of-type {\n",
       "        vertical-align: middle;\n",
       "    }\n",
       "\n",
       "    .dataframe tbody tr th {\n",
       "        vertical-align: top;\n",
       "    }\n",
       "\n",
       "    .dataframe thead th {\n",
       "        text-align: right;\n",
       "    }\n",
       "</style>\n",
       "<table border=\"1\" class=\"dataframe\">\n",
       "  <thead>\n",
       "    <tr style=\"text-align: right;\">\n",
       "      <th></th>\n",
       "      <th>Programme</th>\n",
       "      <th>Bailleur (Funding)</th>\n",
       "      <th>Nouveau code</th>\n",
       "      <th>Code</th>\n",
       "      <th>Désignation NPSP</th>\n",
       "      <th>Date de réception effective</th>\n",
       "      <th>Date effective de dépotage et/ou expertise</th>\n",
       "      <th>Quantité réceptionnée</th>\n",
       "      <th>Date d'entrée en machine</th>\n",
       "    </tr>\n",
       "  </thead>\n",
       "  <tbody>\n",
       "    <tr>\n",
       "      <th>0</th>\n",
       "      <td>PNSME</td>\n",
       "      <td>SWEDD</td>\n",
       "      <td>3120048</td>\n",
       "      <td>NaN</td>\n",
       "      <td>SAYANA PRESS (MEDROXYPROGESTERONE) 104 mg / 0....</td>\n",
       "      <td>2025-03-03</td>\n",
       "      <td>2025-03-05</td>\n",
       "      <td>11000</td>\n",
       "      <td>NaN</td>\n",
       "    </tr>\n",
       "    <tr>\n",
       "      <th>1</th>\n",
       "      <td>PNSME</td>\n",
       "      <td>UNFPA</td>\n",
       "      <td>3120044</td>\n",
       "      <td>AS46000</td>\n",
       "      <td>PRESERVATIF MASCULIN BTE/144</td>\n",
       "      <td>2025-03-10</td>\n",
       "      <td>2025-03-13</td>\n",
       "      <td>13681</td>\n",
       "      <td>NaN</td>\n",
       "    </tr>\n",
       "  </tbody>\n",
       "</table>\n",
       "</div>"
      ],
      "text/plain": [
       "  Programme Bailleur (Funding)  Nouveau code     Code  \\\n",
       "0     PNSME              SWEDD       3120048      NaN   \n",
       "1     PNSME              UNFPA       3120044  AS46000   \n",
       "\n",
       "                                    Désignation NPSP  \\\n",
       "0  SAYANA PRESS (MEDROXYPROGESTERONE) 104 mg / 0....   \n",
       "1                       PRESERVATIF MASCULIN BTE/144   \n",
       "\n",
       "  Date de réception effective Date effective de dépotage et/ou expertise  \\\n",
       "0                  2025-03-03                                 2025-03-05   \n",
       "1                  2025-03-10                                 2025-03-13   \n",
       "\n",
       "   Quantité réceptionnée  Date d'entrée en machine  \n",
       "0                  11000                       NaN  \n",
       "1                  13681                       NaN  "
      ]
     },
     "execution_count": 13,
     "metadata": {},
     "output_type": "execute_result"
    }
   ],
   "source": [
    "sheet_reception = compute_indicators.utils.check_if_sheet_name_in_file('Receptions', sheetnames)\n",
    "\n",
    "assert sheet_reception is not None, print(f\"La feuille `Receptions` n'est pas dans la liste {sheetnames} du classeur excel\")\n",
    "\n",
    "df_receptions = pd.read_excel(fp_etat_mensuel, sheet_name=sheet_reception)\n",
    "df_receptions.columns = df_receptions.columns.str.strip()\n",
    "\n",
    "del sheet_reception\n",
    "\n",
    "df_receptions.head(2)"
   ]
  },
  {
   "cell_type": "markdown",
   "id": "5fca5f1b-ec81-4434-b361-25edab77eb43",
   "metadata": {
    "papermill": {
     "duration": 0.190758,
     "end_time": "2025-05-14T15:42:06.870826",
     "exception": false,
     "start_time": "2025-05-14T15:42:06.680068",
     "status": "completed"
    },
    "tags": []
   },
   "source": [
    "## 📌6. Importation de la feuille `PPI`"
   ]
  },
  {
   "cell_type": "code",
   "execution_count": 14,
   "id": "028e57f8-0239-43a3-b979-56fc164212e4",
   "metadata": {
    "execution": {
     "iopub.execute_input": "2025-05-14T15:42:13.792908Z",
     "iopub.status.busy": "2025-05-14T15:42:13.792558Z",
     "iopub.status.idle": "2025-05-14T15:42:13.899464Z",
     "shell.execute_reply": "2025-05-14T15:42:13.898420Z"
    },
    "papermill": {
     "duration": 5.905799,
     "end_time": "2025-05-14T15:42:13.901030",
     "exception": false,
     "start_time": "2025-05-14T15:42:07.995231",
     "status": "completed"
    },
    "tags": []
   },
   "outputs": [
    {
     "data": {
      "text/html": [
       "<div>\n",
       "<style scoped>\n",
       "    .dataframe tbody tr th:only-of-type {\n",
       "        vertical-align: middle;\n",
       "    }\n",
       "\n",
       "    .dataframe tbody tr th {\n",
       "        vertical-align: top;\n",
       "    }\n",
       "\n",
       "    .dataframe thead th {\n",
       "        text-align: right;\n",
       "    }\n",
       "</style>\n",
       "<table border=\"1\" class=\"dataframe\">\n",
       "  <thead>\n",
       "    <tr style=\"text-align: right;\">\n",
       "      <th></th>\n",
       "      <th>Code Produit</th>\n",
       "      <th>Nom Produit</th>\n",
       "      <th>Unite</th>\n",
       "      <th>Numéro Lot</th>\n",
       "      <th>Date Peremption</th>\n",
       "      <th>Quantité</th>\n",
       "    </tr>\n",
       "  </thead>\n",
       "  <tbody>\n",
       "  </tbody>\n",
       "</table>\n",
       "</div>"
      ],
      "text/plain": [
       "Empty DataFrame\n",
       "Columns: [Code Produit, Nom Produit, Unite, Numéro Lot, Date Peremption, Quantité]\n",
       "Index: []"
      ]
     },
     "execution_count": 14,
     "metadata": {},
     "output_type": "execute_result"
    }
   ],
   "source": [
    "sheet_ppi = compute_indicators.utils.check_if_sheet_name_in_file('PPI', sheetnames)\n",
    "\n",
    "assert sheet_ppi is not None, print(f\"La feuille `PPI` n'est pas dans la liste {sheetnames} du classeur excel\")\n",
    "\n",
    "df_ppi = pd.read_excel(fp_etat_mensuel, sheet_name=sheet_ppi, skiprows=2)\n",
    "df_ppi.columns = df_ppi.columns.str.strip()\n",
    "\n",
    "del sheet_ppi\n",
    "\n",
    "df_ppi.head(2)"
   ]
  },
  {
   "cell_type": "markdown",
   "id": "7d034716-4571-4dbd-ab3c-a59bc9cd8d70",
   "metadata": {
    "papermill": {
     "duration": 0.19324,
     "end_time": "2025-05-14T15:42:15.457992",
     "exception": false,
     "start_time": "2025-05-14T15:42:15.264752",
     "status": "completed"
    },
    "tags": []
   },
   "source": [
    "## 📌7. Importation de la feuille  `Prélèvement`"
   ]
  },
  {
   "cell_type": "code",
   "execution_count": 15,
   "id": "f19419ab-c0ad-444f-9d58-c816e6a3371b",
   "metadata": {
    "execution": {
     "iopub.execute_input": "2025-05-14T15:42:15.843548Z",
     "iopub.status.busy": "2025-05-14T15:42:15.843175Z",
     "iopub.status.idle": "2025-05-14T15:42:15.951827Z",
     "shell.execute_reply": "2025-05-14T15:42:15.950858Z"
    },
    "papermill": {
     "duration": 0.299376,
     "end_time": "2025-05-14T15:42:15.953488",
     "exception": false,
     "start_time": "2025-05-14T15:42:15.654112",
     "status": "completed"
    },
    "tags": []
   },
   "outputs": [
    {
     "data": {
      "text/html": [
       "<div>\n",
       "<style scoped>\n",
       "    .dataframe tbody tr th:only-of-type {\n",
       "        vertical-align: middle;\n",
       "    }\n",
       "\n",
       "    .dataframe tbody tr th {\n",
       "        vertical-align: top;\n",
       "    }\n",
       "\n",
       "    .dataframe thead th {\n",
       "        text-align: right;\n",
       "    }\n",
       "</style>\n",
       "<table border=\"1\" class=\"dataframe\">\n",
       "  <thead>\n",
       "    <tr style=\"text-align: right;\">\n",
       "      <th></th>\n",
       "      <th>Code Produit</th>\n",
       "      <th>Nom Produit</th>\n",
       "      <th>Unite</th>\n",
       "      <th>Numéro Lot</th>\n",
       "      <th>Date Peremption</th>\n",
       "      <th>Quantité</th>\n",
       "    </tr>\n",
       "  </thead>\n",
       "  <tbody>\n",
       "  </tbody>\n",
       "</table>\n",
       "</div>"
      ],
      "text/plain": [
       "Empty DataFrame\n",
       "Columns: [Code Produit, Nom Produit, Unite, Numéro Lot, Date Peremption, Quantité]\n",
       "Index: []"
      ]
     },
     "execution_count": 15,
     "metadata": {},
     "output_type": "execute_result"
    }
   ],
   "source": [
    "sheet_prelev = compute_indicators.utils.check_if_sheet_name_in_file('Prelèvement CQ', sheetnames)\n",
    "\n",
    "assert sheet_prelev is not None, print(f\"La feuille `Prelèvement CQ` n'est pas dans la liste {sheetnames} du classeur excel\")\n",
    "\n",
    "df_prelevement = pd.read_excel(fp_etat_mensuel, sheet_name=sheet_prelev, skiprows=2)\n",
    "df_prelevement.columns = df_prelevement.columns.str.strip()\n",
    "\n",
    "del sheet_prelev\n",
    "\n",
    "df_prelevement.head(2)"
   ]
  },
  {
   "cell_type": "markdown",
   "id": "6df2ffd3-0e49-4c80-adc1-1219f1756a8a",
   "metadata": {
    "papermill": {
     "duration": 0.690959,
     "end_time": "2025-05-14T15:42:17.712385",
     "exception": false,
     "start_time": "2025-05-14T15:42:17.021426",
     "status": "completed"
    },
    "tags": []
   },
   "source": [
    "## 📌8. Importation du fichier de `mapping des produits QAT et SAGE X3`\n",
    "\n",
    "- **Format requis :** Respectez la structure du fichier.  \n",
    "- **Emplacement du fichier :** Le fichier doit être placé dans le répertoire suivant :  \n",
    "  **`Fichier Suivi de Stock/data/Mapping produits QAT SAGE X3`**  \n",
    "- **En cas d'erreur :**\n",
    "  - Vérifiez que le fichier est bien présent dans le répertoire.  \n",
    "  - Assurez-vous que les données respectent le format attendu. \n",
    "  - Vérifiez l'intégrité du fichier et assurez-vous et corriger l'anomalie."
   ]
  },
  {
   "cell_type": "code",
   "execution_count": 16,
   "id": "d7c8434e-8083-4d70-91bf-07c813f36fe4",
   "metadata": {
    "execution": {
     "iopub.execute_input": "2025-05-14T15:42:25.096452Z",
     "iopub.status.busy": "2025-05-14T15:42:25.095546Z",
     "iopub.status.idle": "2025-05-14T15:42:25.100578Z",
     "shell.execute_reply": "2025-05-14T15:42:25.099638Z"
    },
    "papermill": {
     "duration": 7.070954,
     "end_time": "2025-05-14T15:42:25.102522",
     "exception": false,
     "start_time": "2025-05-14T15:42:18.031568",
     "status": "completed"
    },
    "tags": []
   },
   "outputs": [],
   "source": [
    "fp_map_prod = (\n",
    "    Path(workspace.files_path)\n",
    "    / \"Fichier Suivi de Stock/data/Mapping produits QAT SAGE X3\"\n",
    "    / Path(fp_map_prod).name\n",
    ")"
   ]
  },
  {
   "cell_type": "code",
   "execution_count": 17,
   "id": "8fb198eb-ad43-4572-b4ff-7f3cbcc52a13",
   "metadata": {
    "execution": {
     "iopub.execute_input": "2025-05-14T15:42:25.551447Z",
     "iopub.status.busy": "2025-05-14T15:42:25.550333Z",
     "iopub.status.idle": "2025-05-14T15:42:25.628353Z",
     "shell.execute_reply": "2025-05-14T15:42:25.627454Z"
    },
    "papermill": {
     "duration": 0.319531,
     "end_time": "2025-05-14T15:42:25.630055",
     "exception": false,
     "start_time": "2025-05-14T15:42:25.310524",
     "status": "completed"
    },
    "tags": []
   },
   "outputs": [],
   "source": [
    "assert fp_map_prod.exists(), \"Le fichier de mapping des produits n'a pas été retrouvé dans le dossier dédié\""
   ]
  },
  {
   "cell_type": "markdown",
   "id": "e9df904b-5610-4442-aac3-294e6a2e0330",
   "metadata": {
    "papermill": {
     "duration": 0.207792,
     "end_time": "2025-05-14T15:42:26.025154",
     "exception": false,
     "start_time": "2025-05-14T15:42:25.817362",
     "status": "completed"
    },
    "tags": []
   },
   "source": [
    "## 📌9. Importation du `Plan d'approvisionnement`\n",
    "\n",
    "- **Format requis :** Respectez la structure du fichier définie pour l’importation peut conserver le fichier brut extrait de QAT.  \n",
    "- **Emplacement du fichier :** Le fichier doit être placé dans le répertoire suivant :  \n",
    "  **`Fichier Suivi de Stock/data/<programme>/Plan d'Approvisionnement`**  \n",
    "- **En cas d'erreur :**\n",
    "  - Vérifiez que le fichier est bien présent dans le répertoire.  \n",
    "  - Assurez-vous que les données respectent le format attendu.\n",
    "  - Vérifiez l'intégrité du fichier et assurez-vous et corriger l'anomalie."
   ]
  },
  {
   "cell_type": "code",
   "execution_count": 18,
   "id": "e5fe00dc-e276-4175-ab18-a31b4eeffe6e",
   "metadata": {
    "execution": {
     "iopub.execute_input": "2025-05-14T15:42:27.624392Z",
     "iopub.status.busy": "2025-05-14T15:42:27.623336Z",
     "iopub.status.idle": "2025-05-14T15:42:27.628767Z",
     "shell.execute_reply": "2025-05-14T15:42:27.628025Z"
    },
    "papermill": {
     "duration": 0.617718,
     "end_time": "2025-05-14T15:42:27.630106",
     "exception": false,
     "start_time": "2025-05-14T15:42:27.012388",
     "status": "completed"
    },
    "tags": []
   },
   "outputs": [],
   "source": [
    "fp_plan_approv = (\n",
    "    Path(workspace.files_path)\n",
    "    / f\"Fichier Suivi de Stock/data/{programme}/Plan d'Approvisionnement\"\n",
    "    / Path(fp_plan_approv)\n",
    ")"
   ]
  },
  {
   "cell_type": "code",
   "execution_count": 19,
   "id": "e3eb96f7-270b-4a55-a8b7-d74a6342b06d",
   "metadata": {
    "execution": {
     "iopub.execute_input": "2025-05-14T15:42:38.143825Z",
     "iopub.status.busy": "2025-05-14T15:42:38.143337Z",
     "iopub.status.idle": "2025-05-14T15:42:38.481243Z",
     "shell.execute_reply": "2025-05-14T15:42:38.480132Z"
    },
    "papermill": {
     "duration": 0.546204,
     "end_time": "2025-05-14T15:42:38.482965",
     "exception": false,
     "start_time": "2025-05-14T15:42:37.936761",
     "status": "completed"
    },
    "tags": []
   },
   "outputs": [
    {
     "data": {
      "text/html": [
       "<div>\n",
       "<style scoped>\n",
       "    .dataframe tbody tr th:only-of-type {\n",
       "        vertical-align: middle;\n",
       "    }\n",
       "\n",
       "    .dataframe tbody tr th {\n",
       "        vertical-align: top;\n",
       "    }\n",
       "\n",
       "    .dataframe thead th {\n",
       "        text-align: right;\n",
       "    }\n",
       "</style>\n",
       "<table border=\"1\" class=\"dataframe\">\n",
       "  <thead>\n",
       "    <tr style=\"text-align: right;\">\n",
       "      <th></th>\n",
       "      <th>ID de produit QAT</th>\n",
       "      <th>Produits</th>\n",
       "      <th>ID de l`envoi QAT</th>\n",
       "      <th>Commande d`urgence</th>\n",
       "      <th>Commande PGI</th>\n",
       "      <th>Approvisionnement local</th>\n",
       "      <th>N° de commande de l`agent d`approvisionnement</th>\n",
       "      <th>Agent d`approvisionnement</th>\n",
       "      <th>Source de financement</th>\n",
       "      <th>Budget</th>\n",
       "      <th>Status</th>\n",
       "      <th>Quantite</th>\n",
       "      <th>DATE</th>\n",
       "      <th>Cout des Produits</th>\n",
       "      <th>Couts du fret</th>\n",
       "      <th>Couts totaux</th>\n",
       "      <th>Notes</th>\n",
       "      <th>Standard product code</th>\n",
       "      <th>cout_unitaire_moyen_qat</th>\n",
       "      <th>facteur_de_conversion_qat_sage</th>\n",
       "      <th>acronym</th>\n",
       "      <th>code_and_date_concate</th>\n",
       "    </tr>\n",
       "  </thead>\n",
       "  <tbody>\n",
       "    <tr>\n",
       "      <th>0</th>\n",
       "      <td>2638</td>\n",
       "      <td>Medroxyprogesterone Acetate 104 mg/0.65 mL  SC...</td>\n",
       "      <td>162621</td>\n",
       "      <td>false</td>\n",
       "      <td>false</td>\n",
       "      <td>false</td>\n",
       "      <td></td>\n",
       "      <td>UNFPA</td>\n",
       "      <td>Govt</td>\n",
       "      <td>BGERCIV2024</td>\n",
       "      <td>Reçu</td>\n",
       "      <td>50000.0</td>\n",
       "      <td>2025-03-04</td>\n",
       "      <td>42500.0</td>\n",
       "      <td>5100.0</td>\n",
       "      <td>47600.0</td>\n",
       "      <td>Facture de 100 millions. Date d'expertise le 0...</td>\n",
       "      <td>3120048.0</td>\n",
       "      <td>0.85</td>\n",
       "      <td>1.0</td>\n",
       "      <td>Sayana Press</td>\n",
       "      <td>3120048_2025-03-04</td>\n",
       "    </tr>\n",
       "    <tr>\n",
       "      <th>1</th>\n",
       "      <td>2638</td>\n",
       "      <td>Medroxyprogesterone Acetate 104 mg/0.65 mL  SC...</td>\n",
       "      <td>162622</td>\n",
       "      <td>false</td>\n",
       "      <td>false</td>\n",
       "      <td>false</td>\n",
       "      <td></td>\n",
       "      <td>UNFPA</td>\n",
       "      <td>Govt</td>\n",
       "      <td>BGERCIV2024</td>\n",
       "      <td>Approuvé</td>\n",
       "      <td>100000.0</td>\n",
       "      <td>2025-03-31</td>\n",
       "      <td>85000.0</td>\n",
       "      <td>10200.0</td>\n",
       "      <td>95200.0</td>\n",
       "      <td>Facture proforma de 350 millions</td>\n",
       "      <td>3120048.0</td>\n",
       "      <td>0.85</td>\n",
       "      <td>1.0</td>\n",
       "      <td>Sayana Press</td>\n",
       "      <td>3120048_2025-03-31</td>\n",
       "    </tr>\n",
       "  </tbody>\n",
       "</table>\n",
       "</div>"
      ],
      "text/plain": [
       "   ID de produit QAT                                           Produits  \\\n",
       "0               2638  Medroxyprogesterone Acetate 104 mg/0.65 mL  SC...   \n",
       "1               2638  Medroxyprogesterone Acetate 104 mg/0.65 mL  SC...   \n",
       "\n",
       "   ID de l`envoi QAT Commande d`urgence Commande PGI Approvisionnement local  \\\n",
       "0             162621              false        false                   false   \n",
       "1             162622              false        false                   false   \n",
       "\n",
       "  N° de commande de l`agent d`approvisionnement Agent d`approvisionnement  \\\n",
       "0                                                                   UNFPA   \n",
       "1                                                                   UNFPA   \n",
       "\n",
       "  Source de financement       Budget    Status  Quantite       DATE  \\\n",
       "0                  Govt  BGERCIV2024      Reçu   50000.0 2025-03-04   \n",
       "1                  Govt  BGERCIV2024  Approuvé  100000.0 2025-03-31   \n",
       "\n",
       "   Cout des Produits  Couts du fret  Couts totaux  \\\n",
       "0            42500.0         5100.0       47600.0   \n",
       "1            85000.0        10200.0       95200.0   \n",
       "\n",
       "                                               Notes  Standard product code  \\\n",
       "0  Facture de 100 millions. Date d'expertise le 0...              3120048.0   \n",
       "1                   Facture proforma de 350 millions              3120048.0   \n",
       "\n",
       "   cout_unitaire_moyen_qat  facteur_de_conversion_qat_sage       acronym  \\\n",
       "0                     0.85                             1.0  Sayana Press   \n",
       "1                     0.85                             1.0  Sayana Press   \n",
       "\n",
       "  code_and_date_concate  \n",
       "0    3120048_2025-03-04  \n",
       "1    3120048_2025-03-31  "
      ]
     },
     "execution_count": 19,
     "metadata": {},
     "output_type": "execute_result"
    }
   ],
   "source": [
    "df_plan_approv = compute_indicators.file_utils.process_pa_files(fp_plan_approv, fp_map_prod, programme)\n",
    "\n",
    "df_plan_approv[\"facteur_de_conversion_qat_sage\"] = df_plan_approv[\"facteur_de_conversion_qat_sage\"].apply(\n",
    "    lambda x: x if not pd.isna(x) else 1\n",
    ")\n",
    "\n",
    "df_plan_approv.head(2)"
   ]
  },
  {
   "cell_type": "markdown",
   "id": "16319b53-77c7-423a-999a-37aa2052514e",
   "metadata": {
    "papermill": {
     "duration": 0.235438,
     "end_time": "2025-05-14T15:42:38.967833",
     "exception": false,
     "start_time": "2025-05-14T15:42:38.732395",
     "status": "completed"
    },
    "tags": []
   },
   "source": [
    "# IV.📊Calcul des Indicateurs"
   ]
  },
  {
   "cell_type": "markdown",
   "id": "46d1687e-eb8e-4515-9be3-1bc3ffb55184",
   "metadata": {
    "papermill": {
     "duration": 0.203553,
     "end_time": "2025-05-14T15:42:39.360246",
     "exception": false,
     "start_time": "2025-05-14T15:42:39.156693",
     "status": "completed"
    },
    "tags": []
   },
   "source": [
    "## 📌1. `Etat de Stock (1/2)`"
   ]
  },
  {
   "cell_type": "code",
   "execution_count": 20,
   "id": "177a7f70-8d09-45b6-94fd-0900686bfc84",
   "metadata": {
    "execution": {
     "iopub.execute_input": "2025-05-14T15:42:45.784440Z",
     "iopub.status.busy": "2025-05-14T15:42:45.783530Z",
     "iopub.status.idle": "2025-05-14T15:42:45.950236Z",
     "shell.execute_reply": "2025-05-14T15:42:45.949404Z"
    },
    "papermill": {
     "duration": 2.694257,
     "end_time": "2025-05-14T15:42:45.951672",
     "exception": false,
     "start_time": "2025-05-14T15:42:43.257415",
     "status": "completed"
    },
    "tags": []
   },
   "outputs": [
    {
     "name": "stdout",
     "output_type": "stream",
     "text": [
      "Connexion à la base de données établie avec succès\n"
     ]
    },
    {
     "data": {
      "text/html": [
       "<div>\n",
       "<style scoped>\n",
       "    .dataframe tbody tr th:only-of-type {\n",
       "        vertical-align: middle;\n",
       "    }\n",
       "\n",
       "    .dataframe tbody tr th {\n",
       "        vertical-align: top;\n",
       "    }\n",
       "\n",
       "    .dataframe thead th {\n",
       "        text-align: right;\n",
       "    }\n",
       "</style>\n",
       "<table border=\"1\" class=\"dataframe\">\n",
       "  <thead>\n",
       "    <tr style=\"text-align: right;\">\n",
       "      <th></th>\n",
       "      <th>id_dim_produit_stock_track_pk</th>\n",
       "      <th>code_produit</th>\n",
       "      <th>ancien_code</th>\n",
       "      <th>categorie</th>\n",
       "      <th>designation</th>\n",
       "      <th>type_produit</th>\n",
       "      <th>unit_niveau_central</th>\n",
       "      <th>unit_niveau_peripherique</th>\n",
       "      <th>facteur_de_conversion</th>\n",
       "      <th>designation_acronym</th>\n",
       "      <th>code_qat</th>\n",
       "      <th>programme</th>\n",
       "      <th>cout_unitaire_moyen_qat</th>\n",
       "      <th>facteur_de_conversion_qat_sage</th>\n",
       "      <th>stock_theorique_mois_precedent</th>\n",
       "    </tr>\n",
       "  </thead>\n",
       "  <tbody>\n",
       "    <tr>\n",
       "      <th>0</th>\n",
       "      <td>364</td>\n",
       "      <td>4030088</td>\n",
       "      <td>AS42018</td>\n",
       "      <td>PRODUITS PF</td>\n",
       "      <td>COPPER TCU 380 A (CUIVRE) UNITE  -</td>\n",
       "      <td>Traceur</td>\n",
       "      <td>STERILET</td>\n",
       "      <td>STERILET</td>\n",
       "      <td>1</td>\n",
       "      <td>COPPER TCU</td>\n",
       "      <td>None</td>\n",
       "      <td>PNSME</td>\n",
       "      <td>NaN</td>\n",
       "      <td>NaN</td>\n",
       "      <td>2608.0</td>\n",
       "    </tr>\n",
       "    <tr>\n",
       "      <th>1</th>\n",
       "      <td>365</td>\n",
       "      <td>3120009</td>\n",
       "      <td>AS46022</td>\n",
       "      <td>PRODUITS PF</td>\n",
       "      <td>GEL LUBRIFIANT 5 ML SACHET</td>\n",
       "      <td>Non traceur</td>\n",
       "      <td>SACHET</td>\n",
       "      <td>None</td>\n",
       "      <td>1</td>\n",
       "      <td>GEL LUBRIFIANT</td>\n",
       "      <td>None</td>\n",
       "      <td>PNSME</td>\n",
       "      <td>NaN</td>\n",
       "      <td>NaN</td>\n",
       "      <td>0.0</td>\n",
       "    </tr>\n",
       "  </tbody>\n",
       "</table>\n",
       "</div>"
      ],
      "text/plain": [
       "   id_dim_produit_stock_track_pk  code_produit ancien_code    categorie  \\\n",
       "0                            364       4030088     AS42018  PRODUITS PF   \n",
       "1                            365       3120009     AS46022  PRODUITS PF   \n",
       "\n",
       "                          designation type_produit unit_niveau_central  \\\n",
       "0  COPPER TCU 380 A (CUIVRE) UNITE  -      Traceur            STERILET   \n",
       "1          GEL LUBRIFIANT 5 ML SACHET  Non traceur              SACHET   \n",
       "\n",
       "  unit_niveau_peripherique  facteur_de_conversion designation_acronym  \\\n",
       "0                 STERILET                      1          COPPER TCU   \n",
       "1                     None                      1      GEL LUBRIFIANT   \n",
       "\n",
       "  code_qat programme  cout_unitaire_moyen_qat  facteur_de_conversion_qat_sage  \\\n",
       "0     None     PNSME                      NaN                             NaN   \n",
       "1     None     PNSME                      NaN                             NaN   \n",
       "\n",
       "   stock_theorique_mois_precedent  \n",
       "0                          2608.0  \n",
       "1                             0.0  "
      ]
     },
     "execution_count": 20,
     "metadata": {},
     "output_type": "execute_result"
    }
   ],
   "source": [
    "stock_sync_manager.initialize_database_connection()\n",
    "\n",
    "schema_name = \"suivi_stock\"\n",
    "\n",
    "df_etat_stock = stock_sync_manager.get_table_data(\n",
    "    query=QUERY_ETAT_STOCK.format(\n",
    "        schema_name=schema_name, programme=programme, date_report_prec=date_report_prec\n",
    "    )\n",
    ").drop_duplicates()\n",
    "\n",
    "df_etat_stock.head(2)"
   ]
  },
  {
   "cell_type": "code",
   "execution_count": 21,
   "id": "0cc47bc4-3b68-4d26-882e-05b121b18ec5",
   "metadata": {
    "execution": {
     "iopub.execute_input": "2025-05-14T15:42:46.391776Z",
     "iopub.status.busy": "2025-05-14T15:42:46.391433Z",
     "iopub.status.idle": "2025-05-14T15:42:46.458665Z",
     "shell.execute_reply": "2025-05-14T15:42:46.458008Z"
    },
    "papermill": {
     "duration": 0.278541,
     "end_time": "2025-05-14T15:42:46.459993",
     "exception": false,
     "start_time": "2025-05-14T15:42:46.181452",
     "status": "completed"
    },
    "tags": []
   },
   "outputs": [
    {
     "data": {
      "text/html": [
       "<div>\n",
       "<style scoped>\n",
       "    .dataframe tbody tr th:only-of-type {\n",
       "        vertical-align: middle;\n",
       "    }\n",
       "\n",
       "    .dataframe tbody tr th {\n",
       "        vertical-align: top;\n",
       "    }\n",
       "\n",
       "    .dataframe thead th {\n",
       "        text-align: right;\n",
       "    }\n",
       "</style>\n",
       "<table border=\"1\" class=\"dataframe\">\n",
       "  <thead>\n",
       "    <tr style=\"text-align: right;\">\n",
       "      <th></th>\n",
       "      <th>id_dim_produit_stock_track_pk</th>\n",
       "      <th>code_produit</th>\n",
       "      <th>ancien_code</th>\n",
       "      <th>categorie</th>\n",
       "      <th>designation</th>\n",
       "      <th>type_produit</th>\n",
       "      <th>unit_niveau_central</th>\n",
       "      <th>unit_niveau_peripherique</th>\n",
       "      <th>facteur_de_conversion</th>\n",
       "      <th>designation_acronym</th>\n",
       "      <th>code_qat</th>\n",
       "      <th>programme</th>\n",
       "      <th>cout_unitaire_moyen_qat</th>\n",
       "      <th>facteur_de_conversion_qat_sage</th>\n",
       "      <th>stock_theorique_mois_precedent</th>\n",
       "      <th>Distribution effectuée</th>\n",
       "      <th>Quantité reçue entrée en stock</th>\n",
       "      <th>Quantité de PPI</th>\n",
       "      <th>Quantité prélévée en Contrôle Qualité (CQ)</th>\n",
       "      <th>Ajustement de stock</th>\n",
       "      <th>Stock Théorique Final SAGE</th>\n",
       "      <th>Stock Théorique Final Attendu</th>\n",
       "      <th>ECARTS</th>\n",
       "      <th>Justification des écarts</th>\n",
       "      <th>Diligences</th>\n",
       "      <th>Dilig. Choisie</th>\n",
       "    </tr>\n",
       "  </thead>\n",
       "  <tbody>\n",
       "    <tr>\n",
       "      <th>0</th>\n",
       "      <td>364</td>\n",
       "      <td>4030088</td>\n",
       "      <td>AS42018</td>\n",
       "      <td>PRODUITS PF</td>\n",
       "      <td>COPPER TCU 380 A (CUIVRE) UNITE  -</td>\n",
       "      <td>Traceur</td>\n",
       "      <td>STERILET</td>\n",
       "      <td>STERILET</td>\n",
       "      <td>1</td>\n",
       "      <td>COPPER TCU</td>\n",
       "      <td>None</td>\n",
       "      <td>PNSME</td>\n",
       "      <td>NaN</td>\n",
       "      <td>NaN</td>\n",
       "      <td>2608.0</td>\n",
       "      <td>1851</td>\n",
       "      <td>0</td>\n",
       "      <td>0</td>\n",
       "      <td>0</td>\n",
       "      <td>NaN</td>\n",
       "      <td>4010</td>\n",
       "      <td>757.0</td>\n",
       "      <td>3253.0</td>\n",
       "      <td></td>\n",
       "      <td></td>\n",
       "      <td></td>\n",
       "    </tr>\n",
       "    <tr>\n",
       "      <th>1</th>\n",
       "      <td>365</td>\n",
       "      <td>3120009</td>\n",
       "      <td>AS46022</td>\n",
       "      <td>PRODUITS PF</td>\n",
       "      <td>GEL LUBRIFIANT 5 ML SACHET</td>\n",
       "      <td>Non traceur</td>\n",
       "      <td>SACHET</td>\n",
       "      <td>None</td>\n",
       "      <td>1</td>\n",
       "      <td>GEL LUBRIFIANT</td>\n",
       "      <td>None</td>\n",
       "      <td>PNSME</td>\n",
       "      <td>NaN</td>\n",
       "      <td>NaN</td>\n",
       "      <td>0.0</td>\n",
       "      <td>0</td>\n",
       "      <td>0</td>\n",
       "      <td>0</td>\n",
       "      <td>0</td>\n",
       "      <td>NaN</td>\n",
       "      <td>0</td>\n",
       "      <td>0.0</td>\n",
       "      <td>0.0</td>\n",
       "      <td></td>\n",
       "      <td></td>\n",
       "      <td></td>\n",
       "    </tr>\n",
       "    <tr>\n",
       "      <th>2</th>\n",
       "      <td>366</td>\n",
       "      <td>3120013</td>\n",
       "      <td>AS27138</td>\n",
       "      <td>PRODUITS PF</td>\n",
       "      <td>IMPLANON IMPLANT 68 MG BTE/1 BOITE  -</td>\n",
       "      <td>Traceur</td>\n",
       "      <td>BOITE</td>\n",
       "      <td>UNITE</td>\n",
       "      <td>1</td>\n",
       "      <td>IMPLANON</td>\n",
       "      <td>2983.0</td>\n",
       "      <td>PNSME</td>\n",
       "      <td>8.5</td>\n",
       "      <td>1.0</td>\n",
       "      <td>189262.0</td>\n",
       "      <td>20895</td>\n",
       "      <td>0</td>\n",
       "      <td>0</td>\n",
       "      <td>0</td>\n",
       "      <td>NaN</td>\n",
       "      <td>213717</td>\n",
       "      <td>168367.0</td>\n",
       "      <td>45350.0</td>\n",
       "      <td></td>\n",
       "      <td></td>\n",
       "      <td></td>\n",
       "    </tr>\n",
       "  </tbody>\n",
       "</table>\n",
       "</div>"
      ],
      "text/plain": [
       "   id_dim_produit_stock_track_pk  code_produit ancien_code    categorie  \\\n",
       "0                            364       4030088     AS42018  PRODUITS PF   \n",
       "1                            365       3120009     AS46022  PRODUITS PF   \n",
       "2                            366       3120013     AS27138  PRODUITS PF   \n",
       "\n",
       "                             designation type_produit unit_niveau_central  \\\n",
       "0     COPPER TCU 380 A (CUIVRE) UNITE  -      Traceur            STERILET   \n",
       "1             GEL LUBRIFIANT 5 ML SACHET  Non traceur              SACHET   \n",
       "2  IMPLANON IMPLANT 68 MG BTE/1 BOITE  -      Traceur               BOITE   \n",
       "\n",
       "  unit_niveau_peripherique  facteur_de_conversion designation_acronym  \\\n",
       "0                 STERILET                      1          COPPER TCU   \n",
       "1                     None                      1      GEL LUBRIFIANT   \n",
       "2                    UNITE                      1            IMPLANON   \n",
       "\n",
       "  code_qat programme  cout_unitaire_moyen_qat  facteur_de_conversion_qat_sage  \\\n",
       "0     None     PNSME                      NaN                             NaN   \n",
       "1     None     PNSME                      NaN                             NaN   \n",
       "2   2983.0     PNSME                      8.5                             1.0   \n",
       "\n",
       "   stock_theorique_mois_precedent  Distribution effectuée  \\\n",
       "0                          2608.0                    1851   \n",
       "1                             0.0                       0   \n",
       "2                        189262.0                   20895   \n",
       "\n",
       "   Quantité reçue entrée en stock  Quantité de PPI  \\\n",
       "0                               0                0   \n",
       "1                               0                0   \n",
       "2                               0                0   \n",
       "\n",
       "   Quantité prélévée en Contrôle Qualité (CQ)  Ajustement de stock  \\\n",
       "0                                           0                  NaN   \n",
       "1                                           0                  NaN   \n",
       "2                                           0                  NaN   \n",
       "\n",
       "   Stock Théorique Final SAGE  Stock Théorique Final Attendu   ECARTS  \\\n",
       "0                        4010                          757.0   3253.0   \n",
       "1                           0                            0.0      0.0   \n",
       "2                      213717                       168367.0  45350.0   \n",
       "\n",
       "  Justification des écarts Diligences Dilig. Choisie  \n",
       "0                                                     \n",
       "1                                                     \n",
       "2                                                     "
      ]
     },
     "metadata": {},
     "output_type": "display_data"
    },
    {
     "name": "stdout",
     "output_type": "stream",
     "text": [
      "CPU times: user 59.1 ms, sys: 4.13 ms, total: 63.3 ms\n",
      "Wall time: 62.4 ms\n"
     ]
    }
   ],
   "source": [
    "%%time\n",
    "df_etat_stock = compute_indicators.annexe_1.get_etat_stock_current_month(\n",
    "    df_etat_stock.copy(),\n",
    "    df_stock_detaille.copy(),\n",
    "    df_distribution.copy(),\n",
    "    df_ppi.copy(),\n",
    "    df_prelevement.copy(),\n",
    "    df_receptions.copy(),\n",
    "    date_report\n",
    ")"
   ]
  },
  {
   "cell_type": "markdown",
   "id": "67fc32ed-308b-4166-ba9b-0ed51410cb58",
   "metadata": {
    "papermill": {
     "duration": 0.194553,
     "end_time": "2025-05-14T15:42:46.829197",
     "exception": false,
     "start_time": "2025-05-14T15:42:46.634644",
     "status": "completed"
    },
    "tags": []
   },
   "source": [
    "## 📌2.`Distributions et Consommations` - `Annexe 1`"
   ]
  },
  {
   "cell_type": "markdown",
   "id": "060791ec-5daf-443b-86a2-2a9e9046a654",
   "metadata": {
    "papermill": {
     "duration": 0.341269,
     "end_time": "2025-05-14T15:42:48.191835",
     "exception": false,
     "start_time": "2025-05-14T15:42:47.850566",
     "status": "completed"
    },
    "tags": []
   },
   "source": [
    "### 2.1.`Distributions`"
   ]
  },
  {
   "cell_type": "code",
   "execution_count": 22,
   "id": "3d47d66d-04ec-4f76-9aa3-b36d9fb31117",
   "metadata": {
    "execution": {
     "iopub.execute_input": "2025-05-14T15:42:54.493608Z",
     "iopub.status.busy": "2025-05-14T15:42:54.492765Z",
     "iopub.status.idle": "2025-05-14T15:42:54.601541Z",
     "shell.execute_reply": "2025-05-14T15:42:54.600708Z"
    },
    "papermill": {
     "duration": 3.543709,
     "end_time": "2025-05-14T15:42:54.603084",
     "exception": false,
     "start_time": "2025-05-14T15:42:51.059375",
     "status": "completed"
    },
    "tags": []
   },
   "outputs": [
    {
     "name": "stdout",
     "output_type": "stream",
     "text": [
      "CPU times: user 52.5 ms, sys: 887 μs, total: 53.4 ms\n",
      "Wall time: 103 ms\n"
     ]
    }
   ],
   "source": [
    "%%time\n",
    "df_dmm_curent, df_dmm_histo = compute_indicators.annexe_1.get_dmm_current_month(\n",
    "    df_etat_stock.copy(),\n",
    "    programme,\n",
    "    date_report,\n",
    "    stock_sync_manager.civ_engine\n",
    ")"
   ]
  },
  {
   "cell_type": "markdown",
   "id": "1646a2e7-aad7-4fdb-b9a6-9c9556df601e",
   "metadata": {
    "papermill": {
     "duration": 0.197255,
     "end_time": "2025-05-14T15:42:55.802078",
     "exception": false,
     "start_time": "2025-05-14T15:42:55.604823",
     "status": "completed"
    },
    "tags": []
   },
   "source": [
    "### 2.2.`Consommations`"
   ]
  },
  {
   "cell_type": "code",
   "execution_count": 23,
   "id": "25ad743a-e6e6-4481-8885-ca4057c65434",
   "metadata": {
    "editable": true,
    "execution": {
     "iopub.execute_input": "2025-05-14T15:42:56.178104Z",
     "iopub.status.busy": "2025-05-14T15:42:56.177207Z",
     "iopub.status.idle": "2025-05-14T15:42:56.255151Z",
     "shell.execute_reply": "2025-05-14T15:42:56.254198Z"
    },
    "papermill": {
     "duration": 0.25533,
     "end_time": "2025-05-14T15:42:56.256648",
     "exception": false,
     "start_time": "2025-05-14T15:42:56.001318",
     "status": "completed"
    },
    "slideshow": {
     "slide_type": ""
    },
    "tags": []
   },
   "outputs": [
    {
     "data": {
      "text/html": [
       "<div>\n",
       "<style scoped>\n",
       "    .dataframe tbody tr th:only-of-type {\n",
       "        vertical-align: middle;\n",
       "    }\n",
       "\n",
       "    .dataframe tbody tr th {\n",
       "        vertical-align: top;\n",
       "    }\n",
       "\n",
       "    .dataframe thead th {\n",
       "        text-align: right;\n",
       "    }\n",
       "</style>\n",
       "<table border=\"1\" class=\"dataframe\">\n",
       "  <thead>\n",
       "    <tr style=\"text-align: right;\">\n",
       "      <th></th>\n",
       "      <th>Programme</th>\n",
       "      <th>MSD</th>\n",
       "      <th>STATUT</th>\n",
       "      <th>CONSO</th>\n",
       "      <th>SDU</th>\n",
       "      <th>CMM</th>\n",
       "      <th>dispo_globale</th>\n",
       "      <th>dispo_globale_cible</th>\n",
       "      <th>dispo_traceur</th>\n",
       "      <th>dispo_traceur_cible</th>\n",
       "      <th>date_report</th>\n",
       "      <th>id_produit_fk</th>\n",
       "      <th>Code_region</th>\n",
       "      <th>region_order</th>\n",
       "      <th>statut_pourcentage</th>\n",
       "      <th>id_produit_pk</th>\n",
       "      <th>Code_produit</th>\n",
       "      <th>Produit_designation</th>\n",
       "      <th>Unit_rapportage</th>\n",
       "      <th>Categorie_produit</th>\n",
       "      <th>Categorie_du_produit</th>\n",
       "      <th>Code_sous_prog</th>\n",
       "    </tr>\n",
       "  </thead>\n",
       "  <tbody>\n",
       "    <tr>\n",
       "      <th>0</th>\n",
       "      <td>PNSME</td>\n",
       "      <td>8,1</td>\n",
       "      <td>SURSTOCK</td>\n",
       "      <td>4321</td>\n",
       "      <td>46914</td>\n",
       "      <td>5757.75</td>\n",
       "      <td>0.019031</td>\n",
       "      <td>0.025758</td>\n",
       "      <td>0.027322</td>\n",
       "      <td>0.028788</td>\n",
       "      <td>2025-03-31</td>\n",
       "      <td>154</td>\n",
       "      <td>NAT</td>\n",
       "      <td>None</td>\n",
       "      <td>0.030303</td>\n",
       "      <td>154</td>\n",
       "      <td>3120034</td>\n",
       "      <td>NORISTERAT 200 mg amp. inj. BTE/100 BTE  -</td>\n",
       "      <td>AMPOULE</td>\n",
       "      <td>Produit non traceur</td>\n",
       "      <td>PRODUITS PNSR/PF</td>\n",
       "      <td>PNSME-1</td>\n",
       "    </tr>\n",
       "    <tr>\n",
       "      <th>1</th>\n",
       "      <td>PNSME</td>\n",
       "      <td>4,0</td>\n",
       "      <td>BIEN STOCKE</td>\n",
       "      <td>38611</td>\n",
       "      <td>152884</td>\n",
       "      <td>38430.00</td>\n",
       "      <td>0.019031</td>\n",
       "      <td>0.025758</td>\n",
       "      <td>0.027322</td>\n",
       "      <td>0.028788</td>\n",
       "      <td>2025-03-31</td>\n",
       "      <td>126</td>\n",
       "      <td>NAT</td>\n",
       "      <td>None</td>\n",
       "      <td>0.030303</td>\n",
       "      <td>126</td>\n",
       "      <td>3120004</td>\n",
       "      <td>DEPO PROVERA (MEDROXYPROGESTERONE ACETATE) 150...</td>\n",
       "      <td>AMPOULE</td>\n",
       "      <td>Produit non traceur</td>\n",
       "      <td>PRODUITS PNSR/PF</td>\n",
       "      <td>PNSME-1</td>\n",
       "    </tr>\n",
       "    <tr>\n",
       "      <th>2</th>\n",
       "      <td>PNSME</td>\n",
       "      <td>5,6</td>\n",
       "      <td>SURSTOCK</td>\n",
       "      <td>10073</td>\n",
       "      <td>56402</td>\n",
       "      <td>10155.75</td>\n",
       "      <td>0.019031</td>\n",
       "      <td>0.025758</td>\n",
       "      <td>0.027322</td>\n",
       "      <td>0.028788</td>\n",
       "      <td>2025-03-31</td>\n",
       "      <td>137</td>\n",
       "      <td>NAT</td>\n",
       "      <td>None</td>\n",
       "      <td>0.030303</td>\n",
       "      <td>137</td>\n",
       "      <td>3120015</td>\n",
       "      <td>JADELLE (IMPLANT + TROCARD) 150 µG BTE/10 BOIT...</td>\n",
       "      <td>IMPLANT</td>\n",
       "      <td>Produit traceur</td>\n",
       "      <td>PRODUITS PNSR/PF</td>\n",
       "      <td>PNSME-1</td>\n",
       "    </tr>\n",
       "  </tbody>\n",
       "</table>\n",
       "</div>"
      ],
      "text/plain": [
       "  Programme  MSD       STATUT  CONSO     SDU       CMM  dispo_globale  \\\n",
       "0     PNSME  8,1     SURSTOCK   4321   46914   5757.75       0.019031   \n",
       "1     PNSME  4,0  BIEN STOCKE  38611  152884  38430.00       0.019031   \n",
       "2     PNSME  5,6     SURSTOCK  10073   56402  10155.75       0.019031   \n",
       "\n",
       "   dispo_globale_cible  dispo_traceur  dispo_traceur_cible date_report  \\\n",
       "0             0.025758       0.027322             0.028788  2025-03-31   \n",
       "1             0.025758       0.027322             0.028788  2025-03-31   \n",
       "2             0.025758       0.027322             0.028788  2025-03-31   \n",
       "\n",
       "   id_produit_fk Code_region region_order  statut_pourcentage  id_produit_pk  \\\n",
       "0            154         NAT         None            0.030303            154   \n",
       "1            126         NAT         None            0.030303            126   \n",
       "2            137         NAT         None            0.030303            137   \n",
       "\n",
       "   Code_produit                                Produit_designation  \\\n",
       "0       3120034         NORISTERAT 200 mg amp. inj. BTE/100 BTE  -   \n",
       "1       3120004  DEPO PROVERA (MEDROXYPROGESTERONE ACETATE) 150...   \n",
       "2       3120015  JADELLE (IMPLANT + TROCARD) 150 µG BTE/10 BOIT...   \n",
       "\n",
       "  Unit_rapportage    Categorie_produit Categorie_du_produit Code_sous_prog  \n",
       "0         AMPOULE  Produit non traceur     PRODUITS PNSR/PF        PNSME-1  \n",
       "1         AMPOULE  Produit non traceur     PRODUITS PNSR/PF        PNSME-1  \n",
       "2         IMPLANT      Produit traceur     PRODUITS PNSR/PF        PNSME-1  "
      ]
     },
     "execution_count": 23,
     "metadata": {},
     "output_type": "execute_result"
    }
   ],
   "source": [
    "# Pour avoir la CMM du mois courant une recherche est d'abord faite sur la feuille StockParRegion provenant du RapportFeedback\n",
    "eomonth = (pd.to_datetime(date_report) + pd.offsets.MonthEnd(0)).strftime(\"%Y-%m-%d\")\n",
    "\n",
    "df_stock_prog_nat = stock_sync_manager.get_table_data(\n",
    "    query = QUERY_ETAT_STOCK_PROGRAMME.format(eomonth=eomonth, programme=programme)\n",
    ")\n",
    "\n",
    "df_stock_prog_nat[\"Code_produit\"] = df_stock_prog_nat[\"Code_produit\"].astype(int)\n",
    "\n",
    "df_stock_prog_nat.head(3)"
   ]
  },
  {
   "cell_type": "code",
   "execution_count": 24,
   "id": "d5fa0de6-3909-46f5-b737-856e204c92ba",
   "metadata": {
    "execution": {
     "iopub.execute_input": "2025-05-14T15:42:56.652203Z",
     "iopub.status.busy": "2025-05-14T15:42:56.651796Z",
     "iopub.status.idle": "2025-05-14T15:42:56.835602Z",
     "shell.execute_reply": "2025-05-14T15:42:56.834538Z"
    },
    "papermill": {
     "duration": 0.382138,
     "end_time": "2025-05-14T15:42:56.837310",
     "exception": false,
     "start_time": "2025-05-14T15:42:56.455172",
     "status": "completed"
    },
    "tags": []
   },
   "outputs": [
    {
     "name": "stdout",
     "output_type": "stream",
     "text": [
      "CPU times: user 79.3 ms, sys: 2.39 ms, total: 81.7 ms\n",
      "Wall time: 178 ms\n"
     ]
    }
   ],
   "source": [
    "%%time\n",
    "df_cmm_curent, df_cmm_histo = compute_indicators.annexe_1.get_cmm_current_month(\n",
    "    df_etat_stock.copy(),\n",
    "    df_stock_prog_nat.copy(),\n",
    "    programme,\n",
    "    date_report,\n",
    "    stock_sync_manager.civ_engine,\n",
    ")"
   ]
  },
  {
   "cell_type": "markdown",
   "id": "e70f49b8-4d30-4e44-b255-72c0fd9ca0ea",
   "metadata": {
    "papermill": {
     "duration": 4.017105,
     "end_time": "2025-05-14T15:43:05.578010",
     "exception": false,
     "start_time": "2025-05-14T15:43:01.560905",
     "status": "completed"
    },
    "tags": []
   },
   "source": [
    "## 📌3. Calcul des indicateurs `Etat de stock (2/2)` `Annexe 2 - Suivi des Stocks`"
   ]
  },
  {
   "cell_type": "code",
   "execution_count": 25,
   "id": "2fbe9e4d-1190-4695-8df7-37a4737f6a19",
   "metadata": {
    "execution": {
     "iopub.execute_input": "2025-05-14T15:43:06.005037Z",
     "iopub.status.busy": "2025-05-14T15:43:06.004608Z",
     "iopub.status.idle": "2025-05-14T15:43:07.440380Z",
     "shell.execute_reply": "2025-05-14T15:43:07.439209Z"
    },
    "papermill": {
     "duration": 1.664516,
     "end_time": "2025-05-14T15:43:07.442075",
     "exception": false,
     "start_time": "2025-05-14T15:43:05.777559",
     "status": "completed"
    },
    "tags": []
   },
   "outputs": [
    {
     "data": {
      "text/html": [
       "<div>\n",
       "<style scoped>\n",
       "    .dataframe tbody tr th:only-of-type {\n",
       "        vertical-align: middle;\n",
       "    }\n",
       "\n",
       "    .dataframe tbody tr th {\n",
       "        vertical-align: top;\n",
       "    }\n",
       "\n",
       "    .dataframe thead th {\n",
       "        text-align: right;\n",
       "    }\n",
       "</style>\n",
       "<table border=\"1\" class=\"dataframe\">\n",
       "  <thead>\n",
       "    <tr style=\"text-align: right;\">\n",
       "      <th></th>\n",
       "      <th>Periode</th>\n",
       "      <th>Code_ets</th>\n",
       "      <th>stock_initial</th>\n",
       "      <th>qte_recue</th>\n",
       "      <th>qte_utilisee</th>\n",
       "      <th>perte_ajust</th>\n",
       "      <th>j_rupture</th>\n",
       "      <th>sdu</th>\n",
       "      <th>cmm_esigl</th>\n",
       "      <th>cmm_gest</th>\n",
       "      <th>qte_prop</th>\n",
       "      <th>qte_cmde</th>\n",
       "      <th>qte_approuv</th>\n",
       "      <th>msd</th>\n",
       "      <th>etat_stock</th>\n",
       "      <th>besoin_cmde_urg</th>\n",
       "      <th>besoin_trsf_in</th>\n",
       "      <th>qte_trsf_out</th>\n",
       "      <th>date_report</th>\n",
       "      <th>qte_cmde_mois_prec</th>\n",
       "      <th>etat_stock_mois_prec</th>\n",
       "      <th>id_produit_fk</th>\n",
       "      <th>id_produit_pk</th>\n",
       "      <th>Code_produit</th>\n",
       "      <th>Produit_designation</th>\n",
       "      <th>Unit_rapportage</th>\n",
       "      <th>Categorie_produit</th>\n",
       "      <th>Categorie_du_produit</th>\n",
       "      <th>Code_sous_prog</th>\n",
       "    </tr>\n",
       "  </thead>\n",
       "  <tbody>\n",
       "    <tr>\n",
       "      <th>23292</th>\n",
       "      <td>MARS 2025</td>\n",
       "      <td>42700030</td>\n",
       "      <td>109</td>\n",
       "      <td>0</td>\n",
       "      <td>3</td>\n",
       "      <td>0</td>\n",
       "      <td>0</td>\n",
       "      <td>106</td>\n",
       "      <td>1</td>\n",
       "      <td>1.0</td>\n",
       "      <td>0</td>\n",
       "      <td>0.0</td>\n",
       "      <td>0</td>\n",
       "      <td>106.0</td>\n",
       "      <td>SURSTOCK</td>\n",
       "      <td>NaN</td>\n",
       "      <td>NaN</td>\n",
       "      <td>102.0</td>\n",
       "      <td>2025-03-31</td>\n",
       "      <td>0.0</td>\n",
       "      <td>STOCK DORMANT</td>\n",
       "      <td>155</td>\n",
       "      <td>155</td>\n",
       "      <td>3120034</td>\n",
       "      <td>NORISTERAT 200 mg amp. inj. BTE/100 BTE  -</td>\n",
       "      <td>AMPOULE</td>\n",
       "      <td>Produit non traceur</td>\n",
       "      <td>INJECTABLES</td>\n",
       "      <td>PNSME-2</td>\n",
       "    </tr>\n",
       "    <tr>\n",
       "      <th>23293</th>\n",
       "      <td>MARS 2025</td>\n",
       "      <td>42700030</td>\n",
       "      <td>390</td>\n",
       "      <td>0</td>\n",
       "      <td>0</td>\n",
       "      <td>0</td>\n",
       "      <td>0</td>\n",
       "      <td>390</td>\n",
       "      <td>0</td>\n",
       "      <td>0.0</td>\n",
       "      <td>0</td>\n",
       "      <td>0.0</td>\n",
       "      <td>0</td>\n",
       "      <td>NaN</td>\n",
       "      <td>STOCK DORMANT</td>\n",
       "      <td>NaN</td>\n",
       "      <td>NaN</td>\n",
       "      <td>390.0</td>\n",
       "      <td>2025-03-31</td>\n",
       "      <td>0.0</td>\n",
       "      <td>STOCK DORMANT</td>\n",
       "      <td>4969</td>\n",
       "      <td>4969</td>\n",
       "      <td>3120004</td>\n",
       "      <td>DEPO-PROVERA (DMPA-IM) 150mg amp inj BTE/20 BT...</td>\n",
       "      <td>AMPOULE</td>\n",
       "      <td>Produit traceur</td>\n",
       "      <td>INJECTABLES</td>\n",
       "      <td>PNSME-2</td>\n",
       "    </tr>\n",
       "  </tbody>\n",
       "</table>\n",
       "</div>"
      ],
      "text/plain": [
       "         Periode  Code_ets  stock_initial  qte_recue  qte_utilisee  \\\n",
       "23292  MARS 2025  42700030            109          0             3   \n",
       "23293  MARS 2025  42700030            390          0             0   \n",
       "\n",
       "       perte_ajust  j_rupture  sdu  cmm_esigl  cmm_gest  qte_prop  qte_cmde  \\\n",
       "23292            0          0  106          1       1.0         0       0.0   \n",
       "23293            0          0  390          0       0.0         0       0.0   \n",
       "\n",
       "       qte_approuv    msd     etat_stock  besoin_cmde_urg  besoin_trsf_in  \\\n",
       "23292            0  106.0       SURSTOCK              NaN             NaN   \n",
       "23293            0    NaN  STOCK DORMANT              NaN             NaN   \n",
       "\n",
       "       qte_trsf_out date_report  qte_cmde_mois_prec etat_stock_mois_prec  \\\n",
       "23292         102.0  2025-03-31                 0.0        STOCK DORMANT   \n",
       "23293         390.0  2025-03-31                 0.0        STOCK DORMANT   \n",
       "\n",
       "       id_produit_fk  id_produit_pk  Code_produit  \\\n",
       "23292            155            155       3120034   \n",
       "23293           4969           4969       3120004   \n",
       "\n",
       "                                     Produit_designation Unit_rapportage  \\\n",
       "23292         NORISTERAT 200 mg amp. inj. BTE/100 BTE  -         AMPOULE   \n",
       "23293  DEPO-PROVERA (DMPA-IM) 150mg amp inj BTE/20 BT...         AMPOULE   \n",
       "\n",
       "         Categorie_produit Categorie_du_produit Code_sous_prog  \n",
       "23292  Produit non traceur          INJECTABLES        PNSME-2  \n",
       "23293      Produit traceur          INJECTABLES        PNSME-2  "
      ]
     },
     "execution_count": 25,
     "metadata": {},
     "output_type": "execute_result"
    }
   ],
   "source": [
    "df_etat_stock_periph = stock_sync_manager.get_table_data(\n",
    "    query=QUERY_ETAT_STOCK_PERIPH.format(eomonth=eomonth)\n",
    ")\n",
    "\n",
    "df_etat_stock_periph = df_etat_stock_periph.loc[\n",
    "    df_etat_stock_periph.Code_sous_prog.str.contains(programme)\n",
    "]\n",
    "\n",
    "df_etat_stock_periph[\"Code_produit\"] = df_etat_stock_periph[\"Code_produit\"].astype(int)\n",
    "\n",
    "df_etat_stock_periph.head(2)"
   ]
  },
  {
   "cell_type": "code",
   "execution_count": 26,
   "id": "592788d1-ea93-4c42-b744-a068f22d23be",
   "metadata": {
    "execution": {
     "iopub.execute_input": "2025-05-14T15:43:07.971670Z",
     "iopub.status.busy": "2025-05-14T15:43:07.971297Z",
     "iopub.status.idle": "2025-05-14T15:43:07.976824Z",
     "shell.execute_reply": "2025-05-14T15:43:07.975990Z"
    },
    "papermill": {
     "duration": 0.20535,
     "end_time": "2025-05-14T15:43:07.978447",
     "exception": false,
     "start_time": "2025-05-14T15:43:07.773097",
     "status": "completed"
    },
    "tags": []
   },
   "outputs": [],
   "source": [
    "df_plan_approv[\"Quantité harmonisée (SAGE)\"] = df_plan_approv[\"Quantite\"]*df_plan_approv[\"facteur_de_conversion_qat_sage\"]"
   ]
  },
  {
   "cell_type": "code",
   "execution_count": 27,
   "id": "08d7bdd6-cf53-4c3c-bca3-c9f6c218a273",
   "metadata": {
    "execution": {
     "iopub.execute_input": "2025-05-14T15:43:08.370443Z",
     "iopub.status.busy": "2025-05-14T15:43:08.370096Z",
     "iopub.status.idle": "2025-05-14T15:43:08.574885Z",
     "shell.execute_reply": "2025-05-14T15:43:08.574055Z"
    },
    "papermill": {
     "duration": 0.390306,
     "end_time": "2025-05-14T15:43:08.576668",
     "exception": false,
     "start_time": "2025-05-14T15:43:08.186362",
     "status": "completed"
    },
    "tags": []
   },
   "outputs": [
    {
     "data": {
      "text/html": [
       "<div>\n",
       "<style scoped>\n",
       "    .dataframe tbody tr th:only-of-type {\n",
       "        vertical-align: middle;\n",
       "    }\n",
       "\n",
       "    .dataframe tbody tr th {\n",
       "        vertical-align: top;\n",
       "    }\n",
       "\n",
       "    .dataframe thead th {\n",
       "        text-align: right;\n",
       "    }\n",
       "</style>\n",
       "<table border=\"1\" class=\"dataframe\">\n",
       "  <thead>\n",
       "    <tr style=\"text-align: right;\">\n",
       "      <th></th>\n",
       "      <th>id_dim_produit_stock_track_fk</th>\n",
       "      <th>stock_theorique_mois_precedent</th>\n",
       "      <th>distribution_effectuee</th>\n",
       "      <th>quantite_recue_stock</th>\n",
       "      <th>quantite_ppi</th>\n",
       "      <th>quantite_prelevee_cq</th>\n",
       "      <th>ajustement_stock</th>\n",
       "      <th>stock_theorique_final_sage</th>\n",
       "      <th>stock_theorique_final_attendu</th>\n",
       "      <th>ecarts</th>\n",
       "      <th>justification_ecarts</th>\n",
       "      <th>diligences</th>\n",
       "      <th>sdu_central_annexe_2</th>\n",
       "      <th>dmm_central_annexe_2</th>\n",
       "      <th>msd_central_annexe_2</th>\n",
       "      <th>statut_central_annexe_2</th>\n",
       "      <th>conso_decentralise_annexe_2</th>\n",
       "      <th>sdu_decentralise_annexe_2</th>\n",
       "      <th>cmm_decentralise_annexe_2</th>\n",
       "      <th>msd_decentralise_annexe_2</th>\n",
       "      <th>statut_decentralise_annexe_2</th>\n",
       "      <th>nombre_de_site_en_rupture_annexe_2</th>\n",
       "      <th>sdu_national_annexe_2</th>\n",
       "      <th>cmm_national_annexe_2</th>\n",
       "      <th>msd_national_annexe_2</th>\n",
       "      <th>statut_national_annexe_2</th>\n",
       "      <th>date_peremption_plus_proche_brute_annexe_2</th>\n",
       "      <th>date_peremption_plus_proche_annexe_2</th>\n",
       "      <th>quantite_correspondante_annexe_2</th>\n",
       "      <th>msd_correspondant_annexe_2</th>\n",
       "      <th>quantite_attendue_annexe_2</th>\n",
       "      <th>msd_attendu_annexe_2</th>\n",
       "      <th>quantite_non_stockee_annexe_2</th>\n",
       "      <th>msd_recu_annexe_2</th>\n",
       "      <th>financement_annexe_2</th>\n",
       "      <th>date_probable_livraison_annexe_2</th>\n",
       "      <th>date_effective_livraison_annexe_2</th>\n",
       "      <th>statut_annexe_2</th>\n",
       "      <th>analyse_risque_commentaires_annexe_2</th>\n",
       "      <th>diligences_central_annexe_2</th>\n",
       "      <th>diligences_peripherique_annexe_2</th>\n",
       "      <th>responsable_annexe_2</th>\n",
       "      <th>dilig_choisie_annexe_2</th>\n",
       "      <th>date_report</th>\n",
       "    </tr>\n",
       "  </thead>\n",
       "  <tbody>\n",
       "    <tr>\n",
       "      <th>0</th>\n",
       "      <td>364</td>\n",
       "      <td>2608.0</td>\n",
       "      <td>1851</td>\n",
       "      <td>0</td>\n",
       "      <td>0</td>\n",
       "      <td>0</td>\n",
       "      <td>NaN</td>\n",
       "      <td>4010</td>\n",
       "      <td>757.0</td>\n",
       "      <td>3253.0</td>\n",
       "      <td></td>\n",
       "      <td></td>\n",
       "      <td>4010</td>\n",
       "      <td>1203.166667</td>\n",
       "      <td>3,3</td>\n",
       "      <td>Bien Stocké</td>\n",
       "      <td>279</td>\n",
       "      <td>6499</td>\n",
       "      <td>412</td>\n",
       "      <td>15,8</td>\n",
       "      <td>SurStock</td>\n",
       "      <td>19</td>\n",
       "      <td>10509</td>\n",
       "      <td>412</td>\n",
       "      <td>25,5</td>\n",
       "      <td>SurStock</td>\n",
       "      <td>2028-02-01</td>\n",
       "      <td>2028-02-01</td>\n",
       "      <td>1783.0</td>\n",
       "      <td>1,5</td>\n",
       "      <td>0.0</td>\n",
       "      <td>0,0</td>\n",
       "      <td>0</td>\n",
       "      <td>0,0</td>\n",
       "      <td></td>\n",
       "      <td>NaT</td>\n",
       "      <td>NaN</td>\n",
       "      <td></td>\n",
       "      <td></td>\n",
       "      <td></td>\n",
       "      <td></td>\n",
       "      <td></td>\n",
       "      <td></td>\n",
       "      <td>2025-03-01</td>\n",
       "    </tr>\n",
       "    <tr>\n",
       "      <th>1</th>\n",
       "      <td>365</td>\n",
       "      <td>0.0</td>\n",
       "      <td>0</td>\n",
       "      <td>0</td>\n",
       "      <td>0</td>\n",
       "      <td>0</td>\n",
       "      <td>NaN</td>\n",
       "      <td>0</td>\n",
       "      <td>0.0</td>\n",
       "      <td>0.0</td>\n",
       "      <td></td>\n",
       "      <td></td>\n",
       "      <td>0</td>\n",
       "      <td>0.000000</td>\n",
       "      <td>0,0</td>\n",
       "      <td>Rupture</td>\n",
       "      <td>0</td>\n",
       "      <td>0</td>\n",
       "      <td>0</td>\n",
       "      <td>0,0</td>\n",
       "      <td>Rupture</td>\n",
       "      <td>0</td>\n",
       "      <td>0</td>\n",
       "      <td>0</td>\n",
       "      <td>0,0</td>\n",
       "      <td>Rupture</td>\n",
       "      <td>NaT</td>\n",
       "      <td>NaT</td>\n",
       "      <td>NaN</td>\n",
       "      <td></td>\n",
       "      <td>0.0</td>\n",
       "      <td>0,0</td>\n",
       "      <td>0</td>\n",
       "      <td>0,0</td>\n",
       "      <td></td>\n",
       "      <td>NaT</td>\n",
       "      <td>NaN</td>\n",
       "      <td></td>\n",
       "      <td></td>\n",
       "      <td></td>\n",
       "      <td></td>\n",
       "      <td></td>\n",
       "      <td></td>\n",
       "      <td>2025-03-01</td>\n",
       "    </tr>\n",
       "    <tr>\n",
       "      <th>2</th>\n",
       "      <td>366</td>\n",
       "      <td>189262.0</td>\n",
       "      <td>20895</td>\n",
       "      <td>0</td>\n",
       "      <td>0</td>\n",
       "      <td>0</td>\n",
       "      <td>NaN</td>\n",
       "      <td>213717</td>\n",
       "      <td>168367.0</td>\n",
       "      <td>45350.0</td>\n",
       "      <td></td>\n",
       "      <td></td>\n",
       "      <td>213717</td>\n",
       "      <td>23426.333333</td>\n",
       "      <td>9,1</td>\n",
       "      <td>SurStock</td>\n",
       "      <td>13924</td>\n",
       "      <td>63043</td>\n",
       "      <td>15366</td>\n",
       "      <td>4,1</td>\n",
       "      <td>SurStock</td>\n",
       "      <td>8</td>\n",
       "      <td>276760</td>\n",
       "      <td>15366</td>\n",
       "      <td>18,0</td>\n",
       "      <td>SurStock</td>\n",
       "      <td>2027-11-01</td>\n",
       "      <td>2027-11-01</td>\n",
       "      <td>20.0</td>\n",
       "      <td>0,0</td>\n",
       "      <td>107857.0</td>\n",
       "      <td>4,6</td>\n",
       "      <td>0</td>\n",
       "      <td>0,0</td>\n",
       "      <td></td>\n",
       "      <td>2025-06-30</td>\n",
       "      <td>NaN</td>\n",
       "      <td>Approuvé</td>\n",
       "      <td></td>\n",
       "      <td></td>\n",
       "      <td></td>\n",
       "      <td></td>\n",
       "      <td></td>\n",
       "      <td>2025-03-01</td>\n",
       "    </tr>\n",
       "  </tbody>\n",
       "</table>\n",
       "</div>"
      ],
      "text/plain": [
       "   id_dim_produit_stock_track_fk  stock_theorique_mois_precedent  \\\n",
       "0                            364                          2608.0   \n",
       "1                            365                             0.0   \n",
       "2                            366                        189262.0   \n",
       "\n",
       "   distribution_effectuee  quantite_recue_stock  quantite_ppi  \\\n",
       "0                    1851                     0             0   \n",
       "1                       0                     0             0   \n",
       "2                   20895                     0             0   \n",
       "\n",
       "   quantite_prelevee_cq  ajustement_stock  stock_theorique_final_sage  \\\n",
       "0                     0               NaN                        4010   \n",
       "1                     0               NaN                           0   \n",
       "2                     0               NaN                      213717   \n",
       "\n",
       "   stock_theorique_final_attendu   ecarts justification_ecarts diligences  \\\n",
       "0                          757.0   3253.0                                   \n",
       "1                            0.0      0.0                                   \n",
       "2                       168367.0  45350.0                                   \n",
       "\n",
       "   sdu_central_annexe_2  dmm_central_annexe_2 msd_central_annexe_2  \\\n",
       "0                  4010           1203.166667                  3,3   \n",
       "1                     0              0.000000                  0,0   \n",
       "2                213717          23426.333333                  9,1   \n",
       "\n",
       "  statut_central_annexe_2  conso_decentralise_annexe_2  \\\n",
       "0             Bien Stocké                          279   \n",
       "1                 Rupture                            0   \n",
       "2                SurStock                        13924   \n",
       "\n",
       "   sdu_decentralise_annexe_2  cmm_decentralise_annexe_2  \\\n",
       "0                       6499                        412   \n",
       "1                          0                          0   \n",
       "2                      63043                      15366   \n",
       "\n",
       "  msd_decentralise_annexe_2 statut_decentralise_annexe_2  \\\n",
       "0                      15,8                     SurStock   \n",
       "1                       0,0                      Rupture   \n",
       "2                       4,1                     SurStock   \n",
       "\n",
       "   nombre_de_site_en_rupture_annexe_2  sdu_national_annexe_2  \\\n",
       "0                                  19                  10509   \n",
       "1                                   0                      0   \n",
       "2                                   8                 276760   \n",
       "\n",
       "   cmm_national_annexe_2 msd_national_annexe_2 statut_national_annexe_2  \\\n",
       "0                    412                  25,5                 SurStock   \n",
       "1                      0                   0,0                  Rupture   \n",
       "2                  15366                  18,0                 SurStock   \n",
       "\n",
       "  date_peremption_plus_proche_brute_annexe_2  \\\n",
       "0                                 2028-02-01   \n",
       "1                                        NaT   \n",
       "2                                 2027-11-01   \n",
       "\n",
       "  date_peremption_plus_proche_annexe_2  quantite_correspondante_annexe_2  \\\n",
       "0                           2028-02-01                            1783.0   \n",
       "1                                  NaT                               NaN   \n",
       "2                           2027-11-01                              20.0   \n",
       "\n",
       "  msd_correspondant_annexe_2  quantite_attendue_annexe_2 msd_attendu_annexe_2  \\\n",
       "0                        1,5                         0.0                  0,0   \n",
       "1                                                    0.0                  0,0   \n",
       "2                        0,0                    107857.0                  4,6   \n",
       "\n",
       "   quantite_non_stockee_annexe_2 msd_recu_annexe_2 financement_annexe_2  \\\n",
       "0                              0               0,0                        \n",
       "1                              0               0,0                        \n",
       "2                              0               0,0                        \n",
       "\n",
       "  date_probable_livraison_annexe_2  date_effective_livraison_annexe_2  \\\n",
       "0                              NaT                                NaN   \n",
       "1                              NaT                                NaN   \n",
       "2                       2025-06-30                                NaN   \n",
       "\n",
       "  statut_annexe_2 analyse_risque_commentaires_annexe_2  \\\n",
       "0                                                        \n",
       "1                                                        \n",
       "2        Approuvé                                        \n",
       "\n",
       "  diligences_central_annexe_2 diligences_peripherique_annexe_2  \\\n",
       "0                                                                \n",
       "1                                                                \n",
       "2                                                                \n",
       "\n",
       "  responsable_annexe_2 dilig_choisie_annexe_2 date_report  \n",
       "0                                              2025-03-01  \n",
       "1                                              2025-03-01  \n",
       "2                                              2025-03-01  "
      ]
     },
     "metadata": {},
     "output_type": "display_data"
    },
    {
     "name": "stdout",
     "output_type": "stream",
     "text": [
      "CPU times: user 195 ms, sys: 5.86 ms, total: 201 ms\n",
      "Wall time: 200 ms\n"
     ]
    }
   ],
   "source": [
    "%%time\n",
    "df_etat_stock = compute_indicators.annexe_2(\n",
    "    df_etat_stock,\n",
    "    df_dmm_curent.copy(),\n",
    "    df_stock_prog_nat.copy(),\n",
    "    df_etat_stock_periph.copy(),\n",
    "    df_stock_detaille.copy(),\n",
    "    df_receptions.copy(),\n",
    "    df_plan_approv.copy(),\n",
    "    date_report,\n",
    ")"
   ]
  },
  {
   "cell_type": "markdown",
   "id": "76c5e978-145b-4cb3-aa25-fb14eb470ff4",
   "metadata": {
    "papermill": {
     "duration": 5.157945,
     "end_time": "2025-05-14T15:43:15.004451",
     "exception": false,
     "start_time": "2025-05-14T15:43:09.846506",
     "status": "completed"
    },
    "tags": []
   },
   "source": [
    "# V.Exportation des données\n",
    "\n",
    "Avant d’exporter les données, il est essentiel de s’assurer qu’aucune information relative à la période en cours n’est déjà présente dans les différentes tables.  \r\n",
    "Si des données existent, une suppression devra être effectuée avant l’export."
   ]
  },
  {
   "cell_type": "markdown",
   "id": "040e8f88-31a1-4bd0-a32b-d2a10d2aa29b",
   "metadata": {
    "papermill": {
     "duration": 0.229244,
     "end_time": "2025-05-14T15:43:15.445143",
     "exception": false,
     "start_time": "2025-05-14T15:43:15.215899",
     "status": "completed"
    },
    "tags": []
   },
   "source": [
    "## 1. `Etat de Stock`"
   ]
  },
  {
   "cell_type": "code",
   "execution_count": 28,
   "id": "69402d6e-0979-4fe7-aef4-7a578d7c4948",
   "metadata": {
    "execution": {
     "iopub.execute_input": "2025-05-14T15:43:16.624890Z",
     "iopub.status.busy": "2025-05-14T15:43:16.623874Z",
     "iopub.status.idle": "2025-05-14T15:43:16.645827Z",
     "shell.execute_reply": "2025-05-14T15:43:16.644672Z"
    },
    "papermill": {
     "duration": 0.995721,
     "end_time": "2025-05-14T15:43:16.647479",
     "exception": false,
     "start_time": "2025-05-14T15:43:15.651758",
     "status": "completed"
    },
    "tags": []
   },
   "outputs": [],
   "source": [
    "id_list = list(map(int, df_etat_stock.id_dim_produit_stock_track_fk.unique()))\n",
    "placeholders = \", \".join([\"%s\"] * len(id_list))\n",
    "\n",
    "query = f\"\"\"\n",
    "DELETE FROM {schema_name}.stock_track\n",
    "WHERE date_report = '{date_report}' AND id_dim_produit_stock_track_fk IN ({placeholders});\n",
    "\"\"\"\n",
    "\n",
    "stock_sync_manager.civ_cursor.execute(query, list(id_list))\n",
    "stock_sync_manager.conn.commit()"
   ]
  },
  {
   "cell_type": "code",
   "execution_count": 29,
   "id": "92ca91ab-0797-414f-8c9c-3c5a185a2d0f",
   "metadata": {
    "execution": {
     "iopub.execute_input": "2025-05-14T15:43:17.917180Z",
     "iopub.status.busy": "2025-05-14T15:43:17.916772Z",
     "iopub.status.idle": "2025-05-14T15:43:18.042822Z",
     "shell.execute_reply": "2025-05-14T15:43:18.041913Z"
    },
    "papermill": {
     "duration": 1.198451,
     "end_time": "2025-05-14T15:43:18.044370",
     "exception": false,
     "start_time": "2025-05-14T15:43:16.845919",
     "status": "completed"
    },
    "tags": []
   },
   "outputs": [
    {
     "data": {
      "text/plain": [
       "'Insertion de 16 enrégistrements réussie'"
      ]
     },
     "execution_count": 29,
     "metadata": {},
     "output_type": "execute_result"
    }
   ],
   "source": [
    "assert df_etat_stock.date_report.unique().shape[0] == 1\n",
    "\n",
    "stock_sync_manager.insert_dataframe_to_table(df_etat_stock, \"stock_track\")"
   ]
  },
  {
   "cell_type": "markdown",
   "id": "08ed5151-ee3a-421c-8a19-5c03d4fd165b",
   "metadata": {
    "papermill": {
     "duration": 1.105305,
     "end_time": "2025-05-14T15:43:19.702862",
     "exception": false,
     "start_time": "2025-05-14T15:43:18.597557",
     "status": "completed"
    },
    "tags": []
   },
   "source": [
    "## 2. `Distributions`"
   ]
  },
  {
   "cell_type": "markdown",
   "id": "49e72b21-a586-4738-a5c9-95501a6db06c",
   "metadata": {
    "papermill": {
     "duration": 8.55276,
     "end_time": "2025-05-14T15:43:28.436214",
     "exception": false,
     "start_time": "2025-05-14T15:43:19.883454",
     "status": "completed"
    },
    "tags": []
   },
   "source": [
    "### 2.1.`Distributions mois courant` "
   ]
  },
  {
   "cell_type": "code",
   "execution_count": 30,
   "id": "6521c5ac-f762-4e55-b890-7d9751143a2e",
   "metadata": {
    "execution": {
     "iopub.execute_input": "2025-05-14T15:43:28.872732Z",
     "iopub.status.busy": "2025-05-14T15:43:28.872356Z",
     "iopub.status.idle": "2025-05-14T15:43:28.917009Z",
     "shell.execute_reply": "2025-05-14T15:43:28.915898Z"
    },
    "papermill": {
     "duration": 0.253847,
     "end_time": "2025-05-14T15:43:28.918832",
     "exception": false,
     "start_time": "2025-05-14T15:43:28.664985",
     "status": "completed"
    },
    "tags": []
   },
   "outputs": [],
   "source": [
    "id_list = list(map(int, df_dmm_curent.id_dim_produit_stock_track_fk.unique()))\n",
    "placeholders = \", \".join([\"%s\"] * len(id_list))\n",
    "\n",
    "query = f\"\"\"\n",
    "DELETE FROM {schema_name}.stock_track_dmm\n",
    "WHERE date_report = %s AND id_dim_produit_stock_track_fk IN ({placeholders});\n",
    "\"\"\"\n",
    "\n",
    "stock_sync_manager.civ_cursor.execute(query, [date_report] + list(id_list))\n",
    "stock_sync_manager.conn.commit()"
   ]
  },
  {
   "cell_type": "code",
   "execution_count": 31,
   "id": "0a8a2973-b667-403c-8102-fb9417afdf11",
   "metadata": {
    "execution": {
     "iopub.execute_input": "2025-05-14T15:43:31.437863Z",
     "iopub.status.busy": "2025-05-14T15:43:31.437513Z",
     "iopub.status.idle": "2025-05-14T15:43:31.483302Z",
     "shell.execute_reply": "2025-05-14T15:43:31.482361Z"
    },
    "papermill": {
     "duration": 2.346577,
     "end_time": "2025-05-14T15:43:31.484944",
     "exception": false,
     "start_time": "2025-05-14T15:43:29.138367",
     "status": "completed"
    },
    "tags": []
   },
   "outputs": [
    {
     "data": {
      "text/plain": [
       "'Insertion de 16 enrégistrements réussie'"
      ]
     },
     "execution_count": 31,
     "metadata": {},
     "output_type": "execute_result"
    }
   ],
   "source": [
    "assert df_dmm_curent.date_report.unique().shape[0] == 1\n",
    "\n",
    "stock_sync_manager.insert_dataframe_to_table(df_dmm_curent, \"stock_track_dmm\")"
   ]
  },
  {
   "cell_type": "markdown",
   "id": "1bf275e1-f2ea-4d6d-8205-713e903663d0",
   "metadata": {
    "papermill": {
     "duration": 0.801704,
     "end_time": "2025-05-14T15:43:32.480883",
     "exception": false,
     "start_time": "2025-05-14T15:43:31.679179",
     "status": "completed"
    },
    "tags": []
   },
   "source": [
    "### 2.2.`Distributions hitoriques considérées pour le mois en cours`"
   ]
  },
  {
   "cell_type": "code",
   "execution_count": 32,
   "id": "4b89b9f1-3f48-4e83-9c2f-43b49edfeb78",
   "metadata": {
    "execution": {
     "iopub.execute_input": "2025-05-14T15:43:35.424506Z",
     "iopub.status.busy": "2025-05-14T15:43:35.423558Z",
     "iopub.status.idle": "2025-05-14T15:43:35.448853Z",
     "shell.execute_reply": "2025-05-14T15:43:35.447837Z"
    },
    "papermill": {
     "duration": 2.757342,
     "end_time": "2025-05-14T15:43:35.450692",
     "exception": false,
     "start_time": "2025-05-14T15:43:32.693350",
     "status": "completed"
    },
    "tags": []
   },
   "outputs": [],
   "source": [
    "id_list = list(map(int, df_dmm_histo.id_dim_produit_stock_track_fk.unique()))\n",
    "placeholders = \", \".join([\"%s\"] * len(id_list))\n",
    "\n",
    "query = f\"\"\"\n",
    "DELETE FROM {schema_name}.stock_track_dmm_histo\n",
    "WHERE date_report = %s AND id_dim_produit_stock_track_fk IN ({placeholders});\n",
    "\"\"\"\n",
    "\n",
    "stock_sync_manager.civ_cursor.execute(query, [date_report] + list(id_list))\n",
    "stock_sync_manager.conn.commit()"
   ]
  },
  {
   "cell_type": "code",
   "execution_count": 33,
   "id": "8ea960f0-b89f-4b63-ae20-4ebb25009608",
   "metadata": {
    "execution": {
     "iopub.execute_input": "2025-05-14T15:43:35.836687Z",
     "iopub.status.busy": "2025-05-14T15:43:35.836204Z",
     "iopub.status.idle": "2025-05-14T15:43:35.883637Z",
     "shell.execute_reply": "2025-05-14T15:43:35.882920Z"
    },
    "papermill": {
     "duration": 0.239122,
     "end_time": "2025-05-14T15:43:35.885441",
     "exception": false,
     "start_time": "2025-05-14T15:43:35.646319",
     "status": "completed"
    },
    "tags": []
   },
   "outputs": [
    {
     "data": {
      "text/plain": [
       "'Insertion de 96 enrégistrements réussie'"
      ]
     },
     "execution_count": 33,
     "metadata": {},
     "output_type": "execute_result"
    }
   ],
   "source": [
    "assert df_dmm_histo.date_report.unique().shape[0] == 1\n",
    "\n",
    "stock_sync_manager.insert_dataframe_to_table(df_dmm_histo, \"stock_track_dmm_histo\")"
   ]
  },
  {
   "cell_type": "markdown",
   "id": "e131d312-d116-4302-98e5-c568b1e2e2a7",
   "metadata": {
    "papermill": {
     "duration": 1.018207,
     "end_time": "2025-05-14T15:43:37.107919",
     "exception": false,
     "start_time": "2025-05-14T15:43:36.089712",
     "status": "completed"
    },
    "tags": []
   },
   "source": [
    "## 3.`Consommations`"
   ]
  },
  {
   "cell_type": "markdown",
   "id": "705086d0-c23a-4856-bc5b-cd1ca88b99af",
   "metadata": {
    "papermill": {
     "duration": 0.784745,
     "end_time": "2025-05-14T15:43:39.011157",
     "exception": false,
     "start_time": "2025-05-14T15:43:38.226412",
     "status": "completed"
    },
    "tags": []
   },
   "source": [
    "### 3.1. `Consommations mois courant`"
   ]
  },
  {
   "cell_type": "code",
   "execution_count": 34,
   "id": "2e0f6f54-86c1-4583-bb9a-a15dbd160f12",
   "metadata": {
    "execution": {
     "iopub.execute_input": "2025-05-14T15:43:46.342233Z",
     "iopub.status.busy": "2025-05-14T15:43:46.341821Z",
     "iopub.status.idle": "2025-05-14T15:43:46.380209Z",
     "shell.execute_reply": "2025-05-14T15:43:46.379429Z"
    },
    "papermill": {
     "duration": 0.254684,
     "end_time": "2025-05-14T15:43:46.381848",
     "exception": false,
     "start_time": "2025-05-14T15:43:46.127164",
     "status": "completed"
    },
    "tags": []
   },
   "outputs": [],
   "source": [
    "id_list = list(map(int, df_cmm_curent.id_dim_produit_stock_track_fk.unique()))\n",
    "placeholders = \", \".join([\"%s\"] * len(id_list))\n",
    "\n",
    "query = f\"\"\"\n",
    "DELETE FROM {schema_name}.stock_track_cmm\n",
    "WHERE date_report = %s AND id_dim_produit_stock_track_fk IN ({placeholders});\n",
    "\"\"\"\n",
    "\n",
    "stock_sync_manager.civ_cursor.execute(query, [date_report] + list(id_list))\n",
    "stock_sync_manager.conn.commit()"
   ]
  },
  {
   "cell_type": "code",
   "execution_count": 35,
   "id": "42f04db9-4a08-4a21-a68e-5adf91cd5550",
   "metadata": {
    "execution": {
     "iopub.execute_input": "2025-05-14T15:43:46.970181Z",
     "iopub.status.busy": "2025-05-14T15:43:46.969768Z",
     "iopub.status.idle": "2025-05-14T15:43:47.011340Z",
     "shell.execute_reply": "2025-05-14T15:43:47.010260Z"
    },
    "papermill": {
     "duration": 0.425591,
     "end_time": "2025-05-14T15:43:47.012812",
     "exception": false,
     "start_time": "2025-05-14T15:43:46.587221",
     "status": "completed"
    },
    "tags": []
   },
   "outputs": [
    {
     "data": {
      "text/plain": [
       "'Insertion de 16 enrégistrements réussie'"
      ]
     },
     "execution_count": 35,
     "metadata": {},
     "output_type": "execute_result"
    }
   ],
   "source": [
    "assert df_cmm_curent.date_report.unique().shape[0] == 1\n",
    "\n",
    "stock_sync_manager.insert_dataframe_to_table(df_cmm_curent, \"stock_track_cmm\")"
   ]
  },
  {
   "cell_type": "markdown",
   "id": "17810bb8-a058-442e-b3ff-e6e15d22e308",
   "metadata": {
    "papermill": {
     "duration": 0.224795,
     "end_time": "2025-05-14T15:43:47.511385",
     "exception": false,
     "start_time": "2025-05-14T15:43:47.286590",
     "status": "completed"
    },
    "tags": []
   },
   "source": [
    "### 3.2.`Consommations hitoriques considérées pour le mois en cours`"
   ]
  },
  {
   "cell_type": "code",
   "execution_count": 36,
   "id": "6620b4be-6236-48cb-ac47-ab56e9970189",
   "metadata": {
    "execution": {
     "iopub.execute_input": "2025-05-14T15:43:56.991356Z",
     "iopub.status.busy": "2025-05-14T15:43:56.990932Z",
     "iopub.status.idle": "2025-05-14T15:43:57.021934Z",
     "shell.execute_reply": "2025-05-14T15:43:57.020775Z"
    },
    "papermill": {
     "duration": 0.260376,
     "end_time": "2025-05-14T15:43:57.023740",
     "exception": false,
     "start_time": "2025-05-14T15:43:56.763364",
     "status": "completed"
    },
    "tags": []
   },
   "outputs": [],
   "source": [
    "id_list = list(map(int, df_cmm_histo.id_dim_produit_stock_track_fk.unique()))\n",
    "placeholders = \", \".join([\"%s\"] * len(id_list))\n",
    "\n",
    "query = f\"\"\"\n",
    "DELETE FROM {schema_name}.stock_track_cmm_histo\n",
    "WHERE date_report = %s AND id_dim_produit_stock_track_fk IN ({placeholders});\n",
    "\"\"\"\n",
    "\n",
    "stock_sync_manager.civ_cursor.execute(query, [date_report] + list(id_list))\n",
    "stock_sync_manager.conn.commit()"
   ]
  },
  {
   "cell_type": "code",
   "execution_count": 37,
   "id": "c259b171-ca49-4521-9228-885b23fd4b6c",
   "metadata": {
    "execution": {
     "iopub.execute_input": "2025-05-14T15:43:57.423733Z",
     "iopub.status.busy": "2025-05-14T15:43:57.423386Z",
     "iopub.status.idle": "2025-05-14T15:43:57.470127Z",
     "shell.execute_reply": "2025-05-14T15:43:57.469053Z"
    },
    "papermill": {
     "duration": 0.233872,
     "end_time": "2025-05-14T15:43:57.471774",
     "exception": false,
     "start_time": "2025-05-14T15:43:57.237902",
     "status": "completed"
    },
    "tags": []
   },
   "outputs": [
    {
     "data": {
      "text/plain": [
       "'Insertion de 96 enrégistrements réussie'"
      ]
     },
     "execution_count": 37,
     "metadata": {},
     "output_type": "execute_result"
    }
   ],
   "source": [
    "assert df_dmm_histo.date_report.unique().shape[0] == 1\n",
    "\n",
    "stock_sync_manager.insert_dataframe_to_table(df_cmm_histo, \"stock_track_cmm_histo\")"
   ]
  },
  {
   "cell_type": "markdown",
   "id": "0c75f908-6510-42b7-9e4e-9d11f2a3caff",
   "metadata": {
    "papermill": {
     "duration": 0.20053,
     "end_time": "2025-05-14T15:43:57.871560",
     "exception": false,
     "start_time": "2025-05-14T15:43:57.671030",
     "status": "completed"
    },
    "tags": []
   },
   "source": [
    "## 4.`Stock détaillé`"
   ]
  },
  {
   "cell_type": "code",
   "execution_count": 38,
   "id": "0b0b73f7-3add-486f-9dd3-e3d900aba61d",
   "metadata": {
    "execution": {
     "iopub.execute_input": "2025-05-14T15:43:58.834969Z",
     "iopub.status.busy": "2025-05-14T15:43:58.834568Z",
     "iopub.status.idle": "2025-05-14T15:43:58.852281Z",
     "shell.execute_reply": "2025-05-14T15:43:58.851192Z"
    },
    "papermill": {
     "duration": 0.779229,
     "end_time": "2025-05-14T15:43:58.854094",
     "exception": false,
     "start_time": "2025-05-14T15:43:58.074865",
     "status": "completed"
    },
    "tags": []
   },
   "outputs": [],
   "source": [
    "dim_produit = pd.read_sql(\n",
    "    f\"SELECT * FROM {schema_name}.dim_produit_stock_track where programme='{programme}'\",\n",
    "    stock_sync_manager.civ_engine,\n",
    ")"
   ]
  },
  {
   "cell_type": "code",
   "execution_count": 39,
   "id": "c876a5cd-de28-494a-9e81-88fd9de9024f",
   "metadata": {
    "execution": {
     "iopub.execute_input": "2025-05-14T15:44:06.182319Z",
     "iopub.status.busy": "2025-05-14T15:44:06.181889Z",
     "iopub.status.idle": "2025-05-14T15:44:06.198566Z",
     "shell.execute_reply": "2025-05-14T15:44:06.197661Z"
    },
    "papermill": {
     "duration": 7.059291,
     "end_time": "2025-05-14T15:44:06.200105",
     "exception": false,
     "start_time": "2025-05-14T15:43:59.140814",
     "status": "completed"
    },
    "tags": []
   },
   "outputs": [
    {
     "data": {
      "text/html": [
       "<div>\n",
       "<style scoped>\n",
       "    .dataframe tbody tr th:only-of-type {\n",
       "        vertical-align: middle;\n",
       "    }\n",
       "\n",
       "    .dataframe tbody tr th {\n",
       "        vertical-align: top;\n",
       "    }\n",
       "\n",
       "    .dataframe thead th {\n",
       "        text-align: right;\n",
       "    }\n",
       "</style>\n",
       "<table border=\"1\" class=\"dataframe\">\n",
       "  <thead>\n",
       "    <tr style=\"text-align: right;\">\n",
       "      <th></th>\n",
       "      <th>code_produit</th>\n",
       "      <th>designation_produit</th>\n",
       "      <th>emplacement</th>\n",
       "      <th>date_limite_consommation</th>\n",
       "      <th>numero_lot</th>\n",
       "      <th>sous_lot_programme</th>\n",
       "      <th>qte_physique</th>\n",
       "      <th>qte_livrable</th>\n",
       "      <th>unit</th>\n",
       "    </tr>\n",
       "  </thead>\n",
       "  <tbody>\n",
       "    <tr>\n",
       "      <th>0</th>\n",
       "      <td>3120048</td>\n",
       "      <td>SAYANA PRESS (MEDROXYPROGESTERONE) 104 mg / 0....</td>\n",
       "      <td>01A01A07</td>\n",
       "      <td>2026-08-01</td>\n",
       "      <td>HJ18315</td>\n",
       "      <td>PNSME</td>\n",
       "      <td>200</td>\n",
       "      <td>200</td>\n",
       "      <td>UN</td>\n",
       "    </tr>\n",
       "  </tbody>\n",
       "</table>\n",
       "</div>"
      ],
      "text/plain": [
       "   code_produit                                designation_produit  \\\n",
       "0       3120048  SAYANA PRESS (MEDROXYPROGESTERONE) 104 mg / 0....   \n",
       "\n",
       "  emplacement date_limite_consommation numero_lot sous_lot_programme  \\\n",
       "0    01A01A07               2026-08-01    HJ18315              PNSME   \n",
       "\n",
       "   qte_physique  qte_livrable unit  \n",
       "0           200           200   UN  "
      ]
     },
     "execution_count": 39,
     "metadata": {},
     "output_type": "execute_result"
    }
   ],
   "source": [
    "code_col = [col for col in df_stock_detaille.columns if \"CODE\" in str(col).upper()][0]\n",
    "\n",
    "df_stock_detaille.rename(\n",
    "    columns={\n",
    "        code_col: \"code_produit\",\n",
    "        \"Désignation\": \"designation_produit\",\n",
    "        \"Emplacement\": \"emplacement\",\n",
    "        \"Date limite de consommation\": \"date_limite_consommation\",\n",
    "        \"Numéro Lot\": \"numero_lot\",\n",
    "        \"Sous lot (Programme)\": \"sous_lot_programme\",\n",
    "        \"Qté \\nPhysique\": \"qte_physique\",\n",
    "        \"Qté \\nlivrable\": \"qte_livrable\",\n",
    "        \"Unit\": \"unit\",\n",
    "    },\n",
    "    inplace=True,\n",
    ")\n",
    "df_stock_detaille = df_stock_detaille[\n",
    "    [\n",
    "        \"code_produit\",\n",
    "        \"designation_produit\",\n",
    "        \"emplacement\",\n",
    "        \"date_limite_consommation\",\n",
    "        \"numero_lot\",\n",
    "        \"sous_lot_programme\",\n",
    "        \"qte_physique\",\n",
    "        \"qte_livrable\",\n",
    "        \"unit\",\n",
    "    ]\n",
    "]\n",
    "\n",
    "df_stock_detaille = df_stock_detaille.loc[\n",
    "    df_stock_detaille.code_produit.isin(dim_produit.code_produit)\n",
    "]\n",
    "df_stock_detaille.head(1)"
   ]
  },
  {
   "cell_type": "code",
   "execution_count": 40,
   "id": "c374989e-2d57-4ce8-8ea6-bb101672241e",
   "metadata": {
    "execution": {
     "iopub.execute_input": "2025-05-14T15:44:06.638909Z",
     "iopub.status.busy": "2025-05-14T15:44:06.638550Z",
     "iopub.status.idle": "2025-05-14T15:44:06.655557Z",
     "shell.execute_reply": "2025-05-14T15:44:06.654622Z"
    },
    "papermill": {
     "duration": 0.210927,
     "end_time": "2025-05-14T15:44:06.657350",
     "exception": false,
     "start_time": "2025-05-14T15:44:06.446423",
     "status": "completed"
    },
    "tags": []
   },
   "outputs": [],
   "source": [
    "df_stock_detaille = (\n",
    "    df_stock_detaille.groupby([\"code_produit\", \"date_limite_consommation\"])[\n",
    "        [\"qte_physique\", \"qte_livrable\"]\n",
    "    ]\n",
    "    .sum(min_count=1)\n",
    "    .reset_index()\n",
    ")\n",
    "\n",
    "df_stock_detaille = (\n",
    "    dim_produit[[\"id_dim_produit_stock_track_pk\", \"code_produit\"]]\n",
    "    .merge(df_stock_detaille, on=\"code_produit\")\n",
    "    .rename(columns={\"id_dim_produit_stock_track_pk\": \"id_dim_produit_stock_track_fk\"})\n",
    "    .drop(columns=[\"code_produit\"])\n",
    ")\n",
    "\n",
    "df_stock_detaille[\"date_report\"] = pd.to_datetime(date_report)"
   ]
  },
  {
   "cell_type": "code",
   "execution_count": 41,
   "id": "8c4a6d98-e14d-4742-a91e-0a40ec701ee5",
   "metadata": {
    "execution": {
     "iopub.execute_input": "2025-05-14T15:44:07.025392Z",
     "iopub.status.busy": "2025-05-14T15:44:07.025018Z",
     "iopub.status.idle": "2025-05-14T15:44:07.049887Z",
     "shell.execute_reply": "2025-05-14T15:44:07.048936Z"
    },
    "papermill": {
     "duration": 0.209639,
     "end_time": "2025-05-14T15:44:07.051664",
     "exception": false,
     "start_time": "2025-05-14T15:44:06.842025",
     "status": "completed"
    },
    "tags": []
   },
   "outputs": [],
   "source": [
    "id_list = list(map(int, df_stock_detaille.id_dim_produit_stock_track_fk.unique()))\n",
    "placeholders = \", \".join([\"%s\"] * len(id_list))\n",
    "\n",
    "query = f\"\"\"\n",
    "DELETE FROM {schema_name}.stock_track_detaille\n",
    "WHERE date_report = '{date_report}' AND id_dim_produit_stock_track_fk IN ({placeholders});\n",
    "\"\"\"\n",
    "\n",
    "stock_sync_manager.civ_cursor.execute(query, list(id_list))\n",
    "stock_sync_manager.conn.commit()"
   ]
  },
  {
   "cell_type": "code",
   "execution_count": 42,
   "id": "8f616ee2-8704-4eb2-a182-c65499a3b1dc",
   "metadata": {
    "execution": {
     "iopub.execute_input": "2025-05-14T15:44:07.448379Z",
     "iopub.status.busy": "2025-05-14T15:44:07.447989Z",
     "iopub.status.idle": "2025-05-14T15:44:07.492269Z",
     "shell.execute_reply": "2025-05-14T15:44:07.491240Z"
    },
    "papermill": {
     "duration": 0.247293,
     "end_time": "2025-05-14T15:44:07.493848",
     "exception": false,
     "start_time": "2025-05-14T15:44:07.246555",
     "status": "completed"
    },
    "tags": []
   },
   "outputs": [],
   "source": [
    "stock_sync_manager.insert_dataframe_to_table(df_stock_detaille, \"stock_track_detaille\")\n",
    "\n",
    "del df_stock_detaille"
   ]
  },
  {
   "cell_type": "markdown",
   "id": "fdec6090-24db-40ec-920d-854de310e532",
   "metadata": {
    "papermill": {
     "duration": 12.881202,
     "end_time": "2025-05-14T15:44:21.487826",
     "exception": false,
     "start_time": "2025-05-14T15:44:08.606624",
     "status": "completed"
    },
    "tags": []
   },
   "source": [
    "## 5. `Etat de stock de la NPSP`"
   ]
  },
  {
   "cell_type": "code",
   "execution_count": 43,
   "id": "89d9ea73-f635-42f3-8364-d8205843044e",
   "metadata": {
    "execution": {
     "iopub.execute_input": "2025-05-14T15:44:21.991561Z",
     "iopub.status.busy": "2025-05-14T15:44:21.990642Z",
     "iopub.status.idle": "2025-05-14T15:44:22.013581Z",
     "shell.execute_reply": "2025-05-14T15:44:22.012497Z"
    },
    "papermill": {
     "duration": 0.228962,
     "end_time": "2025-05-14T15:44:22.015184",
     "exception": false,
     "start_time": "2025-05-14T15:44:21.786222",
     "status": "completed"
    },
    "tags": []
   },
   "outputs": [],
   "source": [
    "query = f\"\"\"\n",
    "DELETE FROM {schema_name}.stock_track_npsp\n",
    "WHERE date_report = '{date_report}' and programme='{programme}';\n",
    "\"\"\"\n",
    "\n",
    "stock_sync_manager.civ_cursor.execute(query)\n",
    "stock_sync_manager.conn.commit()"
   ]
  },
  {
   "cell_type": "code",
   "execution_count": 44,
   "id": "fa060ab4-6bd8-44cd-bea2-8bbf1178782a",
   "metadata": {
    "execution": {
     "iopub.execute_input": "2025-05-14T15:44:22.381268Z",
     "iopub.status.busy": "2025-05-14T15:44:22.380534Z",
     "iopub.status.idle": "2025-05-14T15:44:22.442823Z",
     "shell.execute_reply": "2025-05-14T15:44:22.442056Z"
    },
    "papermill": {
     "duration": 0.252753,
     "end_time": "2025-05-14T15:44:22.444736",
     "exception": false,
     "start_time": "2025-05-14T15:44:22.191983",
     "status": "completed"
    },
    "tags": []
   },
   "outputs": [
    {
     "data": {
      "text/plain": [
       "'Insertion de 38 enrégistrements réussie'"
      ]
     },
     "execution_count": 44,
     "metadata": {},
     "output_type": "execute_result"
    }
   ],
   "source": [
    "stock_sync_manager.insert_dataframe_to_table(\n",
    "    df_etat_stock_npsp, table_name=\"stock_track_npsp\", schema_name=\"suivi_stock\"\n",
    ")"
   ]
  },
  {
   "cell_type": "markdown",
   "id": "e36a108a-15d9-4256-ad6e-a62fcd2933eb",
   "metadata": {
    "papermill": {
     "duration": 1.225295,
     "end_time": "2025-05-14T15:44:25.318548",
     "exception": false,
     "start_time": "2025-05-14T15:44:24.093253",
     "status": "completed"
    },
    "tags": []
   },
   "source": [
    "## 6.`Prévision`\n",
    "<div class=\"alert alert-block alert-warning\">\n",
    "Avant de procéder au calcul des éléments de prévision, il est essentiel de s’assurer que les informations produits sont à jour.\n",
    "Cette actualisation doit être effectuée à l’aide du fichier de mapping fourni en paramètre du pipeline.\n",
    "Ce fichier joue un rôle clé : il établit la correspondance entre les différentes sources de données, garantissant ainsi la cohérence et la fiabilité des informations utilisées pour les prévisions.\n",
    "\n",
    "</div>"
   ]
  },
  {
   "cell_type": "code",
   "execution_count": 45,
   "id": "1233e266-9e64-4468-b0e8-0a8997a922d8",
   "metadata": {
    "execution": {
     "iopub.execute_input": "2025-05-14T15:44:25.708788Z",
     "iopub.status.busy": "2025-05-14T15:44:25.708440Z",
     "iopub.status.idle": "2025-05-14T15:44:25.727894Z",
     "shell.execute_reply": "2025-05-14T15:44:25.727147Z"
    },
    "papermill": {
     "duration": 0.202726,
     "end_time": "2025-05-14T15:44:25.729202",
     "exception": false,
     "start_time": "2025-05-14T15:44:25.526476",
     "status": "completed"
    },
    "tags": []
   },
   "outputs": [
    {
     "data": {
      "text/plain": [
       "'Aucune mise à jour des données à effectuer sur la table dim_produit'"
      ]
     },
     "execution_count": 45,
     "metadata": {},
     "output_type": "execute_result"
    }
   ],
   "source": [
    "stock_sync_manager.synchronize_product_metadata(df_plan_approv.copy(), programme)"
   ]
  },
  {
   "cell_type": "code",
   "execution_count": 46,
   "id": "5951635c-2b33-4f6c-8ea0-713e2b7c8501",
   "metadata": {
    "execution": {
     "iopub.execute_input": "2025-05-14T15:44:26.314325Z",
     "iopub.status.busy": "2025-05-14T15:44:26.313243Z",
     "iopub.status.idle": "2025-05-14T15:44:26.320532Z",
     "shell.execute_reply": "2025-05-14T15:44:26.319553Z"
    },
    "papermill": {
     "duration": 0.386326,
     "end_time": "2025-05-14T15:44:26.321911",
     "exception": false,
     "start_time": "2025-05-14T15:44:25.935585",
     "status": "completed"
    },
    "tags": []
   },
   "outputs": [],
   "source": [
    "df_plan_approv['Date updated'] = df_plan_approv['DATE'].apply(lambda x: x.strftime(\"%b-%Y\"))"
   ]
  },
  {
   "cell_type": "code",
   "execution_count": 47,
   "id": "df8760ec-9a46-4a8f-838a-fb757d50b3d1",
   "metadata": {
    "execution": {
     "iopub.execute_input": "2025-05-14T15:44:27.098095Z",
     "iopub.status.busy": "2025-05-14T15:44:27.097669Z",
     "iopub.status.idle": "2025-05-14T15:44:28.231710Z",
     "shell.execute_reply": "2025-05-14T15:44:28.230999Z"
    },
    "papermill": {
     "duration": 1.716644,
     "end_time": "2025-05-14T15:44:28.233221",
     "exception": false,
     "start_time": "2025-05-14T15:44:26.516577",
     "status": "completed"
    },
    "tags": []
   },
   "outputs": [
    {
     "data": {
      "text/html": [
       "<div>\n",
       "<style scoped>\n",
       "    .dataframe tbody tr th:only-of-type {\n",
       "        vertical-align: middle;\n",
       "    }\n",
       "\n",
       "    .dataframe tbody tr th {\n",
       "        vertical-align: top;\n",
       "    }\n",
       "\n",
       "    .dataframe thead th {\n",
       "        text-align: right;\n",
       "    }\n",
       "</style>\n",
       "<table border=\"1\" class=\"dataframe\">\n",
       "  <thead>\n",
       "    <tr style=\"text-align: right;\">\n",
       "      <th></th>\n",
       "      <th>id_dim_produit_stock_track_fk</th>\n",
       "      <th>code_produit</th>\n",
       "      <th>ancien_code</th>\n",
       "      <th>stock_central</th>\n",
       "      <th>dmm_central</th>\n",
       "      <th>stock_national</th>\n",
       "      <th>cmm_national</th>\n",
       "      <th>stock_prev_central</th>\n",
       "      <th>stock_prev_national</th>\n",
       "      <th>period_prev</th>\n",
       "      <th>date_report</th>\n",
       "    </tr>\n",
       "  </thead>\n",
       "  <tbody>\n",
       "    <tr>\n",
       "      <th>0</th>\n",
       "      <td>372</td>\n",
       "      <td>3120004</td>\n",
       "      <td>AS21127</td>\n",
       "      <td>18356.0</td>\n",
       "      <td>2364.8333</td>\n",
       "      <td>26001.0</td>\n",
       "      <td>1922.0</td>\n",
       "      <td>8</td>\n",
       "      <td>14</td>\n",
       "      <td>2025-03-01</td>\n",
       "      <td>2025-03-01</td>\n",
       "    </tr>\n",
       "    <tr>\n",
       "      <th>1</th>\n",
       "      <td>372</td>\n",
       "      <td>3120004</td>\n",
       "      <td>AS21127</td>\n",
       "      <td>NaN</td>\n",
       "      <td>NaN</td>\n",
       "      <td>NaN</td>\n",
       "      <td>NaN</td>\n",
       "      <td>7</td>\n",
       "      <td>13</td>\n",
       "      <td>2025-04-01</td>\n",
       "      <td>2025-03-01</td>\n",
       "    </tr>\n",
       "    <tr>\n",
       "      <th>2</th>\n",
       "      <td>372</td>\n",
       "      <td>3120004</td>\n",
       "      <td>AS21127</td>\n",
       "      <td>NaN</td>\n",
       "      <td>NaN</td>\n",
       "      <td>NaN</td>\n",
       "      <td>NaN</td>\n",
       "      <td>48</td>\n",
       "      <td>64</td>\n",
       "      <td>2025-05-01</td>\n",
       "      <td>2025-03-01</td>\n",
       "    </tr>\n",
       "  </tbody>\n",
       "</table>\n",
       "</div>"
      ],
      "text/plain": [
       "   id_dim_produit_stock_track_fk  code_produit ancien_code  stock_central  \\\n",
       "0                            372       3120004     AS21127        18356.0   \n",
       "1                            372       3120004     AS21127            NaN   \n",
       "2                            372       3120004     AS21127            NaN   \n",
       "\n",
       "   dmm_central  stock_national  cmm_national stock_prev_central  \\\n",
       "0    2364.8333         26001.0        1922.0                  8   \n",
       "1          NaN             NaN           NaN                  7   \n",
       "2          NaN             NaN           NaN                 48   \n",
       "\n",
       "  stock_prev_national period_prev date_report  \n",
       "0                  14  2025-03-01  2025-03-01  \n",
       "1                  13  2025-04-01  2025-03-01  \n",
       "2                  64  2025-05-01  2025-03-01  "
      ]
     },
     "metadata": {},
     "output_type": "display_data"
    }
   ],
   "source": [
    "df_prevision = compute_indicators.prevision.get_prevision_current_month(\n",
    "    df_plan_approv.copy(),\n",
    "    date_report,\n",
    "    programme,\n",
    "    stock_sync_manager.civ_engine,\n",
    "    schema_name=\"suivi_stock\",\n",
    ")"
   ]
  },
  {
   "cell_type": "code",
   "execution_count": 48,
   "id": "6b5134dd-8cbc-4f9b-8671-af020adbb5cc",
   "metadata": {
    "execution": {
     "iopub.execute_input": "2025-05-14T15:44:29.929715Z",
     "iopub.status.busy": "2025-05-14T15:44:29.929338Z",
     "iopub.status.idle": "2025-05-14T15:44:30.002445Z",
     "shell.execute_reply": "2025-05-14T15:44:30.001507Z"
    },
    "papermill": {
     "duration": 1.018285,
     "end_time": "2025-05-14T15:44:30.004258",
     "exception": false,
     "start_time": "2025-05-14T15:44:28.985973",
     "status": "completed"
    },
    "tags": []
   },
   "outputs": [],
   "source": [
    "id_list = list(map(int, df_prevision.id_dim_produit_stock_track_fk.unique()))\n",
    "placeholders = \", \".join([\"%s\"] * len(id_list))\n",
    "\n",
    "query = f\"\"\"\n",
    "DELETE FROM {schema_name}.stock_track_prevision\n",
    "WHERE date_report = %s AND id_dim_produit_stock_track_fk IN ({placeholders});\n",
    "\"\"\"\n",
    "stock_sync_manager.civ_cursor.execute(query, [date_report] + list(id_list))\n",
    "stock_sync_manager.conn.commit()"
   ]
  },
  {
   "cell_type": "code",
   "execution_count": 49,
   "id": "b2cba3cf-54d4-40a9-81e4-db8ffc8af896",
   "metadata": {
    "execution": {
     "iopub.execute_input": "2025-05-14T15:44:40.578644Z",
     "iopub.status.busy": "2025-05-14T15:44:40.577636Z",
     "iopub.status.idle": "2025-05-14T15:44:40.657412Z",
     "shell.execute_reply": "2025-05-14T15:44:40.656460Z"
    },
    "papermill": {
     "duration": 10.371238,
     "end_time": "2025-05-14T15:44:40.659236",
     "exception": false,
     "start_time": "2025-05-14T15:44:30.287998",
     "status": "completed"
    },
    "tags": []
   },
   "outputs": [
    {
     "data": {
      "text/plain": [
       "'Insertion de 208 enrégistrements réussie'"
      ]
     },
     "execution_count": 49,
     "metadata": {},
     "output_type": "execute_result"
    }
   ],
   "source": [
    "stock_sync_manager.insert_dataframe_to_table(\n",
    "    df_prevision.drop(columns=[\"code_produit\", \"ancien_code\"]), \"stock_track_prevision\"\n",
    ")"
   ]
  },
  {
   "cell_type": "markdown",
   "id": "beed3506-66a5-4678-a064-cd62f6bd461c",
   "metadata": {
    "papermill": {
     "duration": 0.23447,
     "end_time": "2025-05-14T15:44:41.139355",
     "exception": false,
     "start_time": "2025-05-14T15:44:40.904885",
     "status": "completed"
    },
    "tags": []
   },
   "source": [
    "## 7.`Plan d'approvisionnement`"
   ]
  },
  {
   "cell_type": "code",
   "execution_count": 50,
   "id": "915dd339-4537-4fdd-b9f2-f3f52bc7db68",
   "metadata": {
    "execution": {
     "iopub.execute_input": "2025-05-14T15:44:42.567465Z",
     "iopub.status.busy": "2025-05-14T15:44:42.566567Z",
     "iopub.status.idle": "2025-05-14T15:44:42.605699Z",
     "shell.execute_reply": "2025-05-14T15:44:42.604754Z"
    },
    "papermill": {
     "duration": 0.221065,
     "end_time": "2025-05-14T15:44:42.607524",
     "exception": false,
     "start_time": "2025-05-14T15:44:42.386459",
     "status": "completed"
    },
    "tags": []
   },
   "outputs": [],
   "source": [
    "query = f\"\"\"\n",
    "DELETE FROM {schema_name}.plan_approv\n",
    "WHERE date_report = '{date_report}' and programme='{programme}'\n",
    "\"\"\"\n",
    "stock_sync_manager.civ_cursor.execute(query)\n",
    "stock_sync_manager.conn.commit()"
   ]
  },
  {
   "cell_type": "code",
   "execution_count": 51,
   "id": "8f6561dd-eac8-4500-bb97-c7cde0e0fdeb",
   "metadata": {
    "execution": {
     "iopub.execute_input": "2025-05-14T15:44:44.646239Z",
     "iopub.status.busy": "2025-05-14T15:44:44.645753Z",
     "iopub.status.idle": "2025-05-14T15:44:44.672057Z",
     "shell.execute_reply": "2025-05-14T15:44:44.671152Z"
    },
    "papermill": {
     "duration": 0.241513,
     "end_time": "2025-05-14T15:44:44.673620",
     "exception": false,
     "start_time": "2025-05-14T15:44:44.432107",
     "status": "completed"
    },
    "tags": []
   },
   "outputs": [
    {
     "data": {
      "text/html": [
       "<div>\n",
       "<style scoped>\n",
       "    .dataframe tbody tr th:only-of-type {\n",
       "        vertical-align: middle;\n",
       "    }\n",
       "\n",
       "    .dataframe tbody tr th {\n",
       "        vertical-align: top;\n",
       "    }\n",
       "\n",
       "    .dataframe thead th {\n",
       "        text-align: right;\n",
       "    }\n",
       "</style>\n",
       "<table border=\"1\" class=\"dataframe\">\n",
       "  <thead>\n",
       "    <tr style=\"text-align: right;\">\n",
       "      <th></th>\n",
       "      <th>standard_product_code</th>\n",
       "      <th>id_produit_qat</th>\n",
       "      <th>designation</th>\n",
       "      <th>id_envoi_qat</th>\n",
       "      <th>centrale_achat</th>\n",
       "      <th>source_financement</th>\n",
       "      <th>status</th>\n",
       "      <th>quantite</th>\n",
       "      <th>facteur_conversion_qat_vers_sage</th>\n",
       "      <th>quantite_harmonisee_sage</th>\n",
       "      <th>date</th>\n",
       "      <th>cout_produits</th>\n",
       "      <th>cout_fret</th>\n",
       "      <th>cout_total</th>\n",
       "      <th>date_report</th>\n",
       "      <th>programme</th>\n",
       "    </tr>\n",
       "  </thead>\n",
       "  <tbody>\n",
       "    <tr>\n",
       "      <th>0</th>\n",
       "      <td>3120048.0</td>\n",
       "      <td>2638</td>\n",
       "      <td>Medroxyprogesterone Acetate 104 mg/0.65 mL  SC...</td>\n",
       "      <td>162621</td>\n",
       "      <td>UNFPA</td>\n",
       "      <td>Govt</td>\n",
       "      <td>Reçu</td>\n",
       "      <td>50000.0</td>\n",
       "      <td>1.0</td>\n",
       "      <td>50000.0</td>\n",
       "      <td>2025-03-04</td>\n",
       "      <td>42500.0</td>\n",
       "      <td>5100.0</td>\n",
       "      <td>47600.0</td>\n",
       "      <td>2025-03-01</td>\n",
       "      <td>PNSME</td>\n",
       "    </tr>\n",
       "    <tr>\n",
       "      <th>1</th>\n",
       "      <td>3120048.0</td>\n",
       "      <td>2638</td>\n",
       "      <td>Medroxyprogesterone Acetate 104 mg/0.65 mL  SC...</td>\n",
       "      <td>162622</td>\n",
       "      <td>UNFPA</td>\n",
       "      <td>Govt</td>\n",
       "      <td>Approuvé</td>\n",
       "      <td>100000.0</td>\n",
       "      <td>1.0</td>\n",
       "      <td>100000.0</td>\n",
       "      <td>2025-03-31</td>\n",
       "      <td>85000.0</td>\n",
       "      <td>10200.0</td>\n",
       "      <td>95200.0</td>\n",
       "      <td>2025-03-01</td>\n",
       "      <td>PNSME</td>\n",
       "    </tr>\n",
       "  </tbody>\n",
       "</table>\n",
       "</div>"
      ],
      "text/plain": [
       "   standard_product_code  id_produit_qat  \\\n",
       "0              3120048.0            2638   \n",
       "1              3120048.0            2638   \n",
       "\n",
       "                                         designation  id_envoi_qat  \\\n",
       "0  Medroxyprogesterone Acetate 104 mg/0.65 mL  SC...        162621   \n",
       "1  Medroxyprogesterone Acetate 104 mg/0.65 mL  SC...        162622   \n",
       "\n",
       "  centrale_achat source_financement    status  quantite  \\\n",
       "0          UNFPA               Govt      Reçu   50000.0   \n",
       "1          UNFPA               Govt  Approuvé  100000.0   \n",
       "\n",
       "   facteur_conversion_qat_vers_sage  quantite_harmonisee_sage       date  \\\n",
       "0                               1.0                   50000.0 2025-03-04   \n",
       "1                               1.0                  100000.0 2025-03-31   \n",
       "\n",
       "   cout_produits  cout_fret  cout_total date_report programme  \n",
       "0        42500.0     5100.0     47600.0  2025-03-01     PNSME  \n",
       "1        85000.0    10200.0     95200.0  2025-03-01     PNSME  "
      ]
     },
     "execution_count": 51,
     "metadata": {},
     "output_type": "execute_result"
    }
   ],
   "source": [
    "df_pa = df_plan_approv.rename(\n",
    "    columns={\n",
    "        \"Standard product code\": \"standard_product_code\",\n",
    "        \"ID de produit QAT\": \"id_produit_qat\",\n",
    "        \"Produits\": \"designation\",\n",
    "        \"ID de l`envoi QAT\": \"id_envoi_qat\",\n",
    "        \"Agent d`approvisionnement\": \"centrale_achat\",\n",
    "        \"Source de financement\": \"source_financement\",\n",
    "        \"Status\": \"status\",\n",
    "        \"Quantite\": \"quantite\",\n",
    "        \"facteur_de_conversion_qat_sage\": \"facteur_conversion_qat_vers_sage\",\n",
    "        \"Quantité harmonisée (SAGE)\": \"quantite_harmonisee_sage\",\n",
    "        \"DATE\": \"date\",\n",
    "        \"Cout des Produits\": \"cout_produits\",\n",
    "        \"Couts du fret\": \"cout_fret\",\n",
    "        \"Couts totaux\": \"cout_total\",\n",
    "    },\n",
    ")\n",
    "\n",
    "df_pa = df_pa[\n",
    "    [\"standard_product_code\", \"id_produit_qat\",\n",
    "     \"designation\", \"id_envoi_qat\",\n",
    "     \"centrale_achat\", \"source_financement\",\n",
    "     \"status\", \"quantite\", \"facteur_conversion_qat_vers_sage\",\n",
    "     \"quantite_harmonisee_sage\", \"date\",\n",
    "     \"cout_produits\", \"cout_fret\", \"cout_total\",\n",
    "    ]\n",
    "]\n",
    "df_pa[\"date_report\"] = pd.to_datetime(date_report)\n",
    "df_pa[\"programme\"] = programme\n",
    "df_pa[\"standard_product_code\"] = df_pa[\"standard_product_code\"].fillna(0)\n",
    "\n",
    "df_pa.head(2)"
   ]
  },
  {
   "cell_type": "code",
   "execution_count": 52,
   "id": "557e36d1-3a17-48d4-851d-96de9b3f3be5",
   "metadata": {
    "execution": {
     "iopub.execute_input": "2025-05-14T15:44:45.545249Z",
     "iopub.status.busy": "2025-05-14T15:44:45.544270Z",
     "iopub.status.idle": "2025-05-14T15:44:45.634859Z",
     "shell.execute_reply": "2025-05-14T15:44:45.634016Z"
    },
    "papermill": {
     "duration": 0.304012,
     "end_time": "2025-05-14T15:44:45.636438",
     "exception": false,
     "start_time": "2025-05-14T15:44:45.332426",
     "status": "completed"
    },
    "tags": []
   },
   "outputs": [
    {
     "data": {
      "text/plain": [
       "'Insertion de 86 enrégistrements réussie'"
      ]
     },
     "execution_count": 52,
     "metadata": {},
     "output_type": "execute_result"
    }
   ],
   "source": [
    "stock_sync_manager.insert_dataframe_to_table(df_pa, table_name=\"plan_approv\", schema_name=\"suivi_stock\")"
   ]
  },
  {
   "cell_type": "code",
   "execution_count": 53,
   "id": "59e7f509-0f62-4188-8648-bef9a221b661",
   "metadata": {
    "execution": {
     "iopub.execute_input": "2025-05-14T15:44:46.073117Z",
     "iopub.status.busy": "2025-05-14T15:44:46.072715Z",
     "iopub.status.idle": "2025-05-14T15:44:46.077562Z",
     "shell.execute_reply": "2025-05-14T15:44:46.076521Z"
    },
    "papermill": {
     "duration": 0.216339,
     "end_time": "2025-05-14T15:44:46.079188",
     "exception": false,
     "start_time": "2025-05-14T15:44:45.862849",
     "status": "completed"
    },
    "tags": []
   },
   "outputs": [],
   "source": [
    "del df_pa"
   ]
  },
  {
   "cell_type": "code",
   "execution_count": 54,
   "id": "6a0e5239-2271-4793-b121-72e9633d1543",
   "metadata": {
    "execution": {
     "iopub.execute_input": "2025-05-14T15:44:46.576410Z",
     "iopub.status.busy": "2025-05-14T15:44:46.575996Z",
     "iopub.status.idle": "2025-05-14T15:44:47.147998Z",
     "shell.execute_reply": "2025-05-14T15:44:47.147021Z"
    },
    "papermill": {
     "duration": 0.864455,
     "end_time": "2025-05-14T15:44:47.149788",
     "exception": false,
     "start_time": "2025-05-14T15:44:46.285333",
     "status": "completed"
    },
    "tags": []
   },
   "outputs": [],
   "source": [
    "# Mise à jour des colonnes qui contienent des valeurs nan, NaN ou None malgré les mises à jours effectuée\n",
    "from database_operations import queries\n",
    "\n",
    "stock_sync_manager.civ_cursor.execute(\n",
    "    queries.QUERY_UPDATE.format(schema_name=schema_name)\n",
    ")\n",
    "stock_sync_manager.conn.commit()"
   ]
  },
  {
   "cell_type": "markdown",
   "id": "0a6af0d7-53cb-45f0-a174-afed7ecd72db",
   "metadata": {
    "papermill": {
     "duration": 1.082412,
     "end_time": "2025-05-14T15:44:50.039133",
     "exception": false,
     "start_time": "2025-05-14T15:44:48.956721",
     "status": "completed"
    },
    "tags": []
   },
   "source": [
    "# VI.📄Génération du fichier pour le mois spécifique"
   ]
  },
  {
   "cell_type": "markdown",
   "id": "a1e25950-2b53-4f3b-b1f8-9ec34c76367b",
   "metadata": {
    "papermill": {
     "duration": 0.192372,
     "end_time": "2025-05-14T15:45:01.915284",
     "exception": false,
     "start_time": "2025-05-14T15:45:01.722912",
     "status": "completed"
    },
    "tags": []
   },
   "source": [
    "## 1. Initialisation des paramètres utile"
   ]
  },
  {
   "cell_type": "code",
   "execution_count": 55,
   "id": "30b49db8-06c5-4d9e-ae95-a24f0ee66888",
   "metadata": {
    "execution": {
     "iopub.execute_input": "2025-05-14T15:45:02.342240Z",
     "iopub.status.busy": "2025-05-14T15:45:02.341805Z",
     "iopub.status.idle": "2025-05-14T15:45:02.348588Z",
     "shell.execute_reply": "2025-05-14T15:45:02.347523Z"
    },
    "papermill": {
     "duration": 0.217821,
     "end_time": "2025-05-14T15:45:02.350097",
     "exception": false,
     "start_time": "2025-05-14T15:45:02.132276",
     "status": "completed"
    },
    "tags": []
   },
   "outputs": [],
   "source": [
    "date_report_format = date_report\n",
    "date_report = pd.to_datetime(date_report, format='%Y-%m-%d').strftime('%d/%m/%Y')\n",
    "f_month = gstf.get_current_variable(date_report)[1].replace(' ', '-')"
   ]
  },
  {
   "cell_type": "markdown",
   "id": "acace0b9-cbb6-4ee8-bc43-1fcd1c724a2d",
   "metadata": {
    "papermill": {
     "duration": 1.106605,
     "end_time": "2025-05-14T15:45:03.692613",
     "exception": false,
     "start_time": "2025-05-14T15:45:02.586008",
     "status": "completed"
    },
    "tags": []
   },
   "source": [
    "## 2. Importation des classeurs de bases"
   ]
  },
  {
   "cell_type": "code",
   "execution_count": 56,
   "id": "689f25f3-1bf9-4c16-9569-61b0b7140cce",
   "metadata": {
    "execution": {
     "iopub.execute_input": "2025-05-14T15:45:06.782944Z",
     "iopub.status.busy": "2025-05-14T15:45:06.782434Z",
     "iopub.status.idle": "2025-05-14T15:51:56.202365Z",
     "shell.execute_reply": "2025-05-14T15:51:56.201192Z"
    },
    "papermill": {
     "duration": 412.967379,
     "end_time": "2025-05-14T15:51:56.877717",
     "exception": false,
     "start_time": "2025-05-14T15:45:03.910338",
     "status": "completed"
    },
    "tags": []
   },
   "outputs": [
    {
     "name": "stdout",
     "output_type": "stream",
     "text": [
      "CPU times: user 6min 30s, sys: 17.1 s, total: 6min 47s\n",
      "Wall time: 6min 49s\n"
     ]
    }
   ],
   "source": [
    "%%time\n",
    "# WorkBook Template de base\n",
    "wb_template = pyxl.load_workbook(\n",
    "    filename=\"/home/jovyan/workspace/Fichier Suivi de Stock/code/pipelines/generate_stock_tracking_file/Template Fichier Suivi de Stock/Fichier Suivi de Stock Template.xlsx\"\n",
    ")\n",
    "\n",
    "# WorkBook Etats de stock mensuels\n",
    "wb_etat_stock = pyxl.load_workbook(filename=fp_etat_mensuel)\n",
    "\n",
    "# WorkBook du Rapport Feedback\n",
    "wb_fbr = pyxl.load_workbook(\n",
    "    filename=f\"/home/jovyan/workspace/Rapport Feedback/code/pipelines/rapport feedback genere/{date_report_format[:4]}/RapportFeedBack-{unidecode(f_month)}.xlsx\"\n",
    ")"
   ]
  },
  {
   "cell_type": "markdown",
   "id": "30d3235c-40f4-4d76-9cbb-463cbf37cb26",
   "metadata": {
    "papermill": {
     "duration": 0.244074,
     "end_time": "2025-05-14T15:51:57.366464",
     "exception": false,
     "start_time": "2025-05-14T15:51:57.122390",
     "status": "completed"
    },
    "tags": []
   },
   "source": [
    "## 3. Mise à jour des données en se basant sur la source `Etat de Stock Mensuel`"
   ]
  },
  {
   "cell_type": "code",
   "execution_count": 57,
   "id": "ef678267-2bdf-4fad-bdc6-837935e7c2bf",
   "metadata": {
    "execution": {
     "iopub.execute_input": "2025-05-14T15:51:57.751702Z",
     "iopub.status.busy": "2025-05-14T15:51:57.751029Z",
     "iopub.status.idle": "2025-05-14T15:52:21.628981Z",
     "shell.execute_reply": "2025-05-14T15:52:21.628004Z"
    },
    "papermill": {
     "duration": 24.069298,
     "end_time": "2025-05-14T15:52:21.630565",
     "exception": false,
     "start_time": "2025-05-14T15:51:57.561267",
     "status": "completed"
    },
    "tags": []
   },
   "outputs": [
    {
     "name": "stdout",
     "output_type": "stream",
     "text": [
      "CPU times: user 23.8 s, sys: 18.6 ms, total: 23.9 s\n",
      "Wall time: 23.9 s\n"
     ]
    }
   ],
   "source": [
    "%%time\n",
    "wb_template = gstf.update_sheets_etat_mensuel(\n",
    "    wb_etat_stock, wb_template, programme, date_report\n",
    ")"
   ]
  },
  {
   "cell_type": "markdown",
   "id": "40b4f4f0-6a5d-4685-9b86-b74e15424ed7",
   "metadata": {
    "papermill": {
     "duration": 0.201112,
     "end_time": "2025-05-14T15:52:22.075525",
     "exception": false,
     "start_time": "2025-05-14T15:52:21.874413",
     "status": "completed"
    },
    "tags": []
   },
   "source": [
    "## 4. Mise à jour des données en se basant sur la source `Rapport Feedback`\n",
    "\n",
    "Pour le faire on va se baser sur les inputs au préalable du fichier RapportFeebback généré et présent dans les fichiers d'OH pour le mois courant"
   ]
  },
  {
   "cell_type": "code",
   "execution_count": 58,
   "id": "aca0a3a7-c102-4200-8604-357171092ab5",
   "metadata": {
    "execution": {
     "iopub.execute_input": "2025-05-14T15:52:22.502229Z",
     "iopub.status.busy": "2025-05-14T15:52:22.501250Z",
     "iopub.status.idle": "2025-05-14T15:52:39.620859Z",
     "shell.execute_reply": "2025-05-14T15:52:39.619891Z"
    },
    "papermill": {
     "duration": 17.341649,
     "end_time": "2025-05-14T15:52:39.622808",
     "exception": false,
     "start_time": "2025-05-14T15:52:22.281159",
     "status": "completed"
    },
    "tags": []
   },
   "outputs": [
    {
     "data": {
      "text/html": [
       "<div>\n",
       "<style scoped>\n",
       "    .dataframe tbody tr th:only-of-type {\n",
       "        vertical-align: middle;\n",
       "    }\n",
       "\n",
       "    .dataframe tbody tr th {\n",
       "        vertical-align: top;\n",
       "    }\n",
       "\n",
       "    .dataframe thead th {\n",
       "        text-align: right;\n",
       "    }\n",
       "</style>\n",
       "<table border=\"1\" class=\"dataframe\">\n",
       "  <thead>\n",
       "    <tr style=\"text-align: right;\">\n",
       "      <th></th>\n",
       "      <th>Code_Pro</th>\n",
       "      <th>CODE</th>\n",
       "      <th>PROGRAMME</th>\n",
       "      <th>SOUS-PROGRAMME</th>\n",
       "      <th>PERIODE</th>\n",
       "      <th>REGION</th>\n",
       "      <th>DISTRICT</th>\n",
       "      <th>CODE  ETS</th>\n",
       "      <th>STRUCTURE</th>\n",
       "      <th>TYPE DE STRUCTURE</th>\n",
       "      <th>CATEGORIE PRODUIT</th>\n",
       "      <th>PRODUIT</th>\n",
       "      <th>UNITE DE RAPPORTAGE</th>\n",
       "      <th>STOCK INITIAL</th>\n",
       "      <th>QUANTITE RECUE</th>\n",
       "      <th>QUANTITE UTILISEE</th>\n",
       "      <th>PERTES ET AJUSTEMENT</th>\n",
       "      <th>JOURS DE RUPTURE</th>\n",
       "      <th>SDU</th>\n",
       "      <th>CMM ESIGL</th>\n",
       "      <th>CMM gestionnaire</th>\n",
       "      <th>QUANTITE PROPOSEE</th>\n",
       "      <th>QUANTITE COMMANDEE</th>\n",
       "      <th>QUANTITE APPROUVEE</th>\n",
       "      <th>MSD</th>\n",
       "      <th>ETAT DU STOCK</th>\n",
       "      <th>BESOIN COMMANDE URGENTE</th>\n",
       "      <th>BESOIN TRANSFERT IN</th>\n",
       "      <th>QUANTITE A TRANSFERER OUT</th>\n",
       "      <th>CATEGORIE_DU_PRODUIT</th>\n",
       "      <th>Commandes du mois précédent</th>\n",
       "      <th>Etat du stock du mois précédent</th>\n",
       "    </tr>\n",
       "  </thead>\n",
       "  <tbody>\n",
       "    <tr>\n",
       "      <th>0</th>\n",
       "      <td>3050350_PNLT</td>\n",
       "      <td>3050350</td>\n",
       "      <td>PNLT</td>\n",
       "      <td>PNLT-SENSIBLE MEDICAMENTS ET INTRANTS</td>\n",
       "      <td>JANVIER MARS 2025</td>\n",
       "      <td>IFFOU</td>\n",
       "      <td>DAOUKRO</td>\n",
       "      <td>62600030</td>\n",
       "      <td>CENTRE ANTITUBERCULEUX DAOUKRO</td>\n",
       "      <td>FORMATION SANITAIRE</td>\n",
       "      <td>Produit traceur</td>\n",
       "      <td>RH 150 (RIFAmpICINE150 - ISONIAZIDE75) comp. B...</td>\n",
       "      <td>COMPRIME</td>\n",
       "      <td>9316</td>\n",
       "      <td>9408</td>\n",
       "      <td>8992</td>\n",
       "      <td>-2399</td>\n",
       "      <td>0</td>\n",
       "      <td>7333</td>\n",
       "      <td>1007</td>\n",
       "      <td>3021.0</td>\n",
       "      <td>0</td>\n",
       "      <td>10793</td>\n",
       "      <td>10793</td>\n",
       "      <td>2.427342</td>\n",
       "      <td>ENTRE PCU et MIN</td>\n",
       "      <td>NaN</td>\n",
       "      <td>1730.0</td>\n",
       "      <td>NaN</td>\n",
       "      <td>PRODUITS PNLT ADULTE</td>\n",
       "      <td>NaN</td>\n",
       "      <td>NaN</td>\n",
       "    </tr>\n",
       "    <tr>\n",
       "      <th>1</th>\n",
       "      <td>3050356_PNLT</td>\n",
       "      <td>3050356</td>\n",
       "      <td>PNLT</td>\n",
       "      <td>PNLT-SENSIBLE MEDICAMENTS ET INTRANTS</td>\n",
       "      <td>JANVIER MARS 2025</td>\n",
       "      <td>IFFOU</td>\n",
       "      <td>DAOUKRO</td>\n",
       "      <td>62600030</td>\n",
       "      <td>CENTRE ANTITUBERCULEUX DAOUKRO</td>\n",
       "      <td>FORMATION SANITAIRE</td>\n",
       "      <td>Produit traceur</td>\n",
       "      <td>RHZE (RIFAMP 150 - ISON 75 - PYRAZ 400 - ETHAM...</td>\n",
       "      <td>COMPRIME</td>\n",
       "      <td>8862</td>\n",
       "      <td>0</td>\n",
       "      <td>5251</td>\n",
       "      <td>-2016</td>\n",
       "      <td>0</td>\n",
       "      <td>1595</td>\n",
       "      <td>591</td>\n",
       "      <td>1774.0</td>\n",
       "      <td>1951</td>\n",
       "      <td>9049</td>\n",
       "      <td>9049</td>\n",
       "      <td>0.899098</td>\n",
       "      <td>EN BAS DU PCU</td>\n",
       "      <td>9049.0</td>\n",
       "      <td>3727.0</td>\n",
       "      <td>NaN</td>\n",
       "      <td>PRODUITS PNLT ADULTE</td>\n",
       "      <td>NaN</td>\n",
       "      <td>NaN</td>\n",
       "    </tr>\n",
       "  </tbody>\n",
       "</table>\n",
       "</div>"
      ],
      "text/plain": [
       "       Code_Pro     CODE PROGRAMME                         SOUS-PROGRAMME  \\\n",
       "0  3050350_PNLT  3050350      PNLT  PNLT-SENSIBLE MEDICAMENTS ET INTRANTS   \n",
       "1  3050356_PNLT  3050356      PNLT  PNLT-SENSIBLE MEDICAMENTS ET INTRANTS   \n",
       "\n",
       "             PERIODE REGION DISTRICT  CODE  ETS  \\\n",
       "0  JANVIER MARS 2025  IFFOU  DAOUKRO   62600030   \n",
       "1  JANVIER MARS 2025  IFFOU  DAOUKRO   62600030   \n",
       "\n",
       "                         STRUCTURE    TYPE DE STRUCTURE CATEGORIE PRODUIT  \\\n",
       "0   CENTRE ANTITUBERCULEUX DAOUKRO  FORMATION SANITAIRE   Produit traceur   \n",
       "1   CENTRE ANTITUBERCULEUX DAOUKRO  FORMATION SANITAIRE   Produit traceur   \n",
       "\n",
       "                                             PRODUIT UNITE DE RAPPORTAGE  \\\n",
       "0  RH 150 (RIFAmpICINE150 - ISONIAZIDE75) comp. B...            COMPRIME   \n",
       "1  RHZE (RIFAMP 150 - ISON 75 - PYRAZ 400 - ETHAM...            COMPRIME   \n",
       "\n",
       "   STOCK INITIAL  QUANTITE RECUE  QUANTITE UTILISEE  PERTES ET AJUSTEMENT  \\\n",
       "0           9316            9408               8992                 -2399   \n",
       "1           8862               0               5251                 -2016   \n",
       "\n",
       "   JOURS DE RUPTURE   SDU  CMM ESIGL  CMM gestionnaire  QUANTITE PROPOSEE  \\\n",
       "0                 0  7333       1007            3021.0                  0   \n",
       "1                 0  1595        591            1774.0               1951   \n",
       "\n",
       "   QUANTITE COMMANDEE  QUANTITE APPROUVEE       MSD     ETAT DU STOCK  \\\n",
       "0               10793               10793  2.427342  ENTRE PCU et MIN   \n",
       "1                9049                9049  0.899098     EN BAS DU PCU   \n",
       "\n",
       "   BESOIN COMMANDE URGENTE                    \\\n",
       "0                                        NaN   \n",
       "1                                     9049.0   \n",
       "\n",
       "   BESOIN TRANSFERT IN                                 \\\n",
       "0                                             1730.0    \n",
       "1                                             3727.0    \n",
       "\n",
       "   QUANTITE A TRANSFERER OUT  CATEGORIE_DU_PRODUIT  \\\n",
       "0                        NaN  PRODUITS PNLT ADULTE   \n",
       "1                        NaN  PRODUITS PNLT ADULTE   \n",
       "\n",
       "   Commandes du mois précédent  Etat du stock du mois précédent  \n",
       "0                          NaN                              NaN  \n",
       "1                          NaN                              NaN  "
      ]
     },
     "execution_count": 58,
     "metadata": {},
     "output_type": "execute_result"
    }
   ],
   "source": [
    "df_etat_stock = pd.read_excel(\n",
    "    f\"/home/jovyan/workspace/Rapport Feedback/code/pipelines/rapport feedback genere/{date_report_format[:4]}/RapportFeedBack-{unidecode(f_month)}.xlsx\",\n",
    "    sheet_name=\"ETAT DU STOCK\",\n",
    ")\n",
    "\n",
    "df_etat_stock.head(2)"
   ]
  },
  {
   "cell_type": "code",
   "execution_count": 59,
   "id": "fcabb659-b3ab-42f0-b5bc-fcec276f97c3",
   "metadata": {
    "execution": {
     "iopub.execute_input": "2025-05-14T15:52:40.178181Z",
     "iopub.status.busy": "2025-05-14T15:52:40.176922Z",
     "iopub.status.idle": "2025-05-14T15:52:51.100668Z",
     "shell.execute_reply": "2025-05-14T15:52:51.099667Z"
    },
    "papermill": {
     "duration": 11.150115,
     "end_time": "2025-05-14T15:52:51.102445",
     "exception": false,
     "start_time": "2025-05-14T15:52:39.952330",
     "status": "completed"
    },
    "tags": []
   },
   "outputs": [
    {
     "name": "stdout",
     "output_type": "stream",
     "text": [
      "CPU times: user 10.9 s, sys: 48.8 ms, total: 10.9 s\n",
      "Wall time: 10.9 s\n"
     ]
    }
   ],
   "source": [
    "%%time\n",
    "\n",
    "wb_template = gstf.update_sheet_etat_stock(wb_template, df_etat_stock.loc[df_etat_stock.PROGRAMME==programme].copy())\n",
    "\n",
    "wb_template = gstf.update_sheet_stock_region(wb_template, wb_fbr, programme)"
   ]
  },
  {
   "cell_type": "markdown",
   "id": "aa2d9f5c-ff21-4dc3-8509-207e0f632a6e",
   "metadata": {
    "papermill": {
     "duration": 0.229393,
     "end_time": "2025-05-14T15:52:51.541234",
     "exception": false,
     "start_time": "2025-05-14T15:52:51.311841",
     "status": "completed"
    },
    "tags": []
   },
   "source": [
    "## 4. Mise à jour des informations feuille `Annexe 1 - Consolidation`"
   ]
  },
  {
   "cell_type": "code",
   "execution_count": 60,
   "id": "1448ebc3-75d4-4063-8d8d-daba9b9c2c65",
   "metadata": {
    "execution": {
     "iopub.execute_input": "2025-05-14T15:52:51.960736Z",
     "iopub.status.busy": "2025-05-14T15:52:51.959482Z",
     "iopub.status.idle": "2025-05-14T15:52:52.587200Z",
     "shell.execute_reply": "2025-05-14T15:52:52.586353Z"
    },
    "papermill": {
     "duration": 0.843956,
     "end_time": "2025-05-14T15:52:52.588879",
     "exception": false,
     "start_time": "2025-05-14T15:52:51.744923",
     "status": "completed"
    },
    "tags": []
   },
   "outputs": [],
   "source": [
    "wb_template = gstf.update_sheet_annexe_1(\n",
    "    wb_template, programme, schema_name, stock_sync_manager.civ_engine, date_report\n",
    ")"
   ]
  },
  {
   "cell_type": "markdown",
   "id": "17d87336-319e-4c52-bc10-ca92f55a36bd",
   "metadata": {
    "papermill": {
     "duration": 0.223083,
     "end_time": "2025-05-14T15:52:53.036265",
     "exception": false,
     "start_time": "2025-05-14T15:52:52.813182",
     "status": "completed"
    },
    "tags": []
   },
   "source": [
    "## 5. Mise à jour des données du `Plan d'approvisionnement`"
   ]
  },
  {
   "cell_type": "code",
   "execution_count": 61,
   "id": "896a4775-5a20-497e-9642-99b199e90a53",
   "metadata": {
    "execution": {
     "iopub.execute_input": "2025-05-14T15:52:55.986761Z",
     "iopub.status.busy": "2025-05-14T15:52:55.985526Z",
     "iopub.status.idle": "2025-05-14T15:52:55.996254Z",
     "shell.execute_reply": "2025-05-14T15:52:55.995106Z"
    },
    "papermill": {
     "duration": 2.488547,
     "end_time": "2025-05-14T15:52:55.998578",
     "exception": false,
     "start_time": "2025-05-14T15:52:53.510031",
     "status": "completed"
    },
    "scrolled": true,
    "tags": []
   },
   "outputs": [],
   "source": [
    "df_pa = df_plan_approv.rename(\n",
    "    columns={\n",
    "        \"Agent d`approvisionnement\": \"Centrale d'achat\",\n",
    "        \"Source de financement\": \"Source Financement\",\n",
    "        \"facteur_de_conversion_qat_sage\": \"Facteur de conversion de QAT vers SAGE\",\n",
    "        \"cout_unitaire_moyen_qat\": \"Coût unitaire moyen (en dollar)\",\n",
    "        \"acronym\": \"Acronym\",\n",
    "    }\n",
    ")\n",
    "\n",
    "df_pa[\"DATE\"] = pd.to_datetime(df_pa[\"DATE\"], format='%d-%b-%Y', errors='coerce')"
   ]
  },
  {
   "cell_type": "code",
   "execution_count": 62,
   "id": "7b64bf01-482b-473e-82df-9d96345e04cf",
   "metadata": {
    "execution": {
     "iopub.execute_input": "2025-05-14T15:52:56.409983Z",
     "iopub.status.busy": "2025-05-14T15:52:56.408890Z",
     "iopub.status.idle": "2025-05-14T15:52:56.600238Z",
     "shell.execute_reply": "2025-05-14T15:52:56.599007Z"
    },
    "papermill": {
     "duration": 0.40796,
     "end_time": "2025-05-14T15:52:56.602465",
     "exception": false,
     "start_time": "2025-05-14T15:52:56.194505",
     "status": "completed"
    },
    "tags": []
   },
   "outputs": [
    {
     "name": "stdout",
     "output_type": "stream",
     "text": [
      "CPU times: user 182 ms, sys: 2.97 ms, total: 185 ms\n",
      "Wall time: 184 ms\n"
     ]
    }
   ],
   "source": [
    "%%time\n",
    "wb_template = gstf.update_sheet_plan_approv(wb_template, df_pa)"
   ]
  },
  {
   "cell_type": "markdown",
   "id": "0e5eec95-ae01-435c-994f-597b583151ca",
   "metadata": {
    "papermill": {
     "duration": 0.454305,
     "end_time": "2025-05-14T15:52:57.396576",
     "exception": false,
     "start_time": "2025-05-14T15:52:56.942271",
     "status": "completed"
    },
    "tags": []
   },
   "source": [
    "## 5. Mise à jour des informations  en se basant sur la source `Annexe 2 - Suivi de Stock`"
   ]
  },
  {
   "cell_type": "code",
   "execution_count": 63,
   "id": "a8cbbd89-50c1-4467-b616-46071483927c",
   "metadata": {
    "execution": {
     "iopub.execute_input": "2025-05-14T15:53:08.871655Z",
     "iopub.status.busy": "2025-05-14T15:53:08.870511Z",
     "iopub.status.idle": "2025-05-14T15:53:08.995543Z",
     "shell.execute_reply": "2025-05-14T15:53:08.994313Z"
    },
    "papermill": {
     "duration": 11.384167,
     "end_time": "2025-05-14T15:53:08.997481",
     "exception": false,
     "start_time": "2025-05-14T15:52:57.613314",
     "status": "completed"
    },
    "tags": []
   },
   "outputs": [
    {
     "name": "stdout",
     "output_type": "stream",
     "text": [
      "CPU times: user 117 ms, sys: 1.01 ms, total: 118 ms\n",
      "Wall time: 118 ms\n"
     ]
    }
   ],
   "source": [
    "%%time\n",
    "wb_template = gstf.update_sheet_annexe_2(wb_template, df_pa, date_report)"
   ]
  },
  {
   "cell_type": "markdown",
   "id": "23e8d193-e8ee-4e13-96a4-dca4dcd5cae5",
   "metadata": {
    "papermill": {
     "duration": 0.21084,
     "end_time": "2025-05-14T15:53:09.466317",
     "exception": false,
     "start_time": "2025-05-14T15:53:09.255477",
     "status": "completed"
    },
    "tags": []
   },
   "source": [
    "## 6. Mise à jour des données en se basant sur la source `Prévision`"
   ]
  },
  {
   "cell_type": "code",
   "execution_count": 64,
   "id": "907dc386-5f20-42a9-8bc4-a6033963db23",
   "metadata": {
    "execution": {
     "iopub.execute_input": "2025-05-14T15:53:09.903297Z",
     "iopub.status.busy": "2025-05-14T15:53:09.902079Z",
     "iopub.status.idle": "2025-05-14T15:53:09.912416Z",
     "shell.execute_reply": "2025-05-14T15:53:09.911267Z"
    },
    "papermill": {
     "duration": 0.214246,
     "end_time": "2025-05-14T15:53:09.914391",
     "exception": false,
     "start_time": "2025-05-14T15:53:09.700145",
     "status": "completed"
    },
    "tags": []
   },
   "outputs": [],
   "source": [
    "df_prod = dim_produit[\n",
    "    [\"code_produit\", \"type_produit\", \"designation\", \"designation_acronym\"]\n",
    "]\n",
    "\n",
    "df_prod[\"designation\"] = df_prod.apply(\n",
    "    lambda row: row[\"designation_acronym\"]\n",
    "    if not pd.isna(row[\"designation_acronym\"])\n",
    "    else row[\"designation\"],\n",
    "    axis=1,\n",
    ")\n",
    "df_prod = df_prod.drop(columns=\"designation_acronym\")"
   ]
  },
  {
   "cell_type": "code",
   "execution_count": 65,
   "id": "5390c300-62ab-40f6-af69-aed9c15b385c",
   "metadata": {
    "execution": {
     "iopub.execute_input": "2025-05-14T15:53:10.871457Z",
     "iopub.status.busy": "2025-05-14T15:53:10.870515Z",
     "iopub.status.idle": "2025-05-14T15:53:11.005022Z",
     "shell.execute_reply": "2025-05-14T15:53:11.003986Z"
    },
    "papermill": {
     "duration": 0.36047,
     "end_time": "2025-05-14T15:53:11.007266",
     "exception": false,
     "start_time": "2025-05-14T15:53:10.646796",
     "status": "completed"
    },
    "tags": []
   },
   "outputs": [],
   "source": [
    "wb_template = gstf.update_sheet_prevision(wb_template, date_report, df_prod)"
   ]
  },
  {
   "cell_type": "markdown",
   "id": "1630b9b1-f136-4538-84c8-bb3b1c40e1c4",
   "metadata": {
    "papermill": {
     "duration": 3.640456,
     "end_time": "2025-05-14T15:53:15.426760",
     "exception": false,
     "start_time": "2025-05-14T15:53:11.786304",
     "status": "completed"
    },
    "tags": []
   },
   "source": [
    "## 7. Mise à jour de certains éléments de la feuille `Rapport`"
   ]
  },
  {
   "cell_type": "code",
   "execution_count": 66,
   "id": "cbd158de-45e8-4f68-825e-825ac2154834",
   "metadata": {
    "execution": {
     "iopub.execute_input": "2025-05-14T15:53:15.867558Z",
     "iopub.status.busy": "2025-05-14T15:53:15.867069Z",
     "iopub.status.idle": "2025-05-14T15:53:15.873798Z",
     "shell.execute_reply": "2025-05-14T15:53:15.872608Z"
    },
    "papermill": {
     "duration": 0.240646,
     "end_time": "2025-05-14T15:53:15.875647",
     "exception": false,
     "start_time": "2025-05-14T15:53:15.635001",
     "status": "completed"
    },
    "tags": []
   },
   "outputs": [],
   "source": [
    "ws_rapport = wb_template['Rapport']\n",
    "ws_rapport['D4'].value = programme\n",
    "ws_rapport['D6'].value = f_month.split('-')[0].capitalize()\n",
    "ws_rapport['E6'].value = date_report_format[:4]"
   ]
  },
  {
   "cell_type": "markdown",
   "id": "d054f9c2-8975-4b31-baac-fc9b3629773d",
   "metadata": {
    "papermill": {
     "duration": 1.067796,
     "end_time": "2025-05-14T15:53:17.144943",
     "exception": false,
     "start_time": "2025-05-14T15:53:16.077147",
     "status": "completed"
    },
    "tags": []
   },
   "source": [
    "# VII. Exportation du Fichier Suivi de Stock vers le `drive` et la `BD`"
   ]
  },
  {
   "cell_type": "code",
   "execution_count": 67,
   "id": "f44d8752-d621-4c44-801e-c364c59ea156",
   "metadata": {
    "execution": {
     "iopub.execute_input": "2025-05-14T15:53:17.593493Z",
     "iopub.status.busy": "2025-05-14T15:53:17.593144Z",
     "iopub.status.idle": "2025-05-14T15:53:21.016978Z",
     "shell.execute_reply": "2025-05-14T15:53:21.015745Z"
    },
    "papermill": {
     "duration": 3.653381,
     "end_time": "2025-05-14T15:53:21.018688",
     "exception": false,
     "start_time": "2025-05-14T15:53:17.365307",
     "status": "completed"
    },
    "tags": []
   },
   "outputs": [
    {
     "name": "stdout",
     "output_type": "stream",
     "text": [
      "CPU times: user 2.95 s, sys: 71 ms, total: 3.02 s\n",
      "Wall time: 3.42 s\n"
     ]
    }
   ],
   "source": [
    "%%time\n",
    "# Sauvegarde du fichier dans un repertoire courant\n",
    "dest_file = (\n",
    "    Path(workspace.files_path)\n",
    "    / f\"Fichier Suivi de Stock/code/pipelines/fichier suivi de stock genere/{programme}/{date_report_format[:4]}\"\n",
    ")\n",
    "\n",
    "dest_file.mkdir(exist_ok=True, parents=True)\n",
    "\n",
    "dest_file = dest_file / f\"Fichier Suivi de Stock {programme}-{f_month}.xlsx\"\n",
    "\n",
    "wb_template.save(dest_file)"
   ]
  },
  {
   "cell_type": "code",
   "execution_count": 68,
   "id": "2e46bee1-54f4-48c9-986d-71ea1697f1dd",
   "metadata": {
    "execution": {
     "iopub.execute_input": "2025-05-14T15:53:22.645336Z",
     "iopub.status.busy": "2025-05-14T15:53:22.644369Z",
     "iopub.status.idle": "2025-05-14T15:53:27.855451Z",
     "shell.execute_reply": "2025-05-14T15:53:27.854617Z"
    },
    "papermill": {
     "duration": 5.943514,
     "end_time": "2025-05-14T15:53:27.857515",
     "exception": false,
     "start_time": "2025-05-14T15:53:21.914001",
     "status": "completed"
    },
    "tags": []
   },
   "outputs": [
    {
     "name": "stdout",
     "output_type": "stream",
     "text": [
      "Fichier trouvé : FICHIER SUIVI DE STOCK PNSME-MARS-2025.XLSX (ID: 1u3-_EYCXTTjZ8RABXN3m_YmtyqA7Sv8z)\n"
     ]
    },
    {
     "name": "stdout",
     "output_type": "stream",
     "text": [
      "Fichier supprimé : FICHIER SUIVI DE STOCK PNSME-MARS-2025.XLSX\n"
     ]
    }
   ],
   "source": [
    "download_url = ggdrive.upload_and_return_link(\n",
    "    dest_file.as_posix(),\n",
    "    date_report_format,\n",
    ")"
   ]
  },
  {
   "cell_type": "code",
   "execution_count": 69,
   "id": "f1c90fd1-74f7-4b1f-b906-093975ea323e",
   "metadata": {
    "execution": {
     "iopub.execute_input": "2025-05-14T15:53:28.266739Z",
     "iopub.status.busy": "2025-05-14T15:53:28.266283Z",
     "iopub.status.idle": "2025-05-14T15:53:28.273282Z",
     "shell.execute_reply": "2025-05-14T15:53:28.272202Z"
    },
    "papermill": {
     "duration": 0.216365,
     "end_time": "2025-05-14T15:53:28.274671",
     "exception": false,
     "start_time": "2025-05-14T15:53:28.058306",
     "status": "completed"
    },
    "tags": []
   },
   "outputs": [],
   "source": [
    "df_download_url = pd.DataFrame(\n",
    "    data=[\n",
    "        {\n",
    "            \"programme\": programme,\n",
    "            \"download_url\": download_url,\n",
    "            \"date_report\": date_report_format,\n",
    "        }\n",
    "    ]\n",
    ")\n",
    "\n",
    "df_download_url.date_report = df_download_url.date_report.apply(\n",
    "    lambda x: pd.to_datetime(str(x)[:10], format=\"%Y-%m-%d\")\n",
    ")"
   ]
  },
  {
   "cell_type": "code",
   "execution_count": 70,
   "id": "01de3ddf-fc73-43bc-871f-c78aa90f5d37",
   "metadata": {
    "execution": {
     "iopub.execute_input": "2025-05-14T15:53:28.686410Z",
     "iopub.status.busy": "2025-05-14T15:53:28.685399Z",
     "iopub.status.idle": "2025-05-14T15:53:28.771451Z",
     "shell.execute_reply": "2025-05-14T15:53:28.770360Z"
    },
    "papermill": {
     "duration": 0.281128,
     "end_time": "2025-05-14T15:53:28.773190",
     "exception": false,
     "start_time": "2025-05-14T15:53:28.492062",
     "status": "completed"
    },
    "scrolled": true,
    "tags": []
   },
   "outputs": [
    {
     "data": {
      "text/html": [
       "<div>\n",
       "<style scoped>\n",
       "    .dataframe tbody tr th:only-of-type {\n",
       "        vertical-align: middle;\n",
       "    }\n",
       "\n",
       "    .dataframe tbody tr th {\n",
       "        vertical-align: top;\n",
       "    }\n",
       "\n",
       "    .dataframe thead th {\n",
       "        text-align: right;\n",
       "    }\n",
       "</style>\n",
       "<table border=\"1\" class=\"dataframe\">\n",
       "  <thead>\n",
       "    <tr style=\"text-align: right;\">\n",
       "      <th></th>\n",
       "      <th>id_share_link_pk</th>\n",
       "      <th>programme</th>\n",
       "      <th>download_url</th>\n",
       "      <th>date_report</th>\n",
       "    </tr>\n",
       "  </thead>\n",
       "  <tbody>\n",
       "    <tr>\n",
       "      <th>0</th>\n",
       "      <td>1</td>\n",
       "      <td>PNLP</td>\n",
       "      <td>https://drive.google.com/uc?id=1ECWpifZRPsj_xk...</td>\n",
       "      <td>2025-01-01</td>\n",
       "    </tr>\n",
       "    <tr>\n",
       "      <th>1</th>\n",
       "      <td>2</td>\n",
       "      <td>PNLP</td>\n",
       "      <td>https://drive.google.com/uc?id=1Kt1b5WtvRTGZcf...</td>\n",
       "      <td>2024-12-01</td>\n",
       "    </tr>\n",
       "    <tr>\n",
       "      <th>2</th>\n",
       "      <td>3</td>\n",
       "      <td>PNLS</td>\n",
       "      <td>https://drive.google.com/uc?id=1nwJdjZJue10fVA...</td>\n",
       "      <td>2024-12-01</td>\n",
       "    </tr>\n",
       "    <tr>\n",
       "      <th>3</th>\n",
       "      <td>5</td>\n",
       "      <td>PNLT</td>\n",
       "      <td>https://drive.google.com/uc?id=1ZbYwcqo4yunODi...</td>\n",
       "      <td>2024-12-01</td>\n",
       "    </tr>\n",
       "    <tr>\n",
       "      <th>4</th>\n",
       "      <td>6</td>\n",
       "      <td>PNLT</td>\n",
       "      <td>https://drive.google.com/uc?id=1RGmdhrn3-WdP0c...</td>\n",
       "      <td>2025-01-01</td>\n",
       "    </tr>\n",
       "    <tr>\n",
       "      <th>5</th>\n",
       "      <td>7</td>\n",
       "      <td>PNSME</td>\n",
       "      <td>https://drive.google.com/uc?id=1q5bqUgozycpGxK...</td>\n",
       "      <td>2024-12-01</td>\n",
       "    </tr>\n",
       "    <tr>\n",
       "      <th>6</th>\n",
       "      <td>8</td>\n",
       "      <td>PNSME</td>\n",
       "      <td>https://drive.google.com/uc?id=1BC_kZufkLXK5Ra...</td>\n",
       "      <td>2025-01-01</td>\n",
       "    </tr>\n",
       "    <tr>\n",
       "      <th>7</th>\n",
       "      <td>9</td>\n",
       "      <td>PNN</td>\n",
       "      <td>https://drive.google.com/uc?id=10z80VdlDTc6jnK...</td>\n",
       "      <td>2024-12-01</td>\n",
       "    </tr>\n",
       "    <tr>\n",
       "      <th>8</th>\n",
       "      <td>10</td>\n",
       "      <td>PNN</td>\n",
       "      <td>https://drive.google.com/uc?id=1OCNoFbRgSbf7lf...</td>\n",
       "      <td>2025-01-01</td>\n",
       "    </tr>\n",
       "    <tr>\n",
       "      <th>9</th>\n",
       "      <td>4</td>\n",
       "      <td>PNLS</td>\n",
       "      <td>https://drive.google.com/uc?id=18bC9vRuBW9nqbg...</td>\n",
       "      <td>2025-01-01</td>\n",
       "    </tr>\n",
       "    <tr>\n",
       "      <th>10</th>\n",
       "      <td>11</td>\n",
       "      <td>PNLS</td>\n",
       "      <td>https://drive.google.com/uc?id=18bC9vRuBW9nqbg...</td>\n",
       "      <td>2025-01-01</td>\n",
       "    </tr>\n",
       "    <tr>\n",
       "      <th>11</th>\n",
       "      <td>12</td>\n",
       "      <td>PNLP</td>\n",
       "      <td>https://drive.google.com/uc?id=1C-fpEVVzTAJ2V1...</td>\n",
       "      <td>2025-02-01</td>\n",
       "    </tr>\n",
       "    <tr>\n",
       "      <th>12</th>\n",
       "      <td>13</td>\n",
       "      <td>PNLS</td>\n",
       "      <td>https://drive.google.com/uc?id=1fvFlxbu9L6G9Od...</td>\n",
       "      <td>2025-02-01</td>\n",
       "    </tr>\n",
       "    <tr>\n",
       "      <th>13</th>\n",
       "      <td>14</td>\n",
       "      <td>PNLT</td>\n",
       "      <td>https://drive.google.com/uc?id=1ya9W7EZ7u671r7...</td>\n",
       "      <td>2025-02-01</td>\n",
       "    </tr>\n",
       "    <tr>\n",
       "      <th>14</th>\n",
       "      <td>15</td>\n",
       "      <td>PNN</td>\n",
       "      <td>https://drive.google.com/uc?id=1gVRSEe8xHpVE-S...</td>\n",
       "      <td>2025-02-01</td>\n",
       "    </tr>\n",
       "    <tr>\n",
       "      <th>15</th>\n",
       "      <td>16</td>\n",
       "      <td>PNSME</td>\n",
       "      <td>https://drive.google.com/uc?id=1XYYA8UI-Qzdxs4...</td>\n",
       "      <td>2025-02-01</td>\n",
       "    </tr>\n",
       "    <tr>\n",
       "      <th>16</th>\n",
       "      <td>17</td>\n",
       "      <td>PNLP</td>\n",
       "      <td>https://drive.google.com/uc?id=1Mv9LRDISiBMj7G...</td>\n",
       "      <td>2025-03-01</td>\n",
       "    </tr>\n",
       "    <tr>\n",
       "      <th>17</th>\n",
       "      <td>18</td>\n",
       "      <td>PNLS</td>\n",
       "      <td>https://drive.google.com/uc?id=1z1fLLjvySZZAMO...</td>\n",
       "      <td>2025-03-01</td>\n",
       "    </tr>\n",
       "    <tr>\n",
       "      <th>18</th>\n",
       "      <td>19</td>\n",
       "      <td>PNLT</td>\n",
       "      <td>https://drive.google.com/uc?id=1sof0Bfa44s16Gm...</td>\n",
       "      <td>2025-03-01</td>\n",
       "    </tr>\n",
       "    <tr>\n",
       "      <th>19</th>\n",
       "      <td>20</td>\n",
       "      <td>PNN</td>\n",
       "      <td>https://drive.google.com/uc?id=1eXHOXps6ytx7OP...</td>\n",
       "      <td>2025-03-01</td>\n",
       "    </tr>\n",
       "    <tr>\n",
       "      <th>20</th>\n",
       "      <td>21</td>\n",
       "      <td>PNSME</td>\n",
       "      <td>https://drive.google.com/uc?id=1XQUP6MxxjcsSgL...</td>\n",
       "      <td>2025-03-01</td>\n",
       "    </tr>\n",
       "  </tbody>\n",
       "</table>\n",
       "</div>"
      ],
      "text/plain": [
       "    id_share_link_pk programme  \\\n",
       "0                  1      PNLP   \n",
       "1                  2      PNLP   \n",
       "2                  3      PNLS   \n",
       "3                  5      PNLT   \n",
       "4                  6      PNLT   \n",
       "5                  7     PNSME   \n",
       "6                  8     PNSME   \n",
       "7                  9       PNN   \n",
       "8                 10       PNN   \n",
       "9                  4      PNLS   \n",
       "10                11      PNLS   \n",
       "11                12      PNLP   \n",
       "12                13      PNLS   \n",
       "13                14      PNLT   \n",
       "14                15       PNN   \n",
       "15                16     PNSME   \n",
       "16                17      PNLP   \n",
       "17                18      PNLS   \n",
       "18                19      PNLT   \n",
       "19                20       PNN   \n",
       "20                21     PNSME   \n",
       "\n",
       "                                         download_url date_report  \n",
       "0   https://drive.google.com/uc?id=1ECWpifZRPsj_xk...  2025-01-01  \n",
       "1   https://drive.google.com/uc?id=1Kt1b5WtvRTGZcf...  2024-12-01  \n",
       "2   https://drive.google.com/uc?id=1nwJdjZJue10fVA...  2024-12-01  \n",
       "3   https://drive.google.com/uc?id=1ZbYwcqo4yunODi...  2024-12-01  \n",
       "4   https://drive.google.com/uc?id=1RGmdhrn3-WdP0c...  2025-01-01  \n",
       "5   https://drive.google.com/uc?id=1q5bqUgozycpGxK...  2024-12-01  \n",
       "6   https://drive.google.com/uc?id=1BC_kZufkLXK5Ra...  2025-01-01  \n",
       "7   https://drive.google.com/uc?id=10z80VdlDTc6jnK...  2024-12-01  \n",
       "8   https://drive.google.com/uc?id=1OCNoFbRgSbf7lf...  2025-01-01  \n",
       "9   https://drive.google.com/uc?id=18bC9vRuBW9nqbg...  2025-01-01  \n",
       "10  https://drive.google.com/uc?id=18bC9vRuBW9nqbg...  2025-01-01  \n",
       "11  https://drive.google.com/uc?id=1C-fpEVVzTAJ2V1...  2025-02-01  \n",
       "12  https://drive.google.com/uc?id=1fvFlxbu9L6G9Od...  2025-02-01  \n",
       "13  https://drive.google.com/uc?id=1ya9W7EZ7u671r7...  2025-02-01  \n",
       "14  https://drive.google.com/uc?id=1gVRSEe8xHpVE-S...  2025-02-01  \n",
       "15  https://drive.google.com/uc?id=1XYYA8UI-Qzdxs4...  2025-02-01  \n",
       "16  https://drive.google.com/uc?id=1Mv9LRDISiBMj7G...  2025-03-01  \n",
       "17  https://drive.google.com/uc?id=1z1fLLjvySZZAMO...  2025-03-01  \n",
       "18  https://drive.google.com/uc?id=1sof0Bfa44s16Gm...  2025-03-01  \n",
       "19  https://drive.google.com/uc?id=1eXHOXps6ytx7OP...  2025-03-01  \n",
       "20  https://drive.google.com/uc?id=1XQUP6MxxjcsSgL...  2025-03-01  "
      ]
     },
     "execution_count": 70,
     "metadata": {},
     "output_type": "execute_result"
    }
   ],
   "source": [
    "stock_sync_manager.synchronize_table_data(\n",
    "    df_download_url,\n",
    "    table_name=\"share_link\",\n",
    "    merge_keys=[\"programme\", \"date_report\"],\n",
    "    programme=programme,\n",
    ")"
   ]
  }
 ],
 "metadata": {
  "kernelspec": {
   "display_name": "Python 3 (ipykernel)",
   "language": "python",
   "name": "python3"
  },
  "language_info": {
   "codemirror_mode": {
    "name": "ipython",
    "version": 3
   },
   "file_extension": ".py",
   "mimetype": "text/x-python",
   "name": "python",
   "nbconvert_exporter": "python",
   "pygments_lexer": "ipython3",
   "version": "3.12.8"
  },
  "papermill": {
   "default_parameters": {},
   "duration": 746.170035,
   "end_time": "2025-05-14T15:53:31.838290",
   "environment_variables": {},
   "exception": null,
   "input_path": "/home/hexa/workspace/Fichier Suivi de Stock/code/pipelines/mise a jour fichier suivi stock.ipynb",
   "output_path": "/home/hexa/workspace/Fichier Suivi de Stock/code/pipelines/output_notebook_execution/maj fichier suivi stock/PNSME/output_2025-05-14.ipynb",
   "parameters": {
    "fp_etat_mensuel": "Etat du stock et de distribution PNSME fin Mars 2025.xlsx",
    "fp_map_prod": "Mapping QAT_SAGEX3.xlsx",
    "fp_plan_approv": "Détails de l`envoiMar. 2025 ~ Mar. 2026.csv",
    "month_report": "Mars",
    "programme": "PNSME",
    "year_report": 2025
   },
   "start_time": "2025-05-14T15:41:05.668255",
   "version": "2.6.0"
  }
 },
 "nbformat": 4,
 "nbformat_minor": 5
}