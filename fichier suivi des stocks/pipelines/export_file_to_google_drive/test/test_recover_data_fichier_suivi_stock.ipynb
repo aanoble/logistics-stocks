{
 "cells": [
  {
   "cell_type": "code",
   "execution_count": 1,
   "id": "46a44101-96aa-45e2-9c85-d839918ef47e",
   "metadata": {},
   "outputs": [
    {
     "name": "stdout",
     "output_type": "stream",
     "text": [
      "\u001b[33mWARNING: Skipping /opt/conda/lib/python3.11/site-packages/nlopt-2.7.1.dist-info due to invalid metadata entry 'name'\u001b[0m\u001b[33m\n",
      "\u001b[0m\u001b[33mWARNING: Skipping /opt/conda/lib/python3.11/site-packages/nlopt-2.7.1.dist-info due to invalid metadata entry 'name'\u001b[0m\u001b[33m\n",
      "\u001b[0m"
     ]
    }
   ],
   "source": [
    "!pip install --quiet --upgrade google-api-python-client google-auth-httplib2 google-auth-oauthlib"
   ]
  },
  {
   "cell_type": "code",
   "execution_count": 2,
   "id": "493badf8-40d0-4956-9ba6-a1cf56e970c0",
   "metadata": {},
   "outputs": [],
   "source": [
    "import os\n",
    "import io\n",
    "from openhexa.sdk import workspace\n",
    "# import os.path\n",
    "\n",
    "from google.auth.transport.requests import Request\n",
    "from google.oauth2.service_account import Credentials\n",
    "from google_auth_oauthlib.flow import InstalledAppFlow\n",
    "from googleapiclient.discovery import build\n",
    "from googleapiclient.errors import HttpError\n",
    "from googleapiclient.http import MediaFileUpload, MediaIoBaseDownload"
   ]
  },
  {
   "cell_type": "code",
   "execution_count": 3,
   "id": "9aa1e831-7f06-4e91-8018-b1ae56432eaa",
   "metadata": {},
   "outputs": [],
   "source": [
    "conn = workspace.custom_connection('credentials-api-google-drive')"
   ]
  },
  {
   "cell_type": "code",
   "execution_count": 4,
   "id": "1df2f59e-74de-49fb-abc2-7ff4cbea8742",
   "metadata": {},
   "outputs": [],
   "source": [
    "scopes = [\"https://www.googleapis.com/auth/drive\"]\n",
    "\n",
    "creds = Credentials.from_service_account_info(eval(conn.credentials), scopes=scopes)\n",
    "\n",
    "service = build('drive', 'v3', credentials=creds)"
   ]
  },
  {
   "cell_type": "code",
   "execution_count": 5,
   "id": "ef287e5b-67f8-4283-8297-6c176b6a9fb5",
   "metadata": {},
   "outputs": [],
   "source": [
    "def upload_file(file_path, parent_id):\n",
    "    \"\"\"\n",
    "    Ce programme sera principalement utilisé pour exporter le fichier généré dans un repertoire drive partagé.\n",
    "    \"\"\"\n",
    "    mimetype ='application/vnd.openxmlformats-officedocument.spreadsheetml.sheet'\n",
    "\n",
    "    file_name = os.path.basename(file_path)\n",
    "    \n",
    "    file_metadata = {\n",
    "        'name': file_name.upper(),\n",
    "        'parents': [parent_id]\n",
    "    }\n",
    "    try:\n",
    "        media = MediaFileUpload(file_path, mimetype=mimetype)\n",
    "        file = service.files().create(body=file_metadata, media_body=media, fields='id').execute()\n",
    "    \n",
    "    except HttpError as error:\n",
    "        print(f\"An error occurred: {error}\")\n",
    "        file = None\n",
    "\n",
    "    return file.get(\"id\")"
   ]
  },
  {
   "cell_type": "code",
   "execution_count": 6,
   "id": "a93d52ae-aff0-465e-90cc-86b6d489f816",
   "metadata": {},
   "outputs": [],
   "source": [
    "def get_share_link(file_id):\n",
    "    \"Permet d'obtenir le lien partagé du fichier\"\n",
    "    request_body={\n",
    "        'role': 'reader',\n",
    "        'type': 'anyone'\n",
    "        }\n",
    "    try:\n",
    "        response_permission = service.permissions().create(fileId=file_id, body=request_body).execute()\n",
    "        response_share_link = service.files().get(fileId=file_id, fields='webViewLink').execute()\n",
    "    except HttpError as error:\n",
    "        print(f\"An error occurred: {error}\")\n",
    "        response_share_link = None\n",
    "    \n",
    "    return response_share_link.get('webViewLink')"
   ]
  },
  {
   "cell_type": "code",
   "execution_count": 8,
   "id": "8a633d07-a6ca-4cfd-8920-58d1b9dfe78d",
   "metadata": {},
   "outputs": [],
   "source": [
    "def upload_file_and_get_share_link(file_path, date_report, parent_id='1LHsczOhs4f5Z4DZkuMiiYGiwj_ppKb_Z'):\n",
    "    \n",
    "    sub_folder_id = check_if_folder_exist(date_report, parent_id)\n",
    "    # S'assurer que le fichier n'existe pas déjà dans le drive si tel est le cas alors il le supprime\n",
    "    delete_file_if_exist(service, file_path)\n",
    "    file_id = upload_file(file_path, sub_folder_id)\n",
    "    \n",
    "    return get_share_link(file_id)"
   ]
  },
  {
   "cell_type": "code",
   "execution_count": 9,
   "id": "10170352-7cd2-4b5e-88d0-a74f7c06f418",
   "metadata": {},
   "outputs": [],
   "source": [
    "def check_if_folder_exist(date_report, parent_id):\n",
    "    import pandas as pd\n",
    "    try:\n",
    "        # Check if directory exist\n",
    "        year = str(pd.to_datetime(date_report).year)\n",
    "        query = f\"name='{year}' and parents='{parent_id}' and mimeType='application/vnd.google-apps.folder'\"\n",
    "        response = service.files().list(q=query, fields=\"files(id)\").execute()\n",
    "        files = response.get('files', [])\n",
    "\n",
    "        # If folder does not exist, create it\n",
    "        if not files:\n",
    "            file_metadata = {\n",
    "                \"name\": year,\n",
    "                \"mimeType\": \"application/vnd.google-apps.folder\",\n",
    "                \"parents\": [parent_id]\n",
    "            }\n",
    "            file = service.files().create(body=file_metadata, fields=\"id\").execute()\n",
    "            return file.get('id')\n",
    "        \n",
    "        # Return the ID of the existing folder\n",
    "        return files[0]['id']\n",
    "\n",
    "    except HttpError as error:\n",
    "        print(f\"An error occurred: {error}\")"
   ]
  },
  {
   "cell_type": "code",
   "execution_count": 15,
   "id": "29ebcc65-d48f-489d-a7a9-68ba8fa7eddc",
   "metadata": {},
   "outputs": [],
   "source": [
    "def delete_file_if_exist(service, file_path):\n",
    "    try:\n",
    "        file_name = os.path.basename(file_path)\n",
    "        query = f\"name='{file_name}'\"\n",
    "        results = service.files().list(q=query, spaces='drive', fields='files(id, name)').execute()\n",
    "        files = results.get('files', [])\n",
    "\n",
    "        if files:\n",
    "            for file in files:\n",
    "                print(f\"Fichier trouvé : {file['name']} (ID: {file['id']})\")\n",
    "                # Supprimer le file\n",
    "                service.files().delete(fileId=file['id']).execute()\n",
    "                print(f\"Fichier supprimé : {file['name']}\")\n",
    "        \n",
    "        else:\n",
    "            print(\"Aucun file trouvé avec ce nom.\")\n",
    "    except HttpError as error:\n",
    "        print(f\"Une erreur s'est produite : {error}\")"
   ]
  },
  {
   "cell_type": "code",
   "execution_count": 11,
   "id": "ae577576-547d-4202-9aa5-582a6e456de3",
   "metadata": {},
   "outputs": [
    {
     "data": {
      "text/plain": [
       "'17iOJ6laHxq69OpezqhRMHj6MFoX3JFcz'"
      ]
     },
     "execution_count": 11,
     "metadata": {},
     "output_type": "execute_result"
    }
   ],
   "source": [
    "upload_file(os.getcwd()+'/new_rapportage_feedback.xlsx', '1LHsczOhs4f5Z4DZkuMiiYGiwj_ppKb_Z')"
   ]
  },
  {
   "cell_type": "code",
   "execution_count": 16,
   "id": "0c225cb1-6516-43cf-b136-e7522fa2650d",
   "metadata": {},
   "outputs": [
    {
     "name": "stdout",
     "output_type": "stream",
     "text": [
      "new_rapportage_feedback.xlsx\n",
      "Aucun file trouvé avec ce nom.\n"
     ]
    }
   ],
   "source": [
    "delete_file_if_exist(service, os.getcwd()+'/new_rapportage_feedback.xlsx')"
   ]
  },
  {
   "cell_type": "code",
   "execution_count": null,
   "id": "25b35558-e89f-4898-93f7-15bdbf85539b",
   "metadata": {},
   "outputs": [],
   "source": []
  },
  {
   "cell_type": "code",
   "execution_count": null,
   "id": "79455a07-896c-4ccd-8c5b-24db325bc78b",
   "metadata": {},
   "outputs": [],
   "source": []
  },
  {
   "cell_type": "code",
   "execution_count": null,
   "id": "447e1ea5-86c2-41a4-a344-89c33cd8660a",
   "metadata": {},
   "outputs": [],
   "source": []
  },
  {
   "cell_type": "code",
   "execution_count": 14,
   "id": "e1af2f37-f027-49f5-903f-9e88b1d09c9f",
   "metadata": {},
   "outputs": [],
   "source": [
    "scopes = [\"https://www.googleapis.com/auth/drive\"]\n",
    "\n",
    "creds = Credentials.from_service_account_info(eval(conn.credentials), scopes=scopes)\n",
    "\n",
    "service = build('drive', 'v3', credentials=creds)\n",
    "\n",
    "def upload_file(file_path, mime_type):\n",
    "    file_metadata = {'name': os.path.basename(file_path)}\n",
    "    media = MediaFileUpload(file_path, mimetype=mime_type)\n",
    "    file = service.files().create(body=file_metadata, media_body=media, fields='id').execute()\n",
    "    print(f'File ID: {file.get(\"id\")}')\n",
    "\n",
    "\n",
    "def download_file(file_id, file_path):\n",
    "    request = service.files().get_media(fileId=file_id)\n",
    "    fh = io.FileIO(file_path, 'wb')\n",
    "    downloader = MediaIoBaseDownload(fh, request)\n",
    "    done = False\n",
    "    while done is False:\n",
    "        status, done = downloader.next_chunk()\n",
    "        print(f'Download {int(status.progress() * 100)}%.')"
   ]
  },
  {
   "cell_type": "code",
   "execution_count": 15,
   "id": "6fc12fad-6861-4a93-8ecf-9dfaa15f7bc8",
   "metadata": {},
   "outputs": [
    {
     "name": "stdout",
     "output_type": "stream",
     "text": [
      "File ID: 1F11vAINDgfwbDdOrn6YeetPPzSDM0pXI\n"
     ]
    }
   ],
   "source": [
    "upload_file(os.getcwd()+'/new_rapportage_feedback.xlsx', mime_type='application/vnd.openxmlformats-officedocument.spreadsheetml.sheet')"
   ]
  },
  {
   "cell_type": "code",
   "execution_count": 16,
   "id": "0eced31c-bfe4-4204-9cf8-e0b6e287b2d6",
   "metadata": {},
   "outputs": [
    {
     "name": "stdout",
     "output_type": "stream",
     "text": [
      "Download 100%.\n"
     ]
    }
   ],
   "source": [
    "download_file('1F11vAINDgfwbDdOrn6YeetPPzSDM0pXI', os.getcwd()+'/new_rapportage_feedback_test.xlsx')"
   ]
  },
  {
   "cell_type": "code",
   "execution_count": 17,
   "id": "b3c94f32-b374-4bc7-9d17-2771a5a40938",
   "metadata": {},
   "outputs": [
    {
     "name": "stdout",
     "output_type": "stream",
     "text": [
      "Folder ID: \"16EXAit-rbsOUH7crbHaULMlbafU4z1Lw\"\n"
     ]
    }
   ],
   "source": [
    "file_metadata = {\n",
    "    \"name\": \"Rapport Feedback Creation\",\n",
    "    \"mimeType\": \"application/vnd.google-apps.folder\",\n",
    "    \"parents\": ['1ZmViUd0IFSQzQ6Hiv_iGFLuQ2lPtdImi']\n",
    "}\n",
    "\n",
    "file = service.files().create(body=file_metadata, fields=\"*\").execute()\n",
    "\n",
    "print(f'Folder ID: \"{file.get(\"id\")}\"')"
   ]
  },
  {
   "cell_type": "code",
   "execution_count": 18,
   "id": "76c77131-034b-49a7-a4a7-708ab3f727ef",
   "metadata": {
    "collapsed": true,
    "jupyter": {
     "outputs_hidden": true
    }
   },
   "outputs": [
    {
     "data": {
      "text/plain": [
       "{'kind': 'drive#file',\n",
       " 'id': '16EXAit-rbsOUH7crbHaULMlbafU4z1Lw',\n",
       " 'name': 'Rapport Feedback Creation',\n",
       " 'mimeType': 'application/vnd.google-apps.folder',\n",
       " 'starred': False,\n",
       " 'trashed': False,\n",
       " 'explicitlyTrashed': False,\n",
       " 'parents': ['1ZmViUd0IFSQzQ6Hiv_iGFLuQ2lPtdImi'],\n",
       " 'spaces': ['drive'],\n",
       " 'version': '1',\n",
       " 'webViewLink': 'https://drive.google.com/drive/folders/16EXAit-rbsOUH7crbHaULMlbafU4z1Lw',\n",
       " 'iconLink': 'https://drive-thirdparty.googleusercontent.com/16/type/application/vnd.google-apps.folder+48+shared',\n",
       " 'hasThumbnail': False,\n",
       " 'thumbnailVersion': '0',\n",
       " 'viewedByMe': False,\n",
       " 'createdTime': '2024-10-16T09:17:31.016Z',\n",
       " 'modifiedTime': '2024-10-16T09:17:31.016Z',\n",
       " 'modifiedByMeTime': '2024-10-16T09:17:31.016Z',\n",
       " 'modifiedByMe': True,\n",
       " 'owners': [{'kind': 'drive#user',\n",
       "   'displayName': 'automatingdaptools@electric-facet-438520-h7.iam.gserviceaccount.com',\n",
       "   'photoLink': 'https://lh3.googleusercontent.com/a/ACg8ocLpcq5tEr1kdzuR9IC-17bk3HQ-bPmociNjvHfEkp_5d3ghLU4=s64',\n",
       "   'me': True,\n",
       "   'permissionId': '17166304162888991487',\n",
       "   'emailAddress': 'automatingdaptools@electric-facet-438520-h7.iam.gserviceaccount.com'}],\n",
       " 'lastModifyingUser': {'kind': 'drive#user',\n",
       "  'displayName': 'automatingdaptools@electric-facet-438520-h7.iam.gserviceaccount.com',\n",
       "  'photoLink': 'https://lh3.googleusercontent.com/a/ACg8ocLpcq5tEr1kdzuR9IC-17bk3HQ-bPmociNjvHfEkp_5d3ghLU4=s64',\n",
       "  'me': True,\n",
       "  'permissionId': '17166304162888991487',\n",
       "  'emailAddress': 'automatingdaptools@electric-facet-438520-h7.iam.gserviceaccount.com'},\n",
       " 'shared': True,\n",
       " 'ownedByMe': True,\n",
       " 'capabilities': {'canAcceptOwnership': False,\n",
       "  'canAddChildren': True,\n",
       "  'canAddMyDriveParent': False,\n",
       "  'canChangeCopyRequiresWriterPermission': False,\n",
       "  'canChangeSecurityUpdateEnabled': False,\n",
       "  'canChangeViewersCanCopyContent': False,\n",
       "  'canComment': True,\n",
       "  'canCopy': False,\n",
       "  'canDelete': True,\n",
       "  'canDownload': True,\n",
       "  'canEdit': True,\n",
       "  'canListChildren': True,\n",
       "  'canModifyContent': True,\n",
       "  'canModifyContentRestriction': False,\n",
       "  'canModifyEditorContentRestriction': False,\n",
       "  'canModifyOwnerContentRestriction': False,\n",
       "  'canModifyLabels': False,\n",
       "  'canMoveChildrenWithinDrive': True,\n",
       "  'canMoveItemIntoTeamDrive': True,\n",
       "  'canMoveItemOutOfDrive': True,\n",
       "  'canMoveItemWithinDrive': True,\n",
       "  'canReadLabels': False,\n",
       "  'canReadRevisions': False,\n",
       "  'canRemoveChildren': True,\n",
       "  'canRemoveContentRestriction': False,\n",
       "  'canRemoveMyDriveParent': True,\n",
       "  'canRename': True,\n",
       "  'canShare': True,\n",
       "  'canTrash': True,\n",
       "  'canUntrash': True},\n",
       " 'viewersCanCopyContent': True,\n",
       " 'copyRequiresWriterPermission': False,\n",
       " 'writersCanShare': True,\n",
       " 'permissions': [{'kind': 'drive#permission',\n",
       "   'id': '12950273994294214782',\n",
       "   'type': 'user',\n",
       "   'emailAddress': 'automatingdaptools@gmail.com',\n",
       "   'role': 'writer',\n",
       "   'displayName': 'automatingdaptools',\n",
       "   'photoLink': 'https://lh3.googleusercontent.com/a-/ALV-UjUlT2hewVnKlWocgclgeEMUlrjyVq7pW00t6IKr1F9Fj8rZ4A=s64',\n",
       "   'deleted': False,\n",
       "   'pendingOwner': False},\n",
       "  {'kind': 'drive#permission',\n",
       "   'id': '17166304162888991487',\n",
       "   'type': 'user',\n",
       "   'emailAddress': 'automatingdaptools@electric-facet-438520-h7.iam.gserviceaccount.com',\n",
       "   'role': 'owner',\n",
       "   'displayName': 'automatingdaptools@electric-facet-438520-h7.iam.gserviceaccount.com',\n",
       "   'photoLink': 'https://lh3.googleusercontent.com/a/ACg8ocLpcq5tEr1kdzuR9IC-17bk3HQ-bPmociNjvHfEkp_5d3ghLU4=s64',\n",
       "   'deleted': False,\n",
       "   'pendingOwner': False}],\n",
       " 'permissionIds': ['12950273994294214782', '17166304162888991487'],\n",
       " 'folderColorRgb': '#8f8f8f',\n",
       " 'quotaBytesUsed': '0',\n",
       " 'isAppAuthorized': True,\n",
       " 'linkShareMetadata': {'securityUpdateEligible': False,\n",
       "  'securityUpdateEnabled': True}}"
      ]
     },
     "execution_count": 18,
     "metadata": {},
     "output_type": "execute_result"
    }
   ],
   "source": [
    "file"
   ]
  },
  {
   "cell_type": "code",
   "execution_count": 20,
   "id": "28d5adde-bd4d-40f5-aa7f-710d2065854b",
   "metadata": {
    "collapsed": true,
    "jupyter": {
     "outputs_hidden": true
    }
   },
   "outputs": [
    {
     "data": {
      "text/plain": [
       "['__class__',\n",
       " '__delattr__',\n",
       " '__dict__',\n",
       " '__dir__',\n",
       " '__doc__',\n",
       " '__enter__',\n",
       " '__eq__',\n",
       " '__exit__',\n",
       " '__format__',\n",
       " '__ge__',\n",
       " '__getattribute__',\n",
       " '__getstate__',\n",
       " '__gt__',\n",
       " '__hash__',\n",
       " '__init__',\n",
       " '__init_subclass__',\n",
       " '__le__',\n",
       " '__lt__',\n",
       " '__module__',\n",
       " '__ne__',\n",
       " '__new__',\n",
       " '__reduce__',\n",
       " '__reduce_ex__',\n",
       " '__repr__',\n",
       " '__setattr__',\n",
       " '__setstate__',\n",
       " '__sizeof__',\n",
       " '__str__',\n",
       " '__subclasshook__',\n",
       " '__weakref__',\n",
       " '_add_basic_methods',\n",
       " '_add_nested_resources',\n",
       " '_add_next_methods',\n",
       " '_baseUrl',\n",
       " '_credentials_validated',\n",
       " '_developerKey',\n",
       " '_dynamic_attrs',\n",
       " '_http',\n",
       " '_model',\n",
       " '_requestBuilder',\n",
       " '_resourceDesc',\n",
       " '_rootDesc',\n",
       " '_schema',\n",
       " '_set_dynamic_attr',\n",
       " '_set_service_methods',\n",
       " '_universe_domain',\n",
       " '_validate_credentials',\n",
       " 'close',\n",
       " 'copy',\n",
       " 'create',\n",
       " 'delete',\n",
       " 'download',\n",
       " 'emptyTrash',\n",
       " 'export',\n",
       " 'export_media',\n",
       " 'generateIds',\n",
       " 'get',\n",
       " 'get_media',\n",
       " 'list',\n",
       " 'listLabels',\n",
       " 'listLabels_next',\n",
       " 'list_next',\n",
       " 'modifyLabels',\n",
       " 'update',\n",
       " 'watch']"
      ]
     },
     "execution_count": 20,
     "metadata": {},
     "output_type": "execute_result"
    }
   ],
   "source": [
    "service_file = service.files()\n",
    "dir(service_file)"
   ]
  },
  {
   "cell_type": "code",
   "execution_count": 21,
   "id": "57611006-4d85-4ce5-9d94-f7fcd9c9fffa",
   "metadata": {},
   "outputs": [
    {
     "data": {
      "text/html": [
       "<div>\n",
       "<style scoped>\n",
       "    .dataframe tbody tr th:only-of-type {\n",
       "        vertical-align: middle;\n",
       "    }\n",
       "\n",
       "    .dataframe tbody tr th {\n",
       "        vertical-align: top;\n",
       "    }\n",
       "\n",
       "    .dataframe thead th {\n",
       "        text-align: right;\n",
       "    }\n",
       "</style>\n",
       "<table border=\"1\" class=\"dataframe\">\n",
       "  <thead>\n",
       "    <tr style=\"text-align: right;\">\n",
       "      <th></th>\n",
       "      <th>kind</th>\n",
       "      <th>mimeType</th>\n",
       "      <th>id</th>\n",
       "      <th>name</th>\n",
       "    </tr>\n",
       "  </thead>\n",
       "  <tbody>\n",
       "    <tr>\n",
       "      <th>0</th>\n",
       "      <td>drive#file</td>\n",
       "      <td>application/vnd.google-apps.folder</td>\n",
       "      <td>16EXAit-rbsOUH7crbHaULMlbafU4z1Lw</td>\n",
       "      <td>Rapport Feedback Creation</td>\n",
       "    </tr>\n",
       "  </tbody>\n",
       "</table>\n",
       "</div>"
      ],
      "text/plain": [
       "         kind                            mimeType  \\\n",
       "0  drive#file  application/vnd.google-apps.folder   \n",
       "\n",
       "                                  id                       name  \n",
       "0  16EXAit-rbsOUH7crbHaULMlbafU4z1Lw  Rapport Feedback Creation  "
      ]
     },
     "execution_count": 21,
     "metadata": {},
     "output_type": "execute_result"
    }
   ],
   "source": [
    "# Liste tous les dossiers présent dans un dossier spécifique\n",
    "\n",
    "import pandas as pd\n",
    "\n",
    "query = f\"parents ='1ZmViUd0IFSQzQ6Hiv_iGFLuQ2lPtdImi'\"\n",
    "response = service_file.list(q=query).execute()\n",
    "files = response.get('files')\n",
    "nextPageToken = response.get('nextPageTOken')\n",
    "\n",
    "while nextPageToken:\n",
    "    response = service_file.files().list(q=query).execute()\n",
    "    files.extend(response.get('files'))\n",
    "    nextPageToken = response.get('nextPageTOken')\n",
    "\n",
    "df = pd.DataFrame(files)\n",
    "\n",
    "df"
   ]
  },
  {
   "cell_type": "code",
   "execution_count": null,
   "id": "2b2837b2-8e1d-429c-9fcd-e711b71240b9",
   "metadata": {},
   "outputs": [],
   "source": [
    "# Permission sharing file type\n",
    "\n",
    "file_id =''\n",
    "\n",
    "request_body={\n",
    "    'role': 'reader',\n",
    "    'type': 'anyone'\n",
    "}\n",
    "\n",
    "response_permission = service.permissions().create(\n",
    "    fileId=file_id,\n",
    "    body=request_body\n",
    ").execute\n",
    "\n",
    "\n",
    "response_share_link = service.files().get(\n",
    "    fileId=file_id,\n",
    "    fields='webViewLink'\n",
    ").execute"
   ]
  },
  {
   "cell_type": "code",
   "execution_count": 41,
   "id": "1658c36a-9453-41e0-8eae-a84d275986a5",
   "metadata": {},
   "outputs": [
    {
     "data": {
      "text/plain": [
       "'application/vnd.openxmlformats-officedocument.spreadsheetml.sheet'"
      ]
     },
     "execution_count": 41,
     "metadata": {},
     "output_type": "execute_result"
    }
   ],
   "source": [
    "mimetype ={\n",
    "    '.xlsx': 'application/vnd.openxmlformats-officedocument.spreadsheetml.sheet'\n",
    "    }\n",
    "\n",
    "mimetype.get(os.path.splitext(file_path)[-1])"
   ]
  },
  {
   "cell_type": "code",
   "execution_count": 27,
   "id": "81ffae8d-d3d0-4ae3-8808-ba09471eef09",
   "metadata": {},
   "outputs": [
    {
     "data": {
      "text/plain": [
       "<module 'pipeline_feeedback_report.export_file_to_google_drive.upload_file_to_drive' from '/home/jovyan/workspace/automating_dap_tools/code/feedback_report/pipeline_feeedback_report/export_file_to_google_drive/upload_file_to_drive.py'>"
      ]
     },
     "execution_count": 27,
     "metadata": {},
     "output_type": "execute_result"
    }
   ],
   "source": [
    "import sys\n",
    "\n",
    "path = '/home/jovyan/workspace/automating_dap_tools/code/feedback_report/'\n",
    "\n",
    "if path not in sys.path:\n",
    "    sys.path.append(path)\n",
    "\n",
    "from importlib import reload\n",
    "\n",
    "from pipeline_feeedback_report.export_file_to_google_drive import upload_file_to_drive as drive\n",
    "\n",
    "reload(drive)"
   ]
  },
  {
   "cell_type": "code",
   "execution_count": 28,
   "id": "2f0ebfc2-e3df-4bda-9cdb-3d455ac7b3d9",
   "metadata": {},
   "outputs": [
    {
     "data": {
      "text/plain": [
       "'https://docs.google.com/spreadsheets/d/1Ct-Sa7rypdB8dtgwAX7fklomBFoConCq/edit?usp=drivesdk&ouid=104898089442189668678&rtpof=true&sd=true'"
      ]
     },
     "execution_count": 28,
     "metadata": {},
     "output_type": "execute_result"
    }
   ],
   "source": [
    "drive.upload_file_and_get_share_link(os.getcwd()+'/new_rapportage_feedback.xlsx', '31-03-2024')"
   ]
  },
  {
   "cell_type": "code",
   "execution_count": null,
   "id": "c1b0a2ce-22e0-4631-b7f7-7079c8ccba4d",
   "metadata": {},
   "outputs": [],
   "source": [
    "https://docs.google.com/spreadsheets/d/1mrXNNkStLehuzGMVe_sjtXtPYo4s6786/uc?usp=drivesdk&ouid=104898089442189668678&rtpof=true&sd=true&export=download"
   ]
  },
  {
   "cell_type": "code",
   "execution_count": 32,
   "id": "67e433d1-2720-46fd-81bc-44384244599c",
   "metadata": {},
   "outputs": [
    {
     "data": {
      "text/plain": [
       "'/home/jovyan/workspace/automating_dap_tools/code/feedback_report/pipeline_feeedback_report/export_file_to_google_drive/credentials.json'"
      ]
     },
     "execution_count": 32,
     "metadata": {},
     "output_type": "execute_result"
    }
   ],
   "source": [
    "os.path.abspath('credentials.json')"
   ]
  },
  {
   "cell_type": "code",
   "execution_count": 35,
   "id": "10b192d0-9c69-4971-834e-3464ea321b59",
   "metadata": {},
   "outputs": [
    {
     "data": {
      "text/plain": [
       "'/home/jovyan/workspace/automating_dap_tools/code/feedback_report/pipeline_feeedback_report/export_file_to_google_drive/export_file_to_google_drive/credentials.json'"
      ]
     },
     "execution_count": 35,
     "metadata": {},
     "output_type": "execute_result"
    }
   ],
   "source": [
    "os.path.join(os.getcwd()+'/export_file_to_google_drive', 'credentials.json')"
   ]
  }
 ],
 "metadata": {
  "kernelspec": {
   "display_name": "Python 3 (ipykernel)",
   "language": "python",
   "name": "python3"
  },
  "language_info": {
   "codemirror_mode": {
    "name": "ipython",
    "version": 3
   },
   "file_extension": ".py",
   "mimetype": "text/x-python",
   "name": "python",
   "nbconvert_exporter": "python",
   "pygments_lexer": "ipython3",
   "version": "3.11.7"
  }
 },
 "nbformat": 4,
 "nbformat_minor": 5
}
