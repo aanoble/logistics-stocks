{
 "cells": [
  {
   "cell_type": "markdown",
   "id": "8ed14ec2-6598-47a7-a6a1-588ecfa83c4c",
   "metadata": {
    "editable": true,
    "slideshow": {
     "slide_type": ""
    },
    "tags": []
   },
   "source": [
    "# Importation des bibliothèques"
   ]
  },
  {
   "cell_type": "code",
   "execution_count": 1,
   "id": "7211fc7e-03a6-44bb-9865-b687b9ffbcf0",
   "metadata": {},
   "outputs": [],
   "source": [
    "%%capture\n",
    "## Instalation des bibliothèques utilitaires\n",
    "!pip install google-api-python-client\n",
    "!pip install --upgrade google-auth-httplib2 google-auth-oauthlib"
   ]
  },
  {
   "cell_type": "code",
   "execution_count": 2,
   "id": "d4fd9afc-a7e2-43af-a4c7-f333eec13c74",
   "metadata": {
    "editable": true,
    "slideshow": {
     "slide_type": ""
    },
    "tags": []
   },
   "outputs": [],
   "source": [
    "%%capture\n",
    "\n",
    "import warnings\n",
    "\n",
    "warnings.filterwarnings(\"ignore\")\n",
    "\n",
    "from datetime import datetime\n",
    "from pathlib import Path\n",
    "\n",
    "import numpy as np\n",
    "import pandas as pd\n",
    "from openhexa.sdk import workspace\n",
    "\n",
    "pd.set_option(\"display.max_columns\", None)\n",
    "\n",
    "try:\n",
    "    import openpyxl as pyxl\n",
    "    from fuzzywuzzy import fuzz, process\n",
    "except ImportError or ModuleNotFoundError:\n",
    "    !pip install python-Levenshtein\n",
    "    !pip install fuzzywuzzy\n",
    "    from fuzzywuzzy import fuzz, process\n",
    "    import openpyxl as pyxl\n",
    "\n",
    "import os\n",
    "from functools import partial\n",
    "from importlib import reload"
   ]
  },
  {
   "cell_type": "code",
   "execution_count": 3,
   "id": "43fa898c-24d6-435e-bd02-bbc4747f6ba0",
   "metadata": {},
   "outputs": [],
   "source": [
    "# Ajout du chemin d'accès aux différents code\n",
    "os.chdir(Path(workspace.files_path, \"Rapport Feedback/code/pipelines\"))\n",
    "\n",
    "# Module créer pour le processing et l'exportation des données\n",
    "from compute_indicators import compute_indicators, date_utils, excel_file_handler\n",
    "from database_operations import db_ops, update_dimension, upsert_table\n",
    "from export_file_to_google_drive import upload_file_to_drive\n",
    "from generate_feedback_report import generate_feedback_report as gfr\n",
    "from metabase import queries\n",
    "from metabase.metabase import Metabase"
   ]
  },
  {
   "cell_type": "markdown",
   "id": "82e4e62c-4e00-47c0-9725-30fae2086de8",
   "metadata": {
    "editable": true,
    "slideshow": {
     "slide_type": ""
    },
    "tags": []
   },
   "source": [
    "# Définition des paramètres"
   ]
  },
  {
   "cell_type": "markdown",
   "id": "eb13db80-bfa9-4534-a44b-75ba73fe8883",
   "metadata": {
    "editable": true,
    "slideshow": {
     "slide_type": ""
    },
    "tags": []
   },
   "source": [
    "Les variables nécessaires à la production du rapport de feedback :\n",
    "\n",
    "1. **Mois de création du rapport**  \n",
    "   - **Description :** Ce paramètre correspond au mois pour lequel le rapport de feedback sera généré.  \n",
    "   - **Source :** Défini par l'utilisateur lors de l'exécution du pipeline.\n",
    "\n",
    "2. **Liste des sites attendus**  \n",
    "   - **Description :** Fichier Excel contenant la liste complète des sites devant être inclus dans le rapport.  \n",
    "   - **Fréquence de mise à jour :** Ce fichier est mis à jour et communiqué chaque trimestre.  \n",
    "   - **Emplacement requis :** Le fichier doit être déposé dans le dossier `Rapport Feedback/data/Sites attendus`.\n",
    "\n",
    "3. **Liste des produits traceurs**  \n",
    "   - **Description :** Fichier Excel fournissant les informations sur les produits traceurs à analyser dans le rapport.  \n",
    "   - **Fréquence de mise à jour :** Généralement communiqué mensuellement par la DAP.  \n",
    "   - **Emplacement requis :** Le fichier doit être placé dans le dossier `Rapport Feedback/data/Produits Traceurs`."
   ]
  },
  {
   "cell_type": "markdown",
   "id": "c2d49e73-f67d-40df-9527-73b7d2dfae16",
   "metadata": {
    "editable": true,
    "slideshow": {
     "slide_type": ""
    },
    "tags": []
   },
   "source": [
    "<div class=\"alert alert-block alert-success\">\n",
    "Ici quand le mois est défini il faudrait aller checker dans la base de données pour voir si le mois en question est déjà présent dans la base pour minimiser le risque d'erreur\n",
    "</div>"
   ]
  },
  {
   "cell_type": "code",
   "execution_count": null,
   "id": "2f9daacd-9043-44fe-a6c3-3aa982f1e6fb",
   "metadata": {
    "editable": true,
    "slideshow": {
     "slide_type": ""
    },
    "tags": [
     "parameters"
    ]
   },
   "outputs": [],
   "source": [
    "month_report, fp_site_attendus, fp_prod_traceurs = (\n",
    "    \"Mars\",\n",
    "    \"Sites attendus Février 2025.xlsx\",\n",
    "    \"Liste des Produits Traceurs Février 2025.xlsx\",\n",
    ")"
   ]
  },
  {
   "cell_type": "code",
   "execution_count": null,
   "id": "081e5b32-e9e7-44f9-97b3-c9534f963d64",
   "metadata": {
    "editable": true,
    "slideshow": {
     "slide_type": ""
    },
    "tags": []
   },
   "outputs": [],
   "source": [
    "month_export, date_report = month_report, compute_indicators.generate_month_end_report_date(month_report)"
   ]
  },
  {
   "cell_type": "markdown",
   "id": "0abd17bc-35f4-43f3-a17b-8c4931980e1b",
   "metadata": {},
   "source": [
    "## Test pour s'assurer que cette date n'existe pas déjà dans la base de données"
   ]
  },
  {
   "cell_type": "code",
   "execution_count": null,
   "id": "585b259d-cd27-4f2f-a731-e73cc66844b8",
   "metadata": {},
   "outputs": [],
   "source": [
    "db_ops.reload_connection()\n",
    "\n",
    "schema_name = \"dap_tools\""
   ]
  },
  {
   "cell_type": "code",
   "execution_count": null,
   "id": "05e7ebc7-bb18-4aab-b7de-ccea3ba3de0f",
   "metadata": {
    "editable": true,
    "slideshow": {
     "slide_type": ""
    },
    "tags": []
   },
   "outputs": [],
   "source": [
    "# Ici il faudrait également s'assurer que le mois précédent est bien présent à l'intérieur de la base de données au cas où on arriverait à se tromper sur le mois de conception du fichier\n",
    "mois_prec = (pd.to_datetime(date_report).replace(day=1) - pd.Timedelta(days=1)).strftime('%Y-%m-%d')\n",
    "\n",
    "df_ = pd.read_sql(f\"select * from {schema_name}.etat_de_stock where date_report='{mois_prec}'\", db_ops.civ_engine)\n",
    "\n",
    "assert df_.shape[0] != 0, f\"Le mois précédent {mois_prec} n'est pas présent dans la base de données locale êtes-vous sûre d'avoir choisir le bon mois de conception du fichier.\"\n",
    "\n",
    "del df_"
   ]
  },
  {
   "cell_type": "code",
   "execution_count": null,
   "id": "d0e84e1c-e061-4012-a736-e9e8ae21c076",
   "metadata": {
    "editable": true,
    "slideshow": {
     "slide_type": ""
    },
    "tags": []
   },
   "outputs": [],
   "source": [
    "%%script false --no-raise-error\n",
    "\n",
    "df_ = pd.read_sql(f\"select * from {schema_name}.etat_de_stock where date_report='{pd.to_datetime(date_report).strftime('%Y-%m-%d')}' LIMIT 2\", db_ops.civ_engine)\n",
    "\n",
    "assert df_.shape[0] == 0, f\"La date {date_report} existe déjà dans la base de données vous devez définir une autre date pour la production du rapport.\"\n",
    "\n",
    "del df_"
   ]
  },
  {
   "cell_type": "markdown",
   "id": "40a0ccb6-f7f9-4f02-8aed-d3aaed4a584f",
   "metadata": {},
   "source": [
    "# 📥 Importation des Données\n",
    "  \n",
    "L'utilisateur doit veiller à ce que les fichiers respectent le format attendu et soient placés dans les répertoires dédiés avant de procéder au traitement."
   ]
  },
  {
   "cell_type": "markdown",
   "id": "7405a294-f204-4a05-8753-13a6ba1e3e36",
   "metadata": {
    "editable": true,
    "slideshow": {
     "slide_type": ""
    },
    "tags": []
   },
   "source": [
    "## 📌 Importation de la `Liste des sites attendus`\n",
    "- **Format requis :** Assurez-vous que le fichier respecte le template standard défini pour les mois de chargement.\n",
    "- **Emplacement du fichier :** Le fichier doit être placé dans le répertoire dédié :  \n",
    "  **`Rapport Feedback/data/Sites attendus`**  \n",
    "- **En cas d'erreur :**  \n",
    "  - Vérifiez que le fichier est bien présent dans le répertoire.  \n",
    "  - Assurez-vous que toutes les colonnes requises sont bien renseignées.  \n",
    "  - Contrôlez que le fichier est bien accessible et non corrompu."
   ]
  },
  {
   "cell_type": "code",
   "execution_count": null,
   "id": "44fed58a-6521-4903-8fec-792bd328633d",
   "metadata": {
    "editable": true,
    "slideshow": {
     "slide_type": ""
    },
    "tags": []
   },
   "outputs": [],
   "source": [
    "fp_site_attendus = (\n",
    "    Path(workspace.files_path)\n",
    "    / \"Rapport Feedback/data/Sites attendus\" \n",
    "    / Path(fp_site_attendus).name\n",
    ")"
   ]
  },
  {
   "cell_type": "code",
   "execution_count": null,
   "id": "63198639-40f7-4b11-9b7f-cf4b9fcc858a",
   "metadata": {},
   "outputs": [],
   "source": [
    "# Configuration constante\n",
    "EXPECTED_COLS = {\n",
    "    'Code', 'Site', 'District', 'Region', 'ARV', 'TRC', 'LAB', \n",
    "    'CHARGE VIRALE', 'PNLP', 'PNSME', 'PNSME-GRAT', \n",
    "    'PNN', 'TBS', 'TBMR', 'TBLAB'\n",
    "}\n",
    "\n",
    "# Utilisation\n",
    "try:\n",
    "    df_site_attendu = excel_file_handler.load_expected_sites_from_excel(fp_site_attendus, EXPECTED_COLS)\n",
    "except Exception as e:\n",
    "    print(\"Une erreur s'est produite lors du chargement du fichier contenant la liste des sites attendus.\")\n",
    "    print(\"Veuillez vérifier que le fichier existe dans le répertoire spécifique `Rapport Feedback/data/Sites attendus` et qu'il contient toutes les colonnes requises.\")\n",
    "    print(f\"Code d'erreur détaillé : {e}\")\n",
    "    raise\n",
    "df_site_attendu.head(2)"
   ]
  },
  {
   "cell_type": "markdown",
   "id": "d279c2e1-3e18-43aa-97d2-bc14a2d0f862",
   "metadata": {
    "editable": true,
    "slideshow": {
     "slide_type": ""
    },
    "tags": []
   },
   "source": [
    "## 📌 Importation de la `liste des produits traceurs`\n",
    "- **Format requis :** Respectez la structure du fichier définie pour l’importation.  \n",
    "- **Emplacement du fichier :** Le fichier doit être placé dans le répertoire suivant :  \n",
    "  **`Rapport Feedback/data/Produits Traceurs`**  \n",
    "- **En cas d'erreur :**  \n",
    "  - Vérifiez que le fichier est bien présent dans le répertoire.  \n",
    "  - Assurez-vous que les données respectent le format attendu.  \n",
    "  - Vérifiez l'intégrité du fichier et assurez-vous et corriger l'anomalie."
   ]
  },
  {
   "cell_type": "code",
   "execution_count": null,
   "id": "bad6e1c2-5395-44d3-90e2-56e7502287a7",
   "metadata": {
    "editable": true,
    "slideshow": {
     "slide_type": ""
    },
    "tags": []
   },
   "outputs": [],
   "source": [
    "# Il faudra définir un standard de fichier qui sera attendu\n",
    "fp_prod_traceurs = (\n",
    "    Path(workspace.files_path)\n",
    "    / \"Rapport Feedback/data/Produits Traceurs\" \n",
    "    / Path(fp_prod_traceurs).name\n",
    ")"
   ]
  },
  {
   "cell_type": "code",
   "execution_count": null,
   "id": "66e0d1aa-5170-43b3-a6f7-a9e22aa18926",
   "metadata": {},
   "outputs": [],
   "source": [
    "try:\n",
    "    df_prod_traceurs = excel_file_handler.load_traceable_products_from_excel(fp_prod_traceurs)\n",
    "except Exeption as e:\n",
    "    print(\"Une erreur s'est produite lors du chargement du fichier contenant la liste des produits traceurs\")\n",
    "    print(\"Veuillez vérifier que le fichier existe et qu'il contienu dans le répertoire dédié `Rapport Feedback/data/Produits Traceurs`\")\n",
    "    print(f\"Code d'erreur détaillé : {e}\")\n",
    "\n",
    "df_prod_traceurs.head(2)"
   ]
  },
  {
   "cell_type": "markdown",
   "id": "d1412c64-6b55-4a3f-9cea-74fb9ec82858",
   "metadata": {},
   "source": [
    "## 📌 Extraction des données eSIGL : `État de transmission`  \n",
    "\n",
    "Cette étape permet d'extraire les données d'état de transmission depuis eSIGL via Metabase.  \n",
    "Assurez-vous que toutes les conditions nécessaires sont remplies avant de lancer l'extraction.  \n",
    "\n",
    "🛠 En cas d'erreur :  \n",
    "1. **Vérifier les permissions utilisateur**  \n",
    "   - Assurez-vous que l'utilisateur **`secretariat_dap`** dispose bien des accès nécessaires à eSIGL.  \n",
    "   - Si l'accès est restreint, contactez l'administrateur du système pour obtenir les autorisations requises.  \n",
    "\n",
    "2. **S'assurer du bon fonctionnement de eSIGL**  \n",
    "   - Il arrive que **Metabase** subisse des interruptions temporaires rendant l'accès aux données impossible.  \n",
    "   - Si eSIGL ou Metabase est indisponible, réessayez plus tard ou consultez l'équipe technique.  \n",
    "\n",
    "**Astuce :** Si le problème persiste, tentez d'accéder manuellement à eSIGL et Metabase pour vérifier leur disponibilité."
   ]
  },
  {
   "cell_type": "code",
   "execution_count": null,
   "id": "8c20b13c-c935-4b94-8b16-06714abb4cb6",
   "metadata": {},
   "outputs": [],
   "source": [
    "metabase = Metabase(workspace.custom_connection(\"metabase-esigl\"))"
   ]
  },
  {
   "cell_type": "code",
   "execution_count": null,
   "id": "45e6bc90-9162-4b25-9c5e-aec1153778d7",
   "metadata": {
    "editable": true,
    "slideshow": {
     "slide_type": ""
    },
    "tags": []
   },
   "outputs": [],
   "source": [
    "df_transmission = metabase.get_data_from_sql_query(\n",
    "    queries.QUERY_TRANSMISSION.format(\n",
    "        date_report=date_utils.get_date_report(date_report)\n",
    "    )\n",
    ")\n",
    "\n",
    "# Les établissements ne sont plus censé faire des rapportages sur ce programme spécifique\n",
    "df_transmission[\"program\"] = df_transmission[\"program\"].str.replace(\n",
    "    \"PNSME-MEDICAMENTS ET INTRANTS\", \"PNSME_GRATUITE:MEDICAMENTS ET INTRANTS\"\n",
    ")\n",
    "\n",
    "df_transmission.head(3)"
   ]
  },
  {
   "cell_type": "markdown",
   "id": "af5f5c5e-8643-4718-b5ab-b6d034bef314",
   "metadata": {},
   "source": [
    "## 📌 Extraction des données eSIGL : `Etat de stock`"
   ]
  },
  {
   "cell_type": "code",
   "execution_count": null,
   "id": "73b66542-0411-4031-b09b-2f7c68307958",
   "metadata": {},
   "outputs": [],
   "source": [
    "df_etat_stock = metabase.get_data_from_sql_query(\n",
    "    queries.QUERY_ETAT_STOCK.format(date_report=date_utils.get_date_report(date_report))\n",
    ")\n",
    "\n",
    "df_etat_stock[\"programme\"] = df_etat_stock[\"programme\"].str.replace(\n",
    "    \"PNSME-MEDICAMENTS ET INTRANTS\", \"PNSME_GRATUITE:MEDICAMENTS ET INTRANTS\"\n",
    ")\n",
    "\n",
    "df_etat_stock.head(3)"
   ]
  },
  {
   "cell_type": "markdown",
   "id": "6d2803b9-a8ea-41b2-bd63-2201bb57dd6b",
   "metadata": {},
   "source": [
    "# 📊 Calcul des Indicateurs `(1/3)`\n",
    "\n",
    "Cette étape consiste à **traiter les données du mois en cours** afin de calculer les indicateurs de performance, notamment :  \n",
    "- **Complétude** : mesure le taux de soumission des données attendues.  \n",
    "- **Promptitude** : évalue la rapidité avec laquelle les données sont transmises.\n",
    "- **Etat de Stock**: informations sur les états de stock des différents produits.\n",
    "\n",
    "Une fois calculés, ces indicateurs sont intégrés au **rapport de feedback**, qui sera ensuite exporté pour être accessible aux utilisateurs."
   ]
  },
  {
   "cell_type": "code",
   "execution_count": null,
   "id": "07fe4d86-c85b-4b42-be39-f7075c444748",
   "metadata": {},
   "outputs": [],
   "source": [
    "%%time\n",
    "df_ets, df_region = compute_indicators.compute_indicators_completeness_and_promptness(\n",
    "    df_site_attendu.copy(), df_transmission.copy(), date_report\n",
    ")"
   ]
  },
  {
   "cell_type": "markdown",
   "id": "7d15fc13-cfa1-42b3-83a3-4e4d43d8744b",
   "metadata": {},
   "source": [
    "## 📄 Génération du Fichier Excel `(1/2)`\n",
    "\n",
    "Cette étape permet de **générer un fichier Excel** contenant les indicateurs calculés et les données consolidées du rapport de feedback.  \n",
    "Une fois le fichier créé, un **lien d’accès** est intégré dans le tableau de bord afin que les utilisateurs puissent le consulter et le télécharger facilement.  "
   ]
  },
  {
   "cell_type": "code",
   "execution_count": null,
   "id": "453592ed-56b2-4247-b722-3538710d7751",
   "metadata": {},
   "outputs": [],
   "source": [
    "src_file = (\n",
    "    Path(workspace.files_path)\n",
    "    / \"Rapport Feedback/data/Template Rapport Feedback/RAPPORT FEEDBACK - TEMPLATE.xlsx\"\n",
    ")\n",
    "\n",
    "wb_feedback_report = gfr.load_workbook(src_file.as_posix())"
   ]
  },
  {
   "cell_type": "code",
   "execution_count": null,
   "id": "fd1ac321-1786-4e3d-b539-ccf0d609eaf3",
   "metadata": {},
   "outputs": [],
   "source": [
    "%%time\n",
    "gfr.export_detail_comp_promp_to_sheet(\n",
    "    wb_feedback_report, df_ets.copy(), df_region.copy(), date_report\n",
    ")"
   ]
  },
  {
   "cell_type": "markdown",
   "id": "1bc53552-bddd-4167-8d4b-1e222812908a",
   "metadata": {},
   "source": [
    "## 📊 Suite du Calcul des Indicateurs `(2/3)`\n",
    "\n",
    "Cette étape poursuit le traitement des données en complétant le calcul des indicateurs clés pour le rapport de feedback.  \n",
    "Elle permet de finaliser les analyses et d’assurer la cohérence des résultats avant leur exportation.  "
   ]
  },
  {
   "cell_type": "code",
   "execution_count": null,
   "id": "d4958512-6684-4c9e-8136-e45a6ef49e52",
   "metadata": {},
   "outputs": [],
   "source": [
    "%%time\n",
    "(\n",
    "    df_etat_stock,\n",
    "    stock_lvl_decent,\n",
    "    stock_region,\n",
    ") = compute_indicators.analyze_product_stock_status_indicators(\n",
    "    df_prod_traceurs.copy(), df_etat_stock.copy(), date_report\n",
    ")"
   ]
  },
  {
   "cell_type": "markdown",
   "id": "07da741e-c18b-43c3-98c3-702708e1de22",
   "metadata": {},
   "source": [
    "## 📄 Génération Finale du Fichier Excel `(2/2)`\n"
   ]
  },
  {
   "cell_type": "code",
   "execution_count": null,
   "id": "74a87f9b-de55-498e-8cdc-283ce06cc9a4",
   "metadata": {},
   "outputs": [],
   "source": [
    "%%time\n",
    "gfr.export_stock_data_to_sheet(wb_feedback_report, df_etat_stock.copy())"
   ]
  },
  {
   "cell_type": "code",
   "execution_count": null,
   "id": "0601f565-4ead-49c3-a12b-cfe8ee2bbb38",
   "metadata": {},
   "outputs": [],
   "source": [
    "%%time\n",
    "# Date report doit être révue pour prendre le 11 du mois en cours\n",
    "gfr.export_stock_region_to_sheet(\n",
    "    wb_feedback_report,\n",
    "    stock_lvl_decent.copy(),\n",
    "    stock_region.copy(),\n",
    "    date_report=pd.to_datetime(date_report).strftime(\"%Y/%m/%d\"),\n",
    ")"
   ]
  },
  {
   "cell_type": "code",
   "execution_count": null,
   "id": "db675e76-4de7-4c84-8ddc-af1a98b75064",
   "metadata": {},
   "outputs": [],
   "source": [
    "# Sauvegarde du fichier dans un repertoire courant\n",
    "dest_file = (\n",
    "    Path(workspace.files_path)\n",
    "    / f\"Rapport Feedback/code/pipelines/rapport feedback genere/{date_report[:4]}\"\n",
    ")\n",
    "dest_file.mkdir(exist_ok=True, parents=True)\n",
    "\n",
    "dest_file = dest_file / f\"RapportFeedBack-{month_export.upper()}-{date_report[:4]}.xlsx\"\n",
    "\n",
    "wb_feedback_report.save(dest_file.as_posix())\n",
    "\n",
    "del wb_feedback_report"
   ]
  },
  {
   "cell_type": "markdown",
   "id": "f5fbb52c-d238-4c6f-98ef-00a78d080be5",
   "metadata": {},
   "source": [
    "## 📊 Suite du Calcul des Indicateurs `(3/3)`"
   ]
  },
  {
   "cell_type": "code",
   "execution_count": null,
   "id": "fa9a00de-fe01-47d7-a943-431a0ed29b37",
   "metadata": {},
   "outputs": [],
   "source": [
    "%%time\n",
    "(\n",
    "    stock_lvl_decent,\n",
    "    stock_region,\n",
    "    df_sheet_two,\n",
    "    stock_region_with_central,\n",
    ") = compute_indicators.aggregate_regional_stock_availability_metrics(\n",
    "    stock_lvl_decent.copy(), stock_region.copy()\n",
    ")"
   ]
  },
  {
   "attachments": {},
   "cell_type": "markdown",
   "id": "230f2328-a9bb-4663-9dc2-e17f64fd525f",
   "metadata": {},
   "source": [
    "# Exportation des données vers la base des données"
   ]
  },
  {
   "cell_type": "markdown",
   "id": "851d680b-5fc8-422b-97cf-58883fb3c9c2",
   "metadata": {},
   "source": [
    "## Export du lien du fichier vers le répertoire drive"
   ]
  },
  {
   "cell_type": "code",
   "execution_count": null,
   "id": "75c244b6-83ae-434f-8dfc-ac70e871e769",
   "metadata": {},
   "outputs": [],
   "source": [
    "share_link = upload_file_to_drive.upload_file_and_get_share_link(\n",
    "    dest_file.as_posix(), date_report=date_report\n",
    ")\n",
    "\n",
    "df_share_link = pd.DataFrame(\n",
    "    data=[{\"share_link\": share_link, \"date_report\": pd.to_datetime(date_report)}]\n",
    ")\n",
    "\n",
    "db_ops.civ_cursor.execute(\n",
    "    f\"\"\"\n",
    "DELETE FROM {schema_name}.share_link_fbr\n",
    "WHERE date_report = '{date_report}'\n",
    "\"\"\"\n",
    ")\n",
    "\n",
    "db_ops.conn.commit()\n",
    "\n",
    "df_share_link.to_sql(\n",
    "    \"share_link_fbr\",\n",
    "    con=db_ops.civ_engine,\n",
    "    schema=schema_name,\n",
    "    index=False,\n",
    "    if_exists=\"append\",\n",
    ")\n",
    "\n",
    "db_ops.civ_engine.dispose()\n",
    "\n",
    "del df_share_link"
   ]
  },
  {
   "cell_type": "markdown",
   "id": "567afe0d-0806-4827-adce-cfcfc760e605",
   "metadata": {},
   "source": [
    "## Exportation des autres tables"
   ]
  },
  {
   "cell_type": "code",
   "execution_count": null,
   "id": "f22bdf2e-69fe-47c5-ac75-73b2918a7550",
   "metadata": {},
   "outputs": [],
   "source": [
    "# completude_promptitude_par_ets\n",
    "df_comp_promp_ets = df_ets.rename(\n",
    "    columns=lambda x: x.lower().replace(\" \", \"_\").replace(\"-\", \"_\")\n",
    "    if x not in (\"Code\", \"Site\", \"Region\")\n",
    "    else x\n",
    ")\n",
    "\n",
    "# completude_promptitude_attendu_taux_region\n",
    "df_comp_promp_region = df_region.rename(\n",
    "    columns=lambda x: x.lower().replace(\" \", \"_\") if x not in (\"Region\") else x\n",
    ")"
   ]
  },
  {
   "cell_type": "code",
   "execution_count": null,
   "id": "cf8e1fe3-3722-413b-b5f3-c477efdbc4c0",
   "metadata": {},
   "outputs": [],
   "source": [
    "date_report = pd.to_datetime(date_report).strftime(\"%d-%m-%Y\")"
   ]
  },
  {
   "cell_type": "code",
   "execution_count": null,
   "id": "bd05188a-0ee8-4c23-8fac-c60a07f5d45f",
   "metadata": {},
   "outputs": [],
   "source": [
    "df_etat_stock[\"date_report\"] = pd.to_datetime(date_report, format=\"%d-%m-%Y\")\n",
    "stock_region_with_central[\"date_report\"] = pd.to_datetime(\n",
    "    date_report, format=\"%d-%m-%Y\"\n",
    ")\n",
    "df_sheet_two[\"date_report\"] = pd.to_datetime(date_report, format=\"%d-%m-%Y\")\n",
    "\n",
    "# Some change here\n",
    "df_comp_promp_ets[\"date_report\"] = pd.to_datetime(date_report, format=\"%d-%m-%Y\")\n",
    "df_comp_promp_region[\"date_report\"] = pd.to_datetime(date_report, format=\"%d-%m-%Y\")"
   ]
  },
  {
   "cell_type": "code",
   "execution_count": null,
   "id": "0fce1414-e756-4396-9fed-e600bc930091",
   "metadata": {
    "jupyter": {
     "source_hidden": true
    }
   },
   "outputs": [],
   "source": [
    "df_etat_stock.rename(\n",
    "    columns={\n",
    "        \"CODE\": \"Code_produit\",\n",
    "        \"PROGRAMME\": \"programme_abrv\",\n",
    "        \"SOUS-PROGRAMME\": \"sous_programme\",\n",
    "        \"PERIODE\": \"Periode\",\n",
    "        \"REGION\": \"Region\",\n",
    "        \"DISTRICT\": \"District\",\n",
    "        \"CODE ETS\": \"Code_ets\",\n",
    "        \"STRUCTURE\": \"Structure\",\n",
    "        \"CATEGORIE PRODUIT\": \"cat_produit\",\n",
    "        \"PRODUIT\": \"produit_designation\",\n",
    "        \"UNITE DE RAPPORTAGE\": \"unit_rapportage\",\n",
    "        \"STOCK INITIAL\": \"stock_initial\",\n",
    "        \"QUANTITE RECUE\": \"qte_recue\",\n",
    "        \"QUANTITE UTILISEE\": \"qte_utilisee\",\n",
    "        \"PERTES ET AJUSTEMENT\": \"perte_ajust\",\n",
    "        \"JOURS DE RUPTURE\": \"j_rupture\",\n",
    "        \"SDU\": \"sdu\",\n",
    "        \"CMM ESIGL\": \"cmm_esigl\",\n",
    "        \"CMM gestionnaire\": \"cmm_gest\",\n",
    "        \"QUANTITE PROPOSEE\": \"qte_prop\",\n",
    "        \"QUANTITE COMMANDEE\": \"qte_cmde\",\n",
    "        \"QUANTITE APPROUVEE\": \"qte_approuv\",\n",
    "        \"MSD\": \"msd\",\n",
    "        \"ETAT DU STOCK\": \"etat_stock\",\n",
    "        \"BESOIN CMMMANDE URGENTE\": \"besoin_cmde_urg\",\n",
    "        \"BESOIN TRANSFERT IN\": \"besoin_trsf_in\",\n",
    "        \"QUANTITE A TRANSFERER OUT\": \"qte_trsf_out\",\n",
    "        \"CATEGORIE_DU_PRODUIT\": \"cat_du_produit\",\n",
    "    }, inplace=True)\n",
    "\n",
    "stock_region_with_central.rename(columns={\"Code\": \"Code_produit\", \"MSD\": \"msd\", \"STATUT\": \"Statut\"}, inplace=True)"
   ]
  },
  {
   "cell_type": "markdown",
   "id": "04ecbc11-662e-4a0c-ac7b-42705d0bcafa",
   "metadata": {},
   "source": [
    "### Mise à jour des dimensions"
   ]
  },
  {
   "cell_type": "markdown",
   "id": "dfe1331f-a313-4972-9067-dcf845809e0e",
   "metadata": {},
   "source": [
    "#### `Dimensions régions`\n",
    "\n",
    "\n",
    "Cette étape permet de maintenir à jour la **dimension des régions** dans la base de données.  \n",
    "Elle garantit que toutes les informations régionales sont alignées avec les mises à jour effectuées dans **eSIGL**\n",
    "\n",
    " 🛠 Actions réalisées :  \n",
    "1. **Mise à jour des régions existantes**  \n",
    "   - Si des modifications ont été apportées aux régions dans **eSIGL**, elles sont répercutées dans notre base de données.  \n",
    "   - Les informations régionales (ex. : noms, codes, identifiants) sont mises à jour pour rester cohérentes avec la source officielle.  \n",
    "\n",
    "2. **Ajout des nouvelles régions**  \n",
    "   - Si certaines régions ne sont pas encore présentes dans notre base, elles sont automatiquement ajoutées.  \n",
    "   - Cela garantit que l’ensemble des régions récentes est bien pris en compte dans les analyses et traitements futurs.  \n",
    "  "
   ]
  },
  {
   "cell_type": "code",
   "execution_count": null,
   "id": "4dcda020-262e-4b3a-b8fc-32c319769b11",
   "metadata": {},
   "outputs": [],
   "source": [
    "# Recherche des nouvelles régions et modifications sur les régions survenues au cours de la période dans eSIGL\n",
    "df_new_region = update_dimension.update_dimension_table(\n",
    "    dimension_name=\"dim_region\",\n",
    "    source_dfs=[\n",
    "        df_transmission[[\"region\", \"id_region_esigl\"]].rename(\n",
    "            columns={\"region\": \"Region\"}\n",
    "        ),\n",
    "        df_etat_stock[[\"Region\", \"id_region_esigl\"]],\n",
    "    ],\n",
    "    merge_on=[\"id_region_esigl\"],\n",
    "    change_columns=[\"Region\"],\n",
    "    code_generation=partial(update_dimension.region_code_generation, metabase=metabase),\n",
    "    schema_name=schema_name,\n",
    ")\n",
    "\n",
    "df_new_region.head(3)"
   ]
  },
  {
   "cell_type": "code",
   "execution_count": null,
   "id": "35f32f33-7697-4db4-9dac-9d0ab525bbf4",
   "metadata": {},
   "outputs": [],
   "source": [
    "# Mise à jour des informations au niveau de la base de données\n",
    "upsert_table.upsert_table(\n",
    "    df_new_region, \"dim_region\", schema_name, engine=db_ops.civ_engine\n",
    ")\n",
    "\n",
    "del df_new_region"
   ]
  },
  {
   "cell_type": "code",
   "execution_count": null,
   "id": "c67951f7-d439-44e6-b022-295a87335951",
   "metadata": {},
   "outputs": [],
   "source": [
    "df_region = db_ops.get_data_from_database(\"dim_region\")\n",
    "\n",
    "df_region.head(2)"
   ]
  },
  {
   "cell_type": "markdown",
   "id": "cc04f7ba-a6f5-4663-9545-d7ce64e6fdd9",
   "metadata": {},
   "source": [
    "#### `Dimension districts`\n",
    "\n",
    "Mise à Jour et Ajout d'Informations Complémentaires  \n",
    "\n",
    "Avant d'exécuter le traitement, il est **essentiel** de mettre à jour les informations si des modifications ont été effectuées dans **eSIGL**, notamment sur les districts.  \n",
    "\n",
    "Étapes à suivre :  \n",
    "1. **Vérification et mise à jour des informations existantes**  \n",
    "   - Si des districts ont été modifiés ou ajoutés dans **eSIGL**, il faut s'assurer que ces changements sont bien répercutés dans les données utilisées.  \n",
    "\n",
    "2. **Ajout des informations complémentaires**  \n",
    "   - Une fois la mise à jour effectuée, il est nécessaire d'ajouter toutes les informations additionnelles requises pour le bon fonctionnement du processus."
   ]
  },
  {
   "cell_type": "code",
   "execution_count": null,
   "id": "806cb5c3-b781-448a-af07-f70082b08ba9",
   "metadata": {},
   "outputs": [],
   "source": [
    "df_new_district = update_dimension.update_dimension_table(\n",
    "    dimension_name=\"dim_district\",\n",
    "    source_dfs=[\n",
    "        df_transmission[[\"id_region_esigl\", \"district\", \"id_district_esigl\"]].rename(\n",
    "            columns={\"district\": \"District\"}\n",
    "        ),\n",
    "        df_etat_stock[[\"id_region_esigl\", \"District\", \"id_district_esigl\"]],\n",
    "    ],\n",
    "    merge_on=[\"id_district_esigl\"],\n",
    "    change_columns=[\"District\"],\n",
    "    code_generation=partial(\n",
    "        update_dimension.district_code_generation,\n",
    "        tb_region=\"dim_region\",\n",
    "        schema_name=schema_name,\n",
    "    ),\n",
    "    schema_name=schema_name,\n",
    ")"
   ]
  },
  {
   "cell_type": "code",
   "execution_count": null,
   "id": "45501e53-073e-4d94-b30b-7752526be3d7",
   "metadata": {},
   "outputs": [],
   "source": [
    "upsert_table.upsert_table(\n",
    "    df_new_district, \"dim_district\", schema_name, engine=db_ops.civ_engine\n",
    ")\n",
    "\n",
    "del df_new_district"
   ]
  },
  {
   "cell_type": "code",
   "execution_count": null,
   "id": "a0fcdf48-b34c-49a7-8042-9fd5023c4cf4",
   "metadata": {},
   "outputs": [],
   "source": [
    "df_district_db = db_ops.get_data_from_database(\"dim_district\")"
   ]
  },
  {
   "cell_type": "markdown",
   "id": "c249201e-93b9-4d1f-b184-96c201752181",
   "metadata": {},
   "source": [
    "#### `Dimensions Structure`"
   ]
  },
  {
   "cell_type": "markdown",
   "id": "c76f15d1-6428-46aa-890a-1d9e361844f3",
   "metadata": {},
   "source": [
    "##### Première mise à jour de la dimensions structure avec les données eSIGL"
   ]
  },
  {
   "cell_type": "code",
   "execution_count": null,
   "id": "bccd5ebd-6789-41b2-9668-f975505d2e66",
   "metadata": {},
   "outputs": [],
   "source": [
    "df_new_structure = update_dimension.update_dimension_table(\n",
    "    dimension_name=\"dim_structure\",\n",
    "    source_dfs=[\n",
    "        df_etat_stock[\n",
    "            [\"Code_ets\", \"Structure\", \"TYPE DE STRUCTURE\", \"id_district_esigl\"]\n",
    "        ].rename(columns={\"TYPE DE STRUCTURE\": \"type_structure\"})\n",
    "    ],\n",
    "    merge_on=[\"Code_ets\"],\n",
    "    change_columns=[\"Structure\", \"type_structure\"],\n",
    "    schema_name=schema_name,\n",
    ")"
   ]
  },
  {
   "cell_type": "code",
   "execution_count": null,
   "id": "cfa3d52a-3dc7-406e-9481-0cb9fa0449e7",
   "metadata": {},
   "outputs": [],
   "source": [
    "# Exportation des données vers la BD\n",
    "upsert_table.upsert_table(\n",
    "    df_new_structure, \"dim_structure\", schema_name, engine=db_ops.civ_engine\n",
    ")\n",
    "\n",
    "del df_new_structure"
   ]
  },
  {
   "cell_type": "markdown",
   "id": "61072ee4-6260-4b08-87c5-31133342a342",
   "metadata": {},
   "source": [
    "##### Seconde mise à jour avec la liste des sites attendus"
   ]
  },
  {
   "cell_type": "code",
   "execution_count": null,
   "id": "f967b281-4be5-4ded-9c43-ceca82e249e8",
   "metadata": {
    "scrolled": true
   },
   "outputs": [],
   "source": [
    "df_site_attendu[\"District_standard\"] = df_site_attendu[\"District\"].apply(\n",
    "    lambda x: excel_file_handler.standardize_text(x)\n",
    ")\n",
    "\n",
    "df_district_db = db_ops.get_data_from_database(\"dim_district\")\n",
    "df_structure_db = db_ops.get_data_from_database(\"dim_structure\")\n",
    "df_structure_db[\"Code_ets\"] = df_structure_db[\"Code_ets\"].astype(\"Int64\")\n",
    "\n",
    "df_district_db[\"District\"] = df_district_db[\"District\"].apply(\n",
    "    lambda x: excel_file_handler.standardize_text(x)\n",
    ")\n",
    "\n",
    "df_site_attendu = df_site_attendu.merge(\n",
    "    df_district_db,\n",
    "    left_on=\"District_standard\",\n",
    "    right_on=\"District\",\n",
    "    suffixes=(\"\", \"_existing\"),\n",
    ")\n",
    "\n",
    "df_new_structure = (\n",
    "    df_site_attendu[[\"Code\", \"Site\", \"id_district_esigl\"]]\n",
    "    .drop_duplicates()\n",
    "    .rename(columns={\"Code\": \"Code_ets\", \"Site\": \"Structure\"})\n",
    ")\n",
    "\n",
    "df_new_structure = df_new_structure.loc[\n",
    "    ~df_new_structure[\"Code_ets\"].isin(df_structure_db[\"Code_ets\"])\n",
    "]\n",
    "\n",
    "df_new_structure = df_new_structure.merge(df_district_db, on=\"id_district_esigl\")\n",
    "df_new_structure[\"type_structure\"] = np.nan\n",
    "\n",
    "df_new_structure = df_new_structure[df_structure_db.columns.to_list()]"
   ]
  },
  {
   "cell_type": "code",
   "execution_count": null,
   "id": "6b3f18c9-749f-4dc7-9fe2-ae8f0341b594",
   "metadata": {},
   "outputs": [],
   "source": [
    "# Exportation des données vers la BD\n",
    "upsert_table.upsert_table(\n",
    "    df_new_structure, \"dim_structure\", schema_name, engine=db_ops.civ_engine\n",
    ")\n",
    "\n",
    "del df_new_structure"
   ]
  },
  {
   "cell_type": "code",
   "execution_count": null,
   "id": "e6b86dbb-835d-4a36-aa28-63b38f4e0c16",
   "metadata": {},
   "outputs": [],
   "source": [
    "df_structure_db = db_ops.get_data_from_database(\"dim_structure\")"
   ]
  },
  {
   "cell_type": "markdown",
   "id": "ea9761e2-e315-4773-80c9-baea93deba18",
   "metadata": {},
   "source": [
    "#### `Dimensions programme`"
   ]
  },
  {
   "cell_type": "code",
   "execution_count": null,
   "id": "3515186e-bfed-4550-95a1-3b26695d2781",
   "metadata": {},
   "outputs": [],
   "source": [
    "prog_extract_stock = set(df_etat_stock.programme_abrv.unique()).union([\"TOUS\"])\n",
    "\n",
    "df_programme = (\n",
    "    pd.DataFrame({\"Programme\": list(prog_extract_stock)})\n",
    "    .sort_values(by=\"Programme\")\n",
    "    .reset_index()\n",
    "    .drop(columns=\"index\")\n",
    ")\n",
    "df_programme.dropna(inplace=True)\n",
    "\n",
    "del prog_extract_stock\n",
    "\n",
    "# Pour l'instant ce n'est que les produits des 5 programmes de santé qui sont gérés\n",
    "programme_order = {\"PNLS\": 1, \"PNLP\": 2, \"PNSME\": 3, \"PNN\": 4, \"PNLT\": 5, \"TOUS\": 6}\n",
    "df_programme[\"programme_order\"] = df_programme[\"Programme\"].map(programme_order)\n",
    "df_programme.sort_values(\"programme_order\", inplace=True)\n",
    "del programme_order\n",
    "\n",
    "df_programme = db_ops.get_full_table(\n",
    "    df_programme,\n",
    "    \"dim_programme\",\n",
    ")\n",
    "\n",
    "df_programme"
   ]
  },
  {
   "cell_type": "markdown",
   "id": "2f6ef55d-4979-476b-ad26-1cffe45efcc2",
   "metadata": {},
   "source": [
    "#### `Dimension sous_programme`"
   ]
  },
  {
   "cell_type": "code",
   "execution_count": null,
   "id": "0b5fafe6-7feb-4eb3-b711-8c477aa47463",
   "metadata": {},
   "outputs": [],
   "source": [
    "df_sous_prog_db = db_ops.get_data_from_database(\n",
    "    \"dim_sous_programme\",\n",
    ")\n",
    "\n",
    "df_sous_prog_db = df_sous_prog_db[[\"Programme\", \"Sous_programme\"]].rename(\n",
    "    columns={\"Programme\": \"programme_abrv\", \"Sous_programme\": \"sous_programme\"}\n",
    ")"
   ]
  },
  {
   "cell_type": "code",
   "execution_count": null,
   "id": "5f7f1af7-6870-4fa0-a2b8-83f7fde2056b",
   "metadata": {},
   "outputs": [],
   "source": [
    "df_sous_prog = pd.concat(\n",
    "    [\n",
    "        df_etat_stock[[\"programme_abrv\", \"sous_programme\"]].drop_duplicates(),\n",
    "        df_sous_prog_db,\n",
    "    ],\n",
    "    ignore_index=True,\n",
    ").drop_duplicates()\n",
    "\n",
    "df_sous_prog = (\n",
    "    df_sous_prog.sort_values([\"programme_abrv\", \"sous_programme\"])\n",
    "    .reset_index()\n",
    "    .drop(columns=\"index\")\n",
    ")\n",
    "\n",
    "# df_sous_prog['Code_sous_prog'] =\n",
    "df_sous_prog[\"Occurence\"] = df_sous_prog.groupby(\"programme_abrv\").cumcount() + 1\n",
    "df_sous_prog[\"Code_sous_prog\"] = (\n",
    "    df_sous_prog[\"programme_abrv\"] + \"-\" + df_sous_prog[\"Occurence\"].astype(str)\n",
    ")\n",
    "\n",
    "df_sous_prog = df_sous_prog[\n",
    "    [\"Code_sous_prog\", \"sous_programme\", \"programme_abrv\"]\n",
    "].rename(columns={\"sous_programme\": \"Sous_programme\", \"programme_abrv\": \"Programme\"})\n",
    "df_sous_prog = df_sous_prog.map(\n",
    "    lambda x: x.lstrip().rstrip() if isinstance(x, str) else x\n",
    ")\n",
    "\n",
    "del df_sous_prog_db"
   ]
  },
  {
   "cell_type": "code",
   "execution_count": null,
   "id": "284a53b0-ff93-4d24-9523-2dbb115ad53d",
   "metadata": {},
   "outputs": [],
   "source": [
    "df_sous_prog = db_ops.get_full_table(df_sous_prog, \"dim_sous_programme\", )\n",
    "\n",
    "df_sous_prog.head(2)"
   ]
  },
  {
   "cell_type": "markdown",
   "id": "2efd93f2-d482-45ca-abfa-c4f3addf66b2",
   "metadata": {},
   "source": [
    "#### `Dimension produit`"
   ]
  },
  {
   "cell_type": "code",
   "execution_count": null,
   "id": "9e5ca46e-6b23-4177-858f-99059be75029",
   "metadata": {},
   "outputs": [],
   "source": [
    "df_new_product = (\n",
    "    df_etat_stock[\n",
    "        [\n",
    "            \"Code_produit\",\n",
    "            \"sous_programme\",\n",
    "            \"produit_designation\",\n",
    "            \"unit_rapportage\",\n",
    "            \"cat_du_produit\",\n",
    "            \"cat_produit\",\n",
    "        ]\n",
    "    ]\n",
    "    .drop_duplicates()\n",
    "    .rename(columns={\"sous_programme\": \"Sous_programme\"})\n",
    ")\n",
    "\n",
    "df_new_product = df_new_product.map(\n",
    "    lambda x: x.lstrip().rstrip() if isinstance(x, str) else x\n",
    ")\n",
    "\n",
    "df_new_product = (\n",
    "    df_new_product.merge(df_sous_prog, how=\"left\", on=\"Sous_programme\")\n",
    "    .drop(columns=[\"Sous_programme\", \"Programme\"])\n",
    "    .rename(\n",
    "        columns={\n",
    "            \"cat_du_produit\": \"Categorie_du_produit\",\n",
    "            \"cat_produit\": \"Categorie_produit\",\n",
    "        }\n",
    "    )\n",
    "    .rename(columns=lambda x: x.capitalize())\n",
    "    .sort_values(\"Code_produit\")\n",
    "    .reset_index(drop=True)\n",
    ")"
   ]
  },
  {
   "cell_type": "code",
   "execution_count": null,
   "id": "d07b517c-c425-4f8c-aba8-576119c4eea1",
   "metadata": {},
   "outputs": [],
   "source": [
    "df_new_product[\"Code_produit\"] = df_new_product[\"Code_produit\"].astype(str)\n",
    "\n",
    "df_product_db = db_ops.get_data_from_database(\"dim_produit\")\n",
    "\n",
    "df_new_product = df_new_product.merge(\n",
    "    df_product_db,\n",
    "    on=[\"Code_produit\", \"Code_sous_prog\"],\n",
    "    how=\"left\",\n",
    "    suffixes=(\"_new\", \"_past\"),\n",
    ")\n",
    "condition = \"\"\n",
    "for col in [\n",
    "    col.replace(\"_past\", \"\") for col in df_new_product.columns if \"_past\" in col\n",
    "]:\n",
    "    condition += f\"(df_new_product.{col}_new != df_new_product.{col}_past) | \"\n",
    "\n",
    "condition = condition.rstrip(\"| \")\n",
    "\n",
    "df_new_product = df_new_product.loc[eval(condition)]\n",
    "\n",
    "if not df_new_product.empty:\n",
    "    df_new_product = df_new_product.drop_duplicates(\n",
    "        subset=[\n",
    "            \"Code_produit\",\n",
    "            \"Unit_rapportage_new\",\n",
    "            \"Categorie_du_produit_new\",\n",
    "            \"Categorie_produit_new\",\n",
    "            \"Code_sous_prog\",\n",
    "            \"id_produit_pk\",\n",
    "        ],\n",
    "        keep=\"last\",\n",
    "    )\n",
    "\n",
    "    max_val = df_product_db[\"id_produit_pk\"].max() + 1\n",
    "    missing = df_new_product[\"id_produit_pk\"].isna()\n",
    "    df_new_product.loc[missing, \"id_produit_pk\"] = range(\n",
    "        max_val, max_val + missing.sum()\n",
    "    )\n",
    "\n",
    "    df_new_product.columns = df_new_product.columns.str.replace(\"_new\", \"\")\n",
    "\n",
    "df_new_product = df_new_product[df_product_db.columns.to_list()]\n",
    "\n",
    "df_new_product.head(2)"
   ]
  },
  {
   "cell_type": "code",
   "execution_count": null,
   "id": "e8c4981e-171f-4dd1-852a-93b13fa66826",
   "metadata": {},
   "outputs": [],
   "source": [
    "upsert_table.upsert_table(\n",
    "    df_new_product, \"dim_produit\", schema_name, engine=db_ops.civ_engine\n",
    ")\n",
    "\n",
    "del df_new_product"
   ]
  },
  {
   "cell_type": "markdown",
   "id": "23e3d4ba-362c-450f-aca9-2c2b01d8de5a",
   "metadata": {},
   "source": [
    "### Table de faits `Complétude` et `Promptitude`"
   ]
  },
  {
   "cell_type": "code",
   "execution_count": null,
   "id": "ab3a2c62-c9eb-4153-a635-3975b036d43f",
   "metadata": {},
   "outputs": [],
   "source": [
    "df_region = db_ops.get_data_from_database(\"dim_region\")"
   ]
  },
  {
   "cell_type": "markdown",
   "id": "391eeb6b-ce3e-48f7-b475-d3524fa6f096",
   "metadata": {},
   "source": [
    "#### `df_comp_promp_ets`"
   ]
  },
  {
   "cell_type": "code",
   "execution_count": null,
   "id": "8a8099e0-32c8-4cca-b3ef-a971923ca151",
   "metadata": {},
   "outputs": [],
   "source": [
    "db_ops.civ_cursor.execute(\n",
    "    f\"\"\"\n",
    "DELETE FROM {schema_name}.comp_promp_par_ets\n",
    "WHERE date_report = '{pd.to_datetime(date_report, format=\"%d-%m-%Y\").strftime('%Y-%m-%d')}'\n",
    "\"\"\"\n",
    ")\n",
    "\n",
    "db_ops.conn.commit()\n",
    "\n",
    "df_comp_promp_ets.drop(columns=[\"Site\", \"Region\"]).rename(\n",
    "    columns={\"Code\": \"Code_ets\"}\n",
    ").to_sql(\n",
    "    \"comp_promp_par_ets\",\n",
    "    con=db_ops.civ_engine,\n",
    "    schema=schema_name,\n",
    "    index=False,\n",
    "    if_exists=\"append\",\n",
    ")\n",
    "\n",
    "db_ops.civ_engine.dispose()"
   ]
  },
  {
   "cell_type": "markdown",
   "id": "0cc8e529-c108-4eba-9778-4e2c11dd446a",
   "metadata": {},
   "source": [
    "#### `df_comp_promp_region`"
   ]
  },
  {
   "cell_type": "code",
   "execution_count": null,
   "id": "d711cfcd-67c7-4551-84f3-04dc9a19c29a",
   "metadata": {},
   "outputs": [],
   "source": [
    "db_ops.civ_cursor.execute(\n",
    "    f\"\"\"\n",
    "DELETE FROM {schema_name}.comp_promp_attendu_region\n",
    "WHERE date_report = '{pd.to_datetime(date_report, format=\"%d-%m-%Y\").strftime('%Y-%m-%d')}'\n",
    "\"\"\"\n",
    ")\n",
    "\n",
    "db_ops.conn.commit()\n",
    "\n",
    "\n",
    "df_comp_promp_region = df_comp_promp_region.map(\n",
    "    lambda x: x.lstrip().rstrip() if isinstance(x, str) else x\n",
    ")\n",
    "\n",
    "df_comp_promp_region.merge(\n",
    "    df_region[[\"Code_region\", \"Region\"]], on=\"Region\", how=\"left\"\n",
    ").drop(columns=\"Region\").rename(columns=lambda x: x.replace(\"région\", \"region\")).to_sql(\n",
    "    \"comp_promp_attendu_region\",\n",
    "    con=db_ops.civ_engine,\n",
    "    schema=schema_name,\n",
    "    index=False,\n",
    "    if_exists=\"append\",\n",
    ")\n",
    "\n",
    "db_ops.civ_engine.dispose()"
   ]
  },
  {
   "cell_type": "markdown",
   "id": "db082c68-955b-4c86-a66e-ffccf85f95a6",
   "metadata": {},
   "source": [
    "### Table de faits Etat de stocks"
   ]
  },
  {
   "cell_type": "markdown",
   "id": "18bba6b2-cd30-4191-8484-a0f2a8c1e59c",
   "metadata": {},
   "source": [
    "#### `recap_stock_by_region`"
   ]
  },
  {
   "cell_type": "code",
   "execution_count": null,
   "id": "fa81c0f9-57e6-4e81-a372-5f0d3b7f5260",
   "metadata": {},
   "outputs": [],
   "source": [
    "db_ops.civ_cursor.execute(\n",
    "    f\"\"\"\n",
    "DELETE FROM {schema_name}.recap_stock_by_region\n",
    "WHERE date_report = '{pd.to_datetime(date_report, format=\"%d-%m-%Y\").strftime('%Y-%m-%d')}'\n",
    "\"\"\"\n",
    ")\n",
    "\n",
    "db_ops.conn.commit()\n",
    "\n",
    "df_sheet_two.merge(df_region[[\"Code_region\", \"Region\"]]).drop(columns=\"Region\").to_sql(\n",
    "    \"recap_stock_by_region\",\n",
    "    con=db_ops.civ_engine,\n",
    "    schema=schema_name,\n",
    "    index=False,\n",
    "    if_exists=\"append\",\n",
    ")\n",
    "\n",
    "db_ops.civ_engine.dispose()"
   ]
  },
  {
   "cell_type": "code",
   "execution_count": null,
   "id": "b77eff35-914c-4055-8e07-8ba5e6ca617d",
   "metadata": {},
   "outputs": [],
   "source": [
    "# Get full data product\n",
    "full_product = db_ops.get_data_from_database(\n",
    "    \"dim_produit\",\n",
    ")\n",
    "full_product[\"Programme\"] = full_product[\"Code_sous_prog\"].apply(\n",
    "    lambda x: x.split(\"-\")[0]\n",
    ")\n",
    "full_product[\"Code_produit\"] = full_product[\"Code_produit\"].astype(str)\n",
    "full_product.head(2)"
   ]
  },
  {
   "cell_type": "markdown",
   "id": "ab9da0fa-8bb3-4749-9c30-c0bc7c7242e8",
   "metadata": {},
   "source": [
    "#### `recap_stock_prog_region`"
   ]
  },
  {
   "cell_type": "code",
   "execution_count": null,
   "id": "f08cba7a-9094-4920-9ca3-a2de2e9c0c95",
   "metadata": {},
   "outputs": [],
   "source": [
    "db_ops.civ_cursor.execute(\n",
    "    f\"\"\"\n",
    "DELETE FROM {schema_name}.recap_stock_prog_region\n",
    "WHERE date_report = '{pd.to_datetime(date_report, format=\"%d-%m-%Y\").strftime('%Y-%m-%d')}'\n",
    "\"\"\"\n",
    ")\n",
    "\n",
    "db_ops.conn.commit()"
   ]
  },
  {
   "cell_type": "code",
   "execution_count": null,
   "id": "f00ae33f-d268-4c54-b0ce-f9ed419456b8",
   "metadata": {},
   "outputs": [],
   "source": [
    "stock_region[\"Code\"] = stock_region[\"Code\"].astype(str)\n",
    "stock_region[\"date_report\"] = pd.to_datetime(date_report, format=\"%d-%m-%Y\")\n",
    "stock_region = stock_region.map(\n",
    "    lambda x: x.lstrip().rstrip() if isinstance(x, str) else x\n",
    ")\n",
    "stock_region[\"MSD\"] = stock_region[\"MSD\"].apply(\n",
    "    lambda x: str(round(float(x), 1)).replace(\".\", \",\") if x != \"NA\" else \"NA\"\n",
    ")\n",
    "\n",
    "assert (\n",
    "    stock_region.merge(\n",
    "        full_product[[\"id_produit_pk\", \"Code_produit\", \"Programme\"]].drop_duplicates(\n",
    "            subset=[\"Code_produit\", \"Programme\"]\n",
    "        ),\n",
    "        left_on=[\"Code\", \"Programme\"],\n",
    "        right_on=[\"Code_produit\", \"Programme\"],\n",
    "        how=\"left\",\n",
    "    )\n",
    "    .merge(df_region[[\"Code_region\", \"Region\"]], on=\"Region\", how=\"left\")\n",
    "    .drop(columns=[\"Code\", \"Code_produit\", \"Region\"])\n",
    "    .shape[0]\n",
    "    == stock_region.shape[0]\n",
    ")"
   ]
  },
  {
   "cell_type": "code",
   "execution_count": null,
   "id": "6e7b9e1f-835d-4779-a1dd-26a9c6099756",
   "metadata": {},
   "outputs": [],
   "source": [
    "stock_region.merge(\n",
    "    full_product[[\"id_produit_pk\", \"Code_produit\", \"Programme\"]].drop_duplicates(\n",
    "        subset=[\"Code_produit\", \"Programme\"]\n",
    "    ),\n",
    "    left_on=[\"Code\", \"Programme\"],\n",
    "    right_on=[\"Code_produit\", \"Programme\"],\n",
    "    how=\"left\",\n",
    ").merge(df_region[[\"Code_region\", \"Region\"]], on=\"Region\", how=\"left\").drop(\n",
    "    columns=[\"Code\", \"Code_produit\", \"Region\"]\n",
    ").rename(\n",
    "    columns={\"id_produit_pk\": \"id_produit_fk\"}\n",
    ").to_sql(\n",
    "    \"recap_stock_prog_region\",\n",
    "    con=db_ops.civ_engine,\n",
    "    schema=schema_name,\n",
    "    index=False,\n",
    "    if_exists=\"append\",\n",
    ")\n",
    "\n",
    "db_ops.civ_engine.dispose()"
   ]
  },
  {
   "cell_type": "markdown",
   "id": "c1cf3a8d-943d-4354-b552-e60f4d53324b",
   "metadata": {},
   "source": [
    "#### `recap_stock_prog_nat`"
   ]
  },
  {
   "cell_type": "code",
   "execution_count": null,
   "id": "d8c69e32-7a3c-4022-a7af-33f3a8e7e0e0",
   "metadata": {},
   "outputs": [],
   "source": [
    "db_ops.civ_cursor.execute(\n",
    "    f\"\"\"\n",
    "DELETE FROM {schema_name}.recap_stock_prog_nat\n",
    "WHERE date_report = '{pd.to_datetime(date_report, format=\"%d-%m-%Y\").strftime('%Y-%m-%d')}'\n",
    "\"\"\"\n",
    ")\n",
    "\n",
    "db_ops.conn.commit()"
   ]
  },
  {
   "cell_type": "code",
   "execution_count": null,
   "id": "d04becfb-6777-475b-b202-7a3657fa8027",
   "metadata": {},
   "outputs": [],
   "source": [
    "stock_national = stock_lvl_decent[\n",
    "    [\n",
    "        \"Code\",\n",
    "        \"Programme\",\n",
    "        \"Region\",\n",
    "        \"lvl_decent_msd\",\n",
    "        \"lvl_decent_statut\",\n",
    "        \"lvl_decent_conso\",\n",
    "        \"lvl_decent_sdu\",\n",
    "        \"lvl_decent_cmm\",\n",
    "        \"dispo_globale\",\n",
    "        \"dispo_globale_cible\",\n",
    "        \"dispo_traceur\",\n",
    "        \"dispo_traceur_cible\",\n",
    "    ]\n",
    "].rename(\n",
    "    columns={\n",
    "        \"lvl_decent_msd\": \"MSD\",\n",
    "        \"lvl_decent_statut\": \"STATUT\",\n",
    "        \"lvl_decent_conso\": \"conso_lvl_national\",\n",
    "        \"lvl_decent_sdu\": \"sdu_lvl_national\",\n",
    "        \"lvl_decent_cmm\": \"cmm_lvl_national\",\n",
    "    }\n",
    ")"
   ]
  },
  {
   "cell_type": "code",
   "execution_count": null,
   "id": "4a745127-ec99-441a-8964-11a0ab1b7998",
   "metadata": {},
   "outputs": [],
   "source": [
    "stock_national[\"Code\"] = stock_national[\"Code\"].astype(str)\n",
    "stock_national = stock_national.map(lambda x: x.strip() if isinstance(x, str) else x)\n",
    "stock_national[\"date_report\"] = pd.to_datetime(date_report, format=\"%d-%m-%Y\")\n",
    "\n",
    "stock_national[\"MSD\"] = stock_national[\"MSD\"].apply(\n",
    "    lambda x: str(round(float(x), 1)).replace(\".\", \",\") if x != \"NA\" else \"NA\"\n",
    ")"
   ]
  },
  {
   "cell_type": "code",
   "execution_count": null,
   "id": "14657e9e-237a-4e95-9fc3-ef7b20c8da08",
   "metadata": {},
   "outputs": [],
   "source": [
    "assert (\n",
    "    stock_national.merge(\n",
    "        full_product[[\"id_produit_pk\", \"Code_produit\", \"Programme\"]].drop_duplicates(\n",
    "            subset=[\"Code_produit\", \"Programme\"]\n",
    "        ),\n",
    "        left_on=[\"Code\", \"Programme\"],\n",
    "        right_on=[\"Code_produit\", \"Programme\"],\n",
    "        how=\"left\",\n",
    "    )\n",
    "    .merge(df_region[[\"Code_region\", \"Region\"]], on=\"Region\", how=\"left\")\n",
    "    .drop(columns=[\"Code\", \"Code_produit\", \"Region\"])\n",
    "    .shape[0]\n",
    "    == stock_national.shape[0]\n",
    ")\n",
    "\n",
    "stock_national = (\n",
    "    stock_national.merge(\n",
    "        full_product[[\"id_produit_pk\", \"Code_produit\", \"Programme\"]].drop_duplicates(\n",
    "            subset=[\"Code_produit\", \"Programme\"]\n",
    "        ),\n",
    "        left_on=[\"Code\", \"Programme\"],\n",
    "        right_on=[\"Code_produit\", \"Programme\"],\n",
    "        how=\"left\",\n",
    "    )\n",
    "    .merge(df_region[[\"Code_region\", \"Region\"]], on=\"Region\", how=\"left\")\n",
    "    .drop(columns=[\"Code\", \"Code_produit\", \"Region\"])\n",
    "    .rename(\n",
    "        columns={\n",
    "            \"id_produit_pk\": \"id_produit_fk\",\n",
    "            \"conso_lvl_national\": \"CONSO\",\n",
    "            \"sdu_lvl_national\": \"SDU\",\n",
    "            \"cmm_lvl_national\": \"CMM\",\n",
    "        }\n",
    "    )\n",
    ")\n",
    "\n",
    "df_count_prog = (\n",
    "    stock_national.groupby([\"Programme\"])[\"id_produit_fk\"].count().reset_index()\n",
    ")\n",
    "\n",
    "stock_national[\"statut_pourcentage\"] = stock_national[[\"Programme\", \"STATUT\"]].apply(\n",
    "    lambda row: 1\n",
    "    / df_count_prog.loc[df_count_prog.Programme == row.Programme, \"id_produit_fk\"].iloc[\n",
    "        0\n",
    "    ],\n",
    "    axis=1,\n",
    ")\n",
    "\n",
    "stock_national.to_sql(\n",
    "    \"recap_stock_prog_nat\",\n",
    "    con=db_ops.civ_engine,\n",
    "    schema=schema_name,\n",
    "    index=False,\n",
    "    if_exists=\"append\",\n",
    ")\n",
    "\n",
    "db_ops.civ_engine.dispose()\n",
    "\n",
    "del df_count_prog"
   ]
  },
  {
   "cell_type": "markdown",
   "id": "7c582d98-b342-4ba6-9d19-89a99e791b11",
   "metadata": {},
   "source": [
    "#### `Etat de stock`"
   ]
  },
  {
   "cell_type": "code",
   "execution_count": null,
   "id": "8090a47a-1f61-42f4-a88c-7d28f8898396",
   "metadata": {},
   "outputs": [],
   "source": [
    "db_ops.civ_cursor.execute(\n",
    "    f\"\"\"\n",
    "DELETE FROM {schema_name}.etat_de_stock\n",
    "WHERE date_report = '{pd.to_datetime(date_report, format=\"%d-%m-%Y\").strftime('%Y-%m-%d')}'\n",
    "\"\"\"\n",
    ")\n",
    "\n",
    "db_ops.conn.commit()"
   ]
  },
  {
   "cell_type": "code",
   "execution_count": null,
   "id": "9cd6377c-7cd1-4251-b1ab-9dd03a28d240",
   "metadata": {},
   "outputs": [],
   "source": [
    "mois_prec = (\n",
    "    pd.to_datetime(date_report, format=\"%d-%m-%Y\").replace(day=1) - pd.Timedelta(days=1)\n",
    ").strftime(\"%Y-%m-%d\")\n",
    "\n",
    "df_mois_prec = pd.read_sql(\n",
    "    f\"select * from {schema_name}.etat_de_stock where date_report='{mois_prec}'\",\n",
    "    db_ops.civ_engine,\n",
    ")"
   ]
  },
  {
   "cell_type": "code",
   "execution_count": null,
   "id": "95205dd7-3432-4210-993c-d732dcd858c9",
   "metadata": {},
   "outputs": [],
   "source": [
    "# Nettoyage initial des données\n",
    "df_etat_stock[\"Code_produit\"] = df_etat_stock[\"Code_produit\"].astype(str)\n",
    "df_etat_stock = df_etat_stock.applymap(lambda x: x.strip() if isinstance(x, str) else x)\n",
    "\n",
    "# Suppression des colonnes inutiles et nettoyage supplémentaire\n",
    "cols_to_drop = [\"programme_abrv\", \"Region\", \"District\", \"Structure\"]\n",
    "df_ = df_etat_stock.drop(columns=cols_to_drop)\n",
    "\n",
    "# Première jointure avec df_sous_prog\n",
    "df_ = df_.merge(\n",
    "    df_sous_prog, left_on=\"sous_programme\", right_on=\"Sous_programme\", how=\"left\"\n",
    ").drop(columns=[\"Sous_programme\", \"Programme\", \"sous_programme\"])\n",
    "\n",
    "# Définition des colonnes pour la déduplication\n",
    "dedup_cols = [\n",
    "    \"Code_produit\",\n",
    "    \"Code_sous_prog\",\n",
    "    \"Produit_designation\",\n",
    "    \"Unit_rapportage\",\n",
    "    \"Categorie_du_produit\",\n",
    "    \"Categorie_produit\",\n",
    "]\n",
    "\n",
    "# Seconde jointure avec full_product\n",
    "df_ = df_.merge(\n",
    "    full_product.drop_duplicates(subset=dedup_cols),\n",
    "    right_on=dedup_cols,\n",
    "    left_on=[\n",
    "        \"Code_produit\",\n",
    "        \"Code_sous_prog\",\n",
    "        \"produit_designation\",\n",
    "        \"unit_rapportage\",\n",
    "        \"cat_du_produit\",\n",
    "        \"cat_produit\",\n",
    "    ],\n",
    ")\n",
    "\n",
    "# Nettoyage final des colonnes\n",
    "final_cols_to_drop = [\n",
    "    \"Code_produit\",\n",
    "    \"cat_produit\",\n",
    "    \"produit_designation\",\n",
    "    \"unit_rapportage\",\n",
    "    \"cat_du_produit\",\n",
    "    \"Code_sous_prog\",\n",
    "    \"Produit_designation\",\n",
    "    \"Unit_rapportage\",\n",
    "    \"Categorie_produit\",\n",
    "    \"Categorie_du_produit\",\n",
    "    \"Programme\",\n",
    "]\n",
    "\n",
    "df_ = df_.drop(columns=final_cols_to_drop).rename(\n",
    "    columns={\"id_produit_pk\": \"id_produit_fk\"}\n",
    ")"
   ]
  },
  {
   "cell_type": "code",
   "execution_count": null,
   "id": "f863d88e-4d88-44c4-bedd-047d7ccf86c8",
   "metadata": {},
   "outputs": [],
   "source": [
    "df_['Code_ets'] = df_['Code_ets'].astype('Int64')"
   ]
  },
  {
   "cell_type": "code",
   "execution_count": null,
   "id": "da6a7bca-9cab-44e8-82b1-a5b0a026f487",
   "metadata": {},
   "outputs": [],
   "source": [
    "assert (\n",
    "    df_.merge(\n",
    "        df_mois_prec[[\"Code_ets\", \"id_produit_fk\", \"qte_cmde\", \"etat_stock\"]].rename(\n",
    "            columns={\n",
    "                \"qte_cmde\": \"qte_cmde_mois_prec\",\n",
    "                \"etat_stock\": \"etat_stock_mois_prec\",\n",
    "            }\n",
    "        ),\n",
    "        on=[\"Code_ets\", \"id_produit_fk\"],\n",
    "        how=\"left\",\n",
    "    ).shape[0]\n",
    "    == df_.shape[0]\n",
    ")\n",
    "\n",
    "\n",
    "df_ = df_.merge(\n",
    "    df_mois_prec[[\"Code_ets\", \"id_produit_fk\", \"qte_cmde\", \"etat_stock\"]].rename(\n",
    "        columns={\"qte_cmde\": \"qte_cmde_mois_prec\", \"etat_stock\": \"etat_stock_mois_prec\"}\n",
    "    ),\n",
    "    on=[\"Code_ets\", \"id_produit_fk\"],\n",
    "    how=\"left\",\n",
    ")\n",
    "\n",
    "df_.drop(\n",
    "    columns=[\"id_region_esigl\", \"TYPE DE STRUCTURE\", \"id_district_esigl\"], inplace=True\n",
    ")\n",
    "\n",
    "df_.head(3)"
   ]
  },
  {
   "cell_type": "code",
   "execution_count": null,
   "id": "d185ea5f-3b35-4ba5-83dd-ea1d93e53e2c",
   "metadata": {},
   "outputs": [],
   "source": [
    "df_.to_sql(\n",
    "    \"etat_de_stock\",\n",
    "    con=db_ops.civ_engine,\n",
    "    schema=schema_name,\n",
    "    index=False,\n",
    "    if_exists=\"append\",\n",
    ")\n",
    "\n",
    "db_ops.civ_engine.dispose()"
   ]
  }
 ],
 "metadata": {
  "kernelspec": {
   "display_name": "Python 3 (ipykernel)",
   "language": "python",
   "name": "python3"
  },
  "language_info": {
   "codemirror_mode": {
    "name": "ipython",
    "version": 3
   },
   "file_extension": ".py",
   "mimetype": "text/x-python",
   "name": "python",
   "nbconvert_exporter": "python",
   "pygments_lexer": "ipython3",
   "version": "3.12.8"
  }
 },
 "nbformat": 4,
 "nbformat_minor": 5
}
